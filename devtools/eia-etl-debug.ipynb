{
 "cells": [
  {
   "cell_type": "markdown",
   "metadata": {},
   "source": [
    "# Working with the EIA Extract / Transform\n",
    "This notebook steps through PUDL's extract and transform steps for the EIA 860 and 923 datasets, to make it easier to test and add new years of data, or new tables from the various spreadsheets that haven't been integrated yet."
   ]
  },
  {
   "cell_type": "code",
   "execution_count": 1,
   "metadata": {},
   "outputs": [],
   "source": [
    "%load_ext autoreload\n",
    "%autoreload 3\n",
    "import pudl\n",
    "import logging\n",
    "import sys\n",
    "from pathlib import Path\n",
    "import pandas as pd\n",
    "pd.options.display.max_columns = None"
   ]
  },
  {
   "cell_type": "code",
   "execution_count": 2,
   "metadata": {},
   "outputs": [],
   "source": [
    "logger = logging.getLogger()\n",
    "logger.setLevel(logging.INFO)\n",
    "handler = logging.StreamHandler(stream=sys.stdout)\n",
    "formatter = logging.Formatter('%(message)s')\n",
    "handler.setFormatter(formatter)\n",
    "logger.handlers = [handler]"
   ]
  },
  {
   "cell_type": "code",
   "execution_count": 3,
   "metadata": {},
   "outputs": [],
   "source": [
    "pudl_settings = pudl.workspace.setup.get_defaults()"
   ]
  },
  {
   "cell_type": "markdown",
   "metadata": {},
   "source": [
    "## Set the scope for the Extract-Transform:"
   ]
  },
  {
   "cell_type": "code",
   "execution_count": 4,
   "metadata": {},
   "outputs": [],
   "source": [
    "from pudl.settings import Eia860Settings, Eia923Settings, EiaSettings\n",
    "from pudl.metadata.classes import DataSource\n",
    "\n",
    "eia860_data_source = DataSource.from_id(\"eia860\")\n",
    "eia860_settings = Eia860Settings(\n",
    "# Limit the years as needed if you're testing only a few of them. E.g.:\n",
    "#    years=[2021],\n",
    "    years=eia860_data_source.working_partitions[\"years\"]\n",
    "# By default all of the tables will be processed.\n",
    "# Select the relevant tables as needed if you're testing only a few of them. E.g.:\n",
    "#   tables=[\"generation_fuel_nuclear_eia923\", \"generation_fuel_eia923\"]\n",
    ")\n",
    "\n",
    "eia923_data_source = DataSource.from_id(\"eia923\")\n",
    "eia923_settings = Eia923Settings(\n",
    "# Limit the years as needed if you're testing only a few of them. E.g.:\n",
    "#    years = [2021]\n",
    "    years = eia923_data_source.working_partitions[\"years\"]\n",
    "# By default all of the tables will be processed.\n",
    "# Select the relevant tables as needed if you're testing only a few of them. E.g.:\n",
    "#   tables=[\"generation_fuel_nuclear_eia923\", \"generation_fuel_eia923\"]\n",
    ")\n",
    "\n",
    "eia_settings = EiaSettings(eia860=eia860_settings, eia923=eia923_settings)"
   ]
  },
  {
   "cell_type": "markdown",
   "metadata": {},
   "source": [
    "## Create a locally cached datastore"
   ]
  },
  {
   "cell_type": "code",
   "execution_count": 5,
   "metadata": {},
   "outputs": [],
   "source": [
    "ds_kwargs = {\"local_cache_path\": pudl_settings[\"data_dir\"]}\n",
    "ds = pudl.workspace.datastore.Datastore(**ds_kwargs)"
   ]
  },
  {
   "cell_type": "markdown",
   "metadata": {},
   "source": [
    "# EIA-860"
   ]
  },
  {
   "cell_type": "markdown",
   "metadata": {},
   "source": [
    "## Extract just the EIA-860 / EIA-860m"
   ]
  },
  {
   "cell_type": "code",
   "execution_count": 6,
   "metadata": {},
   "outputs": [
    {
     "name": "stderr",
     "output_type": "stream",
     "text": [
      "2023-03-20 10:09:03 [    INFO] catalystcoop.pudl.extract.excel:237 Extracting eia860 spreadsheet data.\n"
     ]
    },
    {
     "name": "stdout",
     "output_type": "stream",
     "text": [
      "Extracting eia860 spreadsheet data.\n",
      "boiler_cool\n",
      "boiler_fgd\n",
      "boiler_fgp\n",
      "boiler_gen\n",
      "boiler_stackflue\n",
      "Boiler Cooler\n",
      "Boiler FGD\n",
      "Boiler FGP\n",
      "Boiler Generator\n",
      "Boiler Stack Flue\n",
      "Boiler Cooling\n",
      "Boiler Generator\n",
      "Boiler Mercury\n",
      "Boiler NOx\n",
      "Boiler Particulate Matter\n",
      "Boiler SO2\n",
      "Boiler Stack Flue\n",
      "Emissions Control Equipment\n",
      "Boiler Cooling\n",
      "Boiler Generator\n",
      "Boiler Mercury\n",
      "Boiler NOx\n",
      "Boiler Particulate Matter\n",
      "Boiler SO2\n",
      "Boiler Stack Flue\n",
      "Emissions Control Equipment\n",
      "Boiler Cooling\n",
      "Boiler Generator\n",
      "Boiler Mercury\n",
      "Boiler NOx\n",
      "Boiler Particulate Matter\n",
      "Boiler SO2\n",
      "Boiler Stack Flue\n",
      "Emissions Control Equipment\n",
      "Boiler Cooling\n",
      "Boiler Generator\n",
      "Boiler Mercury\n",
      "Boiler NOx\n",
      "Boiler Particulate Matter\n",
      "Boiler SO2\n",
      "Boiler Stack Flue\n",
      "Emissions Control Equipment\n",
      "Emissions Control Equipment\n",
      "Boiler Cooling\n",
      "Boiler Generator\n",
      "Boiler Mercury\n",
      "Boiler NOx\n",
      "Boiler Particulate Matter\n",
      "Boiler SO2\n",
      "Boiler Stack Flue\n",
      "Emissions Control Equipment\n",
      "Boiler Cooling\n",
      "Boiler Generator\n",
      "Boiler Mercury\n",
      "Boiler NOx\n",
      "Boiler Particulate Matter\n",
      "Boiler SO2\n",
      "Boiler Stack Flue\n",
      "Boiler Cooling\n",
      "Boiler Generator\n",
      "Boiler Mercury\n",
      "Boiler NOx\n",
      "Boiler Particulate Matter\n",
      "Boiler SO2\n",
      "Boiler Stack Flue\n",
      "Emissions Control Equipment\n",
      "Boiler Cooling\n",
      "Boiler Generator\n",
      "Boiler Mercury\n",
      "Boiler NOx\n",
      "Boiler Particulate Matter\n",
      "Boiler SO2\n",
      "Boiler Stack Flue\n",
      "Emissions Control Equipment\n",
      "Boiler Cooling\n",
      "Boiler Generator\n",
      "Boiler Mercury\n",
      "Boiler NOx\n",
      "Boiler Particulate Matter\n",
      "Boiler SO2\n",
      "Boiler Stack Flue\n",
      "Emissions Control Equipment\n",
      "boiler\n",
      "controls\n",
      "cooling\n",
      "fgd\n",
      "fgp\n",
      "stack_flue\n",
      "Boiler\n",
      "Controls\n",
      "Cooling\n",
      "FGD\n",
      "FGP\n",
      "Stack Flue\n",
      "Boiler Info & Design Parameters\n",
      "Cooling\n",
      "Emission Standards & Strategies\n",
      "FGD\n",
      "FGP\n",
      "Stack Flue\n",
      "Boiler Info & Design Parameters\n",
      "Cooling\n",
      "Emission Standards & Strategies\n",
      "FGD\n",
      "FGP\n",
      "Stack Flue\n",
      "Boiler Info & Design Parameters\n",
      "Cooling\n",
      "Emission Standards & Strategies\n",
      "FGD\n",
      "FGP\n",
      "Stack Flue\n",
      "Boiler Info & Design Parameters\n",
      "Cooling\n",
      "Emission Standards & Strategies\n",
      "FGD\n",
      "FGP\n",
      "Stack Flue\n",
      "Boiler Info & Design Parameters\n",
      "Cooling\n",
      "Emission Standards & Strategies\n",
      "FGD\n",
      "FGP\n",
      "Stack Flue\n",
      "Boiler Info & Design Parameters\n",
      "Cooling\n",
      "Emission Standards & Strategies\n",
      "FGD\n",
      "FGP\n",
      "Stack Flue\n",
      "Boiler Info & Design Parameters\n",
      "Cooling\n",
      "Emission Standards & Strategies\n",
      "FGD\n",
      "FGP\n",
      "Stack Flue\n",
      "Boiler Info & Design Parameters\n",
      "Cooling\n",
      "Emission Standards & Strategies\n",
      "FGD\n",
      "FGP\n",
      "Stack Flue\n",
      "Boiler Info & Design Parameters\n",
      "Cooling\n",
      "Emission Standards & Strategies\n",
      "FGD\n",
      "FGP\n",
      "Stack Flue\n"
     ]
    },
    {
     "name": "stderr",
     "output_type": "stream",
     "text": [
      "/home/knordback/Kurt/pudl/src/pudl/helpers.py:1556: FutureWarning: save is not part of the public API, usage can give unexpected results and will be removed in a future version\n",
      "  writer.save()\n",
      "/home/knordback/Kurt/pudl/src/pudl/helpers.py:1556: FutureWarning: save is not part of the public API, usage can give unexpected results and will be removed in a future version\n",
      "  writer.save()\n",
      "/home/knordback/Kurt/pudl/src/pudl/helpers.py:1556: FutureWarning: save is not part of the public API, usage can give unexpected results and will be removed in a future version\n",
      "  writer.save()\n"
     ]
    },
    {
     "name": "stdout",
     "output_type": "stream",
     "text": [
      "operable\n",
      "proposed\n",
      "retired & canceled\n",
      "Operable\n",
      "Proposed\n",
      "Retired and Canceled\n",
      "Operable\n",
      "Proposed\n",
      "Retired and Canceled\n",
      "Operable\n",
      "Proposed\n",
      "Retired and Canceled\n",
      "Operable\n",
      "Proposed\n",
      "Retired and Canceled\n",
      "Operable\n",
      "Proposed\n",
      "Retired and Canceled\n",
      "Operable\n",
      "Proposed\n",
      "Retired and Canceled\n",
      "Operable\n",
      "Proposed\n",
      "Retired and Canceled\n",
      "Operable\n",
      "Proposed\n",
      "Retired and Canceled\n",
      "Operable\n",
      "Proposed\n",
      "Retired and Canceled\n",
      "Operable\n",
      "Proposed\n",
      "Retired and Canceled\n"
     ]
    },
    {
     "name": "stderr",
     "output_type": "stream",
     "text": [
      "/home/knordback/Kurt/pudl/src/pudl/helpers.py:1556: FutureWarning: save is not part of the public API, usage can give unexpected results and will be removed in a future version\n",
      "  writer.save()\n",
      "/home/knordback/Kurt/pudl/src/pudl/helpers.py:1556: FutureWarning: save is not part of the public API, usage can give unexpected results and will be removed in a future version\n",
      "  writer.save()\n",
      "/home/knordback/Kurt/pudl/src/pudl/helpers.py:1556: FutureWarning: save is not part of the public API, usage can give unexpected results and will be removed in a future version\n",
      "  writer.save()\n"
     ]
    },
    {
     "name": "stdout",
     "output_type": "stream",
     "text": [
      "operable\n",
      "proposed\n",
      "retired\n",
      "Operable\n",
      "Proposed\n",
      "Retired and Canceled\n",
      "Operable\n",
      "Proposed\n",
      "Retired and Canceled\n",
      "Operable\n",
      "Proposed\n",
      "Retired and Canceled\n",
      "Operable\n",
      "Proposed\n",
      "Retired and Canceled\n",
      "Operable\n",
      "Proposed\n",
      "Retired and Canceled\n",
      "Operable\n",
      "Proposed\n",
      "Retired and Canceled\n",
      "Operable\n",
      "Proposed\n",
      "Retired and Canceled\n",
      "Operable\n",
      "Proposed\n",
      "Retired and Canceled\n",
      "Operable\n",
      "Proposed\n",
      "Retired and Canceled\n",
      "Operable\n",
      "Proposed\n",
      "Retired and Canceled\n"
     ]
    },
    {
     "name": "stderr",
     "output_type": "stream",
     "text": [
      "/home/knordback/Kurt/pudl/src/pudl/helpers.py:1556: FutureWarning: save is not part of the public API, usage can give unexpected results and will be removed in a future version\n",
      "  writer.save()\n",
      "/home/knordback/Kurt/pudl/src/pudl/helpers.py:1556: FutureWarning: save is not part of the public API, usage can give unexpected results and will be removed in a future version\n",
      "  writer.save()\n",
      "/home/knordback/Kurt/pudl/src/pudl/helpers.py:1556: FutureWarning: save is not part of the public API, usage can give unexpected results and will be removed in a future version\n",
      "  writer.save()\n"
     ]
    },
    {
     "name": "stdout",
     "output_type": "stream",
     "text": [
      "ownership2011\n",
      "ownership2012\n",
      "Ownership\n",
      "Ownership\n",
      "Ownership\n",
      "Ownership\n",
      "Ownership\n",
      "Ownership\n",
      "Ownership\n",
      "Ownership\n",
      "Ownership\n"
     ]
    },
    {
     "name": "stderr",
     "output_type": "stream",
     "text": [
      "/home/knordback/Kurt/pudl/src/pudl/helpers.py:1556: FutureWarning: save is not part of the public API, usage can give unexpected results and will be removed in a future version\n",
      "  writer.save()\n",
      "/home/knordback/Kurt/pudl/src/pudl/helpers.py:1556: FutureWarning: save is not part of the public API, usage can give unexpected results and will be removed in a future version\n",
      "  writer.save()\n",
      "/home/knordback/Kurt/pudl/src/pudl/helpers.py:1556: FutureWarning: save is not part of the public API, usage can give unexpected results and will be removed in a future version\n",
      "  writer.save()\n"
     ]
    },
    {
     "name": "stdout",
     "output_type": "stream",
     "text": [
      "plant2011\n",
      "plant2012\n",
      "Plant\n",
      "Plant\n",
      "Plant\n",
      "Plant\n",
      "Plant\n",
      "Plant\n",
      "Plant\n",
      "Plant\n",
      "Plant\n"
     ]
    },
    {
     "name": "stderr",
     "output_type": "stream",
     "text": [
      "/home/knordback/Kurt/pudl/src/pudl/helpers.py:1556: FutureWarning: save is not part of the public API, usage can give unexpected results and will be removed in a future version\n",
      "  writer.save()\n",
      "/home/knordback/Kurt/pudl/src/pudl/helpers.py:1556: FutureWarning: save is not part of the public API, usage can give unexpected results and will be removed in a future version\n",
      "  writer.save()\n",
      "/home/knordback/Kurt/pudl/src/pudl/helpers.py:1556: FutureWarning: save is not part of the public API, usage can give unexpected results and will be removed in a future version\n",
      "  writer.save()\n"
     ]
    },
    {
     "name": "stdout",
     "output_type": "stream",
     "text": [
      "utility2011\n",
      "utility2012\n",
      "Utility\n",
      "Utility\n",
      "Utility\n",
      "Utility\n",
      "Utility\n",
      "Utility\n",
      "Utility\n",
      "Utility\n",
      "Utility\n"
     ]
    },
    {
     "name": "stderr",
     "output_type": "stream",
     "text": [
      "2023-03-20 10:18:27 [    INFO] catalystcoop.pudl.extract.excel:237 Extracting eia860m spreadsheet data.\n"
     ]
    },
    {
     "name": "stdout",
     "output_type": "stream",
     "text": [
      "Extracting eia860m spreadsheet data.\n",
      "Operating\n",
      "Canceled or Postponed\n",
      "Operating_PR\n",
      "Planned\n",
      "Planned_PR\n",
      "Retired\n",
      "Retired_PR\n",
      "CPU times: user 9min 40s, sys: 1.52 s, total: 9min 42s\n",
      "Wall time: 9min 42s\n"
     ]
    }
   ],
   "source": [
    "%%time\n",
    "eia860_extractor = pudl.extract.eia860.Extractor(ds)\n",
    "eia860_raw_dfs = eia860_extractor.extract(settings=eia860_settings)\n",
    "\n",
    "eia860m_extractor = pudl.extract.eia860m.Extractor(ds)\n",
    "if eia860_settings.eia860m:\n",
    "    eia860m_raw_dfs = eia860m_extractor.extract(\n",
    "        settings=eia860_settings\n",
    "    )\n",
    "    eia860_raw_dfs = pudl.extract.eia860m.append_eia860m(\n",
    "        eia860_raw_dfs=eia860_raw_dfs,\n",
    "        eia860m_raw_dfs=eia860m_raw_dfs\n",
    "    )"
   ]
  },
  {
   "cell_type": "markdown",
   "metadata": {},
   "source": [
    "## Transform EIA-860 / EIA-860m"
   ]
  },
  {
   "cell_type": "code",
   "execution_count": 7,
   "metadata": {},
   "outputs": [
    {
     "name": "stderr",
     "output_type": "stream",
     "text": [
      "2023-03-20 10:18:46 [    INFO] catalystcoop.pudl.transform.eia860:817 Transforming raw EIA 860 DataFrames for ownership_eia860 concatenated across all years.\n"
     ]
    },
    {
     "name": "stdout",
     "output_type": "stream",
     "text": [
      "Transforming raw EIA 860 DataFrames for ownership_eia860 concatenated across all years.\n"
     ]
    },
    {
     "name": "stderr",
     "output_type": "stream",
     "text": [
      "2023-03-20 10:19:01 [    INFO] catalystcoop.pudl.metadata.classes:1673 Recoding ownership_eia860.data_maturity\n"
     ]
    },
    {
     "name": "stdout",
     "output_type": "stream",
     "text": [
      "Recoding ownership_eia860.data_maturity\n"
     ]
    },
    {
     "name": "stderr",
     "output_type": "stream",
     "text": [
      "2023-03-20 10:19:01 [    INFO] catalystcoop.pudl.transform.eia860:817 Transforming raw EIA 860 DataFrames for generators_eia860 concatenated across all years.\n"
     ]
    },
    {
     "name": "stdout",
     "output_type": "stream",
     "text": [
      "Transforming raw EIA 860 DataFrames for generators_eia860 concatenated across all years.\n"
     ]
    },
    {
     "name": "stderr",
     "output_type": "stream",
     "text": [
      "2023-03-20 10:20:53 [    INFO] catalystcoop.pudl.metadata.classes:1673 Recoding generators_eia860.operational_status_code\n"
     ]
    },
    {
     "name": "stdout",
     "output_type": "stream",
     "text": [
      "Recoding generators_eia860.operational_status_code\n"
     ]
    },
    {
     "name": "stderr",
     "output_type": "stream",
     "text": [
      "2023-03-20 10:20:53 [    INFO] catalystcoop.pudl.metadata.classes:1673 Recoding generators_eia860.prime_mover_code\n"
     ]
    },
    {
     "name": "stdout",
     "output_type": "stream",
     "text": [
      "Recoding generators_eia860.prime_mover_code\n"
     ]
    },
    {
     "name": "stderr",
     "output_type": "stream",
     "text": [
      "2023-03-20 10:20:54 [    INFO] catalystcoop.pudl.metadata.classes:1673 Recoding generators_eia860.energy_source_code_1\n"
     ]
    },
    {
     "name": "stdout",
     "output_type": "stream",
     "text": [
      "Recoding generators_eia860.energy_source_code_1\n"
     ]
    },
    {
     "name": "stderr",
     "output_type": "stream",
     "text": [
      "2023-03-20 10:20:54 [    INFO] catalystcoop.pudl.metadata.classes:1673 Recoding generators_eia860.energy_source_code_2\n"
     ]
    },
    {
     "name": "stdout",
     "output_type": "stream",
     "text": [
      "Recoding generators_eia860.energy_source_code_2\n"
     ]
    },
    {
     "name": "stderr",
     "output_type": "stream",
     "text": [
      "2023-03-20 10:20:54 [    INFO] catalystcoop.pudl.metadata.classes:1673 Recoding generators_eia860.energy_source_code_3\n"
     ]
    },
    {
     "name": "stdout",
     "output_type": "stream",
     "text": [
      "Recoding generators_eia860.energy_source_code_3\n"
     ]
    },
    {
     "name": "stderr",
     "output_type": "stream",
     "text": [
      "2023-03-20 10:20:55 [    INFO] catalystcoop.pudl.metadata.classes:1673 Recoding generators_eia860.energy_source_code_4\n"
     ]
    },
    {
     "name": "stdout",
     "output_type": "stream",
     "text": [
      "Recoding generators_eia860.energy_source_code_4\n"
     ]
    },
    {
     "name": "stderr",
     "output_type": "stream",
     "text": [
      "2023-03-20 10:20:55 [    INFO] catalystcoop.pudl.metadata.classes:1673 Recoding generators_eia860.energy_source_code_5\n"
     ]
    },
    {
     "name": "stdout",
     "output_type": "stream",
     "text": [
      "Recoding generators_eia860.energy_source_code_5\n"
     ]
    },
    {
     "name": "stderr",
     "output_type": "stream",
     "text": [
      "2023-03-20 10:20:55 [    INFO] catalystcoop.pudl.metadata.classes:1673 Recoding generators_eia860.energy_source_code_6\n"
     ]
    },
    {
     "name": "stdout",
     "output_type": "stream",
     "text": [
      "Recoding generators_eia860.energy_source_code_6\n"
     ]
    },
    {
     "name": "stderr",
     "output_type": "stream",
     "text": [
      "2023-03-20 10:20:56 [    INFO] catalystcoop.pudl.metadata.classes:1673 Recoding generators_eia860.energy_source_1_transport_1\n"
     ]
    },
    {
     "name": "stdout",
     "output_type": "stream",
     "text": [
      "Recoding generators_eia860.energy_source_1_transport_1\n"
     ]
    },
    {
     "name": "stderr",
     "output_type": "stream",
     "text": [
      "2023-03-20 10:20:56 [    INFO] catalystcoop.pudl.metadata.classes:1673 Recoding generators_eia860.energy_source_1_transport_2\n"
     ]
    },
    {
     "name": "stdout",
     "output_type": "stream",
     "text": [
      "Recoding generators_eia860.energy_source_1_transport_2\n"
     ]
    },
    {
     "name": "stderr",
     "output_type": "stream",
     "text": [
      "2023-03-20 10:20:57 [    INFO] catalystcoop.pudl.metadata.classes:1673 Recoding generators_eia860.energy_source_1_transport_3\n"
     ]
    },
    {
     "name": "stdout",
     "output_type": "stream",
     "text": [
      "Recoding generators_eia860.energy_source_1_transport_3\n"
     ]
    },
    {
     "name": "stderr",
     "output_type": "stream",
     "text": [
      "2023-03-20 10:20:57 [    INFO] catalystcoop.pudl.metadata.classes:1673 Recoding generators_eia860.energy_source_2_transport_1\n"
     ]
    },
    {
     "name": "stdout",
     "output_type": "stream",
     "text": [
      "Recoding generators_eia860.energy_source_2_transport_1\n"
     ]
    },
    {
     "name": "stderr",
     "output_type": "stream",
     "text": [
      "2023-03-20 10:20:57 [    INFO] catalystcoop.pudl.metadata.classes:1673 Recoding generators_eia860.energy_source_2_transport_2\n"
     ]
    },
    {
     "name": "stdout",
     "output_type": "stream",
     "text": [
      "Recoding generators_eia860.energy_source_2_transport_2\n"
     ]
    },
    {
     "name": "stderr",
     "output_type": "stream",
     "text": [
      "2023-03-20 10:20:58 [    INFO] catalystcoop.pudl.metadata.classes:1673 Recoding generators_eia860.energy_source_2_transport_3\n"
     ]
    },
    {
     "name": "stdout",
     "output_type": "stream",
     "text": [
      "Recoding generators_eia860.energy_source_2_transport_3\n"
     ]
    },
    {
     "name": "stderr",
     "output_type": "stream",
     "text": [
      "2023-03-20 10:20:58 [    INFO] catalystcoop.pudl.metadata.classes:1673 Recoding generators_eia860.planned_new_prime_mover_code\n"
     ]
    },
    {
     "name": "stdout",
     "output_type": "stream",
     "text": [
      "Recoding generators_eia860.planned_new_prime_mover_code\n"
     ]
    },
    {
     "name": "stderr",
     "output_type": "stream",
     "text": [
      "2023-03-20 10:20:58 [    INFO] catalystcoop.pudl.metadata.classes:1673 Recoding generators_eia860.planned_energy_source_code_1\n"
     ]
    },
    {
     "name": "stdout",
     "output_type": "stream",
     "text": [
      "Recoding generators_eia860.planned_energy_source_code_1\n"
     ]
    },
    {
     "name": "stderr",
     "output_type": "stream",
     "text": [
      "2023-03-20 10:20:59 [    INFO] catalystcoop.pudl.metadata.classes:1673 Recoding generators_eia860.startup_source_code_1\n"
     ]
    },
    {
     "name": "stdout",
     "output_type": "stream",
     "text": [
      "Recoding generators_eia860.startup_source_code_1\n"
     ]
    },
    {
     "name": "stderr",
     "output_type": "stream",
     "text": [
      "2023-03-20 10:20:59 [    INFO] catalystcoop.pudl.metadata.classes:1673 Recoding generators_eia860.startup_source_code_2\n"
     ]
    },
    {
     "name": "stdout",
     "output_type": "stream",
     "text": [
      "Recoding generators_eia860.startup_source_code_2\n"
     ]
    },
    {
     "name": "stderr",
     "output_type": "stream",
     "text": [
      "2023-03-20 10:20:59 [    INFO] catalystcoop.pudl.metadata.classes:1673 Recoding generators_eia860.startup_source_code_3\n"
     ]
    },
    {
     "name": "stdout",
     "output_type": "stream",
     "text": [
      "Recoding generators_eia860.startup_source_code_3\n"
     ]
    },
    {
     "name": "stderr",
     "output_type": "stream",
     "text": [
      "2023-03-20 10:21:00 [    INFO] catalystcoop.pudl.metadata.classes:1673 Recoding generators_eia860.startup_source_code_4\n"
     ]
    },
    {
     "name": "stdout",
     "output_type": "stream",
     "text": [
      "Recoding generators_eia860.startup_source_code_4\n"
     ]
    },
    {
     "name": "stderr",
     "output_type": "stream",
     "text": [
      "2023-03-20 10:21:00 [    INFO] catalystcoop.pudl.metadata.classes:1673 Recoding generators_eia860.data_maturity\n"
     ]
    },
    {
     "name": "stdout",
     "output_type": "stream",
     "text": [
      "Recoding generators_eia860.data_maturity\n"
     ]
    },
    {
     "name": "stderr",
     "output_type": "stream",
     "text": [
      "2023-03-20 10:21:01 [    INFO] catalystcoop.pudl.transform.eia860:817 Transforming raw EIA 860 DataFrames for plants_eia860 concatenated across all years.\n"
     ]
    },
    {
     "name": "stdout",
     "output_type": "stream",
     "text": [
      "Transforming raw EIA 860 DataFrames for plants_eia860 concatenated across all years.\n"
     ]
    },
    {
     "name": "stderr",
     "output_type": "stream",
     "text": [
      "2023-03-20 10:21:13 [    INFO] catalystcoop.pudl.metadata.classes:1673 Recoding plants_eia860.balancing_authority_code_eia\n"
     ]
    },
    {
     "name": "stdout",
     "output_type": "stream",
     "text": [
      "Recoding plants_eia860.balancing_authority_code_eia\n"
     ]
    },
    {
     "name": "stderr",
     "output_type": "stream",
     "text": [
      "2023-03-20 10:21:13 [    INFO] catalystcoop.pudl.metadata.classes:1673 Recoding plants_eia860.sector_id_eia\n"
     ]
    },
    {
     "name": "stdout",
     "output_type": "stream",
     "text": [
      "Recoding plants_eia860.sector_id_eia\n"
     ]
    },
    {
     "name": "stderr",
     "output_type": "stream",
     "text": [
      "2023-03-20 10:21:13 [    INFO] catalystcoop.pudl.metadata.classes:1673 Recoding plants_eia860.data_maturity\n"
     ]
    },
    {
     "name": "stdout",
     "output_type": "stream",
     "text": [
      "Recoding plants_eia860.data_maturity\n"
     ]
    },
    {
     "name": "stderr",
     "output_type": "stream",
     "text": [
      "2023-03-20 10:21:13 [    INFO] catalystcoop.pudl.transform.eia860:817 Transforming raw EIA 860 DataFrames for boilers_eia860 concatenated across all years.\n"
     ]
    },
    {
     "name": "stdout",
     "output_type": "stream",
     "text": [
      "Transforming raw EIA 860 DataFrames for boilers_eia860 concatenated across all years.\n"
     ]
    },
    {
     "name": "stderr",
     "output_type": "stream",
     "text": [
      "2023-03-20 10:21:52 [    INFO] catalystcoop.pudl.metadata.classes:1673 Recoding boilers_eia860.boiler_status\n"
     ]
    },
    {
     "name": "stdout",
     "output_type": "stream",
     "text": [
      "Recoding boilers_eia860.boiler_status\n"
     ]
    },
    {
     "name": "stderr",
     "output_type": "stream",
     "text": [
      "2023-03-20 10:21:52 [    INFO] catalystcoop.pudl.metadata.classes:1673 Recoding boilers_eia860.boiler_type\n"
     ]
    },
    {
     "name": "stdout",
     "output_type": "stream",
     "text": [
      "Recoding boilers_eia860.boiler_type\n"
     ]
    },
    {
     "name": "stderr",
     "output_type": "stream",
     "text": [
      "2023-03-20 10:21:52 [    INFO] catalystcoop.pudl.metadata.classes:1673 Recoding boilers_eia860.firing_type_1\n"
     ]
    },
    {
     "name": "stdout",
     "output_type": "stream",
     "text": [
      "Recoding boilers_eia860.firing_type_1\n"
     ]
    },
    {
     "name": "stderr",
     "output_type": "stream",
     "text": [
      "2023-03-20 10:21:52 [    INFO] catalystcoop.pudl.metadata.classes:1673 Recoding boilers_eia860.firing_type_2\n"
     ]
    },
    {
     "name": "stdout",
     "output_type": "stream",
     "text": [
      "Recoding boilers_eia860.firing_type_2\n"
     ]
    },
    {
     "name": "stderr",
     "output_type": "stream",
     "text": [
      "2023-03-20 10:21:53 [    INFO] catalystcoop.pudl.metadata.classes:1673 Recoding boilers_eia860.firing_type_3\n"
     ]
    },
    {
     "name": "stdout",
     "output_type": "stream",
     "text": [
      "Recoding boilers_eia860.firing_type_3\n"
     ]
    },
    {
     "name": "stderr",
     "output_type": "stream",
     "text": [
      "2023-03-20 10:21:53 [    INFO] catalystcoop.pudl.metadata.classes:1673 Recoding boilers_eia860.boiler_fuel_code_1\n"
     ]
    },
    {
     "name": "stdout",
     "output_type": "stream",
     "text": [
      "Recoding boilers_eia860.boiler_fuel_code_1\n"
     ]
    },
    {
     "name": "stderr",
     "output_type": "stream",
     "text": [
      "2023-03-20 10:21:53 [    INFO] catalystcoop.pudl.metadata.classes:1673 Recoding boilers_eia860.boiler_fuel_code_2\n"
     ]
    },
    {
     "name": "stdout",
     "output_type": "stream",
     "text": [
      "Recoding boilers_eia860.boiler_fuel_code_2\n"
     ]
    },
    {
     "name": "stderr",
     "output_type": "stream",
     "text": [
      "2023-03-20 10:21:53 [    INFO] catalystcoop.pudl.metadata.classes:1673 Recoding boilers_eia860.boiler_fuel_code_3\n"
     ]
    },
    {
     "name": "stdout",
     "output_type": "stream",
     "text": [
      "Recoding boilers_eia860.boiler_fuel_code_3\n"
     ]
    },
    {
     "name": "stderr",
     "output_type": "stream",
     "text": [
      "2023-03-20 10:21:53 [    INFO] catalystcoop.pudl.metadata.classes:1673 Recoding boilers_eia860.boiler_fuel_code_4\n"
     ]
    },
    {
     "name": "stdout",
     "output_type": "stream",
     "text": [
      "Recoding boilers_eia860.boiler_fuel_code_4\n"
     ]
    },
    {
     "name": "stderr",
     "output_type": "stream",
     "text": [
      "2023-03-20 10:21:53 [    INFO] catalystcoop.pudl.metadata.classes:1673 Recoding boilers_eia860.wet_dry_bottom\n"
     ]
    },
    {
     "name": "stdout",
     "output_type": "stream",
     "text": [
      "Recoding boilers_eia860.wet_dry_bottom\n"
     ]
    },
    {
     "name": "stderr",
     "output_type": "stream",
     "text": [
      "2023-03-20 10:21:53 [    INFO] catalystcoop.pudl.metadata.classes:1673 Recoding boilers_eia860.regulation_particulate\n"
     ]
    },
    {
     "name": "stdout",
     "output_type": "stream",
     "text": [
      "Recoding boilers_eia860.regulation_particulate\n"
     ]
    },
    {
     "name": "stderr",
     "output_type": "stream",
     "text": [
      "2023-03-20 10:21:53 [    INFO] catalystcoop.pudl.metadata.classes:1673 Recoding boilers_eia860.regulation_so2\n"
     ]
    },
    {
     "name": "stdout",
     "output_type": "stream",
     "text": [
      "Recoding boilers_eia860.regulation_so2\n"
     ]
    },
    {
     "name": "stderr",
     "output_type": "stream",
     "text": [
      "2023-03-20 10:21:53 [    INFO] catalystcoop.pudl.metadata.classes:1673 Recoding boilers_eia860.regulation_nox\n"
     ]
    },
    {
     "name": "stdout",
     "output_type": "stream",
     "text": [
      "Recoding boilers_eia860.regulation_nox\n"
     ]
    },
    {
     "name": "stderr",
     "output_type": "stream",
     "text": [
      "2023-03-20 10:21:54 [    INFO] catalystcoop.pudl.metadata.classes:1673 Recoding boilers_eia860.unit_particulate\n"
     ]
    },
    {
     "name": "stdout",
     "output_type": "stream",
     "text": [
      "Recoding boilers_eia860.unit_particulate\n"
     ]
    },
    {
     "name": "stderr",
     "output_type": "stream",
     "text": [
      "2023-03-20 10:21:54 [    INFO] catalystcoop.pudl.metadata.classes:1673 Recoding boilers_eia860.unit_so2\n"
     ]
    },
    {
     "name": "stdout",
     "output_type": "stream",
     "text": [
      "Recoding boilers_eia860.unit_so2\n"
     ]
    },
    {
     "name": "stderr",
     "output_type": "stream",
     "text": [
      "2023-03-20 10:21:54 [    INFO] catalystcoop.pudl.metadata.classes:1673 Recoding boilers_eia860.unit_nox\n"
     ]
    },
    {
     "name": "stdout",
     "output_type": "stream",
     "text": [
      "Recoding boilers_eia860.unit_nox\n"
     ]
    },
    {
     "name": "stderr",
     "output_type": "stream",
     "text": [
      "2023-03-20 10:21:54 [    INFO] catalystcoop.pudl.metadata.classes:1673 Recoding boilers_eia860.particulate_control_out_of_compliance_strategy_1\n"
     ]
    },
    {
     "name": "stdout",
     "output_type": "stream",
     "text": [
      "Recoding boilers_eia860.particulate_control_out_of_compliance_strategy_1\n"
     ]
    },
    {
     "name": "stderr",
     "output_type": "stream",
     "text": [
      "2023-03-20 10:21:54 [    INFO] catalystcoop.pudl.metadata.classes:1673 Recoding boilers_eia860.particulate_control_out_of_compliance_strategy_2\n"
     ]
    },
    {
     "name": "stdout",
     "output_type": "stream",
     "text": [
      "Recoding boilers_eia860.particulate_control_out_of_compliance_strategy_2\n"
     ]
    },
    {
     "name": "stderr",
     "output_type": "stream",
     "text": [
      "2023-03-20 10:21:54 [    INFO] catalystcoop.pudl.metadata.classes:1673 Recoding boilers_eia860.particulate_control_out_of_compliance_strategy_3\n"
     ]
    },
    {
     "name": "stdout",
     "output_type": "stream",
     "text": [
      "Recoding boilers_eia860.particulate_control_out_of_compliance_strategy_3\n"
     ]
    },
    {
     "name": "stderr",
     "output_type": "stream",
     "text": [
      "2023-03-20 10:21:54 [    INFO] catalystcoop.pudl.metadata.classes:1673 Recoding boilers_eia860.so2_control_out_of_compliance_strategy_1\n"
     ]
    },
    {
     "name": "stdout",
     "output_type": "stream",
     "text": [
      "Recoding boilers_eia860.so2_control_out_of_compliance_strategy_1\n"
     ]
    },
    {
     "name": "stderr",
     "output_type": "stream",
     "text": [
      "2023-03-20 10:21:54 [    INFO] catalystcoop.pudl.metadata.classes:1673 Recoding boilers_eia860.so2_control_out_of_compliance_strategy_2\n"
     ]
    },
    {
     "name": "stdout",
     "output_type": "stream",
     "text": [
      "Recoding boilers_eia860.so2_control_out_of_compliance_strategy_2\n"
     ]
    },
    {
     "name": "stderr",
     "output_type": "stream",
     "text": [
      "2023-03-20 10:21:54 [    INFO] catalystcoop.pudl.metadata.classes:1673 Recoding boilers_eia860.so2_control_out_of_compliance_strategy_3\n"
     ]
    },
    {
     "name": "stdout",
     "output_type": "stream",
     "text": [
      "Recoding boilers_eia860.so2_control_out_of_compliance_strategy_3\n"
     ]
    },
    {
     "name": "stderr",
     "output_type": "stream",
     "text": [
      "2023-03-20 10:21:54 [    INFO] catalystcoop.pudl.metadata.classes:1673 Recoding boilers_eia860.so2_control_existing_caaa_compliance_strategy_1\n"
     ]
    },
    {
     "name": "stdout",
     "output_type": "stream",
     "text": [
      "Recoding boilers_eia860.so2_control_existing_caaa_compliance_strategy_1\n"
     ]
    },
    {
     "name": "stderr",
     "output_type": "stream",
     "text": [
      "2023-03-20 10:21:54 [    INFO] catalystcoop.pudl.metadata.classes:1673 Recoding boilers_eia860.so2_control_existing_caaa_compliance_strategy_2\n"
     ]
    },
    {
     "name": "stdout",
     "output_type": "stream",
     "text": [
      "Recoding boilers_eia860.so2_control_existing_caaa_compliance_strategy_2\n"
     ]
    },
    {
     "name": "stderr",
     "output_type": "stream",
     "text": [
      "2023-03-20 10:21:55 [    INFO] catalystcoop.pudl.metadata.classes:1673 Recoding boilers_eia860.so2_control_existing_caaa_compliance_strategy_3\n"
     ]
    },
    {
     "name": "stdout",
     "output_type": "stream",
     "text": [
      "Recoding boilers_eia860.so2_control_existing_caaa_compliance_strategy_3\n"
     ]
    },
    {
     "name": "stderr",
     "output_type": "stream",
     "text": [
      "2023-03-20 10:21:55 [    INFO] catalystcoop.pudl.metadata.classes:1673 Recoding boilers_eia860.so2_control_planned_caaa_compliance_strategy_1\n"
     ]
    },
    {
     "name": "stdout",
     "output_type": "stream",
     "text": [
      "Recoding boilers_eia860.so2_control_planned_caaa_compliance_strategy_1\n"
     ]
    },
    {
     "name": "stderr",
     "output_type": "stream",
     "text": [
      "2023-03-20 10:21:55 [    INFO] catalystcoop.pudl.metadata.classes:1673 Recoding boilers_eia860.so2_control_planned_caaa_compliance_strategy_2\n"
     ]
    },
    {
     "name": "stdout",
     "output_type": "stream",
     "text": [
      "Recoding boilers_eia860.so2_control_planned_caaa_compliance_strategy_2\n"
     ]
    },
    {
     "name": "stderr",
     "output_type": "stream",
     "text": [
      "2023-03-20 10:21:55 [    INFO] catalystcoop.pudl.metadata.classes:1673 Recoding boilers_eia860.so2_control_planned_caaa_compliance_strategy_3\n"
     ]
    },
    {
     "name": "stdout",
     "output_type": "stream",
     "text": [
      "Recoding boilers_eia860.so2_control_planned_caaa_compliance_strategy_3\n"
     ]
    },
    {
     "name": "stderr",
     "output_type": "stream",
     "text": [
      "2023-03-20 10:21:55 [    INFO] catalystcoop.pudl.metadata.classes:1673 Recoding boilers_eia860.nox_control_out_of_compliance_strategy_1\n"
     ]
    },
    {
     "name": "stdout",
     "output_type": "stream",
     "text": [
      "Recoding boilers_eia860.nox_control_out_of_compliance_strategy_1\n"
     ]
    },
    {
     "name": "stderr",
     "output_type": "stream",
     "text": [
      "2023-03-20 10:21:55 [    INFO] catalystcoop.pudl.metadata.classes:1673 Recoding boilers_eia860.nox_control_out_of_compliance_strategy_2\n"
     ]
    },
    {
     "name": "stdout",
     "output_type": "stream",
     "text": [
      "Recoding boilers_eia860.nox_control_out_of_compliance_strategy_2\n"
     ]
    },
    {
     "name": "stderr",
     "output_type": "stream",
     "text": [
      "2023-03-20 10:21:55 [    INFO] catalystcoop.pudl.metadata.classes:1673 Recoding boilers_eia860.nox_control_out_of_compliance_strategy_3\n"
     ]
    },
    {
     "name": "stdout",
     "output_type": "stream",
     "text": [
      "Recoding boilers_eia860.nox_control_out_of_compliance_strategy_3\n"
     ]
    },
    {
     "name": "stderr",
     "output_type": "stream",
     "text": [
      "2023-03-20 10:21:55 [    INFO] catalystcoop.pudl.metadata.classes:1673 Recoding boilers_eia860.nox_control_existing_caaa_compliance_strategy_1\n"
     ]
    },
    {
     "name": "stdout",
     "output_type": "stream",
     "text": [
      "Recoding boilers_eia860.nox_control_existing_caaa_compliance_strategy_1\n"
     ]
    },
    {
     "name": "stderr",
     "output_type": "stream",
     "text": [
      "2023-03-20 10:21:55 [    INFO] catalystcoop.pudl.metadata.classes:1673 Recoding boilers_eia860.nox_control_existing_caaa_compliance_strategy_2\n"
     ]
    },
    {
     "name": "stdout",
     "output_type": "stream",
     "text": [
      "Recoding boilers_eia860.nox_control_existing_caaa_compliance_strategy_2\n"
     ]
    },
    {
     "name": "stderr",
     "output_type": "stream",
     "text": [
      "2023-03-20 10:21:55 [    INFO] catalystcoop.pudl.metadata.classes:1673 Recoding boilers_eia860.nox_control_existing_caaa_compliance_strategy_3\n"
     ]
    },
    {
     "name": "stdout",
     "output_type": "stream",
     "text": [
      "Recoding boilers_eia860.nox_control_existing_caaa_compliance_strategy_3\n"
     ]
    },
    {
     "name": "stderr",
     "output_type": "stream",
     "text": [
      "2023-03-20 10:21:55 [    INFO] catalystcoop.pudl.metadata.classes:1673 Recoding boilers_eia860.nox_control_planned_caaa_compliance_strategy_1\n"
     ]
    },
    {
     "name": "stdout",
     "output_type": "stream",
     "text": [
      "Recoding boilers_eia860.nox_control_planned_caaa_compliance_strategy_1\n"
     ]
    },
    {
     "name": "stderr",
     "output_type": "stream",
     "text": [
      "2023-03-20 10:21:56 [    INFO] catalystcoop.pudl.metadata.classes:1673 Recoding boilers_eia860.nox_control_planned_caaa_compliance_strategy_2\n"
     ]
    },
    {
     "name": "stdout",
     "output_type": "stream",
     "text": [
      "Recoding boilers_eia860.nox_control_planned_caaa_compliance_strategy_2\n"
     ]
    },
    {
     "name": "stderr",
     "output_type": "stream",
     "text": [
      "2023-03-20 10:21:56 [    INFO] catalystcoop.pudl.metadata.classes:1673 Recoding boilers_eia860.nox_control_planned_caaa_compliance_strategy_3\n"
     ]
    },
    {
     "name": "stdout",
     "output_type": "stream",
     "text": [
      "Recoding boilers_eia860.nox_control_planned_caaa_compliance_strategy_3\n"
     ]
    },
    {
     "name": "stderr",
     "output_type": "stream",
     "text": [
      "2023-03-20 10:21:56 [    INFO] catalystcoop.pudl.metadata.classes:1673 Recoding boilers_eia860.mercury_control_existing_strategy_1\n"
     ]
    },
    {
     "name": "stdout",
     "output_type": "stream",
     "text": [
      "Recoding boilers_eia860.mercury_control_existing_strategy_1\n"
     ]
    },
    {
     "name": "stderr",
     "output_type": "stream",
     "text": [
      "2023-03-20 10:21:56 [    INFO] catalystcoop.pudl.metadata.classes:1673 Recoding boilers_eia860.mercury_control_existing_strategy_2\n"
     ]
    },
    {
     "name": "stdout",
     "output_type": "stream",
     "text": [
      "Recoding boilers_eia860.mercury_control_existing_strategy_2\n"
     ]
    },
    {
     "name": "stderr",
     "output_type": "stream",
     "text": [
      "2023-03-20 10:21:56 [    INFO] catalystcoop.pudl.metadata.classes:1673 Recoding boilers_eia860.mercury_control_existing_strategy_3\n"
     ]
    },
    {
     "name": "stdout",
     "output_type": "stream",
     "text": [
      "Recoding boilers_eia860.mercury_control_existing_strategy_3\n"
     ]
    },
    {
     "name": "stderr",
     "output_type": "stream",
     "text": [
      "2023-03-20 10:21:56 [    INFO] catalystcoop.pudl.metadata.classes:1673 Recoding boilers_eia860.mercury_control_existing_strategy_4\n"
     ]
    },
    {
     "name": "stdout",
     "output_type": "stream",
     "text": [
      "Recoding boilers_eia860.mercury_control_existing_strategy_4\n"
     ]
    },
    {
     "name": "stderr",
     "output_type": "stream",
     "text": [
      "2023-03-20 10:21:56 [    INFO] catalystcoop.pudl.metadata.classes:1673 Recoding boilers_eia860.mercury_control_existing_strategy_5\n"
     ]
    },
    {
     "name": "stdout",
     "output_type": "stream",
     "text": [
      "Recoding boilers_eia860.mercury_control_existing_strategy_5\n"
     ]
    },
    {
     "name": "stderr",
     "output_type": "stream",
     "text": [
      "2023-03-20 10:21:57 [    INFO] catalystcoop.pudl.metadata.classes:1673 Recoding boilers_eia860.mercury_control_existing_strategy_6\n"
     ]
    },
    {
     "name": "stdout",
     "output_type": "stream",
     "text": [
      "Recoding boilers_eia860.mercury_control_existing_strategy_6\n"
     ]
    },
    {
     "name": "stderr",
     "output_type": "stream",
     "text": [
      "2023-03-20 10:21:57 [    INFO] catalystcoop.pudl.metadata.classes:1673 Recoding boilers_eia860.mercury_control_proposed_strategy_1\n"
     ]
    },
    {
     "name": "stdout",
     "output_type": "stream",
     "text": [
      "Recoding boilers_eia860.mercury_control_proposed_strategy_1\n"
     ]
    },
    {
     "name": "stderr",
     "output_type": "stream",
     "text": [
      "2023-03-20 10:21:57 [    INFO] catalystcoop.pudl.metadata.classes:1673 Recoding boilers_eia860.mercury_control_proposed_strategy_2\n"
     ]
    },
    {
     "name": "stdout",
     "output_type": "stream",
     "text": [
      "Recoding boilers_eia860.mercury_control_proposed_strategy_2\n"
     ]
    },
    {
     "name": "stderr",
     "output_type": "stream",
     "text": [
      "2023-03-20 10:21:57 [    INFO] catalystcoop.pudl.metadata.classes:1673 Recoding boilers_eia860.mercury_control_proposed_strategy_3\n"
     ]
    },
    {
     "name": "stdout",
     "output_type": "stream",
     "text": [
      "Recoding boilers_eia860.mercury_control_proposed_strategy_3\n"
     ]
    },
    {
     "name": "stderr",
     "output_type": "stream",
     "text": [
      "2023-03-20 10:21:57 [    INFO] catalystcoop.pudl.metadata.classes:1673 Recoding boilers_eia860.nox_control_manufacturer_code\n"
     ]
    },
    {
     "name": "stdout",
     "output_type": "stream",
     "text": [
      "Recoding boilers_eia860.nox_control_manufacturer_code\n"
     ]
    },
    {
     "name": "stderr",
     "output_type": "stream",
     "text": [
      "2023-03-20 10:21:57 [    INFO] catalystcoop.pudl.metadata.classes:1673 Recoding boilers_eia860.nox_control_status_code\n"
     ]
    },
    {
     "name": "stdout",
     "output_type": "stream",
     "text": [
      "Recoding boilers_eia860.nox_control_status_code\n"
     ]
    },
    {
     "name": "stderr",
     "output_type": "stream",
     "text": [
      "2023-03-20 10:21:57 [    INFO] catalystcoop.pudl.metadata.classes:1673 Recoding boilers_eia860.regulation_mercury\n"
     ]
    },
    {
     "name": "stdout",
     "output_type": "stream",
     "text": [
      "Recoding boilers_eia860.regulation_mercury\n"
     ]
    },
    {
     "name": "stderr",
     "output_type": "stream",
     "text": [
      "2023-03-20 10:21:57 [    INFO] catalystcoop.pudl.metadata.classes:1673 Recoding boilers_eia860.data_maturity\n"
     ]
    },
    {
     "name": "stdout",
     "output_type": "stream",
     "text": [
      "Recoding boilers_eia860.data_maturity\n"
     ]
    },
    {
     "name": "stderr",
     "output_type": "stream",
     "text": [
      "2023-03-20 10:21:57 [    INFO] catalystcoop.pudl.transform.eia860:817 Transforming raw EIA 860 DataFrames for boiler_generator_assn_eia860 concatenated across all years.\n"
     ]
    },
    {
     "name": "stdout",
     "output_type": "stream",
     "text": [
      "Transforming raw EIA 860 DataFrames for boiler_generator_assn_eia860 concatenated across all years.\n"
     ]
    },
    {
     "name": "stderr",
     "output_type": "stream",
     "text": [
      "2023-03-20 10:21:58 [    INFO] catalystcoop.pudl.metadata.classes:1673 Recoding boiler_generator_assn_eia860.boiler_generator_assn_type_code\n"
     ]
    },
    {
     "name": "stdout",
     "output_type": "stream",
     "text": [
      "Recoding boiler_generator_assn_eia860.boiler_generator_assn_type_code\n"
     ]
    },
    {
     "name": "stderr",
     "output_type": "stream",
     "text": [
      "2023-03-20 10:21:58 [    INFO] catalystcoop.pudl.metadata.classes:1673 Recoding boiler_generator_assn_eia860.steam_plant_type_code\n"
     ]
    },
    {
     "name": "stdout",
     "output_type": "stream",
     "text": [
      "Recoding boiler_generator_assn_eia860.steam_plant_type_code\n"
     ]
    },
    {
     "name": "stderr",
     "output_type": "stream",
     "text": [
      "2023-03-20 10:21:58 [    INFO] catalystcoop.pudl.metadata.classes:1673 Recoding boiler_generator_assn_eia860.data_maturity\n"
     ]
    },
    {
     "name": "stdout",
     "output_type": "stream",
     "text": [
      "Recoding boiler_generator_assn_eia860.data_maturity\n"
     ]
    },
    {
     "name": "stderr",
     "output_type": "stream",
     "text": [
      "2023-03-20 10:21:58 [    INFO] catalystcoop.pudl.transform.eia860:817 Transforming raw EIA 860 DataFrames for utilities_eia860 concatenated across all years.\n"
     ]
    },
    {
     "name": "stdout",
     "output_type": "stream",
     "text": [
      "Transforming raw EIA 860 DataFrames for utilities_eia860 concatenated across all years.\n",
      "CPU times: user 2min 55s, sys: 20.2 s, total: 3min 15s\n",
      "Wall time: 3min 15s\n"
     ]
    }
   ],
   "source": [
    "%%time\n",
    "eia860_transformed_dfs = pudl.transform.eia860.transform(\n",
    "    eia860_raw_dfs,\n",
    "    eia860_settings=eia860_settings,\n",
    ")"
   ]
  },
  {
   "cell_type": "markdown",
   "metadata": {},
   "source": [
    "# EIA-923"
   ]
  },
  {
   "cell_type": "markdown",
   "metadata": {},
   "source": [
    "## Extract just the EIA-923"
   ]
  },
  {
   "cell_type": "code",
   "execution_count": 8,
   "metadata": {},
   "outputs": [
    {
     "name": "stderr",
     "output_type": "stream",
     "text": [
      "2023-03-20 10:22:02 [    INFO] catalystcoop.pudl.extract.excel:237 Extracting eia923 spreadsheet data.\n"
     ]
    },
    {
     "name": "stdout",
     "output_type": "stream",
     "text": [
      "Extracting eia923 spreadsheet data.\n",
      "Page 2 Oil Stocks Data\n",
      "Page 1 Generation and Fuel Data\n",
      "Page 2 Coal Stocks Data\n",
      "Page 2 Petcoke Stocks Data\n",
      "Page 2 Stocks Data\n",
      "Page 3 Boiler Fuel Data\n",
      "Page 4 Generator Data\n",
      "Page 5 Fuel Receipts and Costs\n",
      "Page 6 Plant Frame\n",
      "Page 2 Oil Stocks Data\n",
      "Page 1 Generation and Fuel Data\n",
      "Page 2 Coal Stocks Data\n",
      "Page 2 Petcoke Stocks Data\n",
      "Page 2 Stocks Data\n",
      "Page 3 Boiler Fuel Data\n",
      "Page 4 Generator Data\n",
      "Page 5 Fuel Receipts and Costs\n",
      "Page 6 Plant Frame\n",
      "Page 2 Oil Stocks Data\n",
      "Page 1 Generation and Fuel Data\n",
      "Page 2 Coal Stocks Data\n",
      "Page 2 Petcoke Stocks Data\n",
      "Page 2 Stocks Data\n",
      "Page 3 Boiler Fuel Data\n",
      "Page 4 Generator Data\n",
      "Page 5 Fuel Receipts and Costs\n",
      "Page 6 Plant Frame\n",
      "Page 1 Generation and Fuel Data\n",
      "Page 1 Energy Storage\n",
      "Page 2 Coal Stocks Data\n",
      "Page 2 Oil Stocks Data\n",
      "Page 2 Petcoke Stocks Data\n",
      "Page 2 Stocks Data\n",
      "Page 3 Boiler Fuel Data\n",
      "Page 4 Generator Data\n",
      "Page 5 Fuel Receipts and Costs\n",
      "Page 6 Plant Frame\n",
      "Page 1 Generation and Fuel Data\n",
      "Page 1 Energy Storage\n",
      "Page 2 Coal Stocks Data\n",
      "Page 2 Oil Stocks Data\n",
      "Page 2 Petcoke Stocks Data\n",
      "Page 2 Stocks Data\n",
      "Page 3 Boiler Fuel Data\n",
      "Page 4 Generator Data\n",
      "Page 5 Fuel Receipts and Costs\n",
      "Page 6 Plant Frame\n",
      "Page 1 Generation and Fuel Data\n",
      "Page 1 Energy Storage\n",
      "Page 2 Coal Stocks Data\n",
      "Page 2 Oil Stocks Data\n",
      "Page 2 Petcoke Stocks Data\n",
      "Page 2 Stocks Data\n",
      "Page 3 Boiler Fuel Data\n",
      "Page 4 Generator Data\n",
      "Page 5 Fuel Receipts and Costs\n",
      "Page 6 Plant Frame\n",
      "Page 1 Generation and Fuel Data\n",
      "Page 2 Coal Stocks Data\n",
      "Page 1 Energy Storage\n",
      "Page 1 Puerto Rico\n",
      "Page 2 Oil Stocks Data\n",
      "Page 2 Petcoke Stocks Data\n",
      "Page 2 Stocks Data\n",
      "Page 3 Boiler Fuel Data\n",
      "Page 4 Generator Data\n",
      "Page 5 Fuel Receipts and Costs\n",
      "Page 6 Plant Frame\n",
      "Page 6 Plant Frame Puerto Rico\n",
      "Page 1 Generation and Fuel Data\n",
      "Page 5 Fuel Receipts and Costs\n",
      "Page 1 Energy Storage\n",
      "Page 1 Puerto Rico\n",
      "Page 2 Coal Stocks Data\n",
      "Page 2 Oil Stocks Data\n",
      "Page 2 Petcoke Stocks Data\n",
      "Page 2 Stocks Data\n",
      "Page 3 Boiler Fuel Data\n",
      "Page 4 Generator Data\n",
      "Page 6 Plant Frame\n",
      "Page 6 Plant Frame Puerto Rico\n",
      "Page 1 Energy Storage\n",
      "Page 1 Generation and Fuel Data\n",
      "Page 1 Puerto Rico\n",
      "Page 2 Coal Stocks Data\n",
      "Page 2 Oil Stocks Data\n",
      "Page 2 Petcoke Stocks Data\n",
      "Page 2 Stocks Data\n",
      "Page 3 Boiler Fuel Data\n",
      "Page 4 Generator Data\n",
      "Page 5 Fuel Receipts and Costs\n",
      "Page 6 Plant Frame\n",
      "Page 6 Plant Frame Puerto Rico\n",
      "Page 1 Generation and Fuel Data\n",
      "Page 1 Energy Storage\n",
      "Page 1 Puerto Rico\n",
      "Page 2 Coal Stocks Data\n",
      "Page 2 Oil Stocks Data\n",
      "Page 2 Petcoke Stocks Data\n",
      "Page 2 Stocks Data\n",
      "Page 3 Boiler Fuel Data\n",
      "Page 4 Generator Data\n",
      "Page 5 Fuel Receipts and Costs\n",
      "Page 6 Plant Frame\n",
      "Page 6 Plant Frame Puerto Rico\n",
      "Page 1 Energy Storage\n",
      "Page 1 Generation and Fuel Data\n",
      "Page 1 Puerto Rico\n",
      "Page 2 Oil Stocks Data\n",
      "Page 2 Stocks Data\n",
      "Page 3 Boiler Fuel Data\n",
      "Page 4 Generator Data\n",
      "Page 5 Fuel Receipts and Costs\n",
      "Page 6 Plant Frame\n",
      "Page 6 Plant Frame Puerto Rico\n",
      "CPU times: user 8min 22s, sys: 1.49 s, total: 8min 23s\n",
      "Wall time: 8min 24s\n"
     ]
    }
   ],
   "source": [
    "%%time\n",
    "eia923_extractor = pudl.extract.eia923.Extractor(ds)\n",
    "eia923_raw_dfs = eia923_extractor.extract(settings=eia_settings.eia923)"
   ]
  },
  {
   "cell_type": "markdown",
   "metadata": {},
   "source": [
    "## Transform just the EIA-923"
   ]
  },
  {
   "cell_type": "code",
   "execution_count": 9,
   "metadata": {},
   "outputs": [
    {
     "name": "stderr",
     "output_type": "stream",
     "text": [
      "2023-03-20 10:30:26 [    INFO] catalystcoop.pudl.transform.eia923:1216 Transforming raw EIA 923 DataFrames for generation_fuel_eia923 concatenated across all years.\n"
     ]
    },
    {
     "name": "stdout",
     "output_type": "stream",
     "text": [
      "Transforming raw EIA 923 DataFrames for generation_fuel_eia923 concatenated across all years.\n"
     ]
    },
    {
     "name": "stderr",
     "output_type": "stream",
     "text": [
      "2023-03-20 10:31:44 [    INFO] catalystcoop.pudl.metadata.classes:1673 Recoding generation_fuel_eia923.energy_source_code\n"
     ]
    },
    {
     "name": "stdout",
     "output_type": "stream",
     "text": [
      "Recoding generation_fuel_eia923.energy_source_code\n"
     ]
    },
    {
     "name": "stderr",
     "output_type": "stream",
     "text": [
      "2023-03-20 10:31:44 [    INFO] catalystcoop.pudl.metadata.classes:1673 Recoding generation_fuel_eia923.fuel_type_code_aer\n"
     ]
    },
    {
     "name": "stdout",
     "output_type": "stream",
     "text": [
      "Recoding generation_fuel_eia923.fuel_type_code_aer\n"
     ]
    },
    {
     "name": "stderr",
     "output_type": "stream",
     "text": [
      "2023-03-20 10:31:45 [    INFO] catalystcoop.pudl.metadata.classes:1673 Recoding generation_fuel_eia923.prime_mover_code\n"
     ]
    },
    {
     "name": "stdout",
     "output_type": "stream",
     "text": [
      "Recoding generation_fuel_eia923.prime_mover_code\n"
     ]
    },
    {
     "name": "stderr",
     "output_type": "stream",
     "text": [
      "2023-03-20 10:31:46 [    INFO] catalystcoop.pudl.metadata.classes:1673 Recoding generation_fuel_eia923.data_maturity\n"
     ]
    },
    {
     "name": "stdout",
     "output_type": "stream",
     "text": [
      "Recoding generation_fuel_eia923.data_maturity\n"
     ]
    },
    {
     "name": "stderr",
     "output_type": "stream",
     "text": [
      "2023-03-20 10:31:58 [    INFO] catalystcoop.pudl.transform.eia923:1216 Transforming raw EIA 923 DataFrames for boiler_fuel_eia923 concatenated across all years.\n"
     ]
    },
    {
     "name": "stdout",
     "output_type": "stream",
     "text": [
      "Transforming raw EIA 923 DataFrames for boiler_fuel_eia923 concatenated across all years.\n"
     ]
    },
    {
     "name": "stderr",
     "output_type": "stream",
     "text": [
      "2023-03-20 10:32:31 [    INFO] catalystcoop.pudl.metadata.classes:1673 Recoding boiler_fuel_eia923.energy_source_code\n"
     ]
    },
    {
     "name": "stdout",
     "output_type": "stream",
     "text": [
      "Recoding boiler_fuel_eia923.energy_source_code\n"
     ]
    },
    {
     "name": "stderr",
     "output_type": "stream",
     "text": [
      "2023-03-20 10:32:33 [    INFO] catalystcoop.pudl.transform.eia923:1216 Transforming raw EIA 923 DataFrames for generation_eia923 concatenated across all years.\n"
     ]
    },
    {
     "name": "stdout",
     "output_type": "stream",
     "text": [
      "Transforming raw EIA 923 DataFrames for generation_eia923 concatenated across all years.\n"
     ]
    },
    {
     "name": "stderr",
     "output_type": "stream",
     "text": [
      "2023-03-20 10:32:41 [    INFO] catalystcoop.pudl.metadata.classes:1673 Recoding generation_eia923.data_maturity\n"
     ]
    },
    {
     "name": "stdout",
     "output_type": "stream",
     "text": [
      "Recoding generation_eia923.data_maturity\n"
     ]
    },
    {
     "name": "stderr",
     "output_type": "stream",
     "text": [
      "2023-03-20 10:32:41 [    INFO] catalystcoop.pudl.transform.eia923:1216 Transforming raw EIA 923 DataFrames for coalmine_eia923 concatenated across all years.\n"
     ]
    },
    {
     "name": "stdout",
     "output_type": "stream",
     "text": [
      "Transforming raw EIA 923 DataFrames for coalmine_eia923 concatenated across all years.\n"
     ]
    },
    {
     "name": "stderr",
     "output_type": "stream",
     "text": [
      "2023-03-20 10:32:55 [    INFO] catalystcoop.pudl.helpers:203 Assigned state FIPS codes for 35.74% of records.\n"
     ]
    },
    {
     "name": "stdout",
     "output_type": "stream",
     "text": [
      "Assigned state FIPS codes for 35.74% of records.\n"
     ]
    },
    {
     "name": "stderr",
     "output_type": "stream",
     "text": [
      "2023-03-20 10:32:56 [    INFO] catalystcoop.pudl.metadata.classes:1673 Recoding coalmine_eia923.mine_type_code\n"
     ]
    },
    {
     "name": "stdout",
     "output_type": "stream",
     "text": [
      "Recoding coalmine_eia923.mine_type_code\n"
     ]
    },
    {
     "name": "stderr",
     "output_type": "stream",
     "text": [
      "2023-03-20 10:32:56 [    INFO] catalystcoop.pudl.metadata.classes:1673 Recoding coalmine_eia923.data_maturity\n"
     ]
    },
    {
     "name": "stdout",
     "output_type": "stream",
     "text": [
      "Recoding coalmine_eia923.data_maturity\n"
     ]
    },
    {
     "name": "stderr",
     "output_type": "stream",
     "text": [
      "2023-03-20 10:32:57 [    INFO] catalystcoop.pudl.metadata.classes:1673 Recoding coalmine_eia923.mine_type_code\n"
     ]
    },
    {
     "name": "stdout",
     "output_type": "stream",
     "text": [
      "Recoding coalmine_eia923.mine_type_code\n"
     ]
    },
    {
     "name": "stderr",
     "output_type": "stream",
     "text": [
      "2023-03-20 10:32:57 [    INFO] catalystcoop.pudl.metadata.classes:1673 Recoding coalmine_eia923.data_maturity\n"
     ]
    },
    {
     "name": "stdout",
     "output_type": "stream",
     "text": [
      "Recoding coalmine_eia923.data_maturity\n"
     ]
    },
    {
     "name": "stderr",
     "output_type": "stream",
     "text": [
      "2023-03-20 10:32:57 [    INFO] catalystcoop.pudl.transform.eia923:1216 Transforming raw EIA 923 DataFrames for fuel_receipts_costs_eia923 concatenated across all years.\n"
     ]
    },
    {
     "name": "stdout",
     "output_type": "stream",
     "text": [
      "Transforming raw EIA 923 DataFrames for fuel_receipts_costs_eia923 concatenated across all years.\n"
     ]
    },
    {
     "name": "stderr",
     "output_type": "stream",
     "text": [
      "2023-03-20 10:33:10 [    INFO] catalystcoop.pudl.helpers:203 Assigned state FIPS codes for 35.74% of records.\n"
     ]
    },
    {
     "name": "stdout",
     "output_type": "stream",
     "text": [
      "Assigned state FIPS codes for 35.74% of records.\n"
     ]
    },
    {
     "name": "stderr",
     "output_type": "stream",
     "text": [
      "2023-03-20 10:33:10 [    INFO] catalystcoop.pudl.metadata.classes:1673 Recoding coalmine_eia923.mine_type_code\n"
     ]
    },
    {
     "name": "stdout",
     "output_type": "stream",
     "text": [
      "Recoding coalmine_eia923.mine_type_code\n"
     ]
    },
    {
     "name": "stderr",
     "output_type": "stream",
     "text": [
      "2023-03-20 10:33:10 [    INFO] catalystcoop.pudl.metadata.classes:1673 Recoding coalmine_eia923.data_maturity\n"
     ]
    },
    {
     "name": "stdout",
     "output_type": "stream",
     "text": [
      "Recoding coalmine_eia923.data_maturity\n"
     ]
    },
    {
     "name": "stderr",
     "output_type": "stream",
     "text": [
      "2023-03-20 10:33:33 [    INFO] catalystcoop.pudl.metadata.classes:1673 Recoding fuel_receipts_costs_eia923.contract_type_code\n"
     ]
    },
    {
     "name": "stdout",
     "output_type": "stream",
     "text": [
      "Recoding fuel_receipts_costs_eia923.contract_type_code\n"
     ]
    },
    {
     "name": "stderr",
     "output_type": "stream",
     "text": [
      "2023-03-20 10:33:33 [    INFO] catalystcoop.pudl.metadata.classes:1673 Recoding fuel_receipts_costs_eia923.energy_source_code\n"
     ]
    },
    {
     "name": "stdout",
     "output_type": "stream",
     "text": [
      "Recoding fuel_receipts_costs_eia923.energy_source_code\n"
     ]
    },
    {
     "name": "stderr",
     "output_type": "stream",
     "text": [
      "2023-03-20 10:33:34 [    INFO] catalystcoop.pudl.metadata.classes:1673 Recoding fuel_receipts_costs_eia923.primary_transportation_mode_code\n"
     ]
    },
    {
     "name": "stdout",
     "output_type": "stream",
     "text": [
      "Recoding fuel_receipts_costs_eia923.primary_transportation_mode_code\n"
     ]
    },
    {
     "name": "stderr",
     "output_type": "stream",
     "text": [
      "2023-03-20 10:33:34 [    INFO] catalystcoop.pudl.metadata.classes:1673 Recoding fuel_receipts_costs_eia923.secondary_transportation_mode_code\n"
     ]
    },
    {
     "name": "stdout",
     "output_type": "stream",
     "text": [
      "Recoding fuel_receipts_costs_eia923.secondary_transportation_mode_code\n"
     ]
    },
    {
     "name": "stderr",
     "output_type": "stream",
     "text": [
      "2023-03-20 10:33:34 [    INFO] catalystcoop.pudl.metadata.classes:1673 Recoding fuel_receipts_costs_eia923.data_maturity\n"
     ]
    },
    {
     "name": "stdout",
     "output_type": "stream",
     "text": [
      "Recoding fuel_receipts_costs_eia923.data_maturity\n",
      "CPU times: user 3min 1s, sys: 5.79 s, total: 3min 7s\n",
      "Wall time: 3min 7s\n"
     ]
    }
   ],
   "source": [
    "%%time\n",
    "eia923_transformed_dfs = pudl.transform.eia923.transform(\n",
    "    eia923_raw_dfs,\n",
    "    eia923_settings=eia923_settings,\n",
    ")"
   ]
  },
  {
   "cell_type": "markdown",
   "metadata": {},
   "source": [
    "# Combined EIA Data"
   ]
  },
  {
   "cell_type": "markdown",
   "metadata": {},
   "source": [
    "## Merge EIA-923/860, set dtypes, harvest entities"
   ]
  },
  {
   "cell_type": "code",
   "execution_count": 10,
   "metadata": {},
   "outputs": [
    {
     "name": "stderr",
     "output_type": "stream",
     "text": [
      "2023-03-20 10:34:43 [    INFO] catalystcoop.pudl.transform.eia:1180 Harvesting IDs & consistently static attributes for EIA plants\n"
     ]
    },
    {
     "name": "stdout",
     "output_type": "stream",
     "text": [
      "Harvesting IDs & consistently static attributes for EIA plants\n"
     ]
    },
    {
     "name": "stderr",
     "output_type": "stream",
     "text": [
      "2023-03-20 10:35:02 [    INFO] catalystcoop.pudl.metadata.classes:1673 Recoding plants_eia860.balancing_authority_code_eia\n"
     ]
    },
    {
     "name": "stdout",
     "output_type": "stream",
     "text": [
      "Recoding plants_eia860.balancing_authority_code_eia\n"
     ]
    },
    {
     "name": "stderr",
     "output_type": "stream",
     "text": [
      "2023-03-20 10:35:11 [    INFO] catalystcoop.pudl.metadata.classes:1673 Recoding plants_eia860.reporting_frequency_code\n"
     ]
    },
    {
     "name": "stdout",
     "output_type": "stream",
     "text": [
      "Recoding plants_eia860.reporting_frequency_code\n"
     ]
    },
    {
     "name": "stderr",
     "output_type": "stream",
     "text": [
      "2023-03-20 10:35:16 [    INFO] catalystcoop.pudl.metadata.classes:1673 Recoding plants_eia860.sector_id_eia\n"
     ]
    },
    {
     "name": "stdout",
     "output_type": "stream",
     "text": [
      "Recoding plants_eia860.sector_id_eia\n"
     ]
    },
    {
     "name": "stderr",
     "output_type": "stream",
     "text": [
      "2023-03-20 10:35:18 [    INFO] catalystcoop.pudl.metadata.classes:1673 Recoding plants_eia860.data_maturity\n"
     ]
    },
    {
     "name": "stdout",
     "output_type": "stream",
     "text": [
      "Recoding plants_eia860.data_maturity\n"
     ]
    },
    {
     "name": "stderr",
     "output_type": "stream",
     "text": [
      "2023-03-20 10:36:34 [    INFO] catalystcoop.pudl.transform.eia:543 Average consistency of static plants values is 99.49%\n"
     ]
    },
    {
     "name": "stdout",
     "output_type": "stream",
     "text": [
      "Average consistency of static plants values is 99.49%\n"
     ]
    },
    {
     "name": "stderr",
     "output_type": "stream",
     "text": [
      "2023-03-20 10:36:36 [    INFO] catalystcoop.pudl.transform.eia:1180 Harvesting IDs & consistently static attributes for EIA generators\n"
     ]
    },
    {
     "name": "stdout",
     "output_type": "stream",
     "text": [
      "Harvesting IDs & consistently static attributes for EIA generators\n"
     ]
    },
    {
     "name": "stderr",
     "output_type": "stream",
     "text": [
      "2023-03-20 10:36:40 [    INFO] catalystcoop.pudl.metadata.classes:1673 Recoding generators_eia860.operational_status_code\n"
     ]
    },
    {
     "name": "stdout",
     "output_type": "stream",
     "text": [
      "Recoding generators_eia860.operational_status_code\n"
     ]
    },
    {
     "name": "stderr",
     "output_type": "stream",
     "text": [
      "2023-03-20 10:36:40 [    INFO] catalystcoop.pudl.metadata.classes:1673 Recoding generators_eia860.prime_mover_code\n"
     ]
    },
    {
     "name": "stdout",
     "output_type": "stream",
     "text": [
      "Recoding generators_eia860.prime_mover_code\n"
     ]
    },
    {
     "name": "stderr",
     "output_type": "stream",
     "text": [
      "2023-03-20 10:36:41 [    INFO] catalystcoop.pudl.metadata.classes:1673 Recoding generators_eia860.energy_source_code_1\n"
     ]
    },
    {
     "name": "stdout",
     "output_type": "stream",
     "text": [
      "Recoding generators_eia860.energy_source_code_1\n"
     ]
    },
    {
     "name": "stderr",
     "output_type": "stream",
     "text": [
      "2023-03-20 10:36:43 [    INFO] catalystcoop.pudl.metadata.classes:1673 Recoding generators_eia860.energy_source_code_2\n"
     ]
    },
    {
     "name": "stdout",
     "output_type": "stream",
     "text": [
      "Recoding generators_eia860.energy_source_code_2\n"
     ]
    },
    {
     "name": "stderr",
     "output_type": "stream",
     "text": [
      "2023-03-20 10:36:46 [    INFO] catalystcoop.pudl.metadata.classes:1673 Recoding generators_eia860.energy_source_code_3\n"
     ]
    },
    {
     "name": "stdout",
     "output_type": "stream",
     "text": [
      "Recoding generators_eia860.energy_source_code_3\n"
     ]
    },
    {
     "name": "stderr",
     "output_type": "stream",
     "text": [
      "2023-03-20 10:36:48 [    INFO] catalystcoop.pudl.metadata.classes:1673 Recoding generators_eia860.energy_source_code_4\n"
     ]
    },
    {
     "name": "stdout",
     "output_type": "stream",
     "text": [
      "Recoding generators_eia860.energy_source_code_4\n"
     ]
    },
    {
     "name": "stderr",
     "output_type": "stream",
     "text": [
      "2023-03-20 10:36:51 [    INFO] catalystcoop.pudl.metadata.classes:1673 Recoding generators_eia860.energy_source_code_5\n"
     ]
    },
    {
     "name": "stdout",
     "output_type": "stream",
     "text": [
      "Recoding generators_eia860.energy_source_code_5\n"
     ]
    },
    {
     "name": "stderr",
     "output_type": "stream",
     "text": [
      "2023-03-20 10:36:54 [    INFO] catalystcoop.pudl.metadata.classes:1673 Recoding generators_eia860.energy_source_code_6\n"
     ]
    },
    {
     "name": "stdout",
     "output_type": "stream",
     "text": [
      "Recoding generators_eia860.energy_source_code_6\n"
     ]
    },
    {
     "name": "stderr",
     "output_type": "stream",
     "text": [
      "2023-03-20 10:36:57 [    INFO] catalystcoop.pudl.metadata.classes:1673 Recoding generators_eia860.energy_source_1_transport_1\n"
     ]
    },
    {
     "name": "stdout",
     "output_type": "stream",
     "text": [
      "Recoding generators_eia860.energy_source_1_transport_1\n"
     ]
    },
    {
     "name": "stderr",
     "output_type": "stream",
     "text": [
      "2023-03-20 10:36:59 [    INFO] catalystcoop.pudl.metadata.classes:1673 Recoding generators_eia860.energy_source_1_transport_2\n"
     ]
    },
    {
     "name": "stdout",
     "output_type": "stream",
     "text": [
      "Recoding generators_eia860.energy_source_1_transport_2\n"
     ]
    },
    {
     "name": "stderr",
     "output_type": "stream",
     "text": [
      "2023-03-20 10:37:01 [    INFO] catalystcoop.pudl.metadata.classes:1673 Recoding generators_eia860.energy_source_1_transport_3\n"
     ]
    },
    {
     "name": "stdout",
     "output_type": "stream",
     "text": [
      "Recoding generators_eia860.energy_source_1_transport_3\n"
     ]
    },
    {
     "name": "stderr",
     "output_type": "stream",
     "text": [
      "2023-03-20 10:37:04 [    INFO] catalystcoop.pudl.metadata.classes:1673 Recoding generators_eia860.energy_source_2_transport_1\n"
     ]
    },
    {
     "name": "stdout",
     "output_type": "stream",
     "text": [
      "Recoding generators_eia860.energy_source_2_transport_1\n"
     ]
    },
    {
     "name": "stderr",
     "output_type": "stream",
     "text": [
      "2023-03-20 10:37:06 [    INFO] catalystcoop.pudl.metadata.classes:1673 Recoding generators_eia860.energy_source_2_transport_2\n"
     ]
    },
    {
     "name": "stdout",
     "output_type": "stream",
     "text": [
      "Recoding generators_eia860.energy_source_2_transport_2\n"
     ]
    },
    {
     "name": "stderr",
     "output_type": "stream",
     "text": [
      "2023-03-20 10:37:08 [    INFO] catalystcoop.pudl.metadata.classes:1673 Recoding generators_eia860.energy_source_2_transport_3\n"
     ]
    },
    {
     "name": "stdout",
     "output_type": "stream",
     "text": [
      "Recoding generators_eia860.energy_source_2_transport_3\n"
     ]
    },
    {
     "name": "stderr",
     "output_type": "stream",
     "text": [
      "2023-03-20 10:37:11 [    INFO] catalystcoop.pudl.metadata.classes:1673 Recoding generators_eia860.planned_new_prime_mover_code\n"
     ]
    },
    {
     "name": "stdout",
     "output_type": "stream",
     "text": [
      "Recoding generators_eia860.planned_new_prime_mover_code\n"
     ]
    },
    {
     "name": "stderr",
     "output_type": "stream",
     "text": [
      "2023-03-20 10:37:12 [    INFO] catalystcoop.pudl.metadata.classes:1673 Recoding generators_eia860.planned_energy_source_code_1\n"
     ]
    },
    {
     "name": "stdout",
     "output_type": "stream",
     "text": [
      "Recoding generators_eia860.planned_energy_source_code_1\n"
     ]
    },
    {
     "name": "stderr",
     "output_type": "stream",
     "text": [
      "2023-03-20 10:37:15 [    INFO] catalystcoop.pudl.metadata.classes:1673 Recoding generators_eia860.startup_source_code_1\n"
     ]
    },
    {
     "name": "stdout",
     "output_type": "stream",
     "text": [
      "Recoding generators_eia860.startup_source_code_1\n"
     ]
    },
    {
     "name": "stderr",
     "output_type": "stream",
     "text": [
      "2023-03-20 10:37:18 [    INFO] catalystcoop.pudl.metadata.classes:1673 Recoding generators_eia860.startup_source_code_2\n"
     ]
    },
    {
     "name": "stdout",
     "output_type": "stream",
     "text": [
      "Recoding generators_eia860.startup_source_code_2\n"
     ]
    },
    {
     "name": "stderr",
     "output_type": "stream",
     "text": [
      "2023-03-20 10:37:20 [    INFO] catalystcoop.pudl.metadata.classes:1673 Recoding generators_eia860.startup_source_code_3\n"
     ]
    },
    {
     "name": "stdout",
     "output_type": "stream",
     "text": [
      "Recoding generators_eia860.startup_source_code_3\n"
     ]
    },
    {
     "name": "stderr",
     "output_type": "stream",
     "text": [
      "2023-03-20 10:37:23 [    INFO] catalystcoop.pudl.metadata.classes:1673 Recoding generators_eia860.startup_source_code_4\n"
     ]
    },
    {
     "name": "stdout",
     "output_type": "stream",
     "text": [
      "Recoding generators_eia860.startup_source_code_4\n"
     ]
    },
    {
     "name": "stderr",
     "output_type": "stream",
     "text": [
      "2023-03-20 10:37:26 [    INFO] catalystcoop.pudl.metadata.classes:1673 Recoding generators_eia860.data_maturity\n"
     ]
    },
    {
     "name": "stdout",
     "output_type": "stream",
     "text": [
      "Recoding generators_eia860.data_maturity\n"
     ]
    },
    {
     "name": "stderr",
     "output_type": "stream",
     "text": [
      "2023-03-20 10:40:05 [    INFO] catalystcoop.pudl.transform.eia:543 Average consistency of static generators values is 99.46%\n"
     ]
    },
    {
     "name": "stdout",
     "output_type": "stream",
     "text": [
      "Average consistency of static generators values is 99.46%\n"
     ]
    },
    {
     "name": "stderr",
     "output_type": "stream",
     "text": [
      "2023-03-20 10:40:05 [    INFO] catalystcoop.pudl.transform.eia:1180 Harvesting IDs & consistently static attributes for EIA boilers\n"
     ]
    },
    {
     "name": "stdout",
     "output_type": "stream",
     "text": [
      "Harvesting IDs & consistently static attributes for EIA boilers\n"
     ]
    },
    {
     "name": "stderr",
     "output_type": "stream",
     "text": [
      "2023-03-20 10:40:14 [    INFO] catalystcoop.pudl.metadata.classes:1673 Recoding boilers_eia860.boiler_status\n"
     ]
    },
    {
     "name": "stdout",
     "output_type": "stream",
     "text": [
      "Recoding boilers_eia860.boiler_status\n"
     ]
    },
    {
     "name": "stderr",
     "output_type": "stream",
     "text": [
      "2023-03-20 10:40:16 [    INFO] catalystcoop.pudl.metadata.classes:1673 Recoding boilers_eia860.boiler_type\n"
     ]
    },
    {
     "name": "stdout",
     "output_type": "stream",
     "text": [
      "Recoding boilers_eia860.boiler_type\n"
     ]
    },
    {
     "name": "stderr",
     "output_type": "stream",
     "text": [
      "2023-03-20 10:40:17 [    INFO] catalystcoop.pudl.metadata.classes:1673 Recoding boilers_eia860.firing_type_1\n"
     ]
    },
    {
     "name": "stdout",
     "output_type": "stream",
     "text": [
      "Recoding boilers_eia860.firing_type_1\n"
     ]
    },
    {
     "name": "stderr",
     "output_type": "stream",
     "text": [
      "2023-03-20 10:40:19 [    INFO] catalystcoop.pudl.metadata.classes:1673 Recoding boilers_eia860.firing_type_2\n"
     ]
    },
    {
     "name": "stdout",
     "output_type": "stream",
     "text": [
      "Recoding boilers_eia860.firing_type_2\n"
     ]
    },
    {
     "name": "stderr",
     "output_type": "stream",
     "text": [
      "2023-03-20 10:40:21 [    INFO] catalystcoop.pudl.metadata.classes:1673 Recoding boilers_eia860.firing_type_3\n"
     ]
    },
    {
     "name": "stdout",
     "output_type": "stream",
     "text": [
      "Recoding boilers_eia860.firing_type_3\n"
     ]
    },
    {
     "name": "stderr",
     "output_type": "stream",
     "text": [
      "2023-03-20 10:40:23 [    INFO] catalystcoop.pudl.metadata.classes:1673 Recoding boilers_eia860.boiler_fuel_code_1\n"
     ]
    },
    {
     "name": "stdout",
     "output_type": "stream",
     "text": [
      "Recoding boilers_eia860.boiler_fuel_code_1\n"
     ]
    },
    {
     "name": "stderr",
     "output_type": "stream",
     "text": [
      "2023-03-20 10:40:26 [    INFO] catalystcoop.pudl.metadata.classes:1673 Recoding boilers_eia860.boiler_fuel_code_2\n"
     ]
    },
    {
     "name": "stdout",
     "output_type": "stream",
     "text": [
      "Recoding boilers_eia860.boiler_fuel_code_2\n"
     ]
    },
    {
     "name": "stderr",
     "output_type": "stream",
     "text": [
      "2023-03-20 10:40:29 [    INFO] catalystcoop.pudl.metadata.classes:1673 Recoding boilers_eia860.boiler_fuel_code_3\n"
     ]
    },
    {
     "name": "stdout",
     "output_type": "stream",
     "text": [
      "Recoding boilers_eia860.boiler_fuel_code_3\n"
     ]
    },
    {
     "name": "stderr",
     "output_type": "stream",
     "text": [
      "2023-03-20 10:40:33 [    INFO] catalystcoop.pudl.metadata.classes:1673 Recoding boilers_eia860.boiler_fuel_code_4\n"
     ]
    },
    {
     "name": "stdout",
     "output_type": "stream",
     "text": [
      "Recoding boilers_eia860.boiler_fuel_code_4\n"
     ]
    },
    {
     "name": "stderr",
     "output_type": "stream",
     "text": [
      "2023-03-20 10:40:37 [    INFO] catalystcoop.pudl.metadata.classes:1673 Recoding boilers_eia860.wet_dry_bottom\n"
     ]
    },
    {
     "name": "stdout",
     "output_type": "stream",
     "text": [
      "Recoding boilers_eia860.wet_dry_bottom\n"
     ]
    },
    {
     "name": "stderr",
     "output_type": "stream",
     "text": [
      "2023-03-20 10:40:38 [    INFO] catalystcoop.pudl.metadata.classes:1673 Recoding boilers_eia860.regulation_particulate\n"
     ]
    },
    {
     "name": "stdout",
     "output_type": "stream",
     "text": [
      "Recoding boilers_eia860.regulation_particulate\n"
     ]
    },
    {
     "name": "stderr",
     "output_type": "stream",
     "text": [
      "2023-03-20 10:40:41 [    INFO] catalystcoop.pudl.metadata.classes:1673 Recoding boilers_eia860.regulation_so2\n"
     ]
    },
    {
     "name": "stdout",
     "output_type": "stream",
     "text": [
      "Recoding boilers_eia860.regulation_so2\n"
     ]
    },
    {
     "name": "stderr",
     "output_type": "stream",
     "text": [
      "2023-03-20 10:40:44 [    INFO] catalystcoop.pudl.metadata.classes:1673 Recoding boilers_eia860.regulation_nox\n"
     ]
    },
    {
     "name": "stdout",
     "output_type": "stream",
     "text": [
      "Recoding boilers_eia860.regulation_nox\n"
     ]
    },
    {
     "name": "stderr",
     "output_type": "stream",
     "text": [
      "2023-03-20 10:40:46 [    INFO] catalystcoop.pudl.metadata.classes:1673 Recoding boilers_eia860.unit_particulate\n"
     ]
    },
    {
     "name": "stdout",
     "output_type": "stream",
     "text": [
      "Recoding boilers_eia860.unit_particulate\n"
     ]
    },
    {
     "name": "stderr",
     "output_type": "stream",
     "text": [
      "2023-03-20 10:40:48 [    INFO] catalystcoop.pudl.metadata.classes:1673 Recoding boilers_eia860.unit_so2\n"
     ]
    },
    {
     "name": "stdout",
     "output_type": "stream",
     "text": [
      "Recoding boilers_eia860.unit_so2\n"
     ]
    },
    {
     "name": "stderr",
     "output_type": "stream",
     "text": [
      "2023-03-20 10:40:50 [    INFO] catalystcoop.pudl.metadata.classes:1673 Recoding boilers_eia860.unit_nox\n"
     ]
    },
    {
     "name": "stdout",
     "output_type": "stream",
     "text": [
      "Recoding boilers_eia860.unit_nox\n"
     ]
    },
    {
     "name": "stderr",
     "output_type": "stream",
     "text": [
      "2023-03-20 10:40:52 [    INFO] catalystcoop.pudl.metadata.classes:1673 Recoding boilers_eia860.particulate_control_out_of_compliance_strategy_1\n"
     ]
    },
    {
     "name": "stdout",
     "output_type": "stream",
     "text": [
      "Recoding boilers_eia860.particulate_control_out_of_compliance_strategy_1\n"
     ]
    },
    {
     "name": "stderr",
     "output_type": "stream",
     "text": [
      "2023-03-20 10:40:52 [    INFO] catalystcoop.pudl.metadata.classes:1673 Recoding boilers_eia860.particulate_control_out_of_compliance_strategy_2\n"
     ]
    },
    {
     "name": "stdout",
     "output_type": "stream",
     "text": [
      "Recoding boilers_eia860.particulate_control_out_of_compliance_strategy_2\n"
     ]
    },
    {
     "name": "stderr",
     "output_type": "stream",
     "text": [
      "2023-03-20 10:40:53 [    INFO] catalystcoop.pudl.metadata.classes:1673 Recoding boilers_eia860.particulate_control_out_of_compliance_strategy_3\n"
     ]
    },
    {
     "name": "stdout",
     "output_type": "stream",
     "text": [
      "Recoding boilers_eia860.particulate_control_out_of_compliance_strategy_3\n"
     ]
    },
    {
     "name": "stderr",
     "output_type": "stream",
     "text": [
      "2023-03-20 10:40:54 [    INFO] catalystcoop.pudl.metadata.classes:1673 Recoding boilers_eia860.so2_control_out_of_compliance_strategy_1\n"
     ]
    },
    {
     "name": "stdout",
     "output_type": "stream",
     "text": [
      "Recoding boilers_eia860.so2_control_out_of_compliance_strategy_1\n"
     ]
    },
    {
     "name": "stderr",
     "output_type": "stream",
     "text": [
      "2023-03-20 10:40:54 [    INFO] catalystcoop.pudl.metadata.classes:1673 Recoding boilers_eia860.so2_control_out_of_compliance_strategy_2\n"
     ]
    },
    {
     "name": "stdout",
     "output_type": "stream",
     "text": [
      "Recoding boilers_eia860.so2_control_out_of_compliance_strategy_2\n"
     ]
    },
    {
     "name": "stderr",
     "output_type": "stream",
     "text": [
      "2023-03-20 10:40:55 [    INFO] catalystcoop.pudl.metadata.classes:1673 Recoding boilers_eia860.so2_control_out_of_compliance_strategy_3\n"
     ]
    },
    {
     "name": "stdout",
     "output_type": "stream",
     "text": [
      "Recoding boilers_eia860.so2_control_out_of_compliance_strategy_3\n"
     ]
    },
    {
     "name": "stderr",
     "output_type": "stream",
     "text": [
      "2023-03-20 10:40:55 [    INFO] catalystcoop.pudl.metadata.classes:1673 Recoding boilers_eia860.so2_control_existing_caaa_compliance_strategy_1\n"
     ]
    },
    {
     "name": "stdout",
     "output_type": "stream",
     "text": [
      "Recoding boilers_eia860.so2_control_existing_caaa_compliance_strategy_1\n"
     ]
    },
    {
     "name": "stderr",
     "output_type": "stream",
     "text": [
      "2023-03-20 10:40:56 [    INFO] catalystcoop.pudl.metadata.classes:1673 Recoding boilers_eia860.so2_control_existing_caaa_compliance_strategy_2\n"
     ]
    },
    {
     "name": "stdout",
     "output_type": "stream",
     "text": [
      "Recoding boilers_eia860.so2_control_existing_caaa_compliance_strategy_2\n"
     ]
    },
    {
     "name": "stderr",
     "output_type": "stream",
     "text": [
      "2023-03-20 10:40:57 [    INFO] catalystcoop.pudl.metadata.classes:1673 Recoding boilers_eia860.so2_control_existing_caaa_compliance_strategy_3\n"
     ]
    },
    {
     "name": "stdout",
     "output_type": "stream",
     "text": [
      "Recoding boilers_eia860.so2_control_existing_caaa_compliance_strategy_3\n"
     ]
    },
    {
     "name": "stderr",
     "output_type": "stream",
     "text": [
      "2023-03-20 10:40:57 [    INFO] catalystcoop.pudl.metadata.classes:1673 Recoding boilers_eia860.so2_control_planned_caaa_compliance_strategy_1\n"
     ]
    },
    {
     "name": "stdout",
     "output_type": "stream",
     "text": [
      "Recoding boilers_eia860.so2_control_planned_caaa_compliance_strategy_1\n"
     ]
    },
    {
     "name": "stderr",
     "output_type": "stream",
     "text": [
      "2023-03-20 10:40:58 [    INFO] catalystcoop.pudl.metadata.classes:1673 Recoding boilers_eia860.so2_control_planned_caaa_compliance_strategy_2\n"
     ]
    },
    {
     "name": "stdout",
     "output_type": "stream",
     "text": [
      "Recoding boilers_eia860.so2_control_planned_caaa_compliance_strategy_2\n"
     ]
    },
    {
     "name": "stderr",
     "output_type": "stream",
     "text": [
      "2023-03-20 10:40:58 [    INFO] catalystcoop.pudl.metadata.classes:1673 Recoding boilers_eia860.so2_control_planned_caaa_compliance_strategy_3\n"
     ]
    },
    {
     "name": "stdout",
     "output_type": "stream",
     "text": [
      "Recoding boilers_eia860.so2_control_planned_caaa_compliance_strategy_3\n"
     ]
    },
    {
     "name": "stderr",
     "output_type": "stream",
     "text": [
      "2023-03-20 10:40:59 [    INFO] catalystcoop.pudl.metadata.classes:1673 Recoding boilers_eia860.nox_control_out_of_compliance_strategy_1\n"
     ]
    },
    {
     "name": "stdout",
     "output_type": "stream",
     "text": [
      "Recoding boilers_eia860.nox_control_out_of_compliance_strategy_1\n"
     ]
    },
    {
     "name": "stderr",
     "output_type": "stream",
     "text": [
      "2023-03-20 10:40:59 [    INFO] catalystcoop.pudl.metadata.classes:1673 Recoding boilers_eia860.nox_control_out_of_compliance_strategy_2\n"
     ]
    },
    {
     "name": "stdout",
     "output_type": "stream",
     "text": [
      "Recoding boilers_eia860.nox_control_out_of_compliance_strategy_2\n"
     ]
    },
    {
     "name": "stderr",
     "output_type": "stream",
     "text": [
      "2023-03-20 10:41:00 [    INFO] catalystcoop.pudl.metadata.classes:1673 Recoding boilers_eia860.nox_control_out_of_compliance_strategy_3\n"
     ]
    },
    {
     "name": "stdout",
     "output_type": "stream",
     "text": [
      "Recoding boilers_eia860.nox_control_out_of_compliance_strategy_3\n"
     ]
    },
    {
     "name": "stderr",
     "output_type": "stream",
     "text": [
      "2023-03-20 10:41:01 [    INFO] catalystcoop.pudl.metadata.classes:1673 Recoding boilers_eia860.nox_control_existing_caaa_compliance_strategy_1\n"
     ]
    },
    {
     "name": "stdout",
     "output_type": "stream",
     "text": [
      "Recoding boilers_eia860.nox_control_existing_caaa_compliance_strategy_1\n"
     ]
    },
    {
     "name": "stderr",
     "output_type": "stream",
     "text": [
      "2023-03-20 10:41:01 [    INFO] catalystcoop.pudl.metadata.classes:1673 Recoding boilers_eia860.nox_control_existing_caaa_compliance_strategy_2\n"
     ]
    },
    {
     "name": "stdout",
     "output_type": "stream",
     "text": [
      "Recoding boilers_eia860.nox_control_existing_caaa_compliance_strategy_2\n"
     ]
    },
    {
     "name": "stderr",
     "output_type": "stream",
     "text": [
      "2023-03-20 10:41:02 [    INFO] catalystcoop.pudl.metadata.classes:1673 Recoding boilers_eia860.nox_control_existing_caaa_compliance_strategy_3\n"
     ]
    },
    {
     "name": "stdout",
     "output_type": "stream",
     "text": [
      "Recoding boilers_eia860.nox_control_existing_caaa_compliance_strategy_3\n"
     ]
    },
    {
     "name": "stderr",
     "output_type": "stream",
     "text": [
      "2023-03-20 10:41:02 [    INFO] catalystcoop.pudl.metadata.classes:1673 Recoding boilers_eia860.nox_control_planned_caaa_compliance_strategy_1\n"
     ]
    },
    {
     "name": "stdout",
     "output_type": "stream",
     "text": [
      "Recoding boilers_eia860.nox_control_planned_caaa_compliance_strategy_1\n"
     ]
    },
    {
     "name": "stderr",
     "output_type": "stream",
     "text": [
      "2023-03-20 10:41:03 [    INFO] catalystcoop.pudl.metadata.classes:1673 Recoding boilers_eia860.nox_control_planned_caaa_compliance_strategy_2\n"
     ]
    },
    {
     "name": "stdout",
     "output_type": "stream",
     "text": [
      "Recoding boilers_eia860.nox_control_planned_caaa_compliance_strategy_2\n"
     ]
    },
    {
     "name": "stderr",
     "output_type": "stream",
     "text": [
      "2023-03-20 10:41:04 [    INFO] catalystcoop.pudl.metadata.classes:1673 Recoding boilers_eia860.nox_control_planned_caaa_compliance_strategy_3\n"
     ]
    },
    {
     "name": "stdout",
     "output_type": "stream",
     "text": [
      "Recoding boilers_eia860.nox_control_planned_caaa_compliance_strategy_3\n"
     ]
    },
    {
     "name": "stderr",
     "output_type": "stream",
     "text": [
      "2023-03-20 10:41:04 [    INFO] catalystcoop.pudl.metadata.classes:1673 Recoding boilers_eia860.mercury_control_existing_strategy_1\n"
     ]
    },
    {
     "name": "stdout",
     "output_type": "stream",
     "text": [
      "Recoding boilers_eia860.mercury_control_existing_strategy_1\n"
     ]
    },
    {
     "name": "stderr",
     "output_type": "stream",
     "text": [
      "2023-03-20 10:41:06 [    INFO] catalystcoop.pudl.metadata.classes:1673 Recoding boilers_eia860.mercury_control_existing_strategy_2\n"
     ]
    },
    {
     "name": "stdout",
     "output_type": "stream",
     "text": [
      "Recoding boilers_eia860.mercury_control_existing_strategy_2\n"
     ]
    },
    {
     "name": "stderr",
     "output_type": "stream",
     "text": [
      "2023-03-20 10:41:08 [    INFO] catalystcoop.pudl.metadata.classes:1673 Recoding boilers_eia860.mercury_control_existing_strategy_3\n"
     ]
    },
    {
     "name": "stdout",
     "output_type": "stream",
     "text": [
      "Recoding boilers_eia860.mercury_control_existing_strategy_3\n"
     ]
    },
    {
     "name": "stderr",
     "output_type": "stream",
     "text": [
      "2023-03-20 10:41:10 [    INFO] catalystcoop.pudl.metadata.classes:1673 Recoding boilers_eia860.mercury_control_existing_strategy_4\n"
     ]
    },
    {
     "name": "stdout",
     "output_type": "stream",
     "text": [
      "Recoding boilers_eia860.mercury_control_existing_strategy_4\n"
     ]
    },
    {
     "name": "stderr",
     "output_type": "stream",
     "text": [
      "2023-03-20 10:41:11 [    INFO] catalystcoop.pudl.metadata.classes:1673 Recoding boilers_eia860.mercury_control_existing_strategy_5\n"
     ]
    },
    {
     "name": "stdout",
     "output_type": "stream",
     "text": [
      "Recoding boilers_eia860.mercury_control_existing_strategy_5\n"
     ]
    },
    {
     "name": "stderr",
     "output_type": "stream",
     "text": [
      "2023-03-20 10:41:13 [    INFO] catalystcoop.pudl.metadata.classes:1673 Recoding boilers_eia860.mercury_control_existing_strategy_6\n"
     ]
    },
    {
     "name": "stdout",
     "output_type": "stream",
     "text": [
      "Recoding boilers_eia860.mercury_control_existing_strategy_6\n"
     ]
    },
    {
     "name": "stderr",
     "output_type": "stream",
     "text": [
      "2023-03-20 10:41:15 [    INFO] catalystcoop.pudl.metadata.classes:1673 Recoding boilers_eia860.mercury_control_proposed_strategy_1\n"
     ]
    },
    {
     "name": "stdout",
     "output_type": "stream",
     "text": [
      "Recoding boilers_eia860.mercury_control_proposed_strategy_1\n"
     ]
    },
    {
     "name": "stderr",
     "output_type": "stream",
     "text": [
      "2023-03-20 10:41:17 [    INFO] catalystcoop.pudl.metadata.classes:1673 Recoding boilers_eia860.mercury_control_proposed_strategy_2\n"
     ]
    },
    {
     "name": "stdout",
     "output_type": "stream",
     "text": [
      "Recoding boilers_eia860.mercury_control_proposed_strategy_2\n"
     ]
    },
    {
     "name": "stderr",
     "output_type": "stream",
     "text": [
      "2023-03-20 10:41:19 [    INFO] catalystcoop.pudl.metadata.classes:1673 Recoding boilers_eia860.mercury_control_proposed_strategy_3\n"
     ]
    },
    {
     "name": "stdout",
     "output_type": "stream",
     "text": [
      "Recoding boilers_eia860.mercury_control_proposed_strategy_3\n"
     ]
    },
    {
     "name": "stderr",
     "output_type": "stream",
     "text": [
      "2023-03-20 10:41:21 [    INFO] catalystcoop.pudl.metadata.classes:1673 Recoding boilers_eia860.nox_control_manufacturer_code\n"
     ]
    },
    {
     "name": "stdout",
     "output_type": "stream",
     "text": [
      "Recoding boilers_eia860.nox_control_manufacturer_code\n"
     ]
    },
    {
     "name": "stderr",
     "output_type": "stream",
     "text": [
      "2023-03-20 10:41:21 [    INFO] catalystcoop.pudl.metadata.classes:1673 Recoding boilers_eia860.nox_control_status_code\n"
     ]
    },
    {
     "name": "stdout",
     "output_type": "stream",
     "text": [
      "Recoding boilers_eia860.nox_control_status_code\n"
     ]
    },
    {
     "name": "stderr",
     "output_type": "stream",
     "text": [
      "2023-03-20 10:41:22 [    INFO] catalystcoop.pudl.metadata.classes:1673 Recoding boilers_eia860.regulation_mercury\n"
     ]
    },
    {
     "name": "stdout",
     "output_type": "stream",
     "text": [
      "Recoding boilers_eia860.regulation_mercury\n"
     ]
    },
    {
     "name": "stderr",
     "output_type": "stream",
     "text": [
      "2023-03-20 10:41:25 [    INFO] catalystcoop.pudl.metadata.classes:1673 Recoding boilers_eia860.data_maturity\n"
     ]
    },
    {
     "name": "stdout",
     "output_type": "stream",
     "text": [
      "Recoding boilers_eia860.data_maturity\n"
     ]
    },
    {
     "name": "stderr",
     "output_type": "stream",
     "text": [
      "2023-03-20 10:42:18 [    INFO] catalystcoop.pudl.transform.eia:543 Average consistency of static boilers values is 99.99%\n"
     ]
    },
    {
     "name": "stdout",
     "output_type": "stream",
     "text": [
      "Average consistency of static boilers values is 99.99%\n"
     ]
    },
    {
     "name": "stderr",
     "output_type": "stream",
     "text": [
      "2023-03-20 10:42:19 [    INFO] catalystcoop.pudl.transform.eia:1180 Harvesting IDs & consistently static attributes for EIA utilities\n"
     ]
    },
    {
     "name": "stdout",
     "output_type": "stream",
     "text": [
      "Harvesting IDs & consistently static attributes for EIA utilities\n"
     ]
    },
    {
     "name": "stderr",
     "output_type": "stream",
     "text": [
      "2023-03-20 10:42:21 [    INFO] catalystcoop.pudl.metadata.classes:1673 Recoding utilities_eia860.data_maturity\n"
     ]
    },
    {
     "name": "stdout",
     "output_type": "stream",
     "text": [
      "Recoding utilities_eia860.data_maturity\n"
     ]
    },
    {
     "name": "stderr",
     "output_type": "stream",
     "text": [
      "2023-03-20 10:42:34 [    INFO] catalystcoop.pudl.transform.eia:543 Average consistency of static utilities values is 99.98%\n"
     ]
    },
    {
     "name": "stdout",
     "output_type": "stream",
     "text": [
      "Average consistency of static utilities values is 99.98%\n"
     ]
    },
    {
     "name": "stderr",
     "output_type": "stream",
     "text": [
      "2023-03-20 10:42:34 [    INFO] catalystcoop.pudl.transform.eia:619 Inferring complete EIA boiler-generator associations.\n"
     ]
    },
    {
     "name": "stdout",
     "output_type": "stream",
     "text": [
      "Inferring complete EIA boiler-generator associations.\n"
     ]
    },
    {
     "name": "stderr",
     "output_type": "stream",
     "text": [
      "2023-03-20 10:43:07 [ WARNING] catalystcoop.pudl.transform.eia:924 Multiple EIA unit codes:plant_id_eia=1004, unit_id_pudl=3, unit_id_eia=['G108' '1' 'CT1']\n"
     ]
    },
    {
     "name": "stdout",
     "output_type": "stream",
     "text": [
      "Multiple EIA unit codes:plant_id_eia=1004, unit_id_pudl=3, unit_id_eia=['G108' '1' 'CT1']\n"
     ]
    },
    {
     "name": "stderr",
     "output_type": "stream",
     "text": [
      "2023-03-20 10:43:07 [ WARNING] catalystcoop.pudl.transform.eia:924 Multiple EIA unit codes:plant_id_eia=1904, unit_id_pudl=1, unit_id_eia=['HBR0' 'BDS0']\n"
     ]
    },
    {
     "name": "stdout",
     "output_type": "stream",
     "text": [
      "Multiple EIA unit codes:plant_id_eia=1904, unit_id_pudl=1, unit_id_eia=['HBR0' 'BDS0']\n"
     ]
    },
    {
     "name": "stderr",
     "output_type": "stream",
     "text": [
      "2023-03-20 10:43:07 [ WARNING] catalystcoop.pudl.transform.eia:924 Multiple EIA unit codes:plant_id_eia=1927, unit_id_pudl=2, unit_id_eia=['HBR0' 'RIV0']\n"
     ]
    },
    {
     "name": "stdout",
     "output_type": "stream",
     "text": [
      "Multiple EIA unit codes:plant_id_eia=1927, unit_id_pudl=2, unit_id_eia=['HBR0' 'RIV0']\n"
     ]
    },
    {
     "name": "stderr",
     "output_type": "stream",
     "text": [
      "2023-03-20 10:43:07 [ WARNING] catalystcoop.pudl.transform.eia:924 Multiple EIA unit codes:plant_id_eia=4040, unit_id_pudl=1, unit_id_eia=['PWG1' 'PWG2']\n"
     ]
    },
    {
     "name": "stdout",
     "output_type": "stream",
     "text": [
      "Multiple EIA unit codes:plant_id_eia=4040, unit_id_pudl=1, unit_id_eia=['PWG1' 'PWG2']\n"
     ]
    },
    {
     "name": "stderr",
     "output_type": "stream",
     "text": [
      "2023-03-20 10:43:07 [ WARNING] catalystcoop.pudl.transform.eia:924 Multiple EIA unit codes:plant_id_eia=7242, unit_id_pudl=1, unit_id_eia=['CC1' 'CC2']\n"
     ]
    },
    {
     "name": "stdout",
     "output_type": "stream",
     "text": [
      "Multiple EIA unit codes:plant_id_eia=7242, unit_id_pudl=1, unit_id_eia=['CC1' 'CC2']\n"
     ]
    },
    {
     "name": "stderr",
     "output_type": "stream",
     "text": [
      "2023-03-20 10:43:07 [ WARNING] catalystcoop.pudl.transform.eia:924 Multiple EIA unit codes:plant_id_eia=7757, unit_id_pudl=1, unit_id_eia=['CC1' 'CC2']\n"
     ]
    },
    {
     "name": "stdout",
     "output_type": "stream",
     "text": [
      "Multiple EIA unit codes:plant_id_eia=7757, unit_id_pudl=1, unit_id_eia=['CC1' 'CC2']\n"
     ]
    },
    {
     "name": "stderr",
     "output_type": "stream",
     "text": [
      "2023-03-20 10:43:07 [ WARNING] catalystcoop.pudl.transform.eia:924 Multiple EIA unit codes:plant_id_eia=10725, unit_id_pudl=1, unit_id_eia=['F801' 'F802']\n"
     ]
    },
    {
     "name": "stdout",
     "output_type": "stream",
     "text": [
      "Multiple EIA unit codes:plant_id_eia=10725, unit_id_pudl=1, unit_id_eia=['F801' 'F802']\n"
     ]
    },
    {
     "name": "stderr",
     "output_type": "stream",
     "text": [
      "2023-03-20 10:43:07 [ WARNING] catalystcoop.pudl.transform.eia:924 Multiple EIA unit codes:plant_id_eia=50973, unit_id_pudl=1, unit_id_eia=['BLK1' 'BLK2' 'BLK3']\n"
     ]
    },
    {
     "name": "stdout",
     "output_type": "stream",
     "text": [
      "Multiple EIA unit codes:plant_id_eia=50973, unit_id_pudl=1, unit_id_eia=['BLK1' 'BLK2' 'BLK3']\n"
     ]
    },
    {
     "name": "stderr",
     "output_type": "stream",
     "text": [
      "2023-03-20 10:43:07 [ WARNING] catalystcoop.pudl.transform.eia:924 Multiple EIA unit codes:plant_id_eia=55153, unit_id_pudl=1, unit_id_eia=['STG1' 'STG2']\n"
     ]
    },
    {
     "name": "stdout",
     "output_type": "stream",
     "text": [
      "Multiple EIA unit codes:plant_id_eia=55153, unit_id_pudl=1, unit_id_eia=['STG1' 'STG2']\n"
     ]
    },
    {
     "name": "stderr",
     "output_type": "stream",
     "text": [
      "2023-03-20 10:43:07 [ WARNING] catalystcoop.pudl.transform.eia:924 Multiple EIA unit codes:plant_id_eia=55309, unit_id_pudl=1, unit_id_eia=['SMR2' 'SMR1']\n"
     ]
    },
    {
     "name": "stdout",
     "output_type": "stream",
     "text": [
      "Multiple EIA unit codes:plant_id_eia=55309, unit_id_pudl=1, unit_id_eia=['SMR2' 'SMR1']\n"
     ]
    },
    {
     "name": "stderr",
     "output_type": "stream",
     "text": [
      "2023-03-20 10:43:07 [ WARNING] catalystcoop.pudl.transform.eia:924 Multiple EIA unit codes:plant_id_eia=55502, unit_id_pudl=1, unit_id_eia=['G801' 'CC1' 'CC2']\n"
     ]
    },
    {
     "name": "stdout",
     "output_type": "stream",
     "text": [
      "Multiple EIA unit codes:plant_id_eia=55502, unit_id_pudl=1, unit_id_eia=['G801' 'CC1' 'CC2']\n"
     ]
    },
    {
     "name": "stderr",
     "output_type": "stream",
     "text": [
      "2023-03-20 10:43:07 [ WARNING] catalystcoop.pudl.transform.eia:924 Multiple EIA unit codes:plant_id_eia=55701, unit_id_pudl=1, unit_id_eia=['CC1' 'G961']\n"
     ]
    },
    {
     "name": "stdout",
     "output_type": "stream",
     "text": [
      "Multiple EIA unit codes:plant_id_eia=55701, unit_id_pudl=1, unit_id_eia=['CC1' 'G961']\n"
     ]
    },
    {
     "name": "stderr",
     "output_type": "stream",
     "text": [
      "2023-03-20 10:43:07 [ WARNING] catalystcoop.pudl.transform.eia:924 Multiple EIA unit codes:plant_id_eia=56041, unit_id_pudl=1, unit_id_eia=['NGS' 'MGS']\n"
     ]
    },
    {
     "name": "stdout",
     "output_type": "stream",
     "text": [
      "Multiple EIA unit codes:plant_id_eia=56041, unit_id_pudl=1, unit_id_eia=['NGS' 'MGS']\n"
     ]
    },
    {
     "name": "stderr",
     "output_type": "stream",
     "text": [
      "2023-03-20 10:43:07 [ WARNING] catalystcoop.pudl.transform.eia:924 Multiple EIA unit codes:plant_id_eia=56309, unit_id_pudl=1, unit_id_eia=['G401' 'G402']\n"
     ]
    },
    {
     "name": "stdout",
     "output_type": "stream",
     "text": [
      "Multiple EIA unit codes:plant_id_eia=56309, unit_id_pudl=1, unit_id_eia=['G401' 'G402']\n"
     ]
    },
    {
     "name": "stderr",
     "output_type": "stream",
     "text": [
      "2023-03-20 10:43:07 [ WARNING] catalystcoop.pudl.transform.eia:924 Multiple EIA unit codes:plant_id_eia=56350, unit_id_pudl=1, unit_id_eia=['115' 'BLK1']\n"
     ]
    },
    {
     "name": "stdout",
     "output_type": "stream",
     "text": [
      "Multiple EIA unit codes:plant_id_eia=56350, unit_id_pudl=1, unit_id_eia=['115' 'BLK1']\n"
     ]
    },
    {
     "name": "stderr",
     "output_type": "stream",
     "text": [
      "2023-03-20 10:43:07 [ WARNING] catalystcoop.pudl.transform.eia:924 Multiple EIA unit codes:plant_id_eia=56350, unit_id_pudl=2, unit_id_eia=['116' 'BLK2']\n"
     ]
    },
    {
     "name": "stdout",
     "output_type": "stream",
     "text": [
      "Multiple EIA unit codes:plant_id_eia=56350, unit_id_pudl=2, unit_id_eia=['116' 'BLK2']\n"
     ]
    },
    {
     "name": "stderr",
     "output_type": "stream",
     "text": [
      "2023-03-20 10:43:07 [ WARNING] catalystcoop.pudl.transform.eia:924 Multiple EIA unit codes:plant_id_eia=56998, unit_id_pudl=1, unit_id_eia=['43' 'PB4']\n"
     ]
    },
    {
     "name": "stdout",
     "output_type": "stream",
     "text": [
      "Multiple EIA unit codes:plant_id_eia=56998, unit_id_pudl=1, unit_id_eia=['43' 'PB4']\n"
     ]
    },
    {
     "name": "stderr",
     "output_type": "stream",
     "text": [
      "2023-03-20 10:43:07 [ WARNING] catalystcoop.pudl.transform.eia:924 Multiple EIA unit codes:plant_id_eia=56998, unit_id_pudl=2, unit_id_eia=['53' 'PB5']\n"
     ]
    },
    {
     "name": "stdout",
     "output_type": "stream",
     "text": [
      "Multiple EIA unit codes:plant_id_eia=56998, unit_id_pudl=2, unit_id_eia=['53' 'PB5']\n"
     ]
    },
    {
     "name": "stderr",
     "output_type": "stream",
     "text": [
      "2023-03-20 10:43:07 [ WARNING] catalystcoop.pudl.transform.eia:924 Multiple EIA unit codes:plant_id_eia=57666, unit_id_pudl=1, unit_id_eia=['1' '2']\n"
     ]
    },
    {
     "name": "stdout",
     "output_type": "stream",
     "text": [
      "Multiple EIA unit codes:plant_id_eia=57666, unit_id_pudl=1, unit_id_eia=['1' '2']\n"
     ]
    },
    {
     "name": "stderr",
     "output_type": "stream",
     "text": [
      "2023-03-20 10:43:07 [ WARNING] catalystcoop.pudl.transform.eia:924 Multiple EIA unit codes:plant_id_eia=57794, unit_id_pudl=1, unit_id_eia=['CC01' 'CC02']\n"
     ]
    },
    {
     "name": "stdout",
     "output_type": "stream",
     "text": [
      "Multiple EIA unit codes:plant_id_eia=57794, unit_id_pudl=1, unit_id_eia=['CC01' 'CC02']\n"
     ]
    },
    {
     "name": "stderr",
     "output_type": "stream",
     "text": [
      "2023-03-20 10:43:07 [ WARNING] catalystcoop.pudl.transform.eia:924 Multiple EIA unit codes:plant_id_eia=60786, unit_id_pudl=1, unit_id_eia=['4343' '4141']\n"
     ]
    },
    {
     "name": "stdout",
     "output_type": "stream",
     "text": [
      "Multiple EIA unit codes:plant_id_eia=60786, unit_id_pudl=1, unit_id_eia=['4343' '4141']\n"
     ]
    },
    {
     "name": "stderr",
     "output_type": "stream",
     "text": [
      "2023-03-20 10:43:08 [    INFO] catalystcoop.pudl.transform.eia:1065 filled 30 balancing authority codes using names.\n"
     ]
    },
    {
     "name": "stdout",
     "output_type": "stream",
     "text": [
      "filled 30 balancing authority codes using names.\n"
     ]
    },
    {
     "name": "stderr",
     "output_type": "stream",
     "text": [
      "2023-03-20 10:43:08 [    INFO] catalystcoop.pudl.transform.eia:1108 Spot fixing incorrect PACW/PACE BA codes and names.\n"
     ]
    },
    {
     "name": "stdout",
     "output_type": "stream",
     "text": [
      "Spot fixing incorrect PACW/PACE BA codes and names.\n"
     ]
    },
    {
     "name": "stderr",
     "output_type": "stream",
     "text": [
      "2023-03-20 10:43:13 [    INFO] catalystcoop.pudl.metadata.classes:1673 Recoding boilers_entity_eia.boiler_manufacturer_code\n"
     ]
    },
    {
     "name": "stdout",
     "output_type": "stream",
     "text": [
      "Recoding boilers_entity_eia.boiler_manufacturer_code\n"
     ]
    },
    {
     "name": "stderr",
     "output_type": "stream",
     "text": [
      "2023-03-20 10:43:13 [    INFO] catalystcoop.pudl.metadata.classes:1673 Recoding boilers_entity_eia.prime_mover_code\n"
     ]
    },
    {
     "name": "stdout",
     "output_type": "stream",
     "text": [
      "Recoding boilers_entity_eia.prime_mover_code\n",
      "CPU times: user 9min 27s, sys: 9.99 s, total: 9min 37s\n",
      "Wall time: 9min 38s\n"
     ]
    }
   ],
   "source": [
    "%%time\n",
    "eia_transformed_dfs = eia923_transformed_dfs.copy()\n",
    "eia_transformed_dfs.update(eia860_transformed_dfs.copy())\n",
    "\n",
    "# Do some final cleanup and assign appropriate types:\n",
    "eia_transformed_dfs = {\n",
    "    name: pudl.helpers.convert_cols_dtypes(df, data_source=\"eia\")\n",
    "    for name, df in eia_transformed_dfs.items()\n",
    "}\n",
    "    \n",
    "entities_dfs, eia_transformed_dfs = pudl.transform.eia.transform(\n",
    "    eia_transformed_dfs,\n",
    "    eia_settings=eia_settings,\n",
    ")\n",
    "\n",
    "# Assign appropriate types to new entity tables:\n",
    "entities_dfs = {\n",
    "    name: pudl.metadata.fields.apply_pudl_dtypes(df, group=\"eia\")\n",
    "    for name, df in entities_dfs.items()\n",
    "}\n",
    "\n",
    "for table in entities_dfs:\n",
    "    entities_dfs[table] = (\n",
    "        pudl.metadata.classes.Package.from_resource_ids()\n",
    "        .get_resource(table)\n",
    "        .encode(entities_dfs[table])\n",
    "    )\n",
    "\n",
    "out_dfs = pudl.etl._read_static_encoding_tables(etl_group=\"static_eia\")\n",
    "out_dfs.update(entities_dfs)\n",
    "out_dfs.update(eia_transformed_dfs)"
   ]
  },
  {
   "cell_type": "code",
   "execution_count": null,
   "metadata": {},
   "outputs": [],
   "source": []
  },
  {
   "cell_type": "code",
   "execution_count": null,
   "metadata": {},
   "outputs": [],
   "source": []
  },
  {
   "cell_type": "code",
   "execution_count": null,
   "metadata": {},
   "outputs": [],
   "source": []
  },
  {
   "cell_type": "code",
   "execution_count": null,
   "metadata": {},
   "outputs": [],
   "source": []
  },
  {
   "cell_type": "code",
   "execution_count": null,
   "metadata": {},
   "outputs": [],
   "source": []
  }
 ],
 "metadata": {
  "kernelspec": {
   "display_name": "Python 3 (ipykernel)",
   "language": "python",
   "name": "python3"
  },
  "language_info": {
   "codemirror_mode": {
    "name": "ipython",
    "version": 3
   },
   "file_extension": ".py",
   "mimetype": "text/x-python",
   "name": "python",
   "nbconvert_exporter": "python",
   "pygments_lexer": "ipython3",
   "version": "3.10.9"
  }
 },
 "nbformat": 4,
 "nbformat_minor": 4
}
