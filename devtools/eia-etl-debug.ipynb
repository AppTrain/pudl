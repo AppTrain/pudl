{
 "cells": [
  {
   "cell_type": "markdown",
   "metadata": {},
   "source": [
    "# Working with the EIA Extract / Transform\n",
    "This notebook steps through PUDL's extract and transform steps for the EIA 860 and 923 datasets, to make it easier to test and add new years of data, or new tables from the various spreadsheets that haven't been integrated yet.\n",
    "\n",
    "## Dagster\n",
    "The extract and transform steps for the EIA 860 and 923 datasets are asset groups where each asset is a dataframe produced by the ETL step. A dagster job is created and executed for each asset group. **Jobs will fail if they are not run in the correct order, i.e. the extract asset group jobs should run before the transformation jobs.** Dagster stores the asset outputs in temporary directory that is available for the duration of the jupyter kernel. If you restart the jupyter kernel you will need to rerun all of the extract and transform steps."
   ]
  },
  {
   "cell_type": "code",
   "execution_count": 1,
   "metadata": {
    "tags": []
   },
   "outputs": [
    {
     "name": "stderr",
     "output_type": "stream",
     "text": [
      "pudl_settings is being depcrated in favor of environment variables PUDL_OUTPUT and PUDL_CACHE\n",
      "pudl_settings is being depcrated in favor of environment variables PUDL_OUTPUT and PUDL_CACHE. For more infosee: https://catalystcoop-pudl.readthedocs.io/en/dev/dev/dev_setup.html\n",
      "sqlite and parquet directories are no longer being used. Make sure there is a single directory named 'output' at the root of your workspace. For more info see: https://catalystcoop-pudl.readthedocs.io/en/dev/dev/dev_setup.html\n",
      "pudl_settings is being depcrated in favor of environment variables PUDL_OUTPUT and PUDL_CACHE\n",
      "pudl_settings is being depcrated in favor of environment variables PUDL_OUTPUT and PUDL_CACHE. For more infosee: https://catalystcoop-pudl.readthedocs.io/en/dev/dev/dev_setup.html\n",
      "sqlite and parquet directories are no longer being used. Make sure there is a single directory named 'output' at the root of your workspace. For more info see: https://catalystcoop-pudl.readthedocs.io/en/dev/dev/dev_setup.html\n"
     ]
    }
   ],
   "source": [
    "%load_ext autoreload\n",
    "%autoreload 3\n",
    "import pudl\n",
    "import logging\n",
    "import sys\n",
    "from pathlib import Path\n",
    "import pandas as pd\n",
    "pd.options.display.max_columns = None"
   ]
  },
  {
   "cell_type": "code",
   "execution_count": 2,
   "metadata": {
    "tags": []
   },
   "outputs": [],
   "source": [
    "logger = logging.getLogger()\n",
    "logger.setLevel(logging.INFO)\n",
    "handler = logging.StreamHandler(stream=sys.stdout)\n",
    "formatter = logging.Formatter('%(message)s')\n",
    "handler.setFormatter(formatter)\n",
    "logger.handlers = [handler]"
   ]
  },
  {
   "cell_type": "markdown",
   "metadata": {},
   "source": [
    "## Set the scope for the Extract-Transform:"
   ]
  },
  {
   "cell_type": "code",
   "execution_count": 3,
   "metadata": {
    "tags": []
   },
   "outputs": [
    {
     "data": {
      "text/plain": [
       "EiaSettings(eia860=Eia860Settings(years=[2021], eia860m=True), eia923=Eia923Settings(years=[2021]))"
      ]
     },
     "execution_count": 3,
     "metadata": {},
     "output_type": "execute_result"
    }
   ],
   "source": [
    "from pudl.settings import Eia860Settings, Eia923Settings, EiaSettings, DatasetsSettings\n",
    "from pudl.metadata.classes import DataSource\n",
    "\n",
    "eia860_data_source = DataSource.from_id(\"eia860\")\n",
    "eia860_settings = Eia860Settings(\n",
    "# Limit the years as needed if you're testing only a few of them. E.g.:\n",
    "    years=[2021],\n",
    "#   years=eia860_data_source.working_partitions[\"years\"]\n",
    ")\n",
    "\n",
    "eia923_data_source = DataSource.from_id(\"eia923\")\n",
    "eia923_settings = Eia923Settings(\n",
    "# Limit the years as needed if you're testing only a few of them. E.g.:\n",
    "    years = [2021]\n",
    "    # years = eia923_data_source.working_partitions[\"years\"]\n",
    ")\n",
    "\n",
    "eia_settings = EiaSettings(eia860=eia860_settings, eia923=eia923_settings)\n",
    "eia_settings"
   ]
  },
  {
   "cell_type": "code",
   "execution_count": 4,
   "metadata": {
    "tags": []
   },
   "outputs": [],
   "source": [
    "from dagster import AssetSelection, Definitions, define_asset_job, fs_io_manager, JobDefinition, AssetKey\n",
    "\n",
    "import pudl\n",
    "from pudl.etl import default_resources, load_dataset_settings_from_file, default_assets\n",
    "from pudl.resources import dataset_settings, datastore\n",
    "\n",
    "def get_job_from_asset_group(asset_group: str, eia_settings: EiaSettings) -> JobDefinition:\n",
    "    \"\"\"Get a job that executes a group of assets.\n",
    "    \n",
    "    Args:\n",
    "        asset_group: the asset group to create a job for.\n",
    "        dataset_settings: the dataset settings configuration.\n",
    "        \n",
    "    Returns:\n",
    "        A job definition for the subset of assets\n",
    "    \"\"\"\n",
    "    # Select the assets in the asset_group\n",
    "    selection = AssetSelection.groups(asset_group)\n",
    "    \n",
    "    # Create dataset configuration\n",
    "    dataset_settings = DatasetsSettings().dict()\n",
    "    dataset_settings[\"eia\"] = eia_settings.dict()\n",
    "    config = {\n",
    "        \"resources\": {\n",
    "            \"dataset_settings\": {\"config\": dataset_settings}\n",
    "        }\n",
    "    }\n",
    "    \n",
    "    jobs = [define_asset_job(f\"{asset_group}_job\", config=config, selection=selection)]\n",
    "    \n",
    "    resources = pudl.etl.default_resources\n",
    "    \n",
    "    # Replace the pudl_sqlite_io_manager with the default IO Manager\n",
    "    # so the final dataframes are loaded to a temporary directory\n",
    "    # instead of the actual database.\n",
    "    resources[\"pudl_sqlite_io_manager\"] = fs_io_manager\n",
    "\n",
    "    return Definitions(\n",
    "        assets=pudl.etl.default_assets,\n",
    "        resources=resources,\n",
    "        jobs=jobs,\n",
    "    ).get_job_def(f\"{asset_group}_job\")\n",
    "\n",
    "def get_asset_group_keys(asset_group: str) -> list[str]:\n",
    "    \"\"\"Get a list of asset names in a given asset group.\n",
    "    \n",
    "    Args:\n",
    "        asset_group: the name of the asset group.\n",
    "    \n",
    "    Return:\n",
    "        A list of asset names in the asset_group.\n",
    "    \"\"\"\n",
    "    asset_keys = AssetSelection.groups(asset_group).resolve(default_assets)\n",
    "    return [asset.to_python_identifier() for asset in list(asset_keys)]"
   ]
  },
  {
   "cell_type": "markdown",
   "metadata": {},
   "source": [
    "# EIA-860"
   ]
  },
  {
   "cell_type": "markdown",
   "metadata": {},
   "source": [
    "## Extract just the EIA-860 / EIA-860m"
   ]
  },
  {
   "cell_type": "code",
   "execution_count": 5,
   "metadata": {
    "tags": []
   },
   "outputs": [
    {
     "name": "stderr",
     "output_type": "stream",
     "text": [
      "2023-03-03 16:04:56 -0900 - dagster - DEBUG - eia860_raw_assets_job - 44d5d180-f907-469d-8d6d-e0eac2290116 - 72134 - RUN_START - Started execution of run for \"eia860_raw_assets_job\".\n",
      "2023-03-03 16:04:56 -0900 - dagster - DEBUG - eia860_raw_assets_job - 44d5d180-f907-469d-8d6d-e0eac2290116 - 72134 - ENGINE_EVENT - Executing steps in process (pid: 72134)\n",
      "2023-03-03 16:04:56 -0900 - dagster - DEBUG - eia860_raw_assets_job - 44d5d180-f907-469d-8d6d-e0eac2290116 - 72134 - extract_eia860 - RESOURCE_INIT_STARTED - Starting initialization of resources [dataset_settings, datastore, io_manager].\n",
      "2023-03-03 16:04:56 -0900 - dagster - DEBUG - eia860_raw_assets_job - 44d5d180-f907-469d-8d6d-e0eac2290116 - 72134 - extract_eia860 - RESOURCE_INIT_SUCCESS - Finished initialization of resources [dataset_settings, datastore, io_manager].\n",
      "2023-03-03 16:04:56 -0900 - dagster - DEBUG - eia860_raw_assets_job - 44d5d180-f907-469d-8d6d-e0eac2290116 - 72134 - LOGS_CAPTURED - Started capturing logs in process (pid: 72134).\n",
      "2023-03-03 16:04:56 -0900 - dagster - DEBUG - eia860_raw_assets_job - 44d5d180-f907-469d-8d6d-e0eac2290116 - 72134 - extract_eia860 - STEP_START - Started execution of step \"extract_eia860\".\n",
      "2023-03-03 16:04:56 [    INFO] catalystcoop.pudl.extract.excel:237 Extracting eia860 spreadsheet data.\n"
     ]
    },
    {
     "name": "stdout",
     "output_type": "stream",
     "text": [
      "Extracting eia860 spreadsheet data.\n",
      "Boiler Cooling\n",
      "Boiler Generator\n",
      "Boiler Mercury\n",
      "Boiler NOx\n",
      "Boiler Particulate Matter\n",
      "Boiler SO2\n",
      "Boiler Stack Flue\n",
      "Emissions Control Equipment\n",
      "Boiler Info & Design Parameters\n",
      "Cooling\n",
      "Emission Standards & Strategies\n",
      "FGD\n",
      "FGP\n",
      "Stack Flue\n",
      "Operable\n",
      "Proposed\n",
      "Retired and Canceled\n",
      "Operable\n",
      "Proposed\n",
      "Retired and Canceled\n",
      "Ownership\n",
      "Plant\n",
      "Utility\n"
     ]
    },
    {
     "name": "stderr",
     "output_type": "stream",
     "text": [
      "2023-03-03 16:05:27 [    INFO] catalystcoop.pudl.extract.excel:237 Extracting eia860m spreadsheet data.\n"
     ]
    },
    {
     "name": "stdout",
     "output_type": "stream",
     "text": [
      "Extracting eia860m spreadsheet data.\n",
      "Operating\n",
      "Canceled or Postponed\n",
      "Operating_PR\n",
      "Planned\n",
      "Planned_PR\n",
      "Retired\n",
      "Retired_PR\n"
     ]
    },
    {
     "name": "stderr",
     "output_type": "stream",
     "text": [
      "2023-03-03 16:05:38 -0900 - dagster - DEBUG - eia860_raw_assets_job - 44d5d180-f907-469d-8d6d-e0eac2290116 - 72134 - extract_eia860 - STEP_OUTPUT - Yielded output \"raw_boiler_cooling_eia860\" of type \"Any\". (Type check passed).\n",
      "2023-03-03 16:05:38 -0900 - dagster - DEBUG - eia860_raw_assets_job - 44d5d180-f907-469d-8d6d-e0eac2290116 - extract_eia860 - Writing file at: /var/folders/ts/zf71sqq50nx4d41fy5xtsxhw0000gn/T/tmp37fkh5hd/storage/raw_boiler_cooling_eia860\n",
      "2023-03-03 16:05:38 -0900 - dagster - DEBUG - eia860_raw_assets_job - 44d5d180-f907-469d-8d6d-e0eac2290116 - 72134 - extract_eia860 - ASSET_MATERIALIZATION - Materialized value raw_boiler_cooling_eia860.\n",
      "2023-03-03 16:05:38 -0900 - dagster - DEBUG - eia860_raw_assets_job - 44d5d180-f907-469d-8d6d-e0eac2290116 - 72134 - extract_eia860 - HANDLED_OUTPUT - Handled output \"raw_boiler_cooling_eia860\" using IO manager \"io_manager\"\n",
      "2023-03-03 16:05:38 -0900 - dagster - DEBUG - eia860_raw_assets_job - 44d5d180-f907-469d-8d6d-e0eac2290116 - 72134 - extract_eia860 - STEP_OUTPUT - Yielded output \"raw_boiler_generator_assn_eia860\" of type \"Any\". (Type check passed).\n",
      "2023-03-03 16:05:38 -0900 - dagster - DEBUG - eia860_raw_assets_job - 44d5d180-f907-469d-8d6d-e0eac2290116 - extract_eia860 - Writing file at: /var/folders/ts/zf71sqq50nx4d41fy5xtsxhw0000gn/T/tmp37fkh5hd/storage/raw_boiler_generator_assn_eia860\n",
      "2023-03-03 16:05:38 -0900 - dagster - DEBUG - eia860_raw_assets_job - 44d5d180-f907-469d-8d6d-e0eac2290116 - 72134 - extract_eia860 - ASSET_MATERIALIZATION - Materialized value raw_boiler_generator_assn_eia860.\n",
      "2023-03-03 16:05:38 -0900 - dagster - DEBUG - eia860_raw_assets_job - 44d5d180-f907-469d-8d6d-e0eac2290116 - 72134 - extract_eia860 - HANDLED_OUTPUT - Handled output \"raw_boiler_generator_assn_eia860\" using IO manager \"io_manager\"\n",
      "2023-03-03 16:05:38 -0900 - dagster - DEBUG - eia860_raw_assets_job - 44d5d180-f907-469d-8d6d-e0eac2290116 - 72134 - extract_eia860 - STEP_OUTPUT - Yielded output \"raw_boiler_info_eia860\" of type \"Any\". (Type check passed).\n",
      "2023-03-03 16:05:38 -0900 - dagster - DEBUG - eia860_raw_assets_job - 44d5d180-f907-469d-8d6d-e0eac2290116 - extract_eia860 - Writing file at: /var/folders/ts/zf71sqq50nx4d41fy5xtsxhw0000gn/T/tmp37fkh5hd/storage/raw_boiler_info_eia860\n",
      "2023-03-03 16:05:38 -0900 - dagster - DEBUG - eia860_raw_assets_job - 44d5d180-f907-469d-8d6d-e0eac2290116 - 72134 - extract_eia860 - ASSET_MATERIALIZATION - Materialized value raw_boiler_info_eia860.\n",
      "2023-03-03 16:05:38 -0900 - dagster - DEBUG - eia860_raw_assets_job - 44d5d180-f907-469d-8d6d-e0eac2290116 - 72134 - extract_eia860 - HANDLED_OUTPUT - Handled output \"raw_boiler_info_eia860\" using IO manager \"io_manager\"\n",
      "2023-03-03 16:05:38 -0900 - dagster - DEBUG - eia860_raw_assets_job - 44d5d180-f907-469d-8d6d-e0eac2290116 - 72134 - extract_eia860 - STEP_OUTPUT - Yielded output \"raw_boiler_mercury_eia860\" of type \"Any\". (Type check passed).\n",
      "2023-03-03 16:05:38 -0900 - dagster - DEBUG - eia860_raw_assets_job - 44d5d180-f907-469d-8d6d-e0eac2290116 - extract_eia860 - Writing file at: /var/folders/ts/zf71sqq50nx4d41fy5xtsxhw0000gn/T/tmp37fkh5hd/storage/raw_boiler_mercury_eia860\n",
      "2023-03-03 16:05:38 -0900 - dagster - DEBUG - eia860_raw_assets_job - 44d5d180-f907-469d-8d6d-e0eac2290116 - 72134 - extract_eia860 - ASSET_MATERIALIZATION - Materialized value raw_boiler_mercury_eia860.\n",
      "2023-03-03 16:05:38 -0900 - dagster - DEBUG - eia860_raw_assets_job - 44d5d180-f907-469d-8d6d-e0eac2290116 - 72134 - extract_eia860 - HANDLED_OUTPUT - Handled output \"raw_boiler_mercury_eia860\" using IO manager \"io_manager\"\n",
      "2023-03-03 16:05:38 -0900 - dagster - DEBUG - eia860_raw_assets_job - 44d5d180-f907-469d-8d6d-e0eac2290116 - 72134 - extract_eia860 - STEP_OUTPUT - Yielded output \"raw_boiler_nox_eia860\" of type \"Any\". (Type check passed).\n",
      "2023-03-03 16:05:38 -0900 - dagster - DEBUG - eia860_raw_assets_job - 44d5d180-f907-469d-8d6d-e0eac2290116 - extract_eia860 - Writing file at: /var/folders/ts/zf71sqq50nx4d41fy5xtsxhw0000gn/T/tmp37fkh5hd/storage/raw_boiler_nox_eia860\n",
      "2023-03-03 16:05:38 -0900 - dagster - DEBUG - eia860_raw_assets_job - 44d5d180-f907-469d-8d6d-e0eac2290116 - 72134 - extract_eia860 - ASSET_MATERIALIZATION - Materialized value raw_boiler_nox_eia860.\n",
      "2023-03-03 16:05:38 -0900 - dagster - DEBUG - eia860_raw_assets_job - 44d5d180-f907-469d-8d6d-e0eac2290116 - 72134 - extract_eia860 - HANDLED_OUTPUT - Handled output \"raw_boiler_nox_eia860\" using IO manager \"io_manager\"\n",
      "2023-03-03 16:05:38 -0900 - dagster - DEBUG - eia860_raw_assets_job - 44d5d180-f907-469d-8d6d-e0eac2290116 - 72134 - extract_eia860 - STEP_OUTPUT - Yielded output \"raw_boiler_pm_eia860\" of type \"Any\". (Type check passed).\n",
      "2023-03-03 16:05:38 -0900 - dagster - DEBUG - eia860_raw_assets_job - 44d5d180-f907-469d-8d6d-e0eac2290116 - extract_eia860 - Writing file at: /var/folders/ts/zf71sqq50nx4d41fy5xtsxhw0000gn/T/tmp37fkh5hd/storage/raw_boiler_pm_eia860\n",
      "2023-03-03 16:05:38 -0900 - dagster - DEBUG - eia860_raw_assets_job - 44d5d180-f907-469d-8d6d-e0eac2290116 - 72134 - extract_eia860 - ASSET_MATERIALIZATION - Materialized value raw_boiler_pm_eia860.\n",
      "2023-03-03 16:05:38 -0900 - dagster - DEBUG - eia860_raw_assets_job - 44d5d180-f907-469d-8d6d-e0eac2290116 - 72134 - extract_eia860 - HANDLED_OUTPUT - Handled output \"raw_boiler_pm_eia860\" using IO manager \"io_manager\"\n",
      "2023-03-03 16:05:38 -0900 - dagster - DEBUG - eia860_raw_assets_job - 44d5d180-f907-469d-8d6d-e0eac2290116 - 72134 - extract_eia860 - STEP_OUTPUT - Yielded output \"raw_boiler_so2_eia860\" of type \"Any\". (Type check passed).\n",
      "2023-03-03 16:05:38 -0900 - dagster - DEBUG - eia860_raw_assets_job - 44d5d180-f907-469d-8d6d-e0eac2290116 - extract_eia860 - Writing file at: /var/folders/ts/zf71sqq50nx4d41fy5xtsxhw0000gn/T/tmp37fkh5hd/storage/raw_boiler_so2_eia860\n",
      "2023-03-03 16:05:38 -0900 - dagster - DEBUG - eia860_raw_assets_job - 44d5d180-f907-469d-8d6d-e0eac2290116 - 72134 - extract_eia860 - ASSET_MATERIALIZATION - Materialized value raw_boiler_so2_eia860.\n",
      "2023-03-03 16:05:38 -0900 - dagster - DEBUG - eia860_raw_assets_job - 44d5d180-f907-469d-8d6d-e0eac2290116 - 72134 - extract_eia860 - HANDLED_OUTPUT - Handled output \"raw_boiler_so2_eia860\" using IO manager \"io_manager\"\n",
      "2023-03-03 16:05:38 -0900 - dagster - DEBUG - eia860_raw_assets_job - 44d5d180-f907-469d-8d6d-e0eac2290116 - 72134 - extract_eia860 - STEP_OUTPUT - Yielded output \"raw_boiler_stack_flue_eia860\" of type \"Any\". (Type check passed).\n",
      "2023-03-03 16:05:38 -0900 - dagster - DEBUG - eia860_raw_assets_job - 44d5d180-f907-469d-8d6d-e0eac2290116 - extract_eia860 - Writing file at: /var/folders/ts/zf71sqq50nx4d41fy5xtsxhw0000gn/T/tmp37fkh5hd/storage/raw_boiler_stack_flue_eia860\n",
      "2023-03-03 16:05:38 -0900 - dagster - DEBUG - eia860_raw_assets_job - 44d5d180-f907-469d-8d6d-e0eac2290116 - 72134 - extract_eia860 - ASSET_MATERIALIZATION - Materialized value raw_boiler_stack_flue_eia860.\n",
      "2023-03-03 16:05:38 -0900 - dagster - DEBUG - eia860_raw_assets_job - 44d5d180-f907-469d-8d6d-e0eac2290116 - 72134 - extract_eia860 - HANDLED_OUTPUT - Handled output \"raw_boiler_stack_flue_eia860\" using IO manager \"io_manager\"\n",
      "2023-03-03 16:05:38 -0900 - dagster - DEBUG - eia860_raw_assets_job - 44d5d180-f907-469d-8d6d-e0eac2290116 - 72134 - extract_eia860 - STEP_OUTPUT - Yielded output \"raw_cooling_equipment_eia860\" of type \"Any\". (Type check passed).\n",
      "2023-03-03 16:05:38 -0900 - dagster - DEBUG - eia860_raw_assets_job - 44d5d180-f907-469d-8d6d-e0eac2290116 - extract_eia860 - Writing file at: /var/folders/ts/zf71sqq50nx4d41fy5xtsxhw0000gn/T/tmp37fkh5hd/storage/raw_cooling_equipment_eia860\n",
      "2023-03-03 16:05:38 -0900 - dagster - DEBUG - eia860_raw_assets_job - 44d5d180-f907-469d-8d6d-e0eac2290116 - 72134 - extract_eia860 - ASSET_MATERIALIZATION - Materialized value raw_cooling_equipment_eia860.\n",
      "2023-03-03 16:05:38 -0900 - dagster - DEBUG - eia860_raw_assets_job - 44d5d180-f907-469d-8d6d-e0eac2290116 - 72134 - extract_eia860 - HANDLED_OUTPUT - Handled output \"raw_cooling_equipment_eia860\" using IO manager \"io_manager\"\n",
      "2023-03-03 16:05:38 -0900 - dagster - DEBUG - eia860_raw_assets_job - 44d5d180-f907-469d-8d6d-e0eac2290116 - 72134 - extract_eia860 - STEP_OUTPUT - Yielded output \"raw_emission_control_strategies_eia860\" of type \"Any\". (Type check passed).\n",
      "2023-03-03 16:05:38 -0900 - dagster - DEBUG - eia860_raw_assets_job - 44d5d180-f907-469d-8d6d-e0eac2290116 - extract_eia860 - Writing file at: /var/folders/ts/zf71sqq50nx4d41fy5xtsxhw0000gn/T/tmp37fkh5hd/storage/raw_emission_control_strategies_eia860\n",
      "2023-03-03 16:05:38 -0900 - dagster - DEBUG - eia860_raw_assets_job - 44d5d180-f907-469d-8d6d-e0eac2290116 - 72134 - extract_eia860 - ASSET_MATERIALIZATION - Materialized value raw_emission_control_strategies_eia860.\n",
      "2023-03-03 16:05:38 -0900 - dagster - DEBUG - eia860_raw_assets_job - 44d5d180-f907-469d-8d6d-e0eac2290116 - 72134 - extract_eia860 - HANDLED_OUTPUT - Handled output \"raw_emission_control_strategies_eia860\" using IO manager \"io_manager\"\n",
      "2023-03-03 16:05:38 -0900 - dagster - DEBUG - eia860_raw_assets_job - 44d5d180-f907-469d-8d6d-e0eac2290116 - 72134 - extract_eia860 - STEP_OUTPUT - Yielded output \"raw_emissions_control_equipment_eia860\" of type \"Any\". (Type check passed).\n",
      "2023-03-03 16:05:38 -0900 - dagster - DEBUG - eia860_raw_assets_job - 44d5d180-f907-469d-8d6d-e0eac2290116 - extract_eia860 - Writing file at: /var/folders/ts/zf71sqq50nx4d41fy5xtsxhw0000gn/T/tmp37fkh5hd/storage/raw_emissions_control_equipment_eia860\n",
      "2023-03-03 16:05:38 -0900 - dagster - DEBUG - eia860_raw_assets_job - 44d5d180-f907-469d-8d6d-e0eac2290116 - 72134 - extract_eia860 - ASSET_MATERIALIZATION - Materialized value raw_emissions_control_equipment_eia860.\n",
      "2023-03-03 16:05:38 -0900 - dagster - DEBUG - eia860_raw_assets_job - 44d5d180-f907-469d-8d6d-e0eac2290116 - 72134 - extract_eia860 - HANDLED_OUTPUT - Handled output \"raw_emissions_control_equipment_eia860\" using IO manager \"io_manager\"\n",
      "2023-03-03 16:05:38 -0900 - dagster - DEBUG - eia860_raw_assets_job - 44d5d180-f907-469d-8d6d-e0eac2290116 - 72134 - extract_eia860 - STEP_OUTPUT - Yielded output \"raw_fgd_equipment_eia860\" of type \"Any\". (Type check passed).\n",
      "2023-03-03 16:05:38 -0900 - dagster - DEBUG - eia860_raw_assets_job - 44d5d180-f907-469d-8d6d-e0eac2290116 - extract_eia860 - Writing file at: /var/folders/ts/zf71sqq50nx4d41fy5xtsxhw0000gn/T/tmp37fkh5hd/storage/raw_fgd_equipment_eia860\n",
      "2023-03-03 16:05:38 -0900 - dagster - DEBUG - eia860_raw_assets_job - 44d5d180-f907-469d-8d6d-e0eac2290116 - 72134 - extract_eia860 - ASSET_MATERIALIZATION - Materialized value raw_fgd_equipment_eia860.\n",
      "2023-03-03 16:05:38 -0900 - dagster - DEBUG - eia860_raw_assets_job - 44d5d180-f907-469d-8d6d-e0eac2290116 - 72134 - extract_eia860 - HANDLED_OUTPUT - Handled output \"raw_fgd_equipment_eia860\" using IO manager \"io_manager\"\n",
      "2023-03-03 16:05:38 -0900 - dagster - DEBUG - eia860_raw_assets_job - 44d5d180-f907-469d-8d6d-e0eac2290116 - 72134 - extract_eia860 - STEP_OUTPUT - Yielded output \"raw_fgp_equipment_eia860\" of type \"Any\". (Type check passed).\n",
      "2023-03-03 16:05:38 -0900 - dagster - DEBUG - eia860_raw_assets_job - 44d5d180-f907-469d-8d6d-e0eac2290116 - extract_eia860 - Writing file at: /var/folders/ts/zf71sqq50nx4d41fy5xtsxhw0000gn/T/tmp37fkh5hd/storage/raw_fgp_equipment_eia860\n",
      "2023-03-03 16:05:38 -0900 - dagster - DEBUG - eia860_raw_assets_job - 44d5d180-f907-469d-8d6d-e0eac2290116 - 72134 - extract_eia860 - ASSET_MATERIALIZATION - Materialized value raw_fgp_equipment_eia860.\n",
      "2023-03-03 16:05:38 -0900 - dagster - DEBUG - eia860_raw_assets_job - 44d5d180-f907-469d-8d6d-e0eac2290116 - 72134 - extract_eia860 - HANDLED_OUTPUT - Handled output \"raw_fgp_equipment_eia860\" using IO manager \"io_manager\"\n",
      "2023-03-03 16:05:38 -0900 - dagster - DEBUG - eia860_raw_assets_job - 44d5d180-f907-469d-8d6d-e0eac2290116 - 72134 - extract_eia860 - STEP_OUTPUT - Yielded output \"raw_generator_eia860\" of type \"Any\". (Type check passed).\n",
      "2023-03-03 16:05:38 -0900 - dagster - DEBUG - eia860_raw_assets_job - 44d5d180-f907-469d-8d6d-e0eac2290116 - extract_eia860 - Writing file at: /var/folders/ts/zf71sqq50nx4d41fy5xtsxhw0000gn/T/tmp37fkh5hd/storage/raw_generator_eia860\n",
      "2023-03-03 16:05:38 -0900 - dagster - DEBUG - eia860_raw_assets_job - 44d5d180-f907-469d-8d6d-e0eac2290116 - 72134 - extract_eia860 - ASSET_MATERIALIZATION - Materialized value raw_generator_eia860.\n",
      "2023-03-03 16:05:38 -0900 - dagster - DEBUG - eia860_raw_assets_job - 44d5d180-f907-469d-8d6d-e0eac2290116 - 72134 - extract_eia860 - HANDLED_OUTPUT - Handled output \"raw_generator_eia860\" using IO manager \"io_manager\"\n",
      "2023-03-03 16:05:38 -0900 - dagster - DEBUG - eia860_raw_assets_job - 44d5d180-f907-469d-8d6d-e0eac2290116 - 72134 - extract_eia860 - STEP_OUTPUT - Yielded output \"raw_generator_existing_eia860\" of type \"Any\". (Type check passed).\n",
      "2023-03-03 16:05:38 -0900 - dagster - DEBUG - eia860_raw_assets_job - 44d5d180-f907-469d-8d6d-e0eac2290116 - extract_eia860 - Writing file at: /var/folders/ts/zf71sqq50nx4d41fy5xtsxhw0000gn/T/tmp37fkh5hd/storage/raw_generator_existing_eia860\n",
      "2023-03-03 16:05:38 -0900 - dagster - DEBUG - eia860_raw_assets_job - 44d5d180-f907-469d-8d6d-e0eac2290116 - 72134 - extract_eia860 - ASSET_MATERIALIZATION - Materialized value raw_generator_existing_eia860.\n",
      "2023-03-03 16:05:38 -0900 - dagster - DEBUG - eia860_raw_assets_job - 44d5d180-f907-469d-8d6d-e0eac2290116 - 72134 - extract_eia860 - HANDLED_OUTPUT - Handled output \"raw_generator_existing_eia860\" using IO manager \"io_manager\"\n",
      "2023-03-03 16:05:38 -0900 - dagster - DEBUG - eia860_raw_assets_job - 44d5d180-f907-469d-8d6d-e0eac2290116 - 72134 - extract_eia860 - STEP_OUTPUT - Yielded output \"raw_generator_proposed_eia860\" of type \"Any\". (Type check passed).\n",
      "2023-03-03 16:05:38 -0900 - dagster - DEBUG - eia860_raw_assets_job - 44d5d180-f907-469d-8d6d-e0eac2290116 - extract_eia860 - Writing file at: /var/folders/ts/zf71sqq50nx4d41fy5xtsxhw0000gn/T/tmp37fkh5hd/storage/raw_generator_proposed_eia860\n",
      "2023-03-03 16:05:38 -0900 - dagster - DEBUG - eia860_raw_assets_job - 44d5d180-f907-469d-8d6d-e0eac2290116 - 72134 - extract_eia860 - ASSET_MATERIALIZATION - Materialized value raw_generator_proposed_eia860.\n",
      "2023-03-03 16:05:38 -0900 - dagster - DEBUG - eia860_raw_assets_job - 44d5d180-f907-469d-8d6d-e0eac2290116 - 72134 - extract_eia860 - HANDLED_OUTPUT - Handled output \"raw_generator_proposed_eia860\" using IO manager \"io_manager\"\n",
      "2023-03-03 16:05:38 -0900 - dagster - DEBUG - eia860_raw_assets_job - 44d5d180-f907-469d-8d6d-e0eac2290116 - 72134 - extract_eia860 - STEP_OUTPUT - Yielded output \"raw_generator_retired_eia860\" of type \"Any\". (Type check passed).\n",
      "2023-03-03 16:05:38 -0900 - dagster - DEBUG - eia860_raw_assets_job - 44d5d180-f907-469d-8d6d-e0eac2290116 - extract_eia860 - Writing file at: /var/folders/ts/zf71sqq50nx4d41fy5xtsxhw0000gn/T/tmp37fkh5hd/storage/raw_generator_retired_eia860\n",
      "2023-03-03 16:05:38 -0900 - dagster - DEBUG - eia860_raw_assets_job - 44d5d180-f907-469d-8d6d-e0eac2290116 - 72134 - extract_eia860 - ASSET_MATERIALIZATION - Materialized value raw_generator_retired_eia860.\n",
      "2023-03-03 16:05:38 -0900 - dagster - DEBUG - eia860_raw_assets_job - 44d5d180-f907-469d-8d6d-e0eac2290116 - 72134 - extract_eia860 - HANDLED_OUTPUT - Handled output \"raw_generator_retired_eia860\" using IO manager \"io_manager\"\n",
      "2023-03-03 16:05:38 -0900 - dagster - DEBUG - eia860_raw_assets_job - 44d5d180-f907-469d-8d6d-e0eac2290116 - 72134 - extract_eia860 - STEP_OUTPUT - Yielded output \"raw_multifuel_existing_eia860\" of type \"Any\". (Type check passed).\n",
      "2023-03-03 16:05:38 -0900 - dagster - DEBUG - eia860_raw_assets_job - 44d5d180-f907-469d-8d6d-e0eac2290116 - extract_eia860 - Writing file at: /var/folders/ts/zf71sqq50nx4d41fy5xtsxhw0000gn/T/tmp37fkh5hd/storage/raw_multifuel_existing_eia860\n",
      "2023-03-03 16:05:38 -0900 - dagster - DEBUG - eia860_raw_assets_job - 44d5d180-f907-469d-8d6d-e0eac2290116 - 72134 - extract_eia860 - ASSET_MATERIALIZATION - Materialized value raw_multifuel_existing_eia860.\n",
      "2023-03-03 16:05:38 -0900 - dagster - DEBUG - eia860_raw_assets_job - 44d5d180-f907-469d-8d6d-e0eac2290116 - 72134 - extract_eia860 - HANDLED_OUTPUT - Handled output \"raw_multifuel_existing_eia860\" using IO manager \"io_manager\"\n",
      "2023-03-03 16:05:38 -0900 - dagster - DEBUG - eia860_raw_assets_job - 44d5d180-f907-469d-8d6d-e0eac2290116 - 72134 - extract_eia860 - STEP_OUTPUT - Yielded output \"raw_multifuel_retired_eia860\" of type \"Any\". (Type check passed).\n",
      "2023-03-03 16:05:38 -0900 - dagster - DEBUG - eia860_raw_assets_job - 44d5d180-f907-469d-8d6d-e0eac2290116 - extract_eia860 - Writing file at: /var/folders/ts/zf71sqq50nx4d41fy5xtsxhw0000gn/T/tmp37fkh5hd/storage/raw_multifuel_retired_eia860\n",
      "2023-03-03 16:05:38 -0900 - dagster - DEBUG - eia860_raw_assets_job - 44d5d180-f907-469d-8d6d-e0eac2290116 - 72134 - extract_eia860 - ASSET_MATERIALIZATION - Materialized value raw_multifuel_retired_eia860.\n",
      "2023-03-03 16:05:38 -0900 - dagster - DEBUG - eia860_raw_assets_job - 44d5d180-f907-469d-8d6d-e0eac2290116 - 72134 - extract_eia860 - HANDLED_OUTPUT - Handled output \"raw_multifuel_retired_eia860\" using IO manager \"io_manager\"\n",
      "2023-03-03 16:05:38 -0900 - dagster - DEBUG - eia860_raw_assets_job - 44d5d180-f907-469d-8d6d-e0eac2290116 - 72134 - extract_eia860 - STEP_OUTPUT - Yielded output \"raw_ownership_eia860\" of type \"Any\". (Type check passed).\n",
      "2023-03-03 16:05:38 -0900 - dagster - DEBUG - eia860_raw_assets_job - 44d5d180-f907-469d-8d6d-e0eac2290116 - extract_eia860 - Writing file at: /var/folders/ts/zf71sqq50nx4d41fy5xtsxhw0000gn/T/tmp37fkh5hd/storage/raw_ownership_eia860\n",
      "2023-03-03 16:05:38 -0900 - dagster - DEBUG - eia860_raw_assets_job - 44d5d180-f907-469d-8d6d-e0eac2290116 - 72134 - extract_eia860 - ASSET_MATERIALIZATION - Materialized value raw_ownership_eia860.\n",
      "2023-03-03 16:05:38 -0900 - dagster - DEBUG - eia860_raw_assets_job - 44d5d180-f907-469d-8d6d-e0eac2290116 - 72134 - extract_eia860 - HANDLED_OUTPUT - Handled output \"raw_ownership_eia860\" using IO manager \"io_manager\"\n",
      "2023-03-03 16:05:38 -0900 - dagster - DEBUG - eia860_raw_assets_job - 44d5d180-f907-469d-8d6d-e0eac2290116 - 72134 - extract_eia860 - STEP_OUTPUT - Yielded output \"raw_plant_eia860\" of type \"Any\". (Type check passed).\n",
      "2023-03-03 16:05:38 -0900 - dagster - DEBUG - eia860_raw_assets_job - 44d5d180-f907-469d-8d6d-e0eac2290116 - extract_eia860 - Writing file at: /var/folders/ts/zf71sqq50nx4d41fy5xtsxhw0000gn/T/tmp37fkh5hd/storage/raw_plant_eia860\n",
      "2023-03-03 16:05:38 -0900 - dagster - DEBUG - eia860_raw_assets_job - 44d5d180-f907-469d-8d6d-e0eac2290116 - 72134 - extract_eia860 - ASSET_MATERIALIZATION - Materialized value raw_plant_eia860.\n",
      "2023-03-03 16:05:38 -0900 - dagster - DEBUG - eia860_raw_assets_job - 44d5d180-f907-469d-8d6d-e0eac2290116 - 72134 - extract_eia860 - HANDLED_OUTPUT - Handled output \"raw_plant_eia860\" using IO manager \"io_manager\"\n",
      "2023-03-03 16:05:38 -0900 - dagster - DEBUG - eia860_raw_assets_job - 44d5d180-f907-469d-8d6d-e0eac2290116 - 72134 - extract_eia860 - STEP_OUTPUT - Yielded output \"raw_stack_flue_equipment_eia860\" of type \"Any\". (Type check passed).\n",
      "2023-03-03 16:05:38 -0900 - dagster - DEBUG - eia860_raw_assets_job - 44d5d180-f907-469d-8d6d-e0eac2290116 - extract_eia860 - Writing file at: /var/folders/ts/zf71sqq50nx4d41fy5xtsxhw0000gn/T/tmp37fkh5hd/storage/raw_stack_flue_equipment_eia860\n",
      "2023-03-03 16:05:38 -0900 - dagster - DEBUG - eia860_raw_assets_job - 44d5d180-f907-469d-8d6d-e0eac2290116 - 72134 - extract_eia860 - ASSET_MATERIALIZATION - Materialized value raw_stack_flue_equipment_eia860.\n",
      "2023-03-03 16:05:38 -0900 - dagster - DEBUG - eia860_raw_assets_job - 44d5d180-f907-469d-8d6d-e0eac2290116 - 72134 - extract_eia860 - HANDLED_OUTPUT - Handled output \"raw_stack_flue_equipment_eia860\" using IO manager \"io_manager\"\n",
      "2023-03-03 16:05:38 -0900 - dagster - DEBUG - eia860_raw_assets_job - 44d5d180-f907-469d-8d6d-e0eac2290116 - 72134 - extract_eia860 - STEP_OUTPUT - Yielded output \"raw_utility_eia860\" of type \"Any\". (Type check passed).\n",
      "2023-03-03 16:05:38 -0900 - dagster - DEBUG - eia860_raw_assets_job - 44d5d180-f907-469d-8d6d-e0eac2290116 - extract_eia860 - Writing file at: /var/folders/ts/zf71sqq50nx4d41fy5xtsxhw0000gn/T/tmp37fkh5hd/storage/raw_utility_eia860\n",
      "2023-03-03 16:05:38 -0900 - dagster - DEBUG - eia860_raw_assets_job - 44d5d180-f907-469d-8d6d-e0eac2290116 - 72134 - extract_eia860 - ASSET_MATERIALIZATION - Materialized value raw_utility_eia860.\n",
      "2023-03-03 16:05:38 -0900 - dagster - DEBUG - eia860_raw_assets_job - 44d5d180-f907-469d-8d6d-e0eac2290116 - 72134 - extract_eia860 - HANDLED_OUTPUT - Handled output \"raw_utility_eia860\" using IO manager \"io_manager\"\n",
      "2023-03-03 16:05:38 -0900 - dagster - DEBUG - eia860_raw_assets_job - 44d5d180-f907-469d-8d6d-e0eac2290116 - 72134 - extract_eia860 - STEP_SUCCESS - Finished execution of step \"extract_eia860\" in 42.59s.\n",
      "2023-03-03 16:05:38 -0900 - dagster - DEBUG - eia860_raw_assets_job - 44d5d180-f907-469d-8d6d-e0eac2290116 - 72134 - ENGINE_EVENT - Finished steps in process (pid: 72134) in 42.6s\n",
      "2023-03-03 16:05:38 -0900 - dagster - DEBUG - eia860_raw_assets_job - 44d5d180-f907-469d-8d6d-e0eac2290116 - 72134 - RUN_SUCCESS - Finished execution of run for \"eia860_raw_assets_job\".\n"
     ]
    },
    {
     "name": "stdout",
     "output_type": "stream",
     "text": [
      "CPU times: user 41 s, sys: 526 ms, total: 41.6 s\n",
      "Wall time: 43 s\n"
     ]
    }
   ],
   "source": [
    "%%time\n",
    "eia860_raw_assets_job = get_job_from_asset_group(\"eia860_raw_assets\", eia_settings=eia_settings)\n",
    "eia860_raw_assets_job_result = eia860_raw_assets_job.execute_in_process()\n",
    "assert eia860_raw_assets_job_result.success"
   ]
  },
  {
   "cell_type": "code",
   "execution_count": 6,
   "metadata": {
    "tags": []
   },
   "outputs": [
    {
     "data": {
      "text/plain": [
       "['raw_ownership_eia860',\n",
       " 'raw_cooling_equipment_eia860',\n",
       " 'raw_boiler_stack_flue_eia860',\n",
       " 'raw_utility_eia860',\n",
       " 'raw_generator_existing_eia860',\n",
       " 'raw_boiler_nox_eia860',\n",
       " 'raw_boiler_pm_eia860',\n",
       " 'raw_boiler_mercury_eia860',\n",
       " 'raw_plant_eia860',\n",
       " 'raw_generator_proposed_eia860',\n",
       " 'raw_multifuel_existing_eia860',\n",
       " 'raw_boiler_generator_assn_eia860',\n",
       " 'raw_fgd_equipment_eia860',\n",
       " 'raw_multifuel_retired_eia860',\n",
       " 'raw_boiler_cooling_eia860',\n",
       " 'raw_emissions_control_equipment_eia860',\n",
       " 'raw_generator_eia860',\n",
       " 'raw_generator_retired_eia860',\n",
       " 'raw_boiler_info_eia860',\n",
       " 'raw_boiler_so2_eia860',\n",
       " 'raw_emission_control_strategies_eia860',\n",
       " 'raw_stack_flue_equipment_eia860',\n",
       " 'raw_fgp_equipment_eia860']"
      ]
     },
     "execution_count": 6,
     "metadata": {},
     "output_type": "execute_result"
    }
   ],
   "source": [
    "get_asset_group_keys(\"eia860_raw_assets\")"
   ]
  },
  {
   "cell_type": "code",
   "execution_count": 7,
   "metadata": {
    "tags": []
   },
   "outputs": [
    {
     "data": {
      "text/html": [
       "<div>\n",
       "<style scoped>\n",
       "    .dataframe tbody tr th:only-of-type {\n",
       "        vertical-align: middle;\n",
       "    }\n",
       "\n",
       "    .dataframe tbody tr th {\n",
       "        vertical-align: top;\n",
       "    }\n",
       "\n",
       "    .dataframe thead th {\n",
       "        text-align: right;\n",
       "    }\n",
       "</style>\n",
       "<table border=\"1\" class=\"dataframe\">\n",
       "  <thead>\n",
       "    <tr style=\"text-align: right;\">\n",
       "      <th></th>\n",
       "      <th>address_2</th>\n",
       "      <th>address_3</th>\n",
       "      <th>attention_line</th>\n",
       "      <th>city</th>\n",
       "      <th>contact_firstname</th>\n",
       "      <th>contact_firstname_2</th>\n",
       "      <th>contact_lastname</th>\n",
       "      <th>contact_lastname_2</th>\n",
       "      <th>contact_title</th>\n",
       "      <th>contact_title_2</th>\n",
       "      <th>data_maturity</th>\n",
       "      <th>entity_type</th>\n",
       "      <th>phone_extension</th>\n",
       "      <th>phone_extension_2</th>\n",
       "      <th>phone_number_first</th>\n",
       "      <th>phone_number_first_2</th>\n",
       "      <th>phone_number_last</th>\n",
       "      <th>phone_number_last_2</th>\n",
       "      <th>phone_number_mid</th>\n",
       "      <th>phone_number_mid_2</th>\n",
       "      <th>plants_reported_asset_manager</th>\n",
       "      <th>plants_reported_operator</th>\n",
       "      <th>plants_reported_other_relationship</th>\n",
       "      <th>plants_reported_owner</th>\n",
       "      <th>regulated</th>\n",
       "      <th>report_year</th>\n",
       "      <th>state</th>\n",
       "      <th>street_address</th>\n",
       "      <th>utility_id_eia</th>\n",
       "      <th>utility_name_eia</th>\n",
       "      <th>zip_code</th>\n",
       "      <th>zip_code_4</th>\n",
       "    </tr>\n",
       "  </thead>\n",
       "  <tbody>\n",
       "    <tr>\n",
       "      <th>0</th>\n",
       "      <td>NaN</td>\n",
       "      <td>NaN</td>\n",
       "      <td>NaN</td>\n",
       "      <td>Decatur</td>\n",
       "      <td>NaN</td>\n",
       "      <td>NaN</td>\n",
       "      <td>NaN</td>\n",
       "      <td>NaN</td>\n",
       "      <td>NaN</td>\n",
       "      <td>NaN</td>\n",
       "      <td>final</td>\n",
       "      <td>IND</td>\n",
       "      <td>NaN</td>\n",
       "      <td>NaN</td>\n",
       "      <td>NaN</td>\n",
       "      <td>NaN</td>\n",
       "      <td>NaN</td>\n",
       "      <td>NaN</td>\n",
       "      <td>NaN</td>\n",
       "      <td>NaN</td>\n",
       "      <td>NaN</td>\n",
       "      <td>NaN</td>\n",
       "      <td>NaN</td>\n",
       "      <td>Y</td>\n",
       "      <td>NaN</td>\n",
       "      <td>2021.0</td>\n",
       "      <td>IL</td>\n",
       "      <td>2200 East Eldorado Street</td>\n",
       "      <td>7.0</td>\n",
       "      <td>Primary Products Ingredients Americas, LLC</td>\n",
       "      <td>62525</td>\n",
       "      <td>NaN</td>\n",
       "    </tr>\n",
       "    <tr>\n",
       "      <th>1</th>\n",
       "      <td>NaN</td>\n",
       "      <td>NaN</td>\n",
       "      <td>NaN</td>\n",
       "      <td>Lafayette</td>\n",
       "      <td>NaN</td>\n",
       "      <td>NaN</td>\n",
       "      <td>NaN</td>\n",
       "      <td>NaN</td>\n",
       "      <td>NaN</td>\n",
       "      <td>NaN</td>\n",
       "      <td>final</td>\n",
       "      <td>IND</td>\n",
       "      <td>NaN</td>\n",
       "      <td>NaN</td>\n",
       "      <td>NaN</td>\n",
       "      <td>NaN</td>\n",
       "      <td>NaN</td>\n",
       "      <td>NaN</td>\n",
       "      <td>NaN</td>\n",
       "      <td>NaN</td>\n",
       "      <td>NaN</td>\n",
       "      <td>NaN</td>\n",
       "      <td>NaN</td>\n",
       "      <td>Y</td>\n",
       "      <td>NaN</td>\n",
       "      <td>2021.0</td>\n",
       "      <td>IN</td>\n",
       "      <td>2245 Sagamore Parkway North</td>\n",
       "      <td>8.0</td>\n",
       "      <td>Tate &amp; Lyle Ingredients Americas Inc</td>\n",
       "      <td>47904</td>\n",
       "      <td>NaN</td>\n",
       "    </tr>\n",
       "    <tr>\n",
       "      <th>2</th>\n",
       "      <td>NaN</td>\n",
       "      <td>NaN</td>\n",
       "      <td>NaN</td>\n",
       "      <td>Dresden</td>\n",
       "      <td>NaN</td>\n",
       "      <td>NaN</td>\n",
       "      <td>NaN</td>\n",
       "      <td>NaN</td>\n",
       "      <td>NaN</td>\n",
       "      <td>NaN</td>\n",
       "      <td>final</td>\n",
       "      <td>Q</td>\n",
       "      <td>NaN</td>\n",
       "      <td>NaN</td>\n",
       "      <td>NaN</td>\n",
       "      <td>NaN</td>\n",
       "      <td>NaN</td>\n",
       "      <td>NaN</td>\n",
       "      <td>NaN</td>\n",
       "      <td>NaN</td>\n",
       "      <td>NaN</td>\n",
       "      <td>NaN</td>\n",
       "      <td>NaN</td>\n",
       "      <td>Y</td>\n",
       "      <td>NaN</td>\n",
       "      <td>2021.0</td>\n",
       "      <td>NY</td>\n",
       "      <td>PO Box 187590 Plant Rd</td>\n",
       "      <td>25.0</td>\n",
       "      <td>Greenidge Generation Holdings LLC</td>\n",
       "      <td>14441</td>\n",
       "      <td>NaN</td>\n",
       "    </tr>\n",
       "    <tr>\n",
       "      <th>3</th>\n",
       "      <td>NaN</td>\n",
       "      <td>NaN</td>\n",
       "      <td>NaN</td>\n",
       "      <td>Abbeville</td>\n",
       "      <td>NaN</td>\n",
       "      <td>NaN</td>\n",
       "      <td>NaN</td>\n",
       "      <td>NaN</td>\n",
       "      <td>NaN</td>\n",
       "      <td>NaN</td>\n",
       "      <td>final</td>\n",
       "      <td>M</td>\n",
       "      <td>NaN</td>\n",
       "      <td>NaN</td>\n",
       "      <td>NaN</td>\n",
       "      <td>NaN</td>\n",
       "      <td>NaN</td>\n",
       "      <td>NaN</td>\n",
       "      <td>NaN</td>\n",
       "      <td>NaN</td>\n",
       "      <td>NaN</td>\n",
       "      <td>NaN</td>\n",
       "      <td>NaN</td>\n",
       "      <td>Y</td>\n",
       "      <td>NaN</td>\n",
       "      <td>2021.0</td>\n",
       "      <td>SC</td>\n",
       "      <td>P O Box 639</td>\n",
       "      <td>34.0</td>\n",
       "      <td>City of Abbeville - (SC)</td>\n",
       "      <td>29620</td>\n",
       "      <td>NaN</td>\n",
       "    </tr>\n",
       "    <tr>\n",
       "      <th>4</th>\n",
       "      <td>NaN</td>\n",
       "      <td>NaN</td>\n",
       "      <td>NaN</td>\n",
       "      <td>Cumberland</td>\n",
       "      <td>NaN</td>\n",
       "      <td>NaN</td>\n",
       "      <td>NaN</td>\n",
       "      <td>NaN</td>\n",
       "      <td>NaN</td>\n",
       "      <td>NaN</td>\n",
       "      <td>final</td>\n",
       "      <td>Q</td>\n",
       "      <td>NaN</td>\n",
       "      <td>NaN</td>\n",
       "      <td>NaN</td>\n",
       "      <td>NaN</td>\n",
       "      <td>NaN</td>\n",
       "      <td>NaN</td>\n",
       "      <td>NaN</td>\n",
       "      <td>NaN</td>\n",
       "      <td>NaN</td>\n",
       "      <td>NaN</td>\n",
       "      <td>NaN</td>\n",
       "      <td>Y</td>\n",
       "      <td>NaN</td>\n",
       "      <td>2021.0</td>\n",
       "      <td>MD</td>\n",
       "      <td>11600 Mexico Farms Road</td>\n",
       "      <td>35.0</td>\n",
       "      <td>AES WR Ltd Partnership</td>\n",
       "      <td>21502</td>\n",
       "      <td>NaN</td>\n",
       "    </tr>\n",
       "  </tbody>\n",
       "</table>\n",
       "</div>"
      ],
      "text/plain": [
       "  address_2 address_3 attention_line        city contact_firstname contact_firstname_2 contact_lastname contact_lastname_2 contact_title contact_title_2 data_maturity entity_type phone_extension phone_extension_2 phone_number_first phone_number_first_2 phone_number_last phone_number_last_2 phone_number_mid phone_number_mid_2 plants_reported_asset_manager plants_reported_operator plants_reported_other_relationship plants_reported_owner regulated  report_year state               street_address  utility_id_eia                            utility_name_eia zip_code zip_code_4\n",
       "0       NaN       NaN            NaN     Decatur               NaN                 NaN              NaN                NaN           NaN             NaN         final         IND             NaN               NaN                NaN                  NaN               NaN                 NaN              NaN                NaN                           NaN                      NaN                                NaN                     Y       NaN       2021.0    IL    2200 East Eldorado Street             7.0  Primary Products Ingredients Americas, LLC    62525        NaN\n",
       "1       NaN       NaN            NaN   Lafayette               NaN                 NaN              NaN                NaN           NaN             NaN         final         IND             NaN               NaN                NaN                  NaN               NaN                 NaN              NaN                NaN                           NaN                      NaN                                NaN                     Y       NaN       2021.0    IN  2245 Sagamore Parkway North             8.0        Tate & Lyle Ingredients Americas Inc    47904        NaN\n",
       "2       NaN       NaN            NaN     Dresden               NaN                 NaN              NaN                NaN           NaN             NaN         final           Q             NaN               NaN                NaN                  NaN               NaN                 NaN              NaN                NaN                           NaN                      NaN                                NaN                     Y       NaN       2021.0    NY       PO Box 187590 Plant Rd            25.0           Greenidge Generation Holdings LLC    14441        NaN\n",
       "3       NaN       NaN            NaN   Abbeville               NaN                 NaN              NaN                NaN           NaN             NaN         final           M             NaN               NaN                NaN                  NaN               NaN                 NaN              NaN                NaN                           NaN                      NaN                                NaN                     Y       NaN       2021.0    SC                  P O Box 639            34.0                    City of Abbeville - (SC)    29620        NaN\n",
       "4       NaN       NaN            NaN  Cumberland               NaN                 NaN              NaN                NaN           NaN             NaN         final           Q             NaN               NaN                NaN                  NaN               NaN                 NaN              NaN                NaN                           NaN                      NaN                                NaN                     Y       NaN       2021.0    MD      11600 Mexico Farms Road            35.0                      AES WR Ltd Partnership    21502        NaN"
      ]
     },
     "execution_count": 7,
     "metadata": {},
     "output_type": "execute_result"
    }
   ],
   "source": [
    "# Grab the dataframe for a given asset key.\n",
    "raw_utility_eia860 = eia860_raw_assets_job_result.asset_value(\"raw_utility_eia860\")\n",
    "raw_utility_eia860.head()"
   ]
  },
  {
   "cell_type": "markdown",
   "metadata": {},
   "source": [
    "## Transform EIA-860 / EIA-860m"
   ]
  },
  {
   "cell_type": "code",
   "execution_count": 8,
   "metadata": {
    "tags": []
   },
   "outputs": [
    {
     "name": "stderr",
     "output_type": "stream",
     "text": [
      "2023-03-03 15:46:47 -0900 - dagster - DEBUG - pre_harvested_eia860_assets_job - dbf85926-b58c-4ba0-a4d4-9217d183e00d - 70373 - RUN_START - Started execution of run for \"pre_harvested_eia860_assets_job\".\n",
      "2023-03-03 15:46:47 -0900 - dagster - DEBUG - pre_harvested_eia860_assets_job - dbf85926-b58c-4ba0-a4d4-9217d183e00d - 70373 - ENGINE_EVENT - Executing steps in process (pid: 70373)\n",
      "2023-03-03 15:46:47 -0900 - dagster - DEBUG - pre_harvested_eia860_assets_job - dbf85926-b58c-4ba0-a4d4-9217d183e00d - 70373 - RESOURCE_INIT_STARTED - Starting initialization of resources [io_manager].\n",
      "2023-03-03 15:46:47 -0900 - dagster - DEBUG - pre_harvested_eia860_assets_job - dbf85926-b58c-4ba0-a4d4-9217d183e00d - 70373 - RESOURCE_INIT_SUCCESS - Finished initialization of resources [io_manager].\n",
      "2023-03-03 15:46:47 -0900 - dagster - DEBUG - pre_harvested_eia860_assets_job - dbf85926-b58c-4ba0-a4d4-9217d183e00d - 70373 - LOGS_CAPTURED - Started capturing logs in process (pid: 70373).\n",
      "2023-03-03 15:46:47 -0900 - dagster - DEBUG - pre_harvested_eia860_assets_job - dbf85926-b58c-4ba0-a4d4-9217d183e00d - 70373 - clean_boiler_generator_assn_eia860 - STEP_START - Started execution of step \"clean_boiler_generator_assn_eia860\".\n",
      "2023-03-03 15:46:47 -0900 - dagster - DEBUG - pre_harvested_eia860_assets_job - dbf85926-b58c-4ba0-a4d4-9217d183e00d - clean_boiler_generator_assn_eia860 - Loading file from: /var/folders/ts/zf71sqq50nx4d41fy5xtsxhw0000gn/T/tmptiaapj13/storage/raw_boiler_generator_assn_eia860\n",
      "2023-03-03 15:46:47 -0900 - dagster - DEBUG - pre_harvested_eia860_assets_job - dbf85926-b58c-4ba0-a4d4-9217d183e00d - 70373 - clean_boiler_generator_assn_eia860 - ASSET_OBSERVATION - ASSET_OBSERVATION for step clean_boiler_generator_assn_eia860\n",
      "2023-03-03 15:46:47 -0900 - dagster - DEBUG - pre_harvested_eia860_assets_job - dbf85926-b58c-4ba0-a4d4-9217d183e00d - 70373 - clean_boiler_generator_assn_eia860 - LOADED_INPUT - Loaded input \"raw_boiler_generator_assn_eia860\" using input manager \"io_manager\"\n",
      "2023-03-03 15:46:47 -0900 - dagster - DEBUG - pre_harvested_eia860_assets_job - dbf85926-b58c-4ba0-a4d4-9217d183e00d - 70373 - clean_boiler_generator_assn_eia860 - STEP_INPUT - Got input \"raw_boiler_generator_assn_eia860\" of type \"Any\". (Type check passed).\n",
      "2023-03-03 15:46:47 [    INFO] catalystcoop.pudl.metadata.classes:1673 Recoding boiler_generator_assn_eia860.boiler_generator_assn_type_code\n"
     ]
    },
    {
     "name": "stdout",
     "output_type": "stream",
     "text": [
      "Recoding boiler_generator_assn_eia860.boiler_generator_assn_type_code\n"
     ]
    },
    {
     "name": "stderr",
     "output_type": "stream",
     "text": [
      "2023-03-03 15:46:47 [    INFO] catalystcoop.pudl.metadata.classes:1673 Recoding boiler_generator_assn_eia860.steam_plant_type_code\n"
     ]
    },
    {
     "name": "stdout",
     "output_type": "stream",
     "text": [
      "Recoding boiler_generator_assn_eia860.steam_plant_type_code\n"
     ]
    },
    {
     "name": "stderr",
     "output_type": "stream",
     "text": [
      "2023-03-03 15:46:47 [    INFO] catalystcoop.pudl.metadata.classes:1673 Recoding boiler_generator_assn_eia860.data_maturity\n"
     ]
    },
    {
     "name": "stdout",
     "output_type": "stream",
     "text": [
      "Recoding boiler_generator_assn_eia860.data_maturity\n"
     ]
    },
    {
     "name": "stderr",
     "output_type": "stream",
     "text": [
      "2023-03-03 15:46:47 -0900 - dagster - DEBUG - pre_harvested_eia860_assets_job - dbf85926-b58c-4ba0-a4d4-9217d183e00d - 70373 - clean_boiler_generator_assn_eia860 - STEP_OUTPUT - Yielded output \"result\" of type \"Any\". (Type check passed).\n",
      "2023-03-03 15:46:47 -0900 - dagster - DEBUG - pre_harvested_eia860_assets_job - dbf85926-b58c-4ba0-a4d4-9217d183e00d - clean_boiler_generator_assn_eia860 - Writing file at: /var/folders/ts/zf71sqq50nx4d41fy5xtsxhw0000gn/T/tmptiaapj13/storage/clean_boiler_generator_assn_eia860\n",
      "2023-03-03 15:46:47 -0900 - dagster - DEBUG - pre_harvested_eia860_assets_job - dbf85926-b58c-4ba0-a4d4-9217d183e00d - 70373 - clean_boiler_generator_assn_eia860 - ASSET_MATERIALIZATION - Materialized value clean_boiler_generator_assn_eia860.\n",
      "2023-03-03 15:46:47 -0900 - dagster - DEBUG - pre_harvested_eia860_assets_job - dbf85926-b58c-4ba0-a4d4-9217d183e00d - 70373 - clean_boiler_generator_assn_eia860 - HANDLED_OUTPUT - Handled output \"result\" using IO manager \"io_manager\"\n",
      "2023-03-03 15:46:47 -0900 - dagster - DEBUG - pre_harvested_eia860_assets_job - dbf85926-b58c-4ba0-a4d4-9217d183e00d - 70373 - clean_boiler_generator_assn_eia860 - STEP_SUCCESS - Finished execution of step \"clean_boiler_generator_assn_eia860\" in 58ms.\n",
      "2023-03-03 15:46:47 -0900 - dagster - DEBUG - pre_harvested_eia860_assets_job - dbf85926-b58c-4ba0-a4d4-9217d183e00d - 70373 - clean_generators_eia860 - STEP_START - Started execution of step \"clean_generators_eia860\".\n",
      "2023-03-03 15:46:47 -0900 - dagster - DEBUG - pre_harvested_eia860_assets_job - dbf85926-b58c-4ba0-a4d4-9217d183e00d - clean_generators_eia860 - Loading file from: /var/folders/ts/zf71sqq50nx4d41fy5xtsxhw0000gn/T/tmptiaapj13/storage/raw_generator_eia860\n",
      "2023-03-03 15:46:47 -0900 - dagster - DEBUG - pre_harvested_eia860_assets_job - dbf85926-b58c-4ba0-a4d4-9217d183e00d - 70373 - clean_generators_eia860 - ASSET_OBSERVATION - ASSET_OBSERVATION for step clean_generators_eia860\n",
      "2023-03-03 15:46:47 -0900 - dagster - DEBUG - pre_harvested_eia860_assets_job - dbf85926-b58c-4ba0-a4d4-9217d183e00d - 70373 - clean_generators_eia860 - LOADED_INPUT - Loaded input \"raw_generator_eia860\" using input manager \"io_manager\"\n",
      "2023-03-03 15:46:47 -0900 - dagster - DEBUG - pre_harvested_eia860_assets_job - dbf85926-b58c-4ba0-a4d4-9217d183e00d - clean_generators_eia860 - Loading file from: /var/folders/ts/zf71sqq50nx4d41fy5xtsxhw0000gn/T/tmptiaapj13/storage/raw_generator_existing_eia860\n",
      "2023-03-03 15:46:47 -0900 - dagster - DEBUG - pre_harvested_eia860_assets_job - dbf85926-b58c-4ba0-a4d4-9217d183e00d - 70373 - clean_generators_eia860 - ASSET_OBSERVATION - ASSET_OBSERVATION for step clean_generators_eia860\n",
      "2023-03-03 15:46:47 -0900 - dagster - DEBUG - pre_harvested_eia860_assets_job - dbf85926-b58c-4ba0-a4d4-9217d183e00d - 70373 - clean_generators_eia860 - LOADED_INPUT - Loaded input \"raw_generator_existing_eia860\" using input manager \"io_manager\"\n",
      "2023-03-03 15:46:47 -0900 - dagster - DEBUG - pre_harvested_eia860_assets_job - dbf85926-b58c-4ba0-a4d4-9217d183e00d - clean_generators_eia860 - Loading file from: /var/folders/ts/zf71sqq50nx4d41fy5xtsxhw0000gn/T/tmptiaapj13/storage/raw_generator_proposed_eia860\n",
      "2023-03-03 15:46:47 -0900 - dagster - DEBUG - pre_harvested_eia860_assets_job - dbf85926-b58c-4ba0-a4d4-9217d183e00d - 70373 - clean_generators_eia860 - ASSET_OBSERVATION - ASSET_OBSERVATION for step clean_generators_eia860\n",
      "2023-03-03 15:46:47 -0900 - dagster - DEBUG - pre_harvested_eia860_assets_job - dbf85926-b58c-4ba0-a4d4-9217d183e00d - 70373 - clean_generators_eia860 - LOADED_INPUT - Loaded input \"raw_generator_proposed_eia860\" using input manager \"io_manager\"\n",
      "2023-03-03 15:46:47 -0900 - dagster - DEBUG - pre_harvested_eia860_assets_job - dbf85926-b58c-4ba0-a4d4-9217d183e00d - clean_generators_eia860 - Loading file from: /var/folders/ts/zf71sqq50nx4d41fy5xtsxhw0000gn/T/tmptiaapj13/storage/raw_generator_retired_eia860\n",
      "2023-03-03 15:46:47 -0900 - dagster - DEBUG - pre_harvested_eia860_assets_job - dbf85926-b58c-4ba0-a4d4-9217d183e00d - 70373 - clean_generators_eia860 - ASSET_OBSERVATION - ASSET_OBSERVATION for step clean_generators_eia860\n",
      "2023-03-03 15:46:47 -0900 - dagster - DEBUG - pre_harvested_eia860_assets_job - dbf85926-b58c-4ba0-a4d4-9217d183e00d - 70373 - clean_generators_eia860 - LOADED_INPUT - Loaded input \"raw_generator_retired_eia860\" using input manager \"io_manager\"\n",
      "2023-03-03 15:46:47 -0900 - dagster - DEBUG - pre_harvested_eia860_assets_job - dbf85926-b58c-4ba0-a4d4-9217d183e00d - 70373 - clean_generators_eia860 - STEP_INPUT - Got input \"raw_generator_eia860\" of type \"Any\". (Type check passed).\n",
      "2023-03-03 15:46:47 -0900 - dagster - DEBUG - pre_harvested_eia860_assets_job - dbf85926-b58c-4ba0-a4d4-9217d183e00d - 70373 - clean_generators_eia860 - STEP_INPUT - Got input \"raw_generator_existing_eia860\" of type \"Any\". (Type check passed).\n",
      "2023-03-03 15:46:47 -0900 - dagster - DEBUG - pre_harvested_eia860_assets_job - dbf85926-b58c-4ba0-a4d4-9217d183e00d - 70373 - clean_generators_eia860 - STEP_INPUT - Got input \"raw_generator_proposed_eia860\" of type \"Any\". (Type check passed).\n",
      "2023-03-03 15:46:47 -0900 - dagster - DEBUG - pre_harvested_eia860_assets_job - dbf85926-b58c-4ba0-a4d4-9217d183e00d - 70373 - clean_generators_eia860 - STEP_INPUT - Got input \"raw_generator_retired_eia860\" of type \"Any\". (Type check passed).\n",
      "2023-03-03 15:46:55 [    INFO] catalystcoop.pudl.metadata.classes:1673 Recoding generators_eia860.operational_status_code\n"
     ]
    },
    {
     "name": "stdout",
     "output_type": "stream",
     "text": [
      "Recoding generators_eia860.operational_status_code\n"
     ]
    },
    {
     "name": "stderr",
     "output_type": "stream",
     "text": [
      "2023-03-03 15:46:55 [    INFO] catalystcoop.pudl.metadata.classes:1673 Recoding generators_eia860.prime_mover_code\n"
     ]
    },
    {
     "name": "stdout",
     "output_type": "stream",
     "text": [
      "Recoding generators_eia860.prime_mover_code\n"
     ]
    },
    {
     "name": "stderr",
     "output_type": "stream",
     "text": [
      "2023-03-03 15:46:55 [    INFO] catalystcoop.pudl.metadata.classes:1673 Recoding generators_eia860.energy_source_code_1\n"
     ]
    },
    {
     "name": "stdout",
     "output_type": "stream",
     "text": [
      "Recoding generators_eia860.energy_source_code_1\n"
     ]
    },
    {
     "name": "stderr",
     "output_type": "stream",
     "text": [
      "2023-03-03 15:46:55 [    INFO] catalystcoop.pudl.metadata.classes:1673 Recoding generators_eia860.energy_source_code_2\n"
     ]
    },
    {
     "name": "stdout",
     "output_type": "stream",
     "text": [
      "Recoding generators_eia860.energy_source_code_2\n"
     ]
    },
    {
     "name": "stderr",
     "output_type": "stream",
     "text": [
      "2023-03-03 15:46:55 [    INFO] catalystcoop.pudl.metadata.classes:1673 Recoding generators_eia860.energy_source_code_3\n"
     ]
    },
    {
     "name": "stdout",
     "output_type": "stream",
     "text": [
      "Recoding generators_eia860.energy_source_code_3\n"
     ]
    },
    {
     "name": "stderr",
     "output_type": "stream",
     "text": [
      "2023-03-03 15:46:55 [    INFO] catalystcoop.pudl.metadata.classes:1673 Recoding generators_eia860.energy_source_code_4\n"
     ]
    },
    {
     "name": "stdout",
     "output_type": "stream",
     "text": [
      "Recoding generators_eia860.energy_source_code_4\n"
     ]
    },
    {
     "name": "stderr",
     "output_type": "stream",
     "text": [
      "2023-03-03 15:46:55 [    INFO] catalystcoop.pudl.metadata.classes:1673 Recoding generators_eia860.energy_source_code_5\n"
     ]
    },
    {
     "name": "stdout",
     "output_type": "stream",
     "text": [
      "Recoding generators_eia860.energy_source_code_5\n"
     ]
    },
    {
     "name": "stderr",
     "output_type": "stream",
     "text": [
      "2023-03-03 15:46:55 [    INFO] catalystcoop.pudl.metadata.classes:1673 Recoding generators_eia860.energy_source_code_6\n"
     ]
    },
    {
     "name": "stdout",
     "output_type": "stream",
     "text": [
      "Recoding generators_eia860.energy_source_code_6\n"
     ]
    },
    {
     "name": "stderr",
     "output_type": "stream",
     "text": [
      "2023-03-03 15:46:55 [    INFO] catalystcoop.pudl.metadata.classes:1673 Recoding generators_eia860.energy_source_1_transport_1\n"
     ]
    },
    {
     "name": "stdout",
     "output_type": "stream",
     "text": [
      "Recoding generators_eia860.energy_source_1_transport_1\n"
     ]
    },
    {
     "name": "stderr",
     "output_type": "stream",
     "text": [
      "2023-03-03 15:46:55 [    INFO] catalystcoop.pudl.metadata.classes:1673 Recoding generators_eia860.energy_source_1_transport_2\n"
     ]
    },
    {
     "name": "stdout",
     "output_type": "stream",
     "text": [
      "Recoding generators_eia860.energy_source_1_transport_2\n"
     ]
    },
    {
     "name": "stderr",
     "output_type": "stream",
     "text": [
      "2023-03-03 15:46:55 [    INFO] catalystcoop.pudl.metadata.classes:1673 Recoding generators_eia860.energy_source_1_transport_3\n"
     ]
    },
    {
     "name": "stdout",
     "output_type": "stream",
     "text": [
      "Recoding generators_eia860.energy_source_1_transport_3\n"
     ]
    },
    {
     "name": "stderr",
     "output_type": "stream",
     "text": [
      "2023-03-03 15:46:55 [    INFO] catalystcoop.pudl.metadata.classes:1673 Recoding generators_eia860.energy_source_2_transport_1\n"
     ]
    },
    {
     "name": "stdout",
     "output_type": "stream",
     "text": [
      "Recoding generators_eia860.energy_source_2_transport_1\n"
     ]
    },
    {
     "name": "stderr",
     "output_type": "stream",
     "text": [
      "2023-03-03 15:46:55 [    INFO] catalystcoop.pudl.metadata.classes:1673 Recoding generators_eia860.energy_source_2_transport_2\n"
     ]
    },
    {
     "name": "stdout",
     "output_type": "stream",
     "text": [
      "Recoding generators_eia860.energy_source_2_transport_2\n"
     ]
    },
    {
     "name": "stderr",
     "output_type": "stream",
     "text": [
      "2023-03-03 15:46:55 [    INFO] catalystcoop.pudl.metadata.classes:1673 Recoding generators_eia860.energy_source_2_transport_3\n"
     ]
    },
    {
     "name": "stdout",
     "output_type": "stream",
     "text": [
      "Recoding generators_eia860.energy_source_2_transport_3\n"
     ]
    },
    {
     "name": "stderr",
     "output_type": "stream",
     "text": [
      "2023-03-03 15:46:55 [    INFO] catalystcoop.pudl.metadata.classes:1673 Recoding generators_eia860.planned_new_prime_mover_code\n"
     ]
    },
    {
     "name": "stdout",
     "output_type": "stream",
     "text": [
      "Recoding generators_eia860.planned_new_prime_mover_code\n"
     ]
    },
    {
     "name": "stderr",
     "output_type": "stream",
     "text": [
      "2023-03-03 15:46:55 [    INFO] catalystcoop.pudl.metadata.classes:1673 Recoding generators_eia860.planned_energy_source_code_1\n"
     ]
    },
    {
     "name": "stdout",
     "output_type": "stream",
     "text": [
      "Recoding generators_eia860.planned_energy_source_code_1\n"
     ]
    },
    {
     "name": "stderr",
     "output_type": "stream",
     "text": [
      "2023-03-03 15:46:55 [    INFO] catalystcoop.pudl.metadata.classes:1673 Recoding generators_eia860.startup_source_code_1\n"
     ]
    },
    {
     "name": "stdout",
     "output_type": "stream",
     "text": [
      "Recoding generators_eia860.startup_source_code_1\n"
     ]
    },
    {
     "name": "stderr",
     "output_type": "stream",
     "text": [
      "2023-03-03 15:46:55 [    INFO] catalystcoop.pudl.metadata.classes:1673 Recoding generators_eia860.startup_source_code_2\n"
     ]
    },
    {
     "name": "stdout",
     "output_type": "stream",
     "text": [
      "Recoding generators_eia860.startup_source_code_2\n"
     ]
    },
    {
     "name": "stderr",
     "output_type": "stream",
     "text": [
      "2023-03-03 15:46:55 [    INFO] catalystcoop.pudl.metadata.classes:1673 Recoding generators_eia860.startup_source_code_3\n"
     ]
    },
    {
     "name": "stdout",
     "output_type": "stream",
     "text": [
      "Recoding generators_eia860.startup_source_code_3\n"
     ]
    },
    {
     "name": "stderr",
     "output_type": "stream",
     "text": [
      "2023-03-03 15:46:55 [    INFO] catalystcoop.pudl.metadata.classes:1673 Recoding generators_eia860.startup_source_code_4\n"
     ]
    },
    {
     "name": "stdout",
     "output_type": "stream",
     "text": [
      "Recoding generators_eia860.startup_source_code_4\n"
     ]
    },
    {
     "name": "stderr",
     "output_type": "stream",
     "text": [
      "2023-03-03 15:46:55 [    INFO] catalystcoop.pudl.metadata.classes:1673 Recoding generators_eia860.data_maturity\n"
     ]
    },
    {
     "name": "stdout",
     "output_type": "stream",
     "text": [
      "Recoding generators_eia860.data_maturity\n"
     ]
    },
    {
     "name": "stderr",
     "output_type": "stream",
     "text": [
      "2023-03-03 15:46:56 -0900 - dagster - DEBUG - pre_harvested_eia860_assets_job - dbf85926-b58c-4ba0-a4d4-9217d183e00d - 70373 - clean_generators_eia860 - STEP_OUTPUT - Yielded output \"result\" of type \"Any\". (Type check passed).\n",
      "2023-03-03 15:46:56 -0900 - dagster - DEBUG - pre_harvested_eia860_assets_job - dbf85926-b58c-4ba0-a4d4-9217d183e00d - clean_generators_eia860 - Writing file at: /var/folders/ts/zf71sqq50nx4d41fy5xtsxhw0000gn/T/tmptiaapj13/storage/clean_generators_eia860\n",
      "2023-03-03 15:46:56 -0900 - dagster - DEBUG - pre_harvested_eia860_assets_job - dbf85926-b58c-4ba0-a4d4-9217d183e00d - 70373 - clean_generators_eia860 - ASSET_MATERIALIZATION - Materialized value clean_generators_eia860.\n",
      "2023-03-03 15:46:56 -0900 - dagster - DEBUG - pre_harvested_eia860_assets_job - dbf85926-b58c-4ba0-a4d4-9217d183e00d - 70373 - clean_generators_eia860 - HANDLED_OUTPUT - Handled output \"result\" using IO manager \"io_manager\"\n",
      "2023-03-03 15:46:56 -0900 - dagster - DEBUG - pre_harvested_eia860_assets_job - dbf85926-b58c-4ba0-a4d4-9217d183e00d - 70373 - clean_generators_eia860 - STEP_SUCCESS - Finished execution of step \"clean_generators_eia860\" in 8.34s.\n",
      "2023-03-03 15:46:56 -0900 - dagster - DEBUG - pre_harvested_eia860_assets_job - dbf85926-b58c-4ba0-a4d4-9217d183e00d - 70373 - clean_ownership_eia860 - STEP_START - Started execution of step \"clean_ownership_eia860\".\n",
      "2023-03-03 15:46:56 -0900 - dagster - DEBUG - pre_harvested_eia860_assets_job - dbf85926-b58c-4ba0-a4d4-9217d183e00d - clean_ownership_eia860 - Loading file from: /var/folders/ts/zf71sqq50nx4d41fy5xtsxhw0000gn/T/tmptiaapj13/storage/raw_ownership_eia860\n",
      "2023-03-03 15:46:56 -0900 - dagster - DEBUG - pre_harvested_eia860_assets_job - dbf85926-b58c-4ba0-a4d4-9217d183e00d - 70373 - clean_ownership_eia860 - ASSET_OBSERVATION - ASSET_OBSERVATION for step clean_ownership_eia860\n",
      "2023-03-03 15:46:56 -0900 - dagster - DEBUG - pre_harvested_eia860_assets_job - dbf85926-b58c-4ba0-a4d4-9217d183e00d - 70373 - clean_ownership_eia860 - LOADED_INPUT - Loaded input \"raw_ownership_eia860\" using input manager \"io_manager\"\n",
      "2023-03-03 15:46:56 -0900 - dagster - DEBUG - pre_harvested_eia860_assets_job - dbf85926-b58c-4ba0-a4d4-9217d183e00d - 70373 - clean_ownership_eia860 - STEP_INPUT - Got input \"raw_ownership_eia860\" of type \"Any\". (Type check passed).\n",
      "2023-03-03 15:46:56 [    INFO] catalystcoop.pudl.metadata.classes:1673 Recoding ownership_eia860.data_maturity\n"
     ]
    },
    {
     "name": "stdout",
     "output_type": "stream",
     "text": [
      "Recoding ownership_eia860.data_maturity\n"
     ]
    },
    {
     "name": "stderr",
     "output_type": "stream",
     "text": [
      "2023-03-03 15:46:56 -0900 - dagster - DEBUG - pre_harvested_eia860_assets_job - dbf85926-b58c-4ba0-a4d4-9217d183e00d - 70373 - clean_ownership_eia860 - STEP_OUTPUT - Yielded output \"result\" of type \"Any\". (Type check passed).\n",
      "2023-03-03 15:46:56 -0900 - dagster - DEBUG - pre_harvested_eia860_assets_job - dbf85926-b58c-4ba0-a4d4-9217d183e00d - clean_ownership_eia860 - Writing file at: /var/folders/ts/zf71sqq50nx4d41fy5xtsxhw0000gn/T/tmptiaapj13/storage/clean_ownership_eia860\n",
      "2023-03-03 15:46:56 -0900 - dagster - DEBUG - pre_harvested_eia860_assets_job - dbf85926-b58c-4ba0-a4d4-9217d183e00d - 70373 - clean_ownership_eia860 - ASSET_MATERIALIZATION - Materialized value clean_ownership_eia860.\n",
      "2023-03-03 15:46:56 -0900 - dagster - DEBUG - pre_harvested_eia860_assets_job - dbf85926-b58c-4ba0-a4d4-9217d183e00d - 70373 - clean_ownership_eia860 - HANDLED_OUTPUT - Handled output \"result\" using IO manager \"io_manager\"\n",
      "2023-03-03 15:46:56 -0900 - dagster - DEBUG - pre_harvested_eia860_assets_job - dbf85926-b58c-4ba0-a4d4-9217d183e00d - 70373 - clean_ownership_eia860 - STEP_SUCCESS - Finished execution of step \"clean_ownership_eia860\" in 500ms.\n",
      "2023-03-03 15:46:56 -0900 - dagster - DEBUG - pre_harvested_eia860_assets_job - dbf85926-b58c-4ba0-a4d4-9217d183e00d - 70373 - clean_plants_eia860 - STEP_START - Started execution of step \"clean_plants_eia860\".\n",
      "2023-03-03 15:46:56 -0900 - dagster - DEBUG - pre_harvested_eia860_assets_job - dbf85926-b58c-4ba0-a4d4-9217d183e00d - clean_plants_eia860 - Loading file from: /var/folders/ts/zf71sqq50nx4d41fy5xtsxhw0000gn/T/tmptiaapj13/storage/raw_plant_eia860\n",
      "2023-03-03 15:46:56 -0900 - dagster - DEBUG - pre_harvested_eia860_assets_job - dbf85926-b58c-4ba0-a4d4-9217d183e00d - 70373 - clean_plants_eia860 - ASSET_OBSERVATION - ASSET_OBSERVATION for step clean_plants_eia860\n",
      "2023-03-03 15:46:56 -0900 - dagster - DEBUG - pre_harvested_eia860_assets_job - dbf85926-b58c-4ba0-a4d4-9217d183e00d - 70373 - clean_plants_eia860 - LOADED_INPUT - Loaded input \"raw_plant_eia860\" using input manager \"io_manager\"\n",
      "2023-03-03 15:46:56 -0900 - dagster - DEBUG - pre_harvested_eia860_assets_job - dbf85926-b58c-4ba0-a4d4-9217d183e00d - 70373 - clean_plants_eia860 - STEP_INPUT - Got input \"raw_plant_eia860\" of type \"Any\". (Type check passed).\n",
      "2023-03-03 15:46:57 [    INFO] catalystcoop.pudl.metadata.classes:1673 Recoding plants_eia860.balancing_authority_code_eia\n"
     ]
    },
    {
     "name": "stdout",
     "output_type": "stream",
     "text": [
      "Recoding plants_eia860.balancing_authority_code_eia\n"
     ]
    },
    {
     "name": "stderr",
     "output_type": "stream",
     "text": [
      "2023-03-03 15:46:57 [    INFO] catalystcoop.pudl.metadata.classes:1673 Recoding plants_eia860.sector_id_eia\n"
     ]
    },
    {
     "name": "stdout",
     "output_type": "stream",
     "text": [
      "Recoding plants_eia860.sector_id_eia\n"
     ]
    },
    {
     "name": "stderr",
     "output_type": "stream",
     "text": [
      "2023-03-03 15:46:57 [    INFO] catalystcoop.pudl.metadata.classes:1673 Recoding plants_eia860.data_maturity\n"
     ]
    },
    {
     "name": "stdout",
     "output_type": "stream",
     "text": [
      "Recoding plants_eia860.data_maturity\n"
     ]
    },
    {
     "name": "stderr",
     "output_type": "stream",
     "text": [
      "2023-03-03 15:46:57 -0900 - dagster - DEBUG - pre_harvested_eia860_assets_job - dbf85926-b58c-4ba0-a4d4-9217d183e00d - 70373 - clean_plants_eia860 - STEP_OUTPUT - Yielded output \"result\" of type \"Any\". (Type check passed).\n",
      "2023-03-03 15:46:57 -0900 - dagster - DEBUG - pre_harvested_eia860_assets_job - dbf85926-b58c-4ba0-a4d4-9217d183e00d - clean_plants_eia860 - Writing file at: /var/folders/ts/zf71sqq50nx4d41fy5xtsxhw0000gn/T/tmptiaapj13/storage/clean_plants_eia860\n",
      "2023-03-03 15:46:57 -0900 - dagster - DEBUG - pre_harvested_eia860_assets_job - dbf85926-b58c-4ba0-a4d4-9217d183e00d - 70373 - clean_plants_eia860 - ASSET_MATERIALIZATION - Materialized value clean_plants_eia860.\n",
      "2023-03-03 15:46:57 -0900 - dagster - DEBUG - pre_harvested_eia860_assets_job - dbf85926-b58c-4ba0-a4d4-9217d183e00d - 70373 - clean_plants_eia860 - HANDLED_OUTPUT - Handled output \"result\" using IO manager \"io_manager\"\n",
      "2023-03-03 15:46:57 -0900 - dagster - DEBUG - pre_harvested_eia860_assets_job - dbf85926-b58c-4ba0-a4d4-9217d183e00d - 70373 - clean_plants_eia860 - STEP_SUCCESS - Finished execution of step \"clean_plants_eia860\" in 719ms.\n",
      "2023-03-03 15:46:57 -0900 - dagster - DEBUG - pre_harvested_eia860_assets_job - dbf85926-b58c-4ba0-a4d4-9217d183e00d - 70373 - clean_utilities_eia860 - STEP_START - Started execution of step \"clean_utilities_eia860\".\n",
      "2023-03-03 15:46:57 -0900 - dagster - DEBUG - pre_harvested_eia860_assets_job - dbf85926-b58c-4ba0-a4d4-9217d183e00d - clean_utilities_eia860 - Loading file from: /var/folders/ts/zf71sqq50nx4d41fy5xtsxhw0000gn/T/tmptiaapj13/storage/raw_utility_eia860\n",
      "2023-03-03 15:46:57 -0900 - dagster - DEBUG - pre_harvested_eia860_assets_job - dbf85926-b58c-4ba0-a4d4-9217d183e00d - 70373 - clean_utilities_eia860 - ASSET_OBSERVATION - ASSET_OBSERVATION for step clean_utilities_eia860\n",
      "2023-03-03 15:46:57 -0900 - dagster - DEBUG - pre_harvested_eia860_assets_job - dbf85926-b58c-4ba0-a4d4-9217d183e00d - 70373 - clean_utilities_eia860 - LOADED_INPUT - Loaded input \"raw_utility_eia860\" using input manager \"io_manager\"\n",
      "2023-03-03 15:46:57 -0900 - dagster - DEBUG - pre_harvested_eia860_assets_job - dbf85926-b58c-4ba0-a4d4-9217d183e00d - 70373 - clean_utilities_eia860 - STEP_INPUT - Got input \"raw_utility_eia860\" of type \"Any\". (Type check passed).\n",
      "2023-03-03 15:46:57 -0900 - dagster - DEBUG - pre_harvested_eia860_assets_job - dbf85926-b58c-4ba0-a4d4-9217d183e00d - 70373 - clean_utilities_eia860 - STEP_OUTPUT - Yielded output \"result\" of type \"Any\". (Type check passed).\n",
      "2023-03-03 15:46:57 -0900 - dagster - DEBUG - pre_harvested_eia860_assets_job - dbf85926-b58c-4ba0-a4d4-9217d183e00d - clean_utilities_eia860 - Writing file at: /var/folders/ts/zf71sqq50nx4d41fy5xtsxhw0000gn/T/tmptiaapj13/storage/clean_utilities_eia860\n",
      "2023-03-03 15:46:57 -0900 - dagster - DEBUG - pre_harvested_eia860_assets_job - dbf85926-b58c-4ba0-a4d4-9217d183e00d - 70373 - clean_utilities_eia860 - ASSET_MATERIALIZATION - Materialized value clean_utilities_eia860.\n",
      "2023-03-03 15:46:57 -0900 - dagster - DEBUG - pre_harvested_eia860_assets_job - dbf85926-b58c-4ba0-a4d4-9217d183e00d - 70373 - clean_utilities_eia860 - HANDLED_OUTPUT - Handled output \"result\" using IO manager \"io_manager\"\n",
      "2023-03-03 15:46:57 -0900 - dagster - DEBUG - pre_harvested_eia860_assets_job - dbf85926-b58c-4ba0-a4d4-9217d183e00d - 70373 - clean_utilities_eia860 - STEP_SUCCESS - Finished execution of step \"clean_utilities_eia860\" in 129ms.\n",
      "2023-03-03 15:46:57 -0900 - dagster - DEBUG - pre_harvested_eia860_assets_job - dbf85926-b58c-4ba0-a4d4-9217d183e00d - 70373 - ENGINE_EVENT - Finished steps in process (pid: 70373) in 10.18s\n",
      "2023-03-03 15:46:57 -0900 - dagster - DEBUG - pre_harvested_eia860_assets_job - dbf85926-b58c-4ba0-a4d4-9217d183e00d - 70373 - RUN_SUCCESS - Finished execution of run for \"pre_harvested_eia860_assets_job\".\n"
     ]
    },
    {
     "name": "stdout",
     "output_type": "stream",
     "text": [
      "CPU times: user 9.71 s, sys: 355 ms, total: 10.1 s\n",
      "Wall time: 10.3 s\n"
     ]
    }
   ],
   "source": [
    "%%time\n",
    "pre_harvested_eia860_assets_job = get_job_from_asset_group(\"pre_harvested_eia860_assets\", eia_settings=eia_settings)\n",
    "pre_harvested_eia860_assets_job_result = pre_harvested_eia860_assets_job.execute_in_process()\n",
    "assert pre_harvested_eia860_assets_job_result.success"
   ]
  },
  {
   "cell_type": "code",
   "execution_count": 9,
   "metadata": {
    "tags": []
   },
   "outputs": [
    {
     "data": {
      "text/plain": [
       "['clean_ownership_eia860',\n",
       " 'clean_boiler_generator_assn_eia860',\n",
       " 'clean_utilities_eia860',\n",
       " 'clean_plants_eia860',\n",
       " 'clean_generators_eia860']"
      ]
     },
     "execution_count": 9,
     "metadata": {},
     "output_type": "execute_result"
    }
   ],
   "source": [
    "get_asset_group_keys(\"pre_harvested_eia860_assets\")"
   ]
  },
  {
   "cell_type": "code",
   "execution_count": 10,
   "metadata": {
    "tags": []
   },
   "outputs": [
    {
     "data": {
      "text/html": [
       "<div>\n",
       "<style scoped>\n",
       "    .dataframe tbody tr th:only-of-type {\n",
       "        vertical-align: middle;\n",
       "    }\n",
       "\n",
       "    .dataframe tbody tr th {\n",
       "        vertical-align: top;\n",
       "    }\n",
       "\n",
       "    .dataframe thead th {\n",
       "        text-align: right;\n",
       "    }\n",
       "</style>\n",
       "<table border=\"1\" class=\"dataframe\">\n",
       "  <thead>\n",
       "    <tr style=\"text-align: right;\">\n",
       "      <th></th>\n",
       "      <th>plant_id_eia</th>\n",
       "      <th>generator_id</th>\n",
       "      <th>data_maturity</th>\n",
       "      <th>fraction_owned</th>\n",
       "      <th>operational_status_code</th>\n",
       "      <th>owner_city</th>\n",
       "      <th>owner_name</th>\n",
       "      <th>owner_state</th>\n",
       "      <th>owner_street_address</th>\n",
       "      <th>owner_utility_id_eia</th>\n",
       "      <th>owner_zip_code</th>\n",
       "      <th>plant_name_eia</th>\n",
       "      <th>state</th>\n",
       "      <th>utility_id_eia</th>\n",
       "      <th>utility_name_eia</th>\n",
       "      <th>report_date</th>\n",
       "      <th>owner_country</th>\n",
       "    </tr>\n",
       "  </thead>\n",
       "  <tbody>\n",
       "    <tr>\n",
       "      <th>0</th>\n",
       "      <td>10</td>\n",
       "      <td>1</td>\n",
       "      <td>final</td>\n",
       "      <td>0.6</td>\n",
       "      <td>OP</td>\n",
       "      <td>Birmingham</td>\n",
       "      <td>Alabama Power Co</td>\n",
       "      <td>AL</td>\n",
       "      <td>600 North 18th Street</td>\n",
       "      <td>195</td>\n",
       "      <td>35291</td>\n",
       "      <td>Greene County</td>\n",
       "      <td>AL</td>\n",
       "      <td>195</td>\n",
       "      <td>Alabama Power Co</td>\n",
       "      <td>2021-01-01</td>\n",
       "      <td>USA</td>\n",
       "    </tr>\n",
       "    <tr>\n",
       "      <th>1</th>\n",
       "      <td>10</td>\n",
       "      <td>1</td>\n",
       "      <td>final</td>\n",
       "      <td>0.4</td>\n",
       "      <td>OP</td>\n",
       "      <td>Gulfport</td>\n",
       "      <td>Mississippi Power Co</td>\n",
       "      <td>MS</td>\n",
       "      <td>2992 West Beach Boulevard</td>\n",
       "      <td>12686</td>\n",
       "      <td>39501</td>\n",
       "      <td>Greene County</td>\n",
       "      <td>AL</td>\n",
       "      <td>195</td>\n",
       "      <td>Alabama Power Co</td>\n",
       "      <td>2021-01-01</td>\n",
       "      <td>USA</td>\n",
       "    </tr>\n",
       "    <tr>\n",
       "      <th>2</th>\n",
       "      <td>10</td>\n",
       "      <td>2</td>\n",
       "      <td>final</td>\n",
       "      <td>0.6</td>\n",
       "      <td>OP</td>\n",
       "      <td>Birmingham</td>\n",
       "      <td>Alabama Power Co</td>\n",
       "      <td>AL</td>\n",
       "      <td>600 North 18th Street</td>\n",
       "      <td>195</td>\n",
       "      <td>35291</td>\n",
       "      <td>Greene County</td>\n",
       "      <td>AL</td>\n",
       "      <td>195</td>\n",
       "      <td>Alabama Power Co</td>\n",
       "      <td>2021-01-01</td>\n",
       "      <td>USA</td>\n",
       "    </tr>\n",
       "    <tr>\n",
       "      <th>3</th>\n",
       "      <td>10</td>\n",
       "      <td>2</td>\n",
       "      <td>final</td>\n",
       "      <td>0.4</td>\n",
       "      <td>OP</td>\n",
       "      <td>Gulfport</td>\n",
       "      <td>Mississippi Power Co</td>\n",
       "      <td>MS</td>\n",
       "      <td>2992 West Beach Boulevard</td>\n",
       "      <td>12686</td>\n",
       "      <td>39501</td>\n",
       "      <td>Greene County</td>\n",
       "      <td>AL</td>\n",
       "      <td>195</td>\n",
       "      <td>Alabama Power Co</td>\n",
       "      <td>2021-01-01</td>\n",
       "      <td>USA</td>\n",
       "    </tr>\n",
       "    <tr>\n",
       "      <th>4</th>\n",
       "      <td>26</td>\n",
       "      <td>1</td>\n",
       "      <td>final</td>\n",
       "      <td>0.5</td>\n",
       "      <td>OP</td>\n",
       "      <td>Birmingham</td>\n",
       "      <td>Alabama Power Co</td>\n",
       "      <td>AL</td>\n",
       "      <td>600 North 18th Street</td>\n",
       "      <td>195</td>\n",
       "      <td>35291</td>\n",
       "      <td>E C Gaston</td>\n",
       "      <td>AL</td>\n",
       "      <td>195</td>\n",
       "      <td>Alabama Power Co</td>\n",
       "      <td>2021-01-01</td>\n",
       "      <td>USA</td>\n",
       "    </tr>\n",
       "  </tbody>\n",
       "</table>\n",
       "</div>"
      ],
      "text/plain": [
       "   plant_id_eia generator_id data_maturity  fraction_owned operational_status_code  owner_city            owner_name owner_state       owner_street_address  owner_utility_id_eia owner_zip_code plant_name_eia state  utility_id_eia  utility_name_eia report_date owner_country\n",
       "0            10            1         final             0.6                      OP  Birmingham      Alabama Power Co          AL      600 North 18th Street                   195          35291  Greene County    AL             195  Alabama Power Co  2021-01-01           USA\n",
       "1            10            1         final             0.4                      OP    Gulfport  Mississippi Power Co          MS  2992 West Beach Boulevard                 12686          39501  Greene County    AL             195  Alabama Power Co  2021-01-01           USA\n",
       "2            10            2         final             0.6                      OP  Birmingham      Alabama Power Co          AL      600 North 18th Street                   195          35291  Greene County    AL             195  Alabama Power Co  2021-01-01           USA\n",
       "3            10            2         final             0.4                      OP    Gulfport  Mississippi Power Co          MS  2992 West Beach Boulevard                 12686          39501  Greene County    AL             195  Alabama Power Co  2021-01-01           USA\n",
       "4            26            1         final             0.5                      OP  Birmingham      Alabama Power Co          AL      600 North 18th Street                   195          35291     E C Gaston    AL             195  Alabama Power Co  2021-01-01           USA"
      ]
     },
     "execution_count": 10,
     "metadata": {},
     "output_type": "execute_result"
    }
   ],
   "source": [
    "asset_key = \"clean_ownership_eia860\"\n",
    "pre_harvested_eia860_assets_job_result.asset_value(asset_key).head()"
   ]
  },
  {
   "cell_type": "markdown",
   "metadata": {},
   "source": [
    "# EIA-923"
   ]
  },
  {
   "cell_type": "markdown",
   "metadata": {},
   "source": [
    "## Extract just the EIA-923"
   ]
  },
  {
   "cell_type": "code",
   "execution_count": 11,
   "metadata": {
    "tags": []
   },
   "outputs": [
    {
     "name": "stderr",
     "output_type": "stream",
     "text": [
      "2023-03-03 15:46:57 [ WARNING] catalystcoop.pudl.workspace.setup:62 pudl_settings is being depcrated in favor of environment variables PUDL_OUTPUT and PUDL_CACHE\n"
     ]
    },
    {
     "name": "stdout",
     "output_type": "stream",
     "text": [
      "pudl_settings is being depcrated in favor of environment variables PUDL_OUTPUT and PUDL_CACHE\n"
     ]
    },
    {
     "name": "stderr",
     "output_type": "stream",
     "text": [
      "2023-03-03 15:46:57 [ WARNING] catalystcoop.pudl.workspace.setup:105 pudl_settings is being depcrated in favor of environment variables PUDL_OUTPUT and PUDL_CACHE. For more infosee: https://catalystcoop-pudl.readthedocs.io/en/dev/dev/dev_setup.html\n"
     ]
    },
    {
     "name": "stdout",
     "output_type": "stream",
     "text": [
      "pudl_settings is being depcrated in favor of environment variables PUDL_OUTPUT and PUDL_CACHE. For more infosee: https://catalystcoop-pudl.readthedocs.io/en/dev/dev/dev_setup.html\n"
     ]
    },
    {
     "name": "stderr",
     "output_type": "stream",
     "text": [
      "2023-03-03 15:46:57 [ WARNING] catalystcoop.pudl.workspace.setup:126 sqlite and parquet directories are no longer being used. Make sure there is a single directory named 'output' at the root of your workspace. For more info see: https://catalystcoop-pudl.readthedocs.io/en/dev/dev/dev_setup.html\n"
     ]
    },
    {
     "name": "stdout",
     "output_type": "stream",
     "text": [
      "sqlite and parquet directories are no longer being used. Make sure there is a single directory named 'output' at the root of your workspace. For more info see: https://catalystcoop-pudl.readthedocs.io/en/dev/dev/dev_setup.html\n"
     ]
    },
    {
     "name": "stderr",
     "output_type": "stream",
     "text": [
      "2023-03-03 15:46:58 [ WARNING] catalystcoop.pudl.workspace.setup:62 pudl_settings is being depcrated in favor of environment variables PUDL_OUTPUT and PUDL_CACHE\n"
     ]
    },
    {
     "name": "stdout",
     "output_type": "stream",
     "text": [
      "pudl_settings is being depcrated in favor of environment variables PUDL_OUTPUT and PUDL_CACHE\n"
     ]
    },
    {
     "name": "stderr",
     "output_type": "stream",
     "text": [
      "2023-03-03 15:46:58 [ WARNING] catalystcoop.pudl.workspace.setup:105 pudl_settings is being depcrated in favor of environment variables PUDL_OUTPUT and PUDL_CACHE. For more infosee: https://catalystcoop-pudl.readthedocs.io/en/dev/dev/dev_setup.html\n"
     ]
    },
    {
     "name": "stdout",
     "output_type": "stream",
     "text": [
      "pudl_settings is being depcrated in favor of environment variables PUDL_OUTPUT and PUDL_CACHE. For more infosee: https://catalystcoop-pudl.readthedocs.io/en/dev/dev/dev_setup.html\n"
     ]
    },
    {
     "name": "stderr",
     "output_type": "stream",
     "text": [
      "2023-03-03 15:46:58 [ WARNING] catalystcoop.pudl.workspace.setup:126 sqlite and parquet directories are no longer being used. Make sure there is a single directory named 'output' at the root of your workspace. For more info see: https://catalystcoop-pudl.readthedocs.io/en/dev/dev/dev_setup.html\n"
     ]
    },
    {
     "name": "stdout",
     "output_type": "stream",
     "text": [
      "sqlite and parquet directories are no longer being used. Make sure there is a single directory named 'output' at the root of your workspace. For more info see: https://catalystcoop-pudl.readthedocs.io/en/dev/dev/dev_setup.html\n"
     ]
    },
    {
     "name": "stderr",
     "output_type": "stream",
     "text": [
      "2023-03-03 15:46:58 -0900 - dagster - DEBUG - eia923_raw_assets_job - 7b9cbfcc-852a-4bea-b63b-c884c3efce6e - 70373 - RUN_START - Started execution of run for \"eia923_raw_assets_job\".\n",
      "2023-03-03 15:46:58 -0900 - dagster - DEBUG - eia923_raw_assets_job - 7b9cbfcc-852a-4bea-b63b-c884c3efce6e - 70373 - ENGINE_EVENT - Executing steps in process (pid: 70373)\n",
      "2023-03-03 15:46:58 [ WARNING] catalystcoop.pudl.workspace.setup:62 pudl_settings is being depcrated in favor of environment variables PUDL_OUTPUT and PUDL_CACHE\n"
     ]
    },
    {
     "name": "stdout",
     "output_type": "stream",
     "text": [
      "pudl_settings is being depcrated in favor of environment variables PUDL_OUTPUT and PUDL_CACHE\n"
     ]
    },
    {
     "name": "stderr",
     "output_type": "stream",
     "text": [
      "2023-03-03 15:46:58 [ WARNING] catalystcoop.pudl.workspace.setup:105 pudl_settings is being depcrated in favor of environment variables PUDL_OUTPUT and PUDL_CACHE. For more infosee: https://catalystcoop-pudl.readthedocs.io/en/dev/dev/dev_setup.html\n"
     ]
    },
    {
     "name": "stdout",
     "output_type": "stream",
     "text": [
      "pudl_settings is being depcrated in favor of environment variables PUDL_OUTPUT and PUDL_CACHE. For more infosee: https://catalystcoop-pudl.readthedocs.io/en/dev/dev/dev_setup.html\n"
     ]
    },
    {
     "name": "stderr",
     "output_type": "stream",
     "text": [
      "2023-03-03 15:46:58 [ WARNING] catalystcoop.pudl.workspace.setup:126 sqlite and parquet directories are no longer being used. Make sure there is a single directory named 'output' at the root of your workspace. For more info see: https://catalystcoop-pudl.readthedocs.io/en/dev/dev/dev_setup.html\n"
     ]
    },
    {
     "name": "stdout",
     "output_type": "stream",
     "text": [
      "sqlite and parquet directories are no longer being used. Make sure there is a single directory named 'output' at the root of your workspace. For more info see: https://catalystcoop-pudl.readthedocs.io/en/dev/dev/dev_setup.html\n"
     ]
    },
    {
     "name": "stderr",
     "output_type": "stream",
     "text": [
      "2023-03-03 15:46:58 -0900 - dagster - DEBUG - eia923_raw_assets_job - 7b9cbfcc-852a-4bea-b63b-c884c3efce6e - 70373 - extract_eia923 - RESOURCE_INIT_STARTED - Starting initialization of resources [dataset_settings, datastore, io_manager].\n",
      "2023-03-03 15:46:58 -0900 - dagster - DEBUG - eia923_raw_assets_job - 7b9cbfcc-852a-4bea-b63b-c884c3efce6e - 70373 - extract_eia923 - RESOURCE_INIT_SUCCESS - Finished initialization of resources [dataset_settings, datastore, io_manager].\n",
      "2023-03-03 15:46:58 -0900 - dagster - DEBUG - eia923_raw_assets_job - 7b9cbfcc-852a-4bea-b63b-c884c3efce6e - 70373 - LOGS_CAPTURED - Started capturing logs in process (pid: 70373).\n",
      "2023-03-03 15:46:58 -0900 - dagster - DEBUG - eia923_raw_assets_job - 7b9cbfcc-852a-4bea-b63b-c884c3efce6e - 70373 - extract_eia923 - STEP_START - Started execution of step \"extract_eia923\".\n",
      "2023-03-03 15:46:58 [    INFO] catalystcoop.pudl.extract.excel:237 Extracting eia923 spreadsheet data.\n"
     ]
    },
    {
     "name": "stdout",
     "output_type": "stream",
     "text": [
      "Extracting eia923 spreadsheet data.\n",
      "Page 1 Energy Storage\n",
      "Page 1 Generation and Fuel Data\n",
      "Page 1 Puerto Rico\n",
      "Page 2 Oil Stocks Data\n",
      "Page 2 Stocks Data\n",
      "Page 3 Boiler Fuel Data\n",
      "Page 4 Generator Data\n",
      "Page 5 Fuel Receipts and Costs\n",
      "Page 6 Plant Frame\n",
      "Page 6 Plant Frame Puerto Rico\n"
     ]
    },
    {
     "name": "stderr",
     "output_type": "stream",
     "text": [
      "2023-03-03 15:47:25 -0900 - dagster - DEBUG - eia923_raw_assets_job - 7b9cbfcc-852a-4bea-b63b-c884c3efce6e - 70373 - extract_eia923 - STEP_OUTPUT - Yielded output \"raw_boiler_fuel_eia923\" of type \"Any\". (Type check passed).\n",
      "2023-03-03 15:47:25 -0900 - dagster - DEBUG - eia923_raw_assets_job - 7b9cbfcc-852a-4bea-b63b-c884c3efce6e - extract_eia923 - Writing file at: /var/folders/ts/zf71sqq50nx4d41fy5xtsxhw0000gn/T/tmptiaapj13/storage/raw_boiler_fuel_eia923\n",
      "2023-03-03 15:47:25 -0900 - dagster - DEBUG - eia923_raw_assets_job - 7b9cbfcc-852a-4bea-b63b-c884c3efce6e - 70373 - extract_eia923 - ASSET_MATERIALIZATION - Materialized value raw_boiler_fuel_eia923.\n",
      "2023-03-03 15:47:25 -0900 - dagster - DEBUG - eia923_raw_assets_job - 7b9cbfcc-852a-4bea-b63b-c884c3efce6e - 70373 - extract_eia923 - HANDLED_OUTPUT - Handled output \"raw_boiler_fuel_eia923\" using IO manager \"io_manager\"\n",
      "2023-03-03 15:47:25 -0900 - dagster - DEBUG - eia923_raw_assets_job - 7b9cbfcc-852a-4bea-b63b-c884c3efce6e - 70373 - extract_eia923 - STEP_OUTPUT - Yielded output \"raw_fuel_receipts_costs_eia923\" of type \"Any\". (Type check passed).\n",
      "2023-03-03 15:47:25 -0900 - dagster - DEBUG - eia923_raw_assets_job - 7b9cbfcc-852a-4bea-b63b-c884c3efce6e - extract_eia923 - Writing file at: /var/folders/ts/zf71sqq50nx4d41fy5xtsxhw0000gn/T/tmptiaapj13/storage/raw_fuel_receipts_costs_eia923\n",
      "2023-03-03 15:47:25 -0900 - dagster - DEBUG - eia923_raw_assets_job - 7b9cbfcc-852a-4bea-b63b-c884c3efce6e - 70373 - extract_eia923 - ASSET_MATERIALIZATION - Materialized value raw_fuel_receipts_costs_eia923.\n",
      "2023-03-03 15:47:25 -0900 - dagster - DEBUG - eia923_raw_assets_job - 7b9cbfcc-852a-4bea-b63b-c884c3efce6e - 70373 - extract_eia923 - HANDLED_OUTPUT - Handled output \"raw_fuel_receipts_costs_eia923\" using IO manager \"io_manager\"\n",
      "2023-03-03 15:47:25 -0900 - dagster - DEBUG - eia923_raw_assets_job - 7b9cbfcc-852a-4bea-b63b-c884c3efce6e - 70373 - extract_eia923 - STEP_OUTPUT - Yielded output \"raw_generation_fuel_eia923\" of type \"Any\". (Type check passed).\n",
      "2023-03-03 15:47:25 -0900 - dagster - DEBUG - eia923_raw_assets_job - 7b9cbfcc-852a-4bea-b63b-c884c3efce6e - extract_eia923 - Writing file at: /var/folders/ts/zf71sqq50nx4d41fy5xtsxhw0000gn/T/tmptiaapj13/storage/raw_generation_fuel_eia923\n",
      "2023-03-03 15:47:25 -0900 - dagster - DEBUG - eia923_raw_assets_job - 7b9cbfcc-852a-4bea-b63b-c884c3efce6e - 70373 - extract_eia923 - ASSET_MATERIALIZATION - Materialized value raw_generation_fuel_eia923.\n",
      "2023-03-03 15:47:25 -0900 - dagster - DEBUG - eia923_raw_assets_job - 7b9cbfcc-852a-4bea-b63b-c884c3efce6e - 70373 - extract_eia923 - HANDLED_OUTPUT - Handled output \"raw_generation_fuel_eia923\" using IO manager \"io_manager\"\n",
      "2023-03-03 15:47:25 -0900 - dagster - DEBUG - eia923_raw_assets_job - 7b9cbfcc-852a-4bea-b63b-c884c3efce6e - 70373 - extract_eia923 - STEP_OUTPUT - Yielded output \"raw_generator_eia923\" of type \"Any\". (Type check passed).\n",
      "2023-03-03 15:47:25 -0900 - dagster - DEBUG - eia923_raw_assets_job - 7b9cbfcc-852a-4bea-b63b-c884c3efce6e - extract_eia923 - Writing file at: /var/folders/ts/zf71sqq50nx4d41fy5xtsxhw0000gn/T/tmptiaapj13/storage/raw_generator_eia923\n",
      "2023-03-03 15:47:25 -0900 - dagster - DEBUG - eia923_raw_assets_job - 7b9cbfcc-852a-4bea-b63b-c884c3efce6e - 70373 - extract_eia923 - ASSET_MATERIALIZATION - Materialized value raw_generator_eia923.\n",
      "2023-03-03 15:47:25 -0900 - dagster - DEBUG - eia923_raw_assets_job - 7b9cbfcc-852a-4bea-b63b-c884c3efce6e - 70373 - extract_eia923 - HANDLED_OUTPUT - Handled output \"raw_generator_eia923\" using IO manager \"io_manager\"\n",
      "2023-03-03 15:47:25 -0900 - dagster - DEBUG - eia923_raw_assets_job - 7b9cbfcc-852a-4bea-b63b-c884c3efce6e - 70373 - extract_eia923 - STEP_OUTPUT - Yielded output \"raw_stocks_eia923\" of type \"Any\". (Type check passed).\n",
      "2023-03-03 15:47:25 -0900 - dagster - DEBUG - eia923_raw_assets_job - 7b9cbfcc-852a-4bea-b63b-c884c3efce6e - extract_eia923 - Writing file at: /var/folders/ts/zf71sqq50nx4d41fy5xtsxhw0000gn/T/tmptiaapj13/storage/raw_stocks_eia923\n",
      "2023-03-03 15:47:25 -0900 - dagster - DEBUG - eia923_raw_assets_job - 7b9cbfcc-852a-4bea-b63b-c884c3efce6e - 70373 - extract_eia923 - ASSET_MATERIALIZATION - Materialized value raw_stocks_eia923.\n",
      "2023-03-03 15:47:25 -0900 - dagster - DEBUG - eia923_raw_assets_job - 7b9cbfcc-852a-4bea-b63b-c884c3efce6e - 70373 - extract_eia923 - HANDLED_OUTPUT - Handled output \"raw_stocks_eia923\" using IO manager \"io_manager\"\n",
      "2023-03-03 15:47:25 -0900 - dagster - DEBUG - eia923_raw_assets_job - 7b9cbfcc-852a-4bea-b63b-c884c3efce6e - 70373 - extract_eia923 - STEP_SUCCESS - Finished execution of step \"extract_eia923\" in 27.49s.\n",
      "2023-03-03 15:47:25 -0900 - dagster - DEBUG - eia923_raw_assets_job - 7b9cbfcc-852a-4bea-b63b-c884c3efce6e - 70373 - ENGINE_EVENT - Finished steps in process (pid: 70373) in 27.51s\n",
      "2023-03-03 15:47:25 -0900 - dagster - DEBUG - eia923_raw_assets_job - 7b9cbfcc-852a-4bea-b63b-c884c3efce6e - 70373 - RUN_SUCCESS - Finished execution of run for \"eia923_raw_assets_job\".\n"
     ]
    },
    {
     "name": "stdout",
     "output_type": "stream",
     "text": [
      "CPU times: user 27.4 s, sys: 145 ms, total: 27.5 s\n",
      "Wall time: 27.7 s\n"
     ]
    }
   ],
   "source": [
    "%%time\n",
    "eia923_raw_assets_job = get_job_from_asset_group(\"eia923_raw_assets\", eia_settings=eia_settings)\n",
    "eia923_raw_assets_job_result = eia923_raw_assets_job.execute_in_process()\n",
    "assert eia923_raw_assets_job_result.success"
   ]
  },
  {
   "cell_type": "code",
   "execution_count": 12,
   "metadata": {
    "tags": []
   },
   "outputs": [
    {
     "data": {
      "text/plain": [
       "['raw_generator_eia923',\n",
       " 'raw_generation_fuel_eia923',\n",
       " 'raw_boiler_fuel_eia923',\n",
       " 'raw_stocks_eia923',\n",
       " 'raw_fuel_receipts_costs_eia923']"
      ]
     },
     "execution_count": 12,
     "metadata": {},
     "output_type": "execute_result"
    }
   ],
   "source": [
    "get_asset_group_keys(\"eia923_raw_assets\")"
   ]
  },
  {
   "cell_type": "code",
   "execution_count": 13,
   "metadata": {
    "tags": []
   },
   "outputs": [
    {
     "data": {
      "text/html": [
       "<div>\n",
       "<style scoped>\n",
       "    .dataframe tbody tr th:only-of-type {\n",
       "        vertical-align: middle;\n",
       "    }\n",
       "\n",
       "    .dataframe tbody tr th {\n",
       "        vertical-align: top;\n",
       "    }\n",
       "\n",
       "    .dataframe thead th {\n",
       "        text-align: right;\n",
       "    }\n",
       "</style>\n",
       "<table border=\"1\" class=\"dataframe\">\n",
       "  <thead>\n",
       "    <tr style=\"text-align: right;\">\n",
       "      <th></th>\n",
       "      <th>balancing_authority_code_eia</th>\n",
       "      <th>census_region</th>\n",
       "      <th>combined_heat_power</th>\n",
       "      <th>data_maturity</th>\n",
       "      <th>early_release</th>\n",
       "      <th>generator_id</th>\n",
       "      <th>naics_code</th>\n",
       "      <th>nerc_region</th>\n",
       "      <th>net_generation_mwh_april</th>\n",
       "      <th>net_generation_mwh_august</th>\n",
       "      <th>net_generation_mwh_december</th>\n",
       "      <th>net_generation_mwh_february</th>\n",
       "      <th>net_generation_mwh_january</th>\n",
       "      <th>net_generation_mwh_july</th>\n",
       "      <th>net_generation_mwh_june</th>\n",
       "      <th>net_generation_mwh_march</th>\n",
       "      <th>net_generation_mwh_may</th>\n",
       "      <th>net_generation_mwh_november</th>\n",
       "      <th>net_generation_mwh_october</th>\n",
       "      <th>net_generation_mwh_september</th>\n",
       "      <th>net_generation_mwh_year_to_date</th>\n",
       "      <th>operator_id</th>\n",
       "      <th>operator_name</th>\n",
       "      <th>plant_id_eia</th>\n",
       "      <th>plant_name_eia</th>\n",
       "      <th>plant_state</th>\n",
       "      <th>prime_mover_code</th>\n",
       "      <th>report_year</th>\n",
       "      <th>reporting_frequency_code</th>\n",
       "      <th>sector_id_eia</th>\n",
       "      <th>sector_name_eia</th>\n",
       "    </tr>\n",
       "  </thead>\n",
       "  <tbody>\n",
       "    <tr>\n",
       "      <th>0</th>\n",
       "      <td>SOCO</td>\n",
       "      <td>ESC</td>\n",
       "      <td>N</td>\n",
       "      <td>final</td>\n",
       "      <td>NaN</td>\n",
       "      <td>A2C2</td>\n",
       "      <td>22.0</td>\n",
       "      <td>SERC</td>\n",
       "      <td>117440</td>\n",
       "      <td>125106</td>\n",
       "      <td>77049</td>\n",
       "      <td>104273</td>\n",
       "      <td>135871</td>\n",
       "      <td>122586</td>\n",
       "      <td>121103</td>\n",
       "      <td>133825</td>\n",
       "      <td>126394</td>\n",
       "      <td>110123</td>\n",
       "      <td>125453</td>\n",
       "      <td>106784</td>\n",
       "      <td>1406007.0</td>\n",
       "      <td>195.0</td>\n",
       "      <td>Alabama Power Co</td>\n",
       "      <td>3</td>\n",
       "      <td>Barry</td>\n",
       "      <td>AL</td>\n",
       "      <td>CT</td>\n",
       "      <td>2021.0</td>\n",
       "      <td>M</td>\n",
       "      <td>1.0</td>\n",
       "      <td>Electric Utility</td>\n",
       "    </tr>\n",
       "    <tr>\n",
       "      <th>1</th>\n",
       "      <td>SOCO</td>\n",
       "      <td>ESC</td>\n",
       "      <td>N</td>\n",
       "      <td>final</td>\n",
       "      <td>NaN</td>\n",
       "      <td>A1CT2</td>\n",
       "      <td>22.0</td>\n",
       "      <td>SERC</td>\n",
       "      <td>65466</td>\n",
       "      <td>130369</td>\n",
       "      <td>128130</td>\n",
       "      <td>110624</td>\n",
       "      <td>125896</td>\n",
       "      <td>128816</td>\n",
       "      <td>121644</td>\n",
       "      <td>10190</td>\n",
       "      <td>112340</td>\n",
       "      <td>112650</td>\n",
       "      <td>84469</td>\n",
       "      <td>112429</td>\n",
       "      <td>1243023.0</td>\n",
       "      <td>195.0</td>\n",
       "      <td>Alabama Power Co</td>\n",
       "      <td>3</td>\n",
       "      <td>Barry</td>\n",
       "      <td>AL</td>\n",
       "      <td>CT</td>\n",
       "      <td>2021.0</td>\n",
       "      <td>M</td>\n",
       "      <td>1.0</td>\n",
       "      <td>Electric Utility</td>\n",
       "    </tr>\n",
       "    <tr>\n",
       "      <th>2</th>\n",
       "      <td>SOCO</td>\n",
       "      <td>ESC</td>\n",
       "      <td>N</td>\n",
       "      <td>final</td>\n",
       "      <td>NaN</td>\n",
       "      <td>A1ST</td>\n",
       "      <td>22.0</td>\n",
       "      <td>SERC</td>\n",
       "      <td>95954</td>\n",
       "      <td>131299</td>\n",
       "      <td>134911</td>\n",
       "      <td>106021</td>\n",
       "      <td>133937</td>\n",
       "      <td>130611</td>\n",
       "      <td>126197</td>\n",
       "      <td>18635</td>\n",
       "      <td>112335</td>\n",
       "      <td>121708</td>\n",
       "      <td>88350</td>\n",
       "      <td>55482</td>\n",
       "      <td>1255440.0</td>\n",
       "      <td>195.0</td>\n",
       "      <td>Alabama Power Co</td>\n",
       "      <td>3</td>\n",
       "      <td>Barry</td>\n",
       "      <td>AL</td>\n",
       "      <td>CA</td>\n",
       "      <td>2021.0</td>\n",
       "      <td>M</td>\n",
       "      <td>1.0</td>\n",
       "      <td>Electric Utility</td>\n",
       "    </tr>\n",
       "    <tr>\n",
       "      <th>3</th>\n",
       "      <td>SOCO</td>\n",
       "      <td>ESC</td>\n",
       "      <td>N</td>\n",
       "      <td>final</td>\n",
       "      <td>NaN</td>\n",
       "      <td>2</td>\n",
       "      <td>22.0</td>\n",
       "      <td>SERC</td>\n",
       "      <td>0</td>\n",
       "      <td>-179</td>\n",
       "      <td>-502</td>\n",
       "      <td>310</td>\n",
       "      <td>-437</td>\n",
       "      <td>-175</td>\n",
       "      <td>-179</td>\n",
       "      <td>-46</td>\n",
       "      <td>-116</td>\n",
       "      <td>-386</td>\n",
       "      <td>-178</td>\n",
       "      <td>-127</td>\n",
       "      <td>-2015.0</td>\n",
       "      <td>195.0</td>\n",
       "      <td>Alabama Power Co</td>\n",
       "      <td>3</td>\n",
       "      <td>Barry</td>\n",
       "      <td>AL</td>\n",
       "      <td>ST</td>\n",
       "      <td>2021.0</td>\n",
       "      <td>M</td>\n",
       "      <td>1.0</td>\n",
       "      <td>Electric Utility</td>\n",
       "    </tr>\n",
       "    <tr>\n",
       "      <th>4</th>\n",
       "      <td>SOCO</td>\n",
       "      <td>ESC</td>\n",
       "      <td>N</td>\n",
       "      <td>final</td>\n",
       "      <td>NaN</td>\n",
       "      <td>A2C1</td>\n",
       "      <td>22.0</td>\n",
       "      <td>SERC</td>\n",
       "      <td>102454</td>\n",
       "      <td>125593</td>\n",
       "      <td>76781</td>\n",
       "      <td>99333</td>\n",
       "      <td>134091</td>\n",
       "      <td>122663</td>\n",
       "      <td>119548</td>\n",
       "      <td>130806</td>\n",
       "      <td>125651</td>\n",
       "      <td>109456</td>\n",
       "      <td>123974</td>\n",
       "      <td>107128</td>\n",
       "      <td>1377478.0</td>\n",
       "      <td>195.0</td>\n",
       "      <td>Alabama Power Co</td>\n",
       "      <td>3</td>\n",
       "      <td>Barry</td>\n",
       "      <td>AL</td>\n",
       "      <td>CT</td>\n",
       "      <td>2021.0</td>\n",
       "      <td>M</td>\n",
       "      <td>1.0</td>\n",
       "      <td>Electric Utility</td>\n",
       "    </tr>\n",
       "  </tbody>\n",
       "</table>\n",
       "</div>"
      ],
      "text/plain": [
       "  balancing_authority_code_eia census_region combined_heat_power data_maturity early_release generator_id  naics_code nerc_region net_generation_mwh_april net_generation_mwh_august net_generation_mwh_december net_generation_mwh_february net_generation_mwh_january net_generation_mwh_july net_generation_mwh_june net_generation_mwh_march net_generation_mwh_may net_generation_mwh_november net_generation_mwh_october net_generation_mwh_september  net_generation_mwh_year_to_date  operator_id     operator_name  plant_id_eia plant_name_eia plant_state prime_mover_code  report_year reporting_frequency_code  sector_id_eia   sector_name_eia\n",
       "0                         SOCO           ESC                   N         final           NaN         A2C2        22.0        SERC                   117440                    125106                       77049                      104273                     135871                  122586                  121103                   133825                 126394                      110123                     125453                       106784                        1406007.0        195.0  Alabama Power Co             3          Barry          AL               CT       2021.0                        M            1.0  Electric Utility\n",
       "1                         SOCO           ESC                   N         final           NaN        A1CT2        22.0        SERC                    65466                    130369                      128130                      110624                     125896                  128816                  121644                    10190                 112340                      112650                      84469                       112429                        1243023.0        195.0  Alabama Power Co             3          Barry          AL               CT       2021.0                        M            1.0  Electric Utility\n",
       "2                         SOCO           ESC                   N         final           NaN         A1ST        22.0        SERC                    95954                    131299                      134911                      106021                     133937                  130611                  126197                    18635                 112335                      121708                      88350                        55482                        1255440.0        195.0  Alabama Power Co             3          Barry          AL               CA       2021.0                        M            1.0  Electric Utility\n",
       "3                         SOCO           ESC                   N         final           NaN            2        22.0        SERC                        0                      -179                        -502                         310                       -437                    -175                    -179                      -46                   -116                        -386                       -178                         -127                          -2015.0        195.0  Alabama Power Co             3          Barry          AL               ST       2021.0                        M            1.0  Electric Utility\n",
       "4                         SOCO           ESC                   N         final           NaN         A2C1        22.0        SERC                   102454                    125593                       76781                       99333                     134091                  122663                  119548                   130806                 125651                      109456                     123974                       107128                        1377478.0        195.0  Alabama Power Co             3          Barry          AL               CT       2021.0                        M            1.0  Electric Utility"
      ]
     },
     "execution_count": 13,
     "metadata": {},
     "output_type": "execute_result"
    }
   ],
   "source": [
    "asset_key = \"raw_generator_eia923\"\n",
    "raw_utility_eia923 = eia923_raw_assets_job_result.asset_value(asset_key)\n",
    "raw_utility_eia923.head()"
   ]
  },
  {
   "cell_type": "markdown",
   "metadata": {},
   "source": [
    "## Transform just the EIA-923"
   ]
  },
  {
   "cell_type": "code",
   "execution_count": 14,
   "metadata": {
    "tags": []
   },
   "outputs": [
    {
     "name": "stderr",
     "output_type": "stream",
     "text": [
      "2023-03-03 15:47:25 -0900 - dagster - DEBUG - pre_harvested_eia923_assets_job - 56e76cb2-aed3-4143-8378-4c475bbb6c51 - 70373 - RUN_START - Started execution of run for \"pre_harvested_eia923_assets_job\".\n",
      "2023-03-03 15:47:25 -0900 - dagster - DEBUG - pre_harvested_eia923_assets_job - 56e76cb2-aed3-4143-8378-4c475bbb6c51 - 70373 - ENGINE_EVENT - Executing steps in process (pid: 70373)\n",
      "2023-03-03 15:47:25 -0900 - dagster - DEBUG - pre_harvested_eia923_assets_job - 56e76cb2-aed3-4143-8378-4c475bbb6c51 - 70373 - RESOURCE_INIT_STARTED - Starting initialization of resources [io_manager].\n",
      "2023-03-03 15:47:25 -0900 - dagster - DEBUG - pre_harvested_eia923_assets_job - 56e76cb2-aed3-4143-8378-4c475bbb6c51 - 70373 - RESOURCE_INIT_SUCCESS - Finished initialization of resources [io_manager].\n",
      "2023-03-03 15:47:25 -0900 - dagster - DEBUG - pre_harvested_eia923_assets_job - 56e76cb2-aed3-4143-8378-4c475bbb6c51 - 70373 - LOGS_CAPTURED - Started capturing logs in process (pid: 70373).\n",
      "2023-03-03 15:47:25 -0900 - dagster - DEBUG - pre_harvested_eia923_assets_job - 56e76cb2-aed3-4143-8378-4c475bbb6c51 - 70373 - clean_boiler_fuel_eia923 - STEP_START - Started execution of step \"clean_boiler_fuel_eia923\".\n",
      "2023-03-03 15:47:25 -0900 - dagster - DEBUG - pre_harvested_eia923_assets_job - 56e76cb2-aed3-4143-8378-4c475bbb6c51 - clean_boiler_fuel_eia923 - Loading file from: /var/folders/ts/zf71sqq50nx4d41fy5xtsxhw0000gn/T/tmptiaapj13/storage/raw_boiler_fuel_eia923\n",
      "2023-03-03 15:47:25 -0900 - dagster - DEBUG - pre_harvested_eia923_assets_job - 56e76cb2-aed3-4143-8378-4c475bbb6c51 - 70373 - clean_boiler_fuel_eia923 - ASSET_OBSERVATION - ASSET_OBSERVATION for step clean_boiler_fuel_eia923\n",
      "2023-03-03 15:47:25 -0900 - dagster - DEBUG - pre_harvested_eia923_assets_job - 56e76cb2-aed3-4143-8378-4c475bbb6c51 - 70373 - clean_boiler_fuel_eia923 - LOADED_INPUT - Loaded input \"raw_boiler_fuel_eia923\" using input manager \"io_manager\"\n",
      "2023-03-03 15:47:25 -0900 - dagster - DEBUG - pre_harvested_eia923_assets_job - 56e76cb2-aed3-4143-8378-4c475bbb6c51 - 70373 - clean_boiler_fuel_eia923 - STEP_INPUT - Got input \"raw_boiler_fuel_eia923\" of type \"Any\". (Type check passed).\n",
      "2023-03-03 15:47:26 [    INFO] catalystcoop.pudl.metadata.classes:1673 Recoding boiler_fuel_eia923.energy_source_code\n"
     ]
    },
    {
     "name": "stdout",
     "output_type": "stream",
     "text": [
      "Recoding boiler_fuel_eia923.energy_source_code\n"
     ]
    },
    {
     "name": "stderr",
     "output_type": "stream",
     "text": [
      "2023-03-03 15:47:26 -0900 - dagster - DEBUG - pre_harvested_eia923_assets_job - 56e76cb2-aed3-4143-8378-4c475bbb6c51 - 70373 - clean_boiler_fuel_eia923 - STEP_OUTPUT - Yielded output \"result\" of type \"Any\". (Type check passed).\n",
      "2023-03-03 15:47:26 -0900 - dagster - DEBUG - pre_harvested_eia923_assets_job - 56e76cb2-aed3-4143-8378-4c475bbb6c51 - clean_boiler_fuel_eia923 - Writing file at: /var/folders/ts/zf71sqq50nx4d41fy5xtsxhw0000gn/T/tmptiaapj13/storage/clean_boiler_fuel_eia923\n",
      "2023-03-03 15:47:27 -0900 - dagster - DEBUG - pre_harvested_eia923_assets_job - 56e76cb2-aed3-4143-8378-4c475bbb6c51 - 70373 - clean_boiler_fuel_eia923 - ASSET_MATERIALIZATION - Materialized value clean_boiler_fuel_eia923.\n",
      "2023-03-03 15:47:27 -0900 - dagster - DEBUG - pre_harvested_eia923_assets_job - 56e76cb2-aed3-4143-8378-4c475bbb6c51 - 70373 - clean_boiler_fuel_eia923 - HANDLED_OUTPUT - Handled output \"result\" using IO manager \"io_manager\"\n",
      "2023-03-03 15:47:27 -0900 - dagster - DEBUG - pre_harvested_eia923_assets_job - 56e76cb2-aed3-4143-8378-4c475bbb6c51 - 70373 - clean_boiler_fuel_eia923 - STEP_SUCCESS - Finished execution of step \"clean_boiler_fuel_eia923\" in 1.14s.\n",
      "2023-03-03 15:47:27 -0900 - dagster - DEBUG - pre_harvested_eia923_assets_job - 56e76cb2-aed3-4143-8378-4c475bbb6c51 - 70373 - clean_coalmine_eia923 - STEP_START - Started execution of step \"clean_coalmine_eia923\".\n",
      "2023-03-03 15:47:27 -0900 - dagster - DEBUG - pre_harvested_eia923_assets_job - 56e76cb2-aed3-4143-8378-4c475bbb6c51 - clean_coalmine_eia923 - Loading file from: /var/folders/ts/zf71sqq50nx4d41fy5xtsxhw0000gn/T/tmptiaapj13/storage/raw_fuel_receipts_costs_eia923\n"
     ]
    },
    {
     "name": "stdout",
     "output_type": "stream",
     "text": [
      "<class 'pandas.core.frame.DataFrame'>\n",
      "Int64Index: 3492 entries, 121 to 8574\n",
      "Data columns (total 11 columns):\n",
      " #   Column               Non-Null Count  Dtype         \n",
      "---  ------               --------------  -----         \n",
      " 0   boiler_id            3492 non-null   object        \n",
      " 1   energy_source_code   3492 non-null   string        \n",
      " 2   plant_id_eia         3492 non-null   Int64         \n",
      " 3   prime_mover_code     3492 non-null   object        \n",
      " 4   sector_id_eia        3492 non-null   float64       \n",
      " 5   sector_name_eia      3492 non-null   object        \n",
      " 6   ash_content_pct      3352 non-null   float64       \n",
      " 7   fuel_consumed_units  3352 non-null   float64       \n",
      " 8   fuel_mmbtu_per_unit  3352 non-null   float64       \n",
      " 9   sulfur_content_pct   3352 non-null   float64       \n",
      " 10  report_date          3492 non-null   datetime64[ns]\n",
      "dtypes: Int64(1), datetime64[ns](1), float64(5), object(3), string(1)\n",
      "memory usage: 330.8+ KB\n",
      "Aggregate boilers: None\n"
     ]
    },
    {
     "name": "stderr",
     "output_type": "stream",
     "text": [
      "2023-03-03 15:47:27 -0900 - dagster - DEBUG - pre_harvested_eia923_assets_job - 56e76cb2-aed3-4143-8378-4c475bbb6c51 - 70373 - clean_coalmine_eia923 - ASSET_OBSERVATION - ASSET_OBSERVATION for step clean_coalmine_eia923\n",
      "2023-03-03 15:47:27 -0900 - dagster - DEBUG - pre_harvested_eia923_assets_job - 56e76cb2-aed3-4143-8378-4c475bbb6c51 - 70373 - clean_coalmine_eia923 - LOADED_INPUT - Loaded input \"raw_fuel_receipts_costs_eia923\" using input manager \"io_manager\"\n",
      "2023-03-03 15:47:27 -0900 - dagster - DEBUG - pre_harvested_eia923_assets_job - 56e76cb2-aed3-4143-8378-4c475bbb6c51 - 70373 - clean_coalmine_eia923 - STEP_INPUT - Got input \"raw_fuel_receipts_costs_eia923\" of type \"Any\". (Type check passed).\n",
      "2023-03-03 15:47:27 [    INFO] catalystcoop.pudl.helpers:207 Assigned state FIPS codes for 21.35% of records.\n"
     ]
    },
    {
     "name": "stdout",
     "output_type": "stream",
     "text": [
      "Assigned state FIPS codes for 21.35% of records.\n"
     ]
    },
    {
     "name": "stderr",
     "output_type": "stream",
     "text": [
      "2023-03-03 15:47:27 [    INFO] catalystcoop.pudl.metadata.classes:1673 Recoding coalmine_eia923.mine_type_code\n"
     ]
    },
    {
     "name": "stdout",
     "output_type": "stream",
     "text": [
      "Recoding coalmine_eia923.mine_type_code\n"
     ]
    },
    {
     "name": "stderr",
     "output_type": "stream",
     "text": [
      "2023-03-03 15:47:27 [    INFO] catalystcoop.pudl.metadata.classes:1673 Recoding coalmine_eia923.data_maturity\n"
     ]
    },
    {
     "name": "stdout",
     "output_type": "stream",
     "text": [
      "Recoding coalmine_eia923.data_maturity\n"
     ]
    },
    {
     "name": "stderr",
     "output_type": "stream",
     "text": [
      "2023-03-03 15:47:27 [    INFO] catalystcoop.pudl.metadata.classes:1673 Recoding coalmine_eia923.mine_type_code\n"
     ]
    },
    {
     "name": "stdout",
     "output_type": "stream",
     "text": [
      "Recoding coalmine_eia923.mine_type_code\n"
     ]
    },
    {
     "name": "stderr",
     "output_type": "stream",
     "text": [
      "2023-03-03 15:47:27 [    INFO] catalystcoop.pudl.metadata.classes:1673 Recoding coalmine_eia923.data_maturity\n"
     ]
    },
    {
     "name": "stdout",
     "output_type": "stream",
     "text": [
      "Recoding coalmine_eia923.data_maturity\n"
     ]
    },
    {
     "name": "stderr",
     "output_type": "stream",
     "text": [
      "2023-03-03 15:47:27 -0900 - dagster - DEBUG - pre_harvested_eia923_assets_job - 56e76cb2-aed3-4143-8378-4c475bbb6c51 - 70373 - clean_coalmine_eia923 - STEP_OUTPUT - Yielded output \"result\" of type \"Any\". (Type check passed).\n",
      "2023-03-03 15:47:27 -0900 - dagster - DEBUG - pre_harvested_eia923_assets_job - 56e76cb2-aed3-4143-8378-4c475bbb6c51 - clean_coalmine_eia923 - Writing file at: /var/folders/ts/zf71sqq50nx4d41fy5xtsxhw0000gn/T/tmptiaapj13/storage/clean_coalmine_eia923\n",
      "2023-03-03 15:47:27 -0900 - dagster - DEBUG - pre_harvested_eia923_assets_job - 56e76cb2-aed3-4143-8378-4c475bbb6c51 - 70373 - clean_coalmine_eia923 - ASSET_MATERIALIZATION - Materialized value clean_coalmine_eia923.\n",
      "2023-03-03 15:47:27 -0900 - dagster - DEBUG - pre_harvested_eia923_assets_job - 56e76cb2-aed3-4143-8378-4c475bbb6c51 - 70373 - clean_coalmine_eia923 - HANDLED_OUTPUT - Handled output \"result\" using IO manager \"io_manager\"\n",
      "2023-03-03 15:47:27 -0900 - dagster - DEBUG - pre_harvested_eia923_assets_job - 56e76cb2-aed3-4143-8378-4c475bbb6c51 - 70373 - clean_coalmine_eia923 - STEP_SUCCESS - Finished execution of step \"clean_coalmine_eia923\" in 507ms.\n",
      "2023-03-03 15:47:27 -0900 - dagster - DEBUG - pre_harvested_eia923_assets_job - 56e76cb2-aed3-4143-8378-4c475bbb6c51 - 70373 - clean_generation_eia923 - STEP_START - Started execution of step \"clean_generation_eia923\".\n",
      "2023-03-03 15:47:27 -0900 - dagster - DEBUG - pre_harvested_eia923_assets_job - 56e76cb2-aed3-4143-8378-4c475bbb6c51 - clean_generation_eia923 - Loading file from: /var/folders/ts/zf71sqq50nx4d41fy5xtsxhw0000gn/T/tmptiaapj13/storage/raw_generator_eia923\n",
      "2023-03-03 15:47:27 -0900 - dagster - DEBUG - pre_harvested_eia923_assets_job - 56e76cb2-aed3-4143-8378-4c475bbb6c51 - 70373 - clean_generation_eia923 - ASSET_OBSERVATION - ASSET_OBSERVATION for step clean_generation_eia923\n",
      "2023-03-03 15:47:27 -0900 - dagster - DEBUG - pre_harvested_eia923_assets_job - 56e76cb2-aed3-4143-8378-4c475bbb6c51 - 70373 - clean_generation_eia923 - LOADED_INPUT - Loaded input \"raw_generator_eia923\" using input manager \"io_manager\"\n",
      "2023-03-03 15:47:27 -0900 - dagster - DEBUG - pre_harvested_eia923_assets_job - 56e76cb2-aed3-4143-8378-4c475bbb6c51 - 70373 - clean_generation_eia923 - STEP_INPUT - Got input \"raw_generator_eia923\" of type \"Any\". (Type check passed).\n",
      "2023-03-03 15:47:28 [    INFO] catalystcoop.pudl.metadata.classes:1673 Recoding generation_eia923.data_maturity\n"
     ]
    },
    {
     "name": "stdout",
     "output_type": "stream",
     "text": [
      "Recoding generation_eia923.data_maturity\n"
     ]
    },
    {
     "name": "stderr",
     "output_type": "stream",
     "text": [
      "2023-03-03 15:47:28 -0900 - dagster - DEBUG - pre_harvested_eia923_assets_job - 56e76cb2-aed3-4143-8378-4c475bbb6c51 - 70373 - clean_generation_eia923 - STEP_OUTPUT - Yielded output \"result\" of type \"Any\". (Type check passed).\n",
      "2023-03-03 15:47:28 -0900 - dagster - DEBUG - pre_harvested_eia923_assets_job - 56e76cb2-aed3-4143-8378-4c475bbb6c51 - clean_generation_eia923 - Writing file at: /var/folders/ts/zf71sqq50nx4d41fy5xtsxhw0000gn/T/tmptiaapj13/storage/clean_generation_eia923\n",
      "2023-03-03 15:47:28 -0900 - dagster - DEBUG - pre_harvested_eia923_assets_job - 56e76cb2-aed3-4143-8378-4c475bbb6c51 - 70373 - clean_generation_eia923 - ASSET_MATERIALIZATION - Materialized value clean_generation_eia923.\n",
      "2023-03-03 15:47:28 -0900 - dagster - DEBUG - pre_harvested_eia923_assets_job - 56e76cb2-aed3-4143-8378-4c475bbb6c51 - 70373 - clean_generation_eia923 - HANDLED_OUTPUT - Handled output \"result\" using IO manager \"io_manager\"\n",
      "2023-03-03 15:47:28 -0900 - dagster - DEBUG - pre_harvested_eia923_assets_job - 56e76cb2-aed3-4143-8378-4c475bbb6c51 - 70373 - clean_generation_eia923 - STEP_SUCCESS - Finished execution of step \"clean_generation_eia923\" in 488ms.\n",
      "2023-03-03 15:47:28 -0900 - dagster - DEBUG - pre_harvested_eia923_assets_job - 56e76cb2-aed3-4143-8378-4c475bbb6c51 - 70373 - generation_fuel_eia923 - STEP_START - Started execution of step \"generation_fuel_eia923\".\n",
      "2023-03-03 15:47:28 -0900 - dagster - DEBUG - pre_harvested_eia923_assets_job - 56e76cb2-aed3-4143-8378-4c475bbb6c51 - generation_fuel_eia923 - Loading file from: /var/folders/ts/zf71sqq50nx4d41fy5xtsxhw0000gn/T/tmptiaapj13/storage/raw_generation_fuel_eia923\n",
      "2023-03-03 15:47:28 -0900 - dagster - DEBUG - pre_harvested_eia923_assets_job - 56e76cb2-aed3-4143-8378-4c475bbb6c51 - 70373 - generation_fuel_eia923 - ASSET_OBSERVATION - ASSET_OBSERVATION for step generation_fuel_eia923\n",
      "2023-03-03 15:47:28 -0900 - dagster - DEBUG - pre_harvested_eia923_assets_job - 56e76cb2-aed3-4143-8378-4c475bbb6c51 - 70373 - generation_fuel_eia923 - LOADED_INPUT - Loaded input \"raw_generation_fuel_eia923\" using input manager \"io_manager\"\n",
      "2023-03-03 15:47:28 -0900 - dagster - DEBUG - pre_harvested_eia923_assets_job - 56e76cb2-aed3-4143-8378-4c475bbb6c51 - 70373 - generation_fuel_eia923 - STEP_INPUT - Got input \"raw_generation_fuel_eia923\" of type \"Any\". (Type check passed).\n",
      "2023-03-03 15:47:31 [    INFO] catalystcoop.pudl.metadata.classes:1673 Recoding generation_fuel_eia923.energy_source_code\n"
     ]
    },
    {
     "name": "stdout",
     "output_type": "stream",
     "text": [
      "Recoding generation_fuel_eia923.energy_source_code\n"
     ]
    },
    {
     "name": "stderr",
     "output_type": "stream",
     "text": [
      "2023-03-03 15:47:31 [    INFO] catalystcoop.pudl.metadata.classes:1673 Recoding generation_fuel_eia923.fuel_type_code_aer\n"
     ]
    },
    {
     "name": "stdout",
     "output_type": "stream",
     "text": [
      "Recoding generation_fuel_eia923.fuel_type_code_aer\n"
     ]
    },
    {
     "name": "stderr",
     "output_type": "stream",
     "text": [
      "2023-03-03 15:47:31 [    INFO] catalystcoop.pudl.metadata.classes:1673 Recoding generation_fuel_eia923.prime_mover_code\n"
     ]
    },
    {
     "name": "stdout",
     "output_type": "stream",
     "text": [
      "Recoding generation_fuel_eia923.prime_mover_code\n"
     ]
    },
    {
     "name": "stderr",
     "output_type": "stream",
     "text": [
      "2023-03-03 15:47:31 [    INFO] catalystcoop.pudl.metadata.classes:1673 Recoding generation_fuel_eia923.data_maturity\n"
     ]
    },
    {
     "name": "stdout",
     "output_type": "stream",
     "text": [
      "Recoding generation_fuel_eia923.data_maturity\n"
     ]
    },
    {
     "name": "stderr",
     "output_type": "stream",
     "text": [
      "2023-03-03 15:47:32 -0900 - dagster - DEBUG - pre_harvested_eia923_assets_job - 56e76cb2-aed3-4143-8378-4c475bbb6c51 - 70373 - generation_fuel_eia923 - STEP_OUTPUT - Yielded output \"clean_generation_fuel_eia923\" of type \"Any\". (Type check passed).\n",
      "2023-03-03 15:47:32 -0900 - dagster - DEBUG - pre_harvested_eia923_assets_job - 56e76cb2-aed3-4143-8378-4c475bbb6c51 - generation_fuel_eia923 - Writing file at: /var/folders/ts/zf71sqq50nx4d41fy5xtsxhw0000gn/T/tmptiaapj13/storage/clean_generation_fuel_eia923\n",
      "2023-03-03 15:47:32 -0900 - dagster - DEBUG - pre_harvested_eia923_assets_job - 56e76cb2-aed3-4143-8378-4c475bbb6c51 - 70373 - generation_fuel_eia923 - ASSET_MATERIALIZATION - Materialized value clean_generation_fuel_eia923.\n",
      "2023-03-03 15:47:32 -0900 - dagster - DEBUG - pre_harvested_eia923_assets_job - 56e76cb2-aed3-4143-8378-4c475bbb6c51 - 70373 - generation_fuel_eia923 - HANDLED_OUTPUT - Handled output \"clean_generation_fuel_eia923\" using IO manager \"io_manager\"\n",
      "2023-03-03 15:47:32 -0900 - dagster - DEBUG - pre_harvested_eia923_assets_job - 56e76cb2-aed3-4143-8378-4c475bbb6c51 - 70373 - generation_fuel_eia923 - STEP_OUTPUT - Yielded output \"clean_generation_fuel_nuclear_eia923\" of type \"Any\". (Type check passed).\n",
      "2023-03-03 15:47:32 -0900 - dagster - DEBUG - pre_harvested_eia923_assets_job - 56e76cb2-aed3-4143-8378-4c475bbb6c51 - generation_fuel_eia923 - Writing file at: /var/folders/ts/zf71sqq50nx4d41fy5xtsxhw0000gn/T/tmptiaapj13/storage/clean_generation_fuel_nuclear_eia923\n",
      "2023-03-03 15:47:32 -0900 - dagster - DEBUG - pre_harvested_eia923_assets_job - 56e76cb2-aed3-4143-8378-4c475bbb6c51 - 70373 - generation_fuel_eia923 - ASSET_MATERIALIZATION - Materialized value clean_generation_fuel_nuclear_eia923.\n",
      "2023-03-03 15:47:32 -0900 - dagster - DEBUG - pre_harvested_eia923_assets_job - 56e76cb2-aed3-4143-8378-4c475bbb6c51 - 70373 - generation_fuel_eia923 - HANDLED_OUTPUT - Handled output \"clean_generation_fuel_nuclear_eia923\" using IO manager \"io_manager\"\n",
      "2023-03-03 15:47:32 -0900 - dagster - DEBUG - pre_harvested_eia923_assets_job - 56e76cb2-aed3-4143-8378-4c475bbb6c51 - 70373 - generation_fuel_eia923 - STEP_SUCCESS - Finished execution of step \"generation_fuel_eia923\" in 4.76s.\n",
      "2023-03-03 15:47:32 -0900 - dagster - DEBUG - pre_harvested_eia923_assets_job - 56e76cb2-aed3-4143-8378-4c475bbb6c51 - 70373 - clean_fuel_receipts_costs_eia923 - STEP_START - Started execution of step \"clean_fuel_receipts_costs_eia923\".\n",
      "2023-03-03 15:47:32 -0900 - dagster - DEBUG - pre_harvested_eia923_assets_job - 56e76cb2-aed3-4143-8378-4c475bbb6c51 - clean_fuel_receipts_costs_eia923 - Loading file from: /var/folders/ts/zf71sqq50nx4d41fy5xtsxhw0000gn/T/tmptiaapj13/storage/clean_coalmine_eia923\n",
      "2023-03-03 15:47:32 -0900 - dagster - DEBUG - pre_harvested_eia923_assets_job - 56e76cb2-aed3-4143-8378-4c475bbb6c51 - 70373 - clean_fuel_receipts_costs_eia923 - ASSET_OBSERVATION - ASSET_OBSERVATION for step clean_fuel_receipts_costs_eia923\n",
      "2023-03-03 15:47:32 -0900 - dagster - DEBUG - pre_harvested_eia923_assets_job - 56e76cb2-aed3-4143-8378-4c475bbb6c51 - 70373 - clean_fuel_receipts_costs_eia923 - LOADED_INPUT - Loaded input \"clean_coalmine_eia923\" using input manager \"io_manager\", from output \"result\" of step \"clean_coalmine_eia923\"\n",
      "2023-03-03 15:47:32 -0900 - dagster - DEBUG - pre_harvested_eia923_assets_job - 56e76cb2-aed3-4143-8378-4c475bbb6c51 - clean_fuel_receipts_costs_eia923 - Loading file from: /var/folders/ts/zf71sqq50nx4d41fy5xtsxhw0000gn/T/tmptiaapj13/storage/raw_fuel_receipts_costs_eia923\n",
      "2023-03-03 15:47:32 -0900 - dagster - DEBUG - pre_harvested_eia923_assets_job - 56e76cb2-aed3-4143-8378-4c475bbb6c51 - 70373 - clean_fuel_receipts_costs_eia923 - ASSET_OBSERVATION - ASSET_OBSERVATION for step clean_fuel_receipts_costs_eia923\n",
      "2023-03-03 15:47:32 -0900 - dagster - DEBUG - pre_harvested_eia923_assets_job - 56e76cb2-aed3-4143-8378-4c475bbb6c51 - 70373 - clean_fuel_receipts_costs_eia923 - LOADED_INPUT - Loaded input \"raw_fuel_receipts_costs_eia923\" using input manager \"io_manager\"\n",
      "2023-03-03 15:47:32 -0900 - dagster - DEBUG - pre_harvested_eia923_assets_job - 56e76cb2-aed3-4143-8378-4c475bbb6c51 - 70373 - clean_fuel_receipts_costs_eia923 - STEP_INPUT - Got input \"clean_coalmine_eia923\" of type \"Any\". (Type check passed).\n",
      "2023-03-03 15:47:32 -0900 - dagster - DEBUG - pre_harvested_eia923_assets_job - 56e76cb2-aed3-4143-8378-4c475bbb6c51 - 70373 - clean_fuel_receipts_costs_eia923 - STEP_INPUT - Got input \"raw_fuel_receipts_costs_eia923\" of type \"Any\". (Type check passed).\n",
      "2023-03-03 15:47:33 [    INFO] catalystcoop.pudl.helpers:207 Assigned state FIPS codes for 21.35% of records.\n"
     ]
    },
    {
     "name": "stdout",
     "output_type": "stream",
     "text": [
      "Assigned state FIPS codes for 21.35% of records.\n"
     ]
    },
    {
     "name": "stderr",
     "output_type": "stream",
     "text": [
      "2023-03-03 15:47:33 [    INFO] catalystcoop.pudl.metadata.classes:1673 Recoding coalmine_eia923.mine_type_code\n"
     ]
    },
    {
     "name": "stdout",
     "output_type": "stream",
     "text": [
      "Recoding coalmine_eia923.mine_type_code\n"
     ]
    },
    {
     "name": "stderr",
     "output_type": "stream",
     "text": [
      "2023-03-03 15:47:33 [    INFO] catalystcoop.pudl.metadata.classes:1673 Recoding coalmine_eia923.data_maturity\n"
     ]
    },
    {
     "name": "stdout",
     "output_type": "stream",
     "text": [
      "Recoding coalmine_eia923.data_maturity\n"
     ]
    },
    {
     "name": "stderr",
     "output_type": "stream",
     "text": [
      "2023-03-03 15:47:34 [    INFO] catalystcoop.pudl.metadata.classes:1673 Recoding fuel_receipts_costs_eia923.contract_type_code\n"
     ]
    },
    {
     "name": "stdout",
     "output_type": "stream",
     "text": [
      "Recoding fuel_receipts_costs_eia923.contract_type_code\n"
     ]
    },
    {
     "name": "stderr",
     "output_type": "stream",
     "text": [
      "2023-03-03 15:47:34 [    INFO] catalystcoop.pudl.metadata.classes:1673 Recoding fuel_receipts_costs_eia923.energy_source_code\n"
     ]
    },
    {
     "name": "stdout",
     "output_type": "stream",
     "text": [
      "Recoding fuel_receipts_costs_eia923.energy_source_code\n"
     ]
    },
    {
     "name": "stderr",
     "output_type": "stream",
     "text": [
      "2023-03-03 15:47:34 [    INFO] catalystcoop.pudl.metadata.classes:1673 Recoding fuel_receipts_costs_eia923.primary_transportation_mode_code\n"
     ]
    },
    {
     "name": "stdout",
     "output_type": "stream",
     "text": [
      "Recoding fuel_receipts_costs_eia923.primary_transportation_mode_code\n"
     ]
    },
    {
     "name": "stderr",
     "output_type": "stream",
     "text": [
      "2023-03-03 15:47:34 [    INFO] catalystcoop.pudl.metadata.classes:1673 Recoding fuel_receipts_costs_eia923.secondary_transportation_mode_code\n"
     ]
    },
    {
     "name": "stdout",
     "output_type": "stream",
     "text": [
      "Recoding fuel_receipts_costs_eia923.secondary_transportation_mode_code\n"
     ]
    },
    {
     "name": "stderr",
     "output_type": "stream",
     "text": [
      "2023-03-03 15:47:34 [    INFO] catalystcoop.pudl.metadata.classes:1673 Recoding fuel_receipts_costs_eia923.data_maturity\n"
     ]
    },
    {
     "name": "stdout",
     "output_type": "stream",
     "text": [
      "Recoding fuel_receipts_costs_eia923.data_maturity\n"
     ]
    },
    {
     "name": "stderr",
     "output_type": "stream",
     "text": [
      "2023-03-03 15:47:34 -0900 - dagster - DEBUG - pre_harvested_eia923_assets_job - 56e76cb2-aed3-4143-8378-4c475bbb6c51 - 70373 - clean_fuel_receipts_costs_eia923 - STEP_OUTPUT - Yielded output \"result\" of type \"Any\". (Type check passed).\n",
      "2023-03-03 15:47:34 -0900 - dagster - DEBUG - pre_harvested_eia923_assets_job - 56e76cb2-aed3-4143-8378-4c475bbb6c51 - clean_fuel_receipts_costs_eia923 - Writing file at: /var/folders/ts/zf71sqq50nx4d41fy5xtsxhw0000gn/T/tmptiaapj13/storage/clean_fuel_receipts_costs_eia923\n",
      "2023-03-03 15:47:34 -0900 - dagster - DEBUG - pre_harvested_eia923_assets_job - 56e76cb2-aed3-4143-8378-4c475bbb6c51 - 70373 - clean_fuel_receipts_costs_eia923 - ASSET_MATERIALIZATION - Materialized value clean_fuel_receipts_costs_eia923.\n",
      "2023-03-03 15:47:34 -0900 - dagster - DEBUG - pre_harvested_eia923_assets_job - 56e76cb2-aed3-4143-8378-4c475bbb6c51 - 70373 - clean_fuel_receipts_costs_eia923 - HANDLED_OUTPUT - Handled output \"result\" using IO manager \"io_manager\"\n",
      "2023-03-03 15:47:34 -0900 - dagster - DEBUG - pre_harvested_eia923_assets_job - 56e76cb2-aed3-4143-8378-4c475bbb6c51 - 70373 - clean_fuel_receipts_costs_eia923 - STEP_SUCCESS - Finished execution of step \"clean_fuel_receipts_costs_eia923\" in 1.61s.\n",
      "2023-03-03 15:47:34 -0900 - dagster - DEBUG - pre_harvested_eia923_assets_job - 56e76cb2-aed3-4143-8378-4c475bbb6c51 - 70373 - ENGINE_EVENT - Finished steps in process (pid: 70373) in 8.77s\n",
      "2023-03-03 15:47:34 -0900 - dagster - DEBUG - pre_harvested_eia923_assets_job - 56e76cb2-aed3-4143-8378-4c475bbb6c51 - 70373 - RUN_SUCCESS - Finished execution of run for \"pre_harvested_eia923_assets_job\".\n"
     ]
    },
    {
     "name": "stdout",
     "output_type": "stream",
     "text": [
      "CPU times: user 8.7 s, sys: 100 ms, total: 8.8 s\n",
      "Wall time: 8.88 s\n"
     ]
    }
   ],
   "source": [
    "%%time\n",
    "pre_harvested_eia923_assets_job = get_job_from_asset_group(\"pre_harvested_eia923_assets\", eia_settings=eia_settings)\n",
    "pre_harvested_eia923_assets_job_result = pre_harvested_eia923_assets_job.execute_in_process()\n",
    "assert pre_harvested_eia923_assets_job_result.success"
   ]
  },
  {
   "cell_type": "code",
   "execution_count": 15,
   "metadata": {
    "tags": []
   },
   "outputs": [
    {
     "data": {
      "text/plain": [
       "['clean_generation_eia923',\n",
       " 'clean_generation_fuel_nuclear_eia923',\n",
       " 'clean_coalmine_eia923',\n",
       " 'clean_boiler_fuel_eia923',\n",
       " 'clean_fuel_receipts_costs_eia923',\n",
       " 'clean_generation_fuel_eia923']"
      ]
     },
     "execution_count": 15,
     "metadata": {},
     "output_type": "execute_result"
    }
   ],
   "source": [
    "get_asset_group_keys(\"pre_harvested_eia923_assets\")"
   ]
  },
  {
   "cell_type": "code",
   "execution_count": 16,
   "metadata": {
    "tags": []
   },
   "outputs": [
    {
     "data": {
      "text/html": [
       "<div>\n",
       "<style scoped>\n",
       "    .dataframe tbody tr th:only-of-type {\n",
       "        vertical-align: middle;\n",
       "    }\n",
       "\n",
       "    .dataframe tbody tr th {\n",
       "        vertical-align: top;\n",
       "    }\n",
       "\n",
       "    .dataframe thead th {\n",
       "        text-align: right;\n",
       "    }\n",
       "</style>\n",
       "<table border=\"1\" class=\"dataframe\">\n",
       "  <thead>\n",
       "    <tr style=\"text-align: right;\">\n",
       "      <th></th>\n",
       "      <th>balancing_authority_code_eia</th>\n",
       "      <th>data_maturity</th>\n",
       "      <th>energy_source_code</th>\n",
       "      <th>fuel_type_code_aer</th>\n",
       "      <th>plant_id_eia</th>\n",
       "      <th>prime_mover_code</th>\n",
       "      <th>reporting_frequency_code</th>\n",
       "      <th>sector_id_eia</th>\n",
       "      <th>sector_name_eia</th>\n",
       "      <th>fuel_consumed_for_electricity_mmbtu</th>\n",
       "      <th>fuel_consumed_for_electricity_units</th>\n",
       "      <th>fuel_consumed_mmbtu</th>\n",
       "      <th>fuel_consumed_units</th>\n",
       "      <th>fuel_mmbtu_per_unit</th>\n",
       "      <th>net_generation_mwh</th>\n",
       "      <th>fuel_type_code_pudl</th>\n",
       "      <th>report_date</th>\n",
       "    </tr>\n",
       "  </thead>\n",
       "  <tbody>\n",
       "    <tr>\n",
       "      <th>0</th>\n",
       "      <td>NaN</td>\n",
       "      <td>final</td>\n",
       "      <td>DFO</td>\n",
       "      <td>DFO</td>\n",
       "      <td>1</td>\n",
       "      <td>IC</td>\n",
       "      <td>A</td>\n",
       "      <td>1.0</td>\n",
       "      <td>Electric Utility</td>\n",
       "      <td>2724.0</td>\n",
       "      <td>466.0</td>\n",
       "      <td>2724.0</td>\n",
       "      <td>466.0</td>\n",
       "      <td>5.846</td>\n",
       "      <td>208.841</td>\n",
       "      <td>oil</td>\n",
       "      <td>2021-01-01</td>\n",
       "    </tr>\n",
       "    <tr>\n",
       "      <th>0</th>\n",
       "      <td>NaN</td>\n",
       "      <td>final</td>\n",
       "      <td>DFO</td>\n",
       "      <td>DFO</td>\n",
       "      <td>1</td>\n",
       "      <td>IC</td>\n",
       "      <td>A</td>\n",
       "      <td>1.0</td>\n",
       "      <td>Electric Utility</td>\n",
       "      <td>3005.0</td>\n",
       "      <td>514.0</td>\n",
       "      <td>3005.0</td>\n",
       "      <td>514.0</td>\n",
       "      <td>5.846</td>\n",
       "      <td>231.250</td>\n",
       "      <td>oil</td>\n",
       "      <td>2021-02-01</td>\n",
       "    </tr>\n",
       "    <tr>\n",
       "      <th>0</th>\n",
       "      <td>NaN</td>\n",
       "      <td>final</td>\n",
       "      <td>DFO</td>\n",
       "      <td>DFO</td>\n",
       "      <td>1</td>\n",
       "      <td>IC</td>\n",
       "      <td>A</td>\n",
       "      <td>1.0</td>\n",
       "      <td>Electric Utility</td>\n",
       "      <td>3250.0</td>\n",
       "      <td>556.0</td>\n",
       "      <td>3250.0</td>\n",
       "      <td>556.0</td>\n",
       "      <td>5.846</td>\n",
       "      <td>250.099</td>\n",
       "      <td>oil</td>\n",
       "      <td>2021-03-01</td>\n",
       "    </tr>\n",
       "    <tr>\n",
       "      <th>0</th>\n",
       "      <td>NaN</td>\n",
       "      <td>final</td>\n",
       "      <td>DFO</td>\n",
       "      <td>DFO</td>\n",
       "      <td>1</td>\n",
       "      <td>IC</td>\n",
       "      <td>A</td>\n",
       "      <td>1.0</td>\n",
       "      <td>Electric Utility</td>\n",
       "      <td>3128.0</td>\n",
       "      <td>535.0</td>\n",
       "      <td>3128.0</td>\n",
       "      <td>535.0</td>\n",
       "      <td>5.846</td>\n",
       "      <td>240.409</td>\n",
       "      <td>oil</td>\n",
       "      <td>2021-04-01</td>\n",
       "    </tr>\n",
       "    <tr>\n",
       "      <th>0</th>\n",
       "      <td>NaN</td>\n",
       "      <td>final</td>\n",
       "      <td>DFO</td>\n",
       "      <td>DFO</td>\n",
       "      <td>1</td>\n",
       "      <td>IC</td>\n",
       "      <td>A</td>\n",
       "      <td>1.0</td>\n",
       "      <td>Electric Utility</td>\n",
       "      <td>1619.0</td>\n",
       "      <td>277.0</td>\n",
       "      <td>1619.0</td>\n",
       "      <td>277.0</td>\n",
       "      <td>5.846</td>\n",
       "      <td>124.504</td>\n",
       "      <td>oil</td>\n",
       "      <td>2021-05-01</td>\n",
       "    </tr>\n",
       "  </tbody>\n",
       "</table>\n",
       "</div>"
      ],
      "text/plain": [
       "  balancing_authority_code_eia data_maturity energy_source_code fuel_type_code_aer  plant_id_eia prime_mover_code reporting_frequency_code  sector_id_eia   sector_name_eia  fuel_consumed_for_electricity_mmbtu  fuel_consumed_for_electricity_units  fuel_consumed_mmbtu  fuel_consumed_units  fuel_mmbtu_per_unit  net_generation_mwh fuel_type_code_pudl report_date\n",
       "0                          NaN         final                DFO                DFO             1               IC                        A            1.0  Electric Utility                               2724.0                                466.0               2724.0                466.0                5.846             208.841                 oil  2021-01-01\n",
       "0                          NaN         final                DFO                DFO             1               IC                        A            1.0  Electric Utility                               3005.0                                514.0               3005.0                514.0                5.846             231.250                 oil  2021-02-01\n",
       "0                          NaN         final                DFO                DFO             1               IC                        A            1.0  Electric Utility                               3250.0                                556.0               3250.0                556.0                5.846             250.099                 oil  2021-03-01\n",
       "0                          NaN         final                DFO                DFO             1               IC                        A            1.0  Electric Utility                               3128.0                                535.0               3128.0                535.0                5.846             240.409                 oil  2021-04-01\n",
       "0                          NaN         final                DFO                DFO             1               IC                        A            1.0  Electric Utility                               1619.0                                277.0               1619.0                277.0                5.846             124.504                 oil  2021-05-01"
      ]
     },
     "execution_count": 16,
     "metadata": {},
     "output_type": "execute_result"
    }
   ],
   "source": [
    "asset_key = \"clean_generation_fuel_eia923\"\n",
    "pre_harvested_eia923_assets_job_result.asset_value(asset_key).head()"
   ]
  },
  {
   "cell_type": "markdown",
   "metadata": {},
   "source": [
    "# Combined EIA Data"
   ]
  },
  {
   "cell_type": "markdown",
   "metadata": {},
   "source": [
    "## Merge EIA-923/860, set dtypes, harvest entities"
   ]
  },
  {
   "cell_type": "code",
   "execution_count": 17,
   "metadata": {
    "tags": []
   },
   "outputs": [
    {
     "name": "stderr",
     "output_type": "stream",
     "text": [
      "2023-03-03 15:47:34 -0900 - dagster - DEBUG - eia_harvested_assets_job - 70597524-4e93-42e1-ab40-95e562399209 - 70373 - RUN_START - Started execution of run for \"eia_harvested_assets_job\".\n",
      "2023-03-03 15:47:34 -0900 - dagster - DEBUG - eia_harvested_assets_job - 70597524-4e93-42e1-ab40-95e562399209 - 70373 - ENGINE_EVENT - Executing steps in process (pid: 70373)\n",
      "2023-03-03 15:47:34 -0900 - dagster - DEBUG - eia_harvested_assets_job - 70597524-4e93-42e1-ab40-95e562399209 - 70373 - eia_transform - RESOURCE_INIT_STARTED - Starting initialization of resources [dataset_settings, io_manager, pudl_sqlite_io_manager].\n",
      "2023-03-03 15:47:34 -0900 - dagster - DEBUG - eia_harvested_assets_job - 70597524-4e93-42e1-ab40-95e562399209 - 70373 - eia_transform - RESOURCE_INIT_SUCCESS - Finished initialization of resources [dataset_settings, io_manager, pudl_sqlite_io_manager].\n",
      "2023-03-03 15:47:34 -0900 - dagster - DEBUG - eia_harvested_assets_job - 70597524-4e93-42e1-ab40-95e562399209 - 70373 - LOGS_CAPTURED - Started capturing logs in process (pid: 70373).\n",
      "2023-03-03 15:47:34 -0900 - dagster - DEBUG - eia_harvested_assets_job - 70597524-4e93-42e1-ab40-95e562399209 - 70373 - eia_transform - STEP_START - Started execution of step \"eia_transform\".\n",
      "2023-03-03 15:47:34 -0900 - dagster - DEBUG - eia_harvested_assets_job - 70597524-4e93-42e1-ab40-95e562399209 - eia_transform - Loading file from: /var/folders/ts/zf71sqq50nx4d41fy5xtsxhw0000gn/T/tmptiaapj13/storage/clean_boiler_fuel_eia923\n",
      "2023-03-03 15:47:34 -0900 - dagster - DEBUG - eia_harvested_assets_job - 70597524-4e93-42e1-ab40-95e562399209 - 70373 - eia_transform - ASSET_OBSERVATION - ASSET_OBSERVATION for step eia_transform\n",
      "2023-03-03 15:47:34 -0900 - dagster - DEBUG - eia_harvested_assets_job - 70597524-4e93-42e1-ab40-95e562399209 - 70373 - eia_transform - LOADED_INPUT - Loaded input \"clean_boiler_fuel_eia923\" using input manager \"io_manager\"\n",
      "2023-03-03 15:47:34 -0900 - dagster - DEBUG - eia_harvested_assets_job - 70597524-4e93-42e1-ab40-95e562399209 - eia_transform - Loading file from: /var/folders/ts/zf71sqq50nx4d41fy5xtsxhw0000gn/T/tmptiaapj13/storage/clean_boiler_generator_assn_eia860\n",
      "2023-03-03 15:47:34 -0900 - dagster - DEBUG - eia_harvested_assets_job - 70597524-4e93-42e1-ab40-95e562399209 - 70373 - eia_transform - ASSET_OBSERVATION - ASSET_OBSERVATION for step eia_transform\n",
      "2023-03-03 15:47:34 -0900 - dagster - DEBUG - eia_harvested_assets_job - 70597524-4e93-42e1-ab40-95e562399209 - 70373 - eia_transform - LOADED_INPUT - Loaded input \"clean_boiler_generator_assn_eia860\" using input manager \"io_manager\"\n",
      "2023-03-03 15:47:34 -0900 - dagster - DEBUG - eia_harvested_assets_job - 70597524-4e93-42e1-ab40-95e562399209 - eia_transform - Loading file from: /var/folders/ts/zf71sqq50nx4d41fy5xtsxhw0000gn/T/tmptiaapj13/storage/clean_coalmine_eia923\n",
      "2023-03-03 15:47:34 -0900 - dagster - DEBUG - eia_harvested_assets_job - 70597524-4e93-42e1-ab40-95e562399209 - 70373 - eia_transform - ASSET_OBSERVATION - ASSET_OBSERVATION for step eia_transform\n",
      "2023-03-03 15:47:34 -0900 - dagster - DEBUG - eia_harvested_assets_job - 70597524-4e93-42e1-ab40-95e562399209 - 70373 - eia_transform - LOADED_INPUT - Loaded input \"clean_coalmine_eia923\" using input manager \"io_manager\"\n",
      "2023-03-03 15:47:34 -0900 - dagster - DEBUG - eia_harvested_assets_job - 70597524-4e93-42e1-ab40-95e562399209 - eia_transform - Loading file from: /var/folders/ts/zf71sqq50nx4d41fy5xtsxhw0000gn/T/tmptiaapj13/storage/clean_fuel_receipts_costs_eia923\n",
      "2023-03-03 15:47:34 -0900 - dagster - DEBUG - eia_harvested_assets_job - 70597524-4e93-42e1-ab40-95e562399209 - 70373 - eia_transform - ASSET_OBSERVATION - ASSET_OBSERVATION for step eia_transform\n",
      "2023-03-03 15:47:34 -0900 - dagster - DEBUG - eia_harvested_assets_job - 70597524-4e93-42e1-ab40-95e562399209 - 70373 - eia_transform - LOADED_INPUT - Loaded input \"clean_fuel_receipts_costs_eia923\" using input manager \"io_manager\"\n",
      "2023-03-03 15:47:34 -0900 - dagster - DEBUG - eia_harvested_assets_job - 70597524-4e93-42e1-ab40-95e562399209 - eia_transform - Loading file from: /var/folders/ts/zf71sqq50nx4d41fy5xtsxhw0000gn/T/tmptiaapj13/storage/clean_generation_eia923\n",
      "2023-03-03 15:47:34 -0900 - dagster - DEBUG - eia_harvested_assets_job - 70597524-4e93-42e1-ab40-95e562399209 - 70373 - eia_transform - ASSET_OBSERVATION - ASSET_OBSERVATION for step eia_transform\n",
      "2023-03-03 15:47:34 -0900 - dagster - DEBUG - eia_harvested_assets_job - 70597524-4e93-42e1-ab40-95e562399209 - 70373 - eia_transform - LOADED_INPUT - Loaded input \"clean_generation_eia923\" using input manager \"io_manager\"\n",
      "2023-03-03 15:47:34 -0900 - dagster - DEBUG - eia_harvested_assets_job - 70597524-4e93-42e1-ab40-95e562399209 - eia_transform - Loading file from: /var/folders/ts/zf71sqq50nx4d41fy5xtsxhw0000gn/T/tmptiaapj13/storage/clean_generation_fuel_eia923\n",
      "2023-03-03 15:47:35 -0900 - dagster - DEBUG - eia_harvested_assets_job - 70597524-4e93-42e1-ab40-95e562399209 - 70373 - eia_transform - ASSET_OBSERVATION - ASSET_OBSERVATION for step eia_transform\n",
      "2023-03-03 15:47:35 -0900 - dagster - DEBUG - eia_harvested_assets_job - 70597524-4e93-42e1-ab40-95e562399209 - 70373 - eia_transform - LOADED_INPUT - Loaded input \"clean_generation_fuel_eia923\" using input manager \"io_manager\"\n",
      "2023-03-03 15:47:35 -0900 - dagster - DEBUG - eia_harvested_assets_job - 70597524-4e93-42e1-ab40-95e562399209 - eia_transform - Loading file from: /var/folders/ts/zf71sqq50nx4d41fy5xtsxhw0000gn/T/tmptiaapj13/storage/clean_generation_fuel_nuclear_eia923\n",
      "2023-03-03 15:47:35 -0900 - dagster - DEBUG - eia_harvested_assets_job - 70597524-4e93-42e1-ab40-95e562399209 - 70373 - eia_transform - ASSET_OBSERVATION - ASSET_OBSERVATION for step eia_transform\n",
      "2023-03-03 15:47:35 -0900 - dagster - DEBUG - eia_harvested_assets_job - 70597524-4e93-42e1-ab40-95e562399209 - 70373 - eia_transform - LOADED_INPUT - Loaded input \"clean_generation_fuel_nuclear_eia923\" using input manager \"io_manager\"\n",
      "2023-03-03 15:47:35 -0900 - dagster - DEBUG - eia_harvested_assets_job - 70597524-4e93-42e1-ab40-95e562399209 - eia_transform - Loading file from: /var/folders/ts/zf71sqq50nx4d41fy5xtsxhw0000gn/T/tmptiaapj13/storage/clean_generators_eia860\n",
      "2023-03-03 15:47:35 -0900 - dagster - DEBUG - eia_harvested_assets_job - 70597524-4e93-42e1-ab40-95e562399209 - 70373 - eia_transform - ASSET_OBSERVATION - ASSET_OBSERVATION for step eia_transform\n",
      "2023-03-03 15:47:35 -0900 - dagster - DEBUG - eia_harvested_assets_job - 70597524-4e93-42e1-ab40-95e562399209 - 70373 - eia_transform - LOADED_INPUT - Loaded input \"clean_generators_eia860\" using input manager \"io_manager\"\n",
      "2023-03-03 15:47:35 -0900 - dagster - DEBUG - eia_harvested_assets_job - 70597524-4e93-42e1-ab40-95e562399209 - eia_transform - Loading file from: /var/folders/ts/zf71sqq50nx4d41fy5xtsxhw0000gn/T/tmptiaapj13/storage/clean_ownership_eia860\n",
      "2023-03-03 15:47:35 -0900 - dagster - DEBUG - eia_harvested_assets_job - 70597524-4e93-42e1-ab40-95e562399209 - 70373 - eia_transform - ASSET_OBSERVATION - ASSET_OBSERVATION for step eia_transform\n",
      "2023-03-03 15:47:35 -0900 - dagster - DEBUG - eia_harvested_assets_job - 70597524-4e93-42e1-ab40-95e562399209 - 70373 - eia_transform - LOADED_INPUT - Loaded input \"clean_ownership_eia860\" using input manager \"io_manager\"\n",
      "2023-03-03 15:47:35 -0900 - dagster - DEBUG - eia_harvested_assets_job - 70597524-4e93-42e1-ab40-95e562399209 - eia_transform - Loading file from: /var/folders/ts/zf71sqq50nx4d41fy5xtsxhw0000gn/T/tmptiaapj13/storage/clean_plants_eia860\n",
      "2023-03-03 15:47:35 -0900 - dagster - DEBUG - eia_harvested_assets_job - 70597524-4e93-42e1-ab40-95e562399209 - 70373 - eia_transform - ASSET_OBSERVATION - ASSET_OBSERVATION for step eia_transform\n",
      "2023-03-03 15:47:35 -0900 - dagster - DEBUG - eia_harvested_assets_job - 70597524-4e93-42e1-ab40-95e562399209 - 70373 - eia_transform - LOADED_INPUT - Loaded input \"clean_plants_eia860\" using input manager \"io_manager\"\n",
      "2023-03-03 15:47:35 -0900 - dagster - DEBUG - eia_harvested_assets_job - 70597524-4e93-42e1-ab40-95e562399209 - eia_transform - Loading file from: /var/folders/ts/zf71sqq50nx4d41fy5xtsxhw0000gn/T/tmptiaapj13/storage/clean_utilities_eia860\n",
      "2023-03-03 15:47:35 -0900 - dagster - DEBUG - eia_harvested_assets_job - 70597524-4e93-42e1-ab40-95e562399209 - 70373 - eia_transform - ASSET_OBSERVATION - ASSET_OBSERVATION for step eia_transform\n",
      "2023-03-03 15:47:35 -0900 - dagster - DEBUG - eia_harvested_assets_job - 70597524-4e93-42e1-ab40-95e562399209 - 70373 - eia_transform - LOADED_INPUT - Loaded input \"clean_utilities_eia860\" using input manager \"io_manager\"\n",
      "2023-03-03 15:47:35 -0900 - dagster - DEBUG - eia_harvested_assets_job - 70597524-4e93-42e1-ab40-95e562399209 - 70373 - eia_transform - STEP_INPUT - Got input \"clean_boiler_fuel_eia923\" of type \"Any\". (Type check passed).\n",
      "2023-03-03 15:47:35 -0900 - dagster - DEBUG - eia_harvested_assets_job - 70597524-4e93-42e1-ab40-95e562399209 - 70373 - eia_transform - STEP_INPUT - Got input \"clean_boiler_generator_assn_eia860\" of type \"Any\". (Type check passed).\n",
      "2023-03-03 15:47:35 -0900 - dagster - DEBUG - eia_harvested_assets_job - 70597524-4e93-42e1-ab40-95e562399209 - 70373 - eia_transform - STEP_INPUT - Got input \"clean_coalmine_eia923\" of type \"Any\". (Type check passed).\n",
      "2023-03-03 15:47:35 -0900 - dagster - DEBUG - eia_harvested_assets_job - 70597524-4e93-42e1-ab40-95e562399209 - 70373 - eia_transform - STEP_INPUT - Got input \"clean_fuel_receipts_costs_eia923\" of type \"Any\". (Type check passed).\n",
      "2023-03-03 15:47:35 -0900 - dagster - DEBUG - eia_harvested_assets_job - 70597524-4e93-42e1-ab40-95e562399209 - 70373 - eia_transform - STEP_INPUT - Got input \"clean_generation_eia923\" of type \"Any\". (Type check passed).\n",
      "2023-03-03 15:47:35 -0900 - dagster - DEBUG - eia_harvested_assets_job - 70597524-4e93-42e1-ab40-95e562399209 - 70373 - eia_transform - STEP_INPUT - Got input \"clean_generation_fuel_eia923\" of type \"Any\". (Type check passed).\n",
      "2023-03-03 15:47:35 -0900 - dagster - DEBUG - eia_harvested_assets_job - 70597524-4e93-42e1-ab40-95e562399209 - 70373 - eia_transform - STEP_INPUT - Got input \"clean_generation_fuel_nuclear_eia923\" of type \"Any\". (Type check passed).\n",
      "2023-03-03 15:47:35 -0900 - dagster - DEBUG - eia_harvested_assets_job - 70597524-4e93-42e1-ab40-95e562399209 - 70373 - eia_transform - STEP_INPUT - Got input \"clean_generators_eia860\" of type \"Any\". (Type check passed).\n",
      "2023-03-03 15:47:35 -0900 - dagster - DEBUG - eia_harvested_assets_job - 70597524-4e93-42e1-ab40-95e562399209 - 70373 - eia_transform - STEP_INPUT - Got input \"clean_ownership_eia860\" of type \"Any\". (Type check passed).\n",
      "2023-03-03 15:47:35 -0900 - dagster - DEBUG - eia_harvested_assets_job - 70597524-4e93-42e1-ab40-95e562399209 - 70373 - eia_transform - STEP_INPUT - Got input \"clean_plants_eia860\" of type \"Any\". (Type check passed).\n",
      "2023-03-03 15:47:35 -0900 - dagster - DEBUG - eia_harvested_assets_job - 70597524-4e93-42e1-ab40-95e562399209 - 70373 - eia_transform - STEP_INPUT - Got input \"clean_utilities_eia860\" of type \"Any\". (Type check passed).\n",
      "2023-03-03 15:47:38 [    INFO] catalystcoop.pudl.transform.eia:1192 Harvesting IDs & consistently static attributes for EIA plants\n"
     ]
    },
    {
     "name": "stdout",
     "output_type": "stream",
     "text": [
      "Harvesting IDs & consistently static attributes for EIA plants\n"
     ]
    },
    {
     "name": "stderr",
     "output_type": "stream",
     "text": [
      "2023-03-03 15:47:40 [    INFO] catalystcoop.pudl.metadata.classes:1673 Recoding plants_eia860.balancing_authority_code_eia\n"
     ]
    },
    {
     "name": "stdout",
     "output_type": "stream",
     "text": [
      "Recoding plants_eia860.balancing_authority_code_eia\n"
     ]
    },
    {
     "name": "stderr",
     "output_type": "stream",
     "text": [
      "2023-03-03 15:47:40 [    INFO] catalystcoop.pudl.metadata.classes:1673 Recoding plants_eia860.reporting_frequency_code\n"
     ]
    },
    {
     "name": "stdout",
     "output_type": "stream",
     "text": [
      "Recoding plants_eia860.reporting_frequency_code\n"
     ]
    },
    {
     "name": "stderr",
     "output_type": "stream",
     "text": [
      "2023-03-03 15:47:40 [    INFO] catalystcoop.pudl.metadata.classes:1673 Recoding plants_eia860.sector_id_eia\n"
     ]
    },
    {
     "name": "stdout",
     "output_type": "stream",
     "text": [
      "Recoding plants_eia860.sector_id_eia\n"
     ]
    },
    {
     "name": "stderr",
     "output_type": "stream",
     "text": [
      "2023-03-03 15:47:40 [    INFO] catalystcoop.pudl.metadata.classes:1673 Recoding plants_eia860.data_maturity\n"
     ]
    },
    {
     "name": "stdout",
     "output_type": "stream",
     "text": [
      "Recoding plants_eia860.data_maturity\n"
     ]
    },
    {
     "name": "stderr",
     "output_type": "stream",
     "text": [
      "2023-03-03 15:47:46 [    INFO] catalystcoop.pudl.transform.eia:553 Average consistency of static plants values is 99.85%\n"
     ]
    },
    {
     "name": "stdout",
     "output_type": "stream",
     "text": [
      "Average consistency of static plants values is 99.85%\n"
     ]
    },
    {
     "name": "stderr",
     "output_type": "stream",
     "text": [
      "2023-03-03 15:47:47 [    INFO] catalystcoop.pudl.transform.eia:1192 Harvesting IDs & consistently static attributes for EIA generators\n"
     ]
    },
    {
     "name": "stdout",
     "output_type": "stream",
     "text": [
      "Harvesting IDs & consistently static attributes for EIA generators\n"
     ]
    },
    {
     "name": "stderr",
     "output_type": "stream",
     "text": [
      "2023-03-03 15:47:47 [    INFO] catalystcoop.pudl.metadata.classes:1673 Recoding generators_eia860.operational_status_code\n"
     ]
    },
    {
     "name": "stdout",
     "output_type": "stream",
     "text": [
      "Recoding generators_eia860.operational_status_code\n"
     ]
    },
    {
     "name": "stderr",
     "output_type": "stream",
     "text": [
      "2023-03-03 15:47:47 [    INFO] catalystcoop.pudl.metadata.classes:1673 Recoding generators_eia860.prime_mover_code\n"
     ]
    },
    {
     "name": "stdout",
     "output_type": "stream",
     "text": [
      "Recoding generators_eia860.prime_mover_code\n"
     ]
    },
    {
     "name": "stderr",
     "output_type": "stream",
     "text": [
      "2023-03-03 15:47:48 [    INFO] catalystcoop.pudl.metadata.classes:1673 Recoding generators_eia860.energy_source_code_1\n"
     ]
    },
    {
     "name": "stdout",
     "output_type": "stream",
     "text": [
      "Recoding generators_eia860.energy_source_code_1\n"
     ]
    },
    {
     "name": "stderr",
     "output_type": "stream",
     "text": [
      "2023-03-03 15:47:48 [    INFO] catalystcoop.pudl.metadata.classes:1673 Recoding generators_eia860.energy_source_code_2\n"
     ]
    },
    {
     "name": "stdout",
     "output_type": "stream",
     "text": [
      "Recoding generators_eia860.energy_source_code_2\n"
     ]
    },
    {
     "name": "stderr",
     "output_type": "stream",
     "text": [
      "2023-03-03 15:47:48 [    INFO] catalystcoop.pudl.metadata.classes:1673 Recoding generators_eia860.energy_source_code_3\n"
     ]
    },
    {
     "name": "stdout",
     "output_type": "stream",
     "text": [
      "Recoding generators_eia860.energy_source_code_3\n"
     ]
    },
    {
     "name": "stderr",
     "output_type": "stream",
     "text": [
      "2023-03-03 15:47:48 [    INFO] catalystcoop.pudl.metadata.classes:1673 Recoding generators_eia860.energy_source_code_4\n"
     ]
    },
    {
     "name": "stdout",
     "output_type": "stream",
     "text": [
      "Recoding generators_eia860.energy_source_code_4\n"
     ]
    },
    {
     "name": "stderr",
     "output_type": "stream",
     "text": [
      "2023-03-03 15:47:48 [    INFO] catalystcoop.pudl.metadata.classes:1673 Recoding generators_eia860.energy_source_code_5\n"
     ]
    },
    {
     "name": "stdout",
     "output_type": "stream",
     "text": [
      "Recoding generators_eia860.energy_source_code_5\n"
     ]
    },
    {
     "name": "stderr",
     "output_type": "stream",
     "text": [
      "2023-03-03 15:47:48 [    INFO] catalystcoop.pudl.metadata.classes:1673 Recoding generators_eia860.energy_source_code_6\n"
     ]
    },
    {
     "name": "stdout",
     "output_type": "stream",
     "text": [
      "Recoding generators_eia860.energy_source_code_6\n"
     ]
    },
    {
     "name": "stderr",
     "output_type": "stream",
     "text": [
      "2023-03-03 15:47:48 [    INFO] catalystcoop.pudl.metadata.classes:1673 Recoding generators_eia860.energy_source_1_transport_1\n"
     ]
    },
    {
     "name": "stdout",
     "output_type": "stream",
     "text": [
      "Recoding generators_eia860.energy_source_1_transport_1\n"
     ]
    },
    {
     "name": "stderr",
     "output_type": "stream",
     "text": [
      "2023-03-03 15:47:48 [    INFO] catalystcoop.pudl.metadata.classes:1673 Recoding generators_eia860.energy_source_1_transport_2\n"
     ]
    },
    {
     "name": "stdout",
     "output_type": "stream",
     "text": [
      "Recoding generators_eia860.energy_source_1_transport_2\n"
     ]
    },
    {
     "name": "stderr",
     "output_type": "stream",
     "text": [
      "2023-03-03 15:47:48 [    INFO] catalystcoop.pudl.metadata.classes:1673 Recoding generators_eia860.energy_source_1_transport_3\n"
     ]
    },
    {
     "name": "stdout",
     "output_type": "stream",
     "text": [
      "Recoding generators_eia860.energy_source_1_transport_3\n"
     ]
    },
    {
     "name": "stderr",
     "output_type": "stream",
     "text": [
      "2023-03-03 15:47:48 [    INFO] catalystcoop.pudl.metadata.classes:1673 Recoding generators_eia860.energy_source_2_transport_1\n"
     ]
    },
    {
     "name": "stdout",
     "output_type": "stream",
     "text": [
      "Recoding generators_eia860.energy_source_2_transport_1\n"
     ]
    },
    {
     "name": "stderr",
     "output_type": "stream",
     "text": [
      "2023-03-03 15:47:48 [    INFO] catalystcoop.pudl.metadata.classes:1673 Recoding generators_eia860.energy_source_2_transport_2\n"
     ]
    },
    {
     "name": "stdout",
     "output_type": "stream",
     "text": [
      "Recoding generators_eia860.energy_source_2_transport_2\n"
     ]
    },
    {
     "name": "stderr",
     "output_type": "stream",
     "text": [
      "2023-03-03 15:47:48 [    INFO] catalystcoop.pudl.metadata.classes:1673 Recoding generators_eia860.energy_source_2_transport_3\n"
     ]
    },
    {
     "name": "stdout",
     "output_type": "stream",
     "text": [
      "Recoding generators_eia860.energy_source_2_transport_3\n"
     ]
    },
    {
     "name": "stderr",
     "output_type": "stream",
     "text": [
      "2023-03-03 15:47:49 [    INFO] catalystcoop.pudl.metadata.classes:1673 Recoding generators_eia860.planned_new_prime_mover_code\n"
     ]
    },
    {
     "name": "stdout",
     "output_type": "stream",
     "text": [
      "Recoding generators_eia860.planned_new_prime_mover_code\n"
     ]
    },
    {
     "name": "stderr",
     "output_type": "stream",
     "text": [
      "2023-03-03 15:47:49 [    INFO] catalystcoop.pudl.metadata.classes:1673 Recoding generators_eia860.planned_energy_source_code_1\n"
     ]
    },
    {
     "name": "stdout",
     "output_type": "stream",
     "text": [
      "Recoding generators_eia860.planned_energy_source_code_1\n"
     ]
    },
    {
     "name": "stderr",
     "output_type": "stream",
     "text": [
      "2023-03-03 15:47:49 [    INFO] catalystcoop.pudl.metadata.classes:1673 Recoding generators_eia860.startup_source_code_1\n"
     ]
    },
    {
     "name": "stdout",
     "output_type": "stream",
     "text": [
      "Recoding generators_eia860.startup_source_code_1\n"
     ]
    },
    {
     "name": "stderr",
     "output_type": "stream",
     "text": [
      "2023-03-03 15:47:49 [    INFO] catalystcoop.pudl.metadata.classes:1673 Recoding generators_eia860.startup_source_code_2\n"
     ]
    },
    {
     "name": "stdout",
     "output_type": "stream",
     "text": [
      "Recoding generators_eia860.startup_source_code_2\n"
     ]
    },
    {
     "name": "stderr",
     "output_type": "stream",
     "text": [
      "2023-03-03 15:47:49 [    INFO] catalystcoop.pudl.metadata.classes:1673 Recoding generators_eia860.startup_source_code_3\n"
     ]
    },
    {
     "name": "stdout",
     "output_type": "stream",
     "text": [
      "Recoding generators_eia860.startup_source_code_3\n"
     ]
    },
    {
     "name": "stderr",
     "output_type": "stream",
     "text": [
      "2023-03-03 15:47:49 [    INFO] catalystcoop.pudl.metadata.classes:1673 Recoding generators_eia860.startup_source_code_4\n"
     ]
    },
    {
     "name": "stdout",
     "output_type": "stream",
     "text": [
      "Recoding generators_eia860.startup_source_code_4\n"
     ]
    },
    {
     "name": "stderr",
     "output_type": "stream",
     "text": [
      "2023-03-03 15:47:49 [    INFO] catalystcoop.pudl.metadata.classes:1673 Recoding generators_eia860.data_maturity\n"
     ]
    },
    {
     "name": "stdout",
     "output_type": "stream",
     "text": [
      "Recoding generators_eia860.data_maturity\n"
     ]
    },
    {
     "name": "stderr",
     "output_type": "stream",
     "text": [
      "2023-03-03 15:48:04 [    INFO] catalystcoop.pudl.transform.eia:553 Average consistency of static generators values is 100.00%\n"
     ]
    },
    {
     "name": "stdout",
     "output_type": "stream",
     "text": [
      "Average consistency of static generators values is 100.00%\n"
     ]
    },
    {
     "name": "stderr",
     "output_type": "stream",
     "text": [
      "2023-03-03 15:48:04 [    INFO] catalystcoop.pudl.transform.eia:1192 Harvesting IDs & consistently static attributes for EIA utilities\n"
     ]
    },
    {
     "name": "stdout",
     "output_type": "stream",
     "text": [
      "Harvesting IDs & consistently static attributes for EIA utilities\n"
     ]
    },
    {
     "name": "stderr",
     "output_type": "stream",
     "text": [
      "2023-03-03 15:48:04 [    INFO] catalystcoop.pudl.metadata.classes:1673 Recoding utilities_eia860.data_maturity\n"
     ]
    },
    {
     "name": "stdout",
     "output_type": "stream",
     "text": [
      "Recoding utilities_eia860.data_maturity\n"
     ]
    },
    {
     "name": "stderr",
     "output_type": "stream",
     "text": [
      "2023-03-03 15:48:05 [    INFO] catalystcoop.pudl.transform.eia:553 Average consistency of static utilities values is 100.00%\n"
     ]
    },
    {
     "name": "stdout",
     "output_type": "stream",
     "text": [
      "Average consistency of static utilities values is 100.00%\n"
     ]
    },
    {
     "name": "stderr",
     "output_type": "stream",
     "text": [
      "2023-03-03 15:48:05 [    INFO] catalystcoop.pudl.transform.eia:1192 Harvesting IDs & consistently static attributes for EIA boilers\n"
     ]
    },
    {
     "name": "stdout",
     "output_type": "stream",
     "text": [
      "Harvesting IDs & consistently static attributes for EIA boilers\n"
     ]
    },
    {
     "name": "stderr",
     "output_type": "stream",
     "text": [
      "2023-03-03 15:48:05 [    INFO] catalystcoop.pudl.transform.eia:553 Average consistency of static boilers values is 99.18%\n"
     ]
    },
    {
     "name": "stdout",
     "output_type": "stream",
     "text": [
      "Average consistency of static boilers values is 99.18%\n"
     ]
    },
    {
     "name": "stderr",
     "output_type": "stream",
     "text": [
      "2023-03-03 15:48:05 [    INFO] catalystcoop.pudl.transform.eia:630 Inferring complete EIA boiler-generator associations.\n"
     ]
    },
    {
     "name": "stdout",
     "output_type": "stream",
     "text": [
      "Inferring complete EIA boiler-generator associations.\n"
     ]
    },
    {
     "name": "stderr",
     "output_type": "stream",
     "text": [
      "2023-03-03 15:48:10 [ WARNING] catalystcoop.pudl.transform.eia:935 Multiple EIA unit codes:plant_id_eia=10725, unit_id_pudl=1, unit_id_eia=['F801' 'F802']\n"
     ]
    },
    {
     "name": "stdout",
     "output_type": "stream",
     "text": [
      "Multiple EIA unit codes:plant_id_eia=10725, unit_id_pudl=1, unit_id_eia=['F801' 'F802']\n"
     ]
    },
    {
     "name": "stderr",
     "output_type": "stream",
     "text": [
      "2023-03-03 15:48:10 [ WARNING] catalystcoop.pudl.transform.eia:935 Multiple EIA unit codes:plant_id_eia=55309, unit_id_pudl=1, unit_id_eia=['SMR2' 'SMR1']\n"
     ]
    },
    {
     "name": "stdout",
     "output_type": "stream",
     "text": [
      "Multiple EIA unit codes:plant_id_eia=55309, unit_id_pudl=1, unit_id_eia=['SMR2' 'SMR1']\n"
     ]
    },
    {
     "name": "stderr",
     "output_type": "stream",
     "text": [
      "2023-03-03 15:48:10 [ WARNING] catalystcoop.pudl.transform.eia:935 Multiple EIA unit codes:plant_id_eia=57794, unit_id_pudl=1, unit_id_eia=['CC01' 'CC02']\n"
     ]
    },
    {
     "name": "stdout",
     "output_type": "stream",
     "text": [
      "Multiple EIA unit codes:plant_id_eia=57794, unit_id_pudl=1, unit_id_eia=['CC01' 'CC02']\n"
     ]
    },
    {
     "name": "stderr",
     "output_type": "stream",
     "text": [
      "2023-03-03 15:48:10 [ WARNING] catalystcoop.pudl.transform.eia:935 Multiple EIA unit codes:plant_id_eia=60786, unit_id_pudl=1, unit_id_eia=['4343' '4141']\n"
     ]
    },
    {
     "name": "stdout",
     "output_type": "stream",
     "text": [
      "Multiple EIA unit codes:plant_id_eia=60786, unit_id_pudl=1, unit_id_eia=['4343' '4141']\n"
     ]
    },
    {
     "name": "stderr",
     "output_type": "stream",
     "text": [
      "2023-03-03 15:48:10 [    INFO] catalystcoop.pudl.transform.eia:1076 filled 2 balancing authority codes using names.\n"
     ]
    },
    {
     "name": "stdout",
     "output_type": "stream",
     "text": [
      "filled 2 balancing authority codes using names.\n"
     ]
    },
    {
     "name": "stderr",
     "output_type": "stream",
     "text": [
      "2023-03-03 15:48:11 [    INFO] catalystcoop.pudl.metadata.classes:1673 Recoding boilers_entity_eia.prime_mover_code\n"
     ]
    },
    {
     "name": "stdout",
     "output_type": "stream",
     "text": [
      "Recoding boilers_entity_eia.prime_mover_code\n"
     ]
    },
    {
     "name": "stderr",
     "output_type": "stream",
     "text": [
      "2023-03-03 15:48:11 -0900 - dagster - DEBUG - eia_harvested_assets_job - 70597524-4e93-42e1-ab40-95e562399209 - 70373 - eia_transform - STEP_OUTPUT - Yielded output \"boiler_fuel_eia923\" of type \"Any\". (Type check passed).\n",
      "2023-03-03 15:48:11 -0900 - dagster - DEBUG - eia_harvested_assets_job - 70597524-4e93-42e1-ab40-95e562399209 - eia_transform - Writing file at: /var/folders/ts/zf71sqq50nx4d41fy5xtsxhw0000gn/T/tmptiaapj13/storage/boiler_fuel_eia923\n",
      "2023-03-03 15:48:11 -0900 - dagster - DEBUG - eia_harvested_assets_job - 70597524-4e93-42e1-ab40-95e562399209 - 70373 - eia_transform - ASSET_MATERIALIZATION - Materialized value boiler_fuel_eia923.\n",
      "2023-03-03 15:48:11 -0900 - dagster - DEBUG - eia_harvested_assets_job - 70597524-4e93-42e1-ab40-95e562399209 - 70373 - eia_transform - HANDLED_OUTPUT - Handled output \"boiler_fuel_eia923\" using IO manager \"pudl_sqlite_io_manager\"\n",
      "2023-03-03 15:48:11 -0900 - dagster - DEBUG - eia_harvested_assets_job - 70597524-4e93-42e1-ab40-95e562399209 - 70373 - eia_transform - STEP_OUTPUT - Yielded output \"boiler_generator_assn_eia860\" of type \"Any\". (Type check passed).\n",
      "2023-03-03 15:48:11 -0900 - dagster - DEBUG - eia_harvested_assets_job - 70597524-4e93-42e1-ab40-95e562399209 - eia_transform - Writing file at: /var/folders/ts/zf71sqq50nx4d41fy5xtsxhw0000gn/T/tmptiaapj13/storage/boiler_generator_assn_eia860\n",
      "2023-03-03 15:48:11 -0900 - dagster - DEBUG - eia_harvested_assets_job - 70597524-4e93-42e1-ab40-95e562399209 - 70373 - eia_transform - ASSET_MATERIALIZATION - Materialized value boiler_generator_assn_eia860.\n",
      "2023-03-03 15:48:11 -0900 - dagster - DEBUG - eia_harvested_assets_job - 70597524-4e93-42e1-ab40-95e562399209 - 70373 - eia_transform - HANDLED_OUTPUT - Handled output \"boiler_generator_assn_eia860\" using IO manager \"pudl_sqlite_io_manager\"\n",
      "2023-03-03 15:48:11 -0900 - dagster - DEBUG - eia_harvested_assets_job - 70597524-4e93-42e1-ab40-95e562399209 - 70373 - eia_transform - STEP_OUTPUT - Yielded output \"boilers_entity_eia\" of type \"Any\". (Type check passed).\n",
      "2023-03-03 15:48:11 -0900 - dagster - DEBUG - eia_harvested_assets_job - 70597524-4e93-42e1-ab40-95e562399209 - eia_transform - Writing file at: /var/folders/ts/zf71sqq50nx4d41fy5xtsxhw0000gn/T/tmptiaapj13/storage/boilers_entity_eia\n",
      "2023-03-03 15:48:11 -0900 - dagster - DEBUG - eia_harvested_assets_job - 70597524-4e93-42e1-ab40-95e562399209 - 70373 - eia_transform - ASSET_MATERIALIZATION - Materialized value boilers_entity_eia.\n",
      "2023-03-03 15:48:11 -0900 - dagster - DEBUG - eia_harvested_assets_job - 70597524-4e93-42e1-ab40-95e562399209 - 70373 - eia_transform - HANDLED_OUTPUT - Handled output \"boilers_entity_eia\" using IO manager \"pudl_sqlite_io_manager\"\n",
      "2023-03-03 15:48:11 -0900 - dagster - DEBUG - eia_harvested_assets_job - 70597524-4e93-42e1-ab40-95e562399209 - 70373 - eia_transform - STEP_OUTPUT - Yielded output \"coalmine_eia923\" of type \"Any\". (Type check passed).\n",
      "2023-03-03 15:48:11 -0900 - dagster - DEBUG - eia_harvested_assets_job - 70597524-4e93-42e1-ab40-95e562399209 - eia_transform - Writing file at: /var/folders/ts/zf71sqq50nx4d41fy5xtsxhw0000gn/T/tmptiaapj13/storage/coalmine_eia923\n",
      "2023-03-03 15:48:11 -0900 - dagster - DEBUG - eia_harvested_assets_job - 70597524-4e93-42e1-ab40-95e562399209 - 70373 - eia_transform - ASSET_MATERIALIZATION - Materialized value coalmine_eia923.\n",
      "2023-03-03 15:48:11 -0900 - dagster - DEBUG - eia_harvested_assets_job - 70597524-4e93-42e1-ab40-95e562399209 - 70373 - eia_transform - HANDLED_OUTPUT - Handled output \"coalmine_eia923\" using IO manager \"pudl_sqlite_io_manager\"\n",
      "2023-03-03 15:48:11 -0900 - dagster - DEBUG - eia_harvested_assets_job - 70597524-4e93-42e1-ab40-95e562399209 - 70373 - eia_transform - STEP_OUTPUT - Yielded output \"fuel_receipts_costs_eia923\" of type \"Any\". (Type check passed).\n",
      "2023-03-03 15:48:11 -0900 - dagster - DEBUG - eia_harvested_assets_job - 70597524-4e93-42e1-ab40-95e562399209 - eia_transform - Writing file at: /var/folders/ts/zf71sqq50nx4d41fy5xtsxhw0000gn/T/tmptiaapj13/storage/fuel_receipts_costs_eia923\n",
      "2023-03-03 15:48:11 -0900 - dagster - DEBUG - eia_harvested_assets_job - 70597524-4e93-42e1-ab40-95e562399209 - 70373 - eia_transform - ASSET_MATERIALIZATION - Materialized value fuel_receipts_costs_eia923.\n",
      "2023-03-03 15:48:11 -0900 - dagster - DEBUG - eia_harvested_assets_job - 70597524-4e93-42e1-ab40-95e562399209 - 70373 - eia_transform - HANDLED_OUTPUT - Handled output \"fuel_receipts_costs_eia923\" using IO manager \"pudl_sqlite_io_manager\"\n",
      "2023-03-03 15:48:11 -0900 - dagster - DEBUG - eia_harvested_assets_job - 70597524-4e93-42e1-ab40-95e562399209 - 70373 - eia_transform - STEP_OUTPUT - Yielded output \"generation_eia923\" of type \"Any\". (Type check passed).\n",
      "2023-03-03 15:48:11 -0900 - dagster - DEBUG - eia_harvested_assets_job - 70597524-4e93-42e1-ab40-95e562399209 - eia_transform - Writing file at: /var/folders/ts/zf71sqq50nx4d41fy5xtsxhw0000gn/T/tmptiaapj13/storage/generation_eia923\n",
      "2023-03-03 15:48:11 -0900 - dagster - DEBUG - eia_harvested_assets_job - 70597524-4e93-42e1-ab40-95e562399209 - 70373 - eia_transform - ASSET_MATERIALIZATION - Materialized value generation_eia923.\n",
      "2023-03-03 15:48:11 -0900 - dagster - DEBUG - eia_harvested_assets_job - 70597524-4e93-42e1-ab40-95e562399209 - 70373 - eia_transform - HANDLED_OUTPUT - Handled output \"generation_eia923\" using IO manager \"pudl_sqlite_io_manager\"\n",
      "2023-03-03 15:48:11 -0900 - dagster - DEBUG - eia_harvested_assets_job - 70597524-4e93-42e1-ab40-95e562399209 - 70373 - eia_transform - STEP_OUTPUT - Yielded output \"generation_fuel_eia923\" of type \"Any\". (Type check passed).\n",
      "2023-03-03 15:48:11 -0900 - dagster - DEBUG - eia_harvested_assets_job - 70597524-4e93-42e1-ab40-95e562399209 - eia_transform - Writing file at: /var/folders/ts/zf71sqq50nx4d41fy5xtsxhw0000gn/T/tmptiaapj13/storage/generation_fuel_eia923\n",
      "2023-03-03 15:48:11 -0900 - dagster - DEBUG - eia_harvested_assets_job - 70597524-4e93-42e1-ab40-95e562399209 - 70373 - eia_transform - ASSET_MATERIALIZATION - Materialized value generation_fuel_eia923.\n",
      "2023-03-03 15:48:11 -0900 - dagster - DEBUG - eia_harvested_assets_job - 70597524-4e93-42e1-ab40-95e562399209 - 70373 - eia_transform - HANDLED_OUTPUT - Handled output \"generation_fuel_eia923\" using IO manager \"pudl_sqlite_io_manager\"\n",
      "2023-03-03 15:48:11 -0900 - dagster - DEBUG - eia_harvested_assets_job - 70597524-4e93-42e1-ab40-95e562399209 - 70373 - eia_transform - STEP_OUTPUT - Yielded output \"generation_fuel_nuclear_eia923\" of type \"Any\". (Type check passed).\n",
      "2023-03-03 15:48:11 -0900 - dagster - DEBUG - eia_harvested_assets_job - 70597524-4e93-42e1-ab40-95e562399209 - eia_transform - Writing file at: /var/folders/ts/zf71sqq50nx4d41fy5xtsxhw0000gn/T/tmptiaapj13/storage/generation_fuel_nuclear_eia923\n",
      "2023-03-03 15:48:11 -0900 - dagster - DEBUG - eia_harvested_assets_job - 70597524-4e93-42e1-ab40-95e562399209 - 70373 - eia_transform - ASSET_MATERIALIZATION - Materialized value generation_fuel_nuclear_eia923.\n",
      "2023-03-03 15:48:11 -0900 - dagster - DEBUG - eia_harvested_assets_job - 70597524-4e93-42e1-ab40-95e562399209 - 70373 - eia_transform - HANDLED_OUTPUT - Handled output \"generation_fuel_nuclear_eia923\" using IO manager \"pudl_sqlite_io_manager\"\n",
      "2023-03-03 15:48:11 -0900 - dagster - DEBUG - eia_harvested_assets_job - 70597524-4e93-42e1-ab40-95e562399209 - 70373 - eia_transform - STEP_OUTPUT - Yielded output \"generators_eia860\" of type \"Any\". (Type check passed).\n",
      "2023-03-03 15:48:11 -0900 - dagster - DEBUG - eia_harvested_assets_job - 70597524-4e93-42e1-ab40-95e562399209 - eia_transform - Writing file at: /var/folders/ts/zf71sqq50nx4d41fy5xtsxhw0000gn/T/tmptiaapj13/storage/generators_eia860\n",
      "2023-03-03 15:48:11 -0900 - dagster - DEBUG - eia_harvested_assets_job - 70597524-4e93-42e1-ab40-95e562399209 - 70373 - eia_transform - ASSET_MATERIALIZATION - Materialized value generators_eia860.\n",
      "2023-03-03 15:48:11 -0900 - dagster - DEBUG - eia_harvested_assets_job - 70597524-4e93-42e1-ab40-95e562399209 - 70373 - eia_transform - HANDLED_OUTPUT - Handled output \"generators_eia860\" using IO manager \"pudl_sqlite_io_manager\"\n",
      "2023-03-03 15:48:11 -0900 - dagster - DEBUG - eia_harvested_assets_job - 70597524-4e93-42e1-ab40-95e562399209 - 70373 - eia_transform - STEP_OUTPUT - Yielded output \"generators_entity_eia\" of type \"Any\". (Type check passed).\n",
      "2023-03-03 15:48:11 -0900 - dagster - DEBUG - eia_harvested_assets_job - 70597524-4e93-42e1-ab40-95e562399209 - eia_transform - Writing file at: /var/folders/ts/zf71sqq50nx4d41fy5xtsxhw0000gn/T/tmptiaapj13/storage/generators_entity_eia\n",
      "2023-03-03 15:48:11 -0900 - dagster - DEBUG - eia_harvested_assets_job - 70597524-4e93-42e1-ab40-95e562399209 - 70373 - eia_transform - ASSET_MATERIALIZATION - Materialized value generators_entity_eia.\n",
      "2023-03-03 15:48:11 -0900 - dagster - DEBUG - eia_harvested_assets_job - 70597524-4e93-42e1-ab40-95e562399209 - 70373 - eia_transform - HANDLED_OUTPUT - Handled output \"generators_entity_eia\" using IO manager \"pudl_sqlite_io_manager\"\n",
      "2023-03-03 15:48:11 -0900 - dagster - DEBUG - eia_harvested_assets_job - 70597524-4e93-42e1-ab40-95e562399209 - 70373 - eia_transform - STEP_OUTPUT - Yielded output \"ownership_eia860\" of type \"Any\". (Type check passed).\n",
      "2023-03-03 15:48:11 -0900 - dagster - DEBUG - eia_harvested_assets_job - 70597524-4e93-42e1-ab40-95e562399209 - eia_transform - Writing file at: /var/folders/ts/zf71sqq50nx4d41fy5xtsxhw0000gn/T/tmptiaapj13/storage/ownership_eia860\n",
      "2023-03-03 15:48:11 -0900 - dagster - DEBUG - eia_harvested_assets_job - 70597524-4e93-42e1-ab40-95e562399209 - 70373 - eia_transform - ASSET_MATERIALIZATION - Materialized value ownership_eia860.\n",
      "2023-03-03 15:48:11 -0900 - dagster - DEBUG - eia_harvested_assets_job - 70597524-4e93-42e1-ab40-95e562399209 - 70373 - eia_transform - HANDLED_OUTPUT - Handled output \"ownership_eia860\" using IO manager \"pudl_sqlite_io_manager\"\n",
      "2023-03-03 15:48:11 -0900 - dagster - DEBUG - eia_harvested_assets_job - 70597524-4e93-42e1-ab40-95e562399209 - 70373 - eia_transform - STEP_OUTPUT - Yielded output \"plants_eia860\" of type \"Any\". (Type check passed).\n",
      "2023-03-03 15:48:11 -0900 - dagster - DEBUG - eia_harvested_assets_job - 70597524-4e93-42e1-ab40-95e562399209 - eia_transform - Writing file at: /var/folders/ts/zf71sqq50nx4d41fy5xtsxhw0000gn/T/tmptiaapj13/storage/plants_eia860\n",
      "2023-03-03 15:48:11 -0900 - dagster - DEBUG - eia_harvested_assets_job - 70597524-4e93-42e1-ab40-95e562399209 - 70373 - eia_transform - ASSET_MATERIALIZATION - Materialized value plants_eia860.\n",
      "2023-03-03 15:48:11 -0900 - dagster - DEBUG - eia_harvested_assets_job - 70597524-4e93-42e1-ab40-95e562399209 - 70373 - eia_transform - HANDLED_OUTPUT - Handled output \"plants_eia860\" using IO manager \"pudl_sqlite_io_manager\"\n",
      "2023-03-03 15:48:11 -0900 - dagster - DEBUG - eia_harvested_assets_job - 70597524-4e93-42e1-ab40-95e562399209 - 70373 - eia_transform - STEP_OUTPUT - Yielded output \"plants_entity_eia\" of type \"Any\". (Type check passed).\n",
      "2023-03-03 15:48:11 -0900 - dagster - DEBUG - eia_harvested_assets_job - 70597524-4e93-42e1-ab40-95e562399209 - eia_transform - Writing file at: /var/folders/ts/zf71sqq50nx4d41fy5xtsxhw0000gn/T/tmptiaapj13/storage/plants_entity_eia\n",
      "2023-03-03 15:48:11 -0900 - dagster - DEBUG - eia_harvested_assets_job - 70597524-4e93-42e1-ab40-95e562399209 - 70373 - eia_transform - ASSET_MATERIALIZATION - Materialized value plants_entity_eia.\n",
      "2023-03-03 15:48:11 -0900 - dagster - DEBUG - eia_harvested_assets_job - 70597524-4e93-42e1-ab40-95e562399209 - 70373 - eia_transform - HANDLED_OUTPUT - Handled output \"plants_entity_eia\" using IO manager \"pudl_sqlite_io_manager\"\n",
      "2023-03-03 15:48:11 -0900 - dagster - DEBUG - eia_harvested_assets_job - 70597524-4e93-42e1-ab40-95e562399209 - 70373 - eia_transform - STEP_OUTPUT - Yielded output \"utilities_eia860\" of type \"Any\". (Type check passed).\n",
      "2023-03-03 15:48:11 -0900 - dagster - DEBUG - eia_harvested_assets_job - 70597524-4e93-42e1-ab40-95e562399209 - eia_transform - Writing file at: /var/folders/ts/zf71sqq50nx4d41fy5xtsxhw0000gn/T/tmptiaapj13/storage/utilities_eia860\n",
      "2023-03-03 15:48:11 -0900 - dagster - DEBUG - eia_harvested_assets_job - 70597524-4e93-42e1-ab40-95e562399209 - 70373 - eia_transform - ASSET_MATERIALIZATION - Materialized value utilities_eia860.\n",
      "2023-03-03 15:48:11 -0900 - dagster - DEBUG - eia_harvested_assets_job - 70597524-4e93-42e1-ab40-95e562399209 - 70373 - eia_transform - HANDLED_OUTPUT - Handled output \"utilities_eia860\" using IO manager \"pudl_sqlite_io_manager\"\n",
      "2023-03-03 15:48:11 -0900 - dagster - DEBUG - eia_harvested_assets_job - 70597524-4e93-42e1-ab40-95e562399209 - 70373 - eia_transform - STEP_OUTPUT - Yielded output \"utilities_entity_eia\" of type \"Any\". (Type check passed).\n",
      "2023-03-03 15:48:11 -0900 - dagster - DEBUG - eia_harvested_assets_job - 70597524-4e93-42e1-ab40-95e562399209 - eia_transform - Writing file at: /var/folders/ts/zf71sqq50nx4d41fy5xtsxhw0000gn/T/tmptiaapj13/storage/utilities_entity_eia\n",
      "2023-03-03 15:48:11 -0900 - dagster - DEBUG - eia_harvested_assets_job - 70597524-4e93-42e1-ab40-95e562399209 - 70373 - eia_transform - ASSET_MATERIALIZATION - Materialized value utilities_entity_eia.\n",
      "2023-03-03 15:48:11 -0900 - dagster - DEBUG - eia_harvested_assets_job - 70597524-4e93-42e1-ab40-95e562399209 - 70373 - eia_transform - HANDLED_OUTPUT - Handled output \"utilities_entity_eia\" using IO manager \"pudl_sqlite_io_manager\"\n",
      "2023-03-03 15:48:11 -0900 - dagster - DEBUG - eia_harvested_assets_job - 70597524-4e93-42e1-ab40-95e562399209 - 70373 - eia_transform - STEP_SUCCESS - Finished execution of step \"eia_transform\" in 36.18s.\n",
      "2023-03-03 15:48:11 -0900 - dagster - DEBUG - eia_harvested_assets_job - 70597524-4e93-42e1-ab40-95e562399209 - 70373 - ENGINE_EVENT - Finished steps in process (pid: 70373) in 36.64s\n",
      "2023-03-03 15:48:11 -0900 - dagster - DEBUG - eia_harvested_assets_job - 70597524-4e93-42e1-ab40-95e562399209 - 70373 - RUN_SUCCESS - Finished execution of run for \"eia_harvested_assets_job\".\n"
     ]
    },
    {
     "name": "stdout",
     "output_type": "stream",
     "text": [
      "CPU times: user 35.9 s, sys: 556 ms, total: 36.5 s\n",
      "Wall time: 36.8 s\n"
     ]
    }
   ],
   "source": [
    "%%time\n",
    "eia_harvested_assets_job = get_job_from_asset_group(\"eia_harvested_assets\", eia_settings=eia_settings)\n",
    "eia_harvested_assets_job_result = eia_harvested_assets_job.execute_in_process()"
   ]
  },
  {
   "cell_type": "code",
   "execution_count": 18,
   "metadata": {
    "tags": []
   },
   "outputs": [
    {
     "data": {
      "text/plain": [
       "['utilities_eia860',\n",
       " 'fuel_receipts_costs_eia923',\n",
       " 'generation_fuel_nuclear_eia923',\n",
       " 'boiler_generator_assn_eia860',\n",
       " 'ownership_eia860',\n",
       " 'generation_fuel_eia923',\n",
       " 'generators_eia860',\n",
       " 'plants_eia860',\n",
       " 'generation_eia923',\n",
       " 'boiler_fuel_eia923',\n",
       " 'coalmine_eia923',\n",
       " 'generators_entity_eia',\n",
       " 'boilers_entity_eia',\n",
       " 'plants_entity_eia',\n",
       " 'utilities_entity_eia']"
      ]
     },
     "execution_count": 18,
     "metadata": {},
     "output_type": "execute_result"
    }
   ],
   "source": [
    "get_asset_group_keys(\"eia_harvested_assets\")"
   ]
  },
  {
   "cell_type": "code",
   "execution_count": 19,
   "metadata": {
    "tags": []
   },
   "outputs": [
    {
     "data": {
      "text/html": [
       "<div>\n",
       "<style scoped>\n",
       "    .dataframe tbody tr th:only-of-type {\n",
       "        vertical-align: middle;\n",
       "    }\n",
       "\n",
       "    .dataframe tbody tr th {\n",
       "        vertical-align: top;\n",
       "    }\n",
       "\n",
       "    .dataframe thead th {\n",
       "        text-align: right;\n",
       "    }\n",
       "</style>\n",
       "<table border=\"1\" class=\"dataframe\">\n",
       "  <thead>\n",
       "    <tr style=\"text-align: right;\">\n",
       "      <th></th>\n",
       "      <th>plant_id_eia</th>\n",
       "      <th>report_date</th>\n",
       "      <th>generator_id</th>\n",
       "      <th>boiler_id</th>\n",
       "      <th>unit_id_eia</th>\n",
       "      <th>bga_source</th>\n",
       "      <th>boiler_generator_assn_type_code</th>\n",
       "      <th>steam_plant_type_code</th>\n",
       "      <th>data_maturity</th>\n",
       "      <th>unit_id_pudl</th>\n",
       "    </tr>\n",
       "  </thead>\n",
       "  <tbody>\n",
       "    <tr>\n",
       "      <th>0</th>\n",
       "      <td>3</td>\n",
       "      <td>2021-01-01</td>\n",
       "      <td>1</td>\n",
       "      <td>1</td>\n",
       "      <td>&lt;NA&gt;</td>\n",
       "      <td>eia860_org</td>\n",
       "      <td>&lt;NA&gt;</td>\n",
       "      <td>1</td>\n",
       "      <td>final</td>\n",
       "      <td>1</td>\n",
       "    </tr>\n",
       "    <tr>\n",
       "      <th>1</th>\n",
       "      <td>3</td>\n",
       "      <td>2021-01-01</td>\n",
       "      <td>2</td>\n",
       "      <td>2</td>\n",
       "      <td>&lt;NA&gt;</td>\n",
       "      <td>eia860_org</td>\n",
       "      <td>&lt;NA&gt;</td>\n",
       "      <td>1</td>\n",
       "      <td>final</td>\n",
       "      <td>2</td>\n",
       "    </tr>\n",
       "    <tr>\n",
       "      <th>2</th>\n",
       "      <td>3</td>\n",
       "      <td>2021-01-01</td>\n",
       "      <td>4</td>\n",
       "      <td>4</td>\n",
       "      <td>&lt;NA&gt;</td>\n",
       "      <td>eia860_org</td>\n",
       "      <td>&lt;NA&gt;</td>\n",
       "      <td>1</td>\n",
       "      <td>final</td>\n",
       "      <td>3</td>\n",
       "    </tr>\n",
       "    <tr>\n",
       "      <th>3</th>\n",
       "      <td>3</td>\n",
       "      <td>2021-01-01</td>\n",
       "      <td>5</td>\n",
       "      <td>5</td>\n",
       "      <td>&lt;NA&gt;</td>\n",
       "      <td>eia860_org</td>\n",
       "      <td>&lt;NA&gt;</td>\n",
       "      <td>1</td>\n",
       "      <td>final</td>\n",
       "      <td>4</td>\n",
       "    </tr>\n",
       "    <tr>\n",
       "      <th>5</th>\n",
       "      <td>3</td>\n",
       "      <td>2021-01-01</td>\n",
       "      <td>A1ST</td>\n",
       "      <td>6B</td>\n",
       "      <td>G521</td>\n",
       "      <td>eia860_org</td>\n",
       "      <td>&lt;NA&gt;</td>\n",
       "      <td>1</td>\n",
       "      <td>final</td>\n",
       "      <td>6</td>\n",
       "    </tr>\n",
       "  </tbody>\n",
       "</table>\n",
       "</div>"
      ],
      "text/plain": [
       "   plant_id_eia report_date generator_id boiler_id unit_id_eia  bga_source boiler_generator_assn_type_code  steam_plant_type_code data_maturity  unit_id_pudl\n",
       "0             3  2021-01-01            1         1        <NA>  eia860_org                            <NA>                      1         final             1\n",
       "1             3  2021-01-01            2         2        <NA>  eia860_org                            <NA>                      1         final             2\n",
       "2             3  2021-01-01            4         4        <NA>  eia860_org                            <NA>                      1         final             3\n",
       "3             3  2021-01-01            5         5        <NA>  eia860_org                            <NA>                      1         final             4\n",
       "5             3  2021-01-01         A1ST        6B        G521  eia860_org                            <NA>                      1         final             6"
      ]
     },
     "execution_count": 19,
     "metadata": {},
     "output_type": "execute_result"
    }
   ],
   "source": [
    "asset_key = \"boiler_generator_assn_eia860\"\n",
    "eia_harvested_assets_job_result.asset_value(asset_key).head()"
   ]
  },
  {
   "cell_type": "code",
   "execution_count": null,
   "metadata": {},
   "outputs": [],
   "source": []
  }
 ],
 "metadata": {
  "kernelspec": {
   "display_name": "Python 3 (ipykernel)",
   "language": "python",
   "name": "python3"
  },
  "language_info": {
   "codemirror_mode": {
    "name": "ipython",
    "version": 3
   },
   "file_extension": ".py",
   "mimetype": "text/x-python",
   "name": "python",
   "nbconvert_exporter": "python",
   "pygments_lexer": "ipython3",
   "version": "3.10.9"
  }
 },
 "nbformat": 4,
 "nbformat_minor": 4
}
