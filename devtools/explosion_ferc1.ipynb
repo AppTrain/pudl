{
 "cells": [
  {
   "cell_type": "markdown",
   "id": "4f3eeebb-999b-4c2f-948d-cc7e6b0c211d",
   "metadata": {},
   "source": [
    "# Income Statement Explosion"
   ]
  },
  {
   "cell_type": "code",
   "execution_count": null,
   "id": "c9e66073-8174-4bfc-9c60-55eeb8c06e19",
   "metadata": {
    "tags": []
   },
   "outputs": [],
   "source": [
    "import pandas as pd\n",
    "import numpy as np\n",
    "from dagster import AssetKey\n",
    "import sqlalchemy as sa\n",
    "\n",
    "import matplotlib.pyplot as plt\n",
    "import matplotlib as mpl\n",
    "%matplotlib inline\n",
    "mpl.style.use('dark_background')\n",
    "figsize=(12,5)\n",
    "\n",
    "import pudl\n",
    "from pudl.etl import defs, default_assets\n",
    "from pudl.helpers import get_asset_group_keys\n",
    "from pudl.transform.ferc1 import *"
   ]
  },
  {
   "cell_type": "code",
   "execution_count": null,
   "id": "ed0e1920-80e9-4c26-a891-7bed574add2e",
   "metadata": {},
   "outputs": [],
   "source": [
    "pudl_settings = pudl.workspace.setup.get_defaults()\n",
    "pudl_engine = sa.create_engine(pudl_settings['pudl_db'])\n",
    "ferc1_engine_xbrl = sa.create_engine(pudl_settings[\"ferc1_xbrl_db\"])\n",
    "ferc1_engine_dbf= sa.create_engine(pudl_settings[\"ferc1_db\"])"
   ]
  },
  {
   "cell_type": "code",
   "execution_count": null,
   "id": "60ae259b-d7fc-47b8-915f-677f7c981234",
   "metadata": {
    "tags": []
   },
   "outputs": [],
   "source": [
    "xbrl_meta = defs.load_asset_value(AssetKey(\"xbrl_metadata_json\"))"
   ]
  },
  {
   "cell_type": "code",
   "execution_count": null,
   "id": "39ded9f4-cd17-4082-8444-851b13a2e6b4",
   "metadata": {
    "tags": []
   },
   "outputs": [],
   "source": [
    "income_statement_tables = [\n",
    "    \"income_statement_ferc1\",\n",
    "    \"depreciation_amortization_summary_ferc1\",\n",
    "    \"electric_operating_expenses_ferc1\",\n",
    "    \"electric_operating_revenues_ferc1\",\n",
    "]\n",
    "income_table_dollar_cols = {\n",
    "    \"income_statement_ferc1\": \"income\",\n",
    "    \"depreciation_amortization_summary_ferc1\": \"depreciation_amortization_value\",\n",
    "    \"electric_operating_expenses_ferc1\": \"expense\",\n",
    "    \"electric_operating_revenues_ferc1\": \"revenue\",\n",
    "}\n",
    "# get_asset_group_keys(\"norm_ferc1\", default_assets)\n",
    "# tables = {tbl: defs.load_asset_value(AssetKey(tbl)) for tbl in income_statement_tables}\n",
    "tables = {tbl: pd.read_sql(tbl, pudl_engine) for tbl in income_statement_tables}\n",
    "meta_converted = ExplodeMeta(xbrl_meta).convert_metadata(income_statement_tables)"
   ]
  },
  {
   "cell_type": "code",
   "execution_count": null,
   "id": "0c366b7b-71d2-4c5d-a2aa-e250f36355e2",
   "metadata": {
    "tags": []
   },
   "outputs": [],
   "source": [
    "# make all the calculated tables\n",
    "calc_dfs = {}\n",
    "for table_name in income_statement_tables:\n",
    "    calculated_values = meta_converted[table_name]\n",
    "    dollar_value_col = income_table_dollar_cols[table_name]\n",
    "    table_df = tables[table_name]\n",
    "    calc_dfs[table_name] = check_table_calcs(table_name, table_df, dollar_value_col, calculated_values)\n",
    "    "
   ]
  },
  {
   "cell_type": "markdown",
   "id": "920a3492-5724-4082-9efd-65503f0200da",
   "metadata": {},
   "source": [
    "### Clean up helper bits for one table"
   ]
  },
  {
   "cell_type": "code",
   "execution_count": null,
   "id": "2bf2ef3f-940f-4e3a-ac86-8c8215705e6a",
   "metadata": {
    "tags": []
   },
   "outputs": [],
   "source": [
    "table_name = \"electric_operating_revenues_ferc1\"\n",
    "table_df = tables[table_name]\n",
    "calced_df = calc_dfs[table_name].drop(columns=[\"record_id\"])\n",
    "xbrl_factoid_name = FERC1_TFR_CLASSES[table_name]().params.merge_xbrl_metadata.on\n",
    "pks = (\n",
    "    pudl.metadata.classes.Package.from_resource_ids()\n",
    "    .get_resource(table_name)\n",
    "    .schema.primary_key\n",
    ")\n",
    "pks_wo_factoid = [col for col in pks if col != xbrl_factoid_name]"
   ]
  },
  {
   "cell_type": "code",
   "execution_count": null,
   "id": "ac410a89-963c-4706-9ebb-10a9455bbe57",
   "metadata": {
    "tags": []
   },
   "outputs": [],
   "source": [
    "off_df = calced_df[\n",
    "    ~np.isclose(\n",
    "        calced_df.calculated_dollar_amount,\n",
    "        calced_df[income_table_dollar_cols[table_name]]\n",
    "    )\n",
    "    &\n",
    "    (calced_df[\"abs_diff\"].notnull())\n",
    "]\n",
    "worst_calc_names = off_df[xbrl_factoid_name].value_counts().index[0:3]\n",
    "worst_calc_name = off_df[xbrl_factoid_name].value_counts().index[0]"
   ]
  },
  {
   "cell_type": "code",
   "execution_count": null,
   "id": "b68558e5-e57d-48f3-839d-cb26001a545d",
   "metadata": {
    "tags": []
   },
   "outputs": [],
   "source": [
    "worst_calc_components = [calc_comp[\"name\"] for calc_comp in meta_converted[table_name][worst_calc_name]] + [worst_calc_name]\n",
    "off_df = off_df.assign(xbrl_factoid_name=lambda x: x[xbrl_factoid_name].astype(pd.CategoricalDtype(categories=worst_calc_components)))"
   ]
  },
  {
   "cell_type": "code",
   "execution_count": null,
   "id": "4a10739f-0fa5-49b2-9060-811c523559c3",
   "metadata": {
    "tags": []
   },
   "outputs": [],
   "source": [
    "for calc in worst_calc_names:\n",
    "    plt.hist(\n",
    "        off_df[off_df[xbrl_factoid_name] == calc].rel_diff, \n",
    "        bins=50,\n",
    "        range=(0,2),\n",
    "        label=calc,\n",
    "        \n",
    "    )\n",
    "plt.legend()\n",
    "plt.title(f\"Relative Diff in table: {table_name}\")\n",
    "plt.show()"
   ]
  },
  {
   "cell_type": "code",
   "execution_count": null,
   "id": "2d366781-cdc9-4245-9d8d-fc4529989e6e",
   "metadata": {
    "tags": []
   },
   "outputs": [],
   "source": [
    "dollar_value_col = \"expense\"\n",
    "pd.merge(\n",
    "    calced_df,\n",
    "    off_df[\n",
    "        (off_df[xbrl_factoid_name] ==worst_calc_name)\n",
    "    ][pks_wo_factoid + [\"abs_diff\"]].drop_duplicates(),\n",
    "    left_on=pks_wo_factoid + [dollar_value_col],\n",
    "    right_on=pks_wo_factoid + [\"abs_diff\"],\n",
    ")"
   ]
  },
  {
   "cell_type": "code",
   "execution_count": null,
   "id": "f8c43dff-2977-4395-be8d-04be09e68363",
   "metadata": {},
   "outputs": [],
   "source": []
  }
 ],
 "metadata": {
  "kernelspec": {
   "display_name": "Python 3 (ipykernel)",
   "language": "python",
   "name": "python3"
  },
  "language_info": {
   "codemirror_mode": {
    "name": "ipython",
    "version": 3
   },
   "file_extension": ".py",
   "mimetype": "text/x-python",
   "name": "python",
   "nbconvert_exporter": "python",
   "pygments_lexer": "ipython3",
   "version": "3.11.3"
  }
 },
 "nbformat": 4,
 "nbformat_minor": 5
}
