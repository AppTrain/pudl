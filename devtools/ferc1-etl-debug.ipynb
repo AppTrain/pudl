{
 "cells": [
  {
   "cell_type": "markdown",
   "id": "3deb7c75-179c-439f-b30c-beca40e9cecf",
   "metadata": {
    "tags": []
   },
   "source": [
    "# Working with the FERC Form 1 Extract / Transform\n",
    "This notebook steps through PUDL's extract and transform steps for FERC Form 1 to make it easier to test and add new years of data, or new tables from the various spreadsheets that haven't been integrated yet.\n",
    "\n",
    "This notebook deviates from other devtool debug notebooks in that it doesn't make use of the most recently created dagster asset values. Instead, the extraction and transforms steps are rerun within the notebook so we can inspect the outputs of lower level transform functions that don't have their own assets like `process_xbrl` and `transform_start`.\n",
    "\n",
    "**Make sure you've created the raw FERC databases using one of the `ferc_to_sqlite` jobs!**"
   ]
  },
  {
   "cell_type": "markdown",
   "id": "82b608c9-df90-4203-b6ef-ce63bd76f6e9",
   "metadata": {
    "tags": []
   },
   "source": [
    "## Setup"
   ]
  },
  {
   "cell_type": "code",
   "execution_count": 1,
   "id": "1fa9ca56-b2c8-4bae-8ba3-ee9050b0ef86",
   "metadata": {},
   "outputs": [
    {
     "name": "stderr",
     "output_type": "stream",
     "text": [
      "pudl_settings is being deprecated in favor of environment variables variables PUDL_OUTPUT and PUDL_INPUT. For more info see: https://catalystcoop-pudl.readthedocs.io/en/dev/dev/dev_setup.html\n",
      "pudl_settings is being deprecated in favor of environment variables PUDL_OUTPUT and PUDL_INPUT. For more info see: https://catalystcoop-pudl.readthedocs.io/en/dev/dev/dev_setup.html\n",
      "sqlite and parquet directories are no longer being used. Make sure there is a single directory named 'output' at the root of your workspace. For more info see: https://catalystcoop-pudl.readthedocs.io/en/dev/dev/dev_setup.html\n",
      "pudl_settings is being deprecated in favor of environment variables variables PUDL_OUTPUT and PUDL_INPUT. For more info see: https://catalystcoop-pudl.readthedocs.io/en/dev/dev/dev_setup.html\n",
      "pudl_settings is being deprecated in favor of environment variables PUDL_OUTPUT and PUDL_INPUT. For more info see: https://catalystcoop-pudl.readthedocs.io/en/dev/dev/dev_setup.html\n",
      "sqlite and parquet directories are no longer being used. Make sure there is a single directory named 'output' at the root of your workspace. For more info see: https://catalystcoop-pudl.readthedocs.io/en/dev/dev/dev_setup.html\n"
     ]
    }
   ],
   "source": [
    "%load_ext autoreload\n",
    "%autoreload 3\n",
    "import pudl\n",
    "import logging\n",
    "import sys\n",
    "from pathlib import Path\n",
    "import pandas as pd\n",
    "pd.options.display.max_columns = None"
   ]
  },
  {
   "cell_type": "code",
   "execution_count": 2,
   "id": "e21fea69-9d14-48d6-b0c9-149c37844e95",
   "metadata": {},
   "outputs": [],
   "source": [
    "logger = logging.getLogger()\n",
    "logger.setLevel(logging.INFO)\n",
    "handler = logging.StreamHandler(stream=sys.stdout)\n",
    "formatter = logging.Formatter('%(message)s')\n",
    "handler.setFormatter(formatter)\n",
    "logger.handlers = [handler]"
   ]
  },
  {
   "cell_type": "markdown",
   "id": "14145b03-fb79-46a6-a0e6-82da0c549d66",
   "metadata": {
    "tags": []
   },
   "source": [
    "## Extract DBF and XBRL Data:"
   ]
  },
  {
   "cell_type": "code",
   "execution_count": 3,
   "id": "c04d0db4-16f7-4079-a707-2bbcc9ede5eb",
   "metadata": {
    "tags": []
   },
   "outputs": [],
   "source": [
    "from dagster import build_init_resource_context\n",
    "from pudl.resources import dataset_settings\n",
    "\n",
    "years = [2020, 2021] # add desired years here\n",
    "configured_dataset_settings = {'ferc1': {'years': years}}\n",
    "\n",
    "dataset_init_context = build_init_resource_context(config=configured_dataset_settings)\n",
    "configured_dataset_settings = dataset_settings(dataset_init_context)"
   ]
  },
  {
   "cell_type": "code",
   "execution_count": 4,
   "id": "38d86bce-6795-44c2-9e8d-84364f406f73",
   "metadata": {
    "tags": []
   },
   "outputs": [
    {
     "name": "stderr",
     "output_type": "stream",
     "text": [
      "2023-03-17 17:02:10 [ WARNING] catalystcoop.pudl.io_managers:166 steam_electric_generating_plant_statistics_large_plants_fuel_statistics_402_instant not found in database metadata. Dtypes of returned DataFrame might be incorrect.\n"
     ]
    },
    {
     "name": "stdout",
     "output_type": "stream",
     "text": [
      "steam_electric_generating_plant_statistics_large_plants_fuel_statistics_402_instant not found in database metadata. Dtypes of returned DataFrame might be incorrect.\n"
     ]
    },
    {
     "name": "stderr",
     "output_type": "stream",
     "text": [
      "2023-03-17 17:02:10 [ WARNING] catalystcoop.pudl.io_managers:166 purchased_power_326_instant not found in database metadata. Dtypes of returned DataFrame might be incorrect.\n"
     ]
    },
    {
     "name": "stdout",
     "output_type": "stream",
     "text": [
      "purchased_power_326_instant not found in database metadata. Dtypes of returned DataFrame might be incorrect.\n"
     ]
    },
    {
     "name": "stderr",
     "output_type": "stream",
     "text": [
      "2023-03-17 17:02:10 [ WARNING] catalystcoop.pudl.io_managers:166 electric_energy_account_401a_instant not found in database metadata. Dtypes of returned DataFrame might be incorrect.\n"
     ]
    },
    {
     "name": "stdout",
     "output_type": "stream",
     "text": [
      "electric_energy_account_401a_instant not found in database metadata. Dtypes of returned DataFrame might be incorrect.\n"
     ]
    },
    {
     "name": "stderr",
     "output_type": "stream",
     "text": [
      "2023-03-17 17:02:10 [ WARNING] catalystcoop.pudl.io_managers:166 electric_energy_account_401a_instant not found in database metadata. Dtypes of returned DataFrame might be incorrect.\n"
     ]
    },
    {
     "name": "stdout",
     "output_type": "stream",
     "text": [
      "electric_energy_account_401a_instant not found in database metadata. Dtypes of returned DataFrame might be incorrect.\n"
     ]
    },
    {
     "name": "stderr",
     "output_type": "stream",
     "text": [
      "2023-03-17 17:02:10 [ WARNING] catalystcoop.pudl.io_managers:166 summary_of_utility_plant_and_accumulated_provisions_for_depreciation_amortization_and_depletion_200_duration not found in database metadata. Dtypes of returned DataFrame might be incorrect.\n"
     ]
    },
    {
     "name": "stdout",
     "output_type": "stream",
     "text": [
      "summary_of_utility_plant_and_accumulated_provisions_for_depreciation_amortization_and_depletion_200_duration not found in database metadata. Dtypes of returned DataFrame might be incorrect.\n"
     ]
    },
    {
     "name": "stderr",
     "output_type": "stream",
     "text": [
      "2023-03-17 17:02:10 [ WARNING] catalystcoop.pudl.io_managers:166 transmission_line_statistics_422_instant not found in database metadata. Dtypes of returned DataFrame might be incorrect.\n"
     ]
    },
    {
     "name": "stdout",
     "output_type": "stream",
     "text": [
      "transmission_line_statistics_422_instant not found in database metadata. Dtypes of returned DataFrame might be incorrect.\n"
     ]
    },
    {
     "name": "stderr",
     "output_type": "stream",
     "text": [
      "2023-03-17 17:02:10 [ WARNING] catalystcoop.pudl.io_managers:166 electric_operations_and_maintenance_expenses_320_instant not found in database metadata. Dtypes of returned DataFrame might be incorrect.\n"
     ]
    },
    {
     "name": "stdout",
     "output_type": "stream",
     "text": [
      "electric_operations_and_maintenance_expenses_320_instant not found in database metadata. Dtypes of returned DataFrame might be incorrect.\n"
     ]
    },
    {
     "name": "stderr",
     "output_type": "stream",
     "text": [
      "2023-03-17 17:02:10 [ WARNING] catalystcoop.pudl.io_managers:166 comparative_balance_sheet_liabilities_and_other_credits_110_duration not found in database metadata. Dtypes of returned DataFrame might be incorrect.\n"
     ]
    },
    {
     "name": "stdout",
     "output_type": "stream",
     "text": [
      "comparative_balance_sheet_liabilities_and_other_credits_110_duration not found in database metadata. Dtypes of returned DataFrame might be incorrect.\n"
     ]
    },
    {
     "name": "stderr",
     "output_type": "stream",
     "text": [
      "2023-03-17 17:02:10 [ WARNING] catalystcoop.pudl.io_managers:166 comparative_balance_sheet_assets_and_other_debits_110_duration not found in database metadata. Dtypes of returned DataFrame might be incorrect.\n"
     ]
    },
    {
     "name": "stdout",
     "output_type": "stream",
     "text": [
      "comparative_balance_sheet_assets_and_other_debits_110_duration not found in database metadata. Dtypes of returned DataFrame might be incorrect.\n"
     ]
    },
    {
     "name": "stderr",
     "output_type": "stream",
     "text": [
      "2023-03-17 17:02:11 [ WARNING] catalystcoop.pudl.io_managers:166 statement_of_income_114_instant not found in database metadata. Dtypes of returned DataFrame might be incorrect.\n"
     ]
    },
    {
     "name": "stdout",
     "output_type": "stream",
     "text": [
      "statement_of_income_114_instant not found in database metadata. Dtypes of returned DataFrame might be incorrect.\n"
     ]
    },
    {
     "name": "stderr",
     "output_type": "stream",
     "text": [
      "2023-03-17 17:02:11 [ WARNING] catalystcoop.pudl.io_managers:166 retained_earnings_appropriations_118_instant not found in database metadata. Dtypes of returned DataFrame might be incorrect.\n"
     ]
    },
    {
     "name": "stdout",
     "output_type": "stream",
     "text": [
      "retained_earnings_appropriations_118_instant not found in database metadata. Dtypes of returned DataFrame might be incorrect.\n"
     ]
    },
    {
     "name": "stderr",
     "output_type": "stream",
     "text": [
      "2023-03-17 17:02:11 [ WARNING] catalystcoop.pudl.io_managers:166 summary_of_depreciation_and_amortization_charges_section_a_336_instant not found in database metadata. Dtypes of returned DataFrame might be incorrect.\n"
     ]
    },
    {
     "name": "stdout",
     "output_type": "stream",
     "text": [
      "summary_of_depreciation_and_amortization_charges_section_a_336_instant not found in database metadata. Dtypes of returned DataFrame might be incorrect.\n"
     ]
    },
    {
     "name": "stderr",
     "output_type": "stream",
     "text": [
      "2023-03-17 17:02:11 [ WARNING] catalystcoop.pudl.io_managers:166 accumulated_provision_for_depreciation_of_electric_utility_plant_functional_classification_section_b_219_duration not found in database metadata. Dtypes of returned DataFrame might be incorrect.\n"
     ]
    },
    {
     "name": "stdout",
     "output_type": "stream",
     "text": [
      "accumulated_provision_for_depreciation_of_electric_utility_plant_functional_classification_section_b_219_duration not found in database metadata. Dtypes of returned DataFrame might be incorrect.\n"
     ]
    },
    {
     "name": "stderr",
     "output_type": "stream",
     "text": [
      "2023-03-17 17:02:11 [ WARNING] catalystcoop.pudl.io_managers:166 electric_operating_revenues_300_instant not found in database metadata. Dtypes of returned DataFrame might be incorrect.\n"
     ]
    },
    {
     "name": "stdout",
     "output_type": "stream",
     "text": [
      "electric_operating_revenues_300_instant not found in database metadata. Dtypes of returned DataFrame might be incorrect.\n"
     ]
    },
    {
     "name": "stderr",
     "output_type": "stream",
     "text": [
      "2023-03-17 17:02:11 [ WARNING] catalystcoop.pudl.io_managers:166 sales_of_electricity_by_rate_schedules_account_4491_provision_for_rate_refunds_304_duration not found in database metadata. Dtypes of returned DataFrame might be incorrect.\n"
     ]
    },
    {
     "name": "stdout",
     "output_type": "stream",
     "text": [
      "sales_of_electricity_by_rate_schedules_account_4491_provision_for_rate_refunds_304_duration not found in database metadata. Dtypes of returned DataFrame might be incorrect.\n"
     ]
    },
    {
     "name": "stderr",
     "output_type": "stream",
     "text": [
      "2023-03-17 17:02:11 [ WARNING] catalystcoop.pudl.io_managers:166 sales_of_electricity_by_rate_schedules_account_440_residential_304_instant not found in database metadata. Dtypes of returned DataFrame might be incorrect.\n"
     ]
    },
    {
     "name": "stdout",
     "output_type": "stream",
     "text": [
      "sales_of_electricity_by_rate_schedules_account_440_residential_304_instant not found in database metadata. Dtypes of returned DataFrame might be incorrect.\n"
     ]
    },
    {
     "name": "stderr",
     "output_type": "stream",
     "text": [
      "2023-03-17 17:02:11 [ WARNING] catalystcoop.pudl.io_managers:166 sales_of_electricity_by_rate_schedules_account_442_commercial_304_instant not found in database metadata. Dtypes of returned DataFrame might be incorrect.\n"
     ]
    },
    {
     "name": "stdout",
     "output_type": "stream",
     "text": [
      "sales_of_electricity_by_rate_schedules_account_442_commercial_304_instant not found in database metadata. Dtypes of returned DataFrame might be incorrect.\n"
     ]
    },
    {
     "name": "stderr",
     "output_type": "stream",
     "text": [
      "2023-03-17 17:02:11 [ WARNING] catalystcoop.pudl.io_managers:166 sales_of_electricity_by_rate_schedules_account_442_industrial_304_instant not found in database metadata. Dtypes of returned DataFrame might be incorrect.\n"
     ]
    },
    {
     "name": "stdout",
     "output_type": "stream",
     "text": [
      "sales_of_electricity_by_rate_schedules_account_442_industrial_304_instant not found in database metadata. Dtypes of returned DataFrame might be incorrect.\n"
     ]
    },
    {
     "name": "stderr",
     "output_type": "stream",
     "text": [
      "2023-03-17 17:02:11 [ WARNING] catalystcoop.pudl.io_managers:166 sales_of_electricity_by_rate_schedules_account_444_public_street_and_highway_lighting_304_instant not found in database metadata. Dtypes of returned DataFrame might be incorrect.\n"
     ]
    },
    {
     "name": "stdout",
     "output_type": "stream",
     "text": [
      "sales_of_electricity_by_rate_schedules_account_444_public_street_and_highway_lighting_304_instant not found in database metadata. Dtypes of returned DataFrame might be incorrect.\n"
     ]
    },
    {
     "name": "stderr",
     "output_type": "stream",
     "text": [
      "2023-03-17 17:02:11 [ WARNING] catalystcoop.pudl.io_managers:166 sales_of_electricity_by_rate_schedules_account_445_other_sales_to_public_authorities_304_instant not found in database metadata. Dtypes of returned DataFrame might be incorrect.\n"
     ]
    },
    {
     "name": "stdout",
     "output_type": "stream",
     "text": [
      "sales_of_electricity_by_rate_schedules_account_445_other_sales_to_public_authorities_304_instant not found in database metadata. Dtypes of returned DataFrame might be incorrect.\n"
     ]
    },
    {
     "name": "stderr",
     "output_type": "stream",
     "text": [
      "2023-03-17 17:02:11 [ WARNING] catalystcoop.pudl.io_managers:166 sales_of_electricity_by_rate_schedules_account_446_sales_to_railroads_and_railways_304_instant not found in database metadata. Dtypes of returned DataFrame might be incorrect.\n"
     ]
    },
    {
     "name": "stdout",
     "output_type": "stream",
     "text": [
      "sales_of_electricity_by_rate_schedules_account_446_sales_to_railroads_and_railways_304_instant not found in database metadata. Dtypes of returned DataFrame might be incorrect.\n"
     ]
    },
    {
     "name": "stderr",
     "output_type": "stream",
     "text": [
      "2023-03-17 17:02:11 [ WARNING] catalystcoop.pudl.io_managers:166 sales_of_electricity_by_rate_schedules_account_448_interdepartmental_sales_304_instant not found in database metadata. Dtypes of returned DataFrame might be incorrect.\n"
     ]
    },
    {
     "name": "stdout",
     "output_type": "stream",
     "text": [
      "sales_of_electricity_by_rate_schedules_account_448_interdepartmental_sales_304_instant not found in database metadata. Dtypes of returned DataFrame might be incorrect.\n"
     ]
    },
    {
     "name": "stderr",
     "output_type": "stream",
     "text": [
      "2023-03-17 17:02:11 [ WARNING] catalystcoop.pudl.io_managers:166 sales_of_electricity_by_rate_schedules_account_4491_provision_for_rate_refunds_304_instant not found in database metadata. Dtypes of returned DataFrame might be incorrect.\n"
     ]
    },
    {
     "name": "stdout",
     "output_type": "stream",
     "text": [
      "sales_of_electricity_by_rate_schedules_account_4491_provision_for_rate_refunds_304_instant not found in database metadata. Dtypes of returned DataFrame might be incorrect.\n"
     ]
    },
    {
     "name": "stderr",
     "output_type": "stream",
     "text": [
      "2023-03-17 17:02:11 [ WARNING] catalystcoop.pudl.io_managers:166 sales_of_electricity_by_rate_schedules_account_totals_304_instant not found in database metadata. Dtypes of returned DataFrame might be incorrect.\n"
     ]
    },
    {
     "name": "stdout",
     "output_type": "stream",
     "text": [
      "sales_of_electricity_by_rate_schedules_account_totals_304_instant not found in database metadata. Dtypes of returned DataFrame might be incorrect.\n"
     ]
    }
   ],
   "source": [
    "from pudl.extract.ferc1 import extract_dbf, extract_xbrl\n",
    "\n",
    "ferc1_dbf_raw_dfs = extract_dbf(configured_dataset_settings)\n",
    "ferc1_xbrl_raw_dfs = extract_xbrl(configured_dataset_settings)"
   ]
  },
  {
   "cell_type": "code",
   "execution_count": 5,
   "id": "abaf36d0-25d0-4d67-8214-e2e48359d25b",
   "metadata": {
    "tags": []
   },
   "outputs": [
    {
     "data": {
      "text/plain": [
       "0       2021\n",
       "1       2021\n",
       "2       2021\n",
       "3       2021\n",
       "4       2021\n",
       "        ... \n",
       "1313    2021\n",
       "1314    2021\n",
       "1315    2021\n",
       "1316    2021\n",
       "1317    2021\n",
       "Name: report_year, Length: 1318, dtype: int64"
      ]
     },
     "execution_count": 5,
     "metadata": {},
     "output_type": "execute_result"
    }
   ],
   "source": [
    "ferc1_xbrl_raw_dfs[\"fuel_ferc1\"][\"duration\"].report_year"
   ]
  },
  {
   "cell_type": "code",
   "execution_count": 6,
   "id": "e4af4b03-6e71-426b-90b5-89abdf74510e",
   "metadata": {
    "tags": []
   },
   "outputs": [],
   "source": [
    "from pudl.extract.ferc1 import xbrl_metadata_json\n",
    "from dagster import build_op_context\n",
    "\n",
    "context = build_op_context()\n",
    "xbrl_metadata_json_dict = xbrl_metadata_json(context)"
   ]
  },
  {
   "cell_type": "markdown",
   "id": "78271302-5323-4a4e-a208-256824a59ca4",
   "metadata": {
    "tags": []
   },
   "source": [
    "## Transform FERC 1 Tables:"
   ]
  },
  {
   "cell_type": "markdown",
   "id": "4bc58f8e-74c3-4f81-a0c3-163f94a74065",
   "metadata": {},
   "source": [
    "### Build Transformers"
   ]
  },
  {
   "cell_type": "code",
   "execution_count": 7,
   "id": "d3c488fb-f040-4b61-a584-72c5483397cc",
   "metadata": {
    "tags": []
   },
   "outputs": [
    {
     "name": "stderr",
     "output_type": "stream",
     "text": [
      "2023-03-17 17:02:11 [    INFO] catalystcoop.pudl.transform.ferc1:993 fuel_ferc1: Processing XBRL metadata.\n"
     ]
    },
    {
     "name": "stdout",
     "output_type": "stream",
     "text": [
      "fuel_ferc1: Processing XBRL metadata.\n"
     ]
    },
    {
     "name": "stderr",
     "output_type": "stream",
     "text": [
      "2023-03-17 17:02:11 [    INFO] catalystcoop.pudl.transform.ferc1:993 plants_steam_ferc1: Processing XBRL metadata.\n"
     ]
    },
    {
     "name": "stdout",
     "output_type": "stream",
     "text": [
      "plants_steam_ferc1: Processing XBRL metadata.\n"
     ]
    },
    {
     "name": "stderr",
     "output_type": "stream",
     "text": [
      "2023-03-17 17:02:11 [    INFO] catalystcoop.pudl.transform.ferc1:993 plants_small_ferc1: Processing XBRL metadata.\n"
     ]
    },
    {
     "name": "stdout",
     "output_type": "stream",
     "text": [
      "plants_small_ferc1: Processing XBRL metadata.\n"
     ]
    },
    {
     "name": "stderr",
     "output_type": "stream",
     "text": [
      "2023-03-17 17:02:11 [    INFO] catalystcoop.pudl.transform.ferc1:993 plants_hydro_ferc1: Processing XBRL metadata.\n"
     ]
    },
    {
     "name": "stdout",
     "output_type": "stream",
     "text": [
      "plants_hydro_ferc1: Processing XBRL metadata.\n"
     ]
    },
    {
     "name": "stderr",
     "output_type": "stream",
     "text": [
      "2023-03-17 17:02:11 [    INFO] catalystcoop.pudl.transform.ferc1:993 plants_pumped_storage_ferc1: Processing XBRL metadata.\n"
     ]
    },
    {
     "name": "stdout",
     "output_type": "stream",
     "text": [
      "plants_pumped_storage_ferc1: Processing XBRL metadata.\n"
     ]
    },
    {
     "name": "stderr",
     "output_type": "stream",
     "text": [
      "2023-03-17 17:02:11 [    INFO] catalystcoop.pudl.transform.ferc1:993 plant_in_service_ferc1: Processing XBRL metadata.\n"
     ]
    },
    {
     "name": "stdout",
     "output_type": "stream",
     "text": [
      "plant_in_service_ferc1: Processing XBRL metadata.\n"
     ]
    },
    {
     "name": "stderr",
     "output_type": "stream",
     "text": [
      "2023-03-17 17:02:12 [    INFO] catalystcoop.pudl.transform.ferc1:993 purchased_power_ferc1: Processing XBRL metadata.\n"
     ]
    },
    {
     "name": "stdout",
     "output_type": "stream",
     "text": [
      "purchased_power_ferc1: Processing XBRL metadata.\n"
     ]
    },
    {
     "name": "stderr",
     "output_type": "stream",
     "text": [
      "2023-03-17 17:02:12 [    INFO] catalystcoop.pudl.transform.ferc1:993 electric_energy_sources_ferc1: Processing XBRL metadata.\n"
     ]
    },
    {
     "name": "stdout",
     "output_type": "stream",
     "text": [
      "electric_energy_sources_ferc1: Processing XBRL metadata.\n"
     ]
    },
    {
     "name": "stderr",
     "output_type": "stream",
     "text": [
      "2023-03-17 17:02:12 [    INFO] catalystcoop.pudl.transform.ferc1:993 electric_energy_dispositions_ferc1: Processing XBRL metadata.\n"
     ]
    },
    {
     "name": "stdout",
     "output_type": "stream",
     "text": [
      "electric_energy_dispositions_ferc1: Processing XBRL metadata.\n"
     ]
    },
    {
     "name": "stderr",
     "output_type": "stream",
     "text": [
      "2023-03-17 17:02:12 [    INFO] catalystcoop.pudl.transform.ferc1:993 utility_plant_summary_ferc1: Processing XBRL metadata.\n"
     ]
    },
    {
     "name": "stdout",
     "output_type": "stream",
     "text": [
      "utility_plant_summary_ferc1: Processing XBRL metadata.\n"
     ]
    },
    {
     "name": "stderr",
     "output_type": "stream",
     "text": [
      "2023-03-17 17:02:12 [    INFO] catalystcoop.pudl.transform.ferc1:993 transmission_statistics_ferc1: Processing XBRL metadata.\n"
     ]
    },
    {
     "name": "stdout",
     "output_type": "stream",
     "text": [
      "transmission_statistics_ferc1: Processing XBRL metadata.\n"
     ]
    },
    {
     "name": "stderr",
     "output_type": "stream",
     "text": [
      "2023-03-17 17:02:12 [    INFO] catalystcoop.pudl.transform.ferc1:993 electric_operating_expenses_ferc1: Processing XBRL metadata.\n"
     ]
    },
    {
     "name": "stdout",
     "output_type": "stream",
     "text": [
      "electric_operating_expenses_ferc1: Processing XBRL metadata.\n"
     ]
    },
    {
     "name": "stderr",
     "output_type": "stream",
     "text": [
      "2023-03-17 17:02:12 [    INFO] catalystcoop.pudl.transform.ferc1:993 balance_sheet_liabilities_ferc1: Processing XBRL metadata.\n"
     ]
    },
    {
     "name": "stdout",
     "output_type": "stream",
     "text": [
      "balance_sheet_liabilities_ferc1: Processing XBRL metadata.\n"
     ]
    },
    {
     "name": "stderr",
     "output_type": "stream",
     "text": [
      "2023-03-17 17:02:12 [    INFO] catalystcoop.pudl.transform.ferc1:993 balance_sheet_assets_ferc1: Processing XBRL metadata.\n"
     ]
    },
    {
     "name": "stdout",
     "output_type": "stream",
     "text": [
      "balance_sheet_assets_ferc1: Processing XBRL metadata.\n"
     ]
    },
    {
     "name": "stderr",
     "output_type": "stream",
     "text": [
      "2023-03-17 17:02:12 [    INFO] catalystcoop.pudl.transform.ferc1:993 income_statement_ferc1: Processing XBRL metadata.\n"
     ]
    },
    {
     "name": "stdout",
     "output_type": "stream",
     "text": [
      "income_statement_ferc1: Processing XBRL metadata.\n"
     ]
    },
    {
     "name": "stderr",
     "output_type": "stream",
     "text": [
      "2023-03-17 17:02:12 [    INFO] catalystcoop.pudl.transform.ferc1:993 retained_earnings_ferc1: Processing XBRL metadata.\n"
     ]
    },
    {
     "name": "stdout",
     "output_type": "stream",
     "text": [
      "retained_earnings_ferc1: Processing XBRL metadata.\n"
     ]
    },
    {
     "name": "stderr",
     "output_type": "stream",
     "text": [
      "2023-03-17 17:02:12 [    INFO] catalystcoop.pudl.transform.ferc1:993 depreciation_amortization_summary_ferc1: Processing XBRL metadata.\n"
     ]
    },
    {
     "name": "stdout",
     "output_type": "stream",
     "text": [
      "depreciation_amortization_summary_ferc1: Processing XBRL metadata.\n"
     ]
    },
    {
     "name": "stderr",
     "output_type": "stream",
     "text": [
      "2023-03-17 17:02:12 [    INFO] catalystcoop.pudl.transform.ferc1:993 electric_plant_depreciation_changes_ferc1: Processing XBRL metadata.\n"
     ]
    },
    {
     "name": "stdout",
     "output_type": "stream",
     "text": [
      "electric_plant_depreciation_changes_ferc1: Processing XBRL metadata.\n"
     ]
    },
    {
     "name": "stderr",
     "output_type": "stream",
     "text": [
      "2023-03-17 17:02:12 [    INFO] catalystcoop.pudl.transform.ferc1:993 electric_plant_depreciation_functional_ferc1: Processing XBRL metadata.\n"
     ]
    },
    {
     "name": "stdout",
     "output_type": "stream",
     "text": [
      "electric_plant_depreciation_functional_ferc1: Processing XBRL metadata.\n"
     ]
    },
    {
     "name": "stderr",
     "output_type": "stream",
     "text": [
      "2023-03-17 17:02:12 [    INFO] catalystcoop.pudl.transform.ferc1:993 electric_operating_revenues_ferc1: Processing XBRL metadata.\n"
     ]
    },
    {
     "name": "stdout",
     "output_type": "stream",
     "text": [
      "electric_operating_revenues_ferc1: Processing XBRL metadata.\n"
     ]
    },
    {
     "name": "stderr",
     "output_type": "stream",
     "text": [
      "2023-03-17 17:02:12 [    INFO] catalystcoop.pudl.transform.ferc1:993 cash_flow_ferc1: Processing XBRL metadata.\n"
     ]
    },
    {
     "name": "stdout",
     "output_type": "stream",
     "text": [
      "cash_flow_ferc1: Processing XBRL metadata.\n"
     ]
    },
    {
     "name": "stderr",
     "output_type": "stream",
     "text": [
      "2023-03-17 17:02:12 [    INFO] catalystcoop.pudl.transform.ferc1:993 electricity_sales_by_rate_schedule_ferc1: Processing XBRL metadata.\n"
     ]
    },
    {
     "name": "stdout",
     "output_type": "stream",
     "text": [
      "electricity_sales_by_rate_schedule_ferc1: Processing XBRL metadata.\n"
     ]
    },
    {
     "name": "stderr",
     "output_type": "stream",
     "text": [
      "2023-03-17 17:02:12 [    INFO] catalystcoop.pudl.transform.ferc1:993 other_regulatory_liabilities_ferc1: Processing XBRL metadata.\n"
     ]
    },
    {
     "name": "stdout",
     "output_type": "stream",
     "text": [
      "other_regulatory_liabilities_ferc1: Processing XBRL metadata.\n"
     ]
    }
   ],
   "source": [
    "# Get table class information\n",
    "import inspect\n",
    "from pudl.transform.ferc1 import *\n",
    "from pudl.transform.params import *\n",
    "\n",
    "def get_table_classes(module):\n",
    "    classes = [member[1] for member in inspect.getmembers(module, inspect.isclass)]\n",
    "    table_classes = [x for x in classes if x.__name__.endswith(\"Ferc1TableTransformer\")]\n",
    "    return [x for x in table_classes if x.__name__ != \"AbstractFerc1TableTransformer\"]\n",
    "\n",
    "classes = get_table_classes(pudl.transform.ferc1)\n",
    "table_id_dict = {clas.table_id.value: clas for clas in classes}\n",
    "\n",
    "# Loop over selected tables to build the transformers\n",
    "transformers = {}\n",
    "for table in TABLE_NAME_MAP_FERC1.keys():\n",
    "    # this table is in the name map but doesn't have a transform class\n",
    "    if table == \"retained_earnings_appropriations_ferc1\":\n",
    "        continue\n",
    "    transformers[table] = (\n",
    "        table_id_dict[table](\n",
    "            xbrl_metadata_json=xbrl_metadata_json_dict[table],\n",
    "            cache_dfs=True,\n",
    "            clear_cached_dfs=False\n",
    "        )\n",
    "    )"
   ]
  },
  {
   "cell_type": "markdown",
   "id": "0b514045-1045-4b90-821e-c521e0f12190",
   "metadata": {},
   "source": [
    "### Transform Individual Tables"
   ]
  },
  {
   "cell_type": "code",
   "execution_count": 8,
   "id": "d8602d7e-42b7-4fdc-956b-b6983d4b4d4e",
   "metadata": {
    "tags": []
   },
   "outputs": [
    {
     "name": "stdout",
     "output_type": "stream",
     "text": [
      "['fuel_ferc1',\n",
      " 'plants_steam_ferc1',\n",
      " 'plants_small_ferc1',\n",
      " 'plants_hydro_ferc1',\n",
      " 'plants_pumped_storage_ferc1',\n",
      " 'plant_in_service_ferc1',\n",
      " 'purchased_power_ferc1',\n",
      " 'electric_energy_sources_ferc1',\n",
      " 'electric_energy_dispositions_ferc1',\n",
      " 'utility_plant_summary_ferc1',\n",
      " 'transmission_statistics_ferc1',\n",
      " 'electric_operating_expenses_ferc1',\n",
      " 'balance_sheet_liabilities_ferc1',\n",
      " 'balance_sheet_assets_ferc1',\n",
      " 'income_statement_ferc1',\n",
      " 'retained_earnings_ferc1',\n",
      " 'depreciation_amortization_summary_ferc1',\n",
      " 'electric_plant_depreciation_changes_ferc1',\n",
      " 'electric_plant_depreciation_functional_ferc1',\n",
      " 'electric_operating_revenues_ferc1',\n",
      " 'cash_flow_ferc1',\n",
      " 'electricity_sales_by_rate_schedule_ferc1',\n",
      " 'other_regulatory_liabilities_ferc1']\n"
     ]
    }
   ],
   "source": [
    "from pprint import pprint\n",
    "\n",
    "# Pick one table to transform\n",
    "pprint(list(transformers.keys()))"
   ]
  },
  {
   "cell_type": "code",
   "execution_count": 9,
   "id": "d594beab-7c93-47e3-acb4-b18ef6d3b16e",
   "metadata": {},
   "outputs": [],
   "source": [
    "table_name = \"other_regulatory_liabilities_ferc1\"\n",
    "TRANSFORMER = transformers[table_name] # add a table here"
   ]
  },
  {
   "cell_type": "markdown",
   "id": "d030e249-3858-4650-ba2c-8ef62316db37",
   "metadata": {
    "tags": []
   },
   "source": [
    "#### Test each step of the transform process:"
   ]
  },
  {
   "cell_type": "code",
   "execution_count": 10,
   "id": "fad4a616-8c8c-4f34-836d-56e604c140a4",
   "metadata": {},
   "outputs": [
    {
     "name": "stderr",
     "output_type": "stream",
     "text": [
      "2023-03-17 17:02:12 [    INFO] catalystcoop.pudl.transform.ferc1:1100 other_regulatory_liabilities_ferc1: Processing XBRL data pre-concatenation.\n"
     ]
    },
    {
     "name": "stdout",
     "output_type": "stream",
     "text": [
      "other_regulatory_liabilities_ferc1: Processing XBRL data pre-concatenation.\n"
     ]
    },
    {
     "name": "stderr",
     "output_type": "stream",
     "text": [
      "2023-03-17 17:02:12 [    INFO] catalystcoop.pudl.transform.classes:1210 other_regulatory_liabilities_ferc1: Attempting to rename 0 columns.\n"
     ]
    },
    {
     "name": "stdout",
     "output_type": "stream",
     "text": [
      "other_regulatory_liabilities_ferc1: Attempting to rename 0 columns.\n"
     ]
    },
    {
     "name": "stderr",
     "output_type": "stream",
     "text": [
      "2023-03-17 17:02:12 [    INFO] catalystcoop.pudl.transform.ferc1:1154 other_regulatory_liabilities_ferc1: Unstacking balances to the report years.\n"
     ]
    },
    {
     "name": "stdout",
     "output_type": "stream",
     "text": [
      "other_regulatory_liabilities_ferc1: Unstacking balances to the report years.\n"
     ]
    },
    {
     "name": "stderr",
     "output_type": "stream",
     "text": [
      "2023-03-17 17:02:12 [    INFO] catalystcoop.pudl.transform.classes:1210 other_regulatory_liabilities_ferc1: Attempting to rename 0 columns.\n"
     ]
    },
    {
     "name": "stdout",
     "output_type": "stream",
     "text": [
      "other_regulatory_liabilities_ferc1: Attempting to rename 0 columns.\n"
     ]
    },
    {
     "name": "stderr",
     "output_type": "stream",
     "text": [
      "2023-03-17 17:02:12 [    INFO] catalystcoop.pudl.transform.ferc1:1381 other_regulatory_liabilities_ferc1: After selection of dates based on the report year, we have 100.0% of the original table.\n"
     ]
    },
    {
     "name": "stdout",
     "output_type": "stream",
     "text": [
      "other_regulatory_liabilities_ferc1: After selection of dates based on the report year, we have 100.0% of the original table.\n"
     ]
    },
    {
     "name": "stderr",
     "output_type": "stream",
     "text": [
      "2023-03-17 17:02:12 [    INFO] catalystcoop.pudl.transform.ferc1:1285 other_regulatory_liabilities_ferc1: Both XBRL instant & duration tables found.\n"
     ]
    },
    {
     "name": "stdout",
     "output_type": "stream",
     "text": [
      "other_regulatory_liabilities_ferc1: Both XBRL instant & duration tables found.\n"
     ]
    },
    {
     "name": "stderr",
     "output_type": "stream",
     "text": [
      "2023-03-17 17:02:12 [    INFO] catalystcoop.pudl.transform.ferc1:1304 other_regulatory_liabilities_ferc1: Combining XBRL instant & duration tables using RIGHT-MERGE.\n"
     ]
    },
    {
     "name": "stdout",
     "output_type": "stream",
     "text": [
      "other_regulatory_liabilities_ferc1: Combining XBRL instant & duration tables using RIGHT-MERGE.\n"
     ]
    },
    {
     "name": "stderr",
     "output_type": "stream",
     "text": [
      "2023-03-17 17:02:12 [    INFO] catalystcoop.pudl.transform.classes:1210 other_regulatory_liabilities_ferc1: Attempting to rename 9 columns.\n"
     ]
    },
    {
     "name": "stdout",
     "output_type": "stream",
     "text": [
      "other_regulatory_liabilities_ferc1: Attempting to rename 9 columns.\n"
     ]
    }
   ],
   "source": [
    "xbrl = TRANSFORMER.process_xbrl(\n",
    "    raw_xbrl_instant=ferc1_xbrl_raw_dfs[TRANSFORMER.table_id.value][\"instant\"],\n",
    "    raw_xbrl_duration=ferc1_xbrl_raw_dfs[TRANSFORMER.table_id.value][\"duration\"]\n",
    ")"
   ]
  },
  {
   "cell_type": "code",
   "execution_count": 11,
   "id": "84a77350-084c-41d9-9a19-55884482e37e",
   "metadata": {},
   "outputs": [
    {
     "name": "stderr",
     "output_type": "stream",
     "text": [
      "2023-03-17 17:02:12 [    INFO] catalystcoop.pudl.transform.ferc1:1079 other_regulatory_liabilities_ferc1: Processing DBF data pre-concatenation.\n"
     ]
    },
    {
     "name": "stdout",
     "output_type": "stream",
     "text": [
      "other_regulatory_liabilities_ferc1: Processing DBF data pre-concatenation.\n"
     ]
    },
    {
     "name": "stderr",
     "output_type": "stream",
     "text": [
      "2023-03-17 17:02:12 [    INFO] catalystcoop.pudl.transform.ferc1:1142 other_regulatory_liabilities_ferc1: After selection only annual records, we have 26.7% of the original table.\n"
     ]
    },
    {
     "name": "stdout",
     "output_type": "stream",
     "text": [
      "other_regulatory_liabilities_ferc1: After selection only annual records, we have 26.7% of the original table.\n"
     ]
    },
    {
     "name": "stderr",
     "output_type": "stream",
     "text": [
      "2023-03-17 17:02:12 [    INFO] catalystcoop.pudl.transform.classes:1210 other_regulatory_liabilities_ferc1: Attempting to rename 13 columns.\n"
     ]
    },
    {
     "name": "stdout",
     "output_type": "stream",
     "text": [
      "other_regulatory_liabilities_ferc1: Attempting to rename 13 columns.\n"
     ]
    }
   ],
   "source": [
    "dbf = TRANSFORMER.process_dbf(\n",
    "    raw_dbf=ferc1_dbf_raw_dfs[TRANSFORMER.table_id.value]\n",
    ")"
   ]
  },
  {
   "cell_type": "code",
   "execution_count": 12,
   "id": "3c5f3389-58c8-40db-b71a-e74a1d4c8c09",
   "metadata": {
    "tags": []
   },
   "outputs": [
    {
     "name": "stderr",
     "output_type": "stream",
     "text": [
      "2023-03-17 17:02:12 [    INFO] catalystcoop.pudl.transform.ferc1:1079 other_regulatory_liabilities_ferc1: Processing DBF data pre-concatenation.\n"
     ]
    },
    {
     "name": "stdout",
     "output_type": "stream",
     "text": [
      "other_regulatory_liabilities_ferc1: Processing DBF data pre-concatenation.\n"
     ]
    },
    {
     "name": "stderr",
     "output_type": "stream",
     "text": [
      "2023-03-17 17:02:12 [    INFO] catalystcoop.pudl.transform.ferc1:1142 other_regulatory_liabilities_ferc1: After selection only annual records, we have 26.7% of the original table.\n"
     ]
    },
    {
     "name": "stdout",
     "output_type": "stream",
     "text": [
      "other_regulatory_liabilities_ferc1: After selection only annual records, we have 26.7% of the original table.\n"
     ]
    },
    {
     "name": "stderr",
     "output_type": "stream",
     "text": [
      "2023-03-17 17:02:12 [    INFO] catalystcoop.pudl.transform.classes:1210 other_regulatory_liabilities_ferc1: Attempting to rename 13 columns.\n"
     ]
    },
    {
     "name": "stdout",
     "output_type": "stream",
     "text": [
      "other_regulatory_liabilities_ferc1: Attempting to rename 13 columns.\n"
     ]
    },
    {
     "name": "stderr",
     "output_type": "stream",
     "text": [
      "2023-03-17 17:02:12 [    INFO] catalystcoop.pudl.transform.ferc1:1100 other_regulatory_liabilities_ferc1: Processing XBRL data pre-concatenation.\n"
     ]
    },
    {
     "name": "stdout",
     "output_type": "stream",
     "text": [
      "other_regulatory_liabilities_ferc1: Processing XBRL data pre-concatenation.\n"
     ]
    },
    {
     "name": "stderr",
     "output_type": "stream",
     "text": [
      "2023-03-17 17:02:12 [    INFO] catalystcoop.pudl.transform.classes:1210 other_regulatory_liabilities_ferc1: Attempting to rename 0 columns.\n"
     ]
    },
    {
     "name": "stdout",
     "output_type": "stream",
     "text": [
      "other_regulatory_liabilities_ferc1: Attempting to rename 0 columns.\n"
     ]
    },
    {
     "name": "stderr",
     "output_type": "stream",
     "text": [
      "2023-03-17 17:02:12 [    INFO] catalystcoop.pudl.transform.ferc1:1154 other_regulatory_liabilities_ferc1: Unstacking balances to the report years.\n"
     ]
    },
    {
     "name": "stdout",
     "output_type": "stream",
     "text": [
      "other_regulatory_liabilities_ferc1: Unstacking balances to the report years.\n"
     ]
    },
    {
     "name": "stderr",
     "output_type": "stream",
     "text": [
      "2023-03-17 17:02:12 [    INFO] catalystcoop.pudl.transform.classes:1210 other_regulatory_liabilities_ferc1: Attempting to rename 0 columns.\n"
     ]
    },
    {
     "name": "stdout",
     "output_type": "stream",
     "text": [
      "other_regulatory_liabilities_ferc1: Attempting to rename 0 columns.\n"
     ]
    },
    {
     "name": "stderr",
     "output_type": "stream",
     "text": [
      "2023-03-17 17:02:12 [    INFO] catalystcoop.pudl.transform.ferc1:1381 other_regulatory_liabilities_ferc1: After selection of dates based on the report year, we have 100.0% of the original table.\n"
     ]
    },
    {
     "name": "stdout",
     "output_type": "stream",
     "text": [
      "other_regulatory_liabilities_ferc1: After selection of dates based on the report year, we have 100.0% of the original table.\n"
     ]
    },
    {
     "name": "stderr",
     "output_type": "stream",
     "text": [
      "2023-03-17 17:02:12 [    INFO] catalystcoop.pudl.transform.ferc1:1285 other_regulatory_liabilities_ferc1: Both XBRL instant & duration tables found.\n"
     ]
    },
    {
     "name": "stdout",
     "output_type": "stream",
     "text": [
      "other_regulatory_liabilities_ferc1: Both XBRL instant & duration tables found.\n"
     ]
    },
    {
     "name": "stderr",
     "output_type": "stream",
     "text": [
      "2023-03-17 17:02:12 [    INFO] catalystcoop.pudl.transform.ferc1:1304 other_regulatory_liabilities_ferc1: Combining XBRL instant & duration tables using RIGHT-MERGE.\n"
     ]
    },
    {
     "name": "stdout",
     "output_type": "stream",
     "text": [
      "other_regulatory_liabilities_ferc1: Combining XBRL instant & duration tables using RIGHT-MERGE.\n"
     ]
    },
    {
     "name": "stderr",
     "output_type": "stream",
     "text": [
      "2023-03-17 17:02:12 [    INFO] catalystcoop.pudl.transform.classes:1210 other_regulatory_liabilities_ferc1: Attempting to rename 9 columns.\n"
     ]
    },
    {
     "name": "stdout",
     "output_type": "stream",
     "text": [
      "other_regulatory_liabilities_ferc1: Attempting to rename 9 columns.\n"
     ]
    },
    {
     "name": "stderr",
     "output_type": "stream",
     "text": [
      "2023-03-17 17:02:12 [    INFO] catalystcoop.pudl.transform.ferc1:916 other_regulatory_liabilities_ferc1: Concatenating DBF + XBRL dataframes.\n"
     ]
    },
    {
     "name": "stdout",
     "output_type": "stream",
     "text": [
      "other_regulatory_liabilities_ferc1: Concatenating DBF + XBRL dataframes.\n"
     ]
    }
   ],
   "source": [
    "start = TRANSFORMER.transform_start(\n",
    "    raw_dbf=ferc1_dbf_raw_dfs[TRANSFORMER.table_id.value],\n",
    "    raw_xbrl_instant=ferc1_xbrl_raw_dfs[TRANSFORMER.table_id.value][\"instant\"],\n",
    "    raw_xbrl_duration=ferc1_xbrl_raw_dfs[TRANSFORMER.table_id.value][\"duration\"]\n",
    ")"
   ]
  },
  {
   "cell_type": "code",
   "execution_count": 13,
   "id": "9aa10b65-9200-42c4-8c02-745228b46b7f",
   "metadata": {
    "tags": []
   },
   "outputs": [
    {
     "name": "stderr",
     "output_type": "stream",
     "text": [
      "2023-03-17 17:02:13 [    INFO] catalystcoop.pudl.transform.classes:1336 other_regulatory_liabilities_ferc1: Spot fixing missing values.\n"
     ]
    },
    {
     "name": "stdout",
     "output_type": "stream",
     "text": [
      "other_regulatory_liabilities_ferc1: Spot fixing missing values.\n"
     ]
    },
    {
     "name": "stderr",
     "output_type": "stream",
     "text": [
      "2023-03-17 17:02:13 [    INFO] catalystcoop.pudl.transform.classes:1234 other_regulatory_liabilities_ferc1: Normalizing freeform string columns.\n"
     ]
    },
    {
     "name": "stdout",
     "output_type": "stream",
     "text": [
      "other_regulatory_liabilities_ferc1: Normalizing freeform string columns.\n"
     ]
    },
    {
     "name": "stderr",
     "output_type": "stream",
     "text": [
      "2023-03-17 17:02:13 [    INFO] catalystcoop.pudl.transform.classes:1258 other_regulatory_liabilities_ferc1: Categorizing string columns using a controlled vocabulary.\n"
     ]
    },
    {
     "name": "stdout",
     "output_type": "stream",
     "text": [
      "other_regulatory_liabilities_ferc1: Categorizing string columns using a controlled vocabulary.\n"
     ]
    },
    {
     "name": "stderr",
     "output_type": "stream",
     "text": [
      "2023-03-17 17:02:13 [    INFO] catalystcoop.pudl.transform.classes:1283 other_regulatory_liabilities_ferc1: Converting units and renaming columns accordingly.\n"
     ]
    },
    {
     "name": "stdout",
     "output_type": "stream",
     "text": [
      "other_regulatory_liabilities_ferc1: Converting units and renaming columns accordingly.\n"
     ]
    },
    {
     "name": "stderr",
     "output_type": "stream",
     "text": [
      "2023-03-17 17:02:13 [    INFO] catalystcoop.pudl.transform.classes:1245 other_regulatory_liabilities_ferc1: Stripping non-numeric values from [].\n"
     ]
    },
    {
     "name": "stdout",
     "output_type": "stream",
     "text": [
      "other_regulatory_liabilities_ferc1: Stripping non-numeric values from [].\n"
     ]
    },
    {
     "name": "stderr",
     "output_type": "stream",
     "text": [
      "2023-03-17 17:02:13 [    INFO] catalystcoop.pudl.transform.classes:1272 other_regulatory_liabilities_ferc1: Nullifying outlying values.\n"
     ]
    },
    {
     "name": "stdout",
     "output_type": "stream",
     "text": [
      "other_regulatory_liabilities_ferc1: Nullifying outlying values.\n"
     ]
    },
    {
     "name": "stderr",
     "output_type": "stream",
     "text": [
      "2023-03-17 17:02:13 [    INFO] catalystcoop.pudl.transform.classes:1325 other_regulatory_liabilities_ferc1: Replacing specified values with NA.\n"
     ]
    },
    {
     "name": "stdout",
     "output_type": "stream",
     "text": [
      "other_regulatory_liabilities_ferc1: Replacing specified values with NA.\n"
     ]
    },
    {
     "name": "stderr",
     "output_type": "stream",
     "text": [
      "2023-03-17 17:02:13 [    INFO] catalystcoop.pudl.transform.classes:1312 other_regulatory_liabilities_ferc1: Dropping remaining invalid rows.\n"
     ]
    },
    {
     "name": "stdout",
     "output_type": "stream",
     "text": [
      "other_regulatory_liabilities_ferc1: Dropping remaining invalid rows.\n"
     ]
    },
    {
     "name": "stderr",
     "output_type": "stream",
     "text": [
      "2023-03-17 17:02:13 [    INFO] catalystcoop.pudl.transform.classes:823 29.8% of records (2113 rows) contain only {0, nan, '', <NA>} values in required columns. Dropped these 💩💩💩 records.\n"
     ]
    },
    {
     "name": "stdout",
     "output_type": "stream",
     "text": [
      "29.8% of records (2113 rows) contain only {0, nan, '', <NA>} values in required columns. Dropped these 💩💩💩 records.\n"
     ]
    }
   ],
   "source": [
    "main = TRANSFORMER.transform_main(\n",
    "    start\n",
    ")"
   ]
  },
  {
   "cell_type": "code",
   "execution_count": 14,
   "id": "e4e1e202-a6b0-4fb9-b9cc-eccbc2e3b813",
   "metadata": {},
   "outputs": [
    {
     "name": "stderr",
     "output_type": "stream",
     "text": [
      "2023-03-17 17:02:13 [    INFO] catalystcoop.pudl.transform.classes:1343 other_regulatory_liabilities_ferc1: Enforcing database schema on dataframe.\n"
     ]
    },
    {
     "name": "stdout",
     "output_type": "stream",
     "text": [
      "other_regulatory_liabilities_ferc1: Enforcing database schema on dataframe.\n"
     ]
    }
   ],
   "source": [
    "end = TRANSFORMER.transform_end(\n",
    "    main\n",
    ")"
   ]
  },
  {
   "cell_type": "markdown",
   "id": "a6b2ad2b-57e3-49bd-ba83-8a68f6c06b17",
   "metadata": {},
   "source": [
    "#### Test all steps together"
   ]
  },
  {
   "cell_type": "code",
   "execution_count": 15,
   "id": "87e11c18-f6a1-49b0-92d5-b9ebc38fe920",
   "metadata": {
    "tags": []
   },
   "outputs": [
    {
     "name": "stderr",
     "output_type": "stream",
     "text": [
      "2023-03-17 17:02:13 [    INFO] catalystcoop.pudl.transform.ferc1:1079 other_regulatory_liabilities_ferc1: Processing DBF data pre-concatenation.\n"
     ]
    },
    {
     "name": "stdout",
     "output_type": "stream",
     "text": [
      "other_regulatory_liabilities_ferc1: Processing DBF data pre-concatenation.\n"
     ]
    },
    {
     "name": "stderr",
     "output_type": "stream",
     "text": [
      "2023-03-17 17:02:13 [    INFO] catalystcoop.pudl.transform.ferc1:1142 other_regulatory_liabilities_ferc1: After selection only annual records, we have 26.7% of the original table.\n"
     ]
    },
    {
     "name": "stdout",
     "output_type": "stream",
     "text": [
      "other_regulatory_liabilities_ferc1: After selection only annual records, we have 26.7% of the original table.\n"
     ]
    },
    {
     "name": "stderr",
     "output_type": "stream",
     "text": [
      "2023-03-17 17:02:13 [    INFO] catalystcoop.pudl.transform.classes:1210 other_regulatory_liabilities_ferc1: Attempting to rename 13 columns.\n"
     ]
    },
    {
     "name": "stdout",
     "output_type": "stream",
     "text": [
      "other_regulatory_liabilities_ferc1: Attempting to rename 13 columns.\n"
     ]
    },
    {
     "name": "stderr",
     "output_type": "stream",
     "text": [
      "2023-03-17 17:02:13 [    INFO] catalystcoop.pudl.transform.ferc1:1100 other_regulatory_liabilities_ferc1: Processing XBRL data pre-concatenation.\n"
     ]
    },
    {
     "name": "stdout",
     "output_type": "stream",
     "text": [
      "other_regulatory_liabilities_ferc1: Processing XBRL data pre-concatenation.\n"
     ]
    },
    {
     "name": "stderr",
     "output_type": "stream",
     "text": [
      "2023-03-17 17:02:13 [    INFO] catalystcoop.pudl.transform.classes:1210 other_regulatory_liabilities_ferc1: Attempting to rename 0 columns.\n"
     ]
    },
    {
     "name": "stdout",
     "output_type": "stream",
     "text": [
      "other_regulatory_liabilities_ferc1: Attempting to rename 0 columns.\n"
     ]
    },
    {
     "name": "stderr",
     "output_type": "stream",
     "text": [
      "2023-03-17 17:02:13 [    INFO] catalystcoop.pudl.transform.ferc1:1154 other_regulatory_liabilities_ferc1: Unstacking balances to the report years.\n"
     ]
    },
    {
     "name": "stdout",
     "output_type": "stream",
     "text": [
      "other_regulatory_liabilities_ferc1: Unstacking balances to the report years.\n"
     ]
    },
    {
     "name": "stderr",
     "output_type": "stream",
     "text": [
      "2023-03-17 17:02:13 [    INFO] catalystcoop.pudl.transform.classes:1210 other_regulatory_liabilities_ferc1: Attempting to rename 0 columns.\n"
     ]
    },
    {
     "name": "stdout",
     "output_type": "stream",
     "text": [
      "other_regulatory_liabilities_ferc1: Attempting to rename 0 columns.\n"
     ]
    },
    {
     "name": "stderr",
     "output_type": "stream",
     "text": [
      "2023-03-17 17:02:13 [    INFO] catalystcoop.pudl.transform.ferc1:1381 other_regulatory_liabilities_ferc1: After selection of dates based on the report year, we have 100.0% of the original table.\n"
     ]
    },
    {
     "name": "stdout",
     "output_type": "stream",
     "text": [
      "other_regulatory_liabilities_ferc1: After selection of dates based on the report year, we have 100.0% of the original table.\n"
     ]
    },
    {
     "name": "stderr",
     "output_type": "stream",
     "text": [
      "2023-03-17 17:02:13 [    INFO] catalystcoop.pudl.transform.ferc1:1285 other_regulatory_liabilities_ferc1: Both XBRL instant & duration tables found.\n"
     ]
    },
    {
     "name": "stdout",
     "output_type": "stream",
     "text": [
      "other_regulatory_liabilities_ferc1: Both XBRL instant & duration tables found.\n"
     ]
    },
    {
     "name": "stderr",
     "output_type": "stream",
     "text": [
      "2023-03-17 17:02:13 [    INFO] catalystcoop.pudl.transform.ferc1:1304 other_regulatory_liabilities_ferc1: Combining XBRL instant & duration tables using RIGHT-MERGE.\n"
     ]
    },
    {
     "name": "stdout",
     "output_type": "stream",
     "text": [
      "other_regulatory_liabilities_ferc1: Combining XBRL instant & duration tables using RIGHT-MERGE.\n"
     ]
    },
    {
     "name": "stderr",
     "output_type": "stream",
     "text": [
      "2023-03-17 17:02:13 [    INFO] catalystcoop.pudl.transform.classes:1210 other_regulatory_liabilities_ferc1: Attempting to rename 9 columns.\n"
     ]
    },
    {
     "name": "stdout",
     "output_type": "stream",
     "text": [
      "other_regulatory_liabilities_ferc1: Attempting to rename 9 columns.\n"
     ]
    },
    {
     "name": "stderr",
     "output_type": "stream",
     "text": [
      "2023-03-17 17:02:13 [    INFO] catalystcoop.pudl.transform.ferc1:916 other_regulatory_liabilities_ferc1: Concatenating DBF + XBRL dataframes.\n"
     ]
    },
    {
     "name": "stdout",
     "output_type": "stream",
     "text": [
      "other_regulatory_liabilities_ferc1: Concatenating DBF + XBRL dataframes.\n"
     ]
    },
    {
     "name": "stderr",
     "output_type": "stream",
     "text": [
      "2023-03-17 17:02:13 [    INFO] catalystcoop.pudl.transform.classes:1336 other_regulatory_liabilities_ferc1: Spot fixing missing values.\n"
     ]
    },
    {
     "name": "stdout",
     "output_type": "stream",
     "text": [
      "other_regulatory_liabilities_ferc1: Spot fixing missing values.\n"
     ]
    },
    {
     "name": "stderr",
     "output_type": "stream",
     "text": [
      "2023-03-17 17:02:13 [    INFO] catalystcoop.pudl.transform.classes:1234 other_regulatory_liabilities_ferc1: Normalizing freeform string columns.\n"
     ]
    },
    {
     "name": "stdout",
     "output_type": "stream",
     "text": [
      "other_regulatory_liabilities_ferc1: Normalizing freeform string columns.\n"
     ]
    },
    {
     "name": "stderr",
     "output_type": "stream",
     "text": [
      "2023-03-17 17:02:13 [    INFO] catalystcoop.pudl.transform.classes:1258 other_regulatory_liabilities_ferc1: Categorizing string columns using a controlled vocabulary.\n"
     ]
    },
    {
     "name": "stdout",
     "output_type": "stream",
     "text": [
      "other_regulatory_liabilities_ferc1: Categorizing string columns using a controlled vocabulary.\n"
     ]
    },
    {
     "name": "stderr",
     "output_type": "stream",
     "text": [
      "2023-03-17 17:02:13 [    INFO] catalystcoop.pudl.transform.classes:1283 other_regulatory_liabilities_ferc1: Converting units and renaming columns accordingly.\n"
     ]
    },
    {
     "name": "stdout",
     "output_type": "stream",
     "text": [
      "other_regulatory_liabilities_ferc1: Converting units and renaming columns accordingly.\n"
     ]
    },
    {
     "name": "stderr",
     "output_type": "stream",
     "text": [
      "2023-03-17 17:02:13 [    INFO] catalystcoop.pudl.transform.classes:1245 other_regulatory_liabilities_ferc1: Stripping non-numeric values from [].\n"
     ]
    },
    {
     "name": "stdout",
     "output_type": "stream",
     "text": [
      "other_regulatory_liabilities_ferc1: Stripping non-numeric values from [].\n"
     ]
    },
    {
     "name": "stderr",
     "output_type": "stream",
     "text": [
      "2023-03-17 17:02:13 [    INFO] catalystcoop.pudl.transform.classes:1272 other_regulatory_liabilities_ferc1: Nullifying outlying values.\n"
     ]
    },
    {
     "name": "stdout",
     "output_type": "stream",
     "text": [
      "other_regulatory_liabilities_ferc1: Nullifying outlying values.\n"
     ]
    },
    {
     "name": "stderr",
     "output_type": "stream",
     "text": [
      "2023-03-17 17:02:13 [    INFO] catalystcoop.pudl.transform.classes:1325 other_regulatory_liabilities_ferc1: Replacing specified values with NA.\n"
     ]
    },
    {
     "name": "stdout",
     "output_type": "stream",
     "text": [
      "other_regulatory_liabilities_ferc1: Replacing specified values with NA.\n"
     ]
    },
    {
     "name": "stderr",
     "output_type": "stream",
     "text": [
      "2023-03-17 17:02:13 [    INFO] catalystcoop.pudl.transform.classes:1312 other_regulatory_liabilities_ferc1: Dropping remaining invalid rows.\n"
     ]
    },
    {
     "name": "stdout",
     "output_type": "stream",
     "text": [
      "other_regulatory_liabilities_ferc1: Dropping remaining invalid rows.\n"
     ]
    },
    {
     "name": "stderr",
     "output_type": "stream",
     "text": [
      "2023-03-17 17:02:13 [    INFO] catalystcoop.pudl.transform.classes:823 29.8% of records (2113 rows) contain only {0, nan, '', <NA>} values in required columns. Dropped these 💩💩💩 records.\n"
     ]
    },
    {
     "name": "stdout",
     "output_type": "stream",
     "text": [
      "29.8% of records (2113 rows) contain only {0, nan, '', <NA>} values in required columns. Dropped these 💩💩💩 records.\n"
     ]
    },
    {
     "name": "stderr",
     "output_type": "stream",
     "text": [
      "2023-03-17 17:02:13 [    INFO] catalystcoop.pudl.transform.classes:1343 other_regulatory_liabilities_ferc1: Enforcing database schema on dataframe.\n"
     ]
    },
    {
     "name": "stdout",
     "output_type": "stream",
     "text": [
      "other_regulatory_liabilities_ferc1: Enforcing database schema on dataframe.\n"
     ]
    }
   ],
   "source": [
    "full = TRANSFORMER.transform(\n",
    "    raw_dbf=ferc1_dbf_raw_dfs[TRANSFORMER.table_id.value],\n",
    "    raw_xbrl_instant=ferc1_xbrl_raw_dfs[TRANSFORMER.table_id.value][\"instant\"],\n",
    "    raw_xbrl_duration=ferc1_xbrl_raw_dfs[TRANSFORMER.table_id.value][\"duration\"]\n",
    ")"
   ]
  },
  {
   "cell_type": "markdown",
   "id": "e795f853-a752-44a6-86ac-644baf291f9b",
   "metadata": {
    "tags": []
   },
   "source": [
    "### Transform All Tables"
   ]
  },
  {
   "cell_type": "code",
   "execution_count": 16,
   "id": "08da1d39-6272-435f-8241-8b3879078393",
   "metadata": {
    "tags": []
   },
   "outputs": [
    {
     "name": "stderr",
     "output_type": "stream",
     "text": [
      "2023-03-17 17:02:13 [    INFO] catalystcoop.pudl.transform.ferc1:1079 fuel_ferc1: Processing DBF data pre-concatenation.\n"
     ]
    },
    {
     "name": "stdout",
     "output_type": "stream",
     "text": [
      "fuel_ferc1: Processing DBF data pre-concatenation.\n"
     ]
    },
    {
     "name": "stderr",
     "output_type": "stream",
     "text": [
      "2023-03-17 17:02:13 [    INFO] catalystcoop.pudl.transform.classes:1210 fuel_ferc1: Attempting to rename 17 columns.\n"
     ]
    },
    {
     "name": "stdout",
     "output_type": "stream",
     "text": [
      "fuel_ferc1: Attempting to rename 17 columns.\n"
     ]
    },
    {
     "name": "stderr",
     "output_type": "stream",
     "text": [
      "2023-03-17 17:02:13 [    INFO] catalystcoop.pudl.transform.classes:1283 fuel_ferc1: Converting units and renaming columns accordingly.\n"
     ]
    },
    {
     "name": "stdout",
     "output_type": "stream",
     "text": [
      "fuel_ferc1: Converting units and renaming columns accordingly.\n"
     ]
    },
    {
     "name": "stderr",
     "output_type": "stream",
     "text": [
      "2023-03-17 17:02:13 [    INFO] catalystcoop.pudl.transform.classes:1234 fuel_ferc1: Normalizing freeform string columns.\n"
     ]
    },
    {
     "name": "stdout",
     "output_type": "stream",
     "text": [
      "fuel_ferc1: Normalizing freeform string columns.\n"
     ]
    },
    {
     "name": "stderr",
     "output_type": "stream",
     "text": [
      "2023-03-17 17:02:13 [    INFO] catalystcoop.pudl.transform.classes:1258 fuel_ferc1: Categorizing string columns using a controlled vocabulary.\n"
     ]
    },
    {
     "name": "stdout",
     "output_type": "stream",
     "text": [
      "fuel_ferc1: Categorizing string columns using a controlled vocabulary.\n"
     ]
    },
    {
     "name": "stderr",
     "output_type": "stream",
     "text": [
      "2023-03-17 17:02:13 [    INFO] catalystcoop.pudl.transform.classes:1210 fuel_ferc1: Attempting to rename 0 columns.\n"
     ]
    },
    {
     "name": "stdout",
     "output_type": "stream",
     "text": [
      "fuel_ferc1: Attempting to rename 0 columns.\n"
     ]
    },
    {
     "name": "stderr",
     "output_type": "stream",
     "text": [
      "2023-03-17 17:02:13 [    INFO] catalystcoop.pudl.transform.ferc1:1154 fuel_ferc1: Unstacking balances to the report years.\n"
     ]
    },
    {
     "name": "stdout",
     "output_type": "stream",
     "text": [
      "fuel_ferc1: Unstacking balances to the report years.\n"
     ]
    },
    {
     "name": "stderr",
     "output_type": "stream",
     "text": [
      "2023-03-17 17:02:13 [    INFO] catalystcoop.pudl.transform.classes:1210 fuel_ferc1: Attempting to rename 0 columns.\n"
     ]
    },
    {
     "name": "stdout",
     "output_type": "stream",
     "text": [
      "fuel_ferc1: Attempting to rename 0 columns.\n"
     ]
    },
    {
     "name": "stderr",
     "output_type": "stream",
     "text": [
      "2023-03-17 17:02:13 [    INFO] catalystcoop.pudl.transform.ferc1:1381 fuel_ferc1: After selection of dates based on the report year, we have 100.0% of the original table.\n"
     ]
    },
    {
     "name": "stdout",
     "output_type": "stream",
     "text": [
      "fuel_ferc1: After selection of dates based on the report year, we have 100.0% of the original table.\n"
     ]
    },
    {
     "name": "stderr",
     "output_type": "stream",
     "text": [
      "2023-03-17 17:02:13 [    INFO] catalystcoop.pudl.transform.ferc1:1279 fuel_ferc1: No XBRL instant table found.\n"
     ]
    },
    {
     "name": "stdout",
     "output_type": "stream",
     "text": [
      "fuel_ferc1: No XBRL instant table found.\n"
     ]
    },
    {
     "name": "stderr",
     "output_type": "stream",
     "text": [
      "2023-03-17 17:02:13 [    INFO] catalystcoop.pudl.transform.classes:1210 fuel_ferc1: Attempting to rename 15 columns.\n"
     ]
    },
    {
     "name": "stdout",
     "output_type": "stream",
     "text": [
      "fuel_ferc1: Attempting to rename 15 columns.\n"
     ]
    },
    {
     "name": "stderr",
     "output_type": "stream",
     "text": [
      "2023-03-17 17:02:13 [    INFO] catalystcoop.pudl.transform.classes:1283 fuel_ferc1: Converting units and renaming columns accordingly.\n"
     ]
    },
    {
     "name": "stdout",
     "output_type": "stream",
     "text": [
      "fuel_ferc1: Converting units and renaming columns accordingly.\n"
     ]
    },
    {
     "name": "stderr",
     "output_type": "stream",
     "text": [
      "2023-03-17 17:02:13 [    INFO] catalystcoop.pudl.transform.classes:1234 fuel_ferc1: Normalizing freeform string columns.\n"
     ]
    },
    {
     "name": "stdout",
     "output_type": "stream",
     "text": [
      "fuel_ferc1: Normalizing freeform string columns.\n"
     ]
    },
    {
     "name": "stderr",
     "output_type": "stream",
     "text": [
      "2023-03-17 17:02:13 [    INFO] catalystcoop.pudl.transform.classes:1258 fuel_ferc1: Categorizing string columns using a controlled vocabulary.\n"
     ]
    },
    {
     "name": "stdout",
     "output_type": "stream",
     "text": [
      "fuel_ferc1: Categorizing string columns using a controlled vocabulary.\n"
     ]
    },
    {
     "name": "stderr",
     "output_type": "stream",
     "text": [
      "2023-03-17 17:02:13 [    INFO] catalystcoop.pudl.transform.ferc1:1783 fuel_ferc1: Aggregating 30 rows with duplicate primary keys out of 1318 total rows.\n"
     ]
    },
    {
     "name": "stdout",
     "output_type": "stream",
     "text": [
      "fuel_ferc1: Aggregating 30 rows with duplicate primary keys out of 1318 total rows.\n"
     ]
    },
    {
     "name": "stderr",
     "output_type": "stream",
     "text": [
      "2023-03-17 17:02:13 [    INFO] catalystcoop.pudl.transform.ferc1:1787 fuel_ferc1: Dropping 98 records with inconsistent fuel units preventing aggregation out of 1318 total rows.\n"
     ]
    },
    {
     "name": "stdout",
     "output_type": "stream",
     "text": [
      "fuel_ferc1: Dropping 98 records with inconsistent fuel units preventing aggregation out of 1318 total rows.\n"
     ]
    },
    {
     "name": "stderr",
     "output_type": "stream",
     "text": [
      "2023-03-17 17:02:13 [    INFO] catalystcoop.pudl.transform.ferc1:916 fuel_ferc1: Concatenating DBF + XBRL dataframes.\n"
     ]
    },
    {
     "name": "stdout",
     "output_type": "stream",
     "text": [
      "fuel_ferc1: Concatenating DBF + XBRL dataframes.\n"
     ]
    },
    {
     "name": "stderr",
     "output_type": "stream",
     "text": [
      "2023-03-17 17:02:13 [    INFO] catalystcoop.pudl.transform.classes:1336 fuel_ferc1: Spot fixing missing values.\n"
     ]
    },
    {
     "name": "stdout",
     "output_type": "stream",
     "text": [
      "fuel_ferc1: Spot fixing missing values.\n"
     ]
    },
    {
     "name": "stderr",
     "output_type": "stream",
     "text": [
      "2023-03-17 17:02:13 [    INFO] catalystcoop.pudl.transform.classes:1312 fuel_ferc1: Dropping remaining invalid rows.\n"
     ]
    },
    {
     "name": "stdout",
     "output_type": "stream",
     "text": [
      "fuel_ferc1: Dropping remaining invalid rows.\n"
     ]
    },
    {
     "name": "stderr",
     "output_type": "stream",
     "text": [
      "2023-03-17 17:02:13 [    INFO] catalystcoop.pudl.transform.classes:823 66.2% of records (4715 rows) contain only {0, nan, '', <NA>} values in required columns. Dropped these 💩💩💩 records.\n"
     ]
    },
    {
     "name": "stdout",
     "output_type": "stream",
     "text": [
      "66.2% of records (4715 rows) contain only {0, nan, '', <NA>} values in required columns. Dropped these 💩💩💩 records.\n"
     ]
    },
    {
     "name": "stderr",
     "output_type": "stream",
     "text": [
      "2023-03-17 17:02:13 [    INFO] catalystcoop.pudl.transform.classes:823 0.5% of records (12 rows) contain only {'', 'elk 1-3', '-', '0', 'must 456', 'must 123', 'ant1-3', 'not applicable', nan, <NA>} values in required columns. Dropped these 💩💩💩 records.\n"
     ]
    },
    {
     "name": "stdout",
     "output_type": "stream",
     "text": [
      "0.5% of records (12 rows) contain only {'', 'elk 1-3', '-', '0', 'must 456', 'must 123', 'ant1-3', 'not applicable', nan, <NA>} values in required columns. Dropped these 💩💩💩 records.\n"
     ]
    },
    {
     "name": "stderr",
     "output_type": "stream",
     "text": [
      "2023-03-17 17:02:13 [    INFO] catalystcoop.pudl.transform.ferc1:1857 fuel_ferc1: Dropping 0/2400rows representing plant-level all-fuel totals.\n"
     ]
    },
    {
     "name": "stdout",
     "output_type": "stream",
     "text": [
      "fuel_ferc1: Dropping 0/2400rows representing plant-level all-fuel totals.\n"
     ]
    },
    {
     "name": "stderr",
     "output_type": "stream",
     "text": [
      "2023-03-17 17:02:13 [    INFO] catalystcoop.pudl.transform.classes:1299 fuel_ferc1: Correcting inferred non-standard column units.\n"
     ]
    },
    {
     "name": "stdout",
     "output_type": "stream",
     "text": [
      "fuel_ferc1: Correcting inferred non-standard column units.\n"
     ]
    },
    {
     "name": "stderr",
     "output_type": "stream",
     "text": [
      "2023-03-17 17:02:13 [    INFO] catalystcoop.pudl.transform.classes:698 Correcting units of fuel_mmbtu_per_unit where fuel_type_code_pudl==coal.\n"
     ]
    },
    {
     "name": "stdout",
     "output_type": "stream",
     "text": [
      "Correcting units of fuel_mmbtu_per_unit where fuel_type_code_pudl==coal.\n"
     ]
    },
    {
     "name": "stderr",
     "output_type": "stream",
     "text": [
      "2023-03-17 17:02:13 [    INFO] catalystcoop.pudl.transform.classes:719 34/445 (7.64%) of records could not be corrected and were set to NA.\n"
     ]
    },
    {
     "name": "stdout",
     "output_type": "stream",
     "text": [
      "34/445 (7.64%) of records could not be corrected and were set to NA.\n"
     ]
    },
    {
     "name": "stderr",
     "output_type": "stream",
     "text": [
      "2023-03-17 17:02:13 [    INFO] catalystcoop.pudl.transform.classes:698 Correcting units of fuel_mmbtu_per_unit where fuel_type_code_pudl==gas.\n"
     ]
    },
    {
     "name": "stdout",
     "output_type": "stream",
     "text": [
      "Correcting units of fuel_mmbtu_per_unit where fuel_type_code_pudl==gas.\n"
     ]
    },
    {
     "name": "stderr",
     "output_type": "stream",
     "text": [
      "2023-03-17 17:02:13 [    INFO] catalystcoop.pudl.transform.classes:719 92/1041 (8.84%) of records could not be corrected and were set to NA.\n"
     ]
    },
    {
     "name": "stdout",
     "output_type": "stream",
     "text": [
      "92/1041 (8.84%) of records could not be corrected and were set to NA.\n"
     ]
    },
    {
     "name": "stderr",
     "output_type": "stream",
     "text": [
      "2023-03-17 17:02:13 [    INFO] catalystcoop.pudl.transform.classes:698 Correcting units of fuel_mmbtu_per_unit where fuel_type_code_pudl==oil.\n"
     ]
    },
    {
     "name": "stdout",
     "output_type": "stream",
     "text": [
      "Correcting units of fuel_mmbtu_per_unit where fuel_type_code_pudl==oil.\n"
     ]
    },
    {
     "name": "stderr",
     "output_type": "stream",
     "text": [
      "2023-03-17 17:02:13 [    INFO] catalystcoop.pudl.transform.classes:719 90/749 (12.02%) of records could not be corrected and were set to NA.\n"
     ]
    },
    {
     "name": "stdout",
     "output_type": "stream",
     "text": [
      "90/749 (12.02%) of records could not be corrected and were set to NA.\n"
     ]
    },
    {
     "name": "stderr",
     "output_type": "stream",
     "text": [
      "2023-03-17 17:02:13 [    INFO] catalystcoop.pudl.transform.classes:698 Correcting units of fuel_cost_per_mmbtu where fuel_type_code_pudl==coal.\n"
     ]
    },
    {
     "name": "stdout",
     "output_type": "stream",
     "text": [
      "Correcting units of fuel_cost_per_mmbtu where fuel_type_code_pudl==coal.\n"
     ]
    },
    {
     "name": "stderr",
     "output_type": "stream",
     "text": [
      "2023-03-17 17:02:13 [    INFO] catalystcoop.pudl.transform.classes:719 57/445 (12.81%) of records could not be corrected and were set to NA.\n"
     ]
    },
    {
     "name": "stdout",
     "output_type": "stream",
     "text": [
      "57/445 (12.81%) of records could not be corrected and were set to NA.\n"
     ]
    },
    {
     "name": "stderr",
     "output_type": "stream",
     "text": [
      "2023-03-17 17:02:13 [    INFO] catalystcoop.pudl.transform.classes:698 Correcting units of fuel_cost_per_mmbtu where fuel_type_code_pudl==gas.\n"
     ]
    },
    {
     "name": "stdout",
     "output_type": "stream",
     "text": [
      "Correcting units of fuel_cost_per_mmbtu where fuel_type_code_pudl==gas.\n"
     ]
    },
    {
     "name": "stderr",
     "output_type": "stream",
     "text": [
      "2023-03-17 17:02:13 [    INFO] catalystcoop.pudl.transform.classes:719 87/1041 (8.36%) of records could not be corrected and were set to NA.\n"
     ]
    },
    {
     "name": "stdout",
     "output_type": "stream",
     "text": [
      "87/1041 (8.36%) of records could not be corrected and were set to NA.\n"
     ]
    },
    {
     "name": "stderr",
     "output_type": "stream",
     "text": [
      "2023-03-17 17:02:13 [    INFO] catalystcoop.pudl.transform.classes:698 Correcting units of fuel_cost_per_mmbtu where fuel_type_code_pudl==oil.\n"
     ]
    },
    {
     "name": "stdout",
     "output_type": "stream",
     "text": [
      "Correcting units of fuel_cost_per_mmbtu where fuel_type_code_pudl==oil.\n"
     ]
    },
    {
     "name": "stderr",
     "output_type": "stream",
     "text": [
      "2023-03-17 17:02:13 [    INFO] catalystcoop.pudl.transform.classes:719 167/749 (22.30%) of records could not be corrected and were set to NA.\n"
     ]
    },
    {
     "name": "stdout",
     "output_type": "stream",
     "text": [
      "167/749 (22.30%) of records could not be corrected and were set to NA.\n"
     ]
    },
    {
     "name": "stderr",
     "output_type": "stream",
     "text": [
      "2023-03-17 17:02:13 [    INFO] catalystcoop.pudl.transform.classes:1343 fuel_ferc1: Enforcing database schema on dataframe.\n"
     ]
    },
    {
     "name": "stdout",
     "output_type": "stream",
     "text": [
      "fuel_ferc1: Enforcing database schema on dataframe.\n"
     ]
    },
    {
     "name": "stderr",
     "output_type": "stream",
     "text": [
      "2023-03-17 17:02:13 [    INFO] catalystcoop.pudl.transform.ferc1:1079 plants_small_ferc1: Processing DBF data pre-concatenation.\n"
     ]
    },
    {
     "name": "stdout",
     "output_type": "stream",
     "text": [
      "plants_small_ferc1: Processing DBF data pre-concatenation.\n"
     ]
    },
    {
     "name": "stderr",
     "output_type": "stream",
     "text": [
      "2023-03-17 17:02:13 [    INFO] catalystcoop.pudl.transform.classes:1210 plants_small_ferc1: Attempting to rename 19 columns.\n"
     ]
    },
    {
     "name": "stdout",
     "output_type": "stream",
     "text": [
      "plants_small_ferc1: Attempting to rename 19 columns.\n"
     ]
    },
    {
     "name": "stderr",
     "output_type": "stream",
     "text": [
      "2023-03-17 17:02:13 [    INFO] catalystcoop.pudl.transform.ferc1:1100 plants_small_ferc1: Processing XBRL data pre-concatenation.\n"
     ]
    },
    {
     "name": "stdout",
     "output_type": "stream",
     "text": [
      "plants_small_ferc1: Processing XBRL data pre-concatenation.\n"
     ]
    },
    {
     "name": "stderr",
     "output_type": "stream",
     "text": [
      "2023-03-17 17:02:13 [    INFO] catalystcoop.pudl.transform.classes:1210 plants_small_ferc1: Attempting to rename 0 columns.\n"
     ]
    },
    {
     "name": "stdout",
     "output_type": "stream",
     "text": [
      "plants_small_ferc1: Attempting to rename 0 columns.\n"
     ]
    },
    {
     "name": "stderr",
     "output_type": "stream",
     "text": [
      "2023-03-17 17:02:13 [    INFO] catalystcoop.pudl.transform.ferc1:1154 plants_small_ferc1: Unstacking balances to the report years.\n"
     ]
    },
    {
     "name": "stdout",
     "output_type": "stream",
     "text": [
      "plants_small_ferc1: Unstacking balances to the report years.\n"
     ]
    },
    {
     "name": "stderr",
     "output_type": "stream",
     "text": [
      "2023-03-17 17:02:13 [    INFO] catalystcoop.pudl.transform.classes:1210 plants_small_ferc1: Attempting to rename 0 columns.\n"
     ]
    },
    {
     "name": "stdout",
     "output_type": "stream",
     "text": [
      "plants_small_ferc1: Attempting to rename 0 columns.\n"
     ]
    },
    {
     "name": "stderr",
     "output_type": "stream",
     "text": [
      "2023-03-17 17:02:13 [    INFO] catalystcoop.pudl.transform.ferc1:1381 plants_small_ferc1: After selection of dates based on the report year, we have 100.0% of the original table.\n"
     ]
    },
    {
     "name": "stdout",
     "output_type": "stream",
     "text": [
      "plants_small_ferc1: After selection of dates based on the report year, we have 100.0% of the original table.\n"
     ]
    },
    {
     "name": "stderr",
     "output_type": "stream",
     "text": [
      "2023-03-17 17:02:14 [    INFO] catalystcoop.pudl.transform.ferc1:1285 plants_small_ferc1: Both XBRL instant & duration tables found.\n"
     ]
    },
    {
     "name": "stdout",
     "output_type": "stream",
     "text": [
      "plants_small_ferc1: Both XBRL instant & duration tables found.\n"
     ]
    },
    {
     "name": "stderr",
     "output_type": "stream",
     "text": [
      "2023-03-17 17:02:14 [    INFO] catalystcoop.pudl.transform.ferc1:1304 plants_small_ferc1: Combining XBRL instant & duration tables using RIGHT-MERGE.\n"
     ]
    },
    {
     "name": "stdout",
     "output_type": "stream",
     "text": [
      "plants_small_ferc1: Combining XBRL instant & duration tables using RIGHT-MERGE.\n"
     ]
    },
    {
     "name": "stderr",
     "output_type": "stream",
     "text": [
      "2023-03-17 17:02:14 [    INFO] catalystcoop.pudl.transform.classes:1210 plants_small_ferc1: Attempting to rename 20 columns.\n"
     ]
    },
    {
     "name": "stdout",
     "output_type": "stream",
     "text": [
      "plants_small_ferc1: Attempting to rename 20 columns.\n"
     ]
    },
    {
     "name": "stderr",
     "output_type": "stream",
     "text": [
      "2023-03-17 17:02:14 [    INFO] catalystcoop.pudl.transform.ferc1:916 plants_small_ferc1: Concatenating DBF + XBRL dataframes.\n"
     ]
    },
    {
     "name": "stdout",
     "output_type": "stream",
     "text": [
      "plants_small_ferc1: Concatenating DBF + XBRL dataframes.\n"
     ]
    },
    {
     "name": "stderr",
     "output_type": "stream",
     "text": [
      "2023-03-17 17:02:14 [    INFO] catalystcoop.pudl.transform.classes:1336 plants_small_ferc1: Spot fixing missing values.\n"
     ]
    },
    {
     "name": "stdout",
     "output_type": "stream",
     "text": [
      "plants_small_ferc1: Spot fixing missing values.\n"
     ]
    },
    {
     "name": "stderr",
     "output_type": "stream",
     "text": [
      "2023-03-17 17:02:14 [    INFO] catalystcoop.pudl.transform.classes:1234 plants_small_ferc1: Normalizing freeform string columns.\n"
     ]
    },
    {
     "name": "stdout",
     "output_type": "stream",
     "text": [
      "plants_small_ferc1: Normalizing freeform string columns.\n"
     ]
    },
    {
     "name": "stderr",
     "output_type": "stream",
     "text": [
      "2023-03-17 17:02:14 [    INFO] catalystcoop.pudl.transform.classes:1272 plants_small_ferc1: Nullifying outlying values.\n"
     ]
    },
    {
     "name": "stdout",
     "output_type": "stream",
     "text": [
      "plants_small_ferc1: Nullifying outlying values.\n"
     ]
    },
    {
     "name": "stderr",
     "output_type": "stream",
     "text": [
      "2023-03-17 17:02:14 [    INFO] catalystcoop.pudl.transform.classes:1283 plants_small_ferc1: Converting units and renaming columns accordingly.\n"
     ]
    },
    {
     "name": "stdout",
     "output_type": "stream",
     "text": [
      "plants_small_ferc1: Converting units and renaming columns accordingly.\n"
     ]
    },
    {
     "name": "stderr",
     "output_type": "stream",
     "text": [
      "2023-03-17 17:02:14 [    INFO] catalystcoop.pudl.transform.ferc1:2211 plants_small_ferc1: Extracting FERC license from plant name\n"
     ]
    },
    {
     "name": "stdout",
     "output_type": "stream",
     "text": [
      "plants_small_ferc1: Extracting FERC license from plant name\n"
     ]
    },
    {
     "name": "stderr",
     "output_type": "stream",
     "text": [
      "2023-03-17 17:02:14 [    INFO] catalystcoop.pudl.transform.ferc1:2451 plants_small_ferc1: Labeling header rows\n"
     ]
    },
    {
     "name": "stdout",
     "output_type": "stream",
     "text": [
      "plants_small_ferc1: Labeling header rows\n"
     ]
    },
    {
     "name": "stderr",
     "output_type": "stream",
     "text": [
      "2023-03-17 17:02:14 [    INFO] catalystcoop.pudl.transform.ferc1:2597 plants_small_ferc1: Labeling total rows\n"
     ]
    },
    {
     "name": "stdout",
     "output_type": "stream",
     "text": [
      "plants_small_ferc1: Labeling total rows\n"
     ]
    },
    {
     "name": "stderr",
     "output_type": "stream",
     "text": [
      "2023-03-17 17:02:14 [    INFO] catalystcoop.pudl.transform.ferc1:2567 plants_small_ferc1: Labeling notes rows\n"
     ]
    },
    {
     "name": "stdout",
     "output_type": "stream",
     "text": [
      "plants_small_ferc1: Labeling notes rows\n"
     ]
    },
    {
     "name": "stderr",
     "output_type": "stream",
     "text": [
      "/Users/bendnorman/catalyst/pudl/src/pudl/transform/ferc1.py:2571: FutureWarning: Not prepending group keys to the result index of transform-like apply. In the future, the group keys will be included in the index, regardless of whether the applied function returns a like-indexed object.\n",
      "To preserve the previous behavior, use\n",
      "\n",
      "\t>>> .groupby(..., group_keys=False)\n",
      "\n",
      "To adopt the future behavior and silence this warning, use \n",
      "\n",
      "\t>>> .groupby(..., group_keys=True)\n",
      "  return util_groups.apply(lambda x: self._label_note_rows_group(x))\n",
      "2023-03-17 17:02:14 [    INFO] catalystcoop.pudl.transform.ferc1:2766 plants_small_ferc1: Forward filling header fuel and plant types\n"
     ]
    },
    {
     "name": "stdout",
     "output_type": "stream",
     "text": [
      "plants_small_ferc1: Forward filling header fuel and plant types\n"
     ]
    },
    {
     "name": "stderr",
     "output_type": "stream",
     "text": [
      "2023-03-17 17:02:14 [    INFO] catalystcoop.pudl.transform.ferc1:2884 plants_small_ferc1: Getting fuel type (hydro) from plant name\n"
     ]
    },
    {
     "name": "stdout",
     "output_type": "stream",
     "text": [
      "plants_small_ferc1: Getting fuel type (hydro) from plant name\n"
     ]
    },
    {
     "name": "stderr",
     "output_type": "stream",
     "text": [
      "2023-03-17 17:02:14 [    INFO] catalystcoop.pudl.transform.classes:1258 plants_small_ferc1: Categorizing string columns using a controlled vocabulary.\n"
     ]
    },
    {
     "name": "stdout",
     "output_type": "stream",
     "text": [
      "plants_small_ferc1: Categorizing string columns using a controlled vocabulary.\n"
     ]
    },
    {
     "name": "stderr",
     "output_type": "stream",
     "text": [
      "2023-03-17 17:02:14 [ WARNING] catalystcoop.pudl.transform.classes:466 fuel_type_from_header: Found 1 uncategorized values: {nan}\n"
     ]
    },
    {
     "name": "stdout",
     "output_type": "stream",
     "text": [
      "fuel_type_from_header: Found 1 uncategorized values: {nan}\n"
     ]
    },
    {
     "name": "stderr",
     "output_type": "stream",
     "text": [
      "2023-03-17 17:02:14 [ WARNING] catalystcoop.pudl.transform.classes:466 plant_type_from_header: Found 1 uncategorized values: {nan}\n"
     ]
    },
    {
     "name": "stdout",
     "output_type": "stream",
     "text": [
      "plant_type_from_header: Found 1 uncategorized values: {nan}\n"
     ]
    },
    {
     "name": "stderr",
     "output_type": "stream",
     "text": [
      "2023-03-17 17:02:14 [    INFO] catalystcoop.pudl.transform.ferc1:2819 plants_small_ferc1: Filling NA and 'other' fuel and plant types with header info\n"
     ]
    },
    {
     "name": "stdout",
     "output_type": "stream",
     "text": [
      "plants_small_ferc1: Filling NA and 'other' fuel and plant types with header info\n"
     ]
    },
    {
     "name": "stderr",
     "output_type": "stream",
     "text": [
      "2023-03-17 17:02:14 [    INFO] catalystcoop.pudl.transform.ferc1:2858 Added fuel types to 368 plant rows (26%). Added plant types to 618 plant rows (43%).\n"
     ]
    },
    {
     "name": "stdout",
     "output_type": "stream",
     "text": [
      "Added fuel types to 368 plant rows (26%). Added plant types to 618 plant rows (43%).\n"
     ]
    },
    {
     "name": "stderr",
     "output_type": "stream",
     "text": [
      "2023-03-17 17:02:14 [    INFO] catalystcoop.pudl.transform.ferc1:2967 plants_small_ferc1: Mapping notes and ferc license from notes rows\n"
     ]
    },
    {
     "name": "stdout",
     "output_type": "stream",
     "text": [
      "plants_small_ferc1: Mapping notes and ferc license from notes rows\n"
     ]
    },
    {
     "name": "stderr",
     "output_type": "stream",
     "text": [
      "/Users/bendnorman/catalyst/pudl/src/pudl/transform/ferc1.py:3013: FutureWarning: Not prepending group keys to the result index of transform-like apply. In the future, the group keys will be included in the index, regardless of whether the applied function returns a like-indexed object.\n",
      "To preserve the previous behavior, use\n",
      "\n",
      "\t>>> .groupby(..., group_keys=False)\n",
      "\n",
      "To adopt the future behavior and silence this warning, use \n",
      "\n",
      "\t>>> .groupby(..., group_keys=True)\n",
      "  sg_notes = groups.apply(lambda x: associate_notes_with_values_group(x))\n",
      "2023-03-17 17:02:15 [    INFO] catalystcoop.pudl.transform.ferc1:3020 Mapped 16 notes to plant rows.\n"
     ]
    },
    {
     "name": "stdout",
     "output_type": "stream",
     "text": [
      "Mapped 16 notes to plant rows.\n"
     ]
    },
    {
     "name": "stderr",
     "output_type": "stream",
     "text": [
      "2023-03-17 17:02:15 [    INFO] catalystcoop.pudl.transform.ferc1:3042 plants_small_ferc1: Spot fixing some rows\n"
     ]
    },
    {
     "name": "stdout",
     "output_type": "stream",
     "text": [
      "plants_small_ferc1: Spot fixing some rows\n"
     ]
    },
    {
     "name": "stderr",
     "output_type": "stream",
     "text": [
      "2023-03-17 17:02:15 [    INFO] catalystcoop.pudl.transform.classes:1312 plants_small_ferc1: Dropping remaining invalid rows.\n"
     ]
    },
    {
     "name": "stdout",
     "output_type": "stream",
     "text": [
      "plants_small_ferc1: Dropping remaining invalid rows.\n"
     ]
    },
    {
     "name": "stderr",
     "output_type": "stream",
     "text": [
      "2023-03-17 17:02:15 [    INFO] catalystcoop.pudl.transform.classes:823 14.2% of records (243 rows) contain only {'header', 'note'} values in required columns. Dropped these 💩💩💩 records.\n"
     ]
    },
    {
     "name": "stdout",
     "output_type": "stream",
     "text": [
      "14.2% of records (243 rows) contain only {'header', 'note'} values in required columns. Dropped these 💩💩💩 records.\n"
     ]
    },
    {
     "name": "stderr",
     "output_type": "stream",
     "text": [
      "2023-03-17 17:02:15 [    INFO] catalystcoop.pudl.transform.classes:823 3.7% of records (55 rows) contain only {0, '', '0', nan, 'none', <NA>} values in required columns. Dropped these 💩💩💩 records.\n"
     ]
    },
    {
     "name": "stdout",
     "output_type": "stream",
     "text": [
      "3.7% of records (55 rows) contain only {0, '', '0', nan, 'none', <NA>} values in required columns. Dropped these 💩💩💩 records.\n"
     ]
    },
    {
     "name": "stderr",
     "output_type": "stream",
     "text": [
      "2023-03-17 17:02:15 [    INFO] catalystcoop.pudl.transform.classes:823 0.0% of records (0 rows) contain only {'', '-', '0', 'not applicable', nan, <NA>} values in required columns. Dropped these 💩💩💩 records.\n"
     ]
    },
    {
     "name": "stdout",
     "output_type": "stream",
     "text": [
      "0.0% of records (0 rows) contain only {'', '-', '0', 'not applicable', nan, <NA>} values in required columns. Dropped these 💩💩💩 records.\n"
     ]
    },
    {
     "name": "stderr",
     "output_type": "stream",
     "text": [
      "2023-03-17 17:02:15 [    INFO] catalystcoop.pudl.transform.classes:1343 plants_small_ferc1: Enforcing database schema on dataframe.\n"
     ]
    },
    {
     "name": "stdout",
     "output_type": "stream",
     "text": [
      "plants_small_ferc1: Enforcing database schema on dataframe.\n"
     ]
    },
    {
     "name": "stderr",
     "output_type": "stream",
     "text": [
      "2023-03-17 17:02:15 [    INFO] catalystcoop.pudl.transform.ferc1:1079 plants_hydro_ferc1: Processing DBF data pre-concatenation.\n"
     ]
    },
    {
     "name": "stdout",
     "output_type": "stream",
     "text": [
      "plants_hydro_ferc1: Processing DBF data pre-concatenation.\n"
     ]
    },
    {
     "name": "stderr",
     "output_type": "stream",
     "text": [
      "2023-03-17 17:02:15 [    INFO] catalystcoop.pudl.transform.classes:1210 plants_hydro_ferc1: Attempting to rename 41 columns.\n"
     ]
    },
    {
     "name": "stdout",
     "output_type": "stream",
     "text": [
      "plants_hydro_ferc1: Attempting to rename 41 columns.\n"
     ]
    },
    {
     "name": "stderr",
     "output_type": "stream",
     "text": [
      "2023-03-17 17:02:15 [    INFO] catalystcoop.pudl.transform.ferc1:1100 plants_hydro_ferc1: Processing XBRL data pre-concatenation.\n"
     ]
    },
    {
     "name": "stdout",
     "output_type": "stream",
     "text": [
      "plants_hydro_ferc1: Processing XBRL data pre-concatenation.\n"
     ]
    },
    {
     "name": "stderr",
     "output_type": "stream",
     "text": [
      "2023-03-17 17:02:15 [    INFO] catalystcoop.pudl.transform.classes:1210 plants_hydro_ferc1: Attempting to rename 0 columns.\n"
     ]
    },
    {
     "name": "stdout",
     "output_type": "stream",
     "text": [
      "plants_hydro_ferc1: Attempting to rename 0 columns.\n"
     ]
    },
    {
     "name": "stderr",
     "output_type": "stream",
     "text": [
      "2023-03-17 17:02:15 [    INFO] catalystcoop.pudl.transform.ferc1:1154 plants_hydro_ferc1: Unstacking balances to the report years.\n"
     ]
    },
    {
     "name": "stdout",
     "output_type": "stream",
     "text": [
      "plants_hydro_ferc1: Unstacking balances to the report years.\n"
     ]
    },
    {
     "name": "stderr",
     "output_type": "stream",
     "text": [
      "2023-03-17 17:02:15 [    INFO] catalystcoop.pudl.transform.classes:1210 plants_hydro_ferc1: Attempting to rename 0 columns.\n"
     ]
    },
    {
     "name": "stdout",
     "output_type": "stream",
     "text": [
      "plants_hydro_ferc1: Attempting to rename 0 columns.\n"
     ]
    },
    {
     "name": "stderr",
     "output_type": "stream",
     "text": [
      "2023-03-17 17:02:15 [    INFO] catalystcoop.pudl.transform.ferc1:1381 plants_hydro_ferc1: After selection of dates based on the report year, we have 100.0% of the original table.\n"
     ]
    },
    {
     "name": "stdout",
     "output_type": "stream",
     "text": [
      "plants_hydro_ferc1: After selection of dates based on the report year, we have 100.0% of the original table.\n"
     ]
    },
    {
     "name": "stderr",
     "output_type": "stream",
     "text": [
      "2023-03-17 17:02:15 [    INFO] catalystcoop.pudl.transform.ferc1:1285 plants_hydro_ferc1: Both XBRL instant & duration tables found.\n"
     ]
    },
    {
     "name": "stdout",
     "output_type": "stream",
     "text": [
      "plants_hydro_ferc1: Both XBRL instant & duration tables found.\n"
     ]
    },
    {
     "name": "stderr",
     "output_type": "stream",
     "text": [
      "2023-03-17 17:02:15 [    INFO] catalystcoop.pudl.transform.ferc1:1304 plants_hydro_ferc1: Combining XBRL instant & duration tables using RIGHT-MERGE.\n"
     ]
    },
    {
     "name": "stdout",
     "output_type": "stream",
     "text": [
      "plants_hydro_ferc1: Combining XBRL instant & duration tables using RIGHT-MERGE.\n"
     ]
    },
    {
     "name": "stderr",
     "output_type": "stream",
     "text": [
      "2023-03-17 17:02:15 [    INFO] catalystcoop.pudl.transform.classes:1210 plants_hydro_ferc1: Attempting to rename 41 columns.\n"
     ]
    },
    {
     "name": "stdout",
     "output_type": "stream",
     "text": [
      "plants_hydro_ferc1: Attempting to rename 41 columns.\n"
     ]
    },
    {
     "name": "stderr",
     "output_type": "stream",
     "text": [
      "2023-03-17 17:02:15 [    INFO] catalystcoop.pudl.transform.ferc1:916 plants_hydro_ferc1: Concatenating DBF + XBRL dataframes.\n"
     ]
    },
    {
     "name": "stdout",
     "output_type": "stream",
     "text": [
      "plants_hydro_ferc1: Concatenating DBF + XBRL dataframes.\n"
     ]
    },
    {
     "name": "stderr",
     "output_type": "stream",
     "text": [
      "2023-03-17 17:02:15 [    INFO] catalystcoop.pudl.transform.classes:1336 plants_hydro_ferc1: Spot fixing missing values.\n"
     ]
    },
    {
     "name": "stdout",
     "output_type": "stream",
     "text": [
      "plants_hydro_ferc1: Spot fixing missing values.\n"
     ]
    },
    {
     "name": "stderr",
     "output_type": "stream",
     "text": [
      "2023-03-17 17:02:15 [    INFO] catalystcoop.pudl.transform.classes:1234 plants_hydro_ferc1: Normalizing freeform string columns.\n"
     ]
    },
    {
     "name": "stdout",
     "output_type": "stream",
     "text": [
      "plants_hydro_ferc1: Normalizing freeform string columns.\n"
     ]
    },
    {
     "name": "stderr",
     "output_type": "stream",
     "text": [
      "2023-03-17 17:02:15 [    INFO] catalystcoop.pudl.transform.classes:1258 plants_hydro_ferc1: Categorizing string columns using a controlled vocabulary.\n"
     ]
    },
    {
     "name": "stdout",
     "output_type": "stream",
     "text": [
      "plants_hydro_ferc1: Categorizing string columns using a controlled vocabulary.\n"
     ]
    },
    {
     "name": "stderr",
     "output_type": "stream",
     "text": [
      "2023-03-17 17:02:15 [    INFO] catalystcoop.pudl.transform.classes:1283 plants_hydro_ferc1: Converting units and renaming columns accordingly.\n"
     ]
    },
    {
     "name": "stdout",
     "output_type": "stream",
     "text": [
      "plants_hydro_ferc1: Converting units and renaming columns accordingly.\n"
     ]
    },
    {
     "name": "stderr",
     "output_type": "stream",
     "text": [
      "2023-03-17 17:02:15 [    INFO] catalystcoop.pudl.transform.classes:1245 plants_hydro_ferc1: Stripping non-numeric values from ['project_num'].\n"
     ]
    },
    {
     "name": "stdout",
     "output_type": "stream",
     "text": [
      "plants_hydro_ferc1: Stripping non-numeric values from ['project_num'].\n"
     ]
    },
    {
     "name": "stderr",
     "output_type": "stream",
     "text": [
      "2023-03-17 17:02:15 [    INFO] catalystcoop.pudl.transform.classes:1272 plants_hydro_ferc1: Nullifying outlying values.\n"
     ]
    },
    {
     "name": "stdout",
     "output_type": "stream",
     "text": [
      "plants_hydro_ferc1: Nullifying outlying values.\n"
     ]
    },
    {
     "name": "stderr",
     "output_type": "stream",
     "text": [
      "2023-03-17 17:02:15 [    INFO] catalystcoop.pudl.transform.classes:1325 plants_hydro_ferc1: Replacing specified values with NA.\n"
     ]
    },
    {
     "name": "stdout",
     "output_type": "stream",
     "text": [
      "plants_hydro_ferc1: Replacing specified values with NA.\n"
     ]
    },
    {
     "name": "stderr",
     "output_type": "stream",
     "text": [
      "2023-03-17 17:02:15 [    INFO] catalystcoop.pudl.transform.classes:1312 plants_hydro_ferc1: Dropping remaining invalid rows.\n"
     ]
    },
    {
     "name": "stdout",
     "output_type": "stream",
     "text": [
      "plants_hydro_ferc1: Dropping remaining invalid rows.\n"
     ]
    },
    {
     "name": "stderr",
     "output_type": "stream",
     "text": [
      "2023-03-17 17:02:15 [    INFO] catalystcoop.pudl.transform.classes:823 56.0% of records (531 rows) contain only {0, '', '0', '—', nan, 'none', <NA>} values in required columns. Dropped these 💩💩💩 records.\n"
     ]
    },
    {
     "name": "stdout",
     "output_type": "stream",
     "text": [
      "56.0% of records (531 rows) contain only {0, '', '0', '—', nan, 'none', <NA>} values in required columns. Dropped these 💩💩💩 records.\n"
     ]
    },
    {
     "name": "stderr",
     "output_type": "stream",
     "text": [
      "2023-03-17 17:02:15 [    INFO] catalystcoop.pudl.transform.classes:823 0.2% of records (1 rows) contain only {'', '-', '0', 'not applicable', nan, <NA>} values in required columns. Dropped these 💩💩💩 records.\n"
     ]
    },
    {
     "name": "stdout",
     "output_type": "stream",
     "text": [
      "0.2% of records (1 rows) contain only {'', '-', '0', 'not applicable', nan, <NA>} values in required columns. Dropped these 💩💩💩 records.\n"
     ]
    },
    {
     "name": "stderr",
     "output_type": "stream",
     "text": [
      "2023-03-17 17:02:15 [    INFO] catalystcoop.pudl.transform.classes:1343 plants_hydro_ferc1: Enforcing database schema on dataframe.\n"
     ]
    },
    {
     "name": "stdout",
     "output_type": "stream",
     "text": [
      "plants_hydro_ferc1: Enforcing database schema on dataframe.\n"
     ]
    },
    {
     "name": "stderr",
     "output_type": "stream",
     "text": [
      "2023-03-17 17:02:15 [    INFO] catalystcoop.pudl.transform.ferc1:1079 plants_pumped_storage_ferc1: Processing DBF data pre-concatenation.\n"
     ]
    },
    {
     "name": "stdout",
     "output_type": "stream",
     "text": [
      "plants_pumped_storage_ferc1: Processing DBF data pre-concatenation.\n"
     ]
    },
    {
     "name": "stderr",
     "output_type": "stream",
     "text": [
      "2023-03-17 17:02:15 [    INFO] catalystcoop.pudl.transform.classes:1210 plants_pumped_storage_ferc1: Attempting to rename 45 columns.\n"
     ]
    },
    {
     "name": "stdout",
     "output_type": "stream",
     "text": [
      "plants_pumped_storage_ferc1: Attempting to rename 45 columns.\n"
     ]
    },
    {
     "name": "stderr",
     "output_type": "stream",
     "text": [
      "2023-03-17 17:02:15 [    INFO] catalystcoop.pudl.transform.ferc1:1100 plants_pumped_storage_ferc1: Processing XBRL data pre-concatenation.\n"
     ]
    },
    {
     "name": "stdout",
     "output_type": "stream",
     "text": [
      "plants_pumped_storage_ferc1: Processing XBRL data pre-concatenation.\n"
     ]
    },
    {
     "name": "stderr",
     "output_type": "stream",
     "text": [
      "2023-03-17 17:02:15 [    INFO] catalystcoop.pudl.transform.classes:1210 plants_pumped_storage_ferc1: Attempting to rename 0 columns.\n"
     ]
    },
    {
     "name": "stdout",
     "output_type": "stream",
     "text": [
      "plants_pumped_storage_ferc1: Attempting to rename 0 columns.\n"
     ]
    },
    {
     "name": "stderr",
     "output_type": "stream",
     "text": [
      "2023-03-17 17:02:15 [    INFO] catalystcoop.pudl.transform.ferc1:1154 plants_pumped_storage_ferc1: Unstacking balances to the report years.\n"
     ]
    },
    {
     "name": "stdout",
     "output_type": "stream",
     "text": [
      "plants_pumped_storage_ferc1: Unstacking balances to the report years.\n"
     ]
    },
    {
     "name": "stderr",
     "output_type": "stream",
     "text": [
      "2023-03-17 17:02:15 [    INFO] catalystcoop.pudl.transform.classes:1210 plants_pumped_storage_ferc1: Attempting to rename 0 columns.\n"
     ]
    },
    {
     "name": "stdout",
     "output_type": "stream",
     "text": [
      "plants_pumped_storage_ferc1: Attempting to rename 0 columns.\n"
     ]
    },
    {
     "name": "stderr",
     "output_type": "stream",
     "text": [
      "2023-03-17 17:02:15 [    INFO] catalystcoop.pudl.transform.ferc1:1381 plants_pumped_storage_ferc1: After selection of dates based on the report year, we have 100.0% of the original table.\n"
     ]
    },
    {
     "name": "stdout",
     "output_type": "stream",
     "text": [
      "plants_pumped_storage_ferc1: After selection of dates based on the report year, we have 100.0% of the original table.\n"
     ]
    },
    {
     "name": "stderr",
     "output_type": "stream",
     "text": [
      "2023-03-17 17:02:15 [    INFO] catalystcoop.pudl.transform.ferc1:1285 plants_pumped_storage_ferc1: Both XBRL instant & duration tables found.\n"
     ]
    },
    {
     "name": "stdout",
     "output_type": "stream",
     "text": [
      "plants_pumped_storage_ferc1: Both XBRL instant & duration tables found.\n"
     ]
    },
    {
     "name": "stderr",
     "output_type": "stream",
     "text": [
      "2023-03-17 17:02:15 [    INFO] catalystcoop.pudl.transform.ferc1:1304 plants_pumped_storage_ferc1: Combining XBRL instant & duration tables using RIGHT-MERGE.\n"
     ]
    },
    {
     "name": "stdout",
     "output_type": "stream",
     "text": [
      "plants_pumped_storage_ferc1: Combining XBRL instant & duration tables using RIGHT-MERGE.\n"
     ]
    },
    {
     "name": "stderr",
     "output_type": "stream",
     "text": [
      "2023-03-17 17:02:15 [    INFO] catalystcoop.pudl.transform.classes:1210 plants_pumped_storage_ferc1: Attempting to rename 46 columns.\n"
     ]
    },
    {
     "name": "stdout",
     "output_type": "stream",
     "text": [
      "plants_pumped_storage_ferc1: Attempting to rename 46 columns.\n"
     ]
    },
    {
     "name": "stderr",
     "output_type": "stream",
     "text": [
      "2023-03-17 17:02:15 [    INFO] catalystcoop.pudl.transform.ferc1:916 plants_pumped_storage_ferc1: Concatenating DBF + XBRL dataframes.\n"
     ]
    },
    {
     "name": "stdout",
     "output_type": "stream",
     "text": [
      "plants_pumped_storage_ferc1: Concatenating DBF + XBRL dataframes.\n"
     ]
    },
    {
     "name": "stderr",
     "output_type": "stream",
     "text": [
      "2023-03-17 17:02:15 [    INFO] catalystcoop.pudl.transform.classes:1336 plants_pumped_storage_ferc1: Spot fixing missing values.\n"
     ]
    },
    {
     "name": "stdout",
     "output_type": "stream",
     "text": [
      "plants_pumped_storage_ferc1: Spot fixing missing values.\n"
     ]
    },
    {
     "name": "stderr",
     "output_type": "stream",
     "text": [
      "2023-03-17 17:02:15 [    INFO] catalystcoop.pudl.transform.classes:1234 plants_pumped_storage_ferc1: Normalizing freeform string columns.\n"
     ]
    },
    {
     "name": "stdout",
     "output_type": "stream",
     "text": [
      "plants_pumped_storage_ferc1: Normalizing freeform string columns.\n"
     ]
    },
    {
     "name": "stderr",
     "output_type": "stream",
     "text": [
      "2023-03-17 17:02:15 [    INFO] catalystcoop.pudl.transform.classes:1258 plants_pumped_storage_ferc1: Categorizing string columns using a controlled vocabulary.\n"
     ]
    },
    {
     "name": "stdout",
     "output_type": "stream",
     "text": [
      "plants_pumped_storage_ferc1: Categorizing string columns using a controlled vocabulary.\n"
     ]
    },
    {
     "name": "stderr",
     "output_type": "stream",
     "text": [
      "2023-03-17 17:02:15 [    INFO] catalystcoop.pudl.transform.classes:1283 plants_pumped_storage_ferc1: Converting units and renaming columns accordingly.\n"
     ]
    },
    {
     "name": "stdout",
     "output_type": "stream",
     "text": [
      "plants_pumped_storage_ferc1: Converting units and renaming columns accordingly.\n"
     ]
    },
    {
     "name": "stderr",
     "output_type": "stream",
     "text": [
      "2023-03-17 17:02:15 [    INFO] catalystcoop.pudl.transform.classes:1245 plants_pumped_storage_ferc1: Stripping non-numeric values from ['project_num'].\n"
     ]
    },
    {
     "name": "stdout",
     "output_type": "stream",
     "text": [
      "plants_pumped_storage_ferc1: Stripping non-numeric values from ['project_num'].\n"
     ]
    },
    {
     "name": "stderr",
     "output_type": "stream",
     "text": [
      "2023-03-17 17:02:15 [    INFO] catalystcoop.pudl.transform.classes:1272 plants_pumped_storage_ferc1: Nullifying outlying values.\n"
     ]
    },
    {
     "name": "stdout",
     "output_type": "stream",
     "text": [
      "plants_pumped_storage_ferc1: Nullifying outlying values.\n"
     ]
    },
    {
     "name": "stderr",
     "output_type": "stream",
     "text": [
      "2023-03-17 17:02:15 [    INFO] catalystcoop.pudl.transform.classes:1325 plants_pumped_storage_ferc1: Replacing specified values with NA.\n"
     ]
    },
    {
     "name": "stdout",
     "output_type": "stream",
     "text": [
      "plants_pumped_storage_ferc1: Replacing specified values with NA.\n"
     ]
    },
    {
     "name": "stderr",
     "output_type": "stream",
     "text": [
      "2023-03-17 17:02:15 [    INFO] catalystcoop.pudl.transform.classes:1312 plants_pumped_storage_ferc1: Dropping remaining invalid rows.\n"
     ]
    },
    {
     "name": "stdout",
     "output_type": "stream",
     "text": [
      "plants_pumped_storage_ferc1: Dropping remaining invalid rows.\n"
     ]
    },
    {
     "name": "stderr",
     "output_type": "stream",
     "text": [
      "2023-03-17 17:02:15 [    INFO] catalystcoop.pudl.transform.classes:823 55.9% of records (222 rows) contain only {0, '', '0', '—', nan, 'none', <NA>} values in required columns. Dropped these 💩💩💩 records.\n"
     ]
    },
    {
     "name": "stdout",
     "output_type": "stream",
     "text": [
      "55.9% of records (222 rows) contain only {0, '', '0', '—', nan, 'none', <NA>} values in required columns. Dropped these 💩💩💩 records.\n"
     ]
    },
    {
     "name": "stderr",
     "output_type": "stream",
     "text": [
      "2023-03-17 17:02:15 [    INFO] catalystcoop.pudl.transform.classes:823 79.4% of records (139 rows) contain only {'', '-', '0', 'not applicable', nan, <NA>} values in required columns. Dropped these 💩💩💩 records.\n"
     ]
    },
    {
     "name": "stdout",
     "output_type": "stream",
     "text": [
      "79.4% of records (139 rows) contain only {'', '-', '0', 'not applicable', nan, <NA>} values in required columns. Dropped these 💩💩💩 records.\n"
     ]
    },
    {
     "name": "stderr",
     "output_type": "stream",
     "text": [
      "2023-03-17 17:02:15 [    INFO] catalystcoop.pudl.transform.classes:1343 plants_pumped_storage_ferc1: Enforcing database schema on dataframe.\n"
     ]
    },
    {
     "name": "stdout",
     "output_type": "stream",
     "text": [
      "plants_pumped_storage_ferc1: Enforcing database schema on dataframe.\n"
     ]
    },
    {
     "name": "stderr",
     "output_type": "stream",
     "text": [
      "2023-03-17 17:02:15 [    INFO] catalystcoop.pudl.transform.ferc1:1079 plant_in_service_ferc1: Processing DBF data pre-concatenation.\n"
     ]
    },
    {
     "name": "stdout",
     "output_type": "stream",
     "text": [
      "plant_in_service_ferc1: Processing DBF data pre-concatenation.\n"
     ]
    },
    {
     "name": "stderr",
     "output_type": "stream",
     "text": [
      "2023-03-17 17:02:15 [    INFO] catalystcoop.pudl.transform.ferc1:355 Aligning row numbers from DBF row to XBRL map for ['f1_plant_in_srvce']\n"
     ]
    },
    {
     "name": "stdout",
     "output_type": "stream",
     "text": [
      "Aligning row numbers from DBF row to XBRL map for ['f1_plant_in_srvce']\n"
     ]
    },
    {
     "name": "stderr",
     "output_type": "stream",
     "text": [
      "2023-03-17 17:02:15 [    INFO] catalystcoop.pudl.transform.classes:1210 plant_in_service_ferc1: Attempting to rename 14 columns.\n"
     ]
    },
    {
     "name": "stdout",
     "output_type": "stream",
     "text": [
      "plant_in_service_ferc1: Attempting to rename 14 columns.\n"
     ]
    },
    {
     "name": "stderr",
     "output_type": "stream",
     "text": [
      "2023-03-17 17:02:15 [    INFO] catalystcoop.pudl.transform.ferc1:2123 plant_in_service_ferc1: 0 dupes remaining after targeted deduplication.\n"
     ]
    },
    {
     "name": "stdout",
     "output_type": "stream",
     "text": [
      "plant_in_service_ferc1: 0 dupes remaining after targeted deduplication.\n"
     ]
    },
    {
     "name": "stderr",
     "output_type": "stream",
     "text": [
      "2023-03-17 17:02:15 [    INFO] catalystcoop.pudl.transform.ferc1:1100 plant_in_service_ferc1: Processing XBRL data pre-concatenation.\n"
     ]
    },
    {
     "name": "stdout",
     "output_type": "stream",
     "text": [
      "plant_in_service_ferc1: Processing XBRL data pre-concatenation.\n"
     ]
    },
    {
     "name": "stderr",
     "output_type": "stream",
     "text": [
      "2023-03-17 17:02:15 [    INFO] catalystcoop.pudl.transform.classes:1210 plant_in_service_ferc1: Attempting to rename 15 columns.\n"
     ]
    },
    {
     "name": "stdout",
     "output_type": "stream",
     "text": [
      "plant_in_service_ferc1: Attempting to rename 15 columns.\n"
     ]
    },
    {
     "name": "stderr",
     "output_type": "stream",
     "text": [
      "2023-03-17 17:02:15 [    INFO] catalystcoop.pudl.transform.ferc1:1154 plant_in_service_ferc1: Unstacking balances to the report years.\n"
     ]
    },
    {
     "name": "stdout",
     "output_type": "stream",
     "text": [
      "plant_in_service_ferc1: Unstacking balances to the report years.\n"
     ]
    },
    {
     "name": "stderr",
     "output_type": "stream",
     "text": [
      "2023-03-17 17:02:15 [    INFO] catalystcoop.pudl.transform.classes:1210 plant_in_service_ferc1: Attempting to rename 8 columns.\n"
     ]
    },
    {
     "name": "stdout",
     "output_type": "stream",
     "text": [
      "plant_in_service_ferc1: Attempting to rename 8 columns.\n"
     ]
    },
    {
     "name": "stderr",
     "output_type": "stream",
     "text": [
      "2023-03-17 17:02:15 [    INFO] catalystcoop.pudl.transform.ferc1:1381 plant_in_service_ferc1: After selection of dates based on the report year, we have 100.0% of the original table.\n"
     ]
    },
    {
     "name": "stdout",
     "output_type": "stream",
     "text": [
      "plant_in_service_ferc1: After selection of dates based on the report year, we have 100.0% of the original table.\n"
     ]
    },
    {
     "name": "stderr",
     "output_type": "stream",
     "text": [
      "2023-03-17 17:02:15 [    INFO] catalystcoop.pudl.transform.ferc1:1285 plant_in_service_ferc1: Both XBRL instant & duration tables found.\n"
     ]
    },
    {
     "name": "stdout",
     "output_type": "stream",
     "text": [
      "plant_in_service_ferc1: Both XBRL instant & duration tables found.\n"
     ]
    },
    {
     "name": "stderr",
     "output_type": "stream",
     "text": [
      "2023-03-17 17:02:15 [    INFO] catalystcoop.pudl.transform.ferc1:1322 plant_in_service_ferc1: Combining XBRL instant & duration tables using CONCATENATION.\n"
     ]
    },
    {
     "name": "stdout",
     "output_type": "stream",
     "text": [
      "plant_in_service_ferc1: Combining XBRL instant & duration tables using CONCATENATION.\n"
     ]
    },
    {
     "name": "stderr",
     "output_type": "stream",
     "text": [
      "2023-03-17 17:02:15 [    INFO] catalystcoop.pudl.transform.ferc1:1198 plant_in_service_ferc1: applying wide_to_tidy for xbrl\n"
     ]
    },
    {
     "name": "stdout",
     "output_type": "stream",
     "text": [
      "plant_in_service_ferc1: applying wide_to_tidy for xbrl\n"
     ]
    },
    {
     "name": "stderr",
     "output_type": "stream",
     "text": [
      "2023-03-17 17:02:16 [    INFO] catalystcoop.pudl.transform.classes:1210 plant_in_service_ferc1: Attempting to rename 9 columns.\n"
     ]
    },
    {
     "name": "stdout",
     "output_type": "stream",
     "text": [
      "plant_in_service_ferc1: Attempting to rename 9 columns.\n"
     ]
    },
    {
     "name": "stderr",
     "output_type": "stream",
     "text": [
      "2023-03-17 17:02:16 [    INFO] catalystcoop.pudl.transform.ferc1:916 plant_in_service_ferc1: Concatenating DBF + XBRL dataframes.\n"
     ]
    },
    {
     "name": "stdout",
     "output_type": "stream",
     "text": [
      "plant_in_service_ferc1: Concatenating DBF + XBRL dataframes.\n"
     ]
    },
    {
     "name": "stderr",
     "output_type": "stream",
     "text": [
      "2023-03-17 17:02:16 [    INFO] catalystcoop.pudl.transform.classes:1336 plant_in_service_ferc1: Spot fixing missing values.\n"
     ]
    },
    {
     "name": "stdout",
     "output_type": "stream",
     "text": [
      "plant_in_service_ferc1: Spot fixing missing values.\n"
     ]
    },
    {
     "name": "stderr",
     "output_type": "stream",
     "text": [
      "2023-03-17 17:02:16 [    INFO] catalystcoop.pudl.transform.classes:1234 plant_in_service_ferc1: Normalizing freeform string columns.\n"
     ]
    },
    {
     "name": "stdout",
     "output_type": "stream",
     "text": [
      "plant_in_service_ferc1: Normalizing freeform string columns.\n"
     ]
    },
    {
     "name": "stderr",
     "output_type": "stream",
     "text": [
      "2023-03-17 17:02:16 [    INFO] catalystcoop.pudl.transform.classes:1258 plant_in_service_ferc1: Categorizing string columns using a controlled vocabulary.\n"
     ]
    },
    {
     "name": "stdout",
     "output_type": "stream",
     "text": [
      "plant_in_service_ferc1: Categorizing string columns using a controlled vocabulary.\n"
     ]
    },
    {
     "name": "stderr",
     "output_type": "stream",
     "text": [
      "2023-03-17 17:02:16 [    INFO] catalystcoop.pudl.transform.classes:1283 plant_in_service_ferc1: Converting units and renaming columns accordingly.\n"
     ]
    },
    {
     "name": "stdout",
     "output_type": "stream",
     "text": [
      "plant_in_service_ferc1: Converting units and renaming columns accordingly.\n"
     ]
    },
    {
     "name": "stderr",
     "output_type": "stream",
     "text": [
      "2023-03-17 17:02:16 [    INFO] catalystcoop.pudl.transform.classes:1245 plant_in_service_ferc1: Stripping non-numeric values from [].\n"
     ]
    },
    {
     "name": "stdout",
     "output_type": "stream",
     "text": [
      "plant_in_service_ferc1: Stripping non-numeric values from [].\n"
     ]
    },
    {
     "name": "stderr",
     "output_type": "stream",
     "text": [
      "2023-03-17 17:02:16 [    INFO] catalystcoop.pudl.transform.classes:1272 plant_in_service_ferc1: Nullifying outlying values.\n"
     ]
    },
    {
     "name": "stdout",
     "output_type": "stream",
     "text": [
      "plant_in_service_ferc1: Nullifying outlying values.\n"
     ]
    },
    {
     "name": "stderr",
     "output_type": "stream",
     "text": [
      "2023-03-17 17:02:16 [    INFO] catalystcoop.pudl.transform.classes:1325 plant_in_service_ferc1: Replacing specified values with NA.\n"
     ]
    },
    {
     "name": "stdout",
     "output_type": "stream",
     "text": [
      "plant_in_service_ferc1: Replacing specified values with NA.\n"
     ]
    },
    {
     "name": "stderr",
     "output_type": "stream",
     "text": [
      "2023-03-17 17:02:16 [    INFO] catalystcoop.pudl.transform.classes:1312 plant_in_service_ferc1: Dropping remaining invalid rows.\n"
     ]
    },
    {
     "name": "stdout",
     "output_type": "stream",
     "text": [
      "plant_in_service_ferc1: Dropping remaining invalid rows.\n"
     ]
    },
    {
     "name": "stderr",
     "output_type": "stream",
     "text": [
      "2023-03-17 17:02:16 [    INFO] catalystcoop.pudl.transform.ferc1:1039 plant_in_service_ferc1: Merging metadata\n"
     ]
    },
    {
     "name": "stdout",
     "output_type": "stream",
     "text": [
      "plant_in_service_ferc1: Merging metadata\n"
     ]
    },
    {
     "name": "stderr",
     "output_type": "stream",
     "text": [
      "2023-03-17 17:02:16 [    INFO] catalystcoop.pudl.transform.classes:1343 plant_in_service_ferc1: Enforcing database schema on dataframe.\n"
     ]
    },
    {
     "name": "stdout",
     "output_type": "stream",
     "text": [
      "plant_in_service_ferc1: Enforcing database schema on dataframe.\n"
     ]
    },
    {
     "name": "stderr",
     "output_type": "stream",
     "text": [
      "2023-03-17 17:02:16 [    INFO] catalystcoop.pudl.transform.ferc1:1079 purchased_power_ferc1: Processing DBF data pre-concatenation.\n"
     ]
    },
    {
     "name": "stdout",
     "output_type": "stream",
     "text": [
      "purchased_power_ferc1: Processing DBF data pre-concatenation.\n"
     ]
    },
    {
     "name": "stderr",
     "output_type": "stream",
     "text": [
      "2023-03-17 17:02:16 [    INFO] catalystcoop.pudl.transform.classes:1210 purchased_power_ferc1: Attempting to rename 20 columns.\n"
     ]
    },
    {
     "name": "stdout",
     "output_type": "stream",
     "text": [
      "purchased_power_ferc1: Attempting to rename 20 columns.\n"
     ]
    },
    {
     "name": "stderr",
     "output_type": "stream",
     "text": [
      "2023-03-17 17:02:16 [    INFO] catalystcoop.pudl.transform.ferc1:1100 purchased_power_ferc1: Processing XBRL data pre-concatenation.\n"
     ]
    },
    {
     "name": "stdout",
     "output_type": "stream",
     "text": [
      "purchased_power_ferc1: Processing XBRL data pre-concatenation.\n"
     ]
    },
    {
     "name": "stderr",
     "output_type": "stream",
     "text": [
      "2023-03-17 17:02:16 [    INFO] catalystcoop.pudl.transform.classes:1210 purchased_power_ferc1: Attempting to rename 0 columns.\n"
     ]
    },
    {
     "name": "stdout",
     "output_type": "stream",
     "text": [
      "purchased_power_ferc1: Attempting to rename 0 columns.\n"
     ]
    },
    {
     "name": "stderr",
     "output_type": "stream",
     "text": [
      "2023-03-17 17:02:16 [    INFO] catalystcoop.pudl.transform.ferc1:1154 purchased_power_ferc1: Unstacking balances to the report years.\n"
     ]
    },
    {
     "name": "stdout",
     "output_type": "stream",
     "text": [
      "purchased_power_ferc1: Unstacking balances to the report years.\n"
     ]
    },
    {
     "name": "stderr",
     "output_type": "stream",
     "text": [
      "2023-03-17 17:02:16 [    INFO] catalystcoop.pudl.transform.classes:1210 purchased_power_ferc1: Attempting to rename 0 columns.\n"
     ]
    },
    {
     "name": "stdout",
     "output_type": "stream",
     "text": [
      "purchased_power_ferc1: Attempting to rename 0 columns.\n"
     ]
    },
    {
     "name": "stderr",
     "output_type": "stream",
     "text": [
      "2023-03-17 17:02:16 [    INFO] catalystcoop.pudl.transform.ferc1:1381 purchased_power_ferc1: After selection of dates based on the report year, we have 100.0% of the original table.\n"
     ]
    },
    {
     "name": "stdout",
     "output_type": "stream",
     "text": [
      "purchased_power_ferc1: After selection of dates based on the report year, we have 100.0% of the original table.\n"
     ]
    },
    {
     "name": "stderr",
     "output_type": "stream",
     "text": [
      "2023-03-17 17:02:16 [    INFO] catalystcoop.pudl.transform.ferc1:1279 purchased_power_ferc1: No XBRL instant table found.\n"
     ]
    },
    {
     "name": "stdout",
     "output_type": "stream",
     "text": [
      "purchased_power_ferc1: No XBRL instant table found.\n"
     ]
    },
    {
     "name": "stderr",
     "output_type": "stream",
     "text": [
      "2023-03-17 17:02:16 [    INFO] catalystcoop.pudl.transform.classes:1210 purchased_power_ferc1: Attempting to rename 20 columns.\n"
     ]
    },
    {
     "name": "stdout",
     "output_type": "stream",
     "text": [
      "purchased_power_ferc1: Attempting to rename 20 columns.\n"
     ]
    },
    {
     "name": "stderr",
     "output_type": "stream",
     "text": [
      "2023-03-17 17:02:16 [ WARNING] catalystcoop.pudl.transform.ferc1:1504 purchased_power_ferc1: Found 2 duplicate record_ids: \n",
      "['purchased_power_326_2021_c010464_independent_system_operator__service_agreement'\n",
      " 'purchased_power_326_2021_c001421_cheyenne_light_fuel__power_os'].\n"
     ]
    },
    {
     "name": "stdout",
     "output_type": "stream",
     "text": [
      "purchased_power_ferc1: Found 2 duplicate record_ids: \n",
      "['purchased_power_326_2021_c010464_independent_system_operator__service_agreement'\n",
      " 'purchased_power_326_2021_c001421_cheyenne_light_fuel__power_os'].\n"
     ]
    },
    {
     "name": "stderr",
     "output_type": "stream",
     "text": [
      "2023-03-17 17:02:16 [    INFO] catalystcoop.pudl.transform.ferc1:916 purchased_power_ferc1: Concatenating DBF + XBRL dataframes.\n"
     ]
    },
    {
     "name": "stdout",
     "output_type": "stream",
     "text": [
      "purchased_power_ferc1: Concatenating DBF + XBRL dataframes.\n"
     ]
    },
    {
     "name": "stderr",
     "output_type": "stream",
     "text": [
      "2023-03-17 17:02:16 [    INFO] catalystcoop.pudl.transform.classes:1336 purchased_power_ferc1: Spot fixing missing values.\n"
     ]
    },
    {
     "name": "stdout",
     "output_type": "stream",
     "text": [
      "purchased_power_ferc1: Spot fixing missing values.\n"
     ]
    },
    {
     "name": "stderr",
     "output_type": "stream",
     "text": [
      "2023-03-17 17:02:16 [    INFO] catalystcoop.pudl.transform.classes:1234 purchased_power_ferc1: Normalizing freeform string columns.\n"
     ]
    },
    {
     "name": "stdout",
     "output_type": "stream",
     "text": [
      "purchased_power_ferc1: Normalizing freeform string columns.\n"
     ]
    },
    {
     "name": "stderr",
     "output_type": "stream",
     "text": [
      "2023-03-17 17:02:16 [    INFO] catalystcoop.pudl.transform.classes:1258 purchased_power_ferc1: Categorizing string columns using a controlled vocabulary.\n"
     ]
    },
    {
     "name": "stdout",
     "output_type": "stream",
     "text": [
      "purchased_power_ferc1: Categorizing string columns using a controlled vocabulary.\n"
     ]
    },
    {
     "name": "stderr",
     "output_type": "stream",
     "text": [
      "2023-03-17 17:02:16 [    INFO] catalystcoop.pudl.transform.classes:1283 purchased_power_ferc1: Converting units and renaming columns accordingly.\n"
     ]
    },
    {
     "name": "stdout",
     "output_type": "stream",
     "text": [
      "purchased_power_ferc1: Converting units and renaming columns accordingly.\n"
     ]
    },
    {
     "name": "stderr",
     "output_type": "stream",
     "text": [
      "2023-03-17 17:02:16 [    INFO] catalystcoop.pudl.transform.classes:1245 purchased_power_ferc1: Stripping non-numeric values from ['billing_demand_mw', 'non_coincident_peak_demand_mw', 'coincident_peak_demand_mw'].\n"
     ]
    },
    {
     "name": "stdout",
     "output_type": "stream",
     "text": [
      "purchased_power_ferc1: Stripping non-numeric values from ['billing_demand_mw', 'non_coincident_peak_demand_mw', 'coincident_peak_demand_mw'].\n"
     ]
    },
    {
     "name": "stderr",
     "output_type": "stream",
     "text": [
      "2023-03-17 17:02:16 [    INFO] catalystcoop.pudl.transform.classes:1272 purchased_power_ferc1: Nullifying outlying values.\n"
     ]
    },
    {
     "name": "stdout",
     "output_type": "stream",
     "text": [
      "purchased_power_ferc1: Nullifying outlying values.\n"
     ]
    },
    {
     "name": "stderr",
     "output_type": "stream",
     "text": [
      "2023-03-17 17:02:16 [    INFO] catalystcoop.pudl.transform.classes:1325 purchased_power_ferc1: Replacing specified values with NA.\n"
     ]
    },
    {
     "name": "stdout",
     "output_type": "stream",
     "text": [
      "purchased_power_ferc1: Replacing specified values with NA.\n"
     ]
    },
    {
     "name": "stderr",
     "output_type": "stream",
     "text": [
      "2023-03-17 17:02:16 [    INFO] catalystcoop.pudl.transform.classes:1312 purchased_power_ferc1: Dropping remaining invalid rows.\n"
     ]
    },
    {
     "name": "stdout",
     "output_type": "stream",
     "text": [
      "purchased_power_ferc1: Dropping remaining invalid rows.\n"
     ]
    },
    {
     "name": "stderr",
     "output_type": "stream",
     "text": [
      "2023-03-17 17:02:16 [    INFO] catalystcoop.pudl.transform.classes:823 5.3% of records (754 rows) contain only {0, '', '0', '—', nan, 'none', <NA>} values in required columns. Dropped these 💩💩💩 records.\n"
     ]
    },
    {
     "name": "stdout",
     "output_type": "stream",
     "text": [
      "5.3% of records (754 rows) contain only {0, '', '0', '—', nan, 'none', <NA>} values in required columns. Dropped these 💩💩💩 records.\n"
     ]
    },
    {
     "name": "stderr",
     "output_type": "stream",
     "text": [
      "2023-03-17 17:02:16 [    INFO] catalystcoop.pudl.metadata.classes:1673 Recoding purchased_power_ferc1.purchase_type_code\n"
     ]
    },
    {
     "name": "stdout",
     "output_type": "stream",
     "text": [
      "Recoding purchased_power_ferc1.purchase_type_code\n"
     ]
    },
    {
     "name": "stderr",
     "output_type": "stream",
     "text": [
      "2023-03-17 17:02:16 [    INFO] catalystcoop.pudl.transform.classes:1343 purchased_power_ferc1: Enforcing database schema on dataframe.\n"
     ]
    },
    {
     "name": "stdout",
     "output_type": "stream",
     "text": [
      "purchased_power_ferc1: Enforcing database schema on dataframe.\n"
     ]
    },
    {
     "name": "stderr",
     "output_type": "stream",
     "text": [
      "2023-03-17 17:02:16 [    INFO] catalystcoop.pudl.transform.ferc1:1079 electric_energy_sources_ferc1: Processing DBF data pre-concatenation.\n"
     ]
    },
    {
     "name": "stdout",
     "output_type": "stream",
     "text": [
      "electric_energy_sources_ferc1: Processing DBF data pre-concatenation.\n"
     ]
    },
    {
     "name": "stderr",
     "output_type": "stream",
     "text": [
      "2023-03-17 17:02:16 [    INFO] catalystcoop.pudl.transform.ferc1:355 Aligning row numbers from DBF row to XBRL map for ['f1_elctrc_erg_acct']\n"
     ]
    },
    {
     "name": "stdout",
     "output_type": "stream",
     "text": [
      "Aligning row numbers from DBF row to XBRL map for ['f1_elctrc_erg_acct']\n"
     ]
    },
    {
     "name": "stderr",
     "output_type": "stream",
     "text": [
      "2023-03-17 17:02:16 [    INFO] catalystcoop.pudl.transform.classes:1210 electric_energy_sources_ferc1: Attempting to rename 10 columns.\n"
     ]
    },
    {
     "name": "stdout",
     "output_type": "stream",
     "text": [
      "electric_energy_sources_ferc1: Attempting to rename 10 columns.\n"
     ]
    },
    {
     "name": "stderr",
     "output_type": "stream",
     "text": [
      "2023-03-17 17:02:16 [    INFO] catalystcoop.pudl.transform.ferc1:1100 electric_energy_sources_ferc1: Processing XBRL data pre-concatenation.\n"
     ]
    },
    {
     "name": "stdout",
     "output_type": "stream",
     "text": [
      "electric_energy_sources_ferc1: Processing XBRL data pre-concatenation.\n"
     ]
    },
    {
     "name": "stderr",
     "output_type": "stream",
     "text": [
      "2023-03-17 17:02:16 [    INFO] catalystcoop.pudl.transform.classes:1210 electric_energy_sources_ferc1: Attempting to rename 0 columns.\n"
     ]
    },
    {
     "name": "stdout",
     "output_type": "stream",
     "text": [
      "electric_energy_sources_ferc1: Attempting to rename 0 columns.\n"
     ]
    },
    {
     "name": "stderr",
     "output_type": "stream",
     "text": [
      "2023-03-17 17:02:16 [    INFO] catalystcoop.pudl.transform.ferc1:1154 electric_energy_sources_ferc1: Unstacking balances to the report years.\n"
     ]
    },
    {
     "name": "stdout",
     "output_type": "stream",
     "text": [
      "electric_energy_sources_ferc1: Unstacking balances to the report years.\n"
     ]
    },
    {
     "name": "stderr",
     "output_type": "stream",
     "text": [
      "2023-03-17 17:02:16 [    INFO] catalystcoop.pudl.transform.classes:1210 electric_energy_sources_ferc1: Attempting to rename 17 columns.\n"
     ]
    },
    {
     "name": "stdout",
     "output_type": "stream",
     "text": [
      "electric_energy_sources_ferc1: Attempting to rename 17 columns.\n"
     ]
    },
    {
     "name": "stderr",
     "output_type": "stream",
     "text": [
      "2023-03-17 17:02:16 [    INFO] catalystcoop.pudl.transform.ferc1:1381 electric_energy_sources_ferc1: After selection of dates based on the report year, we have 58.5% of the original table.\n"
     ]
    },
    {
     "name": "stdout",
     "output_type": "stream",
     "text": [
      "electric_energy_sources_ferc1: After selection of dates based on the report year, we have 58.5% of the original table.\n"
     ]
    },
    {
     "name": "stderr",
     "output_type": "stream",
     "text": [
      "2023-03-17 17:02:16 [    INFO] catalystcoop.pudl.transform.ferc1:1279 electric_energy_sources_ferc1: No XBRL instant table found.\n"
     ]
    },
    {
     "name": "stdout",
     "output_type": "stream",
     "text": [
      "electric_energy_sources_ferc1: No XBRL instant table found.\n"
     ]
    },
    {
     "name": "stderr",
     "output_type": "stream",
     "text": [
      "2023-03-17 17:02:16 [    INFO] catalystcoop.pudl.transform.ferc1:1198 electric_energy_sources_ferc1: applying wide_to_tidy for xbrl\n"
     ]
    },
    {
     "name": "stdout",
     "output_type": "stream",
     "text": [
      "electric_energy_sources_ferc1: applying wide_to_tidy for xbrl\n"
     ]
    },
    {
     "name": "stderr",
     "output_type": "stream",
     "text": [
      "2023-03-17 17:02:16 [    INFO] catalystcoop.pudl.transform.classes:1210 electric_energy_sources_ferc1: Attempting to rename 4 columns.\n"
     ]
    },
    {
     "name": "stdout",
     "output_type": "stream",
     "text": [
      "electric_energy_sources_ferc1: Attempting to rename 4 columns.\n"
     ]
    },
    {
     "name": "stderr",
     "output_type": "stream",
     "text": [
      "2023-03-17 17:02:16 [    INFO] catalystcoop.pudl.transform.ferc1:916 electric_energy_sources_ferc1: Concatenating DBF + XBRL dataframes.\n"
     ]
    },
    {
     "name": "stdout",
     "output_type": "stream",
     "text": [
      "electric_energy_sources_ferc1: Concatenating DBF + XBRL dataframes.\n"
     ]
    },
    {
     "name": "stderr",
     "output_type": "stream",
     "text": [
      "2023-03-17 17:02:16 [    INFO] catalystcoop.pudl.transform.classes:1336 electric_energy_sources_ferc1: Spot fixing missing values.\n"
     ]
    },
    {
     "name": "stdout",
     "output_type": "stream",
     "text": [
      "electric_energy_sources_ferc1: Spot fixing missing values.\n"
     ]
    },
    {
     "name": "stderr",
     "output_type": "stream",
     "text": [
      "2023-03-17 17:02:16 [    INFO] catalystcoop.pudl.transform.classes:1234 electric_energy_sources_ferc1: Normalizing freeform string columns.\n"
     ]
    },
    {
     "name": "stdout",
     "output_type": "stream",
     "text": [
      "electric_energy_sources_ferc1: Normalizing freeform string columns.\n"
     ]
    },
    {
     "name": "stderr",
     "output_type": "stream",
     "text": [
      "2023-03-17 17:02:16 [    INFO] catalystcoop.pudl.transform.classes:1258 electric_energy_sources_ferc1: Categorizing string columns using a controlled vocabulary.\n"
     ]
    },
    {
     "name": "stdout",
     "output_type": "stream",
     "text": [
      "electric_energy_sources_ferc1: Categorizing string columns using a controlled vocabulary.\n"
     ]
    },
    {
     "name": "stderr",
     "output_type": "stream",
     "text": [
      "2023-03-17 17:02:16 [    INFO] catalystcoop.pudl.transform.classes:1283 electric_energy_sources_ferc1: Converting units and renaming columns accordingly.\n"
     ]
    },
    {
     "name": "stdout",
     "output_type": "stream",
     "text": [
      "electric_energy_sources_ferc1: Converting units and renaming columns accordingly.\n"
     ]
    },
    {
     "name": "stderr",
     "output_type": "stream",
     "text": [
      "2023-03-17 17:02:16 [    INFO] catalystcoop.pudl.transform.classes:1245 electric_energy_sources_ferc1: Stripping non-numeric values from [].\n"
     ]
    },
    {
     "name": "stdout",
     "output_type": "stream",
     "text": [
      "electric_energy_sources_ferc1: Stripping non-numeric values from [].\n"
     ]
    },
    {
     "name": "stderr",
     "output_type": "stream",
     "text": [
      "2023-03-17 17:02:16 [    INFO] catalystcoop.pudl.transform.classes:1272 electric_energy_sources_ferc1: Nullifying outlying values.\n"
     ]
    },
    {
     "name": "stdout",
     "output_type": "stream",
     "text": [
      "electric_energy_sources_ferc1: Nullifying outlying values.\n"
     ]
    },
    {
     "name": "stderr",
     "output_type": "stream",
     "text": [
      "2023-03-17 17:02:16 [    INFO] catalystcoop.pudl.transform.classes:1325 electric_energy_sources_ferc1: Replacing specified values with NA.\n"
     ]
    },
    {
     "name": "stdout",
     "output_type": "stream",
     "text": [
      "electric_energy_sources_ferc1: Replacing specified values with NA.\n"
     ]
    },
    {
     "name": "stderr",
     "output_type": "stream",
     "text": [
      "2023-03-17 17:02:16 [    INFO] catalystcoop.pudl.transform.classes:1312 electric_energy_sources_ferc1: Dropping remaining invalid rows.\n"
     ]
    },
    {
     "name": "stdout",
     "output_type": "stream",
     "text": [
      "electric_energy_sources_ferc1: Dropping remaining invalid rows.\n"
     ]
    },
    {
     "name": "stderr",
     "output_type": "stream",
     "text": [
      "2023-03-17 17:02:16 [    INFO] catalystcoop.pudl.transform.classes:823 45.0% of records (2245 rows) contain only {'', nan, <NA>} values in required columns. Dropped these 💩💩💩 records.\n"
     ]
    },
    {
     "name": "stdout",
     "output_type": "stream",
     "text": [
      "45.0% of records (2245 rows) contain only {'', nan, <NA>} values in required columns. Dropped these 💩💩💩 records.\n"
     ]
    },
    {
     "name": "stderr",
     "output_type": "stream",
     "text": [
      "2023-03-17 17:02:16 [    INFO] catalystcoop.pudl.transform.ferc1:1039 electric_energy_sources_ferc1: Merging metadata\n"
     ]
    },
    {
     "name": "stdout",
     "output_type": "stream",
     "text": [
      "electric_energy_sources_ferc1: Merging metadata\n"
     ]
    },
    {
     "name": "stderr",
     "output_type": "stream",
     "text": [
      "2023-03-17 17:02:16 [    INFO] catalystcoop.pudl.transform.classes:1343 electric_energy_sources_ferc1: Enforcing database schema on dataframe.\n"
     ]
    },
    {
     "name": "stdout",
     "output_type": "stream",
     "text": [
      "electric_energy_sources_ferc1: Enforcing database schema on dataframe.\n"
     ]
    },
    {
     "name": "stderr",
     "output_type": "stream",
     "text": [
      "2023-03-17 17:02:16 [    INFO] catalystcoop.pudl.transform.ferc1:1079 electric_energy_dispositions_ferc1: Processing DBF data pre-concatenation.\n"
     ]
    },
    {
     "name": "stdout",
     "output_type": "stream",
     "text": [
      "electric_energy_dispositions_ferc1: Processing DBF data pre-concatenation.\n"
     ]
    },
    {
     "name": "stderr",
     "output_type": "stream",
     "text": [
      "2023-03-17 17:02:16 [    INFO] catalystcoop.pudl.transform.ferc1:355 Aligning row numbers from DBF row to XBRL map for ['f1_elctrc_erg_acct']\n"
     ]
    },
    {
     "name": "stdout",
     "output_type": "stream",
     "text": [
      "Aligning row numbers from DBF row to XBRL map for ['f1_elctrc_erg_acct']\n"
     ]
    },
    {
     "name": "stderr",
     "output_type": "stream",
     "text": [
      "2023-03-17 17:02:16 [    INFO] catalystcoop.pudl.transform.classes:1210 electric_energy_dispositions_ferc1: Attempting to rename 10 columns.\n"
     ]
    },
    {
     "name": "stdout",
     "output_type": "stream",
     "text": [
      "electric_energy_dispositions_ferc1: Attempting to rename 10 columns.\n"
     ]
    },
    {
     "name": "stderr",
     "output_type": "stream",
     "text": [
      "2023-03-17 17:02:16 [    INFO] catalystcoop.pudl.transform.ferc1:1100 electric_energy_dispositions_ferc1: Processing XBRL data pre-concatenation.\n"
     ]
    },
    {
     "name": "stdout",
     "output_type": "stream",
     "text": [
      "electric_energy_dispositions_ferc1: Processing XBRL data pre-concatenation.\n"
     ]
    },
    {
     "name": "stderr",
     "output_type": "stream",
     "text": [
      "2023-03-17 17:02:16 [    INFO] catalystcoop.pudl.transform.classes:1210 electric_energy_dispositions_ferc1: Attempting to rename 0 columns.\n"
     ]
    },
    {
     "name": "stdout",
     "output_type": "stream",
     "text": [
      "electric_energy_dispositions_ferc1: Attempting to rename 0 columns.\n"
     ]
    },
    {
     "name": "stderr",
     "output_type": "stream",
     "text": [
      "2023-03-17 17:02:16 [    INFO] catalystcoop.pudl.transform.ferc1:1154 electric_energy_dispositions_ferc1: Unstacking balances to the report years.\n"
     ]
    },
    {
     "name": "stdout",
     "output_type": "stream",
     "text": [
      "electric_energy_dispositions_ferc1: Unstacking balances to the report years.\n"
     ]
    },
    {
     "name": "stderr",
     "output_type": "stream",
     "text": [
      "2023-03-17 17:02:16 [    INFO] catalystcoop.pudl.transform.classes:1210 electric_energy_dispositions_ferc1: Attempting to rename 8 columns.\n"
     ]
    },
    {
     "name": "stdout",
     "output_type": "stream",
     "text": [
      "electric_energy_dispositions_ferc1: Attempting to rename 8 columns.\n"
     ]
    },
    {
     "name": "stderr",
     "output_type": "stream",
     "text": [
      "2023-03-17 17:02:16 [    INFO] catalystcoop.pudl.transform.ferc1:1381 electric_energy_dispositions_ferc1: After selection of dates based on the report year, we have 58.5% of the original table.\n"
     ]
    },
    {
     "name": "stdout",
     "output_type": "stream",
     "text": [
      "electric_energy_dispositions_ferc1: After selection of dates based on the report year, we have 58.5% of the original table.\n"
     ]
    },
    {
     "name": "stderr",
     "output_type": "stream",
     "text": [
      "2023-03-17 17:02:16 [    INFO] catalystcoop.pudl.transform.ferc1:1279 electric_energy_dispositions_ferc1: No XBRL instant table found.\n"
     ]
    },
    {
     "name": "stdout",
     "output_type": "stream",
     "text": [
      "electric_energy_dispositions_ferc1: No XBRL instant table found.\n"
     ]
    },
    {
     "name": "stderr",
     "output_type": "stream",
     "text": [
      "2023-03-17 17:02:16 [    INFO] catalystcoop.pudl.transform.ferc1:1198 electric_energy_dispositions_ferc1: applying wide_to_tidy for xbrl\n"
     ]
    },
    {
     "name": "stdout",
     "output_type": "stream",
     "text": [
      "electric_energy_dispositions_ferc1: applying wide_to_tidy for xbrl\n"
     ]
    },
    {
     "name": "stderr",
     "output_type": "stream",
     "text": [
      "2023-03-17 17:02:16 [    INFO] catalystcoop.pudl.transform.classes:1210 electric_energy_dispositions_ferc1: Attempting to rename 4 columns.\n"
     ]
    },
    {
     "name": "stdout",
     "output_type": "stream",
     "text": [
      "electric_energy_dispositions_ferc1: Attempting to rename 4 columns.\n"
     ]
    },
    {
     "name": "stderr",
     "output_type": "stream",
     "text": [
      "2023-03-17 17:02:16 [    INFO] catalystcoop.pudl.transform.ferc1:916 electric_energy_dispositions_ferc1: Concatenating DBF + XBRL dataframes.\n"
     ]
    },
    {
     "name": "stdout",
     "output_type": "stream",
     "text": [
      "electric_energy_dispositions_ferc1: Concatenating DBF + XBRL dataframes.\n"
     ]
    },
    {
     "name": "stderr",
     "output_type": "stream",
     "text": [
      "2023-03-17 17:02:16 [    INFO] catalystcoop.pudl.transform.classes:1336 electric_energy_dispositions_ferc1: Spot fixing missing values.\n"
     ]
    },
    {
     "name": "stdout",
     "output_type": "stream",
     "text": [
      "electric_energy_dispositions_ferc1: Spot fixing missing values.\n"
     ]
    },
    {
     "name": "stderr",
     "output_type": "stream",
     "text": [
      "2023-03-17 17:02:16 [    INFO] catalystcoop.pudl.transform.classes:1234 electric_energy_dispositions_ferc1: Normalizing freeform string columns.\n"
     ]
    },
    {
     "name": "stdout",
     "output_type": "stream",
     "text": [
      "electric_energy_dispositions_ferc1: Normalizing freeform string columns.\n"
     ]
    },
    {
     "name": "stderr",
     "output_type": "stream",
     "text": [
      "2023-03-17 17:02:16 [    INFO] catalystcoop.pudl.transform.classes:1258 electric_energy_dispositions_ferc1: Categorizing string columns using a controlled vocabulary.\n"
     ]
    },
    {
     "name": "stdout",
     "output_type": "stream",
     "text": [
      "electric_energy_dispositions_ferc1: Categorizing string columns using a controlled vocabulary.\n"
     ]
    },
    {
     "name": "stderr",
     "output_type": "stream",
     "text": [
      "2023-03-17 17:02:16 [    INFO] catalystcoop.pudl.transform.classes:1283 electric_energy_dispositions_ferc1: Converting units and renaming columns accordingly.\n"
     ]
    },
    {
     "name": "stdout",
     "output_type": "stream",
     "text": [
      "electric_energy_dispositions_ferc1: Converting units and renaming columns accordingly.\n"
     ]
    },
    {
     "name": "stderr",
     "output_type": "stream",
     "text": [
      "2023-03-17 17:02:16 [    INFO] catalystcoop.pudl.transform.classes:1245 electric_energy_dispositions_ferc1: Stripping non-numeric values from [].\n"
     ]
    },
    {
     "name": "stdout",
     "output_type": "stream",
     "text": [
      "electric_energy_dispositions_ferc1: Stripping non-numeric values from [].\n"
     ]
    },
    {
     "name": "stderr",
     "output_type": "stream",
     "text": [
      "2023-03-17 17:02:16 [    INFO] catalystcoop.pudl.transform.classes:1272 electric_energy_dispositions_ferc1: Nullifying outlying values.\n"
     ]
    },
    {
     "name": "stdout",
     "output_type": "stream",
     "text": [
      "electric_energy_dispositions_ferc1: Nullifying outlying values.\n"
     ]
    },
    {
     "name": "stderr",
     "output_type": "stream",
     "text": [
      "2023-03-17 17:02:16 [    INFO] catalystcoop.pudl.transform.classes:1325 electric_energy_dispositions_ferc1: Replacing specified values with NA.\n"
     ]
    },
    {
     "name": "stdout",
     "output_type": "stream",
     "text": [
      "electric_energy_dispositions_ferc1: Replacing specified values with NA.\n"
     ]
    },
    {
     "name": "stderr",
     "output_type": "stream",
     "text": [
      "2023-03-17 17:02:16 [    INFO] catalystcoop.pudl.transform.classes:1312 electric_energy_dispositions_ferc1: Dropping remaining invalid rows.\n"
     ]
    },
    {
     "name": "stdout",
     "output_type": "stream",
     "text": [
      "electric_energy_dispositions_ferc1: Dropping remaining invalid rows.\n"
     ]
    },
    {
     "name": "stderr",
     "output_type": "stream",
     "text": [
      "2023-03-17 17:02:16 [    INFO] catalystcoop.pudl.transform.classes:823 52.2% of records (1703 rows) contain only {'', nan, <NA>} values in required columns. Dropped these 💩💩💩 records.\n"
     ]
    },
    {
     "name": "stdout",
     "output_type": "stream",
     "text": [
      "52.2% of records (1703 rows) contain only {'', nan, <NA>} values in required columns. Dropped these 💩💩💩 records.\n"
     ]
    },
    {
     "name": "stderr",
     "output_type": "stream",
     "text": [
      "2023-03-17 17:02:16 [    INFO] catalystcoop.pudl.transform.ferc1:1039 electric_energy_dispositions_ferc1: Merging metadata\n"
     ]
    },
    {
     "name": "stdout",
     "output_type": "stream",
     "text": [
      "electric_energy_dispositions_ferc1: Merging metadata\n"
     ]
    },
    {
     "name": "stderr",
     "output_type": "stream",
     "text": [
      "2023-03-17 17:02:16 [    INFO] catalystcoop.pudl.transform.classes:1343 electric_energy_dispositions_ferc1: Enforcing database schema on dataframe.\n"
     ]
    },
    {
     "name": "stdout",
     "output_type": "stream",
     "text": [
      "electric_energy_dispositions_ferc1: Enforcing database schema on dataframe.\n"
     ]
    },
    {
     "name": "stderr",
     "output_type": "stream",
     "text": [
      "2023-03-17 17:02:16 [    INFO] catalystcoop.pudl.transform.ferc1:1079 utility_plant_summary_ferc1: Processing DBF data pre-concatenation.\n"
     ]
    },
    {
     "name": "stdout",
     "output_type": "stream",
     "text": [
      "utility_plant_summary_ferc1: Processing DBF data pre-concatenation.\n"
     ]
    },
    {
     "name": "stderr",
     "output_type": "stream",
     "text": [
      "2023-03-17 17:02:16 [    INFO] catalystcoop.pudl.transform.ferc1:1142 utility_plant_summary_ferc1: After selection only annual records, we have 25.7% of the original table.\n"
     ]
    },
    {
     "name": "stdout",
     "output_type": "stream",
     "text": [
      "utility_plant_summary_ferc1: After selection only annual records, we have 25.7% of the original table.\n"
     ]
    },
    {
     "name": "stderr",
     "output_type": "stream",
     "text": [
      "2023-03-17 17:02:16 [    INFO] catalystcoop.pudl.transform.ferc1:355 Aligning row numbers from DBF row to XBRL map for ['f1_utltyplnt_smmry']\n"
     ]
    },
    {
     "name": "stdout",
     "output_type": "stream",
     "text": [
      "Aligning row numbers from DBF row to XBRL map for ['f1_utltyplnt_smmry']\n"
     ]
    },
    {
     "name": "stderr",
     "output_type": "stream",
     "text": [
      "2023-03-17 17:02:17 [    INFO] catalystcoop.pudl.transform.classes:1210 utility_plant_summary_ferc1: Attempting to rename 36 columns.\n"
     ]
    },
    {
     "name": "stdout",
     "output_type": "stream",
     "text": [
      "utility_plant_summary_ferc1: Attempting to rename 36 columns.\n"
     ]
    },
    {
     "name": "stderr",
     "output_type": "stream",
     "text": [
      "2023-03-17 17:02:17 [    INFO] catalystcoop.pudl.transform.ferc1:1198 utility_plant_summary_ferc1: applying wide_to_tidy for dbf\n"
     ]
    },
    {
     "name": "stdout",
     "output_type": "stream",
     "text": [
      "utility_plant_summary_ferc1: applying wide_to_tidy for dbf\n"
     ]
    },
    {
     "name": "stderr",
     "output_type": "stream",
     "text": [
      "2023-03-17 17:02:17 [    INFO] catalystcoop.pudl.transform.ferc1:1100 utility_plant_summary_ferc1: Processing XBRL data pre-concatenation.\n"
     ]
    },
    {
     "name": "stdout",
     "output_type": "stream",
     "text": [
      "utility_plant_summary_ferc1: Processing XBRL data pre-concatenation.\n"
     ]
    },
    {
     "name": "stderr",
     "output_type": "stream",
     "text": [
      "2023-03-17 17:02:17 [    INFO] catalystcoop.pudl.transform.classes:1210 utility_plant_summary_ferc1: Attempting to rename 26 columns.\n"
     ]
    },
    {
     "name": "stdout",
     "output_type": "stream",
     "text": [
      "utility_plant_summary_ferc1: Attempting to rename 26 columns.\n"
     ]
    },
    {
     "name": "stderr",
     "output_type": "stream",
     "text": [
      "2023-03-17 17:02:17 [    INFO] catalystcoop.pudl.transform.ferc1:1154 utility_plant_summary_ferc1: Unstacking balances to the report years.\n"
     ]
    },
    {
     "name": "stdout",
     "output_type": "stream",
     "text": [
      "utility_plant_summary_ferc1: Unstacking balances to the report years.\n"
     ]
    },
    {
     "name": "stderr",
     "output_type": "stream",
     "text": [
      "2023-03-17 17:02:17 [    INFO] catalystcoop.pudl.transform.ferc1:1282 utility_plant_summary_ferc1: No XBRL duration table found.\n"
     ]
    },
    {
     "name": "stdout",
     "output_type": "stream",
     "text": [
      "utility_plant_summary_ferc1: No XBRL duration table found.\n"
     ]
    },
    {
     "name": "stderr",
     "output_type": "stream",
     "text": [
      "2023-03-17 17:02:17 [    INFO] catalystcoop.pudl.transform.ferc1:1198 utility_plant_summary_ferc1: applying wide_to_tidy for xbrl\n"
     ]
    },
    {
     "name": "stdout",
     "output_type": "stream",
     "text": [
      "utility_plant_summary_ferc1: applying wide_to_tidy for xbrl\n"
     ]
    },
    {
     "name": "stderr",
     "output_type": "stream",
     "text": [
      "2023-03-17 17:02:17 [    INFO] catalystcoop.pudl.transform.classes:1210 utility_plant_summary_ferc1: Attempting to rename 4 columns.\n"
     ]
    },
    {
     "name": "stdout",
     "output_type": "stream",
     "text": [
      "utility_plant_summary_ferc1: Attempting to rename 4 columns.\n"
     ]
    },
    {
     "name": "stderr",
     "output_type": "stream",
     "text": [
      "2023-03-17 17:02:17 [    INFO] catalystcoop.pudl.transform.ferc1:916 utility_plant_summary_ferc1: Concatenating DBF + XBRL dataframes.\n"
     ]
    },
    {
     "name": "stdout",
     "output_type": "stream",
     "text": [
      "utility_plant_summary_ferc1: Concatenating DBF + XBRL dataframes.\n"
     ]
    },
    {
     "name": "stderr",
     "output_type": "stream",
     "text": [
      "2023-03-17 17:02:17 [    INFO] catalystcoop.pudl.transform.classes:1336 utility_plant_summary_ferc1: Spot fixing missing values.\n"
     ]
    },
    {
     "name": "stdout",
     "output_type": "stream",
     "text": [
      "utility_plant_summary_ferc1: Spot fixing missing values.\n"
     ]
    },
    {
     "name": "stderr",
     "output_type": "stream",
     "text": [
      "2023-03-17 17:02:17 [    INFO] catalystcoop.pudl.transform.classes:1234 utility_plant_summary_ferc1: Normalizing freeform string columns.\n"
     ]
    },
    {
     "name": "stdout",
     "output_type": "stream",
     "text": [
      "utility_plant_summary_ferc1: Normalizing freeform string columns.\n"
     ]
    },
    {
     "name": "stderr",
     "output_type": "stream",
     "text": [
      "2023-03-17 17:02:17 [    INFO] catalystcoop.pudl.transform.classes:1258 utility_plant_summary_ferc1: Categorizing string columns using a controlled vocabulary.\n"
     ]
    },
    {
     "name": "stdout",
     "output_type": "stream",
     "text": [
      "utility_plant_summary_ferc1: Categorizing string columns using a controlled vocabulary.\n"
     ]
    },
    {
     "name": "stderr",
     "output_type": "stream",
     "text": [
      "2023-03-17 17:02:17 [    INFO] catalystcoop.pudl.transform.classes:1283 utility_plant_summary_ferc1: Converting units and renaming columns accordingly.\n"
     ]
    },
    {
     "name": "stdout",
     "output_type": "stream",
     "text": [
      "utility_plant_summary_ferc1: Converting units and renaming columns accordingly.\n"
     ]
    },
    {
     "name": "stderr",
     "output_type": "stream",
     "text": [
      "2023-03-17 17:02:17 [    INFO] catalystcoop.pudl.transform.classes:1245 utility_plant_summary_ferc1: Stripping non-numeric values from [].\n"
     ]
    },
    {
     "name": "stdout",
     "output_type": "stream",
     "text": [
      "utility_plant_summary_ferc1: Stripping non-numeric values from [].\n"
     ]
    },
    {
     "name": "stderr",
     "output_type": "stream",
     "text": [
      "2023-03-17 17:02:17 [    INFO] catalystcoop.pudl.transform.classes:1272 utility_plant_summary_ferc1: Nullifying outlying values.\n"
     ]
    },
    {
     "name": "stdout",
     "output_type": "stream",
     "text": [
      "utility_plant_summary_ferc1: Nullifying outlying values.\n"
     ]
    },
    {
     "name": "stderr",
     "output_type": "stream",
     "text": [
      "2023-03-17 17:02:17 [    INFO] catalystcoop.pudl.transform.classes:1325 utility_plant_summary_ferc1: Replacing specified values with NA.\n"
     ]
    },
    {
     "name": "stdout",
     "output_type": "stream",
     "text": [
      "utility_plant_summary_ferc1: Replacing specified values with NA.\n"
     ]
    },
    {
     "name": "stderr",
     "output_type": "stream",
     "text": [
      "2023-03-17 17:02:17 [    INFO] catalystcoop.pudl.transform.classes:1312 utility_plant_summary_ferc1: Dropping remaining invalid rows.\n"
     ]
    },
    {
     "name": "stdout",
     "output_type": "stream",
     "text": [
      "utility_plant_summary_ferc1: Dropping remaining invalid rows.\n"
     ]
    },
    {
     "name": "stderr",
     "output_type": "stream",
     "text": [
      "2023-03-17 17:02:17 [    INFO] catalystcoop.pudl.transform.classes:823 73.4% of records (36779 rows) contain only {'', nan, <NA>} values in required columns. Dropped these 💩💩💩 records.\n"
     ]
    },
    {
     "name": "stdout",
     "output_type": "stream",
     "text": [
      "73.4% of records (36779 rows) contain only {'', nan, <NA>} values in required columns. Dropped these 💩💩💩 records.\n"
     ]
    },
    {
     "name": "stderr",
     "output_type": "stream",
     "text": [
      "2023-03-17 17:02:17 [    INFO] catalystcoop.pudl.transform.ferc1:1039 utility_plant_summary_ferc1: Merging metadata\n"
     ]
    },
    {
     "name": "stdout",
     "output_type": "stream",
     "text": [
      "utility_plant_summary_ferc1: Merging metadata\n"
     ]
    },
    {
     "name": "stderr",
     "output_type": "stream",
     "text": [
      "2023-03-17 17:02:17 [    INFO] catalystcoop.pudl.transform.classes:1343 utility_plant_summary_ferc1: Enforcing database schema on dataframe.\n"
     ]
    },
    {
     "name": "stdout",
     "output_type": "stream",
     "text": [
      "utility_plant_summary_ferc1: Enforcing database schema on dataframe.\n"
     ]
    },
    {
     "name": "stderr",
     "output_type": "stream",
     "text": [
      "2023-03-17 17:02:17 [    INFO] catalystcoop.pudl.transform.ferc1:1079 transmission_statistics_ferc1: Processing DBF data pre-concatenation.\n"
     ]
    },
    {
     "name": "stdout",
     "output_type": "stream",
     "text": [
      "transmission_statistics_ferc1: Processing DBF data pre-concatenation.\n"
     ]
    },
    {
     "name": "stderr",
     "output_type": "stream",
     "text": [
      "2023-03-17 17:02:17 [    INFO] catalystcoop.pudl.transform.classes:1210 transmission_statistics_ferc1: Attempting to rename 23 columns.\n"
     ]
    },
    {
     "name": "stdout",
     "output_type": "stream",
     "text": [
      "transmission_statistics_ferc1: Attempting to rename 23 columns.\n"
     ]
    },
    {
     "name": "stderr",
     "output_type": "stream",
     "text": [
      "2023-03-17 17:02:17 [    INFO] catalystcoop.pudl.transform.ferc1:1100 transmission_statistics_ferc1: Processing XBRL data pre-concatenation.\n"
     ]
    },
    {
     "name": "stdout",
     "output_type": "stream",
     "text": [
      "transmission_statistics_ferc1: Processing XBRL data pre-concatenation.\n"
     ]
    },
    {
     "name": "stderr",
     "output_type": "stream",
     "text": [
      "2023-03-17 17:02:17 [    INFO] catalystcoop.pudl.transform.classes:1210 transmission_statistics_ferc1: Attempting to rename 0 columns.\n"
     ]
    },
    {
     "name": "stdout",
     "output_type": "stream",
     "text": [
      "transmission_statistics_ferc1: Attempting to rename 0 columns.\n"
     ]
    },
    {
     "name": "stderr",
     "output_type": "stream",
     "text": [
      "2023-03-17 17:02:17 [    INFO] catalystcoop.pudl.transform.ferc1:1154 transmission_statistics_ferc1: Unstacking balances to the report years.\n"
     ]
    },
    {
     "name": "stdout",
     "output_type": "stream",
     "text": [
      "transmission_statistics_ferc1: Unstacking balances to the report years.\n"
     ]
    },
    {
     "name": "stderr",
     "output_type": "stream",
     "text": [
      "2023-03-17 17:02:17 [    INFO] catalystcoop.pudl.transform.classes:1210 transmission_statistics_ferc1: Attempting to rename 0 columns.\n"
     ]
    },
    {
     "name": "stdout",
     "output_type": "stream",
     "text": [
      "transmission_statistics_ferc1: Attempting to rename 0 columns.\n"
     ]
    },
    {
     "name": "stderr",
     "output_type": "stream",
     "text": [
      "2023-03-17 17:02:17 [    INFO] catalystcoop.pudl.transform.ferc1:1381 transmission_statistics_ferc1: After selection of dates based on the report year, we have 100.0% of the original table.\n"
     ]
    },
    {
     "name": "stdout",
     "output_type": "stream",
     "text": [
      "transmission_statistics_ferc1: After selection of dates based on the report year, we have 100.0% of the original table.\n"
     ]
    },
    {
     "name": "stderr",
     "output_type": "stream",
     "text": [
      "2023-03-17 17:02:17 [    INFO] catalystcoop.pudl.transform.ferc1:1279 transmission_statistics_ferc1: No XBRL instant table found.\n"
     ]
    },
    {
     "name": "stdout",
     "output_type": "stream",
     "text": [
      "transmission_statistics_ferc1: No XBRL instant table found.\n"
     ]
    },
    {
     "name": "stderr",
     "output_type": "stream",
     "text": [
      "2023-03-17 17:02:17 [    INFO] catalystcoop.pudl.transform.classes:1210 transmission_statistics_ferc1: Attempting to rename 22 columns.\n"
     ]
    },
    {
     "name": "stdout",
     "output_type": "stream",
     "text": [
      "transmission_statistics_ferc1: Attempting to rename 22 columns.\n"
     ]
    },
    {
     "name": "stderr",
     "output_type": "stream",
     "text": [
      "2023-03-17 17:02:18 [    INFO] catalystcoop.pudl.transform.ferc1:916 transmission_statistics_ferc1: Concatenating DBF + XBRL dataframes.\n"
     ]
    },
    {
     "name": "stdout",
     "output_type": "stream",
     "text": [
      "transmission_statistics_ferc1: Concatenating DBF + XBRL dataframes.\n"
     ]
    },
    {
     "name": "stderr",
     "output_type": "stream",
     "text": [
      "2023-03-17 17:02:18 [    INFO] catalystcoop.pudl.transform.classes:1336 transmission_statistics_ferc1: Spot fixing missing values.\n"
     ]
    },
    {
     "name": "stdout",
     "output_type": "stream",
     "text": [
      "transmission_statistics_ferc1: Spot fixing missing values.\n"
     ]
    },
    {
     "name": "stderr",
     "output_type": "stream",
     "text": [
      "2023-03-17 17:02:18 [    INFO] catalystcoop.pudl.transform.classes:1234 transmission_statistics_ferc1: Normalizing freeform string columns.\n"
     ]
    },
    {
     "name": "stdout",
     "output_type": "stream",
     "text": [
      "transmission_statistics_ferc1: Normalizing freeform string columns.\n"
     ]
    },
    {
     "name": "stderr",
     "output_type": "stream",
     "text": [
      "2023-03-17 17:02:18 [    INFO] catalystcoop.pudl.transform.classes:1258 transmission_statistics_ferc1: Categorizing string columns using a controlled vocabulary.\n"
     ]
    },
    {
     "name": "stdout",
     "output_type": "stream",
     "text": [
      "transmission_statistics_ferc1: Categorizing string columns using a controlled vocabulary.\n"
     ]
    },
    {
     "name": "stderr",
     "output_type": "stream",
     "text": [
      "2023-03-17 17:02:18 [    INFO] catalystcoop.pudl.transform.classes:1283 transmission_statistics_ferc1: Converting units and renaming columns accordingly.\n"
     ]
    },
    {
     "name": "stdout",
     "output_type": "stream",
     "text": [
      "transmission_statistics_ferc1: Converting units and renaming columns accordingly.\n"
     ]
    },
    {
     "name": "stderr",
     "output_type": "stream",
     "text": [
      "2023-03-17 17:02:18 [    INFO] catalystcoop.pudl.transform.classes:1245 transmission_statistics_ferc1: Stripping non-numeric values from [].\n"
     ]
    },
    {
     "name": "stdout",
     "output_type": "stream",
     "text": [
      "transmission_statistics_ferc1: Stripping non-numeric values from [].\n"
     ]
    },
    {
     "name": "stderr",
     "output_type": "stream",
     "text": [
      "2023-03-17 17:02:18 [    INFO] catalystcoop.pudl.transform.classes:1272 transmission_statistics_ferc1: Nullifying outlying values.\n"
     ]
    },
    {
     "name": "stdout",
     "output_type": "stream",
     "text": [
      "transmission_statistics_ferc1: Nullifying outlying values.\n"
     ]
    },
    {
     "name": "stderr",
     "output_type": "stream",
     "text": [
      "2023-03-17 17:02:18 [    INFO] catalystcoop.pudl.transform.classes:1325 transmission_statistics_ferc1: Replacing specified values with NA.\n"
     ]
    },
    {
     "name": "stdout",
     "output_type": "stream",
     "text": [
      "transmission_statistics_ferc1: Replacing specified values with NA.\n"
     ]
    },
    {
     "name": "stderr",
     "output_type": "stream",
     "text": [
      "2023-03-17 17:02:18 [    INFO] catalystcoop.pudl.transform.classes:1312 transmission_statistics_ferc1: Dropping remaining invalid rows.\n"
     ]
    },
    {
     "name": "stdout",
     "output_type": "stream",
     "text": [
      "transmission_statistics_ferc1: Dropping remaining invalid rows.\n"
     ]
    },
    {
     "name": "stderr",
     "output_type": "stream",
     "text": [
      "2023-03-17 17:02:18 [    INFO] catalystcoop.pudl.transform.classes:823 0.5% of records (269 rows) contain only {'', None, 'None', nan, <NA>} values in required columns. Dropped these 💩💩💩 records.\n"
     ]
    },
    {
     "name": "stdout",
     "output_type": "stream",
     "text": [
      "0.5% of records (269 rows) contain only {'', None, 'None', nan, <NA>} values in required columns. Dropped these 💩💩💩 records.\n"
     ]
    },
    {
     "name": "stderr",
     "output_type": "stream",
     "text": [
      "2023-03-17 17:02:18 [    INFO] catalystcoop.pudl.transform.classes:1343 transmission_statistics_ferc1: Enforcing database schema on dataframe.\n"
     ]
    },
    {
     "name": "stdout",
     "output_type": "stream",
     "text": [
      "transmission_statistics_ferc1: Enforcing database schema on dataframe.\n"
     ]
    },
    {
     "name": "stderr",
     "output_type": "stream",
     "text": [
      "2023-03-17 17:02:18 [    INFO] catalystcoop.pudl.transform.ferc1:3506 Heyyyy dropping that one row\n"
     ]
    },
    {
     "name": "stdout",
     "output_type": "stream",
     "text": [
      "Heyyyy dropping that one row\n"
     ]
    },
    {
     "name": "stderr",
     "output_type": "stream",
     "text": [
      "2023-03-17 17:02:18 [    INFO] catalystcoop.pudl.transform.ferc1:1079 electric_operating_expenses_ferc1: Processing DBF data pre-concatenation.\n"
     ]
    },
    {
     "name": "stdout",
     "output_type": "stream",
     "text": [
      "electric_operating_expenses_ferc1: Processing DBF data pre-concatenation.\n"
     ]
    },
    {
     "name": "stderr",
     "output_type": "stream",
     "text": [
      "2023-03-17 17:02:18 [    INFO] catalystcoop.pudl.transform.ferc1:355 Aligning row numbers from DBF row to XBRL map for ['f1_elc_op_mnt_expn']\n"
     ]
    },
    {
     "name": "stdout",
     "output_type": "stream",
     "text": [
      "Aligning row numbers from DBF row to XBRL map for ['f1_elc_op_mnt_expn']\n"
     ]
    },
    {
     "name": "stderr",
     "output_type": "stream",
     "text": [
      "2023-03-17 17:02:18 [    INFO] catalystcoop.pudl.transform.classes:1210 electric_operating_expenses_ferc1: Attempting to rename 9 columns.\n"
     ]
    },
    {
     "name": "stdout",
     "output_type": "stream",
     "text": [
      "electric_operating_expenses_ferc1: Attempting to rename 9 columns.\n"
     ]
    },
    {
     "name": "stderr",
     "output_type": "stream",
     "text": [
      "2023-03-17 17:02:18 [    INFO] catalystcoop.pudl.transform.ferc1:1069 electric_operating_expenses_ferc1: Dropping rows where primary key and data columns are duplicated.\n"
     ]
    },
    {
     "name": "stdout",
     "output_type": "stream",
     "text": [
      "electric_operating_expenses_ferc1: Dropping rows where primary key and data columns are duplicated.\n"
     ]
    },
    {
     "name": "stderr",
     "output_type": "stream",
     "text": [
      "2023-03-17 17:02:18 [    INFO] catalystcoop.pudl.transform.ferc1:335 Dropped 0 duplicate records: 0.0% of total rows.\n"
     ]
    },
    {
     "name": "stdout",
     "output_type": "stream",
     "text": [
      "Dropped 0 duplicate records: 0.0% of total rows.\n"
     ]
    },
    {
     "name": "stderr",
     "output_type": "stream",
     "text": [
      "2023-03-17 17:02:18 [    INFO] catalystcoop.pudl.transform.ferc1:1100 electric_operating_expenses_ferc1: Processing XBRL data pre-concatenation.\n"
     ]
    },
    {
     "name": "stdout",
     "output_type": "stream",
     "text": [
      "electric_operating_expenses_ferc1: Processing XBRL data pre-concatenation.\n"
     ]
    },
    {
     "name": "stderr",
     "output_type": "stream",
     "text": [
      "2023-03-17 17:02:18 [    INFO] catalystcoop.pudl.transform.classes:1210 electric_operating_expenses_ferc1: Attempting to rename 0 columns.\n"
     ]
    },
    {
     "name": "stdout",
     "output_type": "stream",
     "text": [
      "electric_operating_expenses_ferc1: Attempting to rename 0 columns.\n"
     ]
    },
    {
     "name": "stderr",
     "output_type": "stream",
     "text": [
      "2023-03-17 17:02:18 [    INFO] catalystcoop.pudl.transform.ferc1:1154 electric_operating_expenses_ferc1: Unstacking balances to the report years.\n"
     ]
    },
    {
     "name": "stdout",
     "output_type": "stream",
     "text": [
      "electric_operating_expenses_ferc1: Unstacking balances to the report years.\n"
     ]
    },
    {
     "name": "stderr",
     "output_type": "stream",
     "text": [
      "2023-03-17 17:02:18 [    INFO] catalystcoop.pudl.transform.classes:1210 electric_operating_expenses_ferc1: Attempting to rename 171 columns.\n"
     ]
    },
    {
     "name": "stdout",
     "output_type": "stream",
     "text": [
      "electric_operating_expenses_ferc1: Attempting to rename 171 columns.\n"
     ]
    },
    {
     "name": "stderr",
     "output_type": "stream",
     "text": [
      "2023-03-17 17:02:18 [    INFO] catalystcoop.pudl.transform.ferc1:1381 electric_operating_expenses_ferc1: After selection of dates based on the report year, we have 50.5% of the original table.\n"
     ]
    },
    {
     "name": "stdout",
     "output_type": "stream",
     "text": [
      "electric_operating_expenses_ferc1: After selection of dates based on the report year, we have 50.5% of the original table.\n"
     ]
    },
    {
     "name": "stderr",
     "output_type": "stream",
     "text": [
      "2023-03-17 17:02:18 [    INFO] catalystcoop.pudl.transform.ferc1:1279 electric_operating_expenses_ferc1: No XBRL instant table found.\n"
     ]
    },
    {
     "name": "stdout",
     "output_type": "stream",
     "text": [
      "electric_operating_expenses_ferc1: No XBRL instant table found.\n"
     ]
    },
    {
     "name": "stderr",
     "output_type": "stream",
     "text": [
      "2023-03-17 17:02:18 [    INFO] catalystcoop.pudl.transform.ferc1:1198 electric_operating_expenses_ferc1: applying wide_to_tidy for xbrl\n"
     ]
    },
    {
     "name": "stdout",
     "output_type": "stream",
     "text": [
      "electric_operating_expenses_ferc1: applying wide_to_tidy for xbrl\n"
     ]
    },
    {
     "name": "stderr",
     "output_type": "stream",
     "text": [
      "2023-03-17 17:02:18 [    INFO] catalystcoop.pudl.transform.classes:1210 electric_operating_expenses_ferc1: Attempting to rename 3 columns.\n"
     ]
    },
    {
     "name": "stdout",
     "output_type": "stream",
     "text": [
      "electric_operating_expenses_ferc1: Attempting to rename 3 columns.\n"
     ]
    },
    {
     "name": "stderr",
     "output_type": "stream",
     "text": [
      "2023-03-17 17:02:18 [    INFO] catalystcoop.pudl.transform.ferc1:916 electric_operating_expenses_ferc1: Concatenating DBF + XBRL dataframes.\n"
     ]
    },
    {
     "name": "stdout",
     "output_type": "stream",
     "text": [
      "electric_operating_expenses_ferc1: Concatenating DBF + XBRL dataframes.\n"
     ]
    },
    {
     "name": "stderr",
     "output_type": "stream",
     "text": [
      "2023-03-17 17:02:18 [    INFO] catalystcoop.pudl.transform.classes:1336 electric_operating_expenses_ferc1: Spot fixing missing values.\n"
     ]
    },
    {
     "name": "stdout",
     "output_type": "stream",
     "text": [
      "electric_operating_expenses_ferc1: Spot fixing missing values.\n"
     ]
    },
    {
     "name": "stderr",
     "output_type": "stream",
     "text": [
      "2023-03-17 17:02:18 [    INFO] catalystcoop.pudl.transform.classes:1234 electric_operating_expenses_ferc1: Normalizing freeform string columns.\n"
     ]
    },
    {
     "name": "stdout",
     "output_type": "stream",
     "text": [
      "electric_operating_expenses_ferc1: Normalizing freeform string columns.\n"
     ]
    },
    {
     "name": "stderr",
     "output_type": "stream",
     "text": [
      "2023-03-17 17:02:18 [    INFO] catalystcoop.pudl.transform.classes:1258 electric_operating_expenses_ferc1: Categorizing string columns using a controlled vocabulary.\n"
     ]
    },
    {
     "name": "stdout",
     "output_type": "stream",
     "text": [
      "electric_operating_expenses_ferc1: Categorizing string columns using a controlled vocabulary.\n"
     ]
    },
    {
     "name": "stderr",
     "output_type": "stream",
     "text": [
      "2023-03-17 17:02:18 [    INFO] catalystcoop.pudl.transform.classes:1283 electric_operating_expenses_ferc1: Converting units and renaming columns accordingly.\n"
     ]
    },
    {
     "name": "stdout",
     "output_type": "stream",
     "text": [
      "electric_operating_expenses_ferc1: Converting units and renaming columns accordingly.\n"
     ]
    },
    {
     "name": "stderr",
     "output_type": "stream",
     "text": [
      "2023-03-17 17:02:18 [    INFO] catalystcoop.pudl.transform.classes:1245 electric_operating_expenses_ferc1: Stripping non-numeric values from [].\n"
     ]
    },
    {
     "name": "stdout",
     "output_type": "stream",
     "text": [
      "electric_operating_expenses_ferc1: Stripping non-numeric values from [].\n"
     ]
    },
    {
     "name": "stderr",
     "output_type": "stream",
     "text": [
      "2023-03-17 17:02:18 [    INFO] catalystcoop.pudl.transform.classes:1272 electric_operating_expenses_ferc1: Nullifying outlying values.\n"
     ]
    },
    {
     "name": "stdout",
     "output_type": "stream",
     "text": [
      "electric_operating_expenses_ferc1: Nullifying outlying values.\n"
     ]
    },
    {
     "name": "stderr",
     "output_type": "stream",
     "text": [
      "2023-03-17 17:02:18 [    INFO] catalystcoop.pudl.transform.classes:1325 electric_operating_expenses_ferc1: Replacing specified values with NA.\n"
     ]
    },
    {
     "name": "stdout",
     "output_type": "stream",
     "text": [
      "electric_operating_expenses_ferc1: Replacing specified values with NA.\n"
     ]
    },
    {
     "name": "stderr",
     "output_type": "stream",
     "text": [
      "2023-03-17 17:02:18 [    INFO] catalystcoop.pudl.transform.classes:1312 electric_operating_expenses_ferc1: Dropping remaining invalid rows.\n"
     ]
    },
    {
     "name": "stdout",
     "output_type": "stream",
     "text": [
      "electric_operating_expenses_ferc1: Dropping remaining invalid rows.\n"
     ]
    },
    {
     "name": "stderr",
     "output_type": "stream",
     "text": [
      "2023-03-17 17:02:18 [    INFO] catalystcoop.pudl.transform.ferc1:1039 electric_operating_expenses_ferc1: Merging metadata\n"
     ]
    },
    {
     "name": "stdout",
     "output_type": "stream",
     "text": [
      "electric_operating_expenses_ferc1: Merging metadata\n"
     ]
    },
    {
     "name": "stderr",
     "output_type": "stream",
     "text": [
      "2023-03-17 17:02:18 [    INFO] catalystcoop.pudl.transform.classes:1343 electric_operating_expenses_ferc1: Enforcing database schema on dataframe.\n"
     ]
    },
    {
     "name": "stdout",
     "output_type": "stream",
     "text": [
      "electric_operating_expenses_ferc1: Enforcing database schema on dataframe.\n"
     ]
    },
    {
     "name": "stderr",
     "output_type": "stream",
     "text": [
      "2023-03-17 17:02:19 [    INFO] catalystcoop.pudl.transform.ferc1:1079 balance_sheet_liabilities_ferc1: Processing DBF data pre-concatenation.\n"
     ]
    },
    {
     "name": "stdout",
     "output_type": "stream",
     "text": [
      "balance_sheet_liabilities_ferc1: Processing DBF data pre-concatenation.\n"
     ]
    },
    {
     "name": "stderr",
     "output_type": "stream",
     "text": [
      "2023-03-17 17:02:19 [    INFO] catalystcoop.pudl.transform.ferc1:1142 balance_sheet_liabilities_ferc1: After selection only annual records, we have 25.5% of the original table.\n"
     ]
    },
    {
     "name": "stdout",
     "output_type": "stream",
     "text": [
      "balance_sheet_liabilities_ferc1: After selection only annual records, we have 25.5% of the original table.\n"
     ]
    },
    {
     "name": "stderr",
     "output_type": "stream",
     "text": [
      "2023-03-17 17:02:19 [    INFO] catalystcoop.pudl.transform.ferc1:355 Aligning row numbers from DBF row to XBRL map for ['f1_bal_sheet_cr']\n"
     ]
    },
    {
     "name": "stdout",
     "output_type": "stream",
     "text": [
      "Aligning row numbers from DBF row to XBRL map for ['f1_bal_sheet_cr']\n"
     ]
    },
    {
     "name": "stderr",
     "output_type": "stream",
     "text": [
      "2023-03-17 17:02:19 [    INFO] catalystcoop.pudl.transform.classes:1210 balance_sheet_liabilities_ferc1: Attempting to rename 12 columns.\n"
     ]
    },
    {
     "name": "stdout",
     "output_type": "stream",
     "text": [
      "balance_sheet_liabilities_ferc1: Attempting to rename 12 columns.\n"
     ]
    },
    {
     "name": "stderr",
     "output_type": "stream",
     "text": [
      "2023-03-17 17:02:19 [    INFO] catalystcoop.pudl.transform.ferc1:1069 balance_sheet_liabilities_ferc1: Dropping rows where primary key and data columns are duplicated.\n"
     ]
    },
    {
     "name": "stdout",
     "output_type": "stream",
     "text": [
      "balance_sheet_liabilities_ferc1: Dropping rows where primary key and data columns are duplicated.\n"
     ]
    },
    {
     "name": "stderr",
     "output_type": "stream",
     "text": [
      "2023-03-17 17:02:19 [    INFO] catalystcoop.pudl.transform.ferc1:335 Dropped 57 duplicate records: 0.9% of total rows.\n"
     ]
    },
    {
     "name": "stdout",
     "output_type": "stream",
     "text": [
      "Dropped 57 duplicate records: 0.9% of total rows.\n"
     ]
    },
    {
     "name": "stderr",
     "output_type": "stream",
     "text": [
      "2023-03-17 17:02:19 [    INFO] catalystcoop.pudl.transform.ferc1:1100 balance_sheet_liabilities_ferc1: Processing XBRL data pre-concatenation.\n"
     ]
    },
    {
     "name": "stdout",
     "output_type": "stream",
     "text": [
      "balance_sheet_liabilities_ferc1: Processing XBRL data pre-concatenation.\n"
     ]
    },
    {
     "name": "stderr",
     "output_type": "stream",
     "text": [
      "2023-03-17 17:02:19 [    INFO] catalystcoop.pudl.transform.classes:1210 balance_sheet_liabilities_ferc1: Attempting to rename 0 columns.\n"
     ]
    },
    {
     "name": "stdout",
     "output_type": "stream",
     "text": [
      "balance_sheet_liabilities_ferc1: Attempting to rename 0 columns.\n"
     ]
    },
    {
     "name": "stderr",
     "output_type": "stream",
     "text": [
      "2023-03-17 17:02:19 [    INFO] catalystcoop.pudl.transform.ferc1:1154 balance_sheet_liabilities_ferc1: Unstacking balances to the report years.\n"
     ]
    },
    {
     "name": "stdout",
     "output_type": "stream",
     "text": [
      "balance_sheet_liabilities_ferc1: Unstacking balances to the report years.\n"
     ]
    },
    {
     "name": "stderr",
     "output_type": "stream",
     "text": [
      "2023-03-17 17:02:19 [ WARNING] catalystcoop.pudl.transform.ferc1:527 Dropping unexpected years: [2019]\n"
     ]
    },
    {
     "name": "stdout",
     "output_type": "stream",
     "text": [
      "Dropping unexpected years: [2019]\n"
     ]
    },
    {
     "name": "stderr",
     "output_type": "stream",
     "text": [
      "2023-03-17 17:02:19 [    INFO] catalystcoop.pudl.transform.ferc1:1282 balance_sheet_liabilities_ferc1: No XBRL duration table found.\n"
     ]
    },
    {
     "name": "stdout",
     "output_type": "stream",
     "text": [
      "balance_sheet_liabilities_ferc1: No XBRL duration table found.\n"
     ]
    },
    {
     "name": "stderr",
     "output_type": "stream",
     "text": [
      "2023-03-17 17:02:19 [    INFO] catalystcoop.pudl.transform.ferc1:1198 balance_sheet_liabilities_ferc1: applying wide_to_tidy for xbrl\n"
     ]
    },
    {
     "name": "stdout",
     "output_type": "stream",
     "text": [
      "balance_sheet_liabilities_ferc1: applying wide_to_tidy for xbrl\n"
     ]
    },
    {
     "name": "stderr",
     "output_type": "stream",
     "text": [
      "2023-03-17 17:02:19 [    INFO] catalystcoop.pudl.transform.classes:1210 balance_sheet_liabilities_ferc1: Attempting to rename 3 columns.\n"
     ]
    },
    {
     "name": "stdout",
     "output_type": "stream",
     "text": [
      "balance_sheet_liabilities_ferc1: Attempting to rename 3 columns.\n"
     ]
    },
    {
     "name": "stderr",
     "output_type": "stream",
     "text": [
      "2023-03-17 17:02:19 [    INFO] catalystcoop.pudl.transform.ferc1:916 balance_sheet_liabilities_ferc1: Concatenating DBF + XBRL dataframes.\n"
     ]
    },
    {
     "name": "stdout",
     "output_type": "stream",
     "text": [
      "balance_sheet_liabilities_ferc1: Concatenating DBF + XBRL dataframes.\n"
     ]
    },
    {
     "name": "stderr",
     "output_type": "stream",
     "text": [
      "2023-03-17 17:02:19 [    INFO] catalystcoop.pudl.transform.classes:1336 balance_sheet_liabilities_ferc1: Spot fixing missing values.\n"
     ]
    },
    {
     "name": "stdout",
     "output_type": "stream",
     "text": [
      "balance_sheet_liabilities_ferc1: Spot fixing missing values.\n"
     ]
    },
    {
     "name": "stderr",
     "output_type": "stream",
     "text": [
      "2023-03-17 17:02:19 [    INFO] catalystcoop.pudl.transform.classes:1234 balance_sheet_liabilities_ferc1: Normalizing freeform string columns.\n"
     ]
    },
    {
     "name": "stdout",
     "output_type": "stream",
     "text": [
      "balance_sheet_liabilities_ferc1: Normalizing freeform string columns.\n"
     ]
    },
    {
     "name": "stderr",
     "output_type": "stream",
     "text": [
      "2023-03-17 17:02:19 [    INFO] catalystcoop.pudl.transform.classes:1258 balance_sheet_liabilities_ferc1: Categorizing string columns using a controlled vocabulary.\n"
     ]
    },
    {
     "name": "stdout",
     "output_type": "stream",
     "text": [
      "balance_sheet_liabilities_ferc1: Categorizing string columns using a controlled vocabulary.\n"
     ]
    },
    {
     "name": "stderr",
     "output_type": "stream",
     "text": [
      "2023-03-17 17:02:19 [    INFO] catalystcoop.pudl.transform.classes:1283 balance_sheet_liabilities_ferc1: Converting units and renaming columns accordingly.\n"
     ]
    },
    {
     "name": "stdout",
     "output_type": "stream",
     "text": [
      "balance_sheet_liabilities_ferc1: Converting units and renaming columns accordingly.\n"
     ]
    },
    {
     "name": "stderr",
     "output_type": "stream",
     "text": [
      "2023-03-17 17:02:19 [    INFO] catalystcoop.pudl.transform.classes:1245 balance_sheet_liabilities_ferc1: Stripping non-numeric values from [].\n"
     ]
    },
    {
     "name": "stdout",
     "output_type": "stream",
     "text": [
      "balance_sheet_liabilities_ferc1: Stripping non-numeric values from [].\n"
     ]
    },
    {
     "name": "stderr",
     "output_type": "stream",
     "text": [
      "2023-03-17 17:02:19 [    INFO] catalystcoop.pudl.transform.classes:1272 balance_sheet_liabilities_ferc1: Nullifying outlying values.\n"
     ]
    },
    {
     "name": "stdout",
     "output_type": "stream",
     "text": [
      "balance_sheet_liabilities_ferc1: Nullifying outlying values.\n"
     ]
    },
    {
     "name": "stderr",
     "output_type": "stream",
     "text": [
      "2023-03-17 17:02:19 [    INFO] catalystcoop.pudl.transform.classes:1325 balance_sheet_liabilities_ferc1: Replacing specified values with NA.\n"
     ]
    },
    {
     "name": "stdout",
     "output_type": "stream",
     "text": [
      "balance_sheet_liabilities_ferc1: Replacing specified values with NA.\n"
     ]
    },
    {
     "name": "stderr",
     "output_type": "stream",
     "text": [
      "2023-03-17 17:02:19 [    INFO] catalystcoop.pudl.transform.classes:1312 balance_sheet_liabilities_ferc1: Dropping remaining invalid rows.\n"
     ]
    },
    {
     "name": "stdout",
     "output_type": "stream",
     "text": [
      "balance_sheet_liabilities_ferc1: Dropping remaining invalid rows.\n"
     ]
    },
    {
     "name": "stderr",
     "output_type": "stream",
     "text": [
      "2023-03-17 17:02:19 [    INFO] catalystcoop.pudl.transform.ferc1:1039 balance_sheet_liabilities_ferc1: Merging metadata\n"
     ]
    },
    {
     "name": "stdout",
     "output_type": "stream",
     "text": [
      "balance_sheet_liabilities_ferc1: Merging metadata\n"
     ]
    },
    {
     "name": "stderr",
     "output_type": "stream",
     "text": [
      "2023-03-17 17:02:19 [    INFO] catalystcoop.pudl.transform.classes:1343 balance_sheet_liabilities_ferc1: Enforcing database schema on dataframe.\n"
     ]
    },
    {
     "name": "stdout",
     "output_type": "stream",
     "text": [
      "balance_sheet_liabilities_ferc1: Enforcing database schema on dataframe.\n"
     ]
    },
    {
     "name": "stderr",
     "output_type": "stream",
     "text": [
      "2023-03-17 17:02:19 [    INFO] catalystcoop.pudl.transform.ferc1:1079 balance_sheet_assets_ferc1: Processing DBF data pre-concatenation.\n"
     ]
    },
    {
     "name": "stdout",
     "output_type": "stream",
     "text": [
      "balance_sheet_assets_ferc1: Processing DBF data pre-concatenation.\n"
     ]
    },
    {
     "name": "stderr",
     "output_type": "stream",
     "text": [
      "2023-03-17 17:02:19 [    INFO] catalystcoop.pudl.transform.ferc1:1142 balance_sheet_assets_ferc1: After selection only annual records, we have 25.4% of the original table.\n"
     ]
    },
    {
     "name": "stdout",
     "output_type": "stream",
     "text": [
      "balance_sheet_assets_ferc1: After selection only annual records, we have 25.4% of the original table.\n"
     ]
    },
    {
     "name": "stderr",
     "output_type": "stream",
     "text": [
      "2023-03-17 17:02:19 [    INFO] catalystcoop.pudl.transform.ferc1:355 Aligning row numbers from DBF row to XBRL map for ['f1_comp_balance_db']\n"
     ]
    },
    {
     "name": "stdout",
     "output_type": "stream",
     "text": [
      "Aligning row numbers from DBF row to XBRL map for ['f1_comp_balance_db']\n"
     ]
    },
    {
     "name": "stderr",
     "output_type": "stream",
     "text": [
      "2023-03-17 17:02:19 [    INFO] catalystcoop.pudl.transform.classes:1210 balance_sheet_assets_ferc1: Attempting to rename 10 columns.\n"
     ]
    },
    {
     "name": "stdout",
     "output_type": "stream",
     "text": [
      "balance_sheet_assets_ferc1: Attempting to rename 10 columns.\n"
     ]
    },
    {
     "name": "stderr",
     "output_type": "stream",
     "text": [
      "2023-03-17 17:02:19 [    INFO] catalystcoop.pudl.transform.ferc1:1069 balance_sheet_assets_ferc1: Dropping rows where primary key and data columns are duplicated.\n"
     ]
    },
    {
     "name": "stdout",
     "output_type": "stream",
     "text": [
      "balance_sheet_assets_ferc1: Dropping rows where primary key and data columns are duplicated.\n"
     ]
    },
    {
     "name": "stderr",
     "output_type": "stream",
     "text": [
      "2023-03-17 17:02:19 [    INFO] catalystcoop.pudl.transform.ferc1:335 Dropped 54 duplicate records: 0.8% of total rows.\n"
     ]
    },
    {
     "name": "stdout",
     "output_type": "stream",
     "text": [
      "Dropped 54 duplicate records: 0.8% of total rows.\n"
     ]
    },
    {
     "name": "stderr",
     "output_type": "stream",
     "text": [
      "2023-03-17 17:02:19 [    INFO] catalystcoop.pudl.transform.ferc1:1100 balance_sheet_assets_ferc1: Processing XBRL data pre-concatenation.\n"
     ]
    },
    {
     "name": "stdout",
     "output_type": "stream",
     "text": [
      "balance_sheet_assets_ferc1: Processing XBRL data pre-concatenation.\n"
     ]
    },
    {
     "name": "stderr",
     "output_type": "stream",
     "text": [
      "2023-03-17 17:02:19 [    INFO] catalystcoop.pudl.transform.classes:1210 balance_sheet_assets_ferc1: Attempting to rename 0 columns.\n"
     ]
    },
    {
     "name": "stdout",
     "output_type": "stream",
     "text": [
      "balance_sheet_assets_ferc1: Attempting to rename 0 columns.\n"
     ]
    },
    {
     "name": "stderr",
     "output_type": "stream",
     "text": [
      "2023-03-17 17:02:19 [    INFO] catalystcoop.pudl.transform.ferc1:1154 balance_sheet_assets_ferc1: Unstacking balances to the report years.\n"
     ]
    },
    {
     "name": "stdout",
     "output_type": "stream",
     "text": [
      "balance_sheet_assets_ferc1: Unstacking balances to the report years.\n"
     ]
    },
    {
     "name": "stderr",
     "output_type": "stream",
     "text": [
      "2023-03-17 17:02:19 [    INFO] catalystcoop.pudl.transform.ferc1:1282 balance_sheet_assets_ferc1: No XBRL duration table found.\n"
     ]
    },
    {
     "name": "stdout",
     "output_type": "stream",
     "text": [
      "balance_sheet_assets_ferc1: No XBRL duration table found.\n"
     ]
    },
    {
     "name": "stderr",
     "output_type": "stream",
     "text": [
      "2023-03-17 17:02:19 [    INFO] catalystcoop.pudl.transform.ferc1:1198 balance_sheet_assets_ferc1: applying wide_to_tidy for xbrl\n"
     ]
    },
    {
     "name": "stdout",
     "output_type": "stream",
     "text": [
      "balance_sheet_assets_ferc1: applying wide_to_tidy for xbrl\n"
     ]
    },
    {
     "name": "stderr",
     "output_type": "stream",
     "text": [
      "2023-03-17 17:02:19 [    INFO] catalystcoop.pudl.transform.classes:1210 balance_sheet_assets_ferc1: Attempting to rename 3 columns.\n"
     ]
    },
    {
     "name": "stdout",
     "output_type": "stream",
     "text": [
      "balance_sheet_assets_ferc1: Attempting to rename 3 columns.\n"
     ]
    },
    {
     "name": "stderr",
     "output_type": "stream",
     "text": [
      "2023-03-17 17:02:19 [    INFO] catalystcoop.pudl.transform.ferc1:916 balance_sheet_assets_ferc1: Concatenating DBF + XBRL dataframes.\n"
     ]
    },
    {
     "name": "stdout",
     "output_type": "stream",
     "text": [
      "balance_sheet_assets_ferc1: Concatenating DBF + XBRL dataframes.\n"
     ]
    },
    {
     "name": "stderr",
     "output_type": "stream",
     "text": [
      "2023-03-17 17:02:19 [    INFO] catalystcoop.pudl.transform.classes:1336 balance_sheet_assets_ferc1: Spot fixing missing values.\n"
     ]
    },
    {
     "name": "stdout",
     "output_type": "stream",
     "text": [
      "balance_sheet_assets_ferc1: Spot fixing missing values.\n"
     ]
    },
    {
     "name": "stderr",
     "output_type": "stream",
     "text": [
      "2023-03-17 17:02:19 [    INFO] catalystcoop.pudl.transform.classes:1234 balance_sheet_assets_ferc1: Normalizing freeform string columns.\n"
     ]
    },
    {
     "name": "stdout",
     "output_type": "stream",
     "text": [
      "balance_sheet_assets_ferc1: Normalizing freeform string columns.\n"
     ]
    },
    {
     "name": "stderr",
     "output_type": "stream",
     "text": [
      "2023-03-17 17:02:19 [    INFO] catalystcoop.pudl.transform.classes:1258 balance_sheet_assets_ferc1: Categorizing string columns using a controlled vocabulary.\n"
     ]
    },
    {
     "name": "stdout",
     "output_type": "stream",
     "text": [
      "balance_sheet_assets_ferc1: Categorizing string columns using a controlled vocabulary.\n"
     ]
    },
    {
     "name": "stderr",
     "output_type": "stream",
     "text": [
      "2023-03-17 17:02:19 [    INFO] catalystcoop.pudl.transform.classes:1283 balance_sheet_assets_ferc1: Converting units and renaming columns accordingly.\n"
     ]
    },
    {
     "name": "stdout",
     "output_type": "stream",
     "text": [
      "balance_sheet_assets_ferc1: Converting units and renaming columns accordingly.\n"
     ]
    },
    {
     "name": "stderr",
     "output_type": "stream",
     "text": [
      "2023-03-17 17:02:19 [    INFO] catalystcoop.pudl.transform.classes:1245 balance_sheet_assets_ferc1: Stripping non-numeric values from [].\n"
     ]
    },
    {
     "name": "stdout",
     "output_type": "stream",
     "text": [
      "balance_sheet_assets_ferc1: Stripping non-numeric values from [].\n"
     ]
    },
    {
     "name": "stderr",
     "output_type": "stream",
     "text": [
      "2023-03-17 17:02:19 [    INFO] catalystcoop.pudl.transform.classes:1272 balance_sheet_assets_ferc1: Nullifying outlying values.\n"
     ]
    },
    {
     "name": "stdout",
     "output_type": "stream",
     "text": [
      "balance_sheet_assets_ferc1: Nullifying outlying values.\n"
     ]
    },
    {
     "name": "stderr",
     "output_type": "stream",
     "text": [
      "2023-03-17 17:02:19 [    INFO] catalystcoop.pudl.transform.classes:1325 balance_sheet_assets_ferc1: Replacing specified values with NA.\n"
     ]
    },
    {
     "name": "stdout",
     "output_type": "stream",
     "text": [
      "balance_sheet_assets_ferc1: Replacing specified values with NA.\n"
     ]
    },
    {
     "name": "stderr",
     "output_type": "stream",
     "text": [
      "2023-03-17 17:02:19 [    INFO] catalystcoop.pudl.transform.classes:1312 balance_sheet_assets_ferc1: Dropping remaining invalid rows.\n"
     ]
    },
    {
     "name": "stdout",
     "output_type": "stream",
     "text": [
      "balance_sheet_assets_ferc1: Dropping remaining invalid rows.\n"
     ]
    },
    {
     "name": "stderr",
     "output_type": "stream",
     "text": [
      "2023-03-17 17:02:19 [    INFO] catalystcoop.pudl.transform.ferc1:1039 balance_sheet_assets_ferc1: Merging metadata\n"
     ]
    },
    {
     "name": "stdout",
     "output_type": "stream",
     "text": [
      "balance_sheet_assets_ferc1: Merging metadata\n"
     ]
    },
    {
     "name": "stderr",
     "output_type": "stream",
     "text": [
      "2023-03-17 17:02:19 [    INFO] catalystcoop.pudl.transform.classes:1343 balance_sheet_assets_ferc1: Enforcing database schema on dataframe.\n"
     ]
    },
    {
     "name": "stdout",
     "output_type": "stream",
     "text": [
      "balance_sheet_assets_ferc1: Enforcing database schema on dataframe.\n"
     ]
    },
    {
     "name": "stderr",
     "output_type": "stream",
     "text": [
      "2023-03-17 17:02:19 [    INFO] catalystcoop.pudl.transform.ferc1:3146 Dropped 0 records (0.0% oftotal) records from 2003 from the f1_incm_stmnt_2 DBF table that have known incorrect row numbers.\n"
     ]
    },
    {
     "name": "stdout",
     "output_type": "stream",
     "text": [
      "Dropped 0 records (0.0% oftotal) records from 2003 from the f1_incm_stmnt_2 DBF table that have known incorrect row numbers.\n"
     ]
    },
    {
     "name": "stderr",
     "output_type": "stream",
     "text": [
      "2023-03-17 17:02:19 [    INFO] catalystcoop.pudl.transform.ferc1:1079 income_statement_ferc1: Processing DBF data pre-concatenation.\n"
     ]
    },
    {
     "name": "stdout",
     "output_type": "stream",
     "text": [
      "income_statement_ferc1: Processing DBF data pre-concatenation.\n"
     ]
    },
    {
     "name": "stderr",
     "output_type": "stream",
     "text": [
      "2023-03-17 17:02:19 [    INFO] catalystcoop.pudl.transform.ferc1:1142 income_statement_ferc1: After selection only annual records, we have 26.0% of the original table.\n"
     ]
    },
    {
     "name": "stdout",
     "output_type": "stream",
     "text": [
      "income_statement_ferc1: After selection only annual records, we have 26.0% of the original table.\n"
     ]
    },
    {
     "name": "stderr",
     "output_type": "stream",
     "text": [
      "2023-03-17 17:02:19 [    INFO] catalystcoop.pudl.transform.ferc1:355 Aligning row numbers from DBF row to XBRL map for ['f1_income_stmnt', 'f1_incm_stmnt_2']\n"
     ]
    },
    {
     "name": "stdout",
     "output_type": "stream",
     "text": [
      "Aligning row numbers from DBF row to XBRL map for ['f1_income_stmnt', 'f1_incm_stmnt_2']\n"
     ]
    },
    {
     "name": "stderr",
     "output_type": "stream",
     "text": [
      "2023-03-17 17:02:20 [    INFO] catalystcoop.pudl.transform.classes:1210 income_statement_ferc1: Attempting to rename 16 columns.\n"
     ]
    },
    {
     "name": "stdout",
     "output_type": "stream",
     "text": [
      "income_statement_ferc1: Attempting to rename 16 columns.\n"
     ]
    },
    {
     "name": "stderr",
     "output_type": "stream",
     "text": [
      "2023-03-17 17:02:20 [    INFO] catalystcoop.pudl.transform.ferc1:1198 income_statement_ferc1: applying wide_to_tidy for dbf\n"
     ]
    },
    {
     "name": "stdout",
     "output_type": "stream",
     "text": [
      "income_statement_ferc1: applying wide_to_tidy for dbf\n"
     ]
    },
    {
     "name": "stderr",
     "output_type": "stream",
     "text": [
      "2023-03-17 17:02:20 [    INFO] catalystcoop.pudl.transform.ferc1:1069 income_statement_ferc1: Dropping rows where primary key and data columns are duplicated.\n"
     ]
    },
    {
     "name": "stdout",
     "output_type": "stream",
     "text": [
      "income_statement_ferc1: Dropping rows where primary key and data columns are duplicated.\n"
     ]
    },
    {
     "name": "stderr",
     "output_type": "stream",
     "text": [
      "2023-03-17 17:02:20 [    INFO] catalystcoop.pudl.transform.ferc1:335 Dropped 1760 duplicate records: 2.6% of total rows.\n"
     ]
    },
    {
     "name": "stdout",
     "output_type": "stream",
     "text": [
      "Dropped 1760 duplicate records: 2.6% of total rows.\n"
     ]
    },
    {
     "name": "stderr",
     "output_type": "stream",
     "text": [
      "2023-03-17 17:02:20 [    INFO] catalystcoop.pudl.transform.ferc1:1100 income_statement_ferc1: Processing XBRL data pre-concatenation.\n"
     ]
    },
    {
     "name": "stdout",
     "output_type": "stream",
     "text": [
      "income_statement_ferc1: Processing XBRL data pre-concatenation.\n"
     ]
    },
    {
     "name": "stderr",
     "output_type": "stream",
     "text": [
      "2023-03-17 17:02:20 [    INFO] catalystcoop.pudl.transform.classes:1210 income_statement_ferc1: Attempting to rename 0 columns.\n"
     ]
    },
    {
     "name": "stdout",
     "output_type": "stream",
     "text": [
      "income_statement_ferc1: Attempting to rename 0 columns.\n"
     ]
    },
    {
     "name": "stderr",
     "output_type": "stream",
     "text": [
      "2023-03-17 17:02:20 [    INFO] catalystcoop.pudl.transform.ferc1:1154 income_statement_ferc1: Unstacking balances to the report years.\n"
     ]
    },
    {
     "name": "stdout",
     "output_type": "stream",
     "text": [
      "income_statement_ferc1: Unstacking balances to the report years.\n"
     ]
    },
    {
     "name": "stderr",
     "output_type": "stream",
     "text": [
      "2023-03-17 17:02:20 [    INFO] catalystcoop.pudl.transform.classes:1210 income_statement_ferc1: Attempting to rename 68 columns.\n"
     ]
    },
    {
     "name": "stdout",
     "output_type": "stream",
     "text": [
      "income_statement_ferc1: Attempting to rename 68 columns.\n"
     ]
    },
    {
     "name": "stderr",
     "output_type": "stream",
     "text": [
      "2023-03-17 17:02:20 [    INFO] catalystcoop.pudl.transform.ferc1:1381 income_statement_ferc1: After selection of dates based on the report year, we have 51.0% of the original table.\n"
     ]
    },
    {
     "name": "stdout",
     "output_type": "stream",
     "text": [
      "income_statement_ferc1: After selection of dates based on the report year, we have 51.0% of the original table.\n"
     ]
    },
    {
     "name": "stderr",
     "output_type": "stream",
     "text": [
      "2023-03-17 17:02:20 [    INFO] catalystcoop.pudl.transform.ferc1:1279 income_statement_ferc1: No XBRL instant table found.\n"
     ]
    },
    {
     "name": "stdout",
     "output_type": "stream",
     "text": [
      "income_statement_ferc1: No XBRL instant table found.\n"
     ]
    },
    {
     "name": "stderr",
     "output_type": "stream",
     "text": [
      "2023-03-17 17:02:20 [    INFO] catalystcoop.pudl.transform.ferc1:1198 income_statement_ferc1: applying wide_to_tidy for xbrl\n"
     ]
    },
    {
     "name": "stdout",
     "output_type": "stream",
     "text": [
      "income_statement_ferc1: applying wide_to_tidy for xbrl\n"
     ]
    },
    {
     "name": "stderr",
     "output_type": "stream",
     "text": [
      "2023-03-17 17:02:20 [    INFO] catalystcoop.pudl.transform.classes:1210 income_statement_ferc1: Attempting to rename 4 columns.\n"
     ]
    },
    {
     "name": "stdout",
     "output_type": "stream",
     "text": [
      "income_statement_ferc1: Attempting to rename 4 columns.\n"
     ]
    },
    {
     "name": "stderr",
     "output_type": "stream",
     "text": [
      "2023-03-17 17:02:20 [    INFO] catalystcoop.pudl.transform.ferc1:916 income_statement_ferc1: Concatenating DBF + XBRL dataframes.\n"
     ]
    },
    {
     "name": "stdout",
     "output_type": "stream",
     "text": [
      "income_statement_ferc1: Concatenating DBF + XBRL dataframes.\n"
     ]
    },
    {
     "name": "stderr",
     "output_type": "stream",
     "text": [
      "2023-03-17 17:02:20 [    INFO] catalystcoop.pudl.transform.classes:1336 income_statement_ferc1: Spot fixing missing values.\n"
     ]
    },
    {
     "name": "stdout",
     "output_type": "stream",
     "text": [
      "income_statement_ferc1: Spot fixing missing values.\n"
     ]
    },
    {
     "name": "stderr",
     "output_type": "stream",
     "text": [
      "2023-03-17 17:02:20 [    INFO] catalystcoop.pudl.transform.classes:1234 income_statement_ferc1: Normalizing freeform string columns.\n"
     ]
    },
    {
     "name": "stdout",
     "output_type": "stream",
     "text": [
      "income_statement_ferc1: Normalizing freeform string columns.\n"
     ]
    },
    {
     "name": "stderr",
     "output_type": "stream",
     "text": [
      "2023-03-17 17:02:20 [    INFO] catalystcoop.pudl.transform.classes:1258 income_statement_ferc1: Categorizing string columns using a controlled vocabulary.\n"
     ]
    },
    {
     "name": "stdout",
     "output_type": "stream",
     "text": [
      "income_statement_ferc1: Categorizing string columns using a controlled vocabulary.\n"
     ]
    },
    {
     "name": "stderr",
     "output_type": "stream",
     "text": [
      "2023-03-17 17:02:20 [    INFO] catalystcoop.pudl.transform.classes:1283 income_statement_ferc1: Converting units and renaming columns accordingly.\n"
     ]
    },
    {
     "name": "stdout",
     "output_type": "stream",
     "text": [
      "income_statement_ferc1: Converting units and renaming columns accordingly.\n"
     ]
    },
    {
     "name": "stderr",
     "output_type": "stream",
     "text": [
      "2023-03-17 17:02:20 [    INFO] catalystcoop.pudl.transform.classes:1245 income_statement_ferc1: Stripping non-numeric values from [].\n"
     ]
    },
    {
     "name": "stdout",
     "output_type": "stream",
     "text": [
      "income_statement_ferc1: Stripping non-numeric values from [].\n"
     ]
    },
    {
     "name": "stderr",
     "output_type": "stream",
     "text": [
      "2023-03-17 17:02:20 [    INFO] catalystcoop.pudl.transform.classes:1272 income_statement_ferc1: Nullifying outlying values.\n"
     ]
    },
    {
     "name": "stdout",
     "output_type": "stream",
     "text": [
      "income_statement_ferc1: Nullifying outlying values.\n"
     ]
    },
    {
     "name": "stderr",
     "output_type": "stream",
     "text": [
      "2023-03-17 17:02:20 [    INFO] catalystcoop.pudl.transform.classes:1325 income_statement_ferc1: Replacing specified values with NA.\n"
     ]
    },
    {
     "name": "stdout",
     "output_type": "stream",
     "text": [
      "income_statement_ferc1: Replacing specified values with NA.\n"
     ]
    },
    {
     "name": "stderr",
     "output_type": "stream",
     "text": [
      "2023-03-17 17:02:20 [    INFO] catalystcoop.pudl.transform.classes:1312 income_statement_ferc1: Dropping remaining invalid rows.\n"
     ]
    },
    {
     "name": "stdout",
     "output_type": "stream",
     "text": [
      "income_statement_ferc1: Dropping remaining invalid rows.\n"
     ]
    },
    {
     "name": "stderr",
     "output_type": "stream",
     "text": [
      "2023-03-17 17:02:20 [    INFO] catalystcoop.pudl.transform.classes:823 71.2% of records (61989 rows) contain only {'', nan, <NA>} values in required columns. Dropped these 💩💩💩 records.\n"
     ]
    },
    {
     "name": "stdout",
     "output_type": "stream",
     "text": [
      "71.2% of records (61989 rows) contain only {'', nan, <NA>} values in required columns. Dropped these 💩💩💩 records.\n"
     ]
    },
    {
     "name": "stderr",
     "output_type": "stream",
     "text": [
      "2023-03-17 17:02:20 [    INFO] catalystcoop.pudl.transform.ferc1:1039 income_statement_ferc1: Merging metadata\n"
     ]
    },
    {
     "name": "stdout",
     "output_type": "stream",
     "text": [
      "income_statement_ferc1: Merging metadata\n"
     ]
    },
    {
     "name": "stderr",
     "output_type": "stream",
     "text": [
      "2023-03-17 17:02:20 [    INFO] catalystcoop.pudl.transform.classes:1343 income_statement_ferc1: Enforcing database schema on dataframe.\n"
     ]
    },
    {
     "name": "stdout",
     "output_type": "stream",
     "text": [
      "income_statement_ferc1: Enforcing database schema on dataframe.\n"
     ]
    },
    {
     "name": "stderr",
     "output_type": "stream",
     "text": [
      "2023-03-17 17:02:20 [    INFO] catalystcoop.pudl.transform.ferc1:1079 retained_earnings_ferc1: Processing DBF data pre-concatenation.\n"
     ]
    },
    {
     "name": "stdout",
     "output_type": "stream",
     "text": [
      "retained_earnings_ferc1: Processing DBF data pre-concatenation.\n"
     ]
    },
    {
     "name": "stderr",
     "output_type": "stream",
     "text": [
      "2023-03-17 17:02:20 [    INFO] catalystcoop.pudl.transform.ferc1:1142 retained_earnings_ferc1: After selection only annual records, we have 25.7% of the original table.\n"
     ]
    },
    {
     "name": "stdout",
     "output_type": "stream",
     "text": [
      "retained_earnings_ferc1: After selection only annual records, we have 25.7% of the original table.\n"
     ]
    },
    {
     "name": "stderr",
     "output_type": "stream",
     "text": [
      "2023-03-17 17:02:20 [    INFO] catalystcoop.pudl.transform.ferc1:355 Aligning row numbers from DBF row to XBRL map for ['f1_retained_erng']\n"
     ]
    },
    {
     "name": "stdout",
     "output_type": "stream",
     "text": [
      "Aligning row numbers from DBF row to XBRL map for ['f1_retained_erng']\n"
     ]
    },
    {
     "name": "stderr",
     "output_type": "stream",
     "text": [
      "2023-03-17 17:02:20 [    INFO] catalystcoop.pudl.transform.classes:1210 retained_earnings_ferc1: Attempting to rename 9 columns.\n"
     ]
    },
    {
     "name": "stdout",
     "output_type": "stream",
     "text": [
      "retained_earnings_ferc1: Attempting to rename 9 columns.\n"
     ]
    },
    {
     "name": "stderr",
     "output_type": "stream",
     "text": [
      "2023-03-17 17:02:21 [    INFO] catalystcoop.pudl.transform.ferc1:3232 retained_earnings_ferc1: Removing previous year's data.\n"
     ]
    },
    {
     "name": "stdout",
     "output_type": "stream",
     "text": [
      "retained_earnings_ferc1: Removing previous year's data.\n"
     ]
    },
    {
     "name": "stderr",
     "output_type": "stream",
     "text": [
      "2023-03-17 17:02:21 [    INFO] catalystcoop.pudl.transform.ferc1:1100 retained_earnings_ferc1: Processing XBRL data pre-concatenation.\n"
     ]
    },
    {
     "name": "stdout",
     "output_type": "stream",
     "text": [
      "retained_earnings_ferc1: Processing XBRL data pre-concatenation.\n"
     ]
    },
    {
     "name": "stderr",
     "output_type": "stream",
     "text": [
      "2023-03-17 17:02:21 [    INFO] catalystcoop.pudl.transform.classes:1210 retained_earnings_ferc1: Attempting to rename 0 columns.\n"
     ]
    },
    {
     "name": "stdout",
     "output_type": "stream",
     "text": [
      "retained_earnings_ferc1: Attempting to rename 0 columns.\n"
     ]
    },
    {
     "name": "stderr",
     "output_type": "stream",
     "text": [
      "2023-03-17 17:02:21 [    INFO] catalystcoop.pudl.transform.ferc1:1154 retained_earnings_ferc1: Unstacking balances to the report years.\n"
     ]
    },
    {
     "name": "stdout",
     "output_type": "stream",
     "text": [
      "retained_earnings_ferc1: Unstacking balances to the report years.\n"
     ]
    },
    {
     "name": "stderr",
     "output_type": "stream",
     "text": [
      "2023-03-17 17:02:21 [    INFO] catalystcoop.pudl.transform.classes:1210 retained_earnings_ferc1: Attempting to rename 8 columns.\n"
     ]
    },
    {
     "name": "stdout",
     "output_type": "stream",
     "text": [
      "retained_earnings_ferc1: Attempting to rename 8 columns.\n"
     ]
    },
    {
     "name": "stderr",
     "output_type": "stream",
     "text": [
      "2023-03-17 17:02:21 [    INFO] catalystcoop.pudl.transform.ferc1:1381 retained_earnings_ferc1: After selection of dates based on the report year, we have 50.2% of the original table.\n"
     ]
    },
    {
     "name": "stdout",
     "output_type": "stream",
     "text": [
      "retained_earnings_ferc1: After selection of dates based on the report year, we have 50.2% of the original table.\n"
     ]
    },
    {
     "name": "stderr",
     "output_type": "stream",
     "text": [
      "2023-03-17 17:02:21 [    INFO] catalystcoop.pudl.transform.ferc1:1285 retained_earnings_ferc1: Both XBRL instant & duration tables found.\n"
     ]
    },
    {
     "name": "stdout",
     "output_type": "stream",
     "text": [
      "retained_earnings_ferc1: Both XBRL instant & duration tables found.\n"
     ]
    },
    {
     "name": "stderr",
     "output_type": "stream",
     "text": [
      "2023-03-17 17:02:21 [    INFO] catalystcoop.pudl.transform.ferc1:1322 retained_earnings_ferc1: Combining XBRL instant & duration tables using CONCATENATION.\n"
     ]
    },
    {
     "name": "stdout",
     "output_type": "stream",
     "text": [
      "retained_earnings_ferc1: Combining XBRL instant & duration tables using CONCATENATION.\n"
     ]
    },
    {
     "name": "stderr",
     "output_type": "stream",
     "text": [
      "2023-03-17 17:02:21 [    INFO] catalystcoop.pudl.transform.ferc1:1198 retained_earnings_ferc1: applying wide_to_tidy for xbrl\n"
     ]
    },
    {
     "name": "stdout",
     "output_type": "stream",
     "text": [
      "retained_earnings_ferc1: applying wide_to_tidy for xbrl\n"
     ]
    },
    {
     "name": "stderr",
     "output_type": "stream",
     "text": [
      "2023-03-17 17:02:21 [    INFO] catalystcoop.pudl.transform.classes:1210 retained_earnings_ferc1: Attempting to rename 3 columns.\n"
     ]
    },
    {
     "name": "stdout",
     "output_type": "stream",
     "text": [
      "retained_earnings_ferc1: Attempting to rename 3 columns.\n"
     ]
    },
    {
     "name": "stderr",
     "output_type": "stream",
     "text": [
      "2023-03-17 17:02:21 [    INFO] catalystcoop.pudl.transform.ferc1:974 retained_earnings_ferc1: Selecting DBF rows with desired values in earnings_type.\n"
     ]
    },
    {
     "name": "stdout",
     "output_type": "stream",
     "text": [
      "retained_earnings_ferc1: Selecting DBF rows with desired values in earnings_type.\n"
     ]
    },
    {
     "name": "stderr",
     "output_type": "stream",
     "text": [
      "2023-03-17 17:02:21 [    INFO] catalystcoop.pudl.transform.ferc1:916 retained_earnings_ferc1: Concatenating DBF + XBRL dataframes.\n"
     ]
    },
    {
     "name": "stdout",
     "output_type": "stream",
     "text": [
      "retained_earnings_ferc1: Concatenating DBF + XBRL dataframes.\n"
     ]
    },
    {
     "name": "stderr",
     "output_type": "stream",
     "text": [
      "2023-03-17 17:02:21 [    INFO] catalystcoop.pudl.transform.classes:1336 retained_earnings_ferc1: Spot fixing missing values.\n"
     ]
    },
    {
     "name": "stdout",
     "output_type": "stream",
     "text": [
      "retained_earnings_ferc1: Spot fixing missing values.\n"
     ]
    },
    {
     "name": "stderr",
     "output_type": "stream",
     "text": [
      "2023-03-17 17:02:21 [    INFO] catalystcoop.pudl.transform.classes:1234 retained_earnings_ferc1: Normalizing freeform string columns.\n"
     ]
    },
    {
     "name": "stdout",
     "output_type": "stream",
     "text": [
      "retained_earnings_ferc1: Normalizing freeform string columns.\n"
     ]
    },
    {
     "name": "stderr",
     "output_type": "stream",
     "text": [
      "2023-03-17 17:02:21 [    INFO] catalystcoop.pudl.transform.classes:1258 retained_earnings_ferc1: Categorizing string columns using a controlled vocabulary.\n"
     ]
    },
    {
     "name": "stdout",
     "output_type": "stream",
     "text": [
      "retained_earnings_ferc1: Categorizing string columns using a controlled vocabulary.\n"
     ]
    },
    {
     "name": "stderr",
     "output_type": "stream",
     "text": [
      "2023-03-17 17:02:21 [    INFO] catalystcoop.pudl.transform.classes:1283 retained_earnings_ferc1: Converting units and renaming columns accordingly.\n"
     ]
    },
    {
     "name": "stdout",
     "output_type": "stream",
     "text": [
      "retained_earnings_ferc1: Converting units and renaming columns accordingly.\n"
     ]
    },
    {
     "name": "stderr",
     "output_type": "stream",
     "text": [
      "2023-03-17 17:02:21 [    INFO] catalystcoop.pudl.transform.classes:1245 retained_earnings_ferc1: Stripping non-numeric values from ['amount'].\n"
     ]
    },
    {
     "name": "stdout",
     "output_type": "stream",
     "text": [
      "retained_earnings_ferc1: Stripping non-numeric values from ['amount'].\n"
     ]
    },
    {
     "name": "stderr",
     "output_type": "stream",
     "text": [
      "2023-03-17 17:02:21 [    INFO] catalystcoop.pudl.transform.classes:1272 retained_earnings_ferc1: Nullifying outlying values.\n"
     ]
    },
    {
     "name": "stdout",
     "output_type": "stream",
     "text": [
      "retained_earnings_ferc1: Nullifying outlying values.\n"
     ]
    },
    {
     "name": "stderr",
     "output_type": "stream",
     "text": [
      "2023-03-17 17:02:21 [    INFO] catalystcoop.pudl.transform.classes:1325 retained_earnings_ferc1: Replacing specified values with NA.\n"
     ]
    },
    {
     "name": "stdout",
     "output_type": "stream",
     "text": [
      "retained_earnings_ferc1: Replacing specified values with NA.\n"
     ]
    },
    {
     "name": "stderr",
     "output_type": "stream",
     "text": [
      "2023-03-17 17:02:21 [    INFO] catalystcoop.pudl.transform.classes:1312 retained_earnings_ferc1: Dropping remaining invalid rows.\n"
     ]
    },
    {
     "name": "stdout",
     "output_type": "stream",
     "text": [
      "retained_earnings_ferc1: Dropping remaining invalid rows.\n"
     ]
    },
    {
     "name": "stderr",
     "output_type": "stream",
     "text": [
      "2023-03-17 17:02:21 [    INFO] catalystcoop.pudl.transform.ferc1:1039 retained_earnings_ferc1: Merging metadata\n"
     ]
    },
    {
     "name": "stdout",
     "output_type": "stream",
     "text": [
      "retained_earnings_ferc1: Merging metadata\n"
     ]
    },
    {
     "name": "stderr",
     "output_type": "stream",
     "text": [
      "2023-03-17 17:02:21 [    INFO] catalystcoop.pudl.transform.classes:1343 retained_earnings_ferc1: Enforcing database schema on dataframe.\n"
     ]
    },
    {
     "name": "stdout",
     "output_type": "stream",
     "text": [
      "retained_earnings_ferc1: Enforcing database schema on dataframe.\n"
     ]
    },
    {
     "name": "stderr",
     "output_type": "stream",
     "text": [
      "2023-03-17 17:02:21 [    INFO] catalystcoop.pudl.transform.ferc1:1079 depreciation_amortization_summary_ferc1: Processing DBF data pre-concatenation.\n"
     ]
    },
    {
     "name": "stdout",
     "output_type": "stream",
     "text": [
      "depreciation_amortization_summary_ferc1: Processing DBF data pre-concatenation.\n"
     ]
    },
    {
     "name": "stderr",
     "output_type": "stream",
     "text": [
      "2023-03-17 17:02:21 [    INFO] catalystcoop.pudl.transform.ferc1:355 Aligning row numbers from DBF row to XBRL map for ['f1_dacs_epda']\n"
     ]
    },
    {
     "name": "stdout",
     "output_type": "stream",
     "text": [
      "Aligning row numbers from DBF row to XBRL map for ['f1_dacs_epda']\n"
     ]
    },
    {
     "name": "stderr",
     "output_type": "stream",
     "text": [
      "2023-03-17 17:02:21 [    INFO] catalystcoop.pudl.transform.classes:1210 depreciation_amortization_summary_ferc1: Attempting to rename 13 columns.\n"
     ]
    },
    {
     "name": "stdout",
     "output_type": "stream",
     "text": [
      "depreciation_amortization_summary_ferc1: Attempting to rename 13 columns.\n"
     ]
    },
    {
     "name": "stderr",
     "output_type": "stream",
     "text": [
      "2023-03-17 17:02:21 [    INFO] catalystcoop.pudl.transform.ferc1:1198 depreciation_amortization_summary_ferc1: applying wide_to_tidy for dbf\n"
     ]
    },
    {
     "name": "stdout",
     "output_type": "stream",
     "text": [
      "depreciation_amortization_summary_ferc1: applying wide_to_tidy for dbf\n"
     ]
    },
    {
     "name": "stderr",
     "output_type": "stream",
     "text": [
      "2023-03-17 17:02:21 [    INFO] catalystcoop.pudl.transform.ferc1:1100 depreciation_amortization_summary_ferc1: Processing XBRL data pre-concatenation.\n"
     ]
    },
    {
     "name": "stdout",
     "output_type": "stream",
     "text": [
      "depreciation_amortization_summary_ferc1: Processing XBRL data pre-concatenation.\n"
     ]
    },
    {
     "name": "stderr",
     "output_type": "stream",
     "text": [
      "2023-03-17 17:02:21 [    INFO] catalystcoop.pudl.transform.classes:1210 depreciation_amortization_summary_ferc1: Attempting to rename 0 columns.\n"
     ]
    },
    {
     "name": "stdout",
     "output_type": "stream",
     "text": [
      "depreciation_amortization_summary_ferc1: Attempting to rename 0 columns.\n"
     ]
    },
    {
     "name": "stderr",
     "output_type": "stream",
     "text": [
      "2023-03-17 17:02:21 [    INFO] catalystcoop.pudl.transform.ferc1:1154 depreciation_amortization_summary_ferc1: Unstacking balances to the report years.\n"
     ]
    },
    {
     "name": "stdout",
     "output_type": "stream",
     "text": [
      "depreciation_amortization_summary_ferc1: Unstacking balances to the report years.\n"
     ]
    },
    {
     "name": "stderr",
     "output_type": "stream",
     "text": [
      "2023-03-17 17:02:21 [    INFO] catalystcoop.pudl.transform.classes:1210 depreciation_amortization_summary_ferc1: Attempting to rename 6 columns.\n"
     ]
    },
    {
     "name": "stdout",
     "output_type": "stream",
     "text": [
      "depreciation_amortization_summary_ferc1: Attempting to rename 6 columns.\n"
     ]
    },
    {
     "name": "stderr",
     "output_type": "stream",
     "text": [
      "2023-03-17 17:02:21 [    INFO] catalystcoop.pudl.transform.ferc1:1381 depreciation_amortization_summary_ferc1: After selection of dates based on the report year, we have 100.0% of the original table.\n"
     ]
    },
    {
     "name": "stdout",
     "output_type": "stream",
     "text": [
      "depreciation_amortization_summary_ferc1: After selection of dates based on the report year, we have 100.0% of the original table.\n"
     ]
    },
    {
     "name": "stderr",
     "output_type": "stream",
     "text": [
      "2023-03-17 17:02:21 [    INFO] catalystcoop.pudl.transform.ferc1:1279 depreciation_amortization_summary_ferc1: No XBRL instant table found.\n"
     ]
    },
    {
     "name": "stdout",
     "output_type": "stream",
     "text": [
      "depreciation_amortization_summary_ferc1: No XBRL instant table found.\n"
     ]
    },
    {
     "name": "stderr",
     "output_type": "stream",
     "text": [
      "2023-03-17 17:02:21 [    INFO] catalystcoop.pudl.transform.ferc1:1198 depreciation_amortization_summary_ferc1: applying wide_to_tidy for xbrl\n"
     ]
    },
    {
     "name": "stdout",
     "output_type": "stream",
     "text": [
      "depreciation_amortization_summary_ferc1: applying wide_to_tidy for xbrl\n"
     ]
    },
    {
     "name": "stderr",
     "output_type": "stream",
     "text": [
      "2023-03-17 17:02:21 [    INFO] catalystcoop.pudl.transform.classes:1210 depreciation_amortization_summary_ferc1: Attempting to rename 3 columns.\n"
     ]
    },
    {
     "name": "stdout",
     "output_type": "stream",
     "text": [
      "depreciation_amortization_summary_ferc1: Attempting to rename 3 columns.\n"
     ]
    },
    {
     "name": "stderr",
     "output_type": "stream",
     "text": [
      "2023-03-17 17:02:21 [    INFO] catalystcoop.pudl.transform.ferc1:916 depreciation_amortization_summary_ferc1: Concatenating DBF + XBRL dataframes.\n"
     ]
    },
    {
     "name": "stdout",
     "output_type": "stream",
     "text": [
      "depreciation_amortization_summary_ferc1: Concatenating DBF + XBRL dataframes.\n"
     ]
    },
    {
     "name": "stderr",
     "output_type": "stream",
     "text": [
      "2023-03-17 17:02:21 [    INFO] catalystcoop.pudl.transform.classes:1336 depreciation_amortization_summary_ferc1: Spot fixing missing values.\n"
     ]
    },
    {
     "name": "stdout",
     "output_type": "stream",
     "text": [
      "depreciation_amortization_summary_ferc1: Spot fixing missing values.\n"
     ]
    },
    {
     "name": "stderr",
     "output_type": "stream",
     "text": [
      "2023-03-17 17:02:21 [    INFO] catalystcoop.pudl.transform.classes:1234 depreciation_amortization_summary_ferc1: Normalizing freeform string columns.\n"
     ]
    },
    {
     "name": "stdout",
     "output_type": "stream",
     "text": [
      "depreciation_amortization_summary_ferc1: Normalizing freeform string columns.\n"
     ]
    },
    {
     "name": "stderr",
     "output_type": "stream",
     "text": [
      "2023-03-17 17:02:21 [    INFO] catalystcoop.pudl.transform.classes:1258 depreciation_amortization_summary_ferc1: Categorizing string columns using a controlled vocabulary.\n"
     ]
    },
    {
     "name": "stdout",
     "output_type": "stream",
     "text": [
      "depreciation_amortization_summary_ferc1: Categorizing string columns using a controlled vocabulary.\n"
     ]
    },
    {
     "name": "stderr",
     "output_type": "stream",
     "text": [
      "2023-03-17 17:02:21 [    INFO] catalystcoop.pudl.transform.classes:1283 depreciation_amortization_summary_ferc1: Converting units and renaming columns accordingly.\n"
     ]
    },
    {
     "name": "stdout",
     "output_type": "stream",
     "text": [
      "depreciation_amortization_summary_ferc1: Converting units and renaming columns accordingly.\n"
     ]
    },
    {
     "name": "stderr",
     "output_type": "stream",
     "text": [
      "2023-03-17 17:02:21 [    INFO] catalystcoop.pudl.transform.classes:1245 depreciation_amortization_summary_ferc1: Stripping non-numeric values from [].\n"
     ]
    },
    {
     "name": "stdout",
     "output_type": "stream",
     "text": [
      "depreciation_amortization_summary_ferc1: Stripping non-numeric values from [].\n"
     ]
    },
    {
     "name": "stderr",
     "output_type": "stream",
     "text": [
      "2023-03-17 17:02:21 [    INFO] catalystcoop.pudl.transform.classes:1272 depreciation_amortization_summary_ferc1: Nullifying outlying values.\n"
     ]
    },
    {
     "name": "stdout",
     "output_type": "stream",
     "text": [
      "depreciation_amortization_summary_ferc1: Nullifying outlying values.\n"
     ]
    },
    {
     "name": "stderr",
     "output_type": "stream",
     "text": [
      "2023-03-17 17:02:21 [    INFO] catalystcoop.pudl.transform.classes:1325 depreciation_amortization_summary_ferc1: Replacing specified values with NA.\n"
     ]
    },
    {
     "name": "stdout",
     "output_type": "stream",
     "text": [
      "depreciation_amortization_summary_ferc1: Replacing specified values with NA.\n"
     ]
    },
    {
     "name": "stderr",
     "output_type": "stream",
     "text": [
      "2023-03-17 17:02:21 [    INFO] catalystcoop.pudl.transform.classes:1312 depreciation_amortization_summary_ferc1: Dropping remaining invalid rows.\n"
     ]
    },
    {
     "name": "stdout",
     "output_type": "stream",
     "text": [
      "depreciation_amortization_summary_ferc1: Dropping remaining invalid rows.\n"
     ]
    },
    {
     "name": "stderr",
     "output_type": "stream",
     "text": [
      "2023-03-17 17:02:21 [    INFO] catalystcoop.pudl.transform.ferc1:3359 depreciation_amortization_summary_ferc1: merging metadata\n"
     ]
    },
    {
     "name": "stdout",
     "output_type": "stream",
     "text": [
      "depreciation_amortization_summary_ferc1: merging metadata\n"
     ]
    },
    {
     "name": "stderr",
     "output_type": "stream",
     "text": [
      "2023-03-17 17:02:21 [    INFO] catalystcoop.pudl.transform.classes:1343 depreciation_amortization_summary_ferc1: Enforcing database schema on dataframe.\n"
     ]
    },
    {
     "name": "stdout",
     "output_type": "stream",
     "text": [
      "depreciation_amortization_summary_ferc1: Enforcing database schema on dataframe.\n"
     ]
    },
    {
     "name": "stderr",
     "output_type": "stream",
     "text": [
      "2023-03-17 17:02:21 [    INFO] catalystcoop.pudl.transform.ferc1:1079 electric_plant_depreciation_changes_ferc1: Processing DBF data pre-concatenation.\n"
     ]
    },
    {
     "name": "stdout",
     "output_type": "stream",
     "text": [
      "electric_plant_depreciation_changes_ferc1: Processing DBF data pre-concatenation.\n"
     ]
    },
    {
     "name": "stderr",
     "output_type": "stream",
     "text": [
      "2023-03-17 17:02:21 [    INFO] catalystcoop.pudl.transform.ferc1:355 Aligning row numbers from DBF row to XBRL map for ['f1_accumdepr_prvsn']\n"
     ]
    },
    {
     "name": "stdout",
     "output_type": "stream",
     "text": [
      "Aligning row numbers from DBF row to XBRL map for ['f1_accumdepr_prvsn']\n"
     ]
    },
    {
     "name": "stderr",
     "output_type": "stream",
     "text": [
      "2023-03-17 17:02:21 [    INFO] catalystcoop.pudl.transform.classes:1210 electric_plant_depreciation_changes_ferc1: Attempting to rename 12 columns.\n"
     ]
    },
    {
     "name": "stdout",
     "output_type": "stream",
     "text": [
      "electric_plant_depreciation_changes_ferc1: Attempting to rename 12 columns.\n"
     ]
    },
    {
     "name": "stderr",
     "output_type": "stream",
     "text": [
      "2023-03-17 17:02:21 [    INFO] catalystcoop.pudl.transform.ferc1:1198 electric_plant_depreciation_changes_ferc1: applying wide_to_tidy for dbf\n"
     ]
    },
    {
     "name": "stdout",
     "output_type": "stream",
     "text": [
      "electric_plant_depreciation_changes_ferc1: applying wide_to_tidy for dbf\n"
     ]
    },
    {
     "name": "stderr",
     "output_type": "stream",
     "text": [
      "2023-03-17 17:02:21 [    INFO] catalystcoop.pudl.transform.ferc1:1100 electric_plant_depreciation_changes_ferc1: Processing XBRL data pre-concatenation.\n"
     ]
    },
    {
     "name": "stdout",
     "output_type": "stream",
     "text": [
      "electric_plant_depreciation_changes_ferc1: Processing XBRL data pre-concatenation.\n"
     ]
    },
    {
     "name": "stderr",
     "output_type": "stream",
     "text": [
      "2023-03-17 17:02:21 [    INFO] catalystcoop.pudl.transform.ferc1:1154 electric_plant_depreciation_changes_ferc1: Unstacking balances to the report years.\n"
     ]
    },
    {
     "name": "stdout",
     "output_type": "stream",
     "text": [
      "electric_plant_depreciation_changes_ferc1: Unstacking balances to the report years.\n"
     ]
    },
    {
     "name": "stderr",
     "output_type": "stream",
     "text": [
      "2023-03-17 17:02:21 [    INFO] catalystcoop.pudl.transform.classes:1210 electric_plant_depreciation_changes_ferc1: Attempting to rename 2 columns.\n"
     ]
    },
    {
     "name": "stdout",
     "output_type": "stream",
     "text": [
      "electric_plant_depreciation_changes_ferc1: Attempting to rename 2 columns.\n"
     ]
    },
    {
     "name": "stderr",
     "output_type": "stream",
     "text": [
      "2023-03-17 17:02:21 [    INFO] catalystcoop.pudl.transform.classes:1210 electric_plant_depreciation_changes_ferc1: Attempting to rename 13 columns.\n"
     ]
    },
    {
     "name": "stdout",
     "output_type": "stream",
     "text": [
      "electric_plant_depreciation_changes_ferc1: Attempting to rename 13 columns.\n"
     ]
    },
    {
     "name": "stderr",
     "output_type": "stream",
     "text": [
      "2023-03-17 17:02:21 [    INFO] catalystcoop.pudl.transform.ferc1:1381 electric_plant_depreciation_changes_ferc1: After selection of dates based on the report year, we have 100.0% of the original table.\n"
     ]
    },
    {
     "name": "stdout",
     "output_type": "stream",
     "text": [
      "electric_plant_depreciation_changes_ferc1: After selection of dates based on the report year, we have 100.0% of the original table.\n"
     ]
    },
    {
     "name": "stderr",
     "output_type": "stream",
     "text": [
      "2023-03-17 17:02:21 [    INFO] catalystcoop.pudl.transform.ferc1:1285 electric_plant_depreciation_changes_ferc1: Both XBRL instant & duration tables found.\n"
     ]
    },
    {
     "name": "stdout",
     "output_type": "stream",
     "text": [
      "electric_plant_depreciation_changes_ferc1: Both XBRL instant & duration tables found.\n"
     ]
    },
    {
     "name": "stderr",
     "output_type": "stream",
     "text": [
      "2023-03-17 17:02:21 [    INFO] catalystcoop.pudl.transform.ferc1:1322 electric_plant_depreciation_changes_ferc1: Combining XBRL instant & duration tables using CONCATENATION.\n"
     ]
    },
    {
     "name": "stdout",
     "output_type": "stream",
     "text": [
      "electric_plant_depreciation_changes_ferc1: Combining XBRL instant & duration tables using CONCATENATION.\n"
     ]
    },
    {
     "name": "stderr",
     "output_type": "stream",
     "text": [
      "2023-03-17 17:02:21 [    INFO] catalystcoop.pudl.transform.ferc1:1198 electric_plant_depreciation_changes_ferc1: applying wide_to_tidy for xbrl\n"
     ]
    },
    {
     "name": "stdout",
     "output_type": "stream",
     "text": [
      "electric_plant_depreciation_changes_ferc1: applying wide_to_tidy for xbrl\n"
     ]
    },
    {
     "name": "stderr",
     "output_type": "stream",
     "text": [
      "2023-03-17 17:02:21 [    INFO] catalystcoop.pudl.transform.classes:1210 electric_plant_depreciation_changes_ferc1: Attempting to rename 4 columns.\n"
     ]
    },
    {
     "name": "stdout",
     "output_type": "stream",
     "text": [
      "electric_plant_depreciation_changes_ferc1: Attempting to rename 4 columns.\n"
     ]
    },
    {
     "name": "stderr",
     "output_type": "stream",
     "text": [
      "2023-03-17 17:02:21 [    INFO] catalystcoop.pudl.transform.ferc1:974 electric_plant_depreciation_changes_ferc1: Selecting DBF rows with desired values in depreciation_type.\n"
     ]
    },
    {
     "name": "stdout",
     "output_type": "stream",
     "text": [
      "electric_plant_depreciation_changes_ferc1: Selecting DBF rows with desired values in depreciation_type.\n"
     ]
    },
    {
     "name": "stderr",
     "output_type": "stream",
     "text": [
      "2023-03-17 17:02:21 [    INFO] catalystcoop.pudl.transform.ferc1:916 electric_plant_depreciation_changes_ferc1: Concatenating DBF + XBRL dataframes.\n"
     ]
    },
    {
     "name": "stdout",
     "output_type": "stream",
     "text": [
      "electric_plant_depreciation_changes_ferc1: Concatenating DBF + XBRL dataframes.\n"
     ]
    },
    {
     "name": "stderr",
     "output_type": "stream",
     "text": [
      "2023-03-17 17:02:21 [    INFO] catalystcoop.pudl.transform.classes:1336 electric_plant_depreciation_changes_ferc1: Spot fixing missing values.\n"
     ]
    },
    {
     "name": "stdout",
     "output_type": "stream",
     "text": [
      "electric_plant_depreciation_changes_ferc1: Spot fixing missing values.\n"
     ]
    },
    {
     "name": "stderr",
     "output_type": "stream",
     "text": [
      "2023-03-17 17:02:21 [    INFO] catalystcoop.pudl.transform.classes:1234 electric_plant_depreciation_changes_ferc1: Normalizing freeform string columns.\n"
     ]
    },
    {
     "name": "stdout",
     "output_type": "stream",
     "text": [
      "electric_plant_depreciation_changes_ferc1: Normalizing freeform string columns.\n"
     ]
    },
    {
     "name": "stderr",
     "output_type": "stream",
     "text": [
      "2023-03-17 17:02:21 [    INFO] catalystcoop.pudl.transform.classes:1258 electric_plant_depreciation_changes_ferc1: Categorizing string columns using a controlled vocabulary.\n"
     ]
    },
    {
     "name": "stdout",
     "output_type": "stream",
     "text": [
      "electric_plant_depreciation_changes_ferc1: Categorizing string columns using a controlled vocabulary.\n"
     ]
    },
    {
     "name": "stderr",
     "output_type": "stream",
     "text": [
      "2023-03-17 17:02:21 [    INFO] catalystcoop.pudl.transform.classes:1283 electric_plant_depreciation_changes_ferc1: Converting units and renaming columns accordingly.\n"
     ]
    },
    {
     "name": "stdout",
     "output_type": "stream",
     "text": [
      "electric_plant_depreciation_changes_ferc1: Converting units and renaming columns accordingly.\n"
     ]
    },
    {
     "name": "stderr",
     "output_type": "stream",
     "text": [
      "2023-03-17 17:02:21 [    INFO] catalystcoop.pudl.transform.classes:1245 electric_plant_depreciation_changes_ferc1: Stripping non-numeric values from [].\n"
     ]
    },
    {
     "name": "stdout",
     "output_type": "stream",
     "text": [
      "electric_plant_depreciation_changes_ferc1: Stripping non-numeric values from [].\n"
     ]
    },
    {
     "name": "stderr",
     "output_type": "stream",
     "text": [
      "2023-03-17 17:02:21 [    INFO] catalystcoop.pudl.transform.classes:1272 electric_plant_depreciation_changes_ferc1: Nullifying outlying values.\n"
     ]
    },
    {
     "name": "stdout",
     "output_type": "stream",
     "text": [
      "electric_plant_depreciation_changes_ferc1: Nullifying outlying values.\n"
     ]
    },
    {
     "name": "stderr",
     "output_type": "stream",
     "text": [
      "2023-03-17 17:02:21 [    INFO] catalystcoop.pudl.transform.classes:1325 electric_plant_depreciation_changes_ferc1: Replacing specified values with NA.\n"
     ]
    },
    {
     "name": "stdout",
     "output_type": "stream",
     "text": [
      "electric_plant_depreciation_changes_ferc1: Replacing specified values with NA.\n"
     ]
    },
    {
     "name": "stderr",
     "output_type": "stream",
     "text": [
      "2023-03-17 17:02:21 [    INFO] catalystcoop.pudl.transform.classes:1312 electric_plant_depreciation_changes_ferc1: Dropping remaining invalid rows.\n"
     ]
    },
    {
     "name": "stdout",
     "output_type": "stream",
     "text": [
      "electric_plant_depreciation_changes_ferc1: Dropping remaining invalid rows.\n"
     ]
    },
    {
     "name": "stderr",
     "output_type": "stream",
     "text": [
      "2023-03-17 17:02:21 [    INFO] catalystcoop.pudl.transform.ferc1:1039 electric_plant_depreciation_changes_ferc1: Merging metadata\n"
     ]
    },
    {
     "name": "stdout",
     "output_type": "stream",
     "text": [
      "electric_plant_depreciation_changes_ferc1: Merging metadata\n"
     ]
    },
    {
     "name": "stderr",
     "output_type": "stream",
     "text": [
      "2023-03-17 17:02:21 [    INFO] catalystcoop.pudl.transform.classes:1343 electric_plant_depreciation_changes_ferc1: Enforcing database schema on dataframe.\n"
     ]
    },
    {
     "name": "stdout",
     "output_type": "stream",
     "text": [
      "electric_plant_depreciation_changes_ferc1: Enforcing database schema on dataframe.\n"
     ]
    },
    {
     "name": "stderr",
     "output_type": "stream",
     "text": [
      "2023-03-17 17:02:21 [    INFO] catalystcoop.pudl.transform.ferc1:1079 electric_plant_depreciation_functional_ferc1: Processing DBF data pre-concatenation.\n"
     ]
    },
    {
     "name": "stdout",
     "output_type": "stream",
     "text": [
      "electric_plant_depreciation_functional_ferc1: Processing DBF data pre-concatenation.\n"
     ]
    },
    {
     "name": "stderr",
     "output_type": "stream",
     "text": [
      "2023-03-17 17:02:21 [    INFO] catalystcoop.pudl.transform.ferc1:355 Aligning row numbers from DBF row to XBRL map for ['f1_accumdepr_prvsn']\n"
     ]
    },
    {
     "name": "stdout",
     "output_type": "stream",
     "text": [
      "Aligning row numbers from DBF row to XBRL map for ['f1_accumdepr_prvsn']\n"
     ]
    },
    {
     "name": "stderr",
     "output_type": "stream",
     "text": [
      "2023-03-17 17:02:21 [    INFO] catalystcoop.pudl.transform.classes:1210 electric_plant_depreciation_functional_ferc1: Attempting to rename 12 columns.\n"
     ]
    },
    {
     "name": "stdout",
     "output_type": "stream",
     "text": [
      "electric_plant_depreciation_functional_ferc1: Attempting to rename 12 columns.\n"
     ]
    },
    {
     "name": "stderr",
     "output_type": "stream",
     "text": [
      "2023-03-17 17:02:21 [    INFO] catalystcoop.pudl.transform.ferc1:1198 electric_plant_depreciation_functional_ferc1: applying wide_to_tidy for dbf\n"
     ]
    },
    {
     "name": "stdout",
     "output_type": "stream",
     "text": [
      "electric_plant_depreciation_functional_ferc1: applying wide_to_tidy for dbf\n"
     ]
    },
    {
     "name": "stderr",
     "output_type": "stream",
     "text": [
      "2023-03-17 17:02:21 [    INFO] catalystcoop.pudl.transform.ferc1:1100 electric_plant_depreciation_functional_ferc1: Processing XBRL data pre-concatenation.\n"
     ]
    },
    {
     "name": "stdout",
     "output_type": "stream",
     "text": [
      "electric_plant_depreciation_functional_ferc1: Processing XBRL data pre-concatenation.\n"
     ]
    },
    {
     "name": "stderr",
     "output_type": "stream",
     "text": [
      "2023-03-17 17:02:21 [    INFO] catalystcoop.pudl.transform.ferc1:1154 electric_plant_depreciation_functional_ferc1: Unstacking balances to the report years.\n"
     ]
    },
    {
     "name": "stdout",
     "output_type": "stream",
     "text": [
      "electric_plant_depreciation_functional_ferc1: Unstacking balances to the report years.\n"
     ]
    },
    {
     "name": "stderr",
     "output_type": "stream",
     "text": [
      "2023-03-17 17:02:21 [    INFO] catalystcoop.pudl.transform.classes:1210 electric_plant_depreciation_functional_ferc1: Attempting to rename 10 columns.\n"
     ]
    },
    {
     "name": "stdout",
     "output_type": "stream",
     "text": [
      "electric_plant_depreciation_functional_ferc1: Attempting to rename 10 columns.\n"
     ]
    },
    {
     "name": "stderr",
     "output_type": "stream",
     "text": [
      "2023-03-17 17:02:22 [    INFO] catalystcoop.pudl.transform.ferc1:1282 electric_plant_depreciation_functional_ferc1: No XBRL duration table found.\n"
     ]
    },
    {
     "name": "stdout",
     "output_type": "stream",
     "text": [
      "electric_plant_depreciation_functional_ferc1: No XBRL duration table found.\n"
     ]
    },
    {
     "name": "stderr",
     "output_type": "stream",
     "text": [
      "2023-03-17 17:02:22 [    INFO] catalystcoop.pudl.transform.ferc1:1198 electric_plant_depreciation_functional_ferc1: applying wide_to_tidy for xbrl\n"
     ]
    },
    {
     "name": "stdout",
     "output_type": "stream",
     "text": [
      "electric_plant_depreciation_functional_ferc1: applying wide_to_tidy for xbrl\n"
     ]
    },
    {
     "name": "stderr",
     "output_type": "stream",
     "text": [
      "2023-03-17 17:02:22 [    INFO] catalystcoop.pudl.transform.classes:1210 electric_plant_depreciation_functional_ferc1: Attempting to rename 4 columns.\n"
     ]
    },
    {
     "name": "stdout",
     "output_type": "stream",
     "text": [
      "electric_plant_depreciation_functional_ferc1: Attempting to rename 4 columns.\n"
     ]
    },
    {
     "name": "stderr",
     "output_type": "stream",
     "text": [
      "2023-03-17 17:02:22 [    INFO] catalystcoop.pudl.transform.ferc1:974 electric_plant_depreciation_functional_ferc1: Selecting DBF rows with desired values in plant_function.\n"
     ]
    },
    {
     "name": "stdout",
     "output_type": "stream",
     "text": [
      "electric_plant_depreciation_functional_ferc1: Selecting DBF rows with desired values in plant_function.\n"
     ]
    },
    {
     "name": "stderr",
     "output_type": "stream",
     "text": [
      "2023-03-17 17:02:22 [    INFO] catalystcoop.pudl.transform.ferc1:916 electric_plant_depreciation_functional_ferc1: Concatenating DBF + XBRL dataframes.\n"
     ]
    },
    {
     "name": "stdout",
     "output_type": "stream",
     "text": [
      "electric_plant_depreciation_functional_ferc1: Concatenating DBF + XBRL dataframes.\n"
     ]
    },
    {
     "name": "stderr",
     "output_type": "stream",
     "text": [
      "2023-03-17 17:02:22 [    INFO] catalystcoop.pudl.transform.classes:1336 electric_plant_depreciation_functional_ferc1: Spot fixing missing values.\n"
     ]
    },
    {
     "name": "stdout",
     "output_type": "stream",
     "text": [
      "electric_plant_depreciation_functional_ferc1: Spot fixing missing values.\n"
     ]
    },
    {
     "name": "stderr",
     "output_type": "stream",
     "text": [
      "2023-03-17 17:02:22 [    INFO] catalystcoop.pudl.transform.classes:1234 electric_plant_depreciation_functional_ferc1: Normalizing freeform string columns.\n"
     ]
    },
    {
     "name": "stdout",
     "output_type": "stream",
     "text": [
      "electric_plant_depreciation_functional_ferc1: Normalizing freeform string columns.\n"
     ]
    },
    {
     "name": "stderr",
     "output_type": "stream",
     "text": [
      "2023-03-17 17:02:22 [    INFO] catalystcoop.pudl.transform.classes:1258 electric_plant_depreciation_functional_ferc1: Categorizing string columns using a controlled vocabulary.\n"
     ]
    },
    {
     "name": "stdout",
     "output_type": "stream",
     "text": [
      "electric_plant_depreciation_functional_ferc1: Categorizing string columns using a controlled vocabulary.\n"
     ]
    },
    {
     "name": "stderr",
     "output_type": "stream",
     "text": [
      "2023-03-17 17:02:22 [    INFO] catalystcoop.pudl.transform.classes:1283 electric_plant_depreciation_functional_ferc1: Converting units and renaming columns accordingly.\n"
     ]
    },
    {
     "name": "stdout",
     "output_type": "stream",
     "text": [
      "electric_plant_depreciation_functional_ferc1: Converting units and renaming columns accordingly.\n"
     ]
    },
    {
     "name": "stderr",
     "output_type": "stream",
     "text": [
      "2023-03-17 17:02:22 [    INFO] catalystcoop.pudl.transform.classes:1245 electric_plant_depreciation_functional_ferc1: Stripping non-numeric values from [].\n"
     ]
    },
    {
     "name": "stdout",
     "output_type": "stream",
     "text": [
      "electric_plant_depreciation_functional_ferc1: Stripping non-numeric values from [].\n"
     ]
    },
    {
     "name": "stderr",
     "output_type": "stream",
     "text": [
      "2023-03-17 17:02:22 [    INFO] catalystcoop.pudl.transform.classes:1272 electric_plant_depreciation_functional_ferc1: Nullifying outlying values.\n"
     ]
    },
    {
     "name": "stdout",
     "output_type": "stream",
     "text": [
      "electric_plant_depreciation_functional_ferc1: Nullifying outlying values.\n"
     ]
    },
    {
     "name": "stderr",
     "output_type": "stream",
     "text": [
      "2023-03-17 17:02:22 [    INFO] catalystcoop.pudl.transform.classes:1325 electric_plant_depreciation_functional_ferc1: Replacing specified values with NA.\n"
     ]
    },
    {
     "name": "stdout",
     "output_type": "stream",
     "text": [
      "electric_plant_depreciation_functional_ferc1: Replacing specified values with NA.\n"
     ]
    },
    {
     "name": "stderr",
     "output_type": "stream",
     "text": [
      "2023-03-17 17:02:22 [    INFO] catalystcoop.pudl.transform.classes:1312 electric_plant_depreciation_functional_ferc1: Dropping remaining invalid rows.\n"
     ]
    },
    {
     "name": "stdout",
     "output_type": "stream",
     "text": [
      "electric_plant_depreciation_functional_ferc1: Dropping remaining invalid rows.\n"
     ]
    },
    {
     "name": "stderr",
     "output_type": "stream",
     "text": [
      "2023-03-17 17:02:22 [    INFO] catalystcoop.pudl.transform.ferc1:1039 electric_plant_depreciation_functional_ferc1: Merging metadata\n"
     ]
    },
    {
     "name": "stdout",
     "output_type": "stream",
     "text": [
      "electric_plant_depreciation_functional_ferc1: Merging metadata\n"
     ]
    },
    {
     "name": "stderr",
     "output_type": "stream",
     "text": [
      "2023-03-17 17:02:22 [    INFO] catalystcoop.pudl.transform.classes:1343 electric_plant_depreciation_functional_ferc1: Enforcing database schema on dataframe.\n"
     ]
    },
    {
     "name": "stdout",
     "output_type": "stream",
     "text": [
      "electric_plant_depreciation_functional_ferc1: Enforcing database schema on dataframe.\n"
     ]
    },
    {
     "name": "stderr",
     "output_type": "stream",
     "text": [
      "2023-03-17 17:02:22 [    INFO] catalystcoop.pudl.transform.ferc1:1079 electric_operating_revenues_ferc1: Processing DBF data pre-concatenation.\n"
     ]
    },
    {
     "name": "stdout",
     "output_type": "stream",
     "text": [
      "electric_operating_revenues_ferc1: Processing DBF data pre-concatenation.\n"
     ]
    },
    {
     "name": "stderr",
     "output_type": "stream",
     "text": [
      "2023-03-17 17:02:22 [    INFO] catalystcoop.pudl.transform.ferc1:1142 electric_operating_revenues_ferc1: After selection only annual records, we have 25.9% of the original table.\n"
     ]
    },
    {
     "name": "stdout",
     "output_type": "stream",
     "text": [
      "electric_operating_revenues_ferc1: After selection only annual records, we have 25.9% of the original table.\n"
     ]
    },
    {
     "name": "stderr",
     "output_type": "stream",
     "text": [
      "2023-03-17 17:02:22 [    INFO] catalystcoop.pudl.transform.ferc1:355 Aligning row numbers from DBF row to XBRL map for ['f1_elctrc_oper_rev']\n"
     ]
    },
    {
     "name": "stdout",
     "output_type": "stream",
     "text": [
      "Aligning row numbers from DBF row to XBRL map for ['f1_elctrc_oper_rev']\n"
     ]
    },
    {
     "name": "stderr",
     "output_type": "stream",
     "text": [
      "2023-03-17 17:02:22 [    INFO] catalystcoop.pudl.transform.classes:1210 electric_operating_revenues_ferc1: Attempting to rename 11 columns.\n"
     ]
    },
    {
     "name": "stdout",
     "output_type": "stream",
     "text": [
      "electric_operating_revenues_ferc1: Attempting to rename 11 columns.\n"
     ]
    },
    {
     "name": "stderr",
     "output_type": "stream",
     "text": [
      "2023-03-17 17:02:22 [    INFO] catalystcoop.pudl.transform.ferc1:1100 electric_operating_revenues_ferc1: Processing XBRL data pre-concatenation.\n"
     ]
    },
    {
     "name": "stdout",
     "output_type": "stream",
     "text": [
      "electric_operating_revenues_ferc1: Processing XBRL data pre-concatenation.\n"
     ]
    },
    {
     "name": "stderr",
     "output_type": "stream",
     "text": [
      "2023-03-17 17:02:22 [    INFO] catalystcoop.pudl.transform.classes:1210 electric_operating_revenues_ferc1: Attempting to rename 0 columns.\n"
     ]
    },
    {
     "name": "stdout",
     "output_type": "stream",
     "text": [
      "electric_operating_revenues_ferc1: Attempting to rename 0 columns.\n"
     ]
    },
    {
     "name": "stderr",
     "output_type": "stream",
     "text": [
      "2023-03-17 17:02:22 [    INFO] catalystcoop.pudl.transform.ferc1:1154 electric_operating_revenues_ferc1: Unstacking balances to the report years.\n"
     ]
    },
    {
     "name": "stdout",
     "output_type": "stream",
     "text": [
      "electric_operating_revenues_ferc1: Unstacking balances to the report years.\n"
     ]
    },
    {
     "name": "stderr",
     "output_type": "stream",
     "text": [
      "2023-03-17 17:02:22 [    INFO] catalystcoop.pudl.transform.classes:1210 electric_operating_revenues_ferc1: Attempting to rename 46 columns.\n"
     ]
    },
    {
     "name": "stdout",
     "output_type": "stream",
     "text": [
      "electric_operating_revenues_ferc1: Attempting to rename 46 columns.\n"
     ]
    },
    {
     "name": "stderr",
     "output_type": "stream",
     "text": [
      "2023-03-17 17:02:22 [    INFO] catalystcoop.pudl.transform.ferc1:1381 electric_operating_revenues_ferc1: After selection of dates based on the report year, we have 44.8% of the original table.\n"
     ]
    },
    {
     "name": "stdout",
     "output_type": "stream",
     "text": [
      "electric_operating_revenues_ferc1: After selection of dates based on the report year, we have 44.8% of the original table.\n"
     ]
    },
    {
     "name": "stderr",
     "output_type": "stream",
     "text": [
      "2023-03-17 17:02:22 [    INFO] catalystcoop.pudl.transform.ferc1:1279 electric_operating_revenues_ferc1: No XBRL instant table found.\n"
     ]
    },
    {
     "name": "stdout",
     "output_type": "stream",
     "text": [
      "electric_operating_revenues_ferc1: No XBRL instant table found.\n"
     ]
    },
    {
     "name": "stderr",
     "output_type": "stream",
     "text": [
      "2023-03-17 17:02:22 [    INFO] catalystcoop.pudl.transform.ferc1:1198 electric_operating_revenues_ferc1: applying wide_to_tidy for xbrl\n"
     ]
    },
    {
     "name": "stdout",
     "output_type": "stream",
     "text": [
      "electric_operating_revenues_ferc1: applying wide_to_tidy for xbrl\n"
     ]
    },
    {
     "name": "stderr",
     "output_type": "stream",
     "text": [
      "2023-03-17 17:02:22 [    INFO] catalystcoop.pudl.transform.classes:1210 electric_operating_revenues_ferc1: Attempting to rename 3 columns.\n"
     ]
    },
    {
     "name": "stdout",
     "output_type": "stream",
     "text": [
      "electric_operating_revenues_ferc1: Attempting to rename 3 columns.\n"
     ]
    },
    {
     "name": "stderr",
     "output_type": "stream",
     "text": [
      "2023-03-17 17:02:22 [    INFO] catalystcoop.pudl.transform.ferc1:974 electric_operating_revenues_ferc1: Selecting DBF rows with desired values in revenue_type.\n"
     ]
    },
    {
     "name": "stdout",
     "output_type": "stream",
     "text": [
      "electric_operating_revenues_ferc1: Selecting DBF rows with desired values in revenue_type.\n"
     ]
    },
    {
     "name": "stderr",
     "output_type": "stream",
     "text": [
      "2023-03-17 17:02:22 [ WARNING] catalystcoop.pudl.transform.ferc1:451 Dropping 1 DBF categories that contain the following values in revenue_type but expected 4:['other_operating_revenues_unstructured']\n"
     ]
    },
    {
     "name": "stdout",
     "output_type": "stream",
     "text": [
      "Dropping 1 DBF categories that contain the following values in revenue_type but expected 4:['other_operating_revenues_unstructured']\n"
     ]
    },
    {
     "name": "stderr",
     "output_type": "stream",
     "text": [
      "2023-03-17 17:02:22 [    INFO] catalystcoop.pudl.transform.ferc1:916 electric_operating_revenues_ferc1: Concatenating DBF + XBRL dataframes.\n"
     ]
    },
    {
     "name": "stdout",
     "output_type": "stream",
     "text": [
      "electric_operating_revenues_ferc1: Concatenating DBF + XBRL dataframes.\n"
     ]
    },
    {
     "name": "stderr",
     "output_type": "stream",
     "text": [
      "2023-03-17 17:02:22 [    INFO] catalystcoop.pudl.transform.classes:1336 electric_operating_revenues_ferc1: Spot fixing missing values.\n"
     ]
    },
    {
     "name": "stdout",
     "output_type": "stream",
     "text": [
      "electric_operating_revenues_ferc1: Spot fixing missing values.\n"
     ]
    },
    {
     "name": "stderr",
     "output_type": "stream",
     "text": [
      "2023-03-17 17:02:22 [    INFO] catalystcoop.pudl.transform.classes:1234 electric_operating_revenues_ferc1: Normalizing freeform string columns.\n"
     ]
    },
    {
     "name": "stdout",
     "output_type": "stream",
     "text": [
      "electric_operating_revenues_ferc1: Normalizing freeform string columns.\n"
     ]
    },
    {
     "name": "stderr",
     "output_type": "stream",
     "text": [
      "2023-03-17 17:02:22 [    INFO] catalystcoop.pudl.transform.classes:1258 electric_operating_revenues_ferc1: Categorizing string columns using a controlled vocabulary.\n"
     ]
    },
    {
     "name": "stdout",
     "output_type": "stream",
     "text": [
      "electric_operating_revenues_ferc1: Categorizing string columns using a controlled vocabulary.\n"
     ]
    },
    {
     "name": "stderr",
     "output_type": "stream",
     "text": [
      "2023-03-17 17:02:22 [    INFO] catalystcoop.pudl.transform.classes:1283 electric_operating_revenues_ferc1: Converting units and renaming columns accordingly.\n"
     ]
    },
    {
     "name": "stdout",
     "output_type": "stream",
     "text": [
      "electric_operating_revenues_ferc1: Converting units and renaming columns accordingly.\n"
     ]
    },
    {
     "name": "stderr",
     "output_type": "stream",
     "text": [
      "2023-03-17 17:02:22 [    INFO] catalystcoop.pudl.transform.classes:1245 electric_operating_revenues_ferc1: Stripping non-numeric values from [].\n"
     ]
    },
    {
     "name": "stdout",
     "output_type": "stream",
     "text": [
      "electric_operating_revenues_ferc1: Stripping non-numeric values from [].\n"
     ]
    },
    {
     "name": "stderr",
     "output_type": "stream",
     "text": [
      "2023-03-17 17:02:22 [    INFO] catalystcoop.pudl.transform.classes:1272 electric_operating_revenues_ferc1: Nullifying outlying values.\n"
     ]
    },
    {
     "name": "stdout",
     "output_type": "stream",
     "text": [
      "electric_operating_revenues_ferc1: Nullifying outlying values.\n"
     ]
    },
    {
     "name": "stderr",
     "output_type": "stream",
     "text": [
      "2023-03-17 17:02:22 [    INFO] catalystcoop.pudl.transform.classes:1325 electric_operating_revenues_ferc1: Replacing specified values with NA.\n"
     ]
    },
    {
     "name": "stdout",
     "output_type": "stream",
     "text": [
      "electric_operating_revenues_ferc1: Replacing specified values with NA.\n"
     ]
    },
    {
     "name": "stderr",
     "output_type": "stream",
     "text": [
      "2023-03-17 17:02:22 [    INFO] catalystcoop.pudl.transform.classes:1312 electric_operating_revenues_ferc1: Dropping remaining invalid rows.\n"
     ]
    },
    {
     "name": "stdout",
     "output_type": "stream",
     "text": [
      "electric_operating_revenues_ferc1: Dropping remaining invalid rows.\n"
     ]
    },
    {
     "name": "stderr",
     "output_type": "stream",
     "text": [
      "2023-03-17 17:02:22 [    INFO] catalystcoop.pudl.transform.classes:823 54.1% of records (4457 rows) contain only {'', nan, <NA>} values in required columns. Dropped these 💩💩💩 records.\n"
     ]
    },
    {
     "name": "stdout",
     "output_type": "stream",
     "text": [
      "54.1% of records (4457 rows) contain only {'', nan, <NA>} values in required columns. Dropped these 💩💩💩 records.\n"
     ]
    },
    {
     "name": "stderr",
     "output_type": "stream",
     "text": [
      "2023-03-17 17:02:22 [    INFO] catalystcoop.pudl.transform.ferc1:1039 electric_operating_revenues_ferc1: Merging metadata\n"
     ]
    },
    {
     "name": "stdout",
     "output_type": "stream",
     "text": [
      "electric_operating_revenues_ferc1: Merging metadata\n"
     ]
    },
    {
     "name": "stderr",
     "output_type": "stream",
     "text": [
      "2023-03-17 17:02:22 [    INFO] catalystcoop.pudl.transform.classes:1343 electric_operating_revenues_ferc1: Enforcing database schema on dataframe.\n"
     ]
    },
    {
     "name": "stdout",
     "output_type": "stream",
     "text": [
      "electric_operating_revenues_ferc1: Enforcing database schema on dataframe.\n"
     ]
    },
    {
     "name": "stderr",
     "output_type": "stream",
     "text": [
      "2023-03-17 17:02:22 [    INFO] catalystcoop.pudl.transform.ferc1:1079 cash_flow_ferc1: Processing DBF data pre-concatenation.\n"
     ]
    },
    {
     "name": "stdout",
     "output_type": "stream",
     "text": [
      "cash_flow_ferc1: Processing DBF data pre-concatenation.\n"
     ]
    },
    {
     "name": "stderr",
     "output_type": "stream",
     "text": [
      "2023-03-17 17:02:22 [    INFO] catalystcoop.pudl.transform.ferc1:1142 cash_flow_ferc1: After selection only annual records, we have 25.9% of the original table.\n"
     ]
    },
    {
     "name": "stdout",
     "output_type": "stream",
     "text": [
      "cash_flow_ferc1: After selection only annual records, we have 25.9% of the original table.\n"
     ]
    },
    {
     "name": "stderr",
     "output_type": "stream",
     "text": [
      "2023-03-17 17:02:22 [    INFO] catalystcoop.pudl.transform.ferc1:355 Aligning row numbers from DBF row to XBRL map for ['f1_cash_flow']\n"
     ]
    },
    {
     "name": "stdout",
     "output_type": "stream",
     "text": [
      "Aligning row numbers from DBF row to XBRL map for ['f1_cash_flow']\n"
     ]
    },
    {
     "name": "stderr",
     "output_type": "stream",
     "text": [
      "2023-03-17 17:02:22 [    INFO] catalystcoop.pudl.transform.classes:1210 cash_flow_ferc1: Attempting to rename 10 columns.\n"
     ]
    },
    {
     "name": "stdout",
     "output_type": "stream",
     "text": [
      "cash_flow_ferc1: Attempting to rename 10 columns.\n"
     ]
    },
    {
     "name": "stderr",
     "output_type": "stream",
     "text": [
      "2023-03-17 17:02:22 [    INFO] catalystcoop.pudl.transform.ferc1:1100 cash_flow_ferc1: Processing XBRL data pre-concatenation.\n"
     ]
    },
    {
     "name": "stdout",
     "output_type": "stream",
     "text": [
      "cash_flow_ferc1: Processing XBRL data pre-concatenation.\n"
     ]
    },
    {
     "name": "stderr",
     "output_type": "stream",
     "text": [
      "2023-03-17 17:02:22 [    INFO] catalystcoop.pudl.transform.ferc1:1154 cash_flow_ferc1: Unstacking balances to the report years.\n"
     ]
    },
    {
     "name": "stdout",
     "output_type": "stream",
     "text": [
      "cash_flow_ferc1: Unstacking balances to the report years.\n"
     ]
    },
    {
     "name": "stderr",
     "output_type": "stream",
     "text": [
      "2023-03-17 17:02:22 [ WARNING] catalystcoop.pudl.transform.ferc1:527 Dropping unexpected years: [2019]\n"
     ]
    },
    {
     "name": "stdout",
     "output_type": "stream",
     "text": [
      "Dropping unexpected years: [2019]\n"
     ]
    },
    {
     "name": "stderr",
     "output_type": "stream",
     "text": [
      "2023-03-17 17:02:22 [    INFO] catalystcoop.pudl.transform.classes:1210 cash_flow_ferc1: Attempting to rename 2 columns.\n"
     ]
    },
    {
     "name": "stdout",
     "output_type": "stream",
     "text": [
      "cash_flow_ferc1: Attempting to rename 2 columns.\n"
     ]
    },
    {
     "name": "stderr",
     "output_type": "stream",
     "text": [
      "2023-03-17 17:02:22 [    INFO] catalystcoop.pudl.transform.classes:1210 cash_flow_ferc1: Attempting to rename 55 columns.\n"
     ]
    },
    {
     "name": "stdout",
     "output_type": "stream",
     "text": [
      "cash_flow_ferc1: Attempting to rename 55 columns.\n"
     ]
    },
    {
     "name": "stderr",
     "output_type": "stream",
     "text": [
      "2023-03-17 17:02:22 [    INFO] catalystcoop.pudl.transform.ferc1:1381 cash_flow_ferc1: After selection of dates based on the report year, we have 48.6% of the original table.\n"
     ]
    },
    {
     "name": "stdout",
     "output_type": "stream",
     "text": [
      "cash_flow_ferc1: After selection of dates based on the report year, we have 48.6% of the original table.\n"
     ]
    },
    {
     "name": "stderr",
     "output_type": "stream",
     "text": [
      "2023-03-17 17:02:22 [    INFO] catalystcoop.pudl.transform.ferc1:1285 cash_flow_ferc1: Both XBRL instant & duration tables found.\n"
     ]
    },
    {
     "name": "stdout",
     "output_type": "stream",
     "text": [
      "cash_flow_ferc1: Both XBRL instant & duration tables found.\n"
     ]
    },
    {
     "name": "stderr",
     "output_type": "stream",
     "text": [
      "2023-03-17 17:02:22 [    INFO] catalystcoop.pudl.transform.ferc1:1304 cash_flow_ferc1: Combining XBRL instant & duration tables using RIGHT-MERGE.\n"
     ]
    },
    {
     "name": "stdout",
     "output_type": "stream",
     "text": [
      "cash_flow_ferc1: Combining XBRL instant & duration tables using RIGHT-MERGE.\n"
     ]
    },
    {
     "name": "stderr",
     "output_type": "stream",
     "text": [
      "2023-03-17 17:02:22 [    INFO] catalystcoop.pudl.transform.ferc1:1198 cash_flow_ferc1: applying wide_to_tidy for xbrl\n"
     ]
    },
    {
     "name": "stdout",
     "output_type": "stream",
     "text": [
      "cash_flow_ferc1: applying wide_to_tidy for xbrl\n"
     ]
    },
    {
     "name": "stderr",
     "output_type": "stream",
     "text": [
      "2023-03-17 17:02:22 [    INFO] catalystcoop.pudl.transform.classes:1210 cash_flow_ferc1: Attempting to rename 2 columns.\n"
     ]
    },
    {
     "name": "stdout",
     "output_type": "stream",
     "text": [
      "cash_flow_ferc1: Attempting to rename 2 columns.\n"
     ]
    },
    {
     "name": "stderr",
     "output_type": "stream",
     "text": [
      "2023-03-17 17:02:22 [    INFO] catalystcoop.pudl.transform.ferc1:974 cash_flow_ferc1: Selecting DBF rows with desired values in amount_type.\n"
     ]
    },
    {
     "name": "stdout",
     "output_type": "stream",
     "text": [
      "cash_flow_ferc1: Selecting DBF rows with desired values in amount_type.\n"
     ]
    },
    {
     "name": "stderr",
     "output_type": "stream",
     "text": [
      "2023-03-17 17:02:22 [    INFO] catalystcoop.pudl.transform.ferc1:916 cash_flow_ferc1: Concatenating DBF + XBRL dataframes.\n"
     ]
    },
    {
     "name": "stdout",
     "output_type": "stream",
     "text": [
      "cash_flow_ferc1: Concatenating DBF + XBRL dataframes.\n"
     ]
    },
    {
     "name": "stderr",
     "output_type": "stream",
     "text": [
      "2023-03-17 17:02:22 [    INFO] catalystcoop.pudl.transform.classes:1336 cash_flow_ferc1: Spot fixing missing values.\n"
     ]
    },
    {
     "name": "stdout",
     "output_type": "stream",
     "text": [
      "cash_flow_ferc1: Spot fixing missing values.\n"
     ]
    },
    {
     "name": "stderr",
     "output_type": "stream",
     "text": [
      "2023-03-17 17:02:22 [    INFO] catalystcoop.pudl.transform.classes:1234 cash_flow_ferc1: Normalizing freeform string columns.\n"
     ]
    },
    {
     "name": "stdout",
     "output_type": "stream",
     "text": [
      "cash_flow_ferc1: Normalizing freeform string columns.\n"
     ]
    },
    {
     "name": "stderr",
     "output_type": "stream",
     "text": [
      "2023-03-17 17:02:22 [    INFO] catalystcoop.pudl.transform.classes:1258 cash_flow_ferc1: Categorizing string columns using a controlled vocabulary.\n"
     ]
    },
    {
     "name": "stdout",
     "output_type": "stream",
     "text": [
      "cash_flow_ferc1: Categorizing string columns using a controlled vocabulary.\n"
     ]
    },
    {
     "name": "stderr",
     "output_type": "stream",
     "text": [
      "2023-03-17 17:02:22 [    INFO] catalystcoop.pudl.transform.classes:1283 cash_flow_ferc1: Converting units and renaming columns accordingly.\n"
     ]
    },
    {
     "name": "stdout",
     "output_type": "stream",
     "text": [
      "cash_flow_ferc1: Converting units and renaming columns accordingly.\n"
     ]
    },
    {
     "name": "stderr",
     "output_type": "stream",
     "text": [
      "2023-03-17 17:02:22 [    INFO] catalystcoop.pudl.transform.classes:1245 cash_flow_ferc1: Stripping non-numeric values from [].\n"
     ]
    },
    {
     "name": "stdout",
     "output_type": "stream",
     "text": [
      "cash_flow_ferc1: Stripping non-numeric values from [].\n"
     ]
    },
    {
     "name": "stderr",
     "output_type": "stream",
     "text": [
      "2023-03-17 17:02:22 [    INFO] catalystcoop.pudl.transform.classes:1272 cash_flow_ferc1: Nullifying outlying values.\n"
     ]
    },
    {
     "name": "stdout",
     "output_type": "stream",
     "text": [
      "cash_flow_ferc1: Nullifying outlying values.\n"
     ]
    },
    {
     "name": "stderr",
     "output_type": "stream",
     "text": [
      "2023-03-17 17:02:22 [    INFO] catalystcoop.pudl.transform.classes:1325 cash_flow_ferc1: Replacing specified values with NA.\n"
     ]
    },
    {
     "name": "stdout",
     "output_type": "stream",
     "text": [
      "cash_flow_ferc1: Replacing specified values with NA.\n"
     ]
    },
    {
     "name": "stderr",
     "output_type": "stream",
     "text": [
      "2023-03-17 17:02:22 [    INFO] catalystcoop.pudl.transform.classes:1312 cash_flow_ferc1: Dropping remaining invalid rows.\n"
     ]
    },
    {
     "name": "stdout",
     "output_type": "stream",
     "text": [
      "cash_flow_ferc1: Dropping remaining invalid rows.\n"
     ]
    },
    {
     "name": "stderr",
     "output_type": "stream",
     "text": [
      "2023-03-17 17:02:22 [    INFO] catalystcoop.pudl.transform.ferc1:1039 cash_flow_ferc1: Merging metadata\n"
     ]
    },
    {
     "name": "stdout",
     "output_type": "stream",
     "text": [
      "cash_flow_ferc1: Merging metadata\n"
     ]
    },
    {
     "name": "stderr",
     "output_type": "stream",
     "text": [
      "2023-03-17 17:02:22 [    INFO] catalystcoop.pudl.transform.ferc1:3611 Index(['amount_ending_balace'], dtype='object')\n"
     ]
    },
    {
     "name": "stdout",
     "output_type": "stream",
     "text": [
      "Index(['amount_ending_balace'], dtype='object')\n"
     ]
    },
    {
     "name": "stderr",
     "output_type": "stream",
     "text": [
      "2023-03-17 17:02:22 [    INFO] catalystcoop.pudl.transform.classes:1343 cash_flow_ferc1: Enforcing database schema on dataframe.\n"
     ]
    },
    {
     "name": "stdout",
     "output_type": "stream",
     "text": [
      "cash_flow_ferc1: Enforcing database schema on dataframe.\n"
     ]
    },
    {
     "name": "stderr",
     "output_type": "stream",
     "text": [
      "2023-03-17 17:02:22 [    INFO] catalystcoop.pudl.transform.ferc1:1079 electricity_sales_by_rate_schedule_ferc1: Processing DBF data pre-concatenation.\n"
     ]
    },
    {
     "name": "stdout",
     "output_type": "stream",
     "text": [
      "electricity_sales_by_rate_schedule_ferc1: Processing DBF data pre-concatenation.\n"
     ]
    },
    {
     "name": "stderr",
     "output_type": "stream",
     "text": [
      "2023-03-17 17:02:22 [    INFO] catalystcoop.pudl.transform.classes:1210 electricity_sales_by_rate_schedule_ferc1: Attempting to rename 13 columns.\n"
     ]
    },
    {
     "name": "stdout",
     "output_type": "stream",
     "text": [
      "electricity_sales_by_rate_schedule_ferc1: Attempting to rename 13 columns.\n"
     ]
    },
    {
     "name": "stderr",
     "output_type": "stream",
     "text": [
      "2023-03-17 17:02:22 [    INFO] catalystcoop.pudl.transform.ferc1:3694 electricity_sales_by_rate_schedule_ferc1: Processing XBRL data pre-concatenation.\n"
     ]
    },
    {
     "name": "stdout",
     "output_type": "stream",
     "text": [
      "electricity_sales_by_rate_schedule_ferc1: Processing XBRL data pre-concatenation.\n"
     ]
    },
    {
     "name": "stderr",
     "output_type": "stream",
     "text": [
      "2023-03-17 17:02:22 [    INFO] catalystcoop.pudl.transform.classes:1210 electricity_sales_by_rate_schedule_ferc1: Attempting to rename 0 columns.\n"
     ]
    },
    {
     "name": "stdout",
     "output_type": "stream",
     "text": [
      "electricity_sales_by_rate_schedule_ferc1: Attempting to rename 0 columns.\n"
     ]
    },
    {
     "name": "stderr",
     "output_type": "stream",
     "text": [
      "2023-03-17 17:02:22 [    INFO] catalystcoop.pudl.transform.ferc1:1154 electricity_sales_by_rate_schedule_ferc1: Unstacking balances to the report years.\n"
     ]
    },
    {
     "name": "stdout",
     "output_type": "stream",
     "text": [
      "electricity_sales_by_rate_schedule_ferc1: Unstacking balances to the report years.\n"
     ]
    },
    {
     "name": "stderr",
     "output_type": "stream",
     "text": [
      "2023-03-17 17:02:22 [    INFO] catalystcoop.pudl.transform.classes:1210 electricity_sales_by_rate_schedule_ferc1: Attempting to rename 0 columns.\n"
     ]
    },
    {
     "name": "stdout",
     "output_type": "stream",
     "text": [
      "electricity_sales_by_rate_schedule_ferc1: Attempting to rename 0 columns.\n"
     ]
    },
    {
     "name": "stderr",
     "output_type": "stream",
     "text": [
      "2023-03-17 17:02:23 [    INFO] catalystcoop.pudl.transform.ferc1:1381 electricity_sales_by_rate_schedule_ferc1: After selection of dates based on the report year, we have 98.5% of the original table.\n"
     ]
    },
    {
     "name": "stdout",
     "output_type": "stream",
     "text": [
      "electricity_sales_by_rate_schedule_ferc1: After selection of dates based on the report year, we have 98.5% of the original table.\n"
     ]
    },
    {
     "name": "stderr",
     "output_type": "stream",
     "text": [
      "2023-03-17 17:02:23 [    INFO] catalystcoop.pudl.transform.ferc1:1279 electricity_sales_by_rate_schedule_ferc1: No XBRL instant table found.\n"
     ]
    },
    {
     "name": "stdout",
     "output_type": "stream",
     "text": [
      "electricity_sales_by_rate_schedule_ferc1: No XBRL instant table found.\n"
     ]
    },
    {
     "name": "stderr",
     "output_type": "stream",
     "text": [
      "2023-03-17 17:02:23 [    INFO] catalystcoop.pudl.transform.classes:1210 electricity_sales_by_rate_schedule_ferc1: Attempting to rename 136 columns.\n"
     ]
    },
    {
     "name": "stdout",
     "output_type": "stream",
     "text": [
      "electricity_sales_by_rate_schedule_ferc1: Attempting to rename 136 columns.\n"
     ]
    },
    {
     "name": "stderr",
     "output_type": "stream",
     "text": [
      "2023-03-17 17:02:23 [ WARNING] catalystcoop.pudl.transform.classes:1219 electricity_sales_by_rate_schedule_ferc1: Attempting to rename columns which are not present in the dataframe.\n",
      "Missing columns: {'sales_axis'}\n"
     ]
    },
    {
     "name": "stdout",
     "output_type": "stream",
     "text": [
      "electricity_sales_by_rate_schedule_ferc1: Attempting to rename columns which are not present in the dataframe.\n",
      "Missing columns: {'sales_axis'}\n"
     ]
    },
    {
     "name": "stderr",
     "output_type": "stream",
     "text": [
      "2023-03-17 17:02:23 [    INFO] catalystcoop.pudl.transform.ferc1:1213 electricity_sales_by_rate_schedule_ferc1: Combining axis columns: ['residential_sales_axis', 'commercial_sales_axis', 'industrial_sales_axis', 'public_street_and_highway_lighting_axis', 'other_sales_to_public_authorities_axis', 'sales_to_railroads_and_railways_axis', 'interdepartmental_sales_axis'] into sales_axis\n"
     ]
    },
    {
     "name": "stdout",
     "output_type": "stream",
     "text": [
      "electricity_sales_by_rate_schedule_ferc1: Combining axis columns: ['residential_sales_axis', 'commercial_sales_axis', 'industrial_sales_axis', 'public_street_and_highway_lighting_axis', 'other_sales_to_public_authorities_axis', 'sales_to_railroads_and_railways_axis', 'interdepartmental_sales_axis'] into sales_axis\n"
     ]
    },
    {
     "name": "stderr",
     "output_type": "stream",
     "text": [
      "2023-03-17 17:02:23 [    INFO] catalystcoop.pudl.transform.ferc1:3679 electricity_sales_by_rate_schedule_ferc1: Labeling total values.\n"
     ]
    },
    {
     "name": "stdout",
     "output_type": "stream",
     "text": [
      "electricity_sales_by_rate_schedule_ferc1: Labeling total values.\n"
     ]
    },
    {
     "name": "stderr",
     "output_type": "stream",
     "text": [
      "2023-03-17 17:02:23 [    INFO] catalystcoop.pudl.transform.ferc1:1198 electricity_sales_by_rate_schedule_ferc1: applying wide_to_tidy for xbrl\n"
     ]
    },
    {
     "name": "stdout",
     "output_type": "stream",
     "text": [
      "electricity_sales_by_rate_schedule_ferc1: applying wide_to_tidy for xbrl\n"
     ]
    },
    {
     "name": "stderr",
     "output_type": "stream",
     "text": [
      "2023-03-17 17:02:23 [    INFO] catalystcoop.pudl.transform.ferc1:1198 electricity_sales_by_rate_schedule_ferc1: applying wide_to_tidy for xbrl\n"
     ]
    },
    {
     "name": "stdout",
     "output_type": "stream",
     "text": [
      "electricity_sales_by_rate_schedule_ferc1: applying wide_to_tidy for xbrl\n"
     ]
    },
    {
     "name": "stderr",
     "output_type": "stream",
     "text": [
      "2023-03-17 17:02:27 [    INFO] catalystcoop.pudl.transform.ferc1:916 electricity_sales_by_rate_schedule_ferc1: Concatenating DBF + XBRL dataframes.\n"
     ]
    },
    {
     "name": "stdout",
     "output_type": "stream",
     "text": [
      "electricity_sales_by_rate_schedule_ferc1: Concatenating DBF + XBRL dataframes.\n"
     ]
    },
    {
     "name": "stderr",
     "output_type": "stream",
     "text": [
      "2023-03-17 17:02:27 [    INFO] catalystcoop.pudl.transform.classes:1336 electricity_sales_by_rate_schedule_ferc1: Spot fixing missing values.\n"
     ]
    },
    {
     "name": "stdout",
     "output_type": "stream",
     "text": [
      "electricity_sales_by_rate_schedule_ferc1: Spot fixing missing values.\n"
     ]
    },
    {
     "name": "stderr",
     "output_type": "stream",
     "text": [
      "2023-03-17 17:02:27 [    INFO] catalystcoop.pudl.transform.classes:1234 electricity_sales_by_rate_schedule_ferc1: Normalizing freeform string columns.\n"
     ]
    },
    {
     "name": "stdout",
     "output_type": "stream",
     "text": [
      "electricity_sales_by_rate_schedule_ferc1: Normalizing freeform string columns.\n"
     ]
    },
    {
     "name": "stderr",
     "output_type": "stream",
     "text": [
      "2023-03-17 17:02:27 [    INFO] catalystcoop.pudl.transform.classes:1258 electricity_sales_by_rate_schedule_ferc1: Categorizing string columns using a controlled vocabulary.\n"
     ]
    },
    {
     "name": "stdout",
     "output_type": "stream",
     "text": [
      "electricity_sales_by_rate_schedule_ferc1: Categorizing string columns using a controlled vocabulary.\n"
     ]
    },
    {
     "name": "stderr",
     "output_type": "stream",
     "text": [
      "2023-03-17 17:02:27 [    INFO] catalystcoop.pudl.transform.classes:1283 electricity_sales_by_rate_schedule_ferc1: Converting units and renaming columns accordingly.\n"
     ]
    },
    {
     "name": "stdout",
     "output_type": "stream",
     "text": [
      "electricity_sales_by_rate_schedule_ferc1: Converting units and renaming columns accordingly.\n"
     ]
    },
    {
     "name": "stderr",
     "output_type": "stream",
     "text": [
      "2023-03-17 17:02:27 [    INFO] catalystcoop.pudl.transform.classes:1245 electricity_sales_by_rate_schedule_ferc1: Stripping non-numeric values from [].\n"
     ]
    },
    {
     "name": "stdout",
     "output_type": "stream",
     "text": [
      "electricity_sales_by_rate_schedule_ferc1: Stripping non-numeric values from [].\n"
     ]
    },
    {
     "name": "stderr",
     "output_type": "stream",
     "text": [
      "2023-03-17 17:02:27 [    INFO] catalystcoop.pudl.transform.classes:1272 electricity_sales_by_rate_schedule_ferc1: Nullifying outlying values.\n"
     ]
    },
    {
     "name": "stdout",
     "output_type": "stream",
     "text": [
      "electricity_sales_by_rate_schedule_ferc1: Nullifying outlying values.\n"
     ]
    },
    {
     "name": "stderr",
     "output_type": "stream",
     "text": [
      "2023-03-17 17:02:27 [    INFO] catalystcoop.pudl.transform.classes:1325 electricity_sales_by_rate_schedule_ferc1: Replacing specified values with NA.\n"
     ]
    },
    {
     "name": "stdout",
     "output_type": "stream",
     "text": [
      "electricity_sales_by_rate_schedule_ferc1: Replacing specified values with NA.\n"
     ]
    },
    {
     "name": "stderr",
     "output_type": "stream",
     "text": [
      "2023-03-17 17:02:27 [    INFO] catalystcoop.pudl.transform.classes:1312 electricity_sales_by_rate_schedule_ferc1: Dropping remaining invalid rows.\n"
     ]
    },
    {
     "name": "stdout",
     "output_type": "stream",
     "text": [
      "electricity_sales_by_rate_schedule_ferc1: Dropping remaining invalid rows.\n"
     ]
    },
    {
     "name": "stderr",
     "output_type": "stream",
     "text": [
      "2023-03-17 17:02:27 [    INFO] catalystcoop.pudl.transform.classes:823 92.8% of records (302047 rows) contain only {nan} values in required columns. Dropped these 💩💩💩 records.\n"
     ]
    },
    {
     "name": "stdout",
     "output_type": "stream",
     "text": [
      "92.8% of records (302047 rows) contain only {nan} values in required columns. Dropped these 💩💩💩 records.\n"
     ]
    },
    {
     "name": "stderr",
     "output_type": "stream",
     "text": [
      "2023-03-17 17:02:27 [    INFO] catalystcoop.pudl.transform.classes:1343 electricity_sales_by_rate_schedule_ferc1: Enforcing database schema on dataframe.\n"
     ]
    },
    {
     "name": "stdout",
     "output_type": "stream",
     "text": [
      "electricity_sales_by_rate_schedule_ferc1: Enforcing database schema on dataframe.\n"
     ]
    },
    {
     "name": "stderr",
     "output_type": "stream",
     "text": [
      "2023-03-17 17:02:27 [    INFO] catalystcoop.pudl.transform.ferc1:1079 other_regulatory_liabilities_ferc1: Processing DBF data pre-concatenation.\n"
     ]
    },
    {
     "name": "stdout",
     "output_type": "stream",
     "text": [
      "other_regulatory_liabilities_ferc1: Processing DBF data pre-concatenation.\n"
     ]
    },
    {
     "name": "stderr",
     "output_type": "stream",
     "text": [
      "2023-03-17 17:02:27 [    INFO] catalystcoop.pudl.transform.ferc1:1142 other_regulatory_liabilities_ferc1: After selection only annual records, we have 26.7% of the original table.\n"
     ]
    },
    {
     "name": "stdout",
     "output_type": "stream",
     "text": [
      "other_regulatory_liabilities_ferc1: After selection only annual records, we have 26.7% of the original table.\n"
     ]
    },
    {
     "name": "stderr",
     "output_type": "stream",
     "text": [
      "2023-03-17 17:02:27 [    INFO] catalystcoop.pudl.transform.classes:1210 other_regulatory_liabilities_ferc1: Attempting to rename 13 columns.\n"
     ]
    },
    {
     "name": "stdout",
     "output_type": "stream",
     "text": [
      "other_regulatory_liabilities_ferc1: Attempting to rename 13 columns.\n"
     ]
    },
    {
     "name": "stderr",
     "output_type": "stream",
     "text": [
      "2023-03-17 17:02:28 [    INFO] catalystcoop.pudl.transform.ferc1:1100 other_regulatory_liabilities_ferc1: Processing XBRL data pre-concatenation.\n"
     ]
    },
    {
     "name": "stdout",
     "output_type": "stream",
     "text": [
      "other_regulatory_liabilities_ferc1: Processing XBRL data pre-concatenation.\n"
     ]
    },
    {
     "name": "stderr",
     "output_type": "stream",
     "text": [
      "2023-03-17 17:02:28 [    INFO] catalystcoop.pudl.transform.classes:1210 other_regulatory_liabilities_ferc1: Attempting to rename 0 columns.\n"
     ]
    },
    {
     "name": "stdout",
     "output_type": "stream",
     "text": [
      "other_regulatory_liabilities_ferc1: Attempting to rename 0 columns.\n"
     ]
    },
    {
     "name": "stderr",
     "output_type": "stream",
     "text": [
      "2023-03-17 17:02:28 [    INFO] catalystcoop.pudl.transform.ferc1:1154 other_regulatory_liabilities_ferc1: Unstacking balances to the report years.\n"
     ]
    },
    {
     "name": "stdout",
     "output_type": "stream",
     "text": [
      "other_regulatory_liabilities_ferc1: Unstacking balances to the report years.\n"
     ]
    },
    {
     "name": "stderr",
     "output_type": "stream",
     "text": [
      "2023-03-17 17:02:28 [    INFO] catalystcoop.pudl.transform.classes:1210 other_regulatory_liabilities_ferc1: Attempting to rename 0 columns.\n"
     ]
    },
    {
     "name": "stdout",
     "output_type": "stream",
     "text": [
      "other_regulatory_liabilities_ferc1: Attempting to rename 0 columns.\n"
     ]
    },
    {
     "name": "stderr",
     "output_type": "stream",
     "text": [
      "2023-03-17 17:02:28 [    INFO] catalystcoop.pudl.transform.ferc1:1381 other_regulatory_liabilities_ferc1: After selection of dates based on the report year, we have 100.0% of the original table.\n"
     ]
    },
    {
     "name": "stdout",
     "output_type": "stream",
     "text": [
      "other_regulatory_liabilities_ferc1: After selection of dates based on the report year, we have 100.0% of the original table.\n"
     ]
    },
    {
     "name": "stderr",
     "output_type": "stream",
     "text": [
      "2023-03-17 17:02:28 [    INFO] catalystcoop.pudl.transform.ferc1:1285 other_regulatory_liabilities_ferc1: Both XBRL instant & duration tables found.\n"
     ]
    },
    {
     "name": "stdout",
     "output_type": "stream",
     "text": [
      "other_regulatory_liabilities_ferc1: Both XBRL instant & duration tables found.\n"
     ]
    },
    {
     "name": "stderr",
     "output_type": "stream",
     "text": [
      "2023-03-17 17:02:28 [    INFO] catalystcoop.pudl.transform.ferc1:1304 other_regulatory_liabilities_ferc1: Combining XBRL instant & duration tables using RIGHT-MERGE.\n"
     ]
    },
    {
     "name": "stdout",
     "output_type": "stream",
     "text": [
      "other_regulatory_liabilities_ferc1: Combining XBRL instant & duration tables using RIGHT-MERGE.\n"
     ]
    },
    {
     "name": "stderr",
     "output_type": "stream",
     "text": [
      "2023-03-17 17:02:28 [    INFO] catalystcoop.pudl.transform.classes:1210 other_regulatory_liabilities_ferc1: Attempting to rename 9 columns.\n"
     ]
    },
    {
     "name": "stdout",
     "output_type": "stream",
     "text": [
      "other_regulatory_liabilities_ferc1: Attempting to rename 9 columns.\n"
     ]
    },
    {
     "name": "stderr",
     "output_type": "stream",
     "text": [
      "2023-03-17 17:02:28 [    INFO] catalystcoop.pudl.transform.ferc1:916 other_regulatory_liabilities_ferc1: Concatenating DBF + XBRL dataframes.\n"
     ]
    },
    {
     "name": "stdout",
     "output_type": "stream",
     "text": [
      "other_regulatory_liabilities_ferc1: Concatenating DBF + XBRL dataframes.\n"
     ]
    },
    {
     "name": "stderr",
     "output_type": "stream",
     "text": [
      "2023-03-17 17:02:28 [    INFO] catalystcoop.pudl.transform.classes:1336 other_regulatory_liabilities_ferc1: Spot fixing missing values.\n"
     ]
    },
    {
     "name": "stdout",
     "output_type": "stream",
     "text": [
      "other_regulatory_liabilities_ferc1: Spot fixing missing values.\n"
     ]
    },
    {
     "name": "stderr",
     "output_type": "stream",
     "text": [
      "2023-03-17 17:02:28 [    INFO] catalystcoop.pudl.transform.classes:1234 other_regulatory_liabilities_ferc1: Normalizing freeform string columns.\n"
     ]
    },
    {
     "name": "stdout",
     "output_type": "stream",
     "text": [
      "other_regulatory_liabilities_ferc1: Normalizing freeform string columns.\n"
     ]
    },
    {
     "name": "stderr",
     "output_type": "stream",
     "text": [
      "2023-03-17 17:02:28 [    INFO] catalystcoop.pudl.transform.classes:1258 other_regulatory_liabilities_ferc1: Categorizing string columns using a controlled vocabulary.\n"
     ]
    },
    {
     "name": "stdout",
     "output_type": "stream",
     "text": [
      "other_regulatory_liabilities_ferc1: Categorizing string columns using a controlled vocabulary.\n"
     ]
    },
    {
     "name": "stderr",
     "output_type": "stream",
     "text": [
      "2023-03-17 17:02:28 [    INFO] catalystcoop.pudl.transform.classes:1283 other_regulatory_liabilities_ferc1: Converting units and renaming columns accordingly.\n"
     ]
    },
    {
     "name": "stdout",
     "output_type": "stream",
     "text": [
      "other_regulatory_liabilities_ferc1: Converting units and renaming columns accordingly.\n"
     ]
    },
    {
     "name": "stderr",
     "output_type": "stream",
     "text": [
      "2023-03-17 17:02:28 [    INFO] catalystcoop.pudl.transform.classes:1245 other_regulatory_liabilities_ferc1: Stripping non-numeric values from [].\n"
     ]
    },
    {
     "name": "stdout",
     "output_type": "stream",
     "text": [
      "other_regulatory_liabilities_ferc1: Stripping non-numeric values from [].\n"
     ]
    },
    {
     "name": "stderr",
     "output_type": "stream",
     "text": [
      "2023-03-17 17:02:28 [    INFO] catalystcoop.pudl.transform.classes:1272 other_regulatory_liabilities_ferc1: Nullifying outlying values.\n"
     ]
    },
    {
     "name": "stdout",
     "output_type": "stream",
     "text": [
      "other_regulatory_liabilities_ferc1: Nullifying outlying values.\n"
     ]
    },
    {
     "name": "stderr",
     "output_type": "stream",
     "text": [
      "2023-03-17 17:02:28 [    INFO] catalystcoop.pudl.transform.classes:1325 other_regulatory_liabilities_ferc1: Replacing specified values with NA.\n"
     ]
    },
    {
     "name": "stdout",
     "output_type": "stream",
     "text": [
      "other_regulatory_liabilities_ferc1: Replacing specified values with NA.\n"
     ]
    },
    {
     "name": "stderr",
     "output_type": "stream",
     "text": [
      "2023-03-17 17:02:28 [    INFO] catalystcoop.pudl.transform.classes:1312 other_regulatory_liabilities_ferc1: Dropping remaining invalid rows.\n"
     ]
    },
    {
     "name": "stdout",
     "output_type": "stream",
     "text": [
      "other_regulatory_liabilities_ferc1: Dropping remaining invalid rows.\n"
     ]
    },
    {
     "name": "stderr",
     "output_type": "stream",
     "text": [
      "2023-03-17 17:02:28 [    INFO] catalystcoop.pudl.transform.classes:823 29.8% of records (2113 rows) contain only {0, nan, '', <NA>} values in required columns. Dropped these 💩💩💩 records.\n"
     ]
    },
    {
     "name": "stdout",
     "output_type": "stream",
     "text": [
      "29.8% of records (2113 rows) contain only {0, nan, '', <NA>} values in required columns. Dropped these 💩💩💩 records.\n"
     ]
    },
    {
     "name": "stderr",
     "output_type": "stream",
     "text": [
      "2023-03-17 17:02:28 [    INFO] catalystcoop.pudl.transform.classes:1343 other_regulatory_liabilities_ferc1: Enforcing database schema on dataframe.\n"
     ]
    },
    {
     "name": "stdout",
     "output_type": "stream",
     "text": [
      "other_regulatory_liabilities_ferc1: Enforcing database schema on dataframe.\n"
     ]
    }
   ],
   "source": [
    "transformed_tables = {}\n",
    "for table_name, transformer in transformers.items():\n",
    "    if table_name == \"plants_steam_ferc1\":\n",
    "        # plants_steam_ferc1 is a special case. It depends on the transformed fuel_ferc1 table.\n",
    "        continue\n",
    "    transformed_tables[transformer.table_id.value] = transformer.transform(\n",
    "        raw_dbf=ferc1_dbf_raw_dfs[transformer.table_id.value],\n",
    "        raw_xbrl_instant=ferc1_xbrl_raw_dfs[transformer.table_id.value][\"instant\"],\n",
    "        raw_xbrl_duration=ferc1_xbrl_raw_dfs[transformer.table_id.value][\"duration\"]\n",
    "    )"
   ]
  },
  {
   "cell_type": "code",
   "execution_count": 17,
   "id": "6cc37ac5-594b-425d-aad3-7b6e9b6453da",
   "metadata": {
    "tags": []
   },
   "outputs": [
    {
     "name": "stderr",
     "output_type": "stream",
     "text": [
      "2023-03-17 17:02:28 [    INFO] catalystcoop.pudl.transform.ferc1:1079 plants_steam_ferc1: Processing DBF data pre-concatenation.\n"
     ]
    },
    {
     "name": "stdout",
     "output_type": "stream",
     "text": [
      "plants_steam_ferc1: Processing DBF data pre-concatenation.\n"
     ]
    },
    {
     "name": "stderr",
     "output_type": "stream",
     "text": [
      "2023-03-17 17:02:28 [    INFO] catalystcoop.pudl.transform.classes:1210 plants_steam_ferc1: Attempting to rename 43 columns.\n"
     ]
    },
    {
     "name": "stdout",
     "output_type": "stream",
     "text": [
      "plants_steam_ferc1: Attempting to rename 43 columns.\n"
     ]
    },
    {
     "name": "stderr",
     "output_type": "stream",
     "text": [
      "2023-03-17 17:02:28 [    INFO] catalystcoop.pudl.transform.ferc1:1100 plants_steam_ferc1: Processing XBRL data pre-concatenation.\n"
     ]
    },
    {
     "name": "stdout",
     "output_type": "stream",
     "text": [
      "plants_steam_ferc1: Processing XBRL data pre-concatenation.\n"
     ]
    },
    {
     "name": "stderr",
     "output_type": "stream",
     "text": [
      "2023-03-17 17:02:28 [    INFO] catalystcoop.pudl.transform.classes:1210 plants_steam_ferc1: Attempting to rename 0 columns.\n"
     ]
    },
    {
     "name": "stdout",
     "output_type": "stream",
     "text": [
      "plants_steam_ferc1: Attempting to rename 0 columns.\n"
     ]
    },
    {
     "name": "stderr",
     "output_type": "stream",
     "text": [
      "2023-03-17 17:02:28 [    INFO] catalystcoop.pudl.transform.ferc1:1154 plants_steam_ferc1: Unstacking balances to the report years.\n"
     ]
    },
    {
     "name": "stdout",
     "output_type": "stream",
     "text": [
      "plants_steam_ferc1: Unstacking balances to the report years.\n"
     ]
    },
    {
     "name": "stderr",
     "output_type": "stream",
     "text": [
      "2023-03-17 17:02:28 [    INFO] catalystcoop.pudl.transform.classes:1210 plants_steam_ferc1: Attempting to rename 0 columns.\n"
     ]
    },
    {
     "name": "stdout",
     "output_type": "stream",
     "text": [
      "plants_steam_ferc1: Attempting to rename 0 columns.\n"
     ]
    },
    {
     "name": "stderr",
     "output_type": "stream",
     "text": [
      "2023-03-17 17:02:28 [    INFO] catalystcoop.pudl.transform.ferc1:1381 plants_steam_ferc1: After selection of dates based on the report year, we have 100.0% of the original table.\n"
     ]
    },
    {
     "name": "stdout",
     "output_type": "stream",
     "text": [
      "plants_steam_ferc1: After selection of dates based on the report year, we have 100.0% of the original table.\n"
     ]
    },
    {
     "name": "stderr",
     "output_type": "stream",
     "text": [
      "2023-03-17 17:02:28 [    INFO] catalystcoop.pudl.transform.ferc1:1285 plants_steam_ferc1: Both XBRL instant & duration tables found.\n"
     ]
    },
    {
     "name": "stdout",
     "output_type": "stream",
     "text": [
      "plants_steam_ferc1: Both XBRL instant & duration tables found.\n"
     ]
    },
    {
     "name": "stderr",
     "output_type": "stream",
     "text": [
      "2023-03-17 17:02:28 [    INFO] catalystcoop.pudl.transform.ferc1:1304 plants_steam_ferc1: Combining XBRL instant & duration tables using RIGHT-MERGE.\n"
     ]
    },
    {
     "name": "stdout",
     "output_type": "stream",
     "text": [
      "plants_steam_ferc1: Combining XBRL instant & duration tables using RIGHT-MERGE.\n"
     ]
    },
    {
     "name": "stderr",
     "output_type": "stream",
     "text": [
      "2023-03-17 17:02:28 [    INFO] catalystcoop.pudl.transform.classes:1210 plants_steam_ferc1: Attempting to rename 43 columns.\n"
     ]
    },
    {
     "name": "stdout",
     "output_type": "stream",
     "text": [
      "plants_steam_ferc1: Attempting to rename 43 columns.\n"
     ]
    },
    {
     "name": "stderr",
     "output_type": "stream",
     "text": [
      "2023-03-17 17:02:28 [    INFO] catalystcoop.pudl.transform.ferc1:916 plants_steam_ferc1: Concatenating DBF + XBRL dataframes.\n"
     ]
    },
    {
     "name": "stdout",
     "output_type": "stream",
     "text": [
      "plants_steam_ferc1: Concatenating DBF + XBRL dataframes.\n"
     ]
    },
    {
     "name": "stderr",
     "output_type": "stream",
     "text": [
      "2023-03-17 17:02:28 [    INFO] catalystcoop.pudl.transform.classes:1336 plants_steam_ferc1: Spot fixing missing values.\n"
     ]
    },
    {
     "name": "stdout",
     "output_type": "stream",
     "text": [
      "plants_steam_ferc1: Spot fixing missing values.\n"
     ]
    },
    {
     "name": "stderr",
     "output_type": "stream",
     "text": [
      "2023-03-17 17:02:28 [    INFO] catalystcoop.pudl.transform.classes:1234 plants_steam_ferc1: Normalizing freeform string columns.\n"
     ]
    },
    {
     "name": "stdout",
     "output_type": "stream",
     "text": [
      "plants_steam_ferc1: Normalizing freeform string columns.\n"
     ]
    },
    {
     "name": "stderr",
     "output_type": "stream",
     "text": [
      "2023-03-17 17:02:28 [    INFO] catalystcoop.pudl.transform.classes:1258 plants_steam_ferc1: Categorizing string columns using a controlled vocabulary.\n"
     ]
    },
    {
     "name": "stdout",
     "output_type": "stream",
     "text": [
      "plants_steam_ferc1: Categorizing string columns using a controlled vocabulary.\n"
     ]
    },
    {
     "name": "stderr",
     "output_type": "stream",
     "text": [
      "2023-03-17 17:02:28 [    INFO] catalystcoop.pudl.transform.classes:1283 plants_steam_ferc1: Converting units and renaming columns accordingly.\n"
     ]
    },
    {
     "name": "stdout",
     "output_type": "stream",
     "text": [
      "plants_steam_ferc1: Converting units and renaming columns accordingly.\n"
     ]
    },
    {
     "name": "stderr",
     "output_type": "stream",
     "text": [
      "2023-03-17 17:02:28 [    INFO] catalystcoop.pudl.transform.classes:1245 plants_steam_ferc1: Stripping non-numeric values from [].\n"
     ]
    },
    {
     "name": "stdout",
     "output_type": "stream",
     "text": [
      "plants_steam_ferc1: Stripping non-numeric values from [].\n"
     ]
    },
    {
     "name": "stderr",
     "output_type": "stream",
     "text": [
      "2023-03-17 17:02:28 [    INFO] catalystcoop.pudl.transform.classes:1272 plants_steam_ferc1: Nullifying outlying values.\n"
     ]
    },
    {
     "name": "stdout",
     "output_type": "stream",
     "text": [
      "plants_steam_ferc1: Nullifying outlying values.\n"
     ]
    },
    {
     "name": "stderr",
     "output_type": "stream",
     "text": [
      "2023-03-17 17:02:28 [    INFO] catalystcoop.pudl.transform.classes:1325 plants_steam_ferc1: Replacing specified values with NA.\n"
     ]
    },
    {
     "name": "stdout",
     "output_type": "stream",
     "text": [
      "plants_steam_ferc1: Replacing specified values with NA.\n"
     ]
    },
    {
     "name": "stderr",
     "output_type": "stream",
     "text": [
      "2023-03-17 17:02:28 [    INFO] catalystcoop.pudl.transform.classes:1312 plants_steam_ferc1: Dropping remaining invalid rows.\n"
     ]
    },
    {
     "name": "stdout",
     "output_type": "stream",
     "text": [
      "plants_steam_ferc1: Dropping remaining invalid rows.\n"
     ]
    },
    {
     "name": "stderr",
     "output_type": "stream",
     "text": [
      "2023-03-17 17:02:28 [    INFO] catalystcoop.pudl.transform.classes:823 37.5% of records (1135 rows) contain only {0, '', '0', nan, 'none', <NA>} values in required columns. Dropped these 💩💩💩 records.\n"
     ]
    },
    {
     "name": "stdout",
     "output_type": "stream",
     "text": [
      "37.5% of records (1135 rows) contain only {0, '', '0', nan, 'none', <NA>} values in required columns. Dropped these 💩💩💩 records.\n"
     ]
    },
    {
     "name": "stderr",
     "output_type": "stream",
     "text": [
      "2023-03-17 17:02:28 [    INFO] catalystcoop.pudl.transform.classes:823 0.1% of records (2 rows) contain only {'', '-', '0', 'not applicable', nan, <NA>} values in required columns. Dropped these 💩💩💩 records.\n"
     ]
    },
    {
     "name": "stdout",
     "output_type": "stream",
     "text": [
      "0.1% of records (2 rows) contain only {'', '-', '0', 'not applicable', nan, <NA>} values in required columns. Dropped these 💩💩💩 records.\n"
     ]
    },
    {
     "name": "stderr",
     "output_type": "stream",
     "text": [
      "2023-03-17 17:02:28 [    INFO] catalystcoop.pudl.analysis.classify_plants_ferc1:399 Identifying distinct large FERC plants for ID assignment.\n"
     ]
    },
    {
     "name": "stdout",
     "output_type": "stream",
     "text": [
      "Identifying distinct large FERC plants for ID assignment.\n"
     ]
    },
    {
     "name": "stderr",
     "output_type": "stream",
     "text": [
      "2023-03-17 17:02:36 [    INFO] catalystcoop.pudl.analysis.classify_plants_ferc1:432 Successfully associated 1854 of 1891 (98.04%) FERC Form 1 plant records with multi-year plant entities.\n"
     ]
    },
    {
     "name": "stdout",
     "output_type": "stream",
     "text": [
      "Successfully associated 1854 of 1891 (98.04%) FERC Form 1 plant records with multi-year plant entities.\n"
     ]
    },
    {
     "name": "stderr",
     "output_type": "stream",
     "text": [
      "2023-03-17 17:02:36 [    INFO] catalystcoop.pudl.analysis.classify_plants_ferc1:445 Assigning IDs to multi-year FERC plant entities.\n"
     ]
    },
    {
     "name": "stdout",
     "output_type": "stream",
     "text": [
      "Assigning IDs to multi-year FERC plant entities.\n"
     ]
    },
    {
     "name": "stderr",
     "output_type": "stream",
     "text": [
      "2023-03-17 17:02:36 [    INFO] catalystcoop.pudl.analysis.classify_plants_ferc1:462 Identified 26 orphaned FERC plant records. Adding orphans to list of plant entities.\n"
     ]
    },
    {
     "name": "stdout",
     "output_type": "stream",
     "text": [
      "Identified 26 orphaned FERC plant records. Adding orphans to list of plant entities.\n"
     ]
    },
    {
     "name": "stderr",
     "output_type": "stream",
     "text": [
      "2023-03-17 17:02:36 [    INFO] catalystcoop.pudl.analysis.classify_plants_ferc1:484 Successfully Identified 988 multi-year plant entities.\n"
     ]
    },
    {
     "name": "stdout",
     "output_type": "stream",
     "text": [
      "Successfully Identified 988 multi-year plant entities.\n"
     ]
    },
    {
     "name": "stderr",
     "output_type": "stream",
     "text": [
      "2023-03-17 17:02:36 [   ERROR] catalystcoop.pudl.analysis.classify_plants_ferc1:594 Found report_year=2020 2 times in plant_id_ferc1=557\n"
     ]
    },
    {
     "name": "stdout",
     "output_type": "stream",
     "text": [
      "Found report_year=2020 2 times in plant_id_ferc1=557\n"
     ]
    },
    {
     "name": "stderr",
     "output_type": "stream",
     "text": [
      "2023-03-17 17:02:36 [    INFO] catalystcoop.pudl.transform.classes:1343 plants_steam_ferc1: Enforcing database schema on dataframe.\n"
     ]
    },
    {
     "name": "stdout",
     "output_type": "stream",
     "text": [
      "plants_steam_ferc1: Enforcing database schema on dataframe.\n"
     ]
    }
   ],
   "source": [
    "# Handle special case for \"plants_steam_ferc1\"\n",
    "transformer = transformers[\"plants_steam_ferc1\"]\n",
    "transformed_tables[transformer.table_id.value] = transformer.transform(\n",
    "    raw_dbf=ferc1_dbf_raw_dfs[transformer.table_id.value],\n",
    "    raw_xbrl_instant=ferc1_xbrl_raw_dfs[transformer.table_id.value][\"instant\"],\n",
    "    raw_xbrl_duration=ferc1_xbrl_raw_dfs[transformer.table_id.value][\"duration\"],\n",
    "    transformed_fuel=transformed_tables[\"fuel_ferc1\"]\n",
    ")"
   ]
  }
 ],
 "metadata": {
  "kernelspec": {
   "display_name": "Python 3 (ipykernel)",
   "language": "python",
   "name": "python3"
  },
  "language_info": {
   "codemirror_mode": {
    "name": "ipython",
    "version": 3
   },
   "file_extension": ".py",
   "mimetype": "text/x-python",
   "name": "python",
   "nbconvert_exporter": "python",
   "pygments_lexer": "ipython3",
   "version": "3.10.9"
  }
 },
 "nbformat": 4,
 "nbformat_minor": 5
}
