{
 "cells": [
  {
   "cell_type": "markdown",
   "id": "3deb7c75-179c-439f-b30c-beca40e9cecf",
   "metadata": {},
   "source": [
    "# Working with the FERC Form 1 Extract / Transform\n",
    "This notebook steps through PUDL's extract and transform steps for FERC Form 1 to make it easier to test and add new years of data, or new tables from the various spreadsheets that haven't been integrated yet."
   ]
  },
  {
   "cell_type": "code",
   "execution_count": null,
   "id": "1fa9ca56-b2c8-4bae-8ba3-ee9050b0ef86",
   "metadata": {},
   "outputs": [],
   "source": [
    "%load_ext autoreload\n",
    "%autoreload 3\n",
    "import pudl\n",
    "import logging\n",
    "import sys\n",
    "from pathlib import Path\n",
    "import pandas as pd\n",
    "pd.options.display.max_columns = None"
   ]
  },
  {
   "cell_type": "code",
   "execution_count": null,
   "id": "e21fea69-9d14-48d6-b0c9-149c37844e95",
   "metadata": {},
   "outputs": [],
   "source": [
    "logger = logging.getLogger()\n",
    "logger.setLevel(logging.INFO)\n",
    "handler = logging.StreamHandler(stream=sys.stdout)\n",
    "formatter = logging.Formatter('%(message)s')\n",
    "handler.setFormatter(formatter)\n",
    "logger.handlers = [handler]"
   ]
  },
  {
   "cell_type": "code",
   "execution_count": null,
   "id": "4a6e60d7-49e6-447c-a523-f88987c28086",
   "metadata": {},
   "outputs": [],
   "source": [
    "pudl_settings = pudl.workspace.setup.get_defaults()"
   ]
  },
  {
   "cell_type": "markdown",
   "id": "8cdf48e7-c0f8-4c25-8681-87f4c9dcaec0",
   "metadata": {},
   "source": [
    "## Set the scope for the Extract-Transform:"
   ]
  },
  {
   "cell_type": "code",
   "execution_count": null,
   "id": "451cb78d-d4c0-47a7-9eef-193f54cfc06d",
   "metadata": {},
   "outputs": [],
   "source": [
    "ferc1_settings = pudl.settings.Ferc1Settings(\n",
    "    tables=[\n",
    "        \"plants_steam_ferc1\",\n",
    "        \"fuel_ferc1\",\n",
    "        \"plants_hydro_ferc1\",\n",
    "        \"plants_pumped_storage_ferc1\",\n",
    "        \"purchased_power_ferc1\",\n",
    "        \"plants_small_ferc1\",\n",
    "        \"plant_in_service_ferc1\",\n",
    "    ]\n",
    ")"
   ]
  },
  {
   "cell_type": "markdown",
   "id": "14145b03-fb79-46a6-a0e6-82da0c549d66",
   "metadata": {},
   "source": [
    "## Extract DBF and XBRL Data:"
   ]
  },
  {
   "cell_type": "code",
   "execution_count": null,
   "id": "40a748a6-02c1-4f64-9b05-7b4a9d6fce9e",
   "metadata": {
    "jupyter": {
     "outputs_hidden": true
    },
    "tags": []
   },
   "outputs": [],
   "source": [
    "# Extract old FERC form 1 data from DBF (2020 -)\n",
    "ferc1_dbf_raw_dfs = pudl.extract.ferc1.extract_dbf(\n",
    "    ferc1_settings=ferc1_settings, pudl_settings=pudl_settings\n",
    ")\n",
    "# Extract new FERC form 1 data from XBRL (2021 + )\n",
    "ferc1_xbrl_raw_dfs = pudl.extract.ferc1.extract_xbrl(\n",
    "    ferc1_settings=ferc1_settings, pudl_settings=pudl_settings\n",
    ")"
   ]
  },
  {
   "cell_type": "markdown",
   "id": "78271302-5323-4a4e-a208-256824a59ca4",
   "metadata": {},
   "source": [
    "## Transform FERC 1 Tables:"
   ]
  },
  {
   "cell_type": "code",
   "execution_count": null,
   "id": "96ecacb3-439f-49f2-b2f9-00fc16b93d24",
   "metadata": {},
   "outputs": [],
   "source": [
    "from pudl.transform.ferc1 import *\n",
    "from pudl.transform.params import *\n",
    "\n",
    "# Instantiate the table-specific transformers\n",
    "sp = PlantsSmallFerc1TableTransformer(cache_dfs=True, clear_cached_dfs=False)\n",
    "hp = PlantsHydroFerc1TableTransformer(cache_dfs=True, clear_cached_dfs=False)\n",
    "fp = FuelFerc1TableTransformer(cache_dfs=True, clear_cached_dfs=False)\n",
    "st = PlantsSteamFerc1TableTransformer(cache_dfs=True, clear_cached_dfs=False)\n",
    "ps = PlantsPumpedStorageFerc1TableTransformer(cache_dfs=True, clear_cached_dfs=False)\n",
    "pp = PurchasedPowerTableTransformer(cache_dfs=True, clear_cached_dfs=False)\n",
    "pis = PlantInServiceFerc1TableTransformer(cache_dfs=True, clear_cached_dfs=False)"
   ]
  },
  {
   "cell_type": "code",
   "execution_count": null,
   "id": "d594beab-7c93-47e3-acb4-b18ef6d3b16e",
   "metadata": {},
   "outputs": [],
   "source": [
    "# Pick which table to transform!\n",
    "TRANSFORMER = sp"
   ]
  },
  {
   "cell_type": "markdown",
   "id": "d030e249-3858-4650-ba2c-8ef62316db37",
   "metadata": {},
   "source": [
    "### Transform Step-by-Step"
   ]
  },
  {
   "cell_type": "code",
   "execution_count": null,
   "id": "3c5f3389-58c8-40db-b71a-e74a1d4c8c09",
   "metadata": {},
   "outputs": [],
   "source": [
    "start = TRANSFORMER.transform_start(\n",
    "    raw_dbf=ferc1_dbf_raw_dfs[TRANSFORMER.table_id.value],\n",
    "    raw_xbrl_instant=ferc1_xbrl_raw_dfs[TRANSFORMER.table_id.value][\"instant\"],\n",
    "    raw_xbrl_duration=ferc1_xbrl_raw_dfs[TRANSFORMER.table_id.value][\"duration\"]\n",
    ")"
   ]
  },
  {
   "cell_type": "code",
   "execution_count": null,
   "id": "9aa10b65-9200-42c4-8c02-745228b46b7f",
   "metadata": {},
   "outputs": [],
   "source": [
    "main = TRANSFORMER.transform_main(\n",
    "    start\n",
    ")"
   ]
  },
  {
   "cell_type": "code",
   "execution_count": null,
   "id": "e4e1e202-a6b0-4fb9-b9cc-eccbc2e3b813",
   "metadata": {},
   "outputs": [],
   "source": [
    "end = TRANSFORMER.transform_end(\n",
    "    main\n",
    ")"
   ]
  },
  {
   "cell_type": "markdown",
   "id": "a6b2ad2b-57e3-49bd-ba83-8a68f6c06b17",
   "metadata": {},
   "source": [
    "### Transform All Steps Together"
   ]
  },
  {
   "cell_type": "code",
   "execution_count": null,
   "id": "87e11c18-f6a1-49b0-92d5-b9ebc38fe920",
   "metadata": {
    "jupyter": {
     "outputs_hidden": true
    },
    "tags": []
   },
   "outputs": [],
   "source": [
    "TRANSFORMER.transform(\n",
    "    raw_dbf=ferc1_dbf_raw_dfs[TRANSFORMER.table_id.value],\n",
    "    raw_xbrl_instant=ferc1_xbrl_raw_dfs[TRANSFORMER.table_id.value][\"instant\"],\n",
    "    raw_xbrl_duration=ferc1_xbrl_raw_dfs[TRANSFORMER.table_id.value][\"duration\"]\n",
    ")"
   ]
  }
 ],
 "metadata": {
  "kernelspec": {
   "display_name": "Python 3 (ipykernel)",
   "language": "python",
   "name": "python3"
  },
  "language_info": {
   "codemirror_mode": {
    "name": "ipython",
    "version": 3
   },
   "file_extension": ".py",
   "mimetype": "text/x-python",
   "name": "python",
   "nbconvert_exporter": "python",
   "pygments_lexer": "ipython3",
   "version": "3.10.6"
  }
 },
 "nbformat": 4,
 "nbformat_minor": 5
}
