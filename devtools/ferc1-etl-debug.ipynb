{
 "cells": [
  {
   "cell_type": "markdown",
   "id": "3deb7c75-179c-439f-b30c-beca40e9cecf",
   "metadata": {
    "tags": []
   },
   "source": [
    "# Working with the FERC Form 1 Extract / Transform\n",
    "This notebook steps through PUDL's extract and transform steps for FERC Form 1 to make it easier to test and add new years of data, or new tables from the various spreadsheets that haven't been integrated yet."
   ]
  },
  {
   "cell_type": "markdown",
   "id": "82b608c9-df90-4203-b6ef-ce63bd76f6e9",
   "metadata": {
    "tags": []
   },
   "source": [
    "## Setup"
   ]
  },
  {
   "cell_type": "code",
   "execution_count": 1,
   "id": "1fa9ca56-b2c8-4bae-8ba3-ee9050b0ef86",
   "metadata": {},
   "outputs": [
    {
     "name": "stderr",
     "output_type": "stream",
     "text": [
      "pudl_settings is being deprecated in favor of environment variables variables PUDL_OUTPUT and PUDL_INPUT. For more info see: https://catalystcoop-pudl.readthedocs.io/en/dev/dev/dev_setup.html\n",
      "pudl_settings is being deprecated in favor of environment variables PUDL_OUTPUT and PUDL_INPUT. For more info see: https://catalystcoop-pudl.readthedocs.io/en/dev/dev/dev_setup.html\n",
      "sqlite and parquet directories are no longer being used. Make sure there is a single directory named 'output' at the root of your workspace. For more info see: https://catalystcoop-pudl.readthedocs.io/en/dev/dev/dev_setup.html\n",
      "pudl_settings is being deprecated in favor of environment variables variables PUDL_OUTPUT and PUDL_INPUT. For more info see: https://catalystcoop-pudl.readthedocs.io/en/dev/dev/dev_setup.html\n",
      "pudl_settings is being deprecated in favor of environment variables PUDL_OUTPUT and PUDL_INPUT. For more info see: https://catalystcoop-pudl.readthedocs.io/en/dev/dev/dev_setup.html\n",
      "sqlite and parquet directories are no longer being used. Make sure there is a single directory named 'output' at the root of your workspace. For more info see: https://catalystcoop-pudl.readthedocs.io/en/dev/dev/dev_setup.html\n"
     ]
    }
   ],
   "source": [
    "%load_ext autoreload\n",
    "%autoreload 3\n",
    "import pudl\n",
    "import logging\n",
    "import sys\n",
    "from pathlib import Path\n",
    "import pandas as pd\n",
    "pd.options.display.max_columns = None"
   ]
  },
  {
   "cell_type": "code",
   "execution_count": 2,
   "id": "e21fea69-9d14-48d6-b0c9-149c37844e95",
   "metadata": {},
   "outputs": [],
   "source": [
    "logger = logging.getLogger()\n",
    "logger.setLevel(logging.INFO)\n",
    "handler = logging.StreamHandler(stream=sys.stdout)\n",
    "formatter = logging.Formatter('%(message)s')\n",
    "handler.setFormatter(formatter)\n",
    "logger.handlers = [handler]"
   ]
  },
  {
   "cell_type": "markdown",
   "id": "14145b03-fb79-46a6-a0e6-82da0c549d66",
   "metadata": {
    "tags": []
   },
   "source": [
    "## Extract DBF and XBRL Data:"
   ]
  },
  {
   "cell_type": "code",
   "execution_count": 3,
   "id": "d4dadc59-a03a-4f00-9aa8-61f13260c8aa",
   "metadata": {
    "tags": []
   },
   "outputs": [],
   "source": [
    "import pandas as pd\n",
    "\n",
    "from dagster import build_init_resource_context, build_input_context, build_output_context, AssetKey\n",
    "from typing import Literal\n",
    "\n",
    "from pudl.etl import defs, default_assets, load_dataset_settings_from_file\n",
    "from pudl.io_managers import ferc1_xbrl_sqlite_io_manager, ferc1_dbf_sqlite_io_manager\n",
    "from pudl.resources import dataset_settings\n",
    "from pudl.extract.ferc1 import create_raw_ferc1_assets\n",
    "from pudl.extract.ferc1 import TABLE_NAME_MAP_FERC1\n",
    "\n",
    "\n",
    "years = [2020, 2021] # add desired years here\n",
    "\n",
    "configured_dataset_settings = {'ferc1': {'years': years}}\n",
    "\n",
    "dataset_init_context = build_init_resource_context(config=configured_dataset_settings)\n",
    "configured_dataset_settings = dataset_settings(dataset_init_context)"
   ]
  },
  {
   "cell_type": "code",
   "execution_count": 4,
   "id": "b3bd4554-c245-4f9b-a324-82b9ee068b86",
   "metadata": {
    "tags": []
   },
   "outputs": [],
   "source": [
    "import pandas as pd\n",
    "\n",
    "from typing import Literal\n",
    "\n",
    "from pudl.extract.ferc1 import TABLE_NAME_MAP_FERC1\n",
    "from pudl.settings import DatasetsSettings\n",
    "\n",
    "\n",
    "\n",
    "def extract_dbf(dataset_settings: DatasetsSettings) -> dict[str, pd.DataFrame]:\n",
    "    \"\"\"\n",
    "    Coordinates the extraction of all FERC Form 1 tables into PUDL.\n",
    "    \n",
    "    Args:\n",
    "        dataset_settigns: object containing desired years to extract.\n",
    "    \n",
    "    Returns:\n",
    "        A dictionary of DataFrames, with the names of PUDL database tables as the keys.\n",
    "        These are the raw unprocessed dataframes, reflecting the data as it is in the\n",
    "        FERC Form 1 DB, for passing off to the data tidying and cleaning functions found\n",
    "        in the :mod:`pudl.transform.ferc1` module.\n",
    "    \"\"\"\n",
    "    \n",
    "    ferc1_dbf_raw_dfs = {}\n",
    "    \n",
    "    io_manager_init_context = build_init_resource_context(resources={\"dataset_settings\": dataset_settings})\n",
    "    io_manager = ferc1_dbf_sqlite_io_manager(io_manager_init_context)\n",
    "    \n",
    "    for table_name, raw_table_mapping in TABLE_NAME_MAP_FERC1.items():\n",
    "        dbf_table_or_tables = raw_table_mapping[\"dbf\"]\n",
    "        if not isinstance(dbf_table_or_tables, list):\n",
    "            dbf_tables = [dbf_table_or_tables]\n",
    "        else:\n",
    "            dbf_tables = dbf_table_or_tables\n",
    "\n",
    "        tables = []\n",
    "        for dbf_table in dbf_tables:\n",
    "            \n",
    "            context = build_input_context(\n",
    "                asset_key=AssetKey(dbf_table),\n",
    "                upstream_output=None,\n",
    "                resources={\"dataset_settings\": dataset_settings}\n",
    "            )\n",
    "            tables.append(io_manager.load_input(context))\n",
    "        ferc1_dbf_raw_dfs[table_name] = pd.concat(tables)\n",
    "    return ferc1_dbf_raw_dfs\n",
    "\n",
    "\n",
    "\n",
    "def extract_xbrl(dataset_settings: DatasetsSettings) -> dict[str, dict[Literal[\"duration\", \"instant\"], pd.DataFrame]]:\n",
    "    \"\"\"Coordinates the extraction of all FERC Form 1 tables into PUDL from XBRL data.\n",
    "    \n",
    "    Args:\n",
    "        dataset_settigns: object containing desired years to extract.\n",
    "        \n",
    "    Returns:\n",
    "        A dictionary where keys are the names of the PUDL database tables, values are\n",
    "        dictionaries of DataFrames coresponding to the instant and duration tables from\n",
    "        the XBRL derived FERC 1 database.\n",
    "        \n",
    "    \"\"\"\n",
    "    ferc1_xbrl_raw_dfs = {}\n",
    "    \n",
    "    io_manager_init_context = build_init_resource_context(resources={\"dataset_settings\": dataset_settings})\n",
    "    io_manager = ferc1_xbrl_sqlite_io_manager(io_manager_init_context)\n",
    "    \n",
    "    for table_name, raw_table_mapping in TABLE_NAME_MAP_FERC1.items():\n",
    "        xbrl_table_or_tables = raw_table_mapping[\"xbrl\"]\n",
    "        if not isinstance(xbrl_table_or_tables, list):\n",
    "            xbrl_tables = [xbrl_table_or_tables]\n",
    "        else:\n",
    "            xbrl_tables = xbrl_table_or_tables\n",
    "\n",
    "        ferc1_xbrl_raw_dfs[table_name] = {}\n",
    "        \n",
    "        for period in (\"duration\", \"instant\"):\n",
    "            tables = []\n",
    "            for xbrl_table in xbrl_tables:\n",
    "                full_xbrl_table_name = f\"{xbrl_table}_{period}\"\n",
    "                context = build_input_context(\n",
    "                    asset_key=AssetKey(full_xbrl_table_name),\n",
    "                    upstream_output=None,\n",
    "                    resources={\"dataset_settings\": dataset_settings}\n",
    "                )\n",
    "                tables.append(io_manager.load_input(context))\n",
    "            ferc1_xbrl_raw_dfs[table_name][period] = pd.concat(tables)\n",
    "    return ferc1_xbrl_raw_dfs"
   ]
  },
  {
   "cell_type": "code",
   "execution_count": 5,
   "id": "38d86bce-6795-44c2-9e8d-84364f406f73",
   "metadata": {
    "tags": []
   },
   "outputs": [
    {
     "name": "stderr",
     "output_type": "stream",
     "text": [
      "2023-03-15 16:51:47 [ WARNING] catalystcoop.pudl.io_managers:166 steam_electric_generating_plant_statistics_large_plants_fuel_statistics_402_instant not found in database metadata. Dtypes of returned DataFrame might be incorrect.\n"
     ]
    },
    {
     "name": "stdout",
     "output_type": "stream",
     "text": [
      "steam_electric_generating_plant_statistics_large_plants_fuel_statistics_402_instant not found in database metadata. Dtypes of returned DataFrame might be incorrect.\n"
     ]
    },
    {
     "name": "stderr",
     "output_type": "stream",
     "text": [
      "2023-03-15 16:51:48 [ WARNING] catalystcoop.pudl.io_managers:166 purchased_power_326_instant not found in database metadata. Dtypes of returned DataFrame might be incorrect.\n"
     ]
    },
    {
     "name": "stdout",
     "output_type": "stream",
     "text": [
      "purchased_power_326_instant not found in database metadata. Dtypes of returned DataFrame might be incorrect.\n"
     ]
    },
    {
     "name": "stderr",
     "output_type": "stream",
     "text": [
      "2023-03-15 16:51:48 [ WARNING] catalystcoop.pudl.io_managers:166 electric_energy_account_401a_instant not found in database metadata. Dtypes of returned DataFrame might be incorrect.\n"
     ]
    },
    {
     "name": "stdout",
     "output_type": "stream",
     "text": [
      "electric_energy_account_401a_instant not found in database metadata. Dtypes of returned DataFrame might be incorrect.\n"
     ]
    },
    {
     "name": "stderr",
     "output_type": "stream",
     "text": [
      "2023-03-15 16:51:48 [ WARNING] catalystcoop.pudl.io_managers:166 electric_energy_account_401a_instant not found in database metadata. Dtypes of returned DataFrame might be incorrect.\n"
     ]
    },
    {
     "name": "stdout",
     "output_type": "stream",
     "text": [
      "electric_energy_account_401a_instant not found in database metadata. Dtypes of returned DataFrame might be incorrect.\n"
     ]
    },
    {
     "name": "stderr",
     "output_type": "stream",
     "text": [
      "2023-03-15 16:51:48 [ WARNING] catalystcoop.pudl.io_managers:166 summary_of_utility_plant_and_accumulated_provisions_for_depreciation_amortization_and_depletion_200_duration not found in database metadata. Dtypes of returned DataFrame might be incorrect.\n"
     ]
    },
    {
     "name": "stdout",
     "output_type": "stream",
     "text": [
      "summary_of_utility_plant_and_accumulated_provisions_for_depreciation_amortization_and_depletion_200_duration not found in database metadata. Dtypes of returned DataFrame might be incorrect.\n"
     ]
    },
    {
     "name": "stderr",
     "output_type": "stream",
     "text": [
      "2023-03-15 16:51:48 [ WARNING] catalystcoop.pudl.io_managers:166 transmission_line_statistics_422_instant not found in database metadata. Dtypes of returned DataFrame might be incorrect.\n"
     ]
    },
    {
     "name": "stdout",
     "output_type": "stream",
     "text": [
      "transmission_line_statistics_422_instant not found in database metadata. Dtypes of returned DataFrame might be incorrect.\n"
     ]
    },
    {
     "name": "stderr",
     "output_type": "stream",
     "text": [
      "2023-03-15 16:51:48 [ WARNING] catalystcoop.pudl.io_managers:166 electric_operations_and_maintenance_expenses_320_instant not found in database metadata. Dtypes of returned DataFrame might be incorrect.\n"
     ]
    },
    {
     "name": "stdout",
     "output_type": "stream",
     "text": [
      "electric_operations_and_maintenance_expenses_320_instant not found in database metadata. Dtypes of returned DataFrame might be incorrect.\n"
     ]
    },
    {
     "name": "stderr",
     "output_type": "stream",
     "text": [
      "2023-03-15 16:51:48 [ WARNING] catalystcoop.pudl.io_managers:166 comparative_balance_sheet_liabilities_and_other_credits_110_duration not found in database metadata. Dtypes of returned DataFrame might be incorrect.\n"
     ]
    },
    {
     "name": "stdout",
     "output_type": "stream",
     "text": [
      "comparative_balance_sheet_liabilities_and_other_credits_110_duration not found in database metadata. Dtypes of returned DataFrame might be incorrect.\n"
     ]
    },
    {
     "name": "stderr",
     "output_type": "stream",
     "text": [
      "2023-03-15 16:51:48 [ WARNING] catalystcoop.pudl.io_managers:166 comparative_balance_sheet_assets_and_other_debits_110_duration not found in database metadata. Dtypes of returned DataFrame might be incorrect.\n"
     ]
    },
    {
     "name": "stdout",
     "output_type": "stream",
     "text": [
      "comparative_balance_sheet_assets_and_other_debits_110_duration not found in database metadata. Dtypes of returned DataFrame might be incorrect.\n"
     ]
    },
    {
     "name": "stderr",
     "output_type": "stream",
     "text": [
      "2023-03-15 16:51:48 [ WARNING] catalystcoop.pudl.io_managers:166 statement_of_income_114_instant not found in database metadata. Dtypes of returned DataFrame might be incorrect.\n"
     ]
    },
    {
     "name": "stdout",
     "output_type": "stream",
     "text": [
      "statement_of_income_114_instant not found in database metadata. Dtypes of returned DataFrame might be incorrect.\n"
     ]
    },
    {
     "name": "stderr",
     "output_type": "stream",
     "text": [
      "2023-03-15 16:51:48 [ WARNING] catalystcoop.pudl.io_managers:166 retained_earnings_appropriations_118_instant not found in database metadata. Dtypes of returned DataFrame might be incorrect.\n"
     ]
    },
    {
     "name": "stdout",
     "output_type": "stream",
     "text": [
      "retained_earnings_appropriations_118_instant not found in database metadata. Dtypes of returned DataFrame might be incorrect.\n"
     ]
    },
    {
     "name": "stderr",
     "output_type": "stream",
     "text": [
      "2023-03-15 16:51:48 [ WARNING] catalystcoop.pudl.io_managers:166 summary_of_depreciation_and_amortization_charges_section_a_336_instant not found in database metadata. Dtypes of returned DataFrame might be incorrect.\n"
     ]
    },
    {
     "name": "stdout",
     "output_type": "stream",
     "text": [
      "summary_of_depreciation_and_amortization_charges_section_a_336_instant not found in database metadata. Dtypes of returned DataFrame might be incorrect.\n"
     ]
    },
    {
     "name": "stderr",
     "output_type": "stream",
     "text": [
      "2023-03-15 16:51:48 [ WARNING] catalystcoop.pudl.io_managers:166 accumulated_provision_for_depreciation_of_electric_utility_plant_functional_classification_section_b_219_duration not found in database metadata. Dtypes of returned DataFrame might be incorrect.\n"
     ]
    },
    {
     "name": "stdout",
     "output_type": "stream",
     "text": [
      "accumulated_provision_for_depreciation_of_electric_utility_plant_functional_classification_section_b_219_duration not found in database metadata. Dtypes of returned DataFrame might be incorrect.\n"
     ]
    },
    {
     "name": "stderr",
     "output_type": "stream",
     "text": [
      "2023-03-15 16:51:48 [ WARNING] catalystcoop.pudl.io_managers:166 electric_operating_revenues_300_instant not found in database metadata. Dtypes of returned DataFrame might be incorrect.\n"
     ]
    },
    {
     "name": "stdout",
     "output_type": "stream",
     "text": [
      "electric_operating_revenues_300_instant not found in database metadata. Dtypes of returned DataFrame might be incorrect.\n"
     ]
    },
    {
     "name": "stderr",
     "output_type": "stream",
     "text": [
      "2023-03-15 16:51:48 [ WARNING] catalystcoop.pudl.io_managers:166 sales_of_electricity_by_rate_schedules_account_4491_provision_for_rate_refunds_304_duration not found in database metadata. Dtypes of returned DataFrame might be incorrect.\n"
     ]
    },
    {
     "name": "stdout",
     "output_type": "stream",
     "text": [
      "sales_of_electricity_by_rate_schedules_account_4491_provision_for_rate_refunds_304_duration not found in database metadata. Dtypes of returned DataFrame might be incorrect.\n"
     ]
    },
    {
     "name": "stderr",
     "output_type": "stream",
     "text": [
      "2023-03-15 16:51:48 [ WARNING] catalystcoop.pudl.io_managers:166 sales_of_electricity_by_rate_schedules_account_440_residential_304_instant not found in database metadata. Dtypes of returned DataFrame might be incorrect.\n"
     ]
    },
    {
     "name": "stdout",
     "output_type": "stream",
     "text": [
      "sales_of_electricity_by_rate_schedules_account_440_residential_304_instant not found in database metadata. Dtypes of returned DataFrame might be incorrect.\n"
     ]
    },
    {
     "name": "stderr",
     "output_type": "stream",
     "text": [
      "2023-03-15 16:51:48 [ WARNING] catalystcoop.pudl.io_managers:166 sales_of_electricity_by_rate_schedules_account_442_commercial_304_instant not found in database metadata. Dtypes of returned DataFrame might be incorrect.\n"
     ]
    },
    {
     "name": "stdout",
     "output_type": "stream",
     "text": [
      "sales_of_electricity_by_rate_schedules_account_442_commercial_304_instant not found in database metadata. Dtypes of returned DataFrame might be incorrect.\n"
     ]
    },
    {
     "name": "stderr",
     "output_type": "stream",
     "text": [
      "2023-03-15 16:51:48 [ WARNING] catalystcoop.pudl.io_managers:166 sales_of_electricity_by_rate_schedules_account_442_industrial_304_instant not found in database metadata. Dtypes of returned DataFrame might be incorrect.\n"
     ]
    },
    {
     "name": "stdout",
     "output_type": "stream",
     "text": [
      "sales_of_electricity_by_rate_schedules_account_442_industrial_304_instant not found in database metadata. Dtypes of returned DataFrame might be incorrect.\n"
     ]
    },
    {
     "name": "stderr",
     "output_type": "stream",
     "text": [
      "2023-03-15 16:51:48 [ WARNING] catalystcoop.pudl.io_managers:166 sales_of_electricity_by_rate_schedules_account_444_public_street_and_highway_lighting_304_instant not found in database metadata. Dtypes of returned DataFrame might be incorrect.\n"
     ]
    },
    {
     "name": "stdout",
     "output_type": "stream",
     "text": [
      "sales_of_electricity_by_rate_schedules_account_444_public_street_and_highway_lighting_304_instant not found in database metadata. Dtypes of returned DataFrame might be incorrect.\n"
     ]
    },
    {
     "name": "stderr",
     "output_type": "stream",
     "text": [
      "2023-03-15 16:51:48 [ WARNING] catalystcoop.pudl.io_managers:166 sales_of_electricity_by_rate_schedules_account_445_other_sales_to_public_authorities_304_instant not found in database metadata. Dtypes of returned DataFrame might be incorrect.\n"
     ]
    },
    {
     "name": "stdout",
     "output_type": "stream",
     "text": [
      "sales_of_electricity_by_rate_schedules_account_445_other_sales_to_public_authorities_304_instant not found in database metadata. Dtypes of returned DataFrame might be incorrect.\n"
     ]
    },
    {
     "name": "stderr",
     "output_type": "stream",
     "text": [
      "2023-03-15 16:51:48 [ WARNING] catalystcoop.pudl.io_managers:166 sales_of_electricity_by_rate_schedules_account_446_sales_to_railroads_and_railways_304_instant not found in database metadata. Dtypes of returned DataFrame might be incorrect.\n"
     ]
    },
    {
     "name": "stdout",
     "output_type": "stream",
     "text": [
      "sales_of_electricity_by_rate_schedules_account_446_sales_to_railroads_and_railways_304_instant not found in database metadata. Dtypes of returned DataFrame might be incorrect.\n"
     ]
    },
    {
     "name": "stderr",
     "output_type": "stream",
     "text": [
      "2023-03-15 16:51:48 [ WARNING] catalystcoop.pudl.io_managers:166 sales_of_electricity_by_rate_schedules_account_448_interdepartmental_sales_304_instant not found in database metadata. Dtypes of returned DataFrame might be incorrect.\n"
     ]
    },
    {
     "name": "stdout",
     "output_type": "stream",
     "text": [
      "sales_of_electricity_by_rate_schedules_account_448_interdepartmental_sales_304_instant not found in database metadata. Dtypes of returned DataFrame might be incorrect.\n"
     ]
    },
    {
     "name": "stderr",
     "output_type": "stream",
     "text": [
      "2023-03-15 16:51:48 [ WARNING] catalystcoop.pudl.io_managers:166 sales_of_electricity_by_rate_schedules_account_4491_provision_for_rate_refunds_304_instant not found in database metadata. Dtypes of returned DataFrame might be incorrect.\n"
     ]
    },
    {
     "name": "stdout",
     "output_type": "stream",
     "text": [
      "sales_of_electricity_by_rate_schedules_account_4491_provision_for_rate_refunds_304_instant not found in database metadata. Dtypes of returned DataFrame might be incorrect.\n"
     ]
    },
    {
     "name": "stderr",
     "output_type": "stream",
     "text": [
      "2023-03-15 16:51:48 [ WARNING] catalystcoop.pudl.io_managers:166 sales_of_electricity_by_rate_schedules_account_totals_304_instant not found in database metadata. Dtypes of returned DataFrame might be incorrect.\n"
     ]
    },
    {
     "name": "stdout",
     "output_type": "stream",
     "text": [
      "sales_of_electricity_by_rate_schedules_account_totals_304_instant not found in database metadata. Dtypes of returned DataFrame might be incorrect.\n"
     ]
    }
   ],
   "source": [
    "ferc1_dbf_raw_dfs = extract_dbf(configured_dataset_settings)\n",
    "ferc1_xbrl_raw_dfs = extract_xbrl(configured_dataset_settings)"
   ]
  },
  {
   "cell_type": "code",
   "execution_count": 6,
   "id": "e4af4b03-6e71-426b-90b5-89abdf74510e",
   "metadata": {
    "tags": []
   },
   "outputs": [],
   "source": [
    "from pudl.extract.ferc1 import xbrl_metadata_json\n",
    "from dagster import build_op_context\n",
    "\n",
    "context = build_op_context()\n",
    "xbrl_metadata_json_dict = xbrl_metadata_json(context)"
   ]
  },
  {
   "cell_type": "markdown",
   "id": "78271302-5323-4a4e-a208-256824a59ca4",
   "metadata": {
    "tags": []
   },
   "source": [
    "## Transform FERC 1 Tables:"
   ]
  },
  {
   "cell_type": "markdown",
   "id": "4bc58f8e-74c3-4f81-a0c3-163f94a74065",
   "metadata": {},
   "source": [
    "### Build Transformers"
   ]
  },
  {
   "cell_type": "code",
   "execution_count": 7,
   "id": "d3c488fb-f040-4b61-a584-72c5483397cc",
   "metadata": {
    "tags": []
   },
   "outputs": [
    {
     "name": "stderr",
     "output_type": "stream",
     "text": [
      "2023-03-15 16:51:49 [    INFO] catalystcoop.pudl.transform.ferc1:993 fuel_ferc1: Processing XBRL metadata.\n"
     ]
    },
    {
     "name": "stdout",
     "output_type": "stream",
     "text": [
      "fuel_ferc1: Processing XBRL metadata.\n"
     ]
    },
    {
     "name": "stderr",
     "output_type": "stream",
     "text": [
      "2023-03-15 16:51:49 [    INFO] catalystcoop.pudl.transform.ferc1:993 plants_steam_ferc1: Processing XBRL metadata.\n"
     ]
    },
    {
     "name": "stdout",
     "output_type": "stream",
     "text": [
      "plants_steam_ferc1: Processing XBRL metadata.\n"
     ]
    },
    {
     "name": "stderr",
     "output_type": "stream",
     "text": [
      "2023-03-15 16:51:49 [    INFO] catalystcoop.pudl.transform.ferc1:993 plants_small_ferc1: Processing XBRL metadata.\n"
     ]
    },
    {
     "name": "stdout",
     "output_type": "stream",
     "text": [
      "plants_small_ferc1: Processing XBRL metadata.\n"
     ]
    },
    {
     "name": "stderr",
     "output_type": "stream",
     "text": [
      "2023-03-15 16:51:49 [    INFO] catalystcoop.pudl.transform.ferc1:993 plants_hydro_ferc1: Processing XBRL metadata.\n"
     ]
    },
    {
     "name": "stdout",
     "output_type": "stream",
     "text": [
      "plants_hydro_ferc1: Processing XBRL metadata.\n"
     ]
    },
    {
     "name": "stderr",
     "output_type": "stream",
     "text": [
      "2023-03-15 16:51:49 [    INFO] catalystcoop.pudl.transform.ferc1:993 plants_pumped_storage_ferc1: Processing XBRL metadata.\n"
     ]
    },
    {
     "name": "stdout",
     "output_type": "stream",
     "text": [
      "plants_pumped_storage_ferc1: Processing XBRL metadata.\n"
     ]
    },
    {
     "name": "stderr",
     "output_type": "stream",
     "text": [
      "2023-03-15 16:51:49 [    INFO] catalystcoop.pudl.transform.ferc1:993 plant_in_service_ferc1: Processing XBRL metadata.\n"
     ]
    },
    {
     "name": "stdout",
     "output_type": "stream",
     "text": [
      "plant_in_service_ferc1: Processing XBRL metadata.\n"
     ]
    },
    {
     "name": "stderr",
     "output_type": "stream",
     "text": [
      "2023-03-15 16:51:49 [    INFO] catalystcoop.pudl.transform.ferc1:993 purchased_power_ferc1: Processing XBRL metadata.\n"
     ]
    },
    {
     "name": "stdout",
     "output_type": "stream",
     "text": [
      "purchased_power_ferc1: Processing XBRL metadata.\n"
     ]
    },
    {
     "name": "stderr",
     "output_type": "stream",
     "text": [
      "2023-03-15 16:51:49 [    INFO] catalystcoop.pudl.transform.ferc1:993 electric_energy_sources_ferc1: Processing XBRL metadata.\n"
     ]
    },
    {
     "name": "stdout",
     "output_type": "stream",
     "text": [
      "electric_energy_sources_ferc1: Processing XBRL metadata.\n"
     ]
    },
    {
     "name": "stderr",
     "output_type": "stream",
     "text": [
      "2023-03-15 16:51:49 [    INFO] catalystcoop.pudl.transform.ferc1:993 electric_energy_dispositions_ferc1: Processing XBRL metadata.\n"
     ]
    },
    {
     "name": "stdout",
     "output_type": "stream",
     "text": [
      "electric_energy_dispositions_ferc1: Processing XBRL metadata.\n"
     ]
    },
    {
     "name": "stderr",
     "output_type": "stream",
     "text": [
      "2023-03-15 16:51:49 [    INFO] catalystcoop.pudl.transform.ferc1:993 utility_plant_summary_ferc1: Processing XBRL metadata.\n"
     ]
    },
    {
     "name": "stdout",
     "output_type": "stream",
     "text": [
      "utility_plant_summary_ferc1: Processing XBRL metadata.\n"
     ]
    },
    {
     "name": "stderr",
     "output_type": "stream",
     "text": [
      "2023-03-15 16:51:49 [    INFO] catalystcoop.pudl.transform.ferc1:993 transmission_statistics_ferc1: Processing XBRL metadata.\n"
     ]
    },
    {
     "name": "stdout",
     "output_type": "stream",
     "text": [
      "transmission_statistics_ferc1: Processing XBRL metadata.\n"
     ]
    },
    {
     "name": "stderr",
     "output_type": "stream",
     "text": [
      "2023-03-15 16:51:49 [    INFO] catalystcoop.pudl.transform.ferc1:993 electric_operating_expenses_ferc1: Processing XBRL metadata.\n"
     ]
    },
    {
     "name": "stdout",
     "output_type": "stream",
     "text": [
      "electric_operating_expenses_ferc1: Processing XBRL metadata.\n"
     ]
    },
    {
     "name": "stderr",
     "output_type": "stream",
     "text": [
      "2023-03-15 16:51:49 [    INFO] catalystcoop.pudl.transform.ferc1:993 balance_sheet_liabilities_ferc1: Processing XBRL metadata.\n"
     ]
    },
    {
     "name": "stdout",
     "output_type": "stream",
     "text": [
      "balance_sheet_liabilities_ferc1: Processing XBRL metadata.\n"
     ]
    },
    {
     "name": "stderr",
     "output_type": "stream",
     "text": [
      "2023-03-15 16:51:49 [    INFO] catalystcoop.pudl.transform.ferc1:993 balance_sheet_assets_ferc1: Processing XBRL metadata.\n"
     ]
    },
    {
     "name": "stdout",
     "output_type": "stream",
     "text": [
      "balance_sheet_assets_ferc1: Processing XBRL metadata.\n"
     ]
    },
    {
     "name": "stderr",
     "output_type": "stream",
     "text": [
      "2023-03-15 16:51:49 [    INFO] catalystcoop.pudl.transform.ferc1:993 income_statement_ferc1: Processing XBRL metadata.\n"
     ]
    },
    {
     "name": "stdout",
     "output_type": "stream",
     "text": [
      "income_statement_ferc1: Processing XBRL metadata.\n"
     ]
    },
    {
     "name": "stderr",
     "output_type": "stream",
     "text": [
      "2023-03-15 16:51:49 [    INFO] catalystcoop.pudl.transform.ferc1:993 retained_earnings_ferc1: Processing XBRL metadata.\n"
     ]
    },
    {
     "name": "stdout",
     "output_type": "stream",
     "text": [
      "retained_earnings_ferc1: Processing XBRL metadata.\n"
     ]
    },
    {
     "name": "stderr",
     "output_type": "stream",
     "text": [
      "2023-03-15 16:51:49 [    INFO] catalystcoop.pudl.transform.ferc1:993 depreciation_amortization_summary_ferc1: Processing XBRL metadata.\n"
     ]
    },
    {
     "name": "stdout",
     "output_type": "stream",
     "text": [
      "depreciation_amortization_summary_ferc1: Processing XBRL metadata.\n"
     ]
    },
    {
     "name": "stderr",
     "output_type": "stream",
     "text": [
      "2023-03-15 16:51:49 [    INFO] catalystcoop.pudl.transform.ferc1:993 electric_plant_depreciation_changes_ferc1: Processing XBRL metadata.\n"
     ]
    },
    {
     "name": "stdout",
     "output_type": "stream",
     "text": [
      "electric_plant_depreciation_changes_ferc1: Processing XBRL metadata.\n"
     ]
    },
    {
     "name": "stderr",
     "output_type": "stream",
     "text": [
      "2023-03-15 16:51:49 [    INFO] catalystcoop.pudl.transform.ferc1:993 electric_plant_depreciation_functional_ferc1: Processing XBRL metadata.\n"
     ]
    },
    {
     "name": "stdout",
     "output_type": "stream",
     "text": [
      "electric_plant_depreciation_functional_ferc1: Processing XBRL metadata.\n"
     ]
    },
    {
     "name": "stderr",
     "output_type": "stream",
     "text": [
      "2023-03-15 16:51:49 [    INFO] catalystcoop.pudl.transform.ferc1:993 electric_operating_revenues_ferc1: Processing XBRL metadata.\n"
     ]
    },
    {
     "name": "stdout",
     "output_type": "stream",
     "text": [
      "electric_operating_revenues_ferc1: Processing XBRL metadata.\n"
     ]
    },
    {
     "name": "stderr",
     "output_type": "stream",
     "text": [
      "2023-03-15 16:51:49 [    INFO] catalystcoop.pudl.transform.ferc1:993 cash_flow_ferc1: Processing XBRL metadata.\n"
     ]
    },
    {
     "name": "stdout",
     "output_type": "stream",
     "text": [
      "cash_flow_ferc1: Processing XBRL metadata.\n"
     ]
    },
    {
     "name": "stderr",
     "output_type": "stream",
     "text": [
      "2023-03-15 16:51:49 [    INFO] catalystcoop.pudl.transform.ferc1:993 electricity_sales_by_rate_schedule_ferc1: Processing XBRL metadata.\n"
     ]
    },
    {
     "name": "stdout",
     "output_type": "stream",
     "text": [
      "electricity_sales_by_rate_schedule_ferc1: Processing XBRL metadata.\n"
     ]
    },
    {
     "name": "stderr",
     "output_type": "stream",
     "text": [
      "2023-03-15 16:51:49 [    INFO] catalystcoop.pudl.transform.ferc1:993 other_regulatory_liabilities_ferc1: Processing XBRL metadata.\n"
     ]
    },
    {
     "name": "stdout",
     "output_type": "stream",
     "text": [
      "other_regulatory_liabilities_ferc1: Processing XBRL metadata.\n"
     ]
    }
   ],
   "source": [
    "# Get table class information\n",
    "import inspect\n",
    "from pudl.transform.ferc1 import *\n",
    "from pudl.transform.params import *\n",
    "\n",
    "def get_table_classes(module):\n",
    "    classes = [member[1] for member in inspect.getmembers(module, inspect.isclass)]\n",
    "    table_classes = [x for x in classes if x.__name__.endswith(\"Ferc1TableTransformer\")]\n",
    "    return [x for x in table_classes if x.__name__ != \"AbstractFerc1TableTransformer\"]\n",
    "\n",
    "classes = get_table_classes(pudl.transform.ferc1)\n",
    "table_id_dict = {clas.table_id.value: clas for clas in classes}\n",
    "\n",
    "# Loop over selected tables to build the transformers\n",
    "transformers = {}\n",
    "for table in TABLE_NAME_MAP_FERC1.keys():\n",
    "    # this table is in the name map but doesn't have a transform class\n",
    "    if table == \"retained_earnings_appropriations_ferc1\":\n",
    "        continue\n",
    "    transformers[table] = (\n",
    "        table_id_dict[table](\n",
    "            xbrl_metadata_json=xbrl_metadata_json_dict[table],\n",
    "            cache_dfs=True,\n",
    "            clear_cached_dfs=False\n",
    "        )\n",
    "    )"
   ]
  },
  {
   "cell_type": "markdown",
   "id": "0b514045-1045-4b90-821e-c521e0f12190",
   "metadata": {},
   "source": [
    "### Transform Individual Tables"
   ]
  },
  {
   "cell_type": "code",
   "execution_count": 8,
   "id": "d8602d7e-42b7-4fdc-956b-b6983d4b4d4e",
   "metadata": {
    "tags": []
   },
   "outputs": [
    {
     "name": "stdout",
     "output_type": "stream",
     "text": [
      "['fuel_ferc1',\n",
      " 'plants_steam_ferc1',\n",
      " 'plants_small_ferc1',\n",
      " 'plants_hydro_ferc1',\n",
      " 'plants_pumped_storage_ferc1',\n",
      " 'plant_in_service_ferc1',\n",
      " 'purchased_power_ferc1',\n",
      " 'electric_energy_sources_ferc1',\n",
      " 'electric_energy_dispositions_ferc1',\n",
      " 'utility_plant_summary_ferc1',\n",
      " 'transmission_statistics_ferc1',\n",
      " 'electric_operating_expenses_ferc1',\n",
      " 'balance_sheet_liabilities_ferc1',\n",
      " 'balance_sheet_assets_ferc1',\n",
      " 'income_statement_ferc1',\n",
      " 'retained_earnings_ferc1',\n",
      " 'depreciation_amortization_summary_ferc1',\n",
      " 'electric_plant_depreciation_changes_ferc1',\n",
      " 'electric_plant_depreciation_functional_ferc1',\n",
      " 'electric_operating_revenues_ferc1',\n",
      " 'cash_flow_ferc1',\n",
      " 'electricity_sales_by_rate_schedule_ferc1',\n",
      " 'other_regulatory_liabilities_ferc1']\n"
     ]
    }
   ],
   "source": [
    "from pprint import pprint\n",
    "\n",
    "# Pick one table to transform\n",
    "pprint(list(transformers.keys()))"
   ]
  },
  {
   "cell_type": "code",
   "execution_count": 9,
   "id": "d594beab-7c93-47e3-acb4-b18ef6d3b16e",
   "metadata": {},
   "outputs": [],
   "source": [
    "table_name = \"other_regulatory_liabilities_ferc1\"\n",
    "TRANSFORMER = transformers[table_name] # add a table here"
   ]
  },
  {
   "cell_type": "markdown",
   "id": "d030e249-3858-4650-ba2c-8ef62316db37",
   "metadata": {
    "tags": []
   },
   "source": [
    "#### Test each step of the transform process:"
   ]
  },
  {
   "cell_type": "code",
   "execution_count": 10,
   "id": "fad4a616-8c8c-4f34-836d-56e604c140a4",
   "metadata": {},
   "outputs": [
    {
     "name": "stderr",
     "output_type": "stream",
     "text": [
      "2023-03-15 16:51:49 [    INFO] catalystcoop.pudl.transform.ferc1:1100 other_regulatory_liabilities_ferc1: Processing XBRL data pre-concatenation.\n"
     ]
    },
    {
     "name": "stdout",
     "output_type": "stream",
     "text": [
      "other_regulatory_liabilities_ferc1: Processing XBRL data pre-concatenation.\n"
     ]
    },
    {
     "name": "stderr",
     "output_type": "stream",
     "text": [
      "2023-03-15 16:51:49 [    INFO] catalystcoop.pudl.transform.classes:1210 other_regulatory_liabilities_ferc1: Attempting to rename 0 columns.\n"
     ]
    },
    {
     "name": "stdout",
     "output_type": "stream",
     "text": [
      "other_regulatory_liabilities_ferc1: Attempting to rename 0 columns.\n"
     ]
    },
    {
     "name": "stderr",
     "output_type": "stream",
     "text": [
      "2023-03-15 16:51:49 [    INFO] catalystcoop.pudl.transform.ferc1:1154 other_regulatory_liabilities_ferc1: Unstacking balances to the report years.\n"
     ]
    },
    {
     "name": "stdout",
     "output_type": "stream",
     "text": [
      "other_regulatory_liabilities_ferc1: Unstacking balances to the report years.\n"
     ]
    },
    {
     "name": "stderr",
     "output_type": "stream",
     "text": [
      "2023-03-15 16:51:49 [    INFO] catalystcoop.pudl.transform.classes:1210 other_regulatory_liabilities_ferc1: Attempting to rename 0 columns.\n"
     ]
    },
    {
     "name": "stdout",
     "output_type": "stream",
     "text": [
      "other_regulatory_liabilities_ferc1: Attempting to rename 0 columns.\n"
     ]
    },
    {
     "name": "stderr",
     "output_type": "stream",
     "text": [
      "2023-03-15 16:51:49 [    INFO] catalystcoop.pudl.transform.ferc1:1381 other_regulatory_liabilities_ferc1: After selection of dates based on the report year, we have 100.0% of the original table.\n"
     ]
    },
    {
     "name": "stdout",
     "output_type": "stream",
     "text": [
      "other_regulatory_liabilities_ferc1: After selection of dates based on the report year, we have 100.0% of the original table.\n"
     ]
    },
    {
     "name": "stderr",
     "output_type": "stream",
     "text": [
      "2023-03-15 16:51:49 [    INFO] catalystcoop.pudl.transform.ferc1:1285 other_regulatory_liabilities_ferc1: Both XBRL instant & duration tables found.\n"
     ]
    },
    {
     "name": "stdout",
     "output_type": "stream",
     "text": [
      "other_regulatory_liabilities_ferc1: Both XBRL instant & duration tables found.\n"
     ]
    },
    {
     "name": "stderr",
     "output_type": "stream",
     "text": [
      "2023-03-15 16:51:49 [    INFO] catalystcoop.pudl.transform.ferc1:1304 other_regulatory_liabilities_ferc1: Combining XBRL instant & duration tables using RIGHT-MERGE.\n"
     ]
    },
    {
     "name": "stdout",
     "output_type": "stream",
     "text": [
      "other_regulatory_liabilities_ferc1: Combining XBRL instant & duration tables using RIGHT-MERGE.\n"
     ]
    },
    {
     "name": "stderr",
     "output_type": "stream",
     "text": [
      "2023-03-15 16:51:49 [    INFO] catalystcoop.pudl.transform.classes:1210 other_regulatory_liabilities_ferc1: Attempting to rename 9 columns.\n"
     ]
    },
    {
     "name": "stdout",
     "output_type": "stream",
     "text": [
      "other_regulatory_liabilities_ferc1: Attempting to rename 9 columns.\n"
     ]
    }
   ],
   "source": [
    "xbrl = TRANSFORMER.process_xbrl(\n",
    "    raw_xbrl_instant=ferc1_xbrl_raw_dfs[TRANSFORMER.table_id.value][\"instant\"],\n",
    "    raw_xbrl_duration=ferc1_xbrl_raw_dfs[TRANSFORMER.table_id.value][\"duration\"]\n",
    ")"
   ]
  },
  {
   "cell_type": "code",
   "execution_count": 11,
   "id": "84a77350-084c-41d9-9a19-55884482e37e",
   "metadata": {},
   "outputs": [
    {
     "name": "stderr",
     "output_type": "stream",
     "text": [
      "2023-03-15 16:51:49 [    INFO] catalystcoop.pudl.transform.ferc1:1079 other_regulatory_liabilities_ferc1: Processing DBF data pre-concatenation.\n"
     ]
    },
    {
     "name": "stdout",
     "output_type": "stream",
     "text": [
      "other_regulatory_liabilities_ferc1: Processing DBF data pre-concatenation.\n"
     ]
    },
    {
     "name": "stderr",
     "output_type": "stream",
     "text": [
      "2023-03-15 16:51:49 [    INFO] catalystcoop.pudl.transform.ferc1:1142 other_regulatory_liabilities_ferc1: After selection only annual records, we have 26.7% of the original table.\n"
     ]
    },
    {
     "name": "stdout",
     "output_type": "stream",
     "text": [
      "other_regulatory_liabilities_ferc1: After selection only annual records, we have 26.7% of the original table.\n"
     ]
    },
    {
     "name": "stderr",
     "output_type": "stream",
     "text": [
      "2023-03-15 16:51:49 [    INFO] catalystcoop.pudl.transform.classes:1210 other_regulatory_liabilities_ferc1: Attempting to rename 13 columns.\n"
     ]
    },
    {
     "name": "stdout",
     "output_type": "stream",
     "text": [
      "other_regulatory_liabilities_ferc1: Attempting to rename 13 columns.\n"
     ]
    }
   ],
   "source": [
    "dbf = TRANSFORMER.process_dbf(\n",
    "    raw_dbf=ferc1_dbf_raw_dfs[TRANSFORMER.table_id.value]\n",
    ")"
   ]
  },
  {
   "cell_type": "code",
   "execution_count": 12,
   "id": "3c5f3389-58c8-40db-b71a-e74a1d4c8c09",
   "metadata": {
    "tags": []
   },
   "outputs": [
    {
     "name": "stderr",
     "output_type": "stream",
     "text": [
      "2023-03-15 16:51:49 [    INFO] catalystcoop.pudl.transform.ferc1:1079 other_regulatory_liabilities_ferc1: Processing DBF data pre-concatenation.\n"
     ]
    },
    {
     "name": "stdout",
     "output_type": "stream",
     "text": [
      "other_regulatory_liabilities_ferc1: Processing DBF data pre-concatenation.\n"
     ]
    },
    {
     "name": "stderr",
     "output_type": "stream",
     "text": [
      "2023-03-15 16:51:49 [    INFO] catalystcoop.pudl.transform.ferc1:1142 other_regulatory_liabilities_ferc1: After selection only annual records, we have 26.7% of the original table.\n"
     ]
    },
    {
     "name": "stdout",
     "output_type": "stream",
     "text": [
      "other_regulatory_liabilities_ferc1: After selection only annual records, we have 26.7% of the original table.\n"
     ]
    },
    {
     "name": "stderr",
     "output_type": "stream",
     "text": [
      "2023-03-15 16:51:49 [    INFO] catalystcoop.pudl.transform.classes:1210 other_regulatory_liabilities_ferc1: Attempting to rename 13 columns.\n"
     ]
    },
    {
     "name": "stdout",
     "output_type": "stream",
     "text": [
      "other_regulatory_liabilities_ferc1: Attempting to rename 13 columns.\n"
     ]
    },
    {
     "name": "stderr",
     "output_type": "stream",
     "text": [
      "2023-03-15 16:51:49 [    INFO] catalystcoop.pudl.transform.ferc1:1100 other_regulatory_liabilities_ferc1: Processing XBRL data pre-concatenation.\n"
     ]
    },
    {
     "name": "stdout",
     "output_type": "stream",
     "text": [
      "other_regulatory_liabilities_ferc1: Processing XBRL data pre-concatenation.\n"
     ]
    },
    {
     "name": "stderr",
     "output_type": "stream",
     "text": [
      "2023-03-15 16:51:49 [    INFO] catalystcoop.pudl.transform.classes:1210 other_regulatory_liabilities_ferc1: Attempting to rename 0 columns.\n"
     ]
    },
    {
     "name": "stdout",
     "output_type": "stream",
     "text": [
      "other_regulatory_liabilities_ferc1: Attempting to rename 0 columns.\n"
     ]
    },
    {
     "name": "stderr",
     "output_type": "stream",
     "text": [
      "2023-03-15 16:51:49 [    INFO] catalystcoop.pudl.transform.ferc1:1154 other_regulatory_liabilities_ferc1: Unstacking balances to the report years.\n"
     ]
    },
    {
     "name": "stdout",
     "output_type": "stream",
     "text": [
      "other_regulatory_liabilities_ferc1: Unstacking balances to the report years.\n"
     ]
    },
    {
     "name": "stderr",
     "output_type": "stream",
     "text": [
      "2023-03-15 16:51:49 [    INFO] catalystcoop.pudl.transform.classes:1210 other_regulatory_liabilities_ferc1: Attempting to rename 0 columns.\n"
     ]
    },
    {
     "name": "stdout",
     "output_type": "stream",
     "text": [
      "other_regulatory_liabilities_ferc1: Attempting to rename 0 columns.\n"
     ]
    },
    {
     "name": "stderr",
     "output_type": "stream",
     "text": [
      "2023-03-15 16:51:49 [    INFO] catalystcoop.pudl.transform.ferc1:1381 other_regulatory_liabilities_ferc1: After selection of dates based on the report year, we have 100.0% of the original table.\n"
     ]
    },
    {
     "name": "stdout",
     "output_type": "stream",
     "text": [
      "other_regulatory_liabilities_ferc1: After selection of dates based on the report year, we have 100.0% of the original table.\n"
     ]
    },
    {
     "name": "stderr",
     "output_type": "stream",
     "text": [
      "2023-03-15 16:51:49 [    INFO] catalystcoop.pudl.transform.ferc1:1285 other_regulatory_liabilities_ferc1: Both XBRL instant & duration tables found.\n"
     ]
    },
    {
     "name": "stdout",
     "output_type": "stream",
     "text": [
      "other_regulatory_liabilities_ferc1: Both XBRL instant & duration tables found.\n"
     ]
    },
    {
     "name": "stderr",
     "output_type": "stream",
     "text": [
      "2023-03-15 16:51:49 [    INFO] catalystcoop.pudl.transform.ferc1:1304 other_regulatory_liabilities_ferc1: Combining XBRL instant & duration tables using RIGHT-MERGE.\n"
     ]
    },
    {
     "name": "stdout",
     "output_type": "stream",
     "text": [
      "other_regulatory_liabilities_ferc1: Combining XBRL instant & duration tables using RIGHT-MERGE.\n"
     ]
    },
    {
     "name": "stderr",
     "output_type": "stream",
     "text": [
      "2023-03-15 16:51:49 [    INFO] catalystcoop.pudl.transform.classes:1210 other_regulatory_liabilities_ferc1: Attempting to rename 9 columns.\n"
     ]
    },
    {
     "name": "stdout",
     "output_type": "stream",
     "text": [
      "other_regulatory_liabilities_ferc1: Attempting to rename 9 columns.\n"
     ]
    },
    {
     "name": "stderr",
     "output_type": "stream",
     "text": [
      "2023-03-15 16:51:49 [    INFO] catalystcoop.pudl.transform.ferc1:916 other_regulatory_liabilities_ferc1: Concatenating DBF + XBRL dataframes.\n"
     ]
    },
    {
     "name": "stdout",
     "output_type": "stream",
     "text": [
      "other_regulatory_liabilities_ferc1: Concatenating DBF + XBRL dataframes.\n"
     ]
    }
   ],
   "source": [
    "start = TRANSFORMER.transform_start(\n",
    "    raw_dbf=ferc1_dbf_raw_dfs[TRANSFORMER.table_id.value],\n",
    "    raw_xbrl_instant=ferc1_xbrl_raw_dfs[TRANSFORMER.table_id.value][\"instant\"],\n",
    "    raw_xbrl_duration=ferc1_xbrl_raw_dfs[TRANSFORMER.table_id.value][\"duration\"]\n",
    ")"
   ]
  },
  {
   "cell_type": "code",
   "execution_count": 13,
   "id": "9aa10b65-9200-42c4-8c02-745228b46b7f",
   "metadata": {
    "tags": []
   },
   "outputs": [
    {
     "name": "stderr",
     "output_type": "stream",
     "text": [
      "2023-03-15 16:51:49 [    INFO] catalystcoop.pudl.transform.classes:1336 other_regulatory_liabilities_ferc1: Spot fixing missing values.\n"
     ]
    },
    {
     "name": "stdout",
     "output_type": "stream",
     "text": [
      "other_regulatory_liabilities_ferc1: Spot fixing missing values.\n"
     ]
    },
    {
     "name": "stderr",
     "output_type": "stream",
     "text": [
      "2023-03-15 16:51:49 [    INFO] catalystcoop.pudl.transform.classes:1234 other_regulatory_liabilities_ferc1: Normalizing freeform string columns.\n"
     ]
    },
    {
     "name": "stdout",
     "output_type": "stream",
     "text": [
      "other_regulatory_liabilities_ferc1: Normalizing freeform string columns.\n"
     ]
    },
    {
     "name": "stderr",
     "output_type": "stream",
     "text": [
      "2023-03-15 16:51:49 [    INFO] catalystcoop.pudl.transform.classes:1258 other_regulatory_liabilities_ferc1: Categorizing string columns using a controlled vocabulary.\n"
     ]
    },
    {
     "name": "stdout",
     "output_type": "stream",
     "text": [
      "other_regulatory_liabilities_ferc1: Categorizing string columns using a controlled vocabulary.\n"
     ]
    },
    {
     "name": "stderr",
     "output_type": "stream",
     "text": [
      "2023-03-15 16:51:49 [    INFO] catalystcoop.pudl.transform.classes:1283 other_regulatory_liabilities_ferc1: Converting units and renaming columns accordingly.\n"
     ]
    },
    {
     "name": "stdout",
     "output_type": "stream",
     "text": [
      "other_regulatory_liabilities_ferc1: Converting units and renaming columns accordingly.\n"
     ]
    },
    {
     "name": "stderr",
     "output_type": "stream",
     "text": [
      "2023-03-15 16:51:49 [    INFO] catalystcoop.pudl.transform.classes:1245 other_regulatory_liabilities_ferc1: Stripping non-numeric values from [].\n"
     ]
    },
    {
     "name": "stdout",
     "output_type": "stream",
     "text": [
      "other_regulatory_liabilities_ferc1: Stripping non-numeric values from [].\n"
     ]
    },
    {
     "name": "stderr",
     "output_type": "stream",
     "text": [
      "2023-03-15 16:51:49 [    INFO] catalystcoop.pudl.transform.classes:1272 other_regulatory_liabilities_ferc1: Nullifying outlying values.\n"
     ]
    },
    {
     "name": "stdout",
     "output_type": "stream",
     "text": [
      "other_regulatory_liabilities_ferc1: Nullifying outlying values.\n"
     ]
    },
    {
     "name": "stderr",
     "output_type": "stream",
     "text": [
      "2023-03-15 16:51:49 [    INFO] catalystcoop.pudl.transform.classes:1325 other_regulatory_liabilities_ferc1: Replacing specified values with NA.\n"
     ]
    },
    {
     "name": "stdout",
     "output_type": "stream",
     "text": [
      "other_regulatory_liabilities_ferc1: Replacing specified values with NA.\n"
     ]
    },
    {
     "name": "stderr",
     "output_type": "stream",
     "text": [
      "2023-03-15 16:51:49 [    INFO] catalystcoop.pudl.transform.classes:1312 other_regulatory_liabilities_ferc1: Dropping remaining invalid rows.\n"
     ]
    },
    {
     "name": "stdout",
     "output_type": "stream",
     "text": [
      "other_regulatory_liabilities_ferc1: Dropping remaining invalid rows.\n"
     ]
    },
    {
     "name": "stderr",
     "output_type": "stream",
     "text": [
      "2023-03-15 16:51:49 [    INFO] catalystcoop.pudl.transform.classes:823 29.8% of records (2113 rows) contain only {0, '', <NA>, nan} values in required columns. Dropped these 💩💩💩 records.\n"
     ]
    },
    {
     "name": "stdout",
     "output_type": "stream",
     "text": [
      "29.8% of records (2113 rows) contain only {0, '', <NA>, nan} values in required columns. Dropped these 💩💩💩 records.\n"
     ]
    }
   ],
   "source": [
    "main = TRANSFORMER.transform_main(\n",
    "    start\n",
    ")"
   ]
  },
  {
   "cell_type": "code",
   "execution_count": 14,
   "id": "e4e1e202-a6b0-4fb9-b9cc-eccbc2e3b813",
   "metadata": {},
   "outputs": [
    {
     "name": "stderr",
     "output_type": "stream",
     "text": [
      "2023-03-15 16:51:49 [    INFO] catalystcoop.pudl.transform.classes:1343 other_regulatory_liabilities_ferc1: Enforcing database schema on dataframe.\n"
     ]
    },
    {
     "name": "stdout",
     "output_type": "stream",
     "text": [
      "other_regulatory_liabilities_ferc1: Enforcing database schema on dataframe.\n"
     ]
    }
   ],
   "source": [
    "end = TRANSFORMER.transform_end(\n",
    "    main\n",
    ")"
   ]
  },
  {
   "cell_type": "markdown",
   "id": "a6b2ad2b-57e3-49bd-ba83-8a68f6c06b17",
   "metadata": {},
   "source": [
    "#### Test all steps together"
   ]
  },
  {
   "cell_type": "code",
   "execution_count": 15,
   "id": "87e11c18-f6a1-49b0-92d5-b9ebc38fe920",
   "metadata": {
    "tags": []
   },
   "outputs": [
    {
     "name": "stderr",
     "output_type": "stream",
     "text": [
      "2023-03-15 16:51:49 [    INFO] catalystcoop.pudl.transform.ferc1:1079 other_regulatory_liabilities_ferc1: Processing DBF data pre-concatenation.\n"
     ]
    },
    {
     "name": "stdout",
     "output_type": "stream",
     "text": [
      "other_regulatory_liabilities_ferc1: Processing DBF data pre-concatenation.\n"
     ]
    },
    {
     "name": "stderr",
     "output_type": "stream",
     "text": [
      "2023-03-15 16:51:49 [    INFO] catalystcoop.pudl.transform.ferc1:1142 other_regulatory_liabilities_ferc1: After selection only annual records, we have 26.7% of the original table.\n"
     ]
    },
    {
     "name": "stdout",
     "output_type": "stream",
     "text": [
      "other_regulatory_liabilities_ferc1: After selection only annual records, we have 26.7% of the original table.\n"
     ]
    },
    {
     "name": "stderr",
     "output_type": "stream",
     "text": [
      "2023-03-15 16:51:49 [    INFO] catalystcoop.pudl.transform.classes:1210 other_regulatory_liabilities_ferc1: Attempting to rename 13 columns.\n"
     ]
    },
    {
     "name": "stdout",
     "output_type": "stream",
     "text": [
      "other_regulatory_liabilities_ferc1: Attempting to rename 13 columns.\n"
     ]
    },
    {
     "name": "stderr",
     "output_type": "stream",
     "text": [
      "2023-03-15 16:51:49 [    INFO] catalystcoop.pudl.transform.ferc1:1100 other_regulatory_liabilities_ferc1: Processing XBRL data pre-concatenation.\n"
     ]
    },
    {
     "name": "stdout",
     "output_type": "stream",
     "text": [
      "other_regulatory_liabilities_ferc1: Processing XBRL data pre-concatenation.\n"
     ]
    },
    {
     "name": "stderr",
     "output_type": "stream",
     "text": [
      "2023-03-15 16:51:49 [    INFO] catalystcoop.pudl.transform.classes:1210 other_regulatory_liabilities_ferc1: Attempting to rename 0 columns.\n"
     ]
    },
    {
     "name": "stdout",
     "output_type": "stream",
     "text": [
      "other_regulatory_liabilities_ferc1: Attempting to rename 0 columns.\n"
     ]
    },
    {
     "name": "stderr",
     "output_type": "stream",
     "text": [
      "2023-03-15 16:51:49 [    INFO] catalystcoop.pudl.transform.ferc1:1154 other_regulatory_liabilities_ferc1: Unstacking balances to the report years.\n"
     ]
    },
    {
     "name": "stdout",
     "output_type": "stream",
     "text": [
      "other_regulatory_liabilities_ferc1: Unstacking balances to the report years.\n"
     ]
    },
    {
     "name": "stderr",
     "output_type": "stream",
     "text": [
      "2023-03-15 16:51:50 [    INFO] catalystcoop.pudl.transform.classes:1210 other_regulatory_liabilities_ferc1: Attempting to rename 0 columns.\n"
     ]
    },
    {
     "name": "stdout",
     "output_type": "stream",
     "text": [
      "other_regulatory_liabilities_ferc1: Attempting to rename 0 columns.\n"
     ]
    },
    {
     "name": "stderr",
     "output_type": "stream",
     "text": [
      "2023-03-15 16:51:50 [    INFO] catalystcoop.pudl.transform.ferc1:1381 other_regulatory_liabilities_ferc1: After selection of dates based on the report year, we have 100.0% of the original table.\n"
     ]
    },
    {
     "name": "stdout",
     "output_type": "stream",
     "text": [
      "other_regulatory_liabilities_ferc1: After selection of dates based on the report year, we have 100.0% of the original table.\n"
     ]
    },
    {
     "name": "stderr",
     "output_type": "stream",
     "text": [
      "2023-03-15 16:51:50 [    INFO] catalystcoop.pudl.transform.ferc1:1285 other_regulatory_liabilities_ferc1: Both XBRL instant & duration tables found.\n"
     ]
    },
    {
     "name": "stdout",
     "output_type": "stream",
     "text": [
      "other_regulatory_liabilities_ferc1: Both XBRL instant & duration tables found.\n"
     ]
    },
    {
     "name": "stderr",
     "output_type": "stream",
     "text": [
      "2023-03-15 16:51:50 [    INFO] catalystcoop.pudl.transform.ferc1:1304 other_regulatory_liabilities_ferc1: Combining XBRL instant & duration tables using RIGHT-MERGE.\n"
     ]
    },
    {
     "name": "stdout",
     "output_type": "stream",
     "text": [
      "other_regulatory_liabilities_ferc1: Combining XBRL instant & duration tables using RIGHT-MERGE.\n"
     ]
    },
    {
     "name": "stderr",
     "output_type": "stream",
     "text": [
      "2023-03-15 16:51:50 [    INFO] catalystcoop.pudl.transform.classes:1210 other_regulatory_liabilities_ferc1: Attempting to rename 9 columns.\n"
     ]
    },
    {
     "name": "stdout",
     "output_type": "stream",
     "text": [
      "other_regulatory_liabilities_ferc1: Attempting to rename 9 columns.\n"
     ]
    },
    {
     "name": "stderr",
     "output_type": "stream",
     "text": [
      "2023-03-15 16:51:50 [    INFO] catalystcoop.pudl.transform.ferc1:916 other_regulatory_liabilities_ferc1: Concatenating DBF + XBRL dataframes.\n"
     ]
    },
    {
     "name": "stdout",
     "output_type": "stream",
     "text": [
      "other_regulatory_liabilities_ferc1: Concatenating DBF + XBRL dataframes.\n"
     ]
    },
    {
     "name": "stderr",
     "output_type": "stream",
     "text": [
      "2023-03-15 16:51:50 [    INFO] catalystcoop.pudl.transform.classes:1336 other_regulatory_liabilities_ferc1: Spot fixing missing values.\n"
     ]
    },
    {
     "name": "stdout",
     "output_type": "stream",
     "text": [
      "other_regulatory_liabilities_ferc1: Spot fixing missing values.\n"
     ]
    },
    {
     "name": "stderr",
     "output_type": "stream",
     "text": [
      "2023-03-15 16:51:50 [    INFO] catalystcoop.pudl.transform.classes:1234 other_regulatory_liabilities_ferc1: Normalizing freeform string columns.\n"
     ]
    },
    {
     "name": "stdout",
     "output_type": "stream",
     "text": [
      "other_regulatory_liabilities_ferc1: Normalizing freeform string columns.\n"
     ]
    },
    {
     "name": "stderr",
     "output_type": "stream",
     "text": [
      "2023-03-15 16:51:50 [    INFO] catalystcoop.pudl.transform.classes:1258 other_regulatory_liabilities_ferc1: Categorizing string columns using a controlled vocabulary.\n"
     ]
    },
    {
     "name": "stdout",
     "output_type": "stream",
     "text": [
      "other_regulatory_liabilities_ferc1: Categorizing string columns using a controlled vocabulary.\n"
     ]
    },
    {
     "name": "stderr",
     "output_type": "stream",
     "text": [
      "2023-03-15 16:51:50 [    INFO] catalystcoop.pudl.transform.classes:1283 other_regulatory_liabilities_ferc1: Converting units and renaming columns accordingly.\n"
     ]
    },
    {
     "name": "stdout",
     "output_type": "stream",
     "text": [
      "other_regulatory_liabilities_ferc1: Converting units and renaming columns accordingly.\n"
     ]
    },
    {
     "name": "stderr",
     "output_type": "stream",
     "text": [
      "2023-03-15 16:51:50 [    INFO] catalystcoop.pudl.transform.classes:1245 other_regulatory_liabilities_ferc1: Stripping non-numeric values from [].\n"
     ]
    },
    {
     "name": "stdout",
     "output_type": "stream",
     "text": [
      "other_regulatory_liabilities_ferc1: Stripping non-numeric values from [].\n"
     ]
    },
    {
     "name": "stderr",
     "output_type": "stream",
     "text": [
      "2023-03-15 16:51:50 [    INFO] catalystcoop.pudl.transform.classes:1272 other_regulatory_liabilities_ferc1: Nullifying outlying values.\n"
     ]
    },
    {
     "name": "stdout",
     "output_type": "stream",
     "text": [
      "other_regulatory_liabilities_ferc1: Nullifying outlying values.\n"
     ]
    },
    {
     "name": "stderr",
     "output_type": "stream",
     "text": [
      "2023-03-15 16:51:50 [    INFO] catalystcoop.pudl.transform.classes:1325 other_regulatory_liabilities_ferc1: Replacing specified values with NA.\n"
     ]
    },
    {
     "name": "stdout",
     "output_type": "stream",
     "text": [
      "other_regulatory_liabilities_ferc1: Replacing specified values with NA.\n"
     ]
    },
    {
     "name": "stderr",
     "output_type": "stream",
     "text": [
      "2023-03-15 16:51:50 [    INFO] catalystcoop.pudl.transform.classes:1312 other_regulatory_liabilities_ferc1: Dropping remaining invalid rows.\n"
     ]
    },
    {
     "name": "stdout",
     "output_type": "stream",
     "text": [
      "other_regulatory_liabilities_ferc1: Dropping remaining invalid rows.\n"
     ]
    },
    {
     "name": "stderr",
     "output_type": "stream",
     "text": [
      "2023-03-15 16:51:50 [    INFO] catalystcoop.pudl.transform.classes:823 29.8% of records (2113 rows) contain only {0, '', <NA>, nan} values in required columns. Dropped these 💩💩💩 records.\n"
     ]
    },
    {
     "name": "stdout",
     "output_type": "stream",
     "text": [
      "29.8% of records (2113 rows) contain only {0, '', <NA>, nan} values in required columns. Dropped these 💩💩💩 records.\n"
     ]
    },
    {
     "name": "stderr",
     "output_type": "stream",
     "text": [
      "2023-03-15 16:51:50 [    INFO] catalystcoop.pudl.transform.classes:1343 other_regulatory_liabilities_ferc1: Enforcing database schema on dataframe.\n"
     ]
    },
    {
     "name": "stdout",
     "output_type": "stream",
     "text": [
      "other_regulatory_liabilities_ferc1: Enforcing database schema on dataframe.\n"
     ]
    }
   ],
   "source": [
    "full = TRANSFORMER.transform(\n",
    "    raw_dbf=ferc1_dbf_raw_dfs[TRANSFORMER.table_id.value],\n",
    "    raw_xbrl_instant=ferc1_xbrl_raw_dfs[TRANSFORMER.table_id.value][\"instant\"],\n",
    "    raw_xbrl_duration=ferc1_xbrl_raw_dfs[TRANSFORMER.table_id.value][\"duration\"]\n",
    ")"
   ]
  },
  {
   "cell_type": "markdown",
   "id": "e795f853-a752-44a6-86ac-644baf291f9b",
   "metadata": {
    "tags": []
   },
   "source": [
    "### Transform All Tables"
   ]
  },
  {
   "cell_type": "code",
   "execution_count": 16,
   "id": "08da1d39-6272-435f-8241-8b3879078393",
   "metadata": {
    "tags": []
   },
   "outputs": [
    {
     "name": "stderr",
     "output_type": "stream",
     "text": [
      "2023-03-15 16:51:50 [    INFO] catalystcoop.pudl.transform.ferc1:1079 fuel_ferc1: Processing DBF data pre-concatenation.\n"
     ]
    },
    {
     "name": "stdout",
     "output_type": "stream",
     "text": [
      "fuel_ferc1: Processing DBF data pre-concatenation.\n"
     ]
    },
    {
     "name": "stderr",
     "output_type": "stream",
     "text": [
      "2023-03-15 16:51:50 [    INFO] catalystcoop.pudl.transform.classes:1210 fuel_ferc1: Attempting to rename 17 columns.\n"
     ]
    },
    {
     "name": "stdout",
     "output_type": "stream",
     "text": [
      "fuel_ferc1: Attempting to rename 17 columns.\n"
     ]
    },
    {
     "name": "stderr",
     "output_type": "stream",
     "text": [
      "2023-03-15 16:51:50 [    INFO] catalystcoop.pudl.transform.classes:1283 fuel_ferc1: Converting units and renaming columns accordingly.\n"
     ]
    },
    {
     "name": "stdout",
     "output_type": "stream",
     "text": [
      "fuel_ferc1: Converting units and renaming columns accordingly.\n"
     ]
    },
    {
     "name": "stderr",
     "output_type": "stream",
     "text": [
      "2023-03-15 16:51:50 [    INFO] catalystcoop.pudl.transform.classes:1234 fuel_ferc1: Normalizing freeform string columns.\n"
     ]
    },
    {
     "name": "stdout",
     "output_type": "stream",
     "text": [
      "fuel_ferc1: Normalizing freeform string columns.\n"
     ]
    },
    {
     "name": "stderr",
     "output_type": "stream",
     "text": [
      "2023-03-15 16:51:50 [    INFO] catalystcoop.pudl.transform.classes:1258 fuel_ferc1: Categorizing string columns using a controlled vocabulary.\n"
     ]
    },
    {
     "name": "stdout",
     "output_type": "stream",
     "text": [
      "fuel_ferc1: Categorizing string columns using a controlled vocabulary.\n"
     ]
    },
    {
     "name": "stderr",
     "output_type": "stream",
     "text": [
      "2023-03-15 16:51:50 [    INFO] catalystcoop.pudl.transform.classes:1210 fuel_ferc1: Attempting to rename 0 columns.\n"
     ]
    },
    {
     "name": "stdout",
     "output_type": "stream",
     "text": [
      "fuel_ferc1: Attempting to rename 0 columns.\n"
     ]
    },
    {
     "name": "stderr",
     "output_type": "stream",
     "text": [
      "2023-03-15 16:51:50 [    INFO] catalystcoop.pudl.transform.ferc1:1154 fuel_ferc1: Unstacking balances to the report years.\n"
     ]
    },
    {
     "name": "stdout",
     "output_type": "stream",
     "text": [
      "fuel_ferc1: Unstacking balances to the report years.\n"
     ]
    },
    {
     "name": "stderr",
     "output_type": "stream",
     "text": [
      "2023-03-15 16:51:50 [    INFO] catalystcoop.pudl.transform.classes:1210 fuel_ferc1: Attempting to rename 0 columns.\n"
     ]
    },
    {
     "name": "stdout",
     "output_type": "stream",
     "text": [
      "fuel_ferc1: Attempting to rename 0 columns.\n"
     ]
    },
    {
     "name": "stderr",
     "output_type": "stream",
     "text": [
      "2023-03-15 16:51:50 [    INFO] catalystcoop.pudl.transform.ferc1:1381 fuel_ferc1: After selection of dates based on the report year, we have 100.0% of the original table.\n"
     ]
    },
    {
     "name": "stdout",
     "output_type": "stream",
     "text": [
      "fuel_ferc1: After selection of dates based on the report year, we have 100.0% of the original table.\n"
     ]
    },
    {
     "name": "stderr",
     "output_type": "stream",
     "text": [
      "2023-03-15 16:51:50 [    INFO] catalystcoop.pudl.transform.ferc1:1279 fuel_ferc1: No XBRL instant table found.\n"
     ]
    },
    {
     "name": "stdout",
     "output_type": "stream",
     "text": [
      "fuel_ferc1: No XBRL instant table found.\n"
     ]
    },
    {
     "name": "stderr",
     "output_type": "stream",
     "text": [
      "2023-03-15 16:51:50 [    INFO] catalystcoop.pudl.transform.classes:1210 fuel_ferc1: Attempting to rename 15 columns.\n"
     ]
    },
    {
     "name": "stdout",
     "output_type": "stream",
     "text": [
      "fuel_ferc1: Attempting to rename 15 columns.\n"
     ]
    },
    {
     "name": "stderr",
     "output_type": "stream",
     "text": [
      "2023-03-15 16:51:50 [    INFO] catalystcoop.pudl.transform.classes:1283 fuel_ferc1: Converting units and renaming columns accordingly.\n"
     ]
    },
    {
     "name": "stdout",
     "output_type": "stream",
     "text": [
      "fuel_ferc1: Converting units and renaming columns accordingly.\n"
     ]
    },
    {
     "name": "stderr",
     "output_type": "stream",
     "text": [
      "2023-03-15 16:51:50 [    INFO] catalystcoop.pudl.transform.classes:1234 fuel_ferc1: Normalizing freeform string columns.\n"
     ]
    },
    {
     "name": "stdout",
     "output_type": "stream",
     "text": [
      "fuel_ferc1: Normalizing freeform string columns.\n"
     ]
    },
    {
     "name": "stderr",
     "output_type": "stream",
     "text": [
      "2023-03-15 16:51:50 [    INFO] catalystcoop.pudl.transform.classes:1258 fuel_ferc1: Categorizing string columns using a controlled vocabulary.\n"
     ]
    },
    {
     "name": "stdout",
     "output_type": "stream",
     "text": [
      "fuel_ferc1: Categorizing string columns using a controlled vocabulary.\n"
     ]
    },
    {
     "name": "stderr",
     "output_type": "stream",
     "text": [
      "2023-03-15 16:51:50 [    INFO] catalystcoop.pudl.transform.ferc1:1783 fuel_ferc1: Aggregating 30 rows with duplicate primary keys out of 1318 total rows.\n"
     ]
    },
    {
     "name": "stdout",
     "output_type": "stream",
     "text": [
      "fuel_ferc1: Aggregating 30 rows with duplicate primary keys out of 1318 total rows.\n"
     ]
    },
    {
     "name": "stderr",
     "output_type": "stream",
     "text": [
      "2023-03-15 16:51:50 [    INFO] catalystcoop.pudl.transform.ferc1:1787 fuel_ferc1: Dropping 98 records with inconsistent fuel units preventing aggregation out of 1318 total rows.\n"
     ]
    },
    {
     "name": "stdout",
     "output_type": "stream",
     "text": [
      "fuel_ferc1: Dropping 98 records with inconsistent fuel units preventing aggregation out of 1318 total rows.\n"
     ]
    },
    {
     "name": "stderr",
     "output_type": "stream",
     "text": [
      "2023-03-15 16:51:50 [    INFO] catalystcoop.pudl.transform.ferc1:916 fuel_ferc1: Concatenating DBF + XBRL dataframes.\n"
     ]
    },
    {
     "name": "stdout",
     "output_type": "stream",
     "text": [
      "fuel_ferc1: Concatenating DBF + XBRL dataframes.\n"
     ]
    },
    {
     "name": "stderr",
     "output_type": "stream",
     "text": [
      "2023-03-15 16:51:50 [    INFO] catalystcoop.pudl.transform.classes:1336 fuel_ferc1: Spot fixing missing values.\n"
     ]
    },
    {
     "name": "stdout",
     "output_type": "stream",
     "text": [
      "fuel_ferc1: Spot fixing missing values.\n"
     ]
    },
    {
     "name": "stderr",
     "output_type": "stream",
     "text": [
      "2023-03-15 16:51:50 [    INFO] catalystcoop.pudl.transform.classes:1312 fuel_ferc1: Dropping remaining invalid rows.\n"
     ]
    },
    {
     "name": "stdout",
     "output_type": "stream",
     "text": [
      "fuel_ferc1: Dropping remaining invalid rows.\n"
     ]
    },
    {
     "name": "stderr",
     "output_type": "stream",
     "text": [
      "2023-03-15 16:51:50 [    INFO] catalystcoop.pudl.transform.classes:823 66.2% of records (4715 rows) contain only {0, '', <NA>, nan} values in required columns. Dropped these 💩💩💩 records.\n"
     ]
    },
    {
     "name": "stdout",
     "output_type": "stream",
     "text": [
      "66.2% of records (4715 rows) contain only {0, '', <NA>, nan} values in required columns. Dropped these 💩💩💩 records.\n"
     ]
    },
    {
     "name": "stderr",
     "output_type": "stream",
     "text": [
      "2023-03-15 16:51:50 [    INFO] catalystcoop.pudl.transform.classes:823 0.5% of records (12 rows) contain only {'', '-', 'ant1-3', '0', 'elk 1-3', 'must 456', 'must 123', nan, 'not applicable', <NA>} values in required columns. Dropped these 💩💩💩 records.\n"
     ]
    },
    {
     "name": "stdout",
     "output_type": "stream",
     "text": [
      "0.5% of records (12 rows) contain only {'', '-', 'ant1-3', '0', 'elk 1-3', 'must 456', 'must 123', nan, 'not applicable', <NA>} values in required columns. Dropped these 💩💩💩 records.\n"
     ]
    },
    {
     "name": "stderr",
     "output_type": "stream",
     "text": [
      "2023-03-15 16:51:50 [    INFO] catalystcoop.pudl.transform.ferc1:1857 fuel_ferc1: Dropping 0/2400rows representing plant-level all-fuel totals.\n"
     ]
    },
    {
     "name": "stdout",
     "output_type": "stream",
     "text": [
      "fuel_ferc1: Dropping 0/2400rows representing plant-level all-fuel totals.\n"
     ]
    },
    {
     "name": "stderr",
     "output_type": "stream",
     "text": [
      "2023-03-15 16:51:50 [    INFO] catalystcoop.pudl.transform.classes:1299 fuel_ferc1: Correcting inferred non-standard column units.\n"
     ]
    },
    {
     "name": "stdout",
     "output_type": "stream",
     "text": [
      "fuel_ferc1: Correcting inferred non-standard column units.\n"
     ]
    },
    {
     "name": "stderr",
     "output_type": "stream",
     "text": [
      "2023-03-15 16:51:50 [    INFO] catalystcoop.pudl.transform.classes:698 Correcting units of fuel_mmbtu_per_unit where fuel_type_code_pudl==coal.\n"
     ]
    },
    {
     "name": "stdout",
     "output_type": "stream",
     "text": [
      "Correcting units of fuel_mmbtu_per_unit where fuel_type_code_pudl==coal.\n"
     ]
    },
    {
     "name": "stderr",
     "output_type": "stream",
     "text": [
      "2023-03-15 16:51:50 [    INFO] catalystcoop.pudl.transform.classes:719 34/445 (7.64%) of records could not be corrected and were set to NA.\n"
     ]
    },
    {
     "name": "stdout",
     "output_type": "stream",
     "text": [
      "34/445 (7.64%) of records could not be corrected and were set to NA.\n"
     ]
    },
    {
     "name": "stderr",
     "output_type": "stream",
     "text": [
      "2023-03-15 16:51:50 [    INFO] catalystcoop.pudl.transform.classes:698 Correcting units of fuel_mmbtu_per_unit where fuel_type_code_pudl==gas.\n"
     ]
    },
    {
     "name": "stdout",
     "output_type": "stream",
     "text": [
      "Correcting units of fuel_mmbtu_per_unit where fuel_type_code_pudl==gas.\n"
     ]
    },
    {
     "name": "stderr",
     "output_type": "stream",
     "text": [
      "2023-03-15 16:51:50 [    INFO] catalystcoop.pudl.transform.classes:719 92/1041 (8.84%) of records could not be corrected and were set to NA.\n"
     ]
    },
    {
     "name": "stdout",
     "output_type": "stream",
     "text": [
      "92/1041 (8.84%) of records could not be corrected and were set to NA.\n"
     ]
    },
    {
     "name": "stderr",
     "output_type": "stream",
     "text": [
      "2023-03-15 16:51:50 [    INFO] catalystcoop.pudl.transform.classes:698 Correcting units of fuel_mmbtu_per_unit where fuel_type_code_pudl==oil.\n"
     ]
    },
    {
     "name": "stdout",
     "output_type": "stream",
     "text": [
      "Correcting units of fuel_mmbtu_per_unit where fuel_type_code_pudl==oil.\n"
     ]
    },
    {
     "name": "stderr",
     "output_type": "stream",
     "text": [
      "2023-03-15 16:51:50 [    INFO] catalystcoop.pudl.transform.classes:719 90/749 (12.02%) of records could not be corrected and were set to NA.\n"
     ]
    },
    {
     "name": "stdout",
     "output_type": "stream",
     "text": [
      "90/749 (12.02%) of records could not be corrected and were set to NA.\n"
     ]
    },
    {
     "name": "stderr",
     "output_type": "stream",
     "text": [
      "2023-03-15 16:51:50 [    INFO] catalystcoop.pudl.transform.classes:698 Correcting units of fuel_cost_per_mmbtu where fuel_type_code_pudl==coal.\n"
     ]
    },
    {
     "name": "stdout",
     "output_type": "stream",
     "text": [
      "Correcting units of fuel_cost_per_mmbtu where fuel_type_code_pudl==coal.\n"
     ]
    },
    {
     "name": "stderr",
     "output_type": "stream",
     "text": [
      "2023-03-15 16:51:50 [    INFO] catalystcoop.pudl.transform.classes:719 57/445 (12.81%) of records could not be corrected and were set to NA.\n"
     ]
    },
    {
     "name": "stdout",
     "output_type": "stream",
     "text": [
      "57/445 (12.81%) of records could not be corrected and were set to NA.\n"
     ]
    },
    {
     "name": "stderr",
     "output_type": "stream",
     "text": [
      "2023-03-15 16:51:50 [    INFO] catalystcoop.pudl.transform.classes:698 Correcting units of fuel_cost_per_mmbtu where fuel_type_code_pudl==gas.\n"
     ]
    },
    {
     "name": "stdout",
     "output_type": "stream",
     "text": [
      "Correcting units of fuel_cost_per_mmbtu where fuel_type_code_pudl==gas.\n"
     ]
    },
    {
     "name": "stderr",
     "output_type": "stream",
     "text": [
      "2023-03-15 16:51:50 [    INFO] catalystcoop.pudl.transform.classes:719 87/1041 (8.36%) of records could not be corrected and were set to NA.\n"
     ]
    },
    {
     "name": "stdout",
     "output_type": "stream",
     "text": [
      "87/1041 (8.36%) of records could not be corrected and were set to NA.\n"
     ]
    },
    {
     "name": "stderr",
     "output_type": "stream",
     "text": [
      "2023-03-15 16:51:50 [    INFO] catalystcoop.pudl.transform.classes:698 Correcting units of fuel_cost_per_mmbtu where fuel_type_code_pudl==oil.\n"
     ]
    },
    {
     "name": "stdout",
     "output_type": "stream",
     "text": [
      "Correcting units of fuel_cost_per_mmbtu where fuel_type_code_pudl==oil.\n"
     ]
    },
    {
     "name": "stderr",
     "output_type": "stream",
     "text": [
      "2023-03-15 16:51:50 [    INFO] catalystcoop.pudl.transform.classes:719 167/749 (22.30%) of records could not be corrected and were set to NA.\n"
     ]
    },
    {
     "name": "stdout",
     "output_type": "stream",
     "text": [
      "167/749 (22.30%) of records could not be corrected and were set to NA.\n"
     ]
    },
    {
     "name": "stderr",
     "output_type": "stream",
     "text": [
      "2023-03-15 16:51:50 [    INFO] catalystcoop.pudl.transform.classes:1343 fuel_ferc1: Enforcing database schema on dataframe.\n"
     ]
    },
    {
     "name": "stdout",
     "output_type": "stream",
     "text": [
      "fuel_ferc1: Enforcing database schema on dataframe.\n"
     ]
    },
    {
     "ename": "TypeError",
     "evalue": "PlantsSteamFerc1TableTransformer.transform() missing 1 required positional argument: 'transformed_fuel'",
     "output_type": "error",
     "traceback": [
      "\u001b[0;31m---------------------------------------------------------------------------\u001b[0m",
      "\u001b[0;31mTypeError\u001b[0m                                 Traceback (most recent call last)",
      "Cell \u001b[0;32mIn[16], line 3\u001b[0m\n\u001b[1;32m      1\u001b[0m transformed_tables \u001b[38;5;241m=\u001b[39m {}\n\u001b[1;32m      2\u001b[0m \u001b[38;5;28;01mfor\u001b[39;00m table_name, transformer \u001b[38;5;129;01min\u001b[39;00m transformers\u001b[38;5;241m.\u001b[39mitems():\n\u001b[0;32m----> 3\u001b[0m     transformed_tables[transformer\u001b[38;5;241m.\u001b[39mtable_id\u001b[38;5;241m.\u001b[39mvalue] \u001b[38;5;241m=\u001b[39m \u001b[43mtransformer\u001b[49m\u001b[38;5;241;43m.\u001b[39;49m\u001b[43mtransform\u001b[49m\u001b[43m(\u001b[49m\n\u001b[1;32m      4\u001b[0m \u001b[43m        \u001b[49m\u001b[43mraw_dbf\u001b[49m\u001b[38;5;241;43m=\u001b[39;49m\u001b[43mferc1_dbf_raw_dfs\u001b[49m\u001b[43m[\u001b[49m\u001b[43mtransformer\u001b[49m\u001b[38;5;241;43m.\u001b[39;49m\u001b[43mtable_id\u001b[49m\u001b[38;5;241;43m.\u001b[39;49m\u001b[43mvalue\u001b[49m\u001b[43m]\u001b[49m\u001b[43m,\u001b[49m\n\u001b[1;32m      5\u001b[0m \u001b[43m        \u001b[49m\u001b[43mraw_xbrl_instant\u001b[49m\u001b[38;5;241;43m=\u001b[39;49m\u001b[43mferc1_xbrl_raw_dfs\u001b[49m\u001b[43m[\u001b[49m\u001b[43mtransformer\u001b[49m\u001b[38;5;241;43m.\u001b[39;49m\u001b[43mtable_id\u001b[49m\u001b[38;5;241;43m.\u001b[39;49m\u001b[43mvalue\u001b[49m\u001b[43m]\u001b[49m\u001b[43m[\u001b[49m\u001b[38;5;124;43m\"\u001b[39;49m\u001b[38;5;124;43minstant\u001b[39;49m\u001b[38;5;124;43m\"\u001b[39;49m\u001b[43m]\u001b[49m\u001b[43m,\u001b[49m\n\u001b[1;32m      6\u001b[0m \u001b[43m        \u001b[49m\u001b[43mraw_xbrl_duration\u001b[49m\u001b[38;5;241;43m=\u001b[39;49m\u001b[43mferc1_xbrl_raw_dfs\u001b[49m\u001b[43m[\u001b[49m\u001b[43mtransformer\u001b[49m\u001b[38;5;241;43m.\u001b[39;49m\u001b[43mtable_id\u001b[49m\u001b[38;5;241;43m.\u001b[39;49m\u001b[43mvalue\u001b[49m\u001b[43m]\u001b[49m\u001b[43m[\u001b[49m\u001b[38;5;124;43m\"\u001b[39;49m\u001b[38;5;124;43mduration\u001b[39;49m\u001b[38;5;124;43m\"\u001b[39;49m\u001b[43m]\u001b[49m\n\u001b[1;32m      7\u001b[0m \u001b[43m    \u001b[49m\u001b[43m)\u001b[49m\n",
      "\u001b[0;31mTypeError\u001b[0m: PlantsSteamFerc1TableTransformer.transform() missing 1 required positional argument: 'transformed_fuel'"
     ]
    }
   ],
   "source": [
    "transformed_tables = {}\n",
    "for table_name, transformer in transformers.items():\n",
    "    transformed_tables[transformer.table_id.value] = transformer.transform(\n",
    "        raw_dbf=ferc1_dbf_raw_dfs[transformer.table_id.value],\n",
    "        raw_xbrl_instant=ferc1_xbrl_raw_dfs[transformer.table_id.value][\"instant\"],\n",
    "        raw_xbrl_duration=ferc1_xbrl_raw_dfs[transformer.table_id.value][\"duration\"]\n",
    "    )"
   ]
  }
 ],
 "metadata": {
  "kernelspec": {
   "display_name": "Python 3 (ipykernel)",
   "language": "python",
   "name": "python3"
  },
  "language_info": {
   "codemirror_mode": {
    "name": "ipython",
    "version": 3
   },
   "file_extension": ".py",
   "mimetype": "text/x-python",
   "name": "python",
   "nbconvert_exporter": "python",
   "pygments_lexer": "ipython3",
   "version": "3.10.9"
  }
 },
 "nbformat": 4,
 "nbformat_minor": 5
}
