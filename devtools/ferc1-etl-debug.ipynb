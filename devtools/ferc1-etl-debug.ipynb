{
 "cells": [
  {
   "cell_type": "markdown",
   "id": "3deb7c75-179c-439f-b30c-beca40e9cecf",
   "metadata": {},
   "source": [
    "# Working with the FERC Form 1 Extract / Transform\n",
    "This notebook steps through PUDL's extract and transform steps for FERC Form 1 to make it easier to test and add new years of data, or new tables from the various spreadsheets that haven't been integrated yet."
   ]
  },
  {
   "cell_type": "code",
   "execution_count": null,
   "id": "1fa9ca56-b2c8-4bae-8ba3-ee9050b0ef86",
   "metadata": {},
   "outputs": [],
   "source": [
    "%load_ext autoreload\n",
    "%autoreload 3\n",
    "import pudl\n",
    "import logging\n",
    "import sys\n",
    "from pathlib import Path\n",
    "import pandas as pd\n",
    "pd.options.display.max_columns = None"
   ]
  },
  {
   "cell_type": "code",
   "execution_count": null,
   "id": "e21fea69-9d14-48d6-b0c9-149c37844e95",
   "metadata": {},
   "outputs": [],
   "source": [
    "logger = logging.getLogger()\n",
    "logger.setLevel(logging.INFO)\n",
    "handler = logging.StreamHandler(stream=sys.stdout)\n",
    "formatter = logging.Formatter('%(message)s')\n",
    "handler.setFormatter(formatter)\n",
    "logger.handlers = [handler]"
   ]
  },
  {
   "cell_type": "code",
   "execution_count": null,
   "id": "4a6e60d7-49e6-447c-a523-f88987c28086",
   "metadata": {},
   "outputs": [],
   "source": [
    "pudl_settings = pudl.workspace.setup.get_defaults()"
   ]
  },
  {
   "cell_type": "markdown",
   "id": "f0bac7d3-bb44-4e20-bd02-67afdd4412af",
   "metadata": {},
   "source": [
    "## Pick the tables you want to load"
   ]
  },
  {
   "cell_type": "code",
   "execution_count": null,
   "id": "bd17e444-c01d-41e6-a6ea-68244daf0fbc",
   "metadata": {},
   "outputs": [],
   "source": [
    "tables = [\n",
    "    \"balance_sheet_assets_ferc1\",\n",
    "    \"balance_sheet_liabilities_ferc1\",\n",
    "    \"depreciation_amortization_summary_ferc1\",\n",
    "    \"electric_energy_dispositions_ferc1\",\n",
    "    \"electric_energy_sources_ferc1\",\n",
    "    \"electric_opex_ferc1\",\n",
    "    \"electric_plant_depreciation_changes_ferc1\",\n",
    "    \"fuel_ferc1\",\n",
    "    \"income_statement_ferc1\",\n",
    "    \"plants_hydro_ferc1\",\n",
    "    \"plants_pumped_storage_ferc1\",\n",
    "    \"plants_small_ferc1\",\n",
    "    \"plants_steam_ferc1\",\n",
    "    \"plant_in_service_ferc1\",\n",
    "    \"purchased_power_ferc1\",\n",
    "    \"retained_earnings_ferc1\",\n",
    "    \"transmission_statistics_ferc1\",\n",
    "    \"utility_plant_summary_ferc1\",\n",
    "]"
   ]
  },
  {
   "cell_type": "code",
   "execution_count": null,
   "id": "3006544a-06da-4310-89fc-8ac9f4b1bc69",
   "metadata": {},
   "outputs": [],
   "source": [
    "tables = [\"income_statement_ferc1\", \"electricity_sales_by_rate_schedule\"]"
   ]
  },
  {
   "cell_type": "code",
   "execution_count": null,
   "id": "451cb78d-d4c0-47a7-9eef-193f54cfc06d",
   "metadata": {},
   "outputs": [],
   "source": [
    "ferc1_settings = pudl.settings.Ferc1Settings(tables=tables)"
   ]
  },
  {
   "cell_type": "markdown",
   "id": "14145b03-fb79-46a6-a0e6-82da0c549d66",
   "metadata": {},
   "source": [
    "## Extract DBF and XBRL Data:"
   ]
  },
  {
   "cell_type": "code",
   "execution_count": null,
   "id": "40a748a6-02c1-4f64-9b05-7b4a9d6fce9e",
   "metadata": {
    "tags": []
   },
   "outputs": [],
   "source": [
    "# Extract old FERC form 1 data from DBF (2020 -)\n",
    "ferc1_dbf_raw_dfs = pudl.extract.ferc1.extract_dbf(\n",
    "    ferc1_settings=ferc1_settings, pudl_settings=pudl_settings\n",
    ")\n",
    "# Extract new FERC form 1 data from XBRL (2021 + )\n",
    "ferc1_xbrl_raw_dfs = pudl.extract.ferc1.extract_xbrl(\n",
    "    ferc1_settings=ferc1_settings, pudl_settings=pudl_settings\n",
    ")\n",
    "# Extract XBRL metadata\n",
    "xbrl_metadata_json_dict = {table: pudl.extract.ferc1.extract_xbrl_metadata(ferc1_settings, pudl_settings)[table] for table in tables}"
   ]
  },
  {
   "cell_type": "code",
   "execution_count": null,
   "id": "8a40bf26-947a-4892-b45d-edc22f3ed0bd",
   "metadata": {},
   "outputs": [],
   "source": [
    "ferc1_xbrl_raw_dfs[\"electricity_sales_by_rate_schedule\"][\"instant\"]"
   ]
  },
  {
   "cell_type": "code",
   "execution_count": null,
   "id": "cd81b74b-516d-457e-b456-310be4931a5b",
   "metadata": {},
   "outputs": [],
   "source": []
  },
  {
   "cell_type": "markdown",
   "id": "78271302-5323-4a4e-a208-256824a59ca4",
   "metadata": {
    "tags": []
   },
   "source": [
    "## Transform FERC 1 Tables:"
   ]
  },
  {
   "cell_type": "code",
   "execution_count": null,
   "id": "96ecacb3-439f-49f2-b2f9-00fc16b93d24",
   "metadata": {
    "jupyter": {
     "outputs_hidden": true
    },
    "tags": []
   },
   "outputs": [],
   "source": [
    "from pudl.transform.ferc1 import *\n",
    "from pudl.transform.params import *\n",
    "\n",
    "transformers = [\n",
    "    bsa := BalanceSheetAssetsFerc1TableTransformer(\n",
    "        xbrl_metadata_json=xbrl_metadata_json_dict[\"balance_sheet_assets_ferc1\"],\n",
    "        cache_dfs=True, \n",
    "        clear_cached_dfs=False\n",
    "    ),\n",
    "    bsl := BalanceSheetLiabilitiesFerc1TableTransformer(\n",
    "        xbrl_metadata_json=xbrl_metadata_json_dict[\"balance_sheet_liabilities_ferc1\"],\n",
    "        cache_dfs=True, \n",
    "        clear_cached_dfs=False\n",
    "    ),\n",
    "    das := DepreciationAmortizationSummaryFerc1TableTransformer(\n",
    "        xbrl_metadata_json=xbrl_metadata_json_dict[\"depreciation_amortization_summary_ferc1\"],\n",
    "        cache_dfs=True, \n",
    "        clear_cached_dfs=False\n",
    "    ),\n",
    "    eed := ElectricEnergyDispositionsFerc1TableTransformer(\n",
    "        xbrl_metadata_json=xbrl_metadata_json_dict[\"electric_energy_dispositions_ferc1\"],\n",
    "        cache_dfs=True, \n",
    "        clear_cached_dfs=False\n",
    "    ),\n",
    "    ees := ElectricEnergySourcesFerc1TableTransformer(\n",
    "        xbrl_metadata_json=xbrl_metadata_json_dict[\"electric_energy_sources_ferc1\"],\n",
    "        cache_dfs=True, \n",
    "        clear_cached_dfs=False\n",
    "    ),\n",
    "    eo := ElectricOpexFerc1TableTransformer(\n",
    "        xbrl_metadata_json=xbrl_metadata_json_dict[\"electric_opex_ferc1\"],\n",
    "        cache_dfs=True, \n",
    "        clear_cached_dfs=False\n",
    "    ),\n",
    "    epdc := ElectricPlantDepreciationChangesFerc1TableTransformer(\n",
    "        xbrl_metadata_json=xbrl_metadata_json_dict[\"electric_plant_depreciation_changes_ferc1\"],\n",
    "        cache_dfs=True, \n",
    "        clear_cached_dfs=False\n",
    "    ),\n",
    "    ff := FuelFerc1TableTransformer(\n",
    "        xbrl_metadata_json=xbrl_metadata_json_dict[\"fuel_ferc1\"],\n",
    "        cache_dfs=True, \n",
    "        clear_cached_dfs=False\n",
    "    ),\n",
    "    ins := IncomeStatementFerc1TableTransformer(\n",
    "        xbrl_metadata_json=xbrl_metadata_json_dict[\"income_statement_ferc1\"],\n",
    "        cache_dfs=True, \n",
    "        clear_cached_dfs=False\n",
    "    ),\n",
    "    ph := PlantsHydroFerc1TableTransformer(\n",
    "        xbrl_metadata_json=xbrl_metadata_json_dict[\"plants_hydro_ferc1\"], \n",
    "        cache_dfs=True, \n",
    "        clear_cached_dfs=False\n",
    "    ),\n",
    "    pps := PlantsPumpedStorageFerc1TableTransformer(\n",
    "        xbrl_metadata_json=xbrl_metadata_json_dict[\"plants_pumped_storage_ferc1\"], \n",
    "        cache_dfs=True, \n",
    "        clear_cached_dfs=False\n",
    "    ),\n",
    "    psm := PlantsSmallFerc1TableTransformer(\n",
    "        xbrl_metadata_json=xbrl_metadata_json_dict[\"plants_small_ferc1\"],\n",
    "        cache_dfs=True, \n",
    "        clear_cached_dfs=False\n",
    "    ),\n",
    "    pst := PlantsSteamFerc1TableTransformer(\n",
    "        xbrl_metadata_json=xbrl_metadata_json_dict[\"plants_steam_ferc1\"],\n",
    "        cache_dfs=True, \n",
    "        clear_cached_dfs=False\n",
    "    ),\n",
    "    pis := PlantInServiceFerc1TableTransformer(\n",
    "        xbrl_metadata_json=xbrl_metadata_json_dict[\"plant_in_service_ferc1\"], \n",
    "        cache_dfs=True, \n",
    "        clear_cached_dfs=False\n",
    "    ),\n",
    "    pp := PurchasedPowerFerc1TableTransformer(\n",
    "        xbrl_metadata_json=xbrl_metadata_json_dict[\"purchased_power_ferc1\"], \n",
    "        cache_dfs=True, \n",
    "        clear_cached_dfs=False\n",
    "    ),\n",
    "    re := RetainedEarningsFerc1TableTransformer(\n",
    "        xbrl_metadata_json=xbrl_metadata_json_dict[\"retained_earnings_ferc1\"],\n",
    "        cache_dfs=True, \n",
    "        clear_cached_dfs=False\n",
    "    ),\n",
    "    ts := TransmissionStatisticsFerc1TableTransformer(\n",
    "        xbrl_metadata_json=xbrl_metadata_json_dict[\"transmission_statistics_ferc1\"],\n",
    "        cache_dfs=True, \n",
    "        clear_cached_dfs=False\n",
    "    ),\n",
    "    ups := UtilityPlantSummaryFerc1TableTransformer(\n",
    "        xbrl_metadata_json=xbrl_metadata_json_dict[\"utility_plant_summary_ferc1\"],\n",
    "        cache_dfs=True, \n",
    "        clear_cached_dfs=False\n",
    "    ),\n",
    "]"
   ]
  },
  {
   "cell_type": "markdown",
   "id": "0b514045-1045-4b90-821e-c521e0f12190",
   "metadata": {},
   "source": [
    "### Transform Individual Tables"
   ]
  },
  {
   "cell_type": "code",
   "execution_count": null,
   "id": "d594beab-7c93-47e3-acb4-b18ef6d3b16e",
   "metadata": {},
   "outputs": [],
   "source": [
    "# Pick one table to transform\n",
    "TRANSFORMER = psm"
   ]
  },
  {
   "cell_type": "markdown",
   "id": "d030e249-3858-4650-ba2c-8ef62316db37",
   "metadata": {
    "jp-MarkdownHeadingCollapsed": true,
    "tags": []
   },
   "source": [
    "#### Transform Step-by-Step"
   ]
  },
  {
   "cell_type": "code",
   "execution_count": null,
   "id": "3c5f3389-58c8-40db-b71a-e74a1d4c8c09",
   "metadata": {
    "tags": []
   },
   "outputs": [],
   "source": [
    "start = TRANSFORMER.transform_start(\n",
    "    raw_dbf=ferc1_dbf_raw_dfs[TRANSFORMER.table_id.value],\n",
    "    raw_xbrl_instant=ferc1_xbrl_raw_dfs[TRANSFORMER.table_id.value][\"instant\"],\n",
    "    raw_xbrl_duration=ferc1_xbrl_raw_dfs[TRANSFORMER.table_id.value][\"duration\"]\n",
    ")"
   ]
  },
  {
   "cell_type": "code",
   "execution_count": null,
   "id": "9aa10b65-9200-42c4-8c02-745228b46b7f",
   "metadata": {
    "tags": []
   },
   "outputs": [],
   "source": [
    "main = TRANSFORMER.transform_main(\n",
    "    start\n",
    ")"
   ]
  },
  {
   "cell_type": "code",
   "execution_count": null,
   "id": "e4e1e202-a6b0-4fb9-b9cc-eccbc2e3b813",
   "metadata": {},
   "outputs": [],
   "source": [
    "end = TRANSFORMER.transform_end(\n",
    "    main\n",
    ")"
   ]
  },
  {
   "cell_type": "markdown",
   "id": "a6b2ad2b-57e3-49bd-ba83-8a68f6c06b17",
   "metadata": {},
   "source": [
    "#### Transform All Steps Together"
   ]
  },
  {
   "cell_type": "code",
   "execution_count": null,
   "id": "87e11c18-f6a1-49b0-92d5-b9ebc38fe920",
   "metadata": {
    "tags": []
   },
   "outputs": [],
   "source": [
    "full = TRANSFORMER.transform(\n",
    "    raw_dbf=ferc1_dbf_raw_dfs[TRANSFORMER.table_id.value],\n",
    "    raw_xbrl_instant=ferc1_xbrl_raw_dfs[TRANSFORMER.table_id.value][\"instant\"],\n",
    "    raw_xbrl_duration=ferc1_xbrl_raw_dfs[TRANSFORMER.table_id.value][\"duration\"]\n",
    ")"
   ]
  },
  {
   "cell_type": "markdown",
   "id": "e795f853-a752-44a6-86ac-644baf291f9b",
   "metadata": {
    "tags": []
   },
   "source": [
    "### Transform All Tables"
   ]
  },
  {
   "cell_type": "code",
   "execution_count": null,
   "id": "08da1d39-6272-435f-8241-8b3879078393",
   "metadata": {
    "jupyter": {
     "outputs_hidden": true
    },
    "tags": []
   },
   "outputs": [],
   "source": [
    "transformed_tables = {}\n",
    "\n",
    "for transformer in transformers:\n",
    "    transformed_tables[transformer.table_id.value] = transformer.transform(\n",
    "        raw_dbf=ferc1_dbf_raw_dfs[transformer.table_id.value],\n",
    "        raw_xbrl_instant=ferc1_xbrl_raw_dfs[transformer.table_id.value][\"instant\"],\n",
    "        raw_xbrl_duration=ferc1_xbrl_raw_dfs[transformer.table_id.value][\"duration\"]\n",
    "    )"
   ]
  },
  {
   "cell_type": "code",
   "execution_count": null,
   "id": "c8b9f7bf-b434-4e8c-a0ec-cbc75faa9187",
   "metadata": {},
   "outputs": [],
   "source": [
    "transformed_table"
   ]
  },
  {
   "cell_type": "code",
   "execution_count": null,
   "id": "e88afef9-a6d2-4f3e-b255-4dbbf6817d5d",
   "metadata": {},
   "outputs": [],
   "source": []
  }
 ],
 "metadata": {
  "kernelspec": {
   "display_name": "Python 3 (ipykernel)",
   "language": "python",
   "name": "python3"
  },
  "language_info": {
   "codemirror_mode": {
    "name": "ipython",
    "version": 3
   },
   "file_extension": ".py",
   "mimetype": "text/x-python",
   "name": "python",
   "nbconvert_exporter": "python",
   "pygments_lexer": "ipython3",
   "version": "3.10.8"
  }
 },
 "nbformat": 4,
 "nbformat_minor": 5
}
