{
 "cells": [
  {
   "cell_type": "code",
   "execution_count": 1,
   "metadata": {
    "collapsed": true
   },
   "outputs": [],
   "source": [
    "### Find Missing Plants"
   ]
  },
  {
   "cell_type": "code",
   "execution_count": 2,
   "metadata": {
    "collapsed": true
   },
   "outputs": [],
   "source": [
    "import sys, os\n",
    "sys.path.append('/Users/zaneselvans/code/catalyst/pudl')\n",
    "sys.path.append('/Users/christinagosnell/code/pudl')\n",
    "sys.path.append('/Users/Nannerz/Desktop/working/pudl/')\n",
    "sys.path.append('/home/alana/Dropbox/catalyst/pudl/')\n",
    "sys.path.append(os.path.abspath(os.path.join('..','..')))\n",
    "from pudl import ferc1, pudl, models, models_ferc1, settings, constants, eia923, models_eia923\n",
    "from pudl.eia923 import get_eia923_page\n",
    "from pudl.eia923 import get_eia923_xlsx, get_eia923_column_map\n",
    "from pudl.eia923 import get_eia923_plants\n",
    "from pudl.eia860 import get_eia860_xlsx\n",
    "from pudl.pudl import *\n",
    "from pudl.constants import tab_map_eia923\n",
    "import numpy as np\n",
    "import pandas as pd\n",
    "from pandas import DataFrame\n",
    "import csv\n",
    "import sqlalchemy as sa\n",
    "from sqlalchemy import create_engine\n",
    "from sqlalchemy.sql import select\n",
    "from sqlalchemy import Integer, String, Numeric, Boolean, Float"
   ]
  },
  {
   "cell_type": "code",
   "execution_count": 3,
   "metadata": {
    "collapsed": true
   },
   "outputs": [],
   "source": [
    "%load_ext autoreload\n",
    "%autoreload 1\n",
    "%aimport pudl.pudl\n",
    "%aimport pudl.ferc1\n",
    "%aimport pudl.eia923\n",
    "%aimport pudl.constants\n",
    "%aimport pudl.settings\n",
    "%aimport pudl.models\n",
    "%aimport pudl.models_eia923"
   ]
  },
  {
   "cell_type": "code",
   "execution_count": 4,
   "metadata": {
    "collapsed": true
   },
   "outputs": [],
   "source": [
    "eia923_years=[2009, 2010, 2011, 2012, 2013, 2014, 2015, 2016]"
   ]
  },
  {
   "cell_type": "code",
   "execution_count": null,
   "metadata": {},
   "outputs": [],
   "source": [
    "eia923_xlsx = get_eia923_xlsx(eia923_years)"
   ]
  },
  {
   "cell_type": "code",
   "execution_count": 7,
   "metadata": {},
   "outputs": [
    {
     "name": "stdout",
     "output_type": "stream",
     "text": [
      "Converting EIA 923 plant_frame to DataFrame...\n",
      "Converting EIA 923 generation_fuel to DataFrame...\n",
      "Converting EIA 923 boiler_fuel to DataFrame...\n",
      "Converting EIA 923 generator to DataFrame...\n",
      "Converting EIA 923 fuel_receipts_costs to DataFrame...\n"
     ]
    }
   ],
   "source": [
    "eia923_plants = get_eia923_plants(eia923_years, eia923_xlsx)\n",
    "eia923_plant_ids = eia923_plants[['plant_id',]]"
   ]
  },
  {
   "cell_type": "code",
   "execution_count": null,
   "metadata": {
    "collapsed": true
   },
   "outputs": [],
   "source": [
    "output_tab_plants = pd.read_excel('../id_mapping/mapping_eia923_ferc1.xlsx', 'plants_output', na_values='', keep_default_na=False,\n",
    "                              converters={'plant_id': int,\n",
    "                                          'plant_name': str,\n",
    "                                          'respondent_id_ferc': int,\n",
    "                                          'respondent_name_ferc': str,\n",
    "                                          'plant_name_ferc': str,\n",
    "                                          'plant_id_eia': int,\n",
    "                                          'plant_name_eia': str,\n",
    "                                          'operator_name_eia': str,\n",
    "                                          'operator_id_eia': int})\n",
    "output_plant_ids = output_tab_plants[['plant_id_eia']]\n",
    "output_plant_ids = output_plant_ids.dropna()"
   ]
  },
  {
   "cell_type": "code",
   "execution_count": null,
   "metadata": {
    "collapsed": true
   },
   "outputs": [],
   "source": [
    "eia923_plant_ids_tuple = set([ tuple(line) for line in eia923_plant_ids.values.tolist()])\n",
    "output_plant_ids_tuple = set([ tuple(line) for line in output_plant_ids.values.tolist()])\n",
    "missing_plant_ids = pd.DataFrame(list(eia923_plant_ids_tuple.difference(output_plant_ids_tuple)))\n",
    "missing_plant_ids = missing_plant_ids.rename(columns={0: 'plant_id',})"
   ]
  },
  {
   "cell_type": "code",
   "execution_count": null,
   "metadata": {
    "collapsed": true
   },
   "outputs": [],
   "source": [
    "missing_plants = missing_plant_ids.merge(eia923_plants[['plant_id','plant_name','operator_name','operator_id']],  on='plant_id', how='left')"
   ]
  },
  {
   "cell_type": "code",
   "execution_count": null,
   "metadata": {
    "collapsed": true
   },
   "outputs": [],
   "source": [
    "# missing_plants.to_csv('../id_mapping/missing_plants.csv', index=False)"
   ]
  },
  {
   "cell_type": "markdown",
   "metadata": {
    "collapsed": true
   },
   "source": [
    "## Generate a list of EIA 860 ids from a new year's data."
   ]
  },
  {
   "cell_type": "markdown",
   "metadata": {},
   "source": [
    "In order for the create_dfs_eia860 function to work, we need to include 2012 data. We'll also want to include the year we're trying to ingest!"
   ]
  },
  {
   "cell_type": "code",
   "execution_count": 3,
   "metadata": {
    "collapsed": true
   },
   "outputs": [],
   "source": [
    "eia860_years=[2012, 2016]"
   ]
  },
  {
   "cell_type": "markdown",
   "metadata": {},
   "source": [
    "We'll use create_dfs_eia860 to create a dictionary of table names and corresponding DataFrames made up of the data from each EIA 860 table."
   ]
  },
  {
   "cell_type": "code",
   "execution_count": 4,
   "metadata": {},
   "outputs": [
    {
     "name": "stdout",
     "output_type": "stream",
     "text": [
      "Reading EIA 860 spreadsheet data for 2012.\n",
      "Reading EIA 860 spreadsheet data for 2016.\n",
      "Converting EIA 860 boiler_generator_assn to DataFrame...\n",
      "Reading EIA 860 spreadsheet data for 2012.\n",
      "Reading EIA 860 spreadsheet data for 2016.\n",
      "Converting EIA 860 utility to DataFrame...\n",
      "Reading EIA 860 spreadsheet data for 2012.\n",
      "Reading EIA 860 spreadsheet data for 2016.\n",
      "Converting EIA 860 plant to DataFrame...\n",
      "Reading EIA 860 spreadsheet data for 2012.\n",
      "Reading EIA 860 spreadsheet data for 2016.\n",
      "Converting EIA 860 generator_existing to DataFrame...\n",
      "Converting EIA 860 generator_proposed to DataFrame...\n",
      "Converting EIA 860 generator_retired to DataFrame...\n",
      "Reading EIA 860 spreadsheet data for 2012.\n",
      "Reading EIA 860 spreadsheet data for 2016.\n",
      "Converting EIA 860 ownership to DataFrame...\n"
     ]
    }
   ],
   "source": [
    "dfs_eia860 = eia860.create_dfs_eia860(eia860_years=eia860_years)"
   ]
  },
  {
   "cell_type": "markdown",
   "metadata": {},
   "source": [
    "We'll then use the keys to produce DataFrames representing the data in each table."
   ]
  },
  {
   "cell_type": "code",
   "execution_count": 5,
   "metadata": {},
   "outputs": [
    {
     "data": {
      "text/plain": [
       "dict_keys(['boiler_generator_assn', 'utility', 'plant', 'generator_existing', 'generator_proposed', 'generator_retired', 'ownership'])"
      ]
     },
     "execution_count": 5,
     "metadata": {},
     "output_type": "execute_result"
    }
   ],
   "source": [
    "dfs_eia860.keys()"
   ]
  },
  {
   "cell_type": "code",
   "execution_count": 6,
   "metadata": {},
   "outputs": [],
   "source": [
    "bga = dfs_eia860['boiler_generator_assn']\n",
    "u_df = dfs_eia860['utility']\n",
    "p_df = dfs_eia860['plant']\n",
    "ge_df = dfs_eia860['generator_existing']\n",
    "gp_df = dfs_eia860['generator_proposed']\n",
    "gr_df = dfs_eia860['generator_retired']\n",
    "o_df = dfs_eia860['ownership']"
   ]
  },
  {
   "cell_type": "markdown",
   "metadata": {},
   "source": [
    "We'll then extract every plant_id from each table and append them together into one large numpy array of all the plant_ids."
   ]
  },
  {
   "cell_type": "code",
   "execution_count": 7,
   "metadata": {
    "collapsed": true
   },
   "outputs": [],
   "source": [
    "bga_plants = bga['plant_id']\n",
    "p_plants = p_df['plant_id']\n",
    "ge_plants = ge_df['plant_id']\n",
    "gp_plants = gp_df['plant_id']\n",
    "gr_plants = gr_df['plant_id']\n",
    "o_plants = o_df['plant_id']"
   ]
  },
  {
   "cell_type": "code",
   "execution_count": 8,
   "metadata": {},
   "outputs": [],
   "source": [
    "eia860_plant_ids = bga_plants.append([p_plants,ge_plants,gp_plants,gr_plants,o_plants]).unique()"
   ]
  },
  {
   "cell_type": "markdown",
   "metadata": {},
   "source": [
    "We'll next create a DataFrame containing all of the plant_ids from the previous years' data and extract the plant_ids as another data Series."
   ]
  },
  {
   "cell_type": "code",
   "execution_count": 10,
   "metadata": {},
   "outputs": [],
   "source": [
    "output_tab_plants = pd.read_excel('../../id_mapping/mapping_eia923_ferc1.xlsx', 'plants_output', na_values='', keep_default_na=False,\n",
    "                              converters={'plant_id': int,\n",
    "                                          'plant_name': str,\n",
    "                                          'respondent_id_ferc': int,\n",
    "                                          'respondent_name_ferc': str,\n",
    "                                          'plant_name_ferc': str,\n",
    "                                          'plant_id_eia': int,\n",
    "                                          'plant_name_eia': str,\n",
    "                                          'operator_name_eia': str,\n",
    "                                          'operator_id_eia': int})\n",
    "output_plant_ids = output_tab_plants[['plant_id_eia']]\n",
    "output_plant_ids = output_plant_ids.dropna()"
   ]
  },
  {
   "cell_type": "code",
   "execution_count": 11,
   "metadata": {},
   "outputs": [],
   "source": [
    "output_plant_ids = output_plant_ids['plant_id_eia']"
   ]
  },
  {
   "cell_type": "markdown",
   "metadata": {},
   "source": [
    "In order to compare these plant_ids with the numpy array of new plant_ids, we'll need to convert the data Series into a numpy array."
   ]
  },
  {
   "cell_type": "code",
   "execution_count": 14,
   "metadata": {
    "collapsed": true
   },
   "outputs": [],
   "source": [
    "output_plant_ids_array = output_plant_ids.as_matrix()"
   ]
  },
  {
   "cell_type": "markdown",
   "metadata": {},
   "source": [
    "We can then compare the two arrays and extract the new plant_ids."
   ]
  },
  {
   "cell_type": "code",
   "execution_count": 15,
   "metadata": {},
   "outputs": [],
   "source": [
    "difference = np.setdiff1d(eia860_plant_ids,output_plant_ids_array).astype(int)"
   ]
  },
  {
   "cell_type": "code",
   "execution_count": 16,
   "metadata": {},
   "outputs": [],
   "source": [
    "difference_df = pd.DataFrame(difference,columns=['plant_id'])"
   ]
  },
  {
   "cell_type": "markdown",
   "metadata": {},
   "source": [
    "We'll then create merge these plant_ids with data from the full EIA 860 plant table to produce an output containing not only the plant_id but the plant_name, operator_id, and operator_name."
   ]
  },
  {
   "cell_type": "code",
   "execution_count": 17,
   "metadata": {},
   "outputs": [],
   "source": [
    "eia_860_new_plant_info = difference_df.merge(p_df, how='left')"
   ]
  },
  {
   "cell_type": "code",
   "execution_count": 18,
   "metadata": {},
   "outputs": [],
   "source": [
    "eia_860_plant_info_simple = eia_860_new_plant_info[['plant_id','plant_name','operator_name','operator_id']]"
   ]
  },
  {
   "cell_type": "markdown",
   "metadata": {},
   "source": [
    "Then we'll create a csv in order to add the new plant_ids and associated information to our ID matching spreadsheet."
   ]
  },
  {
   "cell_type": "code",
   "execution_count": 83,
   "metadata": {
    "collapsed": true
   },
   "outputs": [],
   "source": [
    "difference_csv = eia_860_plant_info_simple.to_csv('eia860_2016_plants.csv')"
   ]
  },
  {
   "cell_type": "code",
   "execution_count": null,
   "metadata": {
    "collapsed": true
   },
   "outputs": [],
   "source": []
  }
 ],
 "metadata": {
  "kernelspec": {
   "display_name": "Python 3",
   "language": "python",
   "name": "python3"
  },
  "language_info": {
   "codemirror_mode": {
    "name": "ipython",
    "version": 3
   },
   "file_extension": ".py",
   "mimetype": "text/x-python",
   "name": "python",
   "nbconvert_exporter": "python",
   "pygments_lexer": "ipython3",
   "version": "3.6.2"
  }
 },
 "nbformat": 4,
 "nbformat_minor": 2
}
