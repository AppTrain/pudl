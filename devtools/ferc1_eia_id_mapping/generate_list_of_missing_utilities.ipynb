{
 "cells": [
  {
   "cell_type": "code",
   "execution_count": 1,
   "metadata": {
    "collapsed": true
   },
   "outputs": [],
   "source": [
    "### Find Missing Utilities \n",
    "# These are utilities that aren't in EIA923 2015 Generation & Fuel table, which\n",
    "# was used to make the initial list of utilities"
   ]
  },
  {
   "cell_type": "code",
   "execution_count": 2,
   "metadata": {},
   "outputs": [],
   "source": [
    "import sys, os\n",
    "sys.path.append('/Users/zaneselvans/code/catalyst/pudl')\n",
    "sys.path.append('/Users/christinagosnell/code/pudl')\n",
    "sys.path.append('/Users/Nannerz/Desktop/working/pudl/')\n",
    "sys.path.append('/home/alana/Dropbox/catalyst/pudl/')\n",
    "sys.path.append(os.path.abspath(os.path.join('..','..')))\n",
    "from pudl import ferc1, pudl, models, models_ferc1, settings, constants, eia923, models_eia923\n",
    "from pudl.eia923 import get_eia923_page\n",
    "from pudl.eia923 import get_eia923_xlsx, get_eia923_column_map\n",
    "from pudl.eia923 import get_eia923_plants\n",
    "from pudl.pudl import *\n",
    "from pudl.constants import tab_map_eia923\n",
    "import numpy as np\n",
    "import pandas as pd\n",
    "from pandas import DataFrame\n",
    "import csv\n",
    "import sqlalchemy as sa\n",
    "from sqlalchemy import create_engine\n",
    "from sqlalchemy.sql import select\n",
    "from sqlalchemy import Integer, String, Numeric, Boolean, Float"
   ]
  },
  {
   "cell_type": "code",
   "execution_count": 3,
   "metadata": {},
   "outputs": [],
   "source": [
    "%load_ext autoreload\n",
    "%autoreload 1\n",
    "%aimport pudl.pudl\n",
    "%aimport pudl.ferc1\n",
    "%aimport pudl.eia923\n",
    "%aimport pudl.constants\n",
    "%aimport pudl.settings\n",
    "%aimport pudl.models\n",
    "%aimport pudl.models_eia923"
   ]
  },
  {
   "cell_type": "code",
   "execution_count": 4,
   "metadata": {
    "collapsed": true
   },
   "outputs": [],
   "source": [
    "eia923_years=[2009, 2010, 2011, 2012, 2013, 2014, 2015, 2016]"
   ]
  },
  {
   "cell_type": "code",
   "execution_count": 5,
   "metadata": {},
   "outputs": [
    {
     "name": "stdout",
     "output_type": "stream",
     "text": [
      "Reading EIA 923 spreadsheet data for 2009.\n",
      "Reading EIA 923 spreadsheet data for 2010.\n",
      "Reading EIA 923 spreadsheet data for 2011.\n",
      "Reading EIA 923 spreadsheet data for 2012.\n",
      "Reading EIA 923 spreadsheet data for 2013.\n",
      "Reading EIA 923 spreadsheet data for 2014.\n",
      "Reading EIA 923 spreadsheet data for 2015.\n",
      "Reading EIA 923 spreadsheet data for 2016.\n"
     ]
    }
   ],
   "source": [
    "eia923_xlsx = get_eia923_xlsx(eia923_years)"
   ]
  },
  {
   "cell_type": "code",
   "execution_count": 6,
   "metadata": {},
   "outputs": [
    {
     "name": "stdout",
     "output_type": "stream",
     "text": [
      "Converting EIA 923 plant_frame to DataFrame...\n",
      "Converting EIA 923 generation_fuel to DataFrame...\n",
      "Converting EIA 923 boiler_fuel to DataFrame...\n",
      "Converting EIA 923 generator to DataFrame...\n",
      "Converting EIA 923 fuel_receipts_costs to DataFrame...\n"
     ]
    }
   ],
   "source": [
    "eia923_plants = get_eia923_plants(eia923_years, eia923_xlsx)\n",
    "eia923_operator_ids = eia923_plants[['operator_id']]"
   ]
  },
  {
   "cell_type": "code",
   "execution_count": 7,
   "metadata": {},
   "outputs": [
    {
     "data": {
      "text/html": [
       "<div>\n",
       "<style>\n",
       "    .dataframe thead tr:only-child th {\n",
       "        text-align: right;\n",
       "    }\n",
       "\n",
       "    .dataframe thead th {\n",
       "        text-align: left;\n",
       "    }\n",
       "\n",
       "    .dataframe tbody tr th {\n",
       "        vertical-align: top;\n",
       "    }\n",
       "</style>\n",
       "<table border=\"1\" class=\"dataframe\">\n",
       "  <thead>\n",
       "    <tr style=\"text-align: right;\">\n",
       "      <th></th>\n",
       "      <th>plant_id</th>\n",
       "      <th>plant_name</th>\n",
       "      <th>plant_state</th>\n",
       "      <th>combined_heat_power</th>\n",
       "      <th>eia_sector</th>\n",
       "      <th>naics_code</th>\n",
       "      <th>reporting_frequency</th>\n",
       "      <th>nameplate_capacity_mw</th>\n",
       "      <th>operator_name</th>\n",
       "      <th>operator_id</th>\n",
       "      <th>census_region</th>\n",
       "      <th>nerc_region</th>\n",
       "    </tr>\n",
       "  </thead>\n",
       "  <tbody>\n",
       "    <tr>\n",
       "      <th>0</th>\n",
       "      <td>2</td>\n",
       "      <td>Bankhead Dam</td>\n",
       "      <td>AL</td>\n",
       "      <td>N</td>\n",
       "      <td>1.0</td>\n",
       "      <td>22.0</td>\n",
       "      <td>A</td>\n",
       "      <td>45.0</td>\n",
       "      <td>Alabama Power Co</td>\n",
       "      <td>195.0</td>\n",
       "      <td>ESC</td>\n",
       "      <td>SERC</td>\n",
       "    </tr>\n",
       "    <tr>\n",
       "      <th>1</th>\n",
       "      <td>3</td>\n",
       "      <td>Barry</td>\n",
       "      <td>AL</td>\n",
       "      <td>N</td>\n",
       "      <td>1.0</td>\n",
       "      <td>22.0</td>\n",
       "      <td>M</td>\n",
       "      <td>2841.5</td>\n",
       "      <td>Alabama Power Co</td>\n",
       "      <td>195.0</td>\n",
       "      <td>ESC</td>\n",
       "      <td>SERC</td>\n",
       "    </tr>\n",
       "  </tbody>\n",
       "</table>\n",
       "</div>"
      ],
      "text/plain": [
       "   plant_id    plant_name plant_state combined_heat_power  eia_sector  \\\n",
       "0         2  Bankhead Dam          AL                   N         1.0   \n",
       "1         3         Barry          AL                   N         1.0   \n",
       "\n",
       "   naics_code reporting_frequency  nameplate_capacity_mw     operator_name  \\\n",
       "0        22.0                   A                   45.0  Alabama Power Co   \n",
       "1        22.0                   M                 2841.5  Alabama Power Co   \n",
       "\n",
       "   operator_id census_region nerc_region  \n",
       "0        195.0           ESC        SERC  \n",
       "1        195.0           ESC        SERC  "
      ]
     },
     "execution_count": 7,
     "metadata": {},
     "output_type": "execute_result"
    }
   ],
   "source": [
    "eia923_plants = eia923_plants.dropna(subset=['operator_id'])\n",
    "eia923_plants.head(2)"
   ]
  },
  {
   "cell_type": "code",
   "execution_count": 8,
   "metadata": {},
   "outputs": [
    {
     "data": {
      "text/plain": [
       "'/home/alana/Dropbox/catalyst/pudl/results/notebooks'"
      ]
     },
     "execution_count": 8,
     "metadata": {},
     "output_type": "execute_result"
    }
   ],
   "source": [
    "pwd"
   ]
  },
  {
   "cell_type": "code",
   "execution_count": 62,
   "metadata": {
    "collapsed": true
   },
   "outputs": [],
   "source": [
    "output_tab_plants = pd.read_excel('../id_mapping/mapping_eia923_ferc1.xlsx', 'utilities_output', na_values='', keep_default_na=False,\n",
    "                              converters={'plant_id': int,\n",
    "                                          'plant_name': str,\n",
    "                                          'respondent_id_ferc': int,\n",
    "                                          'respondent_name_ferc': str,\n",
    "                                          'plant_name_ferc': str,\n",
    "                                          'plant_id_eia': int,\n",
    "                                          'plant_name_eia': str,\n",
    "                                          'operator_name_eia': str,\n",
    "                                          'operator_id_eia': int})\n",
    "output_operator_ids = output_tab_plants[['operator_id_eia', 'operator_name_eia']]\n",
    "output_operator_ids = output_operator_ids.dropna()"
   ]
  },
  {
   "cell_type": "code",
   "execution_count": 63,
   "metadata": {
    "collapsed": true
   },
   "outputs": [],
   "source": [
    "output_operator_ids = output_operator_ids.rename(columns={'operator_id_eia': 'operator_id'})"
   ]
  },
  {
   "cell_type": "code",
   "execution_count": 64,
   "metadata": {
    "collapsed": true
   },
   "outputs": [],
   "source": [
    "merged = eia923_operator_ids.merge(output_operator_ids, indicator=True, how='outer')\n",
    "merged = merged[merged['_merge'] == 'right_only']\n",
    "merged = merged.drop_duplicates()\n",
    "del merged['_merge']"
   ]
  },
  {
   "cell_type": "code",
   "execution_count": 65,
   "metadata": {},
   "outputs": [
    {
     "data": {
      "text/plain": [
       "(513, 2)"
      ]
     },
     "execution_count": 65,
     "metadata": {},
     "output_type": "execute_result"
    }
   ],
   "source": [
    "merged.shape"
   ]
  },
  {
   "cell_type": "code",
   "execution_count": 94,
   "metadata": {
    "collapsed": true
   },
   "outputs": [],
   "source": [
    "missing_operators = merged.rename(columns={0: 'operator_id',})\n",
    "missing_operators.drop_duplicates()\n",
    "eia923_plants.drop_duplicates('operator_id')\n",
    "missing_operators[\"operator_id\"] = missing_operators.operator_id.astype(int)\n",
    "eia923_plants[\"operator_id\"] = eia923_plants.operator_id.astype(int)"
   ]
  },
  {
   "cell_type": "code",
   "execution_count": 95,
   "metadata": {},
   "outputs": [],
   "source": [
    "missing_operators = pd.merge(missing_operators, eia923_plants, on=['operator_id'], how='left')"
   ]
  },
  {
   "cell_type": "code",
   "execution_count": 96,
   "metadata": {},
   "outputs": [
    {
     "data": {
      "text/plain": [
       "(513, 13)"
      ]
     },
     "execution_count": 96,
     "metadata": {},
     "output_type": "execute_result"
    }
   ],
   "source": [
    "missing_operators.shape"
   ]
  },
  {
   "cell_type": "code",
   "execution_count": 97,
   "metadata": {
    "collapsed": true
   },
   "outputs": [],
   "source": [
    "# output_tab_plants = pd.read_excel('../id_mapping/mapping_eia923_ferc1.xlsx', 'plants_output', na_values='', keep_default_na=False,\n",
    "#                               converters={'plant_id': int,\n",
    "#                                           'plant_name': str,\n",
    "#                                           'respondent_id_ferc': int,\n",
    "#                                           'respondent_name_ferc': str,\n",
    "#                                           'plant_name_ferc': str,\n",
    "#                                           'plant_id_eia': int,\n",
    "#                                           'plant_name_eia': str,\n",
    "#                                           'operator_name_eia': str,\n",
    "#                                           'operator_id_eia': int})\n",
    "# output_operator_ids = output_tab_plants[['operator_id_eia', 'operator_name_eia']]\n",
    "# output_operator_ids = output_operator_ids.dropna()"
   ]
  },
  {
   "cell_type": "code",
   "execution_count": 98,
   "metadata": {
    "collapsed": true
   },
   "outputs": [],
   "source": [
    "# output_operator_ids = output_operator_ids.rename(columns={'operator_id_eia': 'operator_id'})"
   ]
  },
  {
   "cell_type": "code",
   "execution_count": 99,
   "metadata": {},
   "outputs": [],
   "source": [
    "missing_operators = pd.merge(missing_operators, output_operator_ids, on=['operator_id'], how='left')"
   ]
  },
  {
   "cell_type": "code",
   "execution_count": 100,
   "metadata": {},
   "outputs": [],
   "source": [
    "missing_operators = missing_operators.drop_duplicates('operator_id')\n",
    "# del missing_operators['operator_id']\n"
   ]
  },
  {
   "cell_type": "code",
   "execution_count": 101,
   "metadata": {},
   "outputs": [
    {
     "data": {
      "text/html": [
       "<div>\n",
       "<style>\n",
       "    .dataframe thead tr:only-child th {\n",
       "        text-align: right;\n",
       "    }\n",
       "\n",
       "    .dataframe thead th {\n",
       "        text-align: left;\n",
       "    }\n",
       "\n",
       "    .dataframe tbody tr th {\n",
       "        vertical-align: top;\n",
       "    }\n",
       "</style>\n",
       "<table border=\"1\" class=\"dataframe\">\n",
       "  <thead>\n",
       "    <tr style=\"text-align: right;\">\n",
       "      <th></th>\n",
       "      <th>operator_id</th>\n",
       "      <th>operator_name_eia_x</th>\n",
       "      <th>plant_id</th>\n",
       "      <th>plant_name</th>\n",
       "      <th>plant_state</th>\n",
       "      <th>combined_heat_power</th>\n",
       "      <th>eia_sector</th>\n",
       "      <th>naics_code</th>\n",
       "      <th>reporting_frequency</th>\n",
       "      <th>nameplate_capacity_mw</th>\n",
       "      <th>operator_name</th>\n",
       "      <th>census_region</th>\n",
       "      <th>nerc_region</th>\n",
       "      <th>operator_name_eia_y</th>\n",
       "    </tr>\n",
       "  </thead>\n",
       "  <tbody>\n",
       "    <tr>\n",
       "      <th>0</th>\n",
       "      <td>57150</td>\n",
       "      <td>Bethel Wind Energy LLC</td>\n",
       "      <td>NaN</td>\n",
       "      <td>NaN</td>\n",
       "      <td>NaN</td>\n",
       "      <td>NaN</td>\n",
       "      <td>NaN</td>\n",
       "      <td>NaN</td>\n",
       "      <td>NaN</td>\n",
       "      <td>NaN</td>\n",
       "      <td>NaN</td>\n",
       "      <td>NaN</td>\n",
       "      <td>NaN</td>\n",
       "      <td>Bethel Wind Energy LLC</td>\n",
       "    </tr>\n",
       "    <tr>\n",
       "      <th>1</th>\n",
       "      <td>56886</td>\n",
       "      <td>Big Sandy Peaker Plant LLC</td>\n",
       "      <td>NaN</td>\n",
       "      <td>NaN</td>\n",
       "      <td>NaN</td>\n",
       "      <td>NaN</td>\n",
       "      <td>NaN</td>\n",
       "      <td>NaN</td>\n",
       "      <td>NaN</td>\n",
       "      <td>NaN</td>\n",
       "      <td>NaN</td>\n",
       "      <td>NaN</td>\n",
       "      <td>NaN</td>\n",
       "      <td>Big Sandy Peaker Plant LLC</td>\n",
       "    </tr>\n",
       "    <tr>\n",
       "      <th>2</th>\n",
       "      <td>2338</td>\n",
       "      <td>Calpine Central LP</td>\n",
       "      <td>NaN</td>\n",
       "      <td>NaN</td>\n",
       "      <td>NaN</td>\n",
       "      <td>NaN</td>\n",
       "      <td>NaN</td>\n",
       "      <td>NaN</td>\n",
       "      <td>NaN</td>\n",
       "      <td>NaN</td>\n",
       "      <td>NaN</td>\n",
       "      <td>NaN</td>\n",
       "      <td>NaN</td>\n",
       "      <td>Calpine Central LP</td>\n",
       "    </tr>\n",
       "    <tr>\n",
       "      <th>4</th>\n",
       "      <td>56744</td>\n",
       "      <td>Elk Wind Energy LLC</td>\n",
       "      <td>NaN</td>\n",
       "      <td>NaN</td>\n",
       "      <td>NaN</td>\n",
       "      <td>NaN</td>\n",
       "      <td>NaN</td>\n",
       "      <td>NaN</td>\n",
       "      <td>NaN</td>\n",
       "      <td>NaN</td>\n",
       "      <td>NaN</td>\n",
       "      <td>NaN</td>\n",
       "      <td>NaN</td>\n",
       "      <td>Elk Wind Energy LLC</td>\n",
       "    </tr>\n",
       "    <tr>\n",
       "      <th>5</th>\n",
       "      <td>6844</td>\n",
       "      <td>FPLE Forney LP</td>\n",
       "      <td>NaN</td>\n",
       "      <td>NaN</td>\n",
       "      <td>NaN</td>\n",
       "      <td>NaN</td>\n",
       "      <td>NaN</td>\n",
       "      <td>NaN</td>\n",
       "      <td>NaN</td>\n",
       "      <td>NaN</td>\n",
       "      <td>NaN</td>\n",
       "      <td>NaN</td>\n",
       "      <td>NaN</td>\n",
       "      <td>FPLE Forney LP</td>\n",
       "    </tr>\n",
       "  </tbody>\n",
       "</table>\n",
       "</div>"
      ],
      "text/plain": [
       "  operator_id         operator_name_eia_x  plant_id plant_name plant_state  \\\n",
       "0       57150      Bethel Wind Energy LLC       NaN        NaN         NaN   \n",
       "1       56886  Big Sandy Peaker Plant LLC       NaN        NaN         NaN   \n",
       "2        2338          Calpine Central LP       NaN        NaN         NaN   \n",
       "4       56744         Elk Wind Energy LLC       NaN        NaN         NaN   \n",
       "5        6844              FPLE Forney LP       NaN        NaN         NaN   \n",
       "\n",
       "  combined_heat_power  eia_sector  naics_code reporting_frequency  \\\n",
       "0                 NaN         NaN         NaN                 NaN   \n",
       "1                 NaN         NaN         NaN                 NaN   \n",
       "2                 NaN         NaN         NaN                 NaN   \n",
       "4                 NaN         NaN         NaN                 NaN   \n",
       "5                 NaN         NaN         NaN                 NaN   \n",
       "\n",
       "   nameplate_capacity_mw operator_name census_region nerc_region  \\\n",
       "0                    NaN           NaN           NaN         NaN   \n",
       "1                    NaN           NaN           NaN         NaN   \n",
       "2                    NaN           NaN           NaN         NaN   \n",
       "4                    NaN           NaN           NaN         NaN   \n",
       "5                    NaN           NaN           NaN         NaN   \n",
       "\n",
       "          operator_name_eia_y  \n",
       "0      Bethel Wind Energy LLC  \n",
       "1  Big Sandy Peaker Plant LLC  \n",
       "2          Calpine Central LP  \n",
       "4         Elk Wind Energy LLC  \n",
       "5              FPLE Forney LP  "
      ]
     },
     "execution_count": 101,
     "metadata": {},
     "output_type": "execute_result"
    }
   ],
   "source": [
    "missing_operators.head()"
   ]
  },
  {
   "cell_type": "code",
   "execution_count": 105,
   "metadata": {},
   "outputs": [],
   "source": [
    "missing_operators = missing_operators[['operator_id', 'operator_name_eia_x']]\n",
    "missing_operators = missing_operators.rename(columns={'operator_name_eia_x': 'operator_name'})"
   ]
  },
  {
   "cell_type": "code",
   "execution_count": 106,
   "metadata": {},
   "outputs": [],
   "source": [
    "# missing_operators = missing_operators[list(missing_operators.columns[:2])]"
   ]
  },
  {
   "cell_type": "code",
   "execution_count": 107,
   "metadata": {},
   "outputs": [
    {
     "data": {
      "text/html": [
       "<div>\n",
       "<style>\n",
       "    .dataframe thead tr:only-child th {\n",
       "        text-align: right;\n",
       "    }\n",
       "\n",
       "    .dataframe thead th {\n",
       "        text-align: left;\n",
       "    }\n",
       "\n",
       "    .dataframe tbody tr th {\n",
       "        vertical-align: top;\n",
       "    }\n",
       "</style>\n",
       "<table border=\"1\" class=\"dataframe\">\n",
       "  <thead>\n",
       "    <tr style=\"text-align: right;\">\n",
       "      <th></th>\n",
       "      <th>operator_id</th>\n",
       "      <th>operator_name</th>\n",
       "    </tr>\n",
       "  </thead>\n",
       "  <tbody>\n",
       "    <tr>\n",
       "      <th>0</th>\n",
       "      <td>57150</td>\n",
       "      <td>Bethel Wind Energy LLC</td>\n",
       "    </tr>\n",
       "    <tr>\n",
       "      <th>1</th>\n",
       "      <td>56886</td>\n",
       "      <td>Big Sandy Peaker Plant LLC</td>\n",
       "    </tr>\n",
       "    <tr>\n",
       "      <th>2</th>\n",
       "      <td>2338</td>\n",
       "      <td>Calpine Central LP</td>\n",
       "    </tr>\n",
       "    <tr>\n",
       "      <th>4</th>\n",
       "      <td>56744</td>\n",
       "      <td>Elk Wind Energy LLC</td>\n",
       "    </tr>\n",
       "    <tr>\n",
       "      <th>5</th>\n",
       "      <td>6844</td>\n",
       "      <td>FPLE Forney LP</td>\n",
       "    </tr>\n",
       "  </tbody>\n",
       "</table>\n",
       "</div>"
      ],
      "text/plain": [
       "  operator_id               operator_name\n",
       "0       57150      Bethel Wind Energy LLC\n",
       "1       56886  Big Sandy Peaker Plant LLC\n",
       "2        2338          Calpine Central LP\n",
       "4       56744         Elk Wind Energy LLC\n",
       "5        6844              FPLE Forney LP"
      ]
     },
     "execution_count": 107,
     "metadata": {},
     "output_type": "execute_result"
    }
   ],
   "source": [
    "missing_operators.head()"
   ]
  },
  {
   "cell_type": "code",
   "execution_count": null,
   "metadata": {
    "collapsed": true
   },
   "outputs": [],
   "source": [
    "# missing_operators.to_csv('../id_mapping/missing_operators.csv', index=False)"
   ]
  },
  {
   "cell_type": "code",
   "execution_count": null,
   "metadata": {
    "collapsed": true
   },
   "outputs": [],
   "source": []
  }
 ],
 "metadata": {
  "kernelspec": {
   "display_name": "Python 3",
   "language": "python",
   "name": "python3"
  },
  "language_info": {
   "codemirror_mode": {
    "name": "ipython",
    "version": 3
   },
   "file_extension": ".py",
   "mimetype": "text/x-python",
   "name": "python",
   "nbconvert_exporter": "python",
   "pygments_lexer": "ipython3",
   "version": "3.6.1"
  }
 },
 "nbformat": 4,
 "nbformat_minor": 2
}
