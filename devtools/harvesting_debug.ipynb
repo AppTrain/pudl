{
 "cells": [
  {
   "cell_type": "code",
   "execution_count": null,
   "metadata": {},
   "outputs": [],
   "source": [
    "%load_ext autoreload\n",
    "%autoreload 3"
   ]
  },
  {
   "cell_type": "code",
   "execution_count": null,
   "metadata": {
    "tags": []
   },
   "outputs": [],
   "source": [
    "import os\n",
    "\n",
    "assert os.environ.get(\"DAGSTER_HOME\"), (\n",
    "    \"The DAGSTER_HOME env var is not set so dagster won't be able to find the assets.\"\n",
    "    \"Set the DAGSTER_HOME env var in this notebook or kill the jupyter server and set\"\n",
    "    \" the DAGSTER_HOME env var in your shell and relaunch jupyter.\"\n",
    ")"
   ]
  },
  {
   "cell_type": "code",
   "execution_count": null,
   "metadata": {},
   "outputs": [],
   "source": [
    "import copy\n",
    "import logging\n",
    "import pathlib\n",
    "import sys\n",
    "\n",
    "import pandas as pd\n",
    "import yaml\n",
    "\n",
    "import pudl\n",
    "from pudl.etl import *"
   ]
  },
  {
   "cell_type": "code",
   "execution_count": null,
   "metadata": {},
   "outputs": [],
   "source": [
    "logger = logging.getLogger()\n",
    "logger.setLevel(logging.DEBUG)\n",
    "handler = logging.StreamHandler(stream=sys.stdout)\n",
    "formatter = logging.Formatter(\"%(message)s\")\n",
    "handler.setFormatter(formatter)\n",
    "logger.handlers = [handler]"
   ]
  },
  {
   "cell_type": "code",
   "execution_count": null,
   "metadata": {
    "tags": []
   },
   "outputs": [],
   "source": [
    "from pudl.helpers import convert_cols_dtypes\n",
    "from pudl.metadata.classes import Package\n",
    "from pudl.metadata.fields import apply_pudl_dtypes\n",
    "from pudl.settings import EiaSettings\n",
    "from pudl.transform.eia import (\n",
    "    _add_additional_epacems_plants,\n",
    "    _add_timezone,\n",
    "    fillna_balancing_authority_codes_via_names,\n",
    "    fix_balancing_authority_codes_with_state,\n",
    "    harvesting,\n",
    ")\n",
    "\n",
    "\n",
    "def run_harvesting(entity: str, eia_transformed_dfs: dict[str, pd.DataFrame]):\n",
    "    \"\"\"Replicate harvested_entity asset behavior.\n",
    "    \n",
    "    See pudl.transform.eia.harvested_entity_asset_factory\n",
    "    \"\"\"\n",
    "    eia_transformed_dfs = {\n",
    "        name: convert_cols_dtypes(df, data_source=\"eia\")\n",
    "        for name, df in eia_transformed_dfs.items()\n",
    "    }\n",
    "\n",
    "    if entity == \"utilities\":\n",
    "        # Remove location columns that are associated with plants, not utilities:\n",
    "        for table, df in eia_transformed_dfs.items():\n",
    "            if \"plant_id_eia\" in df.columns:\n",
    "                plant_location_cols = [\n",
    "                    \"street_address\",\n",
    "                    \"city\",\n",
    "                    \"state\",\n",
    "                    \"zip_code\",\n",
    "                ]\n",
    "                logger.info(f\"Removing {plant_location_cols} from {table} table.\")\n",
    "                eia_transformed_dfs[table] = df.drop(\n",
    "                    columns=plant_location_cols, errors=\"ignore\"\n",
    "                )\n",
    "\n",
    "    entity_df, annual_df, col_dfs = harvesting(\n",
    "        entity,\n",
    "        eia_transformed_dfs,\n",
    "        debug=True,\n",
    "        eia860m=eia_settings.eia860.eia860m,\n",
    "    )\n",
    "\n",
    "    # Apply standard PUDL data types to the new entity tables:\n",
    "    pkg = Package.from_resource_ids()\n",
    "    entity_res = pkg.get_resource(f\"{entity}_entity_eia\")\n",
    "    entity_df = apply_pudl_dtypes(entity_df, group=\"eia\").pipe(entity_res.encode)\n",
    "    annual_res = pkg.get_resource(f\"{entity}_eia860\")\n",
    "    annual_df = apply_pudl_dtypes(annual_df, group=\"eia\").pipe(annual_res.encode)\n",
    "\n",
    "    if entity == \"plants\":\n",
    "        # Post-processing specific to the plants entity tables\n",
    "        entity_df = _add_additional_epacems_plants(entity_df).pipe(_add_timezone)\n",
    "        annual_df = fillna_balancing_authority_codes_via_names(annual_df).pipe(\n",
    "            fix_balancing_authority_codes_with_state, plants_entity=entity_df\n",
    "        )\n",
    "\n",
    "    entity_df = entity_res.enforce_schema(entity_df)\n",
    "    annual_df = annual_res.enforce_schema(annual_df)\n",
    "\n",
    "    return entity_df, annual_df, col_dfs"
   ]
  },
  {
   "cell_type": "markdown",
   "metadata": {},
   "source": [
    "# Load pre-harvesting assets and run harvesting\n",
    "* To avoid rerunning the extract and transform steps, this notebook loads the most recent pre harvested asset values.\n",
    "* **If you are debugging the code changes in the harvesting step, make sure you rematerialize the EIA extract and transform assets for the same years prior to running the following cells.**\n",
    "* If you are you are debugging the effects of pre-harvesting code on the harvesting process, rerun the pre harvesting asset using dagit then rerun the following cells.\n",
    "* Note that because the harvesting process mutates the pre-harvesting assets, they need to be pulled fresh each time you re-run the harvesting step."
   ]
  },
  {
   "cell_type": "code",
   "execution_count": null,
   "metadata": {
    "tags": []
   },
   "outputs": [],
   "source": [
    "%%time\n",
    "from dagster import AssetKey\n",
    "\n",
    "from pudl.etl import defs\n",
    "from pudl.helpers import convert_cols_dtypes, get_asset_group_keys\n",
    "\n",
    "eia_settings = EiaSettings()\n",
    "\n",
    "clean_eia923_asset_names = get_asset_group_keys(\"clean_eia923\", default_assets)\n",
    "clean_eia860_asset_names = get_asset_group_keys(\"clean_eia860\", default_assets)\n",
    "clean_eia_asset_names = clean_eia860_asset_names + clean_eia923_asset_names\n",
    "\n",
    "eia_transformed_dfs = {}\n",
    "with defs.get_asset_value_loader() as loader:\n",
    "    eia_transformed_dfs = {\n",
    "        asset_name: loader.load_asset_value(AssetKey(asset_name))\n",
    "        for asset_name in clean_eia_asset_names\n",
    "    }\n",
    "\n",
    "# Entity must be one of: \"plants\",  \"utilities\", \"boilers\", or \"generators\"\n",
    "entity = \"generators\"\n",
    "entity_df, annual_df, col_dfs = run_harvesting(entity, eia_transformed_dfs)"
   ]
  },
  {
   "cell_type": "markdown",
   "metadata": {},
   "source": [
    "# Inspect the harvested results"
   ]
  },
  {
   "cell_type": "markdown",
   "metadata": {},
   "source": [
    "## The entity (static) table"
   ]
  },
  {
   "cell_type": "code",
   "execution_count": null,
   "metadata": {
    "tags": []
   },
   "outputs": [],
   "source": [
    "entity_df"
   ]
  },
  {
   "cell_type": "markdown",
   "metadata": {},
   "source": [
    "## The annual table"
   ]
  },
  {
   "cell_type": "code",
   "execution_count": null,
   "metadata": {
    "tags": []
   },
   "outputs": [],
   "source": [
    "annual_df"
   ]
  },
  {
   "cell_type": "markdown",
   "metadata": {},
   "source": [
    "## Use `col_dfs` to explore harvested values"
   ]
  },
  {
   "cell_type": "code",
   "execution_count": null,
   "metadata": {},
   "outputs": [],
   "source": [
    "pmc = col_dfs[\"prime_mover_code\"]"
   ]
  },
  {
   "cell_type": "code",
   "execution_count": null,
   "metadata": {
    "tags": []
   },
   "outputs": [],
   "source": [
    "pmc.prime_mover_code.unique()"
   ]
  }
 ],
 "metadata": {
  "kernelspec": {
   "display_name": "Python 3 (ipykernel)",
   "language": "python",
   "name": "python3"
  },
  "language_info": {
   "codemirror_mode": {
    "name": "ipython",
    "version": 3
   },
   "file_extension": ".py",
   "mimetype": "text/x-python",
   "name": "python",
   "nbconvert_exporter": "python",
   "pygments_lexer": "ipython3",
   "version": "3.10.10"
  },
  "vscode": {
   "interpreter": {
    "hash": "45ac4012cf3d511abe021e64327549bc8e5a875099e88743f7447e1180329125"
   }
  }
 },
 "nbformat": 4,
 "nbformat_minor": 4
}
