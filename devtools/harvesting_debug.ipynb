{
 "cells": [
  {
   "cell_type": "code",
   "execution_count": 1,
   "metadata": {},
   "outputs": [],
   "source": [
    "%load_ext autoreload\n",
    "%autoreload 2"
   ]
  },
  {
   "cell_type": "code",
   "execution_count": 2,
   "metadata": {
    "tags": []
   },
   "outputs": [],
   "source": [
    "import os\n",
    "\n",
    "assert os.environ.get(\"DAGSTER_HOME\"), (\n",
    "    \"The DAGSTER_HOME env var is not set so dagster won't be able to find the assets.\"\n",
    "    \"Set the DAGSTER_HOME env var in this notebook or kill the jupyter server and set\"\n",
    "    \" the DAGSTER_HOME env var in your shell and relaunch jupyter.\"\n",
    ")"
   ]
  },
  {
   "cell_type": "code",
   "execution_count": 3,
   "metadata": {},
   "outputs": [
    {
     "name": "stderr",
     "output_type": "stream",
     "text": [
      "pudl_settings is being depcrated in favor of environment variables PUDL_OUTPUT and PUDL_CACHE\n",
      "pudl_settings is being depcrated in favor of environment variables PUDL_OUTPUT and PUDL_CACHE. For more infosee: https://catalystcoop-pudl.readthedocs.io/en/dev/dev/dev_setup.html\n",
      "sqlite and parquet directories are no longer being used. Make sure there is a single directory named 'output' at the root of your workspace. For more info see: https://catalystcoop-pudl.readthedocs.io/en/dev/dev/dev_setup.html\n",
      "pudl_settings is being depcrated in favor of environment variables PUDL_OUTPUT and PUDL_CACHE\n",
      "pudl_settings is being depcrated in favor of environment variables PUDL_OUTPUT and PUDL_CACHE. For more infosee: https://catalystcoop-pudl.readthedocs.io/en/dev/dev/dev_setup.html\n",
      "sqlite and parquet directories are no longer being used. Make sure there is a single directory named 'output' at the root of your workspace. For more info see: https://catalystcoop-pudl.readthedocs.io/en/dev/dev/dev_setup.html\n"
     ]
    }
   ],
   "source": [
    "import pudl\n",
    "import pathlib\n",
    "import yaml\n",
    "from pudl.etl import *\n",
    "import logging\n",
    "import sys\n",
    "import copy"
   ]
  },
  {
   "cell_type": "code",
   "execution_count": 4,
   "metadata": {},
   "outputs": [],
   "source": [
    "logger = logging.getLogger()\n",
    "logger.setLevel(logging.DEBUG)\n",
    "handler = logging.StreamHandler(stream=sys.stdout)\n",
    "formatter = logging.Formatter('%(message)s')\n",
    "handler.setFormatter(formatter)\n",
    "logger.handlers = [handler]"
   ]
  },
  {
   "cell_type": "markdown",
   "metadata": {},
   "source": [
    "## Load pre harvesting assets\n",
    "To avoid rerunning the extract and transform steps, this notebook loads the most recent pre harvested asset values. **If you are debugging the code changes in the harvesting step, make sure you rematerialize the EIA extract and transform assets for the same years prior to running the following cells.** If you are you are debugging pre harvesting asset code changes' affect on the harvesting process, rerun the pre harvesting asset using dagit then rerun the following cells."
   ]
  },
  {
   "cell_type": "code",
   "execution_count": 5,
   "metadata": {
    "tags": []
   },
   "outputs": [
    {
     "name": "stdout",
     "output_type": "stream",
     "text": [
      "Context impl SQLiteImpl.\n",
      "Will assume non-transactional DDL.\n",
      "Context impl SQLiteImpl.\n",
      "Will assume non-transactional DDL.\n"
     ]
    },
    {
     "name": "stderr",
     "output_type": "stream",
     "text": [
      "2023-03-14 17:17:26 -0800 - dagster - DEBUG - system - Loading file from: /Users/bendnorman/catalyst/dagster-pudl-work/dagster_home/storage/clean_plants_eia860\n",
      "2023-03-14 17:17:26 -0800 - dagster - DEBUG - system - Loading file from: /Users/bendnorman/catalyst/dagster-pudl-work/dagster_home/storage/clean_boiler_generator_assn_eia860\n",
      "2023-03-14 17:17:26 -0800 - dagster - DEBUG - system - Loading file from: /Users/bendnorman/catalyst/dagster-pudl-work/dagster_home/storage/clean_utilities_eia860\n",
      "2023-03-14 17:17:26 -0800 - dagster - DEBUG - system - Loading file from: /Users/bendnorman/catalyst/dagster-pudl-work/dagster_home/storage/clean_ownership_eia860\n",
      "2023-03-14 17:17:26 -0800 - dagster - DEBUG - system - Loading file from: /Users/bendnorman/catalyst/dagster-pudl-work/dagster_home/storage/clean_generators_eia860\n",
      "2023-03-14 17:17:27 -0800 - dagster - DEBUG - system - Loading file from: /Users/bendnorman/catalyst/dagster-pudl-work/dagster_home/storage/clean_fuel_receipts_costs_eia923\n",
      "2023-03-14 17:17:27 -0800 - dagster - DEBUG - system - Loading file from: /Users/bendnorman/catalyst/dagster-pudl-work/dagster_home/storage/clean_coalmine_eia923\n",
      "2023-03-14 17:17:27 -0800 - dagster - DEBUG - system - Loading file from: /Users/bendnorman/catalyst/dagster-pudl-work/dagster_home/storage/clean_generation_eia923\n",
      "2023-03-14 17:17:27 -0800 - dagster - DEBUG - system - Loading file from: /Users/bendnorman/catalyst/dagster-pudl-work/dagster_home/storage/clean_generation_fuel_eia923\n",
      "2023-03-14 17:17:27 -0800 - dagster - DEBUG - system - Loading file from: /Users/bendnorman/catalyst/dagster-pudl-work/dagster_home/storage/clean_generation_fuel_nuclear_eia923\n",
      "2023-03-14 17:17:27 -0800 - dagster - DEBUG - system - Loading file from: /Users/bendnorman/catalyst/dagster-pudl-work/dagster_home/storage/clean_boiler_fuel_eia923\n"
     ]
    }
   ],
   "source": [
    "from pudl.etl import defs\n",
    "from pudl.helpers import convert_cols_dtypes, get_asset_group_keys\n",
    "\n",
    "from dagster import AssetKey\n",
    "\n",
    "pre_harvested_eia923_asset_names = get_asset_group_keys(\"pre_harvested_eia923_assets\", default_assets)\n",
    "pre_harvested_eia860_asset_names = get_asset_group_keys(\"pre_harvested_eia860_assets\", default_assets)\n",
    "pre_harvest_eia_asset_names = pre_harvested_eia860_asset_names + pre_harvested_eia923_asset_names\n",
    "\n",
    "eia_transformed_dfs = {}\n",
    "with defs.get_asset_value_loader() as loader:\n",
    "    eia_transformed_dfs = {asset_name: loader.load_asset_value(AssetKey(asset_name)) for asset_name in pre_harvest_eia_asset_names}\n",
    "\n",
    "\n",
    "# Do some final cleanup and assign appropriate types:\n",
    "eia_transformed_dfs = {\n",
    "    name: convert_cols_dtypes(df, data_source=\"eia\")\n",
    "    for name, df in eia_transformed_dfs.items()\n",
    "}\n",
    "\n",
    "# Remove the clean_ prefix from the table names.\n",
    "eia_transformed_dfs = {\n",
    "    table_name.replace(\"clean_\", \"\"): df\n",
    "    for table_name, df in eia_transformed_dfs.items()\n",
    "}"
   ]
  },
  {
   "cell_type": "markdown",
   "metadata": {},
   "source": [
    "# Run harvest w/ debug=True"
   ]
  },
  {
   "cell_type": "code",
   "execution_count": 6,
   "metadata": {},
   "outputs": [
    {
     "name": "stderr",
     "output_type": "stream",
     "text": [
      "2023-03-14 17:17:34 [    INFO] catalystcoop.pudl.metadata.classes:1673 Recoding generators_eia860.operational_status_code\n"
     ]
    },
    {
     "name": "stdout",
     "output_type": "stream",
     "text": [
      "Recoding generators_eia860.operational_status_code\n"
     ]
    },
    {
     "name": "stderr",
     "output_type": "stream",
     "text": [
      "2023-03-14 17:17:34 [    INFO] catalystcoop.pudl.metadata.classes:1673 Recoding generators_eia860.prime_mover_code\n"
     ]
    },
    {
     "name": "stdout",
     "output_type": "stream",
     "text": [
      "Recoding generators_eia860.prime_mover_code\n"
     ]
    },
    {
     "name": "stderr",
     "output_type": "stream",
     "text": [
      "2023-03-14 17:17:34 [    INFO] catalystcoop.pudl.metadata.classes:1673 Recoding generators_eia860.energy_source_code_1\n"
     ]
    },
    {
     "name": "stdout",
     "output_type": "stream",
     "text": [
      "Recoding generators_eia860.energy_source_code_1\n"
     ]
    },
    {
     "name": "stderr",
     "output_type": "stream",
     "text": [
      "2023-03-14 17:17:34 [    INFO] catalystcoop.pudl.metadata.classes:1673 Recoding generators_eia860.energy_source_code_2\n"
     ]
    },
    {
     "name": "stdout",
     "output_type": "stream",
     "text": [
      "Recoding generators_eia860.energy_source_code_2\n"
     ]
    },
    {
     "name": "stderr",
     "output_type": "stream",
     "text": [
      "2023-03-14 17:17:35 [    INFO] catalystcoop.pudl.metadata.classes:1673 Recoding generators_eia860.energy_source_code_3\n"
     ]
    },
    {
     "name": "stdout",
     "output_type": "stream",
     "text": [
      "Recoding generators_eia860.energy_source_code_3\n"
     ]
    },
    {
     "name": "stderr",
     "output_type": "stream",
     "text": [
      "2023-03-14 17:17:35 [    INFO] catalystcoop.pudl.metadata.classes:1673 Recoding generators_eia860.energy_source_code_4\n"
     ]
    },
    {
     "name": "stdout",
     "output_type": "stream",
     "text": [
      "Recoding generators_eia860.energy_source_code_4\n"
     ]
    },
    {
     "name": "stderr",
     "output_type": "stream",
     "text": [
      "2023-03-14 17:17:35 [    INFO] catalystcoop.pudl.metadata.classes:1673 Recoding generators_eia860.energy_source_code_5\n"
     ]
    },
    {
     "name": "stdout",
     "output_type": "stream",
     "text": [
      "Recoding generators_eia860.energy_source_code_5\n"
     ]
    },
    {
     "name": "stderr",
     "output_type": "stream",
     "text": [
      "2023-03-14 17:17:35 [    INFO] catalystcoop.pudl.metadata.classes:1673 Recoding generators_eia860.energy_source_code_6\n"
     ]
    },
    {
     "name": "stdout",
     "output_type": "stream",
     "text": [
      "Recoding generators_eia860.energy_source_code_6\n"
     ]
    },
    {
     "name": "stderr",
     "output_type": "stream",
     "text": [
      "2023-03-14 17:17:35 [    INFO] catalystcoop.pudl.metadata.classes:1673 Recoding generators_eia860.energy_source_1_transport_1\n"
     ]
    },
    {
     "name": "stdout",
     "output_type": "stream",
     "text": [
      "Recoding generators_eia860.energy_source_1_transport_1\n"
     ]
    },
    {
     "name": "stderr",
     "output_type": "stream",
     "text": [
      "2023-03-14 17:17:35 [    INFO] catalystcoop.pudl.metadata.classes:1673 Recoding generators_eia860.energy_source_1_transport_2\n"
     ]
    },
    {
     "name": "stdout",
     "output_type": "stream",
     "text": [
      "Recoding generators_eia860.energy_source_1_transport_2\n"
     ]
    },
    {
     "name": "stderr",
     "output_type": "stream",
     "text": [
      "2023-03-14 17:17:35 [    INFO] catalystcoop.pudl.metadata.classes:1673 Recoding generators_eia860.energy_source_1_transport_3\n"
     ]
    },
    {
     "name": "stdout",
     "output_type": "stream",
     "text": [
      "Recoding generators_eia860.energy_source_1_transport_3\n"
     ]
    },
    {
     "name": "stderr",
     "output_type": "stream",
     "text": [
      "2023-03-14 17:17:35 [    INFO] catalystcoop.pudl.metadata.classes:1673 Recoding generators_eia860.energy_source_2_transport_1\n"
     ]
    },
    {
     "name": "stdout",
     "output_type": "stream",
     "text": [
      "Recoding generators_eia860.energy_source_2_transport_1\n"
     ]
    },
    {
     "name": "stderr",
     "output_type": "stream",
     "text": [
      "2023-03-14 17:17:35 [    INFO] catalystcoop.pudl.metadata.classes:1673 Recoding generators_eia860.energy_source_2_transport_2\n"
     ]
    },
    {
     "name": "stdout",
     "output_type": "stream",
     "text": [
      "Recoding generators_eia860.energy_source_2_transport_2\n"
     ]
    },
    {
     "name": "stderr",
     "output_type": "stream",
     "text": [
      "2023-03-14 17:17:35 [    INFO] catalystcoop.pudl.metadata.classes:1673 Recoding generators_eia860.energy_source_2_transport_3\n"
     ]
    },
    {
     "name": "stdout",
     "output_type": "stream",
     "text": [
      "Recoding generators_eia860.energy_source_2_transport_3\n"
     ]
    },
    {
     "name": "stderr",
     "output_type": "stream",
     "text": [
      "2023-03-14 17:17:35 [    INFO] catalystcoop.pudl.metadata.classes:1673 Recoding generators_eia860.planned_new_prime_mover_code\n"
     ]
    },
    {
     "name": "stdout",
     "output_type": "stream",
     "text": [
      "Recoding generators_eia860.planned_new_prime_mover_code\n"
     ]
    },
    {
     "name": "stderr",
     "output_type": "stream",
     "text": [
      "2023-03-14 17:17:36 [    INFO] catalystcoop.pudl.metadata.classes:1673 Recoding generators_eia860.planned_energy_source_code_1\n"
     ]
    },
    {
     "name": "stdout",
     "output_type": "stream",
     "text": [
      "Recoding generators_eia860.planned_energy_source_code_1\n"
     ]
    },
    {
     "name": "stderr",
     "output_type": "stream",
     "text": [
      "2023-03-14 17:17:36 [    INFO] catalystcoop.pudl.metadata.classes:1673 Recoding generators_eia860.startup_source_code_1\n"
     ]
    },
    {
     "name": "stdout",
     "output_type": "stream",
     "text": [
      "Recoding generators_eia860.startup_source_code_1\n"
     ]
    },
    {
     "name": "stderr",
     "output_type": "stream",
     "text": [
      "2023-03-14 17:17:36 [    INFO] catalystcoop.pudl.metadata.classes:1673 Recoding generators_eia860.startup_source_code_2\n"
     ]
    },
    {
     "name": "stdout",
     "output_type": "stream",
     "text": [
      "Recoding generators_eia860.startup_source_code_2\n"
     ]
    },
    {
     "name": "stderr",
     "output_type": "stream",
     "text": [
      "2023-03-14 17:17:36 [    INFO] catalystcoop.pudl.metadata.classes:1673 Recoding generators_eia860.startup_source_code_3\n"
     ]
    },
    {
     "name": "stdout",
     "output_type": "stream",
     "text": [
      "Recoding generators_eia860.startup_source_code_3\n"
     ]
    },
    {
     "name": "stderr",
     "output_type": "stream",
     "text": [
      "2023-03-14 17:17:36 [    INFO] catalystcoop.pudl.metadata.classes:1673 Recoding generators_eia860.startup_source_code_4\n"
     ]
    },
    {
     "name": "stdout",
     "output_type": "stream",
     "text": [
      "Recoding generators_eia860.startup_source_code_4\n"
     ]
    },
    {
     "name": "stderr",
     "output_type": "stream",
     "text": [
      "2023-03-14 17:17:36 [    INFO] catalystcoop.pudl.metadata.classes:1673 Recoding generators_eia860.data_maturity\n"
     ]
    },
    {
     "name": "stdout",
     "output_type": "stream",
     "text": [
      "Recoding generators_eia860.data_maturity\n"
     ]
    },
    {
     "name": "stderr",
     "output_type": "stream",
     "text": [
      "2023-03-14 17:17:59 [    INFO] catalystcoop.pudl.transform.eia:553 Average consistency of static generators values is 99.91%\n"
     ]
    },
    {
     "name": "stdout",
     "output_type": "stream",
     "text": [
      "Average consistency of static generators values is 99.91%\n"
     ]
    }
   ],
   "source": [
    "# we want to investigate the harvesting of the plants in this case...\n",
    "entity = 'generators'\n",
    "# create the empty entities df to fill up\n",
    "entities_dfs = {}\n",
    "entities_dfs, eia_transformed_dfs, col_dfs = (\n",
    "    pudl.transform.eia.harvesting(\n",
    "        entity, eia_transformed_dfs, entities_dfs, debug=True)\n",
    ")"
   ]
  },
  {
   "cell_type": "markdown",
   "metadata": {},
   "source": [
    "# Use `col_dfs` to explore harvested values"
   ]
  },
  {
   "cell_type": "code",
   "execution_count": 7,
   "metadata": {},
   "outputs": [],
   "source": [
    "pmc = col_dfs['prime_mover_code']"
   ]
  },
  {
   "cell_type": "code",
   "execution_count": 8,
   "metadata": {},
   "outputs": [
    {
     "data": {
      "text/plain": [
       "<StringArray>\n",
       "['GT', 'CT', 'ST', 'HY', 'IC', 'WT', 'CA', 'PV', 'BA', 'OT', 'BT', 'FC', 'CP', 'WS', 'CS', 'FW', 'PS', 'CC', 'CE']\n",
       "Length: 19, dtype: string"
      ]
     },
     "execution_count": 8,
     "metadata": {},
     "output_type": "execute_result"
    }
   ],
   "source": [
    "pmc.prime_mover_code.unique()"
   ]
  }
 ],
 "metadata": {
  "kernelspec": {
   "display_name": "Python 3 (ipykernel)",
   "language": "python",
   "name": "python3"
  },
  "language_info": {
   "codemirror_mode": {
    "name": "ipython",
    "version": 3
   },
   "file_extension": ".py",
   "mimetype": "text/x-python",
   "name": "python",
   "nbconvert_exporter": "python",
   "pygments_lexer": "ipython3",
   "version": "3.10.9"
  },
  "vscode": {
   "interpreter": {
    "hash": "45ac4012cf3d511abe021e64327549bc8e5a875099e88743f7447e1180329125"
   }
  }
 },
 "nbformat": 4,
 "nbformat_minor": 4
}
