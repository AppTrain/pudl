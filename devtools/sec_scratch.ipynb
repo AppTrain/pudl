{
 "cells": [
  {
   "cell_type": "code",
   "execution_count": null,
   "id": "57d672a8-8806-4b82-a7ef-512b9836d901",
   "metadata": {},
   "outputs": [],
   "source": [
    "import pandas as pd\n",
    "import sqlalchemy as sa\n",
    "import pudl\n",
    "\n",
    "import recordlinkage as rl\n",
    "from recordlinkage.compare import Exact, String \n",
    "\n",
    "from pudl import logging_helpers\n",
    "logger = pudl.logging_helpers.get_logger(__name__)"
   ]
  },
  {
   "cell_type": "markdown",
   "id": "a4fc2c01-e64a-4afa-9410-8401c8daeb64",
   "metadata": {},
   "source": [
    "# CorpsWatch SEC EX-21 download\n",
    "I downloaded the CSV's from this file:\n",
    "https://archive.org/download/corpwatch_api_data_dumps/corpwatch_api_tables_csv.tar.gz\n",
    "\n",
    "Unzipped the tarball and put it in a dir in *this* directory."
   ]
  },
  {
   "cell_type": "markdown",
   "id": "6af6a3e7-ecff-4364-a059-abd85e785d90",
   "metadata": {},
   "source": [
    "# SEC EX-21 Extract\n",
    "I downloaded the CSv's from this file:\n",
    "https://archive.org/download/corpwatch_api_data_dumps/corpwatch_api_tables_csv.tar.gz\n",
    "\n",
    "And put it in a dir in *this* directory."
   ]
  },
  {
   "cell_type": "code",
   "execution_count": null,
   "id": "1d4b7c36-0a70-40c0-8427-bd2184a3236f",
   "metadata": {},
   "outputs": [],
   "source": [
    "directory = \"corpwatch_api_tables_csv\"\n",
    "# tables to grab\n",
    "tables_sec21 = [\"companies\", \"company_relations\", \"company_info\", \"sic_codes\", \"company_locations\"]\n",
    "\n",
    "for table in tables_sec21:\n",
    "    logger.info(f\"{table}: extracting CSV\")\n",
    "    vars()[table] = pd.read_csv(f\"{directory}/{table}.csv\", sep='\\t').convert_dtypes()"
   ]
  },
  {
   "cell_type": "markdown",
   "id": "4daa4718-c4f2-4e24-b0f9-33903ba0e2d0",
   "metadata": {},
   "source": [
    "# Input Prep"
   ]
  },
  {
   "cell_type": "code",
   "execution_count": null,
   "id": "f65fbab3-ca1c-4c54-844d-bf4d0761d687",
   "metadata": {},
   "outputs": [],
   "source": [
    "idx_eia = [\"utility_id_eia\", \"report_date\"]\n",
    "idx_sec = [\"cw_id\", \"year\", \"type\"]\n",
    "shared_cols = [\"year\", \"utility_name_eia\", \"city\", \"street_address\", \"address_2\", \"zip_code\"]"
   ]
  },
  {
   "cell_type": "markdown",
   "id": "955abfd9-fce4-45bb-8a97-ede096d41fd7",
   "metadata": {},
   "source": [
    "## `pudl_out` setup"
   ]
  },
  {
   "cell_type": "code",
   "execution_count": null,
   "id": "bea2333c-1446-4bc2-81da-6c58c7d206f2",
   "metadata": {},
   "outputs": [],
   "source": [
    "pudl_settings = pudl.workspace.setup.get_defaults()\n",
    "pudl_engine = sa.create_engine(pudl_settings['pudl_db'])\n",
    "\n",
    "pudl_out = pudl.output.pudltabl.PudlTabl(pudl_engine=pudl_engine)\n",
    "utils_eia860 = pudl_out.utils_eia860().assign(year=lambda x: x.report_date.dt.year)"
   ]
  },
  {
   "cell_type": "markdown",
   "id": "8238aa47-d19b-4a83-8289-cfc7adaa3f6c",
   "metadata": {},
   "source": [
    "## SEC setup"
   ]
  },
  {
   "cell_type": "code",
   "execution_count": null,
   "id": "3412e4e9-cfe8-408e-8096-e539c48a3638",
   "metadata": {},
   "outputs": [],
   "source": [
    "def prep_companies_sec(company_info, company_locations):\n",
    "    # either grab both sectors that have \n",
    "    sic_sector_electric = (\n",
    "        # company_info.loc[company_info.sector_name.str.lower().str.contains(\"electric\"), \"sic_sector\"].unique()\n",
    "        [4900]\n",
    "    )\n",
    "    company_locations = (\n",
    "        company_locations.dropna(subset=[\"cw_id\"])\n",
    "        .assign(year=lambda x: pd.to_datetime(company_locations.date).dt.year).convert_dtypes()\n",
    "    )\n",
    "\n",
    "    dupe_address_ratio = (\n",
    "        len(company_locations[company_locations.duplicated(subset=idx_sec, keep=False)])\n",
    "        /len(company_locations)\n",
    "    )\n",
    "    if dupe_address_ratio > .0001:\n",
    "        raise AssertionError(\n",
    "            f\"{dupe_address_ratio:.3%} of addresses are duplicates based on {idx_sec}. \"\n",
    "            \"More than expected (.01%).\"\n",
    "        )\n",
    "    companies_sec = (\n",
    "        company_info\n",
    "        [company_info.sic_sector.isin(sic_sector_electric)]\n",
    "        .merge(\n",
    "            company_locations,on=[\"cw_id\", \"year\"],\n",
    "            validate=\"1:m\",\n",
    "            how=\"left\"\n",
    "        )\n",
    "        .rename(columns={\n",
    "            \"company_name\": \"utility_name_eia\",\n",
    "            \"city\": \"city\",\n",
    "            \"street_1\": \"street_address\",\n",
    "            \"street_2\": \"address_2\",\n",
    "            \"postal_code\": \"zip_code\"\n",
    "        })\n",
    "    )\n",
    "    return companies_sec"
   ]
  },
  {
   "cell_type": "code",
   "execution_count": null,
   "id": "ce3198ac-c1c4-46f2-b4ac-be238f3df4da",
   "metadata": {},
   "outputs": [],
   "source": [
    "companies_sec = prep_companies_sec(company_info, company_locations)"
   ]
  },
  {
   "cell_type": "markdown",
   "id": "12c847f0-6511-499d-8029-2aeb16be0f2c",
   "metadata": {
    "tags": []
   },
   "source": [
    "# Make Features"
   ]
  },
  {
   "cell_type": "code",
   "execution_count": null,
   "id": "9cce992b-7664-477a-a34e-4e9d627f6bbd",
   "metadata": {},
   "outputs": [],
   "source": [
    "def make_features(companies_sec: pd.DataFrame, utils_eia860: pd.DataFrame, block_col: str | None = \"year\"\n",
    "    ) -> pd.DataFrame:\n",
    "        \"\"\"Generate comparison features based on defined features.\n",
    "\n",
    "        The recordlinkage package helps us create feature vectors. For each column that\n",
    "        we have in both datasets, this method generates a column of feature vecotrs,\n",
    "        which contain values between 0 and 1 that are measures of the similarity between\n",
    "        each datapoint the two datasets (1 meaning the two datapoints were exactly the\n",
    "        same and 0 meaning they were not similar at all).\n",
    "\n",
    "        For more details see recordlinkage's documentaion:\n",
    "        https://recordlinkage.readthedocs.io/en/latest/ref-compare.html\n",
    "\n",
    "        Args:\n",
    "            companies_sec:\n",
    "            utils_eia860:\n",
    "            block_col:  If you want to restrict possible matches\n",
    "                between ferc_df and eia_df based on a particular column,\n",
    "                block_col is the column name of blocking column. Default is\n",
    "                ``year``. If None, this method will generate features between all\n",
    "                possible matches.\n",
    "\n",
    "        Returns:\n",
    "            a dataframe of feature vectors between SEC and EIA.\n",
    "        \"\"\"\n",
    "        compare_cl = rl.Compare(\n",
    "            features=[\n",
    "                String(\n",
    "                    \"utility_name_eia\",\n",
    "                    \"utility_name_eia\",\n",
    "                    label=\"utility_name_eia\",\n",
    "                    method=\"jarowinkler\",\n",
    "                ),\n",
    "                String(\n",
    "                    \"city\",\n",
    "                    \"city\",\n",
    "                    label=\"city\",\n",
    "                    method=\"jarowinkler\",\n",
    "                ),\n",
    "                String(\n",
    "                    \"street_address\",\n",
    "                    \"street_address\",\n",
    "                    label=\"street_address\",\n",
    "                    method=\"jarowinkler\",\n",
    "                ),\n",
    "                String(\n",
    "                    \"address_2\",\n",
    "                    \"address_2\",\n",
    "                    label=\"address_2\",\n",
    "                    method=\"jarowinkler\",\n",
    "                ),\n",
    "                Exact(\n",
    "                    \"zip_code\",\n",
    "                    \"zip_code\",\n",
    "                    label=\"zip_code\",\n",
    "                ),\n",
    "            ]\n",
    "        )\n",
    "\n",
    "        # generate the index of all candidate features\n",
    "        indexer = rl.Index()\n",
    "        indexer.block(block_col)\n",
    "        feature_index = indexer.index(companies_sec, utils_eia860)\n",
    "\n",
    "        features = compare_cl.compute(feature_index, companies_sec, utils_eia860)\n",
    "        return features"
   ]
  },
  {
   "cell_type": "code",
   "execution_count": null,
   "id": "195c2498-9625-4888-bdd7-5563ad7cd67d",
   "metadata": {},
   "outputs": [],
   "source": [
    "%%time\n",
    "features = make_features(companies_sec=companies_sec, utils_eia860=utils_eia860)"
   ]
  },
  {
   "cell_type": "code",
   "execution_count": null,
   "id": "a1020b99-1d4d-43c8-9ead-28f8b82bf5d1",
   "metadata": {},
   "outputs": [],
   "source": []
  }
 ],
 "metadata": {
  "kernelspec": {
   "display_name": "Python 3 (ipykernel)",
   "language": "python",
   "name": "python3"
  },
  "language_info": {
   "codemirror_mode": {
    "name": "ipython",
    "version": 3
   },
   "file_extension": ".py",
   "mimetype": "text/x-python",
   "name": "python",
   "nbconvert_exporter": "python",
   "pygments_lexer": "ipython3",
   "version": "3.10.8"
  }
 },
 "nbformat": 4,
 "nbformat_minor": 5
}
