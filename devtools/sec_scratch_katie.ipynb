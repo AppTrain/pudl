{
 "cells": [
  {
   "cell_type": "code",
   "execution_count": null,
   "id": "57d672a8-8806-4b82-a7ef-512b9836d901",
   "metadata": {
    "tags": []
   },
   "outputs": [],
   "source": [
    "import numpy as np\n",
    "import pandas as pd\n",
    "import sqlalchemy as sa\n",
    "import pudl\n",
    "\n",
    "import tarfile\n",
    "\n",
    "import splink\n",
    "\n",
    "from pudl import logging_helpers\n",
    "logger = pudl.logging_helpers.get_logger(__name__)"
   ]
  },
  {
   "cell_type": "markdown",
   "id": "a4fc2c01-e64a-4afa-9410-8401c8daeb64",
   "metadata": {
    "jp-MarkdownHeadingCollapsed": true,
    "tags": []
   },
   "source": [
    "# CorpsWatch SEC EX-21 download\n",
    "I downloaded the CSV's from this file:\n",
    "https://archive.org/download/corpwatch_api_data_dumps/corpwatch_api_tables_csv.tar.gz\n",
    "\n",
    "Unzipped the tarball and put it in a dir in *this* directory."
   ]
  },
  {
   "cell_type": "markdown",
   "id": "6af6a3e7-ecff-4364-a059-abd85e785d90",
   "metadata": {
    "tags": []
   },
   "source": [
    "# SEC EX-21 Extract\n",
    "I downloaded the CSv's from this file:\n",
    "https://archive.org/download/corpwatch_api_data_dumps/corpwatch_api_tables_csv.tar.gz\n",
    "\n",
    "And put it in a dir in *this* directory."
   ]
  },
  {
   "cell_type": "code",
   "execution_count": null,
   "id": "1d4b7c36-0a70-40c0-8427-bd2184a3236f",
   "metadata": {},
   "outputs": [],
   "source": [
    "directory = \"corpwatch_api_tables_csv\"\n",
    "# tables to grab\n",
    "tables_sec21 = [\"companies\", \"company_relations\", \"company_info\", \"sic_codes\", \"company_locations\"]\n",
    "\n",
    "for table in tables_sec21:\n",
    "    logger.info(f\"{table}: extracting CSV\")\n",
    "    file = tarfile.open(f\"../{directory}/corpwatch_api_tables_csv.tar.gz\")\n",
    "    file.extract(f\"corpwatch_api_tables_csv/{table}.csv\", f\"../{directory}\")\n",
    "    file.close()\n",
    "    vars()[table] = pd.read_csv(f\"../{directory}/corpwatch_api_tables_csv/{table}.csv\", sep='\\t').convert_dtypes()"
   ]
  },
  {
   "cell_type": "code",
   "execution_count": null,
   "id": "beec9406-4e67-49cb-89b7-e8e1b26f1f28",
   "metadata": {},
   "outputs": [],
   "source": [
    "# there are nulls for cw_id, but otherwise it is unique\n",
    "companies[companies.duplicated(subset=[\"cw_id\"], keep=False)]"
   ]
  },
  {
   "cell_type": "code",
   "execution_count": null,
   "id": "b6a87308-3f65-4856-bac0-a9cae8449fa5",
   "metadata": {},
   "outputs": [],
   "source": [
    "# doesn't seem like null cw_id's have other company records\n",
    "companies[companies.company_name.str.contains(\"Dentrix\")]"
   ]
  },
  {
   "cell_type": "code",
   "execution_count": null,
   "id": "d23031b2-b27d-4a03-abc2-dca7c1e888c6",
   "metadata": {},
   "outputs": [],
   "source": [
    "company_relations.head(3)"
   ]
  },
  {
   "cell_type": "code",
   "execution_count": null,
   "id": "4521c9e6-1d23-4245-8b1d-c271766e4068",
   "metadata": {},
   "outputs": [],
   "source": [
    "company_info.head(3)"
   ]
  },
  {
   "cell_type": "code",
   "execution_count": null,
   "id": "be4c00c9-cc21-4656-92d9-a4e7604a4fda",
   "metadata": {},
   "outputs": [],
   "source": [
    "test = company_info.merge(sic_codes, on=[\"sic_code\", \"industry_name\", \"sic_sector\"], how=\"left\", indicator=True)"
   ]
  },
  {
   "cell_type": "code",
   "execution_count": null,
   "id": "3e84dd21-8cae-4a34-b6c8-c85580e31055",
   "metadata": {},
   "outputs": [],
   "source": [
    "# there are some sic codes in the company info table that aren't in the sic_codes table\n",
    "test[(test._merge==\"left_only\") & ~(test.sic_code.isnull())].sic_code.unique()"
   ]
  },
  {
   "cell_type": "code",
   "execution_count": null,
   "id": "61f892f6-05bf-49ff-950d-7644e7496477",
   "metadata": {},
   "outputs": [],
   "source": [
    "sic_codes[sic_codes.sic_code==6120]"
   ]
  },
  {
   "cell_type": "code",
   "execution_count": null,
   "id": "8da516c5-30ff-4c7f-a823-6a75aa97a6d7",
   "metadata": {},
   "outputs": [],
   "source": [
    "company_locations.location_id.is_unique"
   ]
  },
  {
   "cell_type": "code",
   "execution_count": null,
   "id": "3d1f26e1-8e19-4a58-9de0-fab9c39c6a12",
   "metadata": {},
   "outputs": [],
   "source": [
    "# min_year and max_year represent how long an address is applicable for, there might be a change in address after max_year\n",
    "company_locations[company_locations.street_1.str.contains(\"PITMAN ROAD\")]"
   ]
  },
  {
   "cell_type": "code",
   "execution_count": null,
   "id": "ce360539-bdbe-4fcb-b06c-983971fb60b5",
   "metadata": {},
   "outputs": [],
   "source": [
    "# it's not entirely clear what this date column represents in the company locations, the date that the record was entered?\n",
    "loc_test = (\n",
    "        company_locations.dropna(subset=[\"cw_id\"])\n",
    "        .assign(loc_year=lambda x: pd.to_datetime(company_locations.date).dt.year).convert_dtypes()\n",
    "    )"
   ]
  },
  {
   "cell_type": "code",
   "execution_count": null,
   "id": "39ca817a-edc3-41c4-b628-9920bea99446",
   "metadata": {},
   "outputs": [],
   "source": [
    "loc_test[loc_test.min_year != loc_test.loc_year].head(3)"
   ]
  },
  {
   "cell_type": "code",
   "execution_count": null,
   "id": "acfed70a-847d-4d88-bf07-bd5540967221",
   "metadata": {},
   "outputs": [],
   "source": [
    "# there will be a new location id for the same company when the location changes\n",
    "# there will also be a different record for each location type\n",
    "loc_test[loc_test.cw_id == 1]"
   ]
  },
  {
   "cell_type": "code",
   "execution_count": null,
   "id": "2ba224f9-e71e-4460-a8a3-ee4964975ad2",
   "metadata": {},
   "outputs": [],
   "source": [
    "loc_test[loc_test.location_id == 1]"
   ]
  },
  {
   "cell_type": "code",
   "execution_count": null,
   "id": "50faf014-1a3e-4214-b9a9-72ef4a1af356",
   "metadata": {},
   "outputs": [],
   "source": [
    "# try merging on best_location_id\n",
    "loc_id_only = company_info.merge(loc_test, how=\"left\", left_on=\"best_location_id\", right_on=\"location_id\", indicator=True)"
   ]
  },
  {
   "cell_type": "code",
   "execution_count": null,
   "id": "1af14fe1-0b63-47e0-8201-f3d293ec17d4",
   "metadata": {},
   "outputs": [],
   "source": [
    "# there's one location id that isn't in the locations df\n",
    "loc_id_only[loc_id_only._merge == \"left_only\"].best_location_id.unique()"
   ]
  },
  {
   "cell_type": "code",
   "execution_count": null,
   "id": "ef0710ff-5efa-4e13-b7d9-b5afde58694f",
   "metadata": {},
   "outputs": [],
   "source": [
    "# seems like best_location_id locations correspond to the correct companies\n",
    "loc_id_only[loc_id_only.cw_id_x != loc_id_only.cw_id_y]"
   ]
  },
  {
   "cell_type": "code",
   "execution_count": null,
   "id": "ff232f3b-0bf8-4f43-a4d7-728df9d76512",
   "metadata": {},
   "outputs": [],
   "source": [
    "# so potentially some of these best_location_id's are wrong, are there better location_id's to use?\n",
    "loc_id_only[(loc_id_only.year > loc_id_only.max_year_y) | (loc_id_only.year < loc_id_only.min_year_y)].head(3)"
   ]
  },
  {
   "cell_type": "code",
   "execution_count": null,
   "id": "1cf919d9-ed17-40f7-9a6d-27276ed40e85",
   "metadata": {},
   "outputs": [],
   "source": [
    "# a very small percentage have years that don't fall within the correct range\n",
    "len(loc_id_only[(loc_id_only.year > loc_id_only.max_year_y) | (loc_id_only.year < loc_id_only.min_year_y)])/len(loc_id_only)"
   ]
  },
  {
   "cell_type": "code",
   "execution_count": null,
   "id": "d2e61a91-6633-4b82-8aea-795b83ffedb4",
   "metadata": {},
   "outputs": [],
   "source": [
    "# for example this company changed locations in 2015, so the location id in the company info should have been updated\n",
    "company_locations[company_locations.cw_id == 635924]"
   ]
  },
  {
   "cell_type": "markdown",
   "id": "ccd94bc5-212b-4965-95ba-f2f8512c0f27",
   "metadata": {},
   "source": [
    "Summary:\n",
    "- `best_location_id` is mostly reliable, .02% of records have a `best_location_id` where the the location changed and it's using the previous location\n",
    "- this could be fixed by taking these bad records and getting the record for that `cw_id` and `type` from the `company_location` dataframe that has a `min_year` and `max_year` that contains the `year` for the record\n",
    "- for now it seems fine to use `best_location_id` instead of using `cw_id`, `year`, and `type` as the join key\n",
    "- this `max_year`, `min_year`, `year` issue doesn't seem to be an issue for electricity sector companies"
   ]
  },
  {
   "cell_type": "code",
   "execution_count": null,
   "id": "995bf0c6-0781-4363-8cd1-ce704e50c387",
   "metadata": {},
   "outputs": [],
   "source": [
    "elec = company_info[company_info.sic_sector.isin([4900])]"
   ]
  },
  {
   "cell_type": "code",
   "execution_count": null,
   "id": "9053d26a-fdf6-426b-a8fe-6af963da8fe7",
   "metadata": {},
   "outputs": [],
   "source": [
    "elec_loc = elec.merge(loc_test, how=\"left\", left_on=\"best_location_id\", right_on=\"location_id\")"
   ]
  },
  {
   "cell_type": "code",
   "execution_count": null,
   "id": "340bad0b-2b35-4ae9-936d-a8245be92587",
   "metadata": {},
   "outputs": [],
   "source": [
    "len(elec_loc[(elec_loc.year > elec_loc.max_year_y) | (elec_loc.year < elec_loc.min_year_y)])/len(elec_loc)"
   ]
  },
  {
   "cell_type": "markdown",
   "id": "4daa4718-c4f2-4e24-b0f9-33903ba0e2d0",
   "metadata": {},
   "source": [
    "# Input Prep"
   ]
  },
  {
   "cell_type": "code",
   "execution_count": null,
   "id": "f65fbab3-ca1c-4c54-844d-bf4d0761d687",
   "metadata": {},
   "outputs": [],
   "source": [
    "idx_eia = [\"utility_id_eia\", \"report_date\"]\n",
    "# when you use best_location as the merge key you no longer need type in the key\n",
    "idx_sec = [\"cw_id\", \"loc_year\", \"type\"]\n",
    "shared_cols = [\"year\", \"utility_name_eia\", \"city\", \"street_address\", \"address_2\", \"zip_code\"]"
   ]
  },
  {
   "cell_type": "markdown",
   "id": "955abfd9-fce4-45bb-8a97-ede096d41fd7",
   "metadata": {},
   "source": [
    "## `pudl_out` setup"
   ]
  },
  {
   "cell_type": "code",
   "execution_count": null,
   "id": "bea2333c-1446-4bc2-81da-6c58c7d206f2",
   "metadata": {},
   "outputs": [],
   "source": [
    "pudl_settings = pudl.workspace.setup.get_defaults()\n",
    "pudl_engine = sa.create_engine(pudl_settings['pudl_db'])\n",
    "\n",
    "pudl_out = pudl.output.pudltabl.PudlTabl(pudl_engine=pudl_engine)\n",
    "utils_eia860 = pudl_out.utils_eia860().assign(year=lambda x: x.report_date.dt.year)"
   ]
  },
  {
   "cell_type": "markdown",
   "id": "8238aa47-d19b-4a83-8289-cfc7adaa3f6c",
   "metadata": {},
   "source": [
    "## SEC setup"
   ]
  },
  {
   "cell_type": "code",
   "execution_count": null,
   "id": "3412e4e9-cfe8-408e-8096-e539c48a3638",
   "metadata": {},
   "outputs": [],
   "source": [
    "def prep_companies_sec(company_info, company_locations):\n",
    "    # either grab both sectors that have \n",
    "    sic_sector_electric = (\n",
    "        # company_info.loc[company_info.sector_name.str.lower().str.contains(\"electric\"), \"sic_sector\"].unique()\n",
    "        [4900]\n",
    "    )\n",
    "    # maybe we don't need this comapny year anymore\n",
    "    company_locations = (\n",
    "        company_locations.dropna(subset=[\"cw_id\"])\n",
    "        .assign(loc_year=lambda x: pd.to_datetime(company_locations.date).dt.year).convert_dtypes()\n",
    "    )\n",
    "\n",
    "    dupe_address_ratio = (\n",
    "        len(company_locations[company_locations.duplicated(subset=idx_sec, keep=False)])\n",
    "        /len(company_locations)\n",
    "    )\n",
    "    if dupe_address_ratio > .0001:\n",
    "        raise AssertionError(\n",
    "            f\"{dupe_address_ratio:.3%} of addresses are duplicates based on {idx_sec}. \"\n",
    "            \"More than expected (.01%).\"\n",
    "        )\n",
    "    companies_sec = (\n",
    "        company_info\n",
    "        [company_info.sic_sector.isin(sic_sector_electric)]\n",
    "        .merge(\n",
    "            company_locations,\n",
    "            left_on=\"best_location_id\",\n",
    "            right_on=\"location_id\",\n",
    "            validate=\"m:1\",\n",
    "            how=\"left\"\n",
    "        )\n",
    "        .rename(columns={\n",
    "            \"company_name\": \"utility_name_eia\",\n",
    "            \"city\": \"city\",\n",
    "            \"street_1\": \"street_address\",\n",
    "            \"street_2\": \"address_2\",\n",
    "            \"postal_code\": \"zip_code\"\n",
    "        })\n",
    "    )\n",
    "    return companies_sec"
   ]
  },
  {
   "cell_type": "code",
   "execution_count": null,
   "id": "ce3198ac-c1c4-46f2-b4ac-be238f3df4da",
   "metadata": {},
   "outputs": [],
   "source": [
    "companies_sec = prep_companies_sec(company_info, company_locations)"
   ]
  },
  {
   "cell_type": "code",
   "execution_count": null,
   "id": "81339f18-3d1c-4766-8701-209c159c45c9",
   "metadata": {},
   "outputs": [],
   "source": [
    "companies_sec.head(3)"
   ]
  },
  {
   "cell_type": "code",
   "execution_count": null,
   "id": "66635136-db9a-4865-a9d8-4c6954b62cf8",
   "metadata": {},
   "outputs": [],
   "source": [
    "utils_eia860[shared_cols]"
   ]
  },
  {
   "cell_type": "code",
   "execution_count": null,
   "id": "2e8a127c-d5b2-454d-9f59-8114051802ac",
   "metadata": {},
   "outputs": [],
   "source": [
    "companies_sec[shared_cols]"
   ]
  },
  {
   "cell_type": "markdown",
   "id": "b5df2579-4c09-4931-9add-b141973a981a",
   "metadata": {
    "tags": []
   },
   "source": [
    "# Cleaning"
   ]
  },
  {
   "cell_type": "code",
   "execution_count": null,
   "id": "b01e8fe9-a677-4824-be37-371b0256c742",
   "metadata": {},
   "outputs": [],
   "source": [
    "len(companies_sec[companies_sec.street_address.isnull()])/len(companies_sec)"
   ]
  },
  {
   "cell_type": "code",
   "execution_count": null,
   "id": "55d284a9-eaff-4819-8738-1031a51ab079",
   "metadata": {},
   "outputs": [],
   "source": [
    "utils_eia860.loc[(utils_eia860.street_address.isnull()) & ~(utils_eia860.address_2.isnull()), \"street_address\"] = utils_eia860.address_2"
   ]
  },
  {
   "cell_type": "code",
   "execution_count": null,
   "id": "ed894fe4-14fb-4f20-8fb1-6d9dea9963cd",
   "metadata": {},
   "outputs": [],
   "source": [
    "len(utils_eia860[utils_eia860.street_address.isnull()])/len(utils_eia860)"
   ]
  },
  {
   "cell_type": "code",
   "execution_count": null,
   "id": "b87fe18d-fcd7-4d92-ad12-929e36826b85",
   "metadata": {},
   "outputs": [],
   "source": [
    "null_util = utils_eia860[utils_eia860.street_address.isnull()][shared_cols]"
   ]
  },
  {
   "cell_type": "code",
   "execution_count": null,
   "id": "aa35a318-3096-48ee-bdd3-29de22f4d732",
   "metadata": {},
   "outputs": [],
   "source": [
    "null_util.city.isnull().value_counts()"
   ]
  },
  {
   "cell_type": "markdown",
   "id": "142fa6a3-0dd2-4e66-ab2e-ee30a5ac15b9",
   "metadata": {},
   "source": [
    "Other cleaning steps that should be done:\n",
    "- replace special characters from strings #, ', .\n",
    "- replace abbreviations with full names - st. -> street"
   ]
  },
  {
   "cell_type": "code",
   "execution_count": null,
   "id": "a4de0989-533c-46ce-a3d8-c4641598997f",
   "metadata": {},
   "outputs": [],
   "source": [
    "def clean_df(df):\n",
    "    df = df[shared_cols]\n",
    "    types = {\"utility_name_eia\": str, \"city\": str, \"street_address\": str, \"address_2\": str, \"zip_code\": str, \"year\": int}\n",
    "    df = df.astype(types)\n",
    "    str_cols = [\"utility_name_eia\", \"city\", \"street_address\", \"address_2\"]\n",
    "    for col in str_cols:\n",
    "        df[col] = df[col].str.strip().str.lower()\n",
    "    # fix nans with n number of x's\n",
    "    df = df.replace([\"-\", \".\", \"<na>\", \"<NA>\", \"nan\", \"NaN\", \"x\", \"xxx\", \"xxxxxxx\"], np.nan)\n",
    "    df.loc[~(df.zip_code.isnull()), \"zip_code\"] = df[\"zip_code\"].str.zfill(5)\n",
    "    # replace null addresses with address_2 if it's not null\n",
    "    # is this a good idea?\n",
    "    df.loc[(df.street_address.isnull()) & ~(df.address_2.isnull()), \"street_address\"] = df.address_2\n",
    "    df = df.drop_duplicates()\n",
    "    df = df.reset_index(drop=True)\n",
    "    # add unique_id column for splink\n",
    "    df[\"unique_id\"] = df.index\n",
    "    return df"
   ]
  },
  {
   "cell_type": "code",
   "execution_count": null,
   "id": "c5727ed5-3546-45c2-a2c8-cf5a4ba02a74",
   "metadata": {},
   "outputs": [],
   "source": [
    "sec_df = clean_df(companies_sec)\n",
    "eia_df = clean_df(utils_eia860)"
   ]
  },
  {
   "cell_type": "markdown",
   "id": "94270565-a984-40cb-b8aa-5eff57bd687e",
   "metadata": {},
   "source": [
    "# Splink Exploratory Analysis"
   ]
  },
  {
   "cell_type": "code",
   "execution_count": null,
   "id": "23539fd2-7b63-47e8-8451-38d497bfecd4",
   "metadata": {},
   "outputs": [],
   "source": [
    "from splink.duckdb.duckdb_linker import DuckDBLinker"
   ]
  },
  {
   "cell_type": "code",
   "execution_count": null,
   "id": "b8edb9de-a69a-4137-97df-5924907aed3c",
   "metadata": {},
   "outputs": [],
   "source": [
    "# build up settings dict more later\n",
    "settings_dict = {\"link_type\": \"link_only\"}\n",
    "linker = DuckDBLinker([sec_df, eia_df], settings_dict=settings_dict)"
   ]
  },
  {
   "cell_type": "code",
   "execution_count": null,
   "id": "ba4cb923-c6f2-4de6-a509-d27c603c09db",
   "metadata": {},
   "outputs": [],
   "source": [
    "linker.missingness_chart()"
   ]
  },
  {
   "cell_type": "markdown",
   "id": "24375911-12db-4660-82d8-e7b9a8d84e6d",
   "metadata": {},
   "source": [
    "Strong skew in city column.\n",
    "\n",
    "Name and address are likely the best linking columns, as is expected. Low value counts for each of the values."
   ]
  },
  {
   "cell_type": "code",
   "execution_count": null,
   "id": "3538bb4c-f8bf-4566-bd23-ffd8f7ad9189",
   "metadata": {},
   "outputs": [],
   "source": [
    "cols = [\"utility_name_eia\", \"city\", \"street_address\", \"address_2\", \"zip_code\"]\n",
    "linker.profile_columns(cols)"
   ]
  },
  {
   "cell_type": "markdown",
   "id": "3d9d39ff-b5a0-49e9-af0f-287344524e19",
   "metadata": {},
   "source": [
    "### Look at blocking rules"
   ]
  },
  {
   "cell_type": "code",
   "execution_count": null,
   "id": "e653a414-c817-4dc5-865e-c7bd3fb9c676",
   "metadata": {},
   "outputs": [],
   "source": [
    "# this creates too many records, can you make it so that it's an \"and\" with all the other rules as \"ors\"\n",
    "blocking_rule_1 = \"l.year = r.year\"\n",
    "count = linker.count_num_comparisons_from_blocking_rule(blocking_rule_1)\n",
    "print(f\"Number of comparisons generated by '{blocking_rule_1}': {count:,.0f}\")"
   ]
  },
  {
   "cell_type": "code",
   "execution_count": null,
   "id": "843b0fb9-c202-41c5-a0ae-aedac5518047",
   "metadata": {},
   "outputs": [],
   "source": [
    "blocking_rule_2 = \"l.zip_code = r.zip_code and l.year = r.year\"\n",
    "count = linker.count_num_comparisons_from_blocking_rule(blocking_rule_2)\n",
    "print(f\"Number of comparisons generated by '{blocking_rule_2}': {count:,.0f}\")"
   ]
  },
  {
   "cell_type": "code",
   "execution_count": null,
   "id": "47991b2d-9c0a-4b5a-8c78-9f27b1ce6ac0",
   "metadata": {},
   "outputs": [],
   "source": [
    "blocking_rule_3 = \"l.city = r.city and l.year = r.year\"\n",
    "count = linker.count_num_comparisons_from_blocking_rule(blocking_rule_3)\n",
    "print(f\"Number of comparisons generated by '{blocking_rule_3}': {count:,.0f}\")"
   ]
  },
  {
   "cell_type": "code",
   "execution_count": null,
   "id": "4b79072b-6294-4e7f-ad57-462915aab885",
   "metadata": {},
   "outputs": [],
   "source": [
    "blocking_rule_4 = \"substr(l.utility_name_eia, 1, 4) = substr(r.utility_name_eia, 1, 4) and l.year = r.year\"\n",
    "count = linker.count_num_comparisons_from_blocking_rule(blocking_rule_4)\n",
    "print(f\"Number of comparisons generated by '{blocking_rule_4}': {count:,.0f}\")"
   ]
  },
  {
   "cell_type": "code",
   "execution_count": null,
   "id": "680c65f4-83f7-420b-aa2e-adeee38ecc98",
   "metadata": {},
   "outputs": [],
   "source": [
    "blocking_rule_5 = \"substr(l.street_address, 1, 5) = substr(r.street_address, 1, 5) and l.year = r.year\"\n",
    "count = linker.count_num_comparisons_from_blocking_rule(blocking_rule_5)\n",
    "print(f\"Number of comparisons generated by '{blocking_rule_5}': {count:,.0f}\")"
   ]
  },
  {
   "cell_type": "code",
   "execution_count": null,
   "id": "fd41b067-f085-4108-9c73-5038d585ea1b",
   "metadata": {},
   "outputs": [],
   "source": [
    "blocking_rule_6 = \"l.address_2 = r.address_2 and l.year = r.year\"\n",
    "count = linker.count_num_comparisons_from_blocking_rule(blocking_rule_6)\n",
    "print(f\"Number of comparisons generated by '{blocking_rule_6}': {count:,.0f}\")"
   ]
  },
  {
   "cell_type": "code",
   "execution_count": null,
   "id": "bcea69e2-b251-4c42-8dda-d912cf7c6762",
   "metadata": {},
   "outputs": [],
   "source": [
    "blocking_rule_6 = \"substr(l.address_2, 1, 9) = substr(r.address_2, 1, 9) and l.year = r.year\""
   ]
  },
  {
   "cell_type": "code",
   "execution_count": null,
   "id": "5066eb62-b22a-4ea0-9e9a-1f22ee17fa98",
   "metadata": {},
   "outputs": [],
   "source": [
    "blocking_rules = [blocking_rule_2, blocking_rule_3, blocking_rule_4, blocking_rule_5, blocking_rule_6]\n",
    "linker.cumulative_num_comparisons_from_blocking_rules_chart(blocking_rules)"
   ]
  },
  {
   "cell_type": "markdown",
   "id": "20e5e2b3-6c5d-4b1f-8162-507c1081d683",
   "metadata": {},
   "source": [
    "Ideas:\n",
    "Do you want to dedupe the records on year and then link?  \n",
    "For now just run with one year of data?"
   ]
  },
  {
   "cell_type": "code",
   "execution_count": null,
   "id": "b7788c75-a8b9-47b7-9875-28aa9650d5ba",
   "metadata": {},
   "outputs": [],
   "source": [
    "# blocking rules if we just have one year of data\n",
    "br_1 = \"l.zip_code = r.zip_code\"\n",
    "br_2 = \"l.city = r.city\"\n",
    "br_3 = \"substr(l.utility_name_eia, 1, 4) = substr(r.utility_name_eia, 1, 4)\"\n",
    "br_4 = \"substr(l.street_address, 1, 5) = substr(r.street_address, 1, 5)\"\n",
    "br_5 = \"substr(l.address_2, 1, 9) = substr(r.address_2, 1, 9)\"\n",
    "blocking_rules = [br_1, br_2, br_3, br_4, br_5]"
   ]
  },
  {
   "cell_type": "code",
   "execution_count": null,
   "id": "8bf8cd20-8245-480d-afbd-80d92ebc1d62",
   "metadata": {},
   "outputs": [],
   "source": [
    "sec_df = clean_df(sec_df)\n",
    "eia_df = clean_df(eia_df)"
   ]
  },
  {
   "cell_type": "code",
   "execution_count": null,
   "id": "f98a0d8a-6c6b-4754-b444-9103b5fd503a",
   "metadata": {},
   "outputs": [],
   "source": [
    "sec_df_2005 = sec_df[sec_df.year == 2005]\n",
    "eia_df_2005 = eia_df[eia_df.year == 2005]"
   ]
  },
  {
   "cell_type": "markdown",
   "id": "c73ca8da-1107-4acd-bb17-d07da11f58b7",
   "metadata": {},
   "source": [
    "TODO: Fix this later"
   ]
  },
  {
   "cell_type": "code",
   "execution_count": null,
   "id": "f6a9aeae-d9bd-48f8-aa95-07d79fc0b279",
   "metadata": {},
   "outputs": [],
   "source": [
    "eia_df_2005.iloc[7331].zip_code"
   ]
  },
  {
   "cell_type": "code",
   "execution_count": null,
   "id": "dac2c343-4925-4030-94f9-210671052551",
   "metadata": {},
   "outputs": [],
   "source": [
    "eia_df_2005"
   ]
  },
  {
   "cell_type": "code",
   "execution_count": null,
   "id": "20fd300f-5faf-48d2-a16f-84ff22fbad0e",
   "metadata": {},
   "outputs": [],
   "source": [
    "sec_df"
   ]
  },
  {
   "cell_type": "markdown",
   "id": "b4a4e3c7-75ef-4f5a-ae07-198095cd90d0",
   "metadata": {},
   "source": [
    "# Link datasets"
   ]
  },
  {
   "cell_type": "code",
   "execution_count": null,
   "id": "d2769392-be06-4cf3-b43a-37b924908d74",
   "metadata": {},
   "outputs": [],
   "source": [
    "import splink.duckdb.duckdb_comparison_library as cl\n",
    "\n",
    "utility_name_comparison = cl.levenshtein_at_thresholds(\"utility_name_eia\", [2, 5])\n",
    "print(utility_name_comparison.human_readable_description)"
   ]
  },
  {
   "cell_type": "code",
   "execution_count": null,
   "id": "59e20168-53fa-431e-ad49-0ad3a6962c77",
   "metadata": {},
   "outputs": [],
   "source": [
    "settings = {\n",
    "    \"link_type\": \"link_only\",\n",
    "    \"comparisons\": [\n",
    "        utility_name_comparison,\n",
    "        cl.levenshtein_at_thresholds(\"city\", 3, term_frequency_adjustments=True),\n",
    "        cl.levenshtein_at_thresholds(\"street_address\", [2, 5]),\n",
    "        cl.levenshtein_at_thresholds(\"address_2\", 2),\n",
    "        cl.exact_match(\"zip_code\"),\n",
    "    ],\n",
    "    \"blocking_rules_to_generate_predictions\": blocking_rules,\n",
    "    \"retain_matching_columns\": True,\n",
    "    \"retain_intermediate_calculation_columns\": True,\n",
    "}"
   ]
  },
  {
   "cell_type": "code",
   "execution_count": null,
   "id": "ae9ce7cf-39fc-458b-b26e-41d575304069",
   "metadata": {},
   "outputs": [],
   "source": [
    "linker = DuckDBLinker([sec_df_2005, eia_df_2005], settings_dict=settings)"
   ]
  },
  {
   "cell_type": "markdown",
   "id": "d08665c5-2daf-4b0b-b7d1-f14a36af7269",
   "metadata": {},
   "source": [
    "Get the probability two random records match"
   ]
  },
  {
   "cell_type": "code",
   "execution_count": null,
   "id": "58db4ecb-a841-4709-880d-e5e15bb546e6",
   "metadata": {},
   "outputs": [],
   "source": [
    "deterministic_rules = [\n",
    "    \"l.utility_name_eia = r.utility_name_eia and levenshtein(l.street_address, r.street_address) <= 2\",\n",
    "    \"l.utility_name_eia = r.utility_name_eia and levenshtein(r.city, l.city) <= 2\",\n",
    "    \"l.city = r.city and levenshtein(l.utility_name_eia, r.utility_name_eia) <= 2\",\n",
    "    \"l.zip_code = r.zip_code and levenshtein(l.utility_name_eia, r.utility_name_eia) <= 2\",\n",
    "    \"l.street_address = r.street_address\"\n",
    "]\n",
    "\n",
    "linker.estimate_probability_two_random_records_match(deterministic_rules, recall=0.7)\n"
   ]
  },
  {
   "cell_type": "markdown",
   "id": "07363db8-2b31-4556-87d8-ea29c67a23c1",
   "metadata": {},
   "source": [
    "Estimate the u parameter"
   ]
  },
  {
   "cell_type": "code",
   "execution_count": null,
   "id": "927ea860-80f9-49ba-b5a0-0a56773bd1a6",
   "metadata": {},
   "outputs": [],
   "source": [
    "linker.estimate_u_using_random_sampling(target_rows=1e6)"
   ]
  },
  {
   "cell_type": "markdown",
   "id": "003e8a0b-e3d4-455c-b342-bc22d35495b4",
   "metadata": {},
   "source": [
    "Estimate the m parameter"
   ]
  },
  {
   "cell_type": "code",
   "execution_count": null,
   "id": "10c35a3b-b368-46c3-9076-3ecb5c09a412",
   "metadata": {},
   "outputs": [],
   "source": [
    "training_blocking_rule = \"l.utility_name_eia = r.utility_name_eia and l.city = r.city\"\n",
    "training_session_fname_sname = linker.estimate_parameters_using_expectation_maximisation(training_blocking_rule)"
   ]
  },
  {
   "cell_type": "code",
   "execution_count": null,
   "id": "9a446477-b373-4f32-89ed-e66b51269d40",
   "metadata": {},
   "outputs": [],
   "source": [
    "training_blocking_rule = \"l.street_address = r.street_address\"\n",
    "training_session_fname_sname = linker.estimate_parameters_using_expectation_maximisation(training_blocking_rule)"
   ]
  },
  {
   "cell_type": "markdown",
   "id": "defbcc7b-ce22-4dcb-894f-422052d3bb70",
   "metadata": {},
   "source": [
    "Seems like another the city comparison could be changed to have levels 1, 3, all other. Might make the all other less negative.\n",
    "\n",
    "City and zip code are probably very dependent, maybe don't include zip code?"
   ]
  },
  {
   "cell_type": "code",
   "execution_count": null,
   "id": "38502416-ed7d-4c2b-87b9-5cfbe8f0a603",
   "metadata": {},
   "outputs": [],
   "source": [
    "linker.match_weights_chart()"
   ]
  },
  {
   "cell_type": "markdown",
   "id": "06290547-1013-4af3-83c2-44932ec87d94",
   "metadata": {},
   "source": [
    "Need more emphasis on utility name here? and less on city?"
   ]
  },
  {
   "cell_type": "code",
   "execution_count": null,
   "id": "0d83180a-7e1c-44d8-b62e-f8f97fc90175",
   "metadata": {},
   "outputs": [],
   "source": [
    "linker.m_u_parameters_chart()"
   ]
  },
  {
   "cell_type": "code",
   "execution_count": null,
   "id": "81e32a39-1cca-480b-b54d-1d86a7ccadd0",
   "metadata": {},
   "outputs": [],
   "source": [
    "linker.unlinkables_chart()"
   ]
  },
  {
   "cell_type": "markdown",
   "id": "0d3acee9-dcb7-4c07-a575-77dd468ac57f",
   "metadata": {},
   "source": [
    "### Make Predictions"
   ]
  },
  {
   "cell_type": "code",
   "execution_count": null,
   "id": "9bb930b2-317e-4570-8bcf-b0505ef573c2",
   "metadata": {},
   "outputs": [],
   "source": [
    "df_predictions = linker.predict()"
   ]
  },
  {
   "cell_type": "code",
   "execution_count": null,
   "id": "1ac3c28c-d763-4ba7-9e1e-21968164c257",
   "metadata": {},
   "outputs": [],
   "source": [
    "df_predictions.as_pandas_dataframe().sort_values(by=\"match_probability\", ascending=False)"
   ]
  },
  {
   "cell_type": "code",
   "execution_count": null,
   "id": "16d54712-706c-48c5-bdd2-ce8bf456365d",
   "metadata": {},
   "outputs": [],
   "source": [
    "df_preds = df_predictions.as_pandas_dataframe()"
   ]
  },
  {
   "cell_type": "code",
   "execution_count": null,
   "id": "abad9cf4-0a9b-4500-ab86-c38f53f74f86",
   "metadata": {},
   "outputs": [],
   "source": [
    "df_preds[df_preds.match_probability > .5].sort_values(by=\"match_probability\")"
   ]
  },
  {
   "cell_type": "code",
   "execution_count": null,
   "id": "f5c3388b-6bcf-4668-8d1c-3a0a79bc7651",
   "metadata": {},
   "outputs": [],
   "source": [
    "df_preds.to_pickle(\"sec_eia_2005_preds\")"
   ]
  },
  {
   "cell_type": "markdown",
   "id": "beb5cb6f-4a8c-4430-93ea-b9f62b26eefd",
   "metadata": {},
   "source": [
    "# Take a look at predictions\n",
    "\n",
    "Left is the SEC dataframe, right is the EIA dataframe"
   ]
  },
  {
   "cell_type": "code",
   "execution_count": null,
   "id": "064d81a0-ad2e-46d5-a3bb-c294cc50bf3c",
   "metadata": {},
   "outputs": [],
   "source": [
    "sec_preds = df_preds.sort_values(by=\"match_probability\", ascending=False).groupby(\"unique_id_l\").first()"
   ]
  },
  {
   "cell_type": "code",
   "execution_count": null,
   "id": "2016a536-2aa0-4b97-8883-cf9a0e34b787",
   "metadata": {},
   "outputs": [],
   "source": [
    "eia_preds = df_preds.sort_values(by=\"match_probability\", ascending=False).groupby(\"unique_id_r\").first()"
   ]
  },
  {
   "cell_type": "code",
   "execution_count": null,
   "id": "a6757381-9f1f-4590-bcc1-a2989c04b58a",
   "metadata": {},
   "outputs": [],
   "source": [
    "sec_preds[sec_preds.match_probability >= .5]"
   ]
  },
  {
   "cell_type": "code",
   "execution_count": null,
   "id": "da60d957-3e5a-4a85-8e34-05e19344fbd0",
   "metadata": {},
   "outputs": [],
   "source": [
    "eia_preds[eia_preds.match_probability >= .5]"
   ]
  },
  {
   "cell_type": "code",
   "execution_count": null,
   "id": "9cce992b-7664-477a-a34e-4e9d627f6bbd",
   "metadata": {},
   "outputs": [],
   "source": [
    "def make_features(companies_sec: pd.DataFrame, utils_eia860: pd.DataFrame, block_col: str | None = \"year\"\n",
    "    ) -> pd.DataFrame:\n",
    "        \"\"\"Generate comparison features based on defined features.\n",
    "\n",
    "        The recordlinkage package helps us create feature vectors. For each column that\n",
    "        we have in both datasets, this method generates a column of feature vecotrs,\n",
    "        which contain values between 0 and 1 that are measures of the similarity between\n",
    "        each datapoint the two datasets (1 meaning the two datapoints were exactly the\n",
    "        same and 0 meaning they were not similar at all).\n",
    "\n",
    "        For more details see recordlinkage's documentaion:\n",
    "        https://recordlinkage.readthedocs.io/en/latest/ref-compare.html\n",
    "\n",
    "        Args:\n",
    "            companies_sec:\n",
    "            utils_eia860:\n",
    "            block_col:  If you want to restrict possible matches\n",
    "                between ferc_df and eia_df based on a particular column,\n",
    "                block_col is the column name of blocking column. Default is\n",
    "                ``year``. If None, this method will generate features between all\n",
    "                possible matches.\n",
    "\n",
    "        Returns:\n",
    "            a dataframe of feature vectors between SEC and EIA.\n",
    "        \"\"\"\n",
    "        compare_cl = rl.Compare(\n",
    "            features=[\n",
    "                String(\n",
    "                    \"utility_name_eia\",\n",
    "                    \"utility_name_eia\",\n",
    "                    label=\"utility_name_eia\",\n",
    "                    method=\"jarowinkler\",\n",
    "                ),\n",
    "                String(\n",
    "                    \"city\",\n",
    "                    \"city\",\n",
    "                    label=\"city\",\n",
    "                    method=\"jarowinkler\",\n",
    "                ),\n",
    "                String(\n",
    "                    \"street_address\",\n",
    "                    \"street_address\",\n",
    "                    label=\"street_address\",\n",
    "                    method=\"jarowinkler\",\n",
    "                ),\n",
    "                String(\n",
    "                    \"address_2\",\n",
    "                    \"address_2\",\n",
    "                    label=\"address_2\",\n",
    "                    method=\"jarowinkler\",\n",
    "                ),\n",
    "                Exact(\n",
    "                    \"zip_code\",\n",
    "                    \"zip_code\",\n",
    "                    label=\"zip_code\",\n",
    "                ),\n",
    "            ]\n",
    "        )\n",
    "\n",
    "        # generate the index of all candidate features\n",
    "        indexer = rl.Index()\n",
    "        indexer.block(block_col)\n",
    "        feature_index = indexer.index(companies_sec, utils_eia860)\n",
    "\n",
    "        features = compare_cl.compute(feature_index, companies_sec, utils_eia860)\n",
    "        return features"
   ]
  },
  {
   "cell_type": "code",
   "execution_count": null,
   "id": "195c2498-9625-4888-bdd7-5563ad7cd67d",
   "metadata": {},
   "outputs": [],
   "source": [
    "%%time\n",
    "features = make_features(companies_sec=companies_sec, utils_eia860=utils_eia860)"
   ]
  },
  {
   "cell_type": "code",
   "execution_count": null,
   "id": "a1020b99-1d4d-43c8-9ead-28f8b82bf5d1",
   "metadata": {},
   "outputs": [],
   "source": []
  }
 ],
 "metadata": {
  "kernelspec": {
   "display_name": "Python 3 (ipykernel)",
   "language": "python",
   "name": "python3"
  },
  "language_info": {
   "codemirror_mode": {
    "name": "ipython",
    "version": 3
   },
   "file_extension": ".py",
   "mimetype": "text/x-python",
   "name": "python",
   "nbconvert_exporter": "python",
   "pygments_lexer": "ipython3",
   "version": "3.10.8"
  }
 },
 "nbformat": 4,
 "nbformat_minor": 5
}
