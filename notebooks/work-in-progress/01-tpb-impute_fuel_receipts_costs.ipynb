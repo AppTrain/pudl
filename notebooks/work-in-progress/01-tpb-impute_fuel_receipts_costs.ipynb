{
 "cells": [
  {
   "cell_type": "markdown",
   "metadata": {},
   "source": [
    "# Initial Application of GBDT for Fuel Price Imputation\n",
    "Notes for future work:\n",
    "* the immediate next step should be to implement a better cross validation process. The current one (random row sampling) encourages overfitting due to leakage/autocorrelation between samples at the same plant. Latitude and Longitude probably shouldn't work as well as they do right now.\n",
    "    * examine missing fuel costs to see how they are distributed (are the same plants missing every time? Is the missingness constant in time? etc)\n",
    "    * design a CV process that emulates that as best as possible, like maybe selecting random whole plants via GroupShuffleSplit or something\n",
    "* consider our objectives: do we want a weighted fuel price or raw prices?\n",
    "* then do feature engineering/selection\n",
    "* could look at fuel costs/quantities from FERC Form 1 for comparision. They give annual figures. Could use for aggregate validation.\n",
    "* reverse engineer the EIA API and see if they include redacted data. Could use that for ultimate validation."
   ]
  },
  {
   "cell_type": "code",
   "execution_count": 1,
   "metadata": {},
   "outputs": [],
   "source": [
    "%load_ext autoreload\n",
    "%autoreload 2"
   ]
  },
  {
   "cell_type": "code",
   "execution_count": 4,
   "metadata": {},
   "outputs": [],
   "source": [
    "import pathlib\n",
    "import os\n",
    "\n",
    "import matplotlib.pyplot as plt\n",
    "import matplotlib as mpl\n",
    "import numpy as np\n",
    "import pandas as pd\n",
    "import seaborn as sns\n",
    "import lightgbm as lgbm\n",
    "from pandas_profiling import ProfileReport\n",
    "import sqlalchemy as sa\n",
    "\n",
    "# Local libraries\n",
    "import pudl"
   ]
  },
  {
   "cell_type": "markdown",
   "metadata": {},
   "source": [
    "# Notebook Parameters"
   ]
  },
  {
   "cell_type": "code",
   "execution_count": 5,
   "metadata": {},
   "outputs": [],
   "source": [
    "sns.set()\n",
    "%matplotlib inline\n",
    "mpl.rcParams['figure.figsize'] = (10,4)\n",
    "#mpl.rcParams['figure.dpi'] = 150\n",
    "pd.options.display.max_columns = 100\n",
    "pd.options.display.max_rows = 100"
   ]
  },
  {
   "cell_type": "code",
   "execution_count": 6,
   "metadata": {},
   "outputs": [
    {
     "data": {
      "text/plain": [
       "{'pudl_in': '/home/tpb/catalyst/workspace',\n",
       " 'data_dir': '/home/tpb/catalyst/workspace/data',\n",
       " 'settings_dir': '/home/tpb/catalyst/workspace/settings',\n",
       " 'pudl_out': '/home/tpb/catalyst/workspace',\n",
       " 'sqlite_dir': '/home/tpb/catalyst/workspace/sqlite',\n",
       " 'parquet_dir': '/home/tpb/catalyst/workspace/parquet',\n",
       " 'ferc1_db': 'sqlite:////home/tpb/catalyst/workspace/sqlite/ferc1.sqlite',\n",
       " 'pudl_db': 'sqlite:////home/tpb/catalyst/workspace/sqlite/pudl.sqlite',\n",
       " 'censusdp1tract_db': 'sqlite:////home/tpb/catalyst/workspace/sqlite/censusdp1tract.sqlite'}"
      ]
     },
     "metadata": {},
     "output_type": "display_data"
    },
    {
     "data": {
      "text/plain": [
       "Engine(sqlite:////home/tpb/catalyst/workspace/sqlite/pudl.sqlite)"
      ]
     },
     "metadata": {},
     "output_type": "display_data"
    }
   ],
   "source": [
    "pudl_settings = pudl.workspace.setup.get_defaults()\n",
    "display(pudl_settings)\n",
    "\n",
    "pudl_engine = sa.create_engine(pudl_settings['pudl_db'])\n",
    "display(pudl_engine)"
   ]
  },
  {
   "cell_type": "code",
   "execution_count": 9,
   "metadata": {},
   "outputs": [],
   "source": [
    "assert os.environ[\"API_KEY_EIA\"]"
   ]
  },
  {
   "cell_type": "markdown",
   "metadata": {},
   "source": [
    "# Load Data\n",
    "* Given the above parameters and functions, it should now be possible to load the required data into local variables for further wrangling, analysis, and visualization.\n",
    "* If the data is not yet present on the machine of the person running the notebook, this step should also acquire the data from its original source, and place it in the appropriate location under `<PUDL_IN>/data/local/`.\n",
    "* If there are steps which have to be done manually here, put them first so that they fail first if the user hasn't read the instructions, and they can fix the situation before a bunch of other work gets done. Try to minimize the amount of work in the filesystem that has to be done manually though.\n",
    "* If this process takes a little while, don't be shy about producing `logging` output.\n",
    "* Using the `%%time` cell magic can also help users understand which pieces of work / data acquisition are hard:"
   ]
  },
  {
   "cell_type": "code",
   "execution_count": 10,
   "metadata": {},
   "outputs": [
    {
     "name": "stdout",
     "output_type": "stream",
     "text": [
      "CPU times: user 6.37 ms, sys: 1.75 ms, total: 8.12 ms\n",
      "Wall time: 7.86 ms\n"
     ]
    }
   ],
   "source": [
    "%%time\n",
    "pudl_out = pudl.output.pudltabl.PudlTabl(\n",
    "    freq=None,\n",
    "    start_date=None,\n",
    "    end_date=None,\n",
    "    pudl_engine=pudl_engine,\n",
    "    fill_fuel_cost=False,  # do it manually to preserve all values\n",
    ")\n",
    "# don't use pudl_out because it drops 10k+ rows that lack utility info that I probably don't need anyway\n",
    "# frc = pudl_out.frc_eia923()"
   ]
  },
  {
   "cell_type": "code",
   "execution_count": 11,
   "metadata": {},
   "outputs": [
    {
     "name": "stdout",
     "output_type": "stream",
     "text": [
      "CPU times: user 6.64 s, sys: 1.15 s, total: 7.79 s\n",
      "Wall time: 7.81 s\n"
     ]
    }
   ],
   "source": [
    "%%time\n",
    "frc = pd.read_sql(\n",
    "    \"\"\"\n",
    "    -- SQLite\n",
    "    SELECT\n",
    "        frc.plant_id_eia,\n",
    "        frc.report_date,\n",
    "        frc.contract_type_code,\n",
    "        frc.contract_expiration_date,\n",
    "        frc.energy_source_code,\n",
    "        frc.fuel_type_code_pudl,\n",
    "        frc.fuel_group_code,\n",
    "        frc.mine_id_pudl,\n",
    "        frc.supplier_name,\n",
    "        frc.fuel_received_units,\n",
    "        frc.fuel_mmbtu_per_unit,\n",
    "        frc.sulfur_content_pct,\n",
    "        frc.ash_content_pct,\n",
    "        frc.mercury_content_ppm,\n",
    "        frc.fuel_cost_per_mmbtu,\n",
    "        frc.primary_transportation_mode_code,\n",
    "        frc.secondary_transportation_mode_code,\n",
    "        frc.natural_gas_transport_code,\n",
    "        frc.natural_gas_delivery_contract_type_code,\n",
    "        frc.moisture_content_pct,\n",
    "        frc.chlorine_content_ppm,\n",
    "\n",
    "        mine.mine_name,\n",
    "        mine.mine_type,\n",
    "        mine.county_id_fips as mine_county_id_fips,\n",
    "        mine.state as mine_state,\n",
    "\n",
    "        entity.ferc_cogen_status,\n",
    "        entity.ferc_exempt_wholesale_generator,\n",
    "        entity.ferc_small_power_producer,\n",
    "        entity.iso_rto_code,\n",
    "        entity.latitude,\n",
    "        entity.longitude,\n",
    "        entity.state,\n",
    "        entity.county,\n",
    "        entity.sector_name_eia\n",
    "    FROM fuel_receipts_costs_eia923 as frc\n",
    "    LEFT JOIN coalmine_eia923 as mine\n",
    "        USING (mine_id_pudl)\n",
    "    LEFT JOIN plants_entity_eia as entity\n",
    "        USING (plant_id_eia)\n",
    "    ;\n",
    "    \"\"\", pudl_engine\n",
    ")"
   ]
  },
  {
   "cell_type": "code",
   "execution_count": 12,
   "metadata": {},
   "outputs": [
    {
     "data": {
      "text/html": [
       "<div>\n",
       "<style scoped>\n",
       "    .dataframe tbody tr th:only-of-type {\n",
       "        vertical-align: middle;\n",
       "    }\n",
       "\n",
       "    .dataframe tbody tr th {\n",
       "        vertical-align: top;\n",
       "    }\n",
       "\n",
       "    .dataframe thead th {\n",
       "        text-align: right;\n",
       "    }\n",
       "</style>\n",
       "<table border=\"1\" class=\"dataframe\">\n",
       "  <thead>\n",
       "    <tr style=\"text-align: right;\">\n",
       "      <th></th>\n",
       "      <th>plant_id_eia</th>\n",
       "      <th>report_date</th>\n",
       "      <th>contract_type_code</th>\n",
       "      <th>contract_expiration_date</th>\n",
       "      <th>energy_source_code</th>\n",
       "      <th>fuel_type_code_pudl</th>\n",
       "      <th>fuel_group_code</th>\n",
       "      <th>mine_id_pudl</th>\n",
       "      <th>supplier_name</th>\n",
       "      <th>fuel_received_units</th>\n",
       "      <th>fuel_mmbtu_per_unit</th>\n",
       "      <th>sulfur_content_pct</th>\n",
       "      <th>ash_content_pct</th>\n",
       "      <th>mercury_content_ppm</th>\n",
       "      <th>fuel_cost_per_mmbtu</th>\n",
       "      <th>primary_transportation_mode_code</th>\n",
       "      <th>secondary_transportation_mode_code</th>\n",
       "      <th>natural_gas_transport_code</th>\n",
       "      <th>natural_gas_delivery_contract_type_code</th>\n",
       "      <th>moisture_content_pct</th>\n",
       "      <th>chlorine_content_ppm</th>\n",
       "      <th>mine_name</th>\n",
       "      <th>mine_type</th>\n",
       "      <th>mine_county_id_fips</th>\n",
       "      <th>mine_state</th>\n",
       "      <th>ferc_cogen_status</th>\n",
       "      <th>ferc_exempt_wholesale_generator</th>\n",
       "      <th>ferc_small_power_producer</th>\n",
       "      <th>iso_rto_code</th>\n",
       "      <th>latitude</th>\n",
       "      <th>longitude</th>\n",
       "      <th>state</th>\n",
       "      <th>county</th>\n",
       "      <th>sector_name_eia</th>\n",
       "    </tr>\n",
       "  </thead>\n",
       "  <tbody>\n",
       "    <tr>\n",
       "      <th>420181</th>\n",
       "      <td>6043</td>\n",
       "      <td>2017-01-01</td>\n",
       "      <td>C</td>\n",
       "      <td>2025-07-01</td>\n",
       "      <td>NG</td>\n",
       "      <td>gas</td>\n",
       "      <td>natural_gas</td>\n",
       "      <td>NaN</td>\n",
       "      <td>florida gas</td>\n",
       "      <td>1205722.0</td>\n",
       "      <td>1.017</td>\n",
       "      <td>0.0</td>\n",
       "      <td>0.0</td>\n",
       "      <td>0.0</td>\n",
       "      <td>4.856</td>\n",
       "      <td>PL</td>\n",
       "      <td>None</td>\n",
       "      <td>firm</td>\n",
       "      <td>firm</td>\n",
       "      <td>NaN</td>\n",
       "      <td>NaN</td>\n",
       "      <td>None</td>\n",
       "      <td>None</td>\n",
       "      <td>None</td>\n",
       "      <td>None</td>\n",
       "      <td>0.0</td>\n",
       "      <td>0.0</td>\n",
       "      <td>0.0</td>\n",
       "      <td>None</td>\n",
       "      <td>27.0536</td>\n",
       "      <td>-80.5628</td>\n",
       "      <td>FL</td>\n",
       "      <td>Martin</td>\n",
       "      <td>Electric Utility</td>\n",
       "    </tr>\n",
       "    <tr>\n",
       "      <th>4139</th>\n",
       "      <td>50639</td>\n",
       "      <td>2008-01-01</td>\n",
       "      <td>C</td>\n",
       "      <td>None</td>\n",
       "      <td>NG</td>\n",
       "      <td>gas</td>\n",
       "      <td>natural_gas</td>\n",
       "      <td>NaN</td>\n",
       "      <td>bpe</td>\n",
       "      <td>30693.0</td>\n",
       "      <td>1.010</td>\n",
       "      <td>0.0</td>\n",
       "      <td>0.0</td>\n",
       "      <td>NaN</td>\n",
       "      <td>NaN</td>\n",
       "      <td>None</td>\n",
       "      <td>None</td>\n",
       "      <td>firm</td>\n",
       "      <td></td>\n",
       "      <td>NaN</td>\n",
       "      <td>NaN</td>\n",
       "      <td>None</td>\n",
       "      <td>None</td>\n",
       "      <td>None</td>\n",
       "      <td>None</td>\n",
       "      <td>NaN</td>\n",
       "      <td>0.0</td>\n",
       "      <td>NaN</td>\n",
       "      <td>MISO</td>\n",
       "      <td>46.7243</td>\n",
       "      <td>-92.4298</td>\n",
       "      <td>MN</td>\n",
       "      <td>Carlton</td>\n",
       "      <td>Industrial CHP</td>\n",
       "    </tr>\n",
       "  </tbody>\n",
       "</table>\n",
       "</div>"
      ],
      "text/plain": [
       "        plant_id_eia report_date contract_type_code contract_expiration_date energy_source_code fuel_type_code_pudl fuel_group_code  mine_id_pudl supplier_name  fuel_received_units  fuel_mmbtu_per_unit  sulfur_content_pct  ash_content_pct  mercury_content_ppm  fuel_cost_per_mmbtu primary_transportation_mode_code secondary_transportation_mode_code natural_gas_transport_code natural_gas_delivery_contract_type_code  moisture_content_pct  chlorine_content_ppm mine_name mine_type mine_county_id_fips mine_state  ferc_cogen_status  ferc_exempt_wholesale_generator  ferc_small_power_producer iso_rto_code  latitude  longitude state   county   sector_name_eia\n",
       "420181          6043  2017-01-01                  C               2025-07-01                 NG                 gas     natural_gas           NaN   florida gas            1205722.0                1.017                 0.0              0.0                  0.0                4.856                               PL                               None                       firm                                    firm                   NaN                   NaN      None      None                None       None                0.0                              0.0                        0.0         None   27.0536   -80.5628    FL   Martin  Electric Utility\n",
       "4139           50639  2008-01-01                  C                     None                 NG                 gas     natural_gas           NaN           bpe              30693.0                1.010                 0.0              0.0                  NaN                  NaN                             None                               None                       firm                                                           NaN                   NaN      None      None                None       None                NaN                              0.0                        NaN         MISO   46.7243   -92.4298    MN  Carlton    Industrial CHP"
      ]
     },
     "execution_count": 12,
     "metadata": {},
     "output_type": "execute_result"
    }
   ],
   "source": [
    "frc.sample(2, random_state=1)"
   ]
  },
  {
   "cell_type": "code",
   "execution_count": 13,
   "metadata": {},
   "outputs": [
    {
     "name": "stdout",
     "output_type": "stream",
     "text": [
      "<class 'pandas.core.frame.DataFrame'>\n",
      "RangeIndex: 571400 entries, 0 to 571399\n",
      "Data columns (total 34 columns):\n",
      " #   Column                                   Non-Null Count   Dtype  \n",
      "---  ------                                   --------------   -----  \n",
      " 0   plant_id_eia                             571400 non-null  int64  \n",
      " 1   report_date                              571400 non-null  object \n",
      " 2   contract_type_code                       571162 non-null  object \n",
      " 3   contract_expiration_date                 248824 non-null  object \n",
      " 4   energy_source_code                       571399 non-null  object \n",
      " 5   fuel_type_code_pudl                      571399 non-null  object \n",
      " 6   fuel_group_code                          571399 non-null  object \n",
      " 7   mine_id_pudl                             208764 non-null  float64\n",
      " 8   supplier_name                            571397 non-null  object \n",
      " 9   fuel_received_units                      571400 non-null  float64\n",
      " 10  fuel_mmbtu_per_unit                      571400 non-null  float64\n",
      " 11  sulfur_content_pct                       571400 non-null  float64\n",
      " 12  ash_content_pct                          571400 non-null  float64\n",
      " 13  mercury_content_ppm                      281918 non-null  float64\n",
      " 14  fuel_cost_per_mmbtu                      381439 non-null  float64\n",
      " 15  primary_transportation_mode_code         513209 non-null  object \n",
      " 16  secondary_transportation_mode_code       32675 non-null   object \n",
      " 17  natural_gas_transport_code               571400 non-null  object \n",
      " 18  natural_gas_delivery_contract_type_code  571400 non-null  object \n",
      " 19  moisture_content_pct                     51697 non-null   float64\n",
      " 20  chlorine_content_ppm                     51697 non-null   float64\n",
      " 21  mine_name                                208764 non-null  object \n",
      " 22  mine_type                                208689 non-null  object \n",
      " 23  mine_county_id_fips                      205339 non-null  object \n",
      " 24  mine_state                               208764 non-null  object \n",
      " 25  ferc_cogen_status                        544189 non-null  float64\n",
      " 26  ferc_exempt_wholesale_generator          542252 non-null  float64\n",
      " 27  ferc_small_power_producer                557119 non-null  float64\n",
      " 28  iso_rto_code                             350436 non-null  object \n",
      " 29  latitude                                 558938 non-null  float64\n",
      " 30  longitude                                560503 non-null  float64\n",
      " 31  state                                    560889 non-null  object \n",
      " 32  county                                   549388 non-null  object \n",
      " 33  sector_name_eia                          532711 non-null  object \n",
      "dtypes: float64(14), int64(1), object(19)\n",
      "memory usage: 148.2+ MB\n"
     ]
    }
   ],
   "source": [
    "frc.info()"
   ]
  },
  {
   "cell_type": "code",
   "execution_count": 14,
   "metadata": {},
   "outputs": [
    {
     "name": "stdout",
     "output_type": "stream",
     "text": [
      "CPU times: user 887 ms, sys: 5.82 ms, total: 893 ms\n",
      "Wall time: 4.52 s\n"
     ]
    }
   ],
   "source": [
    "%time fuel_costs_avg_eiaapi = pudl.output.eia923.get_fuel_cost_avg_eiaapi(pudl.output.eia923.FUEL_COST_CATEGORIES_EIAAPI)"
   ]
  },
  {
   "cell_type": "code",
   "execution_count": 15,
   "metadata": {},
   "outputs": [
    {
     "data": {
      "text/html": [
       "<div>\n",
       "<style scoped>\n",
       "    .dataframe tbody tr th:only-of-type {\n",
       "        vertical-align: middle;\n",
       "    }\n",
       "\n",
       "    .dataframe tbody tr th {\n",
       "        vertical-align: top;\n",
       "    }\n",
       "\n",
       "    .dataframe thead th {\n",
       "        text-align: right;\n",
       "    }\n",
       "</style>\n",
       "<table border=\"1\" class=\"dataframe\">\n",
       "  <thead>\n",
       "    <tr style=\"text-align: right;\">\n",
       "      <th></th>\n",
       "      <th>report_date</th>\n",
       "      <th>fuel_cost_per_unit</th>\n",
       "      <th>state</th>\n",
       "      <th>units</th>\n",
       "      <th>series_id</th>\n",
       "      <th>name</th>\n",
       "      <th>fuel_type_code_pudl</th>\n",
       "    </tr>\n",
       "  </thead>\n",
       "  <tbody>\n",
       "    <tr>\n",
       "      <th>0</th>\n",
       "      <td>2022-03-01</td>\n",
       "      <td>58.55</td>\n",
       "      <td>AK</td>\n",
       "      <td>dollars per tons</td>\n",
       "      <td>ELEC.COST.COW-AK-98.M</td>\n",
       "      <td>Average cost of fossil fuels for electricity g...</td>\n",
       "      <td>coal</td>\n",
       "    </tr>\n",
       "    <tr>\n",
       "      <th>1</th>\n",
       "      <td>2022-02-01</td>\n",
       "      <td>64.30</td>\n",
       "      <td>AK</td>\n",
       "      <td>dollars per tons</td>\n",
       "      <td>ELEC.COST.COW-AK-98.M</td>\n",
       "      <td>Average cost of fossil fuels for electricity g...</td>\n",
       "      <td>coal</td>\n",
       "    </tr>\n",
       "    <tr>\n",
       "      <th>2</th>\n",
       "      <td>2022-01-01</td>\n",
       "      <td>62.26</td>\n",
       "      <td>AK</td>\n",
       "      <td>dollars per tons</td>\n",
       "      <td>ELEC.COST.COW-AK-98.M</td>\n",
       "      <td>Average cost of fossil fuels for electricity g...</td>\n",
       "      <td>coal</td>\n",
       "    </tr>\n",
       "    <tr>\n",
       "      <th>3</th>\n",
       "      <td>2021-12-01</td>\n",
       "      <td>50.84</td>\n",
       "      <td>AK</td>\n",
       "      <td>dollars per tons</td>\n",
       "      <td>ELEC.COST.COW-AK-98.M</td>\n",
       "      <td>Average cost of fossil fuels for electricity g...</td>\n",
       "      <td>coal</td>\n",
       "    </tr>\n",
       "    <tr>\n",
       "      <th>4</th>\n",
       "      <td>2021-11-01</td>\n",
       "      <td>49.21</td>\n",
       "      <td>AK</td>\n",
       "      <td>dollars per tons</td>\n",
       "      <td>ELEC.COST.COW-AK-98.M</td>\n",
       "      <td>Average cost of fossil fuels for electricity g...</td>\n",
       "      <td>coal</td>\n",
       "    </tr>\n",
       "  </tbody>\n",
       "</table>\n",
       "</div>"
      ],
      "text/plain": [
       "  report_date  fuel_cost_per_unit state             units              series_id                                               name fuel_type_code_pudl\n",
       "0  2022-03-01               58.55    AK  dollars per tons  ELEC.COST.COW-AK-98.M  Average cost of fossil fuels for electricity g...                coal\n",
       "1  2022-02-01               64.30    AK  dollars per tons  ELEC.COST.COW-AK-98.M  Average cost of fossil fuels for electricity g...                coal\n",
       "2  2022-01-01               62.26    AK  dollars per tons  ELEC.COST.COW-AK-98.M  Average cost of fossil fuels for electricity g...                coal\n",
       "3  2021-12-01               50.84    AK  dollars per tons  ELEC.COST.COW-AK-98.M  Average cost of fossil fuels for electricity g...                coal\n",
       "4  2021-11-01               49.21    AK  dollars per tons  ELEC.COST.COW-AK-98.M  Average cost of fossil fuels for electricity g...                coal"
      ]
     },
     "execution_count": 15,
     "metadata": {},
     "output_type": "execute_result"
    }
   ],
   "source": [
    "fuel_costs_avg_eiaapi.head()"
   ]
  },
  {
   "cell_type": "code",
   "execution_count": 16,
   "metadata": {},
   "outputs": [
    {
     "data": {
      "text/html": [
       "<div>\n",
       "<style scoped>\n",
       "    .dataframe tbody tr th:only-of-type {\n",
       "        vertical-align: middle;\n",
       "    }\n",
       "\n",
       "    .dataframe tbody tr th {\n",
       "        vertical-align: top;\n",
       "    }\n",
       "\n",
       "    .dataframe thead th {\n",
       "        text-align: right;\n",
       "    }\n",
       "</style>\n",
       "<table border=\"1\" class=\"dataframe\">\n",
       "  <thead>\n",
       "    <tr style=\"text-align: right;\">\n",
       "      <th></th>\n",
       "      <th>plant_id_eia</th>\n",
       "      <th>report_date</th>\n",
       "      <th>natural_gas_pipeline_name_1</th>\n",
       "      <th>natural_gas_pipeline_name_2</th>\n",
       "      <th>natural_gas_pipeline_name_3</th>\n",
       "      <th>regulatory_status_code</th>\n",
       "      <th>water_source</th>\n",
       "    </tr>\n",
       "  </thead>\n",
       "  <tbody>\n",
       "    <tr>\n",
       "      <th>0</th>\n",
       "      <td>64879</td>\n",
       "      <td>2021-01-01</td>\n",
       "      <td>None</td>\n",
       "      <td>None</td>\n",
       "      <td>None</td>\n",
       "      <td>None</td>\n",
       "      <td>None</td>\n",
       "    </tr>\n",
       "    <tr>\n",
       "      <th>1</th>\n",
       "      <td>64878</td>\n",
       "      <td>2021-01-01</td>\n",
       "      <td>None</td>\n",
       "      <td>None</td>\n",
       "      <td>None</td>\n",
       "      <td>None</td>\n",
       "      <td>None</td>\n",
       "    </tr>\n",
       "  </tbody>\n",
       "</table>\n",
       "</div>"
      ],
      "text/plain": [
       "   plant_id_eia report_date natural_gas_pipeline_name_1 natural_gas_pipeline_name_2 natural_gas_pipeline_name_3 regulatory_status_code water_source\n",
       "0         64879  2021-01-01                        None                        None                        None                   None         None\n",
       "1         64878  2021-01-01                        None                        None                        None                   None         None"
      ]
     },
     "execution_count": 16,
     "metadata": {},
     "output_type": "execute_result"
    }
   ],
   "source": [
    "plant_info = pd.read_sql(\n",
    "    \"\"\"\n",
    "    SELECT\n",
    "        plant_id_eia,\n",
    "        report_date,\n",
    "        natural_gas_pipeline_name_1,\n",
    "        natural_gas_pipeline_name_2,\n",
    "        natural_gas_pipeline_name_3,\n",
    "        regulatory_status_code,\n",
    "        water_source\n",
    "    FROM plants_eia860\n",
    "    ;        \n",
    "    \"\"\", pudl_engine)\n",
    "plant_info.head(2)"
   ]
  },
  {
   "cell_type": "code",
   "execution_count": 17,
   "metadata": {},
   "outputs": [
    {
     "name": "stdout",
     "output_type": "stream",
     "text": [
      "<class 'pandas.core.frame.DataFrame'>\n",
      "RangeIndex: 171148 entries, 0 to 171147\n",
      "Data columns (total 7 columns):\n",
      " #   Column                       Non-Null Count   Dtype \n",
      "---  ------                       --------------   ----- \n",
      " 0   plant_id_eia                 171148 non-null  int64 \n",
      " 1   report_date                  171148 non-null  object\n",
      " 2   natural_gas_pipeline_name_1  15288 non-null   object\n",
      " 3   natural_gas_pipeline_name_2  1003 non-null    object\n",
      " 4   natural_gas_pipeline_name_3  209 non-null     object\n",
      " 5   regulatory_status_code       128074 non-null  object\n",
      " 6   water_source                 90361 non-null   object\n",
      "dtypes: int64(1), object(6)\n",
      "memory usage: 9.1+ MB\n"
     ]
    }
   ],
   "source": [
    "plant_info.info()"
   ]
  },
  {
   "cell_type": "code",
   "execution_count": 18,
   "metadata": {},
   "outputs": [],
   "source": [
    "frc = pudl.helpers.clean_merge_asof(\n",
    "            left=frc,\n",
    "            right=plant_info,\n",
    "            by=[\"plant_id_eia\"],\n",
    "        )"
   ]
  },
  {
   "cell_type": "code",
   "execution_count": 19,
   "metadata": {},
   "outputs": [
    {
     "data": {
      "text/plain": [
       "(571400, 39)"
      ]
     },
     "execution_count": 19,
     "metadata": {},
     "output_type": "execute_result"
    }
   ],
   "source": [
    "frc.shape"
   ]
  },
  {
   "cell_type": "code",
   "execution_count": null,
   "metadata": {},
   "outputs": [],
   "source": []
  },
  {
   "cell_type": "markdown",
   "metadata": {},
   "source": [
    "# Data Analysis and Visualization"
   ]
  },
  {
   "cell_type": "code",
   "execution_count": 20,
   "metadata": {},
   "outputs": [],
   "source": [
    "profile = ProfileReport(frc, html={'style': {'full_width': True}}, explorative=True)"
   ]
  },
  {
   "cell_type": "code",
   "execution_count": null,
   "metadata": {
    "tags": []
   },
   "outputs": [],
   "source": [
    "# very useful but takes a couple minutes and makes the notebook large (17 MB)\n",
    "#profile.to_notebook_iframe()"
   ]
  },
  {
   "cell_type": "code",
   "execution_count": 21,
   "metadata": {},
   "outputs": [
    {
     "data": {
      "text/plain": [
       "<AxesSubplot:>"
      ]
     },
     "execution_count": 21,
     "metadata": {},
     "output_type": "execute_result"
    },
    {
     "data": {
      "image/png": "[encoded data removed]",
      "text/plain": [
       "<Figure size 720x288 with 1 Axes>"
      ]
     },
     "metadata": {
      "needs_background": "light"
     },
     "output_type": "display_data"
    }
   ],
   "source": [
    "frc['fuel_cost_per_mmbtu'].hist(bins=200, log=True)"
   ]
  },
  {
   "cell_type": "code",
   "execution_count": 22,
   "metadata": {},
   "outputs": [
    {
     "data": {
      "text/plain": [
       "<AxesSubplot:>"
      ]
     },
     "execution_count": 22,
     "metadata": {},
     "output_type": "execute_result"
    },
    {
     "data": {
      "image/png": "[encoded data removed]",
      "text/plain": [
       "<Figure size 720x288 with 1 Axes>"
      ]
     },
     "metadata": {
      "needs_background": "light"
     },
     "output_type": "display_data"
    }
   ],
   "source": [
    "frc.loc[frc['fuel_cost_per_mmbtu'].gt(0), 'fuel_cost_per_mmbtu'].transform(np.log10).hist(bins=200, log=False)"
   ]
  },
  {
   "cell_type": "code",
   "execution_count": 23,
   "metadata": {},
   "outputs": [
    {
     "data": {
      "text/plain": [
       "<AxesSubplot:>"
      ]
     },
     "execution_count": 23,
     "metadata": {},
     "output_type": "execute_result"
    },
    {
     "data": {
      "image/png": "[encoded data removed]",
      "text/plain": [
       "<Figure size 720x288 with 1 Axes>"
      ]
     },
     "metadata": {
      "needs_background": "light"
     },
     "output_type": "display_data"
    }
   ],
   "source": [
    "frc.loc[frc['fuel_cost_per_mmbtu'].gt(0), 'fuel_cost_per_mmbtu'].transform(np.log10).hist(bins=200, log=True)"
   ]
  },
  {
   "cell_type": "code",
   "execution_count": 24,
   "metadata": {},
   "outputs": [
    {
     "data": {
      "text/plain": [
       "mean     0.000033\n",
       "sum     19.000000\n",
       "Name: fuel_cost_per_mmbtu, dtype: float64"
      ]
     },
     "execution_count": 24,
     "metadata": {},
     "output_type": "execute_result"
    }
   ],
   "source": [
    "frc['fuel_cost_per_mmbtu'].lt(0).agg(['mean', 'sum'])"
   ]
  },
  {
   "cell_type": "markdown",
   "metadata": {},
   "source": [
    "## Quick Test of an ML Model\n",
    "Use the same features as the groupby model.\n",
    "\n",
    "Notes:\n",
    "* groupby model outperforms on training set but overfits and loses on test set"
   ]
  },
  {
   "cell_type": "code",
   "execution_count": 25,
   "metadata": {},
   "outputs": [],
   "source": [
    "from sklearn.model_selection import train_test_split"
   ]
  },
  {
   "cell_type": "code",
   "execution_count": 26,
   "metadata": {},
   "outputs": [],
   "source": [
    "categorical_features = ['state', 'fuel_group_code', 'contract_type_code', 'primary_transportation_mode_code', 'energy_source_code']\n",
    "numeric_features = ['report_date', 'fuel_received_units', 'latitude', 'longitude',]\n",
    "target = ['fuel_cost_per_mmbtu']\n",
    "no_nan = frc.loc[:, categorical_features + numeric_features + target].dropna(subset='fuel_cost_per_mmbtu')\n",
    "no_nan.loc[:, categorical_features] = no_nan.loc[:, categorical_features].astype('category')"
   ]
  },
  {
   "cell_type": "code",
   "execution_count": 27,
   "metadata": {},
   "outputs": [],
   "source": [
    "def convert_datetime_to_n_days_from_start(ser: pd.Series) -> pd.Series:\n",
    "    # could generalize w/ df.select_dtypes('datetime')\n",
    "    start = ser.min()\n",
    "    delta = (ser - start).dt.days\n",
    "    delta = pd.to_numeric(delta, downcast='integer') # for memory efficiency\n",
    "    return delta"
   ]
  },
  {
   "cell_type": "code",
   "execution_count": 28,
   "metadata": {},
   "outputs": [
    {
     "data": {
      "text/plain": [
       "report_date    datetime64[ns]\n",
       "report_date             int16\n",
       "dtype: object"
      ]
     },
     "execution_count": 28,
     "metadata": {},
     "output_type": "execute_result"
    }
   ],
   "source": [
    "test = no_nan.sample(5)['report_date']\n",
    "pd.concat([test, convert_datetime_to_n_days_from_start(test)], axis=1).dtypes"
   ]
  },
  {
   "cell_type": "code",
   "execution_count": 29,
   "metadata": {},
   "outputs": [],
   "source": [
    "no_nan.loc[:, 'report_date'] = convert_datetime_to_n_days_from_start(no_nan.loc[:, 'report_date'])"
   ]
  },
  {
   "cell_type": "code",
   "execution_count": 30,
   "metadata": {},
   "outputs": [],
   "source": [
    "no_nan.loc[:, target] = no_nan.loc[:, target].clip(upper=1000) # blunt ridiculous outliers"
   ]
  },
  {
   "cell_type": "code",
   "execution_count": 31,
   "metadata": {},
   "outputs": [
    {
     "name": "stderr",
     "output_type": "stream",
     "text": [
      "*c* argument looks like a single numeric RGB or RGBA sequence, which should be avoided as value-mapping will have precedence in case its length matches with *x* & *y*.  Please use the *color* keyword-argument or provide a 2D array with a single row if you intend to specify the same RGB or RGBA value for all points.\n"
     ]
    },
    {
     "data": {
      "text/plain": [
       "<AxesSubplot:xlabel='report_date', ylabel='[fuel_cost_per_mmbtu]'>"
      ]
     },
     "execution_count": 31,
     "metadata": {},
     "output_type": "execute_result"
    },
    {
     "data": {
      "image/png": "[encoded data removed]",
      "text/plain": [
       "<Figure size 720x288 with 1 Axes>"
      ]
     },
     "metadata": {
      "needs_background": "light"
     },
     "output_type": "display_data"
    }
   ],
   "source": [
    "no_nan.sample(10_000).plot(x='report_date', y=target, kind='scatter')"
   ]
  },
  {
   "cell_type": "code",
   "execution_count": 32,
   "metadata": {},
   "outputs": [],
   "source": [
    "# We don't actually want a row-wise random sample for real training, we want to emulate the missingness process (random whole plants?). But good enough for now.\n",
    "x_train, x_test, y_train, y_test = train_test_split(no_nan[categorical_features + numeric_features],\n",
    "                                                    no_nan[target],\n",
    "                                                    test_size=0.3,\n",
    "                                                    random_state=42\n",
    "                                                   )"
   ]
  },
  {
   "cell_type": "code",
   "execution_count": 33,
   "metadata": {},
   "outputs": [],
   "source": [
    "groupby_model = (pd.concat([x_train, y_train], axis=1)\n",
    "                 .groupby(['state', 'report_date', 'fuel_group_code'],\n",
    "                          as_index=False\n",
    "                         )['fuel_cost_per_mmbtu']\n",
    "                 .median()\n",
    "                )"
   ]
  },
  {
   "cell_type": "code",
   "execution_count": 34,
   "metadata": {},
   "outputs": [],
   "source": [
    "model = lgbm.LGBMRegressor(num_leaves=2**8,\n",
    "                           max_depth=12,\n",
    "                           learning_rate=0.1,\n",
    "                           n_estimators=1000,\n",
    "                           min_child_samples=15,\n",
    "                           random_state=42,\n",
    "                           first_metric_only=True,\n",
    "                           boosting='gbdt',\n",
    "                           objective='l1',\n",
    "                          )"
   ]
  },
  {
   "cell_type": "code",
   "execution_count": 35,
   "metadata": {},
   "outputs": [
    {
     "name": "stderr",
     "output_type": "stream",
     "text": [
      "/home/tpb/miniconda3/envs/lgbm_impute/lib/python3.9/site-packages/lightgbm/sklearn.py:726: UserWarning: 'early_stopping_rounds' argument is deprecated and will be removed in a future release of LightGBM. Pass 'early_stopping()' callback via 'callbacks' argument instead.\n",
      "  _log_warning(\"'early_stopping_rounds' argument is deprecated and will be removed in a future release of LightGBM. \"\n",
      "/home/tpb/miniconda3/envs/lgbm_impute/lib/python3.9/site-packages/lightgbm/sklearn.py:736: UserWarning: 'verbose' argument is deprecated and will be removed in a future release of LightGBM. Pass 'log_evaluation()' callback via 'callbacks' argument instead.\n",
      "  _log_warning(\"'verbose' argument is deprecated and will be removed in a future release of LightGBM. \"\n",
      "/home/tpb/miniconda3/envs/lgbm_impute/lib/python3.9/site-packages/lightgbm/basic.py:1780: UserWarning: Overriding the parameters from Reference Dataset.\n",
      "  _log_warning('Overriding the parameters from Reference Dataset.')\n",
      "/home/tpb/miniconda3/envs/lgbm_impute/lib/python3.9/site-packages/lightgbm/basic.py:1513: UserWarning: categorical_column in param dict is overridden.\n",
      "  _log_warning(f'{cat_alias} in param dict is overridden.')\n"
     ]
    },
    {
     "name": "stdout",
     "output_type": "stream",
     "text": [
      "[LightGBM] [Warning] boosting is set=gbdt, boosting_type=gbdt will be ignored. Current value: boosting=gbdt\n",
      "[50]\ttraining's l1: 1.78365\tvalidation's l1: 1.79051\n",
      "[100]\ttraining's l1: 1.65218\tvalidation's l1: 1.68574\n",
      "[150]\ttraining's l1: 1.57648\tvalidation's l1: 1.62802\n",
      "[200]\ttraining's l1: 1.48643\tvalidation's l1: 1.54565\n",
      "[250]\ttraining's l1: 1.40271\tvalidation's l1: 1.48966\n",
      "[300]\ttraining's l1: 1.38583\tvalidation's l1: 1.47755\n",
      "[350]\ttraining's l1: 1.3697\tvalidation's l1: 1.46743\n",
      "[400]\ttraining's l1: 1.36033\tvalidation's l1: 1.46249\n",
      "[450]\ttraining's l1: 1.35039\tvalidation's l1: 1.45702\n",
      "[500]\ttraining's l1: 1.31755\tvalidation's l1: 1.44051\n",
      "[550]\ttraining's l1: 1.2798\tvalidation's l1: 1.41517\n",
      "[600]\ttraining's l1: 1.25163\tvalidation's l1: 1.40112\n"
     ]
    },
    {
     "data": {
      "text/plain": [
       "LGBMRegressor(boosting='gbdt', first_metric_only=True, max_depth=12,\n",
       "              min_child_samples=15, n_estimators=1000, num_leaves=256,\n",
       "              objective='l1', random_state=42)"
      ]
     },
     "execution_count": 35,
     "metadata": {},
     "output_type": "execute_result"
    }
   ],
   "source": [
    "model.fit(x_train,\n",
    "          y_train,\n",
    "          eval_set=[(x_test, y_test), (x_train, y_train)],\n",
    "          eval_names=['validation', 'training'],\n",
    "          #categorical_feature=categorical_features,\n",
    "          verbose=50,\n",
    "          eval_metric='l1',\n",
    "          early_stopping_rounds=10,\n",
    "         )"
   ]
  },
  {
   "cell_type": "code",
   "execution_count": 36,
   "metadata": {},
   "outputs": [
    {
     "data": {
      "text/plain": [
       "defaultdict(collections.OrderedDict,\n",
       "            {'training': OrderedDict([('l1', 1.2373425574994095)]),\n",
       "             'validation': OrderedDict([('l1', 1.394570142169741)])})"
      ]
     },
     "execution_count": 36,
     "metadata": {},
     "output_type": "execute_result"
    }
   ],
   "source": [
    "model.best_score_"
   ]
  },
  {
   "cell_type": "code",
   "execution_count": 37,
   "metadata": {},
   "outputs": [
    {
     "data": {
      "text/plain": [
       "<AxesSubplot:title={'center':'Metric during training'}, xlabel='Iterations', ylabel='l1'>"
      ]
     },
     "execution_count": 37,
     "metadata": {},
     "output_type": "execute_result"
    },
    {
     "data": {
      "image/png": "[encoded data removed]",
      "text/plain": [
       "<Figure size 720x288 with 1 Axes>"
      ]
     },
     "metadata": {
      "needs_background": "light"
     },
     "output_type": "display_data"
    }
   ],
   "source": [
    "lgbm.plot_metric(model, metric='l1')"
   ]
  },
  {
   "cell_type": "code",
   "execution_count": 38,
   "metadata": {},
   "outputs": [],
   "source": [
    "def error_comparison(x, y, model, groupby_df):\n",
    "    preds = model.predict(x)\n",
    "    error = pd.DataFrame({'predict': preds, 'error': preds - y.values.reshape(-1)}, index=y.index)\n",
    "    error = pd.concat([error, x, y], axis=1)\n",
    "    error['rel_error'] = error['error'].div(error['fuel_cost_per_mmbtu'])\n",
    "    error = error.merge(groupby_df.rename(columns={'fuel_cost_per_mmbtu': 'groupby_predict'}), on=['state', 'report_date', 'fuel_group_code'])\n",
    "    error['groupby_error'] = error['groupby_predict'].sub(error['fuel_cost_per_mmbtu'], axis=0)\n",
    "    error['groupby_rel_error'] = error['groupby_error'].div(error['fuel_cost_per_mmbtu'], axis=0)\n",
    "    error['model_diff'] = error['error'] - error['groupby_error']\n",
    "    return error"
   ]
  },
  {
   "cell_type": "code",
   "execution_count": 39,
   "metadata": {},
   "outputs": [],
   "source": [
    "error_tr = error_comparison(x_train, y_train, model, groupby_model)"
   ]
  },
  {
   "cell_type": "code",
   "execution_count": 40,
   "metadata": {},
   "outputs": [],
   "source": [
    "error_test = error_comparison(x_test, y_test, model, groupby_model)"
   ]
  },
  {
   "cell_type": "code",
   "execution_count": 41,
   "metadata": {},
   "outputs": [
    {
     "data": {
      "text/html": [
       "<div>\n",
       "<style scoped>\n",
       "    .dataframe tbody tr th:only-of-type {\n",
       "        vertical-align: middle;\n",
       "    }\n",
       "\n",
       "    .dataframe tbody tr th {\n",
       "        vertical-align: top;\n",
       "    }\n",
       "\n",
       "    .dataframe thead th {\n",
       "        text-align: right;\n",
       "    }\n",
       "</style>\n",
       "<table border=\"1\" class=\"dataframe\">\n",
       "  <thead>\n",
       "    <tr style=\"text-align: right;\">\n",
       "      <th>fuel_group_code</th>\n",
       "      <th>coal</th>\n",
       "      <th>natural_gas</th>\n",
       "      <th>other_gas</th>\n",
       "      <th>petroleum</th>\n",
       "      <th>petroleum_coke</th>\n",
       "    </tr>\n",
       "  </thead>\n",
       "  <tbody>\n",
       "    <tr>\n",
       "      <th>count</th>\n",
       "      <td>102091.000</td>\n",
       "      <td>139089.000</td>\n",
       "      <td>164.000</td>\n",
       "      <td>19590.000</td>\n",
       "      <td>1044.000</td>\n",
       "    </tr>\n",
       "    <tr>\n",
       "      <th>mean</th>\n",
       "      <td>-0.020</td>\n",
       "      <td>-1.351</td>\n",
       "      <td>-1.915</td>\n",
       "      <td>0.092</td>\n",
       "      <td>-0.005</td>\n",
       "    </tr>\n",
       "    <tr>\n",
       "      <th>std</th>\n",
       "      <td>0.757</td>\n",
       "      <td>28.117</td>\n",
       "      <td>23.058</td>\n",
       "      <td>3.590</td>\n",
       "      <td>0.336</td>\n",
       "    </tr>\n",
       "    <tr>\n",
       "      <th>min</th>\n",
       "      <td>-30.943</td>\n",
       "      <td>-996.900</td>\n",
       "      <td>-294.269</td>\n",
       "      <td>-77.425</td>\n",
       "      <td>-2.281</td>\n",
       "    </tr>\n",
       "    <tr>\n",
       "      <th>25%</th>\n",
       "      <td>-0.091</td>\n",
       "      <td>-0.215</td>\n",
       "      <td>-0.201</td>\n",
       "      <td>-0.389</td>\n",
       "      <td>-0.062</td>\n",
       "    </tr>\n",
       "    <tr>\n",
       "      <th>50%</th>\n",
       "      <td>0.000</td>\n",
       "      <td>0.000</td>\n",
       "      <td>-0.000</td>\n",
       "      <td>0.001</td>\n",
       "      <td>0.001</td>\n",
       "    </tr>\n",
       "    <tr>\n",
       "      <th>75%</th>\n",
       "      <td>0.092</td>\n",
       "      <td>0.186</td>\n",
       "      <td>0.344</td>\n",
       "      <td>0.397</td>\n",
       "      <td>0.081</td>\n",
       "    </tr>\n",
       "    <tr>\n",
       "      <th>max</th>\n",
       "      <td>90.946</td>\n",
       "      <td>531.722</td>\n",
       "      <td>4.932</td>\n",
       "      <td>222.967</td>\n",
       "      <td>1.475</td>\n",
       "    </tr>\n",
       "  </tbody>\n",
       "</table>\n",
       "</div>"
      ],
      "text/plain": [
       "fuel_group_code       coal  natural_gas  other_gas  petroleum  petroleum_coke\n",
       "count           102091.000   139089.000    164.000  19590.000        1044.000\n",
       "mean                -0.020       -1.351     -1.915      0.092          -0.005\n",
       "std                  0.757       28.117     23.058      3.590           0.336\n",
       "min                -30.943     -996.900   -294.269    -77.425          -2.281\n",
       "25%                 -0.091       -0.215     -0.201     -0.389          -0.062\n",
       "50%                  0.000        0.000     -0.000      0.001           0.001\n",
       "75%                  0.092        0.186      0.344      0.397           0.081\n",
       "max                 90.946      531.722      4.932    222.967           1.475"
      ]
     },
     "metadata": {},
     "output_type": "display_data"
    }
   ],
   "source": [
    "# train\n",
    "with pd.option_context('display.float_format', '{:.3f}'.format):\n",
    "    display(error_tr.groupby('fuel_group_code')['error'].describe().T)"
   ]
  },
  {
   "cell_type": "code",
   "execution_count": 42,
   "metadata": {},
   "outputs": [
    {
     "data": {
      "text/html": [
       "<div>\n",
       "<style scoped>\n",
       "    .dataframe tbody tr th:only-of-type {\n",
       "        vertical-align: middle;\n",
       "    }\n",
       "\n",
       "    .dataframe tbody tr th {\n",
       "        vertical-align: top;\n",
       "    }\n",
       "\n",
       "    .dataframe thead th {\n",
       "        text-align: right;\n",
       "    }\n",
       "</style>\n",
       "<table border=\"1\" class=\"dataframe\">\n",
       "  <thead>\n",
       "    <tr style=\"text-align: right;\">\n",
       "      <th>fuel_group_code</th>\n",
       "      <th>coal</th>\n",
       "      <th>natural_gas</th>\n",
       "      <th>other_gas</th>\n",
       "      <th>petroleum</th>\n",
       "      <th>petroleum_coke</th>\n",
       "    </tr>\n",
       "  </thead>\n",
       "  <tbody>\n",
       "    <tr>\n",
       "      <th>count</th>\n",
       "      <td>43701.000</td>\n",
       "      <td>59773.000</td>\n",
       "      <td>78.000</td>\n",
       "      <td>8189.000</td>\n",
       "      <td>454.000</td>\n",
       "    </tr>\n",
       "    <tr>\n",
       "      <th>mean</th>\n",
       "      <td>-0.005</td>\n",
       "      <td>-1.438</td>\n",
       "      <td>-0.010</td>\n",
       "      <td>0.040</td>\n",
       "      <td>-0.010</td>\n",
       "    </tr>\n",
       "    <tr>\n",
       "      <th>std</th>\n",
       "      <td>0.862</td>\n",
       "      <td>29.310</td>\n",
       "      <td>1.556</td>\n",
       "      <td>5.951</td>\n",
       "      <td>0.353</td>\n",
       "    </tr>\n",
       "    <tr>\n",
       "      <th>min</th>\n",
       "      <td>-11.009</td>\n",
       "      <td>-996.923</td>\n",
       "      <td>-8.745</td>\n",
       "      <td>-403.572</td>\n",
       "      <td>-1.809</td>\n",
       "    </tr>\n",
       "    <tr>\n",
       "      <th>25%</th>\n",
       "      <td>-0.114</td>\n",
       "      <td>-0.252</td>\n",
       "      <td>-0.480</td>\n",
       "      <td>-0.599</td>\n",
       "      <td>-0.117</td>\n",
       "    </tr>\n",
       "    <tr>\n",
       "      <th>50%</th>\n",
       "      <td>0.003</td>\n",
       "      <td>0.005</td>\n",
       "      <td>0.151</td>\n",
       "      <td>0.025</td>\n",
       "      <td>0.009</td>\n",
       "    </tr>\n",
       "    <tr>\n",
       "      <th>75%</th>\n",
       "      <td>0.119</td>\n",
       "      <td>0.236</td>\n",
       "      <td>0.751</td>\n",
       "      <td>0.623</td>\n",
       "      <td>0.149</td>\n",
       "    </tr>\n",
       "    <tr>\n",
       "      <th>max</th>\n",
       "      <td>59.701</td>\n",
       "      <td>717.549</td>\n",
       "      <td>4.017</td>\n",
       "      <td>157.678</td>\n",
       "      <td>1.070</td>\n",
       "    </tr>\n",
       "  </tbody>\n",
       "</table>\n",
       "</div>"
      ],
      "text/plain": [
       "fuel_group_code      coal  natural_gas  other_gas  petroleum  petroleum_coke\n",
       "count           43701.000    59773.000     78.000   8189.000         454.000\n",
       "mean               -0.005       -1.438     -0.010      0.040          -0.010\n",
       "std                 0.862       29.310      1.556      5.951           0.353\n",
       "min               -11.009     -996.923     -8.745   -403.572          -1.809\n",
       "25%                -0.114       -0.252     -0.480     -0.599          -0.117\n",
       "50%                 0.003        0.005      0.151      0.025           0.009\n",
       "75%                 0.119        0.236      0.751      0.623           0.149\n",
       "max                59.701      717.549      4.017    157.678           1.070"
      ]
     },
     "metadata": {},
     "output_type": "display_data"
    }
   ],
   "source": [
    "# test\n",
    "with pd.option_context('display.float_format', '{:.3f}'.format):\n",
    "    display(error_test.groupby('fuel_group_code')['error'].describe().T)"
   ]
  },
  {
   "cell_type": "code",
   "execution_count": 43,
   "metadata": {},
   "outputs": [
    {
     "data": {
      "text/html": [
       "<div>\n",
       "<style scoped>\n",
       "    .dataframe tbody tr th:only-of-type {\n",
       "        vertical-align: middle;\n",
       "    }\n",
       "\n",
       "    .dataframe tbody tr th {\n",
       "        vertical-align: top;\n",
       "    }\n",
       "\n",
       "    .dataframe thead th {\n",
       "        text-align: right;\n",
       "    }\n",
       "</style>\n",
       "<table border=\"1\" class=\"dataframe\">\n",
       "  <thead>\n",
       "    <tr style=\"text-align: right;\">\n",
       "      <th>fuel_group_code</th>\n",
       "      <th>coal</th>\n",
       "      <th>natural_gas</th>\n",
       "      <th>other_gas</th>\n",
       "      <th>petroleum</th>\n",
       "      <th>petroleum_coke</th>\n",
       "    </tr>\n",
       "  </thead>\n",
       "  <tbody>\n",
       "    <tr>\n",
       "      <th>count</th>\n",
       "      <td>102091.000</td>\n",
       "      <td>139089.000</td>\n",
       "      <td>164.000</td>\n",
       "      <td>19590.000</td>\n",
       "      <td>1044.000</td>\n",
       "    </tr>\n",
       "    <tr>\n",
       "      <th>mean</th>\n",
       "      <td>inf</td>\n",
       "      <td>0.027</td>\n",
       "      <td>0.036</td>\n",
       "      <td>NaN</td>\n",
       "      <td>0.041</td>\n",
       "    </tr>\n",
       "    <tr>\n",
       "      <th>std</th>\n",
       "      <td>NaN</td>\n",
       "      <td>1.054</td>\n",
       "      <td>0.280</td>\n",
       "      <td>NaN</td>\n",
       "      <td>0.234</td>\n",
       "    </tr>\n",
       "    <tr>\n",
       "      <th>min</th>\n",
       "      <td>-2.487</td>\n",
       "      <td>-36.146</td>\n",
       "      <td>-0.953</td>\n",
       "      <td>-inf</td>\n",
       "      <td>-0.663</td>\n",
       "    </tr>\n",
       "    <tr>\n",
       "      <th>25%</th>\n",
       "      <td>-0.039</td>\n",
       "      <td>-0.052</td>\n",
       "      <td>-0.022</td>\n",
       "      <td>-0.023</td>\n",
       "      <td>-0.035</td>\n",
       "    </tr>\n",
       "    <tr>\n",
       "      <th>50%</th>\n",
       "      <td>0.000</td>\n",
       "      <td>0.000</td>\n",
       "      <td>-0.000</td>\n",
       "      <td>0.000</td>\n",
       "      <td>0.001</td>\n",
       "    </tr>\n",
       "    <tr>\n",
       "      <th>75%</th>\n",
       "      <td>0.044</td>\n",
       "      <td>0.052</td>\n",
       "      <td>0.059</td>\n",
       "      <td>0.025</td>\n",
       "      <td>0.049</td>\n",
       "    </tr>\n",
       "    <tr>\n",
       "      <th>max</th>\n",
       "      <td>inf</td>\n",
       "      <td>189.386</td>\n",
       "      <td>2.126</td>\n",
       "      <td>inf</td>\n",
       "      <td>2.887</td>\n",
       "    </tr>\n",
       "  </tbody>\n",
       "</table>\n",
       "</div>"
      ],
      "text/plain": [
       "fuel_group_code       coal  natural_gas  other_gas  petroleum  petroleum_coke\n",
       "count           102091.000   139089.000    164.000  19590.000        1044.000\n",
       "mean                   inf        0.027      0.036        NaN           0.041\n",
       "std                    NaN        1.054      0.280        NaN           0.234\n",
       "min                 -2.487      -36.146     -0.953       -inf          -0.663\n",
       "25%                 -0.039       -0.052     -0.022     -0.023          -0.035\n",
       "50%                  0.000        0.000     -0.000      0.000           0.001\n",
       "75%                  0.044        0.052      0.059      0.025           0.049\n",
       "max                    inf      189.386      2.126        inf           2.887"
      ]
     },
     "metadata": {},
     "output_type": "display_data"
    }
   ],
   "source": [
    "# train\n",
    "with pd.option_context('display.float_format', '{:.3f}'.format):\n",
    "    display(error_tr.groupby('fuel_group_code')['rel_error'].describe().T)"
   ]
  },
  {
   "cell_type": "code",
   "execution_count": 44,
   "metadata": {},
   "outputs": [
    {
     "data": {
      "text/html": [
       "<div>\n",
       "<style scoped>\n",
       "    .dataframe tbody tr th:only-of-type {\n",
       "        vertical-align: middle;\n",
       "    }\n",
       "\n",
       "    .dataframe tbody tr th {\n",
       "        vertical-align: top;\n",
       "    }\n",
       "\n",
       "    .dataframe thead th {\n",
       "        text-align: right;\n",
       "    }\n",
       "</style>\n",
       "<table border=\"1\" class=\"dataframe\">\n",
       "  <thead>\n",
       "    <tr style=\"text-align: right;\">\n",
       "      <th>fuel_group_code</th>\n",
       "      <th>coal</th>\n",
       "      <th>natural_gas</th>\n",
       "      <th>other_gas</th>\n",
       "      <th>petroleum</th>\n",
       "      <th>petroleum_coke</th>\n",
       "    </tr>\n",
       "  </thead>\n",
       "  <tbody>\n",
       "    <tr>\n",
       "      <th>count</th>\n",
       "      <td>43701.000</td>\n",
       "      <td>59773.000</td>\n",
       "      <td>78.000</td>\n",
       "      <td>8189.000</td>\n",
       "      <td>454.000</td>\n",
       "    </tr>\n",
       "    <tr>\n",
       "      <th>mean</th>\n",
       "      <td>inf</td>\n",
       "      <td>0.035</td>\n",
       "      <td>0.115</td>\n",
       "      <td>inf</td>\n",
       "      <td>0.038</td>\n",
       "    </tr>\n",
       "    <tr>\n",
       "      <th>std</th>\n",
       "      <td>NaN</td>\n",
       "      <td>1.583</td>\n",
       "      <td>0.415</td>\n",
       "      <td>NaN</td>\n",
       "      <td>0.213</td>\n",
       "    </tr>\n",
       "    <tr>\n",
       "      <th>min</th>\n",
       "      <td>-3.812</td>\n",
       "      <td>-117.696</td>\n",
       "      <td>-0.694</td>\n",
       "      <td>-2.569</td>\n",
       "      <td>-0.501</td>\n",
       "    </tr>\n",
       "    <tr>\n",
       "      <th>25%</th>\n",
       "      <td>-0.048</td>\n",
       "      <td>-0.061</td>\n",
       "      <td>-0.047</td>\n",
       "      <td>-0.034</td>\n",
       "      <td>-0.056</td>\n",
       "    </tr>\n",
       "    <tr>\n",
       "      <th>50%</th>\n",
       "      <td>0.001</td>\n",
       "      <td>0.001</td>\n",
       "      <td>0.016</td>\n",
       "      <td>0.002</td>\n",
       "      <td>0.006</td>\n",
       "    </tr>\n",
       "    <tr>\n",
       "      <th>75%</th>\n",
       "      <td>0.058</td>\n",
       "      <td>0.067</td>\n",
       "      <td>0.135</td>\n",
       "      <td>0.041</td>\n",
       "      <td>0.084</td>\n",
       "    </tr>\n",
       "    <tr>\n",
       "      <th>max</th>\n",
       "      <td>inf</td>\n",
       "      <td>233.169</td>\n",
       "      <td>1.992</td>\n",
       "      <td>inf</td>\n",
       "      <td>1.237</td>\n",
       "    </tr>\n",
       "  </tbody>\n",
       "</table>\n",
       "</div>"
      ],
      "text/plain": [
       "fuel_group_code      coal  natural_gas  other_gas  petroleum  petroleum_coke\n",
       "count           43701.000    59773.000     78.000   8189.000         454.000\n",
       "mean                  inf        0.035      0.115        inf           0.038\n",
       "std                   NaN        1.583      0.415        NaN           0.213\n",
       "min                -3.812     -117.696     -0.694     -2.569          -0.501\n",
       "25%                -0.048       -0.061     -0.047     -0.034          -0.056\n",
       "50%                 0.001        0.001      0.016      0.002           0.006\n",
       "75%                 0.058        0.067      0.135      0.041           0.084\n",
       "max                   inf      233.169      1.992        inf           1.237"
      ]
     },
     "metadata": {},
     "output_type": "display_data"
    }
   ],
   "source": [
    "# test\n",
    "with pd.option_context('display.float_format', '{:.3f}'.format):\n",
    "    display(error_test.groupby('fuel_group_code')['rel_error'].describe().T)"
   ]
  },
  {
   "cell_type": "code",
   "execution_count": 66,
   "metadata": {},
   "outputs": [
    {
     "data": {
      "text/html": [
       "<div>\n",
       "<style scoped>\n",
       "    .dataframe tbody tr th:only-of-type {\n",
       "        vertical-align: middle;\n",
       "    }\n",
       "\n",
       "    .dataframe tbody tr th {\n",
       "        vertical-align: top;\n",
       "    }\n",
       "\n",
       "    .dataframe thead th {\n",
       "        text-align: right;\n",
       "    }\n",
       "</style>\n",
       "<table border=\"1\" class=\"dataframe\">\n",
       "  <thead>\n",
       "    <tr style=\"text-align: right;\">\n",
       "      <th>fuel_group_code</th>\n",
       "      <th>coal</th>\n",
       "      <th>natural_gas</th>\n",
       "      <th>other_gas</th>\n",
       "      <th>petroleum</th>\n",
       "      <th>petroleum_coke</th>\n",
       "    </tr>\n",
       "  </thead>\n",
       "  <tbody>\n",
       "    <tr>\n",
       "      <th>count</th>\n",
       "      <td>43507.000</td>\n",
       "      <td>59609.000</td>\n",
       "      <td>9.000</td>\n",
       "      <td>7669.000</td>\n",
       "      <td>323.000</td>\n",
       "    </tr>\n",
       "    <tr>\n",
       "      <th>mean</th>\n",
       "      <td>inf</td>\n",
       "      <td>0.034</td>\n",
       "      <td>0.012</td>\n",
       "      <td>inf</td>\n",
       "      <td>0.044</td>\n",
       "    </tr>\n",
       "    <tr>\n",
       "      <th>std</th>\n",
       "      <td>NaN</td>\n",
       "      <td>1.584</td>\n",
       "      <td>0.052</td>\n",
       "      <td>NaN</td>\n",
       "      <td>0.234</td>\n",
       "    </tr>\n",
       "    <tr>\n",
       "      <th>min</th>\n",
       "      <td>-3.812</td>\n",
       "      <td>-117.696</td>\n",
       "      <td>-0.052</td>\n",
       "      <td>-2.569</td>\n",
       "      <td>-0.501</td>\n",
       "    </tr>\n",
       "    <tr>\n",
       "      <th>25%</th>\n",
       "      <td>-0.048</td>\n",
       "      <td>-0.061</td>\n",
       "      <td>-0.007</td>\n",
       "      <td>-0.033</td>\n",
       "      <td>-0.058</td>\n",
       "    </tr>\n",
       "    <tr>\n",
       "      <th>50%</th>\n",
       "      <td>0.001</td>\n",
       "      <td>0.001</td>\n",
       "      <td>0.005</td>\n",
       "      <td>0.002</td>\n",
       "      <td>0.006</td>\n",
       "    </tr>\n",
       "    <tr>\n",
       "      <th>75%</th>\n",
       "      <td>0.058</td>\n",
       "      <td>0.067</td>\n",
       "      <td>0.016</td>\n",
       "      <td>0.040</td>\n",
       "      <td>0.094</td>\n",
       "    </tr>\n",
       "    <tr>\n",
       "      <th>max</th>\n",
       "      <td>inf</td>\n",
       "      <td>233.169</td>\n",
       "      <td>0.122</td>\n",
       "      <td>inf</td>\n",
       "      <td>1.237</td>\n",
       "    </tr>\n",
       "  </tbody>\n",
       "</table>\n",
       "</div>"
      ],
      "text/plain": [
       "fuel_group_code      coal  natural_gas  other_gas  petroleum  petroleum_coke\n",
       "count           43507.000    59609.000      9.000   7669.000         323.000\n",
       "mean                  inf        0.034      0.012        inf           0.044\n",
       "std                   NaN        1.584      0.052        NaN           0.234\n",
       "min                -3.812     -117.696     -0.052     -2.569          -0.501\n",
       "25%                -0.048       -0.061     -0.007     -0.033          -0.058\n",
       "50%                 0.001        0.001      0.005      0.002           0.006\n",
       "75%                 0.058        0.067      0.016      0.040           0.094\n",
       "max                   inf      233.169      0.122        inf           1.237"
      ]
     },
     "metadata": {},
     "output_type": "display_data"
    }
   ],
   "source": [
    "# test, for rows with successful groupby model\n",
    "with pd.option_context('display.float_format', '{:.3f}'.format):\n",
    "    display(error_test.dropna(subset='groupby_predict').groupby('fuel_group_code')['rel_error'].describe().T)"
   ]
  },
  {
   "cell_type": "code",
   "execution_count": 45,
   "metadata": {},
   "outputs": [
    {
     "data": {
      "text/html": [
       "<div>\n",
       "<style scoped>\n",
       "    .dataframe tbody tr th:only-of-type {\n",
       "        vertical-align: middle;\n",
       "    }\n",
       "\n",
       "    .dataframe tbody tr th {\n",
       "        vertical-align: top;\n",
       "    }\n",
       "\n",
       "    .dataframe thead th {\n",
       "        text-align: right;\n",
       "    }\n",
       "</style>\n",
       "<table border=\"1\" class=\"dataframe\">\n",
       "  <thead>\n",
       "    <tr style=\"text-align: right;\">\n",
       "      <th>fuel_group_code</th>\n",
       "      <th>coal</th>\n",
       "      <th>natural_gas</th>\n",
       "      <th>other_gas</th>\n",
       "      <th>petroleum</th>\n",
       "      <th>petroleum_coke</th>\n",
       "    </tr>\n",
       "  </thead>\n",
       "  <tbody>\n",
       "    <tr>\n",
       "      <th>count</th>\n",
       "      <td>102091.000</td>\n",
       "      <td>139089.000</td>\n",
       "      <td>164.000</td>\n",
       "      <td>19587.000</td>\n",
       "      <td>1044.000</td>\n",
       "    </tr>\n",
       "    <tr>\n",
       "      <th>mean</th>\n",
       "      <td>inf</td>\n",
       "      <td>0.012</td>\n",
       "      <td>0.001</td>\n",
       "      <td>inf</td>\n",
       "      <td>0.040</td>\n",
       "    </tr>\n",
       "    <tr>\n",
       "      <th>std</th>\n",
       "      <td>NaN</td>\n",
       "      <td>0.920</td>\n",
       "      <td>0.017</td>\n",
       "      <td>NaN</td>\n",
       "      <td>0.253</td>\n",
       "    </tr>\n",
       "    <tr>\n",
       "      <th>min</th>\n",
       "      <td>-0.948</td>\n",
       "      <td>-34.897</td>\n",
       "      <td>-0.075</td>\n",
       "      <td>-0.843</td>\n",
       "      <td>-0.613</td>\n",
       "    </tr>\n",
       "    <tr>\n",
       "      <th>25%</th>\n",
       "      <td>-0.104</td>\n",
       "      <td>-0.091</td>\n",
       "      <td>0.000</td>\n",
       "      <td>-0.027</td>\n",
       "      <td>-0.007</td>\n",
       "    </tr>\n",
       "    <tr>\n",
       "      <th>50%</th>\n",
       "      <td>0.000</td>\n",
       "      <td>0.000</td>\n",
       "      <td>0.000</td>\n",
       "      <td>0.000</td>\n",
       "      <td>0.000</td>\n",
       "    </tr>\n",
       "    <tr>\n",
       "      <th>75%</th>\n",
       "      <td>0.116</td>\n",
       "      <td>0.078</td>\n",
       "      <td>0.000</td>\n",
       "      <td>0.026</td>\n",
       "      <td>0.009</td>\n",
       "    </tr>\n",
       "    <tr>\n",
       "      <th>max</th>\n",
       "      <td>inf</td>\n",
       "      <td>222.625</td>\n",
       "      <td>0.088</td>\n",
       "      <td>inf</td>\n",
       "      <td>2.557</td>\n",
       "    </tr>\n",
       "  </tbody>\n",
       "</table>\n",
       "</div>"
      ],
      "text/plain": [
       "fuel_group_code       coal  natural_gas  other_gas  petroleum  petroleum_coke\n",
       "count           102091.000   139089.000    164.000  19587.000        1044.000\n",
       "mean                   inf        0.012      0.001        inf           0.040\n",
       "std                    NaN        0.920      0.017        NaN           0.253\n",
       "min                 -0.948      -34.897     -0.075     -0.843          -0.613\n",
       "25%                 -0.104       -0.091      0.000     -0.027          -0.007\n",
       "50%                  0.000        0.000      0.000      0.000           0.000\n",
       "75%                  0.116        0.078      0.000      0.026           0.009\n",
       "max                    inf      222.625      0.088        inf           2.557"
      ]
     },
     "metadata": {},
     "output_type": "display_data"
    }
   ],
   "source": [
    "# train, groupby\n",
    "with pd.option_context('display.float_format', '{:.3f}'.format):\n",
    "    display(error_tr.groupby('fuel_group_code')['groupby_rel_error'].describe().T)"
   ]
  },
  {
   "cell_type": "code",
   "execution_count": 46,
   "metadata": {},
   "outputs": [
    {
     "data": {
      "text/html": [
       "<div>\n",
       "<style scoped>\n",
       "    .dataframe tbody tr th:only-of-type {\n",
       "        vertical-align: middle;\n",
       "    }\n",
       "\n",
       "    .dataframe tbody tr th {\n",
       "        vertical-align: top;\n",
       "    }\n",
       "\n",
       "    .dataframe thead th {\n",
       "        text-align: right;\n",
       "    }\n",
       "</style>\n",
       "<table border=\"1\" class=\"dataframe\">\n",
       "  <thead>\n",
       "    <tr style=\"text-align: right;\">\n",
       "      <th>fuel_group_code</th>\n",
       "      <th>coal</th>\n",
       "      <th>natural_gas</th>\n",
       "      <th>other_gas</th>\n",
       "      <th>petroleum</th>\n",
       "      <th>petroleum_coke</th>\n",
       "    </tr>\n",
       "  </thead>\n",
       "  <tbody>\n",
       "    <tr>\n",
       "      <th>count</th>\n",
       "      <td>43507.000</td>\n",
       "      <td>59609.000</td>\n",
       "      <td>9.000</td>\n",
       "      <td>7669.000</td>\n",
       "      <td>323.000</td>\n",
       "    </tr>\n",
       "    <tr>\n",
       "      <th>mean</th>\n",
       "      <td>inf</td>\n",
       "      <td>0.036</td>\n",
       "      <td>0.169</td>\n",
       "      <td>inf</td>\n",
       "      <td>0.075</td>\n",
       "    </tr>\n",
       "    <tr>\n",
       "      <th>std</th>\n",
       "      <td>NaN</td>\n",
       "      <td>1.880</td>\n",
       "      <td>0.379</td>\n",
       "      <td>NaN</td>\n",
       "      <td>0.456</td>\n",
       "    </tr>\n",
       "    <tr>\n",
       "      <th>min</th>\n",
       "      <td>-0.832</td>\n",
       "      <td>-49.100</td>\n",
       "      <td>-0.133</td>\n",
       "      <td>-1.000</td>\n",
       "      <td>-0.623</td>\n",
       "    </tr>\n",
       "    <tr>\n",
       "      <th>25%</th>\n",
       "      <td>-0.113</td>\n",
       "      <td>-0.101</td>\n",
       "      <td>0.000</td>\n",
       "      <td>-0.047</td>\n",
       "      <td>-0.104</td>\n",
       "    </tr>\n",
       "    <tr>\n",
       "      <th>50%</th>\n",
       "      <td>0.001</td>\n",
       "      <td>0.000</td>\n",
       "      <td>0.071</td>\n",
       "      <td>-0.000</td>\n",
       "      <td>-0.002</td>\n",
       "    </tr>\n",
       "    <tr>\n",
       "      <th>75%</th>\n",
       "      <td>0.132</td>\n",
       "      <td>0.089</td>\n",
       "      <td>0.154</td>\n",
       "      <td>0.050</td>\n",
       "      <td>0.127</td>\n",
       "    </tr>\n",
       "    <tr>\n",
       "      <th>max</th>\n",
       "      <td>inf</td>\n",
       "      <td>270.429</td>\n",
       "      <td>1.150</td>\n",
       "      <td>inf</td>\n",
       "      <td>3.020</td>\n",
       "    </tr>\n",
       "  </tbody>\n",
       "</table>\n",
       "</div>"
      ],
      "text/plain": [
       "fuel_group_code      coal  natural_gas  other_gas  petroleum  petroleum_coke\n",
       "count           43507.000    59609.000      9.000   7669.000         323.000\n",
       "mean                  inf        0.036      0.169        inf           0.075\n",
       "std                   NaN        1.880      0.379        NaN           0.456\n",
       "min                -0.832      -49.100     -0.133     -1.000          -0.623\n",
       "25%                -0.113       -0.101      0.000     -0.047          -0.104\n",
       "50%                 0.001        0.000      0.071     -0.000          -0.002\n",
       "75%                 0.132        0.089      0.154      0.050           0.127\n",
       "max                   inf      270.429      1.150        inf           3.020"
      ]
     },
     "metadata": {},
     "output_type": "display_data"
    }
   ],
   "source": [
    "# test, groupby\n",
    "with pd.option_context('display.float_format', '{:.3f}'.format):\n",
    "    display(error_test.groupby('fuel_group_code')['groupby_rel_error'].describe().T)"
   ]
  },
  {
   "cell_type": "code",
   "execution_count": 47,
   "metadata": {},
   "outputs": [
    {
     "data": {
      "text/plain": [
       "0.532759926912964"
      ]
     },
     "execution_count": 47,
     "metadata": {},
     "output_type": "execute_result"
    }
   ],
   "source": [
    "is_gas = error_test['fuel_group_code'].eq('natural_gas')\n",
    "is_gas.mean()"
   ]
  },
  {
   "cell_type": "code",
   "execution_count": 48,
   "metadata": {},
   "outputs": [
    {
     "data": {
      "text/plain": [
       "<AxesSubplot:>"
      ]
     },
     "execution_count": 48,
     "metadata": {},
     "output_type": "execute_result"
    },
    {
     "data": {
      "image/png": "[encoded data removed]",
      "text/plain": [
       "<Figure size 720x288 with 1 Axes>"
      ]
     },
     "metadata": {
      "needs_background": "light"
     },
     "output_type": "display_data"
    }
   ],
   "source": [
    "error_test.loc[is_gas, 'error'].hist(bins=100, range=(-5,5), log=False)"
   ]
  },
  {
   "cell_type": "code",
   "execution_count": 49,
   "metadata": {},
   "outputs": [
    {
     "data": {
      "text/plain": [
       "<AxesSubplot:>"
      ]
     },
     "execution_count": 49,
     "metadata": {},
     "output_type": "execute_result"
    },
    {
     "data": {
      "image/png": "[encoded data removed]",
      "text/plain": [
       "<Figure size 720x288 with 1 Axes>"
      ]
     },
     "metadata": {
      "needs_background": "light"
     },
     "output_type": "display_data"
    }
   ],
   "source": [
    "error_test.loc[is_gas, 'error'].hist(bins=100, range=(-10,10), log=True, histtype='stepfilled', alpha=0.5, label='lgbm')\n",
    "error_test.loc[is_gas, 'groupby_error'].hist(bins=100, range=(-10,10), log=True, histtype='stepfilled', alpha=0.5, label='groupby')"
   ]
  },
  {
   "cell_type": "code",
   "execution_count": 50,
   "metadata": {},
   "outputs": [
    {
     "data": {
      "text/plain": [
       "<AxesSubplot:>"
      ]
     },
     "execution_count": 50,
     "metadata": {},
     "output_type": "execute_result"
    },
    {
     "data": {
      "image/png": "[encoded data removed]",
      "text/plain": [
       "<Figure size 720x288 with 1 Axes>"
      ]
     },
     "metadata": {
      "needs_background": "light"
     },
     "output_type": "display_data"
    }
   ],
   "source": [
    "error_test.loc[is_gas, 'rel_error'].hist(bins=100, range=(-1,1), log=False)"
   ]
  },
  {
   "cell_type": "code",
   "execution_count": 51,
   "metadata": {},
   "outputs": [
    {
     "name": "stderr",
     "output_type": "stream",
     "text": [
      "*c* argument looks like a single numeric RGB or RGBA sequence, which should be avoided as value-mapping will have precedence in case its length matches with *x* & *y*.  Please use the *color* keyword-argument or provide a 2D array with a single row if you intend to specify the same RGB or RGBA value for all points.\n"
     ]
    },
    {
     "data": {
      "text/plain": [
       "<AxesSubplot:xlabel='fuel_cost_per_mmbtu', ylabel='error'>"
      ]
     },
     "execution_count": 51,
     "metadata": {},
     "output_type": "execute_result"
    },
    {
     "data": {
      "image/png": "[encoded data removed]",
      "text/plain": [
       "<Figure size 720x288 with 1 Axes>"
      ]
     },
     "metadata": {
      "needs_background": "light"
     },
     "output_type": "display_data"
    }
   ],
   "source": [
    "error_test.sample(10_000).plot.scatter('fuel_cost_per_mmbtu', 'error', s=1, alpha=0.2,\n",
    "                                     xlim=(0,50), ylim=(-50, 20)\n",
    "                                    )"
   ]
  },
  {
   "cell_type": "code",
   "execution_count": 52,
   "metadata": {},
   "outputs": [
    {
     "data": {
      "text/html": [
       "<div>\n",
       "<style scoped>\n",
       "    .dataframe tbody tr th:only-of-type {\n",
       "        vertical-align: middle;\n",
       "    }\n",
       "\n",
       "    .dataframe tbody tr th {\n",
       "        vertical-align: top;\n",
       "    }\n",
       "\n",
       "    .dataframe thead th {\n",
       "        text-align: right;\n",
       "    }\n",
       "</style>\n",
       "<table border=\"1\" class=\"dataframe\">\n",
       "  <thead>\n",
       "    <tr style=\"text-align: right;\">\n",
       "      <th></th>\n",
       "      <th>predict</th>\n",
       "      <th>error</th>\n",
       "      <th>state</th>\n",
       "      <th>fuel_group_code</th>\n",
       "      <th>contract_type_code</th>\n",
       "      <th>primary_transportation_mode_code</th>\n",
       "      <th>energy_source_code</th>\n",
       "      <th>report_date</th>\n",
       "      <th>fuel_received_units</th>\n",
       "      <th>latitude</th>\n",
       "      <th>longitude</th>\n",
       "      <th>fuel_cost_per_mmbtu</th>\n",
       "      <th>rel_error</th>\n",
       "      <th>groupby_predict</th>\n",
       "      <th>groupby_error</th>\n",
       "      <th>groupby_rel_error</th>\n",
       "      <th>model_diff</th>\n",
       "    </tr>\n",
       "  </thead>\n",
       "  <tbody>\n",
       "    <tr>\n",
       "      <th>22452</th>\n",
       "      <td>3.077363</td>\n",
       "      <td>-996.922637</td>\n",
       "      <td>IN</td>\n",
       "      <td>natural_gas</td>\n",
       "      <td>S</td>\n",
       "      <td>PL</td>\n",
       "      <td>NG</td>\n",
       "      <td>4627</td>\n",
       "      <td>350.0</td>\n",
       "      <td>41.720800</td>\n",
       "      <td>-86.90860</td>\n",
       "      <td>1000.0</td>\n",
       "      <td>-0.996923</td>\n",
       "      <td>2.0200</td>\n",
       "      <td>-997.9800</td>\n",
       "      <td>-0.997980</td>\n",
       "      <td>1.057363</td>\n",
       "    </tr>\n",
       "    <tr>\n",
       "      <th>21331</th>\n",
       "      <td>3.359446</td>\n",
       "      <td>-996.640554</td>\n",
       "      <td>LA</td>\n",
       "      <td>natural_gas</td>\n",
       "      <td>S</td>\n",
       "      <td>PL</td>\n",
       "      <td>NG</td>\n",
       "      <td>3013</td>\n",
       "      <td>161.0</td>\n",
       "      <td>32.706100</td>\n",
       "      <td>-92.06830</td>\n",
       "      <td>1000.0</td>\n",
       "      <td>-0.996641</td>\n",
       "      <td>2.2455</td>\n",
       "      <td>-997.7545</td>\n",
       "      <td>-0.997754</td>\n",
       "      <td>1.113946</td>\n",
       "    </tr>\n",
       "    <tr>\n",
       "      <th>19719</th>\n",
       "      <td>3.541933</td>\n",
       "      <td>-996.458067</td>\n",
       "      <td>MS</td>\n",
       "      <td>natural_gas</td>\n",
       "      <td>S</td>\n",
       "      <td>PL</td>\n",
       "      <td>NG</td>\n",
       "      <td>3319</td>\n",
       "      <td>822.0</td>\n",
       "      <td>30.439200</td>\n",
       "      <td>-89.02860</td>\n",
       "      <td>1000.0</td>\n",
       "      <td>-0.996458</td>\n",
       "      <td>3.2300</td>\n",
       "      <td>-996.7700</td>\n",
       "      <td>-0.996770</td>\n",
       "      <td>0.311933</td>\n",
       "    </tr>\n",
       "    <tr>\n",
       "      <th>66687</th>\n",
       "      <td>4.593893</td>\n",
       "      <td>-995.406107</td>\n",
       "      <td>CA</td>\n",
       "      <td>natural_gas</td>\n",
       "      <td>S</td>\n",
       "      <td>PL</td>\n",
       "      <td>NG</td>\n",
       "      <td>4138</td>\n",
       "      <td>5.0</td>\n",
       "      <td>34.155600</td>\n",
       "      <td>-118.27820</td>\n",
       "      <td>1000.0</td>\n",
       "      <td>-0.995406</td>\n",
       "      <td>3.2130</td>\n",
       "      <td>-996.7870</td>\n",
       "      <td>-0.996787</td>\n",
       "      <td>1.380893</td>\n",
       "    </tr>\n",
       "    <tr>\n",
       "      <th>66336</th>\n",
       "      <td>4.714967</td>\n",
       "      <td>-995.285033</td>\n",
       "      <td>ND</td>\n",
       "      <td>natural_gas</td>\n",
       "      <td>C</td>\n",
       "      <td>PL</td>\n",
       "      <td>NG</td>\n",
       "      <td>4627</td>\n",
       "      <td>5.0</td>\n",
       "      <td>46.866900</td>\n",
       "      <td>-100.88360</td>\n",
       "      <td>1000.0</td>\n",
       "      <td>-0.995285</td>\n",
       "      <td>2.9160</td>\n",
       "      <td>-997.0840</td>\n",
       "      <td>-0.997084</td>\n",
       "      <td>1.798967</td>\n",
       "    </tr>\n",
       "    <tr>\n",
       "      <th>38663</th>\n",
       "      <td>4.884674</td>\n",
       "      <td>-995.115326</td>\n",
       "      <td>CA</td>\n",
       "      <td>natural_gas</td>\n",
       "      <td>S</td>\n",
       "      <td>PL</td>\n",
       "      <td>NG</td>\n",
       "      <td>3987</td>\n",
       "      <td>8.0</td>\n",
       "      <td>34.155600</td>\n",
       "      <td>-118.27820</td>\n",
       "      <td>1000.0</td>\n",
       "      <td>-0.995115</td>\n",
       "      <td>5.8660</td>\n",
       "      <td>-994.1340</td>\n",
       "      <td>-0.994134</td>\n",
       "      <td>-0.981326</td>\n",
       "    </tr>\n",
       "    <tr>\n",
       "      <th>75587</th>\n",
       "      <td>4.916225</td>\n",
       "      <td>-995.083775</td>\n",
       "      <td>LA</td>\n",
       "      <td>natural_gas</td>\n",
       "      <td>S</td>\n",
       "      <td>PL</td>\n",
       "      <td>NG</td>\n",
       "      <td>2496</td>\n",
       "      <td>80.0</td>\n",
       "      <td>32.706100</td>\n",
       "      <td>-92.06830</td>\n",
       "      <td>1000.0</td>\n",
       "      <td>-0.995084</td>\n",
       "      <td>4.3740</td>\n",
       "      <td>-995.6260</td>\n",
       "      <td>-0.995626</td>\n",
       "      <td>0.542225</td>\n",
       "    </tr>\n",
       "    <tr>\n",
       "      <th>97176</th>\n",
       "      <td>5.014687</td>\n",
       "      <td>-994.985313</td>\n",
       "      <td>OH</td>\n",
       "      <td>natural_gas</td>\n",
       "      <td>S</td>\n",
       "      <td>PL</td>\n",
       "      <td>NG</td>\n",
       "      <td>1339</td>\n",
       "      <td>801.0</td>\n",
       "      <td>39.713900</td>\n",
       "      <td>-83.17780</td>\n",
       "      <td>1000.0</td>\n",
       "      <td>-0.994985</td>\n",
       "      <td>4.2560</td>\n",
       "      <td>-995.7440</td>\n",
       "      <td>-0.995744</td>\n",
       "      <td>0.758687</td>\n",
       "    </tr>\n",
       "    <tr>\n",
       "      <th>75589</th>\n",
       "      <td>5.541849</td>\n",
       "      <td>-994.458151</td>\n",
       "      <td>LA</td>\n",
       "      <td>natural_gas</td>\n",
       "      <td>S</td>\n",
       "      <td>PL</td>\n",
       "      <td>NG</td>\n",
       "      <td>2496</td>\n",
       "      <td>285.0</td>\n",
       "      <td>32.706100</td>\n",
       "      <td>-92.06830</td>\n",
       "      <td>1000.0</td>\n",
       "      <td>-0.994458</td>\n",
       "      <td>4.3740</td>\n",
       "      <td>-995.6260</td>\n",
       "      <td>-0.995626</td>\n",
       "      <td>1.167849</td>\n",
       "    </tr>\n",
       "    <tr>\n",
       "      <th>64889</th>\n",
       "      <td>6.155057</td>\n",
       "      <td>-993.844943</td>\n",
       "      <td>OK</td>\n",
       "      <td>natural_gas</td>\n",
       "      <td>S</td>\n",
       "      <td>PL</td>\n",
       "      <td>NG</td>\n",
       "      <td>4352</td>\n",
       "      <td>23.0</td>\n",
       "      <td>35.469880</td>\n",
       "      <td>-97.67498</td>\n",
       "      <td>1000.0</td>\n",
       "      <td>-0.993845</td>\n",
       "      <td>2.0160</td>\n",
       "      <td>-997.9840</td>\n",
       "      <td>-0.997984</td>\n",
       "      <td>4.139057</td>\n",
       "    </tr>\n",
       "    <tr>\n",
       "      <th>111371</th>\n",
       "      <td>7.432007</td>\n",
       "      <td>-992.567993</td>\n",
       "      <td>WI</td>\n",
       "      <td>natural_gas</td>\n",
       "      <td>S</td>\n",
       "      <td>PL</td>\n",
       "      <td>NG</td>\n",
       "      <td>1766</td>\n",
       "      <td>6.0</td>\n",
       "      <td>42.849200</td>\n",
       "      <td>-87.83360</td>\n",
       "      <td>1000.0</td>\n",
       "      <td>-0.992568</td>\n",
       "      <td>4.4530</td>\n",
       "      <td>-995.5470</td>\n",
       "      <td>-0.995547</td>\n",
       "      <td>2.979007</td>\n",
       "    </tr>\n",
       "    <tr>\n",
       "      <th>80179</th>\n",
       "      <td>8.360711</td>\n",
       "      <td>-991.639289</td>\n",
       "      <td>NC</td>\n",
       "      <td>natural_gas</td>\n",
       "      <td>S</td>\n",
       "      <td>PL</td>\n",
       "      <td>NG</td>\n",
       "      <td>2100</td>\n",
       "      <td>19.0</td>\n",
       "      <td>34.842311</td>\n",
       "      <td>-79.73609</td>\n",
       "      <td>1000.0</td>\n",
       "      <td>-0.991639</td>\n",
       "      <td>4.2710</td>\n",
       "      <td>-995.7290</td>\n",
       "      <td>-0.995729</td>\n",
       "      <td>4.089711</td>\n",
       "    </tr>\n",
       "    <tr>\n",
       "      <th>19804</th>\n",
       "      <td>10.274503</td>\n",
       "      <td>-989.725497</td>\n",
       "      <td>WI</td>\n",
       "      <td>natural_gas</td>\n",
       "      <td>S</td>\n",
       "      <td>PL</td>\n",
       "      <td>NG</td>\n",
       "      <td>335</td>\n",
       "      <td>19.0</td>\n",
       "      <td>43.751826</td>\n",
       "      <td>-87.87806</td>\n",
       "      <td>1000.0</td>\n",
       "      <td>-0.989725</td>\n",
       "      <td>7.5495</td>\n",
       "      <td>-992.4505</td>\n",
       "      <td>-0.992451</td>\n",
       "      <td>2.725003</td>\n",
       "    </tr>\n",
       "    <tr>\n",
       "      <th>75130</th>\n",
       "      <td>10.463791</td>\n",
       "      <td>-989.536209</td>\n",
       "      <td>NC</td>\n",
       "      <td>natural_gas</td>\n",
       "      <td>S</td>\n",
       "      <td>PL</td>\n",
       "      <td>NG</td>\n",
       "      <td>1369</td>\n",
       "      <td>56.0</td>\n",
       "      <td>34.842311</td>\n",
       "      <td>-79.73609</td>\n",
       "      <td>1000.0</td>\n",
       "      <td>-0.989536</td>\n",
       "      <td>6.2720</td>\n",
       "      <td>-993.7280</td>\n",
       "      <td>-0.993728</td>\n",
       "      <td>4.191791</td>\n",
       "    </tr>\n",
       "    <tr>\n",
       "      <th>54668</th>\n",
       "      <td>10.618886</td>\n",
       "      <td>-989.381114</td>\n",
       "      <td>WI</td>\n",
       "      <td>natural_gas</td>\n",
       "      <td>S</td>\n",
       "      <td>PL</td>\n",
       "      <td>NG</td>\n",
       "      <td>274</td>\n",
       "      <td>17.0</td>\n",
       "      <td>43.751826</td>\n",
       "      <td>-87.87806</td>\n",
       "      <td>1000.0</td>\n",
       "      <td>-0.989381</td>\n",
       "      <td>7.1195</td>\n",
       "      <td>-992.8805</td>\n",
       "      <td>-0.992880</td>\n",
       "      <td>3.499386</td>\n",
       "    </tr>\n",
       "    <tr>\n",
       "      <th>5555</th>\n",
       "      <td>10.686795</td>\n",
       "      <td>-989.313205</td>\n",
       "      <td>TX</td>\n",
       "      <td>natural_gas</td>\n",
       "      <td>S</td>\n",
       "      <td>PL</td>\n",
       "      <td>NG</td>\n",
       "      <td>4688</td>\n",
       "      <td>4.0</td>\n",
       "      <td>30.209800</td>\n",
       "      <td>-97.61290</td>\n",
       "      <td>1000.0</td>\n",
       "      <td>-0.989313</td>\n",
       "      <td>2.7490</td>\n",
       "      <td>-997.2510</td>\n",
       "      <td>-0.997251</td>\n",
       "      <td>7.937795</td>\n",
       "    </tr>\n",
       "    <tr>\n",
       "      <th>37200</th>\n",
       "      <td>11.599950</td>\n",
       "      <td>-988.400050</td>\n",
       "      <td>NC</td>\n",
       "      <td>natural_gas</td>\n",
       "      <td>S</td>\n",
       "      <td>PL</td>\n",
       "      <td>NG</td>\n",
       "      <td>1186</td>\n",
       "      <td>52.0</td>\n",
       "      <td>34.842311</td>\n",
       "      <td>-79.73609</td>\n",
       "      <td>1000.0</td>\n",
       "      <td>-0.988400</td>\n",
       "      <td>6.2820</td>\n",
       "      <td>-993.7180</td>\n",
       "      <td>-0.993718</td>\n",
       "      <td>5.317950</td>\n",
       "    </tr>\n",
       "    <tr>\n",
       "      <th>83170</th>\n",
       "      <td>13.305545</td>\n",
       "      <td>-986.694455</td>\n",
       "      <td>NE</td>\n",
       "      <td>natural_gas</td>\n",
       "      <td>C</td>\n",
       "      <td>&lt;NA&gt;</td>\n",
       "      <td>NG</td>\n",
       "      <td>60</td>\n",
       "      <td>3.0</td>\n",
       "      <td>40.922800</td>\n",
       "      <td>-98.32690</td>\n",
       "      <td>1000.0</td>\n",
       "      <td>-0.986694</td>\n",
       "      <td>9.5060</td>\n",
       "      <td>-990.4940</td>\n",
       "      <td>-0.990494</td>\n",
       "      <td>3.799545</td>\n",
       "    </tr>\n",
       "    <tr>\n",
       "      <th>86049</th>\n",
       "      <td>15.994990</td>\n",
       "      <td>-984.005010</td>\n",
       "      <td>AR</td>\n",
       "      <td>natural_gas</td>\n",
       "      <td>S</td>\n",
       "      <td>PL</td>\n",
       "      <td>NG</td>\n",
       "      <td>3257</td>\n",
       "      <td>348.0</td>\n",
       "      <td>36.185500</td>\n",
       "      <td>-94.28410</td>\n",
       "      <td>1000.0</td>\n",
       "      <td>-0.984005</td>\n",
       "      <td>3.9090</td>\n",
       "      <td>-996.0910</td>\n",
       "      <td>-0.996091</td>\n",
       "      <td>12.085990</td>\n",
       "    </tr>\n",
       "    <tr>\n",
       "      <th>92633</th>\n",
       "      <td>16.762138</td>\n",
       "      <td>-983.237862</td>\n",
       "      <td>MO</td>\n",
       "      <td>natural_gas</td>\n",
       "      <td>S</td>\n",
       "      <td>PL</td>\n",
       "      <td>NG</td>\n",
       "      <td>2708</td>\n",
       "      <td>10.0</td>\n",
       "      <td>39.309200</td>\n",
       "      <td>-91.53690</td>\n",
       "      <td>1000.0</td>\n",
       "      <td>-0.983238</td>\n",
       "      <td>3.2270</td>\n",
       "      <td>-996.7730</td>\n",
       "      <td>-0.996773</td>\n",
       "      <td>13.535138</td>\n",
       "    </tr>\n",
       "  </tbody>\n",
       "</table>\n",
       "</div>"
      ],
      "text/plain": [
       "          predict       error state fuel_group_code contract_type_code primary_transportation_mode_code energy_source_code  report_date  fuel_received_units   latitude  longitude  fuel_cost_per_mmbtu  rel_error  groupby_predict  groupby_error  groupby_rel_error  model_diff\n",
       "22452    3.077363 -996.922637    IN     natural_gas                  S                               PL                 NG         4627                350.0  41.720800  -86.90860               1000.0  -0.996923           2.0200      -997.9800          -0.997980    1.057363\n",
       "21331    3.359446 -996.640554    LA     natural_gas                  S                               PL                 NG         3013                161.0  32.706100  -92.06830               1000.0  -0.996641           2.2455      -997.7545          -0.997754    1.113946\n",
       "19719    3.541933 -996.458067    MS     natural_gas                  S                               PL                 NG         3319                822.0  30.439200  -89.02860               1000.0  -0.996458           3.2300      -996.7700          -0.996770    0.311933\n",
       "66687    4.593893 -995.406107    CA     natural_gas                  S                               PL                 NG         4138                  5.0  34.155600 -118.27820               1000.0  -0.995406           3.2130      -996.7870          -0.996787    1.380893\n",
       "66336    4.714967 -995.285033    ND     natural_gas                  C                               PL                 NG         4627                  5.0  46.866900 -100.88360               1000.0  -0.995285           2.9160      -997.0840          -0.997084    1.798967\n",
       "38663    4.884674 -995.115326    CA     natural_gas                  S                               PL                 NG         3987                  8.0  34.155600 -118.27820               1000.0  -0.995115           5.8660      -994.1340          -0.994134   -0.981326\n",
       "75587    4.916225 -995.083775    LA     natural_gas                  S                               PL                 NG         2496                 80.0  32.706100  -92.06830               1000.0  -0.995084           4.3740      -995.6260          -0.995626    0.542225\n",
       "97176    5.014687 -994.985313    OH     natural_gas                  S                               PL                 NG         1339                801.0  39.713900  -83.17780               1000.0  -0.994985           4.2560      -995.7440          -0.995744    0.758687\n",
       "75589    5.541849 -994.458151    LA     natural_gas                  S                               PL                 NG         2496                285.0  32.706100  -92.06830               1000.0  -0.994458           4.3740      -995.6260          -0.995626    1.167849\n",
       "64889    6.155057 -993.844943    OK     natural_gas                  S                               PL                 NG         4352                 23.0  35.469880  -97.67498               1000.0  -0.993845           2.0160      -997.9840          -0.997984    4.139057\n",
       "111371   7.432007 -992.567993    WI     natural_gas                  S                               PL                 NG         1766                  6.0  42.849200  -87.83360               1000.0  -0.992568           4.4530      -995.5470          -0.995547    2.979007\n",
       "80179    8.360711 -991.639289    NC     natural_gas                  S                               PL                 NG         2100                 19.0  34.842311  -79.73609               1000.0  -0.991639           4.2710      -995.7290          -0.995729    4.089711\n",
       "19804   10.274503 -989.725497    WI     natural_gas                  S                               PL                 NG          335                 19.0  43.751826  -87.87806               1000.0  -0.989725           7.5495      -992.4505          -0.992451    2.725003\n",
       "75130   10.463791 -989.536209    NC     natural_gas                  S                               PL                 NG         1369                 56.0  34.842311  -79.73609               1000.0  -0.989536           6.2720      -993.7280          -0.993728    4.191791\n",
       "54668   10.618886 -989.381114    WI     natural_gas                  S                               PL                 NG          274                 17.0  43.751826  -87.87806               1000.0  -0.989381           7.1195      -992.8805          -0.992880    3.499386\n",
       "5555    10.686795 -989.313205    TX     natural_gas                  S                               PL                 NG         4688                  4.0  30.209800  -97.61290               1000.0  -0.989313           2.7490      -997.2510          -0.997251    7.937795\n",
       "37200   11.599950 -988.400050    NC     natural_gas                  S                               PL                 NG         1186                 52.0  34.842311  -79.73609               1000.0  -0.988400           6.2820      -993.7180          -0.993718    5.317950\n",
       "83170   13.305545 -986.694455    NE     natural_gas                  C                             <NA>                 NG           60                  3.0  40.922800  -98.32690               1000.0  -0.986694           9.5060      -990.4940          -0.990494    3.799545\n",
       "86049   15.994990 -984.005010    AR     natural_gas                  S                               PL                 NG         3257                348.0  36.185500  -94.28410               1000.0  -0.984005           3.9090      -996.0910          -0.996091   12.085990\n",
       "92633   16.762138 -983.237862    MO     natural_gas                  S                               PL                 NG         2708                 10.0  39.309200  -91.53690               1000.0  -0.983238           3.2270      -996.7730          -0.996773   13.535138"
      ]
     },
     "execution_count": 52,
     "metadata": {},
     "output_type": "execute_result"
    }
   ],
   "source": [
    "error_test.loc[error_test['error'].abs().nlargest(20).index,:]"
   ]
  },
  {
   "cell_type": "code",
   "execution_count": 53,
   "metadata": {},
   "outputs": [],
   "source": [
    "import shap"
   ]
  },
  {
   "cell_type": "code",
   "execution_count": 54,
   "metadata": {},
   "outputs": [],
   "source": [
    "explainer = shap.TreeExplainer(model)"
   ]
  },
  {
   "cell_type": "code",
   "execution_count": 59,
   "metadata": {},
   "outputs": [],
   "source": [
    "%%time\n",
    "sample = x_test.sample(1_000)\n",
    "shap_values = explainer.shap_values(sample)"
   ]
  },
  {
   "cell_type": "code",
   "execution_count": 65,
   "metadata": {},
   "outputs": [
    {
     "data": {
      "image/png": "[encoded data removed]",
      "text/plain": [
       "<Figure size 576x367.2 with 2 Axes>"
      ]
     },
     "metadata": {
      "needs_background": "light"
     },
     "output_type": "display_data"
    }
   ],
   "source": [
    "shap.summary_plot(shap_values, sample)"
   ]
  },
  {
   "cell_type": "code",
   "execution_count": null,
   "metadata": {},
   "outputs": [],
   "source": []
  }
 ],
 "metadata": {
  "kernelspec": {
   "display_name": "Python 3 (ipykernel)",
   "language": "python",
   "name": "python3"
  },
  "language_info": {
   "codemirror_mode": {
    "name": "ipython",
    "version": 3
   },
   "file_extension": ".py",
   "mimetype": "text/x-python",
   "name": "python",
   "nbconvert_exporter": "python",
   "pygments_lexer": "ipython3",
   "version": "3.9.9"
  }
 },
 "nbformat": 4,
 "nbformat_minor": 4
}
