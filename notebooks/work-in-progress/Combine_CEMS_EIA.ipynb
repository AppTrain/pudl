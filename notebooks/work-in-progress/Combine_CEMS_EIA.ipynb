{
 "cells": [
  {
   "cell_type": "markdown",
   "id": "b4f6db74-0ad8-4418-bfc3-fdc12a07d750",
   "metadata": {
    "tags": []
   },
   "source": [
    "# CEMS-to-EIA Allocater"
   ]
  },
  {
   "cell_type": "markdown",
   "id": "55bad16e-25d6-499b-8d1e-75a4c436356a",
   "metadata": {
    "jp-MarkdownHeadingCollapsed": true,
    "tags": []
   },
   "source": [
    "## Setup"
   ]
  },
  {
   "cell_type": "code",
   "execution_count": 62,
   "id": "eb7fcab6-4d89-4950-946f-4232be6341a8",
   "metadata": {
    "tags": []
   },
   "outputs": [
    {
     "name": "stdout",
     "output_type": "stream",
     "text": [
      "The autoreload extension is already loaded. To reload it, use:\n",
      "  %reload_ext autoreload\n"
     ]
    }
   ],
   "source": [
    "%load_ext autoreload\n",
    "%autoreload 2\n",
    "\n",
    "import numpy as np\n",
    "import pudl\n",
    "import pandas as pd\n",
    "import logging\n",
    "import sys\n",
    "import sqlalchemy as sa\n",
    "import dask.dataframe as dd\n",
    "\n",
    "# basic setup for logging\n",
    "logger = logging.getLogger()\n",
    "logger.setLevel(logging.INFO)\n",
    "handler = logging.StreamHandler(stream=sys.stdout)\n",
    "formatter = logging.Formatter('%(message)s')\n",
    "handler.setFormatter(formatter)\n",
    "logger.handlers = [handler]"
   ]
  },
  {
   "cell_type": "code",
   "execution_count": 63,
   "id": "c76104c9-e83f-46ac-b5f3-ad5908a6af01",
   "metadata": {
    "tags": []
   },
   "outputs": [],
   "source": [
    "pudl_settings = pudl.workspace.setup.get_defaults()\n",
    "pudl_engine = sa.create_engine(pudl_settings[\"pudl_db\"])\n",
    "pudl_out = pudl.output.pudltabl.PudlTabl(pudl_engine,freq='AS')"
   ]
  },
  {
   "cell_type": "markdown",
   "id": "1e3c1eb4-bc59-40f7-96ad-088718e5d620",
   "metadata": {
    "tags": []
   },
   "source": [
    "#### Load CEMS"
   ]
  },
  {
   "cell_type": "code",
   "execution_count": 64,
   "id": "e25d8b80-47b2-4e54-91e7-f2e674fc72bd",
   "metadata": {},
   "outputs": [],
   "source": [
    "epacems_path = (pudl_settings['parquet_dir'] + f'/epacems/hourly_emissions_epacems.parquet')\n",
    "cems_dd = dd.read_parquet(\n",
    "    epacems_path, \n",
    "    columns=[\"year\", \"plant_id_eia\", \"emissions_unit_id_epa\", \"co2_mass_tons\"],\n",
    ")"
   ]
  },
  {
   "cell_type": "code",
   "execution_count": 66,
   "id": "132c57f5-90f7-4f2b-a07b-647e4dba9c36",
   "metadata": {},
   "outputs": [],
   "source": [
    "cems_df = cems_dd.groupby([\"year\", \"plant_id_eia\", \"emissions_unit_id_epa\"]).sum().compute().reset_index()"
   ]
  },
  {
   "cell_type": "code",
   "execution_count": 67,
   "id": "250d5ad8-06d4-4fb3-9a83-2866fc151a3c",
   "metadata": {},
   "outputs": [],
   "source": [
    "cems_df[\"plant_id_eia\"] = cems_df.plant_id_eia.astype(\"Int64\")\n",
    "#cems_df[\"co2_mass_tons\"] = cems_df.co2_mass_tons.fillna(0)"
   ]
  },
  {
   "cell_type": "markdown",
   "id": "dda4c669-4a7d-4024-b661-e618e9247903",
   "metadata": {
    "tags": []
   },
   "source": [
    "#### Load EPA-EIA Crosswalk"
   ]
  },
  {
   "cell_type": "code",
   "execution_count": 68,
   "id": "59114182-0920-47fc-8cc9-6792b301fbef",
   "metadata": {},
   "outputs": [],
   "source": [
    "crosswalk_df = pudl_out.epacamd_eia_crosswalk()"
   ]
  },
  {
   "cell_type": "markdown",
   "id": "a520696a-5c4d-4353-85fc-194f8cc7386e",
   "metadata": {
    "jp-MarkdownHeadingCollapsed": true,
    "tags": []
   },
   "source": [
    "#### Load EIA Generators"
   ]
  },
  {
   "cell_type": "code",
   "execution_count": 69,
   "id": "adb143d7-14f8-4528-86e8-8e553ff6eda9",
   "metadata": {},
   "outputs": [
    {
     "name": "stdout",
     "output_type": "stream",
     "text": [
      "Filling technology type\n",
      "Filled technology_type coverage now at 98.3%\n"
     ]
    }
   ],
   "source": [
    "eia_gens_df  = pudl_out.gens_eia860()"
   ]
  },
  {
   "cell_type": "markdown",
   "id": "9f3a3006-88d9-4dff-a728-bd141b48eb54",
   "metadata": {
    "tags": []
   },
   "source": [
    "## Pre-Integration Stats\n",
    "We don't expect all of the EIA plants to show up in CEMS because not all EIA plants are subject to the EPA's reporting requirements. The EIA plants we do expect to see in CEMS:\n",
    "- Burn Fossil Fuels\n",
    "- Have generators with more than 25MW of capacity\n",
    "- Are utility-owned\n",
    "- Are not retired\n",
    "- Are not old, simple combustion turbine units"
   ]
  },
  {
   "cell_type": "code",
   "execution_count": 266,
   "id": "9821e815-36ca-4aa1-aee2-34b7a8fe7f39",
   "metadata": {
    "jupyter": {
     "source_hidden": true
    },
    "tags": []
   },
   "outputs": [
    {
     "name": "stdout",
     "output_type": "stream",
     "text": [
      "PLANT STATS:\n",
      "Total CEMS plants:  1831\n",
      "CEMS plants NOT in crosswalk:  292  =  16 %\n",
      "Total Crosswalk plants:  1542\n",
      "\n",
      "PLANT-GEN STATS:\n",
      "Crosswalk plant gen pairs:  5297\n",
      "EIA plant gen pairs:  36377\n",
      "EIA plant gen pairs NOT in crosswalk:  31080  =  85 %\n"
     ]
    }
   ],
   "source": [
    "cems_plants = cems_df.plant_id_eia.unique().tolist()\n",
    "crosswalk_plants = crosswalk_df.plant_id_eia.unique().tolist()\n",
    "eia_plants = eia_gens_df.plant_id_eia.unique().tolist()\n",
    "\n",
    "print(\"PLANT STATS:\")\n",
    "print(\"Total CEMS plants: \", len1:=len(cems_plants))\n",
    "print(\"CEMS plants NOT in crosswalk: \", len2:=len([x for x in cems_plants if x not in crosswalk_plants]), \" = \", round(len2/len1*100), \"%\")\n",
    "print(\"Total Crosswalk plants: \", len(crosswalk_plants))\n",
    "print(\"\")\n",
    "\n",
    "\n",
    "crosswalk_gen_plants = crosswalk_df.drop_duplicates(subset=[\"plant_id_eia\", \"generator_id\"]).set_index([\"plant_id_eia\", \"generator_id\"])\n",
    "eia_gen_plants = eia_gens_df.drop_duplicates(subset=[\"plant_id_eia\", \"generator_id\"]).set_index([\"plant_id_eia\", \"generator_id\"])\n",
    "\n",
    "print(\"PLANT-GEN STATS:\")\n",
    "print(\"Crosswalk plant gen pairs: \", len3:=len(crosswalk_gen_plants))\n",
    "print(\"EIA plant gen pairs: \", len4:=len(eia_gen_plants))\n",
    "print(\"EIA plant gen pairs NOT in crosswalk: \", len5:=len(eia_gen_plants.index.difference(crosswalk_gen_plants.index)), \" = \", round(len5/len4*100), \"%\")"
   ]
  },
  {
   "cell_type": "markdown",
   "id": "11e6c35f-bbf3-4d86-be30-d30a3fc25316",
   "metadata": {
    "jp-MarkdownHeadingCollapsed": true,
    "tags": []
   },
   "source": [
    "## Merge CEMS with EIA"
   ]
  },
  {
   "cell_type": "code",
   "execution_count": 322,
   "id": "81b55d0b-1c16-42ae-b57c-914b2d46bb9b",
   "metadata": {},
   "outputs": [],
   "source": [
    "eia_gens_cems_merge = (\n",
    "    eia_gens_df[[\"report_date\", \"plant_id_eia\", \"generator_id\", \"capacity_mw\", \"technology_description\", \"operational_status\"]].merge(\n",
    "        crosswalk_df[[\"plant_id_eia\", \"generator_id\", \"emissions_unit_id_epa\"]], \n",
    "        how=\"left\", \n",
    "        on=[\"plant_id_eia\", \"generator_id\"])\n",
    "    .assign(year=lambda x: x.report_date.dt.year.astype(\"Int64\"))\n",
    "    .merge(\n",
    "        cems_df,\n",
    "        how=\"left\",\n",
    "        on=[\"year\", \"plant_id_eia\", \"emissions_unit_id_epa\"])\n",
    ")"
   ]
  },
  {
   "cell_type": "markdown",
   "id": "6517696a-199b-46f5-9702-3ea23e5e4e1b",
   "metadata": {
    "jp-MarkdownHeadingCollapsed": true,
    "jupyter": {
     "outputs_hidden": true
    },
    "tags": []
   },
   "source": [
    "## Allocate CEMS Emissions to EIA Generators"
   ]
  },
  {
   "cell_type": "code",
   "execution_count": 316,
   "id": "b8205019-1c1b-4730-a983-f239f5def642",
   "metadata": {
    "jupyter": {
     "source_hidden": true
    },
    "tags": []
   },
   "outputs": [],
   "source": [
    "def allocate_cols(\n",
    "    to_allocate: pd.DataFrame, by: list, data_and_allocator_cols: dict\n",
    ") -> pd.DataFrame:\n",
    "    \"\"\"\n",
    "    Allocate larger dataset records porportionally by EIA plant-part columns.\n",
    "    Args:\n",
    "        to_allocate: table of data that has been merged with the EIA plant-parts\n",
    "            records of the scale that you want the output to be in.\n",
    "        by: columns to group by.\n",
    "        data_and_allocator_cols: dict of data columns that you want to allocate (keys)\n",
    "            and ordered list of columns to allocate porportionally based on. Values\n",
    "            ordered based on priority: if non-null result from frist column, result\n",
    "            will include first column result, then second and so on.\n",
    "    Returns:\n",
    "        an augmented version of ``to_allocate`` with the data columns (keys in\n",
    "        ``data_and_allocator_cols``) allocated proportionally.\n",
    "    \"\"\"\n",
    "    # add a total column for all of the allocate cols.\n",
    "    all_allocator_cols = list(set(sum(data_and_allocator_cols.values(), [])))\n",
    "    to_allocate.loc[:, [f\"{c}_total\" for c in all_allocator_cols]] = (\n",
    "        to_allocate.groupby(by=by, dropna=False)[all_allocator_cols]\n",
    "        .transform(sum, min_count=1)\n",
    "        .add_suffix(\"_total\")\n",
    "    )\n",
    "    # for each of the columns we want to allocate the frc data by\n",
    "    # generate the % of the total group, so we can allocate the data_col\n",
    "    to_allocate = to_allocate.assign(\n",
    "        **{\n",
    "            f\"{col}_proportion\": to_allocate[col] / to_allocate[f\"{col}_total\"]\n",
    "            for col in all_allocator_cols\n",
    "        }\n",
    "    )\n",
    "    # do the allocation for each of the data columns\n",
    "    for data_col in data_and_allocator_cols:\n",
    "        output_col = f\"{data_col}_allocated\"\n",
    "        to_allocate.loc[:, output_col] = pd.NA\n",
    "        # choose the first non-null option. The order of the allocate_cols will\n",
    "        # determine which allocate_col will be used\n",
    "        for allocator_col in data_and_allocator_cols[data_col]:\n",
    "            to_allocate[output_col] = to_allocate[output_col].fillna(\n",
    "                to_allocate[data_col] * to_allocate[f\"{allocator_col}_proportion\"]\n",
    "            )\n",
    "    # drop and rename all the columns in the data_and_allocator_cols dict keys and\n",
    "    # return these columns in the dataframe\n",
    "    to_allocate = (\n",
    "        to_allocate.drop(columns=list(data_and_allocator_cols.keys()))\n",
    "        .rename(\n",
    "            columns={\n",
    "                f\"{data_col}_allocated\": data_col\n",
    "                for data_col in data_and_allocator_cols\n",
    "            }\n",
    "        )\n",
    "        .drop(\n",
    "            columns=list(to_allocate.filter(like=\"_proportion\").columns)\n",
    "            + [f\"{c}_total\" for c in all_allocator_cols]\n",
    "        )\n",
    "    )\n",
    "    return to_allocate"
   ]
  },
  {
   "cell_type": "code",
   "execution_count": 323,
   "id": "0de47d7e-fe5e-4b06-94c4-99e9479fc3b6",
   "metadata": {
    "tags": []
   },
   "outputs": [],
   "source": [
    "eia_gens_cems_agg = (\n",
    "    allocate_cols(\n",
    "        to_allocate=eia_gens_cems_merge,\n",
    "        by=[\"report_date\", \"plant_id_eia\", \"emissions_unit_id_epa\"],\n",
    "        data_and_allocator_cols={\"co2_mass_tons\": [\"capacity_mw\"]})\n",
    "    .groupby([\"report_date\", \"plant_id_eia\", \"generator_id\"])\n",
    "    .sum(min_count=1)\n",
    "    .reset_index()\n",
    "    .drop(columns=[\"year\"])\n",
    "    .merge(\n",
    "        eia_gens_df[[\"report_date\", \"plant_id_eia\", \"generator_id\", \"technology_description\", \"operational_status\"]],\n",
    "        how=\"left\",\n",
    "        on=[\"report_date\", \"plant_id_eia\", \"generator_id\"])\n",
    ")"
   ]
  },
  {
   "cell_type": "markdown",
   "id": "6ed6ebfe-7a66-458a-81d9-31b797d2efb6",
   "metadata": {
    "jp-MarkdownHeadingCollapsed": true,
    "tags": []
   },
   "source": [
    "#### Test Allocation on 2020 Subset"
   ]
  },
  {
   "cell_type": "code",
   "execution_count": 278,
   "id": "4501bfc7-b25a-400c-9922-f5bcabddb499",
   "metadata": {},
   "outputs": [],
   "source": [
    "test_df = eia_gens_df[(eia_gens_df[\"plant_id_eia\"]==3) & (eia_gens_df[\"report_date\"].dt.year==2020)]"
   ]
  },
  {
   "cell_type": "code",
   "execution_count": 279,
   "id": "7eca5275-da3f-4d1a-b32c-99f943685df0",
   "metadata": {
    "tags": []
   },
   "outputs": [
    {
     "name": "stderr",
     "output_type": "stream",
     "text": [
      "/var/folders/cd/6w7fpp711lsglpq_fxb57l3m0000gn/T/ipykernel_7748/1557213781.py:14: FutureWarning: The frame.append method is deprecated and will be removed from pandas in a future version. Use pandas.concat instead.\n",
      "  test_merge = test_merge.append(fake_row, ignore_index=True)\n"
     ]
    }
   ],
   "source": [
    "test_merge = (\n",
    "    test_df[[\"report_date\", \"plant_id_eia\", \"generator_id\", \"capacity_mw\", \"technology_description\"]].merge(\n",
    "        crosswalk_df[[\"plant_id_eia\", \"generator_id\", \"emissions_unit_id_epa\"]], \n",
    "        how=\"left\", \n",
    "        on=[\"plant_id_eia\", \"generator_id\"])\n",
    "    .assign(year=lambda x: x.report_date.dt.year.astype(\"Int64\"))\n",
    "    .merge(\n",
    "        cems_df,\n",
    "        how=\"left\",\n",
    "        on=[\"year\", \"plant_id_eia\", \"emissions_unit_id_epa\"])\n",
    ")\n",
    "\n",
    "fake_row = test_merge.iloc[14].replace(np.nan, 0.1)\n",
    "test_merge = test_merge.append(fake_row, ignore_index=True)"
   ]
  },
  {
   "cell_type": "code",
   "execution_count": 280,
   "id": "c897e36d-827e-4d52-be24-0aba2b4019f0",
   "metadata": {
    "tags": []
   },
   "outputs": [],
   "source": [
    "# If you want to allocate by something other than generator (plant or prive mover),\n",
    "# make sure the capacity value is for that level of aggregation.\n",
    "\n",
    "test_allocate = allocate_cols(\n",
    "    to_allocate=test_merge,\n",
    "    by=[\"report_date\", \"plant_id_eia\", \"emissions_unit_id_epa\"],\n",
    "    data_and_allocator_cols={\"co2_mass_tons\": [\"capacity_mw\"]}  \n",
    ")\n",
    "\n",
    "# Now sum up to generator level \n",
    "# It's very important to add min_count=1 to the groupby sum so that NA values\n",
    "# Stay NA and aren't converted to 0.\n",
    "\n",
    "# NOTE THAT RIGHT NOW if a record has a NA and non-NA value that get grouped together,\n",
    "# the NA is still treated like 0. Not ideal, but it depends.\n",
    "\n",
    "test_agg = (\n",
    "    test_allocate.groupby(\n",
    "        [\"report_date\", \"plant_id_eia\", \"generator_id\"]\n",
    "    ).sum(min_count=1).reset_index().drop(columns=[\"year\"])\n",
    ")"
   ]
  },
  {
   "cell_type": "markdown",
   "id": "5d183ccf-ab9f-4f22-b2dd-2a7ecca3bb66",
   "metadata": {},
   "source": [
    "## Post Integration Stats"
   ]
  },
  {
   "cell_type": "code",
   "execution_count": 324,
   "id": "84e8742c-60bb-4bb4-8ee5-53e286dd43d6",
   "metadata": {
    "tags": []
   },
   "outputs": [],
   "source": [
    "no_cems_match = eia_gens_cems_agg[eia_gens_cems_agg[\"co2_mass_tons\"].isna()]\n",
    "cems_match = eia_gens_cems_agg[eia_gens_cems_agg[\"co2_mass_tons\"].notna()]"
   ]
  },
  {
   "cell_type": "markdown",
   "id": "67f8cc74-37f2-4a36-9567-0ec63215b999",
   "metadata": {
    "jp-MarkdownHeadingCollapsed": true,
    "tags": []
   },
   "source": [
    "### Technology Description"
   ]
  },
  {
   "cell_type": "code",
   "execution_count": 369,
   "id": "1e1b1cfd-4fac-4c2b-b238-54533203e5d8",
   "metadata": {},
   "outputs": [
    {
     "data": {
      "text/plain": [
       "<AxesSubplot:>"
      ]
     },
     "execution_count": 369,
     "metadata": {},
     "output_type": "execute_result"
    },
    {
     "data": {
      "image/png": "[encoded data removed]",
      "text/plain": [
       "<Figure size 720x576 with 1 Axes>"
      ]
     },
     "metadata": {
      "needs_background": "light"
     },
     "output_type": "display_data"
    }
   ],
   "source": [
    "no_cems_match.technology_description.value_counts(dropna=False).plot(kind=\"barh\", figsize=(10, 8))"
   ]
  },
  {
   "cell_type": "code",
   "execution_count": 370,
   "id": "6b73856d-19b0-481f-b8a6-94096771bfcf",
   "metadata": {},
   "outputs": [
    {
     "data": {
      "text/plain": [
       "<AxesSubplot:>"
      ]
     },
     "execution_count": 370,
     "metadata": {},
     "output_type": "execute_result"
    },
    {
     "data": {
      "image/png": "[encoded data removed]",
      "text/plain": [
       "<Figure size 720x576 with 1 Axes>"
      ]
     },
     "metadata": {
      "needs_background": "light"
     },
     "output_type": "display_data"
    }
   ],
   "source": [
    "cems_match.technology_description.value_counts(dropna=False).plot(kind=\"barh\", figsize=(10, 8))"
   ]
  },
  {
   "cell_type": "markdown",
   "id": "30111c06-6750-44c9-b9ce-4edd22a250c8",
   "metadata": {
    "jp-MarkdownHeadingCollapsed": true,
    "tags": []
   },
   "source": [
    "### Capacity"
   ]
  },
  {
   "cell_type": "code",
   "execution_count": 371,
   "id": "4fc4f440-10eb-4efd-b2b9-3d11933d4cde",
   "metadata": {},
   "outputs": [
    {
     "data": {
      "text/plain": [
       "<AxesSubplot:>"
      ]
     },
     "execution_count": 371,
     "metadata": {},
     "output_type": "execute_result"
    },
    {
     "data": {
      "image/png": "[encoded data removed]",
      "text/plain": [
       "<Figure size 432x288 with 1 Axes>"
      ]
     },
     "metadata": {
      "needs_background": "light"
     },
     "output_type": "display_data"
    }
   ],
   "source": [
    "no_cems_match[no_cems_match[\"capacity_mw\"] < 1000].capacity_mw.hist(bins=50, alpha=0.5)"
   ]
  },
  {
   "cell_type": "code",
   "execution_count": 374,
   "id": "6db31a26-dd72-4799-b794-8dada75564d5",
   "metadata": {},
   "outputs": [
    {
     "data": {
      "text/plain": [
       "count    433009.000000\n",
       "mean         38.560670\n",
       "std         115.317649\n",
       "min           0.000000\n",
       "25%           1.200000\n",
       "50%           3.100000\n",
       "75%          23.900000\n",
       "max        7380.000000\n",
       "Name: capacity_mw, dtype: float64"
      ]
     },
     "execution_count": 374,
     "metadata": {},
     "output_type": "execute_result"
    }
   ],
   "source": [
    "no_cems_match.capacity_mw.describe()"
   ]
  },
  {
   "cell_type": "code",
   "execution_count": 372,
   "id": "59380fc8-065e-45ab-9817-e47323b99653",
   "metadata": {},
   "outputs": [
    {
     "data": {
      "text/plain": [
       "<AxesSubplot:>"
      ]
     },
     "execution_count": 372,
     "metadata": {},
     "output_type": "execute_result"
    },
    {
     "data": {
      "image/png": "[encoded data removed]",
      "text/plain": [
       "<Figure size 432x288 with 1 Axes>"
      ]
     },
     "metadata": {
      "needs_background": "light"
     },
     "output_type": "display_data"
    }
   ],
   "source": [
    "cems_match[cems_match[\"capacity_mw\"] < 1000].capacity_mw.hist(bins=50, alpha=0.5)"
   ]
  },
  {
   "cell_type": "code",
   "execution_count": 375,
   "id": "8f9f9bde-8001-49cf-8fb4-f54cbcf2935d",
   "metadata": {},
   "outputs": [
    {
     "data": {
      "text/plain": [
       "count    89867.000000\n",
       "mean       204.768463\n",
       "std        252.371394\n",
       "min          2.500000\n",
       "25%         62.000000\n",
       "50%        122.400000\n",
       "75%        210.000000\n",
       "max       7380.000000\n",
       "Name: capacity_mw, dtype: float64"
      ]
     },
     "execution_count": 375,
     "metadata": {},
     "output_type": "execute_result"
    }
   ],
   "source": [
    "cems_match.capacity_mw.describe()"
   ]
  },
  {
   "cell_type": "markdown",
   "id": "e9efc466-29e7-4bc7-92f9-45d6724178ea",
   "metadata": {},
   "source": [
    "### Given what we know about CEMS Reporting..."
   ]
  },
  {
   "cell_type": "code",
   "execution_count": 376,
   "id": "6aefe58e-c044-4c42-be23-7174ad3e337c",
   "metadata": {
    "jupyter": {
     "source_hidden": true
    },
    "tags": []
   },
   "outputs": [],
   "source": [
    "fossil_fuels = [\n",
    "     \"Conventional Steam Coal\",\n",
    "     \"Natural Gas Fired Combined Cycle\",\n",
    "     \"Natural Gas Fired Combustion Turbine\",\n",
    "     \"Natural Gas Steam Turbine\",\n",
    "     \"Petroleum Liquids\",\n",
    "     \"Natural Gas Internal Combustion Engine\",\n",
    "     \"Municipal Solid Waste\",\n",
    "     \"Wood/Wood Waste Biomass\",\n",
    "     \"Coal Integrated Gasification Combined Cycle\",\n",
    "     \"Petroleum Coke\",\n",
    "     \"Landfill Gas\",\n",
    "     \"Natural Gas with Compressed Air Storage\",\n",
    "     \"Other Gases\",\n",
    "     \"Other Waste Biomass\",\n",
    "     \"Other Natural Gas\"\n",
    "]"
   ]
  },
  {
   "cell_type": "code",
   "execution_count": 391,
   "id": "775774ff-37e3-4b13-8d7c-848cd6fe83db",
   "metadata": {},
   "outputs": [
    {
     "name": "stdout",
     "output_type": "stream",
     "text": [
      "78 % of existing EIA fossil fuel generators > 25MW have a CEMS match\n"
     ]
    }
   ],
   "source": [
    "exclude_exemptions = eia_gens_cems_agg[\n",
    "    eia_gens_cems_agg[\"technology_description\"].isin(fossil_fuels)\n",
    "    & (eia_gens_cems_agg[\"capacity_mw\"] > 25)\n",
    "    & (eia_gens_cems_agg[\"operational_status\"]==\"existing\")\n",
    "]\n",
    "\n",
    "print(100 - round(exclude_exemptions.co2_mass_tons.isna().sum() / len(exclude_exemptions) * 100), \"% of existing EIA fossil fuel generators > 25MW have a CEMS match\")"
   ]
  },
  {
   "cell_type": "code",
   "execution_count": 429,
   "id": "b399fa2d-8bc6-4bb8-8abb-6ab3837bdfc9",
   "metadata": {
    "tags": []
   },
   "outputs": [],
   "source": [
    "test = exclude_exemptions[exclude_exemptions[\"co2_mass_tons\"].isna()].technology_description.value_counts().reset_index()\n",
    "test2 = test.merge(exclude_exemptions[exclude_exemptions[\"co2_mass_tons\"].notna()].technology_description.value_counts().reset_index(), how=\"outer\", on=[\"index\"], suffixes=[\"_isna\", \"_notna\"])\n",
    "test3 = test2.merge(exclude_exemptions.technology_description.value_counts().reset_index(), how=\"outer\", on=[\"index\"])"
   ]
  },
  {
   "cell_type": "code",
   "execution_count": 433,
   "id": "b3311eb2-a506-474d-9eb9-e6597f929793",
   "metadata": {},
   "outputs": [],
   "source": [
    "test3[\"pct_na\"] = round(test3.technology_description_isna / test3.technology_description * 100)"
   ]
  },
  {
   "cell_type": "code",
   "execution_count": 436,
   "id": "01ea75f4-b8a2-48e8-b09c-37ddb9f0db37",
   "metadata": {},
   "outputs": [
    {
     "data": {
      "text/html": [
       "<div>\n",
       "<style scoped>\n",
       "    .dataframe tbody tr th:only-of-type {\n",
       "        vertical-align: middle;\n",
       "    }\n",
       "\n",
       "    .dataframe tbody tr th {\n",
       "        vertical-align: top;\n",
       "    }\n",
       "\n",
       "    .dataframe thead th {\n",
       "        text-align: right;\n",
       "    }\n",
       "</style>\n",
       "<table border=\"1\" class=\"dataframe\">\n",
       "  <thead>\n",
       "    <tr style=\"text-align: right;\">\n",
       "      <th></th>\n",
       "      <th>index</th>\n",
       "      <th>technology_description_isna</th>\n",
       "      <th>technology_description_notna</th>\n",
       "      <th>technology_description</th>\n",
       "      <th>pct_na</th>\n",
       "    </tr>\n",
       "  </thead>\n",
       "  <tbody>\n",
       "    <tr>\n",
       "      <th>11</th>\n",
       "      <td>Natural Gas with Compressed Air Storage</td>\n",
       "      <td>22</td>\n",
       "      <td>&lt;NA&gt;</td>\n",
       "      <td>22</td>\n",
       "      <td>100.0</td>\n",
       "    </tr>\n",
       "    <tr>\n",
       "      <th>6</th>\n",
       "      <td>Municipal Solid Waste</td>\n",
       "      <td>918</td>\n",
       "      <td>48</td>\n",
       "      <td>966</td>\n",
       "      <td>95.0</td>\n",
       "    </tr>\n",
       "    <tr>\n",
       "      <th>9</th>\n",
       "      <td>Other Waste Biomass</td>\n",
       "      <td>86</td>\n",
       "      <td>12</td>\n",
       "      <td>98</td>\n",
       "      <td>88.0</td>\n",
       "    </tr>\n",
       "    <tr>\n",
       "      <th>3</th>\n",
       "      <td>Wood/Wood Waste Biomass</td>\n",
       "      <td>2457</td>\n",
       "      <td>556</td>\n",
       "      <td>3013</td>\n",
       "      <td>82.0</td>\n",
       "    </tr>\n",
       "    <tr>\n",
       "      <th>7</th>\n",
       "      <td>Other Gases</td>\n",
       "      <td>556</td>\n",
       "      <td>335</td>\n",
       "      <td>891</td>\n",
       "      <td>62.0</td>\n",
       "    </tr>\n",
       "    <tr>\n",
       "      <th>8</th>\n",
       "      <td>Petroleum Coke</td>\n",
       "      <td>194</td>\n",
       "      <td>131</td>\n",
       "      <td>325</td>\n",
       "      <td>60.0</td>\n",
       "    </tr>\n",
       "    <tr>\n",
       "      <th>10</th>\n",
       "      <td>Landfill Gas</td>\n",
       "      <td>28</td>\n",
       "      <td>44</td>\n",
       "      <td>72</td>\n",
       "      <td>39.0</td>\n",
       "    </tr>\n",
       "    <tr>\n",
       "      <th>2</th>\n",
       "      <td>Petroleum Liquids</td>\n",
       "      <td>2924</td>\n",
       "      <td>5346</td>\n",
       "      <td>8270</td>\n",
       "      <td>35.0</td>\n",
       "    </tr>\n",
       "    <tr>\n",
       "      <th>0</th>\n",
       "      <td>Natural Gas Fired Combustion Turbine</td>\n",
       "      <td>7220</td>\n",
       "      <td>26180</td>\n",
       "      <td>33400</td>\n",
       "      <td>22.0</td>\n",
       "    </tr>\n",
       "    <tr>\n",
       "      <th>12</th>\n",
       "      <td>Coal Integrated Gasification Combined Cycle</td>\n",
       "      <td>15</td>\n",
       "      <td>55</td>\n",
       "      <td>70</td>\n",
       "      <td>21.0</td>\n",
       "    </tr>\n",
       "    <tr>\n",
       "      <th>5</th>\n",
       "      <td>Natural Gas Steam Turbine</td>\n",
       "      <td>1638</td>\n",
       "      <td>6596</td>\n",
       "      <td>8234</td>\n",
       "      <td>20.0</td>\n",
       "    </tr>\n",
       "    <tr>\n",
       "      <th>1</th>\n",
       "      <td>Natural Gas Fired Combined Cycle</td>\n",
       "      <td>5712</td>\n",
       "      <td>26345</td>\n",
       "      <td>32057</td>\n",
       "      <td>18.0</td>\n",
       "    </tr>\n",
       "    <tr>\n",
       "      <th>4</th>\n",
       "      <td>Conventional Steam Coal</td>\n",
       "      <td>2372</td>\n",
       "      <td>17595</td>\n",
       "      <td>19967</td>\n",
       "      <td>12.0</td>\n",
       "    </tr>\n",
       "  </tbody>\n",
       "</table>\n",
       "</div>"
      ],
      "text/plain": [
       "                                          index  technology_description_isna  technology_description_notna  technology_description  pct_na\n",
       "11      Natural Gas with Compressed Air Storage                           22                          <NA>                      22   100.0\n",
       "6                         Municipal Solid Waste                          918                            48                     966    95.0\n",
       "9                           Other Waste Biomass                           86                            12                      98    88.0\n",
       "3                       Wood/Wood Waste Biomass                         2457                           556                    3013    82.0\n",
       "7                                   Other Gases                          556                           335                     891    62.0\n",
       "8                                Petroleum Coke                          194                           131                     325    60.0\n",
       "10                                 Landfill Gas                           28                            44                      72    39.0\n",
       "2                             Petroleum Liquids                         2924                          5346                    8270    35.0\n",
       "0          Natural Gas Fired Combustion Turbine                         7220                         26180                   33400    22.0\n",
       "12  Coal Integrated Gasification Combined Cycle                           15                            55                      70    21.0\n",
       "5                     Natural Gas Steam Turbine                         1638                          6596                    8234    20.0\n",
       "1              Natural Gas Fired Combined Cycle                         5712                         26345                   32057    18.0\n",
       "4                       Conventional Steam Coal                         2372                         17595                   19967    12.0"
      ]
     },
     "execution_count": 436,
     "metadata": {},
     "output_type": "execute_result"
    }
   ],
   "source": [
    "test3.sort_values(\"pct_na\", ascending=False)"
   ]
  },
  {
   "cell_type": "code",
   "execution_count": 452,
   "id": "cf0efadd-d301-427a-b1e9-469803b6364c",
   "metadata": {},
   "outputs": [
    {
     "data": {
      "text/plain": [
       "<AxesSubplot:>"
      ]
     },
     "execution_count": 452,
     "metadata": {},
     "output_type": "execute_result"
    },
    {
     "data": {
      "image/png": "[encoded data removed]",
      "text/plain": [
       "<Figure size 432x288 with 1 Axes>"
      ]
     },
     "metadata": {
      "needs_background": "light"
     },
     "output_type": "display_data"
    }
   ],
   "source": [
    "still_na = exclude_exemptions[exclude_exemptions[\"co2_mass_tons\"].isna() & (exclude_exemptions[\"capacity_mw\"]<1000)]\n",
    "still_na.capacity_mw.hist(bins=30)"
   ]
  },
  {
   "cell_type": "code",
   "execution_count": 456,
   "id": "2c53588e-5ff2-4015-9cb0-3a4501bcf438",
   "metadata": {},
   "outputs": [
    {
     "data": {
      "text/plain": [
       "<AxesSubplot:>"
      ]
     },
     "execution_count": 456,
     "metadata": {},
     "output_type": "execute_result"
    },
    {
     "data": {
      "image/png": "[encoded data removed]",
      "text/plain": [
       "<Figure size 432x288 with 1 Axes>"
      ]
     },
     "metadata": {
      "needs_background": "light"
     },
     "output_type": "display_data"
    }
   ],
   "source": [
    "exclude_exemptions[exclude_exemptions[\"co2_mass_tons\"].notna() & (exclude_exemptions[\"capacity_mw\"]<2000)].capacity_mw.hist(bins=30)"
   ]
  },
  {
   "cell_type": "markdown",
   "id": "f162ef06-fc35-4238-9e6b-0ef41f8ac843",
   "metadata": {},
   "source": [
    "### Time"
   ]
  },
  {
   "cell_type": "code",
   "execution_count": 406,
   "id": "06ce4e87-f799-4286-b35e-69fb6deca07f",
   "metadata": {},
   "outputs": [
    {
     "data": {
      "text/plain": [
       "<AxesSubplot:>"
      ]
     },
     "execution_count": 406,
     "metadata": {},
     "output_type": "execute_result"
    },
    {
     "data": {
      "image/png": "[encoded data removed]",
      "text/plain": [
       "<Figure size 432x288 with 1 Axes>"
      ]
     },
     "metadata": {
      "needs_background": "light"
     },
     "output_type": "display_data"
    }
   ],
   "source": [
    "exclude_exemptions[exclude_exemptions[\"co2_mass_tons\"].isna()].report_date.value_counts().sort_index().plot.bar()"
   ]
  },
  {
   "cell_type": "code",
   "execution_count": null,
   "id": "4efb1b53-71f3-471a-9bd7-b4e339ef7654",
   "metadata": {},
   "outputs": [],
   "source": []
  }
 ],
 "metadata": {
  "kernelspec": {
   "display_name": "Python 3 (ipykernel)",
   "language": "python",
   "name": "python3"
  },
  "language_info": {
   "codemirror_mode": {
    "name": "ipython",
    "version": 3
   },
   "file_extension": ".py",
   "mimetype": "text/x-python",
   "name": "python",
   "nbconvert_exporter": "python",
   "pygments_lexer": "ipython3",
   "version": "3.10.5"
  }
 },
 "nbformat": 4,
 "nbformat_minor": 5
}
