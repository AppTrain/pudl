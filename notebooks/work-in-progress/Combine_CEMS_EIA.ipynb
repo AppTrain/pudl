{
 "cells": [
  {
   "cell_type": "markdown",
   "id": "b4f6db74-0ad8-4418-bfc3-fdc12a07d750",
   "metadata": {},
   "source": [
    "# CEMS Allocater"
   ]
  },
  {
   "cell_type": "code",
   "execution_count": 2,
   "id": "eb7fcab6-4d89-4950-946f-4232be6341a8",
   "metadata": {
    "jupyter": {
     "source_hidden": true
    },
    "tags": []
   },
   "outputs": [],
   "source": [
    "%load_ext autoreload\n",
    "%autoreload 2\n",
    "\n",
    "import numpy as np\n",
    "import pudl\n",
    "import pandas as pd\n",
    "import logging\n",
    "import sys\n",
    "import sqlalchemy as sa\n",
    "import dask.dataframe as dd\n",
    "\n",
    "# basic setup for logging\n",
    "logger = logging.getLogger()\n",
    "logger.setLevel(logging.INFO)\n",
    "handler = logging.StreamHandler(stream=sys.stdout)\n",
    "formatter = logging.Formatter('%(message)s')\n",
    "handler.setFormatter(formatter)\n",
    "logger.handlers = [handler]"
   ]
  },
  {
   "cell_type": "code",
   "execution_count": 3,
   "id": "c76104c9-e83f-46ac-b5f3-ad5908a6af01",
   "metadata": {
    "jupyter": {
     "source_hidden": true
    },
    "tags": []
   },
   "outputs": [],
   "source": [
    "pudl_settings = pudl.workspace.setup.get_defaults()\n",
    "pudl_engine = sa.create_engine(pudl_settings[\"pudl_db\"])\n",
    "pudl_out = pudl.output.pudltabl.PudlTabl(pudl_engine,freq='AS')"
   ]
  },
  {
   "cell_type": "markdown",
   "id": "1e3c1eb4-bc59-40f7-96ad-088718e5d620",
   "metadata": {},
   "source": [
    "#### CEMS"
   ]
  },
  {
   "cell_type": "code",
   "execution_count": 8,
   "id": "e25d8b80-47b2-4e54-91e7-f2e674fc72bd",
   "metadata": {},
   "outputs": [],
   "source": [
    "epacems_path = (pudl_settings['parquet_dir'] + f'/epacems/hourly_emissions_epacems.parquet')\n",
    "cems_dd = dd.read_parquet(\n",
    "    epacems_path, \n",
    "    columns=[\"year\", \"plant_id_eia\", \"emissions_unit_id_epa\", \"co2_mass_tons\"],\n",
    ")"
   ]
  },
  {
   "cell_type": "code",
   "execution_count": 9,
   "id": "132c57f5-90f7-4f2b-a07b-647e4dba9c36",
   "metadata": {},
   "outputs": [],
   "source": [
    "cems_df = cems_dd.groupby([\"year\", \"plant_id_eia\", \"emissions_unit_id_epa\"]).sum().compute()"
   ]
  },
  {
   "cell_type": "code",
   "execution_count": 49,
   "id": "11f9f3e8-1df7-4483-8cd6-6dff9471e381",
   "metadata": {},
   "outputs": [],
   "source": [
    "cems_df = cems_df.reset_index()"
   ]
  },
  {
   "cell_type": "code",
   "execution_count": 118,
   "id": "250d5ad8-06d4-4fb3-9a83-2866fc151a3c",
   "metadata": {},
   "outputs": [],
   "source": [
    "cems_df[\"plant_id_eia\"] = cems_df.plant_id_eia.astype(\"Int64\")\n",
    "cems_df[\"co2_mass_tons\"] = cems_df.co2_mass_tons.fillna(0)"
   ]
  },
  {
   "cell_type": "markdown",
   "id": "dda4c669-4a7d-4024-b661-e618e9247903",
   "metadata": {},
   "source": [
    "#### Crosswalk"
   ]
  },
  {
   "cell_type": "code",
   "execution_count": 23,
   "id": "59114182-0920-47fc-8cc9-6792b301fbef",
   "metadata": {},
   "outputs": [],
   "source": [
    "crosswalk_df = pudl_out.epacamd_eia_crosswalk()"
   ]
  },
  {
   "cell_type": "markdown",
   "id": "a520696a-5c4d-4353-85fc-194f8cc7386e",
   "metadata": {},
   "source": [
    "#### EIA"
   ]
  },
  {
   "cell_type": "code",
   "execution_count": 12,
   "id": "adb143d7-14f8-4528-86e8-8e553ff6eda9",
   "metadata": {},
   "outputs": [
    {
     "name": "stdout",
     "output_type": "stream",
     "text": [
      "Filling technology type\n",
      "Filled technology_type coverage now at 98.1%\n"
     ]
    }
   ],
   "source": [
    "eia_gens_df  = pudl_out.gens_eia860()"
   ]
  },
  {
   "cell_type": "markdown",
   "id": "e11438ec-759c-4726-bcc0-5e38dfa1cd6c",
   "metadata": {},
   "source": [
    "#### Allocate"
   ]
  },
  {
   "cell_type": "code",
   "execution_count": 355,
   "id": "fb5f633a-c11c-40a5-96d9-3889ba421107",
   "metadata": {
    "tags": []
   },
   "outputs": [],
   "source": [
    "def allocate_cols(\n",
    "    to_allocate: pd.DataFrame, by: list, data_and_allocator_cols: dict\n",
    ") -> pd.DataFrame:\n",
    "    \"\"\"\n",
    "    Allocate larger dataset records porportionally by EIA plant-part columns.\n",
    "    Args:\n",
    "        to_allocate: table of data that has been merged with the EIA plant-parts\n",
    "            records of the scale that you want the output to be in.\n",
    "        by: columns to group by.\n",
    "        data_and_allocator_cols: dict of data columns that you want to allocate (keys)\n",
    "            and ordered list of columns to allocate porportionally based on. Values\n",
    "            ordered based on priority: if non-null result from frist column, result\n",
    "            will include first column result, then second and so on.\n",
    "    Returns:\n",
    "        an augmented version of ``to_allocate`` with the data columns (keys in\n",
    "        ``data_and_allocator_cols``) allocated proportionally.\n",
    "    \"\"\"\n",
    "    # add a total column for all of the allocate cols.\n",
    "    all_allocator_cols = list(set(sum(data_and_allocator_cols.values(), [])))\n",
    "    to_allocate.loc[:, [f\"{c}_total\" for c in all_allocator_cols]] = (\n",
    "        to_allocate.groupby(by=by, dropna=False)[all_allocator_cols]\n",
    "        .transform(sum, min_count=1)\n",
    "        .add_suffix(\"_total\")\n",
    "    )\n",
    "    # for each of the columns we want to allocate the frc data by\n",
    "    # generate the % of the total group, so we can allocate the data_col\n",
    "    to_allocate = to_allocate.assign(\n",
    "        **{\n",
    "            f\"{col}_proportion\": to_allocate[col] / to_allocate[f\"{col}_total\"]\n",
    "            for col in all_allocator_cols\n",
    "        }\n",
    "    )\n",
    "    # do the allocation for each of the data columns\n",
    "    for data_col in data_and_allocator_cols:\n",
    "        output_col = f\"{data_col}_allocated\"\n",
    "        to_allocate.loc[:, output_col] = pd.NA\n",
    "        # choose the first non-null option. The order of the allocate_cols will\n",
    "        # determine which allocate_col will be used\n",
    "        for allocator_col in data_and_allocator_cols[data_col]:\n",
    "            to_allocate[output_col] = to_allocate[output_col].fillna(\n",
    "                to_allocate[data_col] * to_allocate[f\"{allocator_col}_proportion\"]\n",
    "            )\n",
    "    # drop and rename all the columns in the data_and_allocator_cols dict keys and\n",
    "    # return these columns in the dataframe\n",
    "    to_allocate = (\n",
    "        to_allocate.drop(columns=list(data_and_allocator_cols.keys()))\n",
    "        .rename(\n",
    "            columns={\n",
    "                f\"{data_col}_allocated\": data_col\n",
    "                for data_col in data_and_allocator_cols\n",
    "            }\n",
    "        )\n",
    "        .drop(\n",
    "            columns=list(to_allocate.filter(like=\"_proportion\").columns)\n",
    "            + [f\"{c}_total\" for c in all_allocator_cols]\n",
    "        )\n",
    "    )\n",
    "    return to_allocate"
   ]
  },
  {
   "cell_type": "markdown",
   "id": "6ed6ebfe-7a66-458a-81d9-31b797d2efb6",
   "metadata": {},
   "source": [
    "#### TEST ALLOCATE"
   ]
  },
  {
   "cell_type": "code",
   "execution_count": 299,
   "id": "4501bfc7-b25a-400c-9922-f5bcabddb499",
   "metadata": {},
   "outputs": [],
   "source": [
    "test = eia_gens_df[(eia_gens_df[\"plant_id_eia\"]==3) & (eia_gens_df[\"report_date\"].dt.year==2020)]"
   ]
  },
  {
   "cell_type": "code",
   "execution_count": 300,
   "id": "7eca5275-da3f-4d1a-b32c-99f943685df0",
   "metadata": {
    "tags": []
   },
   "outputs": [],
   "source": [
    "test_merge = test.merge(crosswalk_df[[\"plant_id_eia\", \"generator_id\", \"emissions_unit_id_epa\"]], how=\"left\", on=[\"plant_id_eia\", \"generator_id\"])\n",
    "test_merge = test_merge[[\"report_date\", \"plant_id_eia\", \"generator_id\", \"emissions_unit_id_epa\", \"capacity_mw\"]]\n",
    "test_merge[\"year\"] = test_merge.report_date.dt.year\n",
    "test_merge[\"year\"] = test_merge.year.astype(\"Int64\")\n",
    "test_merge = test_merge.merge(cems_df, how=\"left\", on=[\"year\", \"plant_id_eia\", \"emissions_unit_id_epa\"])\n",
    "test_merge[\"co2_mass_tons\"] = test_merge.co2_mass_tons.fillna(0).astype(int)"
   ]
  },
  {
   "cell_type": "code",
   "execution_count": 301,
   "id": "090bd266-97d0-4407-82c3-cee1b36ffb92",
   "metadata": {},
   "outputs": [
    {
     "name": "stdout",
     "output_type": "stream",
     "text": [
      "15\n",
      "13\n"
     ]
    }
   ],
   "source": [
    "print(len(test_merge))\n",
    "print(len(test))"
   ]
  },
  {
   "cell_type": "code",
   "execution_count": 302,
   "id": "c897e36d-827e-4d52-be24-0aba2b4019f0",
   "metadata": {
    "tags": []
   },
   "outputs": [],
   "source": [
    "# If you want to allocate by something other than generator (plant or prive mover),\n",
    "# make sure the capacity value is for that level of aggregation.\n",
    "\n",
    "tt = allocate_cols(\n",
    "    to_allocate=test_merge,\n",
    "    by=[\"report_date\", \"plant_id_eia\", \"emissions_unit_id_epa\"],\n",
    "    data_and_allocator_cols={\"co2_mass_tons\": [\"capacity_mw\"]}  \n",
    ")"
   ]
  },
  {
   "cell_type": "code",
   "execution_count": 308,
   "id": "fee7731a-569f-47a8-9d2f-aab9d45df5fc",
   "metadata": {
    "collapsed": true,
    "jupyter": {
     "outputs_hidden": true
    },
    "tags": []
   },
   "outputs": [
    {
     "data": {
      "text/html": [
       "<div>\n",
       "<style scoped>\n",
       "    .dataframe tbody tr th:only-of-type {\n",
       "        vertical-align: middle;\n",
       "    }\n",
       "\n",
       "    .dataframe tbody tr th {\n",
       "        vertical-align: top;\n",
       "    }\n",
       "\n",
       "    .dataframe thead th {\n",
       "        text-align: right;\n",
       "    }\n",
       "</style>\n",
       "<table border=\"1\" class=\"dataframe\">\n",
       "  <thead>\n",
       "    <tr style=\"text-align: right;\">\n",
       "      <th></th>\n",
       "      <th>report_date</th>\n",
       "      <th>plant_id_eia</th>\n",
       "      <th>generator_id</th>\n",
       "      <th>capacity_mw</th>\n",
       "      <th>co2_mass_tons</th>\n",
       "    </tr>\n",
       "  </thead>\n",
       "  <tbody>\n",
       "    <tr>\n",
       "      <th>0</th>\n",
       "      <td>2020-01-01</td>\n",
       "      <td>3</td>\n",
       "      <td>1</td>\n",
       "      <td>153.1</td>\n",
       "      <td>4.667000e+03</td>\n",
       "    </tr>\n",
       "    <tr>\n",
       "      <th>1</th>\n",
       "      <td>2020-01-01</td>\n",
       "      <td>3</td>\n",
       "      <td>2</td>\n",
       "      <td>153.1</td>\n",
       "      <td>1.697000e+03</td>\n",
       "    </tr>\n",
       "    <tr>\n",
       "      <th>2</th>\n",
       "      <td>2020-01-01</td>\n",
       "      <td>3</td>\n",
       "      <td>3</td>\n",
       "      <td>272.0</td>\n",
       "      <td>0.000000e+00</td>\n",
       "    </tr>\n",
       "    <tr>\n",
       "      <th>3</th>\n",
       "      <td>2020-01-01</td>\n",
       "      <td>3</td>\n",
       "      <td>4</td>\n",
       "      <td>403.7</td>\n",
       "      <td>1.640450e+05</td>\n",
       "    </tr>\n",
       "    <tr>\n",
       "      <th>4</th>\n",
       "      <td>2020-01-01</td>\n",
       "      <td>3</td>\n",
       "      <td>5</td>\n",
       "      <td>788.8</td>\n",
       "      <td>3.128656e+06</td>\n",
       "    </tr>\n",
       "    <tr>\n",
       "      <th>5</th>\n",
       "      <td>2020-01-01</td>\n",
       "      <td>3</td>\n",
       "      <td>A1CT</td>\n",
       "      <td>170.1</td>\n",
       "      <td>3.964052e+05</td>\n",
       "    </tr>\n",
       "    <tr>\n",
       "      <th>6</th>\n",
       "      <td>2020-01-01</td>\n",
       "      <td>3</td>\n",
       "      <td>A1CT2</td>\n",
       "      <td>170.1</td>\n",
       "      <td>4.309728e+05</td>\n",
       "    </tr>\n",
       "    <tr>\n",
       "      <th>7</th>\n",
       "      <td>2020-01-01</td>\n",
       "      <td>3</td>\n",
       "      <td>A1ST</td>\n",
       "      <td>390.4</td>\n",
       "      <td>9.494661e+05</td>\n",
       "    </tr>\n",
       "    <tr>\n",
       "      <th>8</th>\n",
       "      <td>2020-01-01</td>\n",
       "      <td>3</td>\n",
       "      <td>A2C1</td>\n",
       "      <td>170.1</td>\n",
       "      <td>4.108155e+05</td>\n",
       "    </tr>\n",
       "    <tr>\n",
       "      <th>9</th>\n",
       "      <td>2020-01-01</td>\n",
       "      <td>3</td>\n",
       "      <td>A2C2</td>\n",
       "      <td>170.1</td>\n",
       "      <td>4.137542e+05</td>\n",
       "    </tr>\n",
       "    <tr>\n",
       "      <th>10</th>\n",
       "      <td>2020-01-01</td>\n",
       "      <td>3</td>\n",
       "      <td>A2ST</td>\n",
       "      <td>390.4</td>\n",
       "      <td>9.462434e+05</td>\n",
       "    </tr>\n",
       "    <tr>\n",
       "      <th>11</th>\n",
       "      <td>2020-01-01</td>\n",
       "      <td>3</td>\n",
       "      <td>A3C1</td>\n",
       "      <td>464.0</td>\n",
       "      <td>0.000000e+00</td>\n",
       "    </tr>\n",
       "    <tr>\n",
       "      <th>12</th>\n",
       "      <td>2020-01-01</td>\n",
       "      <td>3</td>\n",
       "      <td>A3ST</td>\n",
       "      <td>310.0</td>\n",
       "      <td>0.000000e+00</td>\n",
       "    </tr>\n",
       "  </tbody>\n",
       "</table>\n",
       "</div>"
      ],
      "text/plain": [
       "   report_date  plant_id_eia generator_id  capacity_mw  co2_mass_tons\n",
       "0   2020-01-01             3            1        153.1   4.667000e+03\n",
       "1   2020-01-01             3            2        153.1   1.697000e+03\n",
       "2   2020-01-01             3            3        272.0   0.000000e+00\n",
       "3   2020-01-01             3            4        403.7   1.640450e+05\n",
       "4   2020-01-01             3            5        788.8   3.128656e+06\n",
       "5   2020-01-01             3         A1CT        170.1   3.964052e+05\n",
       "6   2020-01-01             3        A1CT2        170.1   4.309728e+05\n",
       "7   2020-01-01             3         A1ST        390.4   9.494661e+05\n",
       "8   2020-01-01             3         A2C1        170.1   4.108155e+05\n",
       "9   2020-01-01             3         A2C2        170.1   4.137542e+05\n",
       "10  2020-01-01             3         A2ST        390.4   9.462434e+05\n",
       "11  2020-01-01             3         A3C1        464.0   0.000000e+00\n",
       "12  2020-01-01             3         A3ST        310.0   0.000000e+00"
      ]
     },
     "execution_count": 308,
     "metadata": {},
     "output_type": "execute_result"
    }
   ],
   "source": [
    "# Now sum up to generator level \n",
    "tt.groupby([\"report_date\", \"plant_id_eia\", \"generator_id\"]).sum().reset_index().drop(columns=[\"year\"])"
   ]
  },
  {
   "cell_type": "markdown",
   "id": "7263bb02-a591-4c00-8d68-90bc420da840",
   "metadata": {},
   "source": [
    "#### ALLOCATE WITH ALL GENS"
   ]
  },
  {
   "cell_type": "code",
   "execution_count": 356,
   "id": "a9b4e5aa-5d28-49a0-8274-dd071a208232",
   "metadata": {},
   "outputs": [],
   "source": [
    "## Merge with whole CEMS!\n",
    "#test = eia_gens_df[(eia_gens_df[\"plant_id_eia\"]==3) & (eia_gens_df[\"report_date\"].dt.year==2020)]\n",
    "cems_merge1 = eia_gens_df.merge(crosswalk_df[[\"plant_id_eia\", \"generator_id\", \"emissions_unit_id_epa\"]], how=\"left\", on=[\"plant_id_eia\", \"generator_id\"])\n",
    "cems_merge1 = cems_merge1[[\"report_date\", \"plant_id_eia\", \"generator_id\", \"emissions_unit_id_epa\", \"capacity_mw\", \"technology_description\"]]\n",
    "cems_merge1[\"year\"] = cems_merge1.report_date.dt.year\n",
    "cems_merge1[\"year\"] = cems_merge1.year.astype(\"Int64\")\n",
    "cems_merge2 = cems_merge1.merge(cems_df, how=\"left\", on=[\"year\", \"plant_id_eia\", \"emissions_unit_id_epa\"])\n",
    "cems_merge2[\"co2_mass_tons\"] = cems_merge2.co2_mass_tons.fillna(0).astype(int)"
   ]
  },
  {
   "cell_type": "code",
   "execution_count": 357,
   "id": "6597f5d5-dd70-487d-9b3b-1182e60058d7",
   "metadata": {
    "tags": []
   },
   "outputs": [],
   "source": [
    "cems_gen_agg = allocate_cols(\n",
    "    to_allocate=cems_merge2,\n",
    "    by=[\"report_date\", \"plant_id_eia\", \"emissions_unit_id_epa\"],\n",
    "    data_and_allocator_cols={\"co2_mass_tons\": [\"capacity_mw\"]}\n",
    ").groupby([\"report_date\", \"plant_id_eia\", \"generator_id\"]).sum(\n",
    ").reset_index(\n",
    ").drop(columns=[\"year\"])"
   ]
  },
  {
   "cell_type": "code",
   "execution_count": 343,
   "id": "100ca68f-3f4b-42d3-a32e-1f4ab19af3a4",
   "metadata": {},
   "outputs": [
    {
     "name": "stdout",
     "output_type": "stream",
     "text": [
      "491469\n"
     ]
    }
   ],
   "source": [
    "print(len(cems_gen_agg))"
   ]
  },
  {
   "cell_type": "code",
   "execution_count": 346,
   "id": "057f5eb9-00b5-4732-97f2-3f2398666d39",
   "metadata": {},
   "outputs": [
    {
     "name": "stdout",
     "output_type": "stream",
     "text": [
      "78.90833399461614\n",
      "387810\n",
      "491469\n",
      "\n",
      "68.23238873700286\n",
      "219376\n",
      "321513\n"
     ]
    }
   ],
   "source": [
    "bb = cems_merge1.drop_duplicates(subset=[\"report_date\", \"plant_id_eia\", \"generator_id\"])\n",
    "print(len(bb[bb[\"emissions_unit_id_epa\"].isna()]) / len(bb) * 100)\n",
    "print(len(bb[bb[\"emissions_unit_id_epa\"].isna()]))\n",
    "print(len(bb))\n",
    "print(\"\")\n",
    "\n",
    "fossil = cems_merge1[cems_merge1[\"technology_description\"].isin(\n",
    "    [\"Conventional Steam Coal\",\n",
    "     \"Natural Gas Fired Combined Cycle\",\n",
    "     \"Natural Gas Fired Combustion Turbine\",\n",
    "     \"Natural Gas Steam Turbine\",\n",
    "     \"Petroleum Liquids\",\n",
    "     \"Natural Gas Internal Combustion Engine\",\n",
    "     \"Municipal Solid Waste\",\n",
    "     \"Wood/Wood Waste Biomass\",\n",
    "     \"Coal Integrated Gasification Combined Cycle\",\n",
    "     \"Petroleum Coke\",\n",
    "     \"Landfill Gas\",\n",
    "     \"Natural Gas with Compressed Air Storage\",\n",
    "     \"Other Gases\",\n",
    "     \"Other Waste Biomass\",\n",
    "     \"Other Natural Gas\"])]\n",
    "\n",
    "ff = fossil.drop_duplicates(subset=[\"report_date\", \"plant_id_eia\", \"generator_id\"])\n",
    "print(len(ff[ff[\"emissions_unit_id_epa\"].isna()]) / len(ff) * 100)\n",
    "print(len(ff[ff[\"emissions_unit_id_epa\"].isna()]))\n",
    "print(len(ff))"
   ]
  },
  {
   "cell_type": "code",
   "execution_count": 360,
   "id": "b251e390-aa40-4a2d-a27b-3154cb9f258c",
   "metadata": {},
   "outputs": [],
   "source": [
    "non_agg.to_pickle(\"/Users/austensharpe/Desktop/non_agg.pkl\")"
   ]
  },
  {
   "cell_type": "code",
   "execution_count": 361,
   "id": "7ef8817d-47d5-4577-8f23-efea140acb06",
   "metadata": {},
   "outputs": [],
   "source": [
    "agg.to_pickle(\"/Users/austensharpe/Desktop/agg.pkl\")"
   ]
  },
  {
   "cell_type": "code",
   "execution_count": 362,
   "id": "e28101a6-661d-41e0-8bff-47efa3d869a5",
   "metadata": {},
   "outputs": [
    {
     "data": {
      "text/html": [
       "<div>\n",
       "<style scoped>\n",
       "    .dataframe tbody tr th:only-of-type {\n",
       "        vertical-align: middle;\n",
       "    }\n",
       "\n",
       "    .dataframe tbody tr th {\n",
       "        vertical-align: top;\n",
       "    }\n",
       "\n",
       "    .dataframe thead th {\n",
       "        text-align: right;\n",
       "    }\n",
       "</style>\n",
       "<table border=\"1\" class=\"dataframe\">\n",
       "  <thead>\n",
       "    <tr style=\"text-align: right;\">\n",
       "      <th></th>\n",
       "      <th>report_date</th>\n",
       "      <th>plant_id_eia</th>\n",
       "      <th>generator_id</th>\n",
       "      <th>capacity_mw</th>\n",
       "      <th>co2_mass_tons</th>\n",
       "    </tr>\n",
       "  </thead>\n",
       "  <tbody>\n",
       "    <tr>\n",
       "      <th>0</th>\n",
       "      <td>2001-01-01</td>\n",
       "      <td>2</td>\n",
       "      <td>1</td>\n",
       "      <td>45.0</td>\n",
       "      <td>0.0</td>\n",
       "    </tr>\n",
       "    <tr>\n",
       "      <th>1</th>\n",
       "      <td>2001-01-01</td>\n",
       "      <td>3</td>\n",
       "      <td>1</td>\n",
       "      <td>153.1</td>\n",
       "      <td>951508.0</td>\n",
       "    </tr>\n",
       "    <tr>\n",
       "      <th>2</th>\n",
       "      <td>2001-01-01</td>\n",
       "      <td>3</td>\n",
       "      <td>2</td>\n",
       "      <td>153.1</td>\n",
       "      <td>902068.0</td>\n",
       "    </tr>\n",
       "    <tr>\n",
       "      <th>3</th>\n",
       "      <td>2001-01-01</td>\n",
       "      <td>3</td>\n",
       "      <td>3</td>\n",
       "      <td>272.0</td>\n",
       "      <td>1969314.0</td>\n",
       "    </tr>\n",
       "    <tr>\n",
       "      <th>4</th>\n",
       "      <td>2001-01-01</td>\n",
       "      <td>3</td>\n",
       "      <td>4</td>\n",
       "      <td>403.7</td>\n",
       "      <td>2843765.0</td>\n",
       "    </tr>\n",
       "    <tr>\n",
       "      <th>...</th>\n",
       "      <td>...</td>\n",
       "      <td>...</td>\n",
       "      <td>...</td>\n",
       "      <td>...</td>\n",
       "      <td>...</td>\n",
       "    </tr>\n",
       "    <tr>\n",
       "      <th>491464</th>\n",
       "      <td>2021-01-01</td>\n",
       "      <td>65333</td>\n",
       "      <td>785</td>\n",
       "      <td>200.0</td>\n",
       "      <td>0.0</td>\n",
       "    </tr>\n",
       "    <tr>\n",
       "      <th>491465</th>\n",
       "      <td>2021-01-01</td>\n",
       "      <td>65334</td>\n",
       "      <td>PLTVW</td>\n",
       "      <td>81.0</td>\n",
       "      <td>0.0</td>\n",
       "    </tr>\n",
       "    <tr>\n",
       "      <th>491466</th>\n",
       "      <td>2021-01-01</td>\n",
       "      <td>65335</td>\n",
       "      <td>WAPPA</td>\n",
       "      <td>171.8</td>\n",
       "      <td>0.0</td>\n",
       "    </tr>\n",
       "    <tr>\n",
       "      <th>491467</th>\n",
       "      <td>2021-01-01</td>\n",
       "      <td>65337</td>\n",
       "      <td>MAYBK</td>\n",
       "      <td>5.0</td>\n",
       "      <td>0.0</td>\n",
       "    </tr>\n",
       "    <tr>\n",
       "      <th>491468</th>\n",
       "      <td>2021-01-01</td>\n",
       "      <td>65338</td>\n",
       "      <td>UNIS1</td>\n",
       "      <td>108.0</td>\n",
       "      <td>0.0</td>\n",
       "    </tr>\n",
       "  </tbody>\n",
       "</table>\n",
       "<p>491469 rows × 5 columns</p>\n",
       "</div>"
      ],
      "text/plain": [
       "       report_date  plant_id_eia generator_id  capacity_mw  co2_mass_tons\n",
       "0       2001-01-01             2            1         45.0            0.0\n",
       "1       2001-01-01             3            1        153.1       951508.0\n",
       "2       2001-01-01             3            2        153.1       902068.0\n",
       "3       2001-01-01             3            3        272.0      1969314.0\n",
       "4       2001-01-01             3            4        403.7      2843765.0\n",
       "...            ...           ...          ...          ...            ...\n",
       "491464  2021-01-01         65333          785        200.0            0.0\n",
       "491465  2021-01-01         65334        PLTVW         81.0            0.0\n",
       "491466  2021-01-01         65335        WAPPA        171.8            0.0\n",
       "491467  2021-01-01         65337        MAYBK          5.0            0.0\n",
       "491468  2021-01-01         65338        UNIS1        108.0            0.0\n",
       "\n",
       "[491469 rows x 5 columns]"
      ]
     },
     "execution_count": 362,
     "metadata": {},
     "output_type": "execute_result"
    }
   ],
   "source": []
  },
  {
   "cell_type": "code",
   "execution_count": null,
   "id": "be47f82c-6273-47eb-9a87-d92d9beefd46",
   "metadata": {},
   "outputs": [],
   "source": []
  }
 ],
 "metadata": {
  "kernelspec": {
   "display_name": "Python 3 (ipykernel)",
   "language": "python",
   "name": "python3"
  },
  "language_info": {
   "codemirror_mode": {
    "name": "ipython",
    "version": 3
   },
   "file_extension": ".py",
   "mimetype": "text/x-python",
   "name": "python",
   "nbconvert_exporter": "python",
   "pygments_lexer": "ipython3",
   "version": "3.10.5"
  }
 },
 "nbformat": 4,
 "nbformat_minor": 5
}
