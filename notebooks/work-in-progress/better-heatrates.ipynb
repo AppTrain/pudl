{
 "cells": [
  {
   "cell_type": "markdown",
   "metadata": {},
   "source": [
    "# Notebook Preamble"
   ]
  },
  {
   "cell_type": "code",
   "execution_count": 1,
   "metadata": {},
   "outputs": [],
   "source": [
    "%load_ext autoreload\n",
    "%autoreload 2"
   ]
  },
  {
   "cell_type": "code",
   "execution_count": 2,
   "metadata": {},
   "outputs": [],
   "source": [
    "# Standard libraries\n",
    "import logging\n",
    "import os\n",
    "import pathlib\n",
    "import sys\n",
    "\n",
    "# 3rd party libraries\n",
    "import matplotlib.pyplot as plt\n",
    "import matplotlib as mpl\n",
    "import numpy as np\n",
    "import pandas as pd\n",
    "import seaborn as sns\n",
    "import sqlalchemy as sa\n",
    "\n",
    "# Local libraries\n",
    "import pudl\n",
    "import pudl.constants as pc"
   ]
  },
  {
   "cell_type": "code",
   "execution_count": 3,
   "metadata": {},
   "outputs": [],
   "source": [
    "sns.set()\n",
    "%matplotlib inline\n",
    "mpl.rcParams['figure.figsize'] = (10,4)\n",
    "mpl.rcParams['figure.dpi'] = 100\n",
    "pd.options.display.max_columns = 100\n",
    "pd.options.display.max_rows = 100"
   ]
  },
  {
   "cell_type": "code",
   "execution_count": 4,
   "metadata": {},
   "outputs": [],
   "source": [
    "logger=logging.getLogger()\n",
    "logger.setLevel(logging.INFO)\n",
    "handler = logging.StreamHandler(stream=sys.stdout)\n",
    "formatter = logging.Formatter('%(message)s')\n",
    "handler.setFormatter(formatter)\n",
    "logger.handlers = [handler]"
   ]
  },
  {
   "cell_type": "markdown",
   "metadata": {},
   "source": [
    "# Function Definitions"
   ]
  },
  {
   "cell_type": "markdown",
   "metadata": {},
   "source": [
    "## `prep_gens()`"
   ]
  },
  {
   "cell_type": "code",
   "execution_count": 5,
   "metadata": {},
   "outputs": [],
   "source": [
    "def prep_gens(pudl_out, prime_mover_codes):\n",
    "    \"\"\"\n",
    "    Preproccessing function to look at generators by prime mover and year.\n",
    "    \"\"\"\n",
    "    gens_eia860 = pudl_out.gens_eia860()\n",
    "    # Generator selection criteria\n",
    "    working_gens = gens_eia860.loc[gens_eia860.prime_mover_code.isin(prime_mover_codes)]\n",
    "    # Calculate the annual generation by generator\n",
    "    net_gen_by_gen = (\n",
    "        pudl_out.gen_eia923()\n",
    "        .set_index(\"report_date\")\n",
    "        .groupby([pd.Grouper(freq=\"AS\"), \"plant_id_eia\", \"generator_id\"])\n",
    "        .net_generation_mwh.sum()\n",
    "        .to_frame()\n",
    "        .reset_index()\n",
    "    )\n",
    "    # Merge annual generation by generator into the working DF\n",
    "    return pd.merge(\n",
    "        working_gens,\n",
    "        net_gen_by_gen,\n",
    "        how=\"left\",\n",
    "        validate=\"1:1\",\n",
    "    )"
   ]
  },
  {
   "cell_type": "markdown",
   "metadata": {},
   "source": [
    "## `unit_gen_coverage()`"
   ]
  },
  {
   "cell_type": "code",
   "execution_count": 6,
   "metadata": {},
   "outputs": [],
   "source": [
    "def unit_gen_coverage(prepped_gens):\n",
    "    \"\"\"\n",
    "    Characterize generator-level PUDL Unit ID coverage by year.\n",
    "    \n",
    "    For each year and fossil fuel prime mover code, calculate:\n",
    "    \n",
    "    * number & fraction of generator_id values that have a unit_id_pudl\n",
    "    * sum and fraction of overall capacity (MW) that has a unit_id_pudl\n",
    "    * sum and fraction of overall generation (MWh) associated with a\n",
    "      unit_id_pudl in the generation_eia923 table\n",
    "    \n",
    "    \"\"\"\n",
    "    working_gens = prepped_gens.copy()\n",
    "    # A boolean column indicating whether a record has a PUDL Unit ID\n",
    "    working_gens.loc[:, \"has_unit_id\"] = working_gens.unit_id_pudl.notna()\n",
    "    \n",
    "    def tot_frac(df, col):\n",
    "        return df.loc[:, (col, True)] / df[col].sum(axis=\"columns\")\n",
    "    \n",
    "    working_gens = (\n",
    "        working_gens.groupby([\"report_date\", \"prime_mover_code\", \"has_unit_id\"])\n",
    "        .agg(\n",
    "            num_gens=pd.NamedAgg(column=\"generator_id\", aggfunc=\"size\"),\n",
    "            capacity_mw=pd.NamedAgg(column=\"capacity_mw\", aggfunc=\"sum\"),\n",
    "            net_generation_mwh=pd.NamedAgg(column=\"net_generation_mwh\", aggfunc=\"sum\"),\n",
    "        )\n",
    "        .unstack(fill_value=0)\n",
    "        .assign(\n",
    "            num_gens_fraction=lambda x: tot_frac(x, \"num_gens\"),\n",
    "            capacity_mw_fraction=lambda x: tot_frac(x, \"capacity_mw\"),\n",
    "            net_generation_mwh_fraction=lambda x: tot_frac(x, \"net_generation_mwh\"),\n",
    "        )\n",
    "    )\n",
    "    return working_gens"
   ]
  },
  {
   "cell_type": "markdown",
   "metadata": {},
   "source": [
    "## `chp_prevalence()`"
   ]
  },
  {
   "cell_type": "code",
   "execution_count": 7,
   "metadata": {},
   "outputs": [],
   "source": [
    "def chp_prevalence(gens_df):\n",
    "    \"\"\"\n",
    "    Assess the prevalence of Combined Heat & Power in Generators.\n",
    "    \n",
    "    Break down generators by year and prime mover, and within each group\n",
    "    calculate the proportion and total quantity associated with CHP per\n",
    "    \n",
    "    * number of generators\n",
    "    * capacity (MW)\n",
    "    * generation (MWh) in the generation_eia923 table\n",
    "    \"\"\"\n",
    "    gens_working = gens_df.copy()\n",
    "    # A boolean column indicating whether a record is associated with CHP\n",
    "    gens_working.loc[:, \"ass_chap\"] = gens_working.associated_combined_heat_power.astype(bool)\n",
    "    \n",
    "    def tot_frac(df, col):\n",
    "        return df.loc[:, (col, True)] / df[col].sum(axis=\"columns\")\n",
    "    \n",
    "    gens_working = (\n",
    "        gens_working.groupby([\"report_date\", \"prime_mover_code\", \"ass_chap\"])\n",
    "        .agg(\n",
    "            num_gens=pd.NamedAgg(column=\"generator_id\", aggfunc=\"size\"),\n",
    "            capacity_mw=pd.NamedAgg(column=\"capacity_mw\", aggfunc=\"sum\"),\n",
    "            net_generation_mwh=pd.NamedAgg(column=\"net_generation_mwh\", aggfunc=\"sum\"),\n",
    "        )\n",
    "        .unstack(fill_value=0)\n",
    "        .assign(\n",
    "            num_gens_fraction=lambda x: tot_frac(x, \"num_gens\"),\n",
    "            capacity_mw_fraction=lambda x: tot_frac(x, \"capacity_mw\"),\n",
    "            net_generation_mwh_fraction=lambda x: tot_frac(x, \"net_generation_mwh\"),\n",
    "        )\n",
    "    )\n",
    "    return gens_working "
   ]
  },
  {
   "cell_type": "markdown",
   "metadata": {},
   "source": [
    "## `plot_unit_ids()`"
   ]
  },
  {
   "cell_type": "code",
   "execution_count": 16,
   "metadata": {},
   "outputs": [],
   "source": [
    "def plot_unit_ids(df, pm_codes):\n",
    "    for code in pm_codes:\n",
    "        data = (\n",
    "            df[df.prime_mover_code==code]\n",
    "            .groupby(\"report_date\")[\"unit_id_pudl\"]\n",
    "            .count()\n",
    "        )\n",
    "        plt.plot(data, label=code, linewidth=\"2\", markersize=\"4\", marker=\"o\")\n",
    "    plt.legend(loc=\"upper left\")\n",
    "    plt.ylabel(\"Generator Records with Unit IDs\")\n",
    "    plt.show();"
   ]
  },
  {
   "cell_type": "markdown",
   "metadata": {},
   "source": [
    "# Pull data & set constants"
   ]
  },
  {
   "cell_type": "markdown",
   "metadata": {},
   "source": [
    "## Notebook Constants"
   ]
  },
  {
   "cell_type": "code",
   "execution_count": 176,
   "metadata": {},
   "outputs": [],
   "source": [
    "THERMAL_PRIME_MOVERS = [ \"CT\", \"CS\", \"CA\", \"CC\", \"GT\", \"IC\", \"ST\", ]\n",
    "\n",
    "GENS_COLS = [\n",
    "    \"report_date\",\n",
    "    \"plant_id_eia\",\n",
    "    #\"plant_name_eia\",\n",
    "    \"unit_id_pudl\",\n",
    "    \"bga_source\",\n",
    "    \"generator_id\",\n",
    "    #\"capacity_mw\",\n",
    "    \"prime_mover_code\",\n",
    "    #\"energy_source_code_1\",\n",
    "    #\"energy_source_code_2\",\n",
    "    \"fuel_type_code_pudl\",\n",
    "    #\"technology_description\",\n",
    "    #\"associated_combined_heat_power\",\n",
    "]\n"
   ]
  },
  {
   "cell_type": "markdown",
   "metadata": {
    "tags": []
   },
   "source": [
    "## Create PUDL output object"
   ]
  },
  {
   "cell_type": "code",
   "execution_count": 177,
   "metadata": {},
   "outputs": [
    {
     "data": {
      "text/plain": [
       "{'pudl_in': '/home/zane/code/catalyst/pudl-work',\n",
       " 'data_dir': '/home/zane/code/catalyst/pudl-work/data',\n",
       " 'settings_dir': '/home/zane/code/catalyst/pudl-work/settings',\n",
       " 'pudl_out': '/home/zane/code/catalyst/pudl-work',\n",
       " 'sqlite_dir': '/home/zane/code/catalyst/pudl-work/sqlite',\n",
       " 'parquet_dir': '/home/zane/code/catalyst/pudl-work/parquet',\n",
       " 'datapkg_dir': '/home/zane/code/catalyst/pudl-work/datapkg',\n",
       " 'ferc1_db': 'sqlite:////home/zane/code/catalyst/pudl-work/sqlite/ferc1.sqlite',\n",
       " 'pudl_db': 'sqlite:////home/zane/code/catalyst/pudl-work/sqlite/pudl.sqlite',\n",
       " 'censusdp1tract_db': 'sqlite:////home/zane/code/catalyst/pudl-work/sqlite/censusdp1tract.sqlite'}"
      ]
     },
     "metadata": {},
     "output_type": "display_data"
    }
   ],
   "source": [
    "pudl_settings = pudl.workspace.setup.get_defaults()\n",
    "display(pudl_settings)\n",
    "\n",
    "ferc1_engine = sa.create_engine(pudl_settings['ferc1_db'])\n",
    "pudl_engine = sa.create_engine(pudl_settings['pudl_db'])\n",
    "\n",
    "API_KEY_EIA = os.environ[\"API_KEY_EIA\"]\n",
    "\n",
    "pudl_out = pudl.output.pudltabl.PudlTabl(pudl_engine)"
   ]
  },
  {
   "cell_type": "markdown",
   "metadata": {},
   "source": [
    "# Improve PUDL Unit ID Coverage\n",
    "* Initially, most generators are not part of generation units, as defined by the boiler generator association (BGA)\n",
    "* To implement a uniform heat rate calculation process, we need unit IDs that indicate which aggregations of generation and fuel consumption should be considered together.\n",
    "* This section applies several different methods to expand the number of fossil fuel generators that are part of generation units.\n",
    "* Most of these methods depend on the prime mover and in some case fuel type associated with the generator.\n",
    "* Prime mover and fuel type are available both in the generator and the generation_fuel tables."
   ]
  },
  {
   "cell_type": "markdown",
   "metadata": {
    "tags": []
   },
   "source": [
    "## All In One ID Assignment\n",
    "* Without saving intermediary dataframes for diagnostic purposes, the process looks like this:"
   ]
  },
  {
   "cell_type": "code",
   "execution_count": 292,
   "metadata": {
    "tags": []
   },
   "outputs": [
    {
     "name": "stdout",
     "output_type": "stream",
     "text": [
      "Selected 173100 ['CC', 'CS', 'GT', 'IC'] records lacking Unit IDs from 403832 records overall. \n",
      "Using fuel type nuclear as label_prefix.\n",
      "Selected 1891 ['ST'] records lacking Unit IDs from 403832 records overall. \n",
      "Selected 13040 ST records lacking Unit IDs burning coal from 403832 records overall.\n",
      "Selected 2099 ST records lacking Unit IDs burning oil from 403832 records overall.\n",
      "Selected 9858 ST records lacking Unit IDs burning gas from 403832 records overall.\n",
      "Selected 4669 ST records lacking Unit IDs burning waste from 403832 records overall.\n",
      "CPU times: user 2min 13s, sys: 9.73 s, total: 2min 23s\n",
      "Wall time: 2min 28s\n"
     ]
    }
   ],
   "source": [
    "%%time\n",
    "gens_eia860 = pudl_out.gens_eia860(update=True)\n",
    "#gens_df = pudl.output.eia860.assign_unit_ids(gens_eia860)"
   ]
  },
  {
   "cell_type": "markdown",
   "metadata": {},
   "source": [
    "## Fuel-based Unit IDs for Steam Turbines\n",
    "For the steam turbines (`prime_mover_code==ST`) that still do not have a `unit_id_pudl`, aggregate them within each plant based on their simplified fuel type (`fuel_type_code_pudl`) and assign them an ID.\n",
    "\n",
    "### Nuclear\n",
    "* Nuclear Units don't report in the `boiler_fuel_eia923` and `generation_eia923` tables.\n",
    "* Their fuel consumption is given only in terms of heat content, and only in the `generation_fuel_eia923` table.\n",
    "* Their `net_generation_mwh` only appears in the `generation_fuel_eia923` table.\n",
    "* The `generation_fuel_eia923` table provides a `nuclear_unit_id` column, which appears to correspond to `generator_id` in the `generators_eia860` table.\n",
    "* Unfortunately we can't just use the `nuclear_unit_id` / `generator_id` directly as the `unit_id_pudl`, since those numbers might already be assigned to other units within the plant, we still need to do the incrementing thing.\n",
    "\n",
    "### Combustion Based Fuels\n",
    "* Only assign unit IDs when the generator's `fuel_type_code_pudl` is unique across all years.\n",
    "* This will lump together solid fuels like BIT, LIG, SUB, PC, etc. which are similar into \"coal\"\n",
    "* There are a small number of generators which may have actually changed their fuel type (coal to gas conversions) and which also don't have `unit_id_pudl` values, but they aren't substantial.\n",
    "\n",
    "### Non-Combustion Steam Turbines\n",
    "* Geothermal\n",
    "* Solar Thermal"
   ]
  },
  {
   "cell_type": "markdown",
   "metadata": {},
   "source": [
    "## Unit ID assignment tasks:\n",
    "* Verify that we can treat `nuclear_unit_id` as `generator_id` -- by comparing indices of `generation_fuel_eia923` and `generators_eia860` for nuclear plants.\n",
    "* Assign a `unit_id_pudl` to all generators within a plant that:\n",
    "  * do not yet have a `unit_id_pudl` assigned.\n",
    "  * have `prime_mover_code` of `ST`\n",
    "  * have a single consistent `fuel_type_code_pudl` across all years.\n",
    "* Label them as `FUEL_st` where `FUEL` is their `fuel_type_code_pudl`"
   ]
  },
  {
   "cell_type": "markdown",
   "metadata": {},
   "source": [
    "### Some weird plants\n",
    "* There's a small number of plants in which the `unit_id_pudl` doesn't seem to start at 1. Not sure why this would ever be the case."
   ]
  },
  {
   "cell_type": "code",
   "execution_count": null,
   "metadata": {},
   "outputs": [],
   "source": [
    "plants_without_first_unit_id = dude[dude.min_unit_id_pudl > 1].plant_id_eia.unique()\n",
    "plants_without_first_unit_id "
   ]
  },
  {
   "cell_type": "markdown",
   "metadata": {},
   "source": [
    "## Pull the original generator data and simplify\n",
    "* For the moment we are starting with the full catalog of generator attributes.\n",
    "* We need access to some of the data fields (prime mover, fuel type, technology type...)\n",
    "* However, the Unit ID assignment process is really producing entity-level connections.\n",
    "* So far as I can tell, the Unit ID values should be constant across all years."
   ]
  },
  {
   "cell_type": "code",
   "execution_count": null,
   "metadata": {},
   "outputs": [],
   "source": [
    "%%time\n",
    "gens1 = pudl_out.gens_eia860()[GENS_COLS]"
   ]
  },
  {
   "cell_type": "markdown",
   "metadata": {},
   "source": [
    "## Fill in missing BGA units\n",
    "* Many cases in which generation units didn't report completely (esp. before 2014)\n",
    "* However, often the boiler & generator IDs and associations appear to be the same.\n",
    "* We can back/forward fill the boiler IDs prior to the BGA process, and get consistent units across all years.\n",
    "* Can also back/forward fill boiler IDs and unit IDs after the fact and *should* get the same result.\n",
    "* This will address many currently \"boilerless\" CCNG units which have use generator ID as boiler ID in latter years.\n",
    "* We could try and apply this more generally, but in the cases of generator IDs that haven't been used as boiler IDs, it would break the FK relationship with the boiler table, unless we added them there too, which seems like a lot of muddling"
   ]
  },
  {
   "cell_type": "code",
   "execution_count": null,
   "metadata": {},
   "outputs": [],
   "source": [
    "%%time\n",
    "gens2 = fill_unit_ids(gens1)"
   ]
  },
  {
   "cell_type": "markdown",
   "metadata": {},
   "source": [
    "## Simple Units\n",
    "* Any single-shaft Combined Cycle generator (CS -- always single-gen)\n",
    "  * There are a few hundred of these w/o unit_id_pudl values.\n",
    "  * Each one corresponds to a single unique (plant_id_eia, generator_id).\n",
    "* Any whole Combined Cycle generator (CC -- always single-gen)\n",
    "  * These are \"generators\" for which the combustion & steam turbines co-report.\n",
    "* Gas Turbines (GT)\n",
    "* Internal Combustion Engines (IC)"
   ]
  },
  {
   "cell_type": "code",
   "execution_count": null,
   "metadata": {},
   "outputs": [],
   "source": [
    "%%time\n",
    "simple_pm_codes = [\"CC\", \"CS\", \"GT\", \"IC\"]\n",
    "gens3 = assign_simple_unit_ids(gens2, prime_mover_codes=simple_pm_codes)"
   ]
  },
  {
   "cell_type": "markdown",
   "metadata": {},
   "source": [
    "## Aggregated Unique Combined Cycle Units\n",
    "* For any plant that contains both CA and CT generators,\n",
    "* and **only** has a signle CA **or** a single CT,\n",
    "* all the CA and CT generators must be part of the same unit."
   ]
  },
  {
   "cell_type": "code",
   "execution_count": null,
   "metadata": {},
   "outputs": [],
   "source": [
    "%%time\n",
    "gens4 = assign_unique_combined_cycle_unit_ids(gens3)"
   ]
  },
  {
   "cell_type": "markdown",
   "metadata": {},
   "source": [
    "## Aggregated Complex Combined Cycle Units\n",
    "* For any plant that contains more than one CA and more than one CT,\n",
    "* we cannot distinguish which ones are connected to each other,\n",
    "* thus they must all be aggregated into a single unit."
   ]
  },
  {
   "cell_type": "code",
   "execution_count": null,
   "metadata": {},
   "outputs": [],
   "source": [
    "%time\n",
    "gens5 = assign_complex_combined_cycle_unit_ids(gens4)"
   ]
  },
  {
   "cell_type": "markdown",
   "metadata": {},
   "source": [
    "## Orphaned Combined Cycle Generators\n",
    "* In some plants there are **only** CA or CT generators, but not both.\n",
    "* Can this arrangement actually be valid? Or does it mean that some generators are mislabeled ST and GT?\n",
    "* How can we identify ST and GT generators that are actually part of combined cycle units?"
   ]
  },
  {
   "cell_type": "code",
   "execution_count": null,
   "metadata": {},
   "outputs": [],
   "source": [
    "%%time\n",
    "gens6 = (\n",
    "    gens5.pipe(flag_orphan_combined_cycle_gens, orphan_code=\"CA\")\n",
    "    .pipe(flag_orphan_combined_cycle_gens, orphan_code=\"CT\")\n",
    ")"
   ]
  },
  {
   "cell_type": "markdown",
   "metadata": {},
   "source": [
    "## Explore pre-existing unit structure\n",
    "* How are steam turbines of a given fuel type typically arranged in generation units?\n",
    "* How many generators share a unit ID with each ST generator?\n",
    "* How does this vary depending on primary fuel type (gas vs. coal vs. nuclear, etc.)?\n",
    "* Count the number of generators in each unit, and merge that back onto the dataframe.\n",
    "* Select records from the result based on fuel_type_code_pudl and prime_mover_code and make histograms."
   ]
  },
  {
   "cell_type": "code",
   "execution_count": null,
   "metadata": {},
   "outputs": [],
   "source": [
    "gens_with_units = (\n",
    "    gens1.dropna(subset=[\"unit_id_pudl\"])\n",
    "    .drop_duplicates(subset=[\"plant_id_eia\", \"generator_id\"])\n",
    "    .loc[:, [\"plant_id_eia\", \"unit_id_pudl\", \"generator_id\", \"prime_mover_code\", \"fuel_type_code_pudl\"]]\n",
    ")\n",
    "\n",
    "unit_gen_count = gens_with_units.merge(\n",
    "    gens_with_units\n",
    "    .groupby([\"plant_id_eia\", \"unit_id_pudl\"])[\"generator_id\"].count()\n",
    "    .rename(\"unit_gen_count\")\n",
    "    .reset_index(),\n",
    "    on=[\"plant_id_eia\", \"unit_id_pudl\"],\n",
    "    how=\"left\",\n",
    "    validate=\"many_to_one\"\n",
    ")"
   ]
  },
  {
   "cell_type": "code",
   "execution_count": null,
   "metadata": {},
   "outputs": [],
   "source": [
    "pmc = 'ST'\n",
    "steam_gen_counts =  unit_gen_count.query(\"prime_mover_code==@pmc\")\n",
    "sns.histplot(x=\"unit_gen_count\", hue=\"fuel_type_code_pudl\", data=steam_gen_counts, multiple=\"stack\")\n",
    "plt.title(f\"Total generators per unit for {pmc} prime movers\");"
   ]
  },
  {
   "cell_type": "markdown",
   "metadata": {},
   "source": [
    "## Assign Steam Turbine Unit IDs\n",
    "* The above suggests that steam turbine (ST) generators are not typically connected to other generators in a more complex generation unit, at least in the case of coal and gas fired turbines, which make up a large majority of the generators.\n",
    "* For the time being, assign them unique per-generator Unit IDs. We'll see whether this results in ridiculous heat rates later on, and potentially re-organize."
   ]
  },
  {
   "cell_type": "code",
   "execution_count": null,
   "metadata": {},
   "outputs": [],
   "source": [
    "%%time\n",
    "gens7 = assign_simple_unit_ids(gens6, prime_mover_codes=[\"ST\"])"
   ]
  },
  {
   "cell_type": "markdown",
   "metadata": {},
   "source": [
    "## Assign Unit IDs to orphan CA / CT generators\n",
    "* We can do this safely now only because we know all non-orphan CA/CT generators have already been assigned unit IDs above."
   ]
  },
  {
   "cell_type": "code",
   "execution_count": null,
   "metadata": {},
   "outputs": [],
   "source": [
    "%%time\n",
    "gens8 = assign_simple_unit_ids(gens7, prime_mover_codes=[\"CT\", \"CA\"], label_prefix=\"orphan\")"
   ]
  },
  {
   "cell_type": "markdown",
   "metadata": {},
   "source": [
    "## Notes on Unit ID Assignment\n",
    "* What is the output table describing these units going to look like?\n",
    "* Should it be several different well normalized tables defining different kinds of Unit IDs?\n",
    "* Should it be a single un-normalized table?\n",
    "* Should we backfill the technology description to older years?\n",
    "* Should we fill in pseudo-boiler IDs for the units that we've created, like the latter years of CCNG plants do?"
   ]
  },
  {
   "cell_type": "markdown",
   "metadata": {},
   "source": [
    "# Assess Unit ID Coverage"
   ]
  },
  {
   "cell_type": "code",
   "execution_count": null,
   "metadata": {
    "tags": []
   },
   "outputs": [],
   "source": [
    "for df in [gens1, gens2, gens3, gens4, gens5, gens6, gens7, gens8]:\n",
    "    plot_unit_ids(df, THERMAL_PRIME_MOVERS)"
   ]
  },
  {
   "cell_type": "markdown",
   "metadata": {
    "tags": []
   },
   "source": [
    "## Examine Existing Unit ID Coverage\n",
    "Only a fraction of all fossil generation is associated with PUDL Unit IDs, which are integral to our most granular heat rate determination. We need to understand how good the coverage is, and why the generators / generation we're missing isn't covered. THere's at least 3 ways we can evaluate this coverage, at the generator level, based on information in the `generators_eia860` table:\n",
    "* by generator ID\n",
    "* by capacity (MW)\n",
    "* by generation (MWh)\n",
    "\n",
    "These can be broken down by:\n",
    "* Time (look at annual quantities and how they've changed)\n",
    "* Prime mover code (useful since it's in both generation and generation_fuel tables)\n",
    "* Whether the generators appear in the `generation_eia923` table\n",
    "* Whether the generators are associated with CHP\n",
    "  * Are there plants where all generators do CHP? Would be useful for benchmarking heat rate impacts.\n",
    "* Primary fuel (not totally well defined, since there are many mixed-fuel generators)\n",
    "\n",
    "Values to report on those breakdowns:\n",
    "* Absolute totals (# of IDs, MW, or MWh)\n",
    "* Fraction of reported totals\n",
    "\n",
    "Can also look at just the population of generators which report in the `generation_eia923` table each year, since those are the only ones where we will really have generator level electricity output and boiler level fuel inputs that can be directly linked with the `unit_id_pudl` if it exists. Many of the generators without IDs will likely be generators without boilers. Assigning them Unit IDs will be useful insofar as they still have fuel inputs which are reported (probably only in `generation_fuel_eia923`) and so we can assess both their inputs and outputs. Or insofar as we are using the `unit_id_pudl` values to do aggregations on tables of generators, which are sometimes linked to each other even if they don't have boilers involved in that linkage.\n",
    "\n",
    "We want an assessment that gets at the above information, and which can be run on both existing and potential new ID assignments."
   ]
  },
  {
   "cell_type": "markdown",
   "metadata": {},
   "source": [
    "## Summarize Generator Unit Coverage"
   ]
  },
  {
   "cell_type": "code",
   "execution_count": null,
   "metadata": {},
   "outputs": [],
   "source": [
    "prepped_gens = prep_gens(pudl_out, prime_mover_codes=THERMAL_PRIME_MOVERS)\n",
    "unit_summary = unit_gen_coverage(prepped_gens)"
   ]
  },
  {
   "cell_type": "markdown",
   "metadata": {},
   "source": [
    "### Absolute Unit Coverage (N, MW, MWh)"
   ]
  },
  {
   "cell_type": "code",
   "execution_count": null,
   "metadata": {},
   "outputs": [],
   "source": [
    "unit_summary"
   ]
  },
  {
   "cell_type": "code",
   "execution_count": null,
   "metadata": {
    "tags": []
   },
   "outputs": [],
   "source": [
    "fig, axes = plt.subplots(nrows=3, ncols=1, sharex=True, figsize=(8,8))\n",
    "sns.lineplot(x=\"report_date\", y=(\"num_gens\", True), data=unit_summary, hue=\"prime_mover_code\", ax=axes[0], legend=False)\n",
    "sns.lineplot(x=\"report_date\", y=(\"capacity_mw\", True), data=unit_summary, hue=\"prime_mover_code\", ax=axes[1], legend=False)\n",
    "sns.lineplot(x=\"report_date\", y=(\"net_generation_mwh\", True), data=unit_summary, hue=\"prime_mover_code\", ax=axes[2])\n",
    "plt.legend(loc=\"center left\", bbox_to_anchor=(1.04, 0.5))\n",
    "plt.show();"
   ]
  },
  {
   "cell_type": "markdown",
   "metadata": {},
   "source": [
    "### Proportional Unit Coverage"
   ]
  },
  {
   "cell_type": "code",
   "execution_count": null,
   "metadata": {
    "tags": []
   },
   "outputs": [],
   "source": [
    "fig, axes = plt.subplots(nrows=3, ncols=1, sharex=True, figsize=(8,8))\n",
    "sns.lineplot(x=\"report_date\", y=\"num_gens_fraction\", data=unit_summary, hue=\"prime_mover_code\", ax=axes[0], legend=False)\n",
    "sns.lineplot(x=\"report_date\", y=\"capacity_mw_fraction\", data=unit_summary, hue=\"prime_mover_code\", ax=axes[1], legend=False)\n",
    "sns.lineplot(x=\"report_date\", y=\"net_generation_mwh_fraction\", data=unit_summary, hue=\"prime_mover_code\", ax=axes[2])\n",
    "plt.legend(loc=\"center left\", bbox_to_anchor=(1.04, 0.5))\n",
    "plt.show();"
   ]
  },
  {
   "cell_type": "markdown",
   "metadata": {},
   "source": [
    "# Questions to answer / tasks\n",
    "* Does every boiler that we know of (in the boiler entity table) mapped to generators in the BGA table? Or are there some orphaned, unassociated boilers?\n",
    "* Add new unit_id_pudl and origin flag into into generators_eia860 output table."
   ]
  },
  {
   "cell_type": "markdown",
   "metadata": {},
   "source": [
    "# Net Generation Allocation"
   ]
  },
  {
   "cell_type": "code",
   "execution_count": null,
   "metadata": {},
   "outputs": [],
   "source": [
    "assert False"
   ]
  },
  {
   "cell_type": "code",
   "execution_count": null,
   "metadata": {},
   "outputs": [],
   "source": [
    "gf_cols = [\n",
    "    \"plant_id_eia\",\n",
    "    \"report_date\",\n",
    "    \"energy_source_code\",\n",
    "    \"prime_mover_code\",\n",
    "    \"net_generation_mwh\",\n",
    "    \"fuel_consumed_mmbtu_for_electricity\",\n",
    "]\n",
    "\n",
    "gens_cols = [\n",
    "    \"plant_id_eia\",\n",
    "    \"generator_id\",\n",
    "    \"report_date\",\n",
    "    \"energy_source_code_1\",\n",
    "    \"energy_source_code_2\",\n",
    "    \"energy_source_code_3\",\n",
    "    \"energy_source_code_4\",\n",
    "    \"energy_source_code_5\",\n",
    "    \"energy_source_code_6\",\n",
    "    \"capacity_mw\",\n",
    "    \"prime_mover_code\",\n",
    "]"
   ]
  },
  {
   "cell_type": "markdown",
   "metadata": {},
   "source": [
    "# Cull fully reported units\n",
    "* In some plants, all of the generators report all of their fuel consumption and electricity generation in the `generation_eia923` and `boiler_fuel_eia923` tables. If they also don't have CHP, our current heat rate calculation should fully accommodate these plants already.\n",
    "* In other plants, all of the electricity generation and fuel consumption being reported in association with a particular type of prime mover (but maybe not all prime movers) are fully covered by the more granular boiler / generator reporting, and so those plant-prime combinations can be removed from the heat rate calculations based on the `generation_fuel_eia923` table data. So long as there's no CHP. This is a more general case of the bullet above, so maybe we should just do this as the first cut.\n",
    "* To identify these cases, we need to aggregate net generation and fuel consumption on the basis of `unit_id_pudl` and identify cases in which all generators of any prime mover type that is involved have been included in that aggregation, on an annual basis. In these cases the net generation and fuel consumption associated with those prime mover types can be safely removed from the `generation_fuel_eia923` table, leaving only fuel and electricity that hasn't been accounted for, or is only partially accounted for."
   ]
  },
  {
   "cell_type": "markdown",
   "metadata": {},
   "source": [
    "# Assess New Unit ID coverage\n",
    "* Run the same assessment functions as we did above\n",
    "* Per generator\n",
    "* Per MW installed\n",
    "* Per MWh of net generation"
   ]
  },
  {
   "cell_type": "markdown",
   "metadata": {},
   "source": [
    "# Heat rates by Plant-Prime\n",
    "* The `generation_fuel_eia923` table breaks down net generation & fuel consumption by plant and prime mover.\n",
    "* Can one calculate realistic heat rates on the basis of plant-prime? Or do they always need to have units?\n",
    "* Calculate the distribution of plant-prime heat rates and plot them to see what they look like.\n",
    "* It seems likely that this strategy probably won't work, and we'll need to do some kind of grouping into pseudo-units."
   ]
  },
  {
   "cell_type": "code",
   "execution_count": null,
   "metadata": {},
   "outputs": [],
   "source": [
    "gen_fuel = pudl_out.gf_eia923()"
   ]
  },
  {
   "cell_type": "code",
   "execution_count": null,
   "metadata": {},
   "outputs": [],
   "source": [
    "len(gen_fuel)"
   ]
  },
  {
   "cell_type": "code",
   "execution_count": null,
   "metadata": {},
   "outputs": [],
   "source": [
    "assert False"
   ]
  },
  {
   "cell_type": "markdown",
   "metadata": {
    "tags": []
   },
   "source": [
    "# Combined Heat and Power\n",
    "* What fraction of generators, capacity, and generation are associated with generators that also do CHP?"
   ]
  },
  {
   "cell_type": "code",
   "execution_count": null,
   "metadata": {},
   "outputs": [],
   "source": [
    "gf_eia923 = pudl_out.gf_eia923()\n",
    "gf_eia923[\"fuel_ratio\"] = gf_eia923.fuel_consumed_for_electricity_mmbtu / gf_eia923.fuel_consumed_mmbtu\n",
    "gf_eia923[\"no_chp\"] = pd.Series(np.isclose(gf_eia923.fuel_ratio, 1.0))\n",
    "plt.hist(gf_eia923.fuel_ratio, bins=20)\n",
    "plt.yscale(\"log\")\n",
    "plt.xlabel(\"Fraction of fuel used for electricity\")\n",
    "plt.ylabel(\"Number of Records (log scale)\");"
   ]
  },
  {
   "cell_type": "code",
   "execution_count": null,
   "metadata": {},
   "outputs": [],
   "source": [
    "gf_eia923.groupby(\"report_date\")[[\"fuel_consumed_for_electricity_mmbtu\", \"fuel_consumed_mmbtu\"]].sum().plot()\n",
    "plt.ylim(0,5e9)\n",
    "plt.ylabel(\"Fuel Consumed [MMBTU]\");"
   ]
  },
  {
   "cell_type": "code",
   "execution_count": null,
   "metadata": {},
   "outputs": [],
   "source": [
    "plt.figure(figsize=(10,10))\n",
    "plt.scatter(\n",
    "    gf_eia923.fuel_consumed_mmbtu,\n",
    "    gf_eia923.fuel_consumed_for_electricity_mmbtu,\n",
    "    s=1, alpha=0.01, color=\"black\",\n",
    ")\n",
    "plt.xscale(\"log\")\n",
    "plt.yscale(\"log\")\n",
    "plt.xlim(1e3, 1e8)\n",
    "plt.ylim(1e3, 1e8)\n",
    "plt.xlabel(\"Total Fuel Consumed [MMBTU]\")\n",
    "plt.ylabel(\"Fuel Consumed for Electricity [MMBTU]\");"
   ]
  },
  {
   "cell_type": "code",
   "execution_count": null,
   "metadata": {
    "tags": []
   },
   "outputs": [],
   "source": [
    "chp_summary = chp_prevalence(prepped_gens)\n",
    "chp_summary"
   ]
  },
  {
   "cell_type": "markdown",
   "metadata": {},
   "source": [
    "# Assess Existing Heat Rates\n",
    "* We need some way to compare different ways of calculating heat rates and choose between them.\n",
    "* We want to check both for their correctness, and their completeness.\n",
    "* Apparent correctness will depend on the type of generator / unit type. Need to define different expectations."
   ]
  },
  {
   "cell_type": "code",
   "execution_count": null,
   "metadata": {},
   "outputs": [],
   "source": [
    "%%time\n",
    "hr_by_unit = pudl_out.hr_by_unit()\n",
    "hr_by_unit.info()"
   ]
  },
  {
   "cell_type": "markdown",
   "metadata": {},
   "source": [
    "## Compile Net Generation\n",
    "* **By generator**\n",
    "  * `net_generation_mwh` available from `generation_eia923` table\n",
    "  * Associated with `plant_id_eia` and `generator_id` columns directly.\n",
    "  * Can be associated with `unit_id_pudl` if the generator is part of an identified unit\n",
    "  * Can be associated with a `technology_description` and `prime_mover_code` based on the `generators_eia860` table.\n",
    "  * Can be associated with a list of energy sources based on `energy_source_N` in `generators_eia860` table.\n",
    "* **By plant-prime-fuel**\n",
    "  * `net_generation_mwh` is available from generation_fuel_eia923`"
   ]
  },
  {
   "cell_type": "markdown",
   "metadata": {},
   "source": [
    "## Compile Fuel Consumption\n",
    "* **By boiler**\n",
    "  * `total_heat_content_mmbtu` and `fuel_type_code_pudl` are available by `plant_id_eia` and `boiler_id` in `boiler_fuel_eia923`\n",
    "  * This value can be be associated with a `unit_id_pudl` based on the BGA table.\n",
    "  * The heat consumed in here includes fuels both for electricity and steam (direct heat) outputs.\n",
    "* **By plant-prime-fuel**\n",
    "  * Available in `generation_fuel` and broken down as for CHP vs Electricity separately."
   ]
  },
  {
   "cell_type": "markdown",
   "metadata": {},
   "source": [
    "## Identify Combined Cycle Units\n",
    "* Combined Cycle turbines show up in the generators table, but have no \"boiler\" so they don't end up in the boiler-generator-association\n",
    "* This means they don't get assigned `unit_id_pudl` values and are often lost.\n",
    "* However, they are identifiable based on `technology_description` in the generators table, and so can be associated with a plant.\n",
    "* Within a given plant, it's possible to combine all the natural gas that goes into a "
   ]
  },
  {
   "cell_type": "markdown",
   "metadata": {},
   "source": [
    "## Questions:\n",
    "* Do all of the generators that show up in the generation table end up getting PUDL Unit IDs assigned?\n",
    "* Where are the heat inputs being reported for combined cycle units? Do they really exist after 2015? What is still missing?\n",
    "* Triage units / generators into: Easy, Hard, and Impossible. Work on Hard ones until diminishing returns. Assign impossible and too-hard ones the median values."
   ]
  },
  {
   "cell_type": "markdown",
   "metadata": {},
   "source": [
    "## Tables of Interest:\n",
    "* `generation_eia923`\n",
    "* `generation_fuel_eia923`\n",
    "* `boiler_generator_assn_eia860`\n",
    "* `generators_eia860`\n",
    "* `generators_entity_eia`\n",
    "* `boiler_fuel_eia923`"
   ]
  },
  {
   "cell_type": "code",
   "execution_count": null,
   "metadata": {},
   "outputs": [],
   "source": [
    "gens_eia860_sql = \"\"\"\n",
    "SELECT report_date,\n",
    "       plant_id_eia,\n",
    "       generator_id,\n",
    "       capacity_mw,\n",
    "       energy_source_code_1,\n",
    "       energy_source_code_2,\n",
    "       energy_source_code_3,\n",
    "       energy_source_code_4,\n",
    "       energy_source_code_5,\n",
    "       energy_source_code_6,\n",
    "       fuel_type_code_pudl,\n",
    "       technology_description,\n",
    "FROM generators_eia860\n",
    "\"\"\"\n",
    "\n",
    "gens_entity_sql = \"\"\"\n",
    "SELECT report_date,\n",
    "       plant_id_eia,\n",
    "       generator_id,\n",
    "       prime_mover_code,\n",
    "       bypass_heat_recovery,\n",
    "       associated_combined_heat_and_power,\n",
    "FROM generators_entity_eia\n",
    "\"\"\"\n",
    "\n",
    "gen_eia923_sql = \"\"\"\n",
    "SELECT report_date,\n",
    "       plant_id_eia,\n",
    "       generator_id,\n",
    "       net_generation_mwh\n",
    "FROM generation_eia923\n",
    "\"\"\"\n",
    "\n",
    "gf_eia923_sql = \"\"\"\n",
    "SELECT report_date,\n",
    "       plant_id_eia,\n",
    "       nuclear_unit_id,\n",
    "       fuel_type,\n",
    "       fuel_type_code_pudl,\n",
    "       prime_mover_code,\n",
    "       fuel_consumed_mmbtu,\n",
    "       fuel_consumed_for_electricity_mmbtu,\n",
    "       net_generation_mwh\n",
    "FROM generation_fuel_eia923\n",
    "\"\"\"\n",
    "\n",
    "bga_sql = \"\"\"\n",
    "SELECT report_date,\n",
    "       plant_id_eia,\n",
    "       unit_id_pudl,\n",
    "       generator_id,\n",
    "       boiler_id\n",
    "FROM boiler_generator_assn_eia860\n",
    "\"\"\"\n",
    "\n",
    "bf_eia923_sql = \"\"\"\n",
    "SELECT report_date,\n",
    "       plant_id_eia,\n",
    "       boiler_id,\n",
    "       fuel_type_code,\n",
    "       fuel_type_code_pudl,\n",
    "       fuel_consumed_units,\n",
    "       fuel_mmbtu_per_unit\n",
    "FROM boiler_fuel_eia923\n",
    "\"\"\"\n"
   ]
  },
  {
   "cell_type": "markdown",
   "metadata": {},
   "source": [
    "## Compile Fuel Consumption\n",
    "  * Reported by boiler in `boiler_fuel_eia923` and so can be associated "
   ]
  },
  {
   "cell_type": "markdown",
   "metadata": {},
   "source": [
    "# Preliminary Data Wrangling\n",
    "Once all of the data is loaded and looks like it's in good shape, do any initial wrangling that's specific to this particular analysis. This should mostly make use of the higher level functions which were defined above. If this step takes a while, don't be shy about producing `logging` outputs."
   ]
  },
  {
   "cell_type": "code",
   "execution_count": null,
   "metadata": {},
   "outputs": [],
   "source": []
  },
  {
   "cell_type": "markdown",
   "metadata": {},
   "source": [
    "# Data Analysis and Visualization\n",
    "* Now that you've got the required data in a usable form, you can tell the story of your analysis through a mix of visualizations, and further data wrangling steps.\n",
    "* This narrative should be readable, with figures that have titles, legends, and labeled axes as appropriate so others can understand what you're showing them.\n",
    "* The code should be concise and make use of the parameters and functions which you've defined above when possible. Functions should contain comprehensible chunks of work that make sense as one step in the story of the analysis."
   ]
  },
  {
   "cell_type": "code",
   "execution_count": null,
   "metadata": {},
   "outputs": [],
   "source": [
    "coal_ax = finite_distplot(mcoe_coal, \"heat_rate_mmbtu_mwh\", max_val=20)\n",
    "plt.title(\"Coal heat rate distribution\");"
   ]
  },
  {
   "cell_type": "code",
   "execution_count": null,
   "metadata": {},
   "outputs": [],
   "source": [
    "gas_ax = finite_distplot(mcoe_gas, \"heat_rate_mmbtu_mwh\", max_val=20)\n",
    "plt.title(\"Gas heat rate distribution\");"
   ]
  }
 ],
 "metadata": {
  "kernelspec": {
   "display_name": "Python 3",
   "language": "python",
   "name": "python3"
  },
  "language_info": {
   "codemirror_mode": {
    "name": "ipython",
    "version": 3
   },
   "file_extension": ".py",
   "mimetype": "text/x-python",
   "name": "python",
   "nbconvert_exporter": "python",
   "pygments_lexer": "ipython3",
   "version": "3.9.4"
  },
  "toc-autonumbering": true,
  "toc-showmarkdowntxt": false,
  "toc-showtags": false
 },
 "nbformat": 4,
 "nbformat_minor": 4
}
