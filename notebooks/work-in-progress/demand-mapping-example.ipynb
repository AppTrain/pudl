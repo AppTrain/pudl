{
 "cells": [
  {
   "cell_type": "code",
   "execution_count": null,
   "metadata": {},
   "outputs": [],
   "source": [
    "%load_ext autoreload\n",
    "%autoreload 2"
   ]
  },
  {
   "cell_type": "code",
   "execution_count": null,
   "metadata": {},
   "outputs": [],
   "source": [
    "import calendar\n",
    "import logging\n",
    "import pathlib\n",
    "import zipfile\n",
    "\n",
    "from datetime import timedelta\n",
    "import datetime\n",
    "\n",
    "import geopandas\n",
    "from geopandas import gpd\n",
    "import numpy as np\n",
    "import pandas as pd\n",
    "import requests\n",
    "from geopandas import GeoDataFrame\n",
    "from shapely.geometry import GeometryCollection, MultiPolygon, Polygon\n",
    "from shapely.ops import unary_union\n",
    "from tqdm import tqdm\n",
    "import seaborn as sns\n",
    "import matplotlib as mpl\n",
    "import sys\n",
    "\n",
    "logger = logging.getLogger(__name__)\n",
    "\n",
    "from shapely.geometry import Polygon, MultiPolygon\n",
    "\n",
    "from pudl.analysis.demand_mapping import (corr_fig, error_heatmap, error_fig, compare_allocation,\n",
    "                                          regional_demand_profiles, vec_error, uncovered_area_mismatch,\n",
    "                                          layer_intersection, demand_allocation,\n",
    "                                          sales_ratio_by_class_fips, DemandSpaceTimeSeries)\n",
    "\n",
    "from pudl.output.ferc714 import Respondents\n",
    "import matplotlib.pyplot as plt\n",
    "import matplotlib as mpl\n",
    "\n",
    "%matplotlib inline\n",
    "\n",
    "import scipy\n",
    "from collections import defaultdict\n",
    "from IPython.display import clear_output\n",
    "import pudl\n",
    "\n",
    "from pudl.helpers import download_zip_url\n",
    "from pudl.transform.ferc714 import OFFSET_CODES, TZ_CODES\n",
    "import addfips\n",
    "\n",
    "import sqlalchemy as sa"
   ]
  },
  {
   "cell_type": "code",
   "execution_count": null,
   "metadata": {},
   "outputs": [],
   "source": [
    "## Not set for map visualization\n",
    "sns.set()\n",
    "%matplotlib inline\n",
    "mpl.rcParams[\"figure.figsize\"] = (10,4)\n",
    "mpl.rcParams[\"figure.dpi\"] = 150\n",
    "pd.options.display.max_columns = 100\n",
    "pd.options.display.max_rows = 100"
   ]
  },
  {
   "cell_type": "code",
   "execution_count": null,
   "metadata": {},
   "outputs": [],
   "source": [
    "logger = logging.getLogger()\n",
    "logger.setLevel(logging.INFO)\n",
    "handler = logging.StreamHandler(stream=sys.stdout)\n",
    "log_format = \"%(asctime)s [%(levelname)8s] %(name)s:%(lineno)s %(message)s\"\n",
    "formatter = logging.Formatter(log_format)\n",
    "handler.setFormatter(formatter)\n",
    "logger.handlers = [handler]"
   ]
  },
  {
   "cell_type": "markdown",
   "metadata": {},
   "source": [
    "# Define notebook parameters"
   ]
  },
  {
   "cell_type": "code",
   "execution_count": null,
   "metadata": {},
   "outputs": [],
   "source": [
    "pudl_settings = pudl.workspace.setup.get_defaults()\n",
    "pudl_engine = sa.create_engine(pudl_settings[\"pudl_db\"])\n",
    "\n",
    "local_data = pathlib.Path(pudl_settings[\"data_dir\"]) / \"local\""
   ]
  },
  {
   "cell_type": "markdown",
   "metadata": {},
   "source": [
    "# Importing and Loading Relevant Dataframes\n",
    "\n",
    "Major dataframes and tables being accessed:\n",
    "- FERC-714 databases used to allocate demand annually at the county level (part of the PUDL database)\n",
    "- Census databases for county shapefiles [Public]\n",
    "- 2010 and 2012 ReEDS regions hourly demand data [Private]\n",
    "- More coming..."
   ]
  },
  {
   "cell_type": "markdown",
   "metadata": {},
   "source": [
    "## County Shapefiles and Population Data"
   ]
  },
  {
   "cell_type": "code",
   "execution_count": null,
   "metadata": {},
   "outputs": [],
   "source": [
    "%%time\n",
    "county_gdf = (pudl.analysis.service_territory.get_census2010_gdf(pudl_settings, \"county\")\n",
    "              .rename(columns={\"GEOID10\":\"county_id_fips\", \"DP0010001\": \"population\"}))\n",
    "\n",
    "county_gdf[\"STATE_FIPS_int\"] = pd.to_numeric(county_gdf[\"county_id_fips\"].str[:2])\n",
    "\n",
    "county_gdf =  (\n",
    "    county_gdf\n",
    "    # Remove all islands and non-mainland states and territories\n",
    "    .query(\"STATE_FIPS_int<=56 & STATE_FIPS_int not in (2, 15, 44)\")\n",
    "    # Project to US Albers conic equal-area projection\n",
    "    .to_crs(\"ESRI:102003\")\n",
    "    .drop(\"STATE_FIPS_int\", axis=1).sort_values(\"county_id_fips\").reset_index(drop=True)[\n",
    "        [\"county_id_fips\", \"population\"]\n",
    "    ]\n",
    ")"
   ]
  },
  {
   "cell_type": "markdown",
   "metadata": {},
   "source": [
    "## County-Planning Area Mapping Dataset & Planning Area Hourly Demand (FERC-714 Data)\n",
    "- `ba_county_map` contains pairwise rows signifying which county have been supplied by which utility in each reporting year\n",
    "- `pa_demand_ferc714_df` contains the hourly demand data for each planning area \n",
    "- One year of data is analyzed at a time"
   ]
  },
  {
   "cell_type": "code",
   "execution_count": null,
   "metadata": {},
   "outputs": [],
   "source": [
    "%%time\n",
    "\n",
    "pudl_out = pudl.output.pudltabl.PudlTabl(pudl_engine=pudl_engine)\n",
    "pa_demand_ferc714_df = pudl_out.demand_hourly_pa_ferc714()\n",
    "ferc714_out = pudl.output.ferc714.Respondents(pudl_out)\n",
    "ba_county_map = ferc714_out.georef_counties()"
   ]
  },
  {
   "cell_type": "markdown",
   "metadata": {},
   "source": [
    "## REEDS Data [OPTIONAL]\n",
    "- Some of the REEDS public data is not readily accessible\n",
    "- If that is the case, extract the timeseries data and the shapefile\n",
    "\n",
    "### REEDS Shapefiles"
   ]
  },
  {
   "cell_type": "code",
   "execution_count": null,
   "metadata": {},
   "outputs": [],
   "source": [
    "%%time\n",
    "reeds_gdf_path = local_data / \"nrel/reeds_shp\"\n",
    "if not reeds_gdf_path.is_dir():\n",
    "    raise FileNotFoundError(\n",
    "        f\"ReEDS Balancing Area geometries not found.\"\n",
    "        f\"Expected them at {reeds_path}\"\n",
    "    )\n",
    "reeds_gdf = gpd.read_file(reeds_gdf_path)\n",
    "\n",
    "logger.info(\"Normalizing inconsistent geometries\")\n",
    "reeds_gdf[\"geometry\"] = reeds_gdf[\"geometry\"].buffer(0)\n",
    "\n",
    "logger.info(\"Keeping Mainland US REEDS regions and dissolving to the PCA level\")\n",
    "reeds_gdf = (\n",
    "    reeds_gdf.assign(pca_num=lambda x: pd.to_numeric(x.pca.replace(\"^p\", value=\"\", regex=True)))\n",
    "    .query(\"pca_num<=134\")\n",
    "    .to_crs(\"ESRI:102003\")\n",
    "    .drop([\"Shape_Leng\", \"Shape_Area\", \"OBJECTID\", \"gid\", \"demreg2\", \"pca_num\"], axis=1)\n",
    "    .dissolve(by=[\"pca\"], as_index=False)\n",
    ")"
   ]
  },
  {
   "cell_type": "markdown",
   "metadata": {},
   "source": [
    "### 2012 REEDS Hourly Data"
   ]
  },
  {
   "cell_type": "code",
   "execution_count": null,
   "metadata": {},
   "outputs": [],
   "source": [
    "reeds_hourly_2012 = (pd.read_csv(local_data / \"nrel\" / \"reeds_load_2012_est_time.csv\",\n",
    "                                 infer_datetime_format=True, parse_dates=[\"est_time\"]))\n",
    "\n",
    "logger.info(\"Converting local hourly demand data to UTC datetime for consistency\")\n",
    "reeds_hourly_2012[\"utc_datetime\"] = reeds_hourly_2012[\"est_time\"] - OFFSET_CODES[\"EST\"]\n",
    "\n",
    "logger.info(\"adding utc_datetime and transforming dataset\")\n",
    "reeds_hourly_2012 = (reeds_hourly_2012.drop(\"est_time\", axis=1)\n",
    "                     .set_index(\"utc_datetime\")\n",
    "                     .stack()\n",
    "                     .reset_index()\n",
    "                     .rename(columns={\"level_1\":\"pca\", 0:\"demand_mwh\"}))"
   ]
  },
  {
   "cell_type": "markdown",
   "metadata": {},
   "source": [
    "## Object Creation for Demand Allocation"
   ]
  },
  {
   "cell_type": "code",
   "execution_count": null,
   "metadata": {},
   "outputs": [],
   "source": [
    "df_demand = DemandSpaceTimeSeries(pudl_engine, pa_demand_df=pa_demand_ferc714_df, ba_county_map=ba_county_map)\n",
    "df_demand.add_gdf(reeds_gdf, \"reeds_gdf\")\n",
    "\n",
    "pca_demand, pca_layers = df_demand.allocate_demand(2012, 2013, allocators={\"population\":1}, aggregators=[\"pca\"])\n",
    "pca_demand = pca_demand.reset_index()"
   ]
  }
 ],
 "metadata": {
  "kernelspec": {
   "display_name": "pudl-dev",
   "language": "python",
   "name": "pudl-dev"
  },
  "language_info": {
   "codemirror_mode": {
    "name": "ipython",
    "version": 3
   },
   "file_extension": ".py",
   "mimetype": "text/x-python",
   "name": "python",
   "nbconvert_exporter": "python",
   "pygments_lexer": "ipython3",
   "version": "3.8.5"
  }
 },
 "nbformat": 4,
 "nbformat_minor": 4
}
