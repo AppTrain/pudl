{
 "cells": [
  {
   "cell_type": "code",
   "execution_count": 1,
   "id": "e2d2a98b",
   "metadata": {},
   "outputs": [],
   "source": [
    "%load_ext autoreload"
   ]
  },
  {
   "cell_type": "code",
   "execution_count": 2,
   "id": "8b83b916",
   "metadata": {},
   "outputs": [],
   "source": [
    "%autoreload 2"
   ]
  },
  {
   "cell_type": "code",
   "execution_count": 33,
   "id": "8258583d",
   "metadata": {},
   "outputs": [],
   "source": [
    "import pandas as pd\n",
    "import numpy as np\n",
    "from pathlib import Path\n",
    "\n",
    "import pudl\n",
    "import pudl.extract.eia_bulk_data as ebulk\n",
    "import pudl.transform.eia_bulk_elec as tbulk"
   ]
  },
  {
   "cell_type": "code",
   "execution_count": 4,
   "id": "8df06d1e",
   "metadata": {},
   "outputs": [],
   "source": [
    "fpath = Path('/home/tpb/catalyst/workspace/data/eia_bulk_data/ELEC.zip')\n",
    "assert fpath.exists()"
   ]
  },
  {
   "cell_type": "code",
   "execution_count": 18,
   "id": "784fabef",
   "metadata": {},
   "outputs": [
    {
     "name": "stdout",
     "output_type": "stream",
     "text": [
      "CPU times: user 1min 26s, sys: 220 ms, total: 1min 26s\n",
      "Wall time: 1min 26s\n"
     ]
    }
   ],
   "source": [
    "%%time\n",
    "raw = ebulk.extract(fpath)"
   ]
  },
  {
   "cell_type": "code",
   "execution_count": 19,
   "id": "caff32c5",
   "metadata": {},
   "outputs": [],
   "source": [
    "meta = raw['metadata']\n",
    "ts = raw['timeseries']"
   ]
  },
  {
   "cell_type": "code",
   "execution_count": 20,
   "id": "a5ba932d",
   "metadata": {},
   "outputs": [
    {
     "data": {
      "text/plain": [
       "((8768, 30), (692317, 3))"
      ]
     },
     "execution_count": 20,
     "metadata": {},
     "output_type": "execute_result"
    }
   ],
   "source": [
    "meta.shape, ts.shape"
   ]
  },
  {
   "cell_type": "code",
   "execution_count": 44,
   "id": "58816f6b",
   "metadata": {},
   "outputs": [
    {
     "data": {
      "text/html": [
       "<div>\n",
       "<style scoped>\n",
       "    .dataframe tbody tr th:only-of-type {\n",
       "        vertical-align: middle;\n",
       "    }\n",
       "\n",
       "    .dataframe tbody tr th {\n",
       "        vertical-align: top;\n",
       "    }\n",
       "\n",
       "    .dataframe thead th {\n",
       "        text-align: right;\n",
       "    }\n",
       "</style>\n",
       "<table border=\"1\" class=\"dataframe\">\n",
       "  <thead>\n",
       "    <tr style=\"text-align: right;\">\n",
       "      <th></th>\n",
       "      <th>series_id</th>\n",
       "      <th>name</th>\n",
       "      <th>units</th>\n",
       "      <th>f</th>\n",
       "      <th>copyright</th>\n",
       "      <th>source</th>\n",
       "      <th>iso3166</th>\n",
       "      <th>lat</th>\n",
       "      <th>lon</th>\n",
       "      <th>geography</th>\n",
       "      <th>start</th>\n",
       "      <th>end</th>\n",
       "      <th>last_updated</th>\n",
       "      <th>latlon</th>\n",
       "      <th>description</th>\n",
       "      <th>geoset_id</th>\n",
       "      <th>category_id</th>\n",
       "      <th>parent_category_id</th>\n",
       "      <th>notes</th>\n",
       "      <th>childseries</th>\n",
       "      <th>series</th>\n",
       "      <th>fuel</th>\n",
       "      <th>region</th>\n",
       "      <th>sector</th>\n",
       "      <th>frequency</th>\n",
       "      <th>series_code</th>\n",
       "      <th>fuel_code</th>\n",
       "      <th>region_code</th>\n",
       "      <th>sector_code</th>\n",
       "      <th>frequency_code</th>\n",
       "    </tr>\n",
       "  </thead>\n",
       "  <tbody>\n",
       "    <tr>\n",
       "      <th>7744</th>\n",
       "      <td>ELEC.COST_BTU.NG-UT-94.A</td>\n",
       "      <td>Average cost of fossil fuels for electricity g...</td>\n",
       "      <td>dollars per million Btu</td>\n",
       "      <td>A</td>\n",
       "      <td>None</td>\n",
       "      <td>EIA, U.S. Energy Information Administration</td>\n",
       "      <td>USA-UT</td>\n",
       "      <td>NaN</td>\n",
       "      <td>NaN</td>\n",
       "      <td>USA-UT</td>\n",
       "      <td>2008</td>\n",
       "      <td>2021</td>\n",
       "      <td>2022-02-25T15:25:17-05:00</td>\n",
       "      <td>NaN</td>\n",
       "      <td>Natural Gas; Power plants owned by unregulated...</td>\n",
       "      <td>ELEC.COST_BTU.NG-94.A</td>\n",
       "      <td>NaN</td>\n",
       "      <td>NaN</td>\n",
       "      <td>NaN</td>\n",
       "      <td>NaN</td>\n",
       "      <td>Average cost of fossil fuels for electricity g...</td>\n",
       "      <td>natural gas</td>\n",
       "      <td>Utah</td>\n",
       "      <td>independent power producers (total)</td>\n",
       "      <td>annual</td>\n",
       "      <td>COST_BTU</td>\n",
       "      <td>NG</td>\n",
       "      <td>UT</td>\n",
       "      <td>94</td>\n",
       "      <td>A</td>\n",
       "    </tr>\n",
       "    <tr>\n",
       "      <th>573</th>\n",
       "      <td>ELEC.COST_BTU.NG-WSC-94.M</td>\n",
       "      <td>Average cost of fossil fuels for electricity g...</td>\n",
       "      <td>dollars per million Btu</td>\n",
       "      <td>M</td>\n",
       "      <td>None</td>\n",
       "      <td>EIA, U.S. Energy Information Administration</td>\n",
       "      <td>NaN</td>\n",
       "      <td>NaN</td>\n",
       "      <td>NaN</td>\n",
       "      <td>USA-AR+USA-LA+USA-OK+USA-TX</td>\n",
       "      <td>200801</td>\n",
       "      <td>202203</td>\n",
       "      <td>2022-05-24T10:42:22-04:00</td>\n",
       "      <td>NaN</td>\n",
       "      <td>Natural Gas; Power plants owned by unregulated...</td>\n",
       "      <td>ELEC.COST_BTU.NG-94.M</td>\n",
       "      <td>NaN</td>\n",
       "      <td>NaN</td>\n",
       "      <td>NaN</td>\n",
       "      <td>NaN</td>\n",
       "      <td>Average cost of fossil fuels for electricity g...</td>\n",
       "      <td>natural gas</td>\n",
       "      <td>West South Central (total)</td>\n",
       "      <td>independent power producers (total)</td>\n",
       "      <td>monthly</td>\n",
       "      <td>COST_BTU</td>\n",
       "      <td>NG</td>\n",
       "      <td>WSC</td>\n",
       "      <td>94</td>\n",
       "      <td>M</td>\n",
       "    </tr>\n",
       "    <tr>\n",
       "      <th>165</th>\n",
       "      <td>ELEC.COST_BTU.PEL-NV-98.Q</td>\n",
       "      <td>Average cost of fossil fuels for electricity g...</td>\n",
       "      <td>dollars per million Btu</td>\n",
       "      <td>Q</td>\n",
       "      <td>None</td>\n",
       "      <td>EIA, U.S. Energy Information Administration</td>\n",
       "      <td>USA-NV</td>\n",
       "      <td>NaN</td>\n",
       "      <td>NaN</td>\n",
       "      <td>USA-NV</td>\n",
       "      <td>2008Q1</td>\n",
       "      <td>2022Q1</td>\n",
       "      <td>2022-05-24T10:42:22-04:00</td>\n",
       "      <td>NaN</td>\n",
       "      <td>Summation of all petroleum liquids (distallte ...</td>\n",
       "      <td>ELEC.COST_BTU.PEL-98.Q</td>\n",
       "      <td>NaN</td>\n",
       "      <td>NaN</td>\n",
       "      <td>NaN</td>\n",
       "      <td>NaN</td>\n",
       "      <td>Average cost of fossil fuels for electricity g...</td>\n",
       "      <td>petroleum liquids</td>\n",
       "      <td>Nevada</td>\n",
       "      <td>electric power (total)</td>\n",
       "      <td>quarterly</td>\n",
       "      <td>COST_BTU</td>\n",
       "      <td>PEL</td>\n",
       "      <td>NV</td>\n",
       "      <td>98</td>\n",
       "      <td>Q</td>\n",
       "    </tr>\n",
       "    <tr>\n",
       "      <th>1102</th>\n",
       "      <td>ELEC.COST_BTU.PEL-IL-94.M</td>\n",
       "      <td>Average cost of fossil fuels for electricity g...</td>\n",
       "      <td>dollars per million Btu</td>\n",
       "      <td>M</td>\n",
       "      <td>None</td>\n",
       "      <td>EIA, U.S. Energy Information Administration</td>\n",
       "      <td>USA-IL</td>\n",
       "      <td>NaN</td>\n",
       "      <td>NaN</td>\n",
       "      <td>USA-IL</td>\n",
       "      <td>200801</td>\n",
       "      <td>202203</td>\n",
       "      <td>2022-05-24T10:42:22-04:00</td>\n",
       "      <td>NaN</td>\n",
       "      <td>Summation of all petroleum liquids (distallte ...</td>\n",
       "      <td>ELEC.COST_BTU.PEL-94.M</td>\n",
       "      <td>NaN</td>\n",
       "      <td>NaN</td>\n",
       "      <td>NaN</td>\n",
       "      <td>NaN</td>\n",
       "      <td>Average cost of fossil fuels for electricity g...</td>\n",
       "      <td>petroleum liquids</td>\n",
       "      <td>Illinois</td>\n",
       "      <td>independent power producers (total)</td>\n",
       "      <td>monthly</td>\n",
       "      <td>COST_BTU</td>\n",
       "      <td>PEL</td>\n",
       "      <td>IL</td>\n",
       "      <td>94</td>\n",
       "      <td>M</td>\n",
       "    </tr>\n",
       "    <tr>\n",
       "      <th>920</th>\n",
       "      <td>ELEC.COST_BTU.NG-SAT-97.M</td>\n",
       "      <td>Average cost of fossil fuels for electricity g...</td>\n",
       "      <td>dollars per million Btu</td>\n",
       "      <td>M</td>\n",
       "      <td>None</td>\n",
       "      <td>EIA, U.S. Energy Information Administration</td>\n",
       "      <td>NaN</td>\n",
       "      <td>NaN</td>\n",
       "      <td>NaN</td>\n",
       "      <td>USA-DC+USA-DE+USA-FL+USA-GA+USA-MD+USA-NC+USA-...</td>\n",
       "      <td>200801</td>\n",
       "      <td>202203</td>\n",
       "      <td>2022-05-24T10:42:22-04:00</td>\n",
       "      <td>NaN</td>\n",
       "      <td>Natural Gas; Power plants in the industrial se...</td>\n",
       "      <td>ELEC.COST_BTU.NG-97.M</td>\n",
       "      <td>NaN</td>\n",
       "      <td>NaN</td>\n",
       "      <td>NaN</td>\n",
       "      <td>NaN</td>\n",
       "      <td>Average cost of fossil fuels for electricity g...</td>\n",
       "      <td>natural gas</td>\n",
       "      <td>South Atlantic (total)</td>\n",
       "      <td>all industrial (total)</td>\n",
       "      <td>monthly</td>\n",
       "      <td>COST_BTU</td>\n",
       "      <td>NG</td>\n",
       "      <td>SAT</td>\n",
       "      <td>97</td>\n",
       "      <td>M</td>\n",
       "    </tr>\n",
       "  </tbody>\n",
       "</table>\n",
       "</div>"
      ],
      "text/plain": [
       "                      series_id                                               name                    units  f copyright                                       source iso3166  lat  lon                                          geography   start     end               last_updated latlon                                        description               geoset_id  category_id  parent_category_id notes childseries                                             series               fuel                      region                               sector  frequency series_code fuel_code region_code sector_code frequency_code\n",
       "7744   ELEC.COST_BTU.NG-UT-94.A  Average cost of fossil fuels for electricity g...  dollars per million Btu  A      None  EIA, U.S. Energy Information Administration  USA-UT  NaN  NaN                                             USA-UT    2008    2021  2022-02-25T15:25:17-05:00    NaN  Natural Gas; Power plants owned by unregulated...   ELEC.COST_BTU.NG-94.A          NaN                 NaN   NaN         NaN  Average cost of fossil fuels for electricity g...        natural gas                        Utah  independent power producers (total)     annual    COST_BTU        NG          UT          94              A\n",
       "573   ELEC.COST_BTU.NG-WSC-94.M  Average cost of fossil fuels for electricity g...  dollars per million Btu  M      None  EIA, U.S. Energy Information Administration     NaN  NaN  NaN                        USA-AR+USA-LA+USA-OK+USA-TX  200801  202203  2022-05-24T10:42:22-04:00    NaN  Natural Gas; Power plants owned by unregulated...   ELEC.COST_BTU.NG-94.M          NaN                 NaN   NaN         NaN  Average cost of fossil fuels for electricity g...        natural gas  West South Central (total)  independent power producers (total)    monthly    COST_BTU        NG         WSC          94              M\n",
       "165   ELEC.COST_BTU.PEL-NV-98.Q  Average cost of fossil fuels for electricity g...  dollars per million Btu  Q      None  EIA, U.S. Energy Information Administration  USA-NV  NaN  NaN                                             USA-NV  2008Q1  2022Q1  2022-05-24T10:42:22-04:00    NaN  Summation of all petroleum liquids (distallte ...  ELEC.COST_BTU.PEL-98.Q          NaN                 NaN   NaN         NaN  Average cost of fossil fuels for electricity g...  petroleum liquids                      Nevada               electric power (total)  quarterly    COST_BTU       PEL          NV          98              Q\n",
       "1102  ELEC.COST_BTU.PEL-IL-94.M  Average cost of fossil fuels for electricity g...  dollars per million Btu  M      None  EIA, U.S. Energy Information Administration  USA-IL  NaN  NaN                                             USA-IL  200801  202203  2022-05-24T10:42:22-04:00    NaN  Summation of all petroleum liquids (distallte ...  ELEC.COST_BTU.PEL-94.M          NaN                 NaN   NaN         NaN  Average cost of fossil fuels for electricity g...  petroleum liquids                    Illinois  independent power producers (total)    monthly    COST_BTU       PEL          IL          94              M\n",
       "920   ELEC.COST_BTU.NG-SAT-97.M  Average cost of fossil fuels for electricity g...  dollars per million Btu  M      None  EIA, U.S. Energy Information Administration     NaN  NaN  NaN  USA-DC+USA-DE+USA-FL+USA-GA+USA-MD+USA-NC+USA-...  200801  202203  2022-05-24T10:42:22-04:00    NaN  Natural Gas; Power plants in the industrial se...   ELEC.COST_BTU.NG-97.M          NaN                 NaN   NaN         NaN  Average cost of fossil fuels for electricity g...        natural gas      South Atlantic (total)               all industrial (total)    monthly    COST_BTU        NG         SAT          97              M"
      ]
     },
     "execution_count": 44,
     "metadata": {},
     "output_type": "execute_result"
    }
   ],
   "source": [
    "meta.sample(5)"
   ]
  },
  {
   "cell_type": "code",
   "execution_count": 22,
   "id": "a92eadf4",
   "metadata": {},
   "outputs": [
    {
     "data": {
      "text/html": [
       "<div>\n",
       "<style scoped>\n",
       "    .dataframe tbody tr th:only-of-type {\n",
       "        vertical-align: middle;\n",
       "    }\n",
       "\n",
       "    .dataframe tbody tr th {\n",
       "        vertical-align: top;\n",
       "    }\n",
       "\n",
       "    .dataframe thead th {\n",
       "        text-align: right;\n",
       "    }\n",
       "</style>\n",
       "<table border=\"1\" class=\"dataframe\">\n",
       "  <thead>\n",
       "    <tr style=\"text-align: right;\">\n",
       "      <th></th>\n",
       "      <th>series_id</th>\n",
       "      <th>date</th>\n",
       "      <th>value</th>\n",
       "    </tr>\n",
       "  </thead>\n",
       "  <tbody>\n",
       "    <tr>\n",
       "      <th>0</th>\n",
       "      <td>ELEC.COST_BTU.COW-PCC-99.M</td>\n",
       "      <td>2022-03-01</td>\n",
       "      <td>NaN</td>\n",
       "    </tr>\n",
       "    <tr>\n",
       "      <th>1</th>\n",
       "      <td>ELEC.COST_BTU.COW-PCC-99.M</td>\n",
       "      <td>2022-02-01</td>\n",
       "      <td>NaN</td>\n",
       "    </tr>\n",
       "    <tr>\n",
       "      <th>2</th>\n",
       "      <td>ELEC.COST_BTU.COW-PCC-99.M</td>\n",
       "      <td>2022-01-01</td>\n",
       "      <td>NaN</td>\n",
       "    </tr>\n",
       "    <tr>\n",
       "      <th>3</th>\n",
       "      <td>ELEC.COST_BTU.COW-PCC-99.M</td>\n",
       "      <td>2021-12-01</td>\n",
       "      <td>NaN</td>\n",
       "    </tr>\n",
       "    <tr>\n",
       "      <th>4</th>\n",
       "      <td>ELEC.COST_BTU.COW-PCC-99.M</td>\n",
       "      <td>2021-11-01</td>\n",
       "      <td>NaN</td>\n",
       "    </tr>\n",
       "  </tbody>\n",
       "</table>\n",
       "</div>"
      ],
      "text/plain": [
       "                    series_id       date  value\n",
       "0  ELEC.COST_BTU.COW-PCC-99.M 2022-03-01    NaN\n",
       "1  ELEC.COST_BTU.COW-PCC-99.M 2022-02-01    NaN\n",
       "2  ELEC.COST_BTU.COW-PCC-99.M 2022-01-01    NaN\n",
       "3  ELEC.COST_BTU.COW-PCC-99.M 2021-12-01    NaN\n",
       "4  ELEC.COST_BTU.COW-PCC-99.M 2021-11-01    NaN"
      ]
     },
     "execution_count": 22,
     "metadata": {},
     "output_type": "execute_result"
    }
   ],
   "source": [
    "ts.head(5)"
   ]
  },
  {
   "cell_type": "code",
   "execution_count": 23,
   "id": "528a38b7",
   "metadata": {},
   "outputs": [
    {
     "data": {
      "text/plain": [
       "series_id    0.000000\n",
       "date         0.000000\n",
       "value        0.142286\n",
       "dtype: float64"
      ]
     },
     "execution_count": 23,
     "metadata": {},
     "output_type": "execute_result"
    }
   ],
   "source": [
    "ts.isna().mean()"
   ]
  },
  {
   "cell_type": "code",
   "execution_count": 24,
   "id": "ac250979",
   "metadata": {},
   "outputs": [
    {
     "data": {
      "text/plain": [
       "series_id\n",
       "A    0.191406\n",
       "M    0.139893\n",
       "Q    0.137875\n",
       "Name: value, dtype: float64"
      ]
     },
     "execution_count": 24,
     "metadata": {},
     "output_type": "execute_result"
    }
   ],
   "source": [
    "ts.isna().groupby(ts['series_id'].str[-1])['value'].mean()"
   ]
  },
  {
   "cell_type": "code",
   "execution_count": 25,
   "id": "1fcca118",
   "metadata": {},
   "outputs": [
    {
     "data": {
      "text/plain": [
       "Index        0.000122\n",
       "series_id    2.278270\n",
       "date         5.281960\n",
       "value        5.281960\n",
       "dtype: float64"
      ]
     },
     "execution_count": 25,
     "metadata": {},
     "output_type": "execute_result"
    }
   ],
   "source": [
    "ts.memory_usage(deep=True) / 2**20"
   ]
  },
  {
   "cell_type": "code",
   "execution_count": 26,
   "id": "7a111656",
   "metadata": {},
   "outputs": [
    {
     "data": {
      "text/html": [
       "<div>\n",
       "<style scoped>\n",
       "    .dataframe tbody tr th:only-of-type {\n",
       "        vertical-align: middle;\n",
       "    }\n",
       "\n",
       "    .dataframe tbody tr th {\n",
       "        vertical-align: top;\n",
       "    }\n",
       "\n",
       "    .dataframe thead th {\n",
       "        text-align: right;\n",
       "    }\n",
       "</style>\n",
       "<table border=\"1\" class=\"dataframe\">\n",
       "  <thead>\n",
       "    <tr style=\"text-align: right;\">\n",
       "      <th></th>\n",
       "      <th>lat</th>\n",
       "      <th>lon</th>\n",
       "      <th>category_id</th>\n",
       "      <th>parent_category_id</th>\n",
       "    </tr>\n",
       "  </thead>\n",
       "  <tbody>\n",
       "    <tr>\n",
       "      <th>count</th>\n",
       "      <td>0.0</td>\n",
       "      <td>0.0</td>\n",
       "      <td>0.0</td>\n",
       "      <td>0.0</td>\n",
       "    </tr>\n",
       "    <tr>\n",
       "      <th>mean</th>\n",
       "      <td>NaN</td>\n",
       "      <td>NaN</td>\n",
       "      <td>NaN</td>\n",
       "      <td>NaN</td>\n",
       "    </tr>\n",
       "    <tr>\n",
       "      <th>std</th>\n",
       "      <td>NaN</td>\n",
       "      <td>NaN</td>\n",
       "      <td>NaN</td>\n",
       "      <td>NaN</td>\n",
       "    </tr>\n",
       "    <tr>\n",
       "      <th>min</th>\n",
       "      <td>NaN</td>\n",
       "      <td>NaN</td>\n",
       "      <td>NaN</td>\n",
       "      <td>NaN</td>\n",
       "    </tr>\n",
       "    <tr>\n",
       "      <th>25%</th>\n",
       "      <td>NaN</td>\n",
       "      <td>NaN</td>\n",
       "      <td>NaN</td>\n",
       "      <td>NaN</td>\n",
       "    </tr>\n",
       "    <tr>\n",
       "      <th>50%</th>\n",
       "      <td>NaN</td>\n",
       "      <td>NaN</td>\n",
       "      <td>NaN</td>\n",
       "      <td>NaN</td>\n",
       "    </tr>\n",
       "    <tr>\n",
       "      <th>75%</th>\n",
       "      <td>NaN</td>\n",
       "      <td>NaN</td>\n",
       "      <td>NaN</td>\n",
       "      <td>NaN</td>\n",
       "    </tr>\n",
       "    <tr>\n",
       "      <th>max</th>\n",
       "      <td>NaN</td>\n",
       "      <td>NaN</td>\n",
       "      <td>NaN</td>\n",
       "      <td>NaN</td>\n",
       "    </tr>\n",
       "  </tbody>\n",
       "</table>\n",
       "</div>"
      ],
      "text/plain": [
       "       lat  lon  category_id  parent_category_id\n",
       "count  0.0  0.0          0.0                 0.0\n",
       "mean   NaN  NaN          NaN                 NaN\n",
       "std    NaN  NaN          NaN                 NaN\n",
       "min    NaN  NaN          NaN                 NaN\n",
       "25%    NaN  NaN          NaN                 NaN\n",
       "50%    NaN  NaN          NaN                 NaN\n",
       "75%    NaN  NaN          NaN                 NaN\n",
       "max    NaN  NaN          NaN                 NaN"
      ]
     },
     "execution_count": 26,
     "metadata": {},
     "output_type": "execute_result"
    }
   ],
   "source": [
    "meta.describe()"
   ]
  },
  {
   "cell_type": "code",
   "execution_count": 27,
   "id": "d04c74d5",
   "metadata": {},
   "outputs": [
    {
     "data": {
      "text/html": [
       "<div>\n",
       "<style scoped>\n",
       "    .dataframe tbody tr th:only-of-type {\n",
       "        vertical-align: middle;\n",
       "    }\n",
       "\n",
       "    .dataframe tbody tr th {\n",
       "        vertical-align: top;\n",
       "    }\n",
       "\n",
       "    .dataframe thead th {\n",
       "        text-align: right;\n",
       "    }\n",
       "</style>\n",
       "<table border=\"1\" class=\"dataframe\">\n",
       "  <thead>\n",
       "    <tr style=\"text-align: right;\">\n",
       "      <th></th>\n",
       "      <th>series_id</th>\n",
       "      <th>name</th>\n",
       "      <th>units</th>\n",
       "      <th>f</th>\n",
       "      <th>copyright</th>\n",
       "      <th>source</th>\n",
       "      <th>iso3166</th>\n",
       "      <th>geography</th>\n",
       "      <th>start</th>\n",
       "      <th>end</th>\n",
       "      <th>last_updated</th>\n",
       "      <th>description</th>\n",
       "      <th>geoset_id</th>\n",
       "      <th>series</th>\n",
       "      <th>fuel</th>\n",
       "      <th>region</th>\n",
       "      <th>sector</th>\n",
       "      <th>frequency</th>\n",
       "      <th>series_code</th>\n",
       "      <th>fuel_code</th>\n",
       "      <th>region_code</th>\n",
       "      <th>sector_code</th>\n",
       "      <th>frequency_code</th>\n",
       "    </tr>\n",
       "  </thead>\n",
       "  <tbody>\n",
       "    <tr>\n",
       "      <th>count</th>\n",
       "      <td>8768</td>\n",
       "      <td>8768</td>\n",
       "      <td>8768</td>\n",
       "      <td>8768</td>\n",
       "      <td>8768</td>\n",
       "      <td>8768</td>\n",
       "      <td>6837</td>\n",
       "      <td>8768</td>\n",
       "      <td>8768</td>\n",
       "      <td>8768</td>\n",
       "      <td>8768</td>\n",
       "      <td>8768</td>\n",
       "      <td>8768</td>\n",
       "      <td>8768</td>\n",
       "      <td>8768</td>\n",
       "      <td>8768</td>\n",
       "      <td>8768</td>\n",
       "      <td>8768</td>\n",
       "      <td>8768</td>\n",
       "      <td>8768</td>\n",
       "      <td>8768</td>\n",
       "      <td>8768</td>\n",
       "      <td>8768</td>\n",
       "    </tr>\n",
       "    <tr>\n",
       "      <th>unique</th>\n",
       "      <td>8768</td>\n",
       "      <td>8768</td>\n",
       "      <td>2</td>\n",
       "      <td>3</td>\n",
       "      <td>1</td>\n",
       "      <td>1</td>\n",
       "      <td>52</td>\n",
       "      <td>62</td>\n",
       "      <td>37</td>\n",
       "      <td>99</td>\n",
       "      <td>23</td>\n",
       "      <td>594</td>\n",
       "      <td>453</td>\n",
       "      <td>2</td>\n",
       "      <td>7</td>\n",
       "      <td>62</td>\n",
       "      <td>12</td>\n",
       "      <td>3</td>\n",
       "      <td>2</td>\n",
       "      <td>7</td>\n",
       "      <td>62</td>\n",
       "      <td>12</td>\n",
       "      <td>3</td>\n",
       "    </tr>\n",
       "    <tr>\n",
       "      <th>top</th>\n",
       "      <td>ELEC.COST_BTU.COW-PCC-99.M</td>\n",
       "      <td>Average cost of fossil fuels for electricity g...</td>\n",
       "      <td>billion Btu</td>\n",
       "      <td>M</td>\n",
       "      <td>None</td>\n",
       "      <td>EIA, U.S. Energy Information Administration</td>\n",
       "      <td>USA</td>\n",
       "      <td>USA</td>\n",
       "      <td>200801</td>\n",
       "      <td>202203</td>\n",
       "      <td>2022-05-24T10:42:22-04:00</td>\n",
       "      <td>Natural Gas; Power plants owned by companies w...</td>\n",
       "      <td>ELEC.RECEIPTS_BTU.PEL-98.M</td>\n",
       "      <td>Receipts of fossil fuels by electricity plants...</td>\n",
       "      <td>natural gas</td>\n",
       "      <td>United States</td>\n",
       "      <td>electric utility</td>\n",
       "      <td>monthly</td>\n",
       "      <td>RECEIPTS_BTU</td>\n",
       "      <td>NG</td>\n",
       "      <td>US</td>\n",
       "      <td>1</td>\n",
       "      <td>M</td>\n",
       "    </tr>\n",
       "    <tr>\n",
       "      <th>freq</th>\n",
       "      <td>1</td>\n",
       "      <td>1</td>\n",
       "      <td>6482</td>\n",
       "      <td>3035</td>\n",
       "      <td>8768</td>\n",
       "      <td>8768</td>\n",
       "      <td>450</td>\n",
       "      <td>450</td>\n",
       "      <td>2949</td>\n",
       "      <td>2798</td>\n",
       "      <td>5453</td>\n",
       "      <td>299</td>\n",
       "      <td>61</td>\n",
       "      <td>6482</td>\n",
       "      <td>2256</td>\n",
       "      <td>450</td>\n",
       "      <td>1637</td>\n",
       "      <td>3035</td>\n",
       "      <td>6482</td>\n",
       "      <td>2256</td>\n",
       "      <td>450</td>\n",
       "      <td>1637</td>\n",
       "      <td>3035</td>\n",
       "    </tr>\n",
       "  </tbody>\n",
       "</table>\n",
       "</div>"
      ],
      "text/plain": [
       "                         series_id                                               name        units     f copyright                                       source iso3166 geography   start     end               last_updated                                        description                   geoset_id                                             series         fuel         region            sector frequency   series_code fuel_code region_code sector_code frequency_code\n",
       "count                         8768                                               8768         8768  8768      8768                                         8768    6837      8768    8768    8768                       8768                                               8768                        8768                                               8768         8768           8768              8768      8768          8768      8768        8768        8768           8768\n",
       "unique                        8768                                               8768            2     3         1                                            1      52        62      37      99                         23                                                594                         453                                                  2            7             62                12         3             2         7          62          12              3\n",
       "top     ELEC.COST_BTU.COW-PCC-99.M  Average cost of fossil fuels for electricity g...  billion Btu     M      None  EIA, U.S. Energy Information Administration     USA       USA  200801  202203  2022-05-24T10:42:22-04:00  Natural Gas; Power plants owned by companies w...  ELEC.RECEIPTS_BTU.PEL-98.M  Receipts of fossil fuels by electricity plants...  natural gas  United States  electric utility   monthly  RECEIPTS_BTU        NG          US           1              M\n",
       "freq                             1                                                  1         6482  3035      8768                                         8768     450       450    2949    2798                       5453                                                299                          61                                               6482         2256            450              1637      3035          6482      2256         450        1637           3035"
      ]
     },
     "execution_count": 27,
     "metadata": {},
     "output_type": "execute_result"
    }
   ],
   "source": [
    "meta.loc[:, ~meta.isna().all()].describe()"
   ]
  },
  {
   "cell_type": "code",
   "execution_count": 29,
   "id": "3a63364e",
   "metadata": {},
   "outputs": [],
   "source": [
    "all_nan = meta.isna().all()\n",
    "all_none = meta.eq('None').all()\n",
    "to_drop = all_nan | all_none\n",
    "dropped_col_names = meta.columns[to_drop]"
   ]
  },
  {
   "cell_type": "code",
   "execution_count": 31,
   "id": "d206973d",
   "metadata": {},
   "outputs": [
    {
     "data": {
      "text/plain": [
       "{'category_id',\n",
       " 'childseries',\n",
       " 'copyright',\n",
       " 'lat',\n",
       " 'latlon',\n",
       " 'lon',\n",
       " 'notes',\n",
       " 'parent_category_id'}"
      ]
     },
     "execution_count": 31,
     "metadata": {},
     "output_type": "execute_result"
    }
   ],
   "source": [
    "set(dropped_col_names)"
   ]
  },
  {
   "cell_type": "code",
   "execution_count": 37,
   "id": "87d4dffb",
   "metadata": {},
   "outputs": [
    {
     "data": {
      "text/plain": [
       "{'category_id',\n",
       " 'childseries',\n",
       " 'copyright',\n",
       " 'lat',\n",
       " 'latlon',\n",
       " 'lon',\n",
       " 'notes',\n",
       " 'parent_category_id'}"
      ]
     },
     "execution_count": 37,
     "metadata": {},
     "output_type": "execute_result"
    }
   ],
   "source": [
    "tbulk._get_empty_col_names(meta)"
   ]
  },
  {
   "cell_type": "code",
   "execution_count": 38,
   "id": "fb59ee51",
   "metadata": {},
   "outputs": [
    {
     "data": {
      "text/plain": [
       "{'f', 'frequency_code'}"
      ]
     },
     "execution_count": 38,
     "metadata": {},
     "output_type": "execute_result"
    }
   ],
   "source": [
    "tbulk._get_redundant_frequency_col_names(meta)"
   ]
  },
  {
   "cell_type": "code",
   "execution_count": 41,
   "id": "a72abd66",
   "metadata": {},
   "outputs": [
    {
     "data": {
      "text/plain": [
       "{'copyright', 'source'}"
      ]
     },
     "execution_count": 41,
     "metadata": {},
     "output_type": "execute_result"
    }
   ],
   "source": [
    "tbulk._get_zero_info_col_names(meta)"
   ]
  },
  {
   "cell_type": "code",
   "execution_count": 35,
   "id": "5ad879e3",
   "metadata": {},
   "outputs": [
    {
     "data": {
      "text/plain": [
       "NG     2256\n",
       "PEL    1811\n",
       "COW    1741\n",
       "BIT    1149\n",
       "SUB     963\n",
       "PC      637\n",
       "LIG     211\n",
       "Name: fuel_code, dtype: int64"
      ]
     },
     "execution_count": 35,
     "metadata": {},
     "output_type": "execute_result"
    }
   ],
   "source": [
    "meta['fuel_code'].value_counts()"
   ]
  },
  {
   "cell_type": "code",
   "execution_count": 36,
   "id": "8a8059ea",
   "metadata": {},
   "outputs": [
    {
     "data": {
      "text/plain": [
       "Index(['copyright', 'source'], dtype='object')"
      ]
     },
     "execution_count": 36,
     "metadata": {},
     "output_type": "execute_result"
    }
   ],
   "source": [
    "meta.columns[meta.nunique() == 1]"
   ]
  },
  {
   "cell_type": "code",
   "execution_count": 46,
   "id": "dbe3ba9d",
   "metadata": {},
   "outputs": [],
   "source": [
    "geo_parts = meta['geoset_id'].str.split('-', expand=True)"
   ]
  },
  {
   "cell_type": "code",
   "execution_count": 59,
   "id": "031480fb",
   "metadata": {},
   "outputs": [
    {
     "data": {
      "text/plain": [
       "{'category_id',\n",
       " 'childseries',\n",
       " 'copyright',\n",
       " 'f',\n",
       " 'frequency_code',\n",
       " 'geoset_id',\n",
       " 'lat',\n",
       " 'latlon',\n",
       " 'lon',\n",
       " 'name',\n",
       " 'notes',\n",
       " 'parent_category_id',\n",
       " 'source'}"
      ]
     },
     "execution_count": 59,
     "metadata": {},
     "output_type": "execute_result"
    }
   ],
   "source": [
    "tbulk._get_col_names_to_drop(meta)"
   ]
  },
  {
   "cell_type": "code",
   "execution_count": 53,
   "id": "4c07df7f",
   "metadata": {},
   "outputs": [],
   "source": [
    "pd.set_option('display.max_colwidth', None)"
   ]
  },
  {
   "cell_type": "code",
   "execution_count": 58,
   "id": "3c3cae3c",
   "metadata": {},
   "outputs": [
    {
     "data": {
      "text/html": [
       "<div>\n",
       "<style scoped>\n",
       "    .dataframe tbody tr th:only-of-type {\n",
       "        vertical-align: middle;\n",
       "    }\n",
       "\n",
       "    .dataframe tbody tr th {\n",
       "        vertical-align: top;\n",
       "    }\n",
       "\n",
       "    .dataframe thead th {\n",
       "        text-align: right;\n",
       "    }\n",
       "</style>\n",
       "<table border=\"1\" class=\"dataframe\">\n",
       "  <thead>\n",
       "    <tr style=\"text-align: right;\">\n",
       "      <th></th>\n",
       "      <th>series</th>\n",
       "      <th>name</th>\n",
       "      <th>description</th>\n",
       "    </tr>\n",
       "  </thead>\n",
       "  <tbody>\n",
       "    <tr>\n",
       "      <th>275</th>\n",
       "      <td>Average cost of fossil fuels for electricity generation (per Btu)</td>\n",
       "      <td>Average cost of fossil fuels for electricity generation (per Btu) : petroleum coke : Michigan : electric utility : monthly</td>\n",
       "      <td>Petroleum Coke (solid residual petroluem); Power plants owned by regulated electric utilties;</td>\n",
       "    </tr>\n",
       "    <tr>\n",
       "      <th>7717</th>\n",
       "      <td>Average cost of fossil fuels for electricity generation (per Btu)</td>\n",
       "      <td>Average cost of fossil fuels for electricity generation (per Btu) : petroleum liquids : Kentucky : electric utility : annual</td>\n",
       "      <td>Summation of all petroleum liquids (distallte fuel oil, jet fuel, residual fuel oil, kerosense waste oil and other petroleum liquids); Power plants owned by regulated electric utilties;</td>\n",
       "    </tr>\n",
       "    <tr>\n",
       "      <th>8069</th>\n",
       "      <td>Average cost of fossil fuels for electricity generation (per Btu)</td>\n",
       "      <td>Average cost of fossil fuels for electricity generation (per Btu) : petroleum liquids : Pacific Noncontiguous (total) : electric utility : annual</td>\n",
       "      <td>Summation of all petroleum liquids (distallte fuel oil, jet fuel, residual fuel oil, kerosense waste oil and other petroleum liquids); Power plants owned by regulated electric utilties; Summation of the states in the Pacific Noncontiguous census region including Alaska and Hawaii.;</td>\n",
       "    </tr>\n",
       "    <tr>\n",
       "      <th>4344</th>\n",
       "      <td>Receipts of fossil fuels by electricity plants (Btu)</td>\n",
       "      <td>Receipts of fossil fuels by electricity plants (Btu) : natural gas : Pacific Contiguous (total) : all sectors : quarterly</td>\n",
       "      <td>Natural Gas; All sectors; Summation of the states in the Pacific Contiguous census region including California, Oregon, and Washington;</td>\n",
       "    </tr>\n",
       "    <tr>\n",
       "      <th>8561</th>\n",
       "      <td>Receipts of fossil fuels by electricity plants (Btu)</td>\n",
       "      <td>Receipts of fossil fuels by electricity plants (Btu) : coal : Connecticut : electric utility cogen : monthly</td>\n",
       "      <td>Summation of all types of coal; Power plants owned by regualted electric utilities that produce both electricity and useful heat;</td>\n",
       "    </tr>\n",
       "  </tbody>\n",
       "</table>\n",
       "</div>"
      ],
      "text/plain": [
       "                                                                 series                                                                                                                                               name                                                                                                                                                                                                                                                                                  description\n",
       "275   Average cost of fossil fuels for electricity generation (per Btu)                         Average cost of fossil fuels for electricity generation (per Btu) : petroleum coke : Michigan : electric utility : monthly                                                                                                                                                                                               Petroleum Coke (solid residual petroluem); Power plants owned by regulated electric utilties; \n",
       "7717  Average cost of fossil fuels for electricity generation (per Btu)                       Average cost of fossil fuels for electricity generation (per Btu) : petroleum liquids : Kentucky : electric utility : annual                                                                                                   Summation of all petroleum liquids (distallte fuel oil, jet fuel, residual fuel oil, kerosense waste oil and other petroleum liquids); Power plants owned by regulated electric utilties; \n",
       "8069  Average cost of fossil fuels for electricity generation (per Btu)  Average cost of fossil fuels for electricity generation (per Btu) : petroleum liquids : Pacific Noncontiguous (total) : electric utility : annual  Summation of all petroleum liquids (distallte fuel oil, jet fuel, residual fuel oil, kerosense waste oil and other petroleum liquids); Power plants owned by regulated electric utilties; Summation of the states in the Pacific Noncontiguous census region including Alaska and Hawaii.; \n",
       "4344               Receipts of fossil fuels by electricity plants (Btu)                          Receipts of fossil fuels by electricity plants (Btu) : natural gas : Pacific Contiguous (total) : all sectors : quarterly                                                                                                                                                     Natural Gas; All sectors; Summation of the states in the Pacific Contiguous census region including California, Oregon, and Washington; \n",
       "8561               Receipts of fossil fuels by electricity plants (Btu)                                       Receipts of fossil fuels by electricity plants (Btu) : coal : Connecticut : electric utility cogen : monthly                                                                                                                                                           Summation of all types of coal; Power plants owned by regualted electric utilities that produce both electricity and useful heat; "
      ]
     },
     "execution_count": 58,
     "metadata": {},
     "output_type": "execute_result"
    }
   ],
   "source": [
    "meta.sample(5, random_state=2)[['series', 'name', 'description']]"
   ]
  },
  {
   "cell_type": "code",
   "execution_count": 62,
   "id": "704fbddd",
   "metadata": {},
   "outputs": [],
   "source": [
    "dmeta = meta.drop(columns=tbulk._get_col_names_to_drop(meta))"
   ]
  },
  {
   "cell_type": "code",
   "execution_count": 63,
   "id": "248cbc0f",
   "metadata": {
    "scrolled": true
   },
   "outputs": [
    {
     "data": {
      "text/html": [
       "<div>\n",
       "<style scoped>\n",
       "    .dataframe tbody tr th:only-of-type {\n",
       "        vertical-align: middle;\n",
       "    }\n",
       "\n",
       "    .dataframe tbody tr th {\n",
       "        vertical-align: top;\n",
       "    }\n",
       "\n",
       "    .dataframe thead th {\n",
       "        text-align: right;\n",
       "    }\n",
       "</style>\n",
       "<table border=\"1\" class=\"dataframe\">\n",
       "  <thead>\n",
       "    <tr style=\"text-align: right;\">\n",
       "      <th></th>\n",
       "      <th>series_id</th>\n",
       "      <th>units</th>\n",
       "      <th>iso3166</th>\n",
       "      <th>geography</th>\n",
       "      <th>start</th>\n",
       "      <th>end</th>\n",
       "      <th>last_updated</th>\n",
       "      <th>description</th>\n",
       "      <th>series</th>\n",
       "      <th>fuel</th>\n",
       "      <th>region</th>\n",
       "      <th>sector</th>\n",
       "      <th>frequency</th>\n",
       "      <th>series_code</th>\n",
       "      <th>fuel_code</th>\n",
       "      <th>region_code</th>\n",
       "      <th>sector_code</th>\n",
       "      <th>frequency_code</th>\n",
       "    </tr>\n",
       "  </thead>\n",
       "  <tbody>\n",
       "    <tr>\n",
       "      <th>275</th>\n",
       "      <td>ELEC.COST_BTU.PC-MI-1.M</td>\n",
       "      <td>dollars per million Btu</td>\n",
       "      <td>USA-MI</td>\n",
       "      <td>USA-MI</td>\n",
       "      <td>200801</td>\n",
       "      <td>202203</td>\n",
       "      <td>2022-05-24T10:42:22-04:00</td>\n",
       "      <td>Petroleum Coke (solid residual petroluem); Power plants owned by regulated electric utilties;</td>\n",
       "      <td>Average cost of fossil fuels for electricity generation (per Btu)</td>\n",
       "      <td>petroleum coke</td>\n",
       "      <td>Michigan</td>\n",
       "      <td>electric utility</td>\n",
       "      <td>monthly</td>\n",
       "      <td>COST_BTU</td>\n",
       "      <td>PC</td>\n",
       "      <td>MI</td>\n",
       "      <td>1</td>\n",
       "      <td>M</td>\n",
       "    </tr>\n",
       "    <tr>\n",
       "      <th>7717</th>\n",
       "      <td>ELEC.COST_BTU.PEL-KY-1.A</td>\n",
       "      <td>dollars per million Btu</td>\n",
       "      <td>USA-KY</td>\n",
       "      <td>USA-KY</td>\n",
       "      <td>2008</td>\n",
       "      <td>2021</td>\n",
       "      <td>2022-02-25T15:25:17-05:00</td>\n",
       "      <td>Summation of all petroleum liquids (distallte fuel oil, jet fuel, residual fuel oil, kerosense waste oil and other petroleum liquids); Power plants owned by regulated electric utilties;</td>\n",
       "      <td>Average cost of fossil fuels for electricity generation (per Btu)</td>\n",
       "      <td>petroleum liquids</td>\n",
       "      <td>Kentucky</td>\n",
       "      <td>electric utility</td>\n",
       "      <td>annual</td>\n",
       "      <td>COST_BTU</td>\n",
       "      <td>PEL</td>\n",
       "      <td>KY</td>\n",
       "      <td>1</td>\n",
       "      <td>A</td>\n",
       "    </tr>\n",
       "    <tr>\n",
       "      <th>8069</th>\n",
       "      <td>ELEC.COST_BTU.PEL-PCN-1.A</td>\n",
       "      <td>dollars per million Btu</td>\n",
       "      <td>NaN</td>\n",
       "      <td>USA-AK+USA-HI</td>\n",
       "      <td>2008</td>\n",
       "      <td>2021</td>\n",
       "      <td>2022-02-25T15:25:17-05:00</td>\n",
       "      <td>Summation of all petroleum liquids (distallte fuel oil, jet fuel, residual fuel oil, kerosense waste oil and other petroleum liquids); Power plants owned by regulated electric utilties; Summation of the states in the Pacific Noncontiguous census region including Alaska and Hawaii.;</td>\n",
       "      <td>Average cost of fossil fuels for electricity generation (per Btu)</td>\n",
       "      <td>petroleum liquids</td>\n",
       "      <td>Pacific Noncontiguous (total)</td>\n",
       "      <td>electric utility</td>\n",
       "      <td>annual</td>\n",
       "      <td>COST_BTU</td>\n",
       "      <td>PEL</td>\n",
       "      <td>PCN</td>\n",
       "      <td>1</td>\n",
       "      <td>A</td>\n",
       "    </tr>\n",
       "    <tr>\n",
       "      <th>4344</th>\n",
       "      <td>ELEC.RECEIPTS_BTU.NG-PCC-99.Q</td>\n",
       "      <td>billion Btu</td>\n",
       "      <td>NaN</td>\n",
       "      <td>USA-CA+USA-OR+USA-WA</td>\n",
       "      <td>2008Q1</td>\n",
       "      <td>2022Q1</td>\n",
       "      <td>2022-05-24T10:42:22-04:00</td>\n",
       "      <td>Natural Gas; All sectors; Summation of the states in the Pacific Contiguous census region including California, Oregon, and Washington;</td>\n",
       "      <td>Receipts of fossil fuels by electricity plants (Btu)</td>\n",
       "      <td>natural gas</td>\n",
       "      <td>Pacific Contiguous (total)</td>\n",
       "      <td>all sectors</td>\n",
       "      <td>quarterly</td>\n",
       "      <td>RECEIPTS_BTU</td>\n",
       "      <td>NG</td>\n",
       "      <td>PCC</td>\n",
       "      <td>99</td>\n",
       "      <td>Q</td>\n",
       "    </tr>\n",
       "    <tr>\n",
       "      <th>8561</th>\n",
       "      <td>ELEC.RECEIPTS_BTU.COW-CT-3.M</td>\n",
       "      <td>billion Btu</td>\n",
       "      <td>USA-CT</td>\n",
       "      <td>USA-CT</td>\n",
       "      <td>200801</td>\n",
       "      <td>201212</td>\n",
       "      <td>2016-12-19T17:19:30-05:00</td>\n",
       "      <td>Summation of all types of coal; Power plants owned by regualted electric utilities that produce both electricity and useful heat;</td>\n",
       "      <td>Receipts of fossil fuels by electricity plants (Btu)</td>\n",
       "      <td>coal</td>\n",
       "      <td>Connecticut</td>\n",
       "      <td>electric utility cogen</td>\n",
       "      <td>monthly</td>\n",
       "      <td>RECEIPTS_BTU</td>\n",
       "      <td>COW</td>\n",
       "      <td>CT</td>\n",
       "      <td>3</td>\n",
       "      <td>M</td>\n",
       "    </tr>\n",
       "  </tbody>\n",
       "</table>\n",
       "</div>"
      ],
      "text/plain": [
       "                          series_id                    units iso3166             geography   start     end               last_updated                                                                                                                                                                                                                                                                                  description                                                             series               fuel                         region                  sector  frequency   series_code fuel_code region_code sector_code frequency_code\n",
       "275         ELEC.COST_BTU.PC-MI-1.M  dollars per million Btu  USA-MI                USA-MI  200801  202203  2022-05-24T10:42:22-04:00                                                                                                                                                                                               Petroleum Coke (solid residual petroluem); Power plants owned by regulated electric utilties;   Average cost of fossil fuels for electricity generation (per Btu)     petroleum coke                       Michigan        electric utility    monthly      COST_BTU        PC          MI           1              M\n",
       "7717       ELEC.COST_BTU.PEL-KY-1.A  dollars per million Btu  USA-KY                USA-KY    2008    2021  2022-02-25T15:25:17-05:00                                                                                                   Summation of all petroleum liquids (distallte fuel oil, jet fuel, residual fuel oil, kerosense waste oil and other petroleum liquids); Power plants owned by regulated electric utilties;   Average cost of fossil fuels for electricity generation (per Btu)  petroleum liquids                       Kentucky        electric utility     annual      COST_BTU       PEL          KY           1              A\n",
       "8069      ELEC.COST_BTU.PEL-PCN-1.A  dollars per million Btu     NaN         USA-AK+USA-HI    2008    2021  2022-02-25T15:25:17-05:00  Summation of all petroleum liquids (distallte fuel oil, jet fuel, residual fuel oil, kerosense waste oil and other petroleum liquids); Power plants owned by regulated electric utilties; Summation of the states in the Pacific Noncontiguous census region including Alaska and Hawaii.;   Average cost of fossil fuels for electricity generation (per Btu)  petroleum liquids  Pacific Noncontiguous (total)        electric utility     annual      COST_BTU       PEL         PCN           1              A\n",
       "4344  ELEC.RECEIPTS_BTU.NG-PCC-99.Q              billion Btu     NaN  USA-CA+USA-OR+USA-WA  2008Q1  2022Q1  2022-05-24T10:42:22-04:00                                                                                                                                                     Natural Gas; All sectors; Summation of the states in the Pacific Contiguous census region including California, Oregon, and Washington;                Receipts of fossil fuels by electricity plants (Btu)        natural gas     Pacific Contiguous (total)             all sectors  quarterly  RECEIPTS_BTU        NG         PCC          99              Q\n",
       "8561   ELEC.RECEIPTS_BTU.COW-CT-3.M              billion Btu  USA-CT                USA-CT  200801  201212  2016-12-19T17:19:30-05:00                                                                                                                                                           Summation of all types of coal; Power plants owned by regualted electric utilities that produce both electricity and useful heat;                Receipts of fossil fuels by electricity plants (Btu)               coal                    Connecticut  electric utility cogen    monthly  RECEIPTS_BTU       COW          CT           3              M"
      ]
     },
     "execution_count": 63,
     "metadata": {},
     "output_type": "execute_result"
    }
   ],
   "source": [
    "dmeta.sample(5, random_state=2)"
   ]
  },
  {
   "cell_type": "code",
   "execution_count": 68,
   "id": "5c0b9734",
   "metadata": {},
   "outputs": [],
   "source": [
    "wide_ts = ts.merge(dmeta[['series_id', 'series_code', 'fuel', 'region','sector', 'frequency']], on='series_id').drop(columns='series_id')"
   ]
  },
  {
   "cell_type": "code",
   "execution_count": 75,
   "id": "aeaec99c",
   "metadata": {},
   "outputs": [],
   "source": [
    "wide_ts = wide_ts.set_index(['series_code', 'fuel', 'region','sector', 'frequency', 'date']).unstack('series_code')"
   ]
  },
  {
   "cell_type": "code",
   "execution_count": 80,
   "id": "6b1989e6",
   "metadata": {},
   "outputs": [],
   "source": [
    "wide_ts.columns = wide_ts.columns.droplevel(level=None)"
   ]
  },
  {
   "cell_type": "code",
   "execution_count": 81,
   "id": "2b0f16e6",
   "metadata": {},
   "outputs": [
    {
     "data": {
      "text/html": [
       "<div>\n",
       "<style scoped>\n",
       "    .dataframe tbody tr th:only-of-type {\n",
       "        vertical-align: middle;\n",
       "    }\n",
       "\n",
       "    .dataframe tbody tr th {\n",
       "        vertical-align: top;\n",
       "    }\n",
       "\n",
       "    .dataframe thead th {\n",
       "        text-align: right;\n",
       "    }\n",
       "</style>\n",
       "<table border=\"1\" class=\"dataframe\">\n",
       "  <thead>\n",
       "    <tr style=\"text-align: right;\">\n",
       "      <th></th>\n",
       "      <th></th>\n",
       "      <th></th>\n",
       "      <th></th>\n",
       "      <th>series_code</th>\n",
       "      <th>COST_BTU</th>\n",
       "      <th>RECEIPTS_BTU</th>\n",
       "    </tr>\n",
       "    <tr>\n",
       "      <th>fuel</th>\n",
       "      <th>region</th>\n",
       "      <th>sector</th>\n",
       "      <th>frequency</th>\n",
       "      <th>date</th>\n",
       "      <th></th>\n",
       "      <th></th>\n",
       "    </tr>\n",
       "  </thead>\n",
       "  <tbody>\n",
       "    <tr>\n",
       "      <th>bituminous coal</th>\n",
       "      <th>Pacific Noncontiguous (total)</th>\n",
       "      <th>electric utility cogen</th>\n",
       "      <th>monthly</th>\n",
       "      <th>2018-10-01</th>\n",
       "      <td>NaN</td>\n",
       "      <td>0.00000</td>\n",
       "    </tr>\n",
       "    <tr>\n",
       "      <th>petroleum liquids</th>\n",
       "      <th>East South Central (total)</th>\n",
       "      <th>independent power producers (total)</th>\n",
       "      <th>monthly</th>\n",
       "      <th>2009-12-01</th>\n",
       "      <td>NaN</td>\n",
       "      <td>NaN</td>\n",
       "    </tr>\n",
       "    <tr>\n",
       "      <th>petroleum coke</th>\n",
       "      <th>California</th>\n",
       "      <th>electric power (total)</th>\n",
       "      <th>monthly</th>\n",
       "      <th>2013-08-01</th>\n",
       "      <td>0.0000</td>\n",
       "      <td>0.00000</td>\n",
       "    </tr>\n",
       "    <tr>\n",
       "      <th>coal</th>\n",
       "      <th>New Mexico</th>\n",
       "      <th>electric utility</th>\n",
       "      <th>monthly</th>\n",
       "      <th>2010-03-01</th>\n",
       "      <td>2.1129</td>\n",
       "      <td>17021.86833</td>\n",
       "    </tr>\n",
       "    <tr>\n",
       "      <th>petroleum coke</th>\n",
       "      <th>West South Central (total)</th>\n",
       "      <th>industrial cogen</th>\n",
       "      <th>quarterly</th>\n",
       "      <th>2016-01-01</th>\n",
       "      <td>NaN</td>\n",
       "      <td>0.00000</td>\n",
       "    </tr>\n",
       "  </tbody>\n",
       "</table>\n",
       "</div>"
      ],
      "text/plain": [
       "series_code                                                                                               COST_BTU  RECEIPTS_BTU\n",
       "fuel              region                        sector                              frequency date                              \n",
       "bituminous coal   Pacific Noncontiguous (total) electric utility cogen              monthly   2018-10-01       NaN       0.00000\n",
       "petroleum liquids East South Central (total)    independent power producers (total) monthly   2009-12-01       NaN           NaN\n",
       "petroleum coke    California                    electric power (total)              monthly   2013-08-01    0.0000       0.00000\n",
       "coal              New Mexico                    electric utility                    monthly   2010-03-01    2.1129   17021.86833\n",
       "petroleum coke    West South Central (total)    industrial cogen                    quarterly 2016-01-01       NaN       0.00000"
      ]
     },
     "execution_count": 81,
     "metadata": {},
     "output_type": "execute_result"
    }
   ],
   "source": [
    "wide_ts.sample(5)"
   ]
  },
  {
   "cell_type": "code",
   "execution_count": null,
   "id": "0f1007e2",
   "metadata": {},
   "outputs": [],
   "source": []
  }
 ],
 "metadata": {
  "kernelspec": {
   "display_name": "Python 3 (ipykernel)",
   "language": "python",
   "name": "python3"
  },
  "language_info": {
   "codemirror_mode": {
    "name": "ipython",
    "version": 3
   },
   "file_extension": ".py",
   "mimetype": "text/x-python",
   "name": "python",
   "nbconvert_exporter": "python",
   "pygments_lexer": "ipython3",
   "version": "3.10.5"
  }
 },
 "nbformat": 4,
 "nbformat_minor": 5
}
