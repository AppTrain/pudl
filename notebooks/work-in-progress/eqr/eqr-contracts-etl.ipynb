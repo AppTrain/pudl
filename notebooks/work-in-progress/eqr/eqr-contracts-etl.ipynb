{
 "cells": [
  {
   "cell_type": "code",
   "execution_count": 1,
   "id": "037efa26-b1e3-4cf4-a10c-c5e2688e9f7d",
   "metadata": {
    "tags": []
   },
   "outputs": [],
   "source": [
    "import pandas as pd\n",
    "import zipfile\n",
    "\n",
    "from pathlib import Path\n",
    "import io\n",
    "\n",
    "import sqlalchemy as sa\n",
    "from tqdm import tqdm\n",
    "\n",
    "eqr_data_dir = Path(\"./eqr_data\")"
   ]
  },
  {
   "cell_type": "code",
   "execution_count": 2,
   "id": "885a0f1b-133a-40ec-8127-d311dbc6fe19",
   "metadata": {},
   "outputs": [],
   "source": [
    "# FILE_END_STRS_TO_TABLE_NAMES = {\"indexPub.CSV\": \"index_publishing\", \"ident.CSV\": \"identities\", \"contracts.CSV\": \"contracts\", \"transactions.CSV\": \"transactions\"}\n",
    "FILE_END_STRS_TO_TABLE_NAMES = {\"indexPub.CSV\": \"index_publishing\", \"ident.CSV\": \"identities\", \"contracts.CSV\": \"contracts\",}\n",
    "\n",
    "TABLE_DTYPES = {\"identities\": {\"contact_zip\": \"string\", \"contact_phone\": \"string\"}, \"contracts\": {\"seller_history_name\": pd.StringDtype()}}"
   ]
  },
  {
   "cell_type": "code",
   "execution_count": 8,
   "id": "0498eb59-c1e4-4ac1-b9d0-668288b820fd",
   "metadata": {
    "tags": []
   },
   "outputs": [
    {
     "name": "stdout",
     "output_type": "stream",
     "text": [
      "Processing eqr_data/CSV_2020_Q2.zip\n",
      "eqr_data/CSV_2020_Q2.zip\n"
     ]
    },
    {
     "name": "stderr",
     "output_type": "stream",
     "text": [
      "/var/folders/ff/4xqnnhjx54sdb6vd8g7s0zq80000gn/T/ipykernel_57690/917431985.py:21: DtypeWarning: Columns (12,15,25,26,27,28) have mixed types. Specify dtype option on import or set low_memory=False.\n",
      "  df = pd.read_csv(io.BytesIO(seller_zip.read(table_csv_path[0])),\n"
     ]
    },
    {
     "name": "stdout",
     "output_type": "stream",
     "text": [
      "Processing eqr_data/CSV_2020_Q3.zip\n",
      "eqr_data/CSV_2020_Q3.zip\n"
     ]
    },
    {
     "name": "stderr",
     "output_type": "stream",
     "text": [
      "/var/folders/ff/4xqnnhjx54sdb6vd8g7s0zq80000gn/T/ipykernel_57690/917431985.py:21: DtypeWarning: Columns (15,25,26,27,28) have mixed types. Specify dtype option on import or set low_memory=False.\n",
      "  df = pd.read_csv(io.BytesIO(seller_zip.read(table_csv_path[0])),\n"
     ]
    },
    {
     "name": "stdout",
     "output_type": "stream",
     "text": [
      "Processing eqr_data/CSV_2020_Q1.zip\n",
      "eqr_data/CSV_2020_Q1.zip\n",
      "Processing eqr_data/CSV_2020_Q4.zip\n",
      "eqr_data/CSV_2020_Q4.zip\n"
     ]
    },
    {
     "name": "stderr",
     "output_type": "stream",
     "text": [
      "/var/folders/ff/4xqnnhjx54sdb6vd8g7s0zq80000gn/T/ipykernel_57690/917431985.py:21: DtypeWarning: Columns (12,15,25,26,27,28) have mixed types. Specify dtype option on import or set low_memory=False.\n",
      "  df = pd.read_csv(io.BytesIO(seller_zip.read(table_csv_path[0])),\n"
     ]
    }
   ],
   "source": [
    "db_path = Path(\"./eqr.db\")\n",
    "db_path.unlink(missing_ok=True)\n",
    "\n",
    "engine = sa.create_engine(f\"sqlite:///{db_path}\")\n",
    "\n",
    "def convert_to_stringdtype(df: pd.DataFrame):\n",
    "    \"\"\"Convert all columns with nans to StringDtypes\"\"\"\n",
    "    for column in df.columns:\n",
    "        if df[column].isnull().any():\n",
    "            df[column] = df[column].astype(\"string\")\n",
    "    return df\n",
    "\n",
    "def extract_seller(seller_zip: zipfile.ZipFile, year, quarter):\n",
    "    \"\"\"Extract the tables and load them to a sqlite db for a seller\"\"\"\n",
    "    with seller_zip as seller:\n",
    "        for table_type, table_name in FILE_END_STRS_TO_TABLE_NAMES.items():\n",
    "            # find a file in seller_zip that matches the substring\n",
    "            table_csv_path = list(filter(lambda x: x.endswith(table_type), seller.namelist()))\n",
    "            assert len(table_csv_path) <= 1\n",
    "            if table_csv_path:\n",
    "                df = pd.read_csv(io.BytesIO(seller_zip.read(table_csv_path[0])), \n",
    "                                encoding=\"ISO-8859-1\",\n",
    "                                dtype=TABLE_DTYPES.get(table_name))\n",
    "                df = convert_to_stringdtype(df)\n",
    "                \n",
    "                df[\"year\"] = year\n",
    "                df[\"quarter\"] = quarter\n",
    "                \n",
    "                with engine.connect() as conn:\n",
    "                    df.to_sql(table_name, conn, index=False, if_exists=\"append\")\n",
    "\n",
    "def extract_quarter(quarter_zip_path: Path):\n",
    "    \"\"\"Extract a quarter of EQR data.\"\"\"\n",
    "    _, year, quarter = quarter_zip_path.stem.split(\"_\")\n",
    "    year = int(year)\n",
    "    with zipfile.ZipFile(quarter_zip_path, mode=\"r\") as quarter_zip:\n",
    "        for seller_path in quarter_zip.namelist():\n",
    "            seller_zip_bytes = io.BytesIO(quarter_zip.read(seller_path))\n",
    "            seller_zip = zipfile.ZipFile(seller_zip_bytes)\n",
    "            extract_seller(seller_zip, year, quarter)\n",
    "\n",
    "for quarter_zip in eqr_data_dir.glob(\"*.zip\"):\n",
    "    print(f\"Processing {quarter_zip}\")\n",
    "    extract_quarter(quarter_zip)"
   ]
  },
  {
   "cell_type": "code",
   "execution_count": null,
   "id": "0e5445ee-c6c5-41a3-a5e3-386f5c4da366",
   "metadata": {},
   "outputs": [],
   "source": [
    "with engine.connect() as conn:\n",
    "    contracts = pd.read_sql_table(\"contracts\", conn)"
   ]
  },
  {
   "cell_type": "code",
   "execution_count": null,
   "id": "e8b60887-c563-42a7-81fc-93ecc459fcd9",
   "metadata": {},
   "outputs": [],
   "source": [
    "contracts.info()"
   ]
  },
  {
   "cell_type": "code",
   "execution_count": 9,
   "id": "a77750a5-7d3e-4198-9dc8-7f3fc520a71c",
   "metadata": {},
   "outputs": [
    {
     "ename": "NameError",
     "evalue": "name 'contracts' is not defined",
     "output_type": "error",
     "traceback": [
      "\u001b[0;31m---------------------------------------------------------------------------\u001b[0m",
      "\u001b[0;31mNameError\u001b[0m                                 Traceback (most recent call last)",
      "Input \u001b[0;32mIn [9]\u001b[0m, in \u001b[0;36m<cell line: 1>\u001b[0;34m()\u001b[0m\n\u001b[0;32m----> 1\u001b[0m \u001b[43mcontracts\u001b[49m\u001b[38;5;241m.\u001b[39mcolumns\n",
      "\u001b[0;31mNameError\u001b[0m: name 'contracts' is not defined"
     ]
    }
   ],
   "source": [
    "contracts.columns"
   ]
  },
  {
   "cell_type": "code",
   "execution_count": null,
   "id": "282f3e8f-aea0-4ebe-8942-f8c1e35e7f91",
   "metadata": {},
   "outputs": [],
   "source": []
  }
 ],
 "metadata": {
  "kernelspec": {
   "display_name": "Python 3 (ipykernel)",
   "language": "python",
   "name": "python3"
  },
  "language_info": {
   "codemirror_mode": {
    "name": "ipython",
    "version": 3
   },
   "file_extension": ".py",
   "mimetype": "text/x-python",
   "name": "python",
   "nbconvert_exporter": "python",
   "pygments_lexer": "ipython3",
   "version": "3.10.4"
  }
 },
 "nbformat": 4,
 "nbformat_minor": 5
}
