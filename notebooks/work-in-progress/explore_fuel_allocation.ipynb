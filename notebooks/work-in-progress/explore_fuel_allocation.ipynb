{
 "cells": [
  {
   "cell_type": "code",
   "execution_count": 1,
   "id": "circular-heaven",
   "metadata": {},
   "outputs": [],
   "source": [
    "%load_ext autoreload\n",
    "%autoreload 2"
   ]
  },
  {
   "cell_type": "code",
   "execution_count": 2,
   "id": "invisible-memorabilia",
   "metadata": {},
   "outputs": [],
   "source": [
    "import pandas as pd\n",
    "import numpy as np\n",
    "import sqlalchemy as sa\n",
    "import logging\n",
    "import sys\n",
    "import matplotlib as mpl\n",
    "import matplotlib.pyplot as plt\n",
    "\n",
    "\n",
    "import pudl\n",
    "\n",
    "from pudl.analysis.allocate_net_gen import *\n",
    "from pudl.analysis.allocate_net_gen import _test_gen_pm_fuel_output, _test_gen_fuel_allocation\n",
    "\n",
    "mpl.style.use('dark_background')\n",
    "pd.options.display.max_columns = None\n",
    "plt.rcParams[\"figure.figsize\"] = (15,10)"
   ]
  },
  {
   "cell_type": "code",
   "execution_count": 3,
   "id": "6aa1cc79-61db-4cf9-b951-f8545ca1c0c6",
   "metadata": {},
   "outputs": [],
   "source": [
    "logger = logging.getLogger()\n",
    "logger.setLevel(logging.INFO)\n",
    "handler = logging.StreamHandler(stream=sys.stdout)\n",
    "formatter = logging.Formatter('%(message)s')\n",
    "handler.setFormatter(formatter)\n",
    "logger.handlers = [handler]"
   ]
  },
  {
   "cell_type": "markdown",
   "id": "859a972a-2cca-4c25-88d8-4b68efd2f9c2",
   "metadata": {},
   "source": [
    "# Implementation Zone for Allocating Fuel"
   ]
  },
  {
   "cell_type": "code",
   "execution_count": 4,
   "id": "subtle-tribe",
   "metadata": {},
   "outputs": [],
   "source": [
    "pudl_settings = pudl.workspace.setup.get_defaults()\n",
    "pudl_engine = sa.create_engine(pudl_settings['pudl_db'])\n",
    "# the fill_net_gen arg is employing a beta feature!\n",
    "# It will result in a much higher coverage of net generation\n",
    "# and fuel consuption, but it has known issues with multi-fuel plants.\n",
    "pudl_out = pudl.output.pudltabl.PudlTabl(\n",
    "    pudl_engine,\n",
    "    freq='AS',\n",
    "    fill_fuel_cost=True,\n",
    "    roll_fuel_cost=True,\n",
    "    fill_net_gen=False,\n",
    ")"
   ]
  },
  {
   "cell_type": "code",
   "execution_count": 5,
   "id": "62f8f962-735d-434e-8901-4204bae03dfd",
   "metadata": {
    "tags": []
   },
   "outputs": [
    {
     "name": "stdout",
     "output_type": "stream",
     "text": [
      "Replaced 0.7% MSN and MSB energy_source_codes w/ MSW\n",
      "Filling technology type\n",
      "Replaced 4.0% MSN and MSB energy_source_codes w/ MSW\n",
      "Removing 4315 generators that retired mid-year out of 491469\n",
      "Ratio calc types: \n",
      "   All gens w/in generation table:  77404#, 1.3e+07 MW\n",
      "   Some gens w/in generation table: 2666#, 1.6e+05 MW\n",
      "   No gens w/in generation table:   442436#, 2.1e+07 MW\n",
      "1.214% of records have are partially off from their 'IDX_PM_ESC' group\n",
      "gen v fuel table net gen diff:      36.6%\n",
      "new v fuel table net gen diff:      94.9%\n",
      "8.30% of generator records are more that 5% off from the net generation table\n",
      "Yay you passed the test for the `frac_cap` column for the not_in_bf records..\n",
      "Wahoo! You passed the test for fuel allocation for the not_in_bf records.\n",
      "You've passed the frac_cap test for the `in_bf_tbl` records\n",
      "105.82%of the fuel from the gf table has been allocated to records not in the bf table\n",
      "98.61% of the fuel from the bf table has been allocated\n",
      "103.37% of the fuel from the gf table has been allocated\n"
     ]
    }
   ],
   "source": [
    "# current generator-level output\n",
    "net_gen_fuel_alloc = pudl_out.gen_fuel_by_generator_eia923(update=True)"
   ]
  },
  {
   "cell_type": "markdown",
   "id": "3b4ba7b2-b890-4c11-a439-cf8f3eed11b5",
   "metadata": {},
   "source": [
    "## Common Inputs Between Net Gen and Fuel Allocation"
   ]
  },
  {
   "cell_type": "code",
   "execution_count": 6,
   "id": "every-customs",
   "metadata": {},
   "outputs": [
    {
     "name": "stdout",
     "output_type": "stream",
     "text": [
      "Replaced 0.7% MSN and MSB energy_source_codes w/ MSW\n",
      "Replaced 4.0% MSN and MSB energy_source_codes w/ MSW\n",
      "Removing 4315 generators that retired mid-year out of 491469\n"
     ]
    }
   ],
   "source": [
    "# extract all of the tables from pudl_out early in the process and select\n",
    "# only the columns we need. this is for speed and clarity.\n",
    "gf = (\n",
    "    pudl_out.gf_eia923()\n",
    "    .loc[:, IDX_PM_ESC + [\"net_generation_mwh\", \"fuel_consumed_mmbtu\"]]\n",
    "    .pipe(group_msw_codes, IDX_PM_ESC)\n",
    ")\n",
    "gen = (\n",
    "    pudl_out.gen_original_eia923().loc[:, IDX_GENS + [\"net_generation_mwh\"]]\n",
    "    # removes 4 records with NaN generator_id as of pudl v0.5\n",
    "    .dropna(subset=IDX_GENS)\n",
    ")\n",
    "gens = pudl_out.gens_eia860().loc[\n",
    "    :,\n",
    "    IDX_GENS\n",
    "    + [\n",
    "        \"prime_mover_code\",\n",
    "        \"unit_id_pudl\",\n",
    "        \"capacity_mw\",\n",
    "        \"fuel_type_count\",\n",
    "        \"operational_status\",\n",
    "        \"retirement_date\",\n",
    "    ]\n",
    "    + list(pudl_out.gens_eia860().filter(like=\"energy_source_code\")),\n",
    "]\n",
    "bf = (\n",
    "    pudl_out.bf_eia923()\n",
    "    .loc[:, IDX_U_ESC + [\"fuel_consumed_mmbtu\"]]\n",
    "    .pipe(remove_bf_nulls)\n",
    "    .pipe(group_msw_codes, IDX_U_ESC)\n",
    ")\n",
    "\n",
    "# do the association!\n",
    "gen_assoc = associate_generator_tables(gf=gf, gen=gen, gens=gens, bf=bf)\n",
    "\n",
    "# Generate a fraction to use to allocate net generation by.\n",
    "# These two methods create a column called `frac`, which will be a fraction\n",
    "# to allocate net generation from the gf table for each `IDX_PM_ESC` group\n",
    "gen_pm_fuel = prep_alloction_fraction(gen_assoc)"
   ]
  },
  {
   "cell_type": "markdown",
   "id": "1071e6fc-4e6b-4270-b227-aefd70462cd7",
   "metadata": {
    "tags": []
   },
   "source": [
    "## Fuel Allocation"
   ]
  },
  {
   "cell_type": "code",
   "execution_count": 7,
   "id": "a6723a06-2f06-4d0d-aa78-d23af75d5e55",
   "metadata": {},
   "outputs": [
    {
     "name": "stdout",
     "output_type": "stream",
     "text": [
      "Yay you passed the test for the `frac_cap` column for the not_in_bf records..\n",
      "Wahoo! You passed the test for fuel allocation for the not_in_bf records.\n",
      "You've passed the frac_cap test for the `in_bf_tbl` records\n",
      "105.82%of the fuel from the gf table has been allocated to records not in the bf table\n",
      "98.61% of the fuel from the bf table has been allocated\n",
      "103.37% of the fuel from the gf table has been allocated\n"
     ]
    }
   ],
   "source": [
    "fuel_alloc = allocate_fuel_by_gen_esc(\n",
    "        gen_pm_fuel, gf=gf, bf=bf, drop_interim_cols=False\n",
    "    )"
   ]
  },
  {
   "cell_type": "markdown",
   "id": "ca38ed06-9105-4113-9f88-68bbab238c60",
   "metadata": {},
   "source": [
    "## Explore Issues"
   ]
  },
  {
   "cell_type": "code",
   "execution_count": 8,
   "id": "59f5e458-5921-4f2a-95d5-a1757edf51ee",
   "metadata": {},
   "outputs": [],
   "source": [
    "IDX_PLANT = ['plant_id_eia', 'report_date']\n",
    "\n",
    "plant_test = (\n",
    "    pd.merge(\n",
    "        fuel_alloc.groupby(IDX_PLANT)[['fuel_consumed_mmbtu']].sum(min_count=1),\n",
    "        gf.groupby(IDX_PLANT)[['fuel_consumed_mmbtu']].sum(min_count=1),\n",
    "        right_index=True, left_index=True,\n",
    "        suffixes=('', '_gf_test'),\n",
    "        validate='1:1'\n",
    "    )\n",
    "    .merge(\n",
    "        bf.groupby(IDX_PLANT)[['fuel_consumed_mmbtu']].sum(min_count=1),\n",
    "        right_index=True, left_index=True,\n",
    "        suffixes=('', '_bf_test'),\n",
    "        validate='1:1'\n",
    "    )\n",
    "    .assign(\n",
    "        diffs_gf=lambda x: x.fuel_consumed_mmbtu - x.fuel_consumed_mmbtu_gf_test,\n",
    "        perc_gf=lambda x: x.diffs_gf / x.fuel_consumed_mmbtu_gf_test,\n",
    "        diffs_bf=lambda x: x.fuel_consumed_mmbtu - x.fuel_consumed_mmbtu_bf_test,\n",
    "        perc_bf=lambda x: x.diffs_bf / x.fuel_consumed_mmbtu_bf_test,\n",
    "    )\n",
    ")"
   ]
  },
  {
   "cell_type": "code",
   "execution_count": 9,
   "id": "e317b54a-e6c4-458c-a2e8-424ad6932004",
   "metadata": {},
   "outputs": [
    {
     "data": {
      "text/html": [
       "<div>\n",
       "<style scoped>\n",
       "    .dataframe tbody tr th:only-of-type {\n",
       "        vertical-align: middle;\n",
       "    }\n",
       "\n",
       "    .dataframe tbody tr th {\n",
       "        vertical-align: top;\n",
       "    }\n",
       "\n",
       "    .dataframe thead th {\n",
       "        text-align: right;\n",
       "    }\n",
       "</style>\n",
       "<table border=\"1\" class=\"dataframe\">\n",
       "  <thead>\n",
       "    <tr style=\"text-align: right;\">\n",
       "      <th></th>\n",
       "      <th>count</th>\n",
       "      <th>mean</th>\n",
       "      <th>std</th>\n",
       "      <th>min</th>\n",
       "      <th>25%</th>\n",
       "      <th>50%</th>\n",
       "      <th>75%</th>\n",
       "      <th>max</th>\n",
       "    </tr>\n",
       "  </thead>\n",
       "  <tbody>\n",
       "    <tr>\n",
       "      <th>fuel_consumed_mmbtu</th>\n",
       "      <td>16319.0</td>\n",
       "      <td>2.185462e+07</td>\n",
       "      <td>3.499794e+07</td>\n",
       "      <td>0.000000e+00</td>\n",
       "      <td>2.495417e+06</td>\n",
       "      <td>8835637.966</td>\n",
       "      <td>2.593636e+07</td>\n",
       "      <td>6.750110e+08</td>\n",
       "    </tr>\n",
       "    <tr>\n",
       "      <th>fuel_consumed_mmbtu_gf_test</th>\n",
       "      <td>16333.0</td>\n",
       "      <td>1.994959e+07</td>\n",
       "      <td>2.946707e+07</td>\n",
       "      <td>0.000000e+00</td>\n",
       "      <td>2.479861e+06</td>\n",
       "      <td>8482417.000</td>\n",
       "      <td>2.434841e+07</td>\n",
       "      <td>2.518821e+08</td>\n",
       "    </tr>\n",
       "    <tr>\n",
       "      <th>fuel_consumed_mmbtu_bf_test</th>\n",
       "      <td>15647.0</td>\n",
       "      <td>1.814696e+07</td>\n",
       "      <td>2.926968e+07</td>\n",
       "      <td>1.006000e+00</td>\n",
       "      <td>1.682490e+06</td>\n",
       "      <td>6248828.181</td>\n",
       "      <td>2.096006e+07</td>\n",
       "      <td>2.518837e+08</td>\n",
       "    </tr>\n",
       "    <tr>\n",
       "      <th>diffs_gf</th>\n",
       "      <td>16319.0</td>\n",
       "      <td>1.891710e+06</td>\n",
       "      <td>1.551865e+07</td>\n",
       "      <td>-1.572689e+08</td>\n",
       "      <td>-3.706500e+00</td>\n",
       "      <td>0.000</td>\n",
       "      <td>1.645565e+04</td>\n",
       "      <td>5.062582e+08</td>\n",
       "    </tr>\n",
       "    <tr>\n",
       "      <th>perc_gf</th>\n",
       "      <td>16290.0</td>\n",
       "      <td>1.173282e-01</td>\n",
       "      <td>4.275184e-01</td>\n",
       "      <td>-1.000000e+00</td>\n",
       "      <td>-2.049350e-06</td>\n",
       "      <td>0.000</td>\n",
       "      <td>3.442312e-03</td>\n",
       "      <td>7.834299e+00</td>\n",
       "    </tr>\n",
       "    <tr>\n",
       "      <th>diffs_bf</th>\n",
       "      <td>15634.0</td>\n",
       "      <td>3.700120e+06</td>\n",
       "      <td>1.715534e+07</td>\n",
       "      <td>-1.572687e+08</td>\n",
       "      <td>0.000000e+00</td>\n",
       "      <td>0.000</td>\n",
       "      <td>2.070012e+05</td>\n",
       "      <td>6.395701e+08</td>\n",
       "    </tr>\n",
       "    <tr>\n",
       "      <th>perc_bf</th>\n",
       "      <td>15634.0</td>\n",
       "      <td>1.850918e+03</td>\n",
       "      <td>1.203970e+05</td>\n",
       "      <td>-1.000000e+00</td>\n",
       "      <td>0.000000e+00</td>\n",
       "      <td>0.000</td>\n",
       "      <td>7.299244e-02</td>\n",
       "      <td>1.069511e+07</td>\n",
       "    </tr>\n",
       "  </tbody>\n",
       "</table>\n",
       "</div>"
      ],
      "text/plain": [
       "                               count          mean           std           min           25%          50%           75%           max\n",
       "fuel_consumed_mmbtu          16319.0  2.185462e+07  3.499794e+07  0.000000e+00  2.495417e+06  8835637.966  2.593636e+07  6.750110e+08\n",
       "fuel_consumed_mmbtu_gf_test  16333.0  1.994959e+07  2.946707e+07  0.000000e+00  2.479861e+06  8482417.000  2.434841e+07  2.518821e+08\n",
       "fuel_consumed_mmbtu_bf_test  15647.0  1.814696e+07  2.926968e+07  1.006000e+00  1.682490e+06  6248828.181  2.096006e+07  2.518837e+08\n",
       "diffs_gf                     16319.0  1.891710e+06  1.551865e+07 -1.572689e+08 -3.706500e+00        0.000  1.645565e+04  5.062582e+08\n",
       "perc_gf                      16290.0  1.173282e-01  4.275184e-01 -1.000000e+00 -2.049350e-06        0.000  3.442312e-03  7.834299e+00\n",
       "diffs_bf                     15634.0  3.700120e+06  1.715534e+07 -1.572687e+08  0.000000e+00        0.000  2.070012e+05  6.395701e+08\n",
       "perc_bf                      15634.0  1.850918e+03  1.203970e+05 -1.000000e+00  0.000000e+00        0.000  7.299244e-02  1.069511e+07"
      ]
     },
     "execution_count": 9,
     "metadata": {},
     "output_type": "execute_result"
    }
   ],
   "source": [
    "plant_test.describe().T"
   ]
  },
  {
   "cell_type": "code",
   "execution_count": 10,
   "id": "45a86f2a-4dda-400e-b29a-a65490f92b0e",
   "metadata": {},
   "outputs": [
    {
     "name": "stdout",
     "output_type": "stream",
     "text": [
      "8286 16333\n"
     ]
    }
   ],
   "source": [
    "baddies = plant_test[\n",
    "    (abs(plant_test.perc_gf) != np.inf)\n",
    "    & ~np.isclose(plant_test.perc_gf, 0)\n",
    "    & (plant_test.perc_gf.notnull())\n",
    "    & ~np.isclose(plant_test.perc_bf, 0)\n",
    "]\n",
    "# much too many baddies\n",
    "print(len(baddies), len(plant_test))"
   ]
  },
  {
   "cell_type": "code",
   "execution_count": 11,
   "id": "672f3aa8-b079-4cde-b91f-f32567fc1a89",
   "metadata": {},
   "outputs": [],
   "source": [
    "# baddies.sort_values(by=['perc_gf'])"
   ]
  },
  {
   "cell_type": "code",
   "execution_count": 12,
   "id": "fdd4a54e-7147-40f2-a34d-6e8856f15d47",
   "metadata": {},
   "outputs": [],
   "source": [
    "# ex: GF & BF fuel records that don't match with gen's fuel types\n",
    "# need to implement a solution for non-associated GF & BF records\n",
    "# plant_id_eia = 3946\n",
    "# year = 2011\n",
    "\n",
    "# ex: PM code is missing for one gen\n",
    "# plant_id_eia = 10030\n",
    "# year = 2013"
   ]
  },
  {
   "cell_type": "code",
   "execution_count": 14,
   "id": "535b45b0-c45e-4b97-b62b-c91cd77d22c3",
   "metadata": {},
   "outputs": [
    {
     "data": {
      "text/html": [
       "<div>\n",
       "<style scoped>\n",
       "    .dataframe tbody tr th:only-of-type {\n",
       "        vertical-align: middle;\n",
       "    }\n",
       "\n",
       "    .dataframe tbody tr th {\n",
       "        vertical-align: top;\n",
       "    }\n",
       "\n",
       "    .dataframe thead th {\n",
       "        text-align: right;\n",
       "    }\n",
       "</style>\n",
       "<table border=\"1\" class=\"dataframe\">\n",
       "  <thead>\n",
       "    <tr style=\"text-align: right;\">\n",
       "      <th></th>\n",
       "      <th></th>\n",
       "      <th></th>\n",
       "      <th></th>\n",
       "      <th></th>\n",
       "      <th></th>\n",
       "      <th>fuel_consumed_mmbtu_gf_tbl</th>\n",
       "      <th>fuel_consumed_mmbtu_bf_tbl</th>\n",
       "      <th>fuel_consumed_mmbtu_gf_tbl_fuel</th>\n",
       "      <th>fuel_consumed_mmbtu</th>\n",
       "      <th>fuel_consumed_mmbtu_not_in_bf</th>\n",
       "      <th>fuel_consumed_mmbtu_gf_tbl_test</th>\n",
       "    </tr>\n",
       "    <tr>\n",
       "      <th>report_date</th>\n",
       "      <th>plant_id_eia</th>\n",
       "      <th>energy_source_code</th>\n",
       "      <th>prime_mover_code</th>\n",
       "      <th>generator_id</th>\n",
       "      <th>unit_id_pudl</th>\n",
       "      <th></th>\n",
       "      <th></th>\n",
       "      <th></th>\n",
       "      <th></th>\n",
       "      <th></th>\n",
       "      <th></th>\n",
       "    </tr>\n",
       "  </thead>\n",
       "  <tbody>\n",
       "    <tr>\n",
       "      <th rowspan=\"4\" valign=\"top\">2013-01-01</th>\n",
       "      <th rowspan=\"4\" valign=\"top\">10030</th>\n",
       "      <th>DFO</th>\n",
       "      <th>GT</th>\n",
       "      <th>KD-2</th>\n",
       "      <th>NaN</th>\n",
       "      <td>2696.0</td>\n",
       "      <td>NaN</td>\n",
       "      <td>2696.0</td>\n",
       "      <td>2696.000000</td>\n",
       "      <td>2696.0</td>\n",
       "      <td>2696.0</td>\n",
       "    </tr>\n",
       "    <tr>\n",
       "      <th rowspan=\"3\" valign=\"top\">NG</th>\n",
       "      <th>NaN</th>\n",
       "      <th>COG1</th>\n",
       "      <th>1</th>\n",
       "      <td>NaN</td>\n",
       "      <td>787179.5</td>\n",
       "      <td>906260.0</td>\n",
       "      <td>208371.044118</td>\n",
       "      <td>NaN</td>\n",
       "      <td>NaN</td>\n",
       "    </tr>\n",
       "    <tr>\n",
       "      <th>CT</th>\n",
       "      <th>KD-1</th>\n",
       "      <th>1</th>\n",
       "      <td>731028.0</td>\n",
       "      <td>787179.5</td>\n",
       "      <td>906260.0</td>\n",
       "      <td>578808.455882</td>\n",
       "      <td>NaN</td>\n",
       "      <td>NaN</td>\n",
       "    </tr>\n",
       "    <tr>\n",
       "      <th>GT</th>\n",
       "      <th>KD-2</th>\n",
       "      <th>NaN</th>\n",
       "      <td>119077.0</td>\n",
       "      <td>NaN</td>\n",
       "      <td>906260.0</td>\n",
       "      <td>906260.000000</td>\n",
       "      <td>906260.0</td>\n",
       "      <td>906260.0</td>\n",
       "    </tr>\n",
       "  </tbody>\n",
       "</table>\n",
       "</div>"
      ],
      "text/plain": [
       "                                                                                        fuel_consumed_mmbtu_gf_tbl  fuel_consumed_mmbtu_bf_tbl  fuel_consumed_mmbtu_gf_tbl_fuel  fuel_consumed_mmbtu  fuel_consumed_mmbtu_not_in_bf  fuel_consumed_mmbtu_gf_tbl_test\n",
       "report_date plant_id_eia energy_source_code prime_mover_code generator_id unit_id_pudl                                                                                                                                                                              \n",
       "2013-01-01  10030        DFO                GT               KD-2         NaN                               2696.0                         NaN                           2696.0          2696.000000                         2696.0                           2696.0\n",
       "                         NG                 NaN              COG1         1                                    NaN                    787179.5                         906260.0        208371.044118                            NaN                              NaN\n",
       "                                            CT               KD-1         1                               731028.0                    787179.5                         906260.0        578808.455882                            NaN                              NaN\n",
       "                                            GT               KD-2         NaN                             119077.0                         NaN                         906260.0        906260.000000                       906260.0                         906260.0"
      ]
     },
     "execution_count": 14,
     "metadata": {},
     "output_type": "execute_result"
    }
   ],
   "source": [
    "plant_id_eia = 10030\n",
    "year = 2013\n",
    "\n",
    "fuel_alloc[\n",
    "    (fuel_alloc.plant_id_eia == plant_id_eia)\n",
    "    & (fuel_alloc.report_date.dt.year == year)\n",
    "].set_index(IDX_PM_ESC + ['generator_id', 'unit_id_pudl']).filter(like='fuel_con')"
   ]
  },
  {
   "cell_type": "code",
   "execution_count": 15,
   "id": "1eb70a4b-8039-4c02-b12e-df965f9a9929",
   "metadata": {},
   "outputs": [
    {
     "data": {
      "image/png": "[encoded data removed]",
      "text/plain": [
       "<Figure size 1080x720 with 1 Axes>"
      ]
     },
     "metadata": {},
     "output_type": "display_data"
    }
   ],
   "source": [
    "\n",
    "plt.hist(\n",
    "    plant_test[\n",
    "        (abs(plant_test.perc_gf) != np.inf)\n",
    "        #& ~np.isclose(plant_test.perc_gf, 0)\n",
    "    ].perc_gf,\n",
    "    bins=100,\n",
    "    range=(-5,10),\n",
    "    alpha=.75,\n",
    "    color='purple',\n",
    "    label='Generation Fuel % off'\n",
    "    \n",
    ")\n",
    "\n",
    "plt.hist(\n",
    "    plant_test[\n",
    "        (abs(plant_test.perc_bf) != np.inf)\n",
    "       # & ~np.isclose(plant_test.perc_bf, 0)\n",
    "    ].perc_bf,\n",
    "    bins=100,\n",
    "    range=(-5,10),\n",
    "    alpha=.5,\n",
    "    color='deeppink',\n",
    "    label='Boiler Fuel % off'\n",
    ")\n",
    "\n",
    "plt.legend()\n",
    "plt.title(\"\")\n",
    "plt.show()"
   ]
  },
  {
   "cell_type": "markdown",
   "id": "c47703d9-b933-466a-9e6d-a798fa11f665",
   "metadata": {},
   "source": [
    "# Examples! (future unit tests)"
   ]
  },
  {
   "cell_type": "code",
   "execution_count": 16,
   "id": "mature-waters",
   "metadata": {
    "tags": []
   },
   "outputs": [],
   "source": [
    "#IDX_PM_FUEL= ['prime_mover_code', 'fuel_type'] # plus 'plant_id_eia', 'report_date' of course\n",
    "# inputs\n",
    "gens_ex = pd.DataFrame({\n",
    "    'generator_id': ['A', 'B', 'C', 'D'],\n",
    "    'unit_id_pudl': [1, 1, 2, 3],\n",
    "    'prime_mover_code': ['GT', 'ST', 'GT', 'GT'],\n",
    "    'energy_source_code_1': ['NG', 'NG', 'NG', 'NG'],\n",
    "    'energy_source_code_2': ['DFO', np.nan, 'DFO', np.nan],\n",
    "    'capacity_mw': [100, 50, 25, 10]\n",
    "})\n",
    "bf_ex = pd.DataFrame({\n",
    "    'boiler_id': ['X1', 'Y1'],\n",
    "    'fuel_type': ['NG', 'DFO'],\n",
    "    'unit_id_pudl': [1, 1],\n",
    "    'fuel_consumed_mmbtu': [8, 2]\n",
    "})\n",
    "gf_ex = pd.DataFrame({\n",
    "    'prime_mover_code': \n",
    "        ['GT', 'ST', 'GT'],\n",
    "    'fuel_type': \n",
    "        ['NG', 'NG', 'DFO'],\n",
    "    'fuel_consumed_mmbtu': \n",
    "        [7, 2, 3]\n",
    "})\n",
    "\n",
    "## Interim Output\n",
    "# stack the gens table with the different fuel types\n",
    "gens_stacked_ex = pd.DataFrame({\n",
    "    'generator_id': ['A', 'A', 'B', 'C', 'C', 'D'],\n",
    "    'unit_id_pudl': [1, 1, 1, 2, 2, 3],\n",
    "    'prime_mover_code': ['GT', 'GT', 'ST', 'GT', 'GT', 'GT'],\n",
    "    'fuel_type': ['NG', 'DFO', 'NG', 'NG', 'DFO', 'NG']\n",
    "})\n",
    "# associate the generators w/ the gf table (mergeon IDX_PM_F)\n",
    "# and calculate values (sums/groupbys)\n",
    "gen_assoc_ex = pd.DataFrame({\n",
    "    'generator_id': ['A', 'A', 'B', 'C', 'C', 'D'],\n",
    "    'unit_id_pudl': [1, 1, 1, 2, 2, 3,],\n",
    "    'prime_mover_code': \n",
    "        ['GT', 'GT',  'ST', 'GT', 'GT', 'GT'],\n",
    "    'fuel_type': \n",
    "        ['NG', 'DFO', 'NG', 'NG', 'DFO', 'NG'],\n",
    "    'capacity_mw': \n",
    "        [100,  100,   50,   25,   25,    10],\n",
    "    # what we are trying to allocate\n",
    "    # merge btwn gen_assoc & gf, by PM_F\n",
    "    # Fuel totals on a per-pm-fuel basis\n",
    "    'fuel_consumed_mmbtu_gf_tbl': \n",
    "        [7, 3, 2, 7, 3, 7],\n",
    "\n",
    "    ########\n",
    "    # sums/groupbys that we need before doing any of the assign-type calcs\n",
    "    'capacity_mw_pm_fuel': \n",
    "        [135,  125,   50,   135,  125,   10],\n",
    "    # (summed by PM)\n",
    "    'fuel_consumed_mmbtu_gf_tbl_pm':\n",
    "        [10, 10, 2, 10, 10, 10],\n",
    "    # from gf table, summed by fuel\n",
    "    'fuel_consumed_mmbtu_gf_tbl_fuel': \n",
    "        [9, 3, 9, 9, 3, 9],\n",
    "    # reported by unit and fuel type in BF\n",
    "    # merged into association table, broadcasting across prime mover\n",
    "    'fuel_consumed_mmbtu_bf_tbl':\n",
    "        [8, 2, 8, np.nan, np.nan, np.nan],\n",
    "    'in_bf_tbl':\n",
    "        [True, True, True, False, False, False],\n",
    "    # sum of cap in [pm, fuel + exist_in_bf] group\n",
    "    'capacity_mw_pm_fuel_in_bf_tbl_group':\n",
    "        [100, 100, 50, 35, 35, 35],\n",
    "})"
   ]
  },
  {
   "cell_type": "code",
   "execution_count": 17,
   "id": "molecular-enforcement",
   "metadata": {
    "tags": []
   },
   "outputs": [],
   "source": [
    "#  gen_assoc tabl but only the records that don't exist in bf\n",
    "# plus the calculated fields we need to generate the final fuel\n",
    "not_in_bf_tbl = pd.DataFrame({\n",
    "    ### columns from gen_assoc\n",
    "    'generator_id': ['C', 'C', 'D'],\n",
    "    'unit_id_pudl': [2, 2, 3,],\n",
    "    'prime_mover_code': ['GT', 'GT', 'GT'],\n",
    "    'fuel_type': ['NG', 'DFO', 'NG'],\n",
    "    'capacity_mw': [25, 25, 10],\n",
    "    # what we are trying to allocate\n",
    "    # merge btwn gen_assoc & gf, by PM_F\n",
    "    # Fuel totals on a per-pm-fuel basis\n",
    "    'fuel_consumed_mmbtu_gf': \n",
    "        [7, 3, 7],\n",
    "    \n",
    "    ########\n",
    "    # sums/groupbys that we need before doing any of the assign-type calcs\n",
    "    # from bf table, summed by fuel\n",
    "    'fuel_consumed_mmbtu_bf_fuel':\n",
    "        [8, 2, 8],\n",
    "    # from gf table, summed by fuel\n",
    "    'fuel_consumed_mmbtu_gf_fuel': \n",
    "        [9, 3, 9],\n",
    "    # sum of cap in [pm, fuel + exist_in_bf] group\n",
    "    # total capacity in each pm fuel group\n",
    "    'capacity_mw_pm_fuel_in_bf_tbl_group':\n",
    "        [35, 25, 35],\n",
    "    \n",
    "    # what fuel should be assigned to these \"not in bf\" \n",
    "    # records based on fuel groupings?\n",
    "    # fuel that should be allocated to the not-reporting-to-bf records\n",
    "    # (the fuel in the gf tbl's fuel group - the fuel in the bf tbl's fuel group)\n",
    "    # (fuel_consumed_mmbtu_gf_fuel - fuel_consumed_mmbtu_bf_fuel) / fuel_consumed_mmbtu_gf\n",
    "    'fuel_consumed_mmbtu_not_in_bf': \n",
    "        [(9-8), (3-2), (9-8)],\n",
    "    \n",
    "    ### Get the frac_cap (used for allocating within gens that don't report to bf)\n",
    "    # Portion of capacity for each PM_FUEL group\n",
    "    # capacity_mw / capacity_mw_pm_fuel_in_bf_tbl_group\n",
    "    'frac_cap':\n",
    "        [25/35, 25/25, 10/35],\n",
    "    \n",
    "    # frac * fuel_consumed_mmbtu_gf\n",
    "    'fuel_consumed_mmbtu':\n",
    "        [(9-8) * (25/35), (3-2) * (35/35), (9-8) * (10/35)],\n",
    "})\n",
    "\n",
    "# aggregate the generator allocation to the units\n",
    "not_in_bf_unit = pd.DataFrame({\n",
    "    'unit_id_pudl': \n",
    "        [2, 3],\n",
    "    'fuel_consumed_mmbtu':\n",
    "        [1.71, 0.028]\n",
    "})\n",
    "\n",
    "# aggregate the bf table to the unit leve\n",
    "bf_unit = pd.DataFrame({\n",
    "    'unit_id_pudl': [1],\n",
    "    'fuel_consumed_mmbtu': [10]\n",
    "})\n",
    "\n",
    "all_unit = pd.DataFrame({\n",
    "    'unit_id_pudl': \n",
    "        [1, 2, 3],\n",
    "    'fuel_consumed_mmbtu':\n",
    "        [10, 1.714, 0.286]\n",
    "})"
   ]
  },
  {
   "cell_type": "code",
   "execution_count": 18,
   "id": "guilty-explorer",
   "metadata": {},
   "outputs": [],
   "source": [
    "assert(all_unit.fuel_consumed_mmbtu.sum() == gf_ex.fuel_consumed_mmbtu.sum())"
   ]
  },
  {
   "cell_type": "markdown",
   "id": "indian-poetry",
   "metadata": {},
   "source": [
    "### Allocating the boiler fuel data to generators\n",
    "We don't need to do this if our end goal is to aggregate to the unit level... but it may be helpful for other contexts so I'm leaving this here for now. This exploration is not complete, but it was an attempt to allocate the boiler-fuel data to the generator level."
   ]
  },
  {
   "cell_type": "code",
   "execution_count": 19,
   "id": "opening-graduation",
   "metadata": {},
   "outputs": [],
   "source": [
    "# beginning of unit\n",
    "frac_df_in_bf = pd.DataFrame({\n",
    "    'generator_id': ['A', 'A', 'B'],\n",
    "    'unit_id_pudl': [1, 1, 1],\n",
    "    'prime_mover_code': ['GT', 'GT', 'ST'],\n",
    "    'fuel_type': ['NG', 'DFO', 'NG'],\n",
    "    'capacity_mw': \n",
    "        [100, 100, 50],\n",
    "    # reported by unit and fuel type in BF\n",
    "    # merged into association table, broadcasting across prime mover\n",
    "    'fuel_consumed_mmbtu_bf':\n",
    "        [8, 2, 8],\n",
    "\n",
    "    ########\n",
    "    # we are going to equally allocate fuel burned within a unit\n",
    "    # to the various generators (regardless of their prime mover)\n",
    "    # based on capacity\n",
    "    # sums/groupbys that we need before doing any of the assign-type calcs\n",
    "    'capacity_mw_fuel_in_bf_tbl': \n",
    "        [150, 100, 150],\n",
    "    # capacity_mw /capacity_mw_fuel_in_bf_tbl\n",
    "    'frac_cap':\n",
    "        [100/150, 100/100, 50/150],\n",
    "    # fuel_consumed_mmbtu_bf * frac_cap\n",
    "    'fuel_consumed_mmbtu':\n",
    "        [8*(100/150), 2*(100/100), 8*(50/150)],\n",
    "})\n",
    "\n",
    "assert(frac_df_in_bf.fuel_consumed_mmbtu.sum() == bf_ex.fuel_consumed_mmbtu.sum())"
   ]
  },
  {
   "cell_type": "markdown",
   "id": "f41904f3-b312-4bf1-8def-c9944eb4d30d",
   "metadata": {},
   "source": [
    "# Explore Problem"
   ]
  },
  {
   "cell_type": "code",
   "execution_count": 20,
   "id": "55caffa4-9202-4c5b-a178-2dfa61158b52",
   "metadata": {},
   "outputs": [
    {
     "name": "stdout",
     "output_type": "stream",
     "text": [
      "33.99% fuel consumption missing from gen table\n"
     ]
    }
   ],
   "source": [
    "fuel_diff_val = bf.fuel_consumed_mmbtu.sum() / gf.fuel_consumed_mmbtu.sum()\n",
    "logger.info(f\"{fuel_diff_val:.02%} fuel consumption missing from gen table\")"
   ]
  },
  {
   "cell_type": "code",
   "execution_count": 21,
   "id": "13bb4468-1287-4345-8225-40250230a1e1",
   "metadata": {},
   "outputs": [
    {
     "name": "stdout",
     "output_type": "stream",
     "text": [
      "4529\n",
      "126832\n",
      "38500\n",
      "88.21% of records w/ gen v gen_fuel diff that have >1 prime mover\n"
     ]
    }
   ],
   "source": [
    "idx_cols_plant = ['plant_id_eia','report_date']\n",
    "fuel_diff = (\n",
    "    pd.merge(\n",
    "        bf.groupby(by=idx_cols_plant)[['fuel_consumed_mmbtu']].sum(),\n",
    "        gf.groupby(by=idx_cols_plant)[['fuel_consumed_mmbtu']].sum(),\n",
    "        right_index=True,\n",
    "        left_index=True,\n",
    "        suffixes=('_bf','_gf'),\n",
    "        how='outer'\n",
    "    )\n",
    "    .assign(\n",
    "        fuel_diff_num=lambda x: x.fuel_consumed_mmbtu_gf.fillna(0) - x.fuel_consumed_mmbtu_bf.fillna(0),\n",
    "        fuel_diff_rate=lambda x: x.fuel_consumed_mmbtu_bf.fillna(0)/ x.fuel_consumed_mmbtu_gf.fillna(0)\n",
    "    )\n",
    "    .merge(\n",
    "        gens.groupby(by=idx_cols_plant)\n",
    "        [['generator_id','prime_mover_code']]\n",
    "        .nunique()\n",
    "        .add_suffix('_count'),\n",
    "        right_index=True,\n",
    "        left_index=True,\n",
    "        how='outer'\n",
    "    )\n",
    "    .reset_index()\n",
    ")\n",
    "\n",
    "diff_mask = (fuel_diff.fuel_diff_num.notnull()\n",
    "    & (fuel_diff.fuel_diff_num != 0)\n",
    "    & (~np.isclose(abs(fuel_diff.fuel_diff_rate), 1))\n",
    "    & (~np.isclose(abs(fuel_diff.fuel_diff_rate), 0)))\n",
    "\n",
    "logger.info(len(fuel_diff[fuel_diff.fuel_diff_num < 0]))\n",
    "logger.info(len(fuel_diff[fuel_diff.fuel_diff_num >= 0]))\n",
    "logger.info(len(fuel_diff[fuel_diff.fuel_diff_num.isnull()]))\n",
    "\n",
    "diff_w_many_pms = fuel_diff[(fuel_diff.prime_mover_code_count > 1) & diff_mask]\n",
    "diff_w_one_pm = fuel_diff[(fuel_diff.prime_mover_code_count == 1) & diff_mask]\n",
    "logger.info(\n",
    "    f\"{len(diff_w_many_pms)/len(fuel_diff[diff_mask]):.02%} of records w/ gen v gen_fuel diff that have >1 prime mover\")\n"
   ]
  },
  {
   "cell_type": "code",
   "execution_count": 22,
   "id": "6d492c18-d0e9-4553-9772-6937a9bd262d",
   "metadata": {},
   "outputs": [
    {
     "name": "stdout",
     "output_type": "stream",
     "text": [
      "0.13% of records that have more net gen in net gen table\n"
     ]
    }
   ],
   "source": [
    "logger.info(\n",
    "    f\"{len(fuel_diff[fuel_diff.fuel_diff_rate > 1.00001])/len(fuel_diff):.02%} of records that have more net gen in net gen table\"\n",
    ")"
   ]
  },
  {
   "cell_type": "code",
   "execution_count": 23,
   "id": "e78b1a52-f41f-4b47-9939-e60eacf70835",
   "metadata": {},
   "outputs": [
    {
     "data": {
      "image/png": "[encoded data removed]",
      "text/plain": [
       "<Figure size 1080x720 with 1 Axes>"
      ]
     },
     "metadata": {},
     "output_type": "display_data"
    }
   ],
   "source": [
    "plt.plot((fuel_diff.groupby(by='report_date',dropna=False).sum().fuel_diff_num\n",
    "          /fuel_diff.groupby(by='report_date',dropna=False).sum().fuel_consumed_mmbtu_gf),\n",
    "         label='all generators', linewidth=6, color='turquoise'\n",
    "        )\n",
    "plt.plot((fuel_diff[(fuel_diff.fuel_consumed_mmbtu_bf.notnull())]\n",
    "          .groupby(by='report_date',dropna=False).sum().fuel_diff_num\n",
    "          /fuel_diff.groupby(by='report_date',dropna=False).sum().fuel_consumed_mmbtu_gf\n",
    "         ),\n",
    "         label='only co-reported*', linewidth=6, color='deeppink'\n",
    "        )\n",
    "\n",
    "plt.legend()\n",
    "plt.ylabel(\"Normalized Fuel Consumption Difference\")\n",
    "plt.xlabel(\"*this does not include the plants that don't report to bf at all\")\n",
    "plt.title(\"Fuel Consumed from bf v gen fuel table\", size=20)\n",
    "plt.show()"
   ]
  },
  {
   "cell_type": "code",
   "execution_count": 24,
   "id": "e7a4e44b-4d42-48b7-be54-d5df259229ec",
   "metadata": {},
   "outputs": [
    {
     "data": {
      "image/png": "[encoded data removed]",
      "text/plain": [
       "<Figure size 1080x720 with 1 Axes>"
      ]
     },
     "metadata": {},
     "output_type": "display_data"
    }
   ],
   "source": [
    "for year in range(2009,2015):\n",
    "    df = fuel_diff[diff_mask & (fuel_diff.report_date.dt.year == year)]\n",
    "    plt.hist(\n",
    "        df.fuel_diff_rate,\n",
    "        bins=150,\n",
    "        range=(-.25,1.5),\n",
    "        label=year,\n",
    "        weights=abs(df.fuel_consumed_mmbtu_gf)\n",
    "    )\n",
    "plt.title(\"Pre-2015 ratio of fuel consumption from bf table vs gen fuel table\", size=16)\n",
    "plt.legend()\n",
    "plt.xlabel(\"\"\"ratio\n",
    "note: All records that had nearly identical fuel consumption has been removed\"\"\")\n",
    "plt.show()"
   ]
  },
  {
   "cell_type": "code",
   "execution_count": 25,
   "id": "f76bf987-ed34-4a86-ac46-645872d87c2d",
   "metadata": {},
   "outputs": [
    {
     "data": {
      "image/png": "[encoded data removed]",
      "text/plain": [
       "<Figure size 1080x720 with 1 Axes>"
      ]
     },
     "metadata": {},
     "output_type": "display_data"
    }
   ],
   "source": [
    "for year in range(2015,2019):\n",
    "    df = fuel_diff[diff_mask & (fuel_diff.report_date.dt.year == year)]\n",
    "    plt.hist(\n",
    "        df.fuel_diff_rate,\n",
    "        bins=150,\n",
    "        range=(-.25,1.5),\n",
    "        label=year,\n",
    "        weights=abs(df.fuel_consumed_mmbtu_gf)\n",
    "    )\n",
    "plt.title(\"Post-2014 ratio of fuel consumption from bf table vs gen fuel table\", size=16)\n",
    "plt.legend()\n",
    "plt.xlabel(\"\"\"ratio\n",
    "note: All records that had nearly identical fuel consumption has been removed\"\"\")\n",
    "plt.show()"
   ]
  }
 ],
 "metadata": {
  "kernelspec": {
   "display_name": "Python 3 (ipykernel)",
   "language": "python",
   "name": "python3"
  },
  "language_info": {
   "codemirror_mode": {
    "name": "ipython",
    "version": 3
   },
   "file_extension": ".py",
   "mimetype": "text/x-python",
   "name": "python",
   "nbconvert_exporter": "python",
   "pygments_lexer": "ipython3",
   "version": "3.10.4"
  }
 },
 "nbformat": 4,
 "nbformat_minor": 5
}
