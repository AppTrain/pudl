{
 "cells": [
  {
   "cell_type": "code",
   "execution_count": 1,
   "id": "circular-heaven",
   "metadata": {},
   "outputs": [],
   "source": [
    "%load_ext autoreload\n",
    "%autoreload 2"
   ]
  },
  {
   "cell_type": "code",
   "execution_count": 2,
   "id": "invisible-memorabilia",
   "metadata": {},
   "outputs": [],
   "source": [
    "import pandas as pd\n",
    "import numpy as np\n",
    "import sqlalchemy as sa\n",
    "import logging\n",
    "import sys\n",
    "import matplotlib as mpl\n",
    "import matplotlib.pyplot as plt\n",
    "\n",
    "\n",
    "import pudl\n",
    "\n",
    "from pudl.analysis.allocate_net_gen import *\n",
    "\n",
    "mpl.style.use('dark_background')\n",
    "pd.options.display.max_columns = None\n",
    "plt.rcParams[\"figure.figsize\"] = (15,10)"
   ]
  },
  {
   "cell_type": "code",
   "execution_count": 3,
   "id": "6aa1cc79-61db-4cf9-b951-f8545ca1c0c6",
   "metadata": {},
   "outputs": [],
   "source": [
    "logger = logging.getLogger()\n",
    "logger.setLevel(logging.INFO)\n",
    "handler = logging.StreamHandler(stream=sys.stdout)\n",
    "formatter = logging.Formatter('%(message)s')\n",
    "handler.setFormatter(formatter)\n",
    "logger.handlers = [handler]"
   ]
  },
  {
   "cell_type": "markdown",
   "id": "859a972a-2cca-4c25-88d8-4b68efd2f9c2",
   "metadata": {},
   "source": [
    "# Implementation Zone for Allocating Fuel"
   ]
  },
  {
   "cell_type": "code",
   "execution_count": 4,
   "id": "subtle-tribe",
   "metadata": {},
   "outputs": [],
   "source": [
    "pudl_settings = pudl.workspace.setup.get_defaults()\n",
    "pudl_engine = sa.create_engine(pudl_settings['pudl_db'])\n",
    "# the fill_net_gen arg is employing a beta feature!\n",
    "# It will result in a much higher coverage of net generation\n",
    "# and fuel consuption, but it has known issues with multi-fuel plants.\n",
    "pudl_out = pudl.output.pudltabl.PudlTabl(\n",
    "    pudl_engine,\n",
    "    freq='AS',\n",
    "    fill_fuel_cost=True,\n",
    "    roll_fuel_cost=True,\n",
    "    fill_net_gen=False,\n",
    ")"
   ]
  },
  {
   "cell_type": "code",
   "execution_count": 5,
   "id": "62f8f962-735d-434e-8901-4204bae03dfd",
   "metadata": {},
   "outputs": [
    {
     "name": "stdout",
     "output_type": "stream",
     "text": [
      "Removing 3621 generators that retired mid-year out of 403832\n"
     ]
    },
    {
     "name": "stderr",
     "output_type": "stream",
     "text": [
      "/Users/christinagosnell/miniconda3/envs/pudl-dev/lib/python3.9/site-packages/pandas/core/missing.py:56: FutureWarning: elementwise comparison failed; returning scalar instead, but in the future will perform elementwise comparison\n",
      "  mask |= arr == x\n"
     ]
    },
    {
     "name": "stdout",
     "output_type": "stream",
     "text": [
      "No records found with fuel-only records. This is expected.\n",
      "Ratio calc types: \n",
      "   All gens w/in generation table:  65275#, 1.1e+07 MW\n",
      "   Some gens w/in generation table: 2395#, 1.7e+05 MW\n",
      "   No gens w/in generation table:   359948#, 1.7e+07 MW\n",
      "   GF table records have no PM:     0#\n"
     ]
    },
    {
     "name": "stderr",
     "output_type": "stream",
     "text": [
      "/Users/christinagosnell/code/pudl/src/pudl/analysis/allocate_net_gen.py:843: UserWarning: Ooopsies. You got 100 records where the 'frac' column isn't adding up to 1 for each 'IDX_PM_FUEL' group. Check 'make_allocation_frac()'\n",
      "  warnings.warn(\n"
     ]
    },
    {
     "name": "stdout",
     "output_type": "stream",
     "text": [
      "1.958% of records have are partially off from their 'IDX_PM_FUEL' group\n",
      "new v fuel table net gen diff:      98.7%\n"
     ]
    },
    {
     "name": "stderr",
     "output_type": "stream",
     "text": [
      "/Users/christinagosnell/miniconda3/envs/pudl-dev/lib/python3.9/site-packages/pandas/core/missing.py:56: FutureWarning: elementwise comparison failed; returning scalar instead, but in the future will perform elementwise comparison\n",
      "  mask |= arr == x\n"
     ]
    },
    {
     "name": "stdout",
     "output_type": "stream",
     "text": [
      "9.11% of generator records are more that 5% off from the net generation table\n"
     ]
    }
   ],
   "source": [
    "# make sure the net generation allocation still functions w/ the fuel changes\n",
    "gen_alloc = pudl_out.gen_allocated_eia923()"
   ]
  },
  {
   "cell_type": "markdown",
   "id": "3b4ba7b2-b890-4c11-a439-cf8f3eed11b5",
   "metadata": {},
   "source": [
    "## Common Inputs Between Net Gen and Fuel Allocation"
   ]
  },
  {
   "cell_type": "code",
   "execution_count": 6,
   "id": "every-customs",
   "metadata": {},
   "outputs": [
    {
     "name": "stdout",
     "output_type": "stream",
     "text": [
      "128817\n",
      "128013\n",
      "11.8% of BF annual units have null data.\n",
      "Removed 14.0% of BF records due to nulls within units. \n",
      "Removed 5.6% of BF fuel due to nulls within units.\n",
      "80474\n",
      "78709\n"
     ]
    }
   ],
   "source": [
    "IDX_U = ['plant_id_eia', 'unit_id_pudl', 'report_date']\n",
    "\n",
    "def remove_nulled_units_from_bf(bf_all):\n",
    "    bf_null = bf_all.loc[\n",
    "        bf_all.fuel_consumed_mmbtu.isnull()\n",
    "        #| (bf_all.fuel_consumed_mmbtu == 0)\n",
    "    ]\n",
    "    nulllss = len(bf_null[IDX_U].drop_duplicates())/len(bf_all[IDX_U].drop_duplicates())\n",
    "    logger.info(f\"{nulllss:.1%} of BF annual units have null data.\")\n",
    "\n",
    "    bf_new = bf_all.set_index(IDX_U).drop(bf_null.set_index(IDX_U).index).reset_index()\n",
    "    logger.info(\n",
    "        f\"Removed {1- len(bf_new)/len(bf_all):.1%} of BF records due to nulls within units. \\n\"\n",
    "        f\"Removed {1- bf_new.fuel_consumed_mmbtu.sum()/bf_all.fuel_consumed_mmbtu.sum():.1%} of BF fuel due to nulls within units.\"\n",
    "    )\n",
    "    return bf_new\n",
    "\n",
    "def remove_off_msw_fuels(df, idx):\n",
    "    logger.info(len(df))\n",
    "    df = df.replace({'fuel_type': {\"MSN\": \"MSW\",\"MSB\": \"MSW\"}})\n",
    "    df = df.groupby(idx, as_index=False, dropna=False).sum(min_count=1)\n",
    "    logger.info(len(df))\n",
    "    return df\n",
    "\n",
    "# extract all of the tables from pudl_out early in the process and select\n",
    "# only the columns we need. this is for speed and clarity.\n",
    "gf = pudl_out.gf_eia923().loc[\n",
    "    :, IDX_PM_FUEL + ['net_generation_mwh', 'fuel_consumed_mmbtu']]\n",
    "gf = remove_off_msw_fuels(gf, IDX_PM_FUEL)\n",
    "\n",
    "gen = pudl_out.gen_original_eia923().loc[\n",
    "    :, IDX_GENS + ['net_generation_mwh']]\n",
    "gens = pudl_out.gens_eia860().loc[\n",
    "    :, IDX_GENS + ['unit_id_pudl', 'prime_mover_code', 'capacity_mw', 'fuel_type_count',\n",
    "                   'operational_status', 'retirement_date']\n",
    "    + list(pudl_out.gens_eia860().filter(like='energy_source_code'))]\n",
    "\n",
    "bf_all = (\n",
    "    pudl_out.bf_eia923()\n",
    "    .rename(columns={'fuel_type_code': 'fuel_type'})\n",
    "    .loc[:, IDX_FUEL + ['boiler_id', 'unit_id_pudl', 'fuel_consumed_mmbtu']]\n",
    ")\n",
    "bf = remove_nulled_units_from_bf(bf_all)\n",
    "bf = remove_off_msw_fuels(bf, IDX_FUEL + ['boiler_id', 'unit_id_pudl'])"
   ]
  },
  {
   "cell_type": "code",
   "execution_count": 7,
   "id": "a4755087-c742-40ec-9438-35f28b8269ee",
   "metadata": {},
   "outputs": [
    {
     "name": "stdout",
     "output_type": "stream",
     "text": [
      "Removing 3621 generators that retired mid-year out of 403832\n"
     ]
    },
    {
     "name": "stderr",
     "output_type": "stream",
     "text": [
      "/Users/christinagosnell/miniconda3/envs/pudl-dev/lib/python3.9/site-packages/pandas/core/missing.py:56: FutureWarning: elementwise comparison failed; returning scalar instead, but in the future will perform elementwise comparison\n",
      "  mask |= arr == x\n"
     ]
    },
    {
     "name": "stdout",
     "output_type": "stream",
     "text": [
      "No records found with fuel-only records. This is expected.\n"
     ]
    }
   ],
   "source": [
    "gen_assoc = associate_generator_tables(gf=gf, gen=gen, gens=gens, bf=bf)\n",
    "gen_pm_fuel = prep_alloction_fraction(gen_assoc)"
   ]
  },
  {
   "cell_type": "markdown",
   "id": "1071e6fc-4e6b-4270-b227-aefd70462cd7",
   "metadata": {},
   "source": [
    "## Fuel Allocation"
   ]
  },
  {
   "cell_type": "code",
   "execution_count": 8,
   "id": "9715e6d6-7e9c-4a9c-911d-20a87259ff41",
   "metadata": {
    "tags": []
   },
   "outputs": [
    {
     "name": "stdout",
     "output_type": "stream",
     "text": [
      "Yay you passed the test for the `frac_cap` column for the not_in_bf records..\n",
      "Wahoo! You passed the test for fuel allocation for the not_in_bf records.\n",
      "You've passed the frac_cap test for the `in_bf_tbl` records\n",
      "119.52%of the fuel from the gf table has been allocated to records not in the bf table\n",
      "98.14% of the fuel from the bf table has been allocated\n",
      "108.39% of the fuel from the gf table has been allocated\n"
     ]
    }
   ],
   "source": [
    "not_in_bf_tbl = gen_pm_fuel.loc[~gen_pm_fuel.in_bf_tbl]\n",
    "# we still need to develop a process for the gens that do show up in the BF table \n",
    "in_bf_tbl = gen_pm_fuel.loc[gen_pm_fuel.in_bf_tbl]\n",
    "\n",
    "not_in_bf_tbl = allocate_fuel_for_non_bf_gens(not_in_bf_tbl, debug=False)\n",
    "in_bf_tbl = allocate_fuel_for_in_bf_gens(in_bf_tbl, debug=False)\n",
    "\n",
    "\n",
    "not_in_bf_fuel_sum = gf.fuel_consumed_mmbtu.sum() - bf.fuel_consumed_mmbtu.sum()\n",
    "logger.info(\n",
    "    f\"{not_in_bf_tbl.fuel_consumed_mmbtu.sum()/ not_in_bf_fuel_sum:.02%}\"\n",
    "    \"of the fuel from the gf table has been allocated to records not in the bf table\"\n",
    ")\n",
    "logger.info(\n",
    "    f\"{in_bf_tbl.fuel_consumed_mmbtu.sum() / bf.fuel_consumed_mmbtu.sum():.02%} \"\n",
    "    \"of the fuel from the bf table has been allocated\"\n",
    ")\n",
    "fuel_alloc = pd.concat([in_bf_tbl, not_in_bf_tbl]).sort_values(IDX_PM_FUEL)\n",
    "logger.info(\n",
    "    f\"{fuel_alloc.fuel_consumed_mmbtu.sum() / gf.fuel_consumed_mmbtu.sum():.02%} \"\n",
    "    \"of the fuel from the gf table has been allocated\")"
   ]
  },
  {
   "cell_type": "code",
   "execution_count": 9,
   "id": "59f5e458-5921-4f2a-95d5-a1757edf51ee",
   "metadata": {},
   "outputs": [],
   "source": [
    "IDX_PLANT = ['plant_id_eia', 'report_date']\n",
    "\n",
    "plant_test = (\n",
    "    pd.merge(\n",
    "        fuel_alloc.groupby(IDX_PLANT)[['fuel_consumed_mmbtu']].sum(min_count=1),\n",
    "        gf.groupby(IDX_PLANT)[['fuel_consumed_mmbtu']].sum(min_count=1),\n",
    "        right_index=True, left_index=True,\n",
    "        suffixes=('', '_gf_test'),\n",
    "        validate='1:1'\n",
    "    )\n",
    "    .merge(\n",
    "        bf.groupby(IDX_PLANT)[['fuel_consumed_mmbtu']].sum(min_count=1),\n",
    "        right_index=True, left_index=True,\n",
    "        suffixes=('', '_bf_test'),\n",
    "        validate='1:1'\n",
    "    )\n",
    "    .assign(\n",
    "        diffs_gf=lambda x: x.fuel_consumed_mmbtu - x.fuel_consumed_mmbtu_gf_test,\n",
    "        perc_gf=lambda x: x.diffs_gf / x.fuel_consumed_mmbtu_gf_test,\n",
    "        diffs_bf=lambda x: x.fuel_consumed_mmbtu - x.fuel_consumed_mmbtu_bf_test,\n",
    "        perc_bf=lambda x: x.diffs_bf / x.fuel_consumed_mmbtu_bf_test,\n",
    "    )\n",
    ")"
   ]
  },
  {
   "cell_type": "code",
   "execution_count": 10,
   "id": "45a86f2a-4dda-400e-b29a-a65490f92b0e",
   "metadata": {},
   "outputs": [
    {
     "name": "stdout",
     "output_type": "stream",
     "text": [
      "6843 13985\n"
     ]
    }
   ],
   "source": [
    "baddies = plant_test[\n",
    "    (abs(plant_test.perc_gf) != np.inf)\n",
    "    & ~np.isclose(plant_test.perc_gf, 0)\n",
    "    & (plant_test.perc_gf.notnull())\n",
    "    & ~np.isclose(plant_test.perc_bf, 0)\n",
    "]\n",
    "# much too many baddies\n",
    "print(len(baddies), len(plant_test))"
   ]
  },
  {
   "cell_type": "code",
   "execution_count": 11,
   "id": "672f3aa8-b079-4cde-b91f-f32567fc1a89",
   "metadata": {},
   "outputs": [],
   "source": [
    "# baddies.sort_values(by=['perc_gf'])"
   ]
  },
  {
   "cell_type": "code",
   "execution_count": 12,
   "id": "fdd4a54e-7147-40f2-a34d-6e8856f15d47",
   "metadata": {},
   "outputs": [],
   "source": [
    "# ex: GF & BF fuel records that don't match with gen's fuel types\n",
    "# need to implement a solution for non-associated GF & BF records\n",
    "# plant_id_eia = 3946\n",
    "# year = 2011\n",
    "\n",
    "# ex: PM code is missing for one gen\n",
    "# plant_id_eia = 10030\n",
    "# year = 2013"
   ]
  },
  {
   "cell_type": "code",
   "execution_count": 13,
   "id": "535b45b0-c45e-4b97-b62b-c91cd77d22c3",
   "metadata": {},
   "outputs": [
    {
     "data": {
      "text/html": [
       "<div>\n",
       "<style scoped>\n",
       "    .dataframe tbody tr th:only-of-type {\n",
       "        vertical-align: middle;\n",
       "    }\n",
       "\n",
       "    .dataframe tbody tr th {\n",
       "        vertical-align: top;\n",
       "    }\n",
       "\n",
       "    .dataframe thead th {\n",
       "        text-align: right;\n",
       "    }\n",
       "</style>\n",
       "<table border=\"1\" class=\"dataframe\">\n",
       "  <thead>\n",
       "    <tr style=\"text-align: right;\">\n",
       "      <th></th>\n",
       "      <th></th>\n",
       "      <th></th>\n",
       "      <th></th>\n",
       "      <th></th>\n",
       "      <th></th>\n",
       "      <th>fuel_consumed_mmbtu_gf_tbl</th>\n",
       "      <th>fuel_consumed_mmbtu_bf_tbl</th>\n",
       "      <th>fuel_consumed_mmbtu_gf_tbl_fuel</th>\n",
       "      <th>fuel_consumed_mmbtu_fuel</th>\n",
       "      <th>fuel_consumed_mmbtu_fuel_missing_pm</th>\n",
       "      <th>fuel_consumed_mmbtu</th>\n",
       "      <th>fuel_consumed_mmbtu_not_in_bf</th>\n",
       "      <th>fuel_consumed_mmbtu_gf_tbl_test</th>\n",
       "    </tr>\n",
       "    <tr>\n",
       "      <th>plant_id_eia</th>\n",
       "      <th>prime_mover_code</th>\n",
       "      <th>fuel_type</th>\n",
       "      <th>report_date</th>\n",
       "      <th>generator_id</th>\n",
       "      <th>unit_id_pudl</th>\n",
       "      <th></th>\n",
       "      <th></th>\n",
       "      <th></th>\n",
       "      <th></th>\n",
       "      <th></th>\n",
       "      <th></th>\n",
       "      <th></th>\n",
       "      <th></th>\n",
       "    </tr>\n",
       "  </thead>\n",
       "  <tbody>\n",
       "    <tr>\n",
       "      <th rowspan=\"4\" valign=\"top\">10030</th>\n",
       "      <th>CT</th>\n",
       "      <th>NG</th>\n",
       "      <th>2013-01-01</th>\n",
       "      <th>KD-1</th>\n",
       "      <th>1</th>\n",
       "      <td>NaN</td>\n",
       "      <td>787179.5</td>\n",
       "      <td>175232.0</td>\n",
       "      <td>NaN</td>\n",
       "      <td>NaN</td>\n",
       "      <td>578808.455882</td>\n",
       "      <td>NaN</td>\n",
       "      <td>NaN</td>\n",
       "    </tr>\n",
       "    <tr>\n",
       "      <th rowspan=\"2\" valign=\"top\">GT</th>\n",
       "      <th>DFO</th>\n",
       "      <th>2013-01-01</th>\n",
       "      <th>KD-2</th>\n",
       "      <th>NaN</th>\n",
       "      <td>2696.0</td>\n",
       "      <td>NaN</td>\n",
       "      <td>2696.0</td>\n",
       "      <td>NaN</td>\n",
       "      <td>NaN</td>\n",
       "      <td>2696.000000</td>\n",
       "      <td>2696.0</td>\n",
       "      <td>2696.0</td>\n",
       "    </tr>\n",
       "    <tr>\n",
       "      <th>NG</th>\n",
       "      <th>2013-01-01</th>\n",
       "      <th>KD-2</th>\n",
       "      <th>NaN</th>\n",
       "      <td>119077.0</td>\n",
       "      <td>NaN</td>\n",
       "      <td>175232.0</td>\n",
       "      <td>NaN</td>\n",
       "      <td>NaN</td>\n",
       "      <td>175232.000000</td>\n",
       "      <td>175232.0</td>\n",
       "      <td>175232.0</td>\n",
       "    </tr>\n",
       "    <tr>\n",
       "      <th>NaN</th>\n",
       "      <th>NG</th>\n",
       "      <th>2013-01-01</th>\n",
       "      <th>COG1</th>\n",
       "      <th>1</th>\n",
       "      <td>NaN</td>\n",
       "      <td>787179.5</td>\n",
       "      <td>175232.0</td>\n",
       "      <td>NaN</td>\n",
       "      <td>NaN</td>\n",
       "      <td>208371.044118</td>\n",
       "      <td>NaN</td>\n",
       "      <td>NaN</td>\n",
       "    </tr>\n",
       "  </tbody>\n",
       "</table>\n",
       "</div>"
      ],
      "text/plain": [
       "                                                                               fuel_consumed_mmbtu_gf_tbl  \\\n",
       "plant_id_eia prime_mover_code fuel_type report_date generator_id unit_id_pudl                               \n",
       "10030        CT               NG        2013-01-01  KD-1         1                                    NaN   \n",
       "             GT               DFO       2013-01-01  KD-2         NaN                               2696.0   \n",
       "                              NG        2013-01-01  KD-2         NaN                             119077.0   \n",
       "             NaN              NG        2013-01-01  COG1         1                                    NaN   \n",
       "\n",
       "                                                                               fuel_consumed_mmbtu_bf_tbl  \\\n",
       "plant_id_eia prime_mover_code fuel_type report_date generator_id unit_id_pudl                               \n",
       "10030        CT               NG        2013-01-01  KD-1         1                               787179.5   \n",
       "             GT               DFO       2013-01-01  KD-2         NaN                                  NaN   \n",
       "                              NG        2013-01-01  KD-2         NaN                                  NaN   \n",
       "             NaN              NG        2013-01-01  COG1         1                               787179.5   \n",
       "\n",
       "                                                                               fuel_consumed_mmbtu_gf_tbl_fuel  \\\n",
       "plant_id_eia prime_mover_code fuel_type report_date generator_id unit_id_pudl                                    \n",
       "10030        CT               NG        2013-01-01  KD-1         1                                    175232.0   \n",
       "             GT               DFO       2013-01-01  KD-2         NaN                                    2696.0   \n",
       "                              NG        2013-01-01  KD-2         NaN                                  175232.0   \n",
       "             NaN              NG        2013-01-01  COG1         1                                    175232.0   \n",
       "\n",
       "                                                                               fuel_consumed_mmbtu_fuel  \\\n",
       "plant_id_eia prime_mover_code fuel_type report_date generator_id unit_id_pudl                             \n",
       "10030        CT               NG        2013-01-01  KD-1         1                                  NaN   \n",
       "             GT               DFO       2013-01-01  KD-2         NaN                                NaN   \n",
       "                              NG        2013-01-01  KD-2         NaN                                NaN   \n",
       "             NaN              NG        2013-01-01  COG1         1                                  NaN   \n",
       "\n",
       "                                                                               fuel_consumed_mmbtu_fuel_missing_pm  \\\n",
       "plant_id_eia prime_mover_code fuel_type report_date generator_id unit_id_pudl                                        \n",
       "10030        CT               NG        2013-01-01  KD-1         1                                             NaN   \n",
       "             GT               DFO       2013-01-01  KD-2         NaN                                           NaN   \n",
       "                              NG        2013-01-01  KD-2         NaN                                           NaN   \n",
       "             NaN              NG        2013-01-01  COG1         1                                             NaN   \n",
       "\n",
       "                                                                               fuel_consumed_mmbtu  \\\n",
       "plant_id_eia prime_mover_code fuel_type report_date generator_id unit_id_pudl                        \n",
       "10030        CT               NG        2013-01-01  KD-1         1                   578808.455882   \n",
       "             GT               DFO       2013-01-01  KD-2         NaN                   2696.000000   \n",
       "                              NG        2013-01-01  KD-2         NaN                 175232.000000   \n",
       "             NaN              NG        2013-01-01  COG1         1                   208371.044118   \n",
       "\n",
       "                                                                               fuel_consumed_mmbtu_not_in_bf  \\\n",
       "plant_id_eia prime_mover_code fuel_type report_date generator_id unit_id_pudl                                  \n",
       "10030        CT               NG        2013-01-01  KD-1         1                                       NaN   \n",
       "             GT               DFO       2013-01-01  KD-2         NaN                                  2696.0   \n",
       "                              NG        2013-01-01  KD-2         NaN                                175232.0   \n",
       "             NaN              NG        2013-01-01  COG1         1                                       NaN   \n",
       "\n",
       "                                                                               fuel_consumed_mmbtu_gf_tbl_test  \n",
       "plant_id_eia prime_mover_code fuel_type report_date generator_id unit_id_pudl                                   \n",
       "10030        CT               NG        2013-01-01  KD-1         1                                         NaN  \n",
       "             GT               DFO       2013-01-01  KD-2         NaN                                    2696.0  \n",
       "                              NG        2013-01-01  KD-2         NaN                                  175232.0  \n",
       "             NaN              NG        2013-01-01  COG1         1                                         NaN  "
      ]
     },
     "execution_count": 13,
     "metadata": {},
     "output_type": "execute_result"
    }
   ],
   "source": [
    "plant_id_eia = 10030\n",
    "year = 2013\n",
    "\n",
    "fuel_alloc[\n",
    "    (fuel_alloc.plant_id_eia == plant_id_eia)\n",
    "    & (fuel_alloc.report_date.dt.year == year)\n",
    "].set_index(IDX_PM_FUEL + ['generator_id', 'unit_id_pudl']).filter(like='fuel_con')"
   ]
  },
  {
   "cell_type": "code",
   "execution_count": 14,
   "id": "1eb70a4b-8039-4c02-b12e-df965f9a9929",
   "metadata": {},
   "outputs": [
    {
     "data": {
      "image/png": "[encoded data removed]",
      "text/plain": [
       "<Figure size 1080x720 with 1 Axes>"
      ]
     },
     "metadata": {},
     "output_type": "display_data"
    }
   ],
   "source": [
    "plt.hist(\n",
    "    plant_test[\n",
    "        (abs(plant_test.perc_gf) != np.inf)\n",
    "        & ~np.isclose(plant_test.perc_gf, 0)\n",
    "    ].perc_gf,\n",
    "    bins=100,\n",
    "    range=(-10,10)\n",
    ")\n",
    "\n",
    "plt.hist(\n",
    "    plant_test[\n",
    "        (abs(plant_test.perc_bf) != np.inf)\n",
    "        & ~np.isclose(plant_test.perc_bf, 0)\n",
    "    ].perc_bf,\n",
    "    bins=100,\n",
    "    range=(-10,10)\n",
    ")\n",
    "plt.show()\n",
    "plt.show()"
   ]
  },
  {
   "cell_type": "markdown",
   "id": "c47703d9-b933-466a-9e6d-a798fa11f665",
   "metadata": {},
   "source": [
    "# Examples!"
   ]
  },
  {
   "cell_type": "code",
   "execution_count": 15,
   "id": "mature-waters",
   "metadata": {
    "tags": []
   },
   "outputs": [],
   "source": [
    "#IDX_PM_FUEL= ['prime_mover_code', 'fuel_type'] # plus 'plant_id_eia', 'report_date' of course\n",
    "# inputs\n",
    "gens_ex = pd.DataFrame({\n",
    "    'generator_id': ['A', 'B', 'C', 'D'],\n",
    "    'unit_id_pudl': [1, 1, 2, 3],\n",
    "    'prime_mover_code': ['GT', 'ST', 'GT', 'GT'],\n",
    "    'energy_source_code_1': ['NG', 'NG', 'NG', 'NG'],\n",
    "    'energy_source_code_2': ['DFO', np.nan, 'DFO', np.nan],\n",
    "    'capacity_mw': [100, 50, 25, 10]\n",
    "})\n",
    "bf_ex = pd.DataFrame({\n",
    "    'boiler_id': ['X1', 'Y1'],\n",
    "    'fuel_type': ['NG', 'DFO'],\n",
    "    'unit_id_pudl': [1, 1],\n",
    "    'fuel_consumed_mmbtu': [8, 2]\n",
    "})\n",
    "gf_ex = pd.DataFrame({\n",
    "    'prime_mover_code': \n",
    "        ['GT', 'ST', 'GT'],\n",
    "    'fuel_type': \n",
    "        ['NG', 'NG', 'DFO'],\n",
    "    'fuel_consumed_mmbtu': \n",
    "        [7, 2, 3]\n",
    "})\n",
    "\n",
    "## Interim Output\n",
    "# stack the gens table with the different fuel types\n",
    "gens_stacked_ex = pd.DataFrame({\n",
    "    'generator_id': ['A', 'A', 'B', 'C', 'C', 'D'],\n",
    "    'unit_id_pudl': [1, 1, 1, 2, 2, 3],\n",
    "    'prime_mover_code': ['GT', 'GT', 'ST', 'GT', 'GT', 'GT'],\n",
    "    'fuel_type': ['NG', 'DFO', 'NG', 'NG', 'DFO', 'NG']\n",
    "})\n",
    "# associate the generators w/ the gf table (mergeon IDX_PM_F)\n",
    "# and calculate values (sums/groupbys)\n",
    "gen_assoc_ex = pd.DataFrame({\n",
    "    'generator_id': ['A', 'A', 'B', 'C', 'C', 'D'],\n",
    "    'unit_id_pudl': [1, 1, 1, 2, 2, 3,],\n",
    "    'prime_mover_code': \n",
    "        ['GT', 'GT',  'ST', 'GT', 'GT', 'GT'],\n",
    "    'fuel_type': \n",
    "        ['NG', 'DFO', 'NG', 'NG', 'DFO', 'NG'],\n",
    "    'capacity_mw': \n",
    "        [100,  100,   50,   25,   25,    10],\n",
    "    # what we are trying to allocate\n",
    "    # merge btwn gen_assoc & gf, by PM_F\n",
    "    # Fuel totals on a per-pm-fuel basis\n",
    "    'fuel_consumed_mmbtu_gf_tbl': \n",
    "        [7, 3, 2, 7, 3, 7],\n",
    "\n",
    "    ########\n",
    "    # sums/groupbys that we need before doing any of the assign-type calcs\n",
    "    'capacity_mw_pm_fuel': \n",
    "        [135,  125,   50,   135,  125,   10],\n",
    "    # (summed by PM)\n",
    "    'fuel_consumed_mmbtu_gf_tbl_pm':\n",
    "        [10, 10, 2, 10, 10, 10],\n",
    "    # from gf table, summed by fuel\n",
    "    'fuel_consumed_mmbtu_gf_tbl_fuel': \n",
    "        [9, 3, 9, 9, 3, 9],\n",
    "    # reported by unit and fuel type in BF\n",
    "    # merged into association table, broadcasting across prime mover\n",
    "    'fuel_consumed_mmbtu_bf_tbl':\n",
    "        [8, 2, 8, np.nan, np.nan, np.nan],\n",
    "    'in_bf_tbl':\n",
    "        [True, True, True, False, False, False],\n",
    "    # sum of cap in [pm, fuel + exist_in_bf] group\n",
    "    'capacity_mw_pm_fuel_in_bf_tbl_group':\n",
    "        [100, 100, 50, 35, 35, 35],\n",
    "})"
   ]
  },
  {
   "cell_type": "code",
   "execution_count": 16,
   "id": "molecular-enforcement",
   "metadata": {
    "tags": []
   },
   "outputs": [],
   "source": [
    "#  gen_assoc tabl but only the records that don't exist in bf\n",
    "# plus the calculated fields we need to generate the final fuel\n",
    "not_in_bf_tbl = pd.DataFrame({\n",
    "    ### columns from gen_assoc\n",
    "    'generator_id': ['C', 'C', 'D'],\n",
    "    'unit_id_pudl': [2, 2, 3,],\n",
    "    'prime_mover_code': ['GT', 'GT', 'GT'],\n",
    "    'fuel_type': ['NG', 'DFO', 'NG'],\n",
    "    'capacity_mw': [25, 25, 10],\n",
    "    # what we are trying to allocate\n",
    "    # merge btwn gen_assoc & gf, by PM_F\n",
    "    # Fuel totals on a per-pm-fuel basis\n",
    "    'fuel_consumed_mmbtu_gf': \n",
    "        [7, 3, 7],\n",
    "    \n",
    "    ########\n",
    "    # sums/groupbys that we need before doing any of the assign-type calcs\n",
    "    # from bf table, summed by fuel\n",
    "    'fuel_consumed_mmbtu_bf_fuel':\n",
    "        [8, 2, 8],\n",
    "    # from gf table, summed by fuel\n",
    "    'fuel_consumed_mmbtu_gf_fuel': \n",
    "        [9, 3, 9],\n",
    "    # sum of cap in [pm, fuel + exist_in_bf] group\n",
    "    # total capacity in each pm fuel group\n",
    "    'capacity_mw_pm_fuel_in_bf_tbl_group':\n",
    "        [35, 25, 35],\n",
    "    \n",
    "    # what fuel should be assigned to these \"not in bf\" \n",
    "    # records based on fuel groupings?\n",
    "    # fuel that should be allocated to the not-reporting-to-bf records\n",
    "    # (the fuel in the gf tbl's fuel group - the fuel in the bf tbl's fuel group)\n",
    "    # (fuel_consumed_mmbtu_gf_fuel - fuel_consumed_mmbtu_bf_fuel) / fuel_consumed_mmbtu_gf\n",
    "    'fuel_consumed_mmbtu_not_in_bf': \n",
    "        [(9-8), (3-2), (9-8)],\n",
    "    \n",
    "    ### Get the frac_cap (used for allocating within gens that don't report to bf)\n",
    "    # Portion of capacity for each PM_FUEL group\n",
    "    # capacity_mw / capacity_mw_pm_fuel_in_bf_tbl_group\n",
    "    'frac_cap':\n",
    "        [25/35, 25/25, 10/35],\n",
    "    \n",
    "    # frac * fuel_consumed_mmbtu_gf\n",
    "    'fuel_consumed_mmbtu':\n",
    "        [(9-8) * (25/35), (3-2) * (35/35), (9-8) * (10/35)],\n",
    "})\n",
    "\n",
    "# aggregate the generator allocation to the units\n",
    "not_in_bf_unit = pd.DataFrame({\n",
    "    'unit_id_pudl': \n",
    "        [2, 3],\n",
    "    'fuel_consumed_mmbtu':\n",
    "        [1.71, 0.028]\n",
    "})\n",
    "\n",
    "# aggregate the bf table to the unit leve\n",
    "bf_unit = pd.DataFrame({\n",
    "    'unit_id_pudl': [1],\n",
    "    'fuel_consumed_mmbtu': [10]\n",
    "})\n",
    "\n",
    "all_unit = pd.DataFrame({\n",
    "    'unit_id_pudl': \n",
    "        [1, 2, 3],\n",
    "    'fuel_consumed_mmbtu':\n",
    "        [10, 1.714, 0.286]\n",
    "})"
   ]
  },
  {
   "cell_type": "code",
   "execution_count": 17,
   "id": "guilty-explorer",
   "metadata": {},
   "outputs": [],
   "source": [
    "assert(all_unit.fuel_consumed_mmbtu.sum() == gf_ex.fuel_consumed_mmbtu.sum())"
   ]
  },
  {
   "cell_type": "markdown",
   "id": "indian-poetry",
   "metadata": {},
   "source": [
    "### Allocating the boiler fuel data to generators\n",
    "We don't need to do this if our end goal is to aggregate to the unit level... but it may be helpful for other contexts so I'm leaving this here for now. This exploration is not complete, but it was an attempt to allocate the boiler-fuel data to the generator level."
   ]
  },
  {
   "cell_type": "code",
   "execution_count": 18,
   "id": "opening-graduation",
   "metadata": {},
   "outputs": [],
   "source": [
    "# beginning of unit\n",
    "frac_df_in_bf = pd.DataFrame({\n",
    "    'generator_id': ['A', 'A', 'B'],\n",
    "    'unit_id_pudl': [1, 1, 1],\n",
    "    'prime_mover_code': ['GT', 'GT', 'ST'],\n",
    "    'fuel_type': ['NG', 'DFO', 'NG'],\n",
    "    'capacity_mw': \n",
    "        [100, 100, 50],\n",
    "    # reported by unit and fuel type in BF\n",
    "    # merged into association table, broadcasting across prime mover\n",
    "    'fuel_consumed_mmbtu_bf':\n",
    "        [8, 2, 8],\n",
    "\n",
    "    ########\n",
    "    # we are going to equally allocate fuel burned within a unit\n",
    "    # to the various generators (regardless of their prime mover)\n",
    "    # based on capacity\n",
    "    # sums/groupbys that we need before doing any of the assign-type calcs\n",
    "    'capacity_mw_fuel_in_bf_tbl': \n",
    "        [150, 100, 150],\n",
    "    # capacity_mw /capacity_mw_fuel_in_bf_tbl\n",
    "    'frac_cap':\n",
    "        [100/150, 100/100, 50/150],\n",
    "    # fuel_consumed_mmbtu_bf * frac_cap\n",
    "    'fuel_consumed_mmbtu':\n",
    "        [8*(100/150), 2*(100/100), 8*(50/150)],\n",
    "})\n",
    "\n",
    "assert(frac_df_in_bf.fuel_consumed_mmbtu.sum() == bf_ex.fuel_consumed_mmbtu.sum())"
   ]
  },
  {
   "cell_type": "code",
   "execution_count": null,
   "id": "optimum-experiment",
   "metadata": {},
   "outputs": [],
   "source": []
  }
 ],
 "metadata": {
  "kernelspec": {
   "display_name": "Python 3 (ipykernel)",
   "language": "python",
   "name": "python3"
  },
  "language_info": {
   "codemirror_mode": {
    "name": "ipython",
    "version": 3
   },
   "file_extension": ".py",
   "mimetype": "text/x-python",
   "name": "python",
   "nbconvert_exporter": "python",
   "pygments_lexer": "ipython3",
   "version": "3.9.6"
  }
 },
 "nbformat": 4,
 "nbformat_minor": 5
}
