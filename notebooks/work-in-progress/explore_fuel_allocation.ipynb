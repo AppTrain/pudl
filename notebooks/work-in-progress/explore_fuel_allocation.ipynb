{
 "cells": [
  {
   "cell_type": "code",
   "execution_count": null,
   "id": "circular-heaven",
   "metadata": {},
   "outputs": [],
   "source": [
    "%load_ext autoreload\n",
    "%autoreload 2"
   ]
  },
  {
   "cell_type": "code",
   "execution_count": null,
   "id": "invisible-memorabilia",
   "metadata": {},
   "outputs": [],
   "source": [
    "import pandas as pd\n",
    "import numpy as np\n",
    "import sqlalchemy as sa\n",
    "import logging\n",
    "import sys\n",
    "\n",
    "import pudl\n",
    "\n",
    "from pudl.analysis.allocate_net_gen import *"
   ]
  },
  {
   "cell_type": "code",
   "execution_count": null,
   "id": "6aa1cc79-61db-4cf9-b951-f8545ca1c0c6",
   "metadata": {},
   "outputs": [],
   "source": [
    "logger = logging.getLogger()\n",
    "logger.setLevel(logging.INFO)\n",
    "handler = logging.StreamHandler(stream=sys.stdout)\n",
    "formatter = logging.Formatter('%(message)s')\n",
    "handler.setFormatter(formatter)\n",
    "logger.handlers = [handler]"
   ]
  },
  {
   "cell_type": "markdown",
   "id": "859a972a-2cca-4c25-88d8-4b68efd2f9c2",
   "metadata": {},
   "source": [
    "# Implementation Zone for Allocating Fuel"
   ]
  },
  {
   "cell_type": "code",
   "execution_count": null,
   "id": "subtle-tribe",
   "metadata": {},
   "outputs": [],
   "source": [
    "pudl_settings = pudl.workspace.setup.get_defaults()\n",
    "pudl_engine = sa.create_engine(pudl_settings['pudl_db'])\n",
    "# the fill_net_gen arg is employing a beta feature!\n",
    "# It will result in a much higher coverage of net generation\n",
    "# and fuel consuption, but it has known issues with multi-fuel plants.\n",
    "pudl_out = pudl.output.pudltabl.PudlTabl(\n",
    "    pudl_engine,\n",
    "    freq='AS',\n",
    "    fill_fuel_cost=True,\n",
    "    roll_fuel_cost=True,\n",
    "    fill_net_gen=False,\n",
    ")"
   ]
  },
  {
   "cell_type": "code",
   "execution_count": null,
   "id": "62f8f962-735d-434e-8901-4204bae03dfd",
   "metadata": {},
   "outputs": [],
   "source": [
    "# make sure the net generation allocation still functions w/ the fuel changes\n",
    "gen_alloc = pudl_out.gen_allocated_eia923()"
   ]
  },
  {
   "cell_type": "markdown",
   "id": "3b4ba7b2-b890-4c11-a439-cf8f3eed11b5",
   "metadata": {},
   "source": [
    "## Common Inputs Between Net Gen and Fuel Allocation"
   ]
  },
  {
   "cell_type": "code",
   "execution_count": null,
   "id": "every-customs",
   "metadata": {},
   "outputs": [],
   "source": [
    "# extract all of the tables from pudl_out early in the process and select\n",
    "# only the columns we need. this is for speed and clarity.\n",
    "gf = pudl_out.gf_eia923().loc[\n",
    "    :, IDX_PM_FUEL + ['net_generation_mwh', 'fuel_consumed_mmbtu']]\n",
    "gen = pudl_out.gen_original_eia923().loc[\n",
    "    :, IDX_GENS + ['net_generation_mwh']]\n",
    "gens = pudl_out.gens_eia860().loc[\n",
    "    :, IDX_GENS + ['unit_id_pudl', 'prime_mover_code', 'capacity_mw', 'fuel_type_count',\n",
    "                   'operational_status', 'retirement_date']\n",
    "    + list(pudl_out.gens_eia860().filter(like='energy_source_code'))]\n",
    "\n",
    "bf = (\n",
    "    pudl_out.bf_eia923()\n",
    "    .rename(columns={'fuel_type_code': 'fuel_type'})\n",
    "    .loc[:,IDX_FUEL + ['boiler_id', 'unit_id_pudl', 'fuel_consumed_mmbtu']]\n",
    ")"
   ]
  },
  {
   "cell_type": "code",
   "execution_count": null,
   "id": "a4755087-c742-40ec-9438-35f28b8269ee",
   "metadata": {},
   "outputs": [],
   "source": [
    "gen_assoc = associate_generator_tables(gf=gf, gen=gen, gens=gens, bf=bf)\n",
    "gen_pm_fuel = prep_alloction_fraction(gen_assoc)"
   ]
  },
  {
   "cell_type": "markdown",
   "id": "1071e6fc-4e6b-4270-b227-aefd70462cd7",
   "metadata": {},
   "source": [
    "## Fuel Allocation"
   ]
  },
  {
   "cell_type": "code",
   "execution_count": null,
   "id": "9715e6d6-7e9c-4a9c-911d-20a87259ff41",
   "metadata": {},
   "outputs": [],
   "source": [
    "\n",
    "not_in_bf_tbl = allocate_fuel_for_non_bf_gens(gen_pm_fuel)\n",
    "\n",
    "# we still need to develop a process for the gens that do show up in the BF table \n",
    "in_bf_tbl = gen_pm_fuel.loc[gen_pm_fuel.in_bf_tbl]"
   ]
  },
  {
   "cell_type": "markdown",
   "id": "c47703d9-b933-466a-9e6d-a798fa11f665",
   "metadata": {},
   "source": [
    "# Examples!"
   ]
  },
  {
   "cell_type": "code",
   "execution_count": null,
   "id": "mature-waters",
   "metadata": {
    "tags": []
   },
   "outputs": [],
   "source": [
    "#IDX_PM_FUEL= ['prime_mover_code', 'fuel_type'] # plus 'plant_id_eia', 'report_date' of course\n",
    "# inputs\n",
    "gens_ex = pd.DataFrame({\n",
    "    'generator_id': ['A', 'B', 'C', 'D'],\n",
    "    'unit_id_pudl': [1, 1, 2, 3],\n",
    "    'prime_mover_code': ['GT', 'ST', 'GT', 'GT'],\n",
    "    'energy_source_code_1': ['NG', 'NG', 'NG', 'NG'],\n",
    "    'energy_source_code_2': ['DFO', np.nan, 'DFO', np.nan],\n",
    "    'capacity_mw': [100, 50, 25, 10]\n",
    "})\n",
    "bf_ex = pd.DataFrame({\n",
    "    'boiler_id': ['X1', 'Y1'],\n",
    "    'fuel_type': ['NG', 'DFO'],\n",
    "    'unit_id_pudl': [1, 1],\n",
    "    'fuel_consumed_mmbtu': [8, 2]\n",
    "})\n",
    "gf_ex = pd.DataFrame({\n",
    "    'prime_mover_code': \n",
    "        ['GT', 'ST', 'GT'],\n",
    "    'fuel_type': \n",
    "        ['NG', 'NG', 'DFO'],\n",
    "    'fuel_consumed_mmbtu': \n",
    "        [7, 2, 3]\n",
    "})\n",
    "\n",
    "## Interim Output\n",
    "# stack the gens table with the different fuel types\n",
    "gens_stacked_ex = pd.DataFrame({\n",
    "    'generator_id': ['A', 'A', 'B', 'C', 'C', 'D'],\n",
    "    'unit_id_pudl': [1, 1, 1, 2, 2, 3],\n",
    "    'prime_mover_code': ['GT', 'GT', 'ST', 'GT', 'GT', 'GT'],\n",
    "    'fuel_type': ['NG', 'DFO', 'NG', 'NG', 'DFO', 'NG']\n",
    "})\n",
    "# associate the generators w/ the gf table (mergeon IDX_PM_F)\n",
    "# and calculate values (sums/groupbys)\n",
    "gen_assoc_ex = pd.DataFrame({\n",
    "    'generator_id': ['A', 'A', 'B', 'C', 'C', 'D'],\n",
    "    'unit_id_pudl': [1, 1, 1, 2, 2, 3,],\n",
    "    'prime_mover_code': \n",
    "        ['GT', 'GT',  'ST', 'GT', 'GT', 'GT'],\n",
    "    'fuel_type': \n",
    "        ['NG', 'DFO', 'NG', 'NG', 'DFO', 'NG'],\n",
    "    'capacity_mw': \n",
    "        [100,  100,   50,   25,   25,    10],\n",
    "    # what we are trying to allocate\n",
    "    # merge btwn gen_assoc & gf, by PM_F\n",
    "    # Fuel totals on a per-pm-fuel basis\n",
    "    'fuel_consumed_mmbtu_gf_tbl': \n",
    "        [7, 3, 2, 7, 3, 7],\n",
    "\n",
    "    ########\n",
    "    # sums/groupbys that we need before doing any of the assign-type calcs\n",
    "    'capacity_mw_pm_fuel': \n",
    "        [135,  125,   50,   135,  125,   10],\n",
    "    # (summed by PM)\n",
    "    'fuel_consumed_mmbtu_gf_tbl_pm':\n",
    "        [10, 10, 2, 10, 10, 10],\n",
    "    # from gf table, summed by fuel\n",
    "    'fuel_consumed_mmbtu_gf_tbl_fuel': \n",
    "        [9, 3, 9, 9, 3, 9],\n",
    "    # reported by unit and fuel type in BF\n",
    "    # merged into association table, broadcasting across prime mover\n",
    "    'fuel_consumed_mmbtu_bf_tbl':\n",
    "        [8, 2, 8, np.nan, np.nan, np.nan],\n",
    "    'in_bf_tbl':\n",
    "        [True, True, True, False, False, False],\n",
    "    # sum of cap in [pm, fuel + exist_in_bf] group\n",
    "    'capacity_mw_pm_fuel_in_bf_tbl_group':\n",
    "        [100, 100, 50, 35, 35, 35],\n",
    "})"
   ]
  },
  {
   "cell_type": "code",
   "execution_count": null,
   "id": "molecular-enforcement",
   "metadata": {
    "tags": []
   },
   "outputs": [],
   "source": [
    "#  gen_assoc tabl but only the records that don't exist in bf\n",
    "# plus the calculated fields we need to generate the final fuel\n",
    "not_in_bf_tbl = pd.DataFrame({\n",
    "    ### columns from gen_assoc\n",
    "    'generator_id': ['C', 'C', 'D'],\n",
    "    'unit_id_pudl': [2, 2, 3,],\n",
    "    'prime_mover_code': ['GT', 'GT', 'GT'],\n",
    "    'fuel_type': ['NG', 'DFO', 'NG'],\n",
    "    'capacity_mw': [25, 25, 10],\n",
    "    # what we are trying to allocate\n",
    "    # merge btwn gen_assoc & gf, by PM_F\n",
    "    # Fuel totals on a per-pm-fuel basis\n",
    "    'fuel_consumed_mmbtu_gf': \n",
    "        [7, 3, 7],\n",
    "    \n",
    "    ########\n",
    "    # sums/groupbys that we need before doing any of the assign-type calcs\n",
    "    # from bf table, summed by fuel\n",
    "    'fuel_consumed_mmbtu_bf_fuel':\n",
    "        [8, 2, 8],\n",
    "    # from gf table, summed by fuel\n",
    "    'fuel_consumed_mmbtu_gf_fuel': \n",
    "        [9, 3, 9],\n",
    "    # sum of cap in [pm, fuel + exist_in_bf] group\n",
    "    # total capacity in each pm fuel group\n",
    "    'capacity_mw_pm_fuel_in_bf_tbl_group':\n",
    "        [35, 25, 35],\n",
    "    \n",
    "    # what fuel should be assigned to these \"not in bf\" \n",
    "    # records based on fuel groupings?\n",
    "    # fuel that should be allocated to the not-reporting-to-bf records\n",
    "    # (the fuel in the gf tbl's fuel group - the fuel in the bf tbl's fuel group)\n",
    "    # (fuel_consumed_mmbtu_gf_fuel - fuel_consumed_mmbtu_bf_fuel) / fuel_consumed_mmbtu_gf\n",
    "    'fuel_consumed_mmbtu_not_in_bf': \n",
    "        [(9-8), (3-2), (9-8)],\n",
    "    \n",
    "    ### Get the frac_cap (used for allocating within gens that don't report to bf)\n",
    "    # Portion of capacity for each PM_FUEL group\n",
    "    # capacity_mw / capacity_mw_pm_fuel_in_bf_tbl_group\n",
    "    'frac_cap':\n",
    "        [25/35, 25/25, 10/35],\n",
    "    \n",
    "    # frac * fuel_consumed_mmbtu_gf\n",
    "    'fuel_consumed_mmbtu':\n",
    "        [(9-8) * (25/35), (3-2) * (35/35), (9-8) * (10/35)],\n",
    "})\n",
    "\n",
    "# aggregate the generator allocation to the units\n",
    "not_in_bf_unit = pd.DataFrame({\n",
    "    'unit_id_pudl': \n",
    "        [2, 3],\n",
    "    'fuel_consumed_mmbtu':\n",
    "        [1.71, 0.028]\n",
    "})\n",
    "\n",
    "# aggregate the bf table to the unit leve\n",
    "bf_unit = pd.DataFrame({\n",
    "    'unit_id_pudl': [1],\n",
    "    'fuel_consumed_mmbtu': [10]\n",
    "})\n",
    "\n",
    "all_unit = pd.DataFrame({\n",
    "    'unit_id_pudl': \n",
    "        [1, 2, 3],\n",
    "    'fuel_consumed_mmbtu':\n",
    "        [10, 1.714, 0.286]\n",
    "})"
   ]
  },
  {
   "cell_type": "code",
   "execution_count": null,
   "id": "guilty-explorer",
   "metadata": {},
   "outputs": [],
   "source": [
    "assert(all_unit.fuel_consumed_mmbtu.sum() == gf_ex.fuel_consumed_mmbtu.sum())"
   ]
  },
  {
   "cell_type": "markdown",
   "id": "indian-poetry",
   "metadata": {},
   "source": [
    "### Allocating the boiler fuel data to generators\n",
    "We don't need to do this if our end goal is to aggregate to the unit level... but it may be helpful for other contexts so I'm leaving this here for now. This exploration is not complete, but it was an attempt to allocate the boiler-fuel data to the generator level."
   ]
  },
  {
   "cell_type": "code",
   "execution_count": null,
   "id": "opening-graduation",
   "metadata": {},
   "outputs": [],
   "source": [
    "# beginning of unit\n",
    "frac_df_in_bf = pd.DataFrame({\n",
    "    'generator_id': ['A', 'A', 'B'],\n",
    "    'unit_id_pudl': [1, 1, 1],\n",
    "    'prime_mover_code': ['GT', 'GT', 'ST'],\n",
    "    'fuel_type': ['NG', 'DFO', 'NG'],\n",
    "    'capacity_mw': \n",
    "        [100, 100, 50],\n",
    "    # merge btwn gen_assoc & gf, by PM_F\n",
    "    # Fuel totals on a pm-fuel basis\n",
    "    'fuel_consumed_mmbtu_gf':\n",
    "        [7, 3, 2],\n",
    "    \n",
    "    ########\n",
    "    # sums/groupbys that we need before doing any of the assign-type calcs\n",
    "    'capacity_mw_pm_fuel': \n",
    "        [135,  125,   50],\n",
    "    # reported by unit and fuel type in BF\n",
    "    # merged into association table, broadcasting across prime mover\n",
    "    'fuel_consumed_mmbtu_bf':\n",
    "        [8, 2, 8],\n",
    "    # from gf table, summed by fuel\n",
    "    'fuel_consumed_mmbtu_gf_fuel': \n",
    "        [9, 3, 9],\n",
    "    \n",
    "    'frac_cap_in_pm_fuel':\n",
    "        [100/135, 100/125, 50/50],\n",
    "    \n",
    "    # portion of the fuel that should be allocated to the in-bf records\n",
    "    # this is on a fuel basis bc the bf table is reported w/ only fuel (no PM)\n",
    "    # fuel_consumed_mmbtu_bf/fuel_consumed_mmbtu_gf_fuel\n",
    "    'frac_in_bf':\n",
    "        [(8/9), (2/3), (8/9)],\n",
    "    # we are...\n",
    "    # fuel_consumed_mmbtu_gf * frac_in_bf\n",
    "    'fuel_consumed_mmbtu':\n",
    "        [7*(8/9), 3*(2/3), 2*(8/9)],\n",
    "})"
   ]
  },
  {
   "cell_type": "code",
   "execution_count": null,
   "id": "dedicated-header",
   "metadata": {},
   "outputs": [],
   "source": [
    "frac_df_in_bf.assign(\n",
    "    test=lambda x: x.frac_cap_in_pm_fuel * x.frac_in_bf,\n",
    "    test_fc=lambda x: x.fuel_consumed_mmbtu_gf * x.test\n",
    ")"
   ]
  },
  {
   "cell_type": "code",
   "execution_count": null,
   "id": "optimum-experiment",
   "metadata": {},
   "outputs": [],
   "source": []
  }
 ],
 "metadata": {
  "kernelspec": {
   "display_name": "Python 3 (ipykernel)",
   "language": "python",
   "name": "python3"
  },
  "language_info": {
   "codemirror_mode": {
    "name": "ipython",
    "version": 3
   },
   "file_extension": ".py",
   "mimetype": "text/x-python",
   "name": "python",
   "nbconvert_exporter": "python",
   "pygments_lexer": "ipython3",
   "version": "3.9.6"
  }
 },
 "nbformat": 4,
 "nbformat_minor": 5
}
