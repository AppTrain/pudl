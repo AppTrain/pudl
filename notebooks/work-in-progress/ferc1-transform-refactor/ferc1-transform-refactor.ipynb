{
 "cells": [
  {
   "cell_type": "code",
   "execution_count": 1,
   "id": "004c7a40-2c36-49fd-a315-021fec1f464b",
   "metadata": {},
   "outputs": [],
   "source": [
    "%load_ext autoreload\n",
    "%autoreload 3"
   ]
  },
  {
   "cell_type": "code",
   "execution_count": 2,
   "id": "eb2fcd88-5b16-4769-a3d9-d06fe8381371",
   "metadata": {},
   "outputs": [],
   "source": [
    "import logging\n",
    "import sys\n",
    "\n",
    "import ferc1_transform_refactor as tfr\n",
    "import pandas as pd"
   ]
  },
  {
   "cell_type": "code",
   "execution_count": 3,
   "id": "e7b03dbc-ddfa-4b9e-a460-0215a5408847",
   "metadata": {},
   "outputs": [],
   "source": [
    "logger = logging.getLogger()\n",
    "logger.setLevel(logging.INFO)\n",
    "handler = logging.StreamHandler(stream=sys.stdout)\n",
    "formatter = logging.Formatter(\"%(message)s\")\n",
    "handler.setFormatter(formatter)\n",
    "logger.handlers = [handler]"
   ]
  },
  {
   "cell_type": "code",
   "execution_count": 4,
   "id": "a69d9389-4f9d-4a8b-b3b8-be00b97d1197",
   "metadata": {},
   "outputs": [
    {
     "data": {
      "text/plain": [
       "{'test_table_id': {'rename_columns': {'columns': {'netgen': 'net_generation_kwh',\n",
       "    'heat_content': 'fuel_btu_per_unit',\n",
       "    'units': 'fuel_units',\n",
       "    'fuel_type': 'fuel_type'}},\n",
       "  'convert_units': {'net_generation_kwh': {'multiplier': 0.001,\n",
       "    'pattern': '(.*)_kwh$',\n",
       "    'repl': '\\\\1_mwh'},\n",
       "   'fuel_btu_per_unit': {'multiplier': 1e-06,\n",
       "    'pattern': '(.*)_btu(.*)$',\n",
       "    'repl': '\\\\1_mmbtu\\\\2'}},\n",
       "  'categorize_strings': {'fuel_type': {'categories': {'coal': {'black',\n",
       "      'dinosaur',\n",
       "      'goo',\n",
       "      'xenoforming'},\n",
       "     'oil': {'astroglide', 'fish', 'olive', 'sunflower'},\n",
       "     'gas': {'cow farts', 'elon musk', 'unicorn farts'}}}}}}"
      ]
     },
     "execution_count": 4,
     "metadata": {},
     "output_type": "execute_result"
    }
   ],
   "source": [
    "dataset_params = tfr.TRANSFORM_PARAMS\n",
    "dataset_params"
   ]
  },
  {
   "cell_type": "code",
   "execution_count": 5,
   "id": "4c8e1e29-5dd8-4800-8eba-dd1ef3158ab6",
   "metadata": {},
   "outputs": [
    {
     "data": {
      "text/plain": [
       "TableTransformParams(rename_columns=RenameColumns(columns={'netgen': 'net_generation_kwh', 'heat_content': 'fuel_btu_per_unit', 'units': 'fuel_units', 'fuel_type': 'fuel_type'}), convert_units={'net_generation_kwh': UnitConversion(multiplier=0.001, adder=0.0, pattern=re.compile('(.*)_kwh$'), repl='\\\\1_mwh'), 'fuel_btu_per_unit': UnitConversion(multiplier=1e-06, adder=0.0, pattern=re.compile('(.*)_btu(.*)$'), repl='\\\\1_mmbtu\\\\2')}, categorize_strings={'fuel_type': StringCategories(categories={'coal': {'goo', 'black', 'xenoforming', 'dinosaur'}, 'oil': {'olive', 'fish', 'sunflower', 'astroglide'}, 'gas': {'cow farts', 'unicorn farts', 'elon musk'}})})"
      ]
     },
     "execution_count": 5,
     "metadata": {},
     "output_type": "execute_result"
    }
   ],
   "source": [
    "table_params = tfr.TableTransformParams.parse_obj(dataset_params[\"test_table_id\"])\n",
    "table_params"
   ]
  },
  {
   "cell_type": "code",
   "execution_count": 6,
   "id": "ac96b293-19df-419a-a2c3-0d91d87f16b2",
   "metadata": {},
   "outputs": [
    {
     "data": {
      "text/plain": [
       "RenameColumns(columns={'netgen': 'net_generation_kwh', 'heat_content': 'fuel_btu_per_unit', 'units': 'fuel_units', 'fuel_type': 'fuel_type'})"
      ]
     },
     "execution_count": 6,
     "metadata": {},
     "output_type": "execute_result"
    }
   ],
   "source": [
    "table_params.rename_columns"
   ]
  },
  {
   "cell_type": "code",
   "execution_count": 7,
   "id": "f1045494-8486-4a73-a870-3e12c0c9f12e",
   "metadata": {},
   "outputs": [
    {
     "data": {
      "text/html": [
       "<div>\n",
       "<style scoped>\n",
       "    .dataframe tbody tr th:only-of-type {\n",
       "        vertical-align: middle;\n",
       "    }\n",
       "\n",
       "    .dataframe tbody tr th {\n",
       "        vertical-align: top;\n",
       "    }\n",
       "\n",
       "    .dataframe thead th {\n",
       "        text-align: right;\n",
       "    }\n",
       "</style>\n",
       "<table border=\"1\" class=\"dataframe\">\n",
       "  <thead>\n",
       "    <tr style=\"text-align: right;\">\n",
       "      <th></th>\n",
       "      <th>fuel_units</th>\n",
       "      <th>fuel_type</th>\n",
       "      <th>net_generation_mwh</th>\n",
       "      <th>fuel_mmbtu_per_unit</th>\n",
       "    </tr>\n",
       "  </thead>\n",
       "  <tbody>\n",
       "    <tr>\n",
       "      <th>0</th>\n",
       "      <td>tons</td>\n",
       "      <td>💩</td>\n",
       "      <td>1.0</td>\n",
       "      <td>17.0</td>\n",
       "    </tr>\n",
       "    <tr>\n",
       "      <th>1</th>\n",
       "      <td>barrels</td>\n",
       "      <td>oil</td>\n",
       "      <td>2.0</td>\n",
       "      <td>5.8</td>\n",
       "    </tr>\n",
       "    <tr>\n",
       "      <th>2</th>\n",
       "      <td>mcf</td>\n",
       "      <td>gas</td>\n",
       "      <td>3.0</td>\n",
       "      <td>0.1</td>\n",
       "    </tr>\n",
       "  </tbody>\n",
       "</table>\n",
       "</div>"
      ],
      "text/plain": [
       "  fuel_units fuel_type  net_generation_mwh  fuel_mmbtu_per_unit\n",
       "0       tons         💩                 1.0                 17.0\n",
       "1    barrels       oil                 2.0                  5.8\n",
       "2        mcf       gas                 3.0                  0.1"
      ]
     },
     "execution_count": 7,
     "metadata": {},
     "output_type": "execute_result"
    }
   ],
   "source": [
    "tttfr = tfr.TestTableTransformer(\"test_table_id\")\n",
    "actual = tttfr.apply({\"test_table_id\": tfr.TEST_INPUT_DF})[\"test_table_id\"]\n",
    "\n",
    "actual"
   ]
  },
  {
   "cell_type": "code",
   "execution_count": 8,
   "id": "c75129d2-6968-4257-8ab3-0c644ea5b9b2",
   "metadata": {},
   "outputs": [
    {
     "data": {
      "text/html": [
       "<div>\n",
       "<style scoped>\n",
       "    .dataframe tbody tr th:only-of-type {\n",
       "        vertical-align: middle;\n",
       "    }\n",
       "\n",
       "    .dataframe tbody tr th {\n",
       "        vertical-align: top;\n",
       "    }\n",
       "\n",
       "    .dataframe thead th {\n",
       "        text-align: right;\n",
       "    }\n",
       "</style>\n",
       "<table border=\"1\" class=\"dataframe\">\n",
       "  <thead>\n",
       "    <tr style=\"text-align: right;\">\n",
       "      <th></th>\n",
       "      <th>net_generation_mwh</th>\n",
       "      <th>fuel_mmbtu_per_unit</th>\n",
       "      <th>fuel_units</th>\n",
       "      <th>fuel_type</th>\n",
       "    </tr>\n",
       "  </thead>\n",
       "  <tbody>\n",
       "    <tr>\n",
       "      <th>0</th>\n",
       "      <td>1.0</td>\n",
       "      <td>17.0</td>\n",
       "      <td>tons</td>\n",
       "      <td>💩</td>\n",
       "    </tr>\n",
       "    <tr>\n",
       "      <th>1</th>\n",
       "      <td>2.0</td>\n",
       "      <td>5.8</td>\n",
       "      <td>barrels</td>\n",
       "      <td>oil</td>\n",
       "    </tr>\n",
       "    <tr>\n",
       "      <th>2</th>\n",
       "      <td>3.0</td>\n",
       "      <td>0.1</td>\n",
       "      <td>mcf</td>\n",
       "      <td>gas</td>\n",
       "    </tr>\n",
       "  </tbody>\n",
       "</table>\n",
       "</div>"
      ],
      "text/plain": [
       "   net_generation_mwh  fuel_mmbtu_per_unit fuel_units fuel_type\n",
       "0                 1.0                 17.0       tons         💩\n",
       "1                 2.0                  5.8    barrels       oil\n",
       "2                 3.0                  0.1        mcf       gas"
      ]
     },
     "execution_count": 8,
     "metadata": {},
     "output_type": "execute_result"
    }
   ],
   "source": [
    "tfr.EXPECTED_OUTPUT_DF"
   ]
  },
  {
   "cell_type": "code",
   "execution_count": 9,
   "id": "81c6b7f2-02e5-4773-a0fa-d2da69ea487a",
   "metadata": {},
   "outputs": [],
   "source": [
    "pd.testing.assert_frame_equal(\n",
    "    actual.sort_index(axis=\"columns\"),\n",
    "    tfr.EXPECTED_OUTPUT_DF.sort_index(axis=\"columns\")\n",
    ")"
   ]
  }
 ],
 "metadata": {
  "kernelspec": {
   "display_name": "Python 3 (ipykernel)",
   "language": "python",
   "name": "python3"
  },
  "language_info": {
   "codemirror_mode": {
    "name": "ipython",
    "version": 3
   },
   "file_extension": ".py",
   "mimetype": "text/x-python",
   "name": "python",
   "nbconvert_exporter": "python",
   "pygments_lexer": "ipython3",
   "version": "3.10.5"
  }
 },
 "nbformat": 4,
 "nbformat_minor": 5
}
