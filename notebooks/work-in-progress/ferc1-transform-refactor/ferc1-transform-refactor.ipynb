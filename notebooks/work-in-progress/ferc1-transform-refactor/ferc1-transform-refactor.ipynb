{
 "cells": [
  {
   "cell_type": "code",
   "execution_count": null,
   "id": "004c7a40-2c36-49fd-a315-021fec1f464b",
   "metadata": {},
   "outputs": [],
   "source": [
    "%load_ext autoreload\n",
    "%autoreload 3"
   ]
  },
  {
   "cell_type": "code",
   "execution_count": null,
   "id": "eb2fcd88-5b16-4769-a3d9-d06fe8381371",
   "metadata": {},
   "outputs": [],
   "source": [
    "import logging\n",
    "import sys\n",
    "\n",
    "import ferc1_transform_refactor as tfr\n",
    "import pandas as pd"
   ]
  },
  {
   "cell_type": "code",
   "execution_count": null,
   "id": "e7b03dbc-ddfa-4b9e-a460-0215a5408847",
   "metadata": {},
   "outputs": [],
   "source": [
    "logger = logging.getLogger()\n",
    "logger.setLevel(logging.INFO)\n",
    "handler = logging.StreamHandler(stream=sys.stdout)\n",
    "formatter = logging.Formatter(\"%(message)s\")\n",
    "handler.setFormatter(formatter)\n",
    "logger.handlers = [handler]"
   ]
  },
  {
   "cell_type": "code",
   "execution_count": null,
   "id": "a69d9389-4f9d-4a8b-b3b8-be00b97d1197",
   "metadata": {},
   "outputs": [],
   "source": [
    "dataset_params = tfr.TRANSFORM_PARAMS\n",
    "dataset_params"
   ]
  },
  {
   "cell_type": "code",
   "execution_count": null,
   "id": "4c8e1e29-5dd8-4800-8eba-dd1ef3158ab6",
   "metadata": {},
   "outputs": [],
   "source": [
    "table_params = tfr.TableTransformParams.parse_obj(dataset_params[\"test_table_one\"])\n",
    "table_params"
   ]
  },
  {
   "cell_type": "code",
   "execution_count": null,
   "id": "1df177ec-97bd-45cc-a857-e91b37d24f95",
   "metadata": {},
   "outputs": [],
   "source": [
    "test_input = tfr.TEST_INPUT_DF\n",
    "test_input"
   ]
  },
  {
   "cell_type": "code",
   "execution_count": null,
   "id": "f1045494-8486-4a73-a870-3e12c0c9f12e",
   "metadata": {},
   "outputs": [],
   "source": [
    "tttfr_one = tfr.TestTableTransformerOne()\n",
    "actual = tttfr_one.transform(df=test_input)\n",
    "actual"
   ]
  },
  {
   "cell_type": "code",
   "execution_count": null,
   "id": "c75129d2-6968-4257-8ab3-0c644ea5b9b2",
   "metadata": {},
   "outputs": [],
   "source": [
    "expected = tfr.EXPECTED_OUTPUT_DFS[\"test_table_one\"]\n",
    "expected"
   ]
  },
  {
   "cell_type": "code",
   "execution_count": null,
   "id": "81c6b7f2-02e5-4773-a0fa-d2da69ea487a",
   "metadata": {},
   "outputs": [],
   "source": [
    "pd.testing.assert_frame_equal(\n",
    "    actual.sort_index(axis=\"columns\"),\n",
    "    expected.sort_index(axis=\"columns\")\n",
    ")"
   ]
  },
  {
   "cell_type": "code",
   "execution_count": null,
   "id": "a4261356-eb85-4d66-bc4c-2beb554ef1ff",
   "metadata": {},
   "outputs": [],
   "source": []
  }
 ],
 "metadata": {
  "kernelspec": {
   "display_name": "Python 3 (ipykernel)",
   "language": "python",
   "name": "python3"
  },
  "language_info": {
   "codemirror_mode": {
    "name": "ipython",
    "version": 3
   },
   "file_extension": ".py",
   "mimetype": "text/x-python",
   "name": "python",
   "nbconvert_exporter": "python",
   "pygments_lexer": "ipython3",
   "version": "3.10.5"
  }
 },
 "nbformat": 4,
 "nbformat_minor": 5
}
