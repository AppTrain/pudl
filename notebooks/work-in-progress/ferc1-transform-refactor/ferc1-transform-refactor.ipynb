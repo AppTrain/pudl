{
 "cells": [
  {
   "cell_type": "code",
   "execution_count": 1,
   "id": "004c7a40-2c36-49fd-a315-021fec1f464b",
   "metadata": {},
   "outputs": [],
   "source": [
    "%load_ext autoreload\n",
    "%autoreload 3"
   ]
  },
  {
   "cell_type": "code",
   "execution_count": 2,
   "id": "eb2fcd88-5b16-4769-a3d9-d06fe8381371",
   "metadata": {},
   "outputs": [],
   "source": [
    "import logging\n",
    "import sys\n",
    "\n",
    "import ferc1_transform_refactor as tfr\n",
    "import pandas as pd"
   ]
  },
  {
   "cell_type": "code",
   "execution_count": 3,
   "id": "e7b03dbc-ddfa-4b9e-a460-0215a5408847",
   "metadata": {},
   "outputs": [],
   "source": [
    "logger = logging.getLogger()\n",
    "logger.setLevel(logging.INFO)\n",
    "handler = logging.StreamHandler(stream=sys.stdout)\n",
    "formatter = logging.Formatter(\"%(message)s\")\n",
    "handler.setFormatter(formatter)\n",
    "logger.handlers = [handler]"
   ]
  },
  {
   "cell_type": "code",
   "execution_count": 4,
   "id": "a69d9389-4f9d-4a8b-b3b8-be00b97d1197",
   "metadata": {},
   "outputs": [
    {
     "data": {
      "text/plain": [
       "DatasetTransformParams(__root__={'test_table_id': {'rename_columns': {'netgen': 'net_generation_kwh', 'heat_content': 'fuel_btu_per_unit', 'units': 'fuel_units', 'fuel_type': 'fuel_type'}, 'unit_conversions': {'net_generation_kwh': {'multiplier': 0.001, 'pattern': '(.*)_kwh$', 'repl': '\\\\1_mwh'}, 'fuel_btu_per_unit': {'multiplier': 1e-06, 'pattern': '(.*)_btu(.*)$', 'repl': '\\\\1_mmbtu\\\\2'}}, 'string_categories': {'fuel_type': {'coal': {'xenoforming', 'dinosaur', 'black', 'goo'}, 'oil': {'sunflower', 'astroglide', 'fish', 'olive'}, 'gas': {'cow farts', 'unicorn farts', 'elon musk'}}}}})"
      ]
     },
     "execution_count": 4,
     "metadata": {},
     "output_type": "execute_result"
    }
   ],
   "source": [
    "dataset_params = tfr.DatasetTransformParams(**tfr.TRANSFORM_PARAMS)\n",
    "dataset_params"
   ]
  },
  {
   "cell_type": "code",
   "execution_count": 5,
   "id": "4c8e1e29-5dd8-4800-8eba-dd1ef3158ab6",
   "metadata": {},
   "outputs": [
    {
     "data": {
      "text/plain": [
       "TableTransformParams(rename_columns=RenameCols(__root__={'netgen': 'net_generation_kwh', 'heat_content': 'fuel_btu_per_unit', 'units': 'fuel_units', 'fuel_type': 'fuel_type'}), unit_conversions=MultiColumnUnitConversion(__root__={'net_generation_kwh': UnitConversion(multiplier=0.001, adder=0.0, pattern=re.compile('(.*)_kwh$'), repl='\\\\1_mwh'), 'fuel_btu_per_unit': UnitConversion(multiplier=1e-06, adder=0.0, pattern=re.compile('(.*)_btu(.*)$'), repl='\\\\1_mmbtu\\\\2')}), string_categories=MultiColumnStringCategories(__root__={'fuel_type': StringCategories(__root__={'coal': {'xenoforming', 'dinosaur', 'black', 'goo'}, 'oil': {'sunflower', 'olive', 'astroglide', 'fish'}, 'gas': {'cow farts', 'unicorn farts', 'elon musk'}})}))"
      ]
     },
     "execution_count": 5,
     "metadata": {},
     "output_type": "execute_result"
    }
   ],
   "source": [
    "table_params = tfr.TableTransformParams(**dataset_params.test_table_id)\n",
    "table_params"
   ]
  },
  {
   "cell_type": "code",
   "execution_count": 10,
   "id": "ac96b293-19df-419a-a2c3-0d91d87f16b2",
   "metadata": {},
   "outputs": [
    {
     "data": {
      "text/plain": [
       "'net_generation_kwh'"
      ]
     },
     "execution_count": 10,
     "metadata": {},
     "output_type": "execute_result"
    }
   ],
   "source": [
    "table_params.rename_columns.netgen"
   ]
  },
  {
   "cell_type": "code",
   "execution_count": 6,
   "id": "f1045494-8486-4a73-a870-3e12c0c9f12e",
   "metadata": {},
   "outputs": [
    {
     "ename": "KeyError",
     "evalue": "'_typ'",
     "output_type": "error",
     "traceback": [
      "\u001b[0;31m---------------------------------------------------------------------------\u001b[0m",
      "\u001b[0;31mKeyError\u001b[0m                                  Traceback (most recent call last)",
      "Input \u001b[0;32mIn [6]\u001b[0m, in \u001b[0;36m<cell line: 2>\u001b[0;34m()\u001b[0m\n\u001b[1;32m      1\u001b[0m tttfr \u001b[38;5;241m=\u001b[39m tfr\u001b[38;5;241m.\u001b[39mTestTableTransformer(\u001b[38;5;124m\"\u001b[39m\u001b[38;5;124mtest_table_id\u001b[39m\u001b[38;5;124m\"\u001b[39m)\n\u001b[0;32m----> 2\u001b[0m actual \u001b[38;5;241m=\u001b[39m \u001b[43mtttfr\u001b[49m\u001b[38;5;241;43m.\u001b[39;49m\u001b[43mapply\u001b[49m\u001b[43m(\u001b[49m\u001b[43m{\u001b[49m\u001b[38;5;124;43m\"\u001b[39;49m\u001b[38;5;124;43mtest_table_id\u001b[39;49m\u001b[38;5;124;43m\"\u001b[39;49m\u001b[43m:\u001b[49m\u001b[43m \u001b[49m\u001b[43mtfr\u001b[49m\u001b[38;5;241;43m.\u001b[39;49m\u001b[43mTEST_INPUT_DF\u001b[49m\u001b[43m}\u001b[49m\u001b[43m)\u001b[49m[\u001b[38;5;124m\"\u001b[39m\u001b[38;5;124mtest_table_id\u001b[39m\u001b[38;5;124m\"\u001b[39m]\n\u001b[1;32m      4\u001b[0m pd\u001b[38;5;241m.\u001b[39mtesting\u001b[38;5;241m.\u001b[39massert_frame_equal(actual, tfr\u001b[38;5;241m.\u001b[39mEXPECTED_OUTPUT_DF)\n",
      "File \u001b[0;32m~/code/catalyst/pudl/notebooks/work-in-progress/ferc1-transform-refactor/ferc1_transform_refactor.py:369\u001b[0m, in \u001b[0;36mTestTableTransformer.apply\u001b[0;34m(self, dfs)\u001b[0m\n\u001b[1;32m    366\u001b[0m \u001b[38;5;28;01mdef\u001b[39;00m \u001b[38;5;21mapply\u001b[39m(\u001b[38;5;28mself\u001b[39m, dfs: \u001b[38;5;28mdict\u001b[39m[\u001b[38;5;28mstr\u001b[39m, pd\u001b[38;5;241m.\u001b[39mDataFrame]) \u001b[38;5;241m-\u001b[39m\u001b[38;5;241m>\u001b[39m \u001b[38;5;28mdict\u001b[39m[\u001b[38;5;28mstr\u001b[39m, pd\u001b[38;5;241m.\u001b[39mDataFrame]:\n\u001b[1;32m    367\u001b[0m     \u001b[38;5;124;03m\"\"\"Apply all the Test Transforms.\"\"\"\u001b[39;00m\n\u001b[1;32m    368\u001b[0m     out_df \u001b[38;5;241m=\u001b[39m (\n\u001b[0;32m--> 369\u001b[0m         \u001b[43mdfs\u001b[49m\u001b[43m[\u001b[49m\u001b[38;5;28;43mself\u001b[39;49m\u001b[38;5;241;43m.\u001b[39;49m\u001b[43mtable_id\u001b[49m\u001b[43m]\u001b[49m\u001b[38;5;241;43m.\u001b[39;49m\u001b[43mpipe\u001b[49m\u001b[43m(\u001b[49m\u001b[38;5;28;43mself\u001b[39;49m\u001b[38;5;241;43m.\u001b[39;49m\u001b[43mrename_columns\u001b[49m\u001b[43m,\u001b[49m\u001b[43m \u001b[49m\u001b[38;5;28;43mself\u001b[39;49m\u001b[38;5;241;43m.\u001b[39;49m\u001b[43mparams\u001b[49m\u001b[38;5;241;43m.\u001b[39;49m\u001b[43mrename_columns\u001b[49m\u001b[43m)\u001b[49m\n\u001b[1;32m    370\u001b[0m         \u001b[38;5;66;03m# .pipe(categorize_strings, self.params.string_categories)\u001b[39;00m\n\u001b[1;32m    371\u001b[0m         \u001b[38;5;66;03m# .pipe(convert_units, self.params.unit_conversions)\u001b[39;00m\n\u001b[1;32m    372\u001b[0m         \u001b[38;5;66;03m# .pipe(self.bespoke_transform)\u001b[39;00m\n\u001b[1;32m    373\u001b[0m     )\n\u001b[1;32m    374\u001b[0m     \u001b[38;5;28;01mreturn\u001b[39;00m {\u001b[38;5;28mself\u001b[39m\u001b[38;5;241m.\u001b[39mtable_id: out_df}\n",
      "File \u001b[0;32m~/mambaforge/envs/pudl-dev/lib/python3.10/site-packages/pandas/core/generic.py:5512\u001b[0m, in \u001b[0;36mNDFrame.pipe\u001b[0;34m(self, func, *args, **kwargs)\u001b[0m\n\u001b[1;32m   5454\u001b[0m \u001b[38;5;129m@final\u001b[39m\n\u001b[1;32m   5455\u001b[0m \u001b[38;5;129m@doc\u001b[39m(klass\u001b[38;5;241m=\u001b[39m_shared_doc_kwargs[\u001b[38;5;124m\"\u001b[39m\u001b[38;5;124mklass\u001b[39m\u001b[38;5;124m\"\u001b[39m])\n\u001b[1;32m   5456\u001b[0m \u001b[38;5;28;01mdef\u001b[39;00m \u001b[38;5;21mpipe\u001b[39m(\n\u001b[0;32m   (...)\u001b[0m\n\u001b[1;32m   5460\u001b[0m     \u001b[38;5;241m*\u001b[39m\u001b[38;5;241m*\u001b[39mkwargs,\n\u001b[1;32m   5461\u001b[0m ) \u001b[38;5;241m-\u001b[39m\u001b[38;5;241m>\u001b[39m T:\n\u001b[1;32m   5462\u001b[0m     \u001b[38;5;124mr\u001b[39m\u001b[38;5;124;03m\"\"\"\u001b[39;00m\n\u001b[1;32m   5463\u001b[0m \u001b[38;5;124;03m    Apply chainable functions that expect Series or DataFrames.\u001b[39;00m\n\u001b[1;32m   5464\u001b[0m \n\u001b[0;32m   (...)\u001b[0m\n\u001b[1;32m   5510\u001b[0m \u001b[38;5;124;03m    ...  )  # doctest: +SKIP\u001b[39;00m\n\u001b[1;32m   5511\u001b[0m \u001b[38;5;124;03m    \"\"\"\u001b[39;00m\n\u001b[0;32m-> 5512\u001b[0m     \u001b[38;5;28;01mreturn\u001b[39;00m \u001b[43mcom\u001b[49m\u001b[38;5;241;43m.\u001b[39;49m\u001b[43mpipe\u001b[49m\u001b[43m(\u001b[49m\u001b[38;5;28;43mself\u001b[39;49m\u001b[43m,\u001b[49m\u001b[43m \u001b[49m\u001b[43mfunc\u001b[49m\u001b[43m,\u001b[49m\u001b[43m \u001b[49m\u001b[38;5;241;43m*\u001b[39;49m\u001b[43margs\u001b[49m\u001b[43m,\u001b[49m\u001b[43m \u001b[49m\u001b[38;5;241;43m*\u001b[39;49m\u001b[38;5;241;43m*\u001b[39;49m\u001b[43mkwargs\u001b[49m\u001b[43m)\u001b[49m\n",
      "File \u001b[0;32m~/mambaforge/envs/pudl-dev/lib/python3.10/site-packages/pandas/core/common.py:497\u001b[0m, in \u001b[0;36mpipe\u001b[0;34m(obj, func, *args, **kwargs)\u001b[0m\n\u001b[1;32m    495\u001b[0m     \u001b[38;5;28;01mreturn\u001b[39;00m func(\u001b[38;5;241m*\u001b[39margs, \u001b[38;5;241m*\u001b[39m\u001b[38;5;241m*\u001b[39mkwargs)\n\u001b[1;32m    496\u001b[0m \u001b[38;5;28;01melse\u001b[39;00m:\n\u001b[0;32m--> 497\u001b[0m     \u001b[38;5;28;01mreturn\u001b[39;00m \u001b[43mfunc\u001b[49m\u001b[43m(\u001b[49m\u001b[43mobj\u001b[49m\u001b[43m,\u001b[49m\u001b[43m \u001b[49m\u001b[38;5;241;43m*\u001b[39;49m\u001b[43margs\u001b[49m\u001b[43m,\u001b[49m\u001b[43m \u001b[49m\u001b[38;5;241;43m*\u001b[39;49m\u001b[38;5;241;43m*\u001b[39;49m\u001b[43mkwargs\u001b[49m\u001b[43m)\u001b[49m\n",
      "File \u001b[0;32m~/code/catalyst/pudl/notebooks/work-in-progress/ferc1-transform-refactor/ferc1_transform_refactor.py:360\u001b[0m, in \u001b[0;36mAbstractTableTransformer.rename_columns\u001b[0;34m(self, df, params)\u001b[0m\n\u001b[1;32m    353\u001b[0m \u001b[38;5;28;01mdef\u001b[39;00m \u001b[38;5;21mrename_columns\u001b[39m(\u001b[38;5;28mself\u001b[39m, df: pd\u001b[38;5;241m.\u001b[39mDataFrame, params: RenameCols) \u001b[38;5;241m-\u001b[39m\u001b[38;5;241m>\u001b[39m pd\u001b[38;5;241m.\u001b[39mDataFrame:\n\u001b[1;32m    354\u001b[0m     \u001b[38;5;124;03m\"\"\"Rename the whole collection of dataframe columns using input params.\u001b[39;00m\n\u001b[1;32m    355\u001b[0m \n\u001b[1;32m    356\u001b[0m \u001b[38;5;124;03m    Log if there's any mismatch between the columns in the dataframe, and the\u001b[39;00m\n\u001b[1;32m    357\u001b[0m \u001b[38;5;124;03m    columns that have been defined in the mapping for renaming.\u001b[39;00m\n\u001b[1;32m    358\u001b[0m \n\u001b[1;32m    359\u001b[0m \u001b[38;5;124;03m    \"\"\"\u001b[39;00m\n\u001b[0;32m--> 360\u001b[0m     \u001b[38;5;28;01mreturn\u001b[39;00m \u001b[43mdf\u001b[49m\u001b[38;5;241;43m.\u001b[39;49m\u001b[43mrename\u001b[49m\u001b[43m(\u001b[49m\u001b[43mcolumns\u001b[49m\u001b[38;5;241;43m=\u001b[39;49m\u001b[43mparams\u001b[49m\u001b[43m)\u001b[49m\n",
      "File \u001b[0;32m~/mambaforge/envs/pudl-dev/lib/python3.10/site-packages/pandas/core/frame.py:5083\u001b[0m, in \u001b[0;36mDataFrame.rename\u001b[0;34m(self, mapper, index, columns, axis, copy, inplace, level, errors)\u001b[0m\n\u001b[1;32m   4964\u001b[0m \u001b[38;5;28;01mdef\u001b[39;00m \u001b[38;5;21mrename\u001b[39m(\n\u001b[1;32m   4965\u001b[0m     \u001b[38;5;28mself\u001b[39m,\n\u001b[1;32m   4966\u001b[0m     mapper: Renamer \u001b[38;5;241m|\u001b[39m \u001b[38;5;28;01mNone\u001b[39;00m \u001b[38;5;241m=\u001b[39m \u001b[38;5;28;01mNone\u001b[39;00m,\n\u001b[0;32m   (...)\u001b[0m\n\u001b[1;32m   4974\u001b[0m     errors: \u001b[38;5;28mstr\u001b[39m \u001b[38;5;241m=\u001b[39m \u001b[38;5;124m\"\u001b[39m\u001b[38;5;124mignore\u001b[39m\u001b[38;5;124m\"\u001b[39m,\n\u001b[1;32m   4975\u001b[0m ) \u001b[38;5;241m-\u001b[39m\u001b[38;5;241m>\u001b[39m DataFrame \u001b[38;5;241m|\u001b[39m \u001b[38;5;28;01mNone\u001b[39;00m:\n\u001b[1;32m   4976\u001b[0m     \u001b[38;5;124;03m\"\"\"\u001b[39;00m\n\u001b[1;32m   4977\u001b[0m \u001b[38;5;124;03m    Alter axes labels.\u001b[39;00m\n\u001b[1;32m   4978\u001b[0m \n\u001b[0;32m   (...)\u001b[0m\n\u001b[1;32m   5081\u001b[0m \u001b[38;5;124;03m    4  3  6\u001b[39;00m\n\u001b[1;32m   5082\u001b[0m \u001b[38;5;124;03m    \"\"\"\u001b[39;00m\n\u001b[0;32m-> 5083\u001b[0m     \u001b[38;5;28;01mreturn\u001b[39;00m \u001b[38;5;28;43msuper\u001b[39;49m\u001b[43m(\u001b[49m\u001b[43m)\u001b[49m\u001b[38;5;241;43m.\u001b[39;49m\u001b[43m_rename\u001b[49m\u001b[43m(\u001b[49m\n\u001b[1;32m   5084\u001b[0m \u001b[43m        \u001b[49m\u001b[43mmapper\u001b[49m\u001b[38;5;241;43m=\u001b[39;49m\u001b[43mmapper\u001b[49m\u001b[43m,\u001b[49m\n\u001b[1;32m   5085\u001b[0m \u001b[43m        \u001b[49m\u001b[43mindex\u001b[49m\u001b[38;5;241;43m=\u001b[39;49m\u001b[43mindex\u001b[49m\u001b[43m,\u001b[49m\n\u001b[1;32m   5086\u001b[0m \u001b[43m        \u001b[49m\u001b[43mcolumns\u001b[49m\u001b[38;5;241;43m=\u001b[39;49m\u001b[43mcolumns\u001b[49m\u001b[43m,\u001b[49m\n\u001b[1;32m   5087\u001b[0m \u001b[43m        \u001b[49m\u001b[43maxis\u001b[49m\u001b[38;5;241;43m=\u001b[39;49m\u001b[43maxis\u001b[49m\u001b[43m,\u001b[49m\n\u001b[1;32m   5088\u001b[0m \u001b[43m        \u001b[49m\u001b[43mcopy\u001b[49m\u001b[38;5;241;43m=\u001b[39;49m\u001b[43mcopy\u001b[49m\u001b[43m,\u001b[49m\n\u001b[1;32m   5089\u001b[0m \u001b[43m        \u001b[49m\u001b[43minplace\u001b[49m\u001b[38;5;241;43m=\u001b[39;49m\u001b[43minplace\u001b[49m\u001b[43m,\u001b[49m\n\u001b[1;32m   5090\u001b[0m \u001b[43m        \u001b[49m\u001b[43mlevel\u001b[49m\u001b[38;5;241;43m=\u001b[39;49m\u001b[43mlevel\u001b[49m\u001b[43m,\u001b[49m\n\u001b[1;32m   5091\u001b[0m \u001b[43m        \u001b[49m\u001b[43merrors\u001b[49m\u001b[38;5;241;43m=\u001b[39;49m\u001b[43merrors\u001b[49m\u001b[43m,\u001b[49m\n\u001b[1;32m   5092\u001b[0m \u001b[43m    \u001b[49m\u001b[43m)\u001b[49m\n",
      "File \u001b[0;32m~/mambaforge/envs/pudl-dev/lib/python3.10/site-packages/pandas/core/generic.py:1135\u001b[0m, in \u001b[0;36mNDFrame._rename\u001b[0;34m(self, mapper, index, columns, axis, copy, inplace, level, errors)\u001b[0m\n\u001b[1;32m   1132\u001b[0m     \u001b[38;5;28;01mcontinue\u001b[39;00m\n\u001b[1;32m   1134\u001b[0m ax \u001b[38;5;241m=\u001b[39m \u001b[38;5;28mself\u001b[39m\u001b[38;5;241m.\u001b[39m_get_axis(axis_no)\n\u001b[0;32m-> 1135\u001b[0m f \u001b[38;5;241m=\u001b[39m \u001b[43mcom\u001b[49m\u001b[38;5;241;43m.\u001b[39;49m\u001b[43mget_rename_function\u001b[49m\u001b[43m(\u001b[49m\u001b[43mreplacements\u001b[49m\u001b[43m)\u001b[49m\n\u001b[1;32m   1137\u001b[0m \u001b[38;5;28;01mif\u001b[39;00m level \u001b[38;5;129;01mis\u001b[39;00m \u001b[38;5;129;01mnot\u001b[39;00m \u001b[38;5;28;01mNone\u001b[39;00m:\n\u001b[1;32m   1138\u001b[0m     level \u001b[38;5;241m=\u001b[39m ax\u001b[38;5;241m.\u001b[39m_get_level_number(level)\n",
      "File \u001b[0;32m~/mambaforge/envs/pudl-dev/lib/python3.10/site-packages/pandas/core/common.py:505\u001b[0m, in \u001b[0;36mget_rename_function\u001b[0;34m(mapper)\u001b[0m\n\u001b[1;32m    500\u001b[0m \u001b[38;5;28;01mdef\u001b[39;00m \u001b[38;5;21mget_rename_function\u001b[39m(mapper):\n\u001b[1;32m    501\u001b[0m     \u001b[38;5;124;03m\"\"\"\u001b[39;00m\n\u001b[1;32m    502\u001b[0m \u001b[38;5;124;03m    Returns a function that will map names/labels, dependent if mapper\u001b[39;00m\n\u001b[1;32m    503\u001b[0m \u001b[38;5;124;03m    is a dict, Series or just a function.\u001b[39;00m\n\u001b[1;32m    504\u001b[0m \u001b[38;5;124;03m    \"\"\"\u001b[39;00m\n\u001b[0;32m--> 505\u001b[0m     \u001b[38;5;28;01mif\u001b[39;00m \u001b[38;5;28;43misinstance\u001b[39;49m\u001b[43m(\u001b[49m\u001b[43mmapper\u001b[49m\u001b[43m,\u001b[49m\u001b[43m \u001b[49m\u001b[43m(\u001b[49m\u001b[43mabc\u001b[49m\u001b[38;5;241;43m.\u001b[39;49m\u001b[43mMapping\u001b[49m\u001b[43m,\u001b[49m\u001b[43m \u001b[49m\u001b[43mABCSeries\u001b[49m\u001b[43m)\u001b[49m\u001b[43m)\u001b[49m:\n\u001b[1;32m    507\u001b[0m         \u001b[38;5;28;01mdef\u001b[39;00m \u001b[38;5;21mf\u001b[39m(x):\n\u001b[1;32m    508\u001b[0m             \u001b[38;5;28;01mif\u001b[39;00m x \u001b[38;5;129;01min\u001b[39;00m mapper:\n",
      "File \u001b[0;32m~/mambaforge/envs/pudl-dev/lib/python3.10/site-packages/pandas/core/dtypes/generic.py:45\u001b[0m, in \u001b[0;36mcreate_pandas_abc_type.<locals>._check\u001b[0;34m(cls, inst)\u001b[0m\n\u001b[1;32m     43\u001b[0m \u001b[38;5;129m@classmethod\u001b[39m  \u001b[38;5;66;03m# type: ignore[misc]\u001b[39;00m\n\u001b[1;32m     44\u001b[0m \u001b[38;5;28;01mdef\u001b[39;00m \u001b[38;5;21m_check\u001b[39m(\u001b[38;5;28mcls\u001b[39m, inst) \u001b[38;5;241m-\u001b[39m\u001b[38;5;241m>\u001b[39m \u001b[38;5;28mbool\u001b[39m:\n\u001b[0;32m---> 45\u001b[0m     \u001b[38;5;28;01mreturn\u001b[39;00m \u001b[38;5;28;43mgetattr\u001b[39;49m\u001b[43m(\u001b[49m\u001b[43minst\u001b[49m\u001b[43m,\u001b[49m\u001b[43m \u001b[49m\u001b[43mattr\u001b[49m\u001b[43m,\u001b[49m\u001b[43m \u001b[49m\u001b[38;5;124;43m\"\u001b[39;49m\u001b[38;5;124;43m_typ\u001b[39;49m\u001b[38;5;124;43m\"\u001b[39;49m\u001b[43m)\u001b[49m \u001b[38;5;129;01min\u001b[39;00m comp\n",
      "File \u001b[0;32m~/code/catalyst/pudl/notebooks/work-in-progress/ferc1-transform-refactor/ferc1_transform_refactor.py:171\u001b[0m, in \u001b[0;36mRenameCols.__getattr__\u001b[0;34m(self, item)\u001b[0m\n\u001b[1;32m    169\u001b[0m \u001b[38;5;28;01mdef\u001b[39;00m \u001b[38;5;21m__getattr__\u001b[39m(\u001b[38;5;28mself\u001b[39m, item):\n\u001b[1;32m    170\u001b[0m     \u001b[38;5;124;03m\"\"\"Enable dotted attribute access.\"\"\"\u001b[39;00m\n\u001b[0;32m--> 171\u001b[0m     \u001b[38;5;28;01mreturn\u001b[39;00m \u001b[38;5;28;43mself\u001b[39;49m\u001b[38;5;241;43m.\u001b[39;49m\u001b[43m__root__\u001b[49m\u001b[43m[\u001b[49m\u001b[43mitem\u001b[49m\u001b[43m]\u001b[49m\n",
      "\u001b[0;31mKeyError\u001b[0m: '_typ'"
     ]
    }
   ],
   "source": [
    "tttfr = tfr.TestTableTransformer(\"test_table_id\")\n",
    "actual = tttfr.apply({\"test_table_id\": tfr.TEST_INPUT_DF})[\"test_table_id\"]\n",
    "\n",
    "pd.testing.assert_frame_equal(actual, tfr.EXPECTED_OUTPUT_DF)"
   ]
  },
  {
   "cell_type": "code",
   "execution_count": null,
   "id": "81c6b7f2-02e5-4773-a0fa-d2da69ea487a",
   "metadata": {},
   "outputs": [],
   "source": [
    "actual"
   ]
  },
  {
   "cell_type": "code",
   "execution_count": null,
   "id": "dc47b548-144c-45bb-8e75-d21b2c1dd79a",
   "metadata": {},
   "outputs": [],
   "source": [
    "tfr.TEST_INPUT_DF"
   ]
  },
  {
   "cell_type": "code",
   "execution_count": null,
   "id": "3cd19bf9-b02c-49fd-973c-778e59e58deb",
   "metadata": {},
   "outputs": [],
   "source": [
    "table_params.rename_columns"
   ]
  },
  {
   "cell_type": "code",
   "execution_count": null,
   "id": "06e574a1-f130-4722-a07a-acff9b854e92",
   "metadata": {},
   "outputs": [],
   "source": []
  }
 ],
 "metadata": {
  "kernelspec": {
   "display_name": "Python 3 (ipykernel)",
   "language": "python",
   "name": "python3"
  },
  "language_info": {
   "codemirror_mode": {
    "name": "ipython",
    "version": 3
   },
   "file_extension": ".py",
   "mimetype": "text/x-python",
   "name": "python",
   "nbconvert_exporter": "python",
   "pygments_lexer": "ipython3",
   "version": "3.10.5"
  }
 },
 "nbformat": 4,
 "nbformat_minor": 5
}
