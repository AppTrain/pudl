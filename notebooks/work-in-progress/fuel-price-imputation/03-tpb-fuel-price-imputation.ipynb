{
 "cells": [
  {
   "cell_type": "code",
   "execution_count": 1,
   "id": "e3ca8e20-4ca5-45e6-923c-38ade983c3e4",
   "metadata": {},
   "outputs": [],
   "source": [
    "%load_ext autoreload\n",
    "%autoreload 3"
   ]
  },
  {
   "cell_type": "code",
   "execution_count": 2,
   "id": "7ee67b0a-9142-4f48-ac2b-d3555b5be8c9",
   "metadata": {},
   "outputs": [],
   "source": [
    "import logging\n",
    "import sys\n",
    "\n",
    "import numpy as np\n",
    "import pandas as pd\n",
    "import sqlalchemy as sa\n",
    "\n",
    "import matplotlib\n",
    "import matplotlib.pyplot as plt\n",
    "import seaborn as sns\n",
    "\n",
    "from sklearn.compose import ColumnTransformer, make_column_selector, make_column_transformer\n",
    "from sklearn.ensemble import HistGradientBoostingRegressor\n",
    "from sklearn.model_selection import GroupShuffleSplit, GridSearchCV\n",
    "from sklearn.pipeline import Pipeline\n",
    "from sklearn.preprocessing import OrdinalEncoder\n",
    "\n",
    "import pudl\n",
    "from pudl.output.pudltabl import PudlTabl\n",
    "from pudl.metadata.fields import apply_pudl_dtypes\n",
    "from pudl.metadata.enums import STATE_TO_CENSUS_REGION"
   ]
  },
  {
   "cell_type": "code",
   "execution_count": 3,
   "id": "7d88f170-cd66-4b0c-98df-6e8c0134a8c8",
   "metadata": {},
   "outputs": [],
   "source": [
    "logger = logging.getLogger()\n",
    "logger.setLevel(logging.INFO)\n",
    "handler = logging.StreamHandler(stream=sys.stdout)\n",
    "formatter = logging.Formatter(\"%(message)s\")\n",
    "handler.setFormatter(formatter)\n",
    "logger.handlers = [handler]\n",
    "\n",
    "matplotlib.rcParams[\"figure.figsize\"] = (10, 4)\n",
    "matplotlib.rcParams[\"figure.dpi\"] = 150\n",
    "pd.options.display.max_columns = 100\n",
    "pd.options.display.max_rows = 100"
   ]
  },
  {
   "cell_type": "code",
   "execution_count": 4,
   "id": "cd7dfeef-0037-43a3-9df3-ba89639ac270",
   "metadata": {},
   "outputs": [],
   "source": [
    "pudl_settings = pudl.workspace.setup.get_defaults()\n",
    "pudl_engine = sa.create_engine(pudl_settings[\"pudl_db\"])"
   ]
  },
  {
   "cell_type": "markdown",
   "id": "cdc7717c-a4bf-420b-9513-ca0a9a46e3ce",
   "metadata": {},
   "source": [
    "# Data Preparation and Preprocessing"
   ]
  },
  {
   "cell_type": "markdown",
   "id": "3b7ab5f4-3ce9-4201-b581-ee32799a3d07",
   "metadata": {},
   "source": [
    "## Read data from PUDL DB and create some features "
   ]
  },
  {
   "cell_type": "code",
   "execution_count": 5,
   "id": "00b8d109-95c9-4058-b436-de9b359a7992",
   "metadata": {},
   "outputs": [
    {
     "name": "stdout",
     "output_type": "stream",
     "text": [
      "Query PUDL DB and build some features.\n",
      "CPU times: user 2.96 s, sys: 99.9 ms, total: 3.06 s\n",
      "Wall time: 3.06 s\n"
     ]
    }
   ],
   "source": [
    "%%time\n",
    "\n",
    "FRC_EIA923_DATA_COLS = [\n",
    "    \"plant_id_eia\",\n",
    "    \"report_date\",\n",
    "    \"energy_source_code\",\n",
    "    \"fuel_cost_per_mmbtu\",\n",
    "    \"fuel_received_units\",\n",
    "    \"fuel_mmbtu_per_unit\",\n",
    "]\n",
    "\n",
    "logger.info(\"Query PUDL DB and build some features.\")\n",
    "plant_states = pd.read_sql(\"SELECT plant_id_eia, state FROM plants_entity_eia\", pudl_engine)\n",
    "fuel_group_eiaepm = pd.read_sql(\"SELECT code AS energy_source_code, fuel_group_eiaepm FROM energy_sources_eia\", pudl_engine)\n",
    "\n",
    "frc = (\n",
    "    pd.read_sql(\"fuel_receipts_costs_eia923\", pudl_engine, columns=FRC_EIA923_DATA_COLS)\n",
    "    .merge(plant_states, on=\"plant_id_eia\", how=\"left\", validate=\"many_to_one\")\n",
    "    # Fuel group also cleanly categorizes fuel units, making fuel_mmbtu_per_unit more sensible.\n",
    "    .merge(fuel_group_eiaepm, on=\"energy_source_code\", how=\"left\", validate=\"many_to_one\")\n",
    "    .pipe(apply_pudl_dtypes, group=\"eia\")\n",
    "    .assign(\n",
    "        # There's no such thing as a free MMBTU\n",
    "        fuel_cost_per_mmbtu=lambda x: x.fuel_cost_per_mmbtu.replace(0.0, np.nan),\n",
    "        # Numerical representation of elapsed time\n",
    "        elapsed_days=lambda x: (x.report_date - x.report_date.min()).dt.days,\n",
    "        # Categorical months, to capture cyclical seasonal variability\n",
    "        report_month=lambda x: x.report_date.dt.month,\n",
    "        # Larger geographic area more likely to have lots of records\n",
    "        census_region=lambda x: x.state.map(STATE_TO_CENSUS_REGION),\n",
    "        # Need the total MMBTU for weighting the importance of the record\n",
    "        # May also be predictive -- small deliveries seem more likely to be expensive\n",
    "        fuel_received_mmbtu=lambda x: x.fuel_received_units * x.fuel_mmbtu_per_unit,\n",
    "    )\n",
    "    .drop(columns=[\"report_date\", \"fuel_received_units\"])\n",
    "    .convert_dtypes(convert_floating=False)\n",
    ")\n",
    "\n",
    "# The HistGBR model and OrdinalEncoder are supposedly fine with NA values but...\n",
    "string_cols = frc.select_dtypes(\"string\").columns\n",
    "frc.loc[:, string_cols] = frc[string_cols].fillna(\"NULL\")"
   ]
  },
  {
   "cell_type": "code",
   "execution_count": 6,
   "id": "e258eb41-66df-4eab-84a1-6adf83d3b49d",
   "metadata": {},
   "outputs": [
    {
     "name": "stdout",
     "output_type": "stream",
     "text": [
      "<class 'pandas.core.frame.DataFrame'>\n",
      "Int64Index: 571400 entries, 0 to 571399\n",
      "Data columns (total 10 columns):\n",
      " #   Column               Non-Null Count   Dtype  \n",
      "---  ------               --------------   -----  \n",
      " 0   plant_id_eia         571400 non-null  Int64  \n",
      " 1   energy_source_code   571400 non-null  string \n",
      " 2   fuel_cost_per_mmbtu  381423 non-null  float64\n",
      " 3   fuel_mmbtu_per_unit  571400 non-null  float64\n",
      " 4   state                571400 non-null  string \n",
      " 5   fuel_group_eiaepm    571400 non-null  string \n",
      " 6   elapsed_days         571400 non-null  Int64  \n",
      " 7   report_month         571400 non-null  Int64  \n",
      " 8   census_region        571400 non-null  string \n",
      " 9   fuel_received_mmbtu  571400 non-null  float64\n",
      "dtypes: Int64(3), float64(3), string(4)\n",
      "memory usage: 49.6 MB\n"
     ]
    }
   ],
   "source": [
    "frc.info()"
   ]
  },
  {
   "cell_type": "markdown",
   "id": "7c3f7257-aff8-4b98-8042-c0b239ff5da4",
   "metadata": {},
   "source": [
    "## Split the data into different functional parts..."
   ]
  },
  {
   "cell_type": "code",
   "execution_count": 7,
   "id": "9762c1cc-3c2d-48d4-9785-544fc90ba8ab",
   "metadata": {},
   "outputs": [],
   "source": [
    "# Records where we're missing the target value:\n",
    "frc_to_predict = frc[frc.fuel_cost_per_mmbtu.isna()]\n",
    "\n",
    "# Records where we have the target value:\n",
    "frc_train_test = frc[frc.fuel_cost_per_mmbtu.notna()]\n",
    "\n",
    "# The data we're going to use to predict:\n",
    "frc_data = frc_train_test.drop(columns=[\"fuel_cost_per_mmbtu\"])\n",
    "\n",
    "# The target we're trying to predict:\n",
    "frc_target = frc_train_test[\"fuel_cost_per_mmbtu\"]\n",
    "\n",
    "# Relative importance of each of the records:\n",
    "sample_weight=frc_data[\"fuel_received_mmbtu\"]"
   ]
  },
  {
   "cell_type": "markdown",
   "id": "0cf4b771-40b3-4f49-822f-72be94ac7c37",
   "metadata": {},
   "source": [
    "## Build a Pipeline"
   ]
  },
  {
   "cell_type": "code",
   "execution_count": 8,
   "id": "2d49ac7e-bb0f-4034-8d14-6f0236e596d5",
   "metadata": {},
   "outputs": [],
   "source": [
    "cat_cols = [\n",
    "#   \"energy_source_code\",\n",
    "    \"fuel_group_eiaepm\",\n",
    "    \"state\",\n",
    "    \"report_month\",\n",
    "#   \"census_region\",\n",
    "]\n",
    "\n",
    "num_cols = [\n",
    "    \"plant_id_eia\", \n",
    "    \"elapsed_days\",\n",
    "    \"fuel_mmbtu_per_unit\",\n",
    "#   \"fuel_received_mmbtu\",\n",
    "]\n",
    "\n",
    "ord_enc = make_column_transformer(\n",
    "    (\n",
    "        OrdinalEncoder(handle_unknown=\"use_encoded_value\", unknown_value=np.nan),\n",
    "        make_column_selector(dtype_include=\"string\"),\n",
    "    ),\n",
    "    remainder=\"passthrough\",\n",
    ")\n",
    "\n",
    "pipe = Pipeline([\n",
    "    (\"ord_enc\", ord_enc),\n",
    "    (\"hist_gbr\", HistGradientBoostingRegressor(loss=\"absolute_error\", max_iter=1_000)),\n",
    "])"
   ]
  },
  {
   "cell_type": "markdown",
   "id": "f2f3ca17-fee2-4c8c-9c7a-b5a147505a66",
   "metadata": {},
   "source": [
    "## Set up Grid Search Cross Validation"
   ]
  },
  {
   "cell_type": "code",
   "execution_count": 31,
   "id": "108dcf46",
   "metadata": {
    "jupyter": {
     "outputs_hidden": true
    },
    "tags": []
   },
   "outputs": [],
   "source": [
    "gss = GroupShuffleSplit(test_size=0.2, n_splits=5, random_state=0)\n",
    "# Split based on Plant ID to avoid plant information leaking between test / training\n",
    "# This is mostly just an example. Not sure it's actually a good idea.\n",
    "gss_split = gss.split(frc_train_test, groups=frc_train_test[\"state\"])\n",
    "param_grid = {\n",
    "    \"hist_gbr__max_depth\": [7,],\n",
    "    \"hist_gbr__max_leaf_nodes\": [2**7],\n",
    "    \"hist_gbr__learning_rate\": [0.1],\n",
    "    \"hist_gbr__min_samples_leaf\": [25],\n",
    "}\n",
    "\n",
    "# Define hyperparameter space to search:\n",
    "grid = GridSearchCV(pipe, param_grid=param_grid, cv=gss_split, n_jobs=-1, scoring='neg_median_absolute_error')"
   ]
  },
  {
   "cell_type": "code",
   "execution_count": 32,
   "id": "27340fbf-c66b-4336-a3f3-1b4c6081333d",
   "metadata": {
    "jupyter": {
     "outputs_hidden": true
    },
    "tags": []
   },
   "outputs": [
    {
     "name": "stderr",
     "output_type": "stream",
     "text": [
      "/home/tpb/miniconda3/envs/analysis-pudl-dev/lib/python3.10/site-packages/sklearn/utils/validation.py:1858: FutureWarning: Feature names only support names that are all strings. Got feature names with dtypes: ['quoted_name', 'str']. An error will be raised in 1.2.\n",
      "  warnings.warn(\n",
      "/home/tpb/miniconda3/envs/analysis-pudl-dev/lib/python3.10/site-packages/sklearn/utils/validation.py:1858: FutureWarning: Feature names only support names that are all strings. Got feature names with dtypes: ['quoted_name', 'str']. An error will be raised in 1.2.\n",
      "  warnings.warn(\n",
      "/home/tpb/miniconda3/envs/analysis-pudl-dev/lib/python3.10/site-packages/sklearn/utils/validation.py:1858: FutureWarning: Feature names only support names that are all strings. Got feature names with dtypes: ['quoted_name', 'str']. An error will be raised in 1.2.\n",
      "  warnings.warn(\n",
      "/home/tpb/miniconda3/envs/analysis-pudl-dev/lib/python3.10/site-packages/sklearn/utils/validation.py:1858: FutureWarning: Feature names only support names that are all strings. Got feature names with dtypes: ['quoted_name', 'str']. An error will be raised in 1.2.\n",
      "  warnings.warn(\n",
      "/home/tpb/miniconda3/envs/analysis-pudl-dev/lib/python3.10/site-packages/sklearn/utils/validation.py:1858: FutureWarning: Feature names only support names that are all strings. Got feature names with dtypes: ['quoted_name', 'str']. An error will be raised in 1.2.\n",
      "  warnings.warn(\n",
      "/home/tpb/miniconda3/envs/analysis-pudl-dev/lib/python3.10/site-packages/sklearn/utils/validation.py:1858: FutureWarning: Feature names only support names that are all strings. Got feature names with dtypes: ['quoted_name', 'str']. An error will be raised in 1.2.\n",
      "  warnings.warn(\n"
     ]
    },
    {
     "name": "stdout",
     "output_type": "stream",
     "text": [
      "CPU times: user 1min 19s, sys: 660 ms, total: 1min 20s\n",
      "Wall time: 3min 21s\n"
     ]
    }
   ],
   "source": [
    "%%time\n",
    "# Train up all the models and store the results.\n",
    "# Weight samples by `sample_weight` during training.\n",
    "result = grid.fit(\n",
    "        X=frc_train_test[cat_cols+num_cols],\n",
    "        y=frc_target,\n",
    "        hist_gbr__sample_weight=sample_weight,\n",
    "    )"
   ]
  },
  {
   "cell_type": "markdown",
   "id": "d39ed40f-94e7-428a-9fd9-ecd860db5afc",
   "metadata": {},
   "source": [
    "## Use the best estimator to predict missing fuel prices"
   ]
  },
  {
   "cell_type": "code",
   "execution_count": 33,
   "id": "b64caa5f-23d6-4aef-9917-6c60fde16b51",
   "metadata": {},
   "outputs": [],
   "source": [
    "cv_results = pd.DataFrame(result.cv_results_)"
   ]
  },
  {
   "cell_type": "code",
   "execution_count": 34,
   "id": "22bf80f2",
   "metadata": {},
   "outputs": [
    {
     "data": {
      "text/plain": [
       "-0.5078756537397606"
      ]
     },
     "execution_count": 34,
     "metadata": {},
     "output_type": "execute_result"
    }
   ],
   "source": [
    "result.best_score_"
   ]
  },
  {
   "cell_type": "code",
   "execution_count": 35,
   "id": "b7890bd0-3f1e-48ff-ba41-b515f4194232",
   "metadata": {},
   "outputs": [
    {
     "data": {
      "text/html": [
       "<div>\n",
       "<style scoped>\n",
       "    .dataframe tbody tr th:only-of-type {\n",
       "        vertical-align: middle;\n",
       "    }\n",
       "\n",
       "    .dataframe tbody tr th {\n",
       "        vertical-align: top;\n",
       "    }\n",
       "\n",
       "    .dataframe thead th {\n",
       "        text-align: right;\n",
       "    }\n",
       "</style>\n",
       "<table border=\"1\" class=\"dataframe\">\n",
       "  <thead>\n",
       "    <tr style=\"text-align: right;\">\n",
       "      <th></th>\n",
       "      <th>mean_fit_time</th>\n",
       "      <th>std_fit_time</th>\n",
       "      <th>mean_score_time</th>\n",
       "      <th>std_score_time</th>\n",
       "      <th>param_hist_gbr__learning_rate</th>\n",
       "      <th>param_hist_gbr__max_depth</th>\n",
       "      <th>param_hist_gbr__max_leaf_nodes</th>\n",
       "      <th>param_hist_gbr__min_samples_leaf</th>\n",
       "      <th>params</th>\n",
       "      <th>split0_test_score</th>\n",
       "      <th>split1_test_score</th>\n",
       "      <th>split2_test_score</th>\n",
       "      <th>split3_test_score</th>\n",
       "      <th>split4_test_score</th>\n",
       "      <th>mean_test_score</th>\n",
       "      <th>std_test_score</th>\n",
       "      <th>rank_test_score</th>\n",
       "    </tr>\n",
       "  </thead>\n",
       "  <tbody>\n",
       "    <tr>\n",
       "      <th>0</th>\n",
       "      <td>62.994186</td>\n",
       "      <td>15.276459</td>\n",
       "      <td>6.743913</td>\n",
       "      <td>1.665196</td>\n",
       "      <td>0.1</td>\n",
       "      <td>7</td>\n",
       "      <td>128</td>\n",
       "      <td>25</td>\n",
       "      <td>{'hist_gbr__learning_rate': 0.1, 'hist_gbr__ma...</td>\n",
       "      <td>-0.48976</td>\n",
       "      <td>-0.437022</td>\n",
       "      <td>-0.599411</td>\n",
       "      <td>-0.522987</td>\n",
       "      <td>-0.490198</td>\n",
       "      <td>-0.507876</td>\n",
       "      <td>0.053419</td>\n",
       "      <td>1</td>\n",
       "    </tr>\n",
       "  </tbody>\n",
       "</table>\n",
       "</div>"
      ],
      "text/plain": [
       "   mean_fit_time  std_fit_time  mean_score_time  std_score_time param_hist_gbr__learning_rate param_hist_gbr__max_depth param_hist_gbr__max_leaf_nodes param_hist_gbr__min_samples_leaf                                             params  split0_test_score  split1_test_score  split2_test_score  split3_test_score  split4_test_score  mean_test_score  std_test_score  rank_test_score\n",
       "0      62.994186     15.276459         6.743913        1.665196                           0.1                         7                            128                               25  {'hist_gbr__learning_rate': 0.1, 'hist_gbr__ma...           -0.48976          -0.437022          -0.599411          -0.522987          -0.490198        -0.507876        0.053419                1"
      ]
     },
     "execution_count": 35,
     "metadata": {},
     "output_type": "execute_result"
    }
   ],
   "source": [
    "cv_results.sort_values('mean_test_score', ascending=False)"
   ]
  },
  {
   "cell_type": "code",
   "execution_count": 36,
   "id": "6b19eb75",
   "metadata": {},
   "outputs": [
    {
     "data": {
      "text/plain": [
       "[<matplotlib.lines.Line2D at 0x7f39f19997b0>]"
      ]
     },
     "execution_count": 36,
     "metadata": {},
     "output_type": "execute_result"
    },
    {
     "data": {
      "image/png": "[encoded data removed]",
      "text/plain": [
       "<Figure size 432x288 with 1 Axes>"
      ]
     },
     "metadata": {
      "needs_background": "light"
     },
     "output_type": "display_data"
    }
   ],
   "source": [
    "reg = grid.best_estimator_['hist_gbr']\n",
    "plt.plot(range(reg.n_iter_), np.log10(-1* reg.train_score_[1:]))\n",
    "plt.plot(range(reg.n_iter_), np.log10(-1* reg.validation_score_[1:]))"
   ]
  },
  {
   "cell_type": "code",
   "execution_count": 37,
   "id": "62e306ae",
   "metadata": {},
   "outputs": [
    {
     "data": {
      "text/plain": [
       "[<matplotlib.lines.Line2D at 0x7f39ec1fcfa0>]"
      ]
     },
     "execution_count": 37,
     "metadata": {},
     "output_type": "execute_result"
    },
    {
     "data": {
      "image/png": "[encoded data removed]",
      "text/plain": [
       "<Figure size 432x288 with 1 Axes>"
      ]
     },
     "metadata": {
      "needs_background": "light"
     },
     "output_type": "display_data"
    }
   ],
   "source": [
    "reg = grid.best_estimator_['hist_gbr']\n",
    "plt.plot(range(reg.n_iter_), (-1* reg.train_score_[1:]))\n",
    "plt.plot(range(reg.n_iter_), (-1* reg.validation_score_[1:]))"
   ]
  },
  {
   "cell_type": "code",
   "execution_count": 38,
   "id": "3f74aee7",
   "metadata": {},
   "outputs": [
    {
     "data": {
      "text/html": [
       "<div>\n",
       "<style scoped>\n",
       "    .dataframe tbody tr th:only-of-type {\n",
       "        vertical-align: middle;\n",
       "    }\n",
       "\n",
       "    .dataframe tbody tr th {\n",
       "        vertical-align: top;\n",
       "    }\n",
       "\n",
       "    .dataframe thead th {\n",
       "        text-align: right;\n",
       "    }\n",
       "</style>\n",
       "<table border=\"1\" class=\"dataframe\">\n",
       "  <thead>\n",
       "    <tr style=\"text-align: right;\">\n",
       "      <th></th>\n",
       "      <th>plant_id_eia</th>\n",
       "      <th>energy_source_code</th>\n",
       "      <th>fuel_cost_per_mmbtu</th>\n",
       "      <th>fuel_mmbtu_per_unit</th>\n",
       "      <th>state</th>\n",
       "      <th>fuel_group_eiaepm</th>\n",
       "      <th>elapsed_days</th>\n",
       "      <th>report_month</th>\n",
       "      <th>census_region</th>\n",
       "      <th>fuel_received_mmbtu</th>\n",
       "      <th>predict</th>\n",
       "      <th>error</th>\n",
       "      <th>rel_error</th>\n",
       "    </tr>\n",
       "  </thead>\n",
       "  <tbody>\n",
       "    <tr>\n",
       "      <th>0</th>\n",
       "      <td>3</td>\n",
       "      <td>BIT</td>\n",
       "      <td>2.135</td>\n",
       "      <td>23.100</td>\n",
       "      <td>AL</td>\n",
       "      <td>coal</td>\n",
       "      <td>0</td>\n",
       "      <td>1</td>\n",
       "      <td>ESC</td>\n",
       "      <td>5992417.200</td>\n",
       "      <td>2.134849</td>\n",
       "      <td>-0.000151</td>\n",
       "      <td>-0.000071</td>\n",
       "    </tr>\n",
       "    <tr>\n",
       "      <th>1</th>\n",
       "      <td>3</td>\n",
       "      <td>BIT</td>\n",
       "      <td>2.115</td>\n",
       "      <td>22.800</td>\n",
       "      <td>AL</td>\n",
       "      <td>coal</td>\n",
       "      <td>0</td>\n",
       "      <td>1</td>\n",
       "      <td>ESC</td>\n",
       "      <td>1191094.800</td>\n",
       "      <td>2.228322</td>\n",
       "      <td>0.113322</td>\n",
       "      <td>0.053580</td>\n",
       "    </tr>\n",
       "    <tr>\n",
       "      <th>2</th>\n",
       "      <td>3</td>\n",
       "      <td>NG</td>\n",
       "      <td>8.631</td>\n",
       "      <td>1.039</td>\n",
       "      <td>AL</td>\n",
       "      <td>natural_gas</td>\n",
       "      <td>0</td>\n",
       "      <td>1</td>\n",
       "      <td>ESC</td>\n",
       "      <td>2892180.141</td>\n",
       "      <td>8.641805</td>\n",
       "      <td>0.010805</td>\n",
       "      <td>0.001252</td>\n",
       "    </tr>\n",
       "    <tr>\n",
       "      <th>3</th>\n",
       "      <td>7</td>\n",
       "      <td>BIT</td>\n",
       "      <td>2.776</td>\n",
       "      <td>24.610</td>\n",
       "      <td>AL</td>\n",
       "      <td>coal</td>\n",
       "      <td>0</td>\n",
       "      <td>1</td>\n",
       "      <td>ESC</td>\n",
       "      <td>625020.170</td>\n",
       "      <td>2.560268</td>\n",
       "      <td>-0.215732</td>\n",
       "      <td>-0.077713</td>\n",
       "    </tr>\n",
       "    <tr>\n",
       "      <th>4</th>\n",
       "      <td>7</td>\n",
       "      <td>BIT</td>\n",
       "      <td>3.381</td>\n",
       "      <td>24.446</td>\n",
       "      <td>AL</td>\n",
       "      <td>coal</td>\n",
       "      <td>0</td>\n",
       "      <td>1</td>\n",
       "      <td>ESC</td>\n",
       "      <td>18676.744</td>\n",
       "      <td>2.243066</td>\n",
       "      <td>-1.137934</td>\n",
       "      <td>-0.336567</td>\n",
       "    </tr>\n",
       "    <tr>\n",
       "      <th>...</th>\n",
       "      <td>...</td>\n",
       "      <td>...</td>\n",
       "      <td>...</td>\n",
       "      <td>...</td>\n",
       "      <td>...</td>\n",
       "      <td>...</td>\n",
       "      <td>...</td>\n",
       "      <td>...</td>\n",
       "      <td>...</td>\n",
       "      <td>...</td>\n",
       "      <td>...</td>\n",
       "      <td>...</td>\n",
       "      <td>...</td>\n",
       "    </tr>\n",
       "    <tr>\n",
       "      <th>571391</th>\n",
       "      <td>60927</td>\n",
       "      <td>NG</td>\n",
       "      <td>3.101</td>\n",
       "      <td>1.025</td>\n",
       "      <td>LA</td>\n",
       "      <td>natural_gas</td>\n",
       "      <td>4718</td>\n",
       "      <td>12</td>\n",
       "      <td>WSC</td>\n",
       "      <td>2392705.675</td>\n",
       "      <td>3.218809</td>\n",
       "      <td>0.117809</td>\n",
       "      <td>0.037991</td>\n",
       "    </tr>\n",
       "    <tr>\n",
       "      <th>571392</th>\n",
       "      <td>60927</td>\n",
       "      <td>NG</td>\n",
       "      <td>2.728</td>\n",
       "      <td>1.014</td>\n",
       "      <td>LA</td>\n",
       "      <td>natural_gas</td>\n",
       "      <td>4718</td>\n",
       "      <td>12</td>\n",
       "      <td>WSC</td>\n",
       "      <td>81995.082</td>\n",
       "      <td>3.137387</td>\n",
       "      <td>0.409387</td>\n",
       "      <td>0.150069</td>\n",
       "    </tr>\n",
       "    <tr>\n",
       "      <th>571393</th>\n",
       "      <td>60928</td>\n",
       "      <td>NG</td>\n",
       "      <td>2.576</td>\n",
       "      <td>1.020</td>\n",
       "      <td>LA</td>\n",
       "      <td>natural_gas</td>\n",
       "      <td>4718</td>\n",
       "      <td>12</td>\n",
       "      <td>WSC</td>\n",
       "      <td>86226.720</td>\n",
       "      <td>3.136702</td>\n",
       "      <td>0.560702</td>\n",
       "      <td>0.217664</td>\n",
       "    </tr>\n",
       "    <tr>\n",
       "      <th>571396</th>\n",
       "      <td>61643</td>\n",
       "      <td>NG</td>\n",
       "      <td>3.058</td>\n",
       "      <td>1.000</td>\n",
       "      <td>TX</td>\n",
       "      <td>natural_gas</td>\n",
       "      <td>4718</td>\n",
       "      <td>12</td>\n",
       "      <td>WSC</td>\n",
       "      <td>61368.000</td>\n",
       "      <td>3.007434</td>\n",
       "      <td>-0.050566</td>\n",
       "      <td>-0.016536</td>\n",
       "    </tr>\n",
       "    <tr>\n",
       "      <th>571399</th>\n",
       "      <td>64020</td>\n",
       "      <td>NG</td>\n",
       "      <td>3.025</td>\n",
       "      <td>1.054</td>\n",
       "      <td>WI</td>\n",
       "      <td>natural_gas</td>\n",
       "      <td>4718</td>\n",
       "      <td>12</td>\n",
       "      <td>ENC</td>\n",
       "      <td>2397102.714</td>\n",
       "      <td>3.206759</td>\n",
       "      <td>0.181759</td>\n",
       "      <td>0.060086</td>\n",
       "    </tr>\n",
       "  </tbody>\n",
       "</table>\n",
       "<p>381423 rows × 13 columns</p>\n",
       "</div>"
      ],
      "text/plain": [
       "        plant_id_eia energy_source_code  fuel_cost_per_mmbtu  fuel_mmbtu_per_unit state fuel_group_eiaepm  elapsed_days  report_month census_region  fuel_received_mmbtu   predict     error  rel_error\n",
       "0                  3                BIT                2.135               23.100    AL              coal             0             1           ESC          5992417.200  2.134849 -0.000151  -0.000071\n",
       "1                  3                BIT                2.115               22.800    AL              coal             0             1           ESC          1191094.800  2.228322  0.113322   0.053580\n",
       "2                  3                 NG                8.631                1.039    AL       natural_gas             0             1           ESC          2892180.141  8.641805  0.010805   0.001252\n",
       "3                  7                BIT                2.776               24.610    AL              coal             0             1           ESC           625020.170  2.560268 -0.215732  -0.077713\n",
       "4                  7                BIT                3.381               24.446    AL              coal             0             1           ESC            18676.744  2.243066 -1.137934  -0.336567\n",
       "...              ...                ...                  ...                  ...   ...               ...           ...           ...           ...                  ...       ...       ...        ...\n",
       "571391         60927                 NG                3.101                1.025    LA       natural_gas          4718            12           WSC          2392705.675  3.218809  0.117809   0.037991\n",
       "571392         60927                 NG                2.728                1.014    LA       natural_gas          4718            12           WSC            81995.082  3.137387  0.409387   0.150069\n",
       "571393         60928                 NG                2.576                1.020    LA       natural_gas          4718            12           WSC            86226.720  3.136702  0.560702   0.217664\n",
       "571396         61643                 NG                3.058                1.000    TX       natural_gas          4718            12           WSC            61368.000  3.007434 -0.050566  -0.016536\n",
       "571399         64020                 NG                3.025                1.054    WI       natural_gas          4718            12           ENC          2397102.714  3.206759  0.181759   0.060086\n",
       "\n",
       "[381423 rows x 13 columns]"
      ]
     },
     "execution_count": 38,
     "metadata": {},
     "output_type": "execute_result"
    }
   ],
   "source": [
    "predicted_fuel_costs = grid.best_estimator_.predict(X=frc_train_test[cat_cols+num_cols])\n",
    "frc_predicted = (\n",
    "    frc_train_test.copy()\n",
    "    .assign(predict=predicted_fuel_costs)\n",
    ")\n",
    "frc_predicted['error'] = frc_predicted['predict'] - frc_predicted['fuel_cost_per_mmbtu']\n",
    "frc_predicted['rel_error'] = frc_predicted['error'] / frc_predicted['fuel_cost_per_mmbtu']\n",
    "\n",
    "frc_predicted"
   ]
  },
  {
   "cell_type": "code",
   "execution_count": 39,
   "id": "2c52bcc4",
   "metadata": {},
   "outputs": [
    {
     "data": {
      "text/plain": [
       "8.162486506463205"
      ]
     },
     "execution_count": 39,
     "metadata": {},
     "output_type": "execute_result"
    }
   ],
   "source": [
    "frc_predicted['error'].abs().mean()"
   ]
  },
  {
   "cell_type": "code",
   "execution_count": 40,
   "id": "9db8777f",
   "metadata": {},
   "outputs": [
    {
     "data": {
      "text/plain": [
       "<AxesSubplot:>"
      ]
     },
     "execution_count": 40,
     "metadata": {},
     "output_type": "execute_result"
    },
    {
     "data": {
      "image/png": "[encoded data removed]",
      "text/plain": [
       "<Figure size 432x288 with 1 Axes>"
      ]
     },
     "metadata": {
      "needs_background": "light"
     },
     "output_type": "display_data"
    }
   ],
   "source": [
    "frc_predicted['error'].hist(bins=200, range=(-10,10))"
   ]
  },
  {
   "cell_type": "code",
   "execution_count": 41,
   "id": "a54bb865",
   "metadata": {},
   "outputs": [
    {
     "data": {
      "text/plain": [
       "<AxesSubplot:>"
      ]
     },
     "execution_count": 41,
     "metadata": {},
     "output_type": "execute_result"
    },
    {
     "data": {
      "image/png": "[encoded data removed]",
      "text/plain": [
       "<Figure size 432x288 with 1 Axes>"
      ]
     },
     "metadata": {
      "needs_background": "light"
     },
     "output_type": "display_data"
    }
   ],
   "source": [
    "frc_predicted['rel_error'].hist(bins=200, range=(-1,1))"
   ]
  },
  {
   "cell_type": "code",
   "execution_count": 42,
   "id": "214dbc70",
   "metadata": {},
   "outputs": [
    {
     "data": {
      "text/plain": [
       "count    381423.000000\n",
       "mean         -0.008655\n",
       "std           0.961217\n",
       "min         -95.155494\n",
       "25%          -0.097233\n",
       "50%          -0.008785\n",
       "75%           0.063695\n",
       "max         246.544517\n",
       "Name: rel_error, dtype: float64"
      ]
     },
     "execution_count": 42,
     "metadata": {},
     "output_type": "execute_result"
    }
   ],
   "source": [
    "frc_predicted['rel_error'].describe()"
   ]
  },
  {
   "cell_type": "code",
   "execution_count": 44,
   "id": "c9320409",
   "metadata": {},
   "outputs": [
    {
     "data": {
      "text/plain": [
       "count    381423.000000\n",
       "mean         -7.759143\n",
       "std         910.056722\n",
       "min     -330989.516633\n",
       "25%          -0.384855\n",
       "50%          -0.025235\n",
       "75%           0.186839\n",
       "max          74.463018\n",
       "Name: error, dtype: float64"
      ]
     },
     "execution_count": 44,
     "metadata": {},
     "output_type": "execute_result"
    }
   ],
   "source": [
    "frc_predicted['error'].describe()"
   ]
  },
  {
   "cell_type": "code",
   "execution_count": 20,
   "id": "11ae265c",
   "metadata": {},
   "outputs": [
    {
     "data": {
      "text/plain": [
       "plant_id_eia                 55306\n",
       "energy_source_code              NG\n",
       "fuel_cost_per_mmbtu      330991.58\n",
       "fuel_mmbtu_per_unit          1.035\n",
       "state                           AZ\n",
       "fuel_group_eiaepm      natural_gas\n",
       "elapsed_days                  4657\n",
       "report_month                    10\n",
       "census_region                  MTN\n",
       "fuel_received_mmbtu         58.995\n",
       "Name: 565079, dtype: object"
      ]
     },
     "execution_count": 20,
     "metadata": {},
     "output_type": "execute_result"
    }
   ],
   "source": [
    "frc.loc[frc['fuel_cost_per_mmbtu'].idxmax(),:]"
   ]
  },
  {
   "cell_type": "code",
   "execution_count": 45,
   "id": "441a63da",
   "metadata": {},
   "outputs": [
    {
     "data": {
      "text/plain": [
       "<AxesSubplot:xlabel='fuel_cost_per_mmbtu', ylabel='predict'>"
      ]
     },
     "execution_count": 45,
     "metadata": {},
     "output_type": "execute_result"
    },
    {
     "data": {
      "image/png": "[encoded data removed]",
      "text/plain": [
       "<Figure size 432x432 with 1 Axes>"
      ]
     },
     "metadata": {
      "needs_background": "light"
     },
     "output_type": "display_data"
    }
   ],
   "source": [
    "frc_predicted.sample(20_000).plot.scatter(\n",
    "    x='fuel_cost_per_mmbtu',\n",
    "    y='predict',\n",
    "    figsize=(6,6),\n",
    "    xlim=(-1,10),\n",
    "    ylim=(-1,10),\n",
    "    s=1,\n",
    "    alpha=0.1\n",
    ")"
   ]
  },
  {
   "cell_type": "code",
   "execution_count": 46,
   "id": "ede80e32",
   "metadata": {},
   "outputs": [
    {
     "data": {
      "text/plain": [
       "<AxesSubplot:>"
      ]
     },
     "execution_count": 46,
     "metadata": {},
     "output_type": "execute_result"
    },
    {
     "data": {
      "image/png": "[encoded data removed]",
      "text/plain": [
       "<Figure size 864x288 with 1 Axes>"
      ]
     },
     "metadata": {
      "needs_background": "light"
     },
     "output_type": "display_data"
    }
   ],
   "source": [
    "ar_coal = frc_predicted.loc[frc_predicted['state'].eq('AR') & frc_predicted['fuel_group_eiaepm'].eq('coal'),:]\n",
    "hist_params = dict(range=(0,4), bins=100, figsize=(12,4), alpha=0.5)\n",
    "ar_coal['fuel_cost_per_mmbtu'].hist(**hist_params) # Reported\n",
    "ar_coal['predict'].hist(**hist_params) # predicted"
   ]
  },
  {
   "cell_type": "code",
   "execution_count": 47,
   "id": "55aa52c2",
   "metadata": {},
   "outputs": [
    {
     "data": {
      "text/plain": [
       "<AxesSubplot:>"
      ]
     },
     "execution_count": 47,
     "metadata": {},
     "output_type": "execute_result"
    },
    {
     "data": {
      "image/png": "[encoded data removed]",
      "text/plain": [
       "<Figure size 864x288 with 1 Axes>"
      ]
     },
     "metadata": {
      "needs_background": "light"
     },
     "output_type": "display_data"
    }
   ],
   "source": [
    "hist_params = dict(range=(0,4), bins=100, figsize=(12,4), alpha=0.5, weights=ar_coal['fuel_received_mmbtu'])\n",
    "ar_coal['fuel_cost_per_mmbtu'].hist(**hist_params) # Reported\n",
    "ar_coal['predict'].hist(**hist_params) # predicted"
   ]
  },
  {
   "cell_type": "markdown",
   "id": "58d7cde3",
   "metadata": {},
   "source": [
    "# Feature Importance"
   ]
  },
  {
   "cell_type": "code",
   "execution_count": 48,
   "id": "2d1c7a80",
   "metadata": {},
   "outputs": [],
   "source": [
    "from sklearn.inspection import permutation_importance"
   ]
  },
  {
   "cell_type": "code",
   "execution_count": 49,
   "id": "c9dfe55d",
   "metadata": {},
   "outputs": [
    {
     "name": "stdout",
     "output_type": "stream",
     "text": [
      "CPU times: user 1min 43s, sys: 215 ms, total: 1min 44s\n",
      "Wall time: 36.4 s\n"
     ]
    }
   ],
   "source": [
    "%%time\n",
    "imp = permutation_importance(grid.best_estimator_,\n",
    "                             X=frc_train_test[cat_cols+num_cols],\n",
    "                             y=frc_train_test['fuel_cost_per_mmbtu'],\n",
    "                             scoring='neg_median_absolute_error',\n",
    "                             random_state=42,\n",
    "                             n_repeats=5,\n",
    "                             max_samples=0.1\n",
    "                            )"
   ]
  },
  {
   "cell_type": "code",
   "execution_count": 50,
   "id": "cef3b27b",
   "metadata": {},
   "outputs": [
    {
     "data": {
      "text/plain": [
       "<BarContainer object of 6 artists>"
      ]
     },
     "execution_count": 50,
     "metadata": {},
     "output_type": "execute_result"
    },
    {
     "data": {
      "image/png": "[encoded data removed]",
      "text/plain": [
       "<Figure size 432x288 with 1 Axes>"
      ]
     },
     "metadata": {
      "needs_background": "light"
     },
     "output_type": "display_data"
    }
   ],
   "source": [
    "plt.barh(range(len(cat_cols+num_cols)), imp.importances_mean, xerr=imp.importances_std, tick_label=cat_cols+num_cols)"
   ]
  },
  {
   "cell_type": "markdown",
   "id": "0121378f",
   "metadata": {},
   "source": [
    "# External Validation"
   ]
  },
  {
   "cell_type": "code",
   "execution_count": 114,
   "id": "ef74b687",
   "metadata": {},
   "outputs": [],
   "source": [
    "eia_epm_state = pd.read_csv('./eia_epm_prices_states.csv', parse_dates=['date'])\n",
    "eia_epm_regional = pd.read_csv('./eia_epm_prices_regions.csv', parse_dates=['date'])\n",
    "eia_epm_national = pd.read_csv('./eia_epm_prices_national.csv', parse_dates=['date'])"
   ]
  },
  {
   "cell_type": "code",
   "execution_count": 115,
   "id": "53e4ca2b",
   "metadata": {},
   "outputs": [],
   "source": [
    "# harmonize categories\n",
    "for df in [eia_epm_state, eia_epm_regional, eia_epm_national]:\n",
    "    df['fuel'] = df['fuel'].replace({'gas': 'natural_gas', 'petcoke': 'petroleum_coke', 'oil': 'petroleum'})"
   ]
  },
  {
   "cell_type": "code",
   "execution_count": 58,
   "id": "32477e42",
   "metadata": {},
   "outputs": [],
   "source": [
    "from pudl.metadata.enums import STATE_TO_CENSUS_REGION, US_STATES_TERRITORIES"
   ]
  },
  {
   "cell_type": "code",
   "execution_count": 73,
   "id": "8f6fb426",
   "metadata": {
    "scrolled": true
   },
   "outputs": [],
   "source": [
    "state_mappings = pd.Series(STATE_TO_CENSUS_REGION, name='census_region_abbrev').to_frame().reset_index().rename(columns={'index': 'state_abbrev'})\n",
    "state_mappings['state_name'] = state_mappings['state_abbrev'].map(US_STATES_TERRITORIES)"
   ]
  },
  {
   "cell_type": "code",
   "execution_count": 74,
   "id": "af14c5ee",
   "metadata": {},
   "outputs": [],
   "source": [
    "census_names_map = {\n",
    "    'ENC': 'East North Central',\n",
    "    'ESC': 'East South Central',\n",
    "    'MAT': 'Middle Atlantic',\n",
    "    'MTN': 'Mountain',\n",
    "    'NEW': 'New England',\n",
    "    'PCC': 'Pacific Contiguous',\n",
    "    'PCN': 'Pacific Noncontiguous',\n",
    "    'SAT': 'South Atlantic',\n",
    "    'WNC': 'West North Central',\n",
    "    'WSC': 'West South Central',\n",
    "}"
   ]
  },
  {
   "cell_type": "code",
   "execution_count": 75,
   "id": "4d22e5f0",
   "metadata": {},
   "outputs": [],
   "source": [
    "state_mappings['region_name'] = state_mappings['census_region_abbrev'].map(census_names_map)"
   ]
  },
  {
   "cell_type": "code",
   "execution_count": 80,
   "id": "be2b36e5",
   "metadata": {
    "scrolled": true
   },
   "outputs": [
    {
     "data": {
      "text/html": [
       "<div>\n",
       "<style scoped>\n",
       "    .dataframe tbody tr th:only-of-type {\n",
       "        vertical-align: middle;\n",
       "    }\n",
       "\n",
       "    .dataframe tbody tr th {\n",
       "        vertical-align: top;\n",
       "    }\n",
       "\n",
       "    .dataframe thead th {\n",
       "        text-align: right;\n",
       "    }\n",
       "</style>\n",
       "<table border=\"1\" class=\"dataframe\">\n",
       "  <thead>\n",
       "    <tr style=\"text-align: right;\">\n",
       "      <th></th>\n",
       "      <th>state_abbrev</th>\n",
       "      <th>census_region_abbrev</th>\n",
       "      <th>state_name</th>\n",
       "      <th>region_name</th>\n",
       "    </tr>\n",
       "  </thead>\n",
       "  <tbody>\n",
       "    <tr>\n",
       "      <th>0</th>\n",
       "      <td>WI</td>\n",
       "      <td>ENC</td>\n",
       "      <td>Wisconsin</td>\n",
       "      <td>East North Central</td>\n",
       "    </tr>\n",
       "    <tr>\n",
       "      <th>1</th>\n",
       "      <td>MI</td>\n",
       "      <td>ENC</td>\n",
       "      <td>Michigan</td>\n",
       "      <td>East North Central</td>\n",
       "    </tr>\n",
       "    <tr>\n",
       "      <th>2</th>\n",
       "      <td>IL</td>\n",
       "      <td>ENC</td>\n",
       "      <td>Illinois</td>\n",
       "      <td>East North Central</td>\n",
       "    </tr>\n",
       "    <tr>\n",
       "      <th>3</th>\n",
       "      <td>IN</td>\n",
       "      <td>ENC</td>\n",
       "      <td>Indiana</td>\n",
       "      <td>East North Central</td>\n",
       "    </tr>\n",
       "    <tr>\n",
       "      <th>4</th>\n",
       "      <td>OH</td>\n",
       "      <td>ENC</td>\n",
       "      <td>Ohio</td>\n",
       "      <td>East North Central</td>\n",
       "    </tr>\n",
       "    <tr>\n",
       "      <th>5</th>\n",
       "      <td>KY</td>\n",
       "      <td>ESC</td>\n",
       "      <td>Kentucky</td>\n",
       "      <td>East South Central</td>\n",
       "    </tr>\n",
       "    <tr>\n",
       "      <th>6</th>\n",
       "      <td>TN</td>\n",
       "      <td>ESC</td>\n",
       "      <td>Tennessee</td>\n",
       "      <td>East South Central</td>\n",
       "    </tr>\n",
       "    <tr>\n",
       "      <th>7</th>\n",
       "      <td>MS</td>\n",
       "      <td>ESC</td>\n",
       "      <td>Mississippi</td>\n",
       "      <td>East South Central</td>\n",
       "    </tr>\n",
       "    <tr>\n",
       "      <th>8</th>\n",
       "      <td>AL</td>\n",
       "      <td>ESC</td>\n",
       "      <td>Alabama</td>\n",
       "      <td>East South Central</td>\n",
       "    </tr>\n",
       "    <tr>\n",
       "      <th>9</th>\n",
       "      <td>NY</td>\n",
       "      <td>MAT</td>\n",
       "      <td>New York</td>\n",
       "      <td>Middle Atlantic</td>\n",
       "    </tr>\n",
       "    <tr>\n",
       "      <th>10</th>\n",
       "      <td>PA</td>\n",
       "      <td>MAT</td>\n",
       "      <td>Pennsylvania</td>\n",
       "      <td>Middle Atlantic</td>\n",
       "    </tr>\n",
       "    <tr>\n",
       "      <th>11</th>\n",
       "      <td>NJ</td>\n",
       "      <td>MAT</td>\n",
       "      <td>New Jersey</td>\n",
       "      <td>Middle Atlantic</td>\n",
       "    </tr>\n",
       "    <tr>\n",
       "      <th>12</th>\n",
       "      <td>MT</td>\n",
       "      <td>MTN</td>\n",
       "      <td>Montana</td>\n",
       "      <td>Mountain</td>\n",
       "    </tr>\n",
       "    <tr>\n",
       "      <th>13</th>\n",
       "      <td>ID</td>\n",
       "      <td>MTN</td>\n",
       "      <td>Idaho</td>\n",
       "      <td>Mountain</td>\n",
       "    </tr>\n",
       "    <tr>\n",
       "      <th>14</th>\n",
       "      <td>WY</td>\n",
       "      <td>MTN</td>\n",
       "      <td>Wyoming</td>\n",
       "      <td>Mountain</td>\n",
       "    </tr>\n",
       "    <tr>\n",
       "      <th>15</th>\n",
       "      <td>NV</td>\n",
       "      <td>MTN</td>\n",
       "      <td>Nevada</td>\n",
       "      <td>Mountain</td>\n",
       "    </tr>\n",
       "    <tr>\n",
       "      <th>16</th>\n",
       "      <td>UT</td>\n",
       "      <td>MTN</td>\n",
       "      <td>Utah</td>\n",
       "      <td>Mountain</td>\n",
       "    </tr>\n",
       "    <tr>\n",
       "      <th>17</th>\n",
       "      <td>CO</td>\n",
       "      <td>MTN</td>\n",
       "      <td>Colorado</td>\n",
       "      <td>Mountain</td>\n",
       "    </tr>\n",
       "    <tr>\n",
       "      <th>18</th>\n",
       "      <td>AZ</td>\n",
       "      <td>MTN</td>\n",
       "      <td>Arizona</td>\n",
       "      <td>Mountain</td>\n",
       "    </tr>\n",
       "    <tr>\n",
       "      <th>19</th>\n",
       "      <td>NM</td>\n",
       "      <td>MTN</td>\n",
       "      <td>New Mexico</td>\n",
       "      <td>Mountain</td>\n",
       "    </tr>\n",
       "    <tr>\n",
       "      <th>20</th>\n",
       "      <td>ME</td>\n",
       "      <td>NEW</td>\n",
       "      <td>Maine</td>\n",
       "      <td>New England</td>\n",
       "    </tr>\n",
       "    <tr>\n",
       "      <th>21</th>\n",
       "      <td>VT</td>\n",
       "      <td>NEW</td>\n",
       "      <td>Vermont</td>\n",
       "      <td>New England</td>\n",
       "    </tr>\n",
       "    <tr>\n",
       "      <th>22</th>\n",
       "      <td>NH</td>\n",
       "      <td>NEW</td>\n",
       "      <td>New Hampshire</td>\n",
       "      <td>New England</td>\n",
       "    </tr>\n",
       "    <tr>\n",
       "      <th>23</th>\n",
       "      <td>MA</td>\n",
       "      <td>NEW</td>\n",
       "      <td>Massachusetts</td>\n",
       "      <td>New England</td>\n",
       "    </tr>\n",
       "    <tr>\n",
       "      <th>24</th>\n",
       "      <td>CT</td>\n",
       "      <td>NEW</td>\n",
       "      <td>Connecticut</td>\n",
       "      <td>New England</td>\n",
       "    </tr>\n",
       "    <tr>\n",
       "      <th>25</th>\n",
       "      <td>RI</td>\n",
       "      <td>NEW</td>\n",
       "      <td>Rhode Island</td>\n",
       "      <td>New England</td>\n",
       "    </tr>\n",
       "    <tr>\n",
       "      <th>26</th>\n",
       "      <td>CA</td>\n",
       "      <td>PCC</td>\n",
       "      <td>California</td>\n",
       "      <td>Pacific Contiguous</td>\n",
       "    </tr>\n",
       "    <tr>\n",
       "      <th>27</th>\n",
       "      <td>OR</td>\n",
       "      <td>PCC</td>\n",
       "      <td>Oregon</td>\n",
       "      <td>Pacific Contiguous</td>\n",
       "    </tr>\n",
       "    <tr>\n",
       "      <th>28</th>\n",
       "      <td>WA</td>\n",
       "      <td>PCC</td>\n",
       "      <td>Washington</td>\n",
       "      <td>Pacific Contiguous</td>\n",
       "    </tr>\n",
       "    <tr>\n",
       "      <th>29</th>\n",
       "      <td>AK</td>\n",
       "      <td>PCN</td>\n",
       "      <td>Alaska</td>\n",
       "      <td>Pacific Noncontiguous</td>\n",
       "    </tr>\n",
       "    <tr>\n",
       "      <th>30</th>\n",
       "      <td>HI</td>\n",
       "      <td>PCN</td>\n",
       "      <td>Hawaii</td>\n",
       "      <td>Pacific Noncontiguous</td>\n",
       "    </tr>\n",
       "    <tr>\n",
       "      <th>31</th>\n",
       "      <td>WV</td>\n",
       "      <td>SAT</td>\n",
       "      <td>West Virginia</td>\n",
       "      <td>South Atlantic</td>\n",
       "    </tr>\n",
       "    <tr>\n",
       "      <th>32</th>\n",
       "      <td>MD</td>\n",
       "      <td>SAT</td>\n",
       "      <td>Maryland</td>\n",
       "      <td>South Atlantic</td>\n",
       "    </tr>\n",
       "    <tr>\n",
       "      <th>33</th>\n",
       "      <td>DE</td>\n",
       "      <td>SAT</td>\n",
       "      <td>Delaware</td>\n",
       "      <td>South Atlantic</td>\n",
       "    </tr>\n",
       "    <tr>\n",
       "      <th>34</th>\n",
       "      <td>DC</td>\n",
       "      <td>SAT</td>\n",
       "      <td>District of Columbia</td>\n",
       "      <td>South Atlantic</td>\n",
       "    </tr>\n",
       "    <tr>\n",
       "      <th>35</th>\n",
       "      <td>VA</td>\n",
       "      <td>SAT</td>\n",
       "      <td>Virginia</td>\n",
       "      <td>South Atlantic</td>\n",
       "    </tr>\n",
       "    <tr>\n",
       "      <th>36</th>\n",
       "      <td>NC</td>\n",
       "      <td>SAT</td>\n",
       "      <td>North Carolina</td>\n",
       "      <td>South Atlantic</td>\n",
       "    </tr>\n",
       "    <tr>\n",
       "      <th>37</th>\n",
       "      <td>SC</td>\n",
       "      <td>SAT</td>\n",
       "      <td>South Carolina</td>\n",
       "      <td>South Atlantic</td>\n",
       "    </tr>\n",
       "    <tr>\n",
       "      <th>38</th>\n",
       "      <td>GA</td>\n",
       "      <td>SAT</td>\n",
       "      <td>Georgia</td>\n",
       "      <td>South Atlantic</td>\n",
       "    </tr>\n",
       "    <tr>\n",
       "      <th>39</th>\n",
       "      <td>FL</td>\n",
       "      <td>SAT</td>\n",
       "      <td>Florida</td>\n",
       "      <td>South Atlantic</td>\n",
       "    </tr>\n",
       "    <tr>\n",
       "      <th>40</th>\n",
       "      <td>ND</td>\n",
       "      <td>WNC</td>\n",
       "      <td>North Dakota</td>\n",
       "      <td>West North Central</td>\n",
       "    </tr>\n",
       "    <tr>\n",
       "      <th>41</th>\n",
       "      <td>SD</td>\n",
       "      <td>WNC</td>\n",
       "      <td>South Dakota</td>\n",
       "      <td>West North Central</td>\n",
       "    </tr>\n",
       "    <tr>\n",
       "      <th>42</th>\n",
       "      <td>MN</td>\n",
       "      <td>WNC</td>\n",
       "      <td>Minnesota</td>\n",
       "      <td>West North Central</td>\n",
       "    </tr>\n",
       "    <tr>\n",
       "      <th>43</th>\n",
       "      <td>IA</td>\n",
       "      <td>WNC</td>\n",
       "      <td>Iowa</td>\n",
       "      <td>West North Central</td>\n",
       "    </tr>\n",
       "    <tr>\n",
       "      <th>44</th>\n",
       "      <td>NE</td>\n",
       "      <td>WNC</td>\n",
       "      <td>Nebraska</td>\n",
       "      <td>West North Central</td>\n",
       "    </tr>\n",
       "    <tr>\n",
       "      <th>45</th>\n",
       "      <td>KS</td>\n",
       "      <td>WNC</td>\n",
       "      <td>Kansas</td>\n",
       "      <td>West North Central</td>\n",
       "    </tr>\n",
       "    <tr>\n",
       "      <th>46</th>\n",
       "      <td>MO</td>\n",
       "      <td>WNC</td>\n",
       "      <td>Missouri</td>\n",
       "      <td>West North Central</td>\n",
       "    </tr>\n",
       "    <tr>\n",
       "      <th>47</th>\n",
       "      <td>OK</td>\n",
       "      <td>WSC</td>\n",
       "      <td>Oklahoma</td>\n",
       "      <td>West South Central</td>\n",
       "    </tr>\n",
       "    <tr>\n",
       "      <th>48</th>\n",
       "      <td>AR</td>\n",
       "      <td>WSC</td>\n",
       "      <td>Arkansas</td>\n",
       "      <td>West South Central</td>\n",
       "    </tr>\n",
       "    <tr>\n",
       "      <th>49</th>\n",
       "      <td>TX</td>\n",
       "      <td>WSC</td>\n",
       "      <td>Texas</td>\n",
       "      <td>West South Central</td>\n",
       "    </tr>\n",
       "    <tr>\n",
       "      <th>50</th>\n",
       "      <td>LA</td>\n",
       "      <td>WSC</td>\n",
       "      <td>Louisiana</td>\n",
       "      <td>West South Central</td>\n",
       "    </tr>\n",
       "  </tbody>\n",
       "</table>\n",
       "</div>"
      ],
      "text/plain": [
       "   state_abbrev census_region_abbrev            state_name            region_name\n",
       "0            WI                  ENC             Wisconsin     East North Central\n",
       "1            MI                  ENC              Michigan     East North Central\n",
       "2            IL                  ENC              Illinois     East North Central\n",
       "3            IN                  ENC               Indiana     East North Central\n",
       "4            OH                  ENC                  Ohio     East North Central\n",
       "5            KY                  ESC              Kentucky     East South Central\n",
       "6            TN                  ESC             Tennessee     East South Central\n",
       "7            MS                  ESC           Mississippi     East South Central\n",
       "8            AL                  ESC               Alabama     East South Central\n",
       "9            NY                  MAT              New York        Middle Atlantic\n",
       "10           PA                  MAT          Pennsylvania        Middle Atlantic\n",
       "11           NJ                  MAT            New Jersey        Middle Atlantic\n",
       "12           MT                  MTN               Montana               Mountain\n",
       "13           ID                  MTN                 Idaho               Mountain\n",
       "14           WY                  MTN               Wyoming               Mountain\n",
       "15           NV                  MTN                Nevada               Mountain\n",
       "16           UT                  MTN                  Utah               Mountain\n",
       "17           CO                  MTN              Colorado               Mountain\n",
       "18           AZ                  MTN               Arizona               Mountain\n",
       "19           NM                  MTN            New Mexico               Mountain\n",
       "20           ME                  NEW                 Maine            New England\n",
       "21           VT                  NEW               Vermont            New England\n",
       "22           NH                  NEW         New Hampshire            New England\n",
       "23           MA                  NEW         Massachusetts            New England\n",
       "24           CT                  NEW           Connecticut            New England\n",
       "25           RI                  NEW          Rhode Island            New England\n",
       "26           CA                  PCC            California     Pacific Contiguous\n",
       "27           OR                  PCC                Oregon     Pacific Contiguous\n",
       "28           WA                  PCC            Washington     Pacific Contiguous\n",
       "29           AK                  PCN                Alaska  Pacific Noncontiguous\n",
       "30           HI                  PCN                Hawaii  Pacific Noncontiguous\n",
       "31           WV                  SAT         West Virginia         South Atlantic\n",
       "32           MD                  SAT              Maryland         South Atlantic\n",
       "33           DE                  SAT              Delaware         South Atlantic\n",
       "34           DC                  SAT  District of Columbia         South Atlantic\n",
       "35           VA                  SAT              Virginia         South Atlantic\n",
       "36           NC                  SAT        North Carolina         South Atlantic\n",
       "37           SC                  SAT        South Carolina         South Atlantic\n",
       "38           GA                  SAT               Georgia         South Atlantic\n",
       "39           FL                  SAT               Florida         South Atlantic\n",
       "40           ND                  WNC          North Dakota     West North Central\n",
       "41           SD                  WNC          South Dakota     West North Central\n",
       "42           MN                  WNC             Minnesota     West North Central\n",
       "43           IA                  WNC                  Iowa     West North Central\n",
       "44           NE                  WNC              Nebraska     West North Central\n",
       "45           KS                  WNC                Kansas     West North Central\n",
       "46           MO                  WNC              Missouri     West North Central\n",
       "47           OK                  WSC              Oklahoma     West South Central\n",
       "48           AR                  WSC              Arkansas     West South Central\n",
       "49           TX                  WSC                 Texas     West South Central\n",
       "50           LA                  WSC             Louisiana     West South Central"
      ]
     },
     "execution_count": 80,
     "metadata": {},
     "output_type": "execute_result"
    }
   ],
   "source": [
    "state_mappings = state_mappings.astype('category')\n",
    "state_mappings"
   ]
  },
  {
   "cell_type": "code",
   "execution_count": 82,
   "id": "a4c6658e",
   "metadata": {},
   "outputs": [],
   "source": [
    "frc_predicted = frc_predicted.merge(state_mappings.drop(columns='census_region_abbrev'), left_on='state', right_on='state_abbrev')"
   ]
  },
  {
   "cell_type": "code",
   "execution_count": 87,
   "id": "077b2a39",
   "metadata": {},
   "outputs": [
    {
     "data": {
      "text/plain": [
       "Index(['plant_id_eia', 'energy_source_code', 'fuel_cost_per_mmbtu', 'fuel_mmbtu_per_unit', 'state', 'fuel_group_eiaepm', 'elapsed_days', 'report_month', 'census_region', 'fuel_received_mmbtu', 'predict', 'error', 'rel_error', 'state_abbrev', 'state_name', 'region_name'], dtype='object')"
      ]
     },
     "execution_count": 87,
     "metadata": {},
     "output_type": "execute_result"
    }
   ],
   "source": [
    "frc_predicted.columns"
   ]
  },
  {
   "cell_type": "code",
   "execution_count": 125,
   "id": "4a489fd0",
   "metadata": {},
   "outputs": [],
   "source": [
    "def fuel_weighted_avg(df, col_to_avg: str):\n",
    "    return (df[col_to_avg] * df['fuel_received_mmbtu']).sum() / df['fuel_received_mmbtu'].sum()"
   ]
  },
  {
   "cell_type": "code",
   "execution_count": 93,
   "id": "bd8a1fd4",
   "metadata": {},
   "outputs": [],
   "source": [
    "frc_predicted['report_date'] = frc_predicted['elapsed_days'].apply(pd.Timedelta, unit='d') + pd.Timestamp('2008-01-01')"
   ]
  },
  {
   "cell_type": "code",
   "execution_count": 129,
   "id": "4d64c5f8",
   "metadata": {},
   "outputs": [],
   "source": [
    "grp = frc_predicted.groupby(['state_name', 'fuel_group_eiaepm', 'report_date'])"
   ]
  },
  {
   "cell_type": "code",
   "execution_count": 126,
   "id": "8232ff8f",
   "metadata": {},
   "outputs": [],
   "source": [
    "state_level = (grp.apply(fuel_weighted_avg, col_to_avg='fuel_cost_per_mmbtu')\n",
    "               .rename('frc_reported')\n",
    "              )"
   ]
  },
  {
   "cell_type": "code",
   "execution_count": 131,
   "id": "b229e2a8",
   "metadata": {},
   "outputs": [],
   "source": [
    "state_level = state_level.to_frame().join(grp.apply(fuel_weighted_avg, col_to_avg='predict').rename('frc_modeled'))"
   ]
  },
  {
   "cell_type": "code",
   "execution_count": 132,
   "id": "88fff46d",
   "metadata": {},
   "outputs": [],
   "source": [
    "state_epm = pd.to_numeric(eia_epm_state.rename(\n",
    "    columns=dict(zip(['region', 'fuel', 'date'], ['state_name', 'fuel_group_eiaepm', 'report_date']))\n",
    ")\n",
    " .set_index(['state_name', 'fuel_group_eiaepm', 'report_date'])\n",
    " ['Electric Power Sector'].rename('eia_epm'),\n",
    "                          errors='coerce'\n",
    "                         )"
   ]
  },
  {
   "cell_type": "code",
   "execution_count": 135,
   "id": "1c706b35",
   "metadata": {},
   "outputs": [
    {
     "data": {
      "text/html": [
       "<div>\n",
       "<style scoped>\n",
       "    .dataframe tbody tr th:only-of-type {\n",
       "        vertical-align: middle;\n",
       "    }\n",
       "\n",
       "    .dataframe tbody tr th {\n",
       "        vertical-align: top;\n",
       "    }\n",
       "\n",
       "    .dataframe thead th {\n",
       "        text-align: right;\n",
       "    }\n",
       "</style>\n",
       "<table border=\"1\" class=\"dataframe\">\n",
       "  <thead>\n",
       "    <tr style=\"text-align: right;\">\n",
       "      <th></th>\n",
       "      <th></th>\n",
       "      <th></th>\n",
       "      <th>frc_reported</th>\n",
       "      <th>frc_modeled</th>\n",
       "      <th>eia_epm</th>\n",
       "    </tr>\n",
       "    <tr>\n",
       "      <th>state_name</th>\n",
       "      <th>fuel_group_eiaepm</th>\n",
       "      <th>report_date</th>\n",
       "      <th></th>\n",
       "      <th></th>\n",
       "      <th></th>\n",
       "    </tr>\n",
       "  </thead>\n",
       "  <tbody>\n",
       "    <tr>\n",
       "      <th rowspan=\"5\" valign=\"top\">Alabama</th>\n",
       "      <th rowspan=\"5\" valign=\"top\">coal</th>\n",
       "      <th>2006-09-01</th>\n",
       "      <td>NaN</td>\n",
       "      <td>NaN</td>\n",
       "      <td>2.11</td>\n",
       "    </tr>\n",
       "    <tr>\n",
       "      <th>2006-10-01</th>\n",
       "      <td>NaN</td>\n",
       "      <td>NaN</td>\n",
       "      <td>2.35</td>\n",
       "    </tr>\n",
       "    <tr>\n",
       "      <th>2006-11-01</th>\n",
       "      <td>NaN</td>\n",
       "      <td>NaN</td>\n",
       "      <td>2.14</td>\n",
       "    </tr>\n",
       "    <tr>\n",
       "      <th>2007-01-01</th>\n",
       "      <td>NaN</td>\n",
       "      <td>NaN</td>\n",
       "      <td>2.05</td>\n",
       "    </tr>\n",
       "    <tr>\n",
       "      <th>2007-02-01</th>\n",
       "      <td>NaN</td>\n",
       "      <td>NaN</td>\n",
       "      <td>2.02</td>\n",
       "    </tr>\n",
       "    <tr>\n",
       "      <th>...</th>\n",
       "      <th>...</th>\n",
       "      <th>...</th>\n",
       "      <td>...</td>\n",
       "      <td>...</td>\n",
       "      <td>...</td>\n",
       "    </tr>\n",
       "    <tr>\n",
       "      <th rowspan=\"5\" valign=\"top\">Wyoming</th>\n",
       "      <th rowspan=\"5\" valign=\"top\">petroleum</th>\n",
       "      <th>2020-08-01</th>\n",
       "      <td>11.286045</td>\n",
       "      <td>10.680823</td>\n",
       "      <td>11.29</td>\n",
       "    </tr>\n",
       "    <tr>\n",
       "      <th>2020-09-01</th>\n",
       "      <td>10.139916</td>\n",
       "      <td>10.807862</td>\n",
       "      <td>10.14</td>\n",
       "    </tr>\n",
       "    <tr>\n",
       "      <th>2020-10-01</th>\n",
       "      <td>9.784458</td>\n",
       "      <td>10.998137</td>\n",
       "      <td>9.78</td>\n",
       "    </tr>\n",
       "    <tr>\n",
       "      <th>2020-11-01</th>\n",
       "      <td>12.577212</td>\n",
       "      <td>10.724961</td>\n",
       "      <td>12.58</td>\n",
       "    </tr>\n",
       "    <tr>\n",
       "      <th>2020-12-01</th>\n",
       "      <td>12.212331</td>\n",
       "      <td>11.020092</td>\n",
       "      <td>12.21</td>\n",
       "    </tr>\n",
       "  </tbody>\n",
       "</table>\n",
       "<p>21246 rows × 3 columns</p>\n",
       "</div>"
      ],
      "text/plain": [
       "                                          frc_reported  frc_modeled  eia_epm\n",
       "state_name fuel_group_eiaepm report_date                                    \n",
       "Alabama    coal              2006-09-01            NaN          NaN     2.11\n",
       "                             2006-10-01            NaN          NaN     2.35\n",
       "                             2006-11-01            NaN          NaN     2.14\n",
       "                             2007-01-01            NaN          NaN     2.05\n",
       "                             2007-02-01            NaN          NaN     2.02\n",
       "...                                                ...          ...      ...\n",
       "Wyoming    petroleum         2020-08-01      11.286045    10.680823    11.29\n",
       "                             2020-09-01      10.139916    10.807862    10.14\n",
       "                             2020-10-01       9.784458    10.998137     9.78\n",
       "                             2020-11-01      12.577212    10.724961    12.58\n",
       "                             2020-12-01      12.212331    11.020092    12.21\n",
       "\n",
       "[21246 rows x 3 columns]"
      ]
     },
     "execution_count": 135,
     "metadata": {},
     "output_type": "execute_result"
    }
   ],
   "source": [
    "#state_level = \n",
    "state_level.join(state_epm, how='outer').dropna(how='all')"
   ]
  },
  {
   "cell_type": "code",
   "execution_count": null,
   "id": "288d23f6",
   "metadata": {},
   "outputs": [],
   "source": []
  }
 ],
 "metadata": {
  "kernelspec": {
   "display_name": "Python 3 (ipykernel)",
   "language": "python",
   "name": "python3"
  },
  "language_info": {
   "codemirror_mode": {
    "name": "ipython",
    "version": 3
   },
   "file_extension": ".py",
   "mimetype": "text/x-python",
   "name": "python",
   "nbconvert_exporter": "python",
   "pygments_lexer": "ipython3",
   "version": "3.10.5"
  }
 },
 "nbformat": 4,
 "nbformat_minor": 5
}
