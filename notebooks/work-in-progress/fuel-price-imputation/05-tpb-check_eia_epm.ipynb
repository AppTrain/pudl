{
 "cells": [
  {
   "cell_type": "code",
   "execution_count": 1,
   "id": "9ab0d69a",
   "metadata": {},
   "outputs": [],
   "source": [
    "%load_ext autoreload\n",
    "%autoreload 2"
   ]
  },
  {
   "cell_type": "code",
   "execution_count": 2,
   "id": "ede81c30",
   "metadata": {},
   "outputs": [],
   "source": [
    "import pandas as pd\n",
    "from pathlib import Path"
   ]
  },
  {
   "cell_type": "code",
   "execution_count": 3,
   "id": "7b2e5116",
   "metadata": {},
   "outputs": [],
   "source": [
    "zip_dir = Path('./eia_epm_zips/')\n",
    "assert zip_dir.exists()"
   ]
  },
  {
   "cell_type": "code",
   "execution_count": 11,
   "id": "3ff16c76",
   "metadata": {},
   "outputs": [],
   "source": [
    "from eia_epm import *"
   ]
  },
  {
   "cell_type": "code",
   "execution_count": 27,
   "id": "a141a831",
   "metadata": {},
   "outputs": [
    {
     "name": "stdout",
     "output_type": "stream",
     "text": [
      "CPU times: user 45.7 s, sys: 139 ms, total: 45.8 s\n",
      "Wall time: 45.8 s\n"
     ]
    }
   ],
   "source": [
    "%%time\n",
    "dfs = Extractor(zip_dir).extract()"
   ]
  },
  {
   "cell_type": "code",
   "execution_count": 28,
   "id": "16db6085",
   "metadata": {},
   "outputs": [
    {
     "data": {
      "text/plain": [
       "['coal', 'oil', 'petcoke', 'gas', 'coal', 'oil', 'petcoke', 'gas']"
      ]
     },
     "execution_count": 28,
     "metadata": {},
     "output_type": "execute_result"
    }
   ],
   "source": [
    "[key.split('_')[0] for key in dfs.keys()]"
   ]
  },
  {
   "cell_type": "code",
   "execution_count": 29,
   "id": "847a5ecb",
   "metadata": {},
   "outputs": [],
   "source": [
    "transformed = add_fuel_cols_and_combine(dfs)"
   ]
  },
  {
   "cell_type": "code",
   "execution_count": 35,
   "id": "ecbe2f4a",
   "metadata": {},
   "outputs": [],
   "source": [
    "m = transformed['monthly']\n",
    "y = transformed['ytd']"
   ]
  },
  {
   "cell_type": "code",
   "execution_count": 73,
   "id": "12b20bd2",
   "metadata": {},
   "outputs": [
    {
     "data": {
      "text/plain": [
       "2006     732\n",
       "2007    2931\n",
       "2008    2929\n",
       "2009    2928\n",
       "2010    2928\n",
       "2011    2988\n",
       "2012    2992\n",
       "2013    2976\n",
       "2014    2976\n",
       "2015    2976\n",
       "2016    2976\n",
       "2017    2976\n",
       "2018    2976\n",
       "2019    2976\n",
       "2020    2976\n",
       "2021    2976\n",
       "Name: date, dtype: int64"
      ]
     },
     "execution_count": 73,
     "metadata": {},
     "output_type": "execute_result"
    }
   ],
   "source": [
    "m.index.get_level_values('date').year.value_counts(sort=False)"
   ]
  },
  {
   "cell_type": "code",
   "execution_count": 74,
   "id": "76fdf84f",
   "metadata": {},
   "outputs": [
    {
     "data": {
      "text/plain": [
       "2006     732\n",
       "2007    2928\n",
       "2008    2928\n",
       "2009    2928\n",
       "2010    2928\n",
       "2011    2988\n",
       "2012    2992\n",
       "2013    2976\n",
       "2014    2976\n",
       "2015    2976\n",
       "2016    2976\n",
       "2017    2976\n",
       "2018    2976\n",
       "2019    2976\n",
       "2020    2976\n",
       "2021    2976\n",
       "Name: date, dtype: int64"
      ]
     },
     "execution_count": 74,
     "metadata": {},
     "output_type": "execute_result"
    }
   ],
   "source": [
    "y.index.get_level_values('date').year.value_counts(sort=False)"
   ]
  },
  {
   "cell_type": "code",
   "execution_count": 36,
   "id": "15a187cd",
   "metadata": {},
   "outputs": [],
   "source": [
    "idx = pd.IndexSlice"
   ]
  },
  {
   "cell_type": "code",
   "execution_count": 41,
   "id": "bff39400",
   "metadata": {},
   "outputs": [
    {
     "data": {
      "text/plain": [
       "1     252\n",
       "2     252\n",
       "3     252\n",
       "4     252\n",
       "5     248\n",
       "6     248\n",
       "7     248\n",
       "8     248\n",
       "9     248\n",
       "10    248\n",
       "11    248\n",
       "12    248\n",
       "Name: date, dtype: int64"
      ]
     },
     "execution_count": 41,
     "metadata": {},
     "output_type": "execute_result"
    }
   ],
   "source": [
    "m.loc[idx[:,'2012'],:].index.get_level_values('date').month.value_counts(sort=False)"
   ]
  },
  {
   "cell_type": "code",
   "execution_count": 42,
   "id": "8348ef7a",
   "metadata": {},
   "outputs": [
    {
     "data": {
      "text/plain": [
       "1     248\n",
       "2     248\n",
       "3     248\n",
       "4     248\n",
       "5     248\n",
       "6     248\n",
       "7     248\n",
       "8     248\n",
       "9     248\n",
       "10    248\n",
       "11    248\n",
       "12    248\n",
       "Name: date, dtype: int64"
      ]
     },
     "execution_count": 42,
     "metadata": {},
     "output_type": "execute_result"
    }
   ],
   "source": [
    "m.loc[idx[:,'2013'],:].index.get_level_values('date').month.value_counts(sort=False)"
   ]
  },
  {
   "cell_type": "code",
   "execution_count": 46,
   "id": "ec5e2d66",
   "metadata": {},
   "outputs": [
    {
     "data": {
      "text/plain": [
       "fuel\n",
       "coal       63\n",
       "gas        63\n",
       "oil        63\n",
       "petcoke    63\n",
       "dtype: int64"
      ]
     },
     "execution_count": 46,
     "metadata": {},
     "output_type": "execute_result"
    }
   ],
   "source": [
    "m.loc[idx[:,'2012-04'],:].groupby(level='fuel').size()"
   ]
  },
  {
   "cell_type": "code",
   "execution_count": 49,
   "id": "8660a7cd",
   "metadata": {},
   "outputs": [
    {
     "data": {
      "text/plain": [
       "fuel\n",
       "coal       62\n",
       "gas        62\n",
       "oil        62\n",
       "petcoke    62\n",
       "dtype: int64"
      ]
     },
     "execution_count": 49,
     "metadata": {},
     "output_type": "execute_result"
    }
   ],
   "source": [
    "m.loc[idx[:,'2012-05'],:].groupby(level='fuel').size()"
   ]
  },
  {
   "cell_type": "code",
   "execution_count": 50,
   "id": "f240aa02",
   "metadata": {},
   "outputs": [
    {
     "data": {
      "text/plain": [
       "True"
      ]
     },
     "execution_count": 50,
     "metadata": {},
     "output_type": "execute_result"
    }
   ],
   "source": [
    "m.loc[idx[:,'2012-05'],:].groupby(level='region').size().eq(4).all()"
   ]
  },
  {
   "cell_type": "code",
   "execution_count": 66,
   "id": "085909cf",
   "metadata": {},
   "outputs": [
    {
     "data": {
      "text/plain": [
       "{'Pacific', 'Pacific Contiguous', 'Pacific Noncontiguous'}"
      ]
     },
     "execution_count": 66,
     "metadata": {},
     "output_type": "execute_result"
    }
   ],
   "source": [
    "# Census category change between 2011-04 and 2011-05 (revised data)\n",
    "# \"Pacfic\" splits into \"Pacific Contiguous\" and \"Pacific Noncontiguous\"\n",
    "# This split takes a year to drop out of the index because of the revision lag\n",
    "set(m.loc[idx[:,'2011-04'],:].index.get_level_values('region').unique()).symmetric_difference(\n",
    "    set(m.loc[idx[:,'2012-05'],:].index.get_level_values('region').unique()))"
   ]
  },
  {
   "cell_type": "code",
   "execution_count": 72,
   "id": "ae916e73",
   "metadata": {},
   "outputs": [
    {
     "data": {
      "text/plain": [
       "{'Pacific', 'Pacific Contiguous', 'Pacific Noncontiguous'}"
      ]
     },
     "execution_count": 72,
     "metadata": {},
     "output_type": "execute_result"
    }
   ],
   "source": [
    "# confirm same for ytd data\n",
    "set(y.loc[idx[:,'2011-04'],:].index.get_level_values('region').unique()).symmetric_difference(\n",
    "    set(y.loc[idx[:,'2012-05'],:].index.get_level_values('region').unique()))"
   ]
  },
  {
   "cell_type": "code",
   "execution_count": 64,
   "id": "9db10b3f",
   "metadata": {},
   "outputs": [
    {
     "data": {
      "text/html": [
       "<div>\n",
       "<style scoped>\n",
       "    .dataframe tbody tr th:only-of-type {\n",
       "        vertical-align: middle;\n",
       "    }\n",
       "\n",
       "    .dataframe tbody tr th {\n",
       "        vertical-align: top;\n",
       "    }\n",
       "\n",
       "    .dataframe thead tr th {\n",
       "        text-align: left;\n",
       "    }\n",
       "\n",
       "    .dataframe thead tr:last-of-type th {\n",
       "        text-align: right;\n",
       "    }\n",
       "</style>\n",
       "<table border=\"1\" class=\"dataframe\">\n",
       "  <thead>\n",
       "    <tr>\n",
       "      <th></th>\n",
       "      <th colspan=\"2\" halign=\"left\">Electric Power Sector</th>\n",
       "      <th colspan=\"2\" halign=\"left\">Electric Utilities</th>\n",
       "      <th colspan=\"2\" halign=\"left\">Independent Power Producers</th>\n",
       "      <th colspan=\"2\" halign=\"left\">yoy_pct_change</th>\n",
       "    </tr>\n",
       "    <tr>\n",
       "      <th>is_revised</th>\n",
       "      <th>False</th>\n",
       "      <th>True</th>\n",
       "      <th>False</th>\n",
       "      <th>True</th>\n",
       "      <th>False</th>\n",
       "      <th>True</th>\n",
       "      <th>False</th>\n",
       "      <th>True</th>\n",
       "    </tr>\n",
       "    <tr>\n",
       "      <th>fuel</th>\n",
       "      <th></th>\n",
       "      <th></th>\n",
       "      <th></th>\n",
       "      <th></th>\n",
       "      <th></th>\n",
       "      <th></th>\n",
       "      <th></th>\n",
       "      <th></th>\n",
       "    </tr>\n",
       "  </thead>\n",
       "  <tbody>\n",
       "    <tr>\n",
       "      <th>coal</th>\n",
       "      <td>NaN</td>\n",
       "      <td>W</td>\n",
       "      <td>NaN</td>\n",
       "      <td>--</td>\n",
       "      <td>NaN</td>\n",
       "      <td>W</td>\n",
       "      <td>NaN</td>\n",
       "      <td>NaN</td>\n",
       "    </tr>\n",
       "    <tr>\n",
       "      <th>gas</th>\n",
       "      <td>NaN</td>\n",
       "      <td>4.89</td>\n",
       "      <td>NaN</td>\n",
       "      <td>5.3</td>\n",
       "      <td>NaN</td>\n",
       "      <td>4.69</td>\n",
       "      <td>NaN</td>\n",
       "      <td>NaN</td>\n",
       "    </tr>\n",
       "    <tr>\n",
       "      <th>oil</th>\n",
       "      <td>NaN</td>\n",
       "      <td>26.06</td>\n",
       "      <td>NaN</td>\n",
       "      <td>26.09</td>\n",
       "      <td>NaN</td>\n",
       "      <td>NM</td>\n",
       "      <td>NaN</td>\n",
       "      <td>NaN</td>\n",
       "    </tr>\n",
       "    <tr>\n",
       "      <th>petcoke</th>\n",
       "      <td>NaN</td>\n",
       "      <td>2.88</td>\n",
       "      <td>NaN</td>\n",
       "      <td>--</td>\n",
       "      <td>NaN</td>\n",
       "      <td>2.88</td>\n",
       "      <td>NaN</td>\n",
       "      <td>NaN</td>\n",
       "    </tr>\n",
       "  </tbody>\n",
       "</table>\n",
       "</div>"
      ],
      "text/plain": [
       "           Electric Power Sector        Electric Utilities         \\\n",
       "is_revised                 False   True              False   True   \n",
       "fuel                                                                \n",
       "coal                         NaN      W                NaN     --   \n",
       "gas                          NaN   4.89                NaN    5.3   \n",
       "oil                          NaN  26.06                NaN  26.09   \n",
       "petcoke                      NaN   2.88                NaN     --   \n",
       "\n",
       "           Independent Power Producers       yoy_pct_change       \n",
       "is_revised                       False  True          False True  \n",
       "fuel                                                              \n",
       "coal                               NaN     W            NaN  NaN  \n",
       "gas                                NaN  4.69            NaN  NaN  \n",
       "oil                                NaN    NM            NaN  NaN  \n",
       "petcoke                            NaN  2.88            NaN  NaN  "
      ]
     },
     "execution_count": 64,
     "metadata": {},
     "output_type": "execute_result"
    }
   ],
   "source": [
    "m.loc[idx['Pacific Contiguous','2011-05'],:]"
   ]
  },
  {
   "cell_type": "code",
   "execution_count": 68,
   "id": "dd69e197",
   "metadata": {},
   "outputs": [
    {
     "data": {
      "text/plain": [
       "<AxesSubplot:xlabel='date'>"
      ]
     },
     "execution_count": 68,
     "metadata": {},
     "output_type": "execute_result"
    },
    {
     "data": {
      "image/png": "[encoded data removed]",
      "text/plain": [
       "<Figure size 432x288 with 1 Axes>"
      ]
     },
     "metadata": {
      "needs_background": "light"
     },
     "output_type": "display_data"
    }
   ],
   "source": [
    "m.groupby('date').size().plot()"
   ]
  },
  {
   "cell_type": "code",
   "execution_count": 75,
   "id": "accdafcf",
   "metadata": {},
   "outputs": [
    {
     "data": {
      "text/plain": [
       "<AxesSubplot:xlabel='date'>"
      ]
     },
     "execution_count": 75,
     "metadata": {},
     "output_type": "execute_result"
    },
    {
     "data": {
      "image/png": "[encoded data removed]",
      "text/plain": [
       "<Figure size 432x288 with 1 Axes>"
      ]
     },
     "metadata": {
      "needs_background": "light"
     },
     "output_type": "display_data"
    }
   ],
   "source": [
    "y.groupby('date').size().plot()"
   ]
  },
  {
   "cell_type": "code",
   "execution_count": 71,
   "id": "6f132fa7",
   "metadata": {},
   "outputs": [
    {
     "data": {
      "text/plain": [
       "date\n",
       "2006-12-01   NaN\n",
       "Freq: MS, dtype: float64"
      ]
     },
     "execution_count": 71,
     "metadata": {},
     "output_type": "execute_result"
    }
   ],
   "source": [
    "# not sure why this month is missing but also don't care -- before our period of interest\n",
    "m.groupby('date').size().asfreq('MS')[m.groupby('date').size().asfreq('MS').isna()]"
   ]
  },
  {
   "cell_type": "code",
   "execution_count": 76,
   "id": "917ab71c",
   "metadata": {},
   "outputs": [
    {
     "data": {
      "text/plain": [
       "date\n",
       "2006-12-01   NaN\n",
       "Freq: MS, dtype: float64"
      ]
     },
     "execution_count": 76,
     "metadata": {},
     "output_type": "execute_result"
    }
   ],
   "source": [
    "# same for ytd\n",
    "y.groupby('date').size().asfreq('MS')[y.groupby('date').size().asfreq('MS').isna()]"
   ]
  },
  {
   "cell_type": "code",
   "execution_count": null,
   "id": "10bb7469",
   "metadata": {},
   "outputs": [],
   "source": []
  },
  {
   "cell_type": "code",
   "execution_count": null,
   "id": "fc6c566a",
   "metadata": {},
   "outputs": [],
   "source": []
  },
  {
   "cell_type": "markdown",
   "id": "e5402611",
   "metadata": {},
   "source": [
    "# coherence check: % change"
   ]
  },
  {
   "cell_type": "code",
   "execution_count": 78,
   "id": "a872d5ce",
   "metadata": {},
   "outputs": [
    {
     "data": {
      "text/html": [
       "<div>\n",
       "<style scoped>\n",
       "    .dataframe tbody tr th:only-of-type {\n",
       "        vertical-align: middle;\n",
       "    }\n",
       "\n",
       "    .dataframe tbody tr th {\n",
       "        vertical-align: top;\n",
       "    }\n",
       "\n",
       "    .dataframe thead tr th {\n",
       "        text-align: left;\n",
       "    }\n",
       "\n",
       "    .dataframe thead tr:last-of-type th {\n",
       "        text-align: right;\n",
       "    }\n",
       "</style>\n",
       "<table border=\"1\" class=\"dataframe\">\n",
       "  <thead>\n",
       "    <tr>\n",
       "      <th></th>\n",
       "      <th></th>\n",
       "      <th></th>\n",
       "      <th colspan=\"2\" halign=\"left\">Electric Power Sector</th>\n",
       "      <th colspan=\"2\" halign=\"left\">Electric Utilities</th>\n",
       "      <th colspan=\"2\" halign=\"left\">Independent Power Producers</th>\n",
       "      <th colspan=\"2\" halign=\"left\">yoy_pct_change</th>\n",
       "    </tr>\n",
       "    <tr>\n",
       "      <th></th>\n",
       "      <th></th>\n",
       "      <th>is_revised</th>\n",
       "      <th>False</th>\n",
       "      <th>True</th>\n",
       "      <th>False</th>\n",
       "      <th>True</th>\n",
       "      <th>False</th>\n",
       "      <th>True</th>\n",
       "      <th>False</th>\n",
       "      <th>True</th>\n",
       "    </tr>\n",
       "    <tr>\n",
       "      <th>region</th>\n",
       "      <th>date</th>\n",
       "      <th>fuel</th>\n",
       "      <th></th>\n",
       "      <th></th>\n",
       "      <th></th>\n",
       "      <th></th>\n",
       "      <th></th>\n",
       "      <th></th>\n",
       "      <th></th>\n",
       "      <th></th>\n",
       "    </tr>\n",
       "  </thead>\n",
       "  <tbody>\n",
       "    <tr>\n",
       "      <th rowspan=\"2\" valign=\"top\">Alabama</th>\n",
       "      <th rowspan=\"2\" valign=\"top\">2006-09-01</th>\n",
       "      <th>coal</th>\n",
       "      <td>NaN</td>\n",
       "      <td>2.11</td>\n",
       "      <td>NaN</td>\n",
       "      <td>2.11</td>\n",
       "      <td>NaN</td>\n",
       "      <td>--</td>\n",
       "      <td>NaN</td>\n",
       "      <td>NaN</td>\n",
       "    </tr>\n",
       "    <tr>\n",
       "      <th>gas</th>\n",
       "      <td>NaN</td>\n",
       "      <td>6.36</td>\n",
       "      <td>NaN</td>\n",
       "      <td>7.15</td>\n",
       "      <td>NaN</td>\n",
       "      <td>5.54</td>\n",
       "      <td>NaN</td>\n",
       "      <td>NaN</td>\n",
       "    </tr>\n",
       "  </tbody>\n",
       "</table>\n",
       "</div>"
      ],
      "text/plain": [
       "                        Electric Power Sector       Electric Utilities        \\\n",
       "is_revised                              False  True              False  True   \n",
       "region  date       fuel                                                        \n",
       "Alabama 2006-09-01 coal                   NaN  2.11                NaN  2.11   \n",
       "                   gas                    NaN  6.36                NaN  7.15   \n",
       "\n",
       "                        Independent Power Producers       yoy_pct_change       \n",
       "is_revised                                    False  True          False True  \n",
       "region  date       fuel                                                        \n",
       "Alabama 2006-09-01 coal                         NaN    --            NaN  NaN  \n",
       "                   gas                          NaN  5.54            NaN  NaN  "
      ]
     },
     "execution_count": 78,
     "metadata": {},
     "output_type": "execute_result"
    }
   ],
   "source": [
    "m.head(2)"
   ]
  },
  {
   "cell_type": "code",
   "execution_count": null,
   "id": "4c98fabb",
   "metadata": {},
   "outputs": [],
   "source": []
  },
  {
   "cell_type": "code",
   "execution_count": 94,
   "id": "d7eb0b06",
   "metadata": {},
   "outputs": [],
   "source": [
    "contemporary = pd.to_numeric(m.loc[:, idx['Electric Power Sector', False]], errors='coerce')\n",
    "revised = pd.to_numeric(m.loc[:, idx['Electric Power Sector', True]], errors='coerce')"
   ]
  },
  {
   "cell_type": "code",
   "execution_count": 103,
   "id": "c0aa7702",
   "metadata": {},
   "outputs": [],
   "source": [
    "m[('contemp', False)] = contemporary\n",
    "m[('revised', True)] = revised"
   ]
  },
  {
   "cell_type": "code",
   "execution_count": 156,
   "id": "d5c0c66c",
   "metadata": {},
   "outputs": [],
   "source": [
    "test = next(iter(m.groupby(level=['region', 'fuel'], as_index=False)[[('contemp', False), ('revised', True)]]))[1]"
   ]
  },
  {
   "cell_type": "code",
   "execution_count": 157,
   "id": "d767b012",
   "metadata": {},
   "outputs": [
    {
     "data": {
      "text/html": [
       "<div>\n",
       "<style scoped>\n",
       "    .dataframe tbody tr th:only-of-type {\n",
       "        vertical-align: middle;\n",
       "    }\n",
       "\n",
       "    .dataframe tbody tr th {\n",
       "        vertical-align: top;\n",
       "    }\n",
       "\n",
       "    .dataframe thead tr th {\n",
       "        text-align: left;\n",
       "    }\n",
       "\n",
       "    .dataframe thead tr:last-of-type th {\n",
       "        text-align: right;\n",
       "    }\n",
       "</style>\n",
       "<table border=\"1\" class=\"dataframe\">\n",
       "  <thead>\n",
       "    <tr>\n",
       "      <th></th>\n",
       "      <th></th>\n",
       "      <th></th>\n",
       "      <th>contemp</th>\n",
       "      <th>revised</th>\n",
       "    </tr>\n",
       "    <tr>\n",
       "      <th></th>\n",
       "      <th></th>\n",
       "      <th>is_revised</th>\n",
       "      <th>False</th>\n",
       "      <th>True</th>\n",
       "    </tr>\n",
       "    <tr>\n",
       "      <th>region</th>\n",
       "      <th>date</th>\n",
       "      <th>fuel</th>\n",
       "      <th></th>\n",
       "      <th></th>\n",
       "    </tr>\n",
       "  </thead>\n",
       "  <tbody>\n",
       "    <tr>\n",
       "      <th rowspan=\"11\" valign=\"top\">Alabama</th>\n",
       "      <th>2006-09-01</th>\n",
       "      <th>coal</th>\n",
       "      <td>NaN</td>\n",
       "      <td>2.11</td>\n",
       "    </tr>\n",
       "    <tr>\n",
       "      <th>2006-10-01</th>\n",
       "      <th>coal</th>\n",
       "      <td>NaN</td>\n",
       "      <td>2.35</td>\n",
       "    </tr>\n",
       "    <tr>\n",
       "      <th>2006-11-01</th>\n",
       "      <th>coal</th>\n",
       "      <td>NaN</td>\n",
       "      <td>2.14</td>\n",
       "    </tr>\n",
       "    <tr>\n",
       "      <th>2007-01-01</th>\n",
       "      <th>coal</th>\n",
       "      <td>NaN</td>\n",
       "      <td>2.05</td>\n",
       "    </tr>\n",
       "    <tr>\n",
       "      <th>2007-02-01</th>\n",
       "      <th>coal</th>\n",
       "      <td>NaN</td>\n",
       "      <td>2.02</td>\n",
       "    </tr>\n",
       "    <tr>\n",
       "      <th>...</th>\n",
       "      <th>...</th>\n",
       "      <td>...</td>\n",
       "      <td>...</td>\n",
       "    </tr>\n",
       "    <tr>\n",
       "      <th>2021-08-01</th>\n",
       "      <th>coal</th>\n",
       "      <td>2.09</td>\n",
       "      <td>NaN</td>\n",
       "    </tr>\n",
       "    <tr>\n",
       "      <th>2021-09-01</th>\n",
       "      <th>coal</th>\n",
       "      <td>2.05</td>\n",
       "      <td>NaN</td>\n",
       "    </tr>\n",
       "    <tr>\n",
       "      <th>2021-10-01</th>\n",
       "      <th>coal</th>\n",
       "      <td>2.13</td>\n",
       "      <td>NaN</td>\n",
       "    </tr>\n",
       "    <tr>\n",
       "      <th>2021-11-01</th>\n",
       "      <th>coal</th>\n",
       "      <td>2.18</td>\n",
       "      <td>NaN</td>\n",
       "    </tr>\n",
       "    <tr>\n",
       "      <th>2021-12-01</th>\n",
       "      <th>coal</th>\n",
       "      <td>2.33</td>\n",
       "      <td>NaN</td>\n",
       "    </tr>\n",
       "  </tbody>\n",
       "</table>\n",
       "<p>183 rows × 2 columns</p>\n",
       "</div>"
      ],
      "text/plain": [
       "                        contemp revised\n",
       "is_revised                False    True\n",
       "region  date       fuel                \n",
       "Alabama 2006-09-01 coal     NaN    2.11\n",
       "        2006-10-01 coal     NaN    2.35\n",
       "        2006-11-01 coal     NaN    2.14\n",
       "        2007-01-01 coal     NaN    2.05\n",
       "        2007-02-01 coal     NaN    2.02\n",
       "...                         ...     ...\n",
       "        2021-08-01 coal    2.09     NaN\n",
       "        2021-09-01 coal    2.05     NaN\n",
       "        2021-10-01 coal    2.13     NaN\n",
       "        2021-11-01 coal    2.18     NaN\n",
       "        2021-12-01 coal    2.33     NaN\n",
       "\n",
       "[183 rows x 2 columns]"
      ]
     },
     "execution_count": 157,
     "metadata": {},
     "output_type": "execute_result"
    }
   ],
   "source": [
    "test"
   ]
  },
  {
   "cell_type": "code",
   "execution_count": 155,
   "id": "8ca2994a",
   "metadata": {},
   "outputs": [
    {
     "data": {
      "text/html": [
       "<div>\n",
       "<style scoped>\n",
       "    .dataframe tbody tr th:only-of-type {\n",
       "        vertical-align: middle;\n",
       "    }\n",
       "\n",
       "    .dataframe tbody tr th {\n",
       "        vertical-align: top;\n",
       "    }\n",
       "\n",
       "    .dataframe thead tr th {\n",
       "        text-align: left;\n",
       "    }\n",
       "\n",
       "    .dataframe thead tr:last-of-type th {\n",
       "        text-align: right;\n",
       "    }\n",
       "</style>\n",
       "<table border=\"1\" class=\"dataframe\">\n",
       "  <thead>\n",
       "    <tr>\n",
       "      <th></th>\n",
       "      <th>region</th>\n",
       "      <th>fuel</th>\n",
       "      <th>contemp</th>\n",
       "      <th>revised</th>\n",
       "    </tr>\n",
       "    <tr>\n",
       "      <th>is_revised</th>\n",
       "      <th></th>\n",
       "      <th></th>\n",
       "      <th>False</th>\n",
       "      <th>True</th>\n",
       "    </tr>\n",
       "    <tr>\n",
       "      <th>date</th>\n",
       "      <th></th>\n",
       "      <th></th>\n",
       "      <th></th>\n",
       "      <th></th>\n",
       "    </tr>\n",
       "  </thead>\n",
       "  <tbody>\n",
       "    <tr>\n",
       "      <th>2006-09-01</th>\n",
       "      <td>Alabama</td>\n",
       "      <td>coal</td>\n",
       "      <td>NaN</td>\n",
       "      <td>2.11</td>\n",
       "    </tr>\n",
       "    <tr>\n",
       "      <th>2006-10-01</th>\n",
       "      <td>Alabama</td>\n",
       "      <td>coal</td>\n",
       "      <td>NaN</td>\n",
       "      <td>2.35</td>\n",
       "    </tr>\n",
       "    <tr>\n",
       "      <th>2006-11-01</th>\n",
       "      <td>Alabama</td>\n",
       "      <td>coal</td>\n",
       "      <td>NaN</td>\n",
       "      <td>2.14</td>\n",
       "    </tr>\n",
       "    <tr>\n",
       "      <th>2007-01-01</th>\n",
       "      <td>Alabama</td>\n",
       "      <td>coal</td>\n",
       "      <td>NaN</td>\n",
       "      <td>2.05</td>\n",
       "    </tr>\n",
       "    <tr>\n",
       "      <th>2007-02-01</th>\n",
       "      <td>Alabama</td>\n",
       "      <td>coal</td>\n",
       "      <td>NaN</td>\n",
       "      <td>2.02</td>\n",
       "    </tr>\n",
       "    <tr>\n",
       "      <th>...</th>\n",
       "      <td>...</td>\n",
       "      <td>...</td>\n",
       "      <td>...</td>\n",
       "      <td>...</td>\n",
       "    </tr>\n",
       "    <tr>\n",
       "      <th>2021-08-01</th>\n",
       "      <td>Alabama</td>\n",
       "      <td>coal</td>\n",
       "      <td>2.09</td>\n",
       "      <td>NaN</td>\n",
       "    </tr>\n",
       "    <tr>\n",
       "      <th>2021-09-01</th>\n",
       "      <td>Alabama</td>\n",
       "      <td>coal</td>\n",
       "      <td>2.05</td>\n",
       "      <td>NaN</td>\n",
       "    </tr>\n",
       "    <tr>\n",
       "      <th>2021-10-01</th>\n",
       "      <td>Alabama</td>\n",
       "      <td>coal</td>\n",
       "      <td>2.13</td>\n",
       "      <td>NaN</td>\n",
       "    </tr>\n",
       "    <tr>\n",
       "      <th>2021-11-01</th>\n",
       "      <td>Alabama</td>\n",
       "      <td>coal</td>\n",
       "      <td>2.18</td>\n",
       "      <td>NaN</td>\n",
       "    </tr>\n",
       "    <tr>\n",
       "      <th>2021-12-01</th>\n",
       "      <td>Alabama</td>\n",
       "      <td>coal</td>\n",
       "      <td>2.33</td>\n",
       "      <td>NaN</td>\n",
       "    </tr>\n",
       "  </tbody>\n",
       "</table>\n",
       "<p>183 rows × 4 columns</p>\n",
       "</div>"
      ],
      "text/plain": [
       "             region  fuel contemp revised\n",
       "is_revised                  False    True\n",
       "date                                     \n",
       "2006-09-01  Alabama  coal     NaN    2.11\n",
       "2006-10-01  Alabama  coal     NaN    2.35\n",
       "2006-11-01  Alabama  coal     NaN    2.14\n",
       "2007-01-01  Alabama  coal     NaN    2.05\n",
       "2007-02-01  Alabama  coal     NaN    2.02\n",
       "...             ...   ...     ...     ...\n",
       "2021-08-01  Alabama  coal    2.09     NaN\n",
       "2021-09-01  Alabama  coal    2.05     NaN\n",
       "2021-10-01  Alabama  coal    2.13     NaN\n",
       "2021-11-01  Alabama  coal    2.18     NaN\n",
       "2021-12-01  Alabama  coal    2.33     NaN\n",
       "\n",
       "[183 rows x 4 columns]"
      ]
     },
     "execution_count": 155,
     "metadata": {},
     "output_type": "execute_result"
    }
   ],
   "source": [
    "df_dt = test.reset_index(level=['region', 'fuel'], drop=False)\n",
    "df_dt"
   ]
  },
  {
   "cell_type": "code",
   "execution_count": 158,
   "id": "fca3e8db",
   "metadata": {},
   "outputs": [],
   "source": [
    "df_dt[('asdf', '')] = lagged"
   ]
  },
  {
   "cell_type": "code",
   "execution_count": 159,
   "id": "986f95db",
   "metadata": {},
   "outputs": [
    {
     "data": {
      "text/html": [
       "<div>\n",
       "<style scoped>\n",
       "    .dataframe tbody tr th:only-of-type {\n",
       "        vertical-align: middle;\n",
       "    }\n",
       "\n",
       "    .dataframe tbody tr th {\n",
       "        vertical-align: top;\n",
       "    }\n",
       "\n",
       "    .dataframe thead tr th {\n",
       "        text-align: left;\n",
       "    }\n",
       "\n",
       "    .dataframe thead tr:last-of-type th {\n",
       "        text-align: right;\n",
       "    }\n",
       "</style>\n",
       "<table border=\"1\" class=\"dataframe\">\n",
       "  <thead>\n",
       "    <tr>\n",
       "      <th></th>\n",
       "      <th>region</th>\n",
       "      <th>fuel</th>\n",
       "      <th>contemp</th>\n",
       "      <th>revised</th>\n",
       "      <th>asdf</th>\n",
       "    </tr>\n",
       "    <tr>\n",
       "      <th>is_revised</th>\n",
       "      <th></th>\n",
       "      <th></th>\n",
       "      <th>False</th>\n",
       "      <th>True</th>\n",
       "      <th></th>\n",
       "    </tr>\n",
       "    <tr>\n",
       "      <th>date</th>\n",
       "      <th></th>\n",
       "      <th></th>\n",
       "      <th></th>\n",
       "      <th></th>\n",
       "      <th></th>\n",
       "    </tr>\n",
       "  </thead>\n",
       "  <tbody>\n",
       "    <tr>\n",
       "      <th>2006-09-01</th>\n",
       "      <td>Alabama</td>\n",
       "      <td>coal</td>\n",
       "      <td>NaN</td>\n",
       "      <td>2.11</td>\n",
       "      <td>NaN</td>\n",
       "    </tr>\n",
       "    <tr>\n",
       "      <th>2006-10-01</th>\n",
       "      <td>Alabama</td>\n",
       "      <td>coal</td>\n",
       "      <td>NaN</td>\n",
       "      <td>2.35</td>\n",
       "      <td>NaN</td>\n",
       "    </tr>\n",
       "    <tr>\n",
       "      <th>2006-11-01</th>\n",
       "      <td>Alabama</td>\n",
       "      <td>coal</td>\n",
       "      <td>NaN</td>\n",
       "      <td>2.14</td>\n",
       "      <td>NaN</td>\n",
       "    </tr>\n",
       "    <tr>\n",
       "      <th>2007-01-01</th>\n",
       "      <td>Alabama</td>\n",
       "      <td>coal</td>\n",
       "      <td>NaN</td>\n",
       "      <td>2.05</td>\n",
       "      <td>NaN</td>\n",
       "    </tr>\n",
       "    <tr>\n",
       "      <th>2007-02-01</th>\n",
       "      <td>Alabama</td>\n",
       "      <td>coal</td>\n",
       "      <td>NaN</td>\n",
       "      <td>2.02</td>\n",
       "      <td>NaN</td>\n",
       "    </tr>\n",
       "    <tr>\n",
       "      <th>...</th>\n",
       "      <td>...</td>\n",
       "      <td>...</td>\n",
       "      <td>...</td>\n",
       "      <td>...</td>\n",
       "      <td>...</td>\n",
       "    </tr>\n",
       "    <tr>\n",
       "      <th>2021-08-01</th>\n",
       "      <td>Alabama</td>\n",
       "      <td>coal</td>\n",
       "      <td>2.09</td>\n",
       "      <td>NaN</td>\n",
       "      <td>2.23</td>\n",
       "    </tr>\n",
       "    <tr>\n",
       "      <th>2021-09-01</th>\n",
       "      <td>Alabama</td>\n",
       "      <td>coal</td>\n",
       "      <td>2.05</td>\n",
       "      <td>NaN</td>\n",
       "      <td>2.25</td>\n",
       "    </tr>\n",
       "    <tr>\n",
       "      <th>2021-10-01</th>\n",
       "      <td>Alabama</td>\n",
       "      <td>coal</td>\n",
       "      <td>2.13</td>\n",
       "      <td>NaN</td>\n",
       "      <td>2.14</td>\n",
       "    </tr>\n",
       "    <tr>\n",
       "      <th>2021-11-01</th>\n",
       "      <td>Alabama</td>\n",
       "      <td>coal</td>\n",
       "      <td>2.18</td>\n",
       "      <td>NaN</td>\n",
       "      <td>2.21</td>\n",
       "    </tr>\n",
       "    <tr>\n",
       "      <th>2021-12-01</th>\n",
       "      <td>Alabama</td>\n",
       "      <td>coal</td>\n",
       "      <td>2.33</td>\n",
       "      <td>NaN</td>\n",
       "      <td>2.11</td>\n",
       "    </tr>\n",
       "  </tbody>\n",
       "</table>\n",
       "<p>183 rows × 5 columns</p>\n",
       "</div>"
      ],
      "text/plain": [
       "             region  fuel contemp revised  asdf\n",
       "is_revised                  False    True      \n",
       "date                                           \n",
       "2006-09-01  Alabama  coal     NaN    2.11   NaN\n",
       "2006-10-01  Alabama  coal     NaN    2.35   NaN\n",
       "2006-11-01  Alabama  coal     NaN    2.14   NaN\n",
       "2007-01-01  Alabama  coal     NaN    2.05   NaN\n",
       "2007-02-01  Alabama  coal     NaN    2.02   NaN\n",
       "...             ...   ...     ...     ...   ...\n",
       "2021-08-01  Alabama  coal    2.09     NaN  2.23\n",
       "2021-09-01  Alabama  coal    2.05     NaN  2.25\n",
       "2021-10-01  Alabama  coal    2.13     NaN  2.14\n",
       "2021-11-01  Alabama  coal    2.18     NaN  2.21\n",
       "2021-12-01  Alabama  coal    2.33     NaN  2.11\n",
       "\n",
       "[183 rows x 5 columns]"
      ]
     },
     "execution_count": 159,
     "metadata": {},
     "output_type": "execute_result"
    }
   ],
   "source": [
    "df_dt"
   ]
  },
  {
   "cell_type": "code",
   "execution_count": 154,
   "id": "04c83ddc",
   "metadata": {},
   "outputs": [
    {
     "data": {
      "text/plain": [
       "date\n",
       "2007-09-01    2.11\n",
       "2007-10-01    2.35\n",
       "2007-11-01    2.14\n",
       "2008-01-01    2.05\n",
       "2008-02-01    2.02\n",
       "              ... \n",
       "2022-08-01     NaN\n",
       "2022-09-01     NaN\n",
       "2022-10-01     NaN\n",
       "2022-11-01     NaN\n",
       "2022-12-01     NaN\n",
       "Name: (revised, True), Length: 183, dtype: float64"
      ]
     },
     "execution_count": 154,
     "metadata": {},
     "output_type": "execute_result"
    }
   ],
   "source": [
    "lagged = df_dt.loc[:, ('revised', True)].shift(periods=12, freq='MS')\n",
    "lagged"
   ]
  },
  {
   "cell_type": "code",
   "execution_count": 180,
   "id": "1b8956bf",
   "metadata": {},
   "outputs": [],
   "source": [
    "def epm_yoy_change(df):\n",
    "    df_dt = df.reset_index(level=['region', 'fuel'], drop=False)\n",
    "    df_dt[('lagged_revised', False)] = df_dt.loc[:, ('revised', True)].shift(periods=12, freq='MS')\n",
    "    df_dt[('calc_pct_yoy', False)] = df_dt.loc[:,('contemp', False)].sub(df_dt.loc[:, ('lagged_revised', False)]).div(df_dt.loc[:,('contemp', False)]).mul(100)\n",
    "    new_idx = pd.MultiIndex.from_frame(df_dt.loc[:, [('region', ''), ('fuel', '')]].reset_index(), names = ['date', 'region', 'fuel'])\n",
    "    out = df_dt.loc[:, ('calc_pct_yoy', False)]\n",
    "    out.index = new_idx\n",
    "    return out.rename('calc_pct_yoy')"
   ]
  },
  {
   "cell_type": "code",
   "execution_count": 181,
   "id": "b7680d16",
   "metadata": {},
   "outputs": [
    {
     "data": {
      "text/plain": [
       "<AxesSubplot:xlabel='date,region,fuel'>"
      ]
     },
     "execution_count": 181,
     "metadata": {},
     "output_type": "execute_result"
    },
    {
     "data": {
      "image/png": "[encoded data removed]",
      "text/plain": [
       "<Figure size 432x288 with 1 Axes>"
      ]
     },
     "metadata": {
      "needs_background": "light"
     },
     "output_type": "display_data"
    }
   ],
   "source": [
    "epm_yoy_change(test).plot()"
   ]
  },
  {
   "cell_type": "code",
   "execution_count": 182,
   "id": "7f782776",
   "metadata": {},
   "outputs": [
    {
     "data": {
      "text/plain": [
       "date        region   fuel\n",
       "2006-09-01  Alabama  coal         NaN\n",
       "2006-10-01  Alabama  coal         NaN\n",
       "2006-11-01  Alabama  coal         NaN\n",
       "2007-01-01  Alabama  coal         NaN\n",
       "2007-02-01  Alabama  coal         NaN\n",
       "                               ...   \n",
       "2021-08-01  Alabama  coal   -6.698565\n",
       "2021-09-01  Alabama  coal   -9.756098\n",
       "2021-10-01  Alabama  coal   -0.469484\n",
       "2021-11-01  Alabama  coal   -1.376147\n",
       "2021-12-01  Alabama  coal    9.442060\n",
       "Name: (calc_pct_yoy, False), Length: 183, dtype: float64"
      ]
     },
     "execution_count": 182,
     "metadata": {},
     "output_type": "execute_result"
    }
   ],
   "source": [
    "epm_yoy_change(test)"
   ]
  },
  {
   "cell_type": "code",
   "execution_count": 132,
   "id": "188da471",
   "metadata": {},
   "outputs": [
    {
     "data": {
      "text/plain": [
       "<AxesSubplot:xlabel='region,date,fuel'>"
      ]
     },
     "execution_count": 132,
     "metadata": {},
     "output_type": "execute_result"
    },
    {
     "data": {
      "image/png": "[encoded data removed]",
      "text/plain": [
       "<Figure size 432x288 with 1 Axes>"
      ]
     },
     "metadata": {
      "needs_background": "light"
     },
     "output_type": "display_data"
    }
   ],
   "source": [
    "test.iloc[:, 0].plot()"
   ]
  },
  {
   "cell_type": "code",
   "execution_count": 183,
   "id": "df1f22cd",
   "metadata": {},
   "outputs": [
    {
     "ename": "TypeError",
     "evalue": "Series.name must be a hashable type",
     "output_type": "error",
     "traceback": [
      "\u001b[0;31m---------------------------------------------------------------------------\u001b[0m",
      "\u001b[0;31mTypeError\u001b[0m                                 Traceback (most recent call last)",
      "File \u001b[0;32m~/miniconda3/envs/analysis-pudl-dev/lib/python3.10/site-packages/pandas/core/groupby/groupby.py:1423\u001b[0m, in \u001b[0;36mGroupBy.apply\u001b[0;34m(self, func, *args, **kwargs)\u001b[0m\n\u001b[1;32m   1422\u001b[0m \u001b[38;5;28;01mtry\u001b[39;00m:\n\u001b[0;32m-> 1423\u001b[0m     result \u001b[38;5;241m=\u001b[39m \u001b[38;5;28;43mself\u001b[39;49m\u001b[38;5;241;43m.\u001b[39;49m\u001b[43m_python_apply_general\u001b[49m\u001b[43m(\u001b[49m\u001b[43mf\u001b[49m\u001b[43m,\u001b[49m\u001b[43m \u001b[49m\u001b[38;5;28;43mself\u001b[39;49m\u001b[38;5;241;43m.\u001b[39;49m\u001b[43m_selected_obj\u001b[49m\u001b[43m)\u001b[49m\n\u001b[1;32m   1424\u001b[0m \u001b[38;5;28;01mexcept\u001b[39;00m \u001b[38;5;167;01mTypeError\u001b[39;00m:\n\u001b[1;32m   1425\u001b[0m     \u001b[38;5;66;03m# gh-20949\u001b[39;00m\n\u001b[1;32m   1426\u001b[0m     \u001b[38;5;66;03m# try again, with .apply acting as a filtering\u001b[39;00m\n\u001b[0;32m   (...)\u001b[0m\n\u001b[1;32m   1430\u001b[0m     \u001b[38;5;66;03m# fails on *some* columns, e.g. a numeric operation\u001b[39;00m\n\u001b[1;32m   1431\u001b[0m     \u001b[38;5;66;03m# on a string grouper column\u001b[39;00m\n",
      "File \u001b[0;32m~/miniconda3/envs/analysis-pudl-dev/lib/python3.10/site-packages/pandas/core/groupby/groupby.py:1469\u001b[0m, in \u001b[0;36mGroupBy._python_apply_general\u001b[0;34m(self, f, data, not_indexed_same)\u001b[0m\n\u001b[1;32m   1467\u001b[0m     not_indexed_same \u001b[38;5;241m=\u001b[39m mutated \u001b[38;5;129;01mor\u001b[39;00m \u001b[38;5;28mself\u001b[39m\u001b[38;5;241m.\u001b[39mmutated\n\u001b[0;32m-> 1469\u001b[0m \u001b[38;5;28;01mreturn\u001b[39;00m \u001b[38;5;28;43mself\u001b[39;49m\u001b[38;5;241;43m.\u001b[39;49m\u001b[43m_wrap_applied_output\u001b[49m\u001b[43m(\u001b[49m\n\u001b[1;32m   1470\u001b[0m \u001b[43m    \u001b[49m\u001b[43mdata\u001b[49m\u001b[43m,\u001b[49m\u001b[43m \u001b[49m\u001b[43mvalues\u001b[49m\u001b[43m,\u001b[49m\u001b[43m \u001b[49m\u001b[43mnot_indexed_same\u001b[49m\u001b[38;5;241;43m=\u001b[39;49m\u001b[43mnot_indexed_same\u001b[49m\n\u001b[1;32m   1471\u001b[0m \u001b[43m\u001b[49m\u001b[43m)\u001b[49m\n",
      "File \u001b[0;32m~/miniconda3/envs/analysis-pudl-dev/lib/python3.10/site-packages/pandas/core/groupby/generic.py:1032\u001b[0m, in \u001b[0;36mDataFrameGroupBy._wrap_applied_output\u001b[0;34m(self, data, values, not_indexed_same)\u001b[0m\n\u001b[1;32m   1030\u001b[0m \u001b[38;5;28;01melse\u001b[39;00m:\n\u001b[1;32m   1031\u001b[0m     \u001b[38;5;66;03m# values are Series\u001b[39;00m\n\u001b[0;32m-> 1032\u001b[0m     \u001b[38;5;28;01mreturn\u001b[39;00m \u001b[38;5;28;43mself\u001b[39;49m\u001b[38;5;241;43m.\u001b[39;49m\u001b[43m_wrap_applied_output_series\u001b[49m\u001b[43m(\u001b[49m\n\u001b[1;32m   1033\u001b[0m \u001b[43m        \u001b[49m\u001b[43mvalues\u001b[49m\u001b[43m,\u001b[49m\u001b[43m \u001b[49m\u001b[43mnot_indexed_same\u001b[49m\u001b[43m,\u001b[49m\u001b[43m \u001b[49m\u001b[43mfirst_not_none\u001b[49m\u001b[43m,\u001b[49m\u001b[43m \u001b[49m\u001b[43mkey_index\u001b[49m\n\u001b[1;32m   1034\u001b[0m \u001b[43m    \u001b[49m\u001b[43m)\u001b[49m\n",
      "File \u001b[0;32m~/miniconda3/envs/analysis-pudl-dev/lib/python3.10/site-packages/pandas/core/groupby/generic.py:1076\u001b[0m, in \u001b[0;36mDataFrameGroupBy._wrap_applied_output_series\u001b[0;34m(self, values, not_indexed_same, first_not_none, key_index)\u001b[0m\n\u001b[1;32m   1074\u001b[0m \u001b[38;5;28;01mif\u001b[39;00m \u001b[38;5;129;01mnot\u001b[39;00m all_indexed_same:\n\u001b[1;32m   1075\u001b[0m     \u001b[38;5;66;03m# GH 8467\u001b[39;00m\n\u001b[0;32m-> 1076\u001b[0m     \u001b[38;5;28;01mreturn\u001b[39;00m \u001b[38;5;28;43mself\u001b[39;49m\u001b[38;5;241;43m.\u001b[39;49m\u001b[43m_concat_objects\u001b[49m\u001b[43m(\u001b[49m\u001b[43mvalues\u001b[49m\u001b[43m,\u001b[49m\u001b[43m \u001b[49m\u001b[43mnot_indexed_same\u001b[49m\u001b[38;5;241;43m=\u001b[39;49m\u001b[38;5;28;43;01mTrue\u001b[39;49;00m\u001b[43m)\u001b[49m\n\u001b[1;32m   1078\u001b[0m \u001b[38;5;66;03m# Combine values\u001b[39;00m\n\u001b[1;32m   1079\u001b[0m \u001b[38;5;66;03m# vstack+constructor is faster than concat and handles MI-columns\u001b[39;00m\n",
      "File \u001b[0;32m~/miniconda3/envs/analysis-pudl-dev/lib/python3.10/site-packages/pandas/core/groupby/groupby.py:1079\u001b[0m, in \u001b[0;36mGroupBy._concat_objects\u001b[0;34m(self, values, not_indexed_same)\u001b[0m\n\u001b[1;32m   1077\u001b[0m \u001b[38;5;28;01mif\u001b[39;00m \u001b[38;5;28misinstance\u001b[39m(result, Series) \u001b[38;5;129;01mand\u001b[39;00m name \u001b[38;5;129;01mis\u001b[39;00m \u001b[38;5;129;01mnot\u001b[39;00m \u001b[38;5;28;01mNone\u001b[39;00m:\n\u001b[0;32m-> 1079\u001b[0m     result\u001b[38;5;241m.\u001b[39mname \u001b[38;5;241m=\u001b[39m name\n\u001b[1;32m   1081\u001b[0m \u001b[38;5;28;01mreturn\u001b[39;00m result\n",
      "File \u001b[0;32m~/miniconda3/envs/analysis-pudl-dev/lib/python3.10/site-packages/pandas/core/generic.py:5588\u001b[0m, in \u001b[0;36mNDFrame.__setattr__\u001b[0;34m(self, name, value)\u001b[0m\n\u001b[1;32m   5587\u001b[0m     \u001b[38;5;28mobject\u001b[39m\u001b[38;5;241m.\u001b[39m\u001b[38;5;21m__getattribute__\u001b[39m(\u001b[38;5;28mself\u001b[39m, name)\n\u001b[0;32m-> 5588\u001b[0m     \u001b[38;5;28;01mreturn\u001b[39;00m \u001b[38;5;28;43mobject\u001b[39;49m\u001b[38;5;241;43m.\u001b[39;49m\u001b[38;5;21;43m__setattr__\u001b[39;49m\u001b[43m(\u001b[49m\u001b[38;5;28;43mself\u001b[39;49m\u001b[43m,\u001b[49m\u001b[43m \u001b[49m\u001b[43mname\u001b[49m\u001b[43m,\u001b[49m\u001b[43m \u001b[49m\u001b[43mvalue\u001b[49m\u001b[43m)\u001b[49m\n\u001b[1;32m   5589\u001b[0m \u001b[38;5;28;01mexcept\u001b[39;00m \u001b[38;5;167;01mAttributeError\u001b[39;00m:\n",
      "File \u001b[0;32m~/miniconda3/envs/analysis-pudl-dev/lib/python3.10/site-packages/pandas/core/series.py:642\u001b[0m, in \u001b[0;36mSeries.name\u001b[0;34m(self, value)\u001b[0m\n\u001b[1;32m    640\u001b[0m \u001b[38;5;129m@name\u001b[39m\u001b[38;5;241m.\u001b[39msetter\n\u001b[1;32m    641\u001b[0m \u001b[38;5;28;01mdef\u001b[39;00m \u001b[38;5;21mname\u001b[39m(\u001b[38;5;28mself\u001b[39m, value: Hashable) \u001b[38;5;241m-\u001b[39m\u001b[38;5;241m>\u001b[39m \u001b[38;5;28;01mNone\u001b[39;00m:\n\u001b[0;32m--> 642\u001b[0m     \u001b[43mvalidate_all_hashable\u001b[49m\u001b[43m(\u001b[49m\u001b[43mvalue\u001b[49m\u001b[43m,\u001b[49m\u001b[43m \u001b[49m\u001b[43merror_name\u001b[49m\u001b[38;5;241;43m=\u001b[39;49m\u001b[38;5;124;43mf\u001b[39;49m\u001b[38;5;124;43m\"\u001b[39;49m\u001b[38;5;132;43;01m{\u001b[39;49;00m\u001b[38;5;28;43mtype\u001b[39;49m\u001b[43m(\u001b[49m\u001b[38;5;28;43mself\u001b[39;49m\u001b[43m)\u001b[49m\u001b[38;5;241;43m.\u001b[39;49m\u001b[38;5;18;43m__name__\u001b[39;49m\u001b[38;5;132;43;01m}\u001b[39;49;00m\u001b[38;5;124;43m.name\u001b[39;49m\u001b[38;5;124;43m\"\u001b[39;49m\u001b[43m)\u001b[49m\n\u001b[1;32m    643\u001b[0m     \u001b[38;5;28mobject\u001b[39m\u001b[38;5;241m.\u001b[39m\u001b[38;5;21m__setattr__\u001b[39m(\u001b[38;5;28mself\u001b[39m, \u001b[38;5;124m\"\u001b[39m\u001b[38;5;124m_name\u001b[39m\u001b[38;5;124m\"\u001b[39m, value)\n",
      "File \u001b[0;32m~/miniconda3/envs/analysis-pudl-dev/lib/python3.10/site-packages/pandas/core/dtypes/common.py:1742\u001b[0m, in \u001b[0;36mvalidate_all_hashable\u001b[0;34m(error_name, *args)\u001b[0m\n\u001b[1;32m   1741\u001b[0m \u001b[38;5;28;01mif\u001b[39;00m error_name:\n\u001b[0;32m-> 1742\u001b[0m     \u001b[38;5;28;01mraise\u001b[39;00m \u001b[38;5;167;01mTypeError\u001b[39;00m(\u001b[38;5;124mf\u001b[39m\u001b[38;5;124m\"\u001b[39m\u001b[38;5;132;01m{\u001b[39;00merror_name\u001b[38;5;132;01m}\u001b[39;00m\u001b[38;5;124m must be a hashable type\u001b[39m\u001b[38;5;124m\"\u001b[39m)\n\u001b[1;32m   1743\u001b[0m \u001b[38;5;28;01melse\u001b[39;00m:\n",
      "\u001b[0;31mTypeError\u001b[0m: Series.name must be a hashable type",
      "\nDuring handling of the above exception, another exception occurred:\n",
      "\u001b[0;31mTypeError\u001b[0m                                 Traceback (most recent call last)",
      "Input \u001b[0;32mIn [183]\u001b[0m, in \u001b[0;36m<cell line: 1>\u001b[0;34m()\u001b[0m\n\u001b[0;32m----> 1\u001b[0m \u001b[43mm\u001b[49m\u001b[38;5;241;43m.\u001b[39;49m\u001b[43mgroupby\u001b[49m\u001b[43m(\u001b[49m\u001b[43mlevel\u001b[49m\u001b[38;5;241;43m=\u001b[39;49m\u001b[43m[\u001b[49m\u001b[38;5;124;43m'\u001b[39;49m\u001b[38;5;124;43mregion\u001b[39;49m\u001b[38;5;124;43m'\u001b[39;49m\u001b[43m,\u001b[49m\u001b[43m \u001b[49m\u001b[38;5;124;43m'\u001b[39;49m\u001b[38;5;124;43mfuel\u001b[39;49m\u001b[38;5;124;43m'\u001b[39;49m\u001b[43m]\u001b[49m\u001b[43m,\u001b[49m\u001b[43m \u001b[49m\u001b[43mas_index\u001b[49m\u001b[38;5;241;43m=\u001b[39;49m\u001b[38;5;28;43;01mFalse\u001b[39;49;00m\u001b[43m)\u001b[49m\u001b[43m[\u001b[49m\u001b[43m[\u001b[49m\u001b[43m(\u001b[49m\u001b[38;5;124;43m'\u001b[39;49m\u001b[38;5;124;43mcontemp\u001b[39;49m\u001b[38;5;124;43m'\u001b[39;49m\u001b[43m,\u001b[49m\u001b[43m \u001b[49m\u001b[38;5;28;43;01mFalse\u001b[39;49;00m\u001b[43m)\u001b[49m\u001b[43m,\u001b[49m\u001b[43m \u001b[49m\u001b[43m(\u001b[49m\u001b[38;5;124;43m'\u001b[39;49m\u001b[38;5;124;43mrevised\u001b[39;49m\u001b[38;5;124;43m'\u001b[39;49m\u001b[43m,\u001b[49m\u001b[43m \u001b[49m\u001b[38;5;28;43;01mTrue\u001b[39;49;00m\u001b[43m)\u001b[49m\u001b[43m]\u001b[49m\u001b[43m]\u001b[49m\u001b[38;5;241;43m.\u001b[39;49m\u001b[43mapply\u001b[49m\u001b[43m(\u001b[49m\u001b[43mepm_yoy_change\u001b[49m\u001b[43m)\u001b[49m\n",
      "File \u001b[0;32m~/miniconda3/envs/analysis-pudl-dev/lib/python3.10/site-packages/pandas/core/groupby/groupby.py:1434\u001b[0m, in \u001b[0;36mGroupBy.apply\u001b[0;34m(self, func, *args, **kwargs)\u001b[0m\n\u001b[1;32m   1424\u001b[0m     \u001b[38;5;28;01mexcept\u001b[39;00m \u001b[38;5;167;01mTypeError\u001b[39;00m:\n\u001b[1;32m   1425\u001b[0m         \u001b[38;5;66;03m# gh-20949\u001b[39;00m\n\u001b[1;32m   1426\u001b[0m         \u001b[38;5;66;03m# try again, with .apply acting as a filtering\u001b[39;00m\n\u001b[0;32m   (...)\u001b[0m\n\u001b[1;32m   1430\u001b[0m         \u001b[38;5;66;03m# fails on *some* columns, e.g. a numeric operation\u001b[39;00m\n\u001b[1;32m   1431\u001b[0m         \u001b[38;5;66;03m# on a string grouper column\u001b[39;00m\n\u001b[1;32m   1433\u001b[0m         \u001b[38;5;28;01mwith\u001b[39;00m \u001b[38;5;28mself\u001b[39m\u001b[38;5;241m.\u001b[39m_group_selection_context():\n\u001b[0;32m-> 1434\u001b[0m             \u001b[38;5;28;01mreturn\u001b[39;00m \u001b[38;5;28;43mself\u001b[39;49m\u001b[38;5;241;43m.\u001b[39;49m\u001b[43m_python_apply_general\u001b[49m\u001b[43m(\u001b[49m\u001b[43mf\u001b[49m\u001b[43m,\u001b[49m\u001b[43m \u001b[49m\u001b[38;5;28;43mself\u001b[39;49m\u001b[38;5;241;43m.\u001b[39;49m\u001b[43m_selected_obj\u001b[49m\u001b[43m)\u001b[49m\n\u001b[1;32m   1436\u001b[0m \u001b[38;5;28;01mreturn\u001b[39;00m result\n",
      "File \u001b[0;32m~/miniconda3/envs/analysis-pudl-dev/lib/python3.10/site-packages/pandas/core/groupby/groupby.py:1469\u001b[0m, in \u001b[0;36mGroupBy._python_apply_general\u001b[0;34m(self, f, data, not_indexed_same)\u001b[0m\n\u001b[1;32m   1466\u001b[0m \u001b[38;5;28;01mif\u001b[39;00m not_indexed_same \u001b[38;5;129;01mis\u001b[39;00m \u001b[38;5;28;01mNone\u001b[39;00m:\n\u001b[1;32m   1467\u001b[0m     not_indexed_same \u001b[38;5;241m=\u001b[39m mutated \u001b[38;5;129;01mor\u001b[39;00m \u001b[38;5;28mself\u001b[39m\u001b[38;5;241m.\u001b[39mmutated\n\u001b[0;32m-> 1469\u001b[0m \u001b[38;5;28;01mreturn\u001b[39;00m \u001b[38;5;28;43mself\u001b[39;49m\u001b[38;5;241;43m.\u001b[39;49m\u001b[43m_wrap_applied_output\u001b[49m\u001b[43m(\u001b[49m\n\u001b[1;32m   1470\u001b[0m \u001b[43m    \u001b[49m\u001b[43mdata\u001b[49m\u001b[43m,\u001b[49m\u001b[43m \u001b[49m\u001b[43mvalues\u001b[49m\u001b[43m,\u001b[49m\u001b[43m \u001b[49m\u001b[43mnot_indexed_same\u001b[49m\u001b[38;5;241;43m=\u001b[39;49m\u001b[43mnot_indexed_same\u001b[49m\n\u001b[1;32m   1471\u001b[0m \u001b[43m\u001b[49m\u001b[43m)\u001b[49m\n",
      "File \u001b[0;32m~/miniconda3/envs/analysis-pudl-dev/lib/python3.10/site-packages/pandas/core/groupby/generic.py:1032\u001b[0m, in \u001b[0;36mDataFrameGroupBy._wrap_applied_output\u001b[0;34m(self, data, values, not_indexed_same)\u001b[0m\n\u001b[1;32m   1029\u001b[0m         \u001b[38;5;28;01mreturn\u001b[39;00m result\n\u001b[1;32m   1030\u001b[0m \u001b[38;5;28;01melse\u001b[39;00m:\n\u001b[1;32m   1031\u001b[0m     \u001b[38;5;66;03m# values are Series\u001b[39;00m\n\u001b[0;32m-> 1032\u001b[0m     \u001b[38;5;28;01mreturn\u001b[39;00m \u001b[38;5;28;43mself\u001b[39;49m\u001b[38;5;241;43m.\u001b[39;49m\u001b[43m_wrap_applied_output_series\u001b[49m\u001b[43m(\u001b[49m\n\u001b[1;32m   1033\u001b[0m \u001b[43m        \u001b[49m\u001b[43mvalues\u001b[49m\u001b[43m,\u001b[49m\u001b[43m \u001b[49m\u001b[43mnot_indexed_same\u001b[49m\u001b[43m,\u001b[49m\u001b[43m \u001b[49m\u001b[43mfirst_not_none\u001b[49m\u001b[43m,\u001b[49m\u001b[43m \u001b[49m\u001b[43mkey_index\u001b[49m\n\u001b[1;32m   1034\u001b[0m \u001b[43m    \u001b[49m\u001b[43m)\u001b[49m\n",
      "File \u001b[0;32m~/miniconda3/envs/analysis-pudl-dev/lib/python3.10/site-packages/pandas/core/groupby/generic.py:1076\u001b[0m, in \u001b[0;36mDataFrameGroupBy._wrap_applied_output_series\u001b[0;34m(self, values, not_indexed_same, first_not_none, key_index)\u001b[0m\n\u001b[1;32m   1072\u001b[0m         \u001b[38;5;28;01mreturn\u001b[39;00m concat(values)\n\u001b[1;32m   1074\u001b[0m \u001b[38;5;28;01mif\u001b[39;00m \u001b[38;5;129;01mnot\u001b[39;00m all_indexed_same:\n\u001b[1;32m   1075\u001b[0m     \u001b[38;5;66;03m# GH 8467\u001b[39;00m\n\u001b[0;32m-> 1076\u001b[0m     \u001b[38;5;28;01mreturn\u001b[39;00m \u001b[38;5;28;43mself\u001b[39;49m\u001b[38;5;241;43m.\u001b[39;49m\u001b[43m_concat_objects\u001b[49m\u001b[43m(\u001b[49m\u001b[43mvalues\u001b[49m\u001b[43m,\u001b[49m\u001b[43m \u001b[49m\u001b[43mnot_indexed_same\u001b[49m\u001b[38;5;241;43m=\u001b[39;49m\u001b[38;5;28;43;01mTrue\u001b[39;49;00m\u001b[43m)\u001b[49m\n\u001b[1;32m   1078\u001b[0m \u001b[38;5;66;03m# Combine values\u001b[39;00m\n\u001b[1;32m   1079\u001b[0m \u001b[38;5;66;03m# vstack+constructor is faster than concat and handles MI-columns\u001b[39;00m\n\u001b[1;32m   1080\u001b[0m stacked_values \u001b[38;5;241m=\u001b[39m np\u001b[38;5;241m.\u001b[39mvstack([np\u001b[38;5;241m.\u001b[39masarray(v) \u001b[38;5;28;01mfor\u001b[39;00m v \u001b[38;5;129;01min\u001b[39;00m values])\n",
      "File \u001b[0;32m~/miniconda3/envs/analysis-pudl-dev/lib/python3.10/site-packages/pandas/core/groupby/groupby.py:1079\u001b[0m, in \u001b[0;36mGroupBy._concat_objects\u001b[0;34m(self, values, not_indexed_same)\u001b[0m\n\u001b[1;32m   1076\u001b[0m name \u001b[38;5;241m=\u001b[39m \u001b[38;5;28mself\u001b[39m\u001b[38;5;241m.\u001b[39mobj\u001b[38;5;241m.\u001b[39mname \u001b[38;5;28;01mif\u001b[39;00m \u001b[38;5;28mself\u001b[39m\u001b[38;5;241m.\u001b[39mobj\u001b[38;5;241m.\u001b[39mndim \u001b[38;5;241m==\u001b[39m \u001b[38;5;241m1\u001b[39m \u001b[38;5;28;01melse\u001b[39;00m \u001b[38;5;28mself\u001b[39m\u001b[38;5;241m.\u001b[39m_selection\n\u001b[1;32m   1077\u001b[0m \u001b[38;5;28;01mif\u001b[39;00m \u001b[38;5;28misinstance\u001b[39m(result, Series) \u001b[38;5;129;01mand\u001b[39;00m name \u001b[38;5;129;01mis\u001b[39;00m \u001b[38;5;129;01mnot\u001b[39;00m \u001b[38;5;28;01mNone\u001b[39;00m:\n\u001b[0;32m-> 1079\u001b[0m     result\u001b[38;5;241m.\u001b[39mname \u001b[38;5;241m=\u001b[39m name\n\u001b[1;32m   1081\u001b[0m \u001b[38;5;28;01mreturn\u001b[39;00m result\n",
      "File \u001b[0;32m~/miniconda3/envs/analysis-pudl-dev/lib/python3.10/site-packages/pandas/core/generic.py:5588\u001b[0m, in \u001b[0;36mNDFrame.__setattr__\u001b[0;34m(self, name, value)\u001b[0m\n\u001b[1;32m   5586\u001b[0m \u001b[38;5;28;01mtry\u001b[39;00m:\n\u001b[1;32m   5587\u001b[0m     \u001b[38;5;28mobject\u001b[39m\u001b[38;5;241m.\u001b[39m\u001b[38;5;21m__getattribute__\u001b[39m(\u001b[38;5;28mself\u001b[39m, name)\n\u001b[0;32m-> 5588\u001b[0m     \u001b[38;5;28;01mreturn\u001b[39;00m \u001b[38;5;28;43mobject\u001b[39;49m\u001b[38;5;241;43m.\u001b[39;49m\u001b[38;5;21;43m__setattr__\u001b[39;49m\u001b[43m(\u001b[49m\u001b[38;5;28;43mself\u001b[39;49m\u001b[43m,\u001b[49m\u001b[43m \u001b[49m\u001b[43mname\u001b[49m\u001b[43m,\u001b[49m\u001b[43m \u001b[49m\u001b[43mvalue\u001b[49m\u001b[43m)\u001b[49m\n\u001b[1;32m   5589\u001b[0m \u001b[38;5;28;01mexcept\u001b[39;00m \u001b[38;5;167;01mAttributeError\u001b[39;00m:\n\u001b[1;32m   5590\u001b[0m     \u001b[38;5;28;01mpass\u001b[39;00m\n",
      "File \u001b[0;32m~/miniconda3/envs/analysis-pudl-dev/lib/python3.10/site-packages/pandas/core/series.py:642\u001b[0m, in \u001b[0;36mSeries.name\u001b[0;34m(self, value)\u001b[0m\n\u001b[1;32m    640\u001b[0m \u001b[38;5;129m@name\u001b[39m\u001b[38;5;241m.\u001b[39msetter\n\u001b[1;32m    641\u001b[0m \u001b[38;5;28;01mdef\u001b[39;00m \u001b[38;5;21mname\u001b[39m(\u001b[38;5;28mself\u001b[39m, value: Hashable) \u001b[38;5;241m-\u001b[39m\u001b[38;5;241m>\u001b[39m \u001b[38;5;28;01mNone\u001b[39;00m:\n\u001b[0;32m--> 642\u001b[0m     \u001b[43mvalidate_all_hashable\u001b[49m\u001b[43m(\u001b[49m\u001b[43mvalue\u001b[49m\u001b[43m,\u001b[49m\u001b[43m \u001b[49m\u001b[43merror_name\u001b[49m\u001b[38;5;241;43m=\u001b[39;49m\u001b[38;5;124;43mf\u001b[39;49m\u001b[38;5;124;43m\"\u001b[39;49m\u001b[38;5;132;43;01m{\u001b[39;49;00m\u001b[38;5;28;43mtype\u001b[39;49m\u001b[43m(\u001b[49m\u001b[38;5;28;43mself\u001b[39;49m\u001b[43m)\u001b[49m\u001b[38;5;241;43m.\u001b[39;49m\u001b[38;5;18;43m__name__\u001b[39;49m\u001b[38;5;132;43;01m}\u001b[39;49;00m\u001b[38;5;124;43m.name\u001b[39;49m\u001b[38;5;124;43m\"\u001b[39;49m\u001b[43m)\u001b[49m\n\u001b[1;32m    643\u001b[0m     \u001b[38;5;28mobject\u001b[39m\u001b[38;5;241m.\u001b[39m\u001b[38;5;21m__setattr__\u001b[39m(\u001b[38;5;28mself\u001b[39m, \u001b[38;5;124m\"\u001b[39m\u001b[38;5;124m_name\u001b[39m\u001b[38;5;124m\"\u001b[39m, value)\n",
      "File \u001b[0;32m~/miniconda3/envs/analysis-pudl-dev/lib/python3.10/site-packages/pandas/core/dtypes/common.py:1742\u001b[0m, in \u001b[0;36mvalidate_all_hashable\u001b[0;34m(error_name, *args)\u001b[0m\n\u001b[1;32m   1740\u001b[0m \u001b[38;5;28;01mif\u001b[39;00m \u001b[38;5;129;01mnot\u001b[39;00m \u001b[38;5;28mall\u001b[39m(is_hashable(arg) \u001b[38;5;28;01mfor\u001b[39;00m arg \u001b[38;5;129;01min\u001b[39;00m args):\n\u001b[1;32m   1741\u001b[0m     \u001b[38;5;28;01mif\u001b[39;00m error_name:\n\u001b[0;32m-> 1742\u001b[0m         \u001b[38;5;28;01mraise\u001b[39;00m \u001b[38;5;167;01mTypeError\u001b[39;00m(\u001b[38;5;124mf\u001b[39m\u001b[38;5;124m\"\u001b[39m\u001b[38;5;132;01m{\u001b[39;00merror_name\u001b[38;5;132;01m}\u001b[39;00m\u001b[38;5;124m must be a hashable type\u001b[39m\u001b[38;5;124m\"\u001b[39m)\n\u001b[1;32m   1743\u001b[0m     \u001b[38;5;28;01melse\u001b[39;00m:\n\u001b[1;32m   1744\u001b[0m         \u001b[38;5;28;01mraise\u001b[39;00m \u001b[38;5;167;01mTypeError\u001b[39;00m(\u001b[38;5;124m\"\u001b[39m\u001b[38;5;124mAll elements must be hashable\u001b[39m\u001b[38;5;124m\"\u001b[39m)\n",
      "\u001b[0;31mTypeError\u001b[0m: Series.name must be a hashable type"
     ]
    }
   ],
   "source": [
    "m.groupby(level=['region', 'fuel'], as_index=False)[[('contemp', False), ('revised', True)]].apply(epm_yoy_change)"
   ]
  },
  {
   "cell_type": "code",
   "execution_count": 188,
   "id": "c4037a82",
   "metadata": {},
   "outputs": [],
   "source": [
    "lagged = m.groupby(level=['region', 'fuel'], as_index=False).shift(12)[('revised', True)]\n",
    "m[('calc_pct_yoy', False)] = m.loc[:, ('contemp', False)].sub(lagged).div(lagged) * 100"
   ]
  },
  {
   "cell_type": "code",
   "execution_count": 190,
   "id": "d47ced6b",
   "metadata": {},
   "outputs": [],
   "source": [
    "m[('yoy_diff', False)] = pd.to_numeric(m.loc[:, ('yoy_pct_change', False)], errors='coerce').sub(m.loc[:, ('calc_pct_yoy', False)])"
   ]
  },
  {
   "cell_type": "code",
   "execution_count": 191,
   "id": "00467344",
   "metadata": {},
   "outputs": [
    {
     "data": {
      "text/plain": [
       "<AxesSubplot:xlabel='region,date,fuel'>"
      ]
     },
     "execution_count": 191,
     "metadata": {},
     "output_type": "execute_result"
    },
    {
     "data": {
      "image/png": "[encoded data removed]",
      "text/plain": [
       "<Figure size 432x288 with 1 Axes>"
      ]
     },
     "metadata": {
      "needs_background": "light"
     },
     "output_type": "display_data"
    }
   ],
   "source": [
    "m[('yoy_diff', False)].plot()"
   ]
  },
  {
   "cell_type": "code",
   "execution_count": 195,
   "id": "9a633837",
   "metadata": {},
   "outputs": [
    {
     "data": {
      "text/plain": [
       "0.6461780058391577"
      ]
     },
     "execution_count": 195,
     "metadata": {},
     "output_type": "execute_result"
    }
   ],
   "source": [
    "m[('yoy_diff', False)].isna().mean()"
   ]
  },
  {
   "cell_type": "code",
   "execution_count": 194,
   "id": "c6b19b6e",
   "metadata": {},
   "outputs": [
    {
     "data": {
      "text/plain": [
       "array([nan])"
      ]
     },
     "execution_count": 194,
     "metadata": {},
     "output_type": "execute_result"
    }
   ],
   "source": [
    "pd.to_numeric(['W'], errors='coerce')"
   ]
  },
  {
   "cell_type": "code",
   "execution_count": 198,
   "id": "bd151b6b",
   "metadata": {},
   "outputs": [
    {
     "data": {
      "text/plain": [
       "<AxesSubplot:>"
      ]
     },
     "execution_count": 198,
     "metadata": {},
     "output_type": "execute_result"
    },
    {
     "data": {
      "image/png": "[encoded data removed]",
      "text/plain": [
       "<Figure size 432x288 with 1 Axes>"
      ]
     },
     "metadata": {
      "needs_background": "light"
     },
     "output_type": "display_data"
    }
   ],
   "source": [
    "m[('yoy_diff', False)].hist(bins=50, range=(-200,100))"
   ]
  },
  {
   "cell_type": "code",
   "execution_count": 199,
   "id": "7f4ad7ef",
   "metadata": {},
   "outputs": [
    {
     "data": {
      "text/html": [
       "<div>\n",
       "<style scoped>\n",
       "    .dataframe tbody tr th:only-of-type {\n",
       "        vertical-align: middle;\n",
       "    }\n",
       "\n",
       "    .dataframe tbody tr th {\n",
       "        vertical-align: top;\n",
       "    }\n",
       "\n",
       "    .dataframe thead tr th {\n",
       "        text-align: left;\n",
       "    }\n",
       "\n",
       "    .dataframe thead tr:last-of-type th {\n",
       "        text-align: right;\n",
       "    }\n",
       "</style>\n",
       "<table border=\"1\" class=\"dataframe\">\n",
       "  <thead>\n",
       "    <tr>\n",
       "      <th></th>\n",
       "      <th></th>\n",
       "      <th></th>\n",
       "      <th colspan=\"2\" halign=\"left\">Electric Power Sector</th>\n",
       "      <th colspan=\"2\" halign=\"left\">Electric Utilities</th>\n",
       "      <th colspan=\"2\" halign=\"left\">Independent Power Producers</th>\n",
       "      <th colspan=\"2\" halign=\"left\">yoy_pct_change</th>\n",
       "      <th>contemp</th>\n",
       "      <th>revised</th>\n",
       "      <th>calc_pct_yoy</th>\n",
       "      <th>yoy_diff</th>\n",
       "    </tr>\n",
       "    <tr>\n",
       "      <th></th>\n",
       "      <th></th>\n",
       "      <th>is_revised</th>\n",
       "      <th>False</th>\n",
       "      <th>True</th>\n",
       "      <th>False</th>\n",
       "      <th>True</th>\n",
       "      <th>False</th>\n",
       "      <th>True</th>\n",
       "      <th>False</th>\n",
       "      <th>True</th>\n",
       "      <th>False</th>\n",
       "      <th>True</th>\n",
       "      <th>False</th>\n",
       "      <th>False</th>\n",
       "    </tr>\n",
       "    <tr>\n",
       "      <th>region</th>\n",
       "      <th>date</th>\n",
       "      <th>fuel</th>\n",
       "      <th></th>\n",
       "      <th></th>\n",
       "      <th></th>\n",
       "      <th></th>\n",
       "      <th></th>\n",
       "      <th></th>\n",
       "      <th></th>\n",
       "      <th></th>\n",
       "      <th></th>\n",
       "      <th></th>\n",
       "      <th></th>\n",
       "      <th></th>\n",
       "    </tr>\n",
       "  </thead>\n",
       "  <tbody>\n",
       "    <tr>\n",
       "      <th rowspan=\"5\" valign=\"top\">Alabama</th>\n",
       "      <th rowspan=\"4\" valign=\"top\">2006-09-01</th>\n",
       "      <th>coal</th>\n",
       "      <td>NaN</td>\n",
       "      <td>2.11</td>\n",
       "      <td>NaN</td>\n",
       "      <td>2.11</td>\n",
       "      <td>NaN</td>\n",
       "      <td>--</td>\n",
       "      <td>NaN</td>\n",
       "      <td>NaN</td>\n",
       "      <td>NaN</td>\n",
       "      <td>2.11</td>\n",
       "      <td>NaN</td>\n",
       "      <td>NaN</td>\n",
       "    </tr>\n",
       "    <tr>\n",
       "      <th>gas</th>\n",
       "      <td>NaN</td>\n",
       "      <td>6.36</td>\n",
       "      <td>NaN</td>\n",
       "      <td>7.15</td>\n",
       "      <td>NaN</td>\n",
       "      <td>5.54</td>\n",
       "      <td>NaN</td>\n",
       "      <td>NaN</td>\n",
       "      <td>NaN</td>\n",
       "      <td>6.36</td>\n",
       "      <td>NaN</td>\n",
       "      <td>NaN</td>\n",
       "    </tr>\n",
       "    <tr>\n",
       "      <th>oil</th>\n",
       "      <td>NaN</td>\n",
       "      <td>13.62</td>\n",
       "      <td>NaN</td>\n",
       "      <td>13.62</td>\n",
       "      <td>NaN</td>\n",
       "      <td>--</td>\n",
       "      <td>NaN</td>\n",
       "      <td>NaN</td>\n",
       "      <td>NaN</td>\n",
       "      <td>13.62</td>\n",
       "      <td>NaN</td>\n",
       "      <td>NaN</td>\n",
       "    </tr>\n",
       "    <tr>\n",
       "      <th>petcoke</th>\n",
       "      <td>NaN</td>\n",
       "      <td>--</td>\n",
       "      <td>NaN</td>\n",
       "      <td>--</td>\n",
       "      <td>NaN</td>\n",
       "      <td>--</td>\n",
       "      <td>NaN</td>\n",
       "      <td>NaN</td>\n",
       "      <td>NaN</td>\n",
       "      <td>NaN</td>\n",
       "      <td>NaN</td>\n",
       "      <td>NaN</td>\n",
       "    </tr>\n",
       "    <tr>\n",
       "      <th>2006-10-01</th>\n",
       "      <th>coal</th>\n",
       "      <td>NaN</td>\n",
       "      <td>2.35</td>\n",
       "      <td>NaN</td>\n",
       "      <td>2.35</td>\n",
       "      <td>NaN</td>\n",
       "      <td>--</td>\n",
       "      <td>NaN</td>\n",
       "      <td>NaN</td>\n",
       "      <td>NaN</td>\n",
       "      <td>2.35</td>\n",
       "      <td>NaN</td>\n",
       "      <td>NaN</td>\n",
       "    </tr>\n",
       "    <tr>\n",
       "      <th>...</th>\n",
       "      <th>...</th>\n",
       "      <th>...</th>\n",
       "      <td>...</td>\n",
       "      <td>...</td>\n",
       "      <td>...</td>\n",
       "      <td>...</td>\n",
       "      <td>...</td>\n",
       "      <td>...</td>\n",
       "      <td>...</td>\n",
       "      <td>...</td>\n",
       "      <td>...</td>\n",
       "      <td>...</td>\n",
       "      <td>...</td>\n",
       "      <td>...</td>\n",
       "    </tr>\n",
       "    <tr>\n",
       "      <th rowspan=\"5\" valign=\"top\">Wyoming</th>\n",
       "      <th>2021-11-01</th>\n",
       "      <th>petcoke</th>\n",
       "      <td>--</td>\n",
       "      <td>NaN</td>\n",
       "      <td>--</td>\n",
       "      <td>NaN</td>\n",
       "      <td>--</td>\n",
       "      <td>NaN</td>\n",
       "      <td>--</td>\n",
       "      <td>NaN</td>\n",
       "      <td>NaN</td>\n",
       "      <td>NaN</td>\n",
       "      <td>NaN</td>\n",
       "      <td>NaN</td>\n",
       "    </tr>\n",
       "    <tr>\n",
       "      <th rowspan=\"4\" valign=\"top\">2021-12-01</th>\n",
       "      <th>coal</th>\n",
       "      <td>W</td>\n",
       "      <td>NaN</td>\n",
       "      <td>1.55</td>\n",
       "      <td>NaN</td>\n",
       "      <td>W</td>\n",
       "      <td>NaN</td>\n",
       "      <td>W</td>\n",
       "      <td>NaN</td>\n",
       "      <td>NaN</td>\n",
       "      <td>NaN</td>\n",
       "      <td>NaN</td>\n",
       "      <td>NaN</td>\n",
       "    </tr>\n",
       "    <tr>\n",
       "      <th>gas</th>\n",
       "      <td>W</td>\n",
       "      <td>NaN</td>\n",
       "      <td>8.55</td>\n",
       "      <td>NaN</td>\n",
       "      <td>W</td>\n",
       "      <td>NaN</td>\n",
       "      <td>W</td>\n",
       "      <td>NaN</td>\n",
       "      <td>NaN</td>\n",
       "      <td>NaN</td>\n",
       "      <td>NaN</td>\n",
       "      <td>NaN</td>\n",
       "    </tr>\n",
       "    <tr>\n",
       "      <th>oil</th>\n",
       "      <td>21.25</td>\n",
       "      <td>NaN</td>\n",
       "      <td>21.25</td>\n",
       "      <td>NaN</td>\n",
       "      <td>--</td>\n",
       "      <td>NaN</td>\n",
       "      <td>0.74</td>\n",
       "      <td>NaN</td>\n",
       "      <td>21.25</td>\n",
       "      <td>NaN</td>\n",
       "      <td>74.037674</td>\n",
       "      <td>-73.297674</td>\n",
       "    </tr>\n",
       "    <tr>\n",
       "      <th>petcoke</th>\n",
       "      <td>--</td>\n",
       "      <td>NaN</td>\n",
       "      <td>--</td>\n",
       "      <td>NaN</td>\n",
       "      <td>--</td>\n",
       "      <td>NaN</td>\n",
       "      <td>--</td>\n",
       "      <td>NaN</td>\n",
       "      <td>NaN</td>\n",
       "      <td>NaN</td>\n",
       "      <td>NaN</td>\n",
       "      <td>NaN</td>\n",
       "    </tr>\n",
       "  </tbody>\n",
       "</table>\n",
       "<p>45212 rows × 12 columns</p>\n",
       "</div>"
      ],
      "text/plain": [
       "                           Electric Power Sector        Electric Utilities  \\\n",
       "is_revised                                 False   True              False   \n",
       "region  date       fuel                                                      \n",
       "Alabama 2006-09-01 coal                      NaN   2.11                NaN   \n",
       "                   gas                       NaN   6.36                NaN   \n",
       "                   oil                       NaN  13.62                NaN   \n",
       "                   petcoke                   NaN     --                NaN   \n",
       "        2006-10-01 coal                      NaN   2.35                NaN   \n",
       "...                                          ...    ...                ...   \n",
       "Wyoming 2021-11-01 petcoke                    --    NaN                 --   \n",
       "        2021-12-01 coal                        W    NaN               1.55   \n",
       "                   gas                         W    NaN               8.55   \n",
       "                   oil                     21.25    NaN              21.25   \n",
       "                   petcoke                    --    NaN                 --   \n",
       "\n",
       "                                  Independent Power Producers        \\\n",
       "is_revised                   True                       False  True   \n",
       "region  date       fuel                                               \n",
       "Alabama 2006-09-01 coal      2.11                         NaN    --   \n",
       "                   gas       7.15                         NaN  5.54   \n",
       "                   oil      13.62                         NaN    --   \n",
       "                   petcoke     --                         NaN    --   \n",
       "        2006-10-01 coal      2.35                         NaN    --   \n",
       "...                           ...                         ...   ...   \n",
       "Wyoming 2021-11-01 petcoke    NaN                          --   NaN   \n",
       "        2021-12-01 coal       NaN                           W   NaN   \n",
       "                   gas        NaN                           W   NaN   \n",
       "                   oil        NaN                          --   NaN   \n",
       "                   petcoke    NaN                          --   NaN   \n",
       "\n",
       "                           yoy_pct_change      contemp revised calc_pct_yoy  \\\n",
       "is_revised                          False True   False    True        False   \n",
       "region  date       fuel                                                       \n",
       "Alabama 2006-09-01 coal               NaN  NaN     NaN    2.11          NaN   \n",
       "                   gas                NaN  NaN     NaN    6.36          NaN   \n",
       "                   oil                NaN  NaN     NaN   13.62          NaN   \n",
       "                   petcoke            NaN  NaN     NaN     NaN          NaN   \n",
       "        2006-10-01 coal               NaN  NaN     NaN    2.35          NaN   \n",
       "...                                   ...  ...     ...     ...          ...   \n",
       "Wyoming 2021-11-01 petcoke             --  NaN     NaN     NaN          NaN   \n",
       "        2021-12-01 coal                 W  NaN     NaN     NaN          NaN   \n",
       "                   gas                  W  NaN     NaN     NaN          NaN   \n",
       "                   oil               0.74  NaN   21.25     NaN    74.037674   \n",
       "                   petcoke             --  NaN     NaN     NaN          NaN   \n",
       "\n",
       "                             yoy_diff  \n",
       "is_revised                      False  \n",
       "region  date       fuel                \n",
       "Alabama 2006-09-01 coal           NaN  \n",
       "                   gas            NaN  \n",
       "                   oil            NaN  \n",
       "                   petcoke        NaN  \n",
       "        2006-10-01 coal           NaN  \n",
       "...                               ...  \n",
       "Wyoming 2021-11-01 petcoke        NaN  \n",
       "        2021-12-01 coal           NaN  \n",
       "                   gas            NaN  \n",
       "                   oil     -73.297674  \n",
       "                   petcoke        NaN  \n",
       "\n",
       "[45212 rows x 12 columns]"
      ]
     },
     "execution_count": 199,
     "metadata": {},
     "output_type": "execute_result"
    }
   ],
   "source": [
    "m"
   ]
  },
  {
   "cell_type": "code",
   "execution_count": null,
   "id": "250dc03b",
   "metadata": {},
   "outputs": [],
   "source": []
  }
 ],
 "metadata": {
  "kernelspec": {
   "display_name": "Python 3 (ipykernel)",
   "language": "python",
   "name": "python3"
  },
  "language_info": {
   "codemirror_mode": {
    "name": "ipython",
    "version": 3
   },
   "file_extension": ".py",
   "mimetype": "text/x-python",
   "name": "python",
   "nbconvert_exporter": "python",
   "pygments_lexer": "ipython3",
   "version": "3.10.5"
  }
 },
 "nbformat": 4,
 "nbformat_minor": 5
}
