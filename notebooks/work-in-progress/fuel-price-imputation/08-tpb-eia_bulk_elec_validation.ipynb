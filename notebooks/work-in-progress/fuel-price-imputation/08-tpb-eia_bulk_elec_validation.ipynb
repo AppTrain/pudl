{
 "cells": [
  {
   "cell_type": "code",
   "execution_count": 1,
   "id": "58f1225f",
   "metadata": {},
   "outputs": [],
   "source": [
    "%load_ext autoreload"
   ]
  },
  {
   "cell_type": "code",
   "execution_count": 2,
   "id": "e3ca8e20-4ca5-45e6-923c-38ade983c3e4",
   "metadata": {},
   "outputs": [],
   "source": [
    "%autoreload 2"
   ]
  },
  {
   "cell_type": "code",
   "execution_count": 3,
   "id": "5d2e89fd-5948-4b7a-979c-aeb02ffb0374",
   "metadata": {},
   "outputs": [],
   "source": [
    "import logging\n",
    "import sys\n",
    "\n",
    "import numpy as np\n",
    "import pandas as pd\n",
    "from sklearn.metrics import mean_absolute_error, mean_absolute_percentage_error, mean_squared_error, median_absolute_error\n",
    "import sqlalchemy as sa\n",
    "\n",
    "import matplotlib\n",
    "import matplotlib.pyplot as plt\n",
    "\n",
    "import pudl\n",
    "from pudl.output.pudltabl import PudlTabl\n",
    "from pudl.metadata.fields import apply_pudl_dtypes\n",
    "from pudl.metadata.dfs import POLITICAL_SUBDIVISIONS"
   ]
  },
  {
   "cell_type": "code",
   "execution_count": 4,
   "id": "91bc71bc-7bf0-4e2a-9448-9774f5906807",
   "metadata": {},
   "outputs": [],
   "source": [
    "from pudl.analysis.fuel_price import load_pudl_features, _add_features, FRCImputer, _cast_categorical, add_error_cols"
   ]
  },
  {
   "cell_type": "code",
   "execution_count": 5,
   "id": "7d88f170-cd66-4b0c-98df-6e8c0134a8c8",
   "metadata": {},
   "outputs": [],
   "source": [
    "pd.options.display.max_columns = 100\n",
    "pd.options.display.max_rows = 100"
   ]
  },
  {
   "cell_type": "code",
   "execution_count": 6,
   "id": "cd7dfeef-0037-43a3-9df3-ba89639ac270",
   "metadata": {},
   "outputs": [],
   "source": [
    "pudl_settings = pudl.workspace.setup.get_defaults()\n",
    "pudl_engine = sa.create_engine(pudl_settings[\"pudl_db\"])\n",
    "census_engine = sa.create_engine(pudl_settings[\"censusdp1tract_db\"])"
   ]
  },
  {
   "cell_type": "markdown",
   "id": "291e377f-586c-4229-a2f3-b17c448daad2",
   "metadata": {},
   "source": [
    "# Notes\n",
    "## FRC vs Bulk aggregate category harmonization\n",
    "FRC fuel maps are slightly different from the ones we use with the bulk data; there is no `other_gas` category in the bulk aggs. They need to be harmonized for comparison.\n",
    "\n",
    "FRC categories:\n",
    "\n",
    "```\n",
    "SELECT\n",
    "    energy_source_code,\n",
    "    fuel_group_code,\n",
    "    count(*) as n\n",
    "FROM fuel_receipts_costs_eia923\n",
    "GROUP BY 1,2\n",
    "ORDER BY 2,1\n",
    "```\n",
    "\n",
    "|energy_source_code|fuel_group_code|n|\n",
    "|----|----|----|\n",
    "|NULL|NULL|1|\n",
    "|BIT|coal|132470|\n",
    "|LIG|coal|3396|\n",
    "|SC|coal|34|\n",
    "|SUB|coal|75443|\n",
    "|WC|coal|8109|\n",
    "|NG|natural_gas|330786|\n",
    "|BFG|other_gas|300|\n",
    "|OG|other_gas|1477|\n",
    "|PG|other_gas|122|\n",
    "|SGP|other_gas|19|\n",
    "|DFO|petroleum|46455|\n",
    "|JF|petroleum|143|\n",
    "|KER|petroleum|935|\n",
    "|RFO|petroleum|5309|\n",
    "|WO|petroleum|783|\n",
    "|PC|petroleum_coke|2783|\n",
    "\n",
    "Compare to the values present in the bulk aggregates:\n",
    "\n",
    "```\n",
    "SELECT fuel_agg, count(*) as n\n",
    "FROM fuel_receipts_costs_aggs_eia\n",
    "group by 1 order by 2 desc\n",
    "```\n",
    "\n",
    "|fuel_agg|n|\n",
    "|----|----|\n",
    "|natural_gas|124637|\n",
    "|petroleum_liquids|99740|\n",
    "|all_coal|93366|\n",
    "|bituminous_coal|75573|\n",
    "|sub_bituminous_coal|60149|\n",
    "|petroleum_coke|35174|\n",
    "|lignite_coal|11898|\n",
    "\n"
   ]
  },
  {
   "cell_type": "markdown",
   "id": "cdc7717c-a4bf-420b-9513-ca0a9a46e3ce",
   "metadata": {},
   "source": [
    "# Data Preparation and Preprocessing"
   ]
  },
  {
   "cell_type": "markdown",
   "id": "3b7ab5f4-3ce9-4201-b581-ee32799a3d07",
   "metadata": {},
   "source": [
    "## Read data from PUDL DB and create some features "
   ]
  },
  {
   "cell_type": "code",
   "execution_count": 7,
   "id": "f6ac1261",
   "metadata": {},
   "outputs": [
    {
     "name": "stdout",
     "output_type": "stream",
     "text": [
      "CPU times: user 6.08 s, sys: 871 ms, total: 6.95 s\n",
      "Wall time: 7.51 s\n"
     ]
    }
   ],
   "source": [
    "%%time\n",
    "frc = load_pudl_features(pudl_engine, census_engine)"
   ]
  },
  {
   "cell_type": "code",
   "execution_count": 8,
   "id": "b249a6bd-c5ad-4076-84fd-9378acce37af",
   "metadata": {},
   "outputs": [
    {
     "name": "stderr",
     "output_type": "stream",
     "text": [
      "/tmp/ipykernel_13708/1425565854.py:2: FutureWarning: In a future version, `df.iloc[:, i] = newvals` will attempt to set the values inplace instead of always setting a new array. To retain the old behavior, use either `df[df.columns[i]] = newvals` or, if columns are non-unique, `df.isetitem(i, newvals)`\n",
      "  frc.loc[:, date_col] = pd.to_datetime(frc.loc[:, date_col])\n",
      "/tmp/ipykernel_13708/1425565854.py:2: FutureWarning: In a future version, `df.iloc[:, i] = newvals` will attempt to set the values inplace instead of always setting a new array. To retain the old behavior, use either `df[df.columns[i]] = newvals` or, if columns are non-unique, `df.isetitem(i, newvals)`\n",
      "  frc.loc[:, date_col] = pd.to_datetime(frc.loc[:, date_col])\n",
      "/tmp/ipykernel_13708/1425565854.py:2: FutureWarning: In a future version, `df.iloc[:, i] = newvals` will attempt to set the values inplace instead of always setting a new array. To retain the old behavior, use either `df[df.columns[i]] = newvals` or, if columns are non-unique, `df.isetitem(i, newvals)`\n",
      "  frc.loc[:, date_col] = pd.to_datetime(frc.loc[:, date_col])\n"
     ]
    }
   ],
   "source": [
    "for date_col in ['report_date', 'contract_expiration_date', 'first_day_of_report_year']:\n",
    "    frc.loc[:, date_col] = pd.to_datetime(frc.loc[:, date_col])"
   ]
  },
  {
   "cell_type": "code",
   "execution_count": 9,
   "id": "1b13aca4",
   "metadata": {},
   "outputs": [
    {
     "name": "stderr",
     "output_type": "stream",
     "text": [
      "2022-12-30 16:28:19 [    INFO] catalystcoop.pudl.helpers:202 Assigned state FIPS codes for 98.17% of records.\n",
      "2022-12-30 16:28:26 [    INFO] catalystcoop.pudl.helpers:218 Assigned county FIPS codes for 94.84% of records.\n",
      "/home/tpb/catalyst/pudl/src/pudl/analysis/fuel_price.py:404: FutureWarning: In a future version, `df.iloc[:, i] = newvals` will attempt to set the values inplace instead of always setting a new array. To retain the old behavior, use either `df[df.columns[i]] = newvals` or, if columns are non-unique, `df.isetitem(i, newvals)`\n",
      "  out.loc[:, str_cols] = out.loc[:, str_cols].astype(\"object\").replace(pd.NA, np.nan)\n",
      "/home/tpb/catalyst/pudl/src/pudl/analysis/fuel_price.py:352: FutureWarning: In a future version, `df.iloc[:, i] = newvals` will attempt to set the values inplace instead of always setting a new array. To retain the old behavior, use either `df[df.columns[i]] = newvals` or, if columns are non-unique, `df.isetitem(i, newvals)`\n",
      "  df.loc[:, categorical_cols] = df.loc[:, categorical_cols].astype(\"category\")\n"
     ]
    }
   ],
   "source": [
    "frc = _add_features(frc)"
   ]
  },
  {
   "cell_type": "code",
   "execution_count": 10,
   "id": "07f9fae4",
   "metadata": {},
   "outputs": [
    {
     "name": "stdout",
     "output_type": "stream",
     "text": [
      "<class 'pandas.core.frame.DataFrame'>\n",
      "Int64Index: 608565 entries, 0 to 608564\n",
      "Data columns (total 54 columns):\n",
      " #   Column                                   Non-Null Count   Dtype         \n",
      "---  ------                                   --------------   -----         \n",
      " 0   plant_id_eia                             608565 non-null  int64         \n",
      " 1   report_date                              608565 non-null  datetime64[ns]\n",
      " 2   contract_type_code                       608327 non-null  category      \n",
      " 3   contract_expiration_date                 264263 non-null  datetime64[ns]\n",
      " 4   energy_source_code                       608564 non-null  category      \n",
      " 5   fuel_type_code_pudl                      608564 non-null  category      \n",
      " 6   mine_id_pudl                             216618 non-null  float64       \n",
      " 7   supplier_name                            608562 non-null  object        \n",
      " 8   fuel_received_units                      608565 non-null  float64       \n",
      " 9   fuel_mmbtu_per_unit                      608565 non-null  float64       \n",
      " 10  sulfur_content_pct                       608565 non-null  float64       \n",
      " 11  ash_content_pct                          608565 non-null  float64       \n",
      " 12  mercury_content_ppm                      319083 non-null  float64       \n",
      " 13  primary_transportation_mode_code         550373 non-null  category      \n",
      " 14  secondary_transportation_mode_code       33268 non-null   category      \n",
      " 15  natural_gas_transport_code               340902 non-null  category      \n",
      " 16  natural_gas_delivery_contract_type_code  164375 non-null  category      \n",
      " 17  moisture_content_pct                     91976 non-null   float64       \n",
      " 18  chlorine_content_ppm                     91976 non-null   float64       \n",
      " 19  fuel_group_code                          608564 non-null  category      \n",
      " 20  first_day_of_report_year                 608565 non-null  datetime64[ns]\n",
      " 21  mine_name                                216618 non-null  object        \n",
      " 22  mine_type_code                           216543 non-null  category      \n",
      " 23  mine_id_msha                             194939 non-null  float64       \n",
      " 24  mine_county_id_fips                      175577 non-null  object        \n",
      " 25  mine_state                               216618 non-null  category      \n",
      " 26  latitude                                 595372 non-null  float64       \n",
      " 27  longitude                                596998 non-null  float64       \n",
      " 28  state                                    597400 non-null  category      \n",
      " 29  county                                   585679 non-null  object        \n",
      " 30  ferc_cogen_status                        596601 non-null  float64       \n",
      " 31  ferc_exempt_wholesale_generator          596601 non-null  float64       \n",
      " 32  ferc_small_power_producer                596601 non-null  float64       \n",
      " 33  iso_rto_code                             91674 non-null   category      \n",
      " 34  sector_name_eia                          534788 non-null  category      \n",
      " 35  natural_gas_pipeline_name_1              205984 non-null  object        \n",
      " 36  natural_gas_pipeline_name_2              32599 non-null   category      \n",
      " 37  natural_gas_pipeline_name_3              10384 non-null   category      \n",
      " 38  regulatory_status_code                   596993 non-null  category      \n",
      " 39  water_source                             553661 non-null  object        \n",
      " 40  mine_longitude                           175534 non-null  float64       \n",
      " 41  mine_latitude                            175534 non-null  float64       \n",
      " 42  state_id_fips                            597400 non-null  category      \n",
      " 43  county_id_fips                           577171 non-null  object        \n",
      " 44  fuel_cost_per_mmbtu_clipped              408325 non-null  float64       \n",
      " 45  fuel_cost_per_mmbtu_raw                  408325 non-null  float64       \n",
      " 46  elapsed_days                             608565 non-null  int64         \n",
      " 47  remaining_contract_days                  264263 non-null  float64       \n",
      " 48  report_month                             608565 non-null  int64         \n",
      " 49  census_region                            597400 non-null  category      \n",
      " 50  fuel_received_mmbtu                      608565 non-null  float64       \n",
      " 51  mine_plant_same_state                    608565 non-null  boolean       \n",
      " 52  mine_plant_same_county                   608565 non-null  boolean       \n",
      " 53  mine_distance_km                         169058 non-null  float64       \n",
      "dtypes: boolean(2), category(18), datetime64[ns](3), float64(21), int64(3), object(7)\n",
      "memory usage: 175.3+ MB\n"
     ]
    }
   ],
   "source": [
    "frc.info()"
   ]
  },
  {
   "cell_type": "code",
   "execution_count": 11,
   "id": "adde9d48",
   "metadata": {},
   "outputs": [],
   "source": [
    "feature_cols = [\n",
    "# Categorical\n",
    "    \"energy_source_code\",\n",
    "    \"contract_type_code\",\n",
    "    \"primary_transportation_mode_code\",\n",
    "#    \"natural_gas_delivery_contract_type_code\",\n",
    "    \"natural_gas_transport_code\",\n",
    "    \"mine_type_code\",\n",
    "   \"mine_state\",\n",
    "#    \"iso_rto_code\",\n",
    "#   \"sector_name_eia\",\n",
    "#   \"county_id_fips\",\n",
    "#   \"mine_plant_same_state\",  # bool\n",
    "   \"mine_plant_same_county\", # bool\n",
    "    \"state\",\n",
    "#   \"census_region\",\n",
    "   \"secondary_transportation_mode_code\",\n",
    "#   \"mine_county_id_fips\",\n",
    "   \"fuel_group_code\",\n",
    "    \n",
    "# Numerical\n",
    "#   \"mine_id_msha\",\n",
    "#   \"latitude\",\n",
    "#   \"longitude\",\n",
    "   \"sulfur_content_pct\",\n",
    "   \"ash_content_pct\",\n",
    "#   \"moisture_content_pct\",\n",
    "#   \"mercury_content_ppm\",\n",
    "#   \"chlorine_content_ppm\",\n",
    "#   \"remaining_contract_days\",\n",
    "#   \"plant_id_eia\", \n",
    "    \"report_month\",\n",
    "    \"elapsed_days\",\n",
    "   \"fuel_received_mmbtu\",\n",
    "#   \"fuel_cost_per_mmbtu\",\n",
    "   \"fuel_mmbtu_per_unit\",\n",
    "#   \"fuel_received_units\",\n",
    "]"
   ]
  },
  {
   "cell_type": "code",
   "execution_count": 12,
   "id": "6c6e22b5",
   "metadata": {},
   "outputs": [],
   "source": [
    "imputer = FRCImputer(features=feature_cols, target_col='fuel_cost_per_mmbtu_clipped')"
   ]
  },
  {
   "cell_type": "code",
   "execution_count": 13,
   "id": "95dd5559",
   "metadata": {
    "scrolled": true
   },
   "outputs": [
    {
     "name": "stdout",
     "output_type": "stream",
     "text": [
      "CPU times: user 13min 55s, sys: 6.91 s, total: 14min 2s\n",
      "Wall time: 1min 13s\n"
     ]
    }
   ],
   "source": [
    "%%time\n",
    "predicted = imputer.impute(frc)"
   ]
  },
  {
   "cell_type": "code",
   "execution_count": 14,
   "id": "57d95a25",
   "metadata": {},
   "outputs": [
    {
     "data": {
      "text/plain": [
       "-0.2924598061512366"
      ]
     },
     "execution_count": 14,
     "metadata": {},
     "output_type": "execute_result"
    }
   ],
   "source": [
    "# This is overfit due to no grouped validation set, but still useful for reference.\n",
    "# Have to implement early stopping validation manually with a loop.\n",
    "imputer.estimator['hist_gbr'].validation_score_[-1]"
   ]
  },
  {
   "cell_type": "code",
   "execution_count": 15,
   "id": "ae7cc651",
   "metadata": {},
   "outputs": [],
   "source": [
    "frc = pd.concat([frc, predicted], axis=1, copy=False)"
   ]
  },
  {
   "cell_type": "code",
   "execution_count": 16,
   "id": "aa51f500",
   "metadata": {},
   "outputs": [],
   "source": [
    "add_error_cols(frc, target_col=imputer._target_col, prediction_col=imputer._target_col + \"_imputed_values\")"
   ]
  },
  {
   "cell_type": "code",
   "execution_count": 17,
   "id": "2c52bcc4",
   "metadata": {},
   "outputs": [
    {
     "data": {
      "text/plain": [
       "2.184443688791931"
      ]
     },
     "execution_count": 17,
     "metadata": {},
     "output_type": "execute_result"
    }
   ],
   "source": [
    "# training error\n",
    "frc.loc[~imputer._to_impute, 'error'].abs().mean()"
   ]
  },
  {
   "cell_type": "code",
   "execution_count": 18,
   "id": "6ba9d3bf",
   "metadata": {},
   "outputs": [
    {
     "data": {
      "text/plain": [
       "fuel_group_code\n",
       "coal              0.081873\n",
       "natural_gas       0.124539\n",
       "other_gas         0.220751\n",
       "petroleum         0.074432\n",
       "petroleum_coke    0.147942\n",
       "dtype: float64"
      ]
     },
     "execution_count": 18,
     "metadata": {},
     "output_type": "execute_result"
    }
   ],
   "source": [
    "compare_cols = [imputer._target_col, imputer._target_col + \"_imputed_values\", 'fuel_received_mmbtu']\n",
    "(frc.dropna(subset=compare_cols)\n",
    " .groupby('fuel_group_code')[compare_cols]\n",
    " .apply(lambda x: mean_absolute_percentage_error(y_true=x.loc[:, compare_cols[1]], # inverted pred/true to control outliers\n",
    "                                                 y_pred=x.loc[:, compare_cols[0]],\n",
    "                                                 sample_weight=x.loc[:, compare_cols[2]]\n",
    "                                                 ) if x.shape[0] > 0 else np.nan\n",
    "        )\n",
    ")"
   ]
  },
  {
   "cell_type": "markdown",
   "id": "ded2f412",
   "metadata": {},
   "source": [
    "# External Validation\n",
    "First make the reference datasets look like frc"
   ]
  },
  {
   "cell_type": "code",
   "execution_count": 20,
   "id": "3abd4ce2",
   "metadata": {},
   "outputs": [],
   "source": [
    "from pudl.metadata.dfs import POLITICAL_SUBDIVISIONS"
   ]
  },
  {
   "cell_type": "code",
   "execution_count": 21,
   "id": "8aec847a",
   "metadata": {
    "scrolled": true
   },
   "outputs": [],
   "source": [
    "rename_dict = {\n",
    "    'subdivision_code': 'state_abbrev',\n",
    "    'subdivision_name': 'state_name',\n",
    "    'division_code_us_census': 'census_region_abbrev',\n",
    "    'division_name_us_census': 'region_name',\n",
    "}\n",
    "state_mappings = POLITICAL_SUBDIVISIONS.loc[POLITICAL_SUBDIVISIONS['country_code'].eq(\"USA\"), rename_dict.keys()].rename(columns=rename_dict)\n",
    "#state_mappings = pd.Series(STATE_TO_CENSUS_REGION, name='census_region_abbrev').to_frame().reset_index().rename(columns={'index': 'state_abbrev'})\n",
    "#state_mappings['state_name'] = state_mappings['state_abbrev'].map(US_STATES_TERRITORIES)"
   ]
  },
  {
   "cell_type": "code",
   "execution_count": 23,
   "id": "b1cf62f5",
   "metadata": {},
   "outputs": [],
   "source": [
    "census_names_map = {\n",
    "    'ENC': 'East North Central',\n",
    "    'ESC': 'East South Central',\n",
    "    'MAT': 'Middle Atlantic',\n",
    "    'MTN': 'Mountain',\n",
    "    'NEW': 'New England',\n",
    "    'PCC': 'Pacific Contiguous',\n",
    "    'PCN': 'Pacific Noncontiguous',\n",
    "    'SAT': 'South Atlantic',\n",
    "    'WNC': 'West North Central',\n",
    "    'WSC': 'West South Central',\n",
    "}"
   ]
  },
  {
   "cell_type": "code",
   "execution_count": 24,
   "id": "cbbb3eba",
   "metadata": {},
   "outputs": [],
   "source": [
    "state_mappings['region_name'] = state_mappings['census_region_abbrev'].map(census_names_map)"
   ]
  },
  {
   "cell_type": "code",
   "execution_count": 23,
   "id": "8b958abb",
   "metadata": {
    "scrolled": true
   },
   "outputs": [
    {
     "data": {
      "text/html": [
       "<div>\n",
       "<style scoped>\n",
       "    .dataframe tbody tr th:only-of-type {\n",
       "        vertical-align: middle;\n",
       "    }\n",
       "\n",
       "    .dataframe tbody tr th {\n",
       "        vertical-align: top;\n",
       "    }\n",
       "\n",
       "    .dataframe thead th {\n",
       "        text-align: right;\n",
       "    }\n",
       "</style>\n",
       "<table border=\"1\" class=\"dataframe\">\n",
       "  <thead>\n",
       "    <tr style=\"text-align: right;\">\n",
       "      <th></th>\n",
       "      <th>index</th>\n",
       "      <th>state_abbrev</th>\n",
       "      <th>state_name</th>\n",
       "      <th>census_region_abbrev</th>\n",
       "      <th>region_name</th>\n",
       "    </tr>\n",
       "  </thead>\n",
       "  <tbody>\n",
       "    <tr>\n",
       "      <th>0</th>\n",
       "      <td>1</td>\n",
       "      <td>AK</td>\n",
       "      <td>Alaska</td>\n",
       "      <td>PCN</td>\n",
       "      <td>Pacific Noncontiguous</td>\n",
       "    </tr>\n",
       "    <tr>\n",
       "      <th>1</th>\n",
       "      <td>2</td>\n",
       "      <td>AL</td>\n",
       "      <td>Alabama</td>\n",
       "      <td>ESC</td>\n",
       "      <td>East South Central</td>\n",
       "    </tr>\n",
       "    <tr>\n",
       "      <th>2</th>\n",
       "      <td>3</td>\n",
       "      <td>AR</td>\n",
       "      <td>Arkansas</td>\n",
       "      <td>WSC</td>\n",
       "      <td>West South Central</td>\n",
       "    </tr>\n",
       "    <tr>\n",
       "      <th>3</th>\n",
       "      <td>5</td>\n",
       "      <td>AZ</td>\n",
       "      <td>Arizona</td>\n",
       "      <td>MTN</td>\n",
       "      <td>Mountain</td>\n",
       "    </tr>\n",
       "    <tr>\n",
       "      <th>4</th>\n",
       "      <td>7</td>\n",
       "      <td>CA</td>\n",
       "      <td>California</td>\n",
       "      <td>PCC</td>\n",
       "      <td>Pacific Contiguous</td>\n",
       "    </tr>\n",
       "    <tr>\n",
       "      <th>5</th>\n",
       "      <td>8</td>\n",
       "      <td>CO</td>\n",
       "      <td>Colorado</td>\n",
       "      <td>MTN</td>\n",
       "      <td>Mountain</td>\n",
       "    </tr>\n",
       "    <tr>\n",
       "      <th>6</th>\n",
       "      <td>9</td>\n",
       "      <td>CT</td>\n",
       "      <td>Connecticut</td>\n",
       "      <td>NEW</td>\n",
       "      <td>New England</td>\n",
       "    </tr>\n",
       "    <tr>\n",
       "      <th>7</th>\n",
       "      <td>10</td>\n",
       "      <td>DC</td>\n",
       "      <td>District of Columbia</td>\n",
       "      <td>SAT</td>\n",
       "      <td>South Atlantic</td>\n",
       "    </tr>\n",
       "    <tr>\n",
       "      <th>8</th>\n",
       "      <td>11</td>\n",
       "      <td>DE</td>\n",
       "      <td>Delaware</td>\n",
       "      <td>SAT</td>\n",
       "      <td>South Atlantic</td>\n",
       "    </tr>\n",
       "    <tr>\n",
       "      <th>9</th>\n",
       "      <td>12</td>\n",
       "      <td>FL</td>\n",
       "      <td>Florida</td>\n",
       "      <td>SAT</td>\n",
       "      <td>South Atlantic</td>\n",
       "    </tr>\n",
       "    <tr>\n",
       "      <th>10</th>\n",
       "      <td>13</td>\n",
       "      <td>GA</td>\n",
       "      <td>Georgia</td>\n",
       "      <td>SAT</td>\n",
       "      <td>South Atlantic</td>\n",
       "    </tr>\n",
       "    <tr>\n",
       "      <th>11</th>\n",
       "      <td>15</td>\n",
       "      <td>HI</td>\n",
       "      <td>Hawaii</td>\n",
       "      <td>PCN</td>\n",
       "      <td>Pacific Noncontiguous</td>\n",
       "    </tr>\n",
       "    <tr>\n",
       "      <th>12</th>\n",
       "      <td>16</td>\n",
       "      <td>IA</td>\n",
       "      <td>Iowa</td>\n",
       "      <td>WNC</td>\n",
       "      <td>West North Central</td>\n",
       "    </tr>\n",
       "    <tr>\n",
       "      <th>13</th>\n",
       "      <td>17</td>\n",
       "      <td>ID</td>\n",
       "      <td>Idaho</td>\n",
       "      <td>MTN</td>\n",
       "      <td>Mountain</td>\n",
       "    </tr>\n",
       "    <tr>\n",
       "      <th>14</th>\n",
       "      <td>18</td>\n",
       "      <td>IL</td>\n",
       "      <td>Illinois</td>\n",
       "      <td>ENC</td>\n",
       "      <td>East North Central</td>\n",
       "    </tr>\n",
       "    <tr>\n",
       "      <th>15</th>\n",
       "      <td>19</td>\n",
       "      <td>IN</td>\n",
       "      <td>Indiana</td>\n",
       "      <td>ENC</td>\n",
       "      <td>East North Central</td>\n",
       "    </tr>\n",
       "    <tr>\n",
       "      <th>16</th>\n",
       "      <td>20</td>\n",
       "      <td>KS</td>\n",
       "      <td>Kansas</td>\n",
       "      <td>WNC</td>\n",
       "      <td>West North Central</td>\n",
       "    </tr>\n",
       "    <tr>\n",
       "      <th>17</th>\n",
       "      <td>21</td>\n",
       "      <td>KY</td>\n",
       "      <td>Kentucky</td>\n",
       "      <td>ESC</td>\n",
       "      <td>East South Central</td>\n",
       "    </tr>\n",
       "    <tr>\n",
       "      <th>18</th>\n",
       "      <td>22</td>\n",
       "      <td>LA</td>\n",
       "      <td>Louisiana</td>\n",
       "      <td>WSC</td>\n",
       "      <td>West South Central</td>\n",
       "    </tr>\n",
       "    <tr>\n",
       "      <th>19</th>\n",
       "      <td>23</td>\n",
       "      <td>MA</td>\n",
       "      <td>Massachusetts</td>\n",
       "      <td>NEW</td>\n",
       "      <td>New England</td>\n",
       "    </tr>\n",
       "    <tr>\n",
       "      <th>20</th>\n",
       "      <td>25</td>\n",
       "      <td>MD</td>\n",
       "      <td>Maryland</td>\n",
       "      <td>SAT</td>\n",
       "      <td>South Atlantic</td>\n",
       "    </tr>\n",
       "    <tr>\n",
       "      <th>21</th>\n",
       "      <td>26</td>\n",
       "      <td>ME</td>\n",
       "      <td>Maine</td>\n",
       "      <td>NEW</td>\n",
       "      <td>New England</td>\n",
       "    </tr>\n",
       "    <tr>\n",
       "      <th>22</th>\n",
       "      <td>27</td>\n",
       "      <td>MI</td>\n",
       "      <td>Michigan</td>\n",
       "      <td>ENC</td>\n",
       "      <td>East North Central</td>\n",
       "    </tr>\n",
       "    <tr>\n",
       "      <th>23</th>\n",
       "      <td>28</td>\n",
       "      <td>MN</td>\n",
       "      <td>Minnesota</td>\n",
       "      <td>WNC</td>\n",
       "      <td>West North Central</td>\n",
       "    </tr>\n",
       "    <tr>\n",
       "      <th>24</th>\n",
       "      <td>29</td>\n",
       "      <td>MO</td>\n",
       "      <td>Missouri</td>\n",
       "      <td>WNC</td>\n",
       "      <td>West North Central</td>\n",
       "    </tr>\n",
       "    <tr>\n",
       "      <th>25</th>\n",
       "      <td>31</td>\n",
       "      <td>MS</td>\n",
       "      <td>Mississippi</td>\n",
       "      <td>ESC</td>\n",
       "      <td>East South Central</td>\n",
       "    </tr>\n",
       "    <tr>\n",
       "      <th>26</th>\n",
       "      <td>32</td>\n",
       "      <td>MT</td>\n",
       "      <td>Montana</td>\n",
       "      <td>MTN</td>\n",
       "      <td>Mountain</td>\n",
       "    </tr>\n",
       "    <tr>\n",
       "      <th>27</th>\n",
       "      <td>34</td>\n",
       "      <td>NC</td>\n",
       "      <td>North Carolina</td>\n",
       "      <td>SAT</td>\n",
       "      <td>South Atlantic</td>\n",
       "    </tr>\n",
       "    <tr>\n",
       "      <th>28</th>\n",
       "      <td>35</td>\n",
       "      <td>ND</td>\n",
       "      <td>North Dakota</td>\n",
       "      <td>WNC</td>\n",
       "      <td>West North Central</td>\n",
       "    </tr>\n",
       "    <tr>\n",
       "      <th>29</th>\n",
       "      <td>36</td>\n",
       "      <td>NE</td>\n",
       "      <td>Nebraska</td>\n",
       "      <td>WNC</td>\n",
       "      <td>West North Central</td>\n",
       "    </tr>\n",
       "    <tr>\n",
       "      <th>30</th>\n",
       "      <td>37</td>\n",
       "      <td>NH</td>\n",
       "      <td>New Hampshire</td>\n",
       "      <td>NEW</td>\n",
       "      <td>New England</td>\n",
       "    </tr>\n",
       "    <tr>\n",
       "      <th>31</th>\n",
       "      <td>38</td>\n",
       "      <td>NJ</td>\n",
       "      <td>New Jersey</td>\n",
       "      <td>MAT</td>\n",
       "      <td>Middle Atlantic</td>\n",
       "    </tr>\n",
       "    <tr>\n",
       "      <th>32</th>\n",
       "      <td>40</td>\n",
       "      <td>NM</td>\n",
       "      <td>New Mexico</td>\n",
       "      <td>MTN</td>\n",
       "      <td>Mountain</td>\n",
       "    </tr>\n",
       "    <tr>\n",
       "      <th>33</th>\n",
       "      <td>44</td>\n",
       "      <td>NV</td>\n",
       "      <td>Nevada</td>\n",
       "      <td>MTN</td>\n",
       "      <td>Mountain</td>\n",
       "    </tr>\n",
       "    <tr>\n",
       "      <th>34</th>\n",
       "      <td>45</td>\n",
       "      <td>NY</td>\n",
       "      <td>New York</td>\n",
       "      <td>MAT</td>\n",
       "      <td>Middle Atlantic</td>\n",
       "    </tr>\n",
       "    <tr>\n",
       "      <th>35</th>\n",
       "      <td>46</td>\n",
       "      <td>OH</td>\n",
       "      <td>Ohio</td>\n",
       "      <td>ENC</td>\n",
       "      <td>East North Central</td>\n",
       "    </tr>\n",
       "    <tr>\n",
       "      <th>36</th>\n",
       "      <td>47</td>\n",
       "      <td>OK</td>\n",
       "      <td>Oklahoma</td>\n",
       "      <td>WSC</td>\n",
       "      <td>West South Central</td>\n",
       "    </tr>\n",
       "    <tr>\n",
       "      <th>37</th>\n",
       "      <td>49</td>\n",
       "      <td>OR</td>\n",
       "      <td>Oregon</td>\n",
       "      <td>PCC</td>\n",
       "      <td>Pacific Contiguous</td>\n",
       "    </tr>\n",
       "    <tr>\n",
       "      <th>38</th>\n",
       "      <td>50</td>\n",
       "      <td>PA</td>\n",
       "      <td>Pennsylvania</td>\n",
       "      <td>MAT</td>\n",
       "      <td>Middle Atlantic</td>\n",
       "    </tr>\n",
       "    <tr>\n",
       "      <th>39</th>\n",
       "      <td>54</td>\n",
       "      <td>RI</td>\n",
       "      <td>Rhode Island</td>\n",
       "      <td>NEW</td>\n",
       "      <td>New England</td>\n",
       "    </tr>\n",
       "    <tr>\n",
       "      <th>40</th>\n",
       "      <td>55</td>\n",
       "      <td>SC</td>\n",
       "      <td>South Carolina</td>\n",
       "      <td>SAT</td>\n",
       "      <td>South Atlantic</td>\n",
       "    </tr>\n",
       "    <tr>\n",
       "      <th>41</th>\n",
       "      <td>56</td>\n",
       "      <td>SD</td>\n",
       "      <td>South Dakota</td>\n",
       "      <td>WNC</td>\n",
       "      <td>West North Central</td>\n",
       "    </tr>\n",
       "    <tr>\n",
       "      <th>42</th>\n",
       "      <td>58</td>\n",
       "      <td>TN</td>\n",
       "      <td>Tennessee</td>\n",
       "      <td>ESC</td>\n",
       "      <td>East South Central</td>\n",
       "    </tr>\n",
       "    <tr>\n",
       "      <th>43</th>\n",
       "      <td>59</td>\n",
       "      <td>TX</td>\n",
       "      <td>Texas</td>\n",
       "      <td>WSC</td>\n",
       "      <td>West South Central</td>\n",
       "    </tr>\n",
       "    <tr>\n",
       "      <th>44</th>\n",
       "      <td>60</td>\n",
       "      <td>UT</td>\n",
       "      <td>Utah</td>\n",
       "      <td>MTN</td>\n",
       "      <td>Mountain</td>\n",
       "    </tr>\n",
       "    <tr>\n",
       "      <th>45</th>\n",
       "      <td>61</td>\n",
       "      <td>VA</td>\n",
       "      <td>Virginia</td>\n",
       "      <td>SAT</td>\n",
       "      <td>South Atlantic</td>\n",
       "    </tr>\n",
       "    <tr>\n",
       "      <th>46</th>\n",
       "      <td>63</td>\n",
       "      <td>VT</td>\n",
       "      <td>Vermont</td>\n",
       "      <td>NEW</td>\n",
       "      <td>New England</td>\n",
       "    </tr>\n",
       "    <tr>\n",
       "      <th>47</th>\n",
       "      <td>64</td>\n",
       "      <td>WA</td>\n",
       "      <td>Washington</td>\n",
       "      <td>PCC</td>\n",
       "      <td>Pacific Contiguous</td>\n",
       "    </tr>\n",
       "    <tr>\n",
       "      <th>48</th>\n",
       "      <td>65</td>\n",
       "      <td>WI</td>\n",
       "      <td>Wisconsin</td>\n",
       "      <td>ENC</td>\n",
       "      <td>East North Central</td>\n",
       "    </tr>\n",
       "    <tr>\n",
       "      <th>49</th>\n",
       "      <td>66</td>\n",
       "      <td>WV</td>\n",
       "      <td>West Virginia</td>\n",
       "      <td>SAT</td>\n",
       "      <td>South Atlantic</td>\n",
       "    </tr>\n",
       "    <tr>\n",
       "      <th>50</th>\n",
       "      <td>67</td>\n",
       "      <td>WY</td>\n",
       "      <td>Wyoming</td>\n",
       "      <td>MTN</td>\n",
       "      <td>Mountain</td>\n",
       "    </tr>\n",
       "  </tbody>\n",
       "</table>\n",
       "</div>"
      ],
      "text/plain": [
       "    index state_abbrev            state_name census_region_abbrev            region_name\n",
       "0       1           AK                Alaska                  PCN  Pacific Noncontiguous\n",
       "1       2           AL               Alabama                  ESC     East South Central\n",
       "2       3           AR              Arkansas                  WSC     West South Central\n",
       "3       5           AZ               Arizona                  MTN               Mountain\n",
       "4       7           CA            California                  PCC     Pacific Contiguous\n",
       "5       8           CO              Colorado                  MTN               Mountain\n",
       "6       9           CT           Connecticut                  NEW            New England\n",
       "7      10           DC  District of Columbia                  SAT         South Atlantic\n",
       "8      11           DE              Delaware                  SAT         South Atlantic\n",
       "9      12           FL               Florida                  SAT         South Atlantic\n",
       "10     13           GA               Georgia                  SAT         South Atlantic\n",
       "11     15           HI                Hawaii                  PCN  Pacific Noncontiguous\n",
       "12     16           IA                  Iowa                  WNC     West North Central\n",
       "13     17           ID                 Idaho                  MTN               Mountain\n",
       "14     18           IL              Illinois                  ENC     East North Central\n",
       "15     19           IN               Indiana                  ENC     East North Central\n",
       "16     20           KS                Kansas                  WNC     West North Central\n",
       "17     21           KY              Kentucky                  ESC     East South Central\n",
       "18     22           LA             Louisiana                  WSC     West South Central\n",
       "19     23           MA         Massachusetts                  NEW            New England\n",
       "20     25           MD              Maryland                  SAT         South Atlantic\n",
       "21     26           ME                 Maine                  NEW            New England\n",
       "22     27           MI              Michigan                  ENC     East North Central\n",
       "23     28           MN             Minnesota                  WNC     West North Central\n",
       "24     29           MO              Missouri                  WNC     West North Central\n",
       "25     31           MS           Mississippi                  ESC     East South Central\n",
       "26     32           MT               Montana                  MTN               Mountain\n",
       "27     34           NC        North Carolina                  SAT         South Atlantic\n",
       "28     35           ND          North Dakota                  WNC     West North Central\n",
       "29     36           NE              Nebraska                  WNC     West North Central\n",
       "30     37           NH         New Hampshire                  NEW            New England\n",
       "31     38           NJ            New Jersey                  MAT        Middle Atlantic\n",
       "32     40           NM            New Mexico                  MTN               Mountain\n",
       "33     44           NV                Nevada                  MTN               Mountain\n",
       "34     45           NY              New York                  MAT        Middle Atlantic\n",
       "35     46           OH                  Ohio                  ENC     East North Central\n",
       "36     47           OK              Oklahoma                  WSC     West South Central\n",
       "37     49           OR                Oregon                  PCC     Pacific Contiguous\n",
       "38     50           PA          Pennsylvania                  MAT        Middle Atlantic\n",
       "39     54           RI          Rhode Island                  NEW            New England\n",
       "40     55           SC        South Carolina                  SAT         South Atlantic\n",
       "41     56           SD          South Dakota                  WNC     West North Central\n",
       "42     58           TN             Tennessee                  ESC     East South Central\n",
       "43     59           TX                 Texas                  WSC     West South Central\n",
       "44     60           UT                  Utah                  MTN               Mountain\n",
       "45     61           VA              Virginia                  SAT         South Atlantic\n",
       "46     63           VT               Vermont                  NEW            New England\n",
       "47     64           WA            Washington                  PCC     Pacific Contiguous\n",
       "48     65           WI             Wisconsin                  ENC     East North Central\n",
       "49     66           WV         West Virginia                  SAT         South Atlantic\n",
       "50     67           WY               Wyoming                  MTN               Mountain"
      ]
     },
     "execution_count": 23,
     "metadata": {},
     "output_type": "execute_result"
    }
   ],
   "source": [
    "# drop territories\n",
    "state_mappings = state_mappings.astype('category').dropna().reset_index()\n",
    "state_mappings"
   ]
  },
  {
   "cell_type": "markdown",
   "id": "6e60ad23-e886-4d9f-9341-d54596314c6c",
   "metadata": {},
   "source": [
    "### Get bulk aggregates"
   ]
  },
  {
   "cell_type": "code",
   "execution_count": 25,
   "id": "b0608138-a48d-4a89-b36e-ce991d626dff",
   "metadata": {},
   "outputs": [],
   "source": [
    "bulk = pd.read_sql_table(\n",
    "    \"fuel_receipts_costs_aggs_eia\",\n",
    "    pudl_engine,\n",
    ")"
   ]
  },
  {
   "cell_type": "code",
   "execution_count": 26,
   "id": "47ea562b-0123-483d-a50f-f14089b58208",
   "metadata": {},
   "outputs": [
    {
     "data": {
      "text/html": [
       "<div>\n",
       "<style scoped>\n",
       "    .dataframe tbody tr th:only-of-type {\n",
       "        vertical-align: middle;\n",
       "    }\n",
       "\n",
       "    .dataframe tbody tr th {\n",
       "        vertical-align: top;\n",
       "    }\n",
       "\n",
       "    .dataframe thead th {\n",
       "        text-align: right;\n",
       "    }\n",
       "</style>\n",
       "<table border=\"1\" class=\"dataframe\">\n",
       "  <thead>\n",
       "    <tr style=\"text-align: right;\">\n",
       "      <th></th>\n",
       "      <th>fuel_agg</th>\n",
       "      <th>geo_agg</th>\n",
       "      <th>sector_agg</th>\n",
       "      <th>temporal_agg</th>\n",
       "      <th>report_date</th>\n",
       "      <th>fuel_received_mmbtu</th>\n",
       "      <th>fuel_cost_per_mmbtu</th>\n",
       "    </tr>\n",
       "  </thead>\n",
       "  <tbody>\n",
       "    <tr>\n",
       "      <th>0</th>\n",
       "      <td>all_coal</td>\n",
       "      <td>AK</td>\n",
       "      <td>all_commercial</td>\n",
       "      <td>annual</td>\n",
       "      <td>2008-01-01</td>\n",
       "      <td>8656725.50</td>\n",
       "      <td>NaN</td>\n",
       "    </tr>\n",
       "    <tr>\n",
       "      <th>1</th>\n",
       "      <td>all_coal</td>\n",
       "      <td>AK</td>\n",
       "      <td>all_commercial</td>\n",
       "      <td>annual</td>\n",
       "      <td>2009-01-01</td>\n",
       "      <td>8389006.50</td>\n",
       "      <td>NaN</td>\n",
       "    </tr>\n",
       "    <tr>\n",
       "      <th>2</th>\n",
       "      <td>all_coal</td>\n",
       "      <td>AK</td>\n",
       "      <td>all_commercial</td>\n",
       "      <td>annual</td>\n",
       "      <td>2010-01-01</td>\n",
       "      <td>8919102.00</td>\n",
       "      <td>NaN</td>\n",
       "    </tr>\n",
       "    <tr>\n",
       "      <th>3</th>\n",
       "      <td>all_coal</td>\n",
       "      <td>AK</td>\n",
       "      <td>all_commercial</td>\n",
       "      <td>annual</td>\n",
       "      <td>2011-01-01</td>\n",
       "      <td>9808907.76</td>\n",
       "      <td>NaN</td>\n",
       "    </tr>\n",
       "    <tr>\n",
       "      <th>4</th>\n",
       "      <td>all_coal</td>\n",
       "      <td>AK</td>\n",
       "      <td>all_commercial</td>\n",
       "      <td>annual</td>\n",
       "      <td>2012-01-01</td>\n",
       "      <td>0.00</td>\n",
       "      <td>NaN</td>\n",
       "    </tr>\n",
       "  </tbody>\n",
       "</table>\n",
       "</div>"
      ],
      "text/plain": [
       "   fuel_agg geo_agg      sector_agg temporal_agg report_date  fuel_received_mmbtu  fuel_cost_per_mmbtu\n",
       "0  all_coal      AK  all_commercial       annual  2008-01-01           8656725.50                  NaN\n",
       "1  all_coal      AK  all_commercial       annual  2009-01-01           8389006.50                  NaN\n",
       "2  all_coal      AK  all_commercial       annual  2010-01-01           8919102.00                  NaN\n",
       "3  all_coal      AK  all_commercial       annual  2011-01-01           9808907.76                  NaN\n",
       "4  all_coal      AK  all_commercial       annual  2012-01-01                 0.00                  NaN"
      ]
     },
     "execution_count": 26,
     "metadata": {},
     "output_type": "execute_result"
    }
   ],
   "source": [
    "bulk.head()"
   ]
  },
  {
   "cell_type": "code",
   "execution_count": 27,
   "id": "1e183a8c-0856-467f-94aa-9be1b9b45523",
   "metadata": {},
   "outputs": [
    {
     "data": {
      "text/plain": [
       "(500537, 7)"
      ]
     },
     "execution_count": 27,
     "metadata": {},
     "output_type": "execute_result"
    }
   ],
   "source": [
    "bulk.shape"
   ]
  },
  {
   "cell_type": "code",
   "execution_count": 29,
   "id": "6067fd0f-d587-4fac-a611-db02fc7614c7",
   "metadata": {},
   "outputs": [
    {
     "data": {
      "text/html": [
       "<div>\n",
       "<style scoped>\n",
       "    .dataframe tbody tr th:only-of-type {\n",
       "        vertical-align: middle;\n",
       "    }\n",
       "\n",
       "    .dataframe tbody tr th {\n",
       "        vertical-align: top;\n",
       "    }\n",
       "\n",
       "    .dataframe thead th {\n",
       "        text-align: right;\n",
       "    }\n",
       "</style>\n",
       "<table border=\"1\" class=\"dataframe\">\n",
       "  <thead>\n",
       "    <tr style=\"text-align: right;\">\n",
       "      <th></th>\n",
       "      <th>plant_id_eia</th>\n",
       "      <th>report_date</th>\n",
       "      <th>contract_type_code</th>\n",
       "      <th>contract_expiration_date</th>\n",
       "      <th>energy_source_code</th>\n",
       "      <th>fuel_type_code_pudl</th>\n",
       "      <th>mine_id_pudl</th>\n",
       "      <th>supplier_name</th>\n",
       "      <th>fuel_received_units</th>\n",
       "      <th>fuel_mmbtu_per_unit</th>\n",
       "      <th>sulfur_content_pct</th>\n",
       "      <th>ash_content_pct</th>\n",
       "      <th>mercury_content_ppm</th>\n",
       "      <th>primary_transportation_mode_code</th>\n",
       "      <th>secondary_transportation_mode_code</th>\n",
       "      <th>natural_gas_transport_code</th>\n",
       "      <th>natural_gas_delivery_contract_type_code</th>\n",
       "      <th>moisture_content_pct</th>\n",
       "      <th>chlorine_content_ppm</th>\n",
       "      <th>fuel_group_code</th>\n",
       "      <th>first_day_of_report_year</th>\n",
       "      <th>mine_name</th>\n",
       "      <th>mine_type_code</th>\n",
       "      <th>mine_id_msha</th>\n",
       "      <th>mine_county_id_fips</th>\n",
       "      <th>mine_state</th>\n",
       "      <th>latitude</th>\n",
       "      <th>longitude</th>\n",
       "      <th>state</th>\n",
       "      <th>county</th>\n",
       "      <th>ferc_cogen_status</th>\n",
       "      <th>ferc_exempt_wholesale_generator</th>\n",
       "      <th>ferc_small_power_producer</th>\n",
       "      <th>iso_rto_code</th>\n",
       "      <th>sector_name_eia</th>\n",
       "      <th>natural_gas_pipeline_name_1</th>\n",
       "      <th>natural_gas_pipeline_name_2</th>\n",
       "      <th>natural_gas_pipeline_name_3</th>\n",
       "      <th>regulatory_status_code</th>\n",
       "      <th>water_source</th>\n",
       "      <th>mine_longitude</th>\n",
       "      <th>mine_latitude</th>\n",
       "      <th>state_id_fips</th>\n",
       "      <th>county_id_fips</th>\n",
       "      <th>fuel_cost_per_mmbtu_clipped</th>\n",
       "      <th>fuel_cost_per_mmbtu_raw</th>\n",
       "      <th>elapsed_days</th>\n",
       "      <th>remaining_contract_days</th>\n",
       "      <th>report_month</th>\n",
       "      <th>census_region</th>\n",
       "      <th>fuel_received_mmbtu</th>\n",
       "      <th>mine_plant_same_state</th>\n",
       "      <th>mine_plant_same_county</th>\n",
       "      <th>mine_distance_km</th>\n",
       "      <th>fuel_cost_per_mmbtu_clipped_filled</th>\n",
       "      <th>fuel_cost_per_mmbtu_clipped_is_imputed</th>\n",
       "      <th>fuel_cost_per_mmbtu_clipped_imputed_values</th>\n",
       "      <th>error</th>\n",
       "      <th>rel_error</th>\n",
       "    </tr>\n",
       "  </thead>\n",
       "  <tbody>\n",
       "    <tr>\n",
       "      <th>0</th>\n",
       "      <td>3</td>\n",
       "      <td>2008-01-01</td>\n",
       "      <td>C</td>\n",
       "      <td>2008-04-01</td>\n",
       "      <td>BIT</td>\n",
       "      <td>coal</td>\n",
       "      <td>0.0</td>\n",
       "      <td>interocean coal</td>\n",
       "      <td>259412.0</td>\n",
       "      <td>23.100</td>\n",
       "      <td>0.49</td>\n",
       "      <td>5.4</td>\n",
       "      <td>NaN</td>\n",
       "      <td>RV</td>\n",
       "      <td>NaN</td>\n",
       "      <td>firm</td>\n",
       "      <td>NaN</td>\n",
       "      <td>NaN</td>\n",
       "      <td>NaN</td>\n",
       "      <td>coal</td>\n",
       "      <td>2008-01-01</td>\n",
       "      <td>mina pribbenow</td>\n",
       "      <td>SU</td>\n",
       "      <td>NaN</td>\n",
       "      <td>NaN</td>\n",
       "      <td>COL</td>\n",
       "      <td>31.0069</td>\n",
       "      <td>-88.0103</td>\n",
       "      <td>AL</td>\n",
       "      <td>Mobile</td>\n",
       "      <td>0.0</td>\n",
       "      <td>0.0</td>\n",
       "      <td>0.0</td>\n",
       "      <td>NaN</td>\n",
       "      <td>NaN</td>\n",
       "      <td>NaN</td>\n",
       "      <td>NaN</td>\n",
       "      <td>NaN</td>\n",
       "      <td>RE</td>\n",
       "      <td>Mobile River</td>\n",
       "      <td>NaN</td>\n",
       "      <td>NaN</td>\n",
       "      <td>01</td>\n",
       "      <td>01097</td>\n",
       "      <td>2.135</td>\n",
       "      <td>2.135</td>\n",
       "      <td>0</td>\n",
       "      <td>91.0</td>\n",
       "      <td>1</td>\n",
       "      <td>ESC</td>\n",
       "      <td>5992417.200</td>\n",
       "      <td>False</td>\n",
       "      <td>False</td>\n",
       "      <td>NaN</td>\n",
       "      <td>2.135</td>\n",
       "      <td>False</td>\n",
       "      <td>2.146872</td>\n",
       "      <td>0.011872</td>\n",
       "      <td>0.005561</td>\n",
       "    </tr>\n",
       "    <tr>\n",
       "      <th>1</th>\n",
       "      <td>3</td>\n",
       "      <td>2008-01-01</td>\n",
       "      <td>C</td>\n",
       "      <td>2008-04-01</td>\n",
       "      <td>BIT</td>\n",
       "      <td>coal</td>\n",
       "      <td>0.0</td>\n",
       "      <td>interocean coal</td>\n",
       "      <td>52241.0</td>\n",
       "      <td>22.800</td>\n",
       "      <td>0.48</td>\n",
       "      <td>5.7</td>\n",
       "      <td>NaN</td>\n",
       "      <td>RV</td>\n",
       "      <td>NaN</td>\n",
       "      <td>firm</td>\n",
       "      <td>NaN</td>\n",
       "      <td>NaN</td>\n",
       "      <td>NaN</td>\n",
       "      <td>coal</td>\n",
       "      <td>2008-01-01</td>\n",
       "      <td>mina pribbenow</td>\n",
       "      <td>SU</td>\n",
       "      <td>NaN</td>\n",
       "      <td>NaN</td>\n",
       "      <td>COL</td>\n",
       "      <td>31.0069</td>\n",
       "      <td>-88.0103</td>\n",
       "      <td>AL</td>\n",
       "      <td>Mobile</td>\n",
       "      <td>0.0</td>\n",
       "      <td>0.0</td>\n",
       "      <td>0.0</td>\n",
       "      <td>NaN</td>\n",
       "      <td>NaN</td>\n",
       "      <td>NaN</td>\n",
       "      <td>NaN</td>\n",
       "      <td>NaN</td>\n",
       "      <td>RE</td>\n",
       "      <td>Mobile River</td>\n",
       "      <td>NaN</td>\n",
       "      <td>NaN</td>\n",
       "      <td>01</td>\n",
       "      <td>01097</td>\n",
       "      <td>2.115</td>\n",
       "      <td>2.115</td>\n",
       "      <td>0</td>\n",
       "      <td>91.0</td>\n",
       "      <td>1</td>\n",
       "      <td>ESC</td>\n",
       "      <td>1191094.800</td>\n",
       "      <td>False</td>\n",
       "      <td>False</td>\n",
       "      <td>NaN</td>\n",
       "      <td>2.115</td>\n",
       "      <td>False</td>\n",
       "      <td>2.237023</td>\n",
       "      <td>0.122023</td>\n",
       "      <td>0.057694</td>\n",
       "    </tr>\n",
       "    <tr>\n",
       "      <th>2</th>\n",
       "      <td>3</td>\n",
       "      <td>2008-01-01</td>\n",
       "      <td>C</td>\n",
       "      <td>NaT</td>\n",
       "      <td>NG</td>\n",
       "      <td>gas</td>\n",
       "      <td>NaN</td>\n",
       "      <td>bay gas pipeline</td>\n",
       "      <td>2783619.0</td>\n",
       "      <td>1.039</td>\n",
       "      <td>0.00</td>\n",
       "      <td>0.0</td>\n",
       "      <td>NaN</td>\n",
       "      <td>PL</td>\n",
       "      <td>NaN</td>\n",
       "      <td>firm</td>\n",
       "      <td>NaN</td>\n",
       "      <td>NaN</td>\n",
       "      <td>NaN</td>\n",
       "      <td>natural_gas</td>\n",
       "      <td>2008-01-01</td>\n",
       "      <td>NaN</td>\n",
       "      <td>NaN</td>\n",
       "      <td>NaN</td>\n",
       "      <td>NaN</td>\n",
       "      <td>NaN</td>\n",
       "      <td>31.0069</td>\n",
       "      <td>-88.0103</td>\n",
       "      <td>AL</td>\n",
       "      <td>Mobile</td>\n",
       "      <td>0.0</td>\n",
       "      <td>0.0</td>\n",
       "      <td>0.0</td>\n",
       "      <td>NaN</td>\n",
       "      <td>NaN</td>\n",
       "      <td>NaN</td>\n",
       "      <td>NaN</td>\n",
       "      <td>NaN</td>\n",
       "      <td>RE</td>\n",
       "      <td>Mobile River</td>\n",
       "      <td>NaN</td>\n",
       "      <td>NaN</td>\n",
       "      <td>01</td>\n",
       "      <td>01097</td>\n",
       "      <td>8.631</td>\n",
       "      <td>8.631</td>\n",
       "      <td>0</td>\n",
       "      <td>NaN</td>\n",
       "      <td>1</td>\n",
       "      <td>ESC</td>\n",
       "      <td>2892180.141</td>\n",
       "      <td>False</td>\n",
       "      <td>False</td>\n",
       "      <td>NaN</td>\n",
       "      <td>8.631</td>\n",
       "      <td>False</td>\n",
       "      <td>8.633169</td>\n",
       "      <td>0.002169</td>\n",
       "      <td>0.000251</td>\n",
       "    </tr>\n",
       "    <tr>\n",
       "      <th>3</th>\n",
       "      <td>7</td>\n",
       "      <td>2008-01-01</td>\n",
       "      <td>C</td>\n",
       "      <td>2015-12-01</td>\n",
       "      <td>BIT</td>\n",
       "      <td>coal</td>\n",
       "      <td>1.0</td>\n",
       "      <td>alabama coal</td>\n",
       "      <td>25397.0</td>\n",
       "      <td>24.610</td>\n",
       "      <td>1.69</td>\n",
       "      <td>14.7</td>\n",
       "      <td>NaN</td>\n",
       "      <td>TR</td>\n",
       "      <td>NaN</td>\n",
       "      <td>firm</td>\n",
       "      <td>NaN</td>\n",
       "      <td>NaN</td>\n",
       "      <td>NaN</td>\n",
       "      <td>coal</td>\n",
       "      <td>2008-01-01</td>\n",
       "      <td>alabama coal</td>\n",
       "      <td>SU</td>\n",
       "      <td>NaN</td>\n",
       "      <td>01007</td>\n",
       "      <td>AL</td>\n",
       "      <td>34.0128</td>\n",
       "      <td>-85.9708</td>\n",
       "      <td>AL</td>\n",
       "      <td>Etowah</td>\n",
       "      <td>0.0</td>\n",
       "      <td>0.0</td>\n",
       "      <td>0.0</td>\n",
       "      <td>NaN</td>\n",
       "      <td>NaN</td>\n",
       "      <td>NaN</td>\n",
       "      <td>NaN</td>\n",
       "      <td>NaN</td>\n",
       "      <td>RE</td>\n",
       "      <td>Coosa River</td>\n",
       "      <td>-87.127148</td>\n",
       "      <td>33.015893</td>\n",
       "      <td>01</td>\n",
       "      <td>01055</td>\n",
       "      <td>2.776</td>\n",
       "      <td>2.776</td>\n",
       "      <td>0</td>\n",
       "      <td>2891.0</td>\n",
       "      <td>1</td>\n",
       "      <td>ESC</td>\n",
       "      <td>625020.170</td>\n",
       "      <td>True</td>\n",
       "      <td>False</td>\n",
       "      <td>0.024204</td>\n",
       "      <td>2.776</td>\n",
       "      <td>False</td>\n",
       "      <td>2.667859</td>\n",
       "      <td>-0.108141</td>\n",
       "      <td>-0.038956</td>\n",
       "    </tr>\n",
       "    <tr>\n",
       "      <th>4</th>\n",
       "      <td>7</td>\n",
       "      <td>2008-01-01</td>\n",
       "      <td>S</td>\n",
       "      <td>2008-11-01</td>\n",
       "      <td>BIT</td>\n",
       "      <td>coal</td>\n",
       "      <td>2.0</td>\n",
       "      <td>d &amp; e mining</td>\n",
       "      <td>764.0</td>\n",
       "      <td>24.446</td>\n",
       "      <td>0.84</td>\n",
       "      <td>15.5</td>\n",
       "      <td>NaN</td>\n",
       "      <td>TR</td>\n",
       "      <td>NaN</td>\n",
       "      <td>firm</td>\n",
       "      <td>NaN</td>\n",
       "      <td>NaN</td>\n",
       "      <td>NaN</td>\n",
       "      <td>coal</td>\n",
       "      <td>2008-01-01</td>\n",
       "      <td>flat rock 2</td>\n",
       "      <td>S</td>\n",
       "      <td>NaN</td>\n",
       "      <td>01145</td>\n",
       "      <td>AL</td>\n",
       "      <td>34.0128</td>\n",
       "      <td>-85.9708</td>\n",
       "      <td>AL</td>\n",
       "      <td>Etowah</td>\n",
       "      <td>0.0</td>\n",
       "      <td>0.0</td>\n",
       "      <td>0.0</td>\n",
       "      <td>NaN</td>\n",
       "      <td>NaN</td>\n",
       "      <td>NaN</td>\n",
       "      <td>NaN</td>\n",
       "      <td>NaN</td>\n",
       "      <td>RE</td>\n",
       "      <td>Coosa River</td>\n",
       "      <td>NaN</td>\n",
       "      <td>NaN</td>\n",
       "      <td>01</td>\n",
       "      <td>01055</td>\n",
       "      <td>3.381</td>\n",
       "      <td>3.381</td>\n",
       "      <td>0</td>\n",
       "      <td>305.0</td>\n",
       "      <td>1</td>\n",
       "      <td>ESC</td>\n",
       "      <td>18676.744</td>\n",
       "      <td>True</td>\n",
       "      <td>False</td>\n",
       "      <td>NaN</td>\n",
       "      <td>3.381</td>\n",
       "      <td>False</td>\n",
       "      <td>3.078581</td>\n",
       "      <td>-0.302419</td>\n",
       "      <td>-0.089447</td>\n",
       "    </tr>\n",
       "  </tbody>\n",
       "</table>\n",
       "</div>"
      ],
      "text/plain": [
       "   plant_id_eia report_date contract_type_code contract_expiration_date energy_source_code fuel_type_code_pudl  mine_id_pudl     supplier_name  fuel_received_units  fuel_mmbtu_per_unit  sulfur_content_pct  ash_content_pct  mercury_content_ppm primary_transportation_mode_code secondary_transportation_mode_code natural_gas_transport_code natural_gas_delivery_contract_type_code  moisture_content_pct  chlorine_content_ppm fuel_group_code first_day_of_report_year       mine_name mine_type_code  mine_id_msha mine_county_id_fips mine_state  latitude  longitude state  county  ferc_cogen_status  ferc_exempt_wholesale_generator  ferc_small_power_producer iso_rto_code sector_name_eia natural_gas_pipeline_name_1 natural_gas_pipeline_name_2 natural_gas_pipeline_name_3 regulatory_status_code  water_source  mine_longitude  mine_latitude state_id_fips county_id_fips  fuel_cost_per_mmbtu_clipped  fuel_cost_per_mmbtu_raw  elapsed_days  remaining_contract_days  report_month census_region  \\\n",
       "0             3  2008-01-01                  C               2008-04-01                BIT                coal           0.0   interocean coal             259412.0               23.100                0.49              5.4                  NaN                               RV                                NaN                       firm                                     NaN                   NaN                   NaN            coal               2008-01-01  mina pribbenow             SU           NaN                 NaN        COL   31.0069   -88.0103    AL  Mobile                0.0                              0.0                        0.0          NaN             NaN                         NaN                         NaN                         NaN                     RE  Mobile River             NaN            NaN            01          01097                        2.135                    2.135             0                     91.0             1           ESC   \n",
       "1             3  2008-01-01                  C               2008-04-01                BIT                coal           0.0   interocean coal              52241.0               22.800                0.48              5.7                  NaN                               RV                                NaN                       firm                                     NaN                   NaN                   NaN            coal               2008-01-01  mina pribbenow             SU           NaN                 NaN        COL   31.0069   -88.0103    AL  Mobile                0.0                              0.0                        0.0          NaN             NaN                         NaN                         NaN                         NaN                     RE  Mobile River             NaN            NaN            01          01097                        2.115                    2.115             0                     91.0             1           ESC   \n",
       "2             3  2008-01-01                  C                      NaT                 NG                 gas           NaN  bay gas pipeline            2783619.0                1.039                0.00              0.0                  NaN                               PL                                NaN                       firm                                     NaN                   NaN                   NaN     natural_gas               2008-01-01             NaN            NaN           NaN                 NaN        NaN   31.0069   -88.0103    AL  Mobile                0.0                              0.0                        0.0          NaN             NaN                         NaN                         NaN                         NaN                     RE  Mobile River             NaN            NaN            01          01097                        8.631                    8.631             0                      NaN             1           ESC   \n",
       "3             7  2008-01-01                  C               2015-12-01                BIT                coal           1.0      alabama coal              25397.0               24.610                1.69             14.7                  NaN                               TR                                NaN                       firm                                     NaN                   NaN                   NaN            coal               2008-01-01    alabama coal             SU           NaN               01007         AL   34.0128   -85.9708    AL  Etowah                0.0                              0.0                        0.0          NaN             NaN                         NaN                         NaN                         NaN                     RE   Coosa River      -87.127148      33.015893            01          01055                        2.776                    2.776             0                   2891.0             1           ESC   \n",
       "4             7  2008-01-01                  S               2008-11-01                BIT                coal           2.0      d & e mining                764.0               24.446                0.84             15.5                  NaN                               TR                                NaN                       firm                                     NaN                   NaN                   NaN            coal               2008-01-01     flat rock 2              S           NaN               01145         AL   34.0128   -85.9708    AL  Etowah                0.0                              0.0                        0.0          NaN             NaN                         NaN                         NaN                         NaN                     RE   Coosa River             NaN            NaN            01          01055                        3.381                    3.381             0                    305.0             1           ESC   \n",
       "\n",
       "   fuel_received_mmbtu  mine_plant_same_state  mine_plant_same_county  mine_distance_km  fuel_cost_per_mmbtu_clipped_filled  fuel_cost_per_mmbtu_clipped_is_imputed  fuel_cost_per_mmbtu_clipped_imputed_values     error  rel_error  \n",
       "0          5992417.200                  False                   False               NaN                               2.135                                   False                                    2.146872  0.011872   0.005561  \n",
       "1          1191094.800                  False                   False               NaN                               2.115                                   False                                    2.237023  0.122023   0.057694  \n",
       "2          2892180.141                  False                   False               NaN                               8.631                                   False                                    8.633169  0.002169   0.000251  \n",
       "3           625020.170                   True                   False          0.024204                               2.776                                   False                                    2.667859 -0.108141  -0.038956  \n",
       "4            18676.744                   True                   False               NaN                               3.381                                   False                                    3.078581 -0.302419  -0.089447  "
      ]
     },
     "execution_count": 29,
     "metadata": {},
     "output_type": "execute_result"
    }
   ],
   "source": [
    "frc.head()"
   ]
  },
  {
   "cell_type": "code",
   "execution_count": null,
   "id": "4259c694-5ad9-4b0e-821b-65c44af98ded",
   "metadata": {},
   "outputs": [],
   "source": []
  },
  {
   "cell_type": "code",
   "execution_count": 30,
   "id": "7d7ae970",
   "metadata": {},
   "outputs": [],
   "source": [
    "# harmonize categories\n",
    "frc['fuel_group_code_harmonized'] = frc.loc[:, 'fuel_group_code'].replace({'petroleum': 'petroleum_liquids', 'coal': 'all_coal'})"
   ]
  },
  {
   "cell_type": "code",
   "execution_count": 31,
   "id": "841f8b7a",
   "metadata": {},
   "outputs": [],
   "source": [
    "frc = (frc.merge(state_mappings.drop(columns='census_region_abbrev'), left_on='state', right_on='state_abbrev')\n",
    " .drop(columns='state_abbrev'))"
   ]
  },
  {
   "cell_type": "code",
   "execution_count": 33,
   "id": "6837e991-94aa-47ae-937d-227774a1a7bc",
   "metadata": {},
   "outputs": [
    {
     "name": "stdout",
     "output_type": "stream",
     "text": [
      "<class 'pandas.core.frame.DataFrame'>\n",
      "Int64Index: 597400 entries, 0 to 597399\n",
      "Data columns (total 63 columns):\n",
      " #   Column                                      Non-Null Count   Dtype         \n",
      "---  ------                                      --------------   -----         \n",
      " 0   plant_id_eia                                597400 non-null  int64         \n",
      " 1   report_date                                 597400 non-null  datetime64[ns]\n",
      " 2   contract_type_code                          597163 non-null  category      \n",
      " 3   contract_expiration_date                    254912 non-null  datetime64[ns]\n",
      " 4   energy_source_code                          597399 non-null  category      \n",
      " 5   fuel_type_code_pudl                         597399 non-null  category      \n",
      " 6   mine_id_pudl                                209040 non-null  float64       \n",
      " 7   supplier_name                               597397 non-null  object        \n",
      " 8   fuel_received_units                         597400 non-null  float64       \n",
      " 9   fuel_mmbtu_per_unit                         597400 non-null  float64       \n",
      " 10  sulfur_content_pct                          597400 non-null  float64       \n",
      " 11  ash_content_pct                             597400 non-null  float64       \n",
      " 12  mercury_content_ppm                         311785 non-null  float64       \n",
      " 13  primary_transportation_mode_code            539267 non-null  category      \n",
      " 14  secondary_transportation_mode_code          32093 non-null   category      \n",
      " 15  natural_gas_transport_code                  339079 non-null  category      \n",
      " 16  natural_gas_delivery_contract_type_code     162783 non-null  category      \n",
      " 17  moisture_content_pct                        87540 non-null   float64       \n",
      " 18  chlorine_content_ppm                        87540 non-null   float64       \n",
      " 19  fuel_group_code                             597399 non-null  category      \n",
      " 20  first_day_of_report_year                    597400 non-null  datetime64[ns]\n",
      " 21  mine_name                                   209040 non-null  object        \n",
      " 22  mine_type_code                              208969 non-null  category      \n",
      " 23  mine_id_msha                                187637 non-null  float64       \n",
      " 24  mine_county_id_fips                         169414 non-null  object        \n",
      " 25  mine_state                                  209040 non-null  category      \n",
      " 26  latitude                                    595372 non-null  float64       \n",
      " 27  longitude                                   596998 non-null  float64       \n",
      " 28  state                                       597400 non-null  object        \n",
      " 29  county                                      585679 non-null  object        \n",
      " 30  ferc_cogen_status                           596601 non-null  float64       \n",
      " 31  ferc_exempt_wholesale_generator             596601 non-null  float64       \n",
      " 32  ferc_small_power_producer                   596601 non-null  float64       \n",
      " 33  iso_rto_code                                91674 non-null   category      \n",
      " 34  sector_name_eia                             534788 non-null  category      \n",
      " 35  natural_gas_pipeline_name_1                 205984 non-null  object        \n",
      " 36  natural_gas_pipeline_name_2                 32599 non-null   category      \n",
      " 37  natural_gas_pipeline_name_3                 10384 non-null   category      \n",
      " 38  regulatory_status_code                      596993 non-null  category      \n",
      " 39  water_source                                553661 non-null  object        \n",
      " 40  mine_longitude                              169371 non-null  float64       \n",
      " 41  mine_latitude                               169371 non-null  float64       \n",
      " 42  state_id_fips                               597400 non-null  category      \n",
      " 43  county_id_fips                              577171 non-null  object        \n",
      " 44  fuel_cost_per_mmbtu_clipped                 400656 non-null  float64       \n",
      " 45  fuel_cost_per_mmbtu_raw                     400656 non-null  float64       \n",
      " 46  elapsed_days                                597400 non-null  int64         \n",
      " 47  remaining_contract_days                     254912 non-null  float64       \n",
      " 48  report_month                                597400 non-null  int64         \n",
      " 49  census_region                               597400 non-null  category      \n",
      " 50  fuel_received_mmbtu                         597400 non-null  float64       \n",
      " 51  mine_plant_same_state                       597400 non-null  boolean       \n",
      " 52  mine_plant_same_county                      597400 non-null  boolean       \n",
      " 53  mine_distance_km                            169058 non-null  float64       \n",
      " 54  fuel_cost_per_mmbtu_clipped_filled          597400 non-null  float64       \n",
      " 55  fuel_cost_per_mmbtu_clipped_is_imputed      597400 non-null  bool          \n",
      " 56  fuel_cost_per_mmbtu_clipped_imputed_values  597400 non-null  float64       \n",
      " 57  error                                       400656 non-null  float64       \n",
      " 58  rel_error                                   400656 non-null  float64       \n",
      " 59  fuel_group_code_harmonized                  597399 non-null  category      \n",
      " 60  index                                       597400 non-null  int64         \n",
      " 61  state_name                                  597400 non-null  category      \n",
      " 62  region_name                                 597400 non-null  category      \n",
      "dtypes: bool(1), boolean(2), category(20), datetime64[ns](3), float64(25), int64(4), object(8)\n",
      "memory usage: 201.1+ MB\n"
     ]
    }
   ],
   "source": [
    "frc.info()"
   ]
  },
  {
   "cell_type": "markdown",
   "id": "31c76949",
   "metadata": {},
   "source": [
    "### Calculate EPM-style metrics\n",
    "Drop C&I facilities and calculate Electric Sector fuel-weighted average price"
   ]
  },
  {
   "cell_type": "code",
   "execution_count": 34,
   "id": "cbe2ba10",
   "metadata": {},
   "outputs": [],
   "source": [
    "def fuel_weighted_avg(df, col_to_avg: str):\n",
    "    return (df[col_to_avg] * df['fuel_received_mmbtu']).sum() / df['fuel_received_mmbtu'].sum()"
   ]
  },
  {
   "cell_type": "code",
   "execution_count": 35,
   "id": "e32e64a5",
   "metadata": {},
   "outputs": [
    {
     "data": {
      "text/plain": [
       "Electric Utility      362691\n",
       "IPP Non-CHP            88085\n",
       "NaN                    62612\n",
       "IPP CHP                27004\n",
       "IPP                    25259\n",
       "Industrial CHP         21477\n",
       "Industrial              8273\n",
       "Commercial CHP          1143\n",
       "Commercial               484\n",
       "Industrial Non-CHP       372\n",
       "Name: sector_name_eia, dtype: int64"
      ]
     },
     "execution_count": 35,
     "metadata": {},
     "output_type": "execute_result"
    }
   ],
   "source": [
    "frc['sector_name_eia'].value_counts(dropna=False)"
   ]
  },
  {
   "cell_type": "code",
   "execution_count": 36,
   "id": "9b77d2fc",
   "metadata": {},
   "outputs": [
    {
     "data": {
      "text/plain": [
       "Electric Utility      0.607116\n",
       "IPP Non-CHP           0.147447\n",
       "NaN                   0.104807\n",
       "IPP CHP               0.045203\n",
       "IPP                   0.042282\n",
       "Industrial CHP        0.035951\n",
       "Industrial            0.013848\n",
       "Commercial CHP        0.001913\n",
       "Commercial            0.000810\n",
       "Industrial Non-CHP    0.000623\n",
       "Name: sector_name_eia, dtype: float64"
      ]
     },
     "execution_count": 36,
     "metadata": {},
     "output_type": "execute_result"
    }
   ],
   "source": [
    "frc['sector_name_eia'].value_counts(dropna=False, normalize=True)"
   ]
  },
  {
   "cell_type": "code",
   "execution_count": 37,
   "id": "e2737ead",
   "metadata": {},
   "outputs": [],
   "source": [
    "frc['year'] = frc['report_date'].dt.year"
   ]
  },
  {
   "cell_type": "markdown",
   "id": "b78ceae9",
   "metadata": {},
   "source": [
    "**Electric Power Sector, incl. NaN**"
   ]
  },
  {
   "cell_type": "code",
   "execution_count": 38,
   "id": "19ccbd97",
   "metadata": {},
   "outputs": [
    {
     "data": {
      "text/plain": [
       "(565651, 64)"
      ]
     },
     "execution_count": 38,
     "metadata": {},
     "output_type": "execute_result"
    }
   ],
   "source": [
    "# including null sector\n",
    "elec_sector = frc.loc[~frc['sector_name_eia'].str.contains('^Industrial|^Commercial', regex=True).fillna(False), :]\n",
    "elec_sector.shape"
   ]
  },
  {
   "cell_type": "code",
   "execution_count": 39,
   "id": "94e5d406",
   "metadata": {},
   "outputs": [],
   "source": [
    "state_grp = elec_sector.groupby(['state_name', 'fuel_group_code', 'report_date'])"
   ]
  },
  {
   "cell_type": "code",
   "execution_count": 40,
   "id": "6bfddc16",
   "metadata": {},
   "outputs": [],
   "source": [
    "valid_state = (state_grp.apply(fuel_weighted_avg, col_to_avg=imputer._target_col + '_filled')\n",
    "               .rename('frc_filled')\n",
    "              ).to_frame()"
   ]
  },
  {
   "cell_type": "code",
   "execution_count": 41,
   "id": "2c30511a",
   "metadata": {},
   "outputs": [],
   "source": [
    "meta_state = (state_grp.apply(fuel_weighted_avg, col_to_avg=imputer._target_col + '_is_imputed')\n",
    "              .rename('frac_fuel_imputed'))\n",
    "model_state = (state_grp.apply(fuel_weighted_avg, col_to_avg=imputer._target_col + '_imputed_values')\n",
    "              .rename('frc_modeled'))"
   ]
  },
  {
   "cell_type": "code",
   "execution_count": 42,
   "id": "ebaed13f",
   "metadata": {},
   "outputs": [],
   "source": [
    "valid_state = valid_state.join([meta_state, model_state], how='left') # has all values"
   ]
  },
  {
   "cell_type": "code",
   "execution_count": 43,
   "id": "f3320027-4a4a-4862-ac86-3aacda40de5c",
   "metadata": {},
   "outputs": [
    {
     "data": {
      "text/html": [
       "<div>\n",
       "<style scoped>\n",
       "    .dataframe tbody tr th:only-of-type {\n",
       "        vertical-align: middle;\n",
       "    }\n",
       "\n",
       "    .dataframe tbody tr th {\n",
       "        vertical-align: top;\n",
       "    }\n",
       "\n",
       "    .dataframe thead th {\n",
       "        text-align: right;\n",
       "    }\n",
       "</style>\n",
       "<table border=\"1\" class=\"dataframe\">\n",
       "  <thead>\n",
       "    <tr style=\"text-align: right;\">\n",
       "      <th></th>\n",
       "      <th></th>\n",
       "      <th></th>\n",
       "      <th>frc_filled</th>\n",
       "      <th>frac_fuel_imputed</th>\n",
       "      <th>frc_modeled</th>\n",
       "    </tr>\n",
       "    <tr>\n",
       "      <th>state_name</th>\n",
       "      <th>fuel_group_code</th>\n",
       "      <th>report_date</th>\n",
       "      <th></th>\n",
       "      <th></th>\n",
       "      <th></th>\n",
       "    </tr>\n",
       "  </thead>\n",
       "  <tbody>\n",
       "    <tr>\n",
       "      <th rowspan=\"3\" valign=\"top\">Alabama</th>\n",
       "      <th rowspan=\"3\" valign=\"top\">coal</th>\n",
       "      <th>2008-01-01</th>\n",
       "      <td>2.152864</td>\n",
       "      <td>0.006313</td>\n",
       "      <td>2.140941</td>\n",
       "    </tr>\n",
       "    <tr>\n",
       "      <th>2008-02-01</th>\n",
       "      <td>2.137206</td>\n",
       "      <td>0.007429</td>\n",
       "      <td>2.199021</td>\n",
       "    </tr>\n",
       "    <tr>\n",
       "      <th>2008-03-01</th>\n",
       "      <td>2.189903</td>\n",
       "      <td>0.004729</td>\n",
       "      <td>2.190596</td>\n",
       "    </tr>\n",
       "  </tbody>\n",
       "</table>\n",
       "</div>"
      ],
      "text/plain": [
       "                                        frc_filled  frac_fuel_imputed  frc_modeled\n",
       "state_name fuel_group_code report_date                                            \n",
       "Alabama    coal            2008-01-01     2.152864           0.006313     2.140941\n",
       "                           2008-02-01     2.137206           0.007429     2.199021\n",
       "                           2008-03-01     2.189903           0.004729     2.190596"
      ]
     },
     "execution_count": 43,
     "metadata": {},
     "output_type": "execute_result"
    }
   ],
   "source": [
    "valid_state.head(3)"
   ]
  },
  {
   "cell_type": "code",
   "execution_count": 33,
   "id": "626225e2",
   "metadata": {},
   "outputs": [],
   "source": [
    "state_epm = (eia_epm_state.set_index(['state_name', 'fuel_group_eiaepm', 'report_date']\n",
    "                                    )['Electric Power Sector']\n",
    "             .rename('power_sector_eia_epm')\n",
    "            )"
   ]
  },
  {
   "cell_type": "code",
   "execution_count": 34,
   "id": "f066b968",
   "metadata": {},
   "outputs": [],
   "source": [
    "valid_state = valid_state.join(state_epm, how='outer')#.dropna(how='all')"
   ]
  },
  {
   "cell_type": "code",
   "execution_count": 35,
   "id": "a4b77cbc",
   "metadata": {},
   "outputs": [],
   "source": [
    "valid_state['resid_filled'] = valid_state['power_sector_eia_epm'] - valid_state['frc_filled']\n",
    "valid_state['rel_error_filled'] = valid_state['resid_filled'] / valid_state['power_sector_eia_epm']"
   ]
  },
  {
   "cell_type": "code",
   "execution_count": 36,
   "id": "8b9b53ce",
   "metadata": {},
   "outputs": [],
   "source": [
    "util_ipp_nan = valid_state.copy()"
   ]
  },
  {
   "cell_type": "markdown",
   "id": "aba9e57b",
   "metadata": {},
   "source": [
    "**Electric Power Sector, NOT incl. NaN**"
   ]
  },
  {
   "cell_type": "code",
   "execution_count": 37,
   "id": "5f42b474",
   "metadata": {},
   "outputs": [
    {
     "data": {
      "text/plain": [
       "(499727, 57)"
      ]
     },
     "execution_count": 37,
     "metadata": {},
     "output_type": "execute_result"
    }
   ],
   "source": [
    "# NOT including null sector\n",
    "elec_sector = frc.loc[~frc['sector_name_eia'].str.contains('^Industrial|^Commercial', regex=True).fillna(True), :]\n",
    "elec_sector.shape"
   ]
  },
  {
   "cell_type": "code",
   "execution_count": 38,
   "id": "813fd9dd",
   "metadata": {},
   "outputs": [],
   "source": [
    "state_grp = elec_sector.groupby(['state_name', 'fuel_group_eiaepm', 'report_date'])"
   ]
  },
  {
   "cell_type": "code",
   "execution_count": 39,
   "id": "a3d08dc9",
   "metadata": {},
   "outputs": [],
   "source": [
    "valid_state = (state_grp.apply(fuel_weighted_avg, col_to_avg=imputer._target_col + '_filled')\n",
    "               .rename('frc_filled')\n",
    "              ).to_frame()"
   ]
  },
  {
   "cell_type": "code",
   "execution_count": 40,
   "id": "a5400fbe",
   "metadata": {},
   "outputs": [],
   "source": [
    "meta_state = (state_grp.apply(fuel_weighted_avg, col_to_avg=imputer._target_col + '_is_imputed')\n",
    "              .rename('frac_fuel_imputed'))\n",
    "model_state = (state_grp.apply(fuel_weighted_avg, col_to_avg=imputer._target_col + '_imputed_values')\n",
    "              .rename('frc_modeled'))"
   ]
  },
  {
   "cell_type": "code",
   "execution_count": 41,
   "id": "f5ee7bf1",
   "metadata": {},
   "outputs": [],
   "source": [
    "valid_state = valid_state.join([meta_state, model_state], how='left') # has all values"
   ]
  },
  {
   "cell_type": "code",
   "execution_count": 42,
   "id": "1c852243",
   "metadata": {},
   "outputs": [],
   "source": [
    "state_epm = (eia_epm_state.set_index(['state_name', 'fuel_group_eiaepm', 'report_date']\n",
    "                                    )['Electric Power Sector']\n",
    "             .rename('power_sector_eia_epm')\n",
    "            )"
   ]
  },
  {
   "cell_type": "code",
   "execution_count": 43,
   "id": "9dd5988c",
   "metadata": {},
   "outputs": [],
   "source": [
    "valid_state = valid_state.join(state_epm, how='outer')#.dropna(how='all')"
   ]
  },
  {
   "cell_type": "code",
   "execution_count": 44,
   "id": "c8062f19",
   "metadata": {},
   "outputs": [],
   "source": [
    "valid_state['resid_filled'] = valid_state['power_sector_eia_epm'] - valid_state['frc_filled']\n",
    "valid_state['rel_error_filled'] = valid_state['resid_filled'] / valid_state['power_sector_eia_epm']"
   ]
  },
  {
   "cell_type": "code",
   "execution_count": 45,
   "id": "a6e44812",
   "metadata": {},
   "outputs": [],
   "source": [
    "util_ipp = valid_state.copy()"
   ]
  },
  {
   "cell_type": "markdown",
   "id": "90e11bd8",
   "metadata": {},
   "source": [
    "**Utilities only**"
   ]
  },
  {
   "cell_type": "code",
   "execution_count": 46,
   "id": "5a83369b",
   "metadata": {},
   "outputs": [
    {
     "data": {
      "text/plain": [
       "(363010, 57)"
      ]
     },
     "execution_count": 46,
     "metadata": {},
     "output_type": "execute_result"
    }
   ],
   "source": [
    "# utility only\n",
    "elec_sector = frc.loc[frc['sector_name_eia'].eq('Electric Utility').fillna(False), :]\n",
    "elec_sector.shape"
   ]
  },
  {
   "cell_type": "code",
   "execution_count": 47,
   "id": "8d7479f3",
   "metadata": {},
   "outputs": [],
   "source": [
    "state_grp = elec_sector.groupby(['state_name', 'fuel_group_eiaepm', 'report_date'])"
   ]
  },
  {
   "cell_type": "code",
   "execution_count": 48,
   "id": "e23e0f92",
   "metadata": {},
   "outputs": [],
   "source": [
    "valid_state = (state_grp.apply(fuel_weighted_avg, col_to_avg=imputer._target_col + '_filled')\n",
    "               .rename('frc_filled')\n",
    "              ).to_frame()"
   ]
  },
  {
   "cell_type": "code",
   "execution_count": 49,
   "id": "e54a9a4a",
   "metadata": {},
   "outputs": [],
   "source": [
    "meta_state = (state_grp.apply(fuel_weighted_avg, col_to_avg=imputer._target_col + '_is_imputed')\n",
    "              .rename('frac_fuel_imputed'))\n",
    "model_state = (state_grp.apply(fuel_weighted_avg, col_to_avg=imputer._target_col + '_imputed_values')\n",
    "              .rename('frc_modeled'))"
   ]
  },
  {
   "cell_type": "code",
   "execution_count": 50,
   "id": "ab6e72ea",
   "metadata": {},
   "outputs": [],
   "source": [
    "valid_state = valid_state.join([meta_state, model_state], how='left') # has all values"
   ]
  },
  {
   "cell_type": "code",
   "execution_count": 51,
   "id": "2c89ca1f",
   "metadata": {},
   "outputs": [],
   "source": [
    "state_epm = (eia_epm_state.set_index(['state_name', 'fuel_group_eiaepm', 'report_date']\n",
    "                                    )['Electric Utilities']\n",
    "             .rename('utility_eia_epm')\n",
    "            )"
   ]
  },
  {
   "cell_type": "code",
   "execution_count": 52,
   "id": "e7bb981a",
   "metadata": {},
   "outputs": [],
   "source": [
    "valid_state = valid_state.join(state_epm, how='outer')#.dropna(how='all')"
   ]
  },
  {
   "cell_type": "code",
   "execution_count": 53,
   "id": "3976c242",
   "metadata": {},
   "outputs": [],
   "source": [
    "valid_state['resid_filled'] = valid_state['utility_eia_epm'] - valid_state['frc_filled']\n",
    "valid_state['rel_error_filled'] = valid_state['resid_filled'] / valid_state['utility_eia_epm']"
   ]
  },
  {
   "cell_type": "code",
   "execution_count": 54,
   "id": "03c605fe",
   "metadata": {},
   "outputs": [],
   "source": [
    "util_only = valid_state.copy()"
   ]
  },
  {
   "cell_type": "markdown",
   "id": "750ad51f",
   "metadata": {},
   "source": [
    "**Utilities w/ NaN**"
   ]
  },
  {
   "cell_type": "code",
   "execution_count": 55,
   "id": "c128c64e",
   "metadata": {},
   "outputs": [
    {
     "data": {
      "text/plain": [
       "(391188, 57)"
      ]
     },
     "execution_count": 55,
     "metadata": {},
     "output_type": "execute_result"
    }
   ],
   "source": [
    "elec_sector = frc.loc[frc['sector_name_eia'].str.startswith('Electric Utility').fillna(True), :]\n",
    "elec_sector.shape"
   ]
  },
  {
   "cell_type": "code",
   "execution_count": 56,
   "id": "cbe7d7e6",
   "metadata": {},
   "outputs": [],
   "source": [
    "state_grp = elec_sector.groupby(['state_name', 'fuel_group_eiaepm', 'report_date'])"
   ]
  },
  {
   "cell_type": "code",
   "execution_count": 57,
   "id": "4ad7c7c1",
   "metadata": {},
   "outputs": [],
   "source": [
    "valid_state = (state_grp.apply(fuel_weighted_avg, col_to_avg=imputer._target_col + '_filled')\n",
    "               .rename('frc_filled')\n",
    "              ).to_frame()"
   ]
  },
  {
   "cell_type": "code",
   "execution_count": 58,
   "id": "c7d426e8",
   "metadata": {},
   "outputs": [],
   "source": [
    "meta_state = (state_grp.apply(fuel_weighted_avg, col_to_avg=imputer._target_col + '_is_imputed')\n",
    "              .rename('frac_fuel_imputed'))\n",
    "model_state = (state_grp.apply(fuel_weighted_avg, col_to_avg=imputer._target_col + '_imputed_values')\n",
    "              .rename('frc_modeled'))"
   ]
  },
  {
   "cell_type": "code",
   "execution_count": 59,
   "id": "741294b9",
   "metadata": {},
   "outputs": [],
   "source": [
    "valid_state = valid_state.join([meta_state, model_state], how='left') # has all values"
   ]
  },
  {
   "cell_type": "code",
   "execution_count": 60,
   "id": "5a75c13d",
   "metadata": {},
   "outputs": [],
   "source": [
    "state_epm = (eia_epm_state.set_index(['state_name', 'fuel_group_eiaepm', 'report_date']\n",
    "                                    )['Electric Utilities']\n",
    "             .rename('utility_eia_epm')\n",
    "            )"
   ]
  },
  {
   "cell_type": "code",
   "execution_count": 61,
   "id": "36c51538",
   "metadata": {},
   "outputs": [],
   "source": [
    "valid_state = valid_state.join(state_epm, how='outer')#.dropna(how='all')"
   ]
  },
  {
   "cell_type": "code",
   "execution_count": 62,
   "id": "81d49782",
   "metadata": {},
   "outputs": [],
   "source": [
    "valid_state['resid_filled'] = valid_state['utility_eia_epm'] - valid_state['frc_filled']\n",
    "valid_state['rel_error_filled'] = valid_state['resid_filled'] / valid_state['utility_eia_epm']"
   ]
  },
  {
   "cell_type": "code",
   "execution_count": 63,
   "id": "bf3346a5",
   "metadata": {},
   "outputs": [],
   "source": [
    "util_nan = valid_state.copy()"
   ]
  },
  {
   "cell_type": "markdown",
   "id": "9fc5edf5",
   "metadata": {},
   "source": [
    "**IPP only**"
   ]
  },
  {
   "cell_type": "code",
   "execution_count": 64,
   "id": "a9a5c2a3",
   "metadata": {},
   "outputs": [
    {
     "data": {
      "text/plain": [
       "(136717, 57)"
      ]
     },
     "execution_count": 64,
     "metadata": {},
     "output_type": "execute_result"
    }
   ],
   "source": [
    "# IPP only\n",
    "elec_sector = frc.loc[frc['sector_name_eia'].str.startswith('IPP').fillna(False), :]\n",
    "elec_sector.shape"
   ]
  },
  {
   "cell_type": "code",
   "execution_count": 65,
   "id": "0d3e5a50",
   "metadata": {},
   "outputs": [],
   "source": [
    "state_grp = elec_sector.groupby(['state_name', 'fuel_group_eiaepm', 'report_date'])"
   ]
  },
  {
   "cell_type": "code",
   "execution_count": 66,
   "id": "595c8137",
   "metadata": {},
   "outputs": [],
   "source": [
    "valid_state = (state_grp.apply(fuel_weighted_avg, col_to_avg=imputer._target_col + '_filled')\n",
    "               .rename('frc_filled')\n",
    "              ).to_frame()"
   ]
  },
  {
   "cell_type": "code",
   "execution_count": 67,
   "id": "189e6814",
   "metadata": {},
   "outputs": [],
   "source": [
    "meta_state = (state_grp.apply(fuel_weighted_avg, col_to_avg=imputer._target_col + '_is_imputed')\n",
    "              .rename('frac_fuel_imputed'))\n",
    "model_state = (state_grp.apply(fuel_weighted_avg, col_to_avg=imputer._target_col + '_imputed_values')\n",
    "              .rename('frc_modeled'))"
   ]
  },
  {
   "cell_type": "code",
   "execution_count": 68,
   "id": "0848a2c6",
   "metadata": {},
   "outputs": [],
   "source": [
    "valid_state = valid_state.join([meta_state, model_state], how='left') # has all values"
   ]
  },
  {
   "cell_type": "code",
   "execution_count": 69,
   "id": "d537216a",
   "metadata": {},
   "outputs": [],
   "source": [
    "state_epm = (eia_epm_state.set_index(['state_name', 'fuel_group_eiaepm', 'report_date']\n",
    "                                    )['Independent Power Producers']\n",
    "             .rename('ipp_eia_epm')\n",
    "            )"
   ]
  },
  {
   "cell_type": "code",
   "execution_count": 70,
   "id": "259e9ae3",
   "metadata": {},
   "outputs": [],
   "source": [
    "valid_state = valid_state.join(state_epm, how='outer')#.dropna(how='all')"
   ]
  },
  {
   "cell_type": "code",
   "execution_count": 71,
   "id": "a9d4a83c",
   "metadata": {},
   "outputs": [],
   "source": [
    "valid_state['resid_filled'] = valid_state['ipp_eia_epm'] - valid_state['frc_filled']\n",
    "valid_state['rel_error_filled'] = valid_state['resid_filled'] / valid_state['ipp_eia_epm']"
   ]
  },
  {
   "cell_type": "code",
   "execution_count": 72,
   "id": "d44ceb46",
   "metadata": {},
   "outputs": [],
   "source": [
    "ipp_only = valid_state.copy()"
   ]
  },
  {
   "cell_type": "markdown",
   "id": "4f291c9e",
   "metadata": {},
   "source": [
    "**All**"
   ]
  },
  {
   "cell_type": "code",
   "execution_count": 114,
   "id": "53e3a4cc",
   "metadata": {},
   "outputs": [],
   "source": [
    "state_grp = frc.groupby(['state_name', 'fuel_group_eiaepm', 'report_date'])"
   ]
  },
  {
   "cell_type": "code",
   "execution_count": 115,
   "id": "15239aa4",
   "metadata": {},
   "outputs": [],
   "source": [
    "valid_state = (state_grp.apply(fuel_weighted_avg, col_to_avg=imputer._target_col + '_filled')\n",
    "               .rename('frc_filled')\n",
    "              ).to_frame()"
   ]
  },
  {
   "cell_type": "code",
   "execution_count": 116,
   "id": "a541ca64",
   "metadata": {},
   "outputs": [],
   "source": [
    "meta_state = (state_grp.apply(fuel_weighted_avg, col_to_avg=imputer._target_col + '_is_imputed')\n",
    "              .rename('frac_fuel_imputed'))\n",
    "model_state = (state_grp.apply(fuel_weighted_avg, col_to_avg=imputer._target_col + '_imputed_values')\n",
    "              .rename('frc_modeled'))"
   ]
  },
  {
   "cell_type": "code",
   "execution_count": 117,
   "id": "cabfdc78",
   "metadata": {},
   "outputs": [],
   "source": [
    "valid_state = valid_state.join([meta_state, model_state], how='left') # has all values"
   ]
  },
  {
   "cell_type": "code",
   "execution_count": 118,
   "id": "74bb9dd5",
   "metadata": {},
   "outputs": [],
   "source": [
    "state_epm = (eia_epm_state.set_index(['state_name', 'fuel_group_eiaepm', 'report_date']\n",
    "                                    )['Electric Power Sector']\n",
    "             .rename('power_sector_eia_epm')\n",
    "            )"
   ]
  },
  {
   "cell_type": "code",
   "execution_count": 119,
   "id": "7b5a1445",
   "metadata": {},
   "outputs": [],
   "source": [
    "valid_state = valid_state.join(state_epm, how='outer')#.dropna(how='all')"
   ]
  },
  {
   "cell_type": "code",
   "execution_count": 122,
   "id": "a298f031",
   "metadata": {},
   "outputs": [],
   "source": [
    "valid_state['resid_filled'] = valid_state['power_sector_eia_epm'] - valid_state['frc_filled']\n",
    "valid_state['rel_error_filled'] = valid_state['resid_filled'] / valid_state['power_sector_eia_epm']"
   ]
  },
  {
   "cell_type": "code",
   "execution_count": 123,
   "id": "2c109c65",
   "metadata": {},
   "outputs": [],
   "source": [
    "all_frc = valid_state.copy()"
   ]
  },
  {
   "cell_type": "markdown",
   "id": "c178bdff",
   "metadata": {},
   "source": [
    "### Reverse Engineering the EPM metric\n",
    "Where there are no imputations at all, can we reporoduce the EPM numbers? Need to get this dialed in first. Ideas:\n",
    "* check sector categories\n",
    "    * include NaN sectors?\n",
    "    * try to reproduce utilities first because few NaN\n",
    "* add clipped values back in\n",
    "\n",
    "#### Conclusions\n",
    "It looks like fuel-weighted average price is the right metric: looking only at Electric Power Sector state-months with zero missing data, 72% are within the numerical precision of EIA's numbers (my standard for \"exactly correct\"). Including NaN sectors into Electric Power reduces error.\n",
    "\n",
    "But there are two weird things:\n",
    "1. Whole power sector accuracy looks better than utililty-only accuracy, despite utilities being almost the only ones reporting to FRC.\n",
    "1. The residuals are biased towards FRC *over*estimating relative to EIA EPM, which I don't understand. This is especially prominent in in the utlity-only comparison. The known biases are in the opposite direction: clipping high prices or mistakenly excluding  plants by sector should both produce *under*estimates.\n",
    "\n",
    "Gas and oil have by far the worst error for some reason. Because gas is cheaper it has a much worse percentage error."
   ]
  },
  {
   "cell_type": "code",
   "execution_count": 73,
   "id": "319c9d74",
   "metadata": {},
   "outputs": [],
   "source": [
    "def error_metrics(df, y_pred:str='frc_filled', y_true:str='power_sector_eia_epm'):\n",
    "    no_nan = df.dropna(subset=[y_pred, y_true])\n",
    "    out = {}    \n",
    "    for err_func in [mean_absolute_error, mean_squared_error, median_absolute_error, mean_absolute_percentage_error]:\n",
    "        out[err_func.__name__] = err_func(y_true=no_nan.loc[:, y_true], y_pred=no_nan.loc[:, y_pred])\n",
    "    out['count'] = no_nan.shape[0]\n",
    "    out['count_within_precision'] = no_nan['resid_filled'].abs().le(0.005).sum()\n",
    "    out['frac_within_precision'] = out['count_within_precision'] / out['count']\n",
    "    return out"
   ]
  },
  {
   "cell_type": "code",
   "execution_count": 74,
   "id": "d8a18321",
   "metadata": {},
   "outputs": [],
   "source": [
    "def error_metrics_by_fuel(df, y_pred:str='frc_filled', y_true:str='power_sector_eia_epm', tol=0.005):\n",
    "    no_nan = df.dropna(subset=[y_pred, y_true]).copy()\n",
    "    no_nan['resid'] = no_nan.loc[:, y_true] - no_nan.loc[:, y_pred]\n",
    "    grp = no_nan.groupby('fuel_group_eiaepm')\n",
    "    metric_series = []\n",
    "    for err_func in [mean_absolute_error, mean_squared_error, median_absolute_error, mean_absolute_percentage_error]:\n",
    "        name = ''.join([word[0] if (word != 'median') else 'med_' for word in err_func.__name__.split('_')])\n",
    "        e = grp[[y_pred, y_true]].apply(lambda x: err_func(y_true=x.loc[:, y_true],\n",
    "                                         y_pred=x.loc[:, y_pred],\n",
    "                                         ) if x.shape[0] > 0 else np.nan\n",
    "                      ).rename(name)\n",
    "        metric_series.append(e)\n",
    "    n = grp.size().rename('n_samples')\n",
    "    n_exact = grp['resid'].apply(lambda x: x.abs().le(tol).sum()).rename('n_exact')\n",
    "    bias = grp['resid'].agg(['mean', 'median']).rename(columns={'mean': 'mean_bias', 'median': 'median_bias'})\n",
    "    frac_exact = n_exact.div(n).rename('frac_exact')\n",
    "    \n",
    "    out = pd.concat(metric_series + [n, n_exact, frac_exact, bias], axis=1)\n",
    "    return out"
   ]
  },
  {
   "cell_type": "markdown",
   "id": "7392939a",
   "metadata": {},
   "source": [
    "#### Utilities, no NaN"
   ]
  },
  {
   "cell_type": "code",
   "execution_count": 75,
   "id": "0ad7425d",
   "metadata": {},
   "outputs": [],
   "source": [
    "zero_imputation = util_only.loc[util_only['frac_fuel_imputed'].eq(0),:]"
   ]
  },
  {
   "cell_type": "code",
   "execution_count": 76,
   "id": "c4c28444",
   "metadata": {},
   "outputs": [
    {
     "data": {
      "text/plain": [
       "<AxesSubplot:xlabel='utility_eia_epm', ylabel='frc_filled'>"
      ]
     },
     "execution_count": 76,
     "metadata": {},
     "output_type": "execute_result"
    },
    {
     "data": {
      "image/png": "[encoded data removed]",
      "text/plain": [
       "<Figure size 432x288 with 1 Axes>"
      ]
     },
     "metadata": {
      "needs_background": "light"
     },
     "output_type": "display_data"
    }
   ],
   "source": [
    "zero_imputation.plot.scatter(x='utility_eia_epm', y='frc_filled', s=1, alpha=0.2, xlim=(0,40), ylim=(0,40))"
   ]
  },
  {
   "cell_type": "code",
   "execution_count": 77,
   "id": "35f8cfd0",
   "metadata": {},
   "outputs": [
    {
     "data": {
      "text/plain": [
       "{'mean_absolute_error': 0.18142310600358139,\n",
       " 'mean_squared_error': 8.115818307653393,\n",
       " 'median_absolute_error': 0.004005572531533108,\n",
       " 'mean_absolute_percentage_error': 0.024199428341166368,\n",
       " 'count': 15847,\n",
       " 'count_within_precision': 9579,\n",
       " 'frac_within_precision': 0.604467722597337}"
      ]
     },
     "execution_count": 77,
     "metadata": {},
     "output_type": "execute_result"
    }
   ],
   "source": [
    "error_metrics(zero_imputation, y_true='utility_eia_epm')"
   ]
  },
  {
   "cell_type": "code",
   "execution_count": 78,
   "id": "6f4697f2",
   "metadata": {},
   "outputs": [
    {
     "data": {
      "text/html": [
       "<div>\n",
       "<style scoped>\n",
       "    .dataframe tbody tr th:only-of-type {\n",
       "        vertical-align: middle;\n",
       "    }\n",
       "\n",
       "    .dataframe tbody tr th {\n",
       "        vertical-align: top;\n",
       "    }\n",
       "\n",
       "    .dataframe thead th {\n",
       "        text-align: right;\n",
       "    }\n",
       "</style>\n",
       "<table border=\"1\" class=\"dataframe\">\n",
       "  <thead>\n",
       "    <tr style=\"text-align: right;\">\n",
       "      <th></th>\n",
       "      <th>mae</th>\n",
       "      <th>mse</th>\n",
       "      <th>med_ae</th>\n",
       "      <th>mape</th>\n",
       "      <th>n_samples</th>\n",
       "      <th>n_exact</th>\n",
       "      <th>frac_exact</th>\n",
       "      <th>mean_bias</th>\n",
       "      <th>median_bias</th>\n",
       "    </tr>\n",
       "    <tr>\n",
       "      <th>fuel_group_eiaepm</th>\n",
       "      <th></th>\n",
       "      <th></th>\n",
       "      <th></th>\n",
       "      <th></th>\n",
       "      <th></th>\n",
       "      <th></th>\n",
       "      <th></th>\n",
       "      <th></th>\n",
       "      <th></th>\n",
       "    </tr>\n",
       "  </thead>\n",
       "  <tbody>\n",
       "    <tr>\n",
       "      <th>coal</th>\n",
       "      <td>0.032714</td>\n",
       "      <td>0.054559</td>\n",
       "      <td>0.003498</td>\n",
       "      <td>0.014475</td>\n",
       "      <td>5263</td>\n",
       "      <td>3709</td>\n",
       "      <td>0.704731</td>\n",
       "      <td>-0.021333</td>\n",
       "      <td>-0.000454</td>\n",
       "    </tr>\n",
       "    <tr>\n",
       "      <th>natural_gas</th>\n",
       "      <td>0.255786</td>\n",
       "      <td>24.690531</td>\n",
       "      <td>0.004740</td>\n",
       "      <td>0.039807</td>\n",
       "      <td>5027</td>\n",
       "      <td>2652</td>\n",
       "      <td>0.527551</td>\n",
       "      <td>0.022511</td>\n",
       "      <td>-0.000683</td>\n",
       "    </tr>\n",
       "    <tr>\n",
       "      <th>petroleum</th>\n",
       "      <td>0.287053</td>\n",
       "      <td>0.868995</td>\n",
       "      <td>0.004567</td>\n",
       "      <td>0.019013</td>\n",
       "      <td>4822</td>\n",
       "      <td>2609</td>\n",
       "      <td>0.541062</td>\n",
       "      <td>-0.144516</td>\n",
       "      <td>0.000000</td>\n",
       "    </tr>\n",
       "    <tr>\n",
       "      <th>petroleum_coke</th>\n",
       "      <td>0.044668</td>\n",
       "      <td>0.019915</td>\n",
       "      <td>0.003000</td>\n",
       "      <td>0.021107</td>\n",
       "      <td>735</td>\n",
       "      <td>609</td>\n",
       "      <td>0.828571</td>\n",
       "      <td>-0.031328</td>\n",
       "      <td>-0.000103</td>\n",
       "    </tr>\n",
       "  </tbody>\n",
       "</table>\n",
       "</div>"
      ],
      "text/plain": [
       "                        mae        mse    med_ae      mape  n_samples  n_exact  frac_exact  mean_bias  median_bias\n",
       "fuel_group_eiaepm                                                                                                 \n",
       "coal               0.032714   0.054559  0.003498  0.014475       5263     3709    0.704731  -0.021333    -0.000454\n",
       "natural_gas        0.255786  24.690531  0.004740  0.039807       5027     2652    0.527551   0.022511    -0.000683\n",
       "petroleum          0.287053   0.868995  0.004567  0.019013       4822     2609    0.541062  -0.144516     0.000000\n",
       "petroleum_coke     0.044668   0.019915  0.003000  0.021107        735      609    0.828571  -0.031328    -0.000103"
      ]
     },
     "execution_count": 78,
     "metadata": {},
     "output_type": "execute_result"
    }
   ],
   "source": [
    "error_metrics_by_fuel(zero_imputation, y_true='utility_eia_epm')"
   ]
  },
  {
   "cell_type": "code",
   "execution_count": 79,
   "id": "27aa8e81",
   "metadata": {},
   "outputs": [
    {
     "data": {
      "text/plain": [
       "(-0.005, 0.005]    9579\n",
       "(-inf, -0.005]     3656\n",
       "(0.005, inf]       2612\n",
       "Name: resid_filled, dtype: int64"
      ]
     },
     "execution_count": 79,
     "metadata": {},
     "output_type": "execute_result"
    }
   ],
   "source": [
    "pd.cut(zero_imputation['resid_filled'], bins=[-np.inf, -0.005, 0.005, np.inf]).value_counts()"
   ]
  },
  {
   "cell_type": "markdown",
   "id": "b26d1b64",
   "metadata": {},
   "source": [
    "#### Utilities, w/ NaN"
   ]
  },
  {
   "cell_type": "code",
   "execution_count": 80,
   "id": "5d024807",
   "metadata": {},
   "outputs": [],
   "source": [
    "zero_imputation = util_nan.loc[util_nan['frac_fuel_imputed'].eq(0),:]"
   ]
  },
  {
   "cell_type": "code",
   "execution_count": 81,
   "id": "fe3d3a98",
   "metadata": {},
   "outputs": [
    {
     "data": {
      "text/plain": [
       "<AxesSubplot:xlabel='utility_eia_epm', ylabel='frc_filled'>"
      ]
     },
     "execution_count": 81,
     "metadata": {},
     "output_type": "execute_result"
    },
    {
     "data": {
      "image/png": "[encoded data removed]",
      "text/plain": [
       "<Figure size 432x288 with 1 Axes>"
      ]
     },
     "metadata": {
      "needs_background": "light"
     },
     "output_type": "display_data"
    }
   ],
   "source": [
    "zero_imputation.plot.scatter(x='utility_eia_epm', y='frc_filled',s=1, alpha=0.2, xlim=(0,40), ylim=(0,40))"
   ]
  },
  {
   "cell_type": "code",
   "execution_count": 82,
   "id": "18e3ce2e",
   "metadata": {},
   "outputs": [
    {
     "data": {
      "text/plain": [
       "{'mean_absolute_error': 0.17165844846329542,\n",
       " 'mean_squared_error': 9.290968097807683,\n",
       " 'median_absolute_error': 0.003689574967820519,\n",
       " 'mean_absolute_percentage_error': 0.019881931216097763,\n",
       " 'count': 13591,\n",
       " 'count_within_precision': 9038,\n",
       " 'frac_within_precision': 0.6649988963284527}"
      ]
     },
     "execution_count": 82,
     "metadata": {},
     "output_type": "execute_result"
    }
   ],
   "source": [
    "error_metrics(zero_imputation, y_true='utility_eia_epm')"
   ]
  },
  {
   "cell_type": "code",
   "execution_count": 83,
   "id": "3d7777a0",
   "metadata": {},
   "outputs": [
    {
     "data": {
      "text/html": [
       "<div>\n",
       "<style scoped>\n",
       "    .dataframe tbody tr th:only-of-type {\n",
       "        vertical-align: middle;\n",
       "    }\n",
       "\n",
       "    .dataframe tbody tr th {\n",
       "        vertical-align: top;\n",
       "    }\n",
       "\n",
       "    .dataframe thead th {\n",
       "        text-align: right;\n",
       "    }\n",
       "</style>\n",
       "<table border=\"1\" class=\"dataframe\">\n",
       "  <thead>\n",
       "    <tr style=\"text-align: right;\">\n",
       "      <th></th>\n",
       "      <th>mae</th>\n",
       "      <th>mse</th>\n",
       "      <th>med_ae</th>\n",
       "      <th>mape</th>\n",
       "      <th>n_samples</th>\n",
       "      <th>n_exact</th>\n",
       "      <th>frac_exact</th>\n",
       "      <th>mean_bias</th>\n",
       "      <th>median_bias</th>\n",
       "    </tr>\n",
       "    <tr>\n",
       "      <th>fuel_group_eiaepm</th>\n",
       "      <th></th>\n",
       "      <th></th>\n",
       "      <th></th>\n",
       "      <th></th>\n",
       "      <th></th>\n",
       "      <th></th>\n",
       "      <th></th>\n",
       "      <th></th>\n",
       "      <th></th>\n",
       "    </tr>\n",
       "  </thead>\n",
       "  <tbody>\n",
       "    <tr>\n",
       "      <th>coal</th>\n",
       "      <td>0.026513</td>\n",
       "      <td>0.058672</td>\n",
       "      <td>0.003169</td>\n",
       "      <td>0.011677</td>\n",
       "      <td>4657</td>\n",
       "      <td>3547</td>\n",
       "      <td>0.761649</td>\n",
       "      <td>-0.018244</td>\n",
       "      <td>-0.000354</td>\n",
       "    </tr>\n",
       "    <tr>\n",
       "      <th>natural_gas</th>\n",
       "      <td>0.259652</td>\n",
       "      <td>31.752527</td>\n",
       "      <td>0.004068</td>\n",
       "      <td>0.031676</td>\n",
       "      <td>3852</td>\n",
       "      <td>2359</td>\n",
       "      <td>0.612409</td>\n",
       "      <td>0.082462</td>\n",
       "      <td>-0.000235</td>\n",
       "    </tr>\n",
       "    <tr>\n",
       "      <th>petroleum</th>\n",
       "      <td>0.270653</td>\n",
       "      <td>0.845396</td>\n",
       "      <td>0.004099</td>\n",
       "      <td>0.018014</td>\n",
       "      <td>4347</td>\n",
       "      <td>2523</td>\n",
       "      <td>0.580400</td>\n",
       "      <td>-0.161517</td>\n",
       "      <td>-0.000143</td>\n",
       "    </tr>\n",
       "    <tr>\n",
       "      <th>petroleum_coke</th>\n",
       "      <td>0.044668</td>\n",
       "      <td>0.019915</td>\n",
       "      <td>0.003000</td>\n",
       "      <td>0.021107</td>\n",
       "      <td>735</td>\n",
       "      <td>609</td>\n",
       "      <td>0.828571</td>\n",
       "      <td>-0.031328</td>\n",
       "      <td>-0.000103</td>\n",
       "    </tr>\n",
       "  </tbody>\n",
       "</table>\n",
       "</div>"
      ],
      "text/plain": [
       "                        mae        mse    med_ae      mape  n_samples  n_exact  frac_exact  mean_bias  median_bias\n",
       "fuel_group_eiaepm                                                                                                 \n",
       "coal               0.026513   0.058672  0.003169  0.011677       4657     3547    0.761649  -0.018244    -0.000354\n",
       "natural_gas        0.259652  31.752527  0.004068  0.031676       3852     2359    0.612409   0.082462    -0.000235\n",
       "petroleum          0.270653   0.845396  0.004099  0.018014       4347     2523    0.580400  -0.161517    -0.000143\n",
       "petroleum_coke     0.044668   0.019915  0.003000  0.021107        735      609    0.828571  -0.031328    -0.000103"
      ]
     },
     "execution_count": 83,
     "metadata": {},
     "output_type": "execute_result"
    }
   ],
   "source": [
    "error_metrics_by_fuel(zero_imputation, y_true='utility_eia_epm')"
   ]
  },
  {
   "cell_type": "code",
   "execution_count": 84,
   "id": "59617f4c",
   "metadata": {},
   "outputs": [
    {
     "data": {
      "text/plain": [
       "(-0.005, 0.005]    9038\n",
       "(-inf, -0.005]     2709\n",
       "(0.005, inf]       1844\n",
       "Name: resid_filled, dtype: int64"
      ]
     },
     "execution_count": 84,
     "metadata": {},
     "output_type": "execute_result"
    }
   ],
   "source": [
    "pd.cut(zero_imputation['resid_filled'], bins=[-np.inf, -0.005, 0.005, np.inf]).value_counts()"
   ]
  },
  {
   "cell_type": "markdown",
   "id": "9f93760e",
   "metadata": {},
   "source": [
    "#### Electricity Sector, w/ NaN"
   ]
  },
  {
   "cell_type": "code",
   "execution_count": 85,
   "id": "b9f172d9",
   "metadata": {},
   "outputs": [],
   "source": [
    "zero_imputation = util_ipp_nan.loc[util_ipp_nan['frac_fuel_imputed'].eq(0),:]"
   ]
  },
  {
   "cell_type": "code",
   "execution_count": 86,
   "id": "485097a5",
   "metadata": {},
   "outputs": [
    {
     "data": {
      "text/plain": [
       "<AxesSubplot:xlabel='power_sector_eia_epm', ylabel='frc_filled'>"
      ]
     },
     "execution_count": 86,
     "metadata": {},
     "output_type": "execute_result"
    },
    {
     "data": {
      "image/png": "[encoded data removed]",
      "text/plain": [
       "<Figure size 432x288 with 1 Axes>"
      ]
     },
     "metadata": {
      "needs_background": "light"
     },
     "output_type": "display_data"
    }
   ],
   "source": [
    "zero_imputation.plot.scatter(x='power_sector_eia_epm', y='frc_filled', s=1, alpha=0.2, xlim=(0,40), ylim=(0,40))"
   ]
  },
  {
   "cell_type": "code",
   "execution_count": 87,
   "id": "de2369fd",
   "metadata": {},
   "outputs": [
    {
     "data": {
      "text/plain": [
       "{'mean_absolute_error': 0.08211922151630524,\n",
       " 'mean_squared_error': 0.25719861375543523,\n",
       " 'median_absolute_error': 0.0033182647260954212,\n",
       " 'mean_absolute_percentage_error': 0.012617436076091386,\n",
       " 'count': 7101,\n",
       " 'count_within_precision': 5128,\n",
       " 'frac_within_precision': 0.722151809604281}"
      ]
     },
     "execution_count": 87,
     "metadata": {},
     "output_type": "execute_result"
    }
   ],
   "source": [
    "error_metrics(zero_imputation, y_true='power_sector_eia_epm')"
   ]
  },
  {
   "cell_type": "code",
   "execution_count": 88,
   "id": "d4f5e369",
   "metadata": {
    "scrolled": true
   },
   "outputs": [
    {
     "data": {
      "text/html": [
       "<div>\n",
       "<style scoped>\n",
       "    .dataframe tbody tr th:only-of-type {\n",
       "        vertical-align: middle;\n",
       "    }\n",
       "\n",
       "    .dataframe tbody tr th {\n",
       "        vertical-align: top;\n",
       "    }\n",
       "\n",
       "    .dataframe thead th {\n",
       "        text-align: right;\n",
       "    }\n",
       "</style>\n",
       "<table border=\"1\" class=\"dataframe\">\n",
       "  <thead>\n",
       "    <tr style=\"text-align: right;\">\n",
       "      <th></th>\n",
       "      <th>mae</th>\n",
       "      <th>mse</th>\n",
       "      <th>med_ae</th>\n",
       "      <th>mape</th>\n",
       "      <th>n_samples</th>\n",
       "      <th>n_exact</th>\n",
       "      <th>frac_exact</th>\n",
       "      <th>mean_bias</th>\n",
       "      <th>median_bias</th>\n",
       "    </tr>\n",
       "    <tr>\n",
       "      <th>fuel_group_eiaepm</th>\n",
       "      <th></th>\n",
       "      <th></th>\n",
       "      <th></th>\n",
       "      <th></th>\n",
       "      <th></th>\n",
       "      <th></th>\n",
       "      <th></th>\n",
       "      <th></th>\n",
       "      <th></th>\n",
       "    </tr>\n",
       "  </thead>\n",
       "  <tbody>\n",
       "    <tr>\n",
       "      <th>coal</th>\n",
       "      <td>0.009369</td>\n",
       "      <td>0.000835</td>\n",
       "      <td>0.003038</td>\n",
       "      <td>0.004390</td>\n",
       "      <td>2576</td>\n",
       "      <td>2053</td>\n",
       "      <td>0.796972</td>\n",
       "      <td>-0.005107</td>\n",
       "      <td>-0.000513</td>\n",
       "    </tr>\n",
       "    <tr>\n",
       "      <th>natural_gas</th>\n",
       "      <td>0.206815</td>\n",
       "      <td>0.808441</td>\n",
       "      <td>0.004000</td>\n",
       "      <td>0.043245</td>\n",
       "      <td>1119</td>\n",
       "      <td>699</td>\n",
       "      <td>0.624665</td>\n",
       "      <td>0.042967</td>\n",
       "      <td>-0.000092</td>\n",
       "    </tr>\n",
       "    <tr>\n",
       "      <th>petroleum</th>\n",
       "      <td>0.111183</td>\n",
       "      <td>0.336212</td>\n",
       "      <td>0.003660</td>\n",
       "      <td>0.006659</td>\n",
       "      <td>2702</td>\n",
       "      <td>1787</td>\n",
       "      <td>0.661362</td>\n",
       "      <td>-0.002276</td>\n",
       "      <td>0.000000</td>\n",
       "    </tr>\n",
       "    <tr>\n",
       "      <th>petroleum_coke</th>\n",
       "      <td>0.038568</td>\n",
       "      <td>0.015806</td>\n",
       "      <td>0.003000</td>\n",
       "      <td>0.016908</td>\n",
       "      <td>704</td>\n",
       "      <td>589</td>\n",
       "      <td>0.836648</td>\n",
       "      <td>-0.035298</td>\n",
       "      <td>-0.000479</td>\n",
       "    </tr>\n",
       "  </tbody>\n",
       "</table>\n",
       "</div>"
      ],
      "text/plain": [
       "                        mae       mse    med_ae      mape  n_samples  n_exact  frac_exact  mean_bias  median_bias\n",
       "fuel_group_eiaepm                                                                                                \n",
       "coal               0.009369  0.000835  0.003038  0.004390       2576     2053    0.796972  -0.005107    -0.000513\n",
       "natural_gas        0.206815  0.808441  0.004000  0.043245       1119      699    0.624665   0.042967    -0.000092\n",
       "petroleum          0.111183  0.336212  0.003660  0.006659       2702     1787    0.661362  -0.002276     0.000000\n",
       "petroleum_coke     0.038568  0.015806  0.003000  0.016908        704      589    0.836648  -0.035298    -0.000479"
      ]
     },
     "execution_count": 88,
     "metadata": {},
     "output_type": "execute_result"
    }
   ],
   "source": [
    "error_metrics_by_fuel(zero_imputation, y_true='power_sector_eia_epm')"
   ]
  },
  {
   "cell_type": "code",
   "execution_count": 89,
   "id": "a1e5a411",
   "metadata": {},
   "outputs": [
    {
     "data": {
      "text/plain": [
       "(-0.005, 0.005]    5128\n",
       "(-inf, -0.005]     1182\n",
       "(0.005, inf]        791\n",
       "Name: resid_filled, dtype: int64"
      ]
     },
     "execution_count": 89,
     "metadata": {},
     "output_type": "execute_result"
    }
   ],
   "source": [
    "pd.cut(zero_imputation['resid_filled'], bins=[-np.inf, -0.005, 0.005, np.inf]).value_counts()"
   ]
  },
  {
   "cell_type": "markdown",
   "id": "7597644e",
   "metadata": {},
   "source": [
    "#### Electricity Sector, w/OUT NaN"
   ]
  },
  {
   "cell_type": "code",
   "execution_count": 90,
   "id": "6da40d52",
   "metadata": {},
   "outputs": [],
   "source": [
    "zero_imputation = util_ipp.loc[util_ipp['frac_fuel_imputed'].eq(0),:]"
   ]
  },
  {
   "cell_type": "code",
   "execution_count": 91,
   "id": "a3a6b85f",
   "metadata": {},
   "outputs": [
    {
     "data": {
      "text/plain": [
       "<AxesSubplot:xlabel='power_sector_eia_epm', ylabel='frc_filled'>"
      ]
     },
     "execution_count": 91,
     "metadata": {},
     "output_type": "execute_result"
    },
    {
     "data": {
      "image/png": "[encoded data removed]",
      "text/plain": [
       "<Figure size 432x288 with 1 Axes>"
      ]
     },
     "metadata": {
      "needs_background": "light"
     },
     "output_type": "display_data"
    }
   ],
   "source": [
    "zero_imputation.plot.scatter(x='power_sector_eia_epm', y='frc_filled', s=1, alpha=0.2, xlim=(0,40), ylim=(0,40))"
   ]
  },
  {
   "cell_type": "code",
   "execution_count": 92,
   "id": "624b28a0",
   "metadata": {},
   "outputs": [
    {
     "data": {
      "text/plain": [
       "{'mean_absolute_error': 0.08617481103434173,\n",
       " 'mean_squared_error': 0.26869692533834444,\n",
       " 'median_absolute_error': 0.0034370313016567344,\n",
       " 'mean_absolute_percentage_error': 0.01384071431004326,\n",
       " 'count': 7253,\n",
       " 'count_within_precision': 5098,\n",
       " 'frac_within_precision': 0.7028815662484489}"
      ]
     },
     "execution_count": 92,
     "metadata": {},
     "output_type": "execute_result"
    }
   ],
   "source": [
    "error_metrics(zero_imputation, y_true='power_sector_eia_epm')"
   ]
  },
  {
   "cell_type": "code",
   "execution_count": 93,
   "id": "ea3942d6",
   "metadata": {},
   "outputs": [
    {
     "data": {
      "text/html": [
       "<div>\n",
       "<style scoped>\n",
       "    .dataframe tbody tr th:only-of-type {\n",
       "        vertical-align: middle;\n",
       "    }\n",
       "\n",
       "    .dataframe tbody tr th {\n",
       "        vertical-align: top;\n",
       "    }\n",
       "\n",
       "    .dataframe thead th {\n",
       "        text-align: right;\n",
       "    }\n",
       "</style>\n",
       "<table border=\"1\" class=\"dataframe\">\n",
       "  <thead>\n",
       "    <tr style=\"text-align: right;\">\n",
       "      <th></th>\n",
       "      <th>mae</th>\n",
       "      <th>mse</th>\n",
       "      <th>med_ae</th>\n",
       "      <th>mape</th>\n",
       "      <th>n_samples</th>\n",
       "      <th>n_exact</th>\n",
       "      <th>frac_exact</th>\n",
       "      <th>mean_bias</th>\n",
       "      <th>median_bias</th>\n",
       "    </tr>\n",
       "    <tr>\n",
       "      <th>fuel_group_eiaepm</th>\n",
       "      <th></th>\n",
       "      <th></th>\n",
       "      <th></th>\n",
       "      <th></th>\n",
       "      <th></th>\n",
       "      <th></th>\n",
       "      <th></th>\n",
       "      <th></th>\n",
       "      <th></th>\n",
       "    </tr>\n",
       "  </thead>\n",
       "  <tbody>\n",
       "    <tr>\n",
       "      <th>coal</th>\n",
       "      <td>0.009449</td>\n",
       "      <td>0.000841</td>\n",
       "      <td>0.003041</td>\n",
       "      <td>0.004425</td>\n",
       "      <td>2632</td>\n",
       "      <td>2102</td>\n",
       "      <td>0.798632</td>\n",
       "      <td>-0.005208</td>\n",
       "      <td>-0.000520</td>\n",
       "    </tr>\n",
       "    <tr>\n",
       "      <th>natural_gas</th>\n",
       "      <td>0.233060</td>\n",
       "      <td>0.895496</td>\n",
       "      <td>0.004600</td>\n",
       "      <td>0.051327</td>\n",
       "      <td>1145</td>\n",
       "      <td>623</td>\n",
       "      <td>0.544105</td>\n",
       "      <td>0.014352</td>\n",
       "      <td>-0.000426</td>\n",
       "    </tr>\n",
       "    <tr>\n",
       "      <th>petroleum</th>\n",
       "      <td>0.110444</td>\n",
       "      <td>0.328346</td>\n",
       "      <td>0.003831</td>\n",
       "      <td>0.006518</td>\n",
       "      <td>2772</td>\n",
       "      <td>1784</td>\n",
       "      <td>0.643579</td>\n",
       "      <td>0.000540</td>\n",
       "      <td>0.000000</td>\n",
       "    </tr>\n",
       "    <tr>\n",
       "      <th>petroleum_coke</th>\n",
       "      <td>0.038568</td>\n",
       "      <td>0.015806</td>\n",
       "      <td>0.003000</td>\n",
       "      <td>0.016908</td>\n",
       "      <td>704</td>\n",
       "      <td>589</td>\n",
       "      <td>0.836648</td>\n",
       "      <td>-0.035298</td>\n",
       "      <td>-0.000479</td>\n",
       "    </tr>\n",
       "  </tbody>\n",
       "</table>\n",
       "</div>"
      ],
      "text/plain": [
       "                        mae       mse    med_ae      mape  n_samples  n_exact  frac_exact  mean_bias  median_bias\n",
       "fuel_group_eiaepm                                                                                                \n",
       "coal               0.009449  0.000841  0.003041  0.004425       2632     2102    0.798632  -0.005208    -0.000520\n",
       "natural_gas        0.233060  0.895496  0.004600  0.051327       1145      623    0.544105   0.014352    -0.000426\n",
       "petroleum          0.110444  0.328346  0.003831  0.006518       2772     1784    0.643579   0.000540     0.000000\n",
       "petroleum_coke     0.038568  0.015806  0.003000  0.016908        704      589    0.836648  -0.035298    -0.000479"
      ]
     },
     "execution_count": 93,
     "metadata": {},
     "output_type": "execute_result"
    }
   ],
   "source": [
    "error_metrics_by_fuel(zero_imputation, y_true='power_sector_eia_epm')"
   ]
  },
  {
   "cell_type": "code",
   "execution_count": 94,
   "id": "cf10ec33",
   "metadata": {},
   "outputs": [
    {
     "data": {
      "text/plain": [
       "(-0.005, 0.005]    5098\n",
       "(-inf, -0.005]     1286\n",
       "(0.005, inf]        869\n",
       "Name: resid_filled, dtype: int64"
      ]
     },
     "execution_count": 94,
     "metadata": {},
     "output_type": "execute_result"
    }
   ],
   "source": [
    "pd.cut(zero_imputation['resid_filled'], bins=[-np.inf, -0.005, 0.005, np.inf]).value_counts()"
   ]
  },
  {
   "cell_type": "markdown",
   "id": "ef041f2c",
   "metadata": {},
   "source": [
    "#### All"
   ]
  },
  {
   "cell_type": "code",
   "execution_count": 132,
   "id": "31f96a80",
   "metadata": {},
   "outputs": [],
   "source": [
    "zero_imputation = all_frc.loc[all_frc['frac_fuel_imputed'].eq(0),:]"
   ]
  },
  {
   "cell_type": "code",
   "execution_count": 133,
   "id": "4db7eafb",
   "metadata": {},
   "outputs": [
    {
     "data": {
      "text/plain": [
       "<AxesSubplot:xlabel='power_sector_eia_epm', ylabel='frc_filled'>"
      ]
     },
     "execution_count": 133,
     "metadata": {},
     "output_type": "execute_result"
    },
    {
     "data": {
      "image/png": "[encoded data removed]",
      "text/plain": [
       "<Figure size 432x288 with 1 Axes>"
      ]
     },
     "metadata": {
      "needs_background": "light"
     },
     "output_type": "display_data"
    }
   ],
   "source": [
    "zero_imputation.plot.scatter(x='power_sector_eia_epm', y='frc_filled', s=1, alpha=0.2, xlim=(0,40), ylim=(0,40))"
   ]
  },
  {
   "cell_type": "code",
   "execution_count": 134,
   "id": "849c553d",
   "metadata": {},
   "outputs": [
    {
     "data": {
      "text/plain": [
       "{'mean_absolute_error': 0.09804830658570789,\n",
       " 'mean_squared_error': 0.3303041105656209,\n",
       " 'median_absolute_error': 0.0032746616988510446,\n",
       " 'mean_absolute_percentage_error': 0.0150547282028877,\n",
       " 'count': 5097,\n",
       " 'count_within_precision': 3680,\n",
       " 'frac_within_precision': 0.7219933294094566}"
      ]
     },
     "execution_count": 134,
     "metadata": {},
     "output_type": "execute_result"
    }
   ],
   "source": [
    "error_metrics(zero_imputation, y_true='power_sector_eia_epm')"
   ]
  },
  {
   "cell_type": "code",
   "execution_count": 127,
   "id": "09a43998",
   "metadata": {},
   "outputs": [
    {
     "data": {
      "text/html": [
       "<div>\n",
       "<style scoped>\n",
       "    .dataframe tbody tr th:only-of-type {\n",
       "        vertical-align: middle;\n",
       "    }\n",
       "\n",
       "    .dataframe tbody tr th {\n",
       "        vertical-align: top;\n",
       "    }\n",
       "\n",
       "    .dataframe thead th {\n",
       "        text-align: right;\n",
       "    }\n",
       "</style>\n",
       "<table border=\"1\" class=\"dataframe\">\n",
       "  <thead>\n",
       "    <tr style=\"text-align: right;\">\n",
       "      <th></th>\n",
       "      <th>mae</th>\n",
       "      <th>mse</th>\n",
       "      <th>med_ae</th>\n",
       "      <th>mape</th>\n",
       "      <th>n_samples</th>\n",
       "      <th>n_exact</th>\n",
       "      <th>frac_exact</th>\n",
       "      <th>mean_bias</th>\n",
       "      <th>median_bias</th>\n",
       "    </tr>\n",
       "    <tr>\n",
       "      <th>fuel_group_eiaepm</th>\n",
       "      <th></th>\n",
       "      <th></th>\n",
       "      <th></th>\n",
       "      <th></th>\n",
       "      <th></th>\n",
       "      <th></th>\n",
       "      <th></th>\n",
       "      <th></th>\n",
       "      <th></th>\n",
       "    </tr>\n",
       "  </thead>\n",
       "  <tbody>\n",
       "    <tr>\n",
       "      <th>coal</th>\n",
       "      <td>0.007210</td>\n",
       "      <td>0.000463</td>\n",
       "      <td>0.002946</td>\n",
       "      <td>0.003543</td>\n",
       "      <td>1570</td>\n",
       "      <td>1300</td>\n",
       "      <td>0.828025</td>\n",
       "      <td>-0.002116</td>\n",
       "      <td>-0.000254</td>\n",
       "    </tr>\n",
       "    <tr>\n",
       "      <th>natural_gas</th>\n",
       "      <td>0.289737</td>\n",
       "      <td>1.199781</td>\n",
       "      <td>0.004129</td>\n",
       "      <td>0.059988</td>\n",
       "      <td>749</td>\n",
       "      <td>439</td>\n",
       "      <td>0.586115</td>\n",
       "      <td>0.063753</td>\n",
       "      <td>0.000544</td>\n",
       "    </tr>\n",
       "    <tr>\n",
       "      <th>petroleum</th>\n",
       "      <td>0.111249</td>\n",
       "      <td>0.351557</td>\n",
       "      <td>0.003562</td>\n",
       "      <td>0.006618</td>\n",
       "      <td>2199</td>\n",
       "      <td>1470</td>\n",
       "      <td>0.668486</td>\n",
       "      <td>0.004388</td>\n",
       "      <td>0.000000</td>\n",
       "    </tr>\n",
       "    <tr>\n",
       "      <th>petroleum_coke</th>\n",
       "      <td>0.046255</td>\n",
       "      <td>0.019211</td>\n",
       "      <td>0.003000</td>\n",
       "      <td>0.020184</td>\n",
       "      <td>579</td>\n",
       "      <td>471</td>\n",
       "      <td>0.813472</td>\n",
       "      <td>-0.043161</td>\n",
       "      <td>-0.000818</td>\n",
       "    </tr>\n",
       "  </tbody>\n",
       "</table>\n",
       "</div>"
      ],
      "text/plain": [
       "                        mae       mse    med_ae      mape  n_samples  n_exact  frac_exact  mean_bias  median_bias\n",
       "fuel_group_eiaepm                                                                                                \n",
       "coal               0.007210  0.000463  0.002946  0.003543       1570     1300    0.828025  -0.002116    -0.000254\n",
       "natural_gas        0.289737  1.199781  0.004129  0.059988        749      439    0.586115   0.063753     0.000544\n",
       "petroleum          0.111249  0.351557  0.003562  0.006618       2199     1470    0.668486   0.004388     0.000000\n",
       "petroleum_coke     0.046255  0.019211  0.003000  0.020184        579      471    0.813472  -0.043161    -0.000818"
      ]
     },
     "execution_count": 127,
     "metadata": {},
     "output_type": "execute_result"
    }
   ],
   "source": [
    "error_metrics_by_fuel(zero_imputation, y_true='power_sector_eia_epm')"
   ]
  },
  {
   "cell_type": "code",
   "execution_count": 128,
   "id": "674626aa",
   "metadata": {},
   "outputs": [
    {
     "data": {
      "text/plain": [
       "(-0.005, 0.005]    3680\n",
       "(-inf, -0.005]      797\n",
       "(0.005, inf]        620\n",
       "Name: resid_filled, dtype: int64"
      ]
     },
     "execution_count": 128,
     "metadata": {},
     "output_type": "execute_result"
    }
   ],
   "source": [
    "pd.cut(zero_imputation['resid_filled'], bins=[-np.inf, -0.005, 0.005, np.inf]).value_counts()"
   ]
  },
  {
   "cell_type": "markdown",
   "id": "31f60368",
   "metadata": {},
   "source": [
    "## Imputation Validation"
   ]
  },
  {
   "cell_type": "markdown",
   "id": "a15b0fea",
   "metadata": {},
   "source": [
    "### Electricity Sector, w/ NaN\n",
    "This sector had the lowest error."
   ]
  },
  {
   "cell_type": "markdown",
   "id": "ba2c9380",
   "metadata": {},
   "source": [
    "#### Baseline: look at performance on training data"
   ]
  },
  {
   "cell_type": "code",
   "execution_count": 95,
   "id": "fe9acb9b",
   "metadata": {},
   "outputs": [],
   "source": [
    "training_results = util_ipp_nan.loc[util_ipp_nan['frac_fuel_imputed'].eq(0),:]"
   ]
  },
  {
   "cell_type": "code",
   "execution_count": 96,
   "id": "9525a1f1",
   "metadata": {},
   "outputs": [
    {
     "data": {
      "text/plain": [
       "<AxesSubplot:xlabel='power_sector_eia_epm', ylabel='frc_modeled'>"
      ]
     },
     "execution_count": 96,
     "metadata": {},
     "output_type": "execute_result"
    },
    {
     "data": {
      "image/png": "[encoded data removed]",
      "text/plain": [
       "<Figure size 432x288 with 1 Axes>"
      ]
     },
     "metadata": {
      "needs_background": "light"
     },
     "output_type": "display_data"
    }
   ],
   "source": [
    "training_results.plot.scatter(x='power_sector_eia_epm', y='frc_modeled',\n",
    "                          s=1, alpha=0.2, xlim=(0,40), ylim=(0,40))"
   ]
  },
  {
   "cell_type": "code",
   "execution_count": 97,
   "id": "45fa4cea",
   "metadata": {},
   "outputs": [
    {
     "data": {
      "text/plain": [
       "{'mean_absolute_error': 0.6123743210353962,\n",
       " 'mean_squared_error': 1.551484157602862,\n",
       " 'median_absolute_error': 0.1936485827781631,\n",
       " 'mean_absolute_percentage_error': 0.07824656156219889,\n",
       " 'count': 7101,\n",
       " 'count_within_precision': 5128,\n",
       " 'frac_within_precision': 0.722151809604281}"
      ]
     },
     "execution_count": 97,
     "metadata": {},
     "output_type": "execute_result"
    }
   ],
   "source": [
    "error_metrics(training_results, y_pred='frc_modeled', y_true='power_sector_eia_epm')"
   ]
  },
  {
   "cell_type": "code",
   "execution_count": 98,
   "id": "c4ea1f13",
   "metadata": {},
   "outputs": [
    {
     "data": {
      "text/html": [
       "<div>\n",
       "<style scoped>\n",
       "    .dataframe tbody tr th:only-of-type {\n",
       "        vertical-align: middle;\n",
       "    }\n",
       "\n",
       "    .dataframe tbody tr th {\n",
       "        vertical-align: top;\n",
       "    }\n",
       "\n",
       "    .dataframe thead th {\n",
       "        text-align: right;\n",
       "    }\n",
       "</style>\n",
       "<table border=\"1\" class=\"dataframe\">\n",
       "  <thead>\n",
       "    <tr style=\"text-align: right;\">\n",
       "      <th></th>\n",
       "      <th>mae</th>\n",
       "      <th>mse</th>\n",
       "      <th>med_ae</th>\n",
       "      <th>mape</th>\n",
       "      <th>n_samples</th>\n",
       "      <th>n_exact</th>\n",
       "      <th>frac_exact</th>\n",
       "      <th>mean_bias</th>\n",
       "      <th>median_bias</th>\n",
       "    </tr>\n",
       "    <tr>\n",
       "      <th>fuel_group_eiaepm</th>\n",
       "      <th></th>\n",
       "      <th></th>\n",
       "      <th></th>\n",
       "      <th></th>\n",
       "      <th></th>\n",
       "      <th></th>\n",
       "      <th></th>\n",
       "      <th></th>\n",
       "      <th></th>\n",
       "    </tr>\n",
       "  </thead>\n",
       "  <tbody>\n",
       "    <tr>\n",
       "      <th>coal</th>\n",
       "      <td>0.078294</td>\n",
       "      <td>0.091796</td>\n",
       "      <td>0.042671</td>\n",
       "      <td>0.032480</td>\n",
       "      <td>2576</td>\n",
       "      <td>188</td>\n",
       "      <td>0.072981</td>\n",
       "      <td>0.021807</td>\n",
       "      <td>0.003829</td>\n",
       "    </tr>\n",
       "    <tr>\n",
       "      <th>natural_gas</th>\n",
       "      <td>0.744265</td>\n",
       "      <td>2.319272</td>\n",
       "      <td>0.357852</td>\n",
       "      <td>0.140247</td>\n",
       "      <td>1119</td>\n",
       "      <td>11</td>\n",
       "      <td>0.009830</td>\n",
       "      <td>0.552389</td>\n",
       "      <td>0.211328</td>\n",
       "    </tr>\n",
       "    <tr>\n",
       "      <th>petroleum</th>\n",
       "      <td>1.169073</td>\n",
       "      <td>3.000954</td>\n",
       "      <td>0.807598</td>\n",
       "      <td>0.075452</td>\n",
       "      <td>2702</td>\n",
       "      <td>14</td>\n",
       "      <td>0.005181</td>\n",
       "      <td>0.224018</td>\n",
       "      <td>-0.009542</td>\n",
       "    </tr>\n",
       "    <tr>\n",
       "      <th>petroleum_coke</th>\n",
       "      <td>0.220340</td>\n",
       "      <td>0.109060</td>\n",
       "      <td>0.132600</td>\n",
       "      <td>0.157887</td>\n",
       "      <td>704</td>\n",
       "      <td>32</td>\n",
       "      <td>0.045455</td>\n",
       "      <td>-0.053305</td>\n",
       "      <td>-0.027913</td>\n",
       "    </tr>\n",
       "  </tbody>\n",
       "</table>\n",
       "</div>"
      ],
      "text/plain": [
       "                        mae       mse    med_ae      mape  n_samples  n_exact  frac_exact  mean_bias  median_bias\n",
       "fuel_group_eiaepm                                                                                                \n",
       "coal               0.078294  0.091796  0.042671  0.032480       2576      188    0.072981   0.021807     0.003829\n",
       "natural_gas        0.744265  2.319272  0.357852  0.140247       1119       11    0.009830   0.552389     0.211328\n",
       "petroleum          1.169073  3.000954  0.807598  0.075452       2702       14    0.005181   0.224018    -0.009542\n",
       "petroleum_coke     0.220340  0.109060  0.132600  0.157887        704       32    0.045455  -0.053305    -0.027913"
      ]
     },
     "execution_count": 98,
     "metadata": {},
     "output_type": "execute_result"
    }
   ],
   "source": [
    "error_metrics_by_fuel(training_results, y_pred='frc_modeled', y_true='power_sector_eia_epm')"
   ]
  },
  {
   "cell_type": "markdown",
   "id": "178c082c",
   "metadata": {},
   "source": [
    "### Moment of Truth: Test Data\n",
    "#### Pure Imputation\n",
    "NOTE: This is regionally concentrated in state-month-fuel groups with all IPP plants."
   ]
  },
  {
   "cell_type": "code",
   "execution_count": 99,
   "id": "1020c106",
   "metadata": {},
   "outputs": [],
   "source": [
    "pure_imputations = util_ipp_nan.loc[util_ipp_nan['frac_fuel_imputed'].eq(1),:]"
   ]
  },
  {
   "cell_type": "code",
   "execution_count": 100,
   "id": "5f2c3ed7",
   "metadata": {},
   "outputs": [
    {
     "data": {
      "text/plain": [
       "<AxesSubplot:xlabel='power_sector_eia_epm', ylabel='frc_modeled'>"
      ]
     },
     "execution_count": 100,
     "metadata": {},
     "output_type": "execute_result"
    },
    {
     "data": {
      "image/png": "[encoded data removed]",
      "text/plain": [
       "<Figure size 432x288 with 1 Axes>"
      ]
     },
     "metadata": {
      "needs_background": "light"
     },
     "output_type": "display_data"
    }
   ],
   "source": [
    "pure_imputations.plot.scatter(x='power_sector_eia_epm', y='frc_modeled',\n",
    "                          s=1, alpha=0.2, xlim=(0,40), ylim=(0,40))"
   ]
  },
  {
   "cell_type": "code",
   "execution_count": 101,
   "id": "6e6878a0",
   "metadata": {},
   "outputs": [
    {
     "data": {
      "text/plain": [
       "{'mean_absolute_error': 0.9361450792608745,\n",
       " 'mean_squared_error': 2.676825621797633,\n",
       " 'median_absolute_error': 0.48961582682522575,\n",
       " 'mean_absolute_percentage_error': 0.16886857802270558,\n",
       " 'count': 1367,\n",
       " 'count_within_precision': 5,\n",
       " 'frac_within_precision': 0.0036576444769568397}"
      ]
     },
     "execution_count": 101,
     "metadata": {},
     "output_type": "execute_result"
    }
   ],
   "source": [
    "error_metrics(pure_imputations, y_pred='frc_modeled', y_true='power_sector_eia_epm')"
   ]
  },
  {
   "cell_type": "code",
   "execution_count": 102,
   "id": "1bd29421",
   "metadata": {},
   "outputs": [
    {
     "data": {
      "text/html": [
       "<div>\n",
       "<style scoped>\n",
       "    .dataframe tbody tr th:only-of-type {\n",
       "        vertical-align: middle;\n",
       "    }\n",
       "\n",
       "    .dataframe tbody tr th {\n",
       "        vertical-align: top;\n",
       "    }\n",
       "\n",
       "    .dataframe thead th {\n",
       "        text-align: right;\n",
       "    }\n",
       "</style>\n",
       "<table border=\"1\" class=\"dataframe\">\n",
       "  <thead>\n",
       "    <tr style=\"text-align: right;\">\n",
       "      <th></th>\n",
       "      <th>mae</th>\n",
       "      <th>mse</th>\n",
       "      <th>med_ae</th>\n",
       "      <th>mape</th>\n",
       "      <th>n_samples</th>\n",
       "      <th>n_exact</th>\n",
       "      <th>frac_exact</th>\n",
       "      <th>mean_bias</th>\n",
       "      <th>median_bias</th>\n",
       "    </tr>\n",
       "    <tr>\n",
       "      <th>fuel_group_eiaepm</th>\n",
       "      <th></th>\n",
       "      <th></th>\n",
       "      <th></th>\n",
       "      <th></th>\n",
       "      <th></th>\n",
       "      <th></th>\n",
       "      <th></th>\n",
       "      <th></th>\n",
       "      <th></th>\n",
       "    </tr>\n",
       "  </thead>\n",
       "  <tbody>\n",
       "    <tr>\n",
       "      <th>coal</th>\n",
       "      <td>0.264247</td>\n",
       "      <td>0.132076</td>\n",
       "      <td>0.209118</td>\n",
       "      <td>0.091116</td>\n",
       "      <td>369</td>\n",
       "      <td>3</td>\n",
       "      <td>0.008130</td>\n",
       "      <td>0.033498</td>\n",
       "      <td>-0.014905</td>\n",
       "    </tr>\n",
       "    <tr>\n",
       "      <th>natural_gas</th>\n",
       "      <td>0.995900</td>\n",
       "      <td>3.634629</td>\n",
       "      <td>0.549728</td>\n",
       "      <td>0.226020</td>\n",
       "      <td>611</td>\n",
       "      <td>2</td>\n",
       "      <td>0.003273</td>\n",
       "      <td>0.346209</td>\n",
       "      <td>-0.039682</td>\n",
       "    </tr>\n",
       "    <tr>\n",
       "      <th>petroleum</th>\n",
       "      <td>1.531446</td>\n",
       "      <td>3.838145</td>\n",
       "      <td>1.283456</td>\n",
       "      <td>0.096176</td>\n",
       "      <td>345</td>\n",
       "      <td>0</td>\n",
       "      <td>0.000000</td>\n",
       "      <td>-0.276193</td>\n",
       "      <td>-0.654295</td>\n",
       "    </tr>\n",
       "    <tr>\n",
       "      <th>petroleum_coke</th>\n",
       "      <td>1.079989</td>\n",
       "      <td>1.561101</td>\n",
       "      <td>1.032316</td>\n",
       "      <td>0.617682</td>\n",
       "      <td>42</td>\n",
       "      <td>0</td>\n",
       "      <td>0.000000</td>\n",
       "      <td>-1.079989</td>\n",
       "      <td>-1.032316</td>\n",
       "    </tr>\n",
       "  </tbody>\n",
       "</table>\n",
       "</div>"
      ],
      "text/plain": [
       "                        mae       mse    med_ae      mape  n_samples  n_exact  frac_exact  mean_bias  median_bias\n",
       "fuel_group_eiaepm                                                                                                \n",
       "coal               0.264247  0.132076  0.209118  0.091116        369        3    0.008130   0.033498    -0.014905\n",
       "natural_gas        0.995900  3.634629  0.549728  0.226020        611        2    0.003273   0.346209    -0.039682\n",
       "petroleum          1.531446  3.838145  1.283456  0.096176        345        0    0.000000  -0.276193    -0.654295\n",
       "petroleum_coke     1.079989  1.561101  1.032316  0.617682         42        0    0.000000  -1.079989    -1.032316"
      ]
     },
     "execution_count": 102,
     "metadata": {},
     "output_type": "execute_result"
    }
   ],
   "source": [
    "error_metrics_by_fuel(pure_imputations, y_pred='frc_modeled', y_true='power_sector_eia_epm')"
   ]
  },
  {
   "cell_type": "markdown",
   "id": "f455b0a0",
   "metadata": {},
   "source": [
    "#### Mixed Imputation"
   ]
  },
  {
   "cell_type": "code",
   "execution_count": 135,
   "id": "ab3113bd",
   "metadata": {},
   "outputs": [],
   "source": [
    "mixed_imputations = util_ipp_nan.loc[util_ipp_nan['frac_fuel_imputed'].gt(0) & util_ipp_nan['frac_fuel_imputed'].lt(1),:]"
   ]
  },
  {
   "cell_type": "code",
   "execution_count": 136,
   "id": "ecb37d7b",
   "metadata": {},
   "outputs": [
    {
     "data": {
      "text/plain": [
       "<AxesSubplot:xlabel='power_sector_eia_epm', ylabel='frc_modeled'>"
      ]
     },
     "execution_count": 136,
     "metadata": {},
     "output_type": "execute_result"
    },
    {
     "data": {
      "image/png": "[encoded data removed]",
      "text/plain": [
       "<Figure size 432x288 with 1 Axes>"
      ]
     },
     "metadata": {
      "needs_background": "light"
     },
     "output_type": "display_data"
    }
   ],
   "source": [
    "mixed_imputations.plot.scatter(x='power_sector_eia_epm', y='frc_modeled',\n",
    "                          s=1, alpha=0.2, xlim=(0,40), ylim=(0,40))"
   ]
  },
  {
   "cell_type": "code",
   "execution_count": 137,
   "id": "9490caa6",
   "metadata": {},
   "outputs": [
    {
     "data": {
      "text/plain": [
       "{'mean_absolute_error': 0.5489022793271499,\n",
       " 'mean_squared_error': 1.9045999899754695,\n",
       " 'median_absolute_error': 0.19507984671317669,\n",
       " 'mean_absolute_percentage_error': 0.08535926493614365,\n",
       " 'count': 4145,\n",
       " 'count_within_precision': 251,\n",
       " 'frac_within_precision': 0.060554885404101325}"
      ]
     },
     "execution_count": 137,
     "metadata": {},
     "output_type": "execute_result"
    }
   ],
   "source": [
    "error_metrics(mixed_imputations, y_pred='frc_modeled', y_true='power_sector_eia_epm')"
   ]
  },
  {
   "cell_type": "code",
   "execution_count": 138,
   "id": "f7506c57",
   "metadata": {},
   "outputs": [
    {
     "data": {
      "text/html": [
       "<div>\n",
       "<style scoped>\n",
       "    .dataframe tbody tr th:only-of-type {\n",
       "        vertical-align: middle;\n",
       "    }\n",
       "\n",
       "    .dataframe tbody tr th {\n",
       "        vertical-align: top;\n",
       "    }\n",
       "\n",
       "    .dataframe thead th {\n",
       "        text-align: right;\n",
       "    }\n",
       "</style>\n",
       "<table border=\"1\" class=\"dataframe\">\n",
       "  <thead>\n",
       "    <tr style=\"text-align: right;\">\n",
       "      <th></th>\n",
       "      <th>mae</th>\n",
       "      <th>mse</th>\n",
       "      <th>med_ae</th>\n",
       "      <th>mape</th>\n",
       "      <th>n_samples</th>\n",
       "      <th>n_exact</th>\n",
       "      <th>frac_exact</th>\n",
       "      <th>mean_bias</th>\n",
       "      <th>median_bias</th>\n",
       "    </tr>\n",
       "    <tr>\n",
       "      <th>fuel_group_eiaepm</th>\n",
       "      <th></th>\n",
       "      <th></th>\n",
       "      <th></th>\n",
       "      <th></th>\n",
       "      <th></th>\n",
       "      <th></th>\n",
       "      <th></th>\n",
       "      <th></th>\n",
       "      <th></th>\n",
       "    </tr>\n",
       "  </thead>\n",
       "  <tbody>\n",
       "    <tr>\n",
       "      <th>coal</th>\n",
       "      <td>0.124797</td>\n",
       "      <td>0.036086</td>\n",
       "      <td>0.072173</td>\n",
       "      <td>0.059718</td>\n",
       "      <td>976</td>\n",
       "      <td>44</td>\n",
       "      <td>0.045082</td>\n",
       "      <td>-0.038166</td>\n",
       "      <td>-0.011812</td>\n",
       "    </tr>\n",
       "    <tr>\n",
       "      <th>natural_gas</th>\n",
       "      <td>0.510064</td>\n",
       "      <td>2.176381</td>\n",
       "      <td>0.204164</td>\n",
       "      <td>0.097066</td>\n",
       "      <td>2524</td>\n",
       "      <td>52</td>\n",
       "      <td>0.020602</td>\n",
       "      <td>0.206853</td>\n",
       "      <td>0.000783</td>\n",
       "    </tr>\n",
       "    <tr>\n",
       "      <th>petroleum</th>\n",
       "      <td>1.342632</td>\n",
       "      <td>3.668466</td>\n",
       "      <td>0.949243</td>\n",
       "      <td>0.078348</td>\n",
       "      <td>645</td>\n",
       "      <td>2</td>\n",
       "      <td>0.003101</td>\n",
       "      <td>0.583547</td>\n",
       "      <td>0.309938</td>\n",
       "    </tr>\n",
       "  </tbody>\n",
       "</table>\n",
       "</div>"
      ],
      "text/plain": [
       "                        mae       mse    med_ae      mape  n_samples  n_exact  frac_exact  mean_bias  median_bias\n",
       "fuel_group_eiaepm                                                                                                \n",
       "coal               0.124797  0.036086  0.072173  0.059718        976       44    0.045082  -0.038166    -0.011812\n",
       "natural_gas        0.510064  2.176381  0.204164  0.097066       2524       52    0.020602   0.206853     0.000783\n",
       "petroleum          1.342632  3.668466  0.949243  0.078348        645        2    0.003101   0.583547     0.309938"
      ]
     },
     "execution_count": 138,
     "metadata": {},
     "output_type": "execute_result"
    }
   ],
   "source": [
    "error_metrics_by_fuel(mixed_imputations, y_pred='frc_modeled', y_true='power_sector_eia_epm')"
   ]
  },
  {
   "cell_type": "code",
   "execution_count": 144,
   "id": "6be7a5c1",
   "metadata": {},
   "outputs": [],
   "source": [
    "#util_ipp_nan.to_csv('/mnt/c/Users/tpbus/Downloads/util_ipp_nan.csv', index=True)"
   ]
  },
  {
   "cell_type": "code",
   "execution_count": 140,
   "id": "dc9313b6",
   "metadata": {},
   "outputs": [
    {
     "data": {
      "text/html": [
       "<div>\n",
       "<style scoped>\n",
       "    .dataframe tbody tr th:only-of-type {\n",
       "        vertical-align: middle;\n",
       "    }\n",
       "\n",
       "    .dataframe tbody tr th {\n",
       "        vertical-align: top;\n",
       "    }\n",
       "\n",
       "    .dataframe thead th {\n",
       "        text-align: right;\n",
       "    }\n",
       "</style>\n",
       "<table border=\"1\" class=\"dataframe\">\n",
       "  <thead>\n",
       "    <tr style=\"text-align: right;\">\n",
       "      <th></th>\n",
       "      <th></th>\n",
       "      <th></th>\n",
       "      <th>frc_filled</th>\n",
       "      <th>frac_fuel_imputed</th>\n",
       "      <th>frc_modeled</th>\n",
       "      <th>power_sector_eia_epm</th>\n",
       "      <th>resid_filled</th>\n",
       "      <th>rel_error_filled</th>\n",
       "    </tr>\n",
       "    <tr>\n",
       "      <th>state_name</th>\n",
       "      <th>fuel_group_eiaepm</th>\n",
       "      <th>report_date</th>\n",
       "      <th></th>\n",
       "      <th></th>\n",
       "      <th></th>\n",
       "      <th></th>\n",
       "      <th></th>\n",
       "      <th></th>\n",
       "    </tr>\n",
       "  </thead>\n",
       "  <tbody>\n",
       "    <tr>\n",
       "      <th rowspan=\"3\" valign=\"top\">Alabama</th>\n",
       "      <th rowspan=\"3\" valign=\"top\">coal</th>\n",
       "      <th>2006-09-01</th>\n",
       "      <td>NaN</td>\n",
       "      <td>NaN</td>\n",
       "      <td>NaN</td>\n",
       "      <td>2.11</td>\n",
       "      <td>NaN</td>\n",
       "      <td>NaN</td>\n",
       "    </tr>\n",
       "    <tr>\n",
       "      <th>2006-10-01</th>\n",
       "      <td>NaN</td>\n",
       "      <td>NaN</td>\n",
       "      <td>NaN</td>\n",
       "      <td>2.35</td>\n",
       "      <td>NaN</td>\n",
       "      <td>NaN</td>\n",
       "    </tr>\n",
       "    <tr>\n",
       "      <th>2006-11-01</th>\n",
       "      <td>NaN</td>\n",
       "      <td>NaN</td>\n",
       "      <td>NaN</td>\n",
       "      <td>2.14</td>\n",
       "      <td>NaN</td>\n",
       "      <td>NaN</td>\n",
       "    </tr>\n",
       "  </tbody>\n",
       "</table>\n",
       "</div>"
      ],
      "text/plain": [
       "                                          frc_filled  frac_fuel_imputed  frc_modeled  power_sector_eia_epm  resid_filled  rel_error_filled\n",
       "state_name fuel_group_eiaepm report_date                                                                                                  \n",
       "Alabama    coal              2006-09-01          NaN                NaN          NaN                  2.11           NaN               NaN\n",
       "                             2006-10-01          NaN                NaN          NaN                  2.35           NaN               NaN\n",
       "                             2006-11-01          NaN                NaN          NaN                  2.14           NaN               NaN"
      ]
     },
     "execution_count": 140,
     "metadata": {},
     "output_type": "execute_result"
    }
   ],
   "source": [
    "util_ipp_nan.head(3)"
   ]
  },
  {
   "cell_type": "code",
   "execution_count": null,
   "id": "45191a0b",
   "metadata": {},
   "outputs": [],
   "source": []
  },
  {
   "cell_type": "code",
   "execution_count": null,
   "id": "44373f6a",
   "metadata": {},
   "outputs": [],
   "source": []
  },
  {
   "cell_type": "code",
   "execution_count": null,
   "id": "46772777",
   "metadata": {},
   "outputs": [],
   "source": []
  },
  {
   "cell_type": "code",
   "execution_count": null,
   "id": "4976d956",
   "metadata": {},
   "outputs": [],
   "source": [
    "raise ValueError"
   ]
  },
  {
   "cell_type": "code",
   "execution_count": 165,
   "id": "6226d972",
   "metadata": {},
   "outputs": [
    {
     "data": {
      "text/plain": [
       "<AxesSubplot:xlabel='power_sector_eia_epm', ylabel='frc_filled'>"
      ]
     },
     "execution_count": 165,
     "metadata": {},
     "output_type": "execute_result"
    },
    {
     "data": {
      "image/png": "[encoded data removed]",
      "text/plain": [
       "<Figure size 432x288 with 1 Axes>"
      ]
     },
     "metadata": {
      "needs_background": "light"
     },
     "output_type": "display_data"
    }
   ],
   "source": [
    "valid_state.loc[valid_state['frac_fuel_imputed'].ne(0),:].plot.scatter(x='power_sector_eia_epm', y='frc_filled', s=1, alpha=0.2)"
   ]
  },
  {
   "cell_type": "code",
   "execution_count": 93,
   "id": "593234e0",
   "metadata": {},
   "outputs": [
    {
     "data": {
      "text/plain": [
       "<AxesSubplot:>"
      ]
     },
     "execution_count": 93,
     "metadata": {},
     "output_type": "execute_result"
    },
    {
     "data": {
      "image/png": "[encoded data removed]",
      "text/plain": [
       "<Figure size 432x288 with 1 Axes>"
      ]
     },
     "metadata": {
      "needs_background": "light"
     },
     "output_type": "display_data"
    }
   ],
   "source": [
    "valid_state['frac_fuel_imputed'].hist(bins=100, log=True)"
   ]
  },
  {
   "cell_type": "code",
   "execution_count": 94,
   "id": "0432860a",
   "metadata": {},
   "outputs": [
    {
     "data": {
      "text/plain": [
       "(0.2203143957377222, 0.1171862636493116)"
      ]
     },
     "execution_count": 94,
     "metadata": {},
     "output_type": "execute_result"
    }
   ],
   "source": [
    "valid_state['frac_fuel_imputed'].eq(0).mean(), valid_state['frac_fuel_imputed'].eq(1).mean()"
   ]
  },
  {
   "cell_type": "code",
   "execution_count": 167,
   "id": "a212e195",
   "metadata": {},
   "outputs": [
    {
     "data": {
      "text/plain": [
       "<AxesSubplot:>"
      ]
     },
     "execution_count": 167,
     "metadata": {},
     "output_type": "execute_result"
    },
    {
     "data": {
      "image/png": "[encoded data removed]",
      "text/plain": [
       "<Figure size 432x288 with 1 Axes>"
      ]
     },
     "metadata": {
      "needs_background": "light"
     },
     "output_type": "display_data"
    }
   ],
   "source": [
    "valid_state.loc[valid_state['frac_fuel_imputed'].eq(0), 'resid_filled'].hist(bins=100, log=True)"
   ]
  },
  {
   "cell_type": "code",
   "execution_count": 110,
   "id": "a5dfe4a2",
   "metadata": {},
   "outputs": [
    {
     "data": {
      "text/plain": [
       "<AxesSubplot:>"
      ]
     },
     "execution_count": 110,
     "metadata": {},
     "output_type": "execute_result"
    },
    {
     "data": {
      "image/png": "[encoded data removed]",
      "text/plain": [
       "<Figure size 432x288 with 1 Axes>"
      ]
     },
     "metadata": {
      "needs_background": "light"
     },
     "output_type": "display_data"
    }
   ],
   "source": [
    "valid_state.loc[valid_state['frac_fuel_imputed'].eq(0), 'resid_filled'].hist(bins=100, log=True, range=(-2,2))"
   ]
  },
  {
   "cell_type": "code",
   "execution_count": 126,
   "id": "6f09a893",
   "metadata": {},
   "outputs": [
    {
     "data": {
      "text/plain": [
       "7101"
      ]
     },
     "execution_count": 126,
     "metadata": {},
     "output_type": "execute_result"
    }
   ],
   "source": [
    "valid_state.loc[valid_state['frac_fuel_imputed'].eq(0), 'resid_filled'].count()"
   ]
  },
  {
   "cell_type": "code",
   "execution_count": 130,
   "id": "d31caffb",
   "metadata": {},
   "outputs": [
    {
     "data": {
      "text/plain": [
       "<AxesSubplot:>"
      ]
     },
     "execution_count": 130,
     "metadata": {},
     "output_type": "execute_result"
    },
    {
     "data": {
      "image/png": "[encoded data removed]",
      "text/plain": [
       "<Figure size 432x288 with 1 Axes>"
      ]
     },
     "metadata": {
      "needs_background": "light"
     },
     "output_type": "display_data"
    }
   ],
   "source": [
    "# 5/7 thousand are within the precision of the EPM data (+-0.005)\n",
    "valid_state.loc[valid_state['frac_fuel_imputed'].eq(0), 'resid_filled'].abs().hist(bins=100, cumulative=True, log=False, density=False, range=(0,0.05))"
   ]
  },
  {
   "cell_type": "code",
   "execution_count": 134,
   "id": "d5b24790",
   "metadata": {},
   "outputs": [],
   "source": [
    "filter_ = (valid_state['frac_fuel_imputed'].eq(0) &  # no imputation\n",
    "          valid_state['resid_filled'].abs().gt(0.005)  # error not within numerical precision\n",
    "          )\n",
    "bad = valid_state.loc[filter_, :]"
   ]
  },
  {
   "cell_type": "code",
   "execution_count": 135,
   "id": "c9a8ddc1",
   "metadata": {},
   "outputs": [
    {
     "data": {
      "text/plain": [
       "(1973, 6)"
      ]
     },
     "execution_count": 135,
     "metadata": {},
     "output_type": "execute_result"
    }
   ],
   "source": [
    "bad.shape"
   ]
  },
  {
   "cell_type": "code",
   "execution_count": 142,
   "id": "58aa3c0b",
   "metadata": {},
   "outputs": [
    {
     "name": "stderr",
     "output_type": "stream",
     "text": [
      "/tmp/ipykernel_25986/2595326004.py:1: SettingWithCopyWarning: \n",
      "A value is trying to be set on a copy of a slice from a DataFrame.\n",
      "Try using .loc[row_indexer,col_indexer] = value instead\n",
      "\n",
      "See the caveats in the documentation: https://pandas.pydata.org/pandas-docs/stable/user_guide/indexing.html#returning-a-view-versus-a-copy\n",
      "  bad['abs_error'] = bad['resid_filled'].abs()\n"
     ]
    }
   ],
   "source": [
    "bad['abs_error'] = bad['resid_filled'].abs()"
   ]
  },
  {
   "cell_type": "code",
   "execution_count": 145,
   "id": "23ac913a",
   "metadata": {},
   "outputs": [
    {
     "data": {
      "text/plain": [
       "state_name\n",
       "North Dakota      108.374361\n",
       "Alaska             80.249960\n",
       "Colorado           60.700714\n",
       "South Dakota       53.771847\n",
       "Florida            34.571687\n",
       "Nebraska           30.477151\n",
       "Kentucky           27.423667\n",
       "Kansas             20.972561\n",
       "South Carolina     20.159991\n",
       "Wyoming            17.281445\n",
       "Name: abs_error, dtype: float64"
      ]
     },
     "execution_count": 145,
     "metadata": {},
     "output_type": "execute_result"
    }
   ],
   "source": [
    "bad.groupby('state_name')['abs_error'].sum().nlargest(10)"
   ]
  },
  {
   "cell_type": "code",
   "execution_count": 146,
   "id": "8812699c",
   "metadata": {},
   "outputs": [
    {
     "data": {
      "text/plain": [
       "fuel_group_eiaepm\n",
       "petroleum         296.457349\n",
       "natural_gas       229.676790\n",
       "petroleum_coke     25.790159\n",
       "coal               19.127793\n",
       "Name: abs_error, dtype: float64"
      ]
     },
     "execution_count": 146,
     "metadata": {},
     "output_type": "execute_result"
    }
   ],
   "source": [
    "bad.groupby('fuel_group_eiaepm')['abs_error'].sum().nlargest(10)"
   ]
  },
  {
   "cell_type": "code",
   "execution_count": 148,
   "id": "73a252c9",
   "metadata": {},
   "outputs": [
    {
     "data": {
      "text/html": [
       "<div>\n",
       "<style scoped>\n",
       "    .dataframe tbody tr th:only-of-type {\n",
       "        vertical-align: middle;\n",
       "    }\n",
       "\n",
       "    .dataframe tbody tr th {\n",
       "        vertical-align: top;\n",
       "    }\n",
       "\n",
       "    .dataframe thead th {\n",
       "        text-align: right;\n",
       "    }\n",
       "</style>\n",
       "<table border=\"1\" class=\"dataframe\">\n",
       "  <thead>\n",
       "    <tr style=\"text-align: right;\">\n",
       "      <th></th>\n",
       "      <th></th>\n",
       "      <th></th>\n",
       "      <th>frc_filled</th>\n",
       "      <th>frac_fuel_imputed</th>\n",
       "      <th>frc_modeled</th>\n",
       "      <th>power_sector_eia_epm</th>\n",
       "      <th>resid_filled</th>\n",
       "      <th>rel_error_filled</th>\n",
       "    </tr>\n",
       "    <tr>\n",
       "      <th>state_name</th>\n",
       "      <th>fuel_group_eiaepm</th>\n",
       "      <th>report_date</th>\n",
       "      <th></th>\n",
       "      <th></th>\n",
       "      <th></th>\n",
       "      <th></th>\n",
       "      <th></th>\n",
       "      <th></th>\n",
       "    </tr>\n",
       "  </thead>\n",
       "  <tbody>\n",
       "    <tr>\n",
       "      <th rowspan=\"2\" valign=\"top\">South Dakota</th>\n",
       "      <th>natural_gas</th>\n",
       "      <th>2008-03-01</th>\n",
       "      <td>5.939996</td>\n",
       "      <td>0.0</td>\n",
       "      <td>8.514067</td>\n",
       "      <td>18.47</td>\n",
       "      <td>12.530004</td>\n",
       "      <td>0.678398</td>\n",
       "    </tr>\n",
       "    <tr>\n",
       "      <th>petroleum</th>\n",
       "      <th>2008-01-01</th>\n",
       "      <td>22.202127</td>\n",
       "      <td>0.0</td>\n",
       "      <td>17.674435</td>\n",
       "      <td>10.49</td>\n",
       "      <td>-11.712127</td>\n",
       "      <td>-1.116504</td>\n",
       "    </tr>\n",
       "    <tr>\n",
       "      <th>Colorado</th>\n",
       "      <th>petroleum</th>\n",
       "      <th>2012-09-01</th>\n",
       "      <td>12.226000</td>\n",
       "      <td>0.0</td>\n",
       "      <td>17.474198</td>\n",
       "      <td>23.33</td>\n",
       "      <td>11.104000</td>\n",
       "      <td>0.475954</td>\n",
       "    </tr>\n",
       "    <tr>\n",
       "      <th>North Dakota</th>\n",
       "      <th>natural_gas</th>\n",
       "      <th>2018-02-01</th>\n",
       "      <td>7.308713</td>\n",
       "      <td>0.0</td>\n",
       "      <td>3.086860</td>\n",
       "      <td>17.20</td>\n",
       "      <td>9.891287</td>\n",
       "      <td>0.575075</td>\n",
       "    </tr>\n",
       "    <tr>\n",
       "      <th>Colorado</th>\n",
       "      <th>petroleum</th>\n",
       "      <th>2012-06-01</th>\n",
       "      <td>10.570000</td>\n",
       "      <td>0.0</td>\n",
       "      <td>16.656179</td>\n",
       "      <td>20.35</td>\n",
       "      <td>9.780000</td>\n",
       "      <td>0.480590</td>\n",
       "    </tr>\n",
       "    <tr>\n",
       "      <th>California</th>\n",
       "      <th>petroleum</th>\n",
       "      <th>2010-09-01</th>\n",
       "      <td>27.510000</td>\n",
       "      <td>0.0</td>\n",
       "      <td>14.432997</td>\n",
       "      <td>18.07</td>\n",
       "      <td>-9.440000</td>\n",
       "      <td>-0.522413</td>\n",
       "    </tr>\n",
       "    <tr>\n",
       "      <th rowspan=\"3\" valign=\"top\">North Dakota</th>\n",
       "      <th rowspan=\"3\" valign=\"top\">natural_gas</th>\n",
       "      <th>2015-01-01</th>\n",
       "      <td>11.599433</td>\n",
       "      <td>0.0</td>\n",
       "      <td>3.338166</td>\n",
       "      <td>2.81</td>\n",
       "      <td>-8.789433</td>\n",
       "      <td>-3.127912</td>\n",
       "    </tr>\n",
       "    <tr>\n",
       "      <th>2015-05-01</th>\n",
       "      <td>11.089361</td>\n",
       "      <td>0.0</td>\n",
       "      <td>3.059288</td>\n",
       "      <td>2.76</td>\n",
       "      <td>-8.329361</td>\n",
       "      <td>-3.017884</td>\n",
       "    </tr>\n",
       "    <tr>\n",
       "      <th>2015-07-01</th>\n",
       "      <td>11.151601</td>\n",
       "      <td>0.0</td>\n",
       "      <td>3.491690</td>\n",
       "      <td>2.92</td>\n",
       "      <td>-8.231601</td>\n",
       "      <td>-2.819041</td>\n",
       "    </tr>\n",
       "    <tr>\n",
       "      <th>Colorado</th>\n",
       "      <th>petroleum</th>\n",
       "      <th>2012-04-01</th>\n",
       "      <td>15.570000</td>\n",
       "      <td>0.0</td>\n",
       "      <td>17.338123</td>\n",
       "      <td>23.73</td>\n",
       "      <td>8.160000</td>\n",
       "      <td>0.343869</td>\n",
       "    </tr>\n",
       "    <tr>\n",
       "      <th>North Dakota</th>\n",
       "      <th>natural_gas</th>\n",
       "      <th>2018-01-01</th>\n",
       "      <td>6.793237</td>\n",
       "      <td>0.0</td>\n",
       "      <td>3.491100</td>\n",
       "      <td>14.76</td>\n",
       "      <td>7.966763</td>\n",
       "      <td>0.539754</td>\n",
       "    </tr>\n",
       "    <tr>\n",
       "      <th>Colorado</th>\n",
       "      <th>petroleum</th>\n",
       "      <th>2011-04-01</th>\n",
       "      <td>15.873516</td>\n",
       "      <td>0.0</td>\n",
       "      <td>18.801484</td>\n",
       "      <td>23.01</td>\n",
       "      <td>7.136484</td>\n",
       "      <td>0.310147</td>\n",
       "    </tr>\n",
       "    <tr>\n",
       "      <th rowspan=\"3\" valign=\"top\">North Dakota</th>\n",
       "      <th rowspan=\"3\" valign=\"top\">natural_gas</th>\n",
       "      <th>2015-03-01</th>\n",
       "      <td>9.769928</td>\n",
       "      <td>0.0</td>\n",
       "      <td>3.515634</td>\n",
       "      <td>2.73</td>\n",
       "      <td>-7.039928</td>\n",
       "      <td>-2.578728</td>\n",
       "    </tr>\n",
       "    <tr>\n",
       "      <th>2015-02-01</th>\n",
       "      <td>8.835071</td>\n",
       "      <td>0.0</td>\n",
       "      <td>3.778222</td>\n",
       "      <td>2.93</td>\n",
       "      <td>-5.905071</td>\n",
       "      <td>-2.015383</td>\n",
       "    </tr>\n",
       "    <tr>\n",
       "      <th>2015-06-01</th>\n",
       "      <td>8.423168</td>\n",
       "      <td>0.0</td>\n",
       "      <td>3.386297</td>\n",
       "      <td>2.71</td>\n",
       "      <td>-5.713168</td>\n",
       "      <td>-2.108180</td>\n",
       "    </tr>\n",
       "    <tr>\n",
       "      <th rowspan=\"2\" valign=\"top\">Colorado</th>\n",
       "      <th rowspan=\"2\" valign=\"top\">petroleum</th>\n",
       "      <th>2012-02-01</th>\n",
       "      <td>17.163000</td>\n",
       "      <td>0.0</td>\n",
       "      <td>17.556023</td>\n",
       "      <td>22.87</td>\n",
       "      <td>5.707000</td>\n",
       "      <td>0.249541</td>\n",
       "    </tr>\n",
       "    <tr>\n",
       "      <th>2012-03-01</th>\n",
       "      <td>16.830000</td>\n",
       "      <td>0.0</td>\n",
       "      <td>17.357220</td>\n",
       "      <td>22.19</td>\n",
       "      <td>5.360000</td>\n",
       "      <td>0.241550</td>\n",
       "    </tr>\n",
       "    <tr>\n",
       "      <th>South Dakota</th>\n",
       "      <th>natural_gas</th>\n",
       "      <th>2008-01-01</th>\n",
       "      <td>5.686319</td>\n",
       "      <td>0.0</td>\n",
       "      <td>7.406258</td>\n",
       "      <td>10.95</td>\n",
       "      <td>5.263681</td>\n",
       "      <td>0.480701</td>\n",
       "    </tr>\n",
       "    <tr>\n",
       "      <th>North Dakota</th>\n",
       "      <th>natural_gas</th>\n",
       "      <th>2015-04-01</th>\n",
       "      <td>7.990890</td>\n",
       "      <td>0.0</td>\n",
       "      <td>3.137823</td>\n",
       "      <td>2.76</td>\n",
       "      <td>-5.230890</td>\n",
       "      <td>-1.895250</td>\n",
       "    </tr>\n",
       "    <tr>\n",
       "      <th>Kentucky</th>\n",
       "      <th>petroleum</th>\n",
       "      <th>2010-07-01</th>\n",
       "      <td>16.149893</td>\n",
       "      <td>0.0</td>\n",
       "      <td>16.113818</td>\n",
       "      <td>21.05</td>\n",
       "      <td>4.900107</td>\n",
       "      <td>0.232784</td>\n",
       "    </tr>\n",
       "  </tbody>\n",
       "</table>\n",
       "</div>"
      ],
      "text/plain": [
       "                                            frc_filled  frac_fuel_imputed  frc_modeled  power_sector_eia_epm  resid_filled  rel_error_filled\n",
       "state_name   fuel_group_eiaepm report_date                                                                                                  \n",
       "South Dakota natural_gas       2008-03-01     5.939996                0.0     8.514067                 18.47     12.530004          0.678398\n",
       "             petroleum         2008-01-01    22.202127                0.0    17.674435                 10.49    -11.712127         -1.116504\n",
       "Colorado     petroleum         2012-09-01    12.226000                0.0    17.474198                 23.33     11.104000          0.475954\n",
       "North Dakota natural_gas       2018-02-01     7.308713                0.0     3.086860                 17.20      9.891287          0.575075\n",
       "Colorado     petroleum         2012-06-01    10.570000                0.0    16.656179                 20.35      9.780000          0.480590\n",
       "California   petroleum         2010-09-01    27.510000                0.0    14.432997                 18.07     -9.440000         -0.522413\n",
       "North Dakota natural_gas       2015-01-01    11.599433                0.0     3.338166                  2.81     -8.789433         -3.127912\n",
       "                               2015-05-01    11.089361                0.0     3.059288                  2.76     -8.329361         -3.017884\n",
       "                               2015-07-01    11.151601                0.0     3.491690                  2.92     -8.231601         -2.819041\n",
       "Colorado     petroleum         2012-04-01    15.570000                0.0    17.338123                 23.73      8.160000          0.343869\n",
       "North Dakota natural_gas       2018-01-01     6.793237                0.0     3.491100                 14.76      7.966763          0.539754\n",
       "Colorado     petroleum         2011-04-01    15.873516                0.0    18.801484                 23.01      7.136484          0.310147\n",
       "North Dakota natural_gas       2015-03-01     9.769928                0.0     3.515634                  2.73     -7.039928         -2.578728\n",
       "                               2015-02-01     8.835071                0.0     3.778222                  2.93     -5.905071         -2.015383\n",
       "                               2015-06-01     8.423168                0.0     3.386297                  2.71     -5.713168         -2.108180\n",
       "Colorado     petroleum         2012-02-01    17.163000                0.0    17.556023                 22.87      5.707000          0.249541\n",
       "                               2012-03-01    16.830000                0.0    17.357220                 22.19      5.360000          0.241550\n",
       "South Dakota natural_gas       2008-01-01     5.686319                0.0     7.406258                 10.95      5.263681          0.480701\n",
       "North Dakota natural_gas       2015-04-01     7.990890                0.0     3.137823                  2.76     -5.230890         -1.895250\n",
       "Kentucky     petroleum         2010-07-01    16.149893                0.0    16.113818                 21.05      4.900107          0.232784"
      ]
     },
     "execution_count": 148,
     "metadata": {},
     "output_type": "execute_result"
    }
   ],
   "source": [
    "valid_state.loc[valid_state.loc[valid_state['frac_fuel_imputed'].eq(0), 'resid_filled'].abs().nlargest(20).index,:]"
   ]
  },
  {
   "cell_type": "code",
   "execution_count": 149,
   "id": "c60d8358",
   "metadata": {},
   "outputs": [
    {
     "data": {
      "text/html": [
       "<div>\n",
       "<style scoped>\n",
       "    .dataframe tbody tr th:only-of-type {\n",
       "        vertical-align: middle;\n",
       "    }\n",
       "\n",
       "    .dataframe tbody tr th {\n",
       "        vertical-align: top;\n",
       "    }\n",
       "\n",
       "    .dataframe thead th {\n",
       "        text-align: right;\n",
       "    }\n",
       "</style>\n",
       "<table border=\"1\" class=\"dataframe\">\n",
       "  <thead>\n",
       "    <tr style=\"text-align: right;\">\n",
       "      <th></th>\n",
       "      <th>report_date</th>\n",
       "      <th>plant_id_eia</th>\n",
       "      <th>contract_type_code</th>\n",
       "      <th>contract_expiration_date</th>\n",
       "      <th>energy_source_code</th>\n",
       "      <th>fuel_type_code_pudl</th>\n",
       "      <th>mine_id_pudl</th>\n",
       "      <th>supplier_name</th>\n",
       "      <th>fuel_received_units</th>\n",
       "      <th>fuel_mmbtu_per_unit</th>\n",
       "      <th>sulfur_content_pct</th>\n",
       "      <th>ash_content_pct</th>\n",
       "      <th>mercury_content_ppm</th>\n",
       "      <th>primary_transportation_mode_code</th>\n",
       "      <th>secondary_transportation_mode_code</th>\n",
       "      <th>natural_gas_transport_code</th>\n",
       "      <th>natural_gas_delivery_contract_type_code</th>\n",
       "      <th>moisture_content_pct</th>\n",
       "      <th>chlorine_content_ppm</th>\n",
       "      <th>mine_name</th>\n",
       "      <th>mine_type_code</th>\n",
       "      <th>mine_county_id_fips</th>\n",
       "      <th>mine_state</th>\n",
       "      <th>fuel_group_eiaepm</th>\n",
       "      <th>ferc_cogen_status</th>\n",
       "      <th>ferc_exempt_wholesale_generator</th>\n",
       "      <th>ferc_small_power_producer</th>\n",
       "      <th>iso_rto_code</th>\n",
       "      <th>latitude</th>\n",
       "      <th>longitude</th>\n",
       "      <th>state</th>\n",
       "      <th>county</th>\n",
       "      <th>sector_name_eia</th>\n",
       "      <th>natural_gas_pipeline_name_1</th>\n",
       "      <th>natural_gas_pipeline_name_2</th>\n",
       "      <th>natural_gas_pipeline_name_3</th>\n",
       "      <th>regulatory_status_code</th>\n",
       "      <th>water_source</th>\n",
       "      <th>state_id_fips</th>\n",
       "      <th>county_id_fips</th>\n",
       "      <th>fuel_cost_per_mmbtu_clipped</th>\n",
       "      <th>fuel_cost_per_mmbtu_raw</th>\n",
       "      <th>elapsed_days</th>\n",
       "      <th>remaining_contract_days</th>\n",
       "      <th>report_month</th>\n",
       "      <th>census_region</th>\n",
       "      <th>fuel_received_mmbtu</th>\n",
       "      <th>mine_plant_same_state</th>\n",
       "      <th>mine_plant_same_county</th>\n",
       "      <th>fuel_cost_per_mmbtu_clipped_filled</th>\n",
       "      <th>fuel_cost_per_mmbtu_clipped_is_imputed</th>\n",
       "      <th>fuel_cost_per_mmbtu_clipped_imputed_values</th>\n",
       "      <th>error</th>\n",
       "      <th>rel_error</th>\n",
       "      <th>state_name</th>\n",
       "      <th>region_name</th>\n",
       "    </tr>\n",
       "  </thead>\n",
       "  <tbody>\n",
       "    <tr>\n",
       "      <th>263685</th>\n",
       "      <td>2012-09-01</td>\n",
       "      <td>527</td>\n",
       "      <td>S</td>\n",
       "      <td>NaT</td>\n",
       "      <td>WO</td>\n",
       "      <td>oil</td>\n",
       "      <td>NaN</td>\n",
       "      <td>westland propane</td>\n",
       "      <td>228.0</td>\n",
       "      <td>3.85</td>\n",
       "      <td>0.0</td>\n",
       "      <td>0.0</td>\n",
       "      <td>0.0</td>\n",
       "      <td>TR</td>\n",
       "      <td>NaN</td>\n",
       "      <td>interruptible</td>\n",
       "      <td>NaN</td>\n",
       "      <td>NaN</td>\n",
       "      <td>NaN</td>\n",
       "      <td>None</td>\n",
       "      <td>NaN</td>\n",
       "      <td>NaN</td>\n",
       "      <td>NaN</td>\n",
       "      <td>petroleum</td>\n",
       "      <td>0.0</td>\n",
       "      <td>0.0</td>\n",
       "      <td>0.0</td>\n",
       "      <td>NaN</td>\n",
       "      <td>38.2383</td>\n",
       "      <td>-108.5069</td>\n",
       "      <td>CO</td>\n",
       "      <td>Montrose</td>\n",
       "      <td>Electric Utility</td>\n",
       "      <td>None</td>\n",
       "      <td>NaN</td>\n",
       "      <td>NaN</td>\n",
       "      <td>RE</td>\n",
       "      <td>San Miguel River</td>\n",
       "      <td>08</td>\n",
       "      <td>08085</td>\n",
       "      <td>12.226</td>\n",
       "      <td>12.226</td>\n",
       "      <td>1705</td>\n",
       "      <td>NaN</td>\n",
       "      <td>9</td>\n",
       "      <td>MTN</td>\n",
       "      <td>877.8</td>\n",
       "      <td>False</td>\n",
       "      <td>False</td>\n",
       "      <td>12.226</td>\n",
       "      <td>False</td>\n",
       "      <td>17.474198</td>\n",
       "      <td>5.248198</td>\n",
       "      <td>0.429265</td>\n",
       "      <td>Colorado</td>\n",
       "      <td>Mountain</td>\n",
       "    </tr>\n",
       "  </tbody>\n",
       "</table>\n",
       "</div>"
      ],
      "text/plain": [
       "       report_date  plant_id_eia contract_type_code contract_expiration_date energy_source_code fuel_type_code_pudl  mine_id_pudl     supplier_name  fuel_received_units  fuel_mmbtu_per_unit  sulfur_content_pct  ash_content_pct  mercury_content_ppm primary_transportation_mode_code secondary_transportation_mode_code natural_gas_transport_code natural_gas_delivery_contract_type_code  moisture_content_pct  chlorine_content_ppm mine_name mine_type_code mine_county_id_fips mine_state fuel_group_eiaepm  ferc_cogen_status  ferc_exempt_wholesale_generator  ferc_small_power_producer iso_rto_code  latitude  longitude state    county   sector_name_eia natural_gas_pipeline_name_1 natural_gas_pipeline_name_2 natural_gas_pipeline_name_3 regulatory_status_code      water_source state_id_fips county_id_fips  fuel_cost_per_mmbtu_clipped  fuel_cost_per_mmbtu_raw  elapsed_days  remaining_contract_days  report_month census_region  fuel_received_mmbtu  mine_plant_same_state  mine_plant_same_county  \\\n",
       "263685  2012-09-01           527                  S                      NaT                 WO                 oil           NaN  westland propane                228.0                 3.85                 0.0              0.0                  0.0                               TR                                NaN              interruptible                                     NaN                   NaN                   NaN      None            NaN                 NaN        NaN         petroleum                0.0                              0.0                        0.0          NaN   38.2383  -108.5069    CO  Montrose  Electric Utility                        None                         NaN                         NaN                     RE  San Miguel River            08          08085                       12.226                   12.226          1705                      NaN             9           MTN                877.8                  False                   False   \n",
       "\n",
       "        fuel_cost_per_mmbtu_clipped_filled  fuel_cost_per_mmbtu_clipped_is_imputed  fuel_cost_per_mmbtu_clipped_imputed_values     error  rel_error state_name region_name  \n",
       "263685                              12.226                                   False                                   17.474198  5.248198   0.429265   Colorado    Mountain  "
      ]
     },
     "execution_count": 149,
     "metadata": {},
     "output_type": "execute_result"
    }
   ],
   "source": [
    "filter_ = (\n",
    "    elec_sector['state_name'].eq('Colorado') & \n",
    "    elec_sector['fuel_group_eiaepm'].eq('petroleum') & \n",
    "    elec_sector['report_date'].eq('2012-09-01')\n",
    "    )\n",
    "elec_sector.loc[filter_,:]"
   ]
  },
  {
   "cell_type": "code",
   "execution_count": null,
   "id": "cd89753d",
   "metadata": {},
   "outputs": [],
   "source": []
  }
 ],
 "metadata": {
  "kernelspec": {
   "display_name": "Python 3 (ipykernel)",
   "language": "python",
   "name": "python3"
  },
  "language_info": {
   "codemirror_mode": {
    "name": "ipython",
    "version": 3
   },
   "file_extension": ".py",
   "mimetype": "text/x-python",
   "name": "python",
   "nbconvert_exporter": "python",
   "pygments_lexer": "ipython3",
   "version": "3.10.8"
  }
 },
 "nbformat": 4,
 "nbformat_minor": 5
}
