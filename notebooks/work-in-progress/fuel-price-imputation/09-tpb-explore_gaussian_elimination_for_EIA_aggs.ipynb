{
 "cells": [
  {
   "cell_type": "code",
   "execution_count": 1,
   "id": "d91765f3",
   "metadata": {},
   "outputs": [],
   "source": [
    "import numpy as np\n",
    "import pandas as pd\n",
    "import sympy"
   ]
  },
  {
   "cell_type": "markdown",
   "id": "4789b5e2",
   "metadata": {},
   "source": [
    "# Proof of Concept on Fictional Toy Data\n",
    "Three time resolutions, one state, one fuel, one sector. A single year.\n",
    "\n",
    "Monthly:\n",
    "* Q1 has no unknowns\n",
    "* Q2 has one unknown month\n",
    "* Q2 has two unknown months\n",
    "* Q3 has three unknown months\n",
    "\n",
    "Quarterly\n",
    "* Q1 is unknown\n",
    "* Q2 is known\n",
    "* Q3 is known\n",
    "* Q4 is unknown\n",
    "\n",
    "Annual is known.\n",
    "\n",
    "Should be able to solve for:\n",
    "* Month June 2015 via Q2 total\n",
    "* Q1 total via known months\n",
    "* Q4 total via known Q2, Q3 and derived Q1\n",
    "\n",
    "Should NOT be able to solve for:\n",
    "* any missing months in Q3 and Q4"
   ]
  },
  {
   "cell_type": "markdown",
   "id": "5b800071",
   "metadata": {},
   "source": [
    "## Make Toy Data"
   ]
  },
  {
   "cell_type": "code",
   "execution_count": 175,
   "id": "6732fdfa",
   "metadata": {},
   "outputs": [],
   "source": [
    "# made in and copied from a spreadsheet\n",
    "data = \"\"\"\n",
    "geography,fuel,sector,time_resolution,timestamp,price,quantity\n",
    "AK,gas,utility,monthly,01-2015,5,100\n",
    "AK,gas,utility,monthly,02-2015,4,100\n",
    "AK,gas,utility,monthly,03-2015,6,100\n",
    "AK,gas,utility,monthly,04-2015,3,100\n",
    "AK,gas,utility,monthly,05-2015,2,100\n",
    "AK,gas,utility,monthly,06-2015,NA,100\n",
    "AK,gas,utility,monthly,07-2015,7,100\n",
    "AK,gas,utility,monthly,08-2015,NA,100\n",
    "AK,gas,utility,monthly,09-2015,NA,100\n",
    "AK,gas,utility,monthly,10-2015,NA,100\n",
    "AK,gas,utility,monthly,11-2015,NA,100\n",
    "AK,gas,utility,monthly,12-2015,NA,100\n",
    "AK,gas,utility,quarterly,01-2015,NA,300\n",
    "AK,gas,utility,quarterly,04-2015,2,300\n",
    "AK,gas,utility,quarterly,07-2015,6,300\n",
    "AK,gas,utility,quarterly,10-2015,NA,300\n",
    "AK,gas,utility,annual,01-2015,4.5,1200\n",
    "\"\"\""
   ]
  },
  {
   "cell_type": "code",
   "execution_count": 7,
   "id": "b60260ad",
   "metadata": {},
   "outputs": [],
   "source": [
    "from io import StringIO"
   ]
  },
  {
   "cell_type": "code",
   "execution_count": 176,
   "id": "35ae3263",
   "metadata": {},
   "outputs": [],
   "source": [
    "df = pd.read_csv(StringIO(data), parse_dates=['timestamp'])"
   ]
  },
  {
   "cell_type": "code",
   "execution_count": 177,
   "id": "719c64d3",
   "metadata": {},
   "outputs": [],
   "source": [
    "df['total'] = df['quantity'] * df['price']"
   ]
  },
  {
   "cell_type": "code",
   "execution_count": 178,
   "id": "c047316d",
   "metadata": {},
   "outputs": [
    {
     "data": {
      "text/html": [
       "<div>\n",
       "<style scoped>\n",
       "    .dataframe tbody tr th:only-of-type {\n",
       "        vertical-align: middle;\n",
       "    }\n",
       "\n",
       "    .dataframe tbody tr th {\n",
       "        vertical-align: top;\n",
       "    }\n",
       "\n",
       "    .dataframe thead th {\n",
       "        text-align: right;\n",
       "    }\n",
       "</style>\n",
       "<table border=\"1\" class=\"dataframe\">\n",
       "  <thead>\n",
       "    <tr style=\"text-align: right;\">\n",
       "      <th></th>\n",
       "      <th>geography</th>\n",
       "      <th>fuel</th>\n",
       "      <th>sector</th>\n",
       "      <th>time_resolution</th>\n",
       "      <th>timestamp</th>\n",
       "      <th>price</th>\n",
       "      <th>quantity</th>\n",
       "      <th>total</th>\n",
       "    </tr>\n",
       "  </thead>\n",
       "  <tbody>\n",
       "    <tr>\n",
       "      <th>0</th>\n",
       "      <td>AK</td>\n",
       "      <td>gas</td>\n",
       "      <td>utility</td>\n",
       "      <td>monthly</td>\n",
       "      <td>2015-01-01</td>\n",
       "      <td>5.0</td>\n",
       "      <td>100</td>\n",
       "      <td>500.0</td>\n",
       "    </tr>\n",
       "    <tr>\n",
       "      <th>1</th>\n",
       "      <td>AK</td>\n",
       "      <td>gas</td>\n",
       "      <td>utility</td>\n",
       "      <td>monthly</td>\n",
       "      <td>2015-02-01</td>\n",
       "      <td>4.0</td>\n",
       "      <td>100</td>\n",
       "      <td>400.0</td>\n",
       "    </tr>\n",
       "    <tr>\n",
       "      <th>2</th>\n",
       "      <td>AK</td>\n",
       "      <td>gas</td>\n",
       "      <td>utility</td>\n",
       "      <td>monthly</td>\n",
       "      <td>2015-03-01</td>\n",
       "      <td>6.0</td>\n",
       "      <td>100</td>\n",
       "      <td>600.0</td>\n",
       "    </tr>\n",
       "    <tr>\n",
       "      <th>3</th>\n",
       "      <td>AK</td>\n",
       "      <td>gas</td>\n",
       "      <td>utility</td>\n",
       "      <td>monthly</td>\n",
       "      <td>2015-04-01</td>\n",
       "      <td>3.0</td>\n",
       "      <td>100</td>\n",
       "      <td>300.0</td>\n",
       "    </tr>\n",
       "    <tr>\n",
       "      <th>4</th>\n",
       "      <td>AK</td>\n",
       "      <td>gas</td>\n",
       "      <td>utility</td>\n",
       "      <td>monthly</td>\n",
       "      <td>2015-05-01</td>\n",
       "      <td>2.0</td>\n",
       "      <td>100</td>\n",
       "      <td>200.0</td>\n",
       "    </tr>\n",
       "    <tr>\n",
       "      <th>5</th>\n",
       "      <td>AK</td>\n",
       "      <td>gas</td>\n",
       "      <td>utility</td>\n",
       "      <td>monthly</td>\n",
       "      <td>2015-06-01</td>\n",
       "      <td>NaN</td>\n",
       "      <td>100</td>\n",
       "      <td>NaN</td>\n",
       "    </tr>\n",
       "    <tr>\n",
       "      <th>6</th>\n",
       "      <td>AK</td>\n",
       "      <td>gas</td>\n",
       "      <td>utility</td>\n",
       "      <td>monthly</td>\n",
       "      <td>2015-07-01</td>\n",
       "      <td>7.0</td>\n",
       "      <td>100</td>\n",
       "      <td>700.0</td>\n",
       "    </tr>\n",
       "    <tr>\n",
       "      <th>7</th>\n",
       "      <td>AK</td>\n",
       "      <td>gas</td>\n",
       "      <td>utility</td>\n",
       "      <td>monthly</td>\n",
       "      <td>2015-08-01</td>\n",
       "      <td>NaN</td>\n",
       "      <td>100</td>\n",
       "      <td>NaN</td>\n",
       "    </tr>\n",
       "    <tr>\n",
       "      <th>8</th>\n",
       "      <td>AK</td>\n",
       "      <td>gas</td>\n",
       "      <td>utility</td>\n",
       "      <td>monthly</td>\n",
       "      <td>2015-09-01</td>\n",
       "      <td>NaN</td>\n",
       "      <td>100</td>\n",
       "      <td>NaN</td>\n",
       "    </tr>\n",
       "    <tr>\n",
       "      <th>9</th>\n",
       "      <td>AK</td>\n",
       "      <td>gas</td>\n",
       "      <td>utility</td>\n",
       "      <td>monthly</td>\n",
       "      <td>2015-10-01</td>\n",
       "      <td>NaN</td>\n",
       "      <td>100</td>\n",
       "      <td>NaN</td>\n",
       "    </tr>\n",
       "    <tr>\n",
       "      <th>10</th>\n",
       "      <td>AK</td>\n",
       "      <td>gas</td>\n",
       "      <td>utility</td>\n",
       "      <td>monthly</td>\n",
       "      <td>2015-11-01</td>\n",
       "      <td>NaN</td>\n",
       "      <td>100</td>\n",
       "      <td>NaN</td>\n",
       "    </tr>\n",
       "    <tr>\n",
       "      <th>11</th>\n",
       "      <td>AK</td>\n",
       "      <td>gas</td>\n",
       "      <td>utility</td>\n",
       "      <td>monthly</td>\n",
       "      <td>2015-12-01</td>\n",
       "      <td>NaN</td>\n",
       "      <td>100</td>\n",
       "      <td>NaN</td>\n",
       "    </tr>\n",
       "    <tr>\n",
       "      <th>12</th>\n",
       "      <td>AK</td>\n",
       "      <td>gas</td>\n",
       "      <td>utility</td>\n",
       "      <td>quarterly</td>\n",
       "      <td>2015-01-01</td>\n",
       "      <td>NaN</td>\n",
       "      <td>300</td>\n",
       "      <td>NaN</td>\n",
       "    </tr>\n",
       "    <tr>\n",
       "      <th>13</th>\n",
       "      <td>AK</td>\n",
       "      <td>gas</td>\n",
       "      <td>utility</td>\n",
       "      <td>quarterly</td>\n",
       "      <td>2015-04-01</td>\n",
       "      <td>2.0</td>\n",
       "      <td>300</td>\n",
       "      <td>600.0</td>\n",
       "    </tr>\n",
       "    <tr>\n",
       "      <th>14</th>\n",
       "      <td>AK</td>\n",
       "      <td>gas</td>\n",
       "      <td>utility</td>\n",
       "      <td>quarterly</td>\n",
       "      <td>2015-07-01</td>\n",
       "      <td>6.0</td>\n",
       "      <td>300</td>\n",
       "      <td>1800.0</td>\n",
       "    </tr>\n",
       "    <tr>\n",
       "      <th>15</th>\n",
       "      <td>AK</td>\n",
       "      <td>gas</td>\n",
       "      <td>utility</td>\n",
       "      <td>quarterly</td>\n",
       "      <td>2015-10-01</td>\n",
       "      <td>NaN</td>\n",
       "      <td>300</td>\n",
       "      <td>NaN</td>\n",
       "    </tr>\n",
       "    <tr>\n",
       "      <th>16</th>\n",
       "      <td>AK</td>\n",
       "      <td>gas</td>\n",
       "      <td>utility</td>\n",
       "      <td>annual</td>\n",
       "      <td>2015-01-01</td>\n",
       "      <td>4.5</td>\n",
       "      <td>1200</td>\n",
       "      <td>5400.0</td>\n",
       "    </tr>\n",
       "  </tbody>\n",
       "</table>\n",
       "</div>"
      ],
      "text/plain": [
       "   geography fuel   sector time_resolution  timestamp  price  quantity   total\n",
       "0         AK  gas  utility         monthly 2015-01-01    5.0       100   500.0\n",
       "1         AK  gas  utility         monthly 2015-02-01    4.0       100   400.0\n",
       "2         AK  gas  utility         monthly 2015-03-01    6.0       100   600.0\n",
       "3         AK  gas  utility         monthly 2015-04-01    3.0       100   300.0\n",
       "4         AK  gas  utility         monthly 2015-05-01    2.0       100   200.0\n",
       "5         AK  gas  utility         monthly 2015-06-01    NaN       100     NaN\n",
       "6         AK  gas  utility         monthly 2015-07-01    7.0       100   700.0\n",
       "7         AK  gas  utility         monthly 2015-08-01    NaN       100     NaN\n",
       "8         AK  gas  utility         monthly 2015-09-01    NaN       100     NaN\n",
       "9         AK  gas  utility         monthly 2015-10-01    NaN       100     NaN\n",
       "10        AK  gas  utility         monthly 2015-11-01    NaN       100     NaN\n",
       "11        AK  gas  utility         monthly 2015-12-01    NaN       100     NaN\n",
       "12        AK  gas  utility       quarterly 2015-01-01    NaN       300     NaN\n",
       "13        AK  gas  utility       quarterly 2015-04-01    2.0       300   600.0\n",
       "14        AK  gas  utility       quarterly 2015-07-01    6.0       300  1800.0\n",
       "15        AK  gas  utility       quarterly 2015-10-01    NaN       300     NaN\n",
       "16        AK  gas  utility          annual 2015-01-01    4.5      1200  5400.0"
      ]
     },
     "execution_count": 178,
     "metadata": {},
     "output_type": "execute_result"
    }
   ],
   "source": [
    "df"
   ]
  },
  {
   "cell_type": "markdown",
   "id": "7679b269",
   "metadata": {},
   "source": [
    "### Convert to matrix form\n",
    "Ax = b, or Quantity \\* price = total\n",
    "\n",
    "The key part is to represent all the overlapping information: each aggregate is both its own value and a sum of other aggregates. That means duplicating the values for each equation."
   ]
  },
  {
   "cell_type": "code",
   "execution_count": 37,
   "id": "16a165f1",
   "metadata": {},
   "outputs": [],
   "source": [
    "np.set_printoptions(edgeitems=30, linewidth=100000,)"
   ]
  },
  {
   "cell_type": "code",
   "execution_count": 179,
   "id": "76101647",
   "metadata": {},
   "outputs": [
    {
     "data": {
      "text/plain": [
       "array([[ 100,    0,    0,    0,    0,    0,    0,    0,    0,    0,    0,    0,    0,    0,    0,    0,    0],\n",
       "       [   0,  100,    0,    0,    0,    0,    0,    0,    0,    0,    0,    0,    0,    0,    0,    0,    0],\n",
       "       [   0,    0,  100,    0,    0,    0,    0,    0,    0,    0,    0,    0,    0,    0,    0,    0,    0],\n",
       "       [   0,    0,    0,  100,    0,    0,    0,    0,    0,    0,    0,    0,    0,    0,    0,    0,    0],\n",
       "       [   0,    0,    0,    0,  100,    0,    0,    0,    0,    0,    0,    0,    0,    0,    0,    0,    0],\n",
       "       [   0,    0,    0,    0,    0,  100,    0,    0,    0,    0,    0,    0,    0,    0,    0,    0,    0],\n",
       "       [   0,    0,    0,    0,    0,    0,  100,    0,    0,    0,    0,    0,    0,    0,    0,    0,    0],\n",
       "       [   0,    0,    0,    0,    0,    0,    0,  100,    0,    0,    0,    0,    0,    0,    0,    0,    0],\n",
       "       [   0,    0,    0,    0,    0,    0,    0,    0,  100,    0,    0,    0,    0,    0,    0,    0,    0],\n",
       "       [   0,    0,    0,    0,    0,    0,    0,    0,    0,  100,    0,    0,    0,    0,    0,    0,    0],\n",
       "       [   0,    0,    0,    0,    0,    0,    0,    0,    0,    0,  100,    0,    0,    0,    0,    0,    0],\n",
       "       [   0,    0,    0,    0,    0,    0,    0,    0,    0,    0,    0,  100,    0,    0,    0,    0,    0],\n",
       "       [   0,    0,    0,    0,    0,    0,    0,    0,    0,    0,    0,    0,  300,    0,    0,    0,    0],\n",
       "       [   0,    0,    0,    0,    0,    0,    0,    0,    0,    0,    0,    0,    0,  300,    0,    0,    0],\n",
       "       [   0,    0,    0,    0,    0,    0,    0,    0,    0,    0,    0,    0,    0,    0,  300,    0,    0],\n",
       "       [   0,    0,    0,    0,    0,    0,    0,    0,    0,    0,    0,    0,    0,    0,    0,  300,    0],\n",
       "       [   0,    0,    0,    0,    0,    0,    0,    0,    0,    0,    0,    0,    0,    0,    0,    0, 1200]])"
      ]
     },
     "execution_count": 179,
     "metadata": {},
     "output_type": "execute_result"
    }
   ],
   "source": [
    "values = np.diagflat(df['quantity'].to_numpy())\n",
    "values"
   ]
  },
  {
   "cell_type": "markdown",
   "id": "b287a0db",
   "metadata": {},
   "source": [
    "#### Add hierarchical relationship equations\n",
    "This is the key piece that models the hierarchical relationships, even in the absence of measured values. This works because this row is always == 0, regardless of data availability."
   ]
  },
  {
   "cell_type": "code",
   "execution_count": 170,
   "id": "92cbe392",
   "metadata": {},
   "outputs": [
    {
     "data": {
      "text/plain": [
       "array([[ 100,  100,  100,    0,    0,    0,    0,    0,    0,    0,    0,    0, -300,    0,    0,    0,    0],\n",
       "       [   0,    0,    0,  100,  100,  100,    0,    0,    0,    0,    0,    0,    0, -300,    0,    0,    0],\n",
       "       [   0,    0,    0,    0,    0,    0,  100,  100,  100,    0,    0,    0,    0,    0, -300,    0,    0],\n",
       "       [   0,    0,    0,    0,    0,    0,    0,    0,    0,  100,  100,  100,    0,    0,    0, -300,    0]])"
      ]
     },
     "execution_count": 170,
     "metadata": {},
     "output_type": "execute_result"
    }
   ],
   "source": [
    "quarterly_monthly_rel = np.array([[0]*3*i+[100]*3+[0]*3*(3-i)+[0]*i+[-300]+[0]*(3-i)+[0] for i in range (4)])\n",
    "quarterly_monthly_rel"
   ]
  },
  {
   "cell_type": "code",
   "execution_count": 171,
   "id": "60f09313",
   "metadata": {},
   "outputs": [
    {
     "data": {
      "text/plain": [
       "array([  100,   100,   100,   100,   100,   100,   100,   100,   100,   100,   100,   100,     0,     0,     0,     0, -1200])"
      ]
     },
     "execution_count": 171,
     "metadata": {},
     "output_type": "execute_result"
    }
   ],
   "source": [
    "annual_monthly_rel = np.array([100]*12 + [0]*4 + [-1200])\n",
    "annual_monthly_rel"
   ]
  },
  {
   "cell_type": "code",
   "execution_count": 173,
   "id": "cfd11eaa",
   "metadata": {},
   "outputs": [
    {
     "data": {
      "text/plain": [
       "array([    0,     0,     0,     0,     0,     0,     0,     0,     0,     0,     0,     0,   300,   300,   300,   300, -1200])"
      ]
     },
     "execution_count": 173,
     "metadata": {},
     "output_type": "execute_result"
    }
   ],
   "source": [
    "annual_quarterly_rel = np.array([0]*12 + [300]*4 + [-1200])\n",
    "annual_quarterly_rel"
   ]
  },
  {
   "cell_type": "code",
   "execution_count": 180,
   "id": "78c9004c",
   "metadata": {},
   "outputs": [
    {
     "data": {
      "text/plain": [
       "array([[  100,     0,     0,     0,     0,     0,     0,     0,     0,     0,     0,     0,     0,     0,     0,     0,     0],\n",
       "       [    0,   100,     0,     0,     0,     0,     0,     0,     0,     0,     0,     0,     0,     0,     0,     0,     0],\n",
       "       [    0,     0,   100,     0,     0,     0,     0,     0,     0,     0,     0,     0,     0,     0,     0,     0,     0],\n",
       "       [    0,     0,     0,   100,     0,     0,     0,     0,     0,     0,     0,     0,     0,     0,     0,     0,     0],\n",
       "       [    0,     0,     0,     0,   100,     0,     0,     0,     0,     0,     0,     0,     0,     0,     0,     0,     0],\n",
       "       [    0,     0,     0,     0,     0,   100,     0,     0,     0,     0,     0,     0,     0,     0,     0,     0,     0],\n",
       "       [    0,     0,     0,     0,     0,     0,   100,     0,     0,     0,     0,     0,     0,     0,     0,     0,     0],\n",
       "       [    0,     0,     0,     0,     0,     0,     0,   100,     0,     0,     0,     0,     0,     0,     0,     0,     0],\n",
       "       [    0,     0,     0,     0,     0,     0,     0,     0,   100,     0,     0,     0,     0,     0,     0,     0,     0],\n",
       "       [    0,     0,     0,     0,     0,     0,     0,     0,     0,   100,     0,     0,     0,     0,     0,     0,     0],\n",
       "       [    0,     0,     0,     0,     0,     0,     0,     0,     0,     0,   100,     0,     0,     0,     0,     0,     0],\n",
       "       [    0,     0,     0,     0,     0,     0,     0,     0,     0,     0,     0,   100,     0,     0,     0,     0,     0],\n",
       "       [    0,     0,     0,     0,     0,     0,     0,     0,     0,     0,     0,     0,   300,     0,     0,     0,     0],\n",
       "       [    0,     0,     0,     0,     0,     0,     0,     0,     0,     0,     0,     0,     0,   300,     0,     0,     0],\n",
       "       [    0,     0,     0,     0,     0,     0,     0,     0,     0,     0,     0,     0,     0,     0,   300,     0,     0],\n",
       "       [    0,     0,     0,     0,     0,     0,     0,     0,     0,     0,     0,     0,     0,     0,     0,   300,     0],\n",
       "       [    0,     0,     0,     0,     0,     0,     0,     0,     0,     0,     0,     0,     0,     0,     0,     0,  1200],\n",
       "       [  100,   100,   100,     0,     0,     0,     0,     0,     0,     0,     0,     0,  -300,     0,     0,     0,     0],\n",
       "       [    0,     0,     0,   100,   100,   100,     0,     0,     0,     0,     0,     0,     0,  -300,     0,     0,     0],\n",
       "       [    0,     0,     0,     0,     0,     0,   100,   100,   100,     0,     0,     0,     0,     0,  -300,     0,     0],\n",
       "       [    0,     0,     0,     0,     0,     0,     0,     0,     0,   100,   100,   100,     0,     0,     0,  -300,     0],\n",
       "       [  100,   100,   100,   100,   100,   100,   100,   100,   100,   100,   100,   100,     0,     0,     0,     0, -1200],\n",
       "       [    0,     0,     0,     0,     0,     0,     0,     0,     0,     0,     0,     0,   300,   300,   300,   300, -1200]])"
      ]
     },
     "execution_count": 180,
     "metadata": {},
     "output_type": "execute_result"
    }
   ],
   "source": [
    "A = np.vstack([values, quarterly_monthly_rel, annual_monthly_rel, annual_quarterly_rel])\n",
    "A"
   ]
  },
  {
   "cell_type": "code",
   "execution_count": 185,
   "id": "87b192d6",
   "metadata": {},
   "outputs": [
    {
     "data": {
      "text/plain": [
       "array([[ 500.],\n",
       "       [ 400.],\n",
       "       [ 600.],\n",
       "       [ 300.],\n",
       "       [ 200.],\n",
       "       [  nan],\n",
       "       [ 700.],\n",
       "       [  nan],\n",
       "       [  nan],\n",
       "       [  nan],\n",
       "       [  nan],\n",
       "       [  nan],\n",
       "       [  nan],\n",
       "       [ 600.],\n",
       "       [1800.],\n",
       "       [  nan],\n",
       "       [5400.],\n",
       "       [   0.],\n",
       "       [   0.],\n",
       "       [   0.],\n",
       "       [   0.],\n",
       "       [   0.],\n",
       "       [   0.]])"
      ]
     },
     "execution_count": 185,
     "metadata": {},
     "output_type": "execute_result"
    }
   ],
   "source": [
    "b = np.vstack([\n",
    "    df['total'].to_numpy().reshape(-1,1), # data values\n",
    "    np.zeros((6,1)), # relationship equations (zeros)\n",
    "])\n",
    "b"
   ]
  },
  {
   "cell_type": "code",
   "execution_count": 186,
   "id": "784b6090",
   "metadata": {},
   "outputs": [],
   "source": [
    "not_nan = ~np.isnan(b).reshape(-1)"
   ]
  },
  {
   "cell_type": "code",
   "execution_count": 187,
   "id": "2e346220",
   "metadata": {},
   "outputs": [
    {
     "data": {
      "text/plain": [
       "array([[ 500.],\n",
       "       [ 400.],\n",
       "       [ 600.],\n",
       "       [ 300.],\n",
       "       [ 200.],\n",
       "       [ 700.],\n",
       "       [ 600.],\n",
       "       [1800.],\n",
       "       [5400.],\n",
       "       [   0.],\n",
       "       [   0.],\n",
       "       [   0.],\n",
       "       [   0.],\n",
       "       [   0.],\n",
       "       [   0.]])"
      ]
     },
     "execution_count": 187,
     "metadata": {},
     "output_type": "execute_result"
    }
   ],
   "source": [
    "b = b[not_nan]\n",
    "b"
   ]
  },
  {
   "cell_type": "code",
   "execution_count": 188,
   "id": "a13654fb",
   "metadata": {},
   "outputs": [
    {
     "data": {
      "text/plain": [
       "array([[  100,     0,     0,     0,     0,     0,     0,     0,     0,     0,     0,     0,     0,     0,     0,     0,     0],\n",
       "       [    0,   100,     0,     0,     0,     0,     0,     0,     0,     0,     0,     0,     0,     0,     0,     0,     0],\n",
       "       [    0,     0,   100,     0,     0,     0,     0,     0,     0,     0,     0,     0,     0,     0,     0,     0,     0],\n",
       "       [    0,     0,     0,   100,     0,     0,     0,     0,     0,     0,     0,     0,     0,     0,     0,     0,     0],\n",
       "       [    0,     0,     0,     0,   100,     0,     0,     0,     0,     0,     0,     0,     0,     0,     0,     0,     0],\n",
       "       [    0,     0,     0,     0,     0,     0,   100,     0,     0,     0,     0,     0,     0,     0,     0,     0,     0],\n",
       "       [    0,     0,     0,     0,     0,     0,     0,     0,     0,     0,     0,     0,     0,   300,     0,     0,     0],\n",
       "       [    0,     0,     0,     0,     0,     0,     0,     0,     0,     0,     0,     0,     0,     0,   300,     0,     0],\n",
       "       [    0,     0,     0,     0,     0,     0,     0,     0,     0,     0,     0,     0,     0,     0,     0,     0,  1200],\n",
       "       [  100,   100,   100,     0,     0,     0,     0,     0,     0,     0,     0,     0,  -300,     0,     0,     0,     0],\n",
       "       [    0,     0,     0,   100,   100,   100,     0,     0,     0,     0,     0,     0,     0,  -300,     0,     0,     0],\n",
       "       [    0,     0,     0,     0,     0,     0,   100,   100,   100,     0,     0,     0,     0,     0,  -300,     0,     0],\n",
       "       [    0,     0,     0,     0,     0,     0,     0,     0,     0,   100,   100,   100,     0,     0,     0,  -300,     0],\n",
       "       [  100,   100,   100,   100,   100,   100,   100,   100,   100,   100,   100,   100,     0,     0,     0,     0, -1200],\n",
       "       [    0,     0,     0,     0,     0,     0,     0,     0,     0,     0,     0,     0,   300,   300,   300,   300, -1200]])"
      ]
     },
     "execution_count": 188,
     "metadata": {},
     "output_type": "execute_result"
    }
   ],
   "source": [
    "A = A[not_nan, :]\n",
    "A"
   ]
  },
  {
   "cell_type": "markdown",
   "id": "e158fed7",
   "metadata": {},
   "source": [
    "x is the rows of df"
   ]
  },
  {
   "cell_type": "markdown",
   "id": "08fa68a4",
   "metadata": {},
   "source": [
    "## Solve"
   ]
  },
  {
   "cell_type": "code",
   "execution_count": 189,
   "id": "646ac85d",
   "metadata": {},
   "outputs": [],
   "source": [
    "system = (sympy.Matrix(A), sympy.Matrix(b))"
   ]
  },
  {
   "cell_type": "code",
   "execution_count": 190,
   "id": "14d7c059",
   "metadata": {},
   "outputs": [],
   "source": [
    "solution = sympy.solvers.linsolve(system)"
   ]
  },
  {
   "cell_type": "code",
   "execution_count": 191,
   "id": "b7eeba2a",
   "metadata": {},
   "outputs": [
    {
     "data": {
      "text/latex": [
       "$\\displaystyle \\left\\{\\left( 5.0, \\  4.0, \\  6.0, \\  3.0, \\  2.0, \\  1.0, \\  7.0, \\  11.0 - 1.0 \\tau_{0}, \\  \\tau_{0}, \\  - 1.0 \\tau_{1} - 1.0 \\tau_{2} + 15.0, \\  \\tau_{1}, \\  \\tau_{2}, \\  5.0, \\  2.0, \\  6.0, \\  5.0, \\  4.5\\right)\\right\\}$"
      ],
      "text/plain": [
       "{(5.0, 4.0, 6.0, 3.0, 2.0, 1.0, 7.0, 11.0 - 1.0*tau0, tau0, -1.0*tau1 - 1.0*tau2 + 15.0, tau1, tau2, 5.0, 2.0, 6.0, 5.0, 4.5)}"
      ]
     },
     "execution_count": 191,
     "metadata": {},
     "output_type": "execute_result"
    }
   ],
   "source": [
    "solution"
   ]
  },
  {
   "cell_type": "code",
   "execution_count": 193,
   "id": "87f18943",
   "metadata": {},
   "outputs": [
    {
     "data": {
      "text/html": [
       "<div>\n",
       "<style scoped>\n",
       "    .dataframe tbody tr th:only-of-type {\n",
       "        vertical-align: middle;\n",
       "    }\n",
       "\n",
       "    .dataframe tbody tr th {\n",
       "        vertical-align: top;\n",
       "    }\n",
       "\n",
       "    .dataframe thead th {\n",
       "        text-align: right;\n",
       "    }\n",
       "</style>\n",
       "<table border=\"1\" class=\"dataframe\">\n",
       "  <thead>\n",
       "    <tr style=\"text-align: right;\">\n",
       "      <th></th>\n",
       "      <th>geography</th>\n",
       "      <th>fuel</th>\n",
       "      <th>sector</th>\n",
       "      <th>time_resolution</th>\n",
       "      <th>timestamp</th>\n",
       "      <th>price</th>\n",
       "      <th>quantity</th>\n",
       "      <th>total</th>\n",
       "      <th>solution</th>\n",
       "    </tr>\n",
       "  </thead>\n",
       "  <tbody>\n",
       "    <tr>\n",
       "      <th>0</th>\n",
       "      <td>AK</td>\n",
       "      <td>gas</td>\n",
       "      <td>utility</td>\n",
       "      <td>monthly</td>\n",
       "      <td>2015-01-01</td>\n",
       "      <td>5.0</td>\n",
       "      <td>100</td>\n",
       "      <td>500.0</td>\n",
       "      <td>5.00000000000000</td>\n",
       "    </tr>\n",
       "    <tr>\n",
       "      <th>1</th>\n",
       "      <td>AK</td>\n",
       "      <td>gas</td>\n",
       "      <td>utility</td>\n",
       "      <td>monthly</td>\n",
       "      <td>2015-02-01</td>\n",
       "      <td>4.0</td>\n",
       "      <td>100</td>\n",
       "      <td>400.0</td>\n",
       "      <td>4.00000000000000</td>\n",
       "    </tr>\n",
       "    <tr>\n",
       "      <th>2</th>\n",
       "      <td>AK</td>\n",
       "      <td>gas</td>\n",
       "      <td>utility</td>\n",
       "      <td>monthly</td>\n",
       "      <td>2015-03-01</td>\n",
       "      <td>6.0</td>\n",
       "      <td>100</td>\n",
       "      <td>600.0</td>\n",
       "      <td>6.00000000000000</td>\n",
       "    </tr>\n",
       "    <tr>\n",
       "      <th>3</th>\n",
       "      <td>AK</td>\n",
       "      <td>gas</td>\n",
       "      <td>utility</td>\n",
       "      <td>monthly</td>\n",
       "      <td>2015-04-01</td>\n",
       "      <td>3.0</td>\n",
       "      <td>100</td>\n",
       "      <td>300.0</td>\n",
       "      <td>3.00000000000000</td>\n",
       "    </tr>\n",
       "    <tr>\n",
       "      <th>4</th>\n",
       "      <td>AK</td>\n",
       "      <td>gas</td>\n",
       "      <td>utility</td>\n",
       "      <td>monthly</td>\n",
       "      <td>2015-05-01</td>\n",
       "      <td>2.0</td>\n",
       "      <td>100</td>\n",
       "      <td>200.0</td>\n",
       "      <td>2.00000000000000</td>\n",
       "    </tr>\n",
       "    <tr>\n",
       "      <th>5</th>\n",
       "      <td>AK</td>\n",
       "      <td>gas</td>\n",
       "      <td>utility</td>\n",
       "      <td>monthly</td>\n",
       "      <td>2015-06-01</td>\n",
       "      <td>NaN</td>\n",
       "      <td>100</td>\n",
       "      <td>NaN</td>\n",
       "      <td>1.00000000000000</td>\n",
       "    </tr>\n",
       "    <tr>\n",
       "      <th>6</th>\n",
       "      <td>AK</td>\n",
       "      <td>gas</td>\n",
       "      <td>utility</td>\n",
       "      <td>monthly</td>\n",
       "      <td>2015-07-01</td>\n",
       "      <td>7.0</td>\n",
       "      <td>100</td>\n",
       "      <td>700.0</td>\n",
       "      <td>7.00000000000000</td>\n",
       "    </tr>\n",
       "    <tr>\n",
       "      <th>7</th>\n",
       "      <td>AK</td>\n",
       "      <td>gas</td>\n",
       "      <td>utility</td>\n",
       "      <td>monthly</td>\n",
       "      <td>2015-08-01</td>\n",
       "      <td>NaN</td>\n",
       "      <td>100</td>\n",
       "      <td>NaN</td>\n",
       "      <td>11.0 - 1.0*tau0</td>\n",
       "    </tr>\n",
       "    <tr>\n",
       "      <th>8</th>\n",
       "      <td>AK</td>\n",
       "      <td>gas</td>\n",
       "      <td>utility</td>\n",
       "      <td>monthly</td>\n",
       "      <td>2015-09-01</td>\n",
       "      <td>NaN</td>\n",
       "      <td>100</td>\n",
       "      <td>NaN</td>\n",
       "      <td>tau0</td>\n",
       "    </tr>\n",
       "    <tr>\n",
       "      <th>9</th>\n",
       "      <td>AK</td>\n",
       "      <td>gas</td>\n",
       "      <td>utility</td>\n",
       "      <td>monthly</td>\n",
       "      <td>2015-10-01</td>\n",
       "      <td>NaN</td>\n",
       "      <td>100</td>\n",
       "      <td>NaN</td>\n",
       "      <td>-1.0*tau1 - 1.0*tau2 + 15.0</td>\n",
       "    </tr>\n",
       "    <tr>\n",
       "      <th>10</th>\n",
       "      <td>AK</td>\n",
       "      <td>gas</td>\n",
       "      <td>utility</td>\n",
       "      <td>monthly</td>\n",
       "      <td>2015-11-01</td>\n",
       "      <td>NaN</td>\n",
       "      <td>100</td>\n",
       "      <td>NaN</td>\n",
       "      <td>tau1</td>\n",
       "    </tr>\n",
       "    <tr>\n",
       "      <th>11</th>\n",
       "      <td>AK</td>\n",
       "      <td>gas</td>\n",
       "      <td>utility</td>\n",
       "      <td>monthly</td>\n",
       "      <td>2015-12-01</td>\n",
       "      <td>NaN</td>\n",
       "      <td>100</td>\n",
       "      <td>NaN</td>\n",
       "      <td>tau2</td>\n",
       "    </tr>\n",
       "    <tr>\n",
       "      <th>12</th>\n",
       "      <td>AK</td>\n",
       "      <td>gas</td>\n",
       "      <td>utility</td>\n",
       "      <td>quarterly</td>\n",
       "      <td>2015-01-01</td>\n",
       "      <td>NaN</td>\n",
       "      <td>300</td>\n",
       "      <td>NaN</td>\n",
       "      <td>5.00000000000000</td>\n",
       "    </tr>\n",
       "    <tr>\n",
       "      <th>13</th>\n",
       "      <td>AK</td>\n",
       "      <td>gas</td>\n",
       "      <td>utility</td>\n",
       "      <td>quarterly</td>\n",
       "      <td>2015-04-01</td>\n",
       "      <td>2.0</td>\n",
       "      <td>300</td>\n",
       "      <td>600.0</td>\n",
       "      <td>2.00000000000000</td>\n",
       "    </tr>\n",
       "    <tr>\n",
       "      <th>14</th>\n",
       "      <td>AK</td>\n",
       "      <td>gas</td>\n",
       "      <td>utility</td>\n",
       "      <td>quarterly</td>\n",
       "      <td>2015-07-01</td>\n",
       "      <td>6.0</td>\n",
       "      <td>300</td>\n",
       "      <td>1800.0</td>\n",
       "      <td>6.00000000000000</td>\n",
       "    </tr>\n",
       "    <tr>\n",
       "      <th>15</th>\n",
       "      <td>AK</td>\n",
       "      <td>gas</td>\n",
       "      <td>utility</td>\n",
       "      <td>quarterly</td>\n",
       "      <td>2015-10-01</td>\n",
       "      <td>NaN</td>\n",
       "      <td>300</td>\n",
       "      <td>NaN</td>\n",
       "      <td>5.00000000000000</td>\n",
       "    </tr>\n",
       "    <tr>\n",
       "      <th>16</th>\n",
       "      <td>AK</td>\n",
       "      <td>gas</td>\n",
       "      <td>utility</td>\n",
       "      <td>annual</td>\n",
       "      <td>2015-01-01</td>\n",
       "      <td>4.5</td>\n",
       "      <td>1200</td>\n",
       "      <td>5400.0</td>\n",
       "      <td>4.50000000000000</td>\n",
       "    </tr>\n",
       "  </tbody>\n",
       "</table>\n",
       "</div>"
      ],
      "text/plain": [
       "   geography fuel   sector time_resolution  timestamp  price  quantity  \\\n",
       "0         AK  gas  utility         monthly 2015-01-01    5.0       100   \n",
       "1         AK  gas  utility         monthly 2015-02-01    4.0       100   \n",
       "2         AK  gas  utility         monthly 2015-03-01    6.0       100   \n",
       "3         AK  gas  utility         monthly 2015-04-01    3.0       100   \n",
       "4         AK  gas  utility         monthly 2015-05-01    2.0       100   \n",
       "5         AK  gas  utility         monthly 2015-06-01    NaN       100   \n",
       "6         AK  gas  utility         monthly 2015-07-01    7.0       100   \n",
       "7         AK  gas  utility         monthly 2015-08-01    NaN       100   \n",
       "8         AK  gas  utility         monthly 2015-09-01    NaN       100   \n",
       "9         AK  gas  utility         monthly 2015-10-01    NaN       100   \n",
       "10        AK  gas  utility         monthly 2015-11-01    NaN       100   \n",
       "11        AK  gas  utility         monthly 2015-12-01    NaN       100   \n",
       "12        AK  gas  utility       quarterly 2015-01-01    NaN       300   \n",
       "13        AK  gas  utility       quarterly 2015-04-01    2.0       300   \n",
       "14        AK  gas  utility       quarterly 2015-07-01    6.0       300   \n",
       "15        AK  gas  utility       quarterly 2015-10-01    NaN       300   \n",
       "16        AK  gas  utility          annual 2015-01-01    4.5      1200   \n",
       "\n",
       "     total                     solution  \n",
       "0    500.0             5.00000000000000  \n",
       "1    400.0             4.00000000000000  \n",
       "2    600.0             6.00000000000000  \n",
       "3    300.0             3.00000000000000  \n",
       "4    200.0             2.00000000000000  \n",
       "5      NaN             1.00000000000000  \n",
       "6    700.0             7.00000000000000  \n",
       "7      NaN              11.0 - 1.0*tau0  \n",
       "8      NaN                         tau0  \n",
       "9      NaN  -1.0*tau1 - 1.0*tau2 + 15.0  \n",
       "10     NaN                         tau1  \n",
       "11     NaN                         tau2  \n",
       "12     NaN             5.00000000000000  \n",
       "13   600.0             2.00000000000000  \n",
       "14  1800.0             6.00000000000000  \n",
       "15     NaN             5.00000000000000  \n",
       "16  5400.0             4.50000000000000  "
      ]
     },
     "execution_count": 193,
     "metadata": {},
     "output_type": "execute_result"
    }
   ],
   "source": [
    "df['solution'] = list(*solution)\n",
    "df"
   ]
  },
  {
   "cell_type": "code",
   "execution_count": 195,
   "id": "81064fea",
   "metadata": {},
   "outputs": [
    {
     "data": {
      "text/plain": [
       "sympy.core.numbers.Float"
      ]
     },
     "execution_count": 195,
     "metadata": {},
     "output_type": "execute_result"
    }
   ],
   "source": [
    "type(list(*solution)[0])"
   ]
  },
  {
   "cell_type": "markdown",
   "id": "35713451",
   "metadata": {},
   "source": [
    "Success! All three recoverable values were obtained.\n",
    "\n",
    "Compare to other solvers:\n",
    "#### Numpy least squares\n",
    "The problem with this is it gives a particular solution for underdetermined systems. How can I tell which variables are solved exactly and which are arbitrary?"
   ]
  },
  {
   "cell_type": "code",
   "execution_count": 204,
   "id": "a8bd96e2",
   "metadata": {},
   "outputs": [
    {
     "name": "stderr",
     "output_type": "stream",
     "text": [
      "/tmp/ipykernel_2930/1872178327.py:1: FutureWarning: `rcond` parameter will change to the default of machine precision times ``max(M, N)`` where M and N are the input matrix dimensions.\n",
      "To use the future default and silence this warning we advise to pass `rcond=None`, to keep using the old, explicitly pass `rcond=-1`.\n",
      "  x1, resid, rnk, s = np.linalg.lstsq(A,b)\n"
     ]
    },
    {
     "data": {
      "text/plain": [
       "array([[5. ],\n",
       "       [4. ],\n",
       "       [6. ],\n",
       "       [3. ],\n",
       "       [2. ],\n",
       "       [1. ],\n",
       "       [7. ],\n",
       "       [5.5],\n",
       "       [5.5],\n",
       "       [5. ],\n",
       "       [5. ],\n",
       "       [5. ],\n",
       "       [5. ],\n",
       "       [2. ],\n",
       "       [6. ],\n",
       "       [5. ],\n",
       "       [4.5]])"
      ]
     },
     "execution_count": 204,
     "metadata": {},
     "output_type": "execute_result"
    }
   ],
   "source": [
    "x1, resid, rnk, s = np.linalg.lstsq(A,b)\n",
    "x1"
   ]
  },
  {
   "cell_type": "code",
   "execution_count": 205,
   "id": "d9d5d18a",
   "metadata": {},
   "outputs": [
    {
     "data": {
      "text/plain": [
       "14"
      ]
     },
     "execution_count": 205,
     "metadata": {},
     "output_type": "execute_result"
    }
   ],
   "source": [
    "rnk"
   ]
  },
  {
   "cell_type": "code",
   "execution_count": 206,
   "id": "a2615901",
   "metadata": {},
   "outputs": [
    {
     "data": {
      "text/plain": [
       "array([], dtype=float64)"
      ]
     },
     "execution_count": 206,
     "metadata": {},
     "output_type": "execute_result"
    }
   ],
   "source": [
    "resid"
   ]
  },
  {
   "cell_type": "markdown",
   "id": "8cacd676",
   "metadata": {},
   "source": [
    "#### Scipy NNLS"
   ]
  },
  {
   "cell_type": "code",
   "execution_count": 213,
   "id": "ee4307f1",
   "metadata": {},
   "outputs": [],
   "source": [
    "from scipy.optimize import nnls"
   ]
  },
  {
   "cell_type": "code",
   "execution_count": 216,
   "id": "4dc117d1",
   "metadata": {},
   "outputs": [],
   "source": [
    "x2, resid = nnls(A,b.reshape(-1))"
   ]
  },
  {
   "cell_type": "code",
   "execution_count": 220,
   "id": "c87ff075",
   "metadata": {},
   "outputs": [
    {
     "data": {
      "text/plain": [
       "array([[ 5. ,  5. ],\n",
       "       [ 4. ,  4. ],\n",
       "       [ 6. ,  6. ],\n",
       "       [ 3. ,  3. ],\n",
       "       [ 2. ,  2. ],\n",
       "       [ 1. ,  1. ],\n",
       "       [ 7. ,  7. ],\n",
       "       [ 5.5,  0. ],\n",
       "       [ 5.5, 11. ],\n",
       "       [ 5. ,  0. ],\n",
       "       [ 5. , 15. ],\n",
       "       [ 5. ,  0. ],\n",
       "       [ 5. ,  5. ],\n",
       "       [ 2. ,  2. ],\n",
       "       [ 6. ,  6. ],\n",
       "       [ 5. ,  5. ],\n",
       "       [ 4.5,  4.5]])"
      ]
     },
     "execution_count": 220,
     "metadata": {},
     "output_type": "execute_result"
    }
   ],
   "source": [
    "np.hstack([x1, x2.reshape(-1,1)])"
   ]
  },
  {
   "cell_type": "markdown",
   "id": "d904761f",
   "metadata": {},
   "source": [
    "Can use two different solvers and check for differences. There must be a better way?"
   ]
  },
  {
   "cell_type": "code",
   "execution_count": 222,
   "id": "93ddf9b0",
   "metadata": {},
   "outputs": [
    {
     "data": {
      "text/plain": [
       "array([ True,  True,  True,  True,  True,  True,  True, False, False, False, False, False,  True,  True,  True,  True,  True])"
      ]
     },
     "execution_count": 222,
     "metadata": {},
     "output_type": "execute_result"
    }
   ],
   "source": [
    "np.abs(x1.reshape(-1) - x2) < 1e-10"
   ]
  },
  {
   "cell_type": "markdown",
   "id": "05c33c48",
   "metadata": {},
   "source": [
    "#### Find the Null Space numerically\n",
    "Non-zero (numerically speaking) coefficients in the null space show which variables are undetermined. But this requires a second decomposition."
   ]
  },
  {
   "cell_type": "code",
   "execution_count": 223,
   "id": "c236bab2",
   "metadata": {},
   "outputs": [],
   "source": [
    "from scipy.linalg import qr\n",
    "\n",
    "def qr_null(A, tol=None):\n",
    "    \"\"\"Computes the null space of A using a rank-revealing QR decomposition\"\"\"\n",
    "    Q, R, P = qr(A.T, mode='full', pivoting=True)\n",
    "    tol = np.finfo(R.dtype).eps if tol is None else tol\n",
    "    rnk = min(A.shape) - np.abs(np.diag(R))[::-1].searchsorted(tol)\n",
    "    return Q[:, rnk:].conj()"
   ]
  },
  {
   "cell_type": "code",
   "execution_count": 246,
   "id": "9309189b",
   "metadata": {},
   "outputs": [
    {
     "data": {
      "text/plain": [
       "3"
      ]
     },
     "execution_count": 246,
     "metadata": {},
     "output_type": "execute_result"
    }
   ],
   "source": [
    "# Compute the null space of `A`\n",
    "Z = qr_null(A)\n",
    "nullity = Z.shape[1]\n",
    "nullity"
   ]
  },
  {
   "cell_type": "code",
   "execution_count": 260,
   "id": "2c06af43",
   "metadata": {},
   "outputs": [
    {
     "name": "stdout",
     "output_type": "stream",
     "text": [
      "[[5.        ]\n",
      " [4.        ]\n",
      " [6.        ]\n",
      " [3.        ]\n",
      " [2.        ]\n",
      " [1.        ]\n",
      " [7.        ]\n",
      " [5.13192502]\n",
      " [5.86807498]\n",
      " [5.81919635]\n",
      " [4.65161849]\n",
      " [4.52918516]\n",
      " [5.        ]\n",
      " [2.        ]\n",
      " [6.        ]\n",
      " [5.        ]\n",
      " [4.5       ]] 5.7330092970254436e-11\n"
     ]
    }
   ],
   "source": [
    "# Sample some random solutions\n",
    "for _ in range(1):\n",
    "    x_rand = x1 + Z.dot(np.random.rand(nullity)).reshape(-1,1)\n",
    "    # If `x_rand` is a solution then `||A·x_rand - b||` should be very small\n",
    "    out = A.dot(x_rand)\n",
    "    error = np.linalg.norm(out - b)\n",
    "    print(x_rand, error)"
   ]
  },
  {
   "cell_type": "code",
   "execution_count": 261,
   "id": "6f88ec9a",
   "metadata": {},
   "outputs": [
    {
     "data": {
      "text/plain": [
       "array([[False],\n",
       "       [False],\n",
       "       [False],\n",
       "       [False],\n",
       "       [False],\n",
       "       [False],\n",
       "       [False],\n",
       "       [ True],\n",
       "       [ True],\n",
       "       [ True],\n",
       "       [ True],\n",
       "       [ True],\n",
       "       [False],\n",
       "       [False],\n",
       "       [False],\n",
       "       [False],\n",
       "       [False]])"
      ]
     },
     "execution_count": 261,
     "metadata": {},
     "output_type": "execute_result"
    }
   ],
   "source": [
    "# Non-zero (numerically speaking) coefficients in the null space show which variables are undetermined.\n",
    "(np.abs(Z[:,0]) > 1e-12).reshape(-1,1)"
   ]
  },
  {
   "cell_type": "code",
   "execution_count": null,
   "id": "be619d21",
   "metadata": {},
   "outputs": [],
   "source": []
  }
 ],
 "metadata": {
  "kernelspec": {
   "display_name": "Python 3 (ipykernel)",
   "language": "python",
   "name": "python3"
  },
  "language_info": {
   "codemirror_mode": {
    "name": "ipython",
    "version": 3
   },
   "file_extension": ".py",
   "mimetype": "text/x-python",
   "name": "python",
   "nbconvert_exporter": "python",
   "pygments_lexer": "ipython3",
   "version": "3.10.5"
  }
 },
 "nbformat": 4,
 "nbformat_minor": 5
}
