{
 "cells": [
  {
   "cell_type": "code",
   "execution_count": 1,
   "id": "4c2d015b-f14c-4fc3-bb80-a5af035793fc",
   "metadata": {},
   "outputs": [],
   "source": [
    "import pandas as pd\n",
    "from pathlib import Path"
   ]
  },
  {
   "cell_type": "markdown",
   "id": "60383969-a9a5-4be8-98f2-ac65b2680b6e",
   "metadata": {},
   "source": [
    "# Explore EIA API  and EIA Bulk data\n",
    "API query:\n",
    "\n",
    "(reproduciblilty note: replace `api_key=<REDACTED>` at the top)\n",
    "```\n",
    "https://api.eia.gov/v2/electricity/electric-power-operational-data/data/?api_key=<REDACTED>&frequency=quarterly&data[0]=cost-per-btu&data[1]=receipts-btu&facets[fueltypeid][]=ANT&facets[fueltypeid][]=BIS&facets[fueltypeid][]=DFO&facets[fueltypeid][]=FOS&facets[fueltypeid][]=LFG&facets[fueltypeid][]=MLG&facets[fueltypeid][]=NGO&facets[fueltypeid][]=OOG&facets[fueltypeid][]=PET&facets[fueltypeid][]=RC&facets[fueltypeid][]=RFO&facets[fueltypeid][]=WOC&facets[fueltypeid][]=WOO&facets[location][]=90&facets[location][]=AK&facets[location][]=AL&facets[location][]=AR&facets[location][]=AZ&facets[location][]=CA&facets[location][]=CO&facets[location][]=CT&facets[location][]=DC&facets[location][]=DE&facets[location][]=ENC&facets[location][]=ESC&facets[location][]=FL&facets[location][]=GA&facets[location][]=HI&facets[location][]=IA&facets[location][]=ID&facets[location][]=IL&facets[location][]=IN&facets[location][]=KS&facets[location][]=KY&facets[location][]=LA&facets[location][]=MA&facets[location][]=MAT&facets[location][]=MD&facets[location][]=ME&facets[location][]=MI&facets[location][]=MN&facets[location][]=MO&facets[location][]=MS&facets[location][]=MT&facets[location][]=MTN&facets[location][]=NC&facets[location][]=ND&facets[location][]=NE&facets[location][]=NEW&facets[location][]=NH&facets[location][]=NJ&facets[location][]=NM&facets[location][]=NV&facets[location][]=NY&facets[location][]=OH&facets[location][]=OK&facets[location][]=OR&facets[location][]=PA&facets[location][]=PCC&facets[location][]=PCN&facets[location][]=RI&facets[location][]=SAT&facets[location][]=SC&facets[location][]=SD&facets[location][]=TN&facets[location][]=TX&facets[location][]=US&facets[location][]=UT&facets[location][]=VA&facets[location][]=VT&facets[location][]=WA&facets[location][]=WI&facets[location][]=WNC&facets[location][]=WSC&facets[location][]=WV&facets[location][]=WY&facets[sectorid][]=1&facets[sectorid][]=2&facets[sectorid][]=3&facets[sectorid][]=4&facets[sectorid][]=5&facets[sectorid][]=6&facets[sectorid][]=7&facets[sectorid][]=90&facets[sectorid][]=94&facets[sectorid][]=96&facets[sectorid][]=97&facets[sectorid][]=98&facets[sectorid][]=99&start=2015-Q1&end=2015-Q1&sort[0][column]=period&sort[0][direction]=asc&offset=0&length=5000\n",
    "```"
   ]
  },
  {
   "cell_type": "code",
   "execution_count": 5,
   "id": "879ad701-ae2b-468b-919f-f3c99bf9303a",
   "metadata": {},
   "outputs": [],
   "source": [
    "# I manually edited the file to remove metadata and make it line-delimited for easier parsing.\n",
    "path_api_stuff = Path('./api.eia.gov2015.json')\n",
    "assert path_api_stuff.exists()"
   ]
  },
  {
   "cell_type": "code",
   "execution_count": 22,
   "id": "b55b4641-fbcd-4375-8b58-6d9b074fe450",
   "metadata": {},
   "outputs": [],
   "source": [
    "api_raw = pd.read_json(path_api_stuff, lines=True)"
   ]
  },
  {
   "cell_type": "code",
   "execution_count": 23,
   "id": "c7d31238-c7a6-4568-a012-006d33d51275",
   "metadata": {},
   "outputs": [
    {
     "data": {
      "text/html": [
       "<div>\n",
       "<style scoped>\n",
       "    .dataframe tbody tr th:only-of-type {\n",
       "        vertical-align: middle;\n",
       "    }\n",
       "\n",
       "    .dataframe tbody tr th {\n",
       "        vertical-align: top;\n",
       "    }\n",
       "\n",
       "    .dataframe thead th {\n",
       "        text-align: right;\n",
       "    }\n",
       "</style>\n",
       "<table border=\"1\" class=\"dataframe\">\n",
       "  <thead>\n",
       "    <tr style=\"text-align: right;\">\n",
       "      <th></th>\n",
       "      <th>period</th>\n",
       "      <th>location</th>\n",
       "      <th>stateDescription</th>\n",
       "      <th>sectorid</th>\n",
       "      <th>sectorDescription</th>\n",
       "      <th>fueltypeid</th>\n",
       "      <th>fuelTypeDescription</th>\n",
       "      <th>cost-per-btu</th>\n",
       "      <th>cost-per-btu-units</th>\n",
       "      <th>receipts-btu</th>\n",
       "      <th>receipts-btu-units</th>\n",
       "    </tr>\n",
       "  </thead>\n",
       "  <tbody>\n",
       "    <tr>\n",
       "      <th>0</th>\n",
       "      <td>2015-Q1</td>\n",
       "      <td>ESC</td>\n",
       "      <td>East South Central</td>\n",
       "      <td>3</td>\n",
       "      <td>IPP CHP</td>\n",
       "      <td>BIT</td>\n",
       "      <td>bituminous coal</td>\n",
       "      <td>NaN</td>\n",
       "      <td>dollars per million Btu</td>\n",
       "      <td>0.0</td>\n",
       "      <td>billion Btu</td>\n",
       "    </tr>\n",
       "    <tr>\n",
       "      <th>1</th>\n",
       "      <td>2015-Q1</td>\n",
       "      <td>ESC</td>\n",
       "      <td>East South Central</td>\n",
       "      <td>3</td>\n",
       "      <td>IPP CHP</td>\n",
       "      <td>COW</td>\n",
       "      <td>all coal products</td>\n",
       "      <td>NaN</td>\n",
       "      <td>dollars per million Btu</td>\n",
       "      <td>0.0</td>\n",
       "      <td>billion Btu</td>\n",
       "    </tr>\n",
       "    <tr>\n",
       "      <th>2</th>\n",
       "      <td>2015-Q1</td>\n",
       "      <td>WSC</td>\n",
       "      <td>West South Central</td>\n",
       "      <td>4</td>\n",
       "      <td>Commercial Non-CHP</td>\n",
       "      <td>NG</td>\n",
       "      <td>natural gas</td>\n",
       "      <td>NaN</td>\n",
       "      <td>dollars per million Btu</td>\n",
       "      <td>0.0</td>\n",
       "      <td>billion Btu</td>\n",
       "    </tr>\n",
       "  </tbody>\n",
       "</table>\n",
       "</div>"
      ],
      "text/plain": [
       "    period location    stateDescription  sectorid   sectorDescription fueltypeid fuelTypeDescription  cost-per-btu       cost-per-btu-units  receipts-btu receipts-btu-units\n",
       "0  2015-Q1      ESC  East South Central         3             IPP CHP        BIT     bituminous coal           NaN  dollars per million Btu           0.0        billion Btu\n",
       "1  2015-Q1      ESC  East South Central         3             IPP CHP        COW   all coal products           NaN  dollars per million Btu           0.0        billion Btu\n",
       "2  2015-Q1      WSC  West South Central         4  Commercial Non-CHP         NG         natural gas           NaN  dollars per million Btu           0.0        billion Btu"
      ]
     },
     "execution_count": 23,
     "metadata": {},
     "output_type": "execute_result"
    }
   ],
   "source": [
    "api_raw.head(3)"
   ]
  },
  {
   "cell_type": "code",
   "execution_count": 13,
   "id": "c8d99917-32dc-43aa-85dc-dd62d52ac3d9",
   "metadata": {},
   "outputs": [],
   "source": [
    "import sqlalchemy as sa"
   ]
  },
  {
   "cell_type": "code",
   "execution_count": 14,
   "id": "6bbce293-e3c0-4edf-a3eb-3a26f97565e6",
   "metadata": {},
   "outputs": [],
   "source": [
    "pudl_path = Path('../workspace/sqlite/pudl.sqlite')\n",
    "assert pudl_path.exists()"
   ]
  },
  {
   "cell_type": "code",
   "execution_count": 17,
   "id": "e85716b8-adc2-4807-9008-6fc26c08e191",
   "metadata": {},
   "outputs": [],
   "source": [
    "engine = sa.create_engine(\"sqlite:///\" + str(pudl_path.absolute()))"
   ]
  },
  {
   "cell_type": "code",
   "execution_count": 18,
   "id": "5e85d174-08c8-4ad3-8cec-b45729869570",
   "metadata": {},
   "outputs": [
    {
     "data": {
      "text/html": [
       "<div>\n",
       "<style scoped>\n",
       "    .dataframe tbody tr th:only-of-type {\n",
       "        vertical-align: middle;\n",
       "    }\n",
       "\n",
       "    .dataframe tbody tr th {\n",
       "        vertical-align: top;\n",
       "    }\n",
       "\n",
       "    .dataframe thead th {\n",
       "        text-align: right;\n",
       "    }\n",
       "</style>\n",
       "<table border=\"1\" class=\"dataframe\">\n",
       "  <thead>\n",
       "    <tr style=\"text-align: right;\">\n",
       "      <th></th>\n",
       "      <th>fuel_agg</th>\n",
       "      <th>geo_agg</th>\n",
       "      <th>sector_agg</th>\n",
       "      <th>temporal_agg</th>\n",
       "      <th>report_date</th>\n",
       "      <th>fuel_received_mmbtu</th>\n",
       "      <th>fuel_cost_per_mmbtu</th>\n",
       "    </tr>\n",
       "  </thead>\n",
       "  <tbody>\n",
       "    <tr>\n",
       "      <th>0</th>\n",
       "      <td>all_coal</td>\n",
       "      <td>AK</td>\n",
       "      <td>all_commercial</td>\n",
       "      <td>quarterly</td>\n",
       "      <td>2015-01-01</td>\n",
       "      <td>0.0</td>\n",
       "      <td>NaN</td>\n",
       "    </tr>\n",
       "    <tr>\n",
       "      <th>1</th>\n",
       "      <td>all_coal</td>\n",
       "      <td>AK</td>\n",
       "      <td>all_electric_power</td>\n",
       "      <td>quarterly</td>\n",
       "      <td>2015-01-01</td>\n",
       "      <td>0.0</td>\n",
       "      <td>0.0</td>\n",
       "    </tr>\n",
       "    <tr>\n",
       "      <th>2</th>\n",
       "      <td>all_coal</td>\n",
       "      <td>AK</td>\n",
       "      <td>all_ipp</td>\n",
       "      <td>quarterly</td>\n",
       "      <td>2015-01-01</td>\n",
       "      <td>0.0</td>\n",
       "      <td>NaN</td>\n",
       "    </tr>\n",
       "  </tbody>\n",
       "</table>\n",
       "</div>"
      ],
      "text/plain": [
       "   fuel_agg geo_agg          sector_agg temporal_agg report_date  \\\n",
       "0  all_coal      AK      all_commercial    quarterly  2015-01-01   \n",
       "1  all_coal      AK  all_electric_power    quarterly  2015-01-01   \n",
       "2  all_coal      AK             all_ipp    quarterly  2015-01-01   \n",
       "\n",
       "   fuel_received_mmbtu  fuel_cost_per_mmbtu  \n",
       "0                  0.0                  NaN  \n",
       "1                  0.0                  0.0  \n",
       "2                  0.0                  NaN  "
      ]
     },
     "execution_count": 18,
     "metadata": {},
     "output_type": "execute_result"
    }
   ],
   "source": [
    "bulk = pd.read_sql(sql=\"\"\"\n",
    "select * from fuel_receipts_costs_aggs_eia\n",
    "where report_date = date('2015-01-01')\n",
    "    and temporal_agg = 'quarterly'\n",
    ";\n",
    "\"\"\",\n",
    "                  con=engine)\n",
    "bulk.head(3)"
   ]
  },
  {
   "cell_type": "code",
   "execution_count": 24,
   "id": "d738e5ff-6df5-42fa-a809-56bdc8b8fdfc",
   "metadata": {},
   "outputs": [
    {
     "data": {
      "text/plain": [
       "((2457, 11), (2029, 7))"
      ]
     },
     "execution_count": 24,
     "metadata": {},
     "output_type": "execute_result"
    }
   ],
   "source": [
    "api_raw.shape, bulk.shape"
   ]
  },
  {
   "cell_type": "markdown",
   "id": "99b4f8e4-8c02-45d6-8929-2399979cc960",
   "metadata": {},
   "source": [
    "## Transform API data to look like bulk data"
   ]
  },
  {
   "cell_type": "code",
   "execution_count": 21,
   "id": "d0ade4a9-ef99-421e-bfa3-b6bb8ebabce6",
   "metadata": {},
   "outputs": [],
   "source": [
    "from pudl.transform.eia_bulk_elec import _map_key_codes_to_readable_values"
   ]
  },
  {
   "cell_type": "code",
   "execution_count": 31,
   "id": "3cfac05a-1777-46a5-be6c-6cfe9d0e46fc",
   "metadata": {},
   "outputs": [],
   "source": [
    "rename_dict = {'location': \"geo_agg\", \"fueltypeid\": 'fuel_agg', 'sectorid': 'sector_agg'}\n",
    "api_keys = api_raw.loc[:, rename_dict.keys()].rename(columns=rename_dict).assign(temporal_agg='Q').astype(pd.StringDtype())"
   ]
  },
  {
   "cell_type": "code",
   "execution_count": 43,
   "id": "168f3af4-27c3-4bc9-b811-ca8de24b60d6",
   "metadata": {},
   "outputs": [
    {
     "name": "stderr",
     "output_type": "stream",
     "text": [
      "/home/tpb/catalyst/pudl/src/pudl/transform/eia_bulk_elec.py:81: FutureWarning: In a future version, `df.iloc[:, i] = newvals` will attempt to set the values inplace instead of always setting a new array. To retain the old behavior, use either `df[df.columns[i]] = newvals` or, if columns are non-unique, `df.isetitem(i, newvals)`\n",
      "  keys.loc[:, col_name] = keys.loc[:, col_name].map(mapping)\n",
      "/home/tpb/catalyst/pudl/src/pudl/transform/eia_bulk_elec.py:81: FutureWarning: In a future version, `df.iloc[:, i] = newvals` will attempt to set the values inplace instead of always setting a new array. To retain the old behavior, use either `df[df.columns[i]] = newvals` or, if columns are non-unique, `df.isetitem(i, newvals)`\n",
      "  keys.loc[:, col_name] = keys.loc[:, col_name].map(mapping)\n",
      "/home/tpb/catalyst/pudl/src/pudl/transform/eia_bulk_elec.py:81: FutureWarning: In a future version, `df.iloc[:, i] = newvals` will attempt to set the values inplace instead of always setting a new array. To retain the old behavior, use either `df[df.columns[i]] = newvals` or, if columns are non-unique, `df.isetitem(i, newvals)`\n",
      "  keys.loc[:, col_name] = keys.loc[:, col_name].map(mapping)\n"
     ]
    }
   ],
   "source": [
    "api = pd.concat(\n",
    "    [_map_key_codes_to_readable_values(api_keys),\n",
    "     api_raw.loc[:, ['cost-per-btu', 'receipts-btu']].rename(columns={'cost-per-btu': \"fuel_cost_per_mmbtu\", 'receipts-btu': \"fuel_received_mmbtu\"})\n",
    "    ],\n",
    "    #ignore_index=True,\n",
    "    axis=1,\n",
    ")"
   ]
  },
  {
   "cell_type": "code",
   "execution_count": 44,
   "id": "f454d4a3-8f3a-4746-a266-0740db724739",
   "metadata": {},
   "outputs": [
    {
     "data": {
      "text/html": [
       "<div>\n",
       "<style scoped>\n",
       "    .dataframe tbody tr th:only-of-type {\n",
       "        vertical-align: middle;\n",
       "    }\n",
       "\n",
       "    .dataframe tbody tr th {\n",
       "        vertical-align: top;\n",
       "    }\n",
       "\n",
       "    .dataframe thead th {\n",
       "        text-align: right;\n",
       "    }\n",
       "</style>\n",
       "<table border=\"1\" class=\"dataframe\">\n",
       "  <thead>\n",
       "    <tr style=\"text-align: right;\">\n",
       "      <th></th>\n",
       "      <th>geo_agg</th>\n",
       "      <th>fuel_agg</th>\n",
       "      <th>sector_agg</th>\n",
       "      <th>temporal_agg</th>\n",
       "      <th>fuel_cost_per_mmbtu</th>\n",
       "      <th>fuel_received_mmbtu</th>\n",
       "    </tr>\n",
       "  </thead>\n",
       "  <tbody>\n",
       "    <tr>\n",
       "      <th>0</th>\n",
       "      <td>ESC</td>\n",
       "      <td>bituminous_coal</td>\n",
       "      <td>ipp_cogen</td>\n",
       "      <td>quarterly</td>\n",
       "      <td>NaN</td>\n",
       "      <td>0.0</td>\n",
       "    </tr>\n",
       "    <tr>\n",
       "      <th>1</th>\n",
       "      <td>ESC</td>\n",
       "      <td>all_coal</td>\n",
       "      <td>ipp_cogen</td>\n",
       "      <td>quarterly</td>\n",
       "      <td>NaN</td>\n",
       "      <td>0.0</td>\n",
       "    </tr>\n",
       "    <tr>\n",
       "      <th>2</th>\n",
       "      <td>WSC</td>\n",
       "      <td>natural_gas</td>\n",
       "      <td>commercial_non_cogen</td>\n",
       "      <td>quarterly</td>\n",
       "      <td>NaN</td>\n",
       "      <td>0.0</td>\n",
       "    </tr>\n",
       "  </tbody>\n",
       "</table>\n",
       "</div>"
      ],
      "text/plain": [
       "  geo_agg         fuel_agg            sector_agg temporal_agg  fuel_cost_per_mmbtu  fuel_received_mmbtu\n",
       "0     ESC  bituminous_coal             ipp_cogen    quarterly                  NaN                  0.0\n",
       "1     ESC         all_coal             ipp_cogen    quarterly                  NaN                  0.0\n",
       "2     WSC      natural_gas  commercial_non_cogen    quarterly                  NaN                  0.0"
      ]
     },
     "execution_count": 44,
     "metadata": {},
     "output_type": "execute_result"
    }
   ],
   "source": [
    "api.head(3)"
   ]
  },
  {
   "cell_type": "code",
   "execution_count": 45,
   "id": "ec0bfbee-a31b-4fdd-98ca-c6661c7ada09",
   "metadata": {},
   "outputs": [
    {
     "data": {
      "text/plain": [
       "(2457, 6)"
      ]
     },
     "execution_count": 45,
     "metadata": {},
     "output_type": "execute_result"
    }
   ],
   "source": [
    "api.shape"
   ]
  },
  {
   "cell_type": "markdown",
   "id": "99fef3d0-a62a-4fd7-870e-8b07fb6b1cd6",
   "metadata": {
    "tags": []
   },
   "source": [
    "## Compare\n",
    "### Missingness"
   ]
  },
  {
   "cell_type": "code",
   "execution_count": 52,
   "id": "73ad4a31-a291-4dea-a5fd-5e71b25d93f7",
   "metadata": {},
   "outputs": [
    {
     "data": {
      "text/plain": [
       "['geo_agg', 'fuel_agg', 'sector_agg']"
      ]
     },
     "execution_count": 52,
     "metadata": {},
     "output_type": "execute_result"
    }
   ],
   "source": [
    "# temporal_agg is constant in this case\n",
    "key_columns = list(rename_dict.values())\n",
    "value_columns = ['fuel_cost_per_mmbtu', \"fuel_received_mmbtu\"]\n",
    "key_columns"
   ]
  },
  {
   "cell_type": "code",
   "execution_count": 61,
   "id": "e08ffab4-6203-4bcd-a96f-fd0b2bc3c48c",
   "metadata": {},
   "outputs": [
    {
     "data": {
      "text/plain": [
       "0"
      ]
     },
     "execution_count": 61,
     "metadata": {},
     "output_type": "execute_result"
    }
   ],
   "source": [
    "api[value_columns].isna().all(axis=1).sum()"
   ]
  },
  {
   "cell_type": "code",
   "execution_count": 62,
   "id": "fb63886c-4339-404c-ad47-bbe7a22a9257",
   "metadata": {},
   "outputs": [
    {
     "data": {
      "text/plain": [
       "0"
      ]
     },
     "execution_count": 62,
     "metadata": {},
     "output_type": "execute_result"
    }
   ],
   "source": [
    "bulk[value_columns].isna().all(axis=1).sum()"
   ]
  },
  {
   "cell_type": "code",
   "execution_count": 48,
   "id": "aa6e36c4-d246-4028-816d-4fd2b51c6385",
   "metadata": {},
   "outputs": [
    {
     "data": {
      "text/html": [
       "<div>\n",
       "<style scoped>\n",
       "    .dataframe tbody tr th:only-of-type {\n",
       "        vertical-align: middle;\n",
       "    }\n",
       "\n",
       "    .dataframe tbody tr th {\n",
       "        vertical-align: top;\n",
       "    }\n",
       "\n",
       "    .dataframe thead th {\n",
       "        text-align: right;\n",
       "    }\n",
       "</style>\n",
       "<table border=\"1\" class=\"dataframe\">\n",
       "  <thead>\n",
       "    <tr style=\"text-align: right;\">\n",
       "      <th></th>\n",
       "      <th>geo_agg</th>\n",
       "      <th>fuel_agg</th>\n",
       "      <th>sector_agg</th>\n",
       "      <th>temporal_agg</th>\n",
       "      <th>fuel_cost_per_mmbtu</th>\n",
       "      <th>fuel_received_mmbtu</th>\n",
       "    </tr>\n",
       "  </thead>\n",
       "  <tbody>\n",
       "    <tr>\n",
       "      <th>sum</th>\n",
       "      <td>0.0</td>\n",
       "      <td>0.0</td>\n",
       "      <td>0.0</td>\n",
       "      <td>0.0</td>\n",
       "      <td>1649.000000</td>\n",
       "      <td>0.0</td>\n",
       "    </tr>\n",
       "    <tr>\n",
       "      <th>mean</th>\n",
       "      <td>0.0</td>\n",
       "      <td>0.0</td>\n",
       "      <td>0.0</td>\n",
       "      <td>0.0</td>\n",
       "      <td>0.671144</td>\n",
       "      <td>0.0</td>\n",
       "    </tr>\n",
       "  </tbody>\n",
       "</table>\n",
       "</div>"
      ],
      "text/plain": [
       "      geo_agg  fuel_agg  sector_agg  temporal_agg  fuel_cost_per_mmbtu  fuel_received_mmbtu\n",
       "sum       0.0       0.0         0.0           0.0          1649.000000                  0.0\n",
       "mean      0.0       0.0         0.0           0.0             0.671144                  0.0"
      ]
     },
     "execution_count": 48,
     "metadata": {},
     "output_type": "execute_result"
    }
   ],
   "source": [
    "api.isna().agg(['sum', 'mean'])"
   ]
  },
  {
   "cell_type": "code",
   "execution_count": 49,
   "id": "847ea68b-f455-496d-8877-4724df6e9f08",
   "metadata": {},
   "outputs": [
    {
     "data": {
      "text/html": [
       "<div>\n",
       "<style scoped>\n",
       "    .dataframe tbody tr th:only-of-type {\n",
       "        vertical-align: middle;\n",
       "    }\n",
       "\n",
       "    .dataframe tbody tr th {\n",
       "        vertical-align: top;\n",
       "    }\n",
       "\n",
       "    .dataframe thead th {\n",
       "        text-align: right;\n",
       "    }\n",
       "</style>\n",
       "<table border=\"1\" class=\"dataframe\">\n",
       "  <thead>\n",
       "    <tr style=\"text-align: right;\">\n",
       "      <th></th>\n",
       "      <th>fuel_agg</th>\n",
       "      <th>geo_agg</th>\n",
       "      <th>sector_agg</th>\n",
       "      <th>temporal_agg</th>\n",
       "      <th>report_date</th>\n",
       "      <th>fuel_received_mmbtu</th>\n",
       "      <th>fuel_cost_per_mmbtu</th>\n",
       "    </tr>\n",
       "  </thead>\n",
       "  <tbody>\n",
       "    <tr>\n",
       "      <th>sum</th>\n",
       "      <td>0.0</td>\n",
       "      <td>0.0</td>\n",
       "      <td>0.0</td>\n",
       "      <td>0.0</td>\n",
       "      <td>0.0</td>\n",
       "      <td>12.000000</td>\n",
       "      <td>1485.000000</td>\n",
       "    </tr>\n",
       "    <tr>\n",
       "      <th>mean</th>\n",
       "      <td>0.0</td>\n",
       "      <td>0.0</td>\n",
       "      <td>0.0</td>\n",
       "      <td>0.0</td>\n",
       "      <td>0.0</td>\n",
       "      <td>0.005914</td>\n",
       "      <td>0.731888</td>\n",
       "    </tr>\n",
       "  </tbody>\n",
       "</table>\n",
       "</div>"
      ],
      "text/plain": [
       "      fuel_agg  geo_agg  sector_agg  temporal_agg  report_date  fuel_received_mmbtu  fuel_cost_per_mmbtu\n",
       "sum        0.0      0.0         0.0           0.0          0.0            12.000000          1485.000000\n",
       "mean       0.0      0.0         0.0           0.0          0.0             0.005914             0.731888"
      ]
     },
     "execution_count": 49,
     "metadata": {},
     "output_type": "execute_result"
    }
   ],
   "source": [
    "bulk.isna().agg(['sum', 'mean'])"
   ]
  },
  {
   "cell_type": "code",
   "execution_count": 50,
   "id": "3589e84b-d05b-4c97-8523-619e802755b7",
   "metadata": {},
   "outputs": [
    {
     "data": {
      "text/plain": [
       "264"
      ]
     },
     "execution_count": 50,
     "metadata": {},
     "output_type": "execute_result"
    }
   ],
   "source": [
    "api['fuel_cost_per_mmbtu'].notna().sum() - bulk['fuel_cost_per_mmbtu'].notna().sum()"
   ]
  },
  {
   "cell_type": "code",
   "execution_count": 58,
   "id": "733dcf19-094a-425c-beeb-17f5e758bbec",
   "metadata": {},
   "outputs": [],
   "source": [
    "joined = api[key_columns + value_columns].merge(bulk[key_columns+value_columns], on=key_columns, how='outer', suffixes = ['_api', '_bulk'])"
   ]
  },
  {
   "cell_type": "code",
   "execution_count": 59,
   "id": "1da27b40-4a3c-4263-a207-ccb95eee1a02",
   "metadata": {},
   "outputs": [
    {
     "data": {
      "text/html": [
       "<div>\n",
       "<style scoped>\n",
       "    .dataframe tbody tr th:only-of-type {\n",
       "        vertical-align: middle;\n",
       "    }\n",
       "\n",
       "    .dataframe tbody tr th {\n",
       "        vertical-align: top;\n",
       "    }\n",
       "\n",
       "    .dataframe thead th {\n",
       "        text-align: right;\n",
       "    }\n",
       "</style>\n",
       "<table border=\"1\" class=\"dataframe\">\n",
       "  <thead>\n",
       "    <tr style=\"text-align: right;\">\n",
       "      <th></th>\n",
       "      <th>geo_agg</th>\n",
       "      <th>fuel_agg</th>\n",
       "      <th>sector_agg</th>\n",
       "      <th>fuel_cost_per_mmbtu_api</th>\n",
       "      <th>fuel_received_mmbtu_api</th>\n",
       "      <th>fuel_cost_per_mmbtu_bulk</th>\n",
       "      <th>fuel_received_mmbtu_bulk</th>\n",
       "    </tr>\n",
       "  </thead>\n",
       "  <tbody>\n",
       "    <tr>\n",
       "      <th>0</th>\n",
       "      <td>ESC</td>\n",
       "      <td>bituminous_coal</td>\n",
       "      <td>ipp_cogen</td>\n",
       "      <td>NaN</td>\n",
       "      <td>0.00000</td>\n",
       "      <td>NaN</td>\n",
       "      <td>0.00</td>\n",
       "    </tr>\n",
       "    <tr>\n",
       "      <th>1</th>\n",
       "      <td>ESC</td>\n",
       "      <td>all_coal</td>\n",
       "      <td>ipp_cogen</td>\n",
       "      <td>NaN</td>\n",
       "      <td>0.00000</td>\n",
       "      <td>NaN</td>\n",
       "      <td>0.00</td>\n",
       "    </tr>\n",
       "    <tr>\n",
       "      <th>2</th>\n",
       "      <td>WSC</td>\n",
       "      <td>natural_gas</td>\n",
       "      <td>commercial_non_cogen</td>\n",
       "      <td>NaN</td>\n",
       "      <td>0.00000</td>\n",
       "      <td>NaN</td>\n",
       "      <td>NaN</td>\n",
       "    </tr>\n",
       "    <tr>\n",
       "      <th>3</th>\n",
       "      <td>WSC</td>\n",
       "      <td>petroleum_liquids</td>\n",
       "      <td>commercial_non_cogen</td>\n",
       "      <td>NaN</td>\n",
       "      <td>0.00000</td>\n",
       "      <td>NaN</td>\n",
       "      <td>NaN</td>\n",
       "    </tr>\n",
       "    <tr>\n",
       "      <th>4</th>\n",
       "      <td>ESC</td>\n",
       "      <td>all_coal</td>\n",
       "      <td>all_ipp</td>\n",
       "      <td>NaN</td>\n",
       "      <td>9144.73092</td>\n",
       "      <td>NaN</td>\n",
       "      <td>9144730.92</td>\n",
       "    </tr>\n",
       "  </tbody>\n",
       "</table>\n",
       "</div>"
      ],
      "text/plain": [
       "  geo_agg           fuel_agg            sector_agg  fuel_cost_per_mmbtu_api  fuel_received_mmbtu_api  fuel_cost_per_mmbtu_bulk  fuel_received_mmbtu_bulk\n",
       "0     ESC    bituminous_coal             ipp_cogen                      NaN                  0.00000                       NaN                      0.00\n",
       "1     ESC           all_coal             ipp_cogen                      NaN                  0.00000                       NaN                      0.00\n",
       "2     WSC        natural_gas  commercial_non_cogen                      NaN                  0.00000                       NaN                       NaN\n",
       "3     WSC  petroleum_liquids  commercial_non_cogen                      NaN                  0.00000                       NaN                       NaN\n",
       "4     ESC           all_coal               all_ipp                      NaN               9144.73092                       NaN                9144730.92"
      ]
     },
     "execution_count": 59,
     "metadata": {},
     "output_type": "execute_result"
    }
   ],
   "source": [
    "joined.head()"
   ]
  },
  {
   "cell_type": "code",
   "execution_count": 55,
   "id": "2f70acd0-0987-4ef7-af47-fefd322b7a1d",
   "metadata": {},
   "outputs": [
    {
     "data": {
      "text/plain": [
       "(2481, 7)"
      ]
     },
     "execution_count": 55,
     "metadata": {},
     "output_type": "execute_result"
    }
   ],
   "source": [
    "joined.shape"
   ]
  },
  {
   "cell_type": "code",
   "execution_count": 56,
   "id": "361408c7-0570-4afb-9005-2ff1a9bfd8d6",
   "metadata": {},
   "outputs": [
    {
     "data": {
      "text/plain": [
       "24"
      ]
     },
     "execution_count": 56,
     "metadata": {},
     "output_type": "execute_result"
    }
   ],
   "source": [
    "# number of rows unique to bulk data\n",
    "joined.shape[0] - api.shape[0]"
   ]
  },
  {
   "cell_type": "code",
   "execution_count": 57,
   "id": "837da703-15c0-4ae7-a68c-99b5646d6729",
   "metadata": {},
   "outputs": [
    {
     "data": {
      "text/plain": [
       "452"
      ]
     },
     "execution_count": 57,
     "metadata": {},
     "output_type": "execute_result"
    }
   ],
   "source": [
    "# number of rows unique to API data\n",
    "joined.shape[0] - bulk.shape[0]"
   ]
  },
  {
   "cell_type": "code",
   "execution_count": 60,
   "id": "5b8eaf75-c429-41d1-865a-26d2e5131668",
   "metadata": {},
   "outputs": [],
   "source": [
    "bulk_value_columns = [col+'_bulk' for col in value_columns]\n",
    "api_value_columns = [col+'_api' for col in value_columns]"
   ]
  },
  {
   "cell_type": "code",
   "execution_count": 63,
   "id": "3b60a5de-8014-4374-ab60-d6616ee74398",
   "metadata": {},
   "outputs": [
    {
     "data": {
      "text/plain": [
       "452"
      ]
     },
     "execution_count": 63,
     "metadata": {},
     "output_type": "execute_result"
    }
   ],
   "source": [
    "joined[bulk_value_columns].isna().all(axis=1).sum()"
   ]
  },
  {
   "cell_type": "code",
   "execution_count": 64,
   "id": "78463a33-aa24-4f65-9a94-3dfbee7d9c74",
   "metadata": {},
   "outputs": [],
   "source": [
    "joined['api_only'] = joined[bulk_value_columns].isna().all(axis=1)\n",
    "joined['bulk_only'] = joined[api_value_columns].isna().all(axis=1)"
   ]
  },
  {
   "cell_type": "code",
   "execution_count": 72,
   "id": "62a89458-d156-424e-a1de-99c21dbbfd52",
   "metadata": {},
   "outputs": [
    {
     "data": {
      "text/html": [
       "<div>\n",
       "<style scoped>\n",
       "    .dataframe tbody tr th:only-of-type {\n",
       "        vertical-align: middle;\n",
       "    }\n",
       "\n",
       "    .dataframe tbody tr th {\n",
       "        vertical-align: top;\n",
       "    }\n",
       "\n",
       "    .dataframe thead th {\n",
       "        text-align: right;\n",
       "    }\n",
       "</style>\n",
       "<table border=\"1\" class=\"dataframe\">\n",
       "  <thead>\n",
       "    <tr style=\"text-align: right;\">\n",
       "      <th></th>\n",
       "      <th>geo_agg</th>\n",
       "      <th>fuel_agg</th>\n",
       "      <th>sector_agg</th>\n",
       "      <th>fuel_cost_per_mmbtu_bulk</th>\n",
       "      <th>fuel_received_mmbtu_bulk</th>\n",
       "    </tr>\n",
       "  </thead>\n",
       "  <tbody>\n",
       "    <tr>\n",
       "      <th>2467</th>\n",
       "      <td>DC</td>\n",
       "      <td>natural_gas</td>\n",
       "      <td>all_sectors</td>\n",
       "      <td>NaN</td>\n",
       "      <td>0.00</td>\n",
       "    </tr>\n",
       "    <tr>\n",
       "      <th>2470</th>\n",
       "      <td>DC</td>\n",
       "      <td>petroleum_liquids</td>\n",
       "      <td>all_sectors</td>\n",
       "      <td>NaN</td>\n",
       "      <td>0.00</td>\n",
       "    </tr>\n",
       "    <tr>\n",
       "      <th>2462</th>\n",
       "      <td>ESC</td>\n",
       "      <td>bituminous_coal</td>\n",
       "      <td>ipp_non_cogen</td>\n",
       "      <td>NaN</td>\n",
       "      <td>1245188.40</td>\n",
       "    </tr>\n",
       "    <tr>\n",
       "      <th>2471</th>\n",
       "      <td>ESC</td>\n",
       "      <td>petroleum_liquids</td>\n",
       "      <td>industrial_non_cogen</td>\n",
       "      <td>NaN</td>\n",
       "      <td>0.00</td>\n",
       "    </tr>\n",
       "    <tr>\n",
       "      <th>2476</th>\n",
       "      <td>ESC</td>\n",
       "      <td>sub_bituminous_coal</td>\n",
       "      <td>all_ipp</td>\n",
       "      <td>NaN</td>\n",
       "      <td>784887.43</td>\n",
       "    </tr>\n",
       "    <tr>\n",
       "      <th>2477</th>\n",
       "      <td>ESC</td>\n",
       "      <td>sub_bituminous_coal</td>\n",
       "      <td>ipp_non_cogen</td>\n",
       "      <td>NaN</td>\n",
       "      <td>784887.43</td>\n",
       "    </tr>\n",
       "    <tr>\n",
       "      <th>2457</th>\n",
       "      <td>KY</td>\n",
       "      <td>all_coal</td>\n",
       "      <td>all_ipp</td>\n",
       "      <td>NaN</td>\n",
       "      <td>784887.43</td>\n",
       "    </tr>\n",
       "    <tr>\n",
       "      <th>2458</th>\n",
       "      <td>KY</td>\n",
       "      <td>all_coal</td>\n",
       "      <td>ipp_non_cogen</td>\n",
       "      <td>NaN</td>\n",
       "      <td>784887.43</td>\n",
       "    </tr>\n",
       "    <tr>\n",
       "      <th>2478</th>\n",
       "      <td>KY</td>\n",
       "      <td>sub_bituminous_coal</td>\n",
       "      <td>all_ipp</td>\n",
       "      <td>NaN</td>\n",
       "      <td>784887.43</td>\n",
       "    </tr>\n",
       "    <tr>\n",
       "      <th>2479</th>\n",
       "      <td>KY</td>\n",
       "      <td>sub_bituminous_coal</td>\n",
       "      <td>ipp_non_cogen</td>\n",
       "      <td>NaN</td>\n",
       "      <td>784887.43</td>\n",
       "    </tr>\n",
       "    <tr>\n",
       "      <th>2459</th>\n",
       "      <td>MN</td>\n",
       "      <td>all_coal</td>\n",
       "      <td>industrial_non_cogen</td>\n",
       "      <td>NaN</td>\n",
       "      <td>270441.72</td>\n",
       "    </tr>\n",
       "    <tr>\n",
       "      <th>2480</th>\n",
       "      <td>MN</td>\n",
       "      <td>sub_bituminous_coal</td>\n",
       "      <td>industrial_non_cogen</td>\n",
       "      <td>NaN</td>\n",
       "      <td>270441.72</td>\n",
       "    </tr>\n",
       "    <tr>\n",
       "      <th>2463</th>\n",
       "      <td>MS</td>\n",
       "      <td>bituminous_coal</td>\n",
       "      <td>all_ipp</td>\n",
       "      <td>NaN</td>\n",
       "      <td>1245188.40</td>\n",
       "    </tr>\n",
       "    <tr>\n",
       "      <th>2464</th>\n",
       "      <td>MS</td>\n",
       "      <td>bituminous_coal</td>\n",
       "      <td>ipp_non_cogen</td>\n",
       "      <td>NaN</td>\n",
       "      <td>1245188.40</td>\n",
       "    </tr>\n",
       "    <tr>\n",
       "      <th>2468</th>\n",
       "      <td>MS</td>\n",
       "      <td>natural_gas</td>\n",
       "      <td>industrial_non_cogen</td>\n",
       "      <td>NaN</td>\n",
       "      <td>0.00</td>\n",
       "    </tr>\n",
       "    <tr>\n",
       "      <th>2472</th>\n",
       "      <td>MS</td>\n",
       "      <td>petroleum_liquids</td>\n",
       "      <td>industrial_non_cogen</td>\n",
       "      <td>NaN</td>\n",
       "      <td>0.00</td>\n",
       "    </tr>\n",
       "    <tr>\n",
       "      <th>2469</th>\n",
       "      <td>NC</td>\n",
       "      <td>natural_gas</td>\n",
       "      <td>ipp_cogen</td>\n",
       "      <td>NaN</td>\n",
       "      <td>13858934.15</td>\n",
       "    </tr>\n",
       "    <tr>\n",
       "      <th>2473</th>\n",
       "      <td>NM</td>\n",
       "      <td>petroleum_liquids</td>\n",
       "      <td>all_ipp</td>\n",
       "      <td>NaN</td>\n",
       "      <td>0.00</td>\n",
       "    </tr>\n",
       "    <tr>\n",
       "      <th>2474</th>\n",
       "      <td>NM</td>\n",
       "      <td>petroleum_liquids</td>\n",
       "      <td>ipp_non_cogen</td>\n",
       "      <td>NaN</td>\n",
       "      <td>0.00</td>\n",
       "    </tr>\n",
       "    <tr>\n",
       "      <th>2460</th>\n",
       "      <td>SC</td>\n",
       "      <td>all_coal</td>\n",
       "      <td>all_ipp</td>\n",
       "      <td>NaN</td>\n",
       "      <td>0.00</td>\n",
       "    </tr>\n",
       "    <tr>\n",
       "      <th>2461</th>\n",
       "      <td>SC</td>\n",
       "      <td>all_coal</td>\n",
       "      <td>ipp_non_cogen</td>\n",
       "      <td>NaN</td>\n",
       "      <td>0.00</td>\n",
       "    </tr>\n",
       "    <tr>\n",
       "      <th>2465</th>\n",
       "      <td>SC</td>\n",
       "      <td>bituminous_coal</td>\n",
       "      <td>all_ipp</td>\n",
       "      <td>NaN</td>\n",
       "      <td>0.00</td>\n",
       "    </tr>\n",
       "    <tr>\n",
       "      <th>2466</th>\n",
       "      <td>SC</td>\n",
       "      <td>bituminous_coal</td>\n",
       "      <td>ipp_non_cogen</td>\n",
       "      <td>NaN</td>\n",
       "      <td>0.00</td>\n",
       "    </tr>\n",
       "    <tr>\n",
       "      <th>2475</th>\n",
       "      <td>TX</td>\n",
       "      <td>petroleum_liquids</td>\n",
       "      <td>ipp_cogen</td>\n",
       "      <td>NaN</td>\n",
       "      <td>0.00</td>\n",
       "    </tr>\n",
       "  </tbody>\n",
       "</table>\n",
       "</div>"
      ],
      "text/plain": [
       "     geo_agg             fuel_agg            sector_agg  fuel_cost_per_mmbtu_bulk  fuel_received_mmbtu_bulk\n",
       "2467      DC          natural_gas           all_sectors                       NaN                      0.00\n",
       "2470      DC    petroleum_liquids           all_sectors                       NaN                      0.00\n",
       "2462     ESC      bituminous_coal         ipp_non_cogen                       NaN                1245188.40\n",
       "2471     ESC    petroleum_liquids  industrial_non_cogen                       NaN                      0.00\n",
       "2476     ESC  sub_bituminous_coal               all_ipp                       NaN                 784887.43\n",
       "2477     ESC  sub_bituminous_coal         ipp_non_cogen                       NaN                 784887.43\n",
       "2457      KY             all_coal               all_ipp                       NaN                 784887.43\n",
       "2458      KY             all_coal         ipp_non_cogen                       NaN                 784887.43\n",
       "2478      KY  sub_bituminous_coal               all_ipp                       NaN                 784887.43\n",
       "2479      KY  sub_bituminous_coal         ipp_non_cogen                       NaN                 784887.43\n",
       "2459      MN             all_coal  industrial_non_cogen                       NaN                 270441.72\n",
       "2480      MN  sub_bituminous_coal  industrial_non_cogen                       NaN                 270441.72\n",
       "2463      MS      bituminous_coal               all_ipp                       NaN                1245188.40\n",
       "2464      MS      bituminous_coal         ipp_non_cogen                       NaN                1245188.40\n",
       "2468      MS          natural_gas  industrial_non_cogen                       NaN                      0.00\n",
       "2472      MS    petroleum_liquids  industrial_non_cogen                       NaN                      0.00\n",
       "2469      NC          natural_gas             ipp_cogen                       NaN               13858934.15\n",
       "2473      NM    petroleum_liquids               all_ipp                       NaN                      0.00\n",
       "2474      NM    petroleum_liquids         ipp_non_cogen                       NaN                      0.00\n",
       "2460      SC             all_coal               all_ipp                       NaN                      0.00\n",
       "2461      SC             all_coal         ipp_non_cogen                       NaN                      0.00\n",
       "2465      SC      bituminous_coal               all_ipp                       NaN                      0.00\n",
       "2466      SC      bituminous_coal         ipp_non_cogen                       NaN                      0.00\n",
       "2475      TX    petroleum_liquids             ipp_cogen                       NaN                      0.00"
      ]
     },
     "execution_count": 72,
     "metadata": {},
     "output_type": "execute_result"
    }
   ],
   "source": [
    "unique_bulk_data = joined.loc[joined['bulk_only'], key_columns + bulk_value_columns].sort_values(key_columns)\n",
    "unique_bulk_data"
   ]
  },
  {
   "cell_type": "code",
   "execution_count": 70,
   "id": "76cf393b-0ff4-4533-9c7c-90d0215ee884",
   "metadata": {},
   "outputs": [],
   "source": [
    "unique_api_data = joined.loc[joined['api_only'], key_columns + api_value_columns].sort_values(key_columns)"
   ]
  },
  {
   "cell_type": "code",
   "execution_count": 71,
   "id": "b2522525-b398-4b5f-b5f4-a06b26aed3d9",
   "metadata": {},
   "outputs": [
    {
     "data": {
      "text/html": [
       "<div>\n",
       "<style scoped>\n",
       "    .dataframe tbody tr th:only-of-type {\n",
       "        vertical-align: middle;\n",
       "    }\n",
       "\n",
       "    .dataframe tbody tr th {\n",
       "        vertical-align: top;\n",
       "    }\n",
       "\n",
       "    .dataframe thead th {\n",
       "        text-align: right;\n",
       "    }\n",
       "</style>\n",
       "<table border=\"1\" class=\"dataframe\">\n",
       "  <thead>\n",
       "    <tr style=\"text-align: right;\">\n",
       "      <th></th>\n",
       "      <th>geo_agg</th>\n",
       "      <th>fuel_agg</th>\n",
       "      <th>sector_agg</th>\n",
       "    </tr>\n",
       "  </thead>\n",
       "  <tbody>\n",
       "    <tr>\n",
       "      <th>count</th>\n",
       "      <td>452</td>\n",
       "      <td>452</td>\n",
       "      <td>452</td>\n",
       "    </tr>\n",
       "    <tr>\n",
       "      <th>unique</th>\n",
       "      <td>59</td>\n",
       "      <td>7</td>\n",
       "      <td>12</td>\n",
       "    </tr>\n",
       "    <tr>\n",
       "      <th>top</th>\n",
       "      <td>MO</td>\n",
       "      <td>petroleum_liquids</td>\n",
       "      <td>all_commercial</td>\n",
       "    </tr>\n",
       "    <tr>\n",
       "      <th>freq</th>\n",
       "      <td>19</td>\n",
       "      <td>180</td>\n",
       "      <td>82</td>\n",
       "    </tr>\n",
       "  </tbody>\n",
       "</table>\n",
       "</div>"
      ],
      "text/plain": [
       "       geo_agg           fuel_agg      sector_agg\n",
       "count      452                452             452\n",
       "unique      59                  7              12\n",
       "top         MO  petroleum_liquids  all_commercial\n",
       "freq        19                180              82"
      ]
     },
     "execution_count": 71,
     "metadata": {},
     "output_type": "execute_result"
    }
   ],
   "source": [
    "unique_api_data[key_columns].describe()"
   ]
  },
  {
   "cell_type": "code",
   "execution_count": 73,
   "id": "d6c25bcd-0e98-48d1-8a63-ff61eb64fdf6",
   "metadata": {},
   "outputs": [
    {
     "data": {
      "text/html": [
       "<div>\n",
       "<style scoped>\n",
       "    .dataframe tbody tr th:only-of-type {\n",
       "        vertical-align: middle;\n",
       "    }\n",
       "\n",
       "    .dataframe tbody tr th {\n",
       "        vertical-align: top;\n",
       "    }\n",
       "\n",
       "    .dataframe thead th {\n",
       "        text-align: right;\n",
       "    }\n",
       "</style>\n",
       "<table border=\"1\" class=\"dataframe\">\n",
       "  <thead>\n",
       "    <tr style=\"text-align: right;\">\n",
       "      <th></th>\n",
       "      <th>fuel_cost_per_mmbtu_api</th>\n",
       "      <th>fuel_received_mmbtu_api</th>\n",
       "    </tr>\n",
       "  </thead>\n",
       "  <tbody>\n",
       "    <tr>\n",
       "      <th>count</th>\n",
       "      <td>134.0</td>\n",
       "      <td>452.0</td>\n",
       "    </tr>\n",
       "    <tr>\n",
       "      <th>mean</th>\n",
       "      <td>0.0</td>\n",
       "      <td>0.0</td>\n",
       "    </tr>\n",
       "    <tr>\n",
       "      <th>std</th>\n",
       "      <td>0.0</td>\n",
       "      <td>0.0</td>\n",
       "    </tr>\n",
       "    <tr>\n",
       "      <th>min</th>\n",
       "      <td>0.0</td>\n",
       "      <td>0.0</td>\n",
       "    </tr>\n",
       "    <tr>\n",
       "      <th>25%</th>\n",
       "      <td>0.0</td>\n",
       "      <td>0.0</td>\n",
       "    </tr>\n",
       "    <tr>\n",
       "      <th>50%</th>\n",
       "      <td>0.0</td>\n",
       "      <td>0.0</td>\n",
       "    </tr>\n",
       "    <tr>\n",
       "      <th>75%</th>\n",
       "      <td>0.0</td>\n",
       "      <td>0.0</td>\n",
       "    </tr>\n",
       "    <tr>\n",
       "      <th>max</th>\n",
       "      <td>0.0</td>\n",
       "      <td>0.0</td>\n",
       "    </tr>\n",
       "  </tbody>\n",
       "</table>\n",
       "</div>"
      ],
      "text/plain": [
       "       fuel_cost_per_mmbtu_api  fuel_received_mmbtu_api\n",
       "count                    134.0                    452.0\n",
       "mean                       0.0                      0.0\n",
       "std                        0.0                      0.0\n",
       "min                        0.0                      0.0\n",
       "25%                        0.0                      0.0\n",
       "50%                        0.0                      0.0\n",
       "75%                        0.0                      0.0\n",
       "max                        0.0                      0.0"
      ]
     },
     "execution_count": 73,
     "metadata": {},
     "output_type": "execute_result"
    }
   ],
   "source": [
    "unique_api_data.describe()"
   ]
  },
  {
   "cell_type": "code",
   "execution_count": 74,
   "id": "32aa592a-6e33-428b-848c-cb13b7c21ec4",
   "metadata": {},
   "outputs": [
    {
     "data": {
      "text/html": [
       "<div>\n",
       "<style scoped>\n",
       "    .dataframe tbody tr th:only-of-type {\n",
       "        vertical-align: middle;\n",
       "    }\n",
       "\n",
       "    .dataframe tbody tr th {\n",
       "        vertical-align: top;\n",
       "    }\n",
       "\n",
       "    .dataframe thead th {\n",
       "        text-align: right;\n",
       "    }\n",
       "</style>\n",
       "<table border=\"1\" class=\"dataframe\">\n",
       "  <thead>\n",
       "    <tr style=\"text-align: right;\">\n",
       "      <th></th>\n",
       "      <th>geo_agg</th>\n",
       "      <th>fuel_agg</th>\n",
       "      <th>sector_agg</th>\n",
       "      <th>fuel_cost_per_mmbtu_api</th>\n",
       "      <th>fuel_received_mmbtu_api</th>\n",
       "    </tr>\n",
       "  </thead>\n",
       "  <tbody>\n",
       "    <tr>\n",
       "      <th>1348</th>\n",
       "      <td>NEW</td>\n",
       "      <td>natural_gas</td>\n",
       "      <td>industrial_non_cogen</td>\n",
       "      <td>NaN</td>\n",
       "      <td>0.0</td>\n",
       "    </tr>\n",
       "    <tr>\n",
       "      <th>1090</th>\n",
       "      <td>AK</td>\n",
       "      <td>petroleum_liquids</td>\n",
       "      <td>ipp_cogen</td>\n",
       "      <td>NaN</td>\n",
       "      <td>0.0</td>\n",
       "    </tr>\n",
       "    <tr>\n",
       "      <th>1464</th>\n",
       "      <td>MI</td>\n",
       "      <td>petroleum_liquids</td>\n",
       "      <td>commercial_non_cogen</td>\n",
       "      <td>NaN</td>\n",
       "      <td>0.0</td>\n",
       "    </tr>\n",
       "    <tr>\n",
       "      <th>804</th>\n",
       "      <td>IA</td>\n",
       "      <td>petroleum_liquids</td>\n",
       "      <td>ipp_non_cogen</td>\n",
       "      <td>NaN</td>\n",
       "      <td>0.0</td>\n",
       "    </tr>\n",
       "    <tr>\n",
       "      <th>369</th>\n",
       "      <td>LA</td>\n",
       "      <td>petroleum_liquids</td>\n",
       "      <td>all_industrial</td>\n",
       "      <td>0.0</td>\n",
       "      <td>0.0</td>\n",
       "    </tr>\n",
       "    <tr>\n",
       "      <th>2138</th>\n",
       "      <td>UT</td>\n",
       "      <td>petroleum_liquids</td>\n",
       "      <td>industrial_cogen</td>\n",
       "      <td>NaN</td>\n",
       "      <td>0.0</td>\n",
       "    </tr>\n",
       "    <tr>\n",
       "      <th>149</th>\n",
       "      <td>WNC</td>\n",
       "      <td>lignite_coal</td>\n",
       "      <td>industrial_cogen</td>\n",
       "      <td>NaN</td>\n",
       "      <td>0.0</td>\n",
       "    </tr>\n",
       "    <tr>\n",
       "      <th>991</th>\n",
       "      <td>IL</td>\n",
       "      <td>petroleum_liquids</td>\n",
       "      <td>ipp_cogen</td>\n",
       "      <td>NaN</td>\n",
       "      <td>0.0</td>\n",
       "    </tr>\n",
       "    <tr>\n",
       "      <th>185</th>\n",
       "      <td>ESC</td>\n",
       "      <td>bituminous_coal</td>\n",
       "      <td>all_commercial</td>\n",
       "      <td>NaN</td>\n",
       "      <td>0.0</td>\n",
       "    </tr>\n",
       "    <tr>\n",
       "      <th>1211</th>\n",
       "      <td>WI</td>\n",
       "      <td>all_coal</td>\n",
       "      <td>ipp_non_cogen</td>\n",
       "      <td>NaN</td>\n",
       "      <td>0.0</td>\n",
       "    </tr>\n",
       "  </tbody>\n",
       "</table>\n",
       "</div>"
      ],
      "text/plain": [
       "     geo_agg           fuel_agg            sector_agg  fuel_cost_per_mmbtu_api  fuel_received_mmbtu_api\n",
       "1348     NEW        natural_gas  industrial_non_cogen                      NaN                      0.0\n",
       "1090      AK  petroleum_liquids             ipp_cogen                      NaN                      0.0\n",
       "1464      MI  petroleum_liquids  commercial_non_cogen                      NaN                      0.0\n",
       "804       IA  petroleum_liquids         ipp_non_cogen                      NaN                      0.0\n",
       "369       LA  petroleum_liquids        all_industrial                      0.0                      0.0\n",
       "2138      UT  petroleum_liquids      industrial_cogen                      NaN                      0.0\n",
       "149      WNC       lignite_coal      industrial_cogen                      NaN                      0.0\n",
       "991       IL  petroleum_liquids             ipp_cogen                      NaN                      0.0\n",
       "185      ESC    bituminous_coal        all_commercial                      NaN                      0.0\n",
       "1211      WI           all_coal         ipp_non_cogen                      NaN                      0.0"
      ]
     },
     "execution_count": 74,
     "metadata": {},
     "output_type": "execute_result"
    }
   ],
   "source": [
    "unique_api_data.sample(10)"
   ]
  },
  {
   "cell_type": "code",
   "execution_count": 78,
   "id": "b5c10265-2252-43ea-8b49-f9ab9387b80a",
   "metadata": {},
   "outputs": [
    {
     "data": {
      "text/plain": [
       "[(1510, 6), (1534, 7)]"
      ]
     },
     "execution_count": 78,
     "metadata": {},
     "output_type": "execute_result"
    }
   ],
   "source": [
    "[df.query('fuel_received_mmbtu != 0').shape for df in (api, bulk)]"
   ]
  },
  {
   "cell_type": "code",
   "execution_count": 92,
   "id": "3106ae89-1674-453e-ae83-6cdd7a903aa4",
   "metadata": {},
   "outputs": [
    {
     "data": {
      "text/plain": [
       "[(459, 6), (467, 7)]"
      ]
     },
     "execution_count": 92,
     "metadata": {},
     "output_type": "execute_result"
    }
   ],
   "source": [
    "[df.query('fuel_received_mmbtu != 0 and not fuel_cost_per_mmbtu.isna()').shape for df in (api, bulk)]"
   ]
  },
  {
   "cell_type": "code",
   "execution_count": 82,
   "id": "c8d56968-22e0-4b3c-8578-db02f4d1403f",
   "metadata": {},
   "outputs": [
    {
     "data": {
      "text/plain": [
       "(1534, 7)"
      ]
     },
     "execution_count": 82,
     "metadata": {},
     "output_type": "execute_result"
    }
   ],
   "source": [
    "joined_no_zeros = (api.query('fuel_received_mmbtu != 0')[key_columns + value_columns]\n",
    "                   .merge(bulk.query('fuel_received_mmbtu != 0')[key_columns+value_columns],\n",
    "                          on=key_columns, how='outer', suffixes = ['_api', '_bulk']\n",
    "                         )\n",
    "                  )\n",
    "joined_no_zeros.shape"
   ]
  },
  {
   "cell_type": "code",
   "execution_count": 83,
   "id": "11d28315-4274-4c97-958c-4533285b5dc0",
   "metadata": {},
   "outputs": [],
   "source": [
    "joined_no_zeros['api_only'] = joined_no_zeros[bulk_value_columns].isna().all(axis=1)\n",
    "joined_no_zeros['bulk_only'] = joined_no_zeros[api_value_columns].isna().all(axis=1)"
   ]
  },
  {
   "cell_type": "code",
   "execution_count": 85,
   "id": "c445105b-fa0e-4f7b-aad3-15a7d34a1b37",
   "metadata": {},
   "outputs": [
    {
     "data": {
      "text/html": [
       "<div>\n",
       "<style scoped>\n",
       "    .dataframe tbody tr th:only-of-type {\n",
       "        vertical-align: middle;\n",
       "    }\n",
       "\n",
       "    .dataframe tbody tr th {\n",
       "        vertical-align: top;\n",
       "    }\n",
       "\n",
       "    .dataframe thead th {\n",
       "        text-align: right;\n",
       "    }\n",
       "</style>\n",
       "<table border=\"1\" class=\"dataframe\">\n",
       "  <thead>\n",
       "    <tr style=\"text-align: right;\">\n",
       "      <th></th>\n",
       "      <th>api_only</th>\n",
       "      <th>bulk_only</th>\n",
       "    </tr>\n",
       "  </thead>\n",
       "  <tbody>\n",
       "    <tr>\n",
       "      <th>count</th>\n",
       "      <td>1534.0</td>\n",
       "      <td>1534.000000</td>\n",
       "    </tr>\n",
       "    <tr>\n",
       "      <th>sum</th>\n",
       "      <td>0.0</td>\n",
       "      <td>24.000000</td>\n",
       "    </tr>\n",
       "    <tr>\n",
       "      <th>mean</th>\n",
       "      <td>0.0</td>\n",
       "      <td>0.015645</td>\n",
       "    </tr>\n",
       "  </tbody>\n",
       "</table>\n",
       "</div>"
      ],
      "text/plain": [
       "       api_only    bulk_only\n",
       "count    1534.0  1534.000000\n",
       "sum         0.0    24.000000\n",
       "mean        0.0     0.015645"
      ]
     },
     "execution_count": 85,
     "metadata": {},
     "output_type": "execute_result"
    }
   ],
   "source": [
    "joined_no_zeros[['api_only', 'bulk_only']].agg(['count', 'sum', 'mean'])"
   ]
  },
  {
   "cell_type": "code",
   "execution_count": 88,
   "id": "c61d4cd6-0ed5-4809-b56e-06761061e6d2",
   "metadata": {},
   "outputs": [
    {
     "data": {
      "text/html": [
       "<div>\n",
       "<style scoped>\n",
       "    .dataframe tbody tr th:only-of-type {\n",
       "        vertical-align: middle;\n",
       "    }\n",
       "\n",
       "    .dataframe tbody tr th {\n",
       "        vertical-align: top;\n",
       "    }\n",
       "\n",
       "    .dataframe thead th {\n",
       "        text-align: right;\n",
       "    }\n",
       "</style>\n",
       "<table border=\"1\" class=\"dataframe\">\n",
       "  <thead>\n",
       "    <tr style=\"text-align: right;\">\n",
       "      <th></th>\n",
       "      <th>geo_agg</th>\n",
       "      <th>fuel_agg</th>\n",
       "      <th>sector_agg</th>\n",
       "      <th>fuel_cost_per_mmbtu_bulk</th>\n",
       "      <th>fuel_received_mmbtu_bulk</th>\n",
       "      <th>api_only</th>\n",
       "      <th>bulk_only</th>\n",
       "    </tr>\n",
       "  </thead>\n",
       "  <tbody>\n",
       "    <tr>\n",
       "      <th>1510</th>\n",
       "      <td>KY</td>\n",
       "      <td>all_coal</td>\n",
       "      <td>all_ipp</td>\n",
       "      <td>NaN</td>\n",
       "      <td>784887.43</td>\n",
       "      <td>False</td>\n",
       "      <td>True</td>\n",
       "    </tr>\n",
       "    <tr>\n",
       "      <th>1511</th>\n",
       "      <td>KY</td>\n",
       "      <td>all_coal</td>\n",
       "      <td>ipp_non_cogen</td>\n",
       "      <td>NaN</td>\n",
       "      <td>784887.43</td>\n",
       "      <td>False</td>\n",
       "      <td>True</td>\n",
       "    </tr>\n",
       "    <tr>\n",
       "      <th>1512</th>\n",
       "      <td>MN</td>\n",
       "      <td>all_coal</td>\n",
       "      <td>industrial_non_cogen</td>\n",
       "      <td>NaN</td>\n",
       "      <td>270441.72</td>\n",
       "      <td>False</td>\n",
       "      <td>True</td>\n",
       "    </tr>\n",
       "    <tr>\n",
       "      <th>1513</th>\n",
       "      <td>ESC</td>\n",
       "      <td>bituminous_coal</td>\n",
       "      <td>ipp_non_cogen</td>\n",
       "      <td>NaN</td>\n",
       "      <td>1245188.40</td>\n",
       "      <td>False</td>\n",
       "      <td>True</td>\n",
       "    </tr>\n",
       "    <tr>\n",
       "      <th>1514</th>\n",
       "      <td>MS</td>\n",
       "      <td>bituminous_coal</td>\n",
       "      <td>all_ipp</td>\n",
       "      <td>NaN</td>\n",
       "      <td>1245188.40</td>\n",
       "      <td>False</td>\n",
       "      <td>True</td>\n",
       "    </tr>\n",
       "    <tr>\n",
       "      <th>1515</th>\n",
       "      <td>MS</td>\n",
       "      <td>bituminous_coal</td>\n",
       "      <td>ipp_non_cogen</td>\n",
       "      <td>NaN</td>\n",
       "      <td>1245188.40</td>\n",
       "      <td>False</td>\n",
       "      <td>True</td>\n",
       "    </tr>\n",
       "    <tr>\n",
       "      <th>1516</th>\n",
       "      <td>MAT</td>\n",
       "      <td>natural_gas</td>\n",
       "      <td>all_commercial</td>\n",
       "      <td>0.0</td>\n",
       "      <td>NaN</td>\n",
       "      <td>False</td>\n",
       "      <td>True</td>\n",
       "    </tr>\n",
       "    <tr>\n",
       "      <th>1517</th>\n",
       "      <td>NC</td>\n",
       "      <td>natural_gas</td>\n",
       "      <td>ipp_cogen</td>\n",
       "      <td>NaN</td>\n",
       "      <td>13858934.15</td>\n",
       "      <td>False</td>\n",
       "      <td>True</td>\n",
       "    </tr>\n",
       "    <tr>\n",
       "      <th>1518</th>\n",
       "      <td>US</td>\n",
       "      <td>natural_gas</td>\n",
       "      <td>commercial_non_cogen</td>\n",
       "      <td>0.0</td>\n",
       "      <td>NaN</td>\n",
       "      <td>False</td>\n",
       "      <td>True</td>\n",
       "    </tr>\n",
       "    <tr>\n",
       "      <th>1519</th>\n",
       "      <td>DE</td>\n",
       "      <td>petroleum_liquids</td>\n",
       "      <td>electric_utility</td>\n",
       "      <td>0.0</td>\n",
       "      <td>NaN</td>\n",
       "      <td>False</td>\n",
       "      <td>True</td>\n",
       "    </tr>\n",
       "    <tr>\n",
       "      <th>1520</th>\n",
       "      <td>ID</td>\n",
       "      <td>petroleum_liquids</td>\n",
       "      <td>all_electric_power</td>\n",
       "      <td>0.0</td>\n",
       "      <td>NaN</td>\n",
       "      <td>False</td>\n",
       "      <td>True</td>\n",
       "    </tr>\n",
       "    <tr>\n",
       "      <th>1521</th>\n",
       "      <td>ID</td>\n",
       "      <td>petroleum_liquids</td>\n",
       "      <td>electric_utility</td>\n",
       "      <td>0.0</td>\n",
       "      <td>NaN</td>\n",
       "      <td>False</td>\n",
       "      <td>True</td>\n",
       "    </tr>\n",
       "    <tr>\n",
       "      <th>1522</th>\n",
       "      <td>MD</td>\n",
       "      <td>petroleum_liquids</td>\n",
       "      <td>electric_utility</td>\n",
       "      <td>0.0</td>\n",
       "      <td>NaN</td>\n",
       "      <td>False</td>\n",
       "      <td>True</td>\n",
       "    </tr>\n",
       "    <tr>\n",
       "      <th>1523</th>\n",
       "      <td>ME</td>\n",
       "      <td>petroleum_liquids</td>\n",
       "      <td>electric_utility</td>\n",
       "      <td>0.0</td>\n",
       "      <td>NaN</td>\n",
       "      <td>False</td>\n",
       "      <td>True</td>\n",
       "    </tr>\n",
       "    <tr>\n",
       "      <th>1524</th>\n",
       "      <td>PA</td>\n",
       "      <td>petroleum_liquids</td>\n",
       "      <td>electric_utility</td>\n",
       "      <td>0.0</td>\n",
       "      <td>NaN</td>\n",
       "      <td>False</td>\n",
       "      <td>True</td>\n",
       "    </tr>\n",
       "    <tr>\n",
       "      <th>1525</th>\n",
       "      <td>RI</td>\n",
       "      <td>petroleum_liquids</td>\n",
       "      <td>electric_utility</td>\n",
       "      <td>0.0</td>\n",
       "      <td>NaN</td>\n",
       "      <td>False</td>\n",
       "      <td>True</td>\n",
       "    </tr>\n",
       "    <tr>\n",
       "      <th>1526</th>\n",
       "      <td>US</td>\n",
       "      <td>petroleum_liquids</td>\n",
       "      <td>commercial_non_cogen</td>\n",
       "      <td>0.0</td>\n",
       "      <td>NaN</td>\n",
       "      <td>False</td>\n",
       "      <td>True</td>\n",
       "    </tr>\n",
       "    <tr>\n",
       "      <th>1527</th>\n",
       "      <td>AK</td>\n",
       "      <td>sub_bituminous_coal</td>\n",
       "      <td>electric_utility</td>\n",
       "      <td>0.0</td>\n",
       "      <td>NaN</td>\n",
       "      <td>False</td>\n",
       "      <td>True</td>\n",
       "    </tr>\n",
       "    <tr>\n",
       "      <th>1528</th>\n",
       "      <td>ESC</td>\n",
       "      <td>sub_bituminous_coal</td>\n",
       "      <td>all_ipp</td>\n",
       "      <td>NaN</td>\n",
       "      <td>784887.43</td>\n",
       "      <td>False</td>\n",
       "      <td>True</td>\n",
       "    </tr>\n",
       "    <tr>\n",
       "      <th>1529</th>\n",
       "      <td>ESC</td>\n",
       "      <td>sub_bituminous_coal</td>\n",
       "      <td>ipp_non_cogen</td>\n",
       "      <td>NaN</td>\n",
       "      <td>784887.43</td>\n",
       "      <td>False</td>\n",
       "      <td>True</td>\n",
       "    </tr>\n",
       "    <tr>\n",
       "      <th>1530</th>\n",
       "      <td>KY</td>\n",
       "      <td>sub_bituminous_coal</td>\n",
       "      <td>all_ipp</td>\n",
       "      <td>NaN</td>\n",
       "      <td>784887.43</td>\n",
       "      <td>False</td>\n",
       "      <td>True</td>\n",
       "    </tr>\n",
       "    <tr>\n",
       "      <th>1531</th>\n",
       "      <td>KY</td>\n",
       "      <td>sub_bituminous_coal</td>\n",
       "      <td>ipp_non_cogen</td>\n",
       "      <td>NaN</td>\n",
       "      <td>784887.43</td>\n",
       "      <td>False</td>\n",
       "      <td>True</td>\n",
       "    </tr>\n",
       "    <tr>\n",
       "      <th>1532</th>\n",
       "      <td>MN</td>\n",
       "      <td>sub_bituminous_coal</td>\n",
       "      <td>industrial_non_cogen</td>\n",
       "      <td>NaN</td>\n",
       "      <td>270441.72</td>\n",
       "      <td>False</td>\n",
       "      <td>True</td>\n",
       "    </tr>\n",
       "    <tr>\n",
       "      <th>1533</th>\n",
       "      <td>PCN</td>\n",
       "      <td>sub_bituminous_coal</td>\n",
       "      <td>electric_utility</td>\n",
       "      <td>0.0</td>\n",
       "      <td>NaN</td>\n",
       "      <td>False</td>\n",
       "      <td>True</td>\n",
       "    </tr>\n",
       "  </tbody>\n",
       "</table>\n",
       "</div>"
      ],
      "text/plain": [
       "     geo_agg             fuel_agg            sector_agg  fuel_cost_per_mmbtu_bulk  fuel_received_mmbtu_bulk  api_only  bulk_only\n",
       "1510      KY             all_coal               all_ipp                       NaN                 784887.43     False       True\n",
       "1511      KY             all_coal         ipp_non_cogen                       NaN                 784887.43     False       True\n",
       "1512      MN             all_coal  industrial_non_cogen                       NaN                 270441.72     False       True\n",
       "1513     ESC      bituminous_coal         ipp_non_cogen                       NaN                1245188.40     False       True\n",
       "1514      MS      bituminous_coal               all_ipp                       NaN                1245188.40     False       True\n",
       "1515      MS      bituminous_coal         ipp_non_cogen                       NaN                1245188.40     False       True\n",
       "1516     MAT          natural_gas        all_commercial                       0.0                       NaN     False       True\n",
       "1517      NC          natural_gas             ipp_cogen                       NaN               13858934.15     False       True\n",
       "1518      US          natural_gas  commercial_non_cogen                       0.0                       NaN     False       True\n",
       "1519      DE    petroleum_liquids      electric_utility                       0.0                       NaN     False       True\n",
       "1520      ID    petroleum_liquids    all_electric_power                       0.0                       NaN     False       True\n",
       "1521      ID    petroleum_liquids      electric_utility                       0.0                       NaN     False       True\n",
       "1522      MD    petroleum_liquids      electric_utility                       0.0                       NaN     False       True\n",
       "1523      ME    petroleum_liquids      electric_utility                       0.0                       NaN     False       True\n",
       "1524      PA    petroleum_liquids      electric_utility                       0.0                       NaN     False       True\n",
       "1525      RI    petroleum_liquids      electric_utility                       0.0                       NaN     False       True\n",
       "1526      US    petroleum_liquids  commercial_non_cogen                       0.0                       NaN     False       True\n",
       "1527      AK  sub_bituminous_coal      electric_utility                       0.0                       NaN     False       True\n",
       "1528     ESC  sub_bituminous_coal               all_ipp                       NaN                 784887.43     False       True\n",
       "1529     ESC  sub_bituminous_coal         ipp_non_cogen                       NaN                 784887.43     False       True\n",
       "1530      KY  sub_bituminous_coal               all_ipp                       NaN                 784887.43     False       True\n",
       "1531      KY  sub_bituminous_coal         ipp_non_cogen                       NaN                 784887.43     False       True\n",
       "1532      MN  sub_bituminous_coal  industrial_non_cogen                       NaN                 270441.72     False       True\n",
       "1533     PCN  sub_bituminous_coal      electric_utility                       0.0                       NaN     False       True"
      ]
     },
     "execution_count": 88,
     "metadata": {},
     "output_type": "execute_result"
    }
   ],
   "source": [
    "# zero price information in these records\n",
    "joined_no_zeros[joined_no_zeros['bulk_only']].drop(columns=api_value_columns) # all NaN"
   ]
  },
  {
   "cell_type": "code",
   "execution_count": null,
   "id": "ab3408d9-1232-4d72-98cb-37bf01ae9c77",
   "metadata": {},
   "outputs": [],
   "source": []
  }
 ],
 "metadata": {
  "kernelspec": {
   "display_name": "Python 3 (ipykernel)",
   "language": "python",
   "name": "python3"
  },
  "language_info": {
   "codemirror_mode": {
    "name": "ipython",
    "version": 3
   },
   "file_extension": ".py",
   "mimetype": "text/x-python",
   "name": "python",
   "nbconvert_exporter": "python",
   "pygments_lexer": "ipython3",
   "version": "3.10.8"
  }
 },
 "nbformat": 4,
 "nbformat_minor": 5
}
