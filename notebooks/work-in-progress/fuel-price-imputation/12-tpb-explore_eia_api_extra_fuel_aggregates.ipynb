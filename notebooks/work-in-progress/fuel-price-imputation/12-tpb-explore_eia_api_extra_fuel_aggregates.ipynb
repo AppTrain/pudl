{
 "cells": [
  {
   "cell_type": "code",
   "execution_count": 2,
   "id": "4c2d015b-f14c-4fc3-bb80-a5af035793fc",
   "metadata": {},
   "outputs": [],
   "source": [
    "import pandas as pd\n",
    "from pathlib import Path"
   ]
  },
  {
   "cell_type": "markdown",
   "id": "d767de53-09c4-4be3-b60e-4e396839680a",
   "metadata": {},
   "source": [
    "# Explore EIA API extra aggregates (not present in EIA Bulk data)\n",
    "\n",
    "**Summary:** The API contains additional (more precise) aggregates of some fuel types compared to the bulk data. But only a trivial amount (<1%) of fuel receipts come from these categories (DFO/RFO/WC), so the advantage of the API in fuel precision is small.\n",
    "\n",
    "The additional aggregates (like \"all fossil fuels\" or \"nat gas plus other gas\") could be useful in error checking or possibly for deducing more precise aggregates for redacted items. But that would probably be an involved process."
   ]
  },
  {
   "cell_type": "markdown",
   "id": "4678168c-fdfa-4545-ac64-caaf1df3cbd5",
   "metadata": {},
   "source": [
    "API query:\n",
    "\n",
    "(reproduciblilty note: replace `api_key=<REDACTED>` at the top)\n",
    "```\n",
    "https://api.eia.gov/v2/electricity/electric-power-operational-data/data/?api_key=<REDACTED>&frequency=quarterly&data[0]=cost-per-btu&data[1]=receipts-btu&facets[fueltypeid][]=ANT&facets[fueltypeid][]=BIS&facets[fueltypeid][]=DFO&facets[fueltypeid][]=FOS&facets[fueltypeid][]=LFG&facets[fueltypeid][]=MLG&facets[fueltypeid][]=NGO&facets[fueltypeid][]=OOG&facets[fueltypeid][]=PET&facets[fueltypeid][]=RC&facets[fueltypeid][]=RFO&facets[fueltypeid][]=WOC&facets[fueltypeid][]=WOO&facets[location][]=90&facets[location][]=AK&facets[location][]=AL&facets[location][]=AR&facets[location][]=AZ&facets[location][]=CA&facets[location][]=CO&facets[location][]=CT&facets[location][]=DC&facets[location][]=DE&facets[location][]=ENC&facets[location][]=ESC&facets[location][]=FL&facets[location][]=GA&facets[location][]=HI&facets[location][]=IA&facets[location][]=ID&facets[location][]=IL&facets[location][]=IN&facets[location][]=KS&facets[location][]=KY&facets[location][]=LA&facets[location][]=MA&facets[location][]=MAT&facets[location][]=MD&facets[location][]=ME&facets[location][]=MI&facets[location][]=MN&facets[location][]=MO&facets[location][]=MS&facets[location][]=MT&facets[location][]=MTN&facets[location][]=NC&facets[location][]=ND&facets[location][]=NE&facets[location][]=NEW&facets[location][]=NH&facets[location][]=NJ&facets[location][]=NM&facets[location][]=NV&facets[location][]=NY&facets[location][]=OH&facets[location][]=OK&facets[location][]=OR&facets[location][]=PA&facets[location][]=PCC&facets[location][]=PCN&facets[location][]=RI&facets[location][]=SAT&facets[location][]=SC&facets[location][]=SD&facets[location][]=TN&facets[location][]=TX&facets[location][]=US&facets[location][]=UT&facets[location][]=VA&facets[location][]=VT&facets[location][]=WA&facets[location][]=WI&facets[location][]=WNC&facets[location][]=WSC&facets[location][]=WV&facets[location][]=WY&facets[sectorid][]=1&facets[sectorid][]=2&facets[sectorid][]=3&facets[sectorid][]=4&facets[sectorid][]=5&facets[sectorid][]=6&facets[sectorid][]=7&facets[sectorid][]=90&facets[sectorid][]=94&facets[sectorid][]=96&facets[sectorid][]=97&facets[sectorid][]=98&facets[sectorid][]=99&start=2015-Q1&end=2015-Q1&sort[0][column]=period&sort[0][direction]=asc&offset=0&length=5000```"
   ]
  },
  {
   "cell_type": "code",
   "execution_count": 3,
   "id": "879ad701-ae2b-468b-919f-f3c99bf9303a",
   "metadata": {},
   "outputs": [],
   "source": [
    "# I manually edited the file to remove nested metadata at the top/bottom and make it line-delimited for easier parsing.\n",
    "path_api_stuff = Path('./api.eia.gov2015_other_fuels_etc.json')\n",
    "assert path_api_stuff.exists()"
   ]
  },
  {
   "cell_type": "code",
   "execution_count": 5,
   "id": "b55b4641-fbcd-4375-8b58-6d9b074fe450",
   "metadata": {},
   "outputs": [],
   "source": [
    "api_raw = pd.read_json(path_api_stuff, lines=True)"
   ]
  },
  {
   "cell_type": "code",
   "execution_count": 6,
   "id": "c7d31238-c7a6-4568-a012-006d33d51275",
   "metadata": {},
   "outputs": [
    {
     "data": {
      "text/html": [
       "<div>\n",
       "<style scoped>\n",
       "    .dataframe tbody tr th:only-of-type {\n",
       "        vertical-align: middle;\n",
       "    }\n",
       "\n",
       "    .dataframe tbody tr th {\n",
       "        vertical-align: top;\n",
       "    }\n",
       "\n",
       "    .dataframe thead th {\n",
       "        text-align: right;\n",
       "    }\n",
       "</style>\n",
       "<table border=\"1\" class=\"dataframe\">\n",
       "  <thead>\n",
       "    <tr style=\"text-align: right;\">\n",
       "      <th></th>\n",
       "      <th>period</th>\n",
       "      <th>location</th>\n",
       "      <th>stateDescription</th>\n",
       "      <th>sectorid</th>\n",
       "      <th>sectorDescription</th>\n",
       "      <th>fueltypeid</th>\n",
       "      <th>fuelTypeDescription</th>\n",
       "      <th>cost-per-btu</th>\n",
       "      <th>cost-per-btu-units</th>\n",
       "      <th>receipts-btu</th>\n",
       "      <th>receipts-btu-units</th>\n",
       "    </tr>\n",
       "  </thead>\n",
       "  <tbody>\n",
       "    <tr>\n",
       "      <th>0</th>\n",
       "      <td>2015-Q1</td>\n",
       "      <td>WSC</td>\n",
       "      <td>West South Central</td>\n",
       "      <td>90</td>\n",
       "      <td>Electric Power Sector Non-CHP</td>\n",
       "      <td>BIS</td>\n",
       "      <td>bituminous coal and synthetic coal</td>\n",
       "      <td>NaN</td>\n",
       "      <td>dollars per million Btu</td>\n",
       "      <td>2264.73334</td>\n",
       "      <td>billion Btu</td>\n",
       "    </tr>\n",
       "    <tr>\n",
       "      <th>1</th>\n",
       "      <td>2015-Q1</td>\n",
       "      <td>WSC</td>\n",
       "      <td>West South Central</td>\n",
       "      <td>90</td>\n",
       "      <td>Electric Power Sector Non-CHP</td>\n",
       "      <td>DFO</td>\n",
       "      <td>distillate fuel oil</td>\n",
       "      <td>NaN</td>\n",
       "      <td>dollars per million Btu</td>\n",
       "      <td>610.38749</td>\n",
       "      <td>billion Btu</td>\n",
       "    </tr>\n",
       "    <tr>\n",
       "      <th>2</th>\n",
       "      <td>2015-Q1</td>\n",
       "      <td>WSC</td>\n",
       "      <td>West South Central</td>\n",
       "      <td>90</td>\n",
       "      <td>Electric Power Sector Non-CHP</td>\n",
       "      <td>FOS</td>\n",
       "      <td>fossil fuels</td>\n",
       "      <td>NaN</td>\n",
       "      <td>dollars per million Btu</td>\n",
       "      <td>974228.31436</td>\n",
       "      <td>billion Btu</td>\n",
       "    </tr>\n",
       "  </tbody>\n",
       "</table>\n",
       "</div>"
      ],
      "text/plain": [
       "    period location    stateDescription  sectorid  \\\n",
       "0  2015-Q1      WSC  West South Central        90   \n",
       "1  2015-Q1      WSC  West South Central        90   \n",
       "2  2015-Q1      WSC  West South Central        90   \n",
       "\n",
       "               sectorDescription fueltypeid  \\\n",
       "0  Electric Power Sector Non-CHP        BIS   \n",
       "1  Electric Power Sector Non-CHP        DFO   \n",
       "2  Electric Power Sector Non-CHP        FOS   \n",
       "\n",
       "                  fuelTypeDescription  cost-per-btu       cost-per-btu-units  \\\n",
       "0  bituminous coal and synthetic coal           NaN  dollars per million Btu   \n",
       "1                 distillate fuel oil           NaN  dollars per million Btu   \n",
       "2                        fossil fuels           NaN  dollars per million Btu   \n",
       "\n",
       "   receipts-btu receipts-btu-units  \n",
       "0    2264.73334        billion Btu  \n",
       "1     610.38749        billion Btu  \n",
       "2  974228.31436        billion Btu  "
      ]
     },
     "execution_count": 6,
     "metadata": {},
     "output_type": "execute_result"
    }
   ],
   "source": [
    "api_raw.head(3)"
   ]
  },
  {
   "cell_type": "code",
   "execution_count": 7,
   "id": "9aeea995-0730-4efd-a121-ce8847a53d74",
   "metadata": {},
   "outputs": [
    {
     "data": {
      "text/html": [
       "<div>\n",
       "<style scoped>\n",
       "    .dataframe tbody tr th:only-of-type {\n",
       "        vertical-align: middle;\n",
       "    }\n",
       "\n",
       "    .dataframe tbody tr th {\n",
       "        vertical-align: top;\n",
       "    }\n",
       "\n",
       "    .dataframe thead th {\n",
       "        text-align: right;\n",
       "    }\n",
       "</style>\n",
       "<table border=\"1\" class=\"dataframe\">\n",
       "  <thead>\n",
       "    <tr style=\"text-align: right;\">\n",
       "      <th></th>\n",
       "      <th>sectorid</th>\n",
       "      <th>cost-per-btu</th>\n",
       "      <th>receipts-btu</th>\n",
       "    </tr>\n",
       "  </thead>\n",
       "  <tbody>\n",
       "    <tr>\n",
       "      <th>count</th>\n",
       "      <td>4938.000000</td>\n",
       "      <td>562.000000</td>\n",
       "      <td>4.938000e+03</td>\n",
       "    </tr>\n",
       "    <tr>\n",
       "      <th>mean</th>\n",
       "      <td>55.890846</td>\n",
       "      <td>3.594858</td>\n",
       "      <td>2.657528e+04</td>\n",
       "    </tr>\n",
       "    <tr>\n",
       "      <th>std</th>\n",
       "      <td>45.685782</td>\n",
       "      <td>5.591763</td>\n",
       "      <td>1.898055e+05</td>\n",
       "    </tr>\n",
       "    <tr>\n",
       "      <th>min</th>\n",
       "      <td>1.000000</td>\n",
       "      <td>0.000000</td>\n",
       "      <td>0.000000e+00</td>\n",
       "    </tr>\n",
       "    <tr>\n",
       "      <th>25%</th>\n",
       "      <td>4.000000</td>\n",
       "      <td>0.000000</td>\n",
       "      <td>0.000000e+00</td>\n",
       "    </tr>\n",
       "    <tr>\n",
       "      <th>50%</th>\n",
       "      <td>90.000000</td>\n",
       "      <td>0.000000</td>\n",
       "      <td>0.000000e+00</td>\n",
       "    </tr>\n",
       "    <tr>\n",
       "      <th>75%</th>\n",
       "      <td>97.000000</td>\n",
       "      <td>4.191625</td>\n",
       "      <td>1.588159e+03</td>\n",
       "    </tr>\n",
       "    <tr>\n",
       "      <th>max</th>\n",
       "      <td>99.000000</td>\n",
       "      <td>24.888900</td>\n",
       "      <td>6.106581e+06</td>\n",
       "    </tr>\n",
       "  </tbody>\n",
       "</table>\n",
       "</div>"
      ],
      "text/plain": [
       "          sectorid  cost-per-btu  receipts-btu\n",
       "count  4938.000000    562.000000  4.938000e+03\n",
       "mean     55.890846      3.594858  2.657528e+04\n",
       "std      45.685782      5.591763  1.898055e+05\n",
       "min       1.000000      0.000000  0.000000e+00\n",
       "25%       4.000000      0.000000  0.000000e+00\n",
       "50%      90.000000      0.000000  0.000000e+00\n",
       "75%      97.000000      4.191625  1.588159e+03\n",
       "max      99.000000     24.888900  6.106581e+06"
      ]
     },
     "execution_count": 7,
     "metadata": {},
     "output_type": "execute_result"
    }
   ],
   "source": [
    "api_raw.describe()"
   ]
  },
  {
   "cell_type": "code",
   "execution_count": 8,
   "id": "46118af4-f711-48e7-9b53-33bf056f078b",
   "metadata": {},
   "outputs": [
    {
     "data": {
      "text/plain": [
       "(2042, 11)"
      ]
     },
     "execution_count": 8,
     "metadata": {},
     "output_type": "execute_result"
    }
   ],
   "source": [
    "nonzero_receipts = api_raw.loc[api_raw['receipts-btu'].ne(0)]\n",
    "nonzero_receipts.shape"
   ]
  },
  {
   "cell_type": "markdown",
   "id": "ddfc19ef-c242-44fc-a59a-b981ffc051d2",
   "metadata": {},
   "source": [
    "60% of this data is zeros..."
   ]
  },
  {
   "cell_type": "code",
   "execution_count": 9,
   "id": "e2f54912-5935-45be-b1c9-de74742c2e0f",
   "metadata": {},
   "outputs": [
    {
     "data": {
      "text/plain": [
       "(2042, 11)"
      ]
     },
     "execution_count": 9,
     "metadata": {},
     "output_type": "execute_result"
    }
   ],
   "source": [
    "nonzero_receipts.dropna(subset=['receipts-btu']).shape"
   ]
  },
  {
   "cell_type": "code",
   "execution_count": 10,
   "id": "f4a1d637-a4a0-4598-a2a6-50d52a5b0e3f",
   "metadata": {},
   "outputs": [
    {
     "data": {
      "text/html": [
       "<div>\n",
       "<style scoped>\n",
       "    .dataframe tbody tr th:only-of-type {\n",
       "        vertical-align: middle;\n",
       "    }\n",
       "\n",
       "    .dataframe tbody tr th {\n",
       "        vertical-align: top;\n",
       "    }\n",
       "\n",
       "    .dataframe thead th {\n",
       "        text-align: right;\n",
       "    }\n",
       "</style>\n",
       "<table border=\"1\" class=\"dataframe\">\n",
       "  <thead>\n",
       "    <tr style=\"text-align: right;\">\n",
       "      <th></th>\n",
       "      <th>sectorid</th>\n",
       "      <th>cost-per-btu</th>\n",
       "      <th>receipts-btu</th>\n",
       "    </tr>\n",
       "  </thead>\n",
       "  <tbody>\n",
       "    <tr>\n",
       "      <th>count</th>\n",
       "      <td>2042.000000</td>\n",
       "      <td>302.000000</td>\n",
       "      <td>2.042000e+03</td>\n",
       "    </tr>\n",
       "    <tr>\n",
       "      <th>mean</th>\n",
       "      <td>61.738002</td>\n",
       "      <td>6.689769</td>\n",
       "      <td>6.426481e+04</td>\n",
       "    </tr>\n",
       "    <tr>\n",
       "      <th>std</th>\n",
       "      <td>44.722230</td>\n",
       "      <td>6.124013</td>\n",
       "      <td>2.910682e+05</td>\n",
       "    </tr>\n",
       "    <tr>\n",
       "      <th>min</th>\n",
       "      <td>1.000000</td>\n",
       "      <td>0.000000</td>\n",
       "      <td>4.400000e-02</td>\n",
       "    </tr>\n",
       "    <tr>\n",
       "      <th>25%</th>\n",
       "      <td>3.000000</td>\n",
       "      <td>2.158050</td>\n",
       "      <td>3.983035e+02</td>\n",
       "    </tr>\n",
       "    <tr>\n",
       "      <th>50%</th>\n",
       "      <td>90.000000</td>\n",
       "      <td>3.891800</td>\n",
       "      <td>3.265067e+03</td>\n",
       "    </tr>\n",
       "    <tr>\n",
       "      <th>75%</th>\n",
       "      <td>98.000000</td>\n",
       "      <td>12.889000</td>\n",
       "      <td>2.751362e+04</td>\n",
       "    </tr>\n",
       "    <tr>\n",
       "      <th>max</th>\n",
       "      <td>99.000000</td>\n",
       "      <td>24.888900</td>\n",
       "      <td>6.106581e+06</td>\n",
       "    </tr>\n",
       "  </tbody>\n",
       "</table>\n",
       "</div>"
      ],
      "text/plain": [
       "          sectorid  cost-per-btu  receipts-btu\n",
       "count  2042.000000    302.000000  2.042000e+03\n",
       "mean     61.738002      6.689769  6.426481e+04\n",
       "std      44.722230      6.124013  2.910682e+05\n",
       "min       1.000000      0.000000  4.400000e-02\n",
       "25%       3.000000      2.158050  3.983035e+02\n",
       "50%      90.000000      3.891800  3.265067e+03\n",
       "75%      98.000000     12.889000  2.751362e+04\n",
       "max      99.000000     24.888900  6.106581e+06"
      ]
     },
     "execution_count": 10,
     "metadata": {},
     "output_type": "execute_result"
    }
   ],
   "source": [
    "nonzero_receipts.describe()"
   ]
  },
  {
   "cell_type": "code",
   "execution_count": 11,
   "id": "0d981e4e-753f-47a9-a619-8874562d8d3e",
   "metadata": {},
   "outputs": [
    {
     "data": {
      "text/plain": [
       "Index(['period', 'location', 'stateDescription', 'sectorid',\n",
       "       'sectorDescription', 'fueltypeid', 'fuelTypeDescription',\n",
       "       'cost-per-btu', 'cost-per-btu-units', 'receipts-btu',\n",
       "       'receipts-btu-units'],\n",
       "      dtype='object')"
      ]
     },
     "execution_count": 11,
     "metadata": {},
     "output_type": "execute_result"
    }
   ],
   "source": [
    "api_raw.columns"
   ]
  },
  {
   "cell_type": "code",
   "execution_count": 12,
   "id": "d6a0353c-d738-4b31-aa14-cf8a02401dde",
   "metadata": {},
   "outputs": [],
   "source": [
    "key_columns = ['location', 'sectorid', 'fueltypeid']"
   ]
  },
  {
   "cell_type": "code",
   "execution_count": 14,
   "id": "b37d19f9-2863-4d53-a6f5-10aca3909e22",
   "metadata": {},
   "outputs": [
    {
     "name": "stdout",
     "output_type": "stream",
     "text": [
      "US     70\n",
      "MAT    60\n",
      "SAT    59\n",
      "ENC    53\n",
      "NY     51\n",
      "       ..\n",
      "SD     16\n",
      "OR     14\n",
      "NE     12\n",
      "ID     12\n",
      "AK      8\n",
      "Name: location, Length: 61, dtype: int64\n",
      "99    310\n",
      "98    300\n",
      "90    294\n",
      "1     238\n",
      "94    228\n",
      "2     206\n",
      "7     147\n",
      "97    147\n",
      "3     132\n",
      "5      17\n",
      "96     17\n",
      "6       6\n",
      "Name: sectorid, dtype: int64\n",
      "FOS    465\n",
      "NGO    447\n",
      "PET    340\n",
      "DFO    333\n",
      "BIS    290\n",
      "RFO    102\n",
      "WOC     65\n",
      "Name: fueltypeid, dtype: int64\n"
     ]
    }
   ],
   "source": [
    "for key in key_columns:\n",
    "    print(nonzero_receipts[key].value_counts())"
   ]
  },
  {
   "cell_type": "code",
   "execution_count": 15,
   "id": "564f7809-d570-4d10-9616-c7770026401a",
   "metadata": {},
   "outputs": [],
   "source": [
    "#SELECT\n",
    "#    energy_source_code,\n",
    "#    sum(fuel_received_units * fuel_mmbtu_per_unit) as mmbtu,\n",
    "#    count(*) as n\n",
    "#FROM fuel_receipts_costs_eia923\n",
    "#where report_date >= date('2013-01-01')\n",
    "#group by 1\n",
    "#order by 2 desc;\n",
    "frc_totals = pd.read_clipboard()"
   ]
  },
  {
   "cell_type": "code",
   "execution_count": 17,
   "id": "e69c9631-5815-48ab-8f54-8766b26453aa",
   "metadata": {},
   "outputs": [
    {
     "data": {
      "text/html": [
       "<div>\n",
       "<style scoped>\n",
       "    .dataframe tbody tr th:only-of-type {\n",
       "        vertical-align: middle;\n",
       "    }\n",
       "\n",
       "    .dataframe tbody tr th {\n",
       "        vertical-align: top;\n",
       "    }\n",
       "\n",
       "    .dataframe thead th {\n",
       "        text-align: right;\n",
       "    }\n",
       "</style>\n",
       "<table border=\"1\" class=\"dataframe\">\n",
       "  <thead>\n",
       "    <tr style=\"text-align: right;\">\n",
       "      <th></th>\n",
       "      <th>energy_source_code</th>\n",
       "      <th>mmbtu</th>\n",
       "      <th>n</th>\n",
       "      <th>mmbtu_frac</th>\n",
       "    </tr>\n",
       "  </thead>\n",
       "  <tbody>\n",
       "    <tr>\n",
       "      <th>0</th>\n",
       "      <td>NG</td>\n",
       "      <td>9.583923e+10</td>\n",
       "      <td>193469</td>\n",
       "      <td>4.578083e-01</td>\n",
       "    </tr>\n",
       "    <tr>\n",
       "      <th>1</th>\n",
       "      <td>SUB</td>\n",
       "      <td>5.455862e+10</td>\n",
       "      <td>41837</td>\n",
       "      <td>2.606176e-01</td>\n",
       "    </tr>\n",
       "    <tr>\n",
       "      <th>2</th>\n",
       "      <td>BIT</td>\n",
       "      <td>4.950069e+10</td>\n",
       "      <td>60145</td>\n",
       "      <td>2.364567e-01</td>\n",
       "    </tr>\n",
       "    <tr>\n",
       "      <th>3</th>\n",
       "      <td>LIG</td>\n",
       "      <td>6.728104e+09</td>\n",
       "      <td>2087</td>\n",
       "      <td>3.213905e-02</td>\n",
       "    </tr>\n",
       "    <tr>\n",
       "      <th>4</th>\n",
       "      <td>PC</td>\n",
       "      <td>9.023792e+08</td>\n",
       "      <td>1280</td>\n",
       "      <td>4.310518e-03</td>\n",
       "    </tr>\n",
       "    <tr>\n",
       "      <th>5</th>\n",
       "      <td>WC</td>\n",
       "      <td>7.743216e+08</td>\n",
       "      <td>4789</td>\n",
       "      <td>3.698807e-03</td>\n",
       "    </tr>\n",
       "    <tr>\n",
       "      <th>6</th>\n",
       "      <td>RFO</td>\n",
       "      <td>6.104007e+08</td>\n",
       "      <td>2392</td>\n",
       "      <td>2.915784e-03</td>\n",
       "    </tr>\n",
       "    <tr>\n",
       "      <th>7</th>\n",
       "      <td>DFO</td>\n",
       "      <td>4.297075e+08</td>\n",
       "      <td>23477</td>\n",
       "      <td>2.052642e-03</td>\n",
       "    </tr>\n",
       "    <tr>\n",
       "      <th>8</th>\n",
       "      <td>NaN</td>\n",
       "      <td>8.437856e+04</td>\n",
       "      <td>1</td>\n",
       "      <td>4.030625e-07</td>\n",
       "    </tr>\n",
       "    <tr>\n",
       "      <th>9</th>\n",
       "      <td>WO</td>\n",
       "      <td>5.128110e+04</td>\n",
       "      <td>24</td>\n",
       "      <td>2.449614e-07</td>\n",
       "    </tr>\n",
       "  </tbody>\n",
       "</table>\n",
       "</div>"
      ],
      "text/plain": [
       "  energy_source_code         mmbtu       n    mmbtu_frac\n",
       "0                 NG  9.583923e+10  193469  4.578083e-01\n",
       "1                SUB  5.455862e+10   41837  2.606176e-01\n",
       "2                BIT  4.950069e+10   60145  2.364567e-01\n",
       "3                LIG  6.728104e+09    2087  3.213905e-02\n",
       "4                 PC  9.023792e+08    1280  4.310518e-03\n",
       "5                 WC  7.743216e+08    4789  3.698807e-03\n",
       "6                RFO  6.104007e+08    2392  2.915784e-03\n",
       "7                DFO  4.297075e+08   23477  2.052642e-03\n",
       "8                NaN  8.437856e+04       1  4.030625e-07\n",
       "9                 WO  5.128110e+04      24  2.449614e-07"
      ]
     },
     "execution_count": 17,
     "metadata": {},
     "output_type": "execute_result"
    }
   ],
   "source": [
    "frc_totals['mmbtu_frac'] = frc_totals['mmbtu'] / frc_totals['mmbtu'].sum()\n",
    "frc_totals"
   ]
  },
  {
   "cell_type": "markdown",
   "id": "474595b7-842b-486e-bb83-056ff992b6b8",
   "metadata": {},
   "source": [
    "A trivial amount (<1%) of fuel receipts come from DFO/RFO/WC, so the advantage of the API in fuel precision is small.\n",
    "\n",
    "The additional aggregates (like \"all fossil fuels\" or \"nat gas plus other gas\") could be useful in error checking or possibly for deducing more precise aggregates for redacted items. But that would probably be an involved process."
   ]
  }
 ],
 "metadata": {
  "kernelspec": {
   "display_name": "Python 3 (ipykernel)",
   "language": "python",
   "name": "python3"
  },
  "language_info": {
   "codemirror_mode": {
    "name": "ipython",
    "version": 3
   },
   "file_extension": ".py",
   "mimetype": "text/x-python",
   "name": "python",
   "nbconvert_exporter": "python",
   "pygments_lexer": "ipython3",
   "version": "3.10.8"
  }
 },
 "nbformat": 4,
 "nbformat_minor": 5
}
