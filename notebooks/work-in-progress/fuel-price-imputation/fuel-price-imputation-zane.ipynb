{
 "cells": [
  {
   "cell_type": "code",
   "execution_count": 1,
   "id": "e3ca8e20-4ca5-45e6-923c-38ade983c3e4",
   "metadata": {},
   "outputs": [],
   "source": [
    "%load_ext autoreload\n",
    "%autoreload 3"
   ]
  },
  {
   "cell_type": "code",
   "execution_count": 2,
   "id": "7ee67b0a-9142-4f48-ac2b-d3555b5be8c9",
   "metadata": {},
   "outputs": [
    {
     "name": "stderr",
     "output_type": "stream",
     "text": [
      "/home/zane/mambaforge/envs/pudl-dev/lib/python3.10/site-packages/requests/__init__.py:109: RequestsDependencyWarning: urllib3 (1.26.9) or chardet (5.0.0)/charset_normalizer (2.0.12) doesn't match a supported version!\n",
      "  warnings.warn(\n"
     ]
    }
   ],
   "source": [
    "import logging\n",
    "import sys\n",
    "\n",
    "import numpy as np\n",
    "import pandas as pd\n",
    "import sqlalchemy as sa\n",
    "\n",
    "import matplotlib\n",
    "import matplotlib.pyplot as plt\n",
    "import seaborn as sns\n",
    "\n",
    "from sklearn.compose import ColumnTransformer, make_column_selector, make_column_transformer\n",
    "from sklearn.ensemble import HistGradientBoostingRegressor\n",
    "from sklearn.model_selection import GroupShuffleSplit, GridSearchCV, GroupKFold\n",
    "from sklearn.pipeline import Pipeline\n",
    "from sklearn.preprocessing import OrdinalEncoder\n",
    "\n",
    "import pudl\n",
    "from pudl.output.pudltabl import PudlTabl\n",
    "from pudl.metadata.fields import apply_pudl_dtypes\n",
    "from pudl.metadata.enums import STATE_TO_CENSUS_REGION"
   ]
  },
  {
   "cell_type": "code",
   "execution_count": 3,
   "id": "7d88f170-cd66-4b0c-98df-6e8c0134a8c8",
   "metadata": {},
   "outputs": [],
   "source": [
    "logger = logging.getLogger()\n",
    "logger.setLevel(logging.INFO)\n",
    "handler = logging.StreamHandler(stream=sys.stdout)\n",
    "formatter = logging.Formatter(\"%(message)s\")\n",
    "handler.setFormatter(formatter)\n",
    "logger.handlers = [handler]"
   ]
  },
  {
   "cell_type": "code",
   "execution_count": 4,
   "id": "e9b23bb1-4c4c-4e01-9634-40fbf50e774a",
   "metadata": {},
   "outputs": [],
   "source": [
    "matplotlib.rcParams[\"figure.figsize\"] = (10, 4)\n",
    "matplotlib.rcParams[\"figure.dpi\"] = 150\n",
    "pd.options.display.max_columns = 100\n",
    "pd.options.display.max_rows = 100"
   ]
  },
  {
   "cell_type": "code",
   "execution_count": 5,
   "id": "cd7dfeef-0037-43a3-9df3-ba89639ac270",
   "metadata": {},
   "outputs": [],
   "source": [
    "pudl_settings = pudl.workspace.setup.get_defaults()\n",
    "pudl_engine = sa.create_engine(pudl_settings[\"pudl_db\"])"
   ]
  },
  {
   "cell_type": "markdown",
   "id": "3b7ab5f4-3ce9-4201-b581-ee32799a3d07",
   "metadata": {},
   "source": [
    "# Read data from PUDL DB and create some features "
   ]
  },
  {
   "cell_type": "code",
   "execution_count": 6,
   "id": "770b00f8-8b01-4a9e-9a8d-bfda13ecadcc",
   "metadata": {},
   "outputs": [
    {
     "name": "stdout",
     "output_type": "stream",
     "text": [
      "Query data from the PUDL DB.\n",
      "Assigned state FIPS codes for 98.16% of records.\n",
      "Assigned county FIPS codes for 94.75% of records.\n",
      "<class 'pandas.core.frame.DataFrame'>\n",
      "RangeIndex: 571400 entries, 0 to 571399\n",
      "Data columns (total 39 columns):\n",
      " #   Column                                   Non-Null Count   Dtype         \n",
      "---  ------                                   --------------   -----         \n",
      " 0   plant_id_eia                             571400 non-null  int64         \n",
      " 1   report_date                              571400 non-null  datetime64[ns]\n",
      " 2   contract_type_code                       571400 non-null  category      \n",
      " 3   contract_expiration_date                 248824 non-null  datetime64[ns]\n",
      " 4   energy_source_code                       571400 non-null  category      \n",
      " 5   supplier_name                            571400 non-null  category      \n",
      " 6   fuel_received_units                      571400 non-null  float64       \n",
      " 7   fuel_mmbtu_per_unit                      571400 non-null  float64       \n",
      " 8   sulfur_content_pct                       571400 non-null  float64       \n",
      " 9   ash_content_pct                          571400 non-null  float64       \n",
      " 10  mercury_content_ppm                      281918 non-null  float64       \n",
      " 11  moisture_content_pct                     51697 non-null   float64       \n",
      " 12  chlorine_content_ppm                     51697 non-null   float64       \n",
      " 13  fuel_cost_per_mmbtu                      381214 non-null  float64       \n",
      " 14  primary_transportation_mode_code         571400 non-null  category      \n",
      " 15  secondary_transportation_mode_code       571400 non-null  category      \n",
      " 16  natural_gas_transport_code               571400 non-null  category      \n",
      " 17  natural_gas_delivery_contract_type_code  571400 non-null  category      \n",
      " 18  mine_name                                571400 non-null  category      \n",
      " 19  mine_type_code                           571400 non-null  category      \n",
      " 20  mine_county_id_fips                      571400 non-null  string        \n",
      " 21  mine_state                               571400 non-null  category      \n",
      " 22  mine_id_msha                             187165 non-null  float64       \n",
      " 23  iso_rto_code                             571400 non-null  category      \n",
      " 24  latitude                                 558878 non-null  float64       \n",
      " 25  longitude                                560503 non-null  float64       \n",
      " 26  state                                    571400 non-null  category      \n",
      " 27  county                                   571400 non-null  category      \n",
      " 28  sector_name_eia                          571400 non-null  category      \n",
      " 29  fuel_group_eiaepm                        571400 non-null  category      \n",
      " 30  state_id_fips                            571400 non-null  category      \n",
      " 31  county_id_fips                           571400 non-null  string        \n",
      " 32  elapsed_days                             571400 non-null  int64         \n",
      " 33  remaining_contract_days                  248824 non-null  float64       \n",
      " 34  report_month                             571400 non-null  int64         \n",
      " 35  census_region                            571400 non-null  category      \n",
      " 36  fuel_received_mmbtu                      571400 non-null  float64       \n",
      " 37  mine_plant_same_state                    571400 non-null  boolean       \n",
      " 38  mine_plant_same_county                   571400 non-null  boolean       \n",
      "dtypes: boolean(2), category(17), datetime64[ns](2), float64(13), int64(3), string(2)\n",
      "memory usage: 100.5 MB\n",
      "CPU times: user 37.5 s, sys: 883 ms, total: 38.4 s\n",
      "Wall time: 38.5 s\n"
     ]
    }
   ],
   "source": [
    "%%time\n",
    "sql_select = \"\"\"\n",
    "    -- SQLite\n",
    "    SELECT\n",
    "        frc.plant_id_eia,\n",
    "        frc.report_date,\n",
    "        frc.contract_type_code,\n",
    "        frc.contract_expiration_date,\n",
    "        frc.energy_source_code,\n",
    "        frc.supplier_name, -- Messy\n",
    "        frc.fuel_received_units,\n",
    "        frc.fuel_mmbtu_per_unit,\n",
    "        frc.sulfur_content_pct,\n",
    "        frc.ash_content_pct,\n",
    "        frc.mercury_content_ppm,\n",
    "        frc.moisture_content_pct,\n",
    "        frc.chlorine_content_ppm,\n",
    "        frc.fuel_cost_per_mmbtu,\n",
    "        frc.primary_transportation_mode_code,\n",
    "        frc.secondary_transportation_mode_code,\n",
    "        frc.natural_gas_transport_code,\n",
    "        frc.natural_gas_delivery_contract_type_code,\n",
    "\n",
    "        mine.mine_name, -- Messy string\n",
    "        mine.mine_type_code,\n",
    "        mine.county_id_fips as mine_county_id_fips,\n",
    "        mine.state as mine_state,\n",
    "        mine.mine_id_msha,\n",
    "\n",
    "        entity.iso_rto_code,\n",
    "        entity.latitude,\n",
    "        entity.longitude,\n",
    "        entity.state,\n",
    "        entity.county, -- Add county FIPS code\n",
    "        entity.sector_name_eia,\n",
    "        \n",
    "        esc.fuel_group_eiaepm\n",
    "\n",
    "    FROM fuel_receipts_costs_eia923 as frc\n",
    "    LEFT JOIN coalmine_eia923 as mine\n",
    "        USING (mine_id_pudl)\n",
    "    LEFT JOIN plants_entity_eia as entity\n",
    "        USING (plant_id_eia)\n",
    "    LEFT JOIN energy_sources_eia as esc\n",
    "           ON esc.code = frc.energy_source_code\n",
    "    ;\n",
    "\"\"\"\n",
    "logger.info(\"Query data from the PUDL DB.\")\n",
    "frc_orig = (\n",
    "    pd.read_sql(sql_select, pudl_engine)\n",
    "    .pipe(apply_pudl_dtypes, group=\"eia\")\n",
    "    .pipe(pudl.helpers.add_fips_ids)\n",
    "    .assign(\n",
    "        # Remove 225 totally ridiculous outliers that skew the results\n",
    "        fuel_cost_per_mmbtu=lambda x: np.where(((x.fuel_cost_per_mmbtu < 0.001) | (x.fuel_cost_per_mmbtu > 1000)), np.nan, x.fuel_cost_per_mmbtu),\n",
    "        # Numerical representation of elapsed time\n",
    "        elapsed_days=lambda x: (x.report_date - x.report_date.min()).dt.days,\n",
    "        # Time until current contract expires\n",
    "        remaining_contract_days=lambda x: (x.contract_expiration_date - x.report_date).dt.days,\n",
    "        # Categorical months, to capture cyclical seasonal variability\n",
    "        report_month=lambda x: x.report_date.dt.month,\n",
    "        # Larger geographic area more likely to have lots of records\n",
    "        census_region=lambda x: x.state.map(STATE_TO_CENSUS_REGION),\n",
    "        # Need the total MMBTU for weighting the importance of the record\n",
    "        # May also be predictive -- small deliveries seem more likely to be expensive\n",
    "        fuel_received_mmbtu=lambda x: x.fuel_received_units * x.fuel_mmbtu_per_unit,\n",
    "        mine_plant_same_state=lambda x: (x.state == x.mine_state).fillna(False),\n",
    "        mine_plant_same_county=lambda x: (x.county_id_fips == x.mine_county_id_fips).fillna(False),\n",
    "    )\n",
    "    .convert_dtypes(convert_floating=False, convert_integer=False)\n",
    "    .astype({\n",
    "        \"mine_id_msha\": float,\n",
    "        \"plant_id_eia\": int,\n",
    "    })\n",
    ")\n",
    "# The HistGBR model and OrdinalEncoder are supposedly fine with NA values but...\n",
    "string_cols = frc_orig.select_dtypes(\"string\").columns\n",
    "frc_orig.loc[:, string_cols] = frc_orig[string_cols].fillna(\"NULL\")\n",
    "\n",
    "# There are too many FIPS codes to treat them like categories\n",
    "bad_categories = [\"county_id_fips\", \"mine_county_id_fips\"]\n",
    "category_cols = {col: \"category\" for col in string_cols if col not in bad_categories}\n",
    "\n",
    "frc_orig = frc_orig.astype(category_cols)\n",
    "\n",
    "# Preserve the original so we can compare later\n",
    "frc = frc_orig.copy()\n",
    "\n",
    "frc.info()"
   ]
  },
  {
   "cell_type": "markdown",
   "id": "e072dbe3-a84d-43c5-b092-dcb58a86df66",
   "metadata": {},
   "source": [
    "# Select features to use"
   ]
  },
  {
   "cell_type": "code",
   "execution_count": 7,
   "id": "92128a93-5929-47be-a8a5-c61b438a6291",
   "metadata": {},
   "outputs": [],
   "source": [
    "feature_cols = [\n",
    "# Categorical\n",
    "    \"energy_source_code\",\n",
    "#    \"contract_type_code\",\n",
    "#    \"primary_transportation_mode_code\",\n",
    "#    \"natural_gas_delivery_contract_type_code\",\n",
    "#    \"natural_gas_transport_code\",\n",
    "#    \"mine_type_code\",\n",
    "#   \"mine_state\",\n",
    "#    \"iso_rto_code\",\n",
    "#   \"sector_name_eia\",\n",
    "#   \"county_id_fips\",\n",
    "#   \"mine_plant_same_state\",  # bool\n",
    "#   \"mine_plant_same_county\", # bool\n",
    "    \"state\",\n",
    "#   \"census_region\",\n",
    "#   \"secondary_transportation_mode_code\",\n",
    "#   \"mine_county_id_fips\",\n",
    "#   \"fuel_group_eiaepm\",\n",
    "    \n",
    "# Numerical\n",
    "#   \"mine_id_msha\",\n",
    "#   \"latitude\",\n",
    "#   \"longitude\",\n",
    "#   \"sulfur_content_pct\",\n",
    "#   \"ash_content_pct\",\n",
    "#   \"moisture_content_pct\",\n",
    "#   \"mercury_content_ppm\",\n",
    "#   \"chlorine_content_ppm\",\n",
    "#   \"remaining_contract_days\",\n",
    "#   \"plant_id_eia\", \n",
    "    \"report_month\",\n",
    "    \"elapsed_days\",\n",
    "#   \"fuel_received_mmbtu\",\n",
    "#   \"fuel_cost_per_mmbtu\",\n",
    "#   \"fuel_mmbtu_per_unit\",\n",
    "#   \"fuel_received_units\",\n",
    "]\n",
    "\n",
    "# Records where we have the target value:\n",
    "frc_train = frc.loc[frc.fuel_cost_per_mmbtu.notna(), feature_cols]\n",
    "\n",
    "# Relative importance of each of the records:\n",
    "sample_weight = frc.loc[frc.fuel_cost_per_mmbtu.notna(), \"fuel_received_mmbtu\"]\n",
    "\n",
    "# The values we're trying to predict:\n",
    "frc_target = frc.loc[frc.fuel_cost_per_mmbtu.notna(), \"fuel_cost_per_mmbtu\"]\n",
    "\n",
    "# Records where we're missing the target value:\n",
    "frc_to_predict = frc.loc[frc.fuel_cost_per_mmbtu.isna(), feature_cols]"
   ]
  },
  {
   "cell_type": "code",
   "execution_count": 8,
   "id": "1cc05c27-606d-48ab-aaf4-6a0d66497b37",
   "metadata": {},
   "outputs": [
    {
     "name": "stdout",
     "output_type": "stream",
     "text": [
      "<class 'pandas.core.frame.DataFrame'>\n",
      "Int64Index: 381214 entries, 0 to 571399\n",
      "Data columns (total 4 columns):\n",
      " #   Column              Non-Null Count   Dtype   \n",
      "---  ------              --------------   -----   \n",
      " 0   energy_source_code  381214 non-null  category\n",
      " 1   state               381214 non-null  category\n",
      " 2   report_month        381214 non-null  int64   \n",
      " 3   elapsed_days        381214 non-null  int64   \n",
      "dtypes: category(2), int64(2)\n",
      "memory usage: 9.5 MB\n"
     ]
    }
   ],
   "source": [
    "frc_train.info()"
   ]
  },
  {
   "cell_type": "markdown",
   "id": "0cf4b771-40b3-4f49-822f-72be94ac7c37",
   "metadata": {},
   "source": [
    "# Build a Pipeline"
   ]
  },
  {
   "cell_type": "code",
   "execution_count": 9,
   "id": "2d49ac7e-bb0f-4034-8d14-6f0236e596d5",
   "metadata": {},
   "outputs": [],
   "source": [
    "# Identify which columns should be treated as categorical features:\n",
    "cat_cols_idx = frc_train.columns.get_indexer(frc_train.select_dtypes(\"category\").columns)\n",
    "\n",
    "ord_enc = make_column_transformer(\n",
    "    (\n",
    "        OrdinalEncoder(handle_unknown=\"use_encoded_value\", unknown_value=np.nan),\n",
    "        make_column_selector(dtype_include=[\"category\", \"string\"]),\n",
    "    ),\n",
    "    remainder=\"passthrough\",\n",
    ")\n",
    "\n",
    "fuel_price_estimator = Pipeline([\n",
    "    (\"ord_enc\", ord_enc),\n",
    "    (\"hist_gbr\", HistGradientBoostingRegressor(loss=\"absolute_error\", categorical_features=cat_cols_idx, random_state=666)),\n",
    "    #(\"hist_gbr\", HistGradientBoostingRegressor(loss=\"quantile\", quantile=0.5, categorical_features=cat_cols_idx, random_state=666)),\n",
    "])"
   ]
  },
  {
   "cell_type": "markdown",
   "id": "f2f3ca17-fee2-4c8c-9c7a-b5a147505a66",
   "metadata": {},
   "source": [
    "# Grid Search Cross Validation"
   ]
  },
  {
   "cell_type": "code",
   "execution_count": 10,
   "id": "27340fbf-c66b-4336-a3f3-1b4c6081333d",
   "metadata": {
    "tags": []
   },
   "outputs": [
    {
     "data": {
      "text/plain": [
       "{'hist_gbr__learning_rate': 0.1,\n",
       " 'hist_gbr__max_depth': 7,\n",
       " 'hist_gbr__max_iter': 1000,\n",
       " 'hist_gbr__max_leaf_nodes': 31,\n",
       " 'hist_gbr__min_samples_leaf': 20}"
      ]
     },
     "metadata": {},
     "output_type": "display_data"
    },
    {
     "data": {
      "text/plain": [
       "-0.5895969415070624"
      ]
     },
     "metadata": {},
     "output_type": "display_data"
    },
    {
     "name": "stdout",
     "output_type": "stream",
     "text": [
      "CPU times: user 1min 23s, sys: 623 ms, total: 1min 23s\n",
      "Wall time: 2min 9s\n"
     ]
    },
    {
     "data": {
      "image/png": "[encoded data removed]",
      "text/plain": [
       "<Figure size 432x288 with 1 Axes>"
      ]
     },
     "metadata": {
      "needs_background": "light"
     },
     "output_type": "display_data"
    }
   ],
   "source": [
    "%%time\n",
    "\n",
    "# Split based on Plant ID to avoid plant information leaking between test / training\n",
    "gss = GroupShuffleSplit(n_splits=5, random_state=666)\n",
    "gss_split = gss.split(frc_train, groups=frc_train[\"state\"])\n",
    "# This grid took 4h21m to run\n",
    "param_grid = {\n",
    "#    \"hist_gbr__max_depth\": [3, 5, 7],\n",
    "#    \"hist_gbr__max_leaf_nodes\": [7, 15, 31],\n",
    "#    \"hist_gbr__learning_rate\": [0.05, 0.1, 0.2, 0.4],\n",
    "#    \"hist_gbr__max_iter\": [100, 1000],\n",
    "#    \"hist_gbr__min_samples_leaf\": [25, 50, 100],\n",
    "    \"hist_gbr__learning_rate\": [0.1],\n",
    "    \"hist_gbr__max_depth\": [7],\n",
    "    \"hist_gbr__max_leaf_nodes\": [31],\n",
    "    \"hist_gbr__max_iter\": [1000],\n",
    "    \"hist_gbr__min_samples_leaf\": [20],\n",
    "}\n",
    "\n",
    "# Define hyperparameter space to search:\n",
    "grid = GridSearchCV(\n",
    "    fuel_price_estimator,\n",
    "    param_grid=param_grid,\n",
    "    cv=gss_split,\n",
    "    scoring='neg_median_absolute_error',\n",
    "    n_jobs=-1,\n",
    ")\n",
    "\n",
    "# Train up all the models and store the results.\n",
    "# Weight samples by `sample_weight` during training.\n",
    "result = grid.fit(\n",
    "    X=frc_train,\n",
    "    y=frc_target,\n",
    "    hist_gbr__sample_weight=sample_weight,\n",
    ")\n",
    "plt.hist(result.cv_results_[\"mean_test_score\"]);\n",
    "\n",
    "# Best estimator from the GridSearchCV\n",
    "fuel_price_estimator = grid.best_estimator_\n",
    "\n",
    "display(result.best_params_)\n",
    "# {'hist_gbr__learning_rate': 0.1,\n",
    "# 'hist_gbr__max_depth': 7,\n",
    "# 'hist_gbr__max_iter': 1000,\n",
    "# 'hist_gbr__max_leaf_nodes': 31,\n",
    "# 'hist_gbr__min_samples_leaf': 25}\n",
    "display(result.best_score_)\n",
    "# -0.48774031431806203"
   ]
  },
  {
   "cell_type": "markdown",
   "id": "d39ed40f-94e7-428a-9fd9-ecd860db5afc",
   "metadata": {},
   "source": [
    "# Train estimate and predict ALL fuel pirces"
   ]
  },
  {
   "cell_type": "code",
   "execution_count": 11,
   "id": "f91dcce2-4145-4ce5-9cdd-e9baa2ced22b",
   "metadata": {},
   "outputs": [
    {
     "name": "stdout",
     "output_type": "stream",
     "text": [
      "CPU times: user 2min 6s, sys: 627 ms, total: 2min 6s\n",
      "Wall time: 50.4 s\n"
     ]
    }
   ],
   "source": [
    "%%time\n",
    "\n",
    "# After selecting the best hyperparameters from the GridSearchCV,\n",
    "# Retrain the model using all of the available training data\n",
    "_ = fuel_price_estimator.fit(\n",
    "    X=frc_train,\n",
    "    y=frc_target,\n",
    "   hist_gbr__sample_weight=sample_weight,\n",
    ")\n",
    "\n",
    "# Use it to predict ALL fuel prices\n",
    "fuel_cost_per_mmbtu_predicted = fuel_price_estimator.predict(X=pd.concat([frc_to_predict, frc_train]))\n",
    "\n",
    "# Re-assemble the original data with our new predictions\n",
    "frc_predicted = (\n",
    "    frc.copy()\n",
    "    .assign(\n",
    "        fuel_cost_per_mmbtu=frc_target,\n",
    "        fuel_cost_per_mmbtu_predicted=fuel_cost_per_mmbtu_predicted,\n",
    "        fuel_cost_total=lambda x: x.fuel_cost_per_mmbtu * x.fuel_received_mmbtu,\n",
    "        fuel_cost_total_predicted=lambda x: x.fuel_cost_per_mmbtu_predicted * x.fuel_received_mmbtu,\n",
    "    )\n",
    ")"
   ]
  },
  {
   "cell_type": "code",
   "execution_count": 12,
   "id": "8a65b333-191e-45cc-b26d-60d1312c945f",
   "metadata": {},
   "outputs": [
    {
     "ename": "AssertionError",
     "evalue": "",
     "output_type": "error",
     "traceback": [
      "\u001b[0;31m---------------------------------------------------------------------------\u001b[0m",
      "\u001b[0;31mAssertionError\u001b[0m                            Traceback (most recent call last)",
      "Input \u001b[0;32mIn [12]\u001b[0m, in \u001b[0;36m<cell line: 1>\u001b[0;34m()\u001b[0m\n\u001b[0;32m----> 1\u001b[0m \u001b[38;5;28;01massert\u001b[39;00m \u001b[38;5;28;01mFalse\u001b[39;00m\n",
      "\u001b[0;31mAssertionError\u001b[0m: "
     ]
    }
   ],
   "source": [
    "assert False"
   ]
  },
  {
   "cell_type": "markdown",
   "id": "dc785b65-a752-4bc9-a4ff-f4db70344bdc",
   "metadata": {},
   "source": [
    "# Visualize fuel price predictions\n",
    "* Time series by (fuel, state):\n",
    "  * Predicted vs Reported for test/train\n",
    "  * Time series where gaps are filled, highlighting original / filled values\n",
    "* Distribution of Predicted vs. Reported values for test/train data"
   ]
  },
  {
   "cell_type": "markdown",
   "id": "c6d1240d-302f-42da-ba7d-2246ad366019",
   "metadata": {},
   "source": [
    "## Fuel price histograms"
   ]
  },
  {
   "cell_type": "code",
   "execution_count": null,
   "id": "d712f59f-21cd-4bbe-9bc4-2974f743645a",
   "metadata": {},
   "outputs": [],
   "source": [
    "def compare_price_distribution(df, fuel_col, weights, fuel_code=None, state=None, **kwargs):\n",
    "    if fuel_code:\n",
    "        df = df[df[fuel_col]==fuel_code]\n",
    "    if state:\n",
    "        df = df[df.state==state]\n",
    "    if df.empty:\n",
    "        return\n",
    "\n",
    "    plt.hist(\n",
    "        df.fuel_cost_per_mmbtu,\n",
    "        weights=df[weights],\n",
    "        label=\"Reported\",\n",
    "        alpha=0.5,\n",
    "        **kwargs\n",
    "    )\n",
    "    plt.hist(\n",
    "        df[df.fuel_cost_per_mmbtu.notna()][\"fuel_cost_per_mmbtu_predicted\"],\n",
    "        weights=df[df.fuel_cost_per_mmbtu.notna()][weights],\n",
    "        label=\"Predicted\",\n",
    "        alpha=0.5,\n",
    "        **kwargs\n",
    "    )\n",
    "    plt.xlabel(\"Fuel Price [$/MMBTU]\")\n",
    "    plt.title(f\"{state} {fuel_col}: {fuel_code}\")\n",
    "    plt.legend()\n",
    "    plt.show();"
   ]
  },
  {
   "cell_type": "code",
   "execution_count": null,
   "id": "af957542-3f24-4312-ac49-cde172d820a6",
   "metadata": {},
   "outputs": [],
   "source": [
    "matplotlib.rcParams[\"figure.figsize\"] = (10, 4)\n",
    "matplotlib.rcParams[\"figure.dpi\"] = 150\n",
    "\n",
    "states = sorted(frc_predicted.state.unique())\n",
    "states = sorted([\"AL\", \"NY\", \"CA\", \"CO\", \"FL\", \"TX\"])\n",
    "\n",
    "for state in sorted(frc_predicted.state.unique()):\n",
    "    for fuel_code in [\"coal\", \"natural_gas\", \"petroleum\"]:\n",
    "        compare_price_distribution(\n",
    "            df=frc_predicted,\n",
    "            fuel_col=\"fuel_group_eiaepm\",\n",
    "            weights=\"fuel_received_mmbtu\",\n",
    "            fuel_code=fuel_code,\n",
    "            state=state,\n",
    "            bins=100,\n",
    "            range=(0,25),\n",
    "        )"
   ]
  },
  {
   "cell_type": "markdown",
   "id": "22bb4690-c70c-42af-90f5-88fbcf28bad9",
   "metadata": {},
   "source": [
    "## Joint Price Distributions by Fuel"
   ]
  },
  {
   "cell_type": "code",
   "execution_count": null,
   "id": "f1163c1a-6a34-4246-b30a-3367a01717a7",
   "metadata": {},
   "outputs": [],
   "source": [
    "def fuel_price_joint_grid(df, fuel_col=None, fuel_code=None, xlim=None, cmap=\"viridis\"):\n",
    "    if fuel_col and fuel_code:\n",
    "        df = df.loc[df[fuel_col] == fuel_code]\n",
    "    if df[\"fuel_cost_per_mmbtu_predicted\"].empty or df[\"fuel_cost_per_mmbtu\"].empty:\n",
    "        return\n",
    "    if not xlim:\n",
    "        predicted_95 = df[\"fuel_cost_per_mmbtu_predicted\"].quantile(0.95)\n",
    "        reported_95 = df[\"fuel_cost_per_mmbtu\"].quantile(0.95)\n",
    "        xlim = (0, max(predicted_95, reported_95))\n",
    "    g = sns.JointGrid(\n",
    "        data=df,\n",
    "        x=\"fuel_cost_per_mmbtu\",\n",
    "        y=\"fuel_cost_per_mmbtu_predicted\",\n",
    "        xlim=xlim,\n",
    "        ylim=xlim,\n",
    "        dropna=True,\n",
    "    )\n",
    "    g.plot_joint(\n",
    "        sns.kdeplot,\n",
    "        weights=df[\"fuel_received_mmbtu\"],\n",
    "        cmap=cmap,\n",
    "        fill=True,\n",
    "        clip=(xlim, xlim),\n",
    "        levels=100,\n",
    "        gridsize=100,\n",
    "        thresh=0,\n",
    "    )\n",
    "    g.plot_marginals(\n",
    "        sns.histplot,\n",
    "        weights=df[\"fuel_received_mmbtu\"],\n",
    "        binrange=xlim,\n",
    "        stat=\"density\",\n",
    "        bins=100,\n",
    "        linewidth=0,\n",
    "        color=matplotlib.cm.get_cmap(cmap)(0.1),\n",
    "        alpha=1.0,\n",
    "    )\n",
    "    g.set_axis_labels(\n",
    "        \"Reported [$/MMBTU]\",\n",
    "        \"Predicted [$/MMBTU]\",\n",
    "    )\n",
    "    plt.suptitle(f\"{fuel_col}: {fuel_code}\", x=0.75)\n",
    "    plt.show();\n",
    "    \n",
    "def all_fuel_price_joint_grids(df, fuel_col, xlim=None, cmap=\"viridis\"):\n",
    "    for fuel_code in df[fuel_col].unique():\n",
    "        logger.info(f\"Plotting: {fuel_col}={fuel_code}\")\n",
    "        if fuel_code == \"NULL\":\n",
    "            continue\n",
    "        try:\n",
    "            fuel_price_joint_grid(df, fuel_col=fuel_col, fuel_code=fuel_code, cmap=cmap)\n",
    "        except:\n",
    "            continue"
   ]
  },
  {
   "cell_type": "code",
   "execution_count": null,
   "id": "7786b3d5-1efc-4064-b340-8607c89d7152",
   "metadata": {},
   "outputs": [],
   "source": [
    "%%time\n",
    "all_fuel_price_joint_grids(frc_predicted, \"energy_source_code\")\n",
    "#all_fuel_price_joint_grids(frc_predicted, \"fuel_group_eiaepm\")"
   ]
  },
  {
   "cell_type": "code",
   "execution_count": null,
   "id": "0668d366-1f0d-45df-8b10-ff59ab28b5c8",
   "metadata": {},
   "outputs": [],
   "source": [
    "assert False"
   ]
  },
  {
   "cell_type": "markdown",
   "id": "753bdcc9-fa23-44ca-a2f6-2c74a83ea694",
   "metadata": {},
   "source": [
    "## Time Series by State & Fuel"
   ]
  },
  {
   "cell_type": "code",
   "execution_count": null,
   "id": "cafbc780-506f-48ad-aea6-62896f5ae3ed",
   "metadata": {},
   "outputs": [],
   "source": [
    "%%time\n",
    "frc_predicted_state_fuel = (\n",
    "    frc_predicted.groupby([\"state\", \"fuel_group_eiaepm\", \"report_date\"], observed=True)[[\n",
    "        \"fuel_cost_total_predicted\",\n",
    "        \"fuel_cost_total\",\n",
    "        \"fuel_received_mmbtu\",\n",
    "    ]].sum(min_count=1)\n",
    "    .assign(\n",
    "        fuel_cost_per_mmbtu=lambda x: x.fuel_cost_total / x.fuel_received_mmbtu,\n",
    "        fuel_cost_per_mmbtu_predicted=lambda x: x.fuel_cost_total_predicted / x.fuel_received_mmbtu,\n",
    "    )\n",
    "    .drop(columns=[\"fuel_cost_total_predicted\", \"fuel_cost_total\", \"fuel_received_mmbtu\"])\n",
    "    .rename(columns={\n",
    "        \"fuel_cost_per_mmbtu\": \"reported\",\n",
    "        \"fuel_cost_per_mmbtu_predicted\": \"predicted\",\n",
    "    })\n",
    "    .stack(dropna=False)\n",
    "    .to_frame().reset_index()\n",
    "    .astype({\n",
    "        \"state\": \"string\",\n",
    "        \"fuel_group_eiaepm\": \"string\",\n",
    "    })\n",
    "    .query(\"state!='NULL' & fuel_group_eiaepm!='NULL'\")\n",
    "    .rename(columns={\n",
    "        \"level_3\": \"source\",\n",
    "        0: \"fuel_price\",\n",
    "        \"fuel_group_eiaepm\": \"fuel_group\",\n",
    "    })\n",
    ")\n",
    "\n",
    "frc_predicted_state_fuel"
   ]
  },
  {
   "cell_type": "code",
   "execution_count": null,
   "id": "ecec2b01-8536-40da-bff3-ca55229fee97",
   "metadata": {},
   "outputs": [],
   "source": [
    "states = [\"NY\", \"FL\", \"CA\", \"TX\"]\n",
    "fuels = [\"coal\", \"natural_gas\"]\n",
    "df = frc_predicted_state_fuel[\n",
    "    # (frc_predicted_state_fuel.state.isin(states))\n",
    "    (frc_predicted_state_fuel.fuel_group.isin(fuels))\n",
    "]\n",
    "sns.relplot(\n",
    "    data=df,\n",
    "    x=\"report_date\",\n",
    "    y=\"fuel_price\",\n",
    "    hue=\"source\",\n",
    "    style=\"source\",\n",
    "    kind=\"line\",\n",
    "    row=\"state\",\n",
    "    col=\"fuel_group\",\n",
    "    height=3,\n",
    "    aspect=3,\n",
    ")"
   ]
  },
  {
   "cell_type": "code",
   "execution_count": null,
   "id": "8ddd8aad-22cc-4726-be98-64763ebccde3",
   "metadata": {},
   "outputs": [],
   "source": [
    "mfcs = {\n",
    "    \"energy_source_code\": [\"BIT\", \"SUB\", \"LIG\", \"NG\", \"DFO\", \"RFO\"],\n",
    "    \"fuel_group_eiaepm\": [\"coal\", \"petroleum\", \"natural_gas\"],\n",
    "}\n",
    "mfc = \"energy_source_code\"\n",
    "# mfc = \"fuel_group_eiaepm\"\n",
    "mfcs[mfc]"
   ]
  },
  {
   "cell_type": "code",
   "execution_count": null,
   "id": "55548bf1-1e52-4709-9465-f10303501e4b",
   "metadata": {},
   "outputs": [],
   "source": [
    "logger.info(\"Predicted Fuel Prices\")\n",
    "sns.displot(\n",
    "    data=frc_predicted[frc_predicted[mfc].isin(mfcs[mfc])],\n",
    "    x=\"fuel_cost_per_mmbtu\",\n",
    "    row=mfc,\n",
    "    bins=400,\n",
    "    weights=frc_predicted[frc_predicted[mfc].isin(mfcs[mfc])][\"fuel_received_mmbtu\"],\n",
    "    binrange=(0,40),\n",
    "    height=2,\n",
    "    aspect=4,\n",
    "    linewidth=0,\n",
    "    stat=\"density\",\n",
    "    common_norm=False,\n",
    ")\n",
    "plt.show();\n",
    "\n",
    "logger.info(\"Observed Fuel Prices\")\n",
    "sns.displot(\n",
    "    data=frc_train_test[frc_train_test[mfc].isin(mfcs[mfc])],\n",
    "    x=\"fuel_cost_per_mmbtu\",\n",
    "    row=mfc,\n",
    "    bins=400,\n",
    "    weights=frc_train_test[frc_train_test[mfc].isin(mfcs[mfc])][\"fuel_received_mmbtu\"],\n",
    "    binrange=(0,40),\n",
    "    height=2,\n",
    "    aspect=4,\n",
    "    linewidth=0,\n",
    "    stat=\"density\",\n",
    "    common_norm=False,\n",
    ")\n",
    "plt.show();"
   ]
  }
 ],
 "metadata": {
  "kernelspec": {
   "display_name": "Python 3 (ipykernel)",
   "language": "python",
   "name": "python3"
  },
  "language_info": {
   "codemirror_mode": {
    "name": "ipython",
    "version": 3
   },
   "file_extension": ".py",
   "mimetype": "text/x-python",
   "name": "python",
   "nbconvert_exporter": "python",
   "pygments_lexer": "ipython3",
   "version": "3.10.5"
  }
 },
 "nbformat": 4,
 "nbformat_minor": 5
}
