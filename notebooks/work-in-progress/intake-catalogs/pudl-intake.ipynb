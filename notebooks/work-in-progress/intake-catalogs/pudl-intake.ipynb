{
 "cells": [
  {
   "cell_type": "markdown",
   "metadata": {
    "tags": []
   },
   "source": [
    "# Notebook Preamble"
   ]
  },
  {
   "cell_type": "markdown",
   "metadata": {},
   "source": [
    "## IPython Magic"
   ]
  },
  {
   "cell_type": "code",
   "execution_count": null,
   "metadata": {},
   "outputs": [],
   "source": [
    "%load_ext autoreload\n",
    "%autoreload 3"
   ]
  },
  {
   "cell_type": "markdown",
   "metadata": {
    "tags": []
   },
   "source": [
    "## Notebook Imports"
   ]
  },
  {
   "cell_type": "code",
   "execution_count": null,
   "metadata": {},
   "outputs": [],
   "source": [
    "# Standard Library Imports\n",
    "import logging\n",
    "import os\n",
    "import pathlib\n",
    "import sys\n",
    "from typing import List\n",
    "from pathlib import Path\n",
    "\n",
    "# 3rd Party Imports:\n",
    "import numpy as np\n",
    "import pandas as pd\n",
    "import sqlalchemy as sa\n",
    "import pyarrow as pa\n",
    "import pyarrow.parquet as pq\n",
    "from intake import open_catalog\n",
    "\n",
    "# Local Imports\n",
    "import pudl\n",
    "from pudl.output.pudltabl import PudlTabl\n",
    "from pudl.metadata.classes import Resource\n",
    "from pudl.output.epacems import year_state_filter"
   ]
  },
  {
   "cell_type": "markdown",
   "metadata": {},
   "source": [
    "## Set up a logger"
   ]
  },
  {
   "cell_type": "code",
   "execution_count": null,
   "metadata": {},
   "outputs": [],
   "source": [
    "logger = logging.getLogger()\n",
    "logger.setLevel(logging.INFO)\n",
    "handler = logging.StreamHandler(stream=sys.stdout)\n",
    "formatter = logging.Formatter(\"%(message)s\")\n",
    "handler.setFormatter(formatter)\n",
    "logger.handlers = [handler]"
   ]
  },
  {
   "cell_type": "markdown",
   "metadata": {},
   "source": [
    "## Set up standard PUDL DB connections"
   ]
  },
  {
   "cell_type": "code",
   "execution_count": null,
   "metadata": {},
   "outputs": [],
   "source": [
    "pudl_settings = pudl.workspace.setup.get_defaults()\n",
    "ferc1_engine = sa.create_engine(pudl_settings[\"ferc1_db\"])\n",
    "pudl_engine = sa.create_engine(pudl_settings[\"pudl_db\"])\n",
    "\n",
    "pudl_out_raw = pudl.output.pudltabl.PudlTabl(pudl_engine=pudl_engine)\n",
    "pudl_out = pudl_out_raw\n",
    "\n",
    "pudl_settings"
   ]
  },
  {
   "cell_type": "markdown",
   "metadata": {},
   "source": [
    "# Re-organize PUDL Parquet Files\n",
    "Re-organizing the existing PUDL parquet datasets for inclusion in the experimental catalog"
   ]
  },
  {
   "cell_type": "code",
   "execution_count": null,
   "metadata": {},
   "outputs": [],
   "source": [
    "epacems_dir = pudl_settings[\"parquet_dir\"] + \"/epacems\"\n",
    "\n",
    "emissions_categories =  {\n",
    "    \"so2_mass_measurement_code\": pd.CategoricalDtype(),\n",
    "    \"co2_mass_measurement_code\": pd.CategoricalDtype(),\n",
    "    \"nox_mass_measurement_code\": pd.CategoricalDtype(),\n",
    "    \"nox_rate_measurement_code\": pd.CategoricalDtype(),\n",
    "}"
   ]
  },
  {
   "cell_type": "markdown",
   "metadata": {
    "tags": []
   },
   "source": [
    "## Single file, year-state row groups"
   ]
  },
  {
   "cell_type": "code",
   "execution_count": null,
   "metadata": {},
   "outputs": [],
   "source": [
    "def epacems_single_file(\n",
    "    years: List[int],\n",
    "    input_dir: str,\n",
    "    outfile: str,\n",
    "    states: List[str] = pudl.metadata.enums.EPACEMS_STATES,\n",
    ") -> None:\n",
    "    schema = pq.read_table(\n",
    "        source=input_dir,\n",
    "        filters=year_state_filter(years=[2020], states=[\"ID\"])\n",
    "    ).schema\n",
    "\n",
    "    if Path(outfile).exists():\n",
    "        os.unlink(outfile)\n",
    "        \n",
    "    with pq.ParquetWriter(\n",
    "        where=outfile, schema=schema, compression=\"snappy\", version=\"2.6\",\n",
    "    ) as pqwriter:\n",
    "        for year in years:\n",
    "            print(year, end=\" \")\n",
    "            for state in states:\n",
    "                filters=year_state_filter(years=[year], states=[state])\n",
    "                table = pq.read_table(source=input_dir, filters=filters)\n",
    "                pqwriter.write_table(table)\n",
    "                del table\n",
    "        print(\"\")"
   ]
  },
  {
   "cell_type": "code",
   "execution_count": null,
   "metadata": {},
   "outputs": [],
   "source": [
    "%%time\n",
    "epacems_single_file(\n",
    "    years=range(1995,2021),\n",
    "    input_dir=epacems_dir,\n",
    "    outfile=\"hourly_emissions_epacems.parquet\",\n",
    ")"
   ]
  },
  {
   "cell_type": "markdown",
   "metadata": {
    "tags": []
   },
   "source": [
    "## Year + State Partitioning + Row Groups"
   ]
  },
  {
   "cell_type": "code",
   "execution_count": null,
   "metadata": {},
   "outputs": [],
   "source": [
    "def epacems_multi_file(\n",
    "    years: List[int],\n",
    "    input_dir: str,\n",
    "    output_dir: str,\n",
    "    states: List[str] = pudl.metadata.enums.EPACEMS_STATES,\n",
    ") -> None:\n",
    "    schema = pq.read_table(\n",
    "        source=input_dir,\n",
    "        filters=year_state_filter(years=[2020], states=[\"ID\"])\n",
    "    ).schema\n",
    "\n",
    "    for year in years:\n",
    "        print(year, end=\": \")\n",
    "        for state in states:\n",
    "            print(state, end=\" \")\n",
    "            outfile = output_dir + f\"/epacems-{year}-{state}.parquet\"\n",
    "            if Path(outfile).exists():\n",
    "                os.unlink(outfile)\n",
    "            with pq.ParquetWriter(\n",
    "                where=outfile, schema=schema, compression=\"snappy\", version=\"2.6\",\n",
    "            ) as pqwriter:\n",
    "                filters=year_state_filter(years=[year], states=[state])\n",
    "                table = pq.read_table(source=input_dir, filters=filters)\n",
    "                pqwriter.write_table(table)\n",
    "                del table\n",
    "        print(\"\")"
   ]
  },
  {
   "cell_type": "code",
   "execution_count": null,
   "metadata": {
    "tags": []
   },
   "outputs": [],
   "source": [
    "%%time\n",
    "epacems_multi_file(\n",
    "    years=range(1995, 2021),\n",
    "    input_dir=epacems_dir,\n",
    "    output_dir=\"hourly_emissions_epacems\"\n",
    ")"
   ]
  },
  {
   "cell_type": "markdown",
   "metadata": {},
   "source": [
    "# Test Parquet Performance"
   ]
  },
  {
   "cell_type": "code",
   "execution_count": null,
   "metadata": {},
   "outputs": [],
   "source": [
    "TEST_FILTERS = year_state_filter(years=[2019, 2020], states=[\"CO\", \"TX\", \"ID\"])\n",
    "INTAKE_PATH_LOCAL = Path(os.getcwd())\n",
    "INTAKE_PATH_REMOTE = \"gs://catalyst.coop/intake/test\"\n",
    "\n",
    "local_single_file = str(INTAKE_PATH_LOCAL / \"hourly_emissions_epacems.parquet\")\n",
    "local_multi_file = str(INTAKE_PATH_LOCAL / \"hourly_emissions_epacems\")\n",
    "remote_single_file = INTAKE_PATH_REMOTE + \"/hourly_emissions_epacems.parquet\"\n",
    "remote_multi_file = INTAKE_PATH_REMOTE + \"/hourly_emissions_epacems\"\n",
    "\n",
    "pudl_catalog_path = str(INTAKE_PATH_LOCAL / \"pudl-catalog.yml\")"
   ]
  },
  {
   "cell_type": "markdown",
   "metadata": {},
   "source": [
    "## PUDL Hive Baseline"
   ]
  },
  {
   "cell_type": "code",
   "execution_count": null,
   "metadata": {},
   "outputs": [],
   "source": [
    "%%time\n",
    "pudl_hive = pd.read_parquet(\n",
    "    epacems_dir,\n",
    "    engine=\"pyarrow\",\n",
    "    filters=TEST_FILTERS,\n",
    "    use_nullable_dtypes=True,\n",
    ").astype(emissions_categories)\n",
    "pudl_hive.info(show_counts=True, memory_usage=\"deep\")"
   ]
  },
  {
   "cell_type": "markdown",
   "metadata": {},
   "source": [
    "## Single File Local Direct"
   ]
  },
  {
   "cell_type": "code",
   "execution_count": null,
   "metadata": {},
   "outputs": [],
   "source": [
    "%%time\n",
    "single_file_local_direct_df = pd.read_parquet(\n",
    "    local_single_file,\n",
    "    engine=\"pyarrow\",\n",
    "    filters=TEST_FILTERS,\n",
    "    use_nullable_dtypes=True,\n",
    ").astype(emissions_categories)\n",
    "single_file_local_direct_df.info(show_counts=True, memory_usage=\"deep\")"
   ]
  },
  {
   "cell_type": "markdown",
   "metadata": {},
   "source": [
    "## Single File Remote Direct"
   ]
  },
  {
   "cell_type": "code",
   "execution_count": null,
   "metadata": {},
   "outputs": [],
   "source": [
    "%%time\n",
    "single_file_remote_direct_df = pd.read_parquet(\n",
    "    remote_single_file,\n",
    "    engine=\"pyarrow\",\n",
    "    filters=TEST_FILTERS,\n",
    "    use_nullable_dtypes=True,\n",
    ").astype(emissions_categories)\n",
    "single_file_remote_direct_df.info(show_counts=True, memory_usage=\"deep\")"
   ]
  },
  {
   "cell_type": "markdown",
   "metadata": {},
   "source": [
    "## Single File Local Intake"
   ]
  },
  {
   "cell_type": "code",
   "execution_count": null,
   "metadata": {},
   "outputs": [],
   "source": [
    "%%time\n",
    "os.environ[\"INTAKE_PATH\"] = str(intake_path_local)\n",
    "pudl_cat = open_catalog(pudl_catalog_path)\n",
    "single_file_local_intake = pudl_cat.epacems_one_file(\n",
    "    filters=TEST_FILTERS,\n",
    "    engine=\"pyarrow\",\n",
    ")\n",
    "single_file_local_intake_dd = single_file_local_intake.to_dask()\n",
    "single_file_local_intake_df = single_file_local_intake_dd.compute()\n",
    "single_file_local_intake_df.info(show_counts=True, memory_usage=\"deep\")"
   ]
  },
  {
   "cell_type": "markdown",
   "metadata": {},
   "source": [
    "## Single File Remote Intake"
   ]
  },
  {
   "cell_type": "code",
   "execution_count": null,
   "metadata": {},
   "outputs": [],
   "source": [
    "%%time\n",
    "os.environ[\"INTAKE_PATH\"] = intake_path_remote\n",
    "pudl_cat = open_catalog(pudl_catalog_path)\n",
    "single_file_remote_intake = pudl_cat.epacems_one_file(\n",
    "    filters=TEST_FILTERS,\n",
    "    engine=\"pyarrow\",\n",
    ")\n",
    "single_file_remote_intake_dd = single_file_remote_intake.to_dask()\n",
    "single_file_remote_intake_df = single_file_remote_intake_dd.compute()\n",
    "single_file_remote_intake_df.info(show_counts=True, memory_usage=\"deep\")"
   ]
  },
  {
   "cell_type": "markdown",
   "metadata": {},
   "source": [
    "## Multi File Local Direct"
   ]
  },
  {
   "cell_type": "code",
   "execution_count": null,
   "metadata": {},
   "outputs": [],
   "source": [
    "%%time\n",
    "multi_file_local_direct_df = pd.read_parquet(\n",
    "    local_multi_file,\n",
    "    engine=\"pyarrow\",\n",
    "    filters=TEST_FILTERS,\n",
    "    use_nullable_dtypes=True,\n",
    ").astype(emissions_categories)\n",
    "multi_file_local_direct_df.info(show_counts=True, memory_usage=\"deep\")"
   ]
  },
  {
   "cell_type": "markdown",
   "metadata": {},
   "source": [
    "## Multi File Remote Direct"
   ]
  },
  {
   "cell_type": "code",
   "execution_count": null,
   "metadata": {},
   "outputs": [],
   "source": [
    "%%time\n",
    "multi_file_remote_direct_df = pd.read_parquet(\n",
    "    remote_multi_file,\n",
    "    engine=\"pyarrow\",\n",
    "    filters=TEST_FILTERS,\n",
    "    use_nullable_dtypes=True,\n",
    ").astype(emissions_categories)\n",
    "multi_file_remote_direct_df.info(show_counts=True, memory_usage=\"deep\")"
   ]
  },
  {
   "cell_type": "markdown",
   "metadata": {},
   "source": [
    "## Multi File Local Intake"
   ]
  },
  {
   "cell_type": "code",
   "execution_count": null,
   "metadata": {},
   "outputs": [],
   "source": [
    "%%time\n",
    "os.environ[\"INTAKE_PATH\"] = str(intake_path_local)\n",
    "pudl_cat = open_catalog(pudl_catalog_path)\n",
    "multi_file_local_intake = pudl_cat.epacems_multi_file(\n",
    "    filters=TEST_FILTERS,\n",
    "    engine=\"pyarrow\",\n",
    ")\n",
    "multi_file_local_intake_dd = multi_file_local_intake.to_dask().astype(emissions_categories)\n",
    "multi_file_local_intake_df = multi_file_local_intake_dd.compute()\n",
    "multi_file_local_intake_df.info(show_counts=True, memory_usage=\"deep\")"
   ]
  },
  {
   "cell_type": "markdown",
   "metadata": {},
   "source": [
    "## Multi File Remote Intake"
   ]
  },
  {
   "cell_type": "code",
   "execution_count": null,
   "metadata": {},
   "outputs": [],
   "source": [
    "%%time\n",
    "os.environ[\"INTAKE_PATH\"] = intake_path_remote\n",
    "pudl_cat = open_catalog(pudl_catalog_path)\n",
    "multi_file_remote_intake = pudl_cat.epacems_multi_file(\n",
    "    filters=TEST_FILTERS,\n",
    "    engine=\"pyarrow\",\n",
    ")\n",
    "multi_file_remote_intake_dd = multi_file_remote_intake.to_dask().astype(emissions_categories)\n",
    "multi_file_remote_intake_df = multi_file_remote_intake_dd.compute()\n",
    "multi_file_remote_intake_df.info(show_counts=True, memory_usage=\"deep\")"
   ]
  }
 ],
 "metadata": {
  "kernelspec": {
   "display_name": "Python 3 (ipykernel)",
   "language": "python",
   "name": "python3"
  },
  "language_info": {
   "codemirror_mode": {
    "name": "ipython",
    "version": 3
   },
   "file_extension": ".py",
   "mimetype": "text/x-python",
   "name": "python",
   "nbconvert_exporter": "python",
   "pygments_lexer": "ipython3",
   "version": "3.10.4"
  },
  "toc-autonumbering": true
 },
 "nbformat": 4,
 "nbformat_minor": 4
}
