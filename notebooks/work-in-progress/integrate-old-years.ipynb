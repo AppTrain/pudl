{
 "cells": [
  {
   "cell_type": "markdown",
   "metadata": {},
   "source": [
    "# Test Old Years"
   ]
  },
  {
   "cell_type": "code",
   "execution_count": 1,
   "metadata": {},
   "outputs": [],
   "source": [
    "%load_ext autoreload\n",
    "%autoreload 2"
   ]
  },
  {
   "cell_type": "code",
   "execution_count": 2,
   "metadata": {},
   "outputs": [],
   "source": [
    "# Standard libraries\n",
    "import logging\n",
    "import os\n",
    "import pathlib\n",
    "import sys\n",
    "\n",
    "# 3rd party libraries\n",
    "import matplotlib.pyplot as plt\n",
    "import matplotlib as mpl\n",
    "import numpy as np\n",
    "import pandas as pd\n",
    "import seaborn as sns\n",
    "import sqlalchemy as sa\n",
    "from functools import reduce\n",
    "\n",
    "# Local libraries\n",
    "import pudl\n",
    "import pudl.constants as pc"
   ]
  },
  {
   "cell_type": "code",
   "execution_count": 3,
   "metadata": {},
   "outputs": [],
   "source": [
    "logger=logging.getLogger()\n",
    "logger.setLevel(logging.INFO)\n",
    "handler = logging.StreamHandler(stream=sys.stdout)\n",
    "formatter = logging.Formatter('%(message)s')\n",
    "handler.setFormatter(formatter)\n",
    "logger.handlers = [handler]"
   ]
  },
  {
   "cell_type": "code",
   "execution_count": 4,
   "metadata": {},
   "outputs": [],
   "source": [
    "pudl_settings = pudl.workspace.setup.get_defaults()\n",
    "pudl_in = pathlib.Path(pudl_settings['pudl_in'])\n",
    "ds = pudl.workspace.datastore.Datastore(pudl_in, sandbox=True)\n",
    "#eia861_raw_dfs = pudl.extract.eia861.Extractor(ds).extract([2019])"
   ]
  },
  {
   "cell_type": "code",
   "execution_count": 5,
   "metadata": {},
   "outputs": [],
   "source": [
    "datapkg_dir = '/Users/aesharpe/Desktop/Work/Catalyst_Coop/PUDL_DIR/datapkg/pudl-2008/eia-example/'"
   ]
  },
  {
   "cell_type": "markdown",
   "metadata": {},
   "source": [
    "## Toggle Settings"
   ]
  },
  {
   "cell_type": "code",
   "execution_count": 46,
   "metadata": {},
   "outputs": [],
   "source": [
    "eia_inputs = {\n",
    "    \"eia860_years\": [2009, 2006],\n",
    "    \"eia860_tables\": pudl.constants.pudl_tables[\"eia860\"],\n",
    "    \"eia861_years\": [],\n",
    "    \"eia861_tables\": pudl.constants.pudl_tables[\"eia861\"],\n",
    "    \"eia923_years\": [2009],\n",
    "    \"eia923_tables\": pudl.constants.pudl_tables[\"eia923\"],\n",
    "}\n",
    "\n",
    "eia860_tables = eia_inputs[\"eia860_tables\"]\n",
    "eia860_years = eia_inputs[\"eia860_years\"]\n",
    "eia861_tables = eia_inputs[\"eia861_tables\"]\n",
    "eia861_years = eia_inputs[\"eia861_years\"]\n",
    "eia923_tables = eia_inputs[\"eia923_tables\"]\n",
    "eia923_years = eia_inputs[\"eia923_years\"]"
   ]
  },
  {
   "cell_type": "code",
   "execution_count": 47,
   "metadata": {},
   "outputs": [
    {
     "name": "stdout",
     "output_type": "stream",
     "text": [
      "Loading Static EIA Tables fuel_type_eia923 dataframe into CSV\n",
      "Loading Static EIA Tables prime_movers_eia923 dataframe into CSV\n",
      "Loading Static EIA Tables fuel_type_aer_eia923 dataframe into CSV\n",
      "Loading Static EIA Tables energy_source_eia923 dataframe into CSV\n",
      "Loading Static EIA Tables transport_modes_eia923 dataframe into CSV\n"
     ]
    }
   ],
   "source": [
    "# generate CSVs for the static EIA tables, return the list of tables\n",
    "static_tables = pudl.etl._load_static_tables_eia(datapkg_dir)"
   ]
  },
  {
   "cell_type": "code",
   "execution_count": 48,
   "metadata": {},
   "outputs": [
    {
     "name": "stdout",
     "output_type": "stream",
     "text": [
      "Extracting eia860 spreadsheet data.\n",
      "Columns for boiler_generator_assn are off: should be 4 but got 6\n",
      "Columns for generator are off: should be 65 but got 66\n",
      "Columns for generator_existing are off: should be 76 but got 77\n",
      "Columns for generator_proposed are off: should be 55 but got 56\n",
      "Columns for generator_retired are off: should be 75 but got 76\n",
      "Columns for ownership are off: should be 14 but got 15\n",
      "Columns for plant are off: should be 46 but got 47\n",
      "Columns for utility are off: should be 20 but got 21\n",
      "Extracting eia923 spreadsheet data.\n"
     ]
    }
   ],
   "source": [
    "# Extract EIA forms 923, 860\n",
    "eia860_raw_dfs = pudl.extract.eia860.Extractor(ds).extract(eia860_years)\n",
    "#eia861_raw_dfs = pudl.extract.eia861.Extractor(ds).extract(eia861_years)\n",
    "eia923_raw_dfs = pudl.extract.eia923.Extractor(ds).extract(eia923_years)"
   ]
  },
  {
   "cell_type": "code",
   "execution_count": 50,
   "metadata": {},
   "outputs": [
    {
     "data": {
      "text/plain": [
       "array(['N', nan, 'Y'], dtype=object)"
      ]
     },
     "execution_count": 50,
     "metadata": {},
     "output_type": "execute_result"
    }
   ],
   "source": [
    "# Test that the column you added made it into the raw table grab here\n",
    "# Take a look at what the data type is supposed to be and whether it needs transformation\n",
    "\n",
    "eia860_raw_dfs['generator']['ferc_cogen_status']\n",
    "test = eia860_raw_dfs['generator'][['ferc_cogen_status']].sample(20)\n",
    "test\n",
    "test['ferc_cogen_status'].unique()"
   ]
  },
  {
   "cell_type": "code",
   "execution_count": 51,
   "metadata": {},
   "outputs": [
    {
     "name": "stdout",
     "output_type": "stream",
     "text": [
      "Transforming raw EIA 860 DataFrames for ownership_eia860 concatenated across all years.\n",
      "Transforming raw EIA 860 DataFrames for generators_eia860 concatenated across all years.\n",
      "Transforming raw EIA 860 DataFrames for plants_eia860 concatenated across all years.\n",
      "Transforming raw EIA 860 DataFrames for boiler_generator_assn_eia860 concatenated across all years.\n",
      "Transforming raw EIA 860 DataFrames for utilities_eia860 concatenated across all years.\n",
      "Transforming raw EIA 923 DataFrames for generation_fuel_eia923 concatenated across all years.\n",
      "Transforming raw EIA 923 DataFrames for boiler_fuel_eia923 concatenated across all years.\n",
      "Transforming raw EIA 923 DataFrames for generation_eia923 concatenated across all years.\n",
      "Transforming raw EIA 923 DataFrames for coalmine_eia923 concatenated across all years.\n",
      "Transforming raw EIA 923 DataFrames for fuel_receipts_costs_eia923 concatenated across all years.\n"
     ]
    }
   ],
   "source": [
    "# Transform EIA forms 860, 861, 923\n",
    "eia860_transformed_dfs = pudl.transform.eia860.transform(eia860_raw_dfs, eia860_tables=eia860_tables)\n",
    "#eia861_transformed_dfs = pudl.transform.eia861.transform(eia861_raw_dfs, eia861_tables=eia861_tables)\n",
    "eia923_transformed_dfs = pudl.transform.eia923.transform(eia923_raw_dfs, eia923_tables=eia923_tables)"
   ]
  },
  {
   "cell_type": "code",
   "execution_count": 53,
   "metadata": {},
   "outputs": [
    {
     "data": {
      "text/html": [
       "<div>\n",
       "<style scoped>\n",
       "    .dataframe tbody tr th:only-of-type {\n",
       "        vertical-align: middle;\n",
       "    }\n",
       "\n",
       "    .dataframe tbody tr th {\n",
       "        vertical-align: top;\n",
       "    }\n",
       "\n",
       "    .dataframe thead th {\n",
       "        text-align: right;\n",
       "    }\n",
       "</style>\n",
       "<table border=\"1\" class=\"dataframe\">\n",
       "  <thead>\n",
       "    <tr style=\"text-align: right;\">\n",
       "      <th></th>\n",
       "      <th>ferc_cogen_status</th>\n",
       "    </tr>\n",
       "  </thead>\n",
       "  <tbody>\n",
       "    <tr>\n",
       "      <th>0</th>\n",
       "      <td>NaN</td>\n",
       "    </tr>\n",
       "    <tr>\n",
       "      <th>1</th>\n",
       "      <td>NaN</td>\n",
       "    </tr>\n",
       "    <tr>\n",
       "      <th>2</th>\n",
       "      <td>NaN</td>\n",
       "    </tr>\n",
       "    <tr>\n",
       "      <th>3</th>\n",
       "      <td>NaN</td>\n",
       "    </tr>\n",
       "    <tr>\n",
       "      <th>4</th>\n",
       "      <td>NaN</td>\n",
       "    </tr>\n",
       "    <tr>\n",
       "      <th>...</th>\n",
       "      <td>...</td>\n",
       "    </tr>\n",
       "    <tr>\n",
       "      <th>18349</th>\n",
       "      <td>&lt;NA&gt;</td>\n",
       "    </tr>\n",
       "    <tr>\n",
       "      <th>18350</th>\n",
       "      <td>True</td>\n",
       "    </tr>\n",
       "    <tr>\n",
       "      <th>18351</th>\n",
       "      <td>False</td>\n",
       "    </tr>\n",
       "    <tr>\n",
       "      <th>18352</th>\n",
       "      <td>False</td>\n",
       "    </tr>\n",
       "    <tr>\n",
       "      <th>18353</th>\n",
       "      <td>False</td>\n",
       "    </tr>\n",
       "  </tbody>\n",
       "</table>\n",
       "<p>40592 rows × 1 columns</p>\n",
       "</div>"
      ],
      "text/plain": [
       "      ferc_cogen_status\n",
       "0                   NaN\n",
       "1                   NaN\n",
       "2                   NaN\n",
       "3                   NaN\n",
       "4                   NaN\n",
       "...                 ...\n",
       "18349              <NA>\n",
       "18350              True\n",
       "18351             False\n",
       "18352             False\n",
       "18353             False\n",
       "\n",
       "[40592 rows x 1 columns]"
      ]
     },
     "execution_count": 53,
     "metadata": {},
     "output_type": "execute_result"
    }
   ],
   "source": [
    "# See if your transformation fixed the column\n",
    "eia860_transformed_dfs['generators_eia860'][['ferc_cogen_status']]"
   ]
  },
  {
   "cell_type": "code",
   "execution_count": 68,
   "metadata": {},
   "outputs": [],
   "source": [
    "# create an eia transformed dfs dictionary\n",
    "eia_transformed_dfs = eia860_transformed_dfs.copy()\n",
    "#eia_transformed_dfs.update(eia861_transformed_dfs.copy())\n",
    "eia_transformed_dfs.update(eia923_transformed_dfs.copy())"
   ]
  },
  {
   "cell_type": "code",
   "execution_count": 69,
   "metadata": {},
   "outputs": [
    {
     "name": "stderr",
     "output_type": "stream",
     "text": [
      "/Users/aesharpe/miniconda3/envs/pudl-dev/lib/python3.8/site-packages/pandas/core/missing.py:49: FutureWarning: elementwise comparison failed; returning scalar instead, but in the future will perform elementwise comparison\n",
      "  mask = arr == x\n",
      "/Users/aesharpe/miniconda3/envs/pudl-dev/lib/python3.8/site-packages/pandas/core/missing.py:49: FutureWarning: elementwise comparison failed; returning scalar instead, but in the future will perform elementwise comparison\n",
      "  mask = arr == x\n"
     ]
    }
   ],
   "source": [
    "# convert types..\n",
    "eia_transformed_dfs = pudl.helpers.convert_dfs_dict_dtypes(eia_transformed_dfs, 'eia')"
   ]
  },
  {
   "cell_type": "code",
   "execution_count": 70,
   "metadata": {},
   "outputs": [],
   "source": [
    "# See if your datatype worked\n",
    "test = eia_transformed_dfs['generators_eia860'] #['ferc_cogen_status']"
   ]
  },
  {
   "cell_type": "code",
   "execution_count": 128,
   "metadata": {},
   "outputs": [
    {
     "name": "stdout",
     "output_type": "stream",
     "text": [
      "ferc_cogen_status: 36 / 8667 \n",
      "ferc_cogen_docket_no: 43 / 8667 \n",
      "ferc_small_power_producer: 15 / 8667 \n",
      "ferc_small_power_producer_docket_no: 30 / 8667 \n",
      "ferc_exempt_wholesale_generator: 8 / 8667 \n",
      "ferc_exempt_wholesale_generator_docket_no: 38 / 8667\n"
     ]
    }
   ],
   "source": [
    "test = test[[\n",
    "    'plant_id_eia',\n",
    "    'generator_id',\n",
    "    'report_date',\n",
    "    'ferc_cogen_status', \n",
    "    'ferc_cogen_docket_no', \n",
    "    'ferc_small_power_producer',\n",
    "    'ferc_small_power_producer_docket_no',\n",
    "    'ferc_exempt_wholesale_generator',\n",
    "    'ferc_exempt_wholesale_generator_docket_no'\n",
    "]]\n",
    "test2 = test.groupby(['plant_id_eia', 'report_date']).nunique()\n",
    "test2 = test2[test2['generator_id']>1]\n",
    "test2.sort_values('ferc_cogen_status', ascending=False)\n",
    "full_len = len(test2)\n",
    "fcs_len = len(test2[test2['ferc_cogen_status']>1])\n",
    "fcsd_len = len(test2[test2['ferc_cogen_docket_no']>1])\n",
    "fspp_len = len(test2[test2['ferc_small_power_producer']>1])\n",
    "fsppd_len = len(test2[test2['ferc_small_power_producer_docket_no']>1])\n",
    "fewg_len = len(test2[test2['ferc_exempt_wholesale_generator']>1])\n",
    "fewgd_len = len(test2[test2['ferc_exempt_wholesale_generator_docket_no']>1])\n",
    "\n",
    "print(\n",
    "    f'ferc_cogen_status: {fcs_len} / {full_len} \\n' \n",
    "    f'ferc_cogen_docket_no: {fcsd_len} / {full_len} \\n'\n",
    "    f'ferc_small_power_producer: {fspp_len} / {full_len} \\n'\n",
    "    f'ferc_small_power_producer_docket_no: {fsppd_len} / {full_len} \\n'\n",
    "    f'ferc_exempt_wholesale_generator: {fewg_len} / {full_len} \\n'\n",
    "    f'ferc_exempt_wholesale_generator_docket_no: {fewgd_len} / {full_len}'\n",
    ")\n",
    "\n",
    "#test[test['plant_id_eia']==10123]"
   ]
  },
  {
   "cell_type": "code",
   "execution_count": 129,
   "metadata": {},
   "outputs": [
    {
     "name": "stdout",
     "output_type": "stream",
     "text": [
      "Harvesting IDs & consistently static attributes for EIA plants\n",
      "Average consistency of static plants values is 99.56%\n",
      "Harvesting IDs & consistently static attributes for EIA generators\n",
      "Average consistency of static generators values is 99.98%\n",
      "Harvesting IDs & consistently static attributes for EIA utilities\n",
      "Average consistency of static utilities values is 100.00%\n",
      "Harvesting IDs & consistently static attributes for EIA boilers\n",
      "Average consistency of static boilers values is 99.92%\n",
      "Inferring complete EIA boiler-generator associations.\n",
      "Multiple EIA unit codes:plant_id_eia=10725, unit_id_pudl=1, unit_id_eia=['F801' 'F802']\n",
      "Multiple EIA unit codes:plant_id_eia=56309, unit_id_pudl=1, unit_id_eia=['G401' 'G402']\n"
     ]
    }
   ],
   "source": [
    "# NOTE: you can't run this twice in a row -- need to reload eia_transformed_dfs\n",
    "entities_dfs, eia_transformed_dfs = pudl.transform.eia.transform(\n",
    "    eia_transformed_dfs,\n",
    "    eia860_years=eia860_years,\n",
    "    eia923_years=eia923_years,\n",
    ")"
   ]
  },
  {
   "cell_type": "code",
   "execution_count": 130,
   "metadata": {},
   "outputs": [
    {
     "name": "stderr",
     "output_type": "stream",
     "text": [
      "/Users/aesharpe/miniconda3/envs/pudl-dev/lib/python3.8/site-packages/pandas/core/missing.py:49: FutureWarning: elementwise comparison failed; returning scalar instead, but in the future will perform elementwise comparison\n",
      "  mask = arr == x\n"
     ]
    }
   ],
   "source": [
    "entities_dfs = pudl.helpers.convert_dfs_dict_dtypes(entities_dfs, 'eia')"
   ]
  },
  {
   "cell_type": "code",
   "execution_count": 131,
   "metadata": {},
   "outputs": [],
   "source": [
    "transformed_dfs = {\"Entities\": entities_dfs, \"EIA\": eia_transformed_dfs}"
   ]
  },
  {
   "cell_type": "code",
   "execution_count": 156,
   "metadata": {},
   "outputs": [],
   "source": [
    "# Double check that the column is still in there\n",
    "test = transformed_dfs['EIA']['plants_eia860']"
   ]
  },
  {
   "cell_type": "code",
   "execution_count": 158,
   "metadata": {},
   "outputs": [
    {
     "name": "stdout",
     "output_type": "stream",
     "text": [
      "Loading Entities plants_entity_eia dataframe into CSV\n",
      "Loading Entities generators_entity_eia dataframe into CSV\n",
      "Loading Entities utilities_entity_eia dataframe into CSV\n",
      "Loading Entities boilers_entity_eia dataframe into CSV\n",
      "Loading EIA ownership_eia860 dataframe into CSV\n",
      "Loading EIA generators_eia860 dataframe into CSV\n",
      "Loading EIA plants_eia860 dataframe into CSV\n",
      "Loading EIA boiler_generator_assn_eia860 dataframe into CSV\n",
      "Loading EIA utilities_eia860 dataframe into CSV\n",
      "Loading EIA generation_fuel_eia923 dataframe into CSV\n",
      "Loading EIA boiler_fuel_eia923 dataframe into CSV\n",
      "Loading EIA generation_eia923 dataframe into CSV\n",
      "Loading EIA coalmine_eia923 dataframe into CSV\n",
      "Loading EIA fuel_receipts_costs_eia923 dataframe into CSV\n"
     ]
    }
   ],
   "source": [
    "# LOAD step\n",
    "for data_source, transformed_df in transformed_dfs.items():\n",
    "    pudl.load.csv.dict_dump(transformed_df,\n",
    "                            data_source,\n",
    "                            datapkg_dir=datapkg_dir)\n",
    "# return (\n",
    "#     list(eia_transformed_dfs.keys())\n",
    "#     + list(entities_dfs.keys())\n",
    "#     + static_tables)"
   ]
  },
  {
   "cell_type": "code",
   "execution_count": 231,
   "metadata": {},
   "outputs": [
    {
     "data": {
      "text/plain": [
       "dict_keys(['ownership_eia860', 'generators_eia860', 'plants_eia860', 'boiler_generator_assn_eia860', 'utilities_eia860', 'generation_fuel_eia923', 'boiler_fuel_eia923', 'generation_eia923', 'coalmine_eia923', 'fuel_receipts_costs_eia923'])"
      ]
     },
     "execution_count": 231,
     "metadata": {},
     "output_type": "execute_result"
    }
   ],
   "source": [
    "transformed_dfs['EIA'].keys()"
   ]
  },
  {
   "cell_type": "code",
   "execution_count": 149,
   "metadata": {},
   "outputs": [
    {
     "data": {
      "text/plain": [
       "0        NaN\n",
       "1        NaN\n",
       "2        NaN\n",
       "3        NaN\n",
       "4        NaN\n",
       "        ... \n",
       "12443    NaN\n",
       "12444    NaN\n",
       "12445    NaN\n",
       "12446    NaN\n",
       "12447    NaN\n",
       "Name: ferc_cogen_docket_no, Length: 12448, dtype: object"
      ]
     },
     "execution_count": 149,
     "metadata": {},
     "output_type": "execute_result"
    }
   ],
   "source": [
    "# Aaaaand make sure it loaded properly\n",
    "test = transformed_dfs['EIA']['plants_eia860']\n",
    "test['ferc_cogen_docket_no']"
   ]
  },
  {
   "cell_type": "code",
   "execution_count": 130,
   "metadata": {},
   "outputs": [],
   "source": [
    "# run: \n",
    "# datapkg_to_sqlite PUDL_DIR/datapkg/pudl-2008/eia-example/datapackage.json -c\n",
    "# Then run the code below"
   ]
  },
  {
   "cell_type": "code",
   "execution_count": 90,
   "metadata": {},
   "outputs": [],
   "source": [
    "# little helper function\n",
    "def get_full_sql_table(table_name, engine):\n",
    "    \"\"\"Get a full table from a SQL database.\"\"\"\n",
    "    # generate table metadata\n",
    "    md = sa.MetaData()\n",
    "    md.reflect(engine)\n",
    "    pt = md.tables\n",
    "    # make a sql select statement\n",
    "    select = sa.sql.select([pt[table_name], ])\n",
    "    # read the sql select into a dataframe\n",
    "    df = pd.read_sql(select, engine)\n",
    "    return df\n",
    "# Generate a SQLalchemy databse engine:\n",
    "pudl_settings = pudl.workspace.setup.get_defaults()\n",
    "pudl_engine = sa.create_engine(pudl_settings[\"pudl_db\"])\n",
    "table_name='utilities_eia860'\n",
    "table_df = get_full_sql_table(table_name=table_name, engine=pudl_engine)"
   ]
  },
  {
   "cell_type": "code",
   "execution_count": 91,
   "metadata": {},
   "outputs": [
    {
     "data": {
      "text/html": [
       "<div>\n",
       "<style scoped>\n",
       "    .dataframe tbody tr th:only-of-type {\n",
       "        vertical-align: middle;\n",
       "    }\n",
       "\n",
       "    .dataframe tbody tr th {\n",
       "        vertical-align: top;\n",
       "    }\n",
       "\n",
       "    .dataframe thead th {\n",
       "        text-align: right;\n",
       "    }\n",
       "</style>\n",
       "<table border=\"1\" class=\"dataframe\">\n",
       "  <thead>\n",
       "    <tr style=\"text-align: right;\">\n",
       "      <th></th>\n",
       "      <th>id</th>\n",
       "      <th>utility_id_eia</th>\n",
       "      <th>report_date</th>\n",
       "      <th>street_address</th>\n",
       "      <th>city</th>\n",
       "      <th>state</th>\n",
       "      <th>zip_code</th>\n",
       "      <th>plants_reported_owner</th>\n",
       "      <th>plants_reported_operator</th>\n",
       "      <th>plants_reported_asset_manager</th>\n",
       "      <th>...</th>\n",
       "      <th>entity_type</th>\n",
       "      <th>attention_line</th>\n",
       "      <th>address_2</th>\n",
       "      <th>zip_code_4</th>\n",
       "      <th>contact_firstname</th>\n",
       "      <th>contact_lastname</th>\n",
       "      <th>contact_title</th>\n",
       "      <th>contact_firstname_2</th>\n",
       "      <th>contact_lastname_2</th>\n",
       "      <th>contact_title_2</th>\n",
       "    </tr>\n",
       "  </thead>\n",
       "  <tbody>\n",
       "    <tr>\n",
       "      <th>0</th>\n",
       "      <td>1</td>\n",
       "      <td>62789</td>\n",
       "      <td>2018-01-01</td>\n",
       "      <td>300 Spectrum Center Drive Suit</td>\n",
       "      <td>Irvine</td>\n",
       "      <td>CA</td>\n",
       "      <td>92618</td>\n",
       "      <td>True</td>\n",
       "      <td>None</td>\n",
       "      <td>None</td>\n",
       "      <td>...</td>\n",
       "      <td>Independent Power Producer</td>\n",
       "      <td>None</td>\n",
       "      <td>None</td>\n",
       "      <td>None</td>\n",
       "      <td>None</td>\n",
       "      <td>None</td>\n",
       "      <td>None</td>\n",
       "      <td>None</td>\n",
       "      <td>None</td>\n",
       "      <td>None</td>\n",
       "    </tr>\n",
       "    <tr>\n",
       "      <th>1</th>\n",
       "      <td>2</td>\n",
       "      <td>62788</td>\n",
       "      <td>2018-01-01</td>\n",
       "      <td>300 Spectrum Center Drive Suit</td>\n",
       "      <td>Irvine</td>\n",
       "      <td>CA</td>\n",
       "      <td>92618</td>\n",
       "      <td>True</td>\n",
       "      <td>None</td>\n",
       "      <td>None</td>\n",
       "      <td>...</td>\n",
       "      <td>Independent Power Producer</td>\n",
       "      <td>None</td>\n",
       "      <td>None</td>\n",
       "      <td>None</td>\n",
       "      <td>None</td>\n",
       "      <td>None</td>\n",
       "      <td>None</td>\n",
       "      <td>None</td>\n",
       "      <td>None</td>\n",
       "      <td>None</td>\n",
       "    </tr>\n",
       "    <tr>\n",
       "      <th>2</th>\n",
       "      <td>3</td>\n",
       "      <td>62787</td>\n",
       "      <td>2018-01-01</td>\n",
       "      <td>1900 East Golf Road, Suite 103</td>\n",
       "      <td>Schaumburg</td>\n",
       "      <td>IL</td>\n",
       "      <td>60173</td>\n",
       "      <td>True</td>\n",
       "      <td>None</td>\n",
       "      <td>True</td>\n",
       "      <td>...</td>\n",
       "      <td>Independent Power Producer</td>\n",
       "      <td>None</td>\n",
       "      <td>None</td>\n",
       "      <td>None</td>\n",
       "      <td>None</td>\n",
       "      <td>None</td>\n",
       "      <td>None</td>\n",
       "      <td>None</td>\n",
       "      <td>None</td>\n",
       "      <td>None</td>\n",
       "    </tr>\n",
       "    <tr>\n",
       "      <th>3</th>\n",
       "      <td>4</td>\n",
       "      <td>62784</td>\n",
       "      <td>2018-01-01</td>\n",
       "      <td>11550 Ash St, Ste 300</td>\n",
       "      <td>Leawood</td>\n",
       "      <td>KS</td>\n",
       "      <td>66211</td>\n",
       "      <td>True</td>\n",
       "      <td>None</td>\n",
       "      <td>None</td>\n",
       "      <td>...</td>\n",
       "      <td>Independent Power Producer</td>\n",
       "      <td>None</td>\n",
       "      <td>None</td>\n",
       "      <td>None</td>\n",
       "      <td>None</td>\n",
       "      <td>None</td>\n",
       "      <td>None</td>\n",
       "      <td>None</td>\n",
       "      <td>None</td>\n",
       "      <td>None</td>\n",
       "    </tr>\n",
       "    <tr>\n",
       "      <th>4</th>\n",
       "      <td>5</td>\n",
       "      <td>62778</td>\n",
       "      <td>2018-01-01</td>\n",
       "      <td>100 California St Suite 400</td>\n",
       "      <td>San Francisco</td>\n",
       "      <td>CA</td>\n",
       "      <td>94118</td>\n",
       "      <td>True</td>\n",
       "      <td>None</td>\n",
       "      <td>None</td>\n",
       "      <td>...</td>\n",
       "      <td>Independent Power Producer</td>\n",
       "      <td>None</td>\n",
       "      <td>None</td>\n",
       "      <td>None</td>\n",
       "      <td>None</td>\n",
       "      <td>None</td>\n",
       "      <td>None</td>\n",
       "      <td>None</td>\n",
       "      <td>None</td>\n",
       "      <td>None</td>\n",
       "    </tr>\n",
       "    <tr>\n",
       "      <th>...</th>\n",
       "      <td>...</td>\n",
       "      <td>...</td>\n",
       "      <td>...</td>\n",
       "      <td>...</td>\n",
       "      <td>...</td>\n",
       "      <td>...</td>\n",
       "      <td>...</td>\n",
       "      <td>...</td>\n",
       "      <td>...</td>\n",
       "      <td>...</td>\n",
       "      <td>...</td>\n",
       "      <td>...</td>\n",
       "      <td>...</td>\n",
       "      <td>...</td>\n",
       "      <td>...</td>\n",
       "      <td>...</td>\n",
       "      <td>...</td>\n",
       "      <td>...</td>\n",
       "      <td>...</td>\n",
       "      <td>...</td>\n",
       "      <td>...</td>\n",
       "    </tr>\n",
       "    <tr>\n",
       "      <th>61182</th>\n",
       "      <td>61183</td>\n",
       "      <td>23</td>\n",
       "      <td>2007-01-01</td>\n",
       "      <td>5527 Paseo Arnaldo</td>\n",
       "      <td>Yorba Linda</td>\n",
       "      <td>CA</td>\n",
       "      <td>92886</td>\n",
       "      <td>None</td>\n",
       "      <td>None</td>\n",
       "      <td>None</td>\n",
       "      <td>...</td>\n",
       "      <td>None</td>\n",
       "      <td>None</td>\n",
       "      <td>None</td>\n",
       "      <td>None</td>\n",
       "      <td>A</td>\n",
       "      <td>Giusiana</td>\n",
       "      <td>Vice President</td>\n",
       "      <td>A</td>\n",
       "      <td>Giusiana</td>\n",
       "      <td>Vice President</td>\n",
       "    </tr>\n",
       "    <tr>\n",
       "      <th>61183</th>\n",
       "      <td>61184</td>\n",
       "      <td>21</td>\n",
       "      <td>2007-01-01</td>\n",
       "      <td>None</td>\n",
       "      <td>Panama</td>\n",
       "      <td>OK</td>\n",
       "      <td>74951</td>\n",
       "      <td>None</td>\n",
       "      <td>None</td>\n",
       "      <td>None</td>\n",
       "      <td>...</td>\n",
       "      <td>None</td>\n",
       "      <td>None</td>\n",
       "      <td>P O Box 1740</td>\n",
       "      <td>None</td>\n",
       "      <td>Lundy</td>\n",
       "      <td>Kiger</td>\n",
       "      <td>Vice President</td>\n",
       "      <td>Ruben</td>\n",
       "      <td>Soroeta</td>\n",
       "      <td>President</td>\n",
       "    </tr>\n",
       "    <tr>\n",
       "      <th>61184</th>\n",
       "      <td>61185</td>\n",
       "      <td>20</td>\n",
       "      <td>2007-01-01</td>\n",
       "      <td>1001 Nineteenth St 20th Floor</td>\n",
       "      <td>Arlington</td>\n",
       "      <td>VA</td>\n",
       "      <td>22209</td>\n",
       "      <td>None</td>\n",
       "      <td>None</td>\n",
       "      <td>None</td>\n",
       "      <td>...</td>\n",
       "      <td>None</td>\n",
       "      <td>None</td>\n",
       "      <td>None</td>\n",
       "      <td>None</td>\n",
       "      <td>Paul</td>\n",
       "      <td>Burdick</td>\n",
       "      <td>Vice President</td>\n",
       "      <td>None</td>\n",
       "      <td>None</td>\n",
       "      <td>None</td>\n",
       "    </tr>\n",
       "    <tr>\n",
       "      <th>61185</th>\n",
       "      <td>61186</td>\n",
       "      <td>8</td>\n",
       "      <td>2007-01-01</td>\n",
       "      <td>2245 Sagamore Parkway North</td>\n",
       "      <td>Lafayette</td>\n",
       "      <td>IN</td>\n",
       "      <td>47904</td>\n",
       "      <td>None</td>\n",
       "      <td>None</td>\n",
       "      <td>None</td>\n",
       "      <td>...</td>\n",
       "      <td>None</td>\n",
       "      <td>None</td>\n",
       "      <td>None</td>\n",
       "      <td>None</td>\n",
       "      <td>Scott A</td>\n",
       "      <td>Market</td>\n",
       "      <td>Utility Resource</td>\n",
       "      <td>William D</td>\n",
       "      <td>Coats</td>\n",
       "      <td>Utilities Manager</td>\n",
       "    </tr>\n",
       "    <tr>\n",
       "      <th>61186</th>\n",
       "      <td>61187</td>\n",
       "      <td>7</td>\n",
       "      <td>2007-01-01</td>\n",
       "      <td>2200 East Eldorado Street</td>\n",
       "      <td>Decatur</td>\n",
       "      <td>IL</td>\n",
       "      <td>62525</td>\n",
       "      <td>None</td>\n",
       "      <td>None</td>\n",
       "      <td>None</td>\n",
       "      <td>...</td>\n",
       "      <td>None</td>\n",
       "      <td>None</td>\n",
       "      <td>None</td>\n",
       "      <td>None</td>\n",
       "      <td>James A</td>\n",
       "      <td>Hoyt</td>\n",
       "      <td>Dir., Purchasing/Global Energy</td>\n",
       "      <td>Jim</td>\n",
       "      <td>Cornelissen</td>\n",
       "      <td>Technical Director</td>\n",
       "    </tr>\n",
       "  </tbody>\n",
       "</table>\n",
       "<p>61187 rows × 21 columns</p>\n",
       "</div>"
      ],
      "text/plain": [
       "          id  utility_id_eia report_date                  street_address  \\\n",
       "0          1           62789  2018-01-01  300 Spectrum Center Drive Suit   \n",
       "1          2           62788  2018-01-01  300 Spectrum Center Drive Suit   \n",
       "2          3           62787  2018-01-01  1900 East Golf Road, Suite 103   \n",
       "3          4           62784  2018-01-01           11550 Ash St, Ste 300   \n",
       "4          5           62778  2018-01-01     100 California St Suite 400   \n",
       "...      ...             ...         ...                             ...   \n",
       "61182  61183              23  2007-01-01              5527 Paseo Arnaldo   \n",
       "61183  61184              21  2007-01-01                            None   \n",
       "61184  61185              20  2007-01-01   1001 Nineteenth St 20th Floor   \n",
       "61185  61186               8  2007-01-01     2245 Sagamore Parkway North   \n",
       "61186  61187               7  2007-01-01       2200 East Eldorado Street   \n",
       "\n",
       "                city state zip_code plants_reported_owner  \\\n",
       "0             Irvine    CA    92618                  True   \n",
       "1             Irvine    CA    92618                  True   \n",
       "2         Schaumburg    IL    60173                  True   \n",
       "3            Leawood    KS    66211                  True   \n",
       "4      San Francisco    CA    94118                  True   \n",
       "...              ...   ...      ...                   ...   \n",
       "61182    Yorba Linda    CA    92886                  None   \n",
       "61183         Panama    OK    74951                  None   \n",
       "61184      Arlington    VA    22209                  None   \n",
       "61185      Lafayette    IN    47904                  None   \n",
       "61186        Decatur    IL    62525                  None   \n",
       "\n",
       "      plants_reported_operator plants_reported_asset_manager  ...  \\\n",
       "0                         None                          None  ...   \n",
       "1                         None                          None  ...   \n",
       "2                         None                          True  ...   \n",
       "3                         None                          None  ...   \n",
       "4                         None                          None  ...   \n",
       "...                        ...                           ...  ...   \n",
       "61182                     None                          None  ...   \n",
       "61183                     None                          None  ...   \n",
       "61184                     None                          None  ...   \n",
       "61185                     None                          None  ...   \n",
       "61186                     None                          None  ...   \n",
       "\n",
       "                      entity_type attention_line     address_2 zip_code_4  \\\n",
       "0      Independent Power Producer           None          None       None   \n",
       "1      Independent Power Producer           None          None       None   \n",
       "2      Independent Power Producer           None          None       None   \n",
       "3      Independent Power Producer           None          None       None   \n",
       "4      Independent Power Producer           None          None       None   \n",
       "...                           ...            ...           ...        ...   \n",
       "61182                        None           None          None       None   \n",
       "61183                        None           None  P O Box 1740       None   \n",
       "61184                        None           None          None       None   \n",
       "61185                        None           None          None       None   \n",
       "61186                        None           None          None       None   \n",
       "\n",
       "      contact_firstname contact_lastname                   contact_title  \\\n",
       "0                  None             None                            None   \n",
       "1                  None             None                            None   \n",
       "2                  None             None                            None   \n",
       "3                  None             None                            None   \n",
       "4                  None             None                            None   \n",
       "...                 ...              ...                             ...   \n",
       "61182                 A         Giusiana                  Vice President   \n",
       "61183             Lundy            Kiger                  Vice President   \n",
       "61184              Paul          Burdick                  Vice President   \n",
       "61185           Scott A           Market                Utility Resource   \n",
       "61186           James A             Hoyt  Dir., Purchasing/Global Energy   \n",
       "\n",
       "      contact_firstname_2 contact_lastname_2     contact_title_2  \n",
       "0                    None               None                None  \n",
       "1                    None               None                None  \n",
       "2                    None               None                None  \n",
       "3                    None               None                None  \n",
       "4                    None               None                None  \n",
       "...                   ...                ...                 ...  \n",
       "61182                   A           Giusiana      Vice President  \n",
       "61183               Ruben            Soroeta           President  \n",
       "61184                None               None                None  \n",
       "61185           William D              Coats   Utilities Manager  \n",
       "61186                 Jim        Cornelissen  Technical Director  \n",
       "\n",
       "[61187 rows x 21 columns]"
      ]
     },
     "execution_count": 91,
     "metadata": {},
     "output_type": "execute_result"
    }
   ],
   "source": [
    "table_df"
   ]
  },
  {
   "cell_type": "code",
   "execution_count": null,
   "metadata": {},
   "outputs": [],
   "source": []
  }
 ],
 "metadata": {
  "kernelspec": {
   "display_name": "Python 3",
   "language": "python",
   "name": "python3"
  },
  "language_info": {
   "codemirror_mode": {
    "name": "ipython",
    "version": 3
   },
   "file_extension": ".py",
   "mimetype": "text/x-python",
   "name": "python",
   "nbconvert_exporter": "python",
   "pygments_lexer": "ipython3",
   "version": "3.8.6"
  }
 },
 "nbformat": 4,
 "nbformat_minor": 4
}
