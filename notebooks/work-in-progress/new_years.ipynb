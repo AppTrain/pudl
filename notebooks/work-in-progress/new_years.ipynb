{
 "cells": [
  {
   "cell_type": "markdown",
   "id": "70750944-1097-434f-9dd9-2ec6eb644b80",
   "metadata": {},
   "source": [
    "# Test ETL for New Years of Data"
   ]
  },
  {
   "cell_type": "markdown",
   "id": "fb882d42-8c8b-4d55-abab-2751a9118696",
   "metadata": {},
   "source": [
    "## Setup"
   ]
  },
  {
   "cell_type": "code",
   "execution_count": null,
   "id": "657a7c06-4247-40da-a527-d580185980bf",
   "metadata": {},
   "outputs": [],
   "source": [
    "%load_ext autoreload\n",
    "%autoreload 2"
   ]
  },
  {
   "cell_type": "code",
   "execution_count": null,
   "id": "a7ab2478-a708-4eee-9a55-8c7e811ea4db",
   "metadata": {},
   "outputs": [],
   "source": [
    "# Standard libraries\n",
    "import logging\n",
    "import os\n",
    "import pathlib\n",
    "import sys\n",
    "\n",
    "# 3rd party libraries\n",
    "import matplotlib.pyplot as plt\n",
    "import matplotlib as mpl\n",
    "import numpy as np\n",
    "import pandas as pd\n",
    "import seaborn as sns\n",
    "import sqlalchemy as sa\n",
    "import yaml\n",
    "\n",
    "# Local libraries\n",
    "import pudl"
   ]
  },
  {
   "cell_type": "code",
   "execution_count": null,
   "id": "284de2f0-188c-4cf2-8d00-3bb28c74576c",
   "metadata": {},
   "outputs": [],
   "source": [
    "sns.set()\n",
    "%matplotlib inline\n",
    "mpl.rcParams['figure.figsize'] = (10,4)\n",
    "mpl.rcParams['figure.dpi'] = 150\n",
    "pd.options.display.max_columns = 100\n",
    "pd.options.display.max_rows = 100"
   ]
  },
  {
   "cell_type": "code",
   "execution_count": null,
   "id": "05b7253b-5983-4586-9895-5137f266bf17",
   "metadata": {},
   "outputs": [],
   "source": [
    "logger=logging.getLogger()\n",
    "logger.setLevel(logging.INFO)\n",
    "handler = logging.StreamHandler(stream=sys.stdout)\n",
    "formatter = logging.Formatter('%(message)s')\n",
    "handler.setFormatter(formatter)\n",
    "logger.handlers = [handler]"
   ]
  },
  {
   "cell_type": "code",
   "execution_count": null,
   "id": "7f7abdf1-bc5a-4b94-b0ce-6cd6362af0a9",
   "metadata": {},
   "outputs": [],
   "source": [
    "name_of_your_settings_file = 'etl_full_no_cems.yml'"
   ]
  },
  {
   "cell_type": "code",
   "execution_count": null,
   "id": "22a8029f-28a3-461d-980f-0c8e85aa8d59",
   "metadata": {
    "tags": []
   },
   "outputs": [],
   "source": [
    "pudl_settings = pudl.workspace.setup.get_defaults()\n",
    "with pathlib.Path(pudl_settings['settings_dir'] + f'/{name_of_your_settings_file}').open() as f:\n",
    "    script_settings = yaml.safe_load(f)\n",
    "etl_settings = script_settings['datapkg_bundle_settings'][0]\n",
    "#pudl_engine = sa.create_engine(pudl_settings['pudl_db'])"
   ]
  },
  {
   "cell_type": "markdown",
   "id": "6c43936d-ff17-4bee-b2db-c73ca3a0ae70",
   "metadata": {},
   "source": [
    "## Test Extract"
   ]
  },
  {
   "cell_type": "code",
   "execution_count": null,
   "id": "b1200102-5cc1-4012-92a0-89c8ad5ecf9f",
   "metadata": {},
   "outputs": [],
   "source": [
    "ferc1_inputs = etl_settings['datasets'][0]['ferc1']\n",
    "ferc1_years = ferc1_inputs['ferc1_years']\n",
    "ferc1_tables = ferc1_inputs['ferc1_tables']\n",
    "\n",
    "if not ferc1_years or not ferc1_tables:\n",
    "    print('Not loading FERC1')"
   ]
  },
  {
   "cell_type": "code",
   "execution_count": null,
   "id": "74398027-6254-4a84-9295-59e31f7998c5",
   "metadata": {},
   "outputs": [],
   "source": [
    "ferc1_raw_dfs = pudl.extract.ferc1.extract(\n",
    "    ferc1_tables=ferc1_tables,\n",
    "    ferc1_years=ferc1_years,\n",
    "    pudl_settings=pudl_settings\n",
    ")"
   ]
  },
  {
   "cell_type": "markdown",
   "id": "f68fb544-427b-41ca-96ee-a368546d2789",
   "metadata": {},
   "source": [
    "## Test Transform"
   ]
  },
  {
   "cell_type": "code",
   "execution_count": null,
   "id": "cc6433f7-d1dd-4077-ab19-aff10b35f863",
   "metadata": {},
   "outputs": [],
   "source": [
    "ferc1_transformed_dfs = pudl.transform.ferc1.transform(\n",
    "    ferc1_raw_dfs, ferc1_tables=ferc1_tables\n",
    ")"
   ]
  }
 ],
 "metadata": {
  "kernelspec": {
   "display_name": "Python 3 (ipykernel)",
   "language": "python",
   "name": "python3"
  },
  "language_info": {
   "codemirror_mode": {
    "name": "ipython",
    "version": 3
   },
   "file_extension": ".py",
   "mimetype": "text/x-python",
   "name": "python",
   "nbconvert_exporter": "python",
   "pygments_lexer": "ipython3",
   "version": "3.9.7"
  }
 },
 "nbformat": 4,
 "nbformat_minor": 5
}
