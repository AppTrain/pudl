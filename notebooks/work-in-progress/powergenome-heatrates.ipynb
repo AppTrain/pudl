{
 "cells": [
  {
   "cell_type": "markdown",
   "metadata": {},
   "source": [
    "# Notebook Setup"
   ]
  },
  {
   "cell_type": "code",
   "execution_count": null,
   "metadata": {},
   "outputs": [],
   "source": [
    "%load_ext autoreload\n",
    "%autoreload 2"
   ]
  },
  {
   "cell_type": "code",
   "execution_count": null,
   "metadata": {},
   "outputs": [],
   "source": [
    "# Standard libraries\n",
    "import logging\n",
    "import os\n",
    "import pathlib\n",
    "import sys\n",
    "\n",
    "# 3rd party libraries\n",
    "import matplotlib.pyplot as plt\n",
    "import matplotlib as mpl\n",
    "import numpy as np\n",
    "import pandas as pd\n",
    "import seaborn as sns\n",
    "import sqlalchemy as sa\n",
    "\n",
    "# Local libraries\n",
    "import pudl"
   ]
  },
  {
   "cell_type": "code",
   "execution_count": null,
   "metadata": {},
   "outputs": [],
   "source": [
    "sns.set()\n",
    "%matplotlib inline\n",
    "mpl.rcParams['figure.figsize'] = (10,4)\n",
    "mpl.rcParams['figure.dpi'] = 150\n",
    "pd.options.display.max_columns = 100\n",
    "pd.options.display.max_rows = 100"
   ]
  },
  {
   "cell_type": "code",
   "execution_count": null,
   "metadata": {},
   "outputs": [],
   "source": [
    "logger=logging.getLogger()\n",
    "logger.setLevel(logging.INFO)\n",
    "handler = logging.StreamHandler(stream=sys.stdout)\n",
    "formatter = logging.Formatter('%(message)s')\n",
    "handler.setFormatter(formatter)\n",
    "logger.handlers = [handler]"
   ]
  },
  {
   "cell_type": "markdown",
   "metadata": {},
   "source": [
    "# Define Functions & Constants"
   ]
  },
  {
   "cell_type": "markdown",
   "metadata": {},
   "source": [
    "## Notebook Constants"
   ]
  },
  {
   "cell_type": "code",
   "execution_count": null,
   "metadata": {},
   "outputs": [],
   "source": [
    "PRIME_MOVER_CODE_MAP = {\n",
    "    \"BA\": \"battery_storage\",\n",
    "    \"BT\": \"binary_cycle_turbine\",\n",
    "    \"CA\": \"combined_cycle_steam_part\",\n",
    "    \"CC\": \"combined_cycle_total_unit\",\n",
    "    \"CE\": \"compressed_air_storage\",\n",
    "    \"CP\": \"concentrated_solar_storage\",\n",
    "    \"CS\": \"combined_cycle_single_shaft\",\n",
    "    \"CT\": \"combined_cycle_combustion_turbine\",\n",
    "    \"ES\": \"other_energy_storage\",\n",
    "    \"FC\": \"fuel_cell\",\n",
    "    \"FW\": \"flywheel_storage\",\n",
    "    \"GT\": \"gas_combustion_turbine\",\n",
    "    \"HA\": \"hydrokinetic_axial_flow_turbine\",\n",
    "    \"HB\": \"hydrokinetic_wave_buoy\",\n",
    "    \"HK\": \"other_hydrokinetic\",\n",
    "    \"HY\": \"hydraulic_turbine\",\n",
    "    \"IC\": \"internal_combustion_engine\",\n",
    "    \"PS\": \"pumped_hydraulic_storage\",\n",
    "    \"OT\": \"other\",\n",
    "    \"ST\": \"steam_turbine\",\n",
    "    \"PV\": \"photovoltaic\",\n",
    "    \"WT\": \"onshore_wind_turbine\",\n",
    "    \"WS\": \"offshore_wind_turbine\",\n",
    "}\n",
    "\n",
    "FOSSIL_PRIME_MOVERS = {\n",
    "    \"CT\": \"combined_cycle_combustion_turbine\",\n",
    "    \"CS\": \"combined_cycle_single_shaft\",\n",
    "    \"CA\": \"combined_cycle_steam_part\",\n",
    "    \"CC\": \"combined_cycle_total_unit\",\n",
    "    \"GT\": \"gas_combustion_turbine\",\n",
    "    \"IC\": \"internal_combustion_engine\",\n",
    "    \"ST\": \"steam_turbine\",\n",
    "}\n",
    "\n",
    "GENS_COLS = [\n",
    "    \"report_date\",\n",
    "    \"plant_id_eia\",\n",
    "    \"plant_name_eia\",\n",
    "    \"unit_id_pudl\",\n",
    "    \"generator_id\",\n",
    "    \"capacity_mw\",\n",
    "    \"prime_mover_code\",\n",
    "    \"prime_mover\",\n",
    "    \"energy_source_code_1\",\n",
    "    \"energy_source_code_2\",\n",
    "    \"fuel_type_code_pudl\",\n",
    "    \"technology_description\",\n",
    "    \"associated_combined_heat_power\",\n",
    "]\n",
    "\n",
    "START_DATE, END_DATE = (\"2009-01-01\", \"2019-01-01\")\n"
   ]
  },
  {
   "cell_type": "markdown",
   "metadata": {},
   "source": [
    "## `prep_gens()`"
   ]
  },
  {
   "cell_type": "code",
   "execution_count": null,
   "metadata": {},
   "outputs": [],
   "source": [
    "def prep_gens(\n",
    "    pudl_out,\n",
    "    start_date=START_DATE,\n",
    "    end_date=END_DATE,\n",
    "    pm_code_map=FOSSIL_PRIME_MOVERS,\n",
    "):\n",
    "    \"\"\"\n",
    "    Preproccessing function to look at generators by prime mover and year.\n",
    "    \"\"\"\n",
    "    gens_eia860 = pudl_out.gens_eia860()\n",
    "    # Generator selection criteria\n",
    "    mask = (\n",
    "        (gens_eia860.report_date >= start_date)\n",
    "        & (gens_eia860.report_date <= end_date)\n",
    "        & (gens_eia860.prime_mover_code.isin(pm_code_map.keys()))\n",
    "    )\n",
    "    working_gens = (\n",
    "        gens_eia860\n",
    "        .loc[mask]\n",
    "        .assign(prime_mover=lambda x: x.prime_mover_code.map(pm_code_map))\n",
    "    )\n",
    "    # Calculate the annual generation by generator\n",
    "    net_gen_by_gen = (\n",
    "        pudl_out.gen_eia923()\n",
    "        .set_index(\"report_date\")\n",
    "        .groupby([pd.Grouper(freq=\"AS\"), \"plant_id_eia\", \"generator_id\"])\n",
    "        .net_generation_mwh.sum()\n",
    "        .to_frame()\n",
    "        .reset_index()\n",
    "    )\n",
    "    # Merge annual generation by generator into the working DF\n",
    "    return pd.merge(\n",
    "        working_gens,\n",
    "        net_gen_by_gen,\n",
    "        how=\"left\",\n",
    "        validate=\"1:1\",\n",
    "    )"
   ]
  },
  {
   "cell_type": "markdown",
   "metadata": {},
   "source": [
    "## `unit_gen_coverage()`"
   ]
  },
  {
   "cell_type": "code",
   "execution_count": null,
   "metadata": {},
   "outputs": [],
   "source": [
    "def unit_gen_coverage(prepped_gens):\n",
    "    \"\"\"\n",
    "    Characterize generator-level PUDL Unit ID coverage by year.\n",
    "    \n",
    "    For each year and fossil fuel prime mover code, calculate:\n",
    "    \n",
    "    * number & fraction of generator_id values that have a unit_id_pudl\n",
    "    * sum and fraction of overall capacity (MW) that has a unit_id_pudl\n",
    "    * sum and fraction of overall generation (MWh) associated with a\n",
    "      unit_id_pudl in the generation_eia923 table\n",
    "    \n",
    "    \"\"\"\n",
    "    working_gens = prepped_gens.copy()\n",
    "    # A boolean column indicating whether a record has a PUDL Unit ID\n",
    "    working_gens.loc[:, \"has_unit_id\"] = working_gens.unit_id_pudl.notna()\n",
    "    \n",
    "    def tot_frac(df, col):\n",
    "        return df.loc[:, (col, True)] / df[col].sum(axis=\"columns\")\n",
    "    \n",
    "    working_gens = (\n",
    "        working_gens.groupby([\"report_date\", \"prime_mover\", \"has_unit_id\"])\n",
    "        .agg(\n",
    "            num_gens=pd.NamedAgg(column=\"generator_id\", aggfunc=\"size\"),\n",
    "            capacity_mw=pd.NamedAgg(column=\"capacity_mw\", aggfunc=\"sum\"),\n",
    "            net_generation_mwh=pd.NamedAgg(column=\"net_generation_mwh\", aggfunc=\"sum\"),\n",
    "        )\n",
    "        .unstack(fill_value=0)\n",
    "        .assign(\n",
    "            num_gens_fraction=lambda x: tot_frac(x, \"num_gens\"),\n",
    "            capacity_mw_fraction=lambda x: tot_frac(x, \"capacity_mw\"),\n",
    "            net_generation_mwh_fraction=lambda x: tot_frac(x, \"net_generation_mwh\"),\n",
    "        )\n",
    "    )\n",
    "    return working_gens"
   ]
  },
  {
   "cell_type": "markdown",
   "metadata": {},
   "source": [
    "## `chp_prevalence()`"
   ]
  },
  {
   "cell_type": "code",
   "execution_count": null,
   "metadata": {},
   "outputs": [],
   "source": [
    "def chp_prevalence(gens_df):\n",
    "    \"\"\"\n",
    "    Assess the prevalence of Combined Heat & Power in Generators.\n",
    "    \n",
    "    Break down generators by year and prime mover, and within each group\n",
    "    calculate the proportion and total quantity associated with CHP per\n",
    "    \n",
    "    * number of generators\n",
    "    * capacity (MW)\n",
    "    * generation (MWh) in the generation_eia923 table\n",
    "    \"\"\"\n",
    "    gens_working = gens_df.copy()\n",
    "    # A boolean column indicating whether a record is associated with CHP\n",
    "    gens_working.loc[:, \"ass_chap\"] = gens_working.associated_combined_heat_power.astype(bool)\n",
    "    \n",
    "    def tot_frac(df, col):\n",
    "        return df.loc[:, (col, True)] / df[col].sum(axis=\"columns\")\n",
    "    \n",
    "    gens_working = (\n",
    "        gens_working.groupby([\"report_date\", \"prime_mover\", \"ass_chap\"])\n",
    "        .agg(\n",
    "            num_gens=pd.NamedAgg(column=\"generator_id\", aggfunc=\"size\"),\n",
    "            capacity_mw=pd.NamedAgg(column=\"capacity_mw\", aggfunc=\"sum\"),\n",
    "            net_generation_mwh=pd.NamedAgg(column=\"net_generation_mwh\", aggfunc=\"sum\"),\n",
    "        )\n",
    "        .unstack(fill_value=0)\n",
    "        .assign(\n",
    "            num_gens_fraction=lambda x: tot_frac(x, \"num_gens\"),\n",
    "            capacity_mw_fraction=lambda x: tot_frac(x, \"capacity_mw\"),\n",
    "            net_generation_mwh_fraction=lambda x: tot_frac(x, \"net_generation_mwh\"),\n",
    "        )\n",
    "    )\n",
    "    return gens_working "
   ]
  },
  {
   "cell_type": "markdown",
   "metadata": {},
   "source": [
    "# Assess Generators"
   ]
  },
  {
   "cell_type": "markdown",
   "metadata": {},
   "source": [
    "## Create PUDL output object"
   ]
  },
  {
   "cell_type": "code",
   "execution_count": null,
   "metadata": {},
   "outputs": [],
   "source": [
    "pudl_settings = pudl.workspace.setup.get_defaults()\n",
    "display(pudl_settings)\n",
    "\n",
    "ferc1_engine = sa.create_engine(pudl_settings['ferc1_db'])\n",
    "pudl_engine = sa.create_engine(pudl_settings['pudl_db'])\n",
    "\n",
    "\n",
    "API_KEY_EIA = os.environ[\"API_KEY_EIA\"]\n",
    "\n",
    "pudl_out = pudl.output.pudltabl.PudlTabl(\n",
    "    freq=\"MS\",\n",
    "    pudl_engine=pudl_engine,\n",
    ")"
   ]
  },
  {
   "cell_type": "markdown",
   "metadata": {
    "tags": []
   },
   "source": [
    "## Examine Existing Unit ID Coverage\n",
    "Only a fraction of all fossil generation is associated with PUDL Unit IDs, which are integral to our most granular heat rate determination. We need to understand how good the coverage is, and why the generators / generation we're missing isn't covered. THere's at least 3 ways we can evaluate this coverage, at the generator level, based on information in the `generators_eia860` table:\n",
    "* by generator ID\n",
    "* by capacity (MW)\n",
    "* by generation (MWh)\n",
    "\n",
    "These can be broken down by:\n",
    "* Time (look at annual quantities and how they've changed)\n",
    "* Prime mover code (useful since it's in both generation and generation_fuel tables)\n",
    "* Whether the generators appear in the `generation_eia923` table\n",
    "* Whether the generators are associated with CHP\n",
    "  * Are there plants where all generators do CHP? Would be useful for benchmarking heat rate impacts.\n",
    "* Primary fuel (not totally well defined, since there are many mixed-fuel generators)\n",
    "\n",
    "Values to report on those breakdowns:\n",
    "* Absolute totals (# of IDs, MW, or MWh)\n",
    "* Fraction of reported totals\n",
    "\n",
    "Can also look at just the population of generators which report in the `generation_eia923` table each year, since those are the only ones where we will really have generator level electricity output and boiler level fuel inputs that can be directly linked with the `unit_id_pudl` if it exists. Many of the generators without IDs will likely be generators without boilers. Assigning them Unit IDs will be useful insofar as they still have fuel inputs which are reported (probably only in `generation_fuel_eia923`) and so we can assess both their inputs and outputs. Or insofar as we are using the `unit_id_pudl` values to do aggregations on tables of generators, which are sometimes linked to each other even if they don't have boilers involved in that linkage.\n",
    "\n",
    "We want an assessment that gets at the above information, and which can be run on both existing and potential new ID assignments."
   ]
  },
  {
   "cell_type": "markdown",
   "metadata": {},
   "source": [
    "## Summarize Generator Unit Coverage"
   ]
  },
  {
   "cell_type": "code",
   "execution_count": null,
   "metadata": {},
   "outputs": [],
   "source": [
    "prepped_gens = prep_gens(\n",
    "    pudl_out,\n",
    "    start_date=START_DATE,\n",
    "    end_date=END_DATE,\n",
    "    pm_code_map=FOSSIL_PRIME_MOVERS,\n",
    ")\n",
    "unit_summary = unit_gen_coverage(prepped_gens)"
   ]
  },
  {
   "cell_type": "markdown",
   "metadata": {},
   "source": [
    "## Display Results"
   ]
  },
  {
   "cell_type": "markdown",
   "metadata": {},
   "source": [
    "### Absolute Unit Coverage (N, MW, MWh)"
   ]
  },
  {
   "cell_type": "code",
   "execution_count": null,
   "metadata": {
    "tags": []
   },
   "outputs": [],
   "source": [
    "sns.relplot(x=\"report_date\", y=(\"num_gens\", True), data=unit_summary, hue=\"prime_mover\", kind=\"line\")\n",
    "sns.relplot(x=\"report_date\", y=(\"capacity_mw\", True), data=unit_summary, hue=\"prime_mover\", kind=\"line\")\n",
    "sns.relplot(x=\"report_date\", y=(\"net_generation_mwh\", True), data=unit_summary, hue=\"prime_mover\", kind=\"line\")\n",
    "plt.show();"
   ]
  },
  {
   "cell_type": "markdown",
   "metadata": {},
   "source": [
    "### Proportional Unit Coverage"
   ]
  },
  {
   "cell_type": "code",
   "execution_count": null,
   "metadata": {
    "tags": []
   },
   "outputs": [],
   "source": [
    "sns.relplot(x=\"report_date\", y=\"num_gens_fraction\", data=unit_summary, hue=\"prime_mover\", kind=\"line\")\n",
    "sns.relplot(x=\"report_date\", y=\"capacity_mw_fraction\", data=unit_summary, hue=\"prime_mover\", kind=\"line\")\n",
    "sns.relplot(x=\"report_date\", y=\"net_generation_mwh_fraction\", data=unit_summary, hue=\"prime_mover\", kind=\"line\")\n",
    "plt.show();"
   ]
  },
  {
   "cell_type": "markdown",
   "metadata": {},
   "source": [
    "## CHP Prevalence\n",
    "* What fraction of generators, capacity, and generation are associated with generators that also do CHP?"
   ]
  },
  {
   "cell_type": "code",
   "execution_count": null,
   "metadata": {},
   "outputs": [],
   "source": [
    "chp_summary = chp_prevalence(prepped_gens)\n",
    "chp_summary"
   ]
  },
  {
   "cell_type": "code",
   "execution_count": null,
   "metadata": {},
   "outputs": [],
   "source": [
    "gens_df[gens_df.associated_combined_heat_power.isna()][GENS_COLS]"
   ]
  },
  {
   "cell_type": "markdown",
   "metadata": {},
   "source": [
    "# Improve PUDL Unit ID Coverage\n",
    "\n",
    "## Identify new types of Unit IDs\n",
    "* Plants with only a single generator (of any kind)\n",
    "* Combined Cycle plants w/ a single pair of combustion + steam turbines\n",
    "* Any single-shaft Combined Cycle generator (always independent?)\n",
    "* Agglomerations of all combined-cycle generators lacking a PUDL ID within a plant\n",
    "\n",
    "## Assign and label new Unit IDs\n",
    "\n",
    "## Assess New Unit ID Impacts on coverage\n",
    "* Run the same assessment functions as we did above"
   ]
  },
  {
   "cell_type": "code",
   "execution_count": null,
   "metadata": {},
   "outputs": [],
   "source": [
    "assert False"
   ]
  },
  {
   "cell_type": "markdown",
   "metadata": {},
   "source": [
    "# Assess Existing Heat Rates\n",
    "* We need some way to compare different ways of calculating heat rates and choose between them.\n",
    "* We want to check both for their correctness, and their completeness.\n",
    "* Apparent correctness will depend on the type of generator / unit type. Need to define different expectations."
   ]
  },
  {
   "cell_type": "code",
   "execution_count": null,
   "metadata": {},
   "outputs": [],
   "source": [
    "%%time\n",
    "hr_by_unit = pudl_out.hr_by_unit()\n",
    "hr_by_unit.info()"
   ]
  },
  {
   "cell_type": "markdown",
   "metadata": {},
   "source": [
    "## Compile Net Generation\n",
    "* **By generator**\n",
    "  * `net_generation_mwh` available from `generation_eia923` table\n",
    "  * Associated with `plant_id_eia` and `generator_id` columns directly.\n",
    "  * Can be associated with `unit_id_pudl` if the generator is part of an identified unit\n",
    "  * Can be associated with a `technology_description` and `prime_mover_code` based on the `generators_eia860` table.\n",
    "  * Can be associated with a list of energy sources based on `energy_source_N` in `generators_eia860` table.\n",
    "* **By plant-prime-fuel**\n",
    "  * `net_generation_mwh` is available from generation_fuel_eia923`"
   ]
  },
  {
   "cell_type": "markdown",
   "metadata": {},
   "source": [
    "## Compile Fuel Consumption\n",
    "* **By boiler**\n",
    "  * `total_heat_content_mmbtu` and `fuel_type_code_pudl` are available by `plant_id_eia` and `boiler_id` in `boiler_fuel_eia923`\n",
    "  * This value can be be associated with a `unit_id_pudl` based on the BGA table.\n",
    "  * The heat consumed in here includes fuels both for electricity and steam (direct heat) outputs.\n",
    "* **By plant-prime-fuel**\n",
    "  * Available in `generation_fuel` and broken down as for CHP vs Electricity separately."
   ]
  },
  {
   "cell_type": "markdown",
   "metadata": {},
   "source": [
    "## Identify Combined Cycle Units\n",
    "* Combined Cycle turbines show up in the generators table, but have no \"boiler\" so they don't end up in the boiler-generator-association\n",
    "* This means they don't get assigned `unit_id_pudl` values and are often lost.\n",
    "* However, they are identifiable based on `technology_description` in the generators table, and so can be associated with a plant.\n",
    "* Within a given plant, it's possible to combine all the natural gas that goes into a "
   ]
  },
  {
   "cell_type": "markdown",
   "metadata": {},
   "source": [
    "## Questions:\n",
    "* Do all of the generators that show up in the generation table end up getting PUDL Unit IDs assigned?\n",
    "* Where are the heat inputs being reported for combined cycle units? Do they really exist after 2015? What is still missing?\n",
    "* Triage units / generators into: Easy, Hard, and Impossible. Work on Hard ones until diminishing returns. Assign impossible and too-hard ones the median values."
   ]
  },
  {
   "cell_type": "markdown",
   "metadata": {},
   "source": [
    "## Tables of Interest:\n",
    "* `generation_eia923`\n",
    "* `generation_fuel_eia923`\n",
    "* `boiler_generator_assn_eia860`\n",
    "* `generators_eia860`\n",
    "* `generators_entity_eia`\n",
    "* `boiler_fuel_eia923`"
   ]
  },
  {
   "cell_type": "code",
   "execution_count": null,
   "metadata": {},
   "outputs": [],
   "source": [
    "gens_eia860_sql = \"\"\"\n",
    "SELECT report_date,\n",
    "       plant_id_eia,\n",
    "       generator_id,\n",
    "       capacity_mw,\n",
    "       energy_source_code_1,\n",
    "       energy_source_code_2,\n",
    "       energy_source_code_3,\n",
    "       energy_source_code_4,\n",
    "       energy_source_code_5,\n",
    "       energy_source_code_6,\n",
    "       fuel_type_code_pudl,\n",
    "       technology_description,\n",
    "FROM generators_eia860\n",
    "\"\"\"\n",
    "\n",
    "gens_entity_sql = \"\"\"\n",
    "SELECT report_date,\n",
    "       plant_id_eia,\n",
    "       generator_id,\n",
    "       prime_mover_code,\n",
    "       bypass_heat_recovery,\n",
    "       associated_combined_heat_and_power,\n",
    "FROM generators_entity_eia\n",
    "\"\"\"\n",
    "\n",
    "gen_eia923_sql = \"\"\"\n",
    "SELECT report_date,\n",
    "       plant_id_eia,\n",
    "       generator_id,\n",
    "       net_generation_mwh\n",
    "FROM generation_eia923\n",
    "\"\"\"\n",
    "\n",
    "gf_eia923_sql = \"\"\"\n",
    "SELECT report_date,\n",
    "       plant_id_eia,\n",
    "       nuclear_unit_id,\n",
    "       fuel_type,\n",
    "       fuel_type_code_pudl,\n",
    "       prime_mover_code,\n",
    "       fuel_consumed_mmbtu,\n",
    "       fuel_consumed_for_electricity_mmbtu,\n",
    "       net_generation_mwh\n",
    "FROM generation_fuel_eia923\n",
    "\"\"\"\n",
    "\n",
    "bga_sql = \"\"\"\n",
    "SELECT report_date,\n",
    "       plant_id_eia,\n",
    "       unit_id_pudl,\n",
    "       generator_id,\n",
    "       boiler_id\n",
    "FROM boiler_generator_assn_eia860\n",
    "\"\"\"\n",
    "\n",
    "bf_eia923_sql = \"\"\"\n",
    "SELECT report_date,\n",
    "       plant_id_eia,\n",
    "       boiler_id,\n",
    "       fuel_type_code,\n",
    "       fuel_type_code_pudl,\n",
    "       fuel_consumed_units,\n",
    "       fuel_mmbtu_per_unit\n",
    "FROM boiler_fuel_eia923\n",
    "\"\"\"\n"
   ]
  },
  {
   "cell_type": "markdown",
   "metadata": {},
   "source": [
    "## Compile Fuel Consumption\n",
    "  * Reported by boiler in `boiler_fuel_eia923` and so can be associated "
   ]
  },
  {
   "cell_type": "markdown",
   "metadata": {},
   "source": [
    "# Preliminary Data Wrangling\n",
    "Once all of the data is loaded and looks like it's in good shape, do any initial wrangling that's specific to this particular analysis. This should mostly make use of the higher level functions which were defined above. If this step takes a while, don't be shy about producing `logging` outputs."
   ]
  },
  {
   "cell_type": "code",
   "execution_count": null,
   "metadata": {},
   "outputs": [],
   "source": []
  },
  {
   "cell_type": "markdown",
   "metadata": {},
   "source": [
    "# Data Analysis and Visualization\n",
    "* Now that you've got the required data in a usable form, you can tell the story of your analysis through a mix of visualizations, and further data wrangling steps.\n",
    "* This narrative should be readable, with figures that have titles, legends, and labeled axes as appropriate so others can understand what you're showing them.\n",
    "* The code should be concise and make use of the parameters and functions which you've defined above when possible. Functions should contain comprehensible chunks of work that make sense as one step in the story of the analysis."
   ]
  },
  {
   "cell_type": "code",
   "execution_count": null,
   "metadata": {},
   "outputs": [],
   "source": [
    "coal_ax = finite_distplot(mcoe_coal, \"heat_rate_mmbtu_mwh\", max_val=20)\n",
    "plt.title(\"Coal heat rate distribution\");"
   ]
  },
  {
   "cell_type": "code",
   "execution_count": null,
   "metadata": {},
   "outputs": [],
   "source": [
    "gas_ax = finite_distplot(mcoe_gas, \"heat_rate_mmbtu_mwh\", max_val=20)\n",
    "plt.title(\"Gas heat rate distribution\");"
   ]
  }
 ],
 "metadata": {
  "kernelspec": {
   "display_name": "Python 3",
   "language": "python",
   "name": "python3"
  },
  "language_info": {
   "codemirror_mode": {
    "name": "ipython",
    "version": 3
   },
   "file_extension": ".py",
   "mimetype": "text/x-python",
   "name": "python",
   "nbconvert_exporter": "python",
   "pygments_lexer": "ipython3",
   "version": "3.9.2"
  },
  "toc-autonumbering": true,
  "toc-showmarkdowntxt": false,
  "toc-showtags": false
 },
 "nbformat": 4,
 "nbformat_minor": 4
}
