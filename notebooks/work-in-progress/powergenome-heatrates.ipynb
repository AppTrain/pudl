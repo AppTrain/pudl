{
 "cells": [
  {
   "cell_type": "markdown",
   "metadata": {},
   "source": [
    "# Notebook Preamble"
   ]
  },
  {
   "cell_type": "code",
   "execution_count": null,
   "metadata": {},
   "outputs": [],
   "source": [
    "%load_ext autoreload\n",
    "%autoreload 2"
   ]
  },
  {
   "cell_type": "code",
   "execution_count": null,
   "metadata": {},
   "outputs": [],
   "source": [
    "# Standard libraries\n",
    "import logging\n",
    "import os\n",
    "import pathlib\n",
    "import sys\n",
    "\n",
    "# 3rd party libraries\n",
    "import matplotlib.pyplot as plt\n",
    "import matplotlib as mpl\n",
    "import numpy as np\n",
    "import pandas as pd\n",
    "import seaborn as sns\n",
    "import sqlalchemy as sa\n",
    "\n",
    "# Local libraries\n",
    "import pudl"
   ]
  },
  {
   "cell_type": "code",
   "execution_count": null,
   "metadata": {},
   "outputs": [],
   "source": [
    "sns.set()\n",
    "%matplotlib inline\n",
    "mpl.rcParams['figure.figsize'] = (10,4)\n",
    "mpl.rcParams['figure.dpi'] = 100\n",
    "pd.options.display.max_columns = 100\n",
    "pd.options.display.max_rows = 100"
   ]
  },
  {
   "cell_type": "code",
   "execution_count": null,
   "metadata": {},
   "outputs": [],
   "source": [
    "logger=logging.getLogger()\n",
    "logger.setLevel(logging.INFO)\n",
    "handler = logging.StreamHandler(stream=sys.stdout)\n",
    "formatter = logging.Formatter('%(message)s')\n",
    "handler.setFormatter(formatter)\n",
    "logger.handlers = [handler]"
   ]
  },
  {
   "cell_type": "markdown",
   "metadata": {},
   "source": [
    "# Function Definitions"
   ]
  },
  {
   "cell_type": "markdown",
   "metadata": {},
   "source": [
    "## `prep_gens()`"
   ]
  },
  {
   "cell_type": "code",
   "execution_count": null,
   "metadata": {},
   "outputs": [],
   "source": [
    "def prep_gens(pudl_out, prime_mover_codes):\n",
    "    \"\"\"\n",
    "    Preproccessing function to look at generators by prime mover and year.\n",
    "    \"\"\"\n",
    "    gens_eia860 = pudl_out.gens_eia860()\n",
    "    # Generator selection criteria\n",
    "    working_gens = gens_eia860.loc[gens_eia860.prime_mover_code.isin(prime_mover_codes)]\n",
    "    # Calculate the annual generation by generator\n",
    "    net_gen_by_gen = (\n",
    "        pudl_out.gen_eia923()\n",
    "        .set_index(\"report_date\")\n",
    "        .groupby([pd.Grouper(freq=\"AS\"), \"plant_id_eia\", \"generator_id\"])\n",
    "        .net_generation_mwh.sum()\n",
    "        .to_frame()\n",
    "        .reset_index()\n",
    "    )\n",
    "    # Merge annual generation by generator into the working DF\n",
    "    return pd.merge(\n",
    "        working_gens,\n",
    "        net_gen_by_gen,\n",
    "        how=\"left\",\n",
    "        validate=\"1:1\",\n",
    "    )"
   ]
  },
  {
   "cell_type": "markdown",
   "metadata": {},
   "source": [
    "## `unit_gen_coverage()`"
   ]
  },
  {
   "cell_type": "code",
   "execution_count": null,
   "metadata": {},
   "outputs": [],
   "source": [
    "def unit_gen_coverage(prepped_gens):\n",
    "    \"\"\"\n",
    "    Characterize generator-level PUDL Unit ID coverage by year.\n",
    "    \n",
    "    For each year and fossil fuel prime mover code, calculate:\n",
    "    \n",
    "    * number & fraction of generator_id values that have a unit_id_pudl\n",
    "    * sum and fraction of overall capacity (MW) that has a unit_id_pudl\n",
    "    * sum and fraction of overall generation (MWh) associated with a\n",
    "      unit_id_pudl in the generation_eia923 table\n",
    "    \n",
    "    \"\"\"\n",
    "    working_gens = prepped_gens.copy()\n",
    "    # A boolean column indicating whether a record has a PUDL Unit ID\n",
    "    working_gens.loc[:, \"has_unit_id\"] = working_gens.unit_id_pudl.notna()\n",
    "    \n",
    "    def tot_frac(df, col):\n",
    "        return df.loc[:, (col, True)] / df[col].sum(axis=\"columns\")\n",
    "    \n",
    "    working_gens = (\n",
    "        working_gens.groupby([\"report_date\", \"prime_mover_code\", \"has_unit_id\"])\n",
    "        .agg(\n",
    "            num_gens=pd.NamedAgg(column=\"generator_id\", aggfunc=\"size\"),\n",
    "            capacity_mw=pd.NamedAgg(column=\"capacity_mw\", aggfunc=\"sum\"),\n",
    "            net_generation_mwh=pd.NamedAgg(column=\"net_generation_mwh\", aggfunc=\"sum\"),\n",
    "        )\n",
    "        .unstack(fill_value=0)\n",
    "        .assign(\n",
    "            num_gens_fraction=lambda x: tot_frac(x, \"num_gens\"),\n",
    "            capacity_mw_fraction=lambda x: tot_frac(x, \"capacity_mw\"),\n",
    "            net_generation_mwh_fraction=lambda x: tot_frac(x, \"net_generation_mwh\"),\n",
    "        )\n",
    "    )\n",
    "    return working_gens"
   ]
  },
  {
   "cell_type": "markdown",
   "metadata": {},
   "source": [
    "## `chp_prevalence()`"
   ]
  },
  {
   "cell_type": "code",
   "execution_count": null,
   "metadata": {},
   "outputs": [],
   "source": [
    "def chp_prevalence(gens_df):\n",
    "    \"\"\"\n",
    "    Assess the prevalence of Combined Heat & Power in Generators.\n",
    "    \n",
    "    Break down generators by year and prime mover, and within each group\n",
    "    calculate the proportion and total quantity associated with CHP per\n",
    "    \n",
    "    * number of generators\n",
    "    * capacity (MW)\n",
    "    * generation (MWh) in the generation_eia923 table\n",
    "    \"\"\"\n",
    "    gens_working = gens_df.copy()\n",
    "    # A boolean column indicating whether a record is associated with CHP\n",
    "    gens_working.loc[:, \"ass_chap\"] = gens_working.associated_combined_heat_power.astype(bool)\n",
    "    \n",
    "    def tot_frac(df, col):\n",
    "        return df.loc[:, (col, True)] / df[col].sum(axis=\"columns\")\n",
    "    \n",
    "    gens_working = (\n",
    "        gens_working.groupby([\"report_date\", \"prime_mover_code\", \"ass_chap\"])\n",
    "        .agg(\n",
    "            num_gens=pd.NamedAgg(column=\"generator_id\", aggfunc=\"size\"),\n",
    "            capacity_mw=pd.NamedAgg(column=\"capacity_mw\", aggfunc=\"sum\"),\n",
    "            net_generation_mwh=pd.NamedAgg(column=\"net_generation_mwh\", aggfunc=\"sum\"),\n",
    "        )\n",
    "        .unstack(fill_value=0)\n",
    "        .assign(\n",
    "            num_gens_fraction=lambda x: tot_frac(x, \"num_gens\"),\n",
    "            capacity_mw_fraction=lambda x: tot_frac(x, \"capacity_mw\"),\n",
    "            net_generation_mwh_fraction=lambda x: tot_frac(x, \"net_generation_mwh\"),\n",
    "        )\n",
    "    )\n",
    "    return gens_working "
   ]
  },
  {
   "cell_type": "markdown",
   "metadata": {},
   "source": [
    "## `fill_unit_ids()`"
   ]
  },
  {
   "cell_type": "code",
   "execution_count": null,
   "metadata": {},
   "outputs": [],
   "source": [
    "def fill_unit_ids(gens):\n",
    "    \"\"\"\n",
    "    Back and forward fill Unit IDs for each plant / gen combination.\n",
    "    \n",
    "    This routine assumes that the mapping of generators to units is constant\n",
    "    over time, and extends those mappings into years where no boilers have\n",
    "    been reported -- since in the BGA we can only connect generators to each\n",
    "    other if they are both connected to a boiler.\n",
    "    \n",
    "    Prior to 2014, combined cycle units didn't report any \"boilers\" but in\n",
    "    latter years, they have been given \"boilers\" that correspond to their\n",
    "    generators, so that all of their fuel consumption is recorded alongside\n",
    "    that of other types of generators.\n",
    "    \n",
    "    Returns:\n",
    "        pd.DataFrame: with columns: report_date, plant_id_eia, generator_id,\n",
    "            unit_id_pudl, prime_mover_code, unit_id_source, unit_id_new\n",
    "    \"\"\"\n",
    "    # forward and backward fill the unit IDs\n",
    "    gen_ids = [\"plant_id_eia\", \"generator_id\"]\n",
    "    gens = gens.sort_values([\"report_date\", \"plant_id_eia\", \"generator_id\"])\n",
    "\n",
    "    bfill_units = gens.groupby(gen_ids)[\"unit_id_pudl\"].bfill()\n",
    "    bfill_idx = (bfill_units.notnull()) & (gens.unit_id_pudl.isnull())\n",
    "    gens.loc[bfill_idx, \"bga_source\"] = \"bfill_units\"\n",
    "    gens.loc[bfill_idx, \"unit_id_pudl\"] = bfill_units.loc[bfill_idx]\n",
    "    \n",
    "    ffill_units = gens.groupby(gen_ids)[\"unit_id_pudl\"].ffill()\n",
    "    ffill_idx = (ffill_units.notnull()) & (gens.unit_id_pudl.isnull())\n",
    "    gens.loc[ffill_idx, \"bga_source\"] = \"ffill_units\"\n",
    "    gens.loc[ffill_idx, \"unit_id_pudl\"] = ffill_units.loc[ffill_idx]\n",
    "    gens[\"bga_source\"] = gens[\"bga_source\"].astype(pd.StringDtype())\n",
    "\n",
    "    return gens"
   ]
  },
  {
   "cell_type": "markdown",
   "metadata": {},
   "source": [
    "## `test_gen_units_are_unique()`\n",
    "Add this to the integration tests"
   ]
  },
  {
   "cell_type": "code",
   "execution_count": null,
   "metadata": {},
   "outputs": [],
   "source": [
    "def test_generator_consistency(df, col):\n",
    "    \"\"\"\n",
    "    Test that every generator is associated with at most one value of col.\n",
    "    \n",
    "    Does not treat NA values of ``col`` as separate values (they are ignored).\n",
    "    \n",
    "    Args:\n",
    "        df (pandas.DataFrame): A dataframe containing columns\n",
    "            ``plant_id_eia``, ``generator_id``, and ``col``.\n",
    "\n",
    "    Returns:\n",
    "        None\n",
    "\n",
    "    \"\"\"\n",
    "    gens_with_col = df[[\"plant_id_eia\", \"generator_id\", col]].dropna().drop_duplicates()\n",
    "    unique_gens = gens_with_col[[\"plant_id_eia\", \"generator_id\"]].drop_duplicates()\n",
    "    pd.testing.assert_frame_equal(\n",
    "        gens_with_col[[\"plant_id_eia\", \"generator_id\"]],\n",
    "        unique_gens[[\"plant_id_eia\", \"generator_id\"]],\n",
    "    )"
   ]
  },
  {
   "cell_type": "markdown",
   "metadata": {},
   "source": [
    "## `test_inconsistent_gen_ids()`\n",
    "Add this to the integration tests."
   ]
  },
  {
   "cell_type": "code",
   "execution_count": null,
   "metadata": {},
   "outputs": [],
   "source": [
    "def test_inconsistent_gen_ids(pudl_out):\n",
    "    \"\"\"\n",
    "    Find generator IDs that only differ by case and non-alphanumeric characters.\n",
    "    \"\"\"\n",
    "    gens_eia860 = pudl_out.gens_eia860()\n",
    "    clean_gen_ids = (\n",
    "        gens_eia860[[\"plant_id_eia\", \"generator_id\"]].drop_duplicates()\n",
    "        .assign(\n",
    "            clean_gen_id=lambda x: x.generator_id.str.upper().str.replace(r\"[^a-zA-Z0-9]\", \"\"),\n",
    "        )\n",
    "    )\n",
    "\n",
    "    dirty_gen_ids = (\n",
    "        clean_gen_ids.drop_duplicates(subset=[\"plant_id_eia\", \"clean_gen_id\"], keep=False)\n",
    "    )\n",
    "    inconsistent_gen_ids = (\n",
    "        clean_gen_ids[clean_gen_ids.duplicated(subset=[\"plant_id_eia\", \"clean_gen_id\"], keep=False)]\n",
    "        .sort_values([\"plant_id_eia\", \"clean_gen_id\"])\n",
    "    )\n",
    "    logger.info(\"Found %s inconsistently reported generator_id values.\", len(inconsistent_gen_ids))\n",
    "    \n",
    "    if len(inconsistent_gen_ids) > 40:\n",
    "        raise AssertionError\n",
    "    \n",
    "    return inconsistent_gen_ids"
   ]
  },
  {
   "cell_type": "markdown",
   "metadata": {},
   "source": [
    "## `max_unit_id_by_plant()`"
   ]
  },
  {
   "cell_type": "code",
   "execution_count": null,
   "metadata": {},
   "outputs": [],
   "source": [
    "def max_unit_id_by_plant(gens_df):\n",
    "    \"\"\"\n",
    "    Identify the largest unit ID associated with each plant so we don't overlap.\n",
    "    \n",
    "    This calculation depends on having all of the generators and units of all\n",
    "    kinds still available in the dataframe!\n",
    "    \"\"\"\n",
    "    return (\n",
    "        gens_df[[\"plant_id_eia\", \"unit_id_pudl\"]]\n",
    "        .drop_duplicates()\n",
    "        .groupby(\"plant_id_eia\").agg({\"unit_id_pudl\": max})\n",
    "        .fillna(0)\n",
    "        .rename(columns={\"unit_id_pudl\": \"max_unit_id_pudl\"})\n",
    "        .reset_index()\n",
    "    )"
   ]
  },
  {
   "cell_type": "markdown",
   "metadata": {},
   "source": [
    "## `assign_simple_unit_ids()`"
   ]
  },
  {
   "cell_type": "code",
   "execution_count": null,
   "metadata": {},
   "outputs": [],
   "source": [
    "def assign_simple_unit_ids(gens_df, prime_mover_codes, label_prefix=\"single\"):\n",
    "    \"\"\"\n",
    "    Assign unique PUDL Unit IDs to all generators of a given prime mover type.\n",
    "\n",
    "    Calculate the maximum pre-existing PUDL Unit ID within each plant, and\n",
    "    assign each as of yet unidentified distinct generator within each plant\n",
    "    with an incrementing integer unit_id_pudl, beginning with 1 + the previous\n",
    "    maximum unit_id_pudl found in that plant. Mark that generator with the\n",
    "    given label.\n",
    "\n",
    "    Only generators with an NA unit_id_pudl will be assigned a new ID\n",
    "    \n",
    "    Args:\n",
    "        gens_df (pandas.DataFrame): A collection of EIA generator records.\n",
    "            Must include the ``plant_id_eia``, ``generator_id`` and\n",
    "            ``prime_mover_code`` and ``unit_id_pudl`` columns.\n",
    "        prime_mover_codes (list): List of prime mover codes for which we are\n",
    "            attempting to assign simple Unit IDs.\n",
    "        label_prefix (str): String to use in labeling records as to how their\n",
    "            unit_id_pudl was set. Will be concatenated with the prime mover\n",
    "            code.\n",
    "        \n",
    "    Returns:\n",
    "        pandas.DataFrame: A new dataframe with the same rows and columns as\n",
    "        were passed in, but with the unit_id_pudl and bga_source columns updated\n",
    "        to reflect the newly assigned Unit IDs.\n",
    "\n",
    "    \"\"\"\n",
    "\n",
    "    # Only alter the rows lacking Unit IDs and matching our target prime movers\n",
    "    row_mask = (gens_df.prime_mover_code.isin(prime_mover_codes)) & (gens_df.unit_id_pudl.isnull())\n",
    "    # We only need a few columns to make these assignments.\n",
    "    cols = [\"plant_id_eia\", \"generator_id\", \"unit_id_pudl\", \"prime_mover_code\"]\n",
    "    \n",
    "    logger.info(\n",
    "        \"Selected %s %s records lacking Unit IDs from %s records overall. \",\n",
    "        len(row_mask[row_mask==True]), prime_mover_codes, len(gens_df)\n",
    "    )\n",
    "\n",
    "    unit_ids = (\n",
    "        gens_df.loc[row_mask, cols]\n",
    "        .drop_duplicates()\n",
    "        .merge(\n",
    "            max_unit_id_by_plant(gens_df),\n",
    "            on=\"plant_id_eia\",\n",
    "            how=\"left\",\n",
    "            validate=\"many_to_one\",\n",
    "        )\n",
    "        # Assign new unit_id_pudl values based on number of distinct generators:\n",
    "        .assign(\n",
    "            unit_id_pudl=lambda x: x.groupby(\"plant_id_eia\").cumcount() + x.max_unit_id_pudl + 1,\n",
    "            bga_source=lambda x: label_prefix + \"_\" + x.prime_mover_code.str.lower(),\n",
    "        )\n",
    "        .drop([\"max_unit_id_pudl\", \"prime_mover_code\"], axis=\"columns\")\n",
    "    )\n",
    "    # Split original dataframe based on row_mask, and merge in the new IDs and\n",
    "    # labels only on the subset of the dataframe matching our row_mask:\n",
    "    out_df = gens_df.loc[~row_mask].append(\n",
    "        gens_df.loc[row_mask]\n",
    "        .drop([\"unit_id_pudl\", \"bga_source\"], axis=\"columns\")\n",
    "        .merge(\n",
    "            unit_ids,\n",
    "            on=[\"plant_id_eia\", \"generator_id\"],\n",
    "            how=\"left\",\n",
    "            validate=\"many_to_one\",\n",
    "        )\n",
    "    )\n",
    "        \n",
    "    return out_df\n"
   ]
  },
  {
   "cell_type": "markdown",
   "metadata": {},
   "source": [
    "## `assign_unique_combined_cycle_unit_ids()`"
   ]
  },
  {
   "cell_type": "code",
   "execution_count": null,
   "metadata": {},
   "outputs": [],
   "source": [
    "def assign_unique_combined_cycle_unit_ids(gens_df):\n",
    "    \"\"\"\n",
    "    Assign unit IDs to combined cycle plants with a unique CT or CA generator.\n",
    "    \n",
    "    Within each plant, for any generator that has no Unit ID, count the number\n",
    "    of generators of each prime mover type. Assign any collection of generators\n",
    "    having only a single CT or a single CA a unit ID, and flag it \"unique_cc\".\n",
    "    Assign collection of generators having multiple CTs and multiple CAs unit\n",
    "    IDs and flag them \"multi_cc\"\n",
    "    \"\"\"\n",
    "    \n",
    "    pm_cols = [\"plant_id_eia\", \"generator_id\", \"prime_mover_code\"]\n",
    "    # Get rid of the annual dependence, and only keep gens with missing PMs\n",
    "    df = gens_df[gens_df.unit_id_pudl.isna()][pm_cols].drop_duplicates()\n",
    "    # Count up the number of each kind of prime mover on a per-plant ID basis:\n",
    "    pm_counts = (\n",
    "        df.groupby([\"plant_id_eia\", \"prime_mover_code\"])\n",
    "        .size()\n",
    "        .unstack(fill_value=0)\n",
    "    )\n",
    "    # Plant IDs with at least one CT and one CA\n",
    "    # and either a single CA or a single CT.\n",
    "    # This makes the combined cycle unit grouping unambiguous.\n",
    "    cc_plant_ids = pm_counts[\n",
    "        (pm_counts[\"CA\"] > 0)\n",
    "        & (pm_counts[\"CT\"] > 0)\n",
    "        & ((pm_counts[\"CT\"] == 1) | (pm_counts[\"CA\"] == 1))\n",
    "    ].index\n",
    "    row_mask = (\n",
    "        gens_df.plant_id_eia.isin(cc_plant_ids)\n",
    "        & gens_df.unit_id_pudl.isnull()\n",
    "        & gens_df.prime_mover_code.isin([\"CA\", \"CT\"])\n",
    "    )\n",
    "\n",
    "    # Create Unit IDs for CA/CT generators that are being grouped together.\n",
    "    # Note that generator_id is not involved here because all of the\n",
    "    # selected generators within each plant are going to get the same Unit ID\n",
    "    unit_ids = (\n",
    "        gens_df.loc[row_mask, [\"plant_id_eia\", \"unit_id_pudl\"]]\n",
    "        .drop_duplicates()\n",
    "        .merge(\n",
    "            max_unit_id_by_plant(gens_df),\n",
    "            on=\"plant_id_eia\",\n",
    "            how=\"left\",\n",
    "            validate=\"many_to_one\",\n",
    "        )\n",
    "        # Assign new unit_id_pudl values by incrementing beyond the previous max\n",
    "        .assign(\n",
    "            unit_id_pudl=lambda x: x.max_unit_id_pudl + 1,\n",
    "            bga_source=lambda x: \"agg_unique_cc\",\n",
    "        )\n",
    "        .drop(\"max_unit_id_pudl\", axis=\"columns\")\n",
    "    )\n",
    "\n",
    "    out_df = gens_df.loc[~row_mask].append(\n",
    "        gens_df.loc[row_mask]\n",
    "        .drop([\"unit_id_pudl\", \"bga_source\"], axis=\"columns\")\n",
    "        .merge(\n",
    "            unit_ids,\n",
    "            on=\"plant_id_eia\",\n",
    "            how=\"left\",\n",
    "            validate=\"many_to_one\",\n",
    "        )\n",
    "    )\n",
    "    return out_df"
   ]
  },
  {
   "cell_type": "markdown",
   "metadata": {},
   "source": [
    "## `assign_complex_combined_cycle_unit_ids()`"
   ]
  },
  {
   "cell_type": "code",
   "execution_count": null,
   "metadata": {},
   "outputs": [],
   "source": [
    "def assign_complex_combined_cycle_unit_ids(gens_df):\n",
    "    \"\"\"\n",
    "    Assign unit IDs to combined cycle plants that must aggregate CT/CA PMs\n",
    "    \"\"\"\n",
    "    \n",
    "    pm_cols = [\"plant_id_eia\", \"generator_id\", \"prime_mover_code\"]\n",
    "    # Get rid of the annual dependence, and only keep gens with missing PMs\n",
    "    df = gens_df[gens_df.unit_id_pudl.isna()][pm_cols].drop_duplicates()\n",
    "    # Plant IDs with more than one CT and more than one CA\n",
    "    cc_plant_ids = (\n",
    "        df.groupby([\"plant_id_eia\", \"prime_mover_code\"])\n",
    "        .size()\n",
    "        .unstack(fill_value=0)\n",
    "        .query(\"CA > 1 & CT > 1\")\n",
    "    ).index\n",
    "    row_mask = (\n",
    "        gens_df.plant_id_eia.isin(cc_plant_ids)\n",
    "        & gens_df.unit_id_pudl.isnull()\n",
    "        & gens_df.prime_mover_code.isin([\"CA\", \"CT\"])\n",
    "    )\n",
    "\n",
    "    # Create Unit IDs for CA/CT generators that are being grouped together.\n",
    "    # Note that generator_id is not involved here because all of the\n",
    "    # selected generators within each plant are going to get the same Unit ID\n",
    "    unit_ids = (\n",
    "        gens_df.loc[row_mask, [\"plant_id_eia\", \"unit_id_pudl\"]]\n",
    "        .drop_duplicates()\n",
    "        .merge(\n",
    "            max_unit_id_by_plant(gens_df),\n",
    "            on=\"plant_id_eia\",\n",
    "            how=\"left\",\n",
    "            validate=\"many_to_one\",\n",
    "        )\n",
    "        # Assign new unit_id_pudl values by incrementing beyond the previous max\n",
    "        .assign(\n",
    "            unit_id_pudl=lambda x: x.max_unit_id_pudl + 1,\n",
    "            bga_source=lambda x: \"agg_complex_cc\",\n",
    "        )\n",
    "        .drop(\"max_unit_id_pudl\", axis=\"columns\")\n",
    "    )\n",
    "\n",
    "    out_df = gens_df.loc[~row_mask].append(\n",
    "        gens_df.loc[row_mask]\n",
    "        .drop([\"unit_id_pudl\", \"bga_source\"], axis=\"columns\")\n",
    "        .merge(\n",
    "            unit_ids,\n",
    "            on=\"plant_id_eia\",\n",
    "            how=\"left\",\n",
    "            validate=\"many_to_one\",\n",
    "        )\n",
    "    )\n",
    "    return out_df"
   ]
  },
  {
   "cell_type": "markdown",
   "metadata": {},
   "source": [
    "## `flag_orphan_combined_cycle_gens()`"
   ]
  },
  {
   "cell_type": "code",
   "execution_count": null,
   "metadata": {},
   "outputs": [],
   "source": [
    "def flag_orphan_combined_cycle_gens(gens_df, orphan_code):\n",
    "    \"\"\"\n",
    "    Flag CA/CT generators without corresponding CT/CAs as orphans.\n",
    "    \n",
    "    Args:\n",
    "        gens_df (pandas.DataFrame): Must contain the columns plant_id_eia,\n",
    "            generator_id, and prime mover code. The column bga_code will\n",
    "            be created or assigned in matching rows \n",
    "        orphan_code (str): Prime mover code indicating which type of generator\n",
    "            is being flagged as orphaned. Must be either \"CA\" or \"CT\".\n",
    "    \n",
    "    Returns:\n",
    "        pandas.DataFrame\n",
    "    \n",
    "    Raises:\n",
    "        ValueError: if orphan_code is not CA or CT.\n",
    "\n",
    "    \"\"\"\n",
    "    if orphan_code == \"CA\":\n",
    "        missing_code = \"CT\"\n",
    "    elif orphan_code == \"CT\":\n",
    "        missing_code = \"CA\"\n",
    "    else:\n",
    "        raise ValueError(f\"orphan must be either 'CA' or 'CT', but we got {orphan}.\")\n",
    "\n",
    "    orphan_plant_ids = (\n",
    "        gens_df[gens_df.unit_id_pudl.isnull()]\n",
    "        .drop_duplicates(subset=[\"plant_id_eia\", \"generator_id\", \"prime_mover_code\"])\n",
    "        .groupby([\"plant_id_eia\", \"prime_mover_code\"])\n",
    "        .size()\n",
    "        .unstack(fill_value=0)\n",
    "        .query(f\"{orphan_code} > 0 & {missing_code} == 0\")\n",
    "    ).index\n",
    "    row_mask = (\n",
    "        (gens_df.plant_id_eia.isin(orphan_plant_ids))\n",
    "        & (gens_df.unit_id_pudl.isnull())\n",
    "        & (gens_df.prime_mover_code == orphan_code)\n",
    "    )\n",
    "    out_df = gens_df.loc[~row_mask].append(\n",
    "        gens_df.loc[row_mask]\n",
    "        .assign(bga_source=f\"orphan_{orphan_code.lower()}\")\n",
    "    )\n",
    "    return out_df"
   ]
  },
  {
   "cell_type": "markdown",
   "metadata": {},
   "source": [
    "## `plot_unit_ids()`"
   ]
  },
  {
   "cell_type": "code",
   "execution_count": null,
   "metadata": {},
   "outputs": [],
   "source": [
    "def plot_unit_ids(df, pm_codes):\n",
    "    for code in pm_codes:\n",
    "        data = (\n",
    "            df[df.prime_mover_code==code]\n",
    "            .groupby(\"report_date\")[\"unit_id_pudl\"]\n",
    "            .count()\n",
    "        )\n",
    "        plt.plot(data, label=code, linewidth=\"2\", markersize=\"4\", marker=\"o\")\n",
    "    plt.legend(loc=\"upper left\")\n",
    "    plt.ylabel(\"Generator Records with Unit IDs\")\n",
    "    plt.show();"
   ]
  },
  {
   "cell_type": "markdown",
   "metadata": {},
   "source": [
    "# Pull data & set constants"
   ]
  },
  {
   "cell_type": "markdown",
   "metadata": {},
   "source": [
    "## Notebook Constants"
   ]
  },
  {
   "cell_type": "code",
   "execution_count": null,
   "metadata": {},
   "outputs": [],
   "source": [
    "THERMAL_PRIME_MOVERS = [ \"CT\", \"CS\", \"CA\", \"CC\", \"GT\", \"IC\", \"ST\", ]\n",
    "\n",
    "GENS_COLS = [\n",
    "    \"report_date\",\n",
    "    \"plant_id_eia\",\n",
    "    \"plant_name_eia\",\n",
    "    \"unit_id_pudl\",\n",
    "    \"bga_source\",\n",
    "    \"generator_id\",\n",
    "    \"capacity_mw\",\n",
    "    \"prime_mover_code\",\n",
    "    \"energy_source_code_1\",\n",
    "    \"energy_source_code_2\",\n",
    "    \"fuel_type_code_pudl\",\n",
    "    \"technology_description\",\n",
    "    \"associated_combined_heat_power\",\n",
    "]\n"
   ]
  },
  {
   "cell_type": "markdown",
   "metadata": {
    "tags": []
   },
   "source": [
    "## Create PUDL output object"
   ]
  },
  {
   "cell_type": "code",
   "execution_count": null,
   "metadata": {},
   "outputs": [],
   "source": [
    "pudl_settings = pudl.workspace.setup.get_defaults()\n",
    "display(pudl_settings)\n",
    "\n",
    "ferc1_engine = sa.create_engine(pudl_settings['ferc1_db'])\n",
    "pudl_engine = sa.create_engine(pudl_settings['pudl_db'])\n",
    "\n",
    "API_KEY_EIA = os.environ[\"API_KEY_EIA\"]\n",
    "\n",
    "pudl_out = pudl.output.pudltabl.PudlTabl(pudl_engine)"
   ]
  },
  {
   "cell_type": "markdown",
   "metadata": {},
   "source": [
    "# Improve PUDL Unit ID Coverage\n",
    "* Initially, most generators are not part of generation units, as defined by the boiler generator association (BGA)\n",
    "* To implement a uniform heat rate calculation process, we need unit IDs that indicate which aggregations of generation and fuel consumption should be considered together.\n",
    "* This section applies several different methods to expand the number of fossil fuel generators that are part of generation units.\n",
    "* Most of these methods depend on the prime mover and in some case fuel type associated with the generator.\n",
    "* Prime mover and fuel type are available both in the generator and the generation_fuel tables."
   ]
  },
  {
   "cell_type": "markdown",
   "metadata": {},
   "source": [
    "## Pull the original generator data and simplify\n",
    "* For the moment we are starting with the full catalog of generator attributes.\n",
    "* We need access to some of the data fields (prime mover, fuel type, technology type...)\n",
    "* However, the Unit ID assignment process is really producing entity-level connections.\n",
    "* So far as I can tell, the Unit ID values should be constant across all years."
   ]
  },
  {
   "cell_type": "code",
   "execution_count": null,
   "metadata": {},
   "outputs": [],
   "source": [
    "%%time\n",
    "gens1 = pudl_out.gens_eia860()[GENS_COLS]\n",
    "test_generator_consistency(gens1, \"unit_id_pudl\")\n",
    "test_generator_consistency(gens1, \"prime_mover_code\")"
   ]
  },
  {
   "cell_type": "markdown",
   "metadata": {},
   "source": [
    "## Fill in missing BGA units\n",
    "* Many cases in which generation units didn't report completely (esp. before 2014)\n",
    "* However, often the boiler & generator IDs and associations appear to be the same.\n",
    "* We can back/forward fill the boiler IDs prior to the BGA process, and get consistent units across all years.\n",
    "* Can also back/forward fill boiler IDs and unit IDs after the fact and *should* get the same result.\n",
    "* This will address many currently \"boilerless\" CCNG units which have use generator ID as boiler ID in latter years.\n",
    "* We could try and apply this more generally, but in the cases of generator IDs that haven't been used as boiler IDs, it would break the FK relationship with the boiler table, unless we added them there too, which seems like a lot of muddling"
   ]
  },
  {
   "cell_type": "code",
   "execution_count": null,
   "metadata": {},
   "outputs": [],
   "source": [
    "%%time\n",
    "gens2 = fill_unit_ids(gens1)\n",
    "assert gens1.shape == gens2.shape\n",
    "test_generator_consistency(gens2, \"unit_id_pudl\")\n",
    "test_generator_consistency(gens2, \"prime_mover_code\")"
   ]
  },
  {
   "cell_type": "markdown",
   "metadata": {},
   "source": [
    "## Simple Units\n",
    "* Any single-shaft Combined Cycle generator (CS -- always single-gen)\n",
    "  * There are a few hundred of these w/o unit_id_pudl values.\n",
    "  * Each one corresponds to a single unique (plant_id_eia, generator_id).\n",
    "* Any whole Combined Cycle generator (CC -- always single-gen)\n",
    "  * These are \"generators\" for which the combustion & steam turbines co-report.\n",
    "* Gas Turbines (GT)\n",
    "* Internal Combustion Engines (IC)"
   ]
  },
  {
   "cell_type": "code",
   "execution_count": null,
   "metadata": {},
   "outputs": [],
   "source": [
    "%%time\n",
    "simple_pm_codes = [\"CC\", \"CS\", \"GT\", \"IC\"]\n",
    "gens3 = assign_simple_unit_ids(gens2, prime_mover_codes=simple_pm_codes)\n",
    "assert gens2.shape == gens3.shape\n",
    "test_generator_consistency(gens3, \"unit_id_pudl\")\n",
    "test_generator_consistency(gens3, \"prime_mover_code\")"
   ]
  },
  {
   "cell_type": "markdown",
   "metadata": {},
   "source": [
    "## Aggregated Unique Combined Cycle Units\n",
    "* For any plant that contains both CA and CT generators,\n",
    "* and **only** has a signle CA **or** a single CT,\n",
    "* all the CA and CT generators must be part of the same unit."
   ]
  },
  {
   "cell_type": "code",
   "execution_count": null,
   "metadata": {},
   "outputs": [],
   "source": [
    "%%time\n",
    "gens4 = assign_unique_combined_cycle_unit_ids(gens3)\n",
    "assert gens3.shape == gens4.shape\n",
    "test_generator_consistency(gens4, \"unit_id_pudl\")\n",
    "test_generator_consistency(gens4, \"prime_mover_code\")"
   ]
  },
  {
   "cell_type": "markdown",
   "metadata": {},
   "source": [
    "## Aggregated Complex Combined Cycle Units\n",
    "* For any plant that contains more than one CA and more than one CT,\n",
    "* we cannot distinguish which ones are connected to each other,\n",
    "* thus they must all be aggregated into a single unit."
   ]
  },
  {
   "cell_type": "code",
   "execution_count": null,
   "metadata": {},
   "outputs": [],
   "source": [
    "%time\n",
    "gens5 = assign_complex_combined_cycle_unit_ids(gens4)\n",
    "assert gens4.shape == gens5.shape\n",
    "test_generator_consistency(gens5, \"unit_id_pudl\")\n",
    "test_generator_consistency(gens5, \"prime_mover_code\")"
   ]
  },
  {
   "cell_type": "markdown",
   "metadata": {},
   "source": [
    "## Orphaned Combined Cycle Generators\n",
    "* In some plants there are **only** CA or CT generators, but not both.\n",
    "* Can this arrangement actually be valid? Or does it mean that some generators are mislabeled ST and GT?\n",
    "* How can we identify ST and GT generators that are actually part of combined cycle units?"
   ]
  },
  {
   "cell_type": "code",
   "execution_count": null,
   "metadata": {},
   "outputs": [],
   "source": [
    "%%time\n",
    "gens6 = (\n",
    "    gens5.pipe(flag_orphan_combined_cycle_gens, orphan_code=\"CA\")\n",
    "    .pipe(flag_orphan_combined_cycle_gens, orphan_code=\"CT\")\n",
    ")\n",
    "assert gens5.shape == gens6.shape\n",
    "test_generator_consistency(gens6, \"unit_id_pudl\")\n",
    "test_generator_consistency(gens6, \"prime_mover_code\")"
   ]
  },
  {
   "cell_type": "markdown",
   "metadata": {},
   "source": [
    "## Explore pre-existing unit structure\n",
    "* How are steam turbines of a given fuel type typically arranged in generation units?\n",
    "* How many generators share a unit ID with each ST generator?\n",
    "* How does this vary depending on primary fuel type (gas vs. coal vs. nuclear, etc.)?\n",
    "* Count the number of generators in each unit, and merge that back onto the dataframe.\n",
    "* Select records from the result based on fuel_type_code_pudl and prime_mover_code and make histograms."
   ]
  },
  {
   "cell_type": "code",
   "execution_count": null,
   "metadata": {},
   "outputs": [],
   "source": [
    "gens_with_units = (\n",
    "    gens1.dropna(subset=[\"unit_id_pudl\"])\n",
    "    .drop_duplicates(subset=[\"plant_id_eia\", \"generator_id\"])\n",
    "    .loc[:, [\"plant_id_eia\", \"unit_id_pudl\", \"generator_id\", \"prime_mover_code\", \"fuel_type_code_pudl\"]]\n",
    ")\n",
    "\n",
    "unit_gen_count = gens_with_units.merge(\n",
    "    gens_with_units\n",
    "    .groupby([\"plant_id_eia\", \"unit_id_pudl\"])[\"generator_id\"].count()\n",
    "    .rename(\"unit_gen_count\")\n",
    "    .reset_index(),\n",
    "    on=[\"plant_id_eia\", \"unit_id_pudl\"],\n",
    "    how=\"left\",\n",
    "    validate=\"many_to_one\"\n",
    ")"
   ]
  },
  {
   "cell_type": "code",
   "execution_count": null,
   "metadata": {},
   "outputs": [],
   "source": [
    "pmc = 'ST'\n",
    "steam_gen_counts =  unit_gen_count.query(\"prime_mover_code==@pmc\")\n",
    "sns.histplot(x=\"unit_gen_count\", hue=\"fuel_type_code_pudl\", data=steam_gen_counts, multiple=\"stack\")\n",
    "plt.title(f\"Total generators per unit for {pmc} prime movers\");"
   ]
  },
  {
   "cell_type": "markdown",
   "metadata": {},
   "source": [
    "## Assign Steam Turbine Unit IDs\n",
    "* The above suggests that steam turbine (ST) generators are not typically connected to other generators in a more complex generation unit, at least in the case of coal and gas fired turbines, which make up a large majority of the generators.\n",
    "* For the time being, assign them unique per-generator Unit IDs. We'll see whether this results in ridiculous heat rates later on, and potentially re-organize."
   ]
  },
  {
   "cell_type": "code",
   "execution_count": null,
   "metadata": {},
   "outputs": [],
   "source": [
    "%%time\n",
    "gens7 = assign_simple_unit_ids(gens6, prime_mover_codes=[\"ST\"])\n",
    "assert gens7.shape == gens6.shape\n",
    "test_generator_consistency(gens7, \"unit_id_pudl\")\n",
    "test_generator_consistency(gens7, \"prime_mover_code\")"
   ]
  },
  {
   "cell_type": "markdown",
   "metadata": {},
   "source": [
    "## Assign Unit IDs to orphan CA / CT generators\n",
    "* We can do this safely now only because we know all non-orphan CA/CT generators have already been assigned unit IDs above."
   ]
  },
  {
   "cell_type": "code",
   "execution_count": null,
   "metadata": {},
   "outputs": [],
   "source": [
    "%%time\n",
    "gens8 = assign_simple_unit_ids(gens7, prime_mover_codes=[\"CT\", \"CA\"], label_prefix=\"orphan\")\n",
    "assert gens8.shape == gens7.shape\n",
    "test_generator_consistency(gens8, \"unit_id_pudl\")\n",
    "test_generator_consistency(gens8, \"prime_mover_code\")"
   ]
  },
  {
   "cell_type": "markdown",
   "metadata": {},
   "source": [
    "## Notes on Unit ID Assignment\n",
    "* What is the output table describing these units going to look like?\n",
    "* Should it be several different well normalized tables defining different kinds of Unit IDs?\n",
    "* Should it be a single un-normalized table?\n",
    "* Should we backfill the technology description to older years?\n",
    "* Should we fill in pseudo-boiler IDs for the units that we've created, like the latter years of CCNG plants do?"
   ]
  },
  {
   "cell_type": "markdown",
   "metadata": {},
   "source": [
    "# Assess Unit ID Coverage"
   ]
  },
  {
   "cell_type": "code",
   "execution_count": null,
   "metadata": {
    "tags": []
   },
   "outputs": [],
   "source": [
    "for df in [gens1, gens2, gens3, gens4, gens5, gens6, gens7, gens8]:\n",
    "    plot_unit_ids(df, THERMAL_PRIME_MOVERS)"
   ]
  },
  {
   "cell_type": "markdown",
   "metadata": {
    "tags": []
   },
   "source": [
    "## Examine Existing Unit ID Coverage\n",
    "Only a fraction of all fossil generation is associated with PUDL Unit IDs, which are integral to our most granular heat rate determination. We need to understand how good the coverage is, and why the generators / generation we're missing isn't covered. THere's at least 3 ways we can evaluate this coverage, at the generator level, based on information in the `generators_eia860` table:\n",
    "* by generator ID\n",
    "* by capacity (MW)\n",
    "* by generation (MWh)\n",
    "\n",
    "These can be broken down by:\n",
    "* Time (look at annual quantities and how they've changed)\n",
    "* Prime mover code (useful since it's in both generation and generation_fuel tables)\n",
    "* Whether the generators appear in the `generation_eia923` table\n",
    "* Whether the generators are associated with CHP\n",
    "  * Are there plants where all generators do CHP? Would be useful for benchmarking heat rate impacts.\n",
    "* Primary fuel (not totally well defined, since there are many mixed-fuel generators)\n",
    "\n",
    "Values to report on those breakdowns:\n",
    "* Absolute totals (# of IDs, MW, or MWh)\n",
    "* Fraction of reported totals\n",
    "\n",
    "Can also look at just the population of generators which report in the `generation_eia923` table each year, since those are the only ones where we will really have generator level electricity output and boiler level fuel inputs that can be directly linked with the `unit_id_pudl` if it exists. Many of the generators without IDs will likely be generators without boilers. Assigning them Unit IDs will be useful insofar as they still have fuel inputs which are reported (probably only in `generation_fuel_eia923`) and so we can assess both their inputs and outputs. Or insofar as we are using the `unit_id_pudl` values to do aggregations on tables of generators, which are sometimes linked to each other even if they don't have boilers involved in that linkage.\n",
    "\n",
    "We want an assessment that gets at the above information, and which can be run on both existing and potential new ID assignments."
   ]
  },
  {
   "cell_type": "markdown",
   "metadata": {},
   "source": [
    "## Summarize Generator Unit Coverage"
   ]
  },
  {
   "cell_type": "code",
   "execution_count": null,
   "metadata": {},
   "outputs": [],
   "source": [
    "prepped_gens = prep_gens(pudl_out, prime_mover_codes=THERMAL_PRIME_MOVERS)\n",
    "unit_summary = unit_gen_coverage(prepped_gens)"
   ]
  },
  {
   "cell_type": "markdown",
   "metadata": {},
   "source": [
    "### Absolute Unit Coverage (N, MW, MWh)"
   ]
  },
  {
   "cell_type": "code",
   "execution_count": null,
   "metadata": {},
   "outputs": [],
   "source": [
    "unit_summary"
   ]
  },
  {
   "cell_type": "code",
   "execution_count": null,
   "metadata": {
    "tags": []
   },
   "outputs": [],
   "source": [
    "fig, axes = plt.subplots(nrows=3, ncols=1, sharex=True, figsize=(8,8))\n",
    "sns.lineplot(x=\"report_date\", y=(\"num_gens\", True), data=unit_summary, hue=\"prime_mover_code\", ax=axes[0], legend=False)\n",
    "sns.lineplot(x=\"report_date\", y=(\"capacity_mw\", True), data=unit_summary, hue=\"prime_mover_code\", ax=axes[1], legend=False)\n",
    "sns.lineplot(x=\"report_date\", y=(\"net_generation_mwh\", True), data=unit_summary, hue=\"prime_mover_code\", ax=axes[2])\n",
    "plt.legend(loc=\"center left\", bbox_to_anchor=(1.04, 0.5))\n",
    "plt.show();"
   ]
  },
  {
   "cell_type": "markdown",
   "metadata": {},
   "source": [
    "### Proportional Unit Coverage"
   ]
  },
  {
   "cell_type": "code",
   "execution_count": null,
   "metadata": {
    "tags": []
   },
   "outputs": [],
   "source": [
    "fig, axes = plt.subplots(nrows=3, ncols=1, sharex=True, figsize=(8,8))\n",
    "sns.lineplot(x=\"report_date\", y=\"num_gens_fraction\", data=unit_summary, hue=\"prime_mover_code\", ax=axes[0], legend=False)\n",
    "sns.lineplot(x=\"report_date\", y=\"capacity_mw_fraction\", data=unit_summary, hue=\"prime_mover_code\", ax=axes[1], legend=False)\n",
    "sns.lineplot(x=\"report_date\", y=\"net_generation_mwh_fraction\", data=unit_summary, hue=\"prime_mover_code\", ax=axes[2])\n",
    "plt.legend(loc=\"center left\", bbox_to_anchor=(1.04, 0.5))\n",
    "plt.show();"
   ]
  },
  {
   "cell_type": "markdown",
   "metadata": {},
   "source": [
    "# Net Generation Allocation"
   ]
  },
  {
   "cell_type": "code",
   "execution_count": null,
   "metadata": {},
   "outputs": [],
   "source": [
    "from pudl.analysis.allocate_net_gen import (associate_gen_tables, _associate_unconnected_records, _associate_fuel_type_only)\n",
    "pudl_out_annual = pudl.output.pudltabl.PudlTabl(freq=\"AS\", pudl_engine=pudl_engine)"
   ]
  },
  {
   "cell_type": "code",
   "execution_count": null,
   "metadata": {},
   "outputs": [],
   "source": [
    "%%time\n",
    "gens_assoc = (\n",
    "    associate_gen_tables(pudl_out_annual)\n",
    "    .pipe(_associate_unconnected_records)\n",
    "    .pipe(_associate_fuel_type_only, pudl_out_annual)\n",
    ")"
   ]
  },
  {
   "cell_type": "code",
   "execution_count": null,
   "metadata": {},
   "outputs": [],
   "source": [
    "cols = [\n",
    "    \"report_date\",\n",
    "    \"plant_id_eia\",\n",
    "    \"generator_id\",\n",
    "    \"prime_mover_code\",\n",
    "    \"fuel_type\",\n",
    "    \"capacity_mw\",\n",
    "    \"capacity_mw_fuel_total\",\n",
    "    'fuel_consumed_for_electricity_mmbtu',\n",
    "    'fuel_consumed_mmbtu',\n",
    "    'net_generation_mwh_gen',\n",
    "    'net_generation_mwh_gf',\n",
    "    'net_generation_mwh_gen_fuel_total',\n",
    "    'energy_source_code_num',\n",
    "]\n",
    "gen_assoc[\n",
    "    (gen_assoc.plant_id_eia==3)\n",
    "    #& (gen_assoc.report_date==\"2019-01-01\")\n",
    "    & (gen_assoc.fuel_type==\"SUB\")\n",
    "][cols].sort_values([\"report_date\", \"plant_id_eia\", \"generator_id\", \"fuel_type\"])"
   ]
  },
  {
   "cell_type": "code",
   "execution_count": null,
   "metadata": {},
   "outputs": [],
   "source": [
    "gf_eia923 = pudl_out_annual.gf_eia923()"
   ]
  },
  {
   "cell_type": "code",
   "execution_count": null,
   "metadata": {},
   "outputs": [],
   "source": [
    "gf_eia923[\n",
    "    (gf_eia923.plant_id_eia==3)\n",
    "    #& (gf_eia923.report_date==\"2019-01-01\")\n",
    "    & (gf_eia923.fuel_type==\"SUB\")\n",
    "]"
   ]
  },
  {
   "cell_type": "code",
   "execution_count": null,
   "metadata": {},
   "outputs": [],
   "source": [
    "comanche_gf"
   ]
  },
  {
   "cell_type": "code",
   "execution_count": null,
   "metadata": {},
   "outputs": [],
   "source": [
    "assert False"
   ]
  },
  {
   "cell_type": "code",
   "execution_count": null,
   "metadata": {},
   "outputs": [],
   "source": [
    "gf_cols = [\n",
    "    \"plant_id_eia\",\n",
    "    \"report_date\",\n",
    "    \"energy_source_code\",\n",
    "    \"prime_mover_code\",\n",
    "    \"net_generation_mwh\",\n",
    "    \"fuel_consumed_mmbtu_for_electricity\",\n",
    "]\n",
    "\n",
    "gens_cols = [\n",
    "    \"plant_id_eia\",\n",
    "    \"generator_id\",\n",
    "    \"report_date\",\n",
    "    \"energy_source_code_1\",\n",
    "    \"energy_source_code_2\",\n",
    "    \"energy_source_code_3\",\n",
    "    \"energy_source_code_4\",\n",
    "    \"energy_source_code_5\",\n",
    "    \"energy_source_code_6\",\n",
    "    \"capacity_mw\",\n",
    "    \"prime_mover_code\",\n",
    "]"
   ]
  },
  {
   "cell_type": "markdown",
   "metadata": {},
   "source": [
    "# Cull fully reported units\n",
    "* In some plants, all of the generators report all of their fuel consumption and electricity generation in the `generation_eia923` and `boiler_fuel_eia923` tables. If they also don't have CHP, our current heat rate calculation should fully accommodate these plants already.\n",
    "* In other plants, all of the electricity generation and fuel consumption being reported in association with a particular type of prime mover (but maybe not all prime movers) are fully covered by the more granular boiler / generator reporting, and so those plant-prime combinations can be removed from the heat rate calculations based on the `generation_fuel_eia923` table data. So long as there's no CHP. This is a more general case of the bullet above, so maybe we should just do this as the first cut.\n",
    "* To identify these cases, we need to aggregate net generation and fuel consumption on the basis of `unit_id_pudl` and identify cases in which all generators of any prime mover type that is involved have been included in that aggregation, on an annual basis. In these cases the net generation and fuel consumption associated with those prime mover types can be safely removed from the `generation_fuel_eia923` table, leaving only fuel and electricity that hasn't been accounted for, or is only partially accounted for."
   ]
  },
  {
   "cell_type": "markdown",
   "metadata": {},
   "source": [
    "# Assess New Unit ID coverage\n",
    "* Run the same assessment functions as we did above\n",
    "* Per generator\n",
    "* Per MW installed\n",
    "* Per MWh of net generation"
   ]
  },
  {
   "cell_type": "markdown",
   "metadata": {},
   "source": [
    "# Heat rates by Plant-Prime\n",
    "* The `generation_fuel_eia923` table breaks down net generation & fuel consumption by plant and prime mover.\n",
    "* Can one calculate realistic heat rates on the basis of plant-prime? Or do they always need to have units?\n",
    "* Calculate the distribution of plant-prime heat rates and plot them to see what they look like.\n",
    "* It seems likely that this strategy probably won't work, and we'll need to do some kind of grouping into pseudo-units."
   ]
  },
  {
   "cell_type": "code",
   "execution_count": null,
   "metadata": {},
   "outputs": [],
   "source": [
    "gen_fuel = pudl_out.gf_eia923()"
   ]
  },
  {
   "cell_type": "code",
   "execution_count": null,
   "metadata": {},
   "outputs": [],
   "source": [
    "len(gen_fuel)"
   ]
  },
  {
   "cell_type": "code",
   "execution_count": null,
   "metadata": {},
   "outputs": [],
   "source": [
    "assert False"
   ]
  },
  {
   "cell_type": "markdown",
   "metadata": {
    "tags": []
   },
   "source": [
    "# Combined Heat and Power\n",
    "* What fraction of generators, capacity, and generation are associated with generators that also do CHP?"
   ]
  },
  {
   "cell_type": "code",
   "execution_count": null,
   "metadata": {},
   "outputs": [],
   "source": [
    "gf_eia923 = pudl_out.gf_eia923()\n",
    "gf_eia923[\"fuel_ratio\"] = gf_eia923.fuel_consumed_for_electricity_mmbtu / gf_eia923.fuel_consumed_mmbtu\n",
    "gf_eia923[\"no_chp\"] = pd.Series(np.isclose(gf_eia923.fuel_ratio, 1.0))\n",
    "plt.hist(gf_eia923.fuel_ratio, bins=20)\n",
    "plt.yscale(\"log\")\n",
    "plt.xlabel(\"Fraction of fuel used for electricity\")\n",
    "plt.ylabel(\"Number of Records (log scale)\");"
   ]
  },
  {
   "cell_type": "code",
   "execution_count": null,
   "metadata": {},
   "outputs": [],
   "source": [
    "gf_eia923.groupby(\"report_date\")[[\"fuel_consumed_for_electricity_mmbtu\", \"fuel_consumed_mmbtu\"]].sum().plot()\n",
    "plt.ylim(0,5e9)\n",
    "plt.ylabel(\"Fuel Consumed [MMBTU]\");"
   ]
  },
  {
   "cell_type": "code",
   "execution_count": null,
   "metadata": {},
   "outputs": [],
   "source": [
    "plt.figure(figsize=(10,10))\n",
    "plt.scatter(\n",
    "    gf_eia923.fuel_consumed_mmbtu,\n",
    "    gf_eia923.fuel_consumed_for_electricity_mmbtu,\n",
    "    s=1, alpha=0.01, color=\"black\",\n",
    ")\n",
    "plt.xscale(\"log\")\n",
    "plt.yscale(\"log\")\n",
    "plt.xlim(1e3, 1e8)\n",
    "plt.ylim(1e3, 1e8)\n",
    "plt.xlabel(\"Total Fuel Consumed [MMBTU]\")\n",
    "plt.ylabel(\"Fuel Consumed for Electricity [MMBTU]\");"
   ]
  },
  {
   "cell_type": "code",
   "execution_count": null,
   "metadata": {
    "tags": []
   },
   "outputs": [],
   "source": [
    "chp_summary = chp_prevalence(prepped_gens)\n",
    "chp_summary"
   ]
  },
  {
   "cell_type": "markdown",
   "metadata": {},
   "source": [
    "# Assess Existing Heat Rates\n",
    "* We need some way to compare different ways of calculating heat rates and choose between them.\n",
    "* We want to check both for their correctness, and their completeness.\n",
    "* Apparent correctness will depend on the type of generator / unit type. Need to define different expectations."
   ]
  },
  {
   "cell_type": "code",
   "execution_count": null,
   "metadata": {},
   "outputs": [],
   "source": [
    "%%time\n",
    "hr_by_unit = pudl_out.hr_by_unit()\n",
    "hr_by_unit.info()"
   ]
  },
  {
   "cell_type": "markdown",
   "metadata": {},
   "source": [
    "## Compile Net Generation\n",
    "* **By generator**\n",
    "  * `net_generation_mwh` available from `generation_eia923` table\n",
    "  * Associated with `plant_id_eia` and `generator_id` columns directly.\n",
    "  * Can be associated with `unit_id_pudl` if the generator is part of an identified unit\n",
    "  * Can be associated with a `technology_description` and `prime_mover_code` based on the `generators_eia860` table.\n",
    "  * Can be associated with a list of energy sources based on `energy_source_N` in `generators_eia860` table.\n",
    "* **By plant-prime-fuel**\n",
    "  * `net_generation_mwh` is available from generation_fuel_eia923`"
   ]
  },
  {
   "cell_type": "markdown",
   "metadata": {},
   "source": [
    "## Compile Fuel Consumption\n",
    "* **By boiler**\n",
    "  * `total_heat_content_mmbtu` and `fuel_type_code_pudl` are available by `plant_id_eia` and `boiler_id` in `boiler_fuel_eia923`\n",
    "  * This value can be be associated with a `unit_id_pudl` based on the BGA table.\n",
    "  * The heat consumed in here includes fuels both for electricity and steam (direct heat) outputs.\n",
    "* **By plant-prime-fuel**\n",
    "  * Available in `generation_fuel` and broken down as for CHP vs Electricity separately."
   ]
  },
  {
   "cell_type": "markdown",
   "metadata": {},
   "source": [
    "## Identify Combined Cycle Units\n",
    "* Combined Cycle turbines show up in the generators table, but have no \"boiler\" so they don't end up in the boiler-generator-association\n",
    "* This means they don't get assigned `unit_id_pudl` values and are often lost.\n",
    "* However, they are identifiable based on `technology_description` in the generators table, and so can be associated with a plant.\n",
    "* Within a given plant, it's possible to combine all the natural gas that goes into a "
   ]
  },
  {
   "cell_type": "markdown",
   "metadata": {},
   "source": [
    "## Questions:\n",
    "* Do all of the generators that show up in the generation table end up getting PUDL Unit IDs assigned?\n",
    "* Where are the heat inputs being reported for combined cycle units? Do they really exist after 2015? What is still missing?\n",
    "* Triage units / generators into: Easy, Hard, and Impossible. Work on Hard ones until diminishing returns. Assign impossible and too-hard ones the median values."
   ]
  },
  {
   "cell_type": "markdown",
   "metadata": {},
   "source": [
    "## Tables of Interest:\n",
    "* `generation_eia923`\n",
    "* `generation_fuel_eia923`\n",
    "* `boiler_generator_assn_eia860`\n",
    "* `generators_eia860`\n",
    "* `generators_entity_eia`\n",
    "* `boiler_fuel_eia923`"
   ]
  },
  {
   "cell_type": "code",
   "execution_count": null,
   "metadata": {},
   "outputs": [],
   "source": [
    "gens_eia860_sql = \"\"\"\n",
    "SELECT report_date,\n",
    "       plant_id_eia,\n",
    "       generator_id,\n",
    "       capacity_mw,\n",
    "       energy_source_code_1,\n",
    "       energy_source_code_2,\n",
    "       energy_source_code_3,\n",
    "       energy_source_code_4,\n",
    "       energy_source_code_5,\n",
    "       energy_source_code_6,\n",
    "       fuel_type_code_pudl,\n",
    "       technology_description,\n",
    "FROM generators_eia860\n",
    "\"\"\"\n",
    "\n",
    "gens_entity_sql = \"\"\"\n",
    "SELECT report_date,\n",
    "       plant_id_eia,\n",
    "       generator_id,\n",
    "       prime_mover_code,\n",
    "       bypass_heat_recovery,\n",
    "       associated_combined_heat_and_power,\n",
    "FROM generators_entity_eia\n",
    "\"\"\"\n",
    "\n",
    "gen_eia923_sql = \"\"\"\n",
    "SELECT report_date,\n",
    "       plant_id_eia,\n",
    "       generator_id,\n",
    "       net_generation_mwh\n",
    "FROM generation_eia923\n",
    "\"\"\"\n",
    "\n",
    "gf_eia923_sql = \"\"\"\n",
    "SELECT report_date,\n",
    "       plant_id_eia,\n",
    "       nuclear_unit_id,\n",
    "       fuel_type,\n",
    "       fuel_type_code_pudl,\n",
    "       prime_mover_code,\n",
    "       fuel_consumed_mmbtu,\n",
    "       fuel_consumed_for_electricity_mmbtu,\n",
    "       net_generation_mwh\n",
    "FROM generation_fuel_eia923\n",
    "\"\"\"\n",
    "\n",
    "bga_sql = \"\"\"\n",
    "SELECT report_date,\n",
    "       plant_id_eia,\n",
    "       unit_id_pudl,\n",
    "       generator_id,\n",
    "       boiler_id\n",
    "FROM boiler_generator_assn_eia860\n",
    "\"\"\"\n",
    "\n",
    "bf_eia923_sql = \"\"\"\n",
    "SELECT report_date,\n",
    "       plant_id_eia,\n",
    "       boiler_id,\n",
    "       fuel_type_code,\n",
    "       fuel_type_code_pudl,\n",
    "       fuel_consumed_units,\n",
    "       fuel_mmbtu_per_unit\n",
    "FROM boiler_fuel_eia923\n",
    "\"\"\"\n"
   ]
  },
  {
   "cell_type": "markdown",
   "metadata": {},
   "source": [
    "## Compile Fuel Consumption\n",
    "  * Reported by boiler in `boiler_fuel_eia923` and so can be associated "
   ]
  },
  {
   "cell_type": "markdown",
   "metadata": {},
   "source": [
    "# Preliminary Data Wrangling\n",
    "Once all of the data is loaded and looks like it's in good shape, do any initial wrangling that's specific to this particular analysis. This should mostly make use of the higher level functions which were defined above. If this step takes a while, don't be shy about producing `logging` outputs."
   ]
  },
  {
   "cell_type": "code",
   "execution_count": null,
   "metadata": {},
   "outputs": [],
   "source": []
  },
  {
   "cell_type": "markdown",
   "metadata": {},
   "source": [
    "# Data Analysis and Visualization\n",
    "* Now that you've got the required data in a usable form, you can tell the story of your analysis through a mix of visualizations, and further data wrangling steps.\n",
    "* This narrative should be readable, with figures that have titles, legends, and labeled axes as appropriate so others can understand what you're showing them.\n",
    "* The code should be concise and make use of the parameters and functions which you've defined above when possible. Functions should contain comprehensible chunks of work that make sense as one step in the story of the analysis."
   ]
  },
  {
   "cell_type": "code",
   "execution_count": null,
   "metadata": {},
   "outputs": [],
   "source": [
    "coal_ax = finite_distplot(mcoe_coal, \"heat_rate_mmbtu_mwh\", max_val=20)\n",
    "plt.title(\"Coal heat rate distribution\");"
   ]
  },
  {
   "cell_type": "code",
   "execution_count": null,
   "metadata": {},
   "outputs": [],
   "source": [
    "gas_ax = finite_distplot(mcoe_gas, \"heat_rate_mmbtu_mwh\", max_val=20)\n",
    "plt.title(\"Gas heat rate distribution\");"
   ]
  }
 ],
 "metadata": {
  "kernelspec": {
   "display_name": "Python 3",
   "language": "python",
   "name": "python3"
  },
  "language_info": {
   "codemirror_mode": {
    "name": "ipython",
    "version": 3
   },
   "file_extension": ".py",
   "mimetype": "text/x-python",
   "name": "python",
   "nbconvert_exporter": "python",
   "pygments_lexer": "ipython3",
   "version": "3.9.4"
  },
  "toc-autonumbering": true,
  "toc-showmarkdowntxt": false,
  "toc-showtags": false
 },
 "nbformat": 4,
 "nbformat_minor": 4
}
