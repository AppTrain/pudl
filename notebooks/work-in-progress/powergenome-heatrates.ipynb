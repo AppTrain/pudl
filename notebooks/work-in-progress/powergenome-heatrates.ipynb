{
 "cells": [
  {
   "cell_type": "markdown",
   "metadata": {},
   "source": [
    "# Notebook Preamble"
   ]
  },
  {
   "cell_type": "code",
   "execution_count": 1,
   "metadata": {},
   "outputs": [],
   "source": [
    "%load_ext autoreload\n",
    "%autoreload 2"
   ]
  },
  {
   "cell_type": "code",
   "execution_count": 47,
   "metadata": {},
   "outputs": [],
   "source": [
    "# Standard libraries\n",
    "import logging\n",
    "import os\n",
    "import pathlib\n",
    "import sys\n",
    "\n",
    "# 3rd party libraries\n",
    "import matplotlib.pyplot as plt\n",
    "import matplotlib as mpl\n",
    "import numpy as np\n",
    "import pandas as pd\n",
    "import seaborn as sns\n",
    "import sqlalchemy as sa\n",
    "\n",
    "# Local libraries\n",
    "import pudl\n",
    "import pudl.constants as pc"
   ]
  },
  {
   "cell_type": "code",
   "execution_count": 3,
   "metadata": {},
   "outputs": [],
   "source": [
    "sns.set()\n",
    "%matplotlib inline\n",
    "mpl.rcParams['figure.figsize'] = (10,4)\n",
    "mpl.rcParams['figure.dpi'] = 100\n",
    "pd.options.display.max_columns = 100\n",
    "pd.options.display.max_rows = 100"
   ]
  },
  {
   "cell_type": "code",
   "execution_count": 4,
   "metadata": {},
   "outputs": [],
   "source": [
    "logger=logging.getLogger()\n",
    "logger.setLevel(logging.INFO)\n",
    "handler = logging.StreamHandler(stream=sys.stdout)\n",
    "formatter = logging.Formatter('%(message)s')\n",
    "handler.setFormatter(formatter)\n",
    "logger.handlers = [handler]"
   ]
  },
  {
   "cell_type": "markdown",
   "metadata": {},
   "source": [
    "# Function Definitions"
   ]
  },
  {
   "cell_type": "markdown",
   "metadata": {},
   "source": [
    "## `prep_gens()`"
   ]
  },
  {
   "cell_type": "code",
   "execution_count": 5,
   "metadata": {},
   "outputs": [],
   "source": [
    "def prep_gens(pudl_out, prime_mover_codes):\n",
    "    \"\"\"\n",
    "    Preproccessing function to look at generators by prime mover and year.\n",
    "    \"\"\"\n",
    "    gens_eia860 = pudl_out.gens_eia860()\n",
    "    # Generator selection criteria\n",
    "    working_gens = gens_eia860.loc[gens_eia860.prime_mover_code.isin(prime_mover_codes)]\n",
    "    # Calculate the annual generation by generator\n",
    "    net_gen_by_gen = (\n",
    "        pudl_out.gen_eia923()\n",
    "        .set_index(\"report_date\")\n",
    "        .groupby([pd.Grouper(freq=\"AS\"), \"plant_id_eia\", \"generator_id\"])\n",
    "        .net_generation_mwh.sum()\n",
    "        .to_frame()\n",
    "        .reset_index()\n",
    "    )\n",
    "    # Merge annual generation by generator into the working DF\n",
    "    return pd.merge(\n",
    "        working_gens,\n",
    "        net_gen_by_gen,\n",
    "        how=\"left\",\n",
    "        validate=\"1:1\",\n",
    "    )"
   ]
  },
  {
   "cell_type": "markdown",
   "metadata": {},
   "source": [
    "## `unit_gen_coverage()`"
   ]
  },
  {
   "cell_type": "code",
   "execution_count": 6,
   "metadata": {},
   "outputs": [],
   "source": [
    "def unit_gen_coverage(prepped_gens):\n",
    "    \"\"\"\n",
    "    Characterize generator-level PUDL Unit ID coverage by year.\n",
    "    \n",
    "    For each year and fossil fuel prime mover code, calculate:\n",
    "    \n",
    "    * number & fraction of generator_id values that have a unit_id_pudl\n",
    "    * sum and fraction of overall capacity (MW) that has a unit_id_pudl\n",
    "    * sum and fraction of overall generation (MWh) associated with a\n",
    "      unit_id_pudl in the generation_eia923 table\n",
    "    \n",
    "    \"\"\"\n",
    "    working_gens = prepped_gens.copy()\n",
    "    # A boolean column indicating whether a record has a PUDL Unit ID\n",
    "    working_gens.loc[:, \"has_unit_id\"] = working_gens.unit_id_pudl.notna()\n",
    "    \n",
    "    def tot_frac(df, col):\n",
    "        return df.loc[:, (col, True)] / df[col].sum(axis=\"columns\")\n",
    "    \n",
    "    working_gens = (\n",
    "        working_gens.groupby([\"report_date\", \"prime_mover_code\", \"has_unit_id\"])\n",
    "        .agg(\n",
    "            num_gens=pd.NamedAgg(column=\"generator_id\", aggfunc=\"size\"),\n",
    "            capacity_mw=pd.NamedAgg(column=\"capacity_mw\", aggfunc=\"sum\"),\n",
    "            net_generation_mwh=pd.NamedAgg(column=\"net_generation_mwh\", aggfunc=\"sum\"),\n",
    "        )\n",
    "        .unstack(fill_value=0)\n",
    "        .assign(\n",
    "            num_gens_fraction=lambda x: tot_frac(x, \"num_gens\"),\n",
    "            capacity_mw_fraction=lambda x: tot_frac(x, \"capacity_mw\"),\n",
    "            net_generation_mwh_fraction=lambda x: tot_frac(x, \"net_generation_mwh\"),\n",
    "        )\n",
    "    )\n",
    "    return working_gens"
   ]
  },
  {
   "cell_type": "markdown",
   "metadata": {},
   "source": [
    "## `chp_prevalence()`"
   ]
  },
  {
   "cell_type": "code",
   "execution_count": 7,
   "metadata": {},
   "outputs": [],
   "source": [
    "def chp_prevalence(gens_df):\n",
    "    \"\"\"\n",
    "    Assess the prevalence of Combined Heat & Power in Generators.\n",
    "    \n",
    "    Break down generators by year and prime mover, and within each group\n",
    "    calculate the proportion and total quantity associated with CHP per\n",
    "    \n",
    "    * number of generators\n",
    "    * capacity (MW)\n",
    "    * generation (MWh) in the generation_eia923 table\n",
    "    \"\"\"\n",
    "    gens_working = gens_df.copy()\n",
    "    # A boolean column indicating whether a record is associated with CHP\n",
    "    gens_working.loc[:, \"ass_chap\"] = gens_working.associated_combined_heat_power.astype(bool)\n",
    "    \n",
    "    def tot_frac(df, col):\n",
    "        return df.loc[:, (col, True)] / df[col].sum(axis=\"columns\")\n",
    "    \n",
    "    gens_working = (\n",
    "        gens_working.groupby([\"report_date\", \"prime_mover_code\", \"ass_chap\"])\n",
    "        .agg(\n",
    "            num_gens=pd.NamedAgg(column=\"generator_id\", aggfunc=\"size\"),\n",
    "            capacity_mw=pd.NamedAgg(column=\"capacity_mw\", aggfunc=\"sum\"),\n",
    "            net_generation_mwh=pd.NamedAgg(column=\"net_generation_mwh\", aggfunc=\"sum\"),\n",
    "        )\n",
    "        .unstack(fill_value=0)\n",
    "        .assign(\n",
    "            num_gens_fraction=lambda x: tot_frac(x, \"num_gens\"),\n",
    "            capacity_mw_fraction=lambda x: tot_frac(x, \"capacity_mw\"),\n",
    "            net_generation_mwh_fraction=lambda x: tot_frac(x, \"net_generation_mwh\"),\n",
    "        )\n",
    "    )\n",
    "    return gens_working "
   ]
  },
  {
   "cell_type": "markdown",
   "metadata": {},
   "source": [
    "## `fill_unit_ids()`"
   ]
  },
  {
   "cell_type": "code",
   "execution_count": 8,
   "metadata": {},
   "outputs": [],
   "source": [
    "def fill_unit_ids(gens):\n",
    "    \"\"\"\n",
    "    Back and forward fill Unit IDs for each plant / gen combination.\n",
    "    \n",
    "    This routine assumes that the mapping of generators to units is constant\n",
    "    over time, and extends those mappings into years where no boilers have\n",
    "    been reported -- since in the BGA we can only connect generators to each\n",
    "    other if they are both connected to a boiler.\n",
    "    \n",
    "    Prior to 2014, combined cycle units didn't report any \"boilers\" but in\n",
    "    latter years, they have been given \"boilers\" that correspond to their\n",
    "    generators, so that all of their fuel consumption is recorded alongside\n",
    "    that of other types of generators.\n",
    "    \n",
    "    Returns:\n",
    "        pd.DataFrame: with columns: report_date, plant_id_eia, generator_id,\n",
    "            unit_id_pudl, prime_mover_code, unit_id_source, unit_id_new\n",
    "    \"\"\"\n",
    "    # forward and backward fill the unit IDs\n",
    "    gen_ids = [\"plant_id_eia\", \"generator_id\"]\n",
    "    gens = gens.sort_values([\"report_date\", \"plant_id_eia\", \"generator_id\"])\n",
    "\n",
    "    bfill_units = gens.groupby(gen_ids)[\"unit_id_pudl\"].bfill()\n",
    "    bfill_idx = (bfill_units.notnull()) & (gens.unit_id_pudl.isnull())\n",
    "    gens.loc[bfill_idx, \"bga_source\"] = \"bfill_units\"\n",
    "    gens.loc[bfill_idx, \"unit_id_pudl\"] = bfill_units.loc[bfill_idx]\n",
    "    \n",
    "    ffill_units = gens.groupby(gen_ids)[\"unit_id_pudl\"].ffill()\n",
    "    ffill_idx = (ffill_units.notnull()) & (gens.unit_id_pudl.isnull())\n",
    "    gens.loc[ffill_idx, \"bga_source\"] = \"ffill_units\"\n",
    "    gens.loc[ffill_idx, \"unit_id_pudl\"] = ffill_units.loc[ffill_idx]\n",
    "    gens[\"bga_source\"] = gens[\"bga_source\"].astype(pd.StringDtype())\n",
    "\n",
    "    return gens"
   ]
  },
  {
   "cell_type": "markdown",
   "metadata": {},
   "source": [
    "## `test_gen_units_are_unique()`\n",
    "Add this to the integration tests"
   ]
  },
  {
   "cell_type": "code",
   "execution_count": 9,
   "metadata": {},
   "outputs": [],
   "source": [
    "def test_generator_consistency(df, col):\n",
    "    \"\"\"\n",
    "    Test that every generator is associated with at most one value of col.\n",
    "    \n",
    "    Does not treat NA values of ``col`` as separate values (they are ignored).\n",
    "    \n",
    "    Args:\n",
    "        df (pandas.DataFrame): A dataframe containing columns\n",
    "            ``plant_id_eia``, ``generator_id``, and ``col``.\n",
    "\n",
    "    Returns:\n",
    "        None\n",
    "\n",
    "    \"\"\"\n",
    "    gens_with_col = df[[\"plant_id_eia\", \"generator_id\", col]].dropna().drop_duplicates()\n",
    "    unique_gens = gens_with_col[[\"plant_id_eia\", \"generator_id\"]].drop_duplicates()\n",
    "    pd.testing.assert_frame_equal(\n",
    "        gens_with_col[[\"plant_id_eia\", \"generator_id\"]],\n",
    "        unique_gens[[\"plant_id_eia\", \"generator_id\"]],\n",
    "    )"
   ]
  },
  {
   "cell_type": "markdown",
   "metadata": {},
   "source": [
    "## `test_inconsistent_gen_ids()`\n",
    "Add this to the integration tests."
   ]
  },
  {
   "cell_type": "code",
   "execution_count": 10,
   "metadata": {},
   "outputs": [],
   "source": [
    "def test_inconsistent_gen_ids(pudl_out):\n",
    "    \"\"\"\n",
    "    Find generator IDs that only differ by case and non-alphanumeric characters.\n",
    "    \"\"\"\n",
    "    gens_eia860 = pudl_out.gens_eia860()\n",
    "    clean_gen_ids = (\n",
    "        gens_eia860[[\"plant_id_eia\", \"generator_id\"]].drop_duplicates()\n",
    "        .assign(\n",
    "            clean_gen_id=lambda x: x.generator_id.str.upper().str.replace(r\"[^a-zA-Z0-9]\", \"\"),\n",
    "        )\n",
    "    )\n",
    "\n",
    "    dirty_gen_ids = (\n",
    "        clean_gen_ids.drop_duplicates(subset=[\"plant_id_eia\", \"clean_gen_id\"], keep=False)\n",
    "    )\n",
    "    inconsistent_gen_ids = (\n",
    "        clean_gen_ids[clean_gen_ids.duplicated(subset=[\"plant_id_eia\", \"clean_gen_id\"], keep=False)]\n",
    "        .sort_values([\"plant_id_eia\", \"clean_gen_id\"])\n",
    "    )\n",
    "    logger.info(\"Found %s inconsistently reported generator_id values.\", len(inconsistent_gen_ids))\n",
    "    \n",
    "    if len(inconsistent_gen_ids) > 40:\n",
    "        raise AssertionError\n",
    "    \n",
    "    return inconsistent_gen_ids"
   ]
  },
  {
   "cell_type": "markdown",
   "metadata": {},
   "source": [
    "## `max_unit_id_by_plant()`"
   ]
  },
  {
   "cell_type": "code",
   "execution_count": 11,
   "metadata": {},
   "outputs": [],
   "source": [
    "def max_unit_id_by_plant(gens_df):\n",
    "    \"\"\"\n",
    "    Identify the largest unit ID associated with each plant so we don't overlap.\n",
    "    \n",
    "    This calculation depends on having all of the generators and units of all\n",
    "    kinds still available in the dataframe!\n",
    "    \"\"\"\n",
    "    return (\n",
    "        gens_df[[\"plant_id_eia\", \"unit_id_pudl\"]]\n",
    "        .drop_duplicates()\n",
    "        .groupby(\"plant_id_eia\").agg({\"unit_id_pudl\": max})\n",
    "        .fillna(0)\n",
    "        .rename(columns={\"unit_id_pudl\": \"max_unit_id_pudl\"})\n",
    "        .reset_index()\n",
    "    )"
   ]
  },
  {
   "cell_type": "markdown",
   "metadata": {},
   "source": [
    "## `assign_simple_unit_ids()`"
   ]
  },
  {
   "cell_type": "code",
   "execution_count": 12,
   "metadata": {},
   "outputs": [],
   "source": [
    "def assign_simple_unit_ids(gens_df, prime_mover_codes, label_prefix=\"single\"):\n",
    "    \"\"\"\n",
    "    Assign unique PUDL Unit IDs to all generators of a given prime mover type.\n",
    "\n",
    "    Calculate the maximum pre-existing PUDL Unit ID within each plant, and\n",
    "    assign each as of yet unidentified distinct generator within each plant\n",
    "    with an incrementing integer unit_id_pudl, beginning with 1 + the previous\n",
    "    maximum unit_id_pudl found in that plant. Mark that generator with the\n",
    "    given label.\n",
    "\n",
    "    Only generators with an NA unit_id_pudl will be assigned a new ID\n",
    "    \n",
    "    Args:\n",
    "        gens_df (pandas.DataFrame): A collection of EIA generator records.\n",
    "            Must include the ``plant_id_eia``, ``generator_id`` and\n",
    "            ``prime_mover_code`` and ``unit_id_pudl`` columns.\n",
    "        prime_mover_codes (list): List of prime mover codes for which we are\n",
    "            attempting to assign simple Unit IDs.\n",
    "        label_prefix (str): String to use in labeling records as to how their\n",
    "            unit_id_pudl was set. Will be concatenated with the prime mover\n",
    "            code.\n",
    "        \n",
    "    Returns:\n",
    "        pandas.DataFrame: A new dataframe with the same rows and columns as\n",
    "        were passed in, but with the unit_id_pudl and bga_source columns updated\n",
    "        to reflect the newly assigned Unit IDs.\n",
    "\n",
    "    \"\"\"\n",
    "\n",
    "    # Only alter the rows lacking Unit IDs and matching our target prime movers\n",
    "    row_mask = (gens_df.prime_mover_code.isin(prime_mover_codes)) & (gens_df.unit_id_pudl.isnull())\n",
    "    # We only need a few columns to make these assignments.\n",
    "    cols = [\"plant_id_eia\", \"generator_id\", \"unit_id_pudl\", \"prime_mover_code\"]\n",
    "    \n",
    "    logger.info(\n",
    "        \"Selected %s %s records lacking Unit IDs from %s records overall. \",\n",
    "        len(row_mask[row_mask==True]), prime_mover_codes, len(gens_df)\n",
    "    )\n",
    "\n",
    "    unit_ids = (\n",
    "        gens_df.loc[row_mask, cols]\n",
    "        .drop_duplicates()\n",
    "        .merge(\n",
    "            max_unit_id_by_plant(gens_df),\n",
    "            on=\"plant_id_eia\",\n",
    "            how=\"left\",\n",
    "            validate=\"many_to_one\",\n",
    "        )\n",
    "        # Assign new unit_id_pudl values based on number of distinct generators:\n",
    "        .assign(\n",
    "            unit_id_pudl=lambda x: x.groupby(\"plant_id_eia\").cumcount() + x.max_unit_id_pudl + 1,\n",
    "            bga_source=lambda x: label_prefix + \"_\" + x.prime_mover_code.str.lower(),\n",
    "        )\n",
    "        .drop([\"max_unit_id_pudl\", \"prime_mover_code\"], axis=\"columns\")\n",
    "    )\n",
    "    # Split original dataframe based on row_mask, and merge in the new IDs and\n",
    "    # labels only on the subset of the dataframe matching our row_mask:\n",
    "    out_df = gens_df.loc[~row_mask].append(\n",
    "        gens_df.loc[row_mask]\n",
    "        .drop([\"unit_id_pudl\", \"bga_source\"], axis=\"columns\")\n",
    "        .merge(\n",
    "            unit_ids,\n",
    "            on=[\"plant_id_eia\", \"generator_id\"],\n",
    "            how=\"left\",\n",
    "            validate=\"many_to_one\",\n",
    "        )\n",
    "    )\n",
    "        \n",
    "    return out_df\n"
   ]
  },
  {
   "cell_type": "markdown",
   "metadata": {},
   "source": [
    "## `assign_unique_combined_cycle_unit_ids()`"
   ]
  },
  {
   "cell_type": "code",
   "execution_count": 13,
   "metadata": {},
   "outputs": [],
   "source": [
    "def assign_unique_combined_cycle_unit_ids(gens_df):\n",
    "    \"\"\"\n",
    "    Assign unit IDs to combined cycle plants with a unique CT or CA generator.\n",
    "    \n",
    "    Within each plant, for any generator that has no Unit ID, count the number\n",
    "    of generators of each prime mover type. Assign any collection of generators\n",
    "    having only a single CT or a single CA a unit ID, and flag it \"unique_cc\".\n",
    "    Assign collection of generators having multiple CTs and multiple CAs unit\n",
    "    IDs and flag them \"multi_cc\"\n",
    "    \"\"\"\n",
    "    \n",
    "    pm_cols = [\"plant_id_eia\", \"generator_id\", \"prime_mover_code\"]\n",
    "    # Get rid of the annual dependence, and only keep gens with missing PMs\n",
    "    df = gens_df[gens_df.unit_id_pudl.isna()][pm_cols].drop_duplicates()\n",
    "    # Count up the number of each kind of prime mover on a per-plant ID basis:\n",
    "    pm_counts = (\n",
    "        df.groupby([\"plant_id_eia\", \"prime_mover_code\"])\n",
    "        .size()\n",
    "        .unstack(fill_value=0)\n",
    "    )\n",
    "    # Plant IDs with at least one CT and one CA\n",
    "    # and either a single CA or a single CT.\n",
    "    # This makes the combined cycle unit grouping unambiguous.\n",
    "    cc_plant_ids = pm_counts[\n",
    "        (pm_counts[\"CA\"] > 0)\n",
    "        & (pm_counts[\"CT\"] > 0)\n",
    "        & ((pm_counts[\"CT\"] == 1) | (pm_counts[\"CA\"] == 1))\n",
    "    ].index\n",
    "    row_mask = (\n",
    "        gens_df.plant_id_eia.isin(cc_plant_ids)\n",
    "        & gens_df.unit_id_pudl.isnull()\n",
    "        & gens_df.prime_mover_code.isin([\"CA\", \"CT\"])\n",
    "    )\n",
    "\n",
    "    # Create Unit IDs for CA/CT generators that are being grouped together.\n",
    "    # Note that generator_id is not involved here because all of the\n",
    "    # selected generators within each plant are going to get the same Unit ID\n",
    "    unit_ids = (\n",
    "        gens_df.loc[row_mask, [\"plant_id_eia\", \"unit_id_pudl\"]]\n",
    "        .drop_duplicates()\n",
    "        .merge(\n",
    "            max_unit_id_by_plant(gens_df),\n",
    "            on=\"plant_id_eia\",\n",
    "            how=\"left\",\n",
    "            validate=\"many_to_one\",\n",
    "        )\n",
    "        # Assign new unit_id_pudl values by incrementing beyond the previous max\n",
    "        .assign(\n",
    "            unit_id_pudl=lambda x: x.max_unit_id_pudl + 1,\n",
    "            bga_source=lambda x: \"agg_unique_cc\",\n",
    "        )\n",
    "        .drop(\"max_unit_id_pudl\", axis=\"columns\")\n",
    "    )\n",
    "\n",
    "    out_df = gens_df.loc[~row_mask].append(\n",
    "        gens_df.loc[row_mask]\n",
    "        .drop([\"unit_id_pudl\", \"bga_source\"], axis=\"columns\")\n",
    "        .merge(\n",
    "            unit_ids,\n",
    "            on=\"plant_id_eia\",\n",
    "            how=\"left\",\n",
    "            validate=\"many_to_one\",\n",
    "        )\n",
    "    )\n",
    "    return out_df"
   ]
  },
  {
   "cell_type": "markdown",
   "metadata": {},
   "source": [
    "## `assign_complex_combined_cycle_unit_ids()`"
   ]
  },
  {
   "cell_type": "code",
   "execution_count": 14,
   "metadata": {},
   "outputs": [],
   "source": [
    "def assign_complex_combined_cycle_unit_ids(gens_df):\n",
    "    \"\"\"\n",
    "    Assign unit IDs to combined cycle plants that must aggregate CT/CA PMs\n",
    "    \"\"\"\n",
    "    \n",
    "    pm_cols = [\"plant_id_eia\", \"generator_id\", \"prime_mover_code\"]\n",
    "    # Get rid of the annual dependence, and only keep gens with missing PMs\n",
    "    df = gens_df[gens_df.unit_id_pudl.isna()][pm_cols].drop_duplicates()\n",
    "    # Plant IDs with more than one CT and more than one CA\n",
    "    cc_plant_ids = (\n",
    "        df.groupby([\"plant_id_eia\", \"prime_mover_code\"])\n",
    "        .size()\n",
    "        .unstack(fill_value=0)\n",
    "        .query(\"CA > 1 & CT > 1\")\n",
    "    ).index\n",
    "    row_mask = (\n",
    "        gens_df.plant_id_eia.isin(cc_plant_ids)\n",
    "        & gens_df.unit_id_pudl.isnull()\n",
    "        & gens_df.prime_mover_code.isin([\"CA\", \"CT\"])\n",
    "    )\n",
    "\n",
    "    # Create Unit IDs for CA/CT generators that are being grouped together.\n",
    "    # Note that generator_id is not involved here because all of the\n",
    "    # selected generators within each plant are going to get the same Unit ID\n",
    "    unit_ids = (\n",
    "        gens_df.loc[row_mask, [\"plant_id_eia\", \"unit_id_pudl\"]]\n",
    "        .drop_duplicates()\n",
    "        .merge(\n",
    "            max_unit_id_by_plant(gens_df),\n",
    "            on=\"plant_id_eia\",\n",
    "            how=\"left\",\n",
    "            validate=\"many_to_one\",\n",
    "        )\n",
    "        # Assign new unit_id_pudl values by incrementing beyond the previous max\n",
    "        .assign(\n",
    "            unit_id_pudl=lambda x: x.max_unit_id_pudl + 1,\n",
    "            bga_source=lambda x: \"agg_complex_cc\",\n",
    "        )\n",
    "        .drop(\"max_unit_id_pudl\", axis=\"columns\")\n",
    "    )\n",
    "\n",
    "    out_df = gens_df.loc[~row_mask].append(\n",
    "        gens_df.loc[row_mask]\n",
    "        .drop([\"unit_id_pudl\", \"bga_source\"], axis=\"columns\")\n",
    "        .merge(\n",
    "            unit_ids,\n",
    "            on=\"plant_id_eia\",\n",
    "            how=\"left\",\n",
    "            validate=\"many_to_one\",\n",
    "        )\n",
    "    )\n",
    "    return out_df"
   ]
  },
  {
   "cell_type": "markdown",
   "metadata": {},
   "source": [
    "## `flag_orphan_combined_cycle_gens()`"
   ]
  },
  {
   "cell_type": "code",
   "execution_count": 15,
   "metadata": {},
   "outputs": [],
   "source": [
    "def flag_orphan_combined_cycle_gens(gens_df, orphan_code):\n",
    "    \"\"\"\n",
    "    Flag CA/CT generators without corresponding CT/CAs as orphans.\n",
    "    \n",
    "    Args:\n",
    "        gens_df (pandas.DataFrame): Must contain the columns plant_id_eia,\n",
    "            generator_id, and prime mover code. The column bga_code will\n",
    "            be created or assigned in matching rows \n",
    "        orphan_code (str): Prime mover code indicating which type of generator\n",
    "            is being flagged as orphaned. Must be either \"CA\" or \"CT\".\n",
    "    \n",
    "    Returns:\n",
    "        pandas.DataFrame\n",
    "    \n",
    "    Raises:\n",
    "        ValueError: if orphan_code is not CA or CT.\n",
    "\n",
    "    \"\"\"\n",
    "    if orphan_code == \"CA\":\n",
    "        missing_code = \"CT\"\n",
    "    elif orphan_code == \"CT\":\n",
    "        missing_code = \"CA\"\n",
    "    else:\n",
    "        raise ValueError(f\"orphan must be either 'CA' or 'CT', but we got {orphan}.\")\n",
    "\n",
    "    orphan_plant_ids = (\n",
    "        gens_df[gens_df.unit_id_pudl.isnull()]\n",
    "        .drop_duplicates(subset=[\"plant_id_eia\", \"generator_id\", \"prime_mover_code\"])\n",
    "        .groupby([\"plant_id_eia\", \"prime_mover_code\"])\n",
    "        .size()\n",
    "        .unstack(fill_value=0)\n",
    "        .query(f\"{orphan_code} > 0 & {missing_code} == 0\")\n",
    "    ).index\n",
    "    row_mask = (\n",
    "        (gens_df.plant_id_eia.isin(orphan_plant_ids))\n",
    "        & (gens_df.unit_id_pudl.isnull())\n",
    "        & (gens_df.prime_mover_code == orphan_code)\n",
    "    )\n",
    "    out_df = gens_df.loc[~row_mask].append(\n",
    "        gens_df.loc[row_mask]\n",
    "        .assign(bga_source=f\"orphan_{orphan_code.lower()}\")\n",
    "    )\n",
    "    return out_df"
   ]
  },
  {
   "cell_type": "markdown",
   "metadata": {},
   "source": [
    "## `plot_unit_ids()`"
   ]
  },
  {
   "cell_type": "code",
   "execution_count": 16,
   "metadata": {},
   "outputs": [],
   "source": [
    "def plot_unit_ids(df, pm_codes):\n",
    "    for code in pm_codes:\n",
    "        data = (\n",
    "            df[df.prime_mover_code==code]\n",
    "            .groupby(\"report_date\")[\"unit_id_pudl\"]\n",
    "            .count()\n",
    "        )\n",
    "        plt.plot(data, label=code, linewidth=\"2\", markersize=\"4\", marker=\"o\")\n",
    "    plt.legend(loc=\"upper left\")\n",
    "    plt.ylabel(\"Generator Records with Unit IDs\")\n",
    "    plt.show();"
   ]
  },
  {
   "cell_type": "markdown",
   "metadata": {},
   "source": [
    "# Pull data & set constants"
   ]
  },
  {
   "cell_type": "markdown",
   "metadata": {},
   "source": [
    "## Notebook Constants"
   ]
  },
  {
   "cell_type": "code",
   "execution_count": 17,
   "metadata": {},
   "outputs": [],
   "source": [
    "THERMAL_PRIME_MOVERS = [ \"CT\", \"CS\", \"CA\", \"CC\", \"GT\", \"IC\", \"ST\", ]\n",
    "\n",
    "GENS_COLS = [\n",
    "    \"report_date\",\n",
    "    \"plant_id_eia\",\n",
    "    \"plant_name_eia\",\n",
    "    \"unit_id_pudl\",\n",
    "    \"bga_source\",\n",
    "    \"generator_id\",\n",
    "    \"capacity_mw\",\n",
    "    \"prime_mover_code\",\n",
    "    \"energy_source_code_1\",\n",
    "    \"energy_source_code_2\",\n",
    "    \"fuel_type_code_pudl\",\n",
    "    \"technology_description\",\n",
    "    \"associated_combined_heat_power\",\n",
    "]\n"
   ]
  },
  {
   "cell_type": "markdown",
   "metadata": {
    "tags": []
   },
   "source": [
    "## Create PUDL output object"
   ]
  },
  {
   "cell_type": "code",
   "execution_count": 18,
   "metadata": {},
   "outputs": [
    {
     "data": {
      "text/plain": [
       "{'pudl_in': '/home/zane/code/catalyst/pudl-work',\n",
       " 'data_dir': '/home/zane/code/catalyst/pudl-work/data',\n",
       " 'settings_dir': '/home/zane/code/catalyst/pudl-work/settings',\n",
       " 'pudl_out': '/home/zane/code/catalyst/pudl-work',\n",
       " 'sqlite_dir': '/home/zane/code/catalyst/pudl-work/sqlite',\n",
       " 'parquet_dir': '/home/zane/code/catalyst/pudl-work/parquet',\n",
       " 'datapkg_dir': '/home/zane/code/catalyst/pudl-work/datapkg',\n",
       " 'ferc1_db': 'sqlite:////home/zane/code/catalyst/pudl-work/sqlite/ferc1.sqlite',\n",
       " 'pudl_db': 'sqlite:////home/zane/code/catalyst/pudl-work/sqlite/pudl.sqlite',\n",
       " 'censusdp1tract_db': 'sqlite:////home/zane/code/catalyst/pudl-work/sqlite/censusdp1tract.sqlite'}"
      ]
     },
     "metadata": {},
     "output_type": "display_data"
    }
   ],
   "source": [
    "pudl_settings = pudl.workspace.setup.get_defaults()\n",
    "display(pudl_settings)\n",
    "\n",
    "ferc1_engine = sa.create_engine(pudl_settings['ferc1_db'])\n",
    "pudl_engine = sa.create_engine(pudl_settings['pudl_db'])\n",
    "\n",
    "API_KEY_EIA = os.environ[\"API_KEY_EIA\"]\n",
    "\n",
    "pudl_out = pudl.output.pudltabl.PudlTabl(pudl_engine)"
   ]
  },
  {
   "cell_type": "markdown",
   "metadata": {},
   "source": [
    "# Improve PUDL Unit ID Coverage\n",
    "* Initially, most generators are not part of generation units, as defined by the boiler generator association (BGA)\n",
    "* To implement a uniform heat rate calculation process, we need unit IDs that indicate which aggregations of generation and fuel consumption should be considered together.\n",
    "* This section applies several different methods to expand the number of fossil fuel generators that are part of generation units.\n",
    "* Most of these methods depend on the prime mover and in some case fuel type associated with the generator.\n",
    "* Prime mover and fuel type are available both in the generator and the generation_fuel tables."
   ]
  },
  {
   "cell_type": "markdown",
   "metadata": {
    "tags": []
   },
   "source": [
    "## All In One ID Assignment\n",
    "* Without saving intermediary dataframes for diagnostic purposes, the process looks like this:"
   ]
  },
  {
   "cell_type": "code",
   "execution_count": 19,
   "metadata": {
    "tags": []
   },
   "outputs": [
    {
     "name": "stdout",
     "output_type": "stream",
     "text": [
      "Selected 172517 ['CC', 'CS', 'GT', 'IC'] records lacking Unit IDs from 403832 records overall. \n",
      "CPU times: user 1min 5s, sys: 6.39 s, total: 1min 11s\n",
      "Wall time: 1min 12s\n"
     ]
    }
   ],
   "source": [
    "%%time\n",
    "\n",
    "out_df = (\n",
    "    pudl_out.gens_eia860()[GENS_COLS]\n",
    "    .pipe(fill_unit_ids)\n",
    "    .pipe(assign_simple_unit_ids, prime_mover_codes=[\"CC\", \"CS\", \"GT\", \"IC\"])\n",
    "    .pipe(assign_unique_combined_cycle_unit_ids)\n",
    "    .pipe(assign_complex_combined_cycle_unit_ids)\n",
    "    .pipe(flag_orphan_combined_cycle_gens, orphan_code=\"CA\")\n",
    "    .pipe(flag_orphan_combined_cycle_gens, orphan_code=\"CT\")\n",
    ")\n"
   ]
  },
  {
   "cell_type": "markdown",
   "metadata": {},
   "source": [
    "## Fuel-based Unit IDs for Steam Turbines\n",
    "For the steam turbines (`prime_mover_code==ST`) that still do not have a `unit_id_pudl`, aggregate them within each plant based on their simplified fuel type (`fuel_type_code_pudl`) and assign them an ID.\n",
    "\n",
    "### Nuclear\n",
    "* Nuclear Units do report in the `boiler_fuel_eia923` table.\n",
    "* They **also** do not report in the `generation_eia923` table.\n",
    "* Their fuel consumption is given only in terms of heat content, and only in the `generation_fuel_eia923` table.\n",
    "* Their `net_generation_mwh` only appears in the `generation_fuel_eia923` table.\n",
    "* The `generation_fuel_eia923` table provides a `nuclear_unit_id` column, which appears to correspond to `generator_id` in the `generators_eia860` table.\n",
    "* To keep things simple, directly use the `nuclear_unit_id` / `generator_id` value as the `unit_id_pudl`.\n",
    "\n",
    "### Combustion Based Fuels\n",
    "* Only assign unit IDs when the generator's `fuel_type_code_pudl` is unique across all years.\n",
    "* This will lump together solid fuels like BIT, LIG, SUB, PC, etc. which are similar into \"coal\"\n",
    "* There are a small number of generators which may have actually changed their fuel type (coal to gas conversions) and which also don't have `unit_id_pudl` values, but they aren't substantial.\n",
    "\n",
    "### Non-Combustion Steam Turbines\n",
    "* Geothermal\n",
    "* Solar Thermal"
   ]
  },
  {
   "cell_type": "code",
   "execution_count": 100,
   "metadata": {},
   "outputs": [],
   "source": [
    "out_df[\"num_fuels\"] = out_df.groupby([\"plant_id_eia\", \"generator_id\"])[\"fuel_type_code_pudl\"].transform(lambda x: x.nunique())"
   ]
  },
  {
   "cell_type": "code",
   "execution_count": 237,
   "metadata": {},
   "outputs": [
    {
     "name": "stderr",
     "output_type": "stream",
     "text": [
      "<ipython-input-237-4aa00271e8f7>:14: SettingWithCopyWarning: \n",
      "A value is trying to be set on a copy of a slice from a DataFrame.\n",
      "Try using .loc[row_indexer,col_indexer] = value instead\n",
      "\n",
      "See the caveats in the documentation: https://pandas.pydata.org/pandas-docs/stable/user_guide/indexing.html#returning-a-view-versus-a-copy\n",
      "  nuke_gf[\"nuclear_unit_id\"] = nuke_gf[\"nuclear_unit_id\"].astype(int).astype(str)\n"
     ]
    }
   ],
   "source": [
    "nuke_steam_gens = (\n",
    "    out_df.loc[(\n",
    "        #(out_df.num_fuels == 1)\n",
    "        #& (out_df.prime_mover_code == \"ST\")\n",
    "        #& (out_df.unit_id_pudl.isna())\n",
    "        #& (out_df.bga_source.isna())\n",
    "        (out_df.fuel_type_code_pudl==\"nuclear\")\n",
    "    )].set_index([\"report_date\", \"plant_id_eia\", \"generator_id\"])\n",
    ")\n",
    "assert nuke_steam_gens.index.is_unique\n",
    "\n",
    "gf_eia923 = pudl_out.gf_eia923()\n",
    "nuke_gf = gf_eia923[gf_eia923.nuclear_unit_id.notnull()]\n",
    "nuke_gf[\"nuclear_unit_id\"] = nuke_gf[\"nuclear_unit_id\"].astype(int).astype(str)\n",
    "nuke_gf = nuke_gf.rename(columns={\"nuclear_unit_id\": \"generator_id\"}).set_index([\"report_date\", \"plant_id_eia\", \"generator_id\"])\n",
    "assert nuke_gf.index.is_unique"
   ]
  },
  {
   "cell_type": "code",
   "execution_count": 238,
   "metadata": {},
   "outputs": [],
   "source": [
    "gen_eia923 = pudl_out.gen_eia923()\n",
    "# Just pull the generation records that pertain to the nuclear steam generators we've identified above\n",
    "nuke_gen = (\n",
    "    gen_eia923\n",
    "    .set_index([\"report_date\", \"plant_id_eia\", \"generator_id\"])\n",
    ")"
   ]
  },
  {
   "cell_type": "code",
   "execution_count": 239,
   "metadata": {},
   "outputs": [
    {
     "name": "stdout",
     "output_type": "stream",
     "text": [
      "<class 'pandas.core.frame.DataFrame'>\n",
      "MultiIndex: 13140 entries, (Timestamp('2009-01-01 00:00:00'), 46, '1') to (Timestamp('2019-12-01 00:00:00'), 8907, '3')\n",
      "Data columns (total 2 columns):\n",
      " #   Column                  Non-Null Count  Dtype  \n",
      "---  ------                  --------------  -----  \n",
      " 0   net_generation_mwh_gf   13084 non-null  float64\n",
      " 1   net_generation_mwh_gen  0 non-null      float64\n",
      "dtypes: float64(2)\n",
      "memory usage: 780.7+ KB\n"
     ]
    }
   ],
   "source": [
    "pd.merge(\n",
    "    nuke_gf[[\"net_generation_mwh\"]],\n",
    "    nuke_gen[[\"net_generation_mwh\"]],\n",
    "    how=\"left\",\n",
    "    left_index=True,\n",
    "    right_index=True,\n",
    "    suffixes=(\"_gf\", \"_gen\"),\n",
    "    validate=\"one_to_one\",\n",
    ").info()\n",
    "    "
   ]
  },
  {
   "cell_type": "code",
   "execution_count": 241,
   "metadata": {},
   "outputs": [
    {
     "data": {
      "text/plain": [
       "MultiIndex([], names=['report_date', 'plant_id_eia', 'generator_id'])"
      ]
     },
     "execution_count": 241,
     "metadata": {},
     "output_type": "execute_result"
    }
   ],
   "source": [
    "nuke_gen.index.intersection(nuke_gf.index)"
   ]
  },
  {
   "cell_type": "code",
   "execution_count": 171,
   "metadata": {},
   "outputs": [
    {
     "data": {
      "text/html": [
       "<div>\n",
       "<style scoped>\n",
       "    .dataframe tbody tr th:only-of-type {\n",
       "        vertical-align: middle;\n",
       "    }\n",
       "\n",
       "    .dataframe tbody tr th {\n",
       "        vertical-align: top;\n",
       "    }\n",
       "\n",
       "    .dataframe thead th {\n",
       "        text-align: right;\n",
       "    }\n",
       "</style>\n",
       "<table border=\"1\" class=\"dataframe\">\n",
       "  <thead>\n",
       "    <tr style=\"text-align: right;\">\n",
       "      <th></th>\n",
       "      <th>report_date</th>\n",
       "      <th>plant_id_eia</th>\n",
       "      <th>plant_id_pudl</th>\n",
       "      <th>plant_name_eia_x</th>\n",
       "      <th>utility_id_eia</th>\n",
       "      <th>utility_id_pudl</th>\n",
       "      <th>utility_name_eia</th>\n",
       "      <th>fuel_consumed_for_electricity_mmbtu</th>\n",
       "      <th>fuel_consumed_for_electricity_units</th>\n",
       "      <th>fuel_consumed_mmbtu</th>\n",
       "      <th>fuel_consumed_units</th>\n",
       "      <th>fuel_mmbtu_per_unit</th>\n",
       "      <th>fuel_type</th>\n",
       "      <th>fuel_type_code_aer</th>\n",
       "      <th>fuel_type_code_pudl_x</th>\n",
       "      <th>net_generation_mwh</th>\n",
       "      <th>nuclear_unit_id</th>\n",
       "      <th>prime_mover_code_x</th>\n",
       "      <th>plant_name_eia_y</th>\n",
       "      <th>unit_id_pudl</th>\n",
       "      <th>bga_source</th>\n",
       "      <th>generator_id</th>\n",
       "      <th>capacity_mw</th>\n",
       "      <th>prime_mover_code_y</th>\n",
       "      <th>energy_source_code_1</th>\n",
       "      <th>energy_source_code_2</th>\n",
       "      <th>fuel_type_code_pudl_y</th>\n",
       "      <th>technology_description</th>\n",
       "      <th>associated_combined_heat_power</th>\n",
       "      <th>num_esc1</th>\n",
       "      <th>num_fuels</th>\n",
       "    </tr>\n",
       "  </thead>\n",
       "  <tbody>\n",
       "    <tr>\n",
       "      <th>0</th>\n",
       "      <td>2009-01-01</td>\n",
       "      <td>46</td>\n",
       "      <td>1304</td>\n",
       "      <td>Browns Ferry</td>\n",
       "      <td>18642</td>\n",
       "      <td>3430</td>\n",
       "      <td>Tennessee Valley Authority</td>\n",
       "      <td>8628289.0</td>\n",
       "      <td>0.0</td>\n",
       "      <td>8628289.0</td>\n",
       "      <td>0.0</td>\n",
       "      <td>0.0</td>\n",
       "      <td>NUC</td>\n",
       "      <td>NUC</td>\n",
       "      <td>nuclear</td>\n",
       "      <td>822682.0</td>\n",
       "      <td>1</td>\n",
       "      <td>ST</td>\n",
       "      <td>Browns Ferry</td>\n",
       "      <td>&lt;NA&gt;</td>\n",
       "      <td>&lt;NA&gt;</td>\n",
       "      <td>1</td>\n",
       "      <td>1152.0</td>\n",
       "      <td>ST</td>\n",
       "      <td>NUC</td>\n",
       "      <td>None</td>\n",
       "      <td>nuclear</td>\n",
       "      <td>None</td>\n",
       "      <td>False</td>\n",
       "      <td>1</td>\n",
       "      <td>1</td>\n",
       "    </tr>\n",
       "    <tr>\n",
       "      <th>1</th>\n",
       "      <td>2009-01-01</td>\n",
       "      <td>46</td>\n",
       "      <td>1304</td>\n",
       "      <td>Browns Ferry</td>\n",
       "      <td>18642</td>\n",
       "      <td>3430</td>\n",
       "      <td>Tennessee Valley Authority</td>\n",
       "      <td>8801299.0</td>\n",
       "      <td>0.0</td>\n",
       "      <td>8801299.0</td>\n",
       "      <td>0.0</td>\n",
       "      <td>0.0</td>\n",
       "      <td>NUC</td>\n",
       "      <td>NUC</td>\n",
       "      <td>nuclear</td>\n",
       "      <td>839178.0</td>\n",
       "      <td>2</td>\n",
       "      <td>ST</td>\n",
       "      <td>Browns Ferry</td>\n",
       "      <td>&lt;NA&gt;</td>\n",
       "      <td>&lt;NA&gt;</td>\n",
       "      <td>2</td>\n",
       "      <td>1152.0</td>\n",
       "      <td>ST</td>\n",
       "      <td>NUC</td>\n",
       "      <td>None</td>\n",
       "      <td>nuclear</td>\n",
       "      <td>None</td>\n",
       "      <td>False</td>\n",
       "      <td>1</td>\n",
       "      <td>1</td>\n",
       "    </tr>\n",
       "    <tr>\n",
       "      <th>2</th>\n",
       "      <td>2009-01-01</td>\n",
       "      <td>46</td>\n",
       "      <td>1304</td>\n",
       "      <td>Browns Ferry</td>\n",
       "      <td>18642</td>\n",
       "      <td>3430</td>\n",
       "      <td>Tennessee Valley Authority</td>\n",
       "      <td>8747569.0</td>\n",
       "      <td>0.0</td>\n",
       "      <td>8747569.0</td>\n",
       "      <td>0.0</td>\n",
       "      <td>0.0</td>\n",
       "      <td>NUC</td>\n",
       "      <td>NUC</td>\n",
       "      <td>nuclear</td>\n",
       "      <td>834055.0</td>\n",
       "      <td>3</td>\n",
       "      <td>ST</td>\n",
       "      <td>Browns Ferry</td>\n",
       "      <td>&lt;NA&gt;</td>\n",
       "      <td>&lt;NA&gt;</td>\n",
       "      <td>3</td>\n",
       "      <td>1190.0</td>\n",
       "      <td>ST</td>\n",
       "      <td>NUC</td>\n",
       "      <td>None</td>\n",
       "      <td>nuclear</td>\n",
       "      <td>None</td>\n",
       "      <td>False</td>\n",
       "      <td>1</td>\n",
       "      <td>1</td>\n",
       "    </tr>\n",
       "    <tr>\n",
       "      <th>3</th>\n",
       "      <td>2009-01-01</td>\n",
       "      <td>204</td>\n",
       "      <td>1368</td>\n",
       "      <td>Clinton Power Station</td>\n",
       "      <td>55951</td>\n",
       "      <td>1690</td>\n",
       "      <td>Exelon Nuclear</td>\n",
       "      <td>8387757.0</td>\n",
       "      <td>0.0</td>\n",
       "      <td>8387757.0</td>\n",
       "      <td>0.0</td>\n",
       "      <td>0.0</td>\n",
       "      <td>NUC</td>\n",
       "      <td>NUC</td>\n",
       "      <td>nuclear</td>\n",
       "      <td>799748.0</td>\n",
       "      <td>1</td>\n",
       "      <td>ST</td>\n",
       "      <td>Clinton Power Station</td>\n",
       "      <td>&lt;NA&gt;</td>\n",
       "      <td>&lt;NA&gt;</td>\n",
       "      <td>1</td>\n",
       "      <td>1138.3</td>\n",
       "      <td>ST</td>\n",
       "      <td>NUC</td>\n",
       "      <td>None</td>\n",
       "      <td>nuclear</td>\n",
       "      <td>None</td>\n",
       "      <td>False</td>\n",
       "      <td>1</td>\n",
       "      <td>1</td>\n",
       "    </tr>\n",
       "    <tr>\n",
       "      <th>4</th>\n",
       "      <td>2009-01-01</td>\n",
       "      <td>210</td>\n",
       "      <td>653</td>\n",
       "      <td>Wolf Creek Generating Station</td>\n",
       "      <td>20893</td>\n",
       "      <td>367</td>\n",
       "      <td>Wolf Creek Nuclear Optg Corp</td>\n",
       "      <td>9289138.0</td>\n",
       "      <td>0.0</td>\n",
       "      <td>9289138.0</td>\n",
       "      <td>0.0</td>\n",
       "      <td>0.0</td>\n",
       "      <td>NUC</td>\n",
       "      <td>NUC</td>\n",
       "      <td>nuclear</td>\n",
       "      <td>885692.0</td>\n",
       "      <td>1</td>\n",
       "      <td>ST</td>\n",
       "      <td>Wolf Creek Generating Station</td>\n",
       "      <td>&lt;NA&gt;</td>\n",
       "      <td>&lt;NA&gt;</td>\n",
       "      <td>1</td>\n",
       "      <td>1235.7</td>\n",
       "      <td>ST</td>\n",
       "      <td>NUC</td>\n",
       "      <td>None</td>\n",
       "      <td>nuclear</td>\n",
       "      <td>None</td>\n",
       "      <td>False</td>\n",
       "      <td>1</td>\n",
       "      <td>1</td>\n",
       "    </tr>\n",
       "    <tr>\n",
       "      <th>...</th>\n",
       "      <td>...</td>\n",
       "      <td>...</td>\n",
       "      <td>...</td>\n",
       "      <td>...</td>\n",
       "      <td>...</td>\n",
       "      <td>...</td>\n",
       "      <td>...</td>\n",
       "      <td>...</td>\n",
       "      <td>...</td>\n",
       "      <td>...</td>\n",
       "      <td>...</td>\n",
       "      <td>...</td>\n",
       "      <td>...</td>\n",
       "      <td>...</td>\n",
       "      <td>...</td>\n",
       "      <td>...</td>\n",
       "      <td>...</td>\n",
       "      <td>...</td>\n",
       "      <td>...</td>\n",
       "      <td>...</td>\n",
       "      <td>...</td>\n",
       "      <td>...</td>\n",
       "      <td>...</td>\n",
       "      <td>...</td>\n",
       "      <td>...</td>\n",
       "      <td>...</td>\n",
       "      <td>...</td>\n",
       "      <td>...</td>\n",
       "      <td>...</td>\n",
       "      <td>...</td>\n",
       "      <td>...</td>\n",
       "    </tr>\n",
       "    <tr>\n",
       "      <th>1090</th>\n",
       "      <td>2019-01-01</td>\n",
       "      <td>8011</td>\n",
       "      <td>3010</td>\n",
       "      <td>Three Mile Island</td>\n",
       "      <td>55951</td>\n",
       "      <td>1690</td>\n",
       "      <td>Exelon Nuclear</td>\n",
       "      <td>6601248.0</td>\n",
       "      <td>0.0</td>\n",
       "      <td>6601248.0</td>\n",
       "      <td>0.0</td>\n",
       "      <td>0.0</td>\n",
       "      <td>NUC</td>\n",
       "      <td>NUC</td>\n",
       "      <td>nuclear</td>\n",
       "      <td>632206.0</td>\n",
       "      <td>1</td>\n",
       "      <td>ST</td>\n",
       "      <td>Three Mile Island</td>\n",
       "      <td>&lt;NA&gt;</td>\n",
       "      <td>&lt;NA&gt;</td>\n",
       "      <td>1</td>\n",
       "      <td>980.8</td>\n",
       "      <td>ST</td>\n",
       "      <td>NUC</td>\n",
       "      <td>None</td>\n",
       "      <td>nuclear</td>\n",
       "      <td>Nuclear</td>\n",
       "      <td>False</td>\n",
       "      <td>1</td>\n",
       "      <td>1</td>\n",
       "    </tr>\n",
       "    <tr>\n",
       "      <th>1091</th>\n",
       "      <td>2019-01-01</td>\n",
       "      <td>8036</td>\n",
       "      <td>3020</td>\n",
       "      <td>Cooper Nuclear Station</td>\n",
       "      <td>13337</td>\n",
       "      <td>2561</td>\n",
       "      <td>Nebraska Public Power District</td>\n",
       "      <td>6262261.0</td>\n",
       "      <td>0.0</td>\n",
       "      <td>6262261.0</td>\n",
       "      <td>0.0</td>\n",
       "      <td>0.0</td>\n",
       "      <td>NUC</td>\n",
       "      <td>NUC</td>\n",
       "      <td>nuclear</td>\n",
       "      <td>599741.0</td>\n",
       "      <td>1</td>\n",
       "      <td>ST</td>\n",
       "      <td>Cooper Nuclear Station</td>\n",
       "      <td>&lt;NA&gt;</td>\n",
       "      <td>&lt;NA&gt;</td>\n",
       "      <td>1</td>\n",
       "      <td>801.0</td>\n",
       "      <td>ST</td>\n",
       "      <td>NUC</td>\n",
       "      <td>None</td>\n",
       "      <td>nuclear</td>\n",
       "      <td>Nuclear</td>\n",
       "      <td>False</td>\n",
       "      <td>1</td>\n",
       "      <td>1</td>\n",
       "    </tr>\n",
       "    <tr>\n",
       "      <th>1092</th>\n",
       "      <td>2019-01-01</td>\n",
       "      <td>8055</td>\n",
       "      <td>21</td>\n",
       "      <td>Arkansas Nuclear One</td>\n",
       "      <td>814</td>\n",
       "      <td>106</td>\n",
       "      <td>Entergy Arkansas LLC</td>\n",
       "      <td>6662195.0</td>\n",
       "      <td>0.0</td>\n",
       "      <td>6662195.0</td>\n",
       "      <td>0.0</td>\n",
       "      <td>0.0</td>\n",
       "      <td>NUC</td>\n",
       "      <td>NUC</td>\n",
       "      <td>nuclear</td>\n",
       "      <td>638043.0</td>\n",
       "      <td>1</td>\n",
       "      <td>ST</td>\n",
       "      <td>Arkansas Nuclear One</td>\n",
       "      <td>&lt;NA&gt;</td>\n",
       "      <td>&lt;NA&gt;</td>\n",
       "      <td>1</td>\n",
       "      <td>902.5</td>\n",
       "      <td>ST</td>\n",
       "      <td>NUC</td>\n",
       "      <td>None</td>\n",
       "      <td>nuclear</td>\n",
       "      <td>Nuclear</td>\n",
       "      <td>False</td>\n",
       "      <td>1</td>\n",
       "      <td>1</td>\n",
       "    </tr>\n",
       "    <tr>\n",
       "      <th>1093</th>\n",
       "      <td>2019-01-01</td>\n",
       "      <td>8055</td>\n",
       "      <td>21</td>\n",
       "      <td>Arkansas Nuclear One</td>\n",
       "      <td>814</td>\n",
       "      <td>106</td>\n",
       "      <td>Entergy Arkansas LLC</td>\n",
       "      <td>7847109.0</td>\n",
       "      <td>0.0</td>\n",
       "      <td>7847109.0</td>\n",
       "      <td>0.0</td>\n",
       "      <td>0.0</td>\n",
       "      <td>NUC</td>\n",
       "      <td>NUC</td>\n",
       "      <td>nuclear</td>\n",
       "      <td>751523.0</td>\n",
       "      <td>2</td>\n",
       "      <td>ST</td>\n",
       "      <td>Arkansas Nuclear One</td>\n",
       "      <td>&lt;NA&gt;</td>\n",
       "      <td>&lt;NA&gt;</td>\n",
       "      <td>2</td>\n",
       "      <td>942.5</td>\n",
       "      <td>ST</td>\n",
       "      <td>NUC</td>\n",
       "      <td>None</td>\n",
       "      <td>nuclear</td>\n",
       "      <td>Nuclear</td>\n",
       "      <td>False</td>\n",
       "      <td>1</td>\n",
       "      <td>1</td>\n",
       "    </tr>\n",
       "    <tr>\n",
       "      <th>1094</th>\n",
       "      <td>2019-01-01</td>\n",
       "      <td>8907</td>\n",
       "      <td>3066</td>\n",
       "      <td>Indian Point 3</td>\n",
       "      <td>6028</td>\n",
       "      <td>1642</td>\n",
       "      <td>Entergy Nuclear Indian Point 3</td>\n",
       "      <td>8093510.0</td>\n",
       "      <td>0.0</td>\n",
       "      <td>8093510.0</td>\n",
       "      <td>0.0</td>\n",
       "      <td>0.0</td>\n",
       "      <td>NUC</td>\n",
       "      <td>NUC</td>\n",
       "      <td>nuclear</td>\n",
       "      <td>775121.0</td>\n",
       "      <td>3</td>\n",
       "      <td>ST</td>\n",
       "      <td>Indian Point 3</td>\n",
       "      <td>&lt;NA&gt;</td>\n",
       "      <td>&lt;NA&gt;</td>\n",
       "      <td>3</td>\n",
       "      <td>1012.0</td>\n",
       "      <td>ST</td>\n",
       "      <td>NUC</td>\n",
       "      <td>None</td>\n",
       "      <td>nuclear</td>\n",
       "      <td>Nuclear</td>\n",
       "      <td>False</td>\n",
       "      <td>1</td>\n",
       "      <td>1</td>\n",
       "    </tr>\n",
       "  </tbody>\n",
       "</table>\n",
       "<p>1095 rows × 31 columns</p>\n",
       "</div>"
      ],
      "text/plain": [
       "     report_date  plant_id_eia  plant_id_pudl               plant_name_eia_x  \\\n",
       "0     2009-01-01            46           1304                   Browns Ferry   \n",
       "1     2009-01-01            46           1304                   Browns Ferry   \n",
       "2     2009-01-01            46           1304                   Browns Ferry   \n",
       "3     2009-01-01           204           1368          Clinton Power Station   \n",
       "4     2009-01-01           210            653  Wolf Creek Generating Station   \n",
       "...          ...           ...            ...                            ...   \n",
       "1090  2019-01-01          8011           3010              Three Mile Island   \n",
       "1091  2019-01-01          8036           3020         Cooper Nuclear Station   \n",
       "1092  2019-01-01          8055             21           Arkansas Nuclear One   \n",
       "1093  2019-01-01          8055             21           Arkansas Nuclear One   \n",
       "1094  2019-01-01          8907           3066                 Indian Point 3   \n",
       "\n",
       "      utility_id_eia  utility_id_pudl                utility_name_eia  \\\n",
       "0              18642             3430      Tennessee Valley Authority   \n",
       "1              18642             3430      Tennessee Valley Authority   \n",
       "2              18642             3430      Tennessee Valley Authority   \n",
       "3              55951             1690                  Exelon Nuclear   \n",
       "4              20893              367    Wolf Creek Nuclear Optg Corp   \n",
       "...              ...              ...                             ...   \n",
       "1090           55951             1690                  Exelon Nuclear   \n",
       "1091           13337             2561  Nebraska Public Power District   \n",
       "1092             814              106            Entergy Arkansas LLC   \n",
       "1093             814              106            Entergy Arkansas LLC   \n",
       "1094            6028             1642  Entergy Nuclear Indian Point 3   \n",
       "\n",
       "      fuel_consumed_for_electricity_mmbtu  \\\n",
       "0                               8628289.0   \n",
       "1                               8801299.0   \n",
       "2                               8747569.0   \n",
       "3                               8387757.0   \n",
       "4                               9289138.0   \n",
       "...                                   ...   \n",
       "1090                            6601248.0   \n",
       "1091                            6262261.0   \n",
       "1092                            6662195.0   \n",
       "1093                            7847109.0   \n",
       "1094                            8093510.0   \n",
       "\n",
       "      fuel_consumed_for_electricity_units  fuel_consumed_mmbtu  \\\n",
       "0                                     0.0            8628289.0   \n",
       "1                                     0.0            8801299.0   \n",
       "2                                     0.0            8747569.0   \n",
       "3                                     0.0            8387757.0   \n",
       "4                                     0.0            9289138.0   \n",
       "...                                   ...                  ...   \n",
       "1090                                  0.0            6601248.0   \n",
       "1091                                  0.0            6262261.0   \n",
       "1092                                  0.0            6662195.0   \n",
       "1093                                  0.0            7847109.0   \n",
       "1094                                  0.0            8093510.0   \n",
       "\n",
       "      fuel_consumed_units  fuel_mmbtu_per_unit fuel_type fuel_type_code_aer  \\\n",
       "0                     0.0                  0.0       NUC                NUC   \n",
       "1                     0.0                  0.0       NUC                NUC   \n",
       "2                     0.0                  0.0       NUC                NUC   \n",
       "3                     0.0                  0.0       NUC                NUC   \n",
       "4                     0.0                  0.0       NUC                NUC   \n",
       "...                   ...                  ...       ...                ...   \n",
       "1090                  0.0                  0.0       NUC                NUC   \n",
       "1091                  0.0                  0.0       NUC                NUC   \n",
       "1092                  0.0                  0.0       NUC                NUC   \n",
       "1093                  0.0                  0.0       NUC                NUC   \n",
       "1094                  0.0                  0.0       NUC                NUC   \n",
       "\n",
       "     fuel_type_code_pudl_x  net_generation_mwh nuclear_unit_id  \\\n",
       "0                  nuclear            822682.0               1   \n",
       "1                  nuclear            839178.0               2   \n",
       "2                  nuclear            834055.0               3   \n",
       "3                  nuclear            799748.0               1   \n",
       "4                  nuclear            885692.0               1   \n",
       "...                    ...                 ...             ...   \n",
       "1090               nuclear            632206.0               1   \n",
       "1091               nuclear            599741.0               1   \n",
       "1092               nuclear            638043.0               1   \n",
       "1093               nuclear            751523.0               2   \n",
       "1094               nuclear            775121.0               3   \n",
       "\n",
       "     prime_mover_code_x               plant_name_eia_y  unit_id_pudl  \\\n",
       "0                    ST                   Browns Ferry          <NA>   \n",
       "1                    ST                   Browns Ferry          <NA>   \n",
       "2                    ST                   Browns Ferry          <NA>   \n",
       "3                    ST          Clinton Power Station          <NA>   \n",
       "4                    ST  Wolf Creek Generating Station          <NA>   \n",
       "...                 ...                            ...           ...   \n",
       "1090                 ST              Three Mile Island          <NA>   \n",
       "1091                 ST         Cooper Nuclear Station          <NA>   \n",
       "1092                 ST           Arkansas Nuclear One          <NA>   \n",
       "1093                 ST           Arkansas Nuclear One          <NA>   \n",
       "1094                 ST                 Indian Point 3          <NA>   \n",
       "\n",
       "     bga_source generator_id  capacity_mw prime_mover_code_y  \\\n",
       "0          <NA>            1       1152.0                 ST   \n",
       "1          <NA>            2       1152.0                 ST   \n",
       "2          <NA>            3       1190.0                 ST   \n",
       "3          <NA>            1       1138.3                 ST   \n",
       "4          <NA>            1       1235.7                 ST   \n",
       "...         ...          ...          ...                ...   \n",
       "1090       <NA>            1        980.8                 ST   \n",
       "1091       <NA>            1        801.0                 ST   \n",
       "1092       <NA>            1        902.5                 ST   \n",
       "1093       <NA>            2        942.5                 ST   \n",
       "1094       <NA>            3       1012.0                 ST   \n",
       "\n",
       "     energy_source_code_1 energy_source_code_2 fuel_type_code_pudl_y  \\\n",
       "0                     NUC                 None               nuclear   \n",
       "1                     NUC                 None               nuclear   \n",
       "2                     NUC                 None               nuclear   \n",
       "3                     NUC                 None               nuclear   \n",
       "4                     NUC                 None               nuclear   \n",
       "...                   ...                  ...                   ...   \n",
       "1090                  NUC                 None               nuclear   \n",
       "1091                  NUC                 None               nuclear   \n",
       "1092                  NUC                 None               nuclear   \n",
       "1093                  NUC                 None               nuclear   \n",
       "1094                  NUC                 None               nuclear   \n",
       "\n",
       "     technology_description associated_combined_heat_power  num_esc1  \\\n",
       "0                      None                          False         1   \n",
       "1                      None                          False         1   \n",
       "2                      None                          False         1   \n",
       "3                      None                          False         1   \n",
       "4                      None                          False         1   \n",
       "...                     ...                            ...       ...   \n",
       "1090                Nuclear                          False         1   \n",
       "1091                Nuclear                          False         1   \n",
       "1092                Nuclear                          False         1   \n",
       "1093                Nuclear                          False         1   \n",
       "1094                Nuclear                          False         1   \n",
       "\n",
       "      num_fuels  \n",
       "0             1  \n",
       "1             1  \n",
       "2             1  \n",
       "3             1  \n",
       "4             1  \n",
       "...         ...  \n",
       "1090          1  \n",
       "1091          1  \n",
       "1092          1  \n",
       "1093          1  \n",
       "1094          1  \n",
       "\n",
       "[1095 rows x 31 columns]"
      ]
     },
     "execution_count": 171,
     "metadata": {},
     "output_type": "execute_result"
    }
   ],
   "source": [
    "pd.merge(nukes.astype({\"nuclear_unit_id\": str}), leftover_nukes, left_on=[\"report_date\", \"plant_id_eia\", \"nuclear_unit_id\"], right_on=[\"report_date\", \"plant_id_eia\", \"generator_id\"])"
   ]
  },
  {
   "cell_type": "code",
   "execution_count": 172,
   "metadata": {},
   "outputs": [],
   "source": [
    "bf_eia923 = pudl_out.bf_eia923()"
   ]
  },
  {
   "cell_type": "code",
   "execution_count": 175,
   "metadata": {},
   "outputs": [
    {
     "data": {
      "text/plain": [
       "gas      481344\n",
       "oil      246084\n",
       "coal     227580\n",
       "waste    169788\n",
       "other      8592\n",
       "Name: fuel_type_code_pudl, dtype: int64"
      ]
     },
     "execution_count": 175,
     "metadata": {},
     "output_type": "execute_result"
    }
   ],
   "source": [
    "bf_eia923.fuel_type_code_pudl.value_counts()"
   ]
  },
  {
   "cell_type": "code",
   "execution_count": 129,
   "metadata": {},
   "outputs": [
    {
     "name": "stdout",
     "output_type": "stream",
     "text": [
      "<class 'pandas.core.frame.DataFrame'>\n",
      "Int64Index: 1891 entries, 403748 to 3863\n",
      "Data columns (total 15 columns):\n",
      " #   Column                          Non-Null Count  Dtype         \n",
      "---  ------                          --------------  -----         \n",
      " 0   report_date                     1891 non-null   datetime64[ns]\n",
      " 1   plant_id_eia                    1891 non-null   Int64         \n",
      " 2   plant_name_eia                  1891 non-null   object        \n",
      " 3   unit_id_pudl                    0 non-null      Int64         \n",
      " 4   bga_source                      0 non-null      object        \n",
      " 5   generator_id                    1891 non-null   object        \n",
      " 6   capacity_mw                     1891 non-null   float64       \n",
      " 7   prime_mover_code                1891 non-null   object        \n",
      " 8   energy_source_code_1            1891 non-null   object        \n",
      " 9   energy_source_code_2            0 non-null      object        \n",
      " 10  fuel_type_code_pudl             1891 non-null   object        \n",
      " 11  technology_description          822 non-null    object        \n",
      " 12  associated_combined_heat_power  1891 non-null   object        \n",
      " 13  num_esc1                        1891 non-null   int64         \n",
      " 14  num_fuels                       1891 non-null   int64         \n",
      "dtypes: Int64(2), datetime64[ns](1), float64(1), int64(2), object(9)\n",
      "memory usage: 240.1+ KB\n"
     ]
    }
   ],
   "source": [
    "out_df[out_df.fuel_type_code_pudl==\"nuclear\"].info()"
   ]
  },
  {
   "cell_type": "code",
   "execution_count": 120,
   "metadata": {},
   "outputs": [],
   "source": [
    "gf = pudl_out.gf_eia923()"
   ]
  },
  {
   "cell_type": "code",
   "execution_count": 121,
   "metadata": {},
   "outputs": [
    {
     "name": "stdout",
     "output_type": "stream",
     "text": [
      "<class 'pandas.core.frame.DataFrame'>\n",
      "Int64Index: 1551264 entries, 0 to 1551263\n",
      "Data columns (total 18 columns):\n",
      " #   Column                               Non-Null Count    Dtype         \n",
      "---  ------                               --------------    -----         \n",
      " 0   report_date                          1551264 non-null  datetime64[ns]\n",
      " 1   plant_id_eia                         1551264 non-null  Int64         \n",
      " 2   plant_id_pudl                        1551264 non-null  Int64         \n",
      " 3   plant_name_eia                       1551264 non-null  object        \n",
      " 4   utility_id_eia                       1551264 non-null  Int64         \n",
      " 5   utility_id_pudl                      1551264 non-null  Int64         \n",
      " 6   utility_name_eia                     1551264 non-null  object        \n",
      " 7   fuel_consumed_for_electricity_mmbtu  1502724 non-null  float64       \n",
      " 8   fuel_consumed_for_electricity_units  1502724 non-null  float64       \n",
      " 9   fuel_consumed_mmbtu                  1502724 non-null  float64       \n",
      " 10  fuel_consumed_units                  1502724 non-null  float64       \n",
      " 11  fuel_mmbtu_per_unit                  1502724 non-null  float64       \n",
      " 12  fuel_type                            1551264 non-null  object        \n",
      " 13  fuel_type_code_aer                   1551252 non-null  object        \n",
      " 14  fuel_type_code_pudl                  1551264 non-null  object        \n",
      " 15  net_generation_mwh                   1502724 non-null  float64       \n",
      " 16  nuclear_unit_id                      13140 non-null    float64       \n",
      " 17  prime_mover_code                     1551264 non-null  object        \n",
      "dtypes: Int64(4), datetime64[ns](1), float64(7), object(6)\n",
      "memory usage: 230.8+ MB\n"
     ]
    }
   ],
   "source": [
    "gf.info()"
   ]
  },
  {
   "cell_type": "code",
   "execution_count": 22,
   "metadata": {},
   "outputs": [],
   "source": [
    "gens_eia860 = pd.read_sql(\"generators_eia860\", pudl_engine)"
   ]
  },
  {
   "cell_type": "code",
   "execution_count": 68,
   "metadata": {},
   "outputs": [
    {
     "data": {
      "text/plain": [
       "True"
      ]
     },
     "execution_count": 68,
     "metadata": {},
     "output_type": "execute_result"
    }
   ],
   "source": [
    "gens_eia860.drop(\"id\", axis=\"columns\").set_index([\"report_date\", \"plant_id_eia\", \"generator_id\"]).index.is_unique"
   ]
  },
  {
   "cell_type": "code",
   "execution_count": 99,
   "metadata": {},
   "outputs": [
    {
     "data": {
      "text/plain": [
       "1    1418\n",
       "2      82\n",
       "0       1\n",
       "3       1\n",
       "Name: fuel_type_code_pudl, dtype: int64"
      ]
     },
     "execution_count": 99,
     "metadata": {},
     "output_type": "execute_result"
    }
   ],
   "source": [
    "out_df[\n",
    "    (out_df.prime_mover_code==\"ST\")\n",
    "    & (out_df.unit_id_pudl.isna())\n",
    "].groupby([\"plant_id_eia\", \"generator_id\"])[\"fuel_type_code_pudl\"].nunique().value_counts()"
   ]
  },
  {
   "cell_type": "markdown",
   "metadata": {},
   "source": [
    "## Notes from talking to CG\n",
    "* Check on nature of inter-year unit_id_pudl\n",
    "* "
   ]
  },
  {
   "cell_type": "code",
   "execution_count": 28,
   "metadata": {},
   "outputs": [],
   "source": [
    "plants_eia860 = pd.read_sql(\"plants_eia860\", pudl_engine)"
   ]
  },
  {
   "cell_type": "code",
   "execution_count": 32,
   "metadata": {},
   "outputs": [
    {
     "data": {
      "text/plain": [
       "2010-01-01    577\n",
       "2017-01-01     34\n",
       "2018-01-01     34\n",
       "2019-01-01     33\n",
       "2016-01-01     32\n",
       "2015-01-01     31\n",
       "2014-01-01     30\n",
       "2013-01-01     27\n",
       "2011-01-01     25\n",
       "2012-01-01     25\n",
       "2009-01-01     20\n",
       "Name: report_date, dtype: int64"
      ]
     },
     "execution_count": 32,
     "metadata": {},
     "output_type": "execute_result"
    }
   ],
   "source": [
    "plants_eia860[plants_eia860.utility_id_eia.isna()].report_date.value_counts()"
   ]
  },
  {
   "cell_type": "code",
   "execution_count": 25,
   "metadata": {},
   "outputs": [
    {
     "ename": "AssertionError",
     "evalue": "",
     "output_type": "error",
     "traceback": [
      "\u001b[0;31m---------------------------------------------------------------------------\u001b[0m",
      "\u001b[0;31mAssertionError\u001b[0m                            Traceback (most recent call last)",
      "\u001b[0;32m<ipython-input-25-a871fdc9ebee>\u001b[0m in \u001b[0;36m<module>\u001b[0;34m\u001b[0m\n\u001b[0;32m----> 1\u001b[0;31m \u001b[0;32massert\u001b[0m \u001b[0;32mFalse\u001b[0m\u001b[0;34m\u001b[0m\u001b[0;34m\u001b[0m\u001b[0m\n\u001b[0m",
      "\u001b[0;31mAssertionError\u001b[0m: "
     ]
    }
   ],
   "source": [
    "assert False"
   ]
  },
  {
   "cell_type": "markdown",
   "metadata": {},
   "source": [
    "## Pull the original generator data and simplify\n",
    "* For the moment we are starting with the full catalog of generator attributes.\n",
    "* We need access to some of the data fields (prime mover, fuel type, technology type...)\n",
    "* However, the Unit ID assignment process is really producing entity-level connections.\n",
    "* So far as I can tell, the Unit ID values should be constant across all years."
   ]
  },
  {
   "cell_type": "code",
   "execution_count": null,
   "metadata": {},
   "outputs": [],
   "source": [
    "%%time\n",
    "gens1 = pudl_out.gens_eia860()[GENS_COLS]\n",
    "test_generator_consistency(gens1, \"unit_id_pudl\")\n",
    "test_generator_consistency(gens1, \"prime_mover_code\")"
   ]
  },
  {
   "cell_type": "markdown",
   "metadata": {},
   "source": [
    "## Fill in missing BGA units\n",
    "* Many cases in which generation units didn't report completely (esp. before 2014)\n",
    "* However, often the boiler & generator IDs and associations appear to be the same.\n",
    "* We can back/forward fill the boiler IDs prior to the BGA process, and get consistent units across all years.\n",
    "* Can also back/forward fill boiler IDs and unit IDs after the fact and *should* get the same result.\n",
    "* This will address many currently \"boilerless\" CCNG units which have use generator ID as boiler ID in latter years.\n",
    "* We could try and apply this more generally, but in the cases of generator IDs that haven't been used as boiler IDs, it would break the FK relationship with the boiler table, unless we added them there too, which seems like a lot of muddling"
   ]
  },
  {
   "cell_type": "code",
   "execution_count": null,
   "metadata": {},
   "outputs": [],
   "source": [
    "%%time\n",
    "gens2 = fill_unit_ids(gens1)\n",
    "assert gens1.shape == gens2.shape\n",
    "test_generator_consistency(gens2, \"unit_id_pudl\")\n",
    "test_generator_consistency(gens2, \"prime_mover_code\")"
   ]
  },
  {
   "cell_type": "markdown",
   "metadata": {},
   "source": [
    "## Simple Units\n",
    "* Any single-shaft Combined Cycle generator (CS -- always single-gen)\n",
    "  * There are a few hundred of these w/o unit_id_pudl values.\n",
    "  * Each one corresponds to a single unique (plant_id_eia, generator_id).\n",
    "* Any whole Combined Cycle generator (CC -- always single-gen)\n",
    "  * These are \"generators\" for which the combustion & steam turbines co-report.\n",
    "* Gas Turbines (GT)\n",
    "* Internal Combustion Engines (IC)"
   ]
  },
  {
   "cell_type": "code",
   "execution_count": null,
   "metadata": {},
   "outputs": [],
   "source": [
    "%%time\n",
    "simple_pm_codes = [\"CC\", \"CS\", \"GT\", \"IC\"]\n",
    "gens3 = assign_simple_unit_ids(gens2, prime_mover_codes=simple_pm_codes)\n",
    "assert gens2.shape == gens3.shape\n",
    "test_generator_consistency(gens3, \"unit_id_pudl\")\n",
    "test_generator_consistency(gens3, \"prime_mover_code\")"
   ]
  },
  {
   "cell_type": "markdown",
   "metadata": {},
   "source": [
    "## Aggregated Unique Combined Cycle Units\n",
    "* For any plant that contains both CA and CT generators,\n",
    "* and **only** has a signle CA **or** a single CT,\n",
    "* all the CA and CT generators must be part of the same unit."
   ]
  },
  {
   "cell_type": "code",
   "execution_count": null,
   "metadata": {},
   "outputs": [],
   "source": [
    "%%time\n",
    "gens4 = assign_unique_combined_cycle_unit_ids(gens3)\n",
    "assert gens3.shape == gens4.shape\n",
    "test_generator_consistency(gens4, \"unit_id_pudl\")\n",
    "test_generator_consistency(gens4, \"prime_mover_code\")"
   ]
  },
  {
   "cell_type": "markdown",
   "metadata": {},
   "source": [
    "## Aggregated Complex Combined Cycle Units\n",
    "* For any plant that contains more than one CA and more than one CT,\n",
    "* we cannot distinguish which ones are connected to each other,\n",
    "* thus they must all be aggregated into a single unit."
   ]
  },
  {
   "cell_type": "code",
   "execution_count": null,
   "metadata": {},
   "outputs": [],
   "source": [
    "%time\n",
    "gens5 = assign_complex_combined_cycle_unit_ids(gens4)\n",
    "assert gens4.shape == gens5.shape\n",
    "test_generator_consistency(gens5, \"unit_id_pudl\")\n",
    "test_generator_consistency(gens5, \"prime_mover_code\")"
   ]
  },
  {
   "cell_type": "markdown",
   "metadata": {},
   "source": [
    "## Orphaned Combined Cycle Generators\n",
    "* In some plants there are **only** CA or CT generators, but not both.\n",
    "* Can this arrangement actually be valid? Or does it mean that some generators are mislabeled ST and GT?\n",
    "* How can we identify ST and GT generators that are actually part of combined cycle units?"
   ]
  },
  {
   "cell_type": "code",
   "execution_count": null,
   "metadata": {},
   "outputs": [],
   "source": [
    "%%time\n",
    "gens6 = (\n",
    "    gens5.pipe(flag_orphan_combined_cycle_gens, orphan_code=\"CA\")\n",
    "    .pipe(flag_orphan_combined_cycle_gens, orphan_code=\"CT\")\n",
    ")\n",
    "assert gens5.shape == gens6.shape\n",
    "test_generator_consistency(gens6, \"unit_id_pudl\")\n",
    "test_generator_consistency(gens6, \"prime_mover_code\")"
   ]
  },
  {
   "cell_type": "markdown",
   "metadata": {},
   "source": [
    "## Explore pre-existing unit structure\n",
    "* How are steam turbines of a given fuel type typically arranged in generation units?\n",
    "* How many generators share a unit ID with each ST generator?\n",
    "* How does this vary depending on primary fuel type (gas vs. coal vs. nuclear, etc.)?\n",
    "* Count the number of generators in each unit, and merge that back onto the dataframe.\n",
    "* Select records from the result based on fuel_type_code_pudl and prime_mover_code and make histograms."
   ]
  },
  {
   "cell_type": "code",
   "execution_count": null,
   "metadata": {},
   "outputs": [],
   "source": [
    "gens_with_units = (\n",
    "    gens1.dropna(subset=[\"unit_id_pudl\"])\n",
    "    .drop_duplicates(subset=[\"plant_id_eia\", \"generator_id\"])\n",
    "    .loc[:, [\"plant_id_eia\", \"unit_id_pudl\", \"generator_id\", \"prime_mover_code\", \"fuel_type_code_pudl\"]]\n",
    ")\n",
    "\n",
    "unit_gen_count = gens_with_units.merge(\n",
    "    gens_with_units\n",
    "    .groupby([\"plant_id_eia\", \"unit_id_pudl\"])[\"generator_id\"].count()\n",
    "    .rename(\"unit_gen_count\")\n",
    "    .reset_index(),\n",
    "    on=[\"plant_id_eia\", \"unit_id_pudl\"],\n",
    "    how=\"left\",\n",
    "    validate=\"many_to_one\"\n",
    ")"
   ]
  },
  {
   "cell_type": "code",
   "execution_count": null,
   "metadata": {},
   "outputs": [],
   "source": [
    "pmc = 'ST'\n",
    "steam_gen_counts =  unit_gen_count.query(\"prime_mover_code==@pmc\")\n",
    "sns.histplot(x=\"unit_gen_count\", hue=\"fuel_type_code_pudl\", data=steam_gen_counts, multiple=\"stack\")\n",
    "plt.title(f\"Total generators per unit for {pmc} prime movers\");"
   ]
  },
  {
   "cell_type": "markdown",
   "metadata": {},
   "source": [
    "## Assign Steam Turbine Unit IDs\n",
    "* The above suggests that steam turbine (ST) generators are not typically connected to other generators in a more complex generation unit, at least in the case of coal and gas fired turbines, which make up a large majority of the generators.\n",
    "* For the time being, assign them unique per-generator Unit IDs. We'll see whether this results in ridiculous heat rates later on, and potentially re-organize."
   ]
  },
  {
   "cell_type": "code",
   "execution_count": null,
   "metadata": {},
   "outputs": [],
   "source": [
    "%%time\n",
    "gens7 = assign_simple_unit_ids(gens6, prime_mover_codes=[\"ST\"])\n",
    "assert gens7.shape == gens6.shape\n",
    "test_generator_consistency(gens7, \"unit_id_pudl\")\n",
    "test_generator_consistency(gens7, \"prime_mover_code\")"
   ]
  },
  {
   "cell_type": "markdown",
   "metadata": {},
   "source": [
    "## Assign Unit IDs to orphan CA / CT generators\n",
    "* We can do this safely now only because we know all non-orphan CA/CT generators have already been assigned unit IDs above."
   ]
  },
  {
   "cell_type": "code",
   "execution_count": null,
   "metadata": {},
   "outputs": [],
   "source": [
    "%%time\n",
    "gens8 = assign_simple_unit_ids(gens7, prime_mover_codes=[\"CT\", \"CA\"], label_prefix=\"orphan\")\n",
    "assert gens8.shape == gens7.shape\n",
    "test_generator_consistency(gens8, \"unit_id_pudl\")\n",
    "test_generator_consistency(gens8, \"prime_mover_code\")"
   ]
  },
  {
   "cell_type": "markdown",
   "metadata": {},
   "source": [
    "## Notes on Unit ID Assignment\n",
    "* What is the output table describing these units going to look like?\n",
    "* Should it be several different well normalized tables defining different kinds of Unit IDs?\n",
    "* Should it be a single un-normalized table?\n",
    "* Should we backfill the technology description to older years?\n",
    "* Should we fill in pseudo-boiler IDs for the units that we've created, like the latter years of CCNG plants do?"
   ]
  },
  {
   "cell_type": "markdown",
   "metadata": {},
   "source": [
    "# Assess Unit ID Coverage"
   ]
  },
  {
   "cell_type": "code",
   "execution_count": null,
   "metadata": {
    "tags": []
   },
   "outputs": [],
   "source": [
    "for df in [gens1, gens2, gens3, gens4, gens5, gens6, gens7, gens8]:\n",
    "    plot_unit_ids(df, THERMAL_PRIME_MOVERS)"
   ]
  },
  {
   "cell_type": "markdown",
   "metadata": {
    "tags": []
   },
   "source": [
    "## Examine Existing Unit ID Coverage\n",
    "Only a fraction of all fossil generation is associated with PUDL Unit IDs, which are integral to our most granular heat rate determination. We need to understand how good the coverage is, and why the generators / generation we're missing isn't covered. THere's at least 3 ways we can evaluate this coverage, at the generator level, based on information in the `generators_eia860` table:\n",
    "* by generator ID\n",
    "* by capacity (MW)\n",
    "* by generation (MWh)\n",
    "\n",
    "These can be broken down by:\n",
    "* Time (look at annual quantities and how they've changed)\n",
    "* Prime mover code (useful since it's in both generation and generation_fuel tables)\n",
    "* Whether the generators appear in the `generation_eia923` table\n",
    "* Whether the generators are associated with CHP\n",
    "  * Are there plants where all generators do CHP? Would be useful for benchmarking heat rate impacts.\n",
    "* Primary fuel (not totally well defined, since there are many mixed-fuel generators)\n",
    "\n",
    "Values to report on those breakdowns:\n",
    "* Absolute totals (# of IDs, MW, or MWh)\n",
    "* Fraction of reported totals\n",
    "\n",
    "Can also look at just the population of generators which report in the `generation_eia923` table each year, since those are the only ones where we will really have generator level electricity output and boiler level fuel inputs that can be directly linked with the `unit_id_pudl` if it exists. Many of the generators without IDs will likely be generators without boilers. Assigning them Unit IDs will be useful insofar as they still have fuel inputs which are reported (probably only in `generation_fuel_eia923`) and so we can assess both their inputs and outputs. Or insofar as we are using the `unit_id_pudl` values to do aggregations on tables of generators, which are sometimes linked to each other even if they don't have boilers involved in that linkage.\n",
    "\n",
    "We want an assessment that gets at the above information, and which can be run on both existing and potential new ID assignments."
   ]
  },
  {
   "cell_type": "markdown",
   "metadata": {},
   "source": [
    "## Summarize Generator Unit Coverage"
   ]
  },
  {
   "cell_type": "code",
   "execution_count": null,
   "metadata": {},
   "outputs": [],
   "source": [
    "prepped_gens = prep_gens(pudl_out, prime_mover_codes=THERMAL_PRIME_MOVERS)\n",
    "unit_summary = unit_gen_coverage(prepped_gens)"
   ]
  },
  {
   "cell_type": "markdown",
   "metadata": {},
   "source": [
    "### Absolute Unit Coverage (N, MW, MWh)"
   ]
  },
  {
   "cell_type": "code",
   "execution_count": null,
   "metadata": {},
   "outputs": [],
   "source": [
    "unit_summary"
   ]
  },
  {
   "cell_type": "code",
   "execution_count": null,
   "metadata": {
    "tags": []
   },
   "outputs": [],
   "source": [
    "fig, axes = plt.subplots(nrows=3, ncols=1, sharex=True, figsize=(8,8))\n",
    "sns.lineplot(x=\"report_date\", y=(\"num_gens\", True), data=unit_summary, hue=\"prime_mover_code\", ax=axes[0], legend=False)\n",
    "sns.lineplot(x=\"report_date\", y=(\"capacity_mw\", True), data=unit_summary, hue=\"prime_mover_code\", ax=axes[1], legend=False)\n",
    "sns.lineplot(x=\"report_date\", y=(\"net_generation_mwh\", True), data=unit_summary, hue=\"prime_mover_code\", ax=axes[2])\n",
    "plt.legend(loc=\"center left\", bbox_to_anchor=(1.04, 0.5))\n",
    "plt.show();"
   ]
  },
  {
   "cell_type": "markdown",
   "metadata": {},
   "source": [
    "### Proportional Unit Coverage"
   ]
  },
  {
   "cell_type": "code",
   "execution_count": null,
   "metadata": {
    "tags": []
   },
   "outputs": [],
   "source": [
    "fig, axes = plt.subplots(nrows=3, ncols=1, sharex=True, figsize=(8,8))\n",
    "sns.lineplot(x=\"report_date\", y=\"num_gens_fraction\", data=unit_summary, hue=\"prime_mover_code\", ax=axes[0], legend=False)\n",
    "sns.lineplot(x=\"report_date\", y=\"capacity_mw_fraction\", data=unit_summary, hue=\"prime_mover_code\", ax=axes[1], legend=False)\n",
    "sns.lineplot(x=\"report_date\", y=\"net_generation_mwh_fraction\", data=unit_summary, hue=\"prime_mover_code\", ax=axes[2])\n",
    "plt.legend(loc=\"center left\", bbox_to_anchor=(1.04, 0.5))\n",
    "plt.show();"
   ]
  },
  {
   "cell_type": "markdown",
   "metadata": {},
   "source": [
    "# Questions to answer / tasks\n",
    "* Does every boiler that we know of (in the boiler entity table) mapped to generators in the BGA table? Or are there some orphaned, unassociated boilers?\n",
    "* Add new unit_id_pudl and origin flag into into generators_eia860 output table."
   ]
  },
  {
   "cell_type": "markdown",
   "metadata": {},
   "source": [
    "# Net Generation Allocation"
   ]
  },
  {
   "cell_type": "code",
   "execution_count": null,
   "metadata": {},
   "outputs": [],
   "source": [
    "assert False"
   ]
  },
  {
   "cell_type": "code",
   "execution_count": null,
   "metadata": {},
   "outputs": [],
   "source": [
    "gf_cols = [\n",
    "    \"plant_id_eia\",\n",
    "    \"report_date\",\n",
    "    \"energy_source_code\",\n",
    "    \"prime_mover_code\",\n",
    "    \"net_generation_mwh\",\n",
    "    \"fuel_consumed_mmbtu_for_electricity\",\n",
    "]\n",
    "\n",
    "gens_cols = [\n",
    "    \"plant_id_eia\",\n",
    "    \"generator_id\",\n",
    "    \"report_date\",\n",
    "    \"energy_source_code_1\",\n",
    "    \"energy_source_code_2\",\n",
    "    \"energy_source_code_3\",\n",
    "    \"energy_source_code_4\",\n",
    "    \"energy_source_code_5\",\n",
    "    \"energy_source_code_6\",\n",
    "    \"capacity_mw\",\n",
    "    \"prime_mover_code\",\n",
    "]"
   ]
  },
  {
   "cell_type": "markdown",
   "metadata": {},
   "source": [
    "# Cull fully reported units\n",
    "* In some plants, all of the generators report all of their fuel consumption and electricity generation in the `generation_eia923` and `boiler_fuel_eia923` tables. If they also don't have CHP, our current heat rate calculation should fully accommodate these plants already.\n",
    "* In other plants, all of the electricity generation and fuel consumption being reported in association with a particular type of prime mover (but maybe not all prime movers) are fully covered by the more granular boiler / generator reporting, and so those plant-prime combinations can be removed from the heat rate calculations based on the `generation_fuel_eia923` table data. So long as there's no CHP. This is a more general case of the bullet above, so maybe we should just do this as the first cut.\n",
    "* To identify these cases, we need to aggregate net generation and fuel consumption on the basis of `unit_id_pudl` and identify cases in which all generators of any prime mover type that is involved have been included in that aggregation, on an annual basis. In these cases the net generation and fuel consumption associated with those prime mover types can be safely removed from the `generation_fuel_eia923` table, leaving only fuel and electricity that hasn't been accounted for, or is only partially accounted for."
   ]
  },
  {
   "cell_type": "markdown",
   "metadata": {},
   "source": [
    "# Assess New Unit ID coverage\n",
    "* Run the same assessment functions as we did above\n",
    "* Per generator\n",
    "* Per MW installed\n",
    "* Per MWh of net generation"
   ]
  },
  {
   "cell_type": "markdown",
   "metadata": {},
   "source": [
    "# Heat rates by Plant-Prime\n",
    "* The `generation_fuel_eia923` table breaks down net generation & fuel consumption by plant and prime mover.\n",
    "* Can one calculate realistic heat rates on the basis of plant-prime? Or do they always need to have units?\n",
    "* Calculate the distribution of plant-prime heat rates and plot them to see what they look like.\n",
    "* It seems likely that this strategy probably won't work, and we'll need to do some kind of grouping into pseudo-units."
   ]
  },
  {
   "cell_type": "code",
   "execution_count": null,
   "metadata": {},
   "outputs": [],
   "source": [
    "gen_fuel = pudl_out.gf_eia923()"
   ]
  },
  {
   "cell_type": "code",
   "execution_count": null,
   "metadata": {},
   "outputs": [],
   "source": [
    "len(gen_fuel)"
   ]
  },
  {
   "cell_type": "code",
   "execution_count": null,
   "metadata": {},
   "outputs": [],
   "source": [
    "assert False"
   ]
  },
  {
   "cell_type": "markdown",
   "metadata": {
    "tags": []
   },
   "source": [
    "# Combined Heat and Power\n",
    "* What fraction of generators, capacity, and generation are associated with generators that also do CHP?"
   ]
  },
  {
   "cell_type": "code",
   "execution_count": null,
   "metadata": {},
   "outputs": [],
   "source": [
    "gf_eia923 = pudl_out.gf_eia923()\n",
    "gf_eia923[\"fuel_ratio\"] = gf_eia923.fuel_consumed_for_electricity_mmbtu / gf_eia923.fuel_consumed_mmbtu\n",
    "gf_eia923[\"no_chp\"] = pd.Series(np.isclose(gf_eia923.fuel_ratio, 1.0))\n",
    "plt.hist(gf_eia923.fuel_ratio, bins=20)\n",
    "plt.yscale(\"log\")\n",
    "plt.xlabel(\"Fraction of fuel used for electricity\")\n",
    "plt.ylabel(\"Number of Records (log scale)\");"
   ]
  },
  {
   "cell_type": "code",
   "execution_count": null,
   "metadata": {},
   "outputs": [],
   "source": [
    "gf_eia923.groupby(\"report_date\")[[\"fuel_consumed_for_electricity_mmbtu\", \"fuel_consumed_mmbtu\"]].sum().plot()\n",
    "plt.ylim(0,5e9)\n",
    "plt.ylabel(\"Fuel Consumed [MMBTU]\");"
   ]
  },
  {
   "cell_type": "code",
   "execution_count": null,
   "metadata": {},
   "outputs": [],
   "source": [
    "plt.figure(figsize=(10,10))\n",
    "plt.scatter(\n",
    "    gf_eia923.fuel_consumed_mmbtu,\n",
    "    gf_eia923.fuel_consumed_for_electricity_mmbtu,\n",
    "    s=1, alpha=0.01, color=\"black\",\n",
    ")\n",
    "plt.xscale(\"log\")\n",
    "plt.yscale(\"log\")\n",
    "plt.xlim(1e3, 1e8)\n",
    "plt.ylim(1e3, 1e8)\n",
    "plt.xlabel(\"Total Fuel Consumed [MMBTU]\")\n",
    "plt.ylabel(\"Fuel Consumed for Electricity [MMBTU]\");"
   ]
  },
  {
   "cell_type": "code",
   "execution_count": null,
   "metadata": {
    "tags": []
   },
   "outputs": [],
   "source": [
    "chp_summary = chp_prevalence(prepped_gens)\n",
    "chp_summary"
   ]
  },
  {
   "cell_type": "markdown",
   "metadata": {},
   "source": [
    "# Assess Existing Heat Rates\n",
    "* We need some way to compare different ways of calculating heat rates and choose between them.\n",
    "* We want to check both for their correctness, and their completeness.\n",
    "* Apparent correctness will depend on the type of generator / unit type. Need to define different expectations."
   ]
  },
  {
   "cell_type": "code",
   "execution_count": null,
   "metadata": {},
   "outputs": [],
   "source": [
    "%%time\n",
    "hr_by_unit = pudl_out.hr_by_unit()\n",
    "hr_by_unit.info()"
   ]
  },
  {
   "cell_type": "markdown",
   "metadata": {},
   "source": [
    "## Compile Net Generation\n",
    "* **By generator**\n",
    "  * `net_generation_mwh` available from `generation_eia923` table\n",
    "  * Associated with `plant_id_eia` and `generator_id` columns directly.\n",
    "  * Can be associated with `unit_id_pudl` if the generator is part of an identified unit\n",
    "  * Can be associated with a `technology_description` and `prime_mover_code` based on the `generators_eia860` table.\n",
    "  * Can be associated with a list of energy sources based on `energy_source_N` in `generators_eia860` table.\n",
    "* **By plant-prime-fuel**\n",
    "  * `net_generation_mwh` is available from generation_fuel_eia923`"
   ]
  },
  {
   "cell_type": "markdown",
   "metadata": {},
   "source": [
    "## Compile Fuel Consumption\n",
    "* **By boiler**\n",
    "  * `total_heat_content_mmbtu` and `fuel_type_code_pudl` are available by `plant_id_eia` and `boiler_id` in `boiler_fuel_eia923`\n",
    "  * This value can be be associated with a `unit_id_pudl` based on the BGA table.\n",
    "  * The heat consumed in here includes fuels both for electricity and steam (direct heat) outputs.\n",
    "* **By plant-prime-fuel**\n",
    "  * Available in `generation_fuel` and broken down as for CHP vs Electricity separately."
   ]
  },
  {
   "cell_type": "markdown",
   "metadata": {},
   "source": [
    "## Identify Combined Cycle Units\n",
    "* Combined Cycle turbines show up in the generators table, but have no \"boiler\" so they don't end up in the boiler-generator-association\n",
    "* This means they don't get assigned `unit_id_pudl` values and are often lost.\n",
    "* However, they are identifiable based on `technology_description` in the generators table, and so can be associated with a plant.\n",
    "* Within a given plant, it's possible to combine all the natural gas that goes into a "
   ]
  },
  {
   "cell_type": "markdown",
   "metadata": {},
   "source": [
    "## Questions:\n",
    "* Do all of the generators that show up in the generation table end up getting PUDL Unit IDs assigned?\n",
    "* Where are the heat inputs being reported for combined cycle units? Do they really exist after 2015? What is still missing?\n",
    "* Triage units / generators into: Easy, Hard, and Impossible. Work on Hard ones until diminishing returns. Assign impossible and too-hard ones the median values."
   ]
  },
  {
   "cell_type": "markdown",
   "metadata": {},
   "source": [
    "## Tables of Interest:\n",
    "* `generation_eia923`\n",
    "* `generation_fuel_eia923`\n",
    "* `boiler_generator_assn_eia860`\n",
    "* `generators_eia860`\n",
    "* `generators_entity_eia`\n",
    "* `boiler_fuel_eia923`"
   ]
  },
  {
   "cell_type": "code",
   "execution_count": null,
   "metadata": {},
   "outputs": [],
   "source": [
    "gens_eia860_sql = \"\"\"\n",
    "SELECT report_date,\n",
    "       plant_id_eia,\n",
    "       generator_id,\n",
    "       capacity_mw,\n",
    "       energy_source_code_1,\n",
    "       energy_source_code_2,\n",
    "       energy_source_code_3,\n",
    "       energy_source_code_4,\n",
    "       energy_source_code_5,\n",
    "       energy_source_code_6,\n",
    "       fuel_type_code_pudl,\n",
    "       technology_description,\n",
    "FROM generators_eia860\n",
    "\"\"\"\n",
    "\n",
    "gens_entity_sql = \"\"\"\n",
    "SELECT report_date,\n",
    "       plant_id_eia,\n",
    "       generator_id,\n",
    "       prime_mover_code,\n",
    "       bypass_heat_recovery,\n",
    "       associated_combined_heat_and_power,\n",
    "FROM generators_entity_eia\n",
    "\"\"\"\n",
    "\n",
    "gen_eia923_sql = \"\"\"\n",
    "SELECT report_date,\n",
    "       plant_id_eia,\n",
    "       generator_id,\n",
    "       net_generation_mwh\n",
    "FROM generation_eia923\n",
    "\"\"\"\n",
    "\n",
    "gf_eia923_sql = \"\"\"\n",
    "SELECT report_date,\n",
    "       plant_id_eia,\n",
    "       nuclear_unit_id,\n",
    "       fuel_type,\n",
    "       fuel_type_code_pudl,\n",
    "       prime_mover_code,\n",
    "       fuel_consumed_mmbtu,\n",
    "       fuel_consumed_for_electricity_mmbtu,\n",
    "       net_generation_mwh\n",
    "FROM generation_fuel_eia923\n",
    "\"\"\"\n",
    "\n",
    "bga_sql = \"\"\"\n",
    "SELECT report_date,\n",
    "       plant_id_eia,\n",
    "       unit_id_pudl,\n",
    "       generator_id,\n",
    "       boiler_id\n",
    "FROM boiler_generator_assn_eia860\n",
    "\"\"\"\n",
    "\n",
    "bf_eia923_sql = \"\"\"\n",
    "SELECT report_date,\n",
    "       plant_id_eia,\n",
    "       boiler_id,\n",
    "       fuel_type_code,\n",
    "       fuel_type_code_pudl,\n",
    "       fuel_consumed_units,\n",
    "       fuel_mmbtu_per_unit\n",
    "FROM boiler_fuel_eia923\n",
    "\"\"\"\n"
   ]
  },
  {
   "cell_type": "markdown",
   "metadata": {},
   "source": [
    "## Compile Fuel Consumption\n",
    "  * Reported by boiler in `boiler_fuel_eia923` and so can be associated "
   ]
  },
  {
   "cell_type": "markdown",
   "metadata": {},
   "source": [
    "# Preliminary Data Wrangling\n",
    "Once all of the data is loaded and looks like it's in good shape, do any initial wrangling that's specific to this particular analysis. This should mostly make use of the higher level functions which were defined above. If this step takes a while, don't be shy about producing `logging` outputs."
   ]
  },
  {
   "cell_type": "code",
   "execution_count": null,
   "metadata": {},
   "outputs": [],
   "source": []
  },
  {
   "cell_type": "markdown",
   "metadata": {},
   "source": [
    "# Data Analysis and Visualization\n",
    "* Now that you've got the required data in a usable form, you can tell the story of your analysis through a mix of visualizations, and further data wrangling steps.\n",
    "* This narrative should be readable, with figures that have titles, legends, and labeled axes as appropriate so others can understand what you're showing them.\n",
    "* The code should be concise and make use of the parameters and functions which you've defined above when possible. Functions should contain comprehensible chunks of work that make sense as one step in the story of the analysis."
   ]
  },
  {
   "cell_type": "code",
   "execution_count": null,
   "metadata": {},
   "outputs": [],
   "source": [
    "coal_ax = finite_distplot(mcoe_coal, \"heat_rate_mmbtu_mwh\", max_val=20)\n",
    "plt.title(\"Coal heat rate distribution\");"
   ]
  },
  {
   "cell_type": "code",
   "execution_count": null,
   "metadata": {},
   "outputs": [],
   "source": [
    "gas_ax = finite_distplot(mcoe_gas, \"heat_rate_mmbtu_mwh\", max_val=20)\n",
    "plt.title(\"Gas heat rate distribution\");"
   ]
  }
 ],
 "metadata": {
  "kernelspec": {
   "display_name": "Python 3",
   "language": "python",
   "name": "python3"
  },
  "language_info": {
   "codemirror_mode": {
    "name": "ipython",
    "version": 3
   },
   "file_extension": ".py",
   "mimetype": "text/x-python",
   "name": "python",
   "nbconvert_exporter": "python",
   "pygments_lexer": "ipython3",
   "version": "3.9.4"
  },
  "toc-autonumbering": true,
  "toc-showmarkdowntxt": false,
  "toc-showtags": false
 },
 "nbformat": 4,
 "nbformat_minor": 4
}
