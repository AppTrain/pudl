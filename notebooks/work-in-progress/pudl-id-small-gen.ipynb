{
 "cells": [
  {
   "cell_type": "markdown",
   "id": "337c4b2e-5f16-417f-bd77-31498cb573b7",
   "metadata": {},
   "source": [
    "# Add PUDL IDs to small gens"
   ]
  },
  {
   "cell_type": "code",
   "execution_count": 1,
   "id": "89707f96-3066-474e-8fd1-29bf721b3db8",
   "metadata": {
    "tags": []
   },
   "outputs": [],
   "source": [
    "%load_ext autoreload\n",
    "%autoreload 2"
   ]
  },
  {
   "cell_type": "code",
   "execution_count": 2,
   "id": "ea3805f1-7998-4a8a-a2c3-fa44627a1531",
   "metadata": {
    "tags": []
   },
   "outputs": [],
   "source": [
    "# Standard libraries\n",
    "import logging\n",
    "import sys\n",
    "import os\n",
    "import pathlib\n",
    "\n",
    "# 3rd party libraries\n",
    "import geopandas as gpd\n",
    "import dask.dataframe as dd\n",
    "from dask.distributed import Client\n",
    "import matplotlib.pyplot as plt\n",
    "import matplotlib as mpl\n",
    "import numpy as np\n",
    "import pandas as pd\n",
    "import seaborn as sns\n",
    "import sqlalchemy as sa\n",
    "\n",
    "# Local libraries\n",
    "import pudl"
   ]
  },
  {
   "cell_type": "code",
   "execution_count": 3,
   "id": "c9e9b765-2224-4364-8049-030d36ece8af",
   "metadata": {
    "tags": []
   },
   "outputs": [],
   "source": [
    "# Enable viewing of logging outputs\n",
    "logger=logging.getLogger()\n",
    "logger.setLevel(logging.INFO)\n",
    "handler = logging.StreamHandler(stream=sys.stdout)\n",
    "formatter = logging.Formatter('%(message)s')\n",
    "handler.setFormatter(formatter)\n",
    "logger.handlers = [handler]"
   ]
  },
  {
   "cell_type": "code",
   "execution_count": 4,
   "id": "041610aa-0810-4ae8-b9a6-68e3f56056e9",
   "metadata": {
    "tags": []
   },
   "outputs": [],
   "source": [
    "# Display settings\n",
    "sns.set()\n",
    "%matplotlib inline\n",
    "mpl.rcParams['figure.dpi'] = 150\n",
    "pd.options.display.max_columns = 100\n",
    "pd.options.display.max_rows = 100"
   ]
  },
  {
   "cell_type": "code",
   "execution_count": 5,
   "id": "64bf4c3e-617b-447c-bcb5-f3ea3475ea93",
   "metadata": {
    "tags": []
   },
   "outputs": [],
   "source": [
    "frequency = 'AS' # annual\n",
    "\n",
    "# Establish connection to pudl database\n",
    "pudl_settings = pudl.workspace.setup.get_defaults()\n",
    "pudl_engine = sa.create_engine(pudl_settings['pudl_db'])\n",
    "pudl_out = pudl.output.pudltabl.PudlTabl(pudl_engine, freq=frequency) #annual frequency"
   ]
  },
  {
   "cell_type": "code",
   "execution_count": 6,
   "id": "a771922c-3ede-49a2-8b1d-bd0d574988de",
   "metadata": {},
   "outputs": [],
   "source": [
    "# Access a table by name as an object\n",
    "ferc_small = pudl_out.plants_small_ferc1()\n",
    "ferc_big = pudl_out.plants_steam_ferc1()\n",
    "eia = pudl_out.gens_eia860()"
   ]
  },
  {
   "cell_type": "code",
   "execution_count": 7,
   "id": "b7de1417-dafc-49ce-88a4-22ba84dc3dfc",
   "metadata": {},
   "outputs": [],
   "source": [
    "aa = pudl.glue.ferc1_eia.glue(ferc1=True, eia=True)\n",
    "glue_tab = aa['plants_pudl']\n",
    "glue_tab['plant_name_lower'] = glue_tab.plant_name_pudl.str.lower()"
   ]
  },
  {
   "cell_type": "code",
   "execution_count": 8,
   "id": "ad62105e-f738-4c00-bcc7-c31fc65e8f3e",
   "metadata": {},
   "outputs": [
    {
     "data": {
      "text/html": [
       "<div>\n",
       "<style scoped>\n",
       "    .dataframe tbody tr th:only-of-type {\n",
       "        vertical-align: middle;\n",
       "    }\n",
       "\n",
       "    .dataframe tbody tr th {\n",
       "        vertical-align: top;\n",
       "    }\n",
       "\n",
       "    .dataframe thead th {\n",
       "        text-align: right;\n",
       "    }\n",
       "</style>\n",
       "<table border=\"1\" class=\"dataframe\">\n",
       "  <thead>\n",
       "    <tr style=\"text-align: right;\">\n",
       "      <th></th>\n",
       "      <th>plant_id_pudl</th>\n",
       "      <th>plant_name_pudl</th>\n",
       "      <th>plant_name_lower</th>\n",
       "    </tr>\n",
       "  </thead>\n",
       "  <tbody>\n",
       "    <tr>\n",
       "      <th>2989</th>\n",
       "      <td>2093</td>\n",
       "      <td>Harris Lake</td>\n",
       "      <td>harris lake</td>\n",
       "    </tr>\n",
       "    <tr>\n",
       "      <th>9874</th>\n",
       "      <td>8833</td>\n",
       "      <td>Harris Lake</td>\n",
       "      <td>harris lake</td>\n",
       "    </tr>\n",
       "  </tbody>\n",
       "</table>\n",
       "</div>"
      ],
      "text/plain": [
       "      plant_id_pudl plant_name_pudl plant_name_lower\n",
       "2989           2093     Harris Lake      harris lake\n",
       "9874           8833     Harris Lake      harris lake"
      ]
     },
     "execution_count": 8,
     "metadata": {},
     "output_type": "execute_result"
    }
   ],
   "source": [
    "glue_tab.query(\"plant_name_pudl == 'Harris Lake'\")"
   ]
  },
  {
   "cell_type": "code",
   "execution_count": 9,
   "id": "34bdab02-ee6a-4b00-bf5b-892a12ab0494",
   "metadata": {},
   "outputs": [],
   "source": [
    "ferc_glue_mer = pd.merge(ferc_small, glue_tab, left_on='plant_name_original', right_on='plant_name_lower', how='left')\n",
    "ferc_glue_mer['dup'] = ferc_glue_mer.duplicated(subset=['plant_name_original'], keep=False)"
   ]
  },
  {
   "cell_type": "code",
   "execution_count": 10,
   "id": "e01e7697-bc18-43fb-942d-4ae48571f136",
   "metadata": {
    "tags": []
   },
   "outputs": [
    {
     "name": "stdout",
     "output_type": "stream",
     "text": [
      "19563\n",
      "19943\n",
      "14878\n"
     ]
    }
   ],
   "source": [
    "print(len(ferc_glue_mer[ferc_glue_mer['dup']]))\n",
    "print(len(ferc_glue_mer))\n",
    "print(len(ferc_small))"
   ]
  },
  {
   "cell_type": "code",
   "execution_count": 23,
   "id": "80ca26de-49c7-459c-96c2-89232c83117d",
   "metadata": {},
   "outputs": [
    {
     "name": "stdout",
     "output_type": "stream",
     "text": [
      "1077\n",
      "228\n"
     ]
    }
   ],
   "source": [
    "# preliminary look at how many of the plants that have been mapped also have eia technology descriptions\n",
    "\n",
    "has_tech = eia[eia['technology_description'].notna()].copy()\n",
    "print(len(ferc_glue_mer.plant_name_pudl.unique()))\n",
    "print(len([x for x in ferc_glue_mer.plant_id_pudl.unique() if x in has_tech.plant_id_pudl.unique()]))\n",
    "#print(len([x for x in matching_utility.plant_id_pudl_ferc if x in has_tech.plant_id_pudl]))\n",
    "\n",
    "# Remember to only use plant id pudls that have one tech per plant id pudl :) "
   ]
  },
  {
   "cell_type": "code",
   "execution_count": 12,
   "id": "1523bdf3-b0ab-49fc-acb6-a004a8914d80",
   "metadata": {},
   "outputs": [],
   "source": [
    "mapping = pd.read_excel('/Users/aesharpe/Desktop/mapping_eia923_ferc1_copy().xlsx', sheet_name='plants_combined')"
   ]
  },
  {
   "cell_type": "code",
   "execution_count": 13,
   "id": "f699b308-f1a9-424b-849e-9abb674449f4",
   "metadata": {},
   "outputs": [],
   "source": [
    "eia_map = (\n",
    "    mapping[mapping['plant_name_eia'].notna()]\n",
    "    [['plant_name_pudl', 'plant_id_pudl', 'utility_name_eia', 'plant_name_eia']].copy())"
   ]
  },
  {
   "cell_type": "code",
   "execution_count": 14,
   "id": "6611b1fc-5883-4d61-a817-a63c8fe9a425",
   "metadata": {},
   "outputs": [],
   "source": [
    "unmapped_eia = (\n",
    "    mapping[(mapping['plant_name_eia'].notna()) & (mapping['plant_name_ferc1'].isna())]\n",
    "    [['plant_name_pudl', 'plant_id_pudl', 'utility_name_eia', 'plant_name_eia']].copy()\n",
    "    .rename(columns={'plant_id_pudl': 'plant_id_pudl_eia'}))\n",
    "unmapped_ferc = (\n",
    "    mapping[(mapping['plant_name_ferc1'].notna()) & (mapping['plant_name_eia'].isna())]\n",
    "    [['plant_name_pudl', 'plant_id_pudl', 'utility_name_ferc1', 'plant_name_ferc1']].copy()\n",
    "    .rename(columns={'plant_id_pudl': 'plant_id_pudl_ferc'}))"
   ]
  },
  {
   "cell_type": "code",
   "execution_count": 15,
   "id": "676979db-1ebe-452c-b1ab-6b062ea43ccf",
   "metadata": {},
   "outputs": [],
   "source": [
    "mer2 = pd.merge(unmapped_eia, unmapped_ferc, on='plant_name_pudl', how='inner')"
   ]
  },
  {
   "cell_type": "code",
   "execution_count": 16,
   "id": "efe5ff6d-3a7f-4d2e-97b4-5fe3c3231678",
   "metadata": {},
   "outputs": [
    {
     "name": "stdout",
     "output_type": "stream",
     "text": [
      "12377\n",
      "2669\n",
      "880\n"
     ]
    }
   ],
   "source": [
    "print(len(unmapped_eia))\n",
    "print(len(unmapped_ferc))\n",
    "print(len(mer2))"
   ]
  },
  {
   "cell_type": "code",
   "execution_count": 17,
   "id": "50bc95bd-ea14-47e3-8566-a8cfb5f2c7d1",
   "metadata": {},
   "outputs": [],
   "source": [
    "mer2 = mer2.sort_values(['plant_name_pudl'])"
   ]
  },
  {
   "cell_type": "code",
   "execution_count": 18,
   "id": "9b10c2d0-09a5-4029-a775-2becfcb30b0e",
   "metadata": {},
   "outputs": [
    {
     "name": "stderr",
     "output_type": "stream",
     "text": [
      "/Users/aesharpe/miniconda3/envs/pudl-dev/lib/python3.9/site-packages/fuzzywuzzy/fuzz.py:11: UserWarning: Using slow pure-python SequenceMatcher. Install python-Levenshtein to remove this warning\n",
      "  warnings.warn('Using slow pure-python SequenceMatcher. Install python-Levenshtein to remove this warning')\n"
     ]
    }
   ],
   "source": [
    "from fuzzywuzzy import fuzz\n",
    "from fuzzywuzzy import process"
   ]
  },
  {
   "cell_type": "code",
   "execution_count": 19,
   "id": "09e50721-dcce-480b-9943-e0511d604663",
   "metadata": {},
   "outputs": [],
   "source": [
    "mer3 = mer2.dropna(subset=['utility_name_eia', 'utility_name_ferc1']).copy()\n",
    "mer3['ratio']= mer3.apply(lambda x: fuzz.partial_ratio(x['utility_name_ferc1'],x['utility_name_eia']),axis=1)\n",
    "#matching_utility = mer3[(mer3['ratio'] > 70) & (mer3['plant_id_pudl_eia'] != mer3['plant_id_pudl_ferc'])].copy()"
   ]
  },
  {
   "cell_type": "code",
   "execution_count": 20,
   "id": "b1ec2227-9593-4704-8bcf-8b63be668792",
   "metadata": {},
   "outputs": [],
   "source": [
    "#matching_utility.to_pickle('/Users/aesharpe/Desktop/matching_utility.pkl')"
   ]
  },
  {
   "cell_type": "code",
   "execution_count": 21,
   "id": "ce9a4d7f-c3a2-4a81-850f-2eb53fff689f",
   "metadata": {
    "collapsed": true,
    "jupyter": {
     "outputs_hidden": true
    },
    "tags": []
   },
   "outputs": [
    {
     "ename": "NameError",
     "evalue": "name 'matching_utility' is not defined",
     "output_type": "error",
     "traceback": [
      "\u001b[0;31m---------------------------------------------------------------------------\u001b[0m",
      "\u001b[0;31mNameError\u001b[0m                                 Traceback (most recent call last)",
      "\u001b[0;32m<ipython-input-21-8efb65114240>\u001b[0m in \u001b[0;36m<module>\u001b[0;34m\u001b[0m\n\u001b[1;32m      1\u001b[0m \u001b[0;31m# Used these as the first pudl ids to fix\u001b[0m\u001b[0;34m\u001b[0m\u001b[0;34m\u001b[0m\u001b[0;34m\u001b[0m\u001b[0m\n\u001b[0;32m----> 2\u001b[0;31m \u001b[0mlen\u001b[0m\u001b[0;34m(\u001b[0m\u001b[0mmatching_utility\u001b[0m\u001b[0;34m)\u001b[0m\u001b[0;34m\u001b[0m\u001b[0;34m\u001b[0m\u001b[0m\n\u001b[0m",
      "\u001b[0;31mNameError\u001b[0m: name 'matching_utility' is not defined"
     ]
    }
   ],
   "source": [
    "# Used these as the first pudl ids to fix\n",
    "len(matching_utility)"
   ]
  },
  {
   "cell_type": "code",
   "execution_count": 24,
   "id": "7e7074f4-ad90-4cc6-825d-cd541cae11ef",
   "metadata": {},
   "outputs": [],
   "source": [
    "mer4 = mer3[mer3['plant_id_pudl_eia'] != mer3['plant_id_pudl_ferc']]"
   ]
  },
  {
   "cell_type": "code",
   "execution_count": 25,
   "id": "f7b0c07c-8321-4d84-b6af-2b97a6ce734f",
   "metadata": {},
   "outputs": [],
   "source": [
    "dd = ferc_small.drop_duplicates('plant_name_original')"
   ]
  },
  {
   "cell_type": "code",
   "execution_count": 27,
   "id": "33d57b36-8a88-4b1c-a30b-adca6d41e8ae",
   "metadata": {},
   "outputs": [
    {
     "data": {
      "text/plain": [
       "1930"
      ]
     },
     "execution_count": 27,
     "metadata": {},
     "output_type": "execute_result"
    }
   ],
   "source": [
    "len(dd.sort_values('plant_name_original'))#[0:10]"
   ]
  },
  {
   "cell_type": "code",
   "execution_count": null,
   "id": "50bf0651-9170-45fd-872b-f08fe6e11151",
   "metadata": {},
   "outputs": [],
   "source": []
  }
 ],
 "metadata": {
  "kernelspec": {
   "display_name": "Python 3",
   "language": "python",
   "name": "python3"
  },
  "language_info": {
   "codemirror_mode": {
    "name": "ipython",
    "version": 3
   },
   "file_extension": ".py",
   "mimetype": "text/x-python",
   "name": "python",
   "nbconvert_exporter": "python",
   "pygments_lexer": "ipython3",
   "version": "3.9.4"
  }
 },
 "nbformat": 4,
 "nbformat_minor": 5
}
