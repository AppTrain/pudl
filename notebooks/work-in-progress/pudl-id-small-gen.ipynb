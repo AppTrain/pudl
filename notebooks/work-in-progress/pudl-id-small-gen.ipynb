{
 "cells": [
  {
   "cell_type": "markdown",
   "id": "337c4b2e-5f16-417f-bd77-31498cb573b7",
   "metadata": {},
   "source": [
    "# Add PUDL IDs to small gens"
   ]
  },
  {
   "cell_type": "code",
   "execution_count": 1,
   "id": "89707f96-3066-474e-8fd1-29bf721b3db8",
   "metadata": {
    "jupyter": {
     "source_hidden": true
    },
    "tags": []
   },
   "outputs": [],
   "source": [
    "%load_ext autoreload\n",
    "%autoreload 2"
   ]
  },
  {
   "cell_type": "code",
   "execution_count": 2,
   "id": "ea3805f1-7998-4a8a-a2c3-fa44627a1531",
   "metadata": {
    "jupyter": {
     "source_hidden": true
    },
    "tags": []
   },
   "outputs": [],
   "source": [
    "# Standard libraries\n",
    "import logging\n",
    "import sys\n",
    "import os\n",
    "import pathlib\n",
    "\n",
    "# 3rd party libraries\n",
    "import geopandas as gpd\n",
    "import dask.dataframe as dd\n",
    "from dask.distributed import Client\n",
    "import matplotlib.pyplot as plt\n",
    "import matplotlib as mpl\n",
    "import numpy as np\n",
    "import pandas as pd\n",
    "import seaborn as sns\n",
    "import sqlalchemy as sa\n",
    "\n",
    "# Local libraries\n",
    "import pudl"
   ]
  },
  {
   "cell_type": "code",
   "execution_count": 3,
   "id": "c9e9b765-2224-4364-8049-030d36ece8af",
   "metadata": {
    "jupyter": {
     "source_hidden": true
    },
    "tags": []
   },
   "outputs": [],
   "source": [
    "# Enable viewing of logging outputs\n",
    "logger=logging.getLogger()\n",
    "logger.setLevel(logging.INFO)\n",
    "handler = logging.StreamHandler(stream=sys.stdout)\n",
    "formatter = logging.Formatter('%(message)s')\n",
    "handler.setFormatter(formatter)\n",
    "logger.handlers = [handler]"
   ]
  },
  {
   "cell_type": "code",
   "execution_count": 4,
   "id": "041610aa-0810-4ae8-b9a6-68e3f56056e9",
   "metadata": {
    "jupyter": {
     "source_hidden": true
    },
    "tags": []
   },
   "outputs": [],
   "source": [
    "# Display settings\n",
    "sns.set()\n",
    "%matplotlib inline\n",
    "mpl.rcParams['figure.dpi'] = 150\n",
    "pd.options.display.max_columns = 100\n",
    "pd.options.display.max_rows = 100"
   ]
  },
  {
   "cell_type": "code",
   "execution_count": 5,
   "id": "64bf4c3e-617b-447c-bcb5-f3ea3475ea93",
   "metadata": {
    "tags": []
   },
   "outputs": [],
   "source": [
    "frequency = 'AS' # annual\n",
    "\n",
    "# Establish connection to pudl database\n",
    "pudl_settings = pudl.workspace.setup.get_defaults()\n",
    "pudl_engine = sa.create_engine(pudl_settings['pudl_db'])\n",
    "pudl_out = pudl.output.pudltabl.PudlTabl(pudl_engine, freq=frequency) #annual frequency"
   ]
  },
  {
   "cell_type": "code",
   "execution_count": 6,
   "id": "a771922c-3ede-49a2-8b1d-bd0d574988de",
   "metadata": {},
   "outputs": [],
   "source": [
    "# Access a table by name as an object\n",
    "ferc_small = pudl_out.plants_small_ferc1()\n",
    "ferc_big = pudl_out.plants_steam_ferc1()\n",
    "eia = pudl_out.gens_eia860()"
   ]
  },
  {
   "cell_type": "code",
   "execution_count": 7,
   "id": "b7de1417-dafc-49ce-88a4-22ba84dc3dfc",
   "metadata": {},
   "outputs": [],
   "source": [
    "# Replicate PUDL ID mapping process\n",
    "aa = pudl.glue.ferc1_eia.glue(ferc1=True, eia=True)\n",
    "glue_tab = aa['plants_pudl']\n",
    "glue_tab['plant_name_lower'] = glue_tab.plant_name_pudl.str.lower()\n",
    "glue_tab.query(\"plant_name_pudl == 'Harris Lake'\")\n",
    "\n",
    "ferc_glue_mer = pd.merge(ferc_small, glue_tab, left_on='plant_name_original', right_on='plant_name_lower', how='left')\n",
    "ferc_glue_mer['dup'] = ferc_glue_mer.duplicated(subset=['plant_name_original'], keep=False)\n",
    "\n",
    "print(len(ferc_glue_mer[ferc_glue_mer['dup']]))\n",
    "print(len(ferc_glue_mer))\n",
    "print(len(ferc_small))"
   ]
  },
  {
   "cell_type": "code",
   "execution_count": 11,
   "id": "80ca26de-49c7-459c-96c2-89232c83117d",
   "metadata": {},
   "outputs": [
    {
     "name": "stdout",
     "output_type": "stream",
     "text": [
      "1077\n",
      "228\n"
     ]
    }
   ],
   "source": [
    "# preliminary look at how many of the plants that have been mapped also have eia technology descriptions\n",
    "\n",
    "has_tech = eia[eia['technology_description'].notna()].copy()\n",
    "print(len(ferc_glue_mer.plant_name_pudl.unique()))\n",
    "print(len([x for x in ferc_glue_mer.plant_id_pudl.unique() if x in has_tech.plant_id_pudl.unique()]))\n",
    "#print(len([x for x in matching_utility.plant_id_pudl_ferc if x in has_tech.plant_id_pudl]))\n",
    "\n",
    "# Remember to only use plant id pudls that have one tech per plant id pudl :) "
   ]
  },
  {
   "cell_type": "code",
   "execution_count": 14,
   "id": "6611b1fc-5883-4d61-a817-a63c8fe9a425",
   "metadata": {},
   "outputs": [],
   "source": [
    "mapping = pd.read_excel('/Users/aesharpe/Desktop/mapping_eia923_ferc1_copy().xlsx', sheet_name='plants_combined')\n",
    "\n",
    "eia_map = (\n",
    "    mapping[mapping['plant_name_eia'].notna()]\n",
    "    [['plant_name_pudl', 'plant_id_pudl', 'utility_name_eia', 'plant_name_eia']].copy())\n",
    "\n",
    "unmapped_eia = (\n",
    "    mapping[(mapping['plant_name_eia'].notna()) & (mapping['plant_name_ferc1'].isna())]\n",
    "    [['plant_name_pudl', 'plant_id_pudl', 'utility_name_eia', 'plant_name_eia']].copy()\n",
    "    .rename(columns={'plant_id_pudl': 'plant_id_pudl_eia'}))\n",
    "unmapped_ferc = (\n",
    "    mapping[(mapping['plant_name_ferc1'].notna()) & (mapping['plant_name_eia'].isna())]\n",
    "    [['plant_name_pudl', 'plant_id_pudl', 'utility_name_ferc1', 'plant_name_ferc1']].copy()\n",
    "    .rename(columns={'plant_id_pudl': 'plant_id_pudl_ferc'}))"
   ]
  },
  {
   "cell_type": "code",
   "execution_count": 15,
   "id": "676979db-1ebe-452c-b1ab-6b062ea43ccf",
   "metadata": {},
   "outputs": [],
   "source": [
    "mer2 = pd.merge(unmapped_eia, unmapped_ferc, on='plant_name_pudl', how='inner')\n",
    "\n",
    "print(len(unmapped_eia))\n",
    "print(len(unmapped_ferc))\n",
    "print(len(mer2))"
   ]
  },
  {
   "cell_type": "code",
   "execution_count": 18,
   "id": "9b10c2d0-09a5-4029-a775-2becfcb30b0e",
   "metadata": {},
   "outputs": [
    {
     "name": "stderr",
     "output_type": "stream",
     "text": [
      "/Users/aesharpe/miniconda3/envs/pudl-dev/lib/python3.9/site-packages/fuzzywuzzy/fuzz.py:11: UserWarning: Using slow pure-python SequenceMatcher. Install python-Levenshtein to remove this warning\n",
      "  warnings.warn('Using slow pure-python SequenceMatcher. Install python-Levenshtein to remove this warning')\n"
     ]
    }
   ],
   "source": [
    "from fuzzywuzzy import fuzz\n",
    "from fuzzywuzzy import process\n",
    "\n",
    "def get_fuzzy_wit_it(small_ferc, mapping):\n",
    "    small_ferc = small_ferc.dropna(subset=['plant_name_ferc1'])\n",
    "    mapping = mapping.dropna(subset=['plant_name_eia'])\n",
    "    \n",
    "    small_ferc['output'] = (\n",
    "        small_ferc.plant_name_ferc1.apply(lambda x: process.extract(x, mapping.plant_name_eia, limit=1, scorer=fuzz.token_sort_ratio)))\n",
    "    small_ferc['output'] = (\n",
    "        small_ferc.output.apply(pd.Series)[0])\n",
    "    small_ferc['match'], small_ferc['ratio'], small_ferc['other'] = zip(*small_ferc.output)\n",
    "    \n",
    "    return small_ferc"
   ]
  },
  {
   "cell_type": "code",
   "execution_count": 32,
   "id": "20e878a3-e218-41d2-8393-58a287978710",
   "metadata": {},
   "outputs": [],
   "source": [
    "bing = get_fuzzy_wit_it(dd, unmapped_eia)"
   ]
  },
  {
   "cell_type": "code",
   "execution_count": 31,
   "id": "cf38839e-56d3-4ffb-825d-555c8a6ed85f",
   "metadata": {
    "tags": []
   },
   "outputs": [],
   "source": [
    "zing.sort_values('ratio', ascending=False).to_excel('/Users/aesharpe/Desktop/matching_eia.xlsx')"
   ]
  },
  {
   "cell_type": "code",
   "execution_count": 34,
   "id": "7cb368c8-5605-411c-a2f4-eb21368c7d61",
   "metadata": {},
   "outputs": [],
   "source": [
    "bing.sort_values('ratio', ascending=False).to_excel('/Users/aesharpe/Desktop/matching_eia.xlsx')"
   ]
  },
  {
   "cell_type": "code",
   "execution_count": 19,
   "id": "09e50721-dcce-480b-9943-e0511d604663",
   "metadata": {},
   "outputs": [],
   "source": [
    "mer3 = mer2.dropna(subset=['utility_name_eia', 'utility_name_ferc1']).copy()\n",
    "mer3['ratio']= mer3.apply(lambda x: fuzz.partial_ratio(x['utility_name_ferc1'],x['utility_name_eia']),axis=1)\n",
    "matching_utility = mer3[(mer3['ratio'] > 70) & (mer3['plant_id_pudl_eia'] != mer3['plant_id_pudl_ferc'])].copy()"
   ]
  },
  {
   "cell_type": "code",
   "execution_count": 40,
   "id": "ce9a4d7f-c3a2-4a81-850f-2eb53fff689f",
   "metadata": {
    "tags": []
   },
   "outputs": [
    {
     "data": {
      "text/plain": [
       "1"
      ]
     },
     "execution_count": 40,
     "metadata": {},
     "output_type": "execute_result"
    }
   ],
   "source": [
    "# Used these as the first pudl ids to fix\n",
    "len(matching_utility)"
   ]
  },
  {
   "cell_type": "code",
   "execution_count": 20,
   "id": "7e7074f4-ad90-4cc6-825d-cd541cae11ef",
   "metadata": {},
   "outputs": [],
   "source": [
    "mer4 = mer3[mer3['plant_id_pudl_eia'] != mer3['plant_id_pudl_ferc']]"
   ]
  },
  {
   "cell_type": "code",
   "execution_count": null,
   "id": "2db5ca1b-fe04-494a-820a-facc97e884e7",
   "metadata": {},
   "outputs": [],
   "source": []
  },
  {
   "cell_type": "code",
   "execution_count": 21,
   "id": "f7b0c07c-8321-4d84-b6af-2b97a6ce734f",
   "metadata": {},
   "outputs": [],
   "source": [
    "dd = ferc_small.drop_duplicates('plant_name_original')"
   ]
  },
  {
   "cell_type": "code",
   "execution_count": 22,
   "id": "33d57b36-8a88-4b1c-a30b-adca6d41e8ae",
   "metadata": {},
   "outputs": [
    {
     "data": {
      "text/plain": [
       "1930"
      ]
     },
     "execution_count": 22,
     "metadata": {},
     "output_type": "execute_result"
    }
   ],
   "source": [
    "len(dd.sort_values('plant_name_original'))"
   ]
  },
  {
   "cell_type": "code",
   "execution_count": 54,
   "id": "50bf0651-9170-45fd-872b-f08fe6e11151",
   "metadata": {
    "tags": []
   },
   "outputs": [],
   "source": [
    "dd.sort_values('plant_name_original').to_excel('/Users/aesharpe/Desktop/small-gen-to-map.xlsx')"
   ]
  },
  {
   "cell_type": "code",
   "execution_count": 82,
   "id": "34d27323-1a27-440f-9e9f-694ca6bcace8",
   "metadata": {
    "collapsed": true,
    "jupyter": {
     "outputs_hidden": true
    },
    "tags": []
   },
   "outputs": [
    {
     "data": {
      "text/html": [
       "<div>\n",
       "<style scoped>\n",
       "    .dataframe tbody tr th:only-of-type {\n",
       "        vertical-align: middle;\n",
       "    }\n",
       "\n",
       "    .dataframe tbody tr th {\n",
       "        vertical-align: top;\n",
       "    }\n",
       "\n",
       "    .dataframe thead th {\n",
       "        text-align: right;\n",
       "    }\n",
       "</style>\n",
       "<table border=\"1\" class=\"dataframe\">\n",
       "  <thead>\n",
       "    <tr style=\"text-align: right;\">\n",
       "      <th></th>\n",
       "      <th>changes</th>\n",
       "      <th>plant_id_pudl</th>\n",
       "      <th>Unnamed: 2</th>\n",
       "      <th>plant_name_pudl</th>\n",
       "      <th>utility_id_ferc1</th>\n",
       "      <th>utility_name_ferc1</th>\n",
       "      <th>plant_name_ferc1</th>\n",
       "      <th>plant_id_eia</th>\n",
       "      <th>plant_name_eia</th>\n",
       "      <th>utility_name_eia</th>\n",
       "      <th>utility_id_eia</th>\n",
       "      <th>Notes</th>\n",
       "    </tr>\n",
       "  </thead>\n",
       "  <tbody>\n",
       "    <tr>\n",
       "      <th>10253</th>\n",
       "      <td>NaN</td>\n",
       "      <td>9105</td>\n",
       "      <td>NaN</td>\n",
       "      <td>(Fish Water Unit)</td>\n",
       "      <td>161.0</td>\n",
       "      <td>Southern California Edison Company</td>\n",
       "      <td>(fish water unit)</td>\n",
       "      <td>NaN</td>\n",
       "      <td>NaN</td>\n",
       "      <td>NaN</td>\n",
       "      <td>NaN</td>\n",
       "      <td>Capacity &lt; 5MW, not mapped</td>\n",
       "    </tr>\n",
       "    <tr>\n",
       "      <th>13922</th>\n",
       "      <td>NaN</td>\n",
       "      <td>11796</td>\n",
       "      <td>NaN</td>\n",
       "      <td>(hydro) project #539</td>\n",
       "      <td>82.0</td>\n",
       "      <td>kentucky utilities company</td>\n",
       "      <td>(hydro) project #539</td>\n",
       "      <td>NaN</td>\n",
       "      <td>NaN</td>\n",
       "      <td>NaN</td>\n",
       "      <td>NaN</td>\n",
       "      <td>2018 Addition</td>\n",
       "    </tr>\n",
       "    <tr>\n",
       "      <th>13375</th>\n",
       "      <td>NaN</td>\n",
       "      <td>11658</td>\n",
       "      <td>NaN</td>\n",
       "      <td>(icu)</td>\n",
       "      <td>39.0</td>\n",
       "      <td>connecticut light and power company, the</td>\n",
       "      <td>(icu)</td>\n",
       "      <td>NaN</td>\n",
       "      <td>NaN</td>\n",
       "      <td>NaN</td>\n",
       "      <td>NaN</td>\n",
       "      <td>2018 Addition</td>\n",
       "    </tr>\n",
       "    <tr>\n",
       "      <th>13376</th>\n",
       "      <td>NaN</td>\n",
       "      <td>11659</td>\n",
       "      <td>NaN</td>\n",
       "      <td>(steam)</td>\n",
       "      <td>39.0</td>\n",
       "      <td>connecticut light and power company, the</td>\n",
       "      <td>(steam)</td>\n",
       "      <td>NaN</td>\n",
       "      <td>NaN</td>\n",
       "      <td>NaN</td>\n",
       "      <td>NaN</td>\n",
       "      <td>2018 Addition</td>\n",
       "    </tr>\n",
       "    <tr>\n",
       "      <th>1439</th>\n",
       "      <td>NaN</td>\n",
       "      <td>1061</td>\n",
       "      <td>NaN</td>\n",
       "      <td>* Beacon</td>\n",
       "      <td>44.0</td>\n",
       "      <td>The Detroit Edison Company</td>\n",
       "      <td>* beacon</td>\n",
       "      <td>NaN</td>\n",
       "      <td>NaN</td>\n",
       "      <td>NaN</td>\n",
       "      <td>NaN</td>\n",
       "      <td>No EIA ID</td>\n",
       "    </tr>\n",
       "    <tr>\n",
       "      <th>...</th>\n",
       "      <td>...</td>\n",
       "      <td>...</td>\n",
       "      <td>...</td>\n",
       "      <td>...</td>\n",
       "      <td>...</td>\n",
       "      <td>...</td>\n",
       "      <td>...</td>\n",
       "      <td>...</td>\n",
       "      <td>...</td>\n",
       "      <td>...</td>\n",
       "      <td>...</td>\n",
       "      <td>...</td>\n",
       "    </tr>\n",
       "    <tr>\n",
       "      <th>10118</th>\n",
       "      <td>NaN</td>\n",
       "      <td>9014</td>\n",
       "      <td>NaN</td>\n",
       "      <td>Xerox Corp</td>\n",
       "      <td>141.0</td>\n",
       "      <td>Portland General Electric Company</td>\n",
       "      <td>xerox corp</td>\n",
       "      <td>NaN</td>\n",
       "      <td>NaN</td>\n",
       "      <td>NaN</td>\n",
       "      <td>NaN</td>\n",
       "      <td>Capacity &lt; 5MW, not mapped</td>\n",
       "    </tr>\n",
       "    <tr>\n",
       "      <th>9574</th>\n",
       "      <td>NaN</td>\n",
       "      <td>8590</td>\n",
       "      <td>NaN</td>\n",
       "      <td>Yankee Solar #1</td>\n",
       "      <td>42.0</td>\n",
       "      <td>The Dayton Power and Light Company</td>\n",
       "      <td>yankee solar #1</td>\n",
       "      <td>NaN</td>\n",
       "      <td>NaN</td>\n",
       "      <td>NaN</td>\n",
       "      <td>NaN</td>\n",
       "      <td>Capacity &lt; 5MW, not mapped</td>\n",
       "    </tr>\n",
       "    <tr>\n",
       "      <th>15955</th>\n",
       "      <td>NaN</td>\n",
       "      <td>12331</td>\n",
       "      <td>NaN</td>\n",
       "      <td>youngs corner</td>\n",
       "      <td>11.0</td>\n",
       "      <td>emera maine</td>\n",
       "      <td>youngs corner</td>\n",
       "      <td>NaN</td>\n",
       "      <td>NaN</td>\n",
       "      <td>NaN</td>\n",
       "      <td>NaN</td>\n",
       "      <td>2018 Addition - New 2018</td>\n",
       "    </tr>\n",
       "    <tr>\n",
       "      <th>11243</th>\n",
       "      <td>NaN</td>\n",
       "      <td>9952</td>\n",
       "      <td>NaN</td>\n",
       "      <td>Ypsilanti</td>\n",
       "      <td>44.0</td>\n",
       "      <td>The Detroit Edison Company</td>\n",
       "      <td>ypsilanti</td>\n",
       "      <td>NaN</td>\n",
       "      <td>NaN</td>\n",
       "      <td>NaN</td>\n",
       "      <td>NaN</td>\n",
       "      <td>Capacity &lt; 5MW, not mapped</td>\n",
       "    </tr>\n",
       "    <tr>\n",
       "      <th>9478</th>\n",
       "      <td>NaN</td>\n",
       "      <td>8525</td>\n",
       "      <td>NaN</td>\n",
       "      <td>Yuma</td>\n",
       "      <td>7.0</td>\n",
       "      <td>Arizona Public Service Company</td>\n",
       "      <td>yuma</td>\n",
       "      <td>NaN</td>\n",
       "      <td>NaN</td>\n",
       "      <td>NaN</td>\n",
       "      <td>NaN</td>\n",
       "      <td>Capacity &lt; 5MW, not mapped</td>\n",
       "    </tr>\n",
       "  </tbody>\n",
       "</table>\n",
       "<p>1209 rows × 12 columns</p>\n",
       "</div>"
      ],
      "text/plain": [
       "      changes  plant_id_pudl  Unnamed: 2       plant_name_pudl  \\\n",
       "10253     NaN           9105         NaN     (Fish Water Unit)   \n",
       "13922     NaN          11796         NaN  (hydro) project #539   \n",
       "13375     NaN          11658         NaN                 (icu)   \n",
       "13376     NaN          11659         NaN               (steam)   \n",
       "1439      NaN           1061         NaN              * Beacon   \n",
       "...       ...            ...         ...                   ...   \n",
       "10118     NaN           9014         NaN            Xerox Corp   \n",
       "9574      NaN           8590         NaN       Yankee Solar #1   \n",
       "15955     NaN          12331         NaN         youngs corner   \n",
       "11243     NaN           9952         NaN             Ypsilanti   \n",
       "9478      NaN           8525         NaN                  Yuma   \n",
       "\n",
       "       utility_id_ferc1                        utility_name_ferc1  \\\n",
       "10253             161.0        Southern California Edison Company   \n",
       "13922              82.0                kentucky utilities company   \n",
       "13375              39.0  connecticut light and power company, the   \n",
       "13376              39.0  connecticut light and power company, the   \n",
       "1439               44.0                The Detroit Edison Company   \n",
       "...                 ...                                       ...   \n",
       "10118             141.0         Portland General Electric Company   \n",
       "9574               42.0        The Dayton Power and Light Company   \n",
       "15955              11.0                               emera maine   \n",
       "11243              44.0                The Detroit Edison Company   \n",
       "9478                7.0            Arizona Public Service Company   \n",
       "\n",
       "           plant_name_ferc1  plant_id_eia plant_name_eia utility_name_eia  \\\n",
       "10253     (fish water unit)           NaN            NaN              NaN   \n",
       "13922  (hydro) project #539           NaN            NaN              NaN   \n",
       "13375                 (icu)           NaN            NaN              NaN   \n",
       "13376               (steam)           NaN            NaN              NaN   \n",
       "1439               * beacon           NaN            NaN              NaN   \n",
       "...                     ...           ...            ...              ...   \n",
       "10118            xerox corp           NaN            NaN              NaN   \n",
       "9574        yankee solar #1           NaN            NaN              NaN   \n",
       "15955         youngs corner           NaN            NaN              NaN   \n",
       "11243             ypsilanti           NaN            NaN              NaN   \n",
       "9478                   yuma           NaN            NaN              NaN   \n",
       "\n",
       "       utility_id_eia                       Notes  \n",
       "10253             NaN  Capacity < 5MW, not mapped  \n",
       "13922             NaN               2018 Addition  \n",
       "13375             NaN               2018 Addition  \n",
       "13376             NaN               2018 Addition  \n",
       "1439              NaN                   No EIA ID  \n",
       "...               ...                         ...  \n",
       "10118             NaN  Capacity < 5MW, not mapped  \n",
       "9574              NaN  Capacity < 5MW, not mapped  \n",
       "15955             NaN    2018 Addition - New 2018  \n",
       "11243             NaN  Capacity < 5MW, not mapped  \n",
       "9478              NaN  Capacity < 5MW, not mapped  \n",
       "\n",
       "[1209 rows x 12 columns]"
      ]
     },
     "execution_count": 82,
     "metadata": {},
     "output_type": "execute_result"
    }
   ],
   "source": [
    "mapping['plant_name_ferc1'] = mapping['plant_name_ferc1'].str.lower()\n",
    "test = mapping[mapping['plant_name_ferc1'].isin(dd.plant_name_ferc1.unique().tolist())]\n",
    "test[test['plant_id_eia'].isna()].sort_values('plant_name_ferc1')"
   ]
  },
  {
   "cell_type": "code",
   "execution_count": 98,
   "id": "c88dd54f-e9ec-4499-b885-9602125a574f",
   "metadata": {},
   "outputs": [],
   "source": [
    "one = mapping.sort_values('plant_name_ferc1')[0:20].copy()\n",
    "two = dd.sort_values('plant_name_ferc1')[0:10].copy()"
   ]
  },
  {
   "cell_type": "code",
   "execution_count": 100,
   "id": "c0a03a23-d9f8-442c-a6e9-7eb470cf6614",
   "metadata": {
    "collapsed": true,
    "jupyter": {
     "outputs_hidden": true
    },
    "tags": []
   },
   "outputs": [
    {
     "ename": "TypeError",
     "evalue": "expected string or bytes-like object",
     "output_type": "error",
     "traceback": [
      "\u001b[0;31m---------------------------------------------------------------------------\u001b[0m",
      "\u001b[0;31mTypeError\u001b[0m                                 Traceback (most recent call last)",
      "\u001b[0;32m<ipython-input-100-1b1807d86843>\u001b[0m in \u001b[0;36m<module>\u001b[0;34m\u001b[0m\n\u001b[0;32m----> 1\u001b[0;31m \u001b[0mget_fuzzy_wit_it\u001b[0m\u001b[0;34m(\u001b[0m\u001b[0mtwo\u001b[0m\u001b[0;34m,\u001b[0m \u001b[0mone\u001b[0m\u001b[0;34m)\u001b[0m\u001b[0;34m\u001b[0m\u001b[0;34m\u001b[0m\u001b[0m\n\u001b[0m",
      "\u001b[0;32m<ipython-input-99-c815e74dc1b3>\u001b[0m in \u001b[0;36mget_fuzzy_wit_it\u001b[0;34m(small_ferc, mapping)\u001b[0m\n\u001b[1;32m      7\u001b[0m \u001b[0;34m\u001b[0m\u001b[0m\n\u001b[1;32m      8\u001b[0m     small_ferc['output'] = (\n\u001b[0;32m----> 9\u001b[0;31m         small_ferc.apply(lambda x: process.extract(x, mapping.plant_name_eia, limit=1)))\n\u001b[0m\u001b[1;32m     10\u001b[0m     small_ferc['output'] = (\n\u001b[1;32m     11\u001b[0m         small_ferc.output.apply(pd.Series).stack().reset_index(drop=True))\n",
      "\u001b[0;32m~/miniconda3/envs/pudl-dev/lib/python3.9/site-packages/pandas/core/frame.py\u001b[0m in \u001b[0;36mapply\u001b[0;34m(self, func, axis, raw, result_type, args, **kwds)\u001b[0m\n\u001b[1;32m   7766\u001b[0m             \u001b[0mkwds\u001b[0m\u001b[0;34m=\u001b[0m\u001b[0mkwds\u001b[0m\u001b[0;34m,\u001b[0m\u001b[0;34m\u001b[0m\u001b[0;34m\u001b[0m\u001b[0m\n\u001b[1;32m   7767\u001b[0m         )\n\u001b[0;32m-> 7768\u001b[0;31m         \u001b[0;32mreturn\u001b[0m \u001b[0mop\u001b[0m\u001b[0;34m.\u001b[0m\u001b[0mget_result\u001b[0m\u001b[0;34m(\u001b[0m\u001b[0;34m)\u001b[0m\u001b[0;34m\u001b[0m\u001b[0;34m\u001b[0m\u001b[0m\n\u001b[0m\u001b[1;32m   7769\u001b[0m \u001b[0;34m\u001b[0m\u001b[0m\n\u001b[1;32m   7770\u001b[0m     \u001b[0;32mdef\u001b[0m \u001b[0mapplymap\u001b[0m\u001b[0;34m(\u001b[0m\u001b[0mself\u001b[0m\u001b[0;34m,\u001b[0m \u001b[0mfunc\u001b[0m\u001b[0;34m,\u001b[0m \u001b[0mna_action\u001b[0m\u001b[0;34m:\u001b[0m \u001b[0mOptional\u001b[0m\u001b[0;34m[\u001b[0m\u001b[0mstr\u001b[0m\u001b[0;34m]\u001b[0m \u001b[0;34m=\u001b[0m \u001b[0;32mNone\u001b[0m\u001b[0;34m)\u001b[0m \u001b[0;34m->\u001b[0m \u001b[0mDataFrame\u001b[0m\u001b[0;34m:\u001b[0m\u001b[0;34m\u001b[0m\u001b[0;34m\u001b[0m\u001b[0m\n",
      "\u001b[0;32m~/miniconda3/envs/pudl-dev/lib/python3.9/site-packages/pandas/core/apply.py\u001b[0m in \u001b[0;36mget_result\u001b[0;34m(self)\u001b[0m\n\u001b[1;32m    183\u001b[0m             \u001b[0;32mreturn\u001b[0m \u001b[0mself\u001b[0m\u001b[0;34m.\u001b[0m\u001b[0mapply_raw\u001b[0m\u001b[0;34m(\u001b[0m\u001b[0;34m)\u001b[0m\u001b[0;34m\u001b[0m\u001b[0;34m\u001b[0m\u001b[0m\n\u001b[1;32m    184\u001b[0m \u001b[0;34m\u001b[0m\u001b[0m\n\u001b[0;32m--> 185\u001b[0;31m         \u001b[0;32mreturn\u001b[0m \u001b[0mself\u001b[0m\u001b[0;34m.\u001b[0m\u001b[0mapply_standard\u001b[0m\u001b[0;34m(\u001b[0m\u001b[0;34m)\u001b[0m\u001b[0;34m\u001b[0m\u001b[0;34m\u001b[0m\u001b[0m\n\u001b[0m\u001b[1;32m    186\u001b[0m \u001b[0;34m\u001b[0m\u001b[0m\n\u001b[1;32m    187\u001b[0m     \u001b[0;32mdef\u001b[0m \u001b[0mapply_empty_result\u001b[0m\u001b[0;34m(\u001b[0m\u001b[0mself\u001b[0m\u001b[0;34m)\u001b[0m\u001b[0;34m:\u001b[0m\u001b[0;34m\u001b[0m\u001b[0;34m\u001b[0m\u001b[0m\n",
      "\u001b[0;32m~/miniconda3/envs/pudl-dev/lib/python3.9/site-packages/pandas/core/apply.py\u001b[0m in \u001b[0;36mapply_standard\u001b[0;34m(self)\u001b[0m\n\u001b[1;32m    274\u001b[0m \u001b[0;34m\u001b[0m\u001b[0m\n\u001b[1;32m    275\u001b[0m     \u001b[0;32mdef\u001b[0m \u001b[0mapply_standard\u001b[0m\u001b[0;34m(\u001b[0m\u001b[0mself\u001b[0m\u001b[0;34m)\u001b[0m\u001b[0;34m:\u001b[0m\u001b[0;34m\u001b[0m\u001b[0;34m\u001b[0m\u001b[0m\n\u001b[0;32m--> 276\u001b[0;31m         \u001b[0mresults\u001b[0m\u001b[0;34m,\u001b[0m \u001b[0mres_index\u001b[0m \u001b[0;34m=\u001b[0m \u001b[0mself\u001b[0m\u001b[0;34m.\u001b[0m\u001b[0mapply_series_generator\u001b[0m\u001b[0;34m(\u001b[0m\u001b[0;34m)\u001b[0m\u001b[0;34m\u001b[0m\u001b[0;34m\u001b[0m\u001b[0m\n\u001b[0m\u001b[1;32m    277\u001b[0m \u001b[0;34m\u001b[0m\u001b[0m\n\u001b[1;32m    278\u001b[0m         \u001b[0;31m# wrap results\u001b[0m\u001b[0;34m\u001b[0m\u001b[0;34m\u001b[0m\u001b[0;34m\u001b[0m\u001b[0m\n",
      "\u001b[0;32m~/miniconda3/envs/pudl-dev/lib/python3.9/site-packages/pandas/core/apply.py\u001b[0m in \u001b[0;36mapply_series_generator\u001b[0;34m(self)\u001b[0m\n\u001b[1;32m    288\u001b[0m             \u001b[0;32mfor\u001b[0m \u001b[0mi\u001b[0m\u001b[0;34m,\u001b[0m \u001b[0mv\u001b[0m \u001b[0;32min\u001b[0m \u001b[0menumerate\u001b[0m\u001b[0;34m(\u001b[0m\u001b[0mseries_gen\u001b[0m\u001b[0;34m)\u001b[0m\u001b[0;34m:\u001b[0m\u001b[0;34m\u001b[0m\u001b[0;34m\u001b[0m\u001b[0m\n\u001b[1;32m    289\u001b[0m                 \u001b[0;31m# ignore SettingWithCopy here in case the user mutates\u001b[0m\u001b[0;34m\u001b[0m\u001b[0;34m\u001b[0m\u001b[0;34m\u001b[0m\u001b[0m\n\u001b[0;32m--> 290\u001b[0;31m                 \u001b[0mresults\u001b[0m\u001b[0;34m[\u001b[0m\u001b[0mi\u001b[0m\u001b[0;34m]\u001b[0m \u001b[0;34m=\u001b[0m \u001b[0mself\u001b[0m\u001b[0;34m.\u001b[0m\u001b[0mf\u001b[0m\u001b[0;34m(\u001b[0m\u001b[0mv\u001b[0m\u001b[0;34m)\u001b[0m\u001b[0;34m\u001b[0m\u001b[0;34m\u001b[0m\u001b[0m\n\u001b[0m\u001b[1;32m    291\u001b[0m                 \u001b[0;32mif\u001b[0m \u001b[0misinstance\u001b[0m\u001b[0;34m(\u001b[0m\u001b[0mresults\u001b[0m\u001b[0;34m[\u001b[0m\u001b[0mi\u001b[0m\u001b[0;34m]\u001b[0m\u001b[0;34m,\u001b[0m \u001b[0mABCSeries\u001b[0m\u001b[0;34m)\u001b[0m\u001b[0;34m:\u001b[0m\u001b[0;34m\u001b[0m\u001b[0;34m\u001b[0m\u001b[0m\n\u001b[1;32m    292\u001b[0m                     \u001b[0;31m# If we have a view on v, we need to make a copy because\u001b[0m\u001b[0;34m\u001b[0m\u001b[0;34m\u001b[0m\u001b[0;34m\u001b[0m\u001b[0m\n",
      "\u001b[0;32m<ipython-input-99-c815e74dc1b3>\u001b[0m in \u001b[0;36m<lambda>\u001b[0;34m(x)\u001b[0m\n\u001b[1;32m      7\u001b[0m \u001b[0;34m\u001b[0m\u001b[0m\n\u001b[1;32m      8\u001b[0m     small_ferc['output'] = (\n\u001b[0;32m----> 9\u001b[0;31m         small_ferc.apply(lambda x: process.extract(x, mapping.plant_name_eia, limit=1)))\n\u001b[0m\u001b[1;32m     10\u001b[0m     small_ferc['output'] = (\n\u001b[1;32m     11\u001b[0m         small_ferc.output.apply(pd.Series).stack().reset_index(drop=True))\n",
      "\u001b[0;32m~/miniconda3/envs/pudl-dev/lib/python3.9/site-packages/fuzzywuzzy/process.py\u001b[0m in \u001b[0;36mextract\u001b[0;34m(query, choices, processor, scorer, limit)\u001b[0m\n\u001b[1;32m    166\u001b[0m     \"\"\"\n\u001b[1;32m    167\u001b[0m     \u001b[0msl\u001b[0m \u001b[0;34m=\u001b[0m \u001b[0mextractWithoutOrder\u001b[0m\u001b[0;34m(\u001b[0m\u001b[0mquery\u001b[0m\u001b[0;34m,\u001b[0m \u001b[0mchoices\u001b[0m\u001b[0;34m,\u001b[0m \u001b[0mprocessor\u001b[0m\u001b[0;34m,\u001b[0m \u001b[0mscorer\u001b[0m\u001b[0;34m)\u001b[0m\u001b[0;34m\u001b[0m\u001b[0;34m\u001b[0m\u001b[0m\n\u001b[0;32m--> 168\u001b[0;31m     \u001b[0;32mreturn\u001b[0m \u001b[0mheapq\u001b[0m\u001b[0;34m.\u001b[0m\u001b[0mnlargest\u001b[0m\u001b[0;34m(\u001b[0m\u001b[0mlimit\u001b[0m\u001b[0;34m,\u001b[0m \u001b[0msl\u001b[0m\u001b[0;34m,\u001b[0m \u001b[0mkey\u001b[0m\u001b[0;34m=\u001b[0m\u001b[0;32mlambda\u001b[0m \u001b[0mi\u001b[0m\u001b[0;34m:\u001b[0m \u001b[0mi\u001b[0m\u001b[0;34m[\u001b[0m\u001b[0;36m1\u001b[0m\u001b[0;34m]\u001b[0m\u001b[0;34m)\u001b[0m \u001b[0;32mif\u001b[0m \u001b[0mlimit\u001b[0m \u001b[0;32mis\u001b[0m \u001b[0;32mnot\u001b[0m \u001b[0;32mNone\u001b[0m \u001b[0;32melse\u001b[0m\u001b[0;31m \u001b[0m\u001b[0;31m\\\u001b[0m\u001b[0;34m\u001b[0m\u001b[0;34m\u001b[0m\u001b[0m\n\u001b[0m\u001b[1;32m    169\u001b[0m         \u001b[0msorted\u001b[0m\u001b[0;34m(\u001b[0m\u001b[0msl\u001b[0m\u001b[0;34m,\u001b[0m \u001b[0mkey\u001b[0m\u001b[0;34m=\u001b[0m\u001b[0;32mlambda\u001b[0m \u001b[0mi\u001b[0m\u001b[0;34m:\u001b[0m \u001b[0mi\u001b[0m\u001b[0;34m[\u001b[0m\u001b[0;36m1\u001b[0m\u001b[0;34m]\u001b[0m\u001b[0;34m,\u001b[0m \u001b[0mreverse\u001b[0m\u001b[0;34m=\u001b[0m\u001b[0;32mTrue\u001b[0m\u001b[0;34m)\u001b[0m\u001b[0;34m\u001b[0m\u001b[0;34m\u001b[0m\u001b[0m\n\u001b[1;32m    170\u001b[0m \u001b[0;34m\u001b[0m\u001b[0m\n",
      "\u001b[0;32m~/miniconda3/envs/pudl-dev/lib/python3.9/heapq.py\u001b[0m in \u001b[0;36mnlargest\u001b[0;34m(n, iterable, key)\u001b[0m\n\u001b[1;32m    529\u001b[0m         \u001b[0mit\u001b[0m \u001b[0;34m=\u001b[0m \u001b[0miter\u001b[0m\u001b[0;34m(\u001b[0m\u001b[0miterable\u001b[0m\u001b[0;34m)\u001b[0m\u001b[0;34m\u001b[0m\u001b[0;34m\u001b[0m\u001b[0m\n\u001b[1;32m    530\u001b[0m         \u001b[0msentinel\u001b[0m \u001b[0;34m=\u001b[0m \u001b[0mobject\u001b[0m\u001b[0;34m(\u001b[0m\u001b[0;34m)\u001b[0m\u001b[0;34m\u001b[0m\u001b[0;34m\u001b[0m\u001b[0m\n\u001b[0;32m--> 531\u001b[0;31m         \u001b[0mresult\u001b[0m \u001b[0;34m=\u001b[0m \u001b[0mmax\u001b[0m\u001b[0;34m(\u001b[0m\u001b[0mit\u001b[0m\u001b[0;34m,\u001b[0m \u001b[0mdefault\u001b[0m\u001b[0;34m=\u001b[0m\u001b[0msentinel\u001b[0m\u001b[0;34m,\u001b[0m \u001b[0mkey\u001b[0m\u001b[0;34m=\u001b[0m\u001b[0mkey\u001b[0m\u001b[0;34m)\u001b[0m\u001b[0;34m\u001b[0m\u001b[0;34m\u001b[0m\u001b[0m\n\u001b[0m\u001b[1;32m    532\u001b[0m         \u001b[0;32mreturn\u001b[0m \u001b[0;34m[\u001b[0m\u001b[0;34m]\u001b[0m \u001b[0;32mif\u001b[0m \u001b[0mresult\u001b[0m \u001b[0;32mis\u001b[0m \u001b[0msentinel\u001b[0m \u001b[0;32melse\u001b[0m \u001b[0;34m[\u001b[0m\u001b[0mresult\u001b[0m\u001b[0;34m]\u001b[0m\u001b[0;34m\u001b[0m\u001b[0;34m\u001b[0m\u001b[0m\n\u001b[1;32m    533\u001b[0m \u001b[0;34m\u001b[0m\u001b[0m\n",
      "\u001b[0;32m~/miniconda3/envs/pudl-dev/lib/python3.9/site-packages/fuzzywuzzy/process.py\u001b[0m in \u001b[0;36mextractWithoutOrder\u001b[0;34m(query, choices, processor, scorer, score_cutoff)\u001b[0m\n\u001b[1;32m     76\u001b[0m \u001b[0;34m\u001b[0m\u001b[0m\n\u001b[1;32m     77\u001b[0m     \u001b[0;31m# Run the processor on the input query.\u001b[0m\u001b[0;34m\u001b[0m\u001b[0;34m\u001b[0m\u001b[0;34m\u001b[0m\u001b[0m\n\u001b[0;32m---> 78\u001b[0;31m     \u001b[0mprocessed_query\u001b[0m \u001b[0;34m=\u001b[0m \u001b[0mprocessor\u001b[0m\u001b[0;34m(\u001b[0m\u001b[0mquery\u001b[0m\u001b[0;34m)\u001b[0m\u001b[0;34m\u001b[0m\u001b[0;34m\u001b[0m\u001b[0m\n\u001b[0m\u001b[1;32m     79\u001b[0m \u001b[0;34m\u001b[0m\u001b[0m\n\u001b[1;32m     80\u001b[0m     \u001b[0;32mif\u001b[0m \u001b[0mlen\u001b[0m\u001b[0;34m(\u001b[0m\u001b[0mprocessed_query\u001b[0m\u001b[0;34m)\u001b[0m \u001b[0;34m==\u001b[0m \u001b[0;36m0\u001b[0m\u001b[0;34m:\u001b[0m\u001b[0;34m\u001b[0m\u001b[0;34m\u001b[0m\u001b[0m\n",
      "\u001b[0;32m~/miniconda3/envs/pudl-dev/lib/python3.9/site-packages/fuzzywuzzy/utils.py\u001b[0m in \u001b[0;36mfull_process\u001b[0;34m(s, force_ascii)\u001b[0m\n\u001b[1;32m     93\u001b[0m         \u001b[0ms\u001b[0m \u001b[0;34m=\u001b[0m \u001b[0masciidammit\u001b[0m\u001b[0;34m(\u001b[0m\u001b[0ms\u001b[0m\u001b[0;34m)\u001b[0m\u001b[0;34m\u001b[0m\u001b[0;34m\u001b[0m\u001b[0m\n\u001b[1;32m     94\u001b[0m     \u001b[0;31m# Keep only Letters and Numbers (see Unicode docs).\u001b[0m\u001b[0;34m\u001b[0m\u001b[0;34m\u001b[0m\u001b[0;34m\u001b[0m\u001b[0m\n\u001b[0;32m---> 95\u001b[0;31m     \u001b[0mstring_out\u001b[0m \u001b[0;34m=\u001b[0m \u001b[0mStringProcessor\u001b[0m\u001b[0;34m.\u001b[0m\u001b[0mreplace_non_letters_non_numbers_with_whitespace\u001b[0m\u001b[0;34m(\u001b[0m\u001b[0ms\u001b[0m\u001b[0;34m)\u001b[0m\u001b[0;34m\u001b[0m\u001b[0;34m\u001b[0m\u001b[0m\n\u001b[0m\u001b[1;32m     96\u001b[0m     \u001b[0;31m# Force into lowercase.\u001b[0m\u001b[0;34m\u001b[0m\u001b[0;34m\u001b[0m\u001b[0;34m\u001b[0m\u001b[0m\n\u001b[1;32m     97\u001b[0m     \u001b[0mstring_out\u001b[0m \u001b[0;34m=\u001b[0m \u001b[0mStringProcessor\u001b[0m\u001b[0;34m.\u001b[0m\u001b[0mto_lower_case\u001b[0m\u001b[0;34m(\u001b[0m\u001b[0mstring_out\u001b[0m\u001b[0;34m)\u001b[0m\u001b[0;34m\u001b[0m\u001b[0;34m\u001b[0m\u001b[0m\n",
      "\u001b[0;32m~/miniconda3/envs/pudl-dev/lib/python3.9/site-packages/fuzzywuzzy/string_processing.py\u001b[0m in \u001b[0;36mreplace_non_letters_non_numbers_with_whitespace\u001b[0;34m(cls, a_string)\u001b[0m\n\u001b[1;32m     24\u001b[0m         \u001b[0mnumbers\u001b[0m \u001b[0;32mwith\u001b[0m \u001b[0ma\u001b[0m \u001b[0msingle\u001b[0m \u001b[0mwhite\u001b[0m \u001b[0mspace\u001b[0m\u001b[0;34m.\u001b[0m\u001b[0;34m\u001b[0m\u001b[0;34m\u001b[0m\u001b[0m\n\u001b[1;32m     25\u001b[0m         \"\"\"\n\u001b[0;32m---> 26\u001b[0;31m         \u001b[0;32mreturn\u001b[0m \u001b[0mcls\u001b[0m\u001b[0;34m.\u001b[0m\u001b[0mregex\u001b[0m\u001b[0;34m.\u001b[0m\u001b[0msub\u001b[0m\u001b[0;34m(\u001b[0m\u001b[0;34m\" \"\u001b[0m\u001b[0;34m,\u001b[0m \u001b[0ma_string\u001b[0m\u001b[0;34m)\u001b[0m\u001b[0;34m\u001b[0m\u001b[0;34m\u001b[0m\u001b[0m\n\u001b[0m\u001b[1;32m     27\u001b[0m \u001b[0;34m\u001b[0m\u001b[0m\n\u001b[1;32m     28\u001b[0m     \u001b[0mstrip\u001b[0m \u001b[0;34m=\u001b[0m \u001b[0mstaticmethod\u001b[0m\u001b[0;34m(\u001b[0m\u001b[0mstring\u001b[0m\u001b[0;34m.\u001b[0m\u001b[0mstrip\u001b[0m\u001b[0;34m)\u001b[0m\u001b[0;34m\u001b[0m\u001b[0;34m\u001b[0m\u001b[0m\n",
      "\u001b[0;31mTypeError\u001b[0m: expected string or bytes-like object"
     ]
    }
   ],
   "source": [
    "get_fuzzy_wit_it(two, one)"
   ]
  },
  {
   "cell_type": "code",
   "execution_count": null,
   "id": "efb869d8-ac57-4819-938d-3f2c84194c66",
   "metadata": {},
   "outputs": [],
   "source": []
  }
 ],
 "metadata": {
  "kernelspec": {
   "display_name": "Python 3",
   "language": "python",
   "name": "python3"
  },
  "language_info": {
   "codemirror_mode": {
    "name": "ipython",
    "version": 3
   },
   "file_extension": ".py",
   "mimetype": "text/x-python",
   "name": "python",
   "nbconvert_exporter": "python",
   "pygments_lexer": "ipython3",
   "version": "3.9.4"
  }
 },
 "nbformat": 4,
 "nbformat_minor": 5
}
